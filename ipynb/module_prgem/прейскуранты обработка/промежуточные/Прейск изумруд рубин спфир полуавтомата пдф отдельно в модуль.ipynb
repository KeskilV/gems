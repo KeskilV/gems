{
 "cells": [
  {
   "cell_type": "code",
   "execution_count": 23,
   "id": "4aa9f3f3",
   "metadata": {},
   "outputs": [],
   "source": [
    "#Для подготовки файла из пдф прейскурант изумруды module_prgem/"
   ]
  },
  {
   "cell_type": "code",
   "execution_count": 2,
   "id": "fada1cab",
   "metadata": {},
   "outputs": [
    {
     "data": {
      "text/plain": [
       "'11-11-2023_12-24'"
      ]
     },
     "execution_count": 2,
     "metadata": {},
     "output_type": "execute_result"
    }
   ],
   "source": [
    "import datetime\n",
    "datetime.datetime.now().strftime('%d-%m-%Y_%H-%M')"
   ]
  },
  {
   "cell_type": "markdown",
   "id": "d0a55769",
   "metadata": {},
   "source": [
    "# imports"
   ]
  },
  {
   "cell_type": "code",
   "execution_count": 1,
   "id": "3a0da704",
   "metadata": {},
   "outputs": [],
   "source": [
    "import numpy as np\n",
    "import pandas as pd\n",
    "import re\n",
    "import os\n"
   ]
  },
  {
   "cell_type": "code",
   "execution_count": 2,
   "id": "0f36d7b3",
   "metadata": {},
   "outputs": [
    {
     "data": {
      "text/plain": [
       "['.ipynb_checkpoints',\n",
       " 'df_pr_sap_ruby_Прейскурант Рубины МинФин РФ  64 65 13-02-2020.xlsx',\n",
       " 'pr_emeralds_173_20-04-2023.xlsx',\n",
       " 'вспомогательный код для расп рубин прейск.ipynb',\n",
       " 'вспомогательный код для расп сапфир прейск.ipynb',\n",
       " 'для прейск руб не обр фац из пдф.xlsx',\n",
       " 'для прейск рубина термич фац из пдф.xlsx',\n",
       " 'для прейск сапфир не обр фац из пдф.xlsx',\n",
       " 'полуавт ввод Прейскурант Рубины МинФин РФ  65 13-02-2020 .xlsx',\n",
       " 'полуавтоматический ввод прейскуранта сапфир 64 13-02-2020 .xlsx',\n",
       " 'Прейск изумруд рубин спфир полуавтомата пдф отдельно в модуль.ipynb']"
      ]
     },
     "execution_count": 2,
     "metadata": {},
     "output_type": "execute_result"
    }
   ],
   "source": [
    "os.listdir()"
   ]
  },
  {
   "cell_type": "markdown",
   "id": "6798aa1f",
   "metadata": {},
   "source": [
    "# Изумруд"
   ]
  },
  {
   "cell_type": "markdown",
   "id": "70f55d5c",
   "metadata": {},
   "source": [
    "## Прейскурант обработка пдф отдельно в модуль"
   ]
  },
  {
   "cell_type": "code",
   "execution_count": null,
   "id": "1909a086",
   "metadata": {},
   "outputs": [],
   "source": [
    "#фацетный вид огранки"
   ]
  },
  {
   "cell_type": "code",
   "execution_count": 5,
   "id": "d5836a8e",
   "metadata": {},
   "outputs": [],
   "source": [
    "pr_g = pd.read_excel('pr_emeralds_173_20-04-2023.xlsx', sheet_name='г', header=2)"
   ]
  },
  {
   "cell_type": "code",
   "execution_count": 6,
   "id": "3eb568d6",
   "metadata": {},
   "outputs": [
    {
     "data": {
      "text/plain": [
       "Index(['ТУ', 'Обработка', 'Огранка', 'цвет', 'чистота', 'до 0,09', '0,10-0,24',\n",
       "       '0,25-0,49', '0,50-0,74', '0,75-0,99', '1,00-1,49', '1,50-1,99',\n",
       "       '2,00-2,99', '3,00-3,99', '4,00-4,99'],\n",
       "      dtype='object')"
      ]
     },
     "execution_count": 6,
     "metadata": {},
     "output_type": "execute_result"
    }
   ],
   "source": [
    "pr_g.columns"
   ]
  },
  {
   "cell_type": "code",
   "execution_count": 7,
   "id": "56f7f83d",
   "metadata": {},
   "outputs": [],
   "source": [
    "pr_g = pd.melt(pr_g, id_vars=['ТУ', 'Обработка', 'Огранка', 'цвет', 'чистота'], value_vars=[ 'до 0,09', '0,10-0,24',\n",
    "       '0,25-0,49', '0,50-0,74', '0,75-0,99', '1,00-1,49', '1,50-1,99',\n",
    "       '2,00-2,99', '3,00-3,99', '4,00-4,99'], value_name='price', var_name='size')"
   ]
  },
  {
   "cell_type": "code",
   "execution_count": 8,
   "id": "fb4f64d6",
   "metadata": {},
   "outputs": [],
   "source": [
    "pr_em_sto_g = pr_g[pr_g['ТУ']=='СТО']"
   ]
  },
  {
   "cell_type": "code",
   "execution_count": 9,
   "id": "0a6025e7",
   "metadata": {},
   "outputs": [
    {
     "data": {
      "text/plain": [
       "Index(['ТУ', 'Обработка', 'Огранка', 'цвет', 'чистота', 'size', 'price'], dtype='object')"
      ]
     },
     "execution_count": 9,
     "metadata": {},
     "output_type": "execute_result"
    }
   ],
   "source": [
    "pr_em_sto_g.columns"
   ]
  },
  {
   "cell_type": "code",
   "execution_count": 10,
   "id": "f93f1c00",
   "metadata": {},
   "outputs": [
    {
     "name": "stdout",
     "output_type": "stream",
     "text": [
      "ТУ ['СТО']\n",
      "Обработка ['промасливание (O) и заполнение трещин (F)']\n",
      "Огранка ['фацетный вид огранки']\n",
      "цвет ['1' '2' '3' '4' '5']\n",
      "чистота ['Г1' 'Г2' 'Г3']\n",
      "size ['до 0,09' '0,10-0,24' '0,25-0,49' '0,50-0,74' '0,75-0,99' '1,00-1,49'\n",
      " '1,50-1,99' '2,00-2,99' '3,00-3,99' '4,00-4,99']\n",
      "price [ 350  300  150  240   75   90   65   55   45   30   27   20   12  500\n",
      "  180  200  110  120  100   40  550  400  450  250  130   70   22   13\n",
      "  700  600  170  280   80   60  900  580  185  320  140   26 1200  750\n",
      "  380  220  160   50   18 1700 1050  850  440 2500 1550  420  210 3000\n",
      " 1800  800 1400  520  260 3700 1000  650  360]\n"
     ]
    }
   ],
   "source": [
    "for c in pr_em_sto_g.columns:\n",
    "    print(c, pr_em_sto_g[c].unique())"
   ]
  },
  {
   "cell_type": "code",
   "execution_count": 11,
   "id": "a8fa45ef",
   "metadata": {},
   "outputs": [],
   "source": [
    "#кобаш вид огранки"
   ]
  },
  {
   "cell_type": "code",
   "execution_count": 12,
   "id": "fb69daeb",
   "metadata": {},
   "outputs": [],
   "source": [
    "pr_k = pd.read_excel('pr_emeralds_173_20-04-2023.xlsx', sheet_name='к', header=2)"
   ]
  },
  {
   "cell_type": "code",
   "execution_count": 13,
   "id": "c31414e4",
   "metadata": {},
   "outputs": [
    {
     "data": {
      "text/plain": [
       "Index(['ТУ', 'Обработка', 'Огранка', 'цвет', 'чистота', 'до 0,49', '0,50-0,74',\n",
       "       '0,75-0,99', '1,00-1,49', '1,50-1,99', '2,00-2,99', '3,00-3,99',\n",
       "       '4,00-4,99'],\n",
       "      dtype='object')"
      ]
     },
     "execution_count": 13,
     "metadata": {},
     "output_type": "execute_result"
    }
   ],
   "source": [
    "pr_k.columns"
   ]
  },
  {
   "cell_type": "code",
   "execution_count": 14,
   "id": "c8aef189",
   "metadata": {},
   "outputs": [],
   "source": [
    "pr_k = pd.melt(pr_k, id_vars=['ТУ', 'Обработка', 'Огранка', 'цвет', 'чистота'], value_vars=[ 'до 0,49', '0,50-0,74',\n",
    "       '0,75-0,99', '1,00-1,49', '1,50-1,99', '2,00-2,99', '3,00-3,99',\n",
    "       '4,00-4,99'], value_name='price', var_name='size')"
   ]
  },
  {
   "cell_type": "code",
   "execution_count": 15,
   "id": "e02d3b23",
   "metadata": {},
   "outputs": [
    {
     "data": {
      "text/html": [
       "<div>\n",
       "<style scoped>\n",
       "    .dataframe tbody tr th:only-of-type {\n",
       "        vertical-align: middle;\n",
       "    }\n",
       "\n",
       "    .dataframe tbody tr th {\n",
       "        vertical-align: top;\n",
       "    }\n",
       "\n",
       "    .dataframe thead th {\n",
       "        text-align: right;\n",
       "    }\n",
       "</style>\n",
       "<table border=\"1\" class=\"dataframe\">\n",
       "  <thead>\n",
       "    <tr style=\"text-align: right;\">\n",
       "      <th></th>\n",
       "      <th>ТУ</th>\n",
       "      <th>Обработка</th>\n",
       "      <th>Огранка</th>\n",
       "      <th>цвет</th>\n",
       "      <th>чистота</th>\n",
       "      <th>size</th>\n",
       "      <th>price</th>\n",
       "    </tr>\n",
       "  </thead>\n",
       "  <tbody>\n",
       "    <tr>\n",
       "      <th>0</th>\n",
       "      <td>ГОСТ</td>\n",
       "      <td>заполнение трещин (F)</td>\n",
       "      <td>кобашенный вид огранки</td>\n",
       "      <td>1</td>\n",
       "      <td>1</td>\n",
       "      <td>до 0,49</td>\n",
       "      <td>220</td>\n",
       "    </tr>\n",
       "    <tr>\n",
       "      <th>1</th>\n",
       "      <td>ГОСТ</td>\n",
       "      <td>заполнение трещин (F)</td>\n",
       "      <td>кобашенный вид огранки</td>\n",
       "      <td>1</td>\n",
       "      <td>2</td>\n",
       "      <td>до 0,49</td>\n",
       "      <td>200</td>\n",
       "    </tr>\n",
       "    <tr>\n",
       "      <th>2</th>\n",
       "      <td>ГОСТ</td>\n",
       "      <td>заполнение трещин (F)</td>\n",
       "      <td>кобашенный вид огранки</td>\n",
       "      <td>1</td>\n",
       "      <td>3</td>\n",
       "      <td>до 0,49</td>\n",
       "      <td>170</td>\n",
       "    </tr>\n",
       "    <tr>\n",
       "      <th>3</th>\n",
       "      <td>ГОСТ</td>\n",
       "      <td>заполнение трещин (F)</td>\n",
       "      <td>кобашенный вид огранки</td>\n",
       "      <td>1</td>\n",
       "      <td>4</td>\n",
       "      <td>до 0,49</td>\n",
       "      <td>140</td>\n",
       "    </tr>\n",
       "    <tr>\n",
       "      <th>4</th>\n",
       "      <td>ГОСТ</td>\n",
       "      <td>заполнение трещин (F)</td>\n",
       "      <td>кобашенный вид огранки</td>\n",
       "      <td>1</td>\n",
       "      <td>5</td>\n",
       "      <td>до 0,49</td>\n",
       "      <td>100</td>\n",
       "    </tr>\n",
       "    <tr>\n",
       "      <th>...</th>\n",
       "      <td>...</td>\n",
       "      <td>...</td>\n",
       "      <td>...</td>\n",
       "      <td>...</td>\n",
       "      <td>...</td>\n",
       "      <td>...</td>\n",
       "      <td>...</td>\n",
       "    </tr>\n",
       "    <tr>\n",
       "      <th>387</th>\n",
       "      <td>СТО</td>\n",
       "      <td>промасливание (O) и заполнение трещин (F)</td>\n",
       "      <td>кобашенный вид огранки</td>\n",
       "      <td>3</td>\n",
       "      <td>К2</td>\n",
       "      <td>4,00-4,99</td>\n",
       "      <td>110</td>\n",
       "    </tr>\n",
       "    <tr>\n",
       "      <th>388</th>\n",
       "      <td>СТО</td>\n",
       "      <td>промасливание (O) и заполнение трещин (F)</td>\n",
       "      <td>кобашенный вид огранки</td>\n",
       "      <td>4</td>\n",
       "      <td>К1</td>\n",
       "      <td>4,00-4,99</td>\n",
       "      <td>90</td>\n",
       "    </tr>\n",
       "    <tr>\n",
       "      <th>389</th>\n",
       "      <td>СТО</td>\n",
       "      <td>промасливание (O) и заполнение трещин (F)</td>\n",
       "      <td>кобашенный вид огранки</td>\n",
       "      <td>4</td>\n",
       "      <td>К2</td>\n",
       "      <td>4,00-4,99</td>\n",
       "      <td>56</td>\n",
       "    </tr>\n",
       "    <tr>\n",
       "      <th>390</th>\n",
       "      <td>СТО</td>\n",
       "      <td>промасливание (O) и заполнение трещин (F)</td>\n",
       "      <td>кобашенный вид огранки</td>\n",
       "      <td>5</td>\n",
       "      <td>К1</td>\n",
       "      <td>4,00-4,99</td>\n",
       "      <td>17</td>\n",
       "    </tr>\n",
       "    <tr>\n",
       "      <th>391</th>\n",
       "      <td>СТО</td>\n",
       "      <td>промасливание (O) и заполнение трещин (F)</td>\n",
       "      <td>кобашенный вид огранки</td>\n",
       "      <td>5</td>\n",
       "      <td>К2</td>\n",
       "      <td>4,00-4,99</td>\n",
       "      <td>9</td>\n",
       "    </tr>\n",
       "  </tbody>\n",
       "</table>\n",
       "<p>392 rows × 7 columns</p>\n",
       "</div>"
      ],
      "text/plain": [
       "       ТУ                                  Обработка                 Огранка  \\\n",
       "0    ГОСТ                      заполнение трещин (F)  кобашенный вид огранки   \n",
       "1    ГОСТ                      заполнение трещин (F)  кобашенный вид огранки   \n",
       "2    ГОСТ                      заполнение трещин (F)  кобашенный вид огранки   \n",
       "3    ГОСТ                      заполнение трещин (F)  кобашенный вид огранки   \n",
       "4    ГОСТ                      заполнение трещин (F)  кобашенный вид огранки   \n",
       "..    ...                                        ...                     ...   \n",
       "387   СТО  промасливание (O) и заполнение трещин (F)  кобашенный вид огранки   \n",
       "388   СТО  промасливание (O) и заполнение трещин (F)  кобашенный вид огранки   \n",
       "389   СТО  промасливание (O) и заполнение трещин (F)  кобашенный вид огранки   \n",
       "390   СТО  промасливание (O) и заполнение трещин (F)  кобашенный вид огранки   \n",
       "391   СТО  промасливание (O) и заполнение трещин (F)  кобашенный вид огранки   \n",
       "\n",
       "    цвет чистота       size  price  \n",
       "0      1       1    до 0,49    220  \n",
       "1      1       2    до 0,49    200  \n",
       "2      1       3    до 0,49    170  \n",
       "3      1       4    до 0,49    140  \n",
       "4      1       5    до 0,49    100  \n",
       "..   ...     ...        ...    ...  \n",
       "387    3      К2  4,00-4,99    110  \n",
       "388    4      К1  4,00-4,99     90  \n",
       "389    4      К2  4,00-4,99     56  \n",
       "390    5      К1  4,00-4,99     17  \n",
       "391    5      К2  4,00-4,99      9  \n",
       "\n",
       "[392 rows x 7 columns]"
      ]
     },
     "execution_count": 15,
     "metadata": {},
     "output_type": "execute_result"
    }
   ],
   "source": [
    "pr_k"
   ]
  },
  {
   "cell_type": "code",
   "execution_count": 16,
   "id": "2377b190",
   "metadata": {},
   "outputs": [],
   "source": [
    "pr_em_sto_k = pr_k[pr_k['ТУ']=='СТО']"
   ]
  },
  {
   "cell_type": "code",
   "execution_count": 17,
   "id": "40f9315f",
   "metadata": {},
   "outputs": [
    {
     "data": {
      "text/plain": [
       "Index(['ТУ', 'Обработка', 'Огранка', 'цвет', 'чистота', 'size', 'price'], dtype='object')"
      ]
     },
     "execution_count": 17,
     "metadata": {},
     "output_type": "execute_result"
    }
   ],
   "source": [
    "pr_em_sto_k.columns"
   ]
  },
  {
   "cell_type": "code",
   "execution_count": 18,
   "id": "61dc3488",
   "metadata": {
    "scrolled": true
   },
   "outputs": [
    {
     "name": "stdout",
     "output_type": "stream",
     "text": [
      "ТУ ['СТО']\n",
      "Обработка ['промасливание (O) и заполнение трещин (F)']\n",
      "Огранка ['кобашенный вид огранки']\n",
      "цвет ['1' '2' '3' '4' '5']\n",
      "чистота ['К1' 'К2']\n",
      "size ['до 0,49' '0,50-0,74' '0,75-0,99' '1,00-1,49' '1,50-1,99' '2,00-2,99'\n",
      " '3,00-3,99' '4,00-4,99']\n",
      "price [120  75  45  55  28  17   9 160  85  60  35 185 100  70  40  34  22 225\n",
      " 135  80  39 280 150 170  95 390 240 140  62 490 310 320 180  73 600 210\n",
      " 110  90  56]\n"
     ]
    }
   ],
   "source": [
    "for c in pr_em_sto_k.columns:\n",
    "    print(c, pr_em_sto_k[c].unique())"
   ]
  },
  {
   "cell_type": "code",
   "execution_count": 19,
   "id": "46cf2d06",
   "metadata": {},
   "outputs": [],
   "source": [
    "# слияние\n",
    "pr_em_sto = pd.concat([pr_em_sto_k,pr_em_sto_g])"
   ]
  },
  {
   "cell_type": "code",
   "execution_count": 20,
   "id": "1f1d6b0e",
   "metadata": {},
   "outputs": [
    {
     "name": "stdout",
     "output_type": "stream",
     "text": [
      "ТУ ['СТО']\n",
      "Обработка ['промасливание (O) и заполнение трещин (F)']\n",
      "Огранка ['кобашенный вид огранки' 'фацетный вид огранки']\n",
      "цвет ['1' '2' '3' '4' '5']\n",
      "чистота ['К1' 'К2' 'Г1' 'Г2' 'Г3']\n",
      "size ['до 0,49' '0,50-0,74' '0,75-0,99' '1,00-1,49' '1,50-1,99' '2,00-2,99'\n",
      " '3,00-3,99' '4,00-4,99' 'до 0,09' '0,10-0,24' '0,25-0,49']\n",
      "price [ 120   75   45   55   28   17    9  160   85   60   35  185  100   70\n",
      "   40   34   22  225  135   80   39  280  150  170   95  390  240  140\n",
      "   62  490  310  320  180   73  600  210  110   90   56  350  300   65\n",
      "   30   27   20   12  500  200  550  400  450  250  130   13  700  900\n",
      "  580   26 1200  750  380  220   50   18 1700 1050  850  440 2500 1550\n",
      "  420 3000 1800  800 1400  520  260 3700 1000  650  360]\n"
     ]
    }
   ],
   "source": [
    "dfxx = pr_em_sto\n",
    "for c in dfxx.columns:\n",
    "    print(c, dfxx[c].unique())"
   ]
  },
  {
   "cell_type": "code",
   "execution_count": 21,
   "id": "c7ed4247",
   "metadata": {},
   "outputs": [
    {
     "data": {
      "text/html": [
       "<div>\n",
       "<style scoped>\n",
       "    .dataframe tbody tr th:only-of-type {\n",
       "        vertical-align: middle;\n",
       "    }\n",
       "\n",
       "    .dataframe tbody tr th {\n",
       "        vertical-align: top;\n",
       "    }\n",
       "\n",
       "    .dataframe thead th {\n",
       "        text-align: right;\n",
       "    }\n",
       "</style>\n",
       "<table border=\"1\" class=\"dataframe\">\n",
       "  <thead>\n",
       "    <tr style=\"text-align: right;\">\n",
       "      <th></th>\n",
       "      <th>ТУ</th>\n",
       "      <th>Обработка</th>\n",
       "      <th>Огранка</th>\n",
       "      <th>цвет</th>\n",
       "      <th>чистота</th>\n",
       "      <th>size</th>\n",
       "      <th>price</th>\n",
       "    </tr>\n",
       "  </thead>\n",
       "  <tbody>\n",
       "    <tr>\n",
       "      <th>39</th>\n",
       "      <td>СТО</td>\n",
       "      <td>промасливание (O) и заполнение трещин (F)</td>\n",
       "      <td>кобашенный вид огранки</td>\n",
       "      <td>1</td>\n",
       "      <td>К1</td>\n",
       "      <td>до 0,49</td>\n",
       "      <td>120</td>\n",
       "    </tr>\n",
       "    <tr>\n",
       "      <th>40</th>\n",
       "      <td>СТО</td>\n",
       "      <td>промасливание (O) и заполнение трещин (F)</td>\n",
       "      <td>кобашенный вид огранки</td>\n",
       "      <td>1</td>\n",
       "      <td>К2</td>\n",
       "      <td>до 0,49</td>\n",
       "      <td>75</td>\n",
       "    </tr>\n",
       "    <tr>\n",
       "      <th>41</th>\n",
       "      <td>СТО</td>\n",
       "      <td>промасливание (O) и заполнение трещин (F)</td>\n",
       "      <td>кобашенный вид огранки</td>\n",
       "      <td>2</td>\n",
       "      <td>К1</td>\n",
       "      <td>до 0,49</td>\n",
       "      <td>75</td>\n",
       "    </tr>\n",
       "    <tr>\n",
       "      <th>42</th>\n",
       "      <td>СТО</td>\n",
       "      <td>промасливание (O) и заполнение трещин (F)</td>\n",
       "      <td>кобашенный вид огранки</td>\n",
       "      <td>2</td>\n",
       "      <td>К2</td>\n",
       "      <td>до 0,49</td>\n",
       "      <td>45</td>\n",
       "    </tr>\n",
       "    <tr>\n",
       "      <th>43</th>\n",
       "      <td>СТО</td>\n",
       "      <td>промасливание (O) и заполнение трещин (F)</td>\n",
       "      <td>кобашенный вид огранки</td>\n",
       "      <td>3</td>\n",
       "      <td>К1</td>\n",
       "      <td>до 0,49</td>\n",
       "      <td>55</td>\n",
       "    </tr>\n",
       "    <tr>\n",
       "      <th>...</th>\n",
       "      <td>...</td>\n",
       "      <td>...</td>\n",
       "      <td>...</td>\n",
       "      <td>...</td>\n",
       "      <td>...</td>\n",
       "      <td>...</td>\n",
       "      <td>...</td>\n",
       "    </tr>\n",
       "    <tr>\n",
       "      <th>535</th>\n",
       "      <td>СТО</td>\n",
       "      <td>промасливание (O) и заполнение трещин (F)</td>\n",
       "      <td>фацетный вид огранки</td>\n",
       "      <td>4</td>\n",
       "      <td>Г2</td>\n",
       "      <td>4,00-4,99</td>\n",
       "      <td>250</td>\n",
       "    </tr>\n",
       "    <tr>\n",
       "      <th>536</th>\n",
       "      <td>СТО</td>\n",
       "      <td>промасливание (O) и заполнение трещин (F)</td>\n",
       "      <td>фацетный вид огранки</td>\n",
       "      <td>4</td>\n",
       "      <td>Г3</td>\n",
       "      <td>4,00-4,99</td>\n",
       "      <td>170</td>\n",
       "    </tr>\n",
       "    <tr>\n",
       "      <th>537</th>\n",
       "      <td>СТО</td>\n",
       "      <td>промасливание (O) и заполнение трещин (F)</td>\n",
       "      <td>фацетный вид огранки</td>\n",
       "      <td>5</td>\n",
       "      <td>Г1</td>\n",
       "      <td>4,00-4,99</td>\n",
       "      <td>50</td>\n",
       "    </tr>\n",
       "    <tr>\n",
       "      <th>538</th>\n",
       "      <td>СТО</td>\n",
       "      <td>промасливание (O) и заполнение трещин (F)</td>\n",
       "      <td>фацетный вид огранки</td>\n",
       "      <td>5</td>\n",
       "      <td>Г2</td>\n",
       "      <td>4,00-4,99</td>\n",
       "      <td>30</td>\n",
       "    </tr>\n",
       "    <tr>\n",
       "      <th>539</th>\n",
       "      <td>СТО</td>\n",
       "      <td>промасливание (O) и заполнение трещин (F)</td>\n",
       "      <td>фацетный вид огранки</td>\n",
       "      <td>5</td>\n",
       "      <td>Г3</td>\n",
       "      <td>4,00-4,99</td>\n",
       "      <td>18</td>\n",
       "    </tr>\n",
       "  </tbody>\n",
       "</table>\n",
       "<p>230 rows × 7 columns</p>\n",
       "</div>"
      ],
      "text/plain": [
       "      ТУ                                  Обработка                 Огранка  \\\n",
       "39   СТО  промасливание (O) и заполнение трещин (F)  кобашенный вид огранки   \n",
       "40   СТО  промасливание (O) и заполнение трещин (F)  кобашенный вид огранки   \n",
       "41   СТО  промасливание (O) и заполнение трещин (F)  кобашенный вид огранки   \n",
       "42   СТО  промасливание (O) и заполнение трещин (F)  кобашенный вид огранки   \n",
       "43   СТО  промасливание (O) и заполнение трещин (F)  кобашенный вид огранки   \n",
       "..   ...                                        ...                     ...   \n",
       "535  СТО  промасливание (O) и заполнение трещин (F)    фацетный вид огранки   \n",
       "536  СТО  промасливание (O) и заполнение трещин (F)    фацетный вид огранки   \n",
       "537  СТО  промасливание (O) и заполнение трещин (F)    фацетный вид огранки   \n",
       "538  СТО  промасливание (O) и заполнение трещин (F)    фацетный вид огранки   \n",
       "539  СТО  промасливание (O) и заполнение трещин (F)    фацетный вид огранки   \n",
       "\n",
       "    цвет чистота       size  price  \n",
       "39     1      К1    до 0,49    120  \n",
       "40     1      К2    до 0,49     75  \n",
       "41     2      К1    до 0,49     75  \n",
       "42     2      К2    до 0,49     45  \n",
       "43     3      К1    до 0,49     55  \n",
       "..   ...     ...        ...    ...  \n",
       "535    4      Г2  4,00-4,99    250  \n",
       "536    4      Г3  4,00-4,99    170  \n",
       "537    5      Г1  4,00-4,99     50  \n",
       "538    5      Г2  4,00-4,99     30  \n",
       "539    5      Г3  4,00-4,99     18  \n",
       "\n",
       "[230 rows x 7 columns]"
      ]
     },
     "execution_count": 21,
     "metadata": {},
     "output_type": "execute_result"
    }
   ],
   "source": [
    "pr_em_sto"
   ]
  },
  {
   "cell_type": "code",
   "execution_count": 22,
   "id": "26b009de",
   "metadata": {},
   "outputs": [],
   "source": [
    "pr_em_sto.to_excel('df_pr_emeralds_sto_173_20-04-2023.xlsx', index=None)"
   ]
  },
  {
   "cell_type": "code",
   "execution_count": null,
   "id": "d9be89df",
   "metadata": {},
   "outputs": [],
   "source": []
  },
  {
   "cell_type": "markdown",
   "id": "28c4c5e3",
   "metadata": {},
   "source": [
    "## размерности"
   ]
  },
  {
   "cell_type": "code",
   "execution_count": 401,
   "id": "724881fc",
   "metadata": {},
   "outputs": [],
   "source": [
    "sizes_g = pr_g[~pr_g['size'].duplicated()][['size']]"
   ]
  },
  {
   "cell_type": "code",
   "execution_count": 402,
   "id": "1892c753",
   "metadata": {},
   "outputs": [],
   "source": [
    "sizes_g['size_list'] = sizes_g['size'].apply(lambda x: x.split('-'))"
   ]
  },
  {
   "cell_type": "code",
   "execution_count": 403,
   "id": "71fcacd6",
   "metadata": {},
   "outputs": [],
   "source": [
    "sizes_g['low_grade'] = sizes_g['size_list'].apply(lambda x: x[0].split()[0] if len(x)==1 else x[0])"
   ]
  },
  {
   "cell_type": "code",
   "execution_count": 406,
   "id": "c3d9d58b",
   "metadata": {},
   "outputs": [],
   "source": [
    "sizes_g['hi_grade'] = sizes_g['size_list'].apply(lambda x: x[0].split()[1] if len(x)==1 else x[1])"
   ]
  },
  {
   "cell_type": "code",
   "execution_count": 407,
   "id": "ffb41e07",
   "metadata": {},
   "outputs": [
    {
     "data": {
      "text/plain": [
       "hi_grade     object\n",
       "low_grade    object\n",
       "dtype: object"
      ]
     },
     "execution_count": 407,
     "metadata": {},
     "output_type": "execute_result"
    }
   ],
   "source": [
    "sizes_g[['hi_grade','low_grade']].dtypes#str.replase(',','.')#astype('float')"
   ]
  },
  {
   "cell_type": "code",
   "execution_count": 408,
   "id": "d581ea05",
   "metadata": {},
   "outputs": [
    {
     "data": {
      "text/plain": [
       "'1.2'"
      ]
     },
     "execution_count": 408,
     "metadata": {},
     "output_type": "execute_result"
    }
   ],
   "source": [
    "'1,2'.replace(',','.')"
   ]
  },
  {
   "cell_type": "code",
   "execution_count": 409,
   "id": "f2d55a0b",
   "metadata": {},
   "outputs": [],
   "source": [
    "sizes_g['hi_grade'] = sizes_g['hi_grade'].apply(lambda x: x.replace(',','.')).astype('float')"
   ]
  },
  {
   "cell_type": "code",
   "execution_count": 410,
   "id": "01c527d2",
   "metadata": {},
   "outputs": [],
   "source": [
    "sizes_g['low_grade'] = sizes_g['low_grade'].apply(lambda x: x.replace(',','.') if x!='до' else 0).astype('float')"
   ]
  },
  {
   "cell_type": "code",
   "execution_count": 411,
   "id": "75c03b81",
   "metadata": {},
   "outputs": [
    {
     "data": {
      "text/html": [
       "<div>\n",
       "<style scoped>\n",
       "    .dataframe tbody tr th:only-of-type {\n",
       "        vertical-align: middle;\n",
       "    }\n",
       "\n",
       "    .dataframe tbody tr th {\n",
       "        vertical-align: top;\n",
       "    }\n",
       "\n",
       "    .dataframe thead th {\n",
       "        text-align: right;\n",
       "    }\n",
       "</style>\n",
       "<table border=\"1\" class=\"dataframe\">\n",
       "  <thead>\n",
       "    <tr style=\"text-align: right;\">\n",
       "      <th></th>\n",
       "      <th>size</th>\n",
       "      <th>size_list</th>\n",
       "      <th>low_grade</th>\n",
       "      <th>hi_grade</th>\n",
       "    </tr>\n",
       "  </thead>\n",
       "  <tbody>\n",
       "    <tr>\n",
       "      <th>0</th>\n",
       "      <td>до 0,09</td>\n",
       "      <td>[до 0,09]</td>\n",
       "      <td>0.00</td>\n",
       "      <td>0.09</td>\n",
       "    </tr>\n",
       "    <tr>\n",
       "      <th>54</th>\n",
       "      <td>0,10-0,24</td>\n",
       "      <td>[0,10, 0,24]</td>\n",
       "      <td>0.10</td>\n",
       "      <td>0.24</td>\n",
       "    </tr>\n",
       "    <tr>\n",
       "      <th>108</th>\n",
       "      <td>0,25-0,49</td>\n",
       "      <td>[0,25, 0,49]</td>\n",
       "      <td>0.25</td>\n",
       "      <td>0.49</td>\n",
       "    </tr>\n",
       "    <tr>\n",
       "      <th>162</th>\n",
       "      <td>0,50-0,74</td>\n",
       "      <td>[0,50, 0,74]</td>\n",
       "      <td>0.50</td>\n",
       "      <td>0.74</td>\n",
       "    </tr>\n",
       "    <tr>\n",
       "      <th>216</th>\n",
       "      <td>0,75-0,99</td>\n",
       "      <td>[0,75, 0,99]</td>\n",
       "      <td>0.75</td>\n",
       "      <td>0.99</td>\n",
       "    </tr>\n",
       "    <tr>\n",
       "      <th>270</th>\n",
       "      <td>1,00-1,49</td>\n",
       "      <td>[1,00, 1,49]</td>\n",
       "      <td>1.00</td>\n",
       "      <td>1.49</td>\n",
       "    </tr>\n",
       "    <tr>\n",
       "      <th>324</th>\n",
       "      <td>1,50-1,99</td>\n",
       "      <td>[1,50, 1,99]</td>\n",
       "      <td>1.50</td>\n",
       "      <td>1.99</td>\n",
       "    </tr>\n",
       "    <tr>\n",
       "      <th>378</th>\n",
       "      <td>2,00-2,99</td>\n",
       "      <td>[2,00, 2,99]</td>\n",
       "      <td>2.00</td>\n",
       "      <td>2.99</td>\n",
       "    </tr>\n",
       "    <tr>\n",
       "      <th>432</th>\n",
       "      <td>3,00-3,99</td>\n",
       "      <td>[3,00, 3,99]</td>\n",
       "      <td>3.00</td>\n",
       "      <td>3.99</td>\n",
       "    </tr>\n",
       "    <tr>\n",
       "      <th>486</th>\n",
       "      <td>4,00-4,99</td>\n",
       "      <td>[4,00, 4,99]</td>\n",
       "      <td>4.00</td>\n",
       "      <td>4.99</td>\n",
       "    </tr>\n",
       "  </tbody>\n",
       "</table>\n",
       "</div>"
      ],
      "text/plain": [
       "          size     size_list  low_grade  hi_grade\n",
       "0      до 0,09     [до 0,09]       0.00      0.09\n",
       "54   0,10-0,24  [0,10, 0,24]       0.10      0.24\n",
       "108  0,25-0,49  [0,25, 0,49]       0.25      0.49\n",
       "162  0,50-0,74  [0,50, 0,74]       0.50      0.74\n",
       "216  0,75-0,99  [0,75, 0,99]       0.75      0.99\n",
       "270  1,00-1,49  [1,00, 1,49]       1.00      1.49\n",
       "324  1,50-1,99  [1,50, 1,99]       1.50      1.99\n",
       "378  2,00-2,99  [2,00, 2,99]       2.00      2.99\n",
       "432  3,00-3,99  [3,00, 3,99]       3.00      3.99\n",
       "486  4,00-4,99  [4,00, 4,99]       4.00      4.99"
      ]
     },
     "execution_count": 411,
     "metadata": {},
     "output_type": "execute_result"
    }
   ],
   "source": [
    "sizes_g"
   ]
  },
  {
   "cell_type": "code",
   "execution_count": 294,
   "id": "17d3f3f1",
   "metadata": {},
   "outputs": [
    {
     "data": {
      "text/plain": [
       "size          object\n",
       "size_list     object\n",
       "low_grade    float64\n",
       "hi_grade     float64\n",
       "dtype: object"
      ]
     },
     "execution_count": 294,
     "metadata": {},
     "output_type": "execute_result"
    }
   ],
   "source": [
    "sizes_g.dtypes"
   ]
  },
  {
   "cell_type": "code",
   "execution_count": null,
   "id": "191092a6",
   "metadata": {},
   "outputs": [],
   "source": []
  },
  {
   "cell_type": "code",
   "execution_count": null,
   "id": "88ce532a",
   "metadata": {},
   "outputs": [],
   "source": []
  },
  {
   "cell_type": "markdown",
   "id": "ab21934a",
   "metadata": {},
   "source": [
    "# Сапфир "
   ]
  },
  {
   "cell_type": "markdown",
   "id": "14d4fe9e",
   "metadata": {},
   "source": [
    "## Прейскурант обработка пдф отдельно в модуль"
   ]
  },
  {
   "cell_type": "code",
   "execution_count": 3,
   "id": "1cf4feab",
   "metadata": {},
   "outputs": [],
   "source": [
    "#фацетный вид огранки"
   ]
  },
  {
   "cell_type": "markdown",
   "id": "220e9216",
   "metadata": {},
   "source": [
    "### термо"
   ]
  },
  {
   "cell_type": "code",
   "execution_count": 6,
   "id": "e62f2e8e",
   "metadata": {},
   "outputs": [],
   "source": [
    "pr_sap_t = pd.read_excel('полуавтоматический ввод прейскуранта сапфир 64 13-02-2020 .xlsx', sheet_name='терм')"
   ]
  },
  {
   "cell_type": "code",
   "execution_count": 7,
   "id": "0ab540dd",
   "metadata": {},
   "outputs": [
    {
     "data": {
      "text/plain": [
       "Index(['Unnamed: 0', 'Группа цвета', 'Группа чистоты', 'До 0,09', '0.10-0,24',\n",
       "       '0.25-0.49', '0.50-0.99', '1,00-1,99', '2,00-2,99', '3,00-3,99',\n",
       "       '4,00-4,99'],\n",
       "      dtype='object')"
      ]
     },
     "execution_count": 7,
     "metadata": {},
     "output_type": "execute_result"
    }
   ],
   "source": [
    "pr_sap_t.columns"
   ]
  },
  {
   "cell_type": "code",
   "execution_count": 11,
   "id": "1dd5acbf",
   "metadata": {
    "scrolled": true
   },
   "outputs": [],
   "source": [
    "pr_sap_t = pd.melt(pr_sap_t, id_vars=['Группа цвета', 'Группа чистоты'],\n",
    "        value_vars=[ 'До 0,09', '0.10-0,24',\n",
    "       '0.25-0.49', '0.50-0.99', '1,00-1,99', '2,00-2,99', '3,00-3,99',\n",
    "       '4,00-4,99'], value_name='price', var_name='size')"
   ]
  },
  {
   "cell_type": "code",
   "execution_count": 12,
   "id": "5a6b1a62",
   "metadata": {},
   "outputs": [],
   "source": [
    "pr_sap_t['Обработка'] = 'термо'"
   ]
  },
  {
   "cell_type": "code",
   "execution_count": 13,
   "id": "51d96e20",
   "metadata": {},
   "outputs": [],
   "source": [
    "pr_sap_t['ТУ'] = 'СТО 45866412-05-2008'"
   ]
  },
  {
   "cell_type": "code",
   "execution_count": 14,
   "id": "ebb2bd10",
   "metadata": {},
   "outputs": [],
   "source": [
    "pr_sap_t['gemstone'] = 'СапфирПТ'"
   ]
  },
  {
   "cell_type": "code",
   "execution_count": 15,
   "id": "bf34b3d2",
   "metadata": {},
   "outputs": [
    {
     "data": {
      "text/plain": [
       "Index(['Группа цвета', 'Группа чистоты', 'size', 'price', 'Обработка', 'ТУ',\n",
       "       'gemstone'],\n",
       "      dtype='object')"
      ]
     },
     "execution_count": 15,
     "metadata": {},
     "output_type": "execute_result"
    }
   ],
   "source": [
    "pr_sap_t.columns"
   ]
  },
  {
   "cell_type": "code",
   "execution_count": 17,
   "id": "34db08e5",
   "metadata": {},
   "outputs": [],
   "source": [
    "pr_sap_t.rename(columns={'Группа цвета': 'цвет', 'Группа чистоты': 'чистота'}, inplace=True)"
   ]
  },
  {
   "cell_type": "code",
   "execution_count": 19,
   "id": "a0c66325",
   "metadata": {},
   "outputs": [],
   "source": [
    "pr_sap_t['Огранка'] = 'фацетный вид огранки'"
   ]
  },
  {
   "cell_type": "code",
   "execution_count": 20,
   "id": "34c44b97",
   "metadata": {
    "scrolled": true
   },
   "outputs": [
    {
     "data": {
      "text/plain": [
       "Index(['цвет', 'чистота', 'size', 'price', 'Обработка', 'ТУ', 'gemstone',\n",
       "       'Огранка'],\n",
       "      dtype='object')"
      ]
     },
     "execution_count": 20,
     "metadata": {},
     "output_type": "execute_result"
    }
   ],
   "source": [
    "pr_sap_t.columns"
   ]
  },
  {
   "cell_type": "markdown",
   "id": "7e977906",
   "metadata": {},
   "source": [
    "### необр"
   ]
  },
  {
   "cell_type": "code",
   "execution_count": 25,
   "id": "ed513e06",
   "metadata": {},
   "outputs": [],
   "source": [
    "pr_sap_n = pd.read_excel('полуавтоматический ввод прейскуранта сапфир 64 13-02-2020 .xlsx',\n",
    "                         sheet_name='необр')"
   ]
  },
  {
   "cell_type": "code",
   "execution_count": 26,
   "id": "5c80d2fb",
   "metadata": {},
   "outputs": [
    {
     "data": {
      "text/plain": [
       "Index(['Unnamed: 0', 'Группа цвета', 'Группа чистоты', 'До 0,09', '0.10-0,24',\n",
       "       '0.25-0.49', '0.50-0.99', '1,00-1,99', '2,00-2,99', '3,00-3,99',\n",
       "       '4,00-4,99'],\n",
       "      dtype='object')"
      ]
     },
     "execution_count": 26,
     "metadata": {},
     "output_type": "execute_result"
    }
   ],
   "source": [
    "pr_sap_n.columns"
   ]
  },
  {
   "cell_type": "code",
   "execution_count": 27,
   "id": "bb339e63",
   "metadata": {
    "scrolled": true
   },
   "outputs": [],
   "source": [
    "pr_sap_n = pd.melt(pr_sap_n, id_vars=['Группа цвета', 'Группа чистоты'],\n",
    "        value_vars=[ 'До 0,09', '0.10-0,24',\n",
    "       '0.25-0.49', '0.50-0.99', '1,00-1,99', '2,00-2,99', '3,00-3,99',\n",
    "       '4,00-4,99'], value_name='price', var_name='size')"
   ]
  },
  {
   "cell_type": "code",
   "execution_count": 35,
   "id": "d1106517",
   "metadata": {},
   "outputs": [],
   "source": [
    "pr_sap_n['Обработка'] = 'необр'"
   ]
  },
  {
   "cell_type": "code",
   "execution_count": 36,
   "id": "d8248c52",
   "metadata": {},
   "outputs": [],
   "source": [
    "pr_sap_n['ТУ'] = 'СТО 45866412-05-2008'"
   ]
  },
  {
   "cell_type": "code",
   "execution_count": 34,
   "id": "90309d9e",
   "metadata": {},
   "outputs": [],
   "source": [
    "pr_sap_n['gemstone'] = 'СапфирН'"
   ]
  },
  {
   "cell_type": "code",
   "execution_count": 31,
   "id": "0b38c371",
   "metadata": {},
   "outputs": [
    {
     "data": {
      "text/plain": [
       "Index(['Группа цвета', 'Группа чистоты', 'size', 'price', 'Обработка', 'ТУ',\n",
       "       'gemstone'],\n",
       "      dtype='object')"
      ]
     },
     "execution_count": 31,
     "metadata": {},
     "output_type": "execute_result"
    }
   ],
   "source": [
    "pr_sap_n.columns"
   ]
  },
  {
   "cell_type": "code",
   "execution_count": 32,
   "id": "ffcd153c",
   "metadata": {},
   "outputs": [],
   "source": [
    "pr_sap_n.rename(columns={'Группа цвета': 'цвет', 'Группа чистоты': 'чистота'}, inplace=True)"
   ]
  },
  {
   "cell_type": "code",
   "execution_count": 33,
   "id": "d19ba9fa",
   "metadata": {},
   "outputs": [],
   "source": [
    "pr_sap_n['Огранка'] = 'фацетный вид огранки'"
   ]
  },
  {
   "cell_type": "code",
   "execution_count": 20,
   "id": "15acc9b5",
   "metadata": {
    "scrolled": true
   },
   "outputs": [
    {
     "data": {
      "text/plain": [
       "Index(['цвет', 'чистота', 'size', 'price', 'Обработка', 'ТУ', 'gemstone',\n",
       "       'Огранка'],\n",
       "      dtype='object')"
      ]
     },
     "execution_count": 20,
     "metadata": {},
     "output_type": "execute_result"
    }
   ],
   "source": [
    "pr_sap_n.columns"
   ]
  },
  {
   "cell_type": "markdown",
   "id": "7a52a05d",
   "metadata": {},
   "source": [
    "### concat"
   ]
  },
  {
   "cell_type": "code",
   "execution_count": 37,
   "id": "5d46d7aa",
   "metadata": {},
   "outputs": [
    {
     "data": {
      "text/html": [
       "<div>\n",
       "<style scoped>\n",
       "    .dataframe tbody tr th:only-of-type {\n",
       "        vertical-align: middle;\n",
       "    }\n",
       "\n",
       "    .dataframe tbody tr th {\n",
       "        vertical-align: top;\n",
       "    }\n",
       "\n",
       "    .dataframe thead th {\n",
       "        text-align: right;\n",
       "    }\n",
       "</style>\n",
       "<table border=\"1\" class=\"dataframe\">\n",
       "  <thead>\n",
       "    <tr style=\"text-align: right;\">\n",
       "      <th></th>\n",
       "      <th>цвет</th>\n",
       "      <th>чистота</th>\n",
       "      <th>size</th>\n",
       "      <th>price</th>\n",
       "      <th>Обработка</th>\n",
       "      <th>ТУ</th>\n",
       "      <th>gemstone</th>\n",
       "      <th>Огранка</th>\n",
       "    </tr>\n",
       "  </thead>\n",
       "  <tbody>\n",
       "    <tr>\n",
       "      <th>0</th>\n",
       "      <td>1</td>\n",
       "      <td>1</td>\n",
       "      <td>До 0,09</td>\n",
       "      <td>150</td>\n",
       "      <td>необр</td>\n",
       "      <td>СТО 45866412-05-2008</td>\n",
       "      <td>СапфирН</td>\n",
       "      <td>фацетный вид огранки</td>\n",
       "    </tr>\n",
       "    <tr>\n",
       "      <th>1</th>\n",
       "      <td>1</td>\n",
       "      <td>2</td>\n",
       "      <td>До 0,09</td>\n",
       "      <td>140</td>\n",
       "      <td>необр</td>\n",
       "      <td>СТО 45866412-05-2008</td>\n",
       "      <td>СапфирН</td>\n",
       "      <td>фацетный вид огранки</td>\n",
       "    </tr>\n",
       "    <tr>\n",
       "      <th>2</th>\n",
       "      <td>1</td>\n",
       "      <td>3</td>\n",
       "      <td>До 0,09</td>\n",
       "      <td>130</td>\n",
       "      <td>необр</td>\n",
       "      <td>СТО 45866412-05-2008</td>\n",
       "      <td>СапфирН</td>\n",
       "      <td>фацетный вид огранки</td>\n",
       "    </tr>\n",
       "    <tr>\n",
       "      <th>3</th>\n",
       "      <td>1</td>\n",
       "      <td>4</td>\n",
       "      <td>До 0,09</td>\n",
       "      <td>120</td>\n",
       "      <td>необр</td>\n",
       "      <td>СТО 45866412-05-2008</td>\n",
       "      <td>СапфирН</td>\n",
       "      <td>фацетный вид огранки</td>\n",
       "    </tr>\n",
       "    <tr>\n",
       "      <th>4</th>\n",
       "      <td>1</td>\n",
       "      <td>5</td>\n",
       "      <td>До 0,09</td>\n",
       "      <td>110</td>\n",
       "      <td>необр</td>\n",
       "      <td>СТО 45866412-05-2008</td>\n",
       "      <td>СапфирН</td>\n",
       "      <td>фацетный вид огранки</td>\n",
       "    </tr>\n",
       "    <tr>\n",
       "      <th>...</th>\n",
       "      <td>...</td>\n",
       "      <td>...</td>\n",
       "      <td>...</td>\n",
       "      <td>...</td>\n",
       "      <td>...</td>\n",
       "      <td>...</td>\n",
       "      <td>...</td>\n",
       "      <td>...</td>\n",
       "    </tr>\n",
       "    <tr>\n",
       "      <th>195</th>\n",
       "      <td>5</td>\n",
       "      <td>1</td>\n",
       "      <td>4,00-4,99</td>\n",
       "      <td>1400</td>\n",
       "      <td>необр</td>\n",
       "      <td>СТО 45866412-05-2008</td>\n",
       "      <td>СапфирН</td>\n",
       "      <td>фацетный вид огранки</td>\n",
       "    </tr>\n",
       "    <tr>\n",
       "      <th>196</th>\n",
       "      <td>5</td>\n",
       "      <td>2</td>\n",
       "      <td>4,00-4,99</td>\n",
       "      <td>1200</td>\n",
       "      <td>необр</td>\n",
       "      <td>СТО 45866412-05-2008</td>\n",
       "      <td>СапфирН</td>\n",
       "      <td>фацетный вид огранки</td>\n",
       "    </tr>\n",
       "    <tr>\n",
       "      <th>197</th>\n",
       "      <td>5</td>\n",
       "      <td>3</td>\n",
       "      <td>4,00-4,99</td>\n",
       "      <td>1000</td>\n",
       "      <td>необр</td>\n",
       "      <td>СТО 45866412-05-2008</td>\n",
       "      <td>СапфирН</td>\n",
       "      <td>фацетный вид огранки</td>\n",
       "    </tr>\n",
       "    <tr>\n",
       "      <th>198</th>\n",
       "      <td>5</td>\n",
       "      <td>4</td>\n",
       "      <td>4,00-4,99</td>\n",
       "      <td>700</td>\n",
       "      <td>необр</td>\n",
       "      <td>СТО 45866412-05-2008</td>\n",
       "      <td>СапфирН</td>\n",
       "      <td>фацетный вид огранки</td>\n",
       "    </tr>\n",
       "    <tr>\n",
       "      <th>199</th>\n",
       "      <td>5</td>\n",
       "      <td>5</td>\n",
       "      <td>4,00-4,99</td>\n",
       "      <td>550</td>\n",
       "      <td>необр</td>\n",
       "      <td>СТО 45866412-05-2008</td>\n",
       "      <td>СапфирН</td>\n",
       "      <td>фацетный вид огранки</td>\n",
       "    </tr>\n",
       "  </tbody>\n",
       "</table>\n",
       "<p>200 rows × 8 columns</p>\n",
       "</div>"
      ],
      "text/plain": [
       "     цвет  чистота       size  price Обработка                    ТУ gemstone  \\\n",
       "0       1        1    До 0,09    150     необр  СТО 45866412-05-2008  СапфирН   \n",
       "1       1        2    До 0,09    140     необр  СТО 45866412-05-2008  СапфирН   \n",
       "2       1        3    До 0,09    130     необр  СТО 45866412-05-2008  СапфирН   \n",
       "3       1        4    До 0,09    120     необр  СТО 45866412-05-2008  СапфирН   \n",
       "4       1        5    До 0,09    110     необр  СТО 45866412-05-2008  СапфирН   \n",
       "..    ...      ...        ...    ...       ...                   ...      ...   \n",
       "195     5        1  4,00-4,99   1400     необр  СТО 45866412-05-2008  СапфирН   \n",
       "196     5        2  4,00-4,99   1200     необр  СТО 45866412-05-2008  СапфирН   \n",
       "197     5        3  4,00-4,99   1000     необр  СТО 45866412-05-2008  СапфирН   \n",
       "198     5        4  4,00-4,99    700     необр  СТО 45866412-05-2008  СапфирН   \n",
       "199     5        5  4,00-4,99    550     необр  СТО 45866412-05-2008  СапфирН   \n",
       "\n",
       "                  Огранка  \n",
       "0    фацетный вид огранки  \n",
       "1    фацетный вид огранки  \n",
       "2    фацетный вид огранки  \n",
       "3    фацетный вид огранки  \n",
       "4    фацетный вид огранки  \n",
       "..                    ...  \n",
       "195  фацетный вид огранки  \n",
       "196  фацетный вид огранки  \n",
       "197  фацетный вид огранки  \n",
       "198  фацетный вид огранки  \n",
       "199  фацетный вид огранки  \n",
       "\n",
       "[200 rows x 8 columns]"
      ]
     },
     "execution_count": 37,
     "metadata": {},
     "output_type": "execute_result"
    }
   ],
   "source": [
    "pr_sap_n"
   ]
  },
  {
   "cell_type": "code",
   "execution_count": 38,
   "id": "7a138eb2",
   "metadata": {},
   "outputs": [
    {
     "data": {
      "text/html": [
       "<div>\n",
       "<style scoped>\n",
       "    .dataframe tbody tr th:only-of-type {\n",
       "        vertical-align: middle;\n",
       "    }\n",
       "\n",
       "    .dataframe tbody tr th {\n",
       "        vertical-align: top;\n",
       "    }\n",
       "\n",
       "    .dataframe thead th {\n",
       "        text-align: right;\n",
       "    }\n",
       "</style>\n",
       "<table border=\"1\" class=\"dataframe\">\n",
       "  <thead>\n",
       "    <tr style=\"text-align: right;\">\n",
       "      <th></th>\n",
       "      <th>цвет</th>\n",
       "      <th>чистота</th>\n",
       "      <th>size</th>\n",
       "      <th>price</th>\n",
       "      <th>Обработка</th>\n",
       "      <th>ТУ</th>\n",
       "      <th>gemstone</th>\n",
       "      <th>Огранка</th>\n",
       "    </tr>\n",
       "  </thead>\n",
       "  <tbody>\n",
       "    <tr>\n",
       "      <th>0</th>\n",
       "      <td>1</td>\n",
       "      <td>1</td>\n",
       "      <td>До 0,09</td>\n",
       "      <td>95</td>\n",
       "      <td>термо</td>\n",
       "      <td>СТО 45866412-05-2008</td>\n",
       "      <td>СапфирПТ</td>\n",
       "      <td>фацетный вид огранки</td>\n",
       "    </tr>\n",
       "    <tr>\n",
       "      <th>1</th>\n",
       "      <td>1</td>\n",
       "      <td>2</td>\n",
       "      <td>До 0,09</td>\n",
       "      <td>90</td>\n",
       "      <td>термо</td>\n",
       "      <td>СТО 45866412-05-2008</td>\n",
       "      <td>СапфирПТ</td>\n",
       "      <td>фацетный вид огранки</td>\n",
       "    </tr>\n",
       "    <tr>\n",
       "      <th>2</th>\n",
       "      <td>1</td>\n",
       "      <td>3</td>\n",
       "      <td>До 0,09</td>\n",
       "      <td>85</td>\n",
       "      <td>термо</td>\n",
       "      <td>СТО 45866412-05-2008</td>\n",
       "      <td>СапфирПТ</td>\n",
       "      <td>фацетный вид огранки</td>\n",
       "    </tr>\n",
       "    <tr>\n",
       "      <th>3</th>\n",
       "      <td>1</td>\n",
       "      <td>4</td>\n",
       "      <td>До 0,09</td>\n",
       "      <td>75</td>\n",
       "      <td>термо</td>\n",
       "      <td>СТО 45866412-05-2008</td>\n",
       "      <td>СапфирПТ</td>\n",
       "      <td>фацетный вид огранки</td>\n",
       "    </tr>\n",
       "    <tr>\n",
       "      <th>4</th>\n",
       "      <td>1</td>\n",
       "      <td>5</td>\n",
       "      <td>До 0,09</td>\n",
       "      <td>70</td>\n",
       "      <td>термо</td>\n",
       "      <td>СТО 45866412-05-2008</td>\n",
       "      <td>СапфирПТ</td>\n",
       "      <td>фацетный вид огранки</td>\n",
       "    </tr>\n",
       "    <tr>\n",
       "      <th>...</th>\n",
       "      <td>...</td>\n",
       "      <td>...</td>\n",
       "      <td>...</td>\n",
       "      <td>...</td>\n",
       "      <td>...</td>\n",
       "      <td>...</td>\n",
       "      <td>...</td>\n",
       "      <td>...</td>\n",
       "    </tr>\n",
       "    <tr>\n",
       "      <th>195</th>\n",
       "      <td>5</td>\n",
       "      <td>1</td>\n",
       "      <td>4,00-4,99</td>\n",
       "      <td>730</td>\n",
       "      <td>термо</td>\n",
       "      <td>СТО 45866412-05-2008</td>\n",
       "      <td>СапфирПТ</td>\n",
       "      <td>фацетный вид огранки</td>\n",
       "    </tr>\n",
       "    <tr>\n",
       "      <th>196</th>\n",
       "      <td>5</td>\n",
       "      <td>2</td>\n",
       "      <td>4,00-4,99</td>\n",
       "      <td>650</td>\n",
       "      <td>термо</td>\n",
       "      <td>СТО 45866412-05-2008</td>\n",
       "      <td>СапфирПТ</td>\n",
       "      <td>фацетный вид огранки</td>\n",
       "    </tr>\n",
       "    <tr>\n",
       "      <th>197</th>\n",
       "      <td>5</td>\n",
       "      <td>3</td>\n",
       "      <td>4,00-4,99</td>\n",
       "      <td>600</td>\n",
       "      <td>термо</td>\n",
       "      <td>СТО 45866412-05-2008</td>\n",
       "      <td>СапфирПТ</td>\n",
       "      <td>фацетный вид огранки</td>\n",
       "    </tr>\n",
       "    <tr>\n",
       "      <th>198</th>\n",
       "      <td>5</td>\n",
       "      <td>4</td>\n",
       "      <td>4,00-4,99</td>\n",
       "      <td>300</td>\n",
       "      <td>термо</td>\n",
       "      <td>СТО 45866412-05-2008</td>\n",
       "      <td>СапфирПТ</td>\n",
       "      <td>фацетный вид огранки</td>\n",
       "    </tr>\n",
       "    <tr>\n",
       "      <th>199</th>\n",
       "      <td>5</td>\n",
       "      <td>5</td>\n",
       "      <td>4,00-4,99</td>\n",
       "      <td>180</td>\n",
       "      <td>термо</td>\n",
       "      <td>СТО 45866412-05-2008</td>\n",
       "      <td>СапфирПТ</td>\n",
       "      <td>фацетный вид огранки</td>\n",
       "    </tr>\n",
       "  </tbody>\n",
       "</table>\n",
       "<p>200 rows × 8 columns</p>\n",
       "</div>"
      ],
      "text/plain": [
       "     цвет  чистота       size  price Обработка                    ТУ  \\\n",
       "0       1        1    До 0,09     95     термо  СТО 45866412-05-2008   \n",
       "1       1        2    До 0,09     90     термо  СТО 45866412-05-2008   \n",
       "2       1        3    До 0,09     85     термо  СТО 45866412-05-2008   \n",
       "3       1        4    До 0,09     75     термо  СТО 45866412-05-2008   \n",
       "4       1        5    До 0,09     70     термо  СТО 45866412-05-2008   \n",
       "..    ...      ...        ...    ...       ...                   ...   \n",
       "195     5        1  4,00-4,99    730     термо  СТО 45866412-05-2008   \n",
       "196     5        2  4,00-4,99    650     термо  СТО 45866412-05-2008   \n",
       "197     5        3  4,00-4,99    600     термо  СТО 45866412-05-2008   \n",
       "198     5        4  4,00-4,99    300     термо  СТО 45866412-05-2008   \n",
       "199     5        5  4,00-4,99    180     термо  СТО 45866412-05-2008   \n",
       "\n",
       "     gemstone               Огранка  \n",
       "0    СапфирПТ  фацетный вид огранки  \n",
       "1    СапфирПТ  фацетный вид огранки  \n",
       "2    СапфирПТ  фацетный вид огранки  \n",
       "3    СапфирПТ  фацетный вид огранки  \n",
       "4    СапфирПТ  фацетный вид огранки  \n",
       "..        ...                   ...  \n",
       "195  СапфирПТ  фацетный вид огранки  \n",
       "196  СапфирПТ  фацетный вид огранки  \n",
       "197  СапфирПТ  фацетный вид огранки  \n",
       "198  СапфирПТ  фацетный вид огранки  \n",
       "199  СапфирПТ  фацетный вид огранки  \n",
       "\n",
       "[200 rows x 8 columns]"
      ]
     },
     "execution_count": 38,
     "metadata": {},
     "output_type": "execute_result"
    }
   ],
   "source": [
    "pr_sap_t"
   ]
  },
  {
   "cell_type": "code",
   "execution_count": 40,
   "id": "2e853191",
   "metadata": {},
   "outputs": [],
   "source": [
    "pr_sap = pd.concat([pr_sap_t,pr_sap_n])"
   ]
  },
  {
   "cell_type": "code",
   "execution_count": 41,
   "id": "1685d7a0",
   "metadata": {
    "scrolled": true
   },
   "outputs": [
    {
     "data": {
      "text/html": [
       "<div>\n",
       "<style scoped>\n",
       "    .dataframe tbody tr th:only-of-type {\n",
       "        vertical-align: middle;\n",
       "    }\n",
       "\n",
       "    .dataframe tbody tr th {\n",
       "        vertical-align: top;\n",
       "    }\n",
       "\n",
       "    .dataframe thead th {\n",
       "        text-align: right;\n",
       "    }\n",
       "</style>\n",
       "<table border=\"1\" class=\"dataframe\">\n",
       "  <thead>\n",
       "    <tr style=\"text-align: right;\">\n",
       "      <th></th>\n",
       "      <th>цвет</th>\n",
       "      <th>чистота</th>\n",
       "      <th>size</th>\n",
       "      <th>price</th>\n",
       "      <th>Обработка</th>\n",
       "      <th>ТУ</th>\n",
       "      <th>gemstone</th>\n",
       "      <th>Огранка</th>\n",
       "    </tr>\n",
       "  </thead>\n",
       "  <tbody>\n",
       "    <tr>\n",
       "      <th>0</th>\n",
       "      <td>1</td>\n",
       "      <td>1</td>\n",
       "      <td>До 0,09</td>\n",
       "      <td>95</td>\n",
       "      <td>термо</td>\n",
       "      <td>СТО 45866412-05-2008</td>\n",
       "      <td>СапфирПТ</td>\n",
       "      <td>фацетный вид огранки</td>\n",
       "    </tr>\n",
       "    <tr>\n",
       "      <th>1</th>\n",
       "      <td>1</td>\n",
       "      <td>2</td>\n",
       "      <td>До 0,09</td>\n",
       "      <td>90</td>\n",
       "      <td>термо</td>\n",
       "      <td>СТО 45866412-05-2008</td>\n",
       "      <td>СапфирПТ</td>\n",
       "      <td>фацетный вид огранки</td>\n",
       "    </tr>\n",
       "    <tr>\n",
       "      <th>2</th>\n",
       "      <td>1</td>\n",
       "      <td>3</td>\n",
       "      <td>До 0,09</td>\n",
       "      <td>85</td>\n",
       "      <td>термо</td>\n",
       "      <td>СТО 45866412-05-2008</td>\n",
       "      <td>СапфирПТ</td>\n",
       "      <td>фацетный вид огранки</td>\n",
       "    </tr>\n",
       "    <tr>\n",
       "      <th>3</th>\n",
       "      <td>1</td>\n",
       "      <td>4</td>\n",
       "      <td>До 0,09</td>\n",
       "      <td>75</td>\n",
       "      <td>термо</td>\n",
       "      <td>СТО 45866412-05-2008</td>\n",
       "      <td>СапфирПТ</td>\n",
       "      <td>фацетный вид огранки</td>\n",
       "    </tr>\n",
       "    <tr>\n",
       "      <th>4</th>\n",
       "      <td>1</td>\n",
       "      <td>5</td>\n",
       "      <td>До 0,09</td>\n",
       "      <td>70</td>\n",
       "      <td>термо</td>\n",
       "      <td>СТО 45866412-05-2008</td>\n",
       "      <td>СапфирПТ</td>\n",
       "      <td>фацетный вид огранки</td>\n",
       "    </tr>\n",
       "    <tr>\n",
       "      <th>...</th>\n",
       "      <td>...</td>\n",
       "      <td>...</td>\n",
       "      <td>...</td>\n",
       "      <td>...</td>\n",
       "      <td>...</td>\n",
       "      <td>...</td>\n",
       "      <td>...</td>\n",
       "      <td>...</td>\n",
       "    </tr>\n",
       "    <tr>\n",
       "      <th>195</th>\n",
       "      <td>5</td>\n",
       "      <td>1</td>\n",
       "      <td>4,00-4,99</td>\n",
       "      <td>1400</td>\n",
       "      <td>необр</td>\n",
       "      <td>СТО 45866412-05-2008</td>\n",
       "      <td>СапфирН</td>\n",
       "      <td>фацетный вид огранки</td>\n",
       "    </tr>\n",
       "    <tr>\n",
       "      <th>196</th>\n",
       "      <td>5</td>\n",
       "      <td>2</td>\n",
       "      <td>4,00-4,99</td>\n",
       "      <td>1200</td>\n",
       "      <td>необр</td>\n",
       "      <td>СТО 45866412-05-2008</td>\n",
       "      <td>СапфирН</td>\n",
       "      <td>фацетный вид огранки</td>\n",
       "    </tr>\n",
       "    <tr>\n",
       "      <th>197</th>\n",
       "      <td>5</td>\n",
       "      <td>3</td>\n",
       "      <td>4,00-4,99</td>\n",
       "      <td>1000</td>\n",
       "      <td>необр</td>\n",
       "      <td>СТО 45866412-05-2008</td>\n",
       "      <td>СапфирН</td>\n",
       "      <td>фацетный вид огранки</td>\n",
       "    </tr>\n",
       "    <tr>\n",
       "      <th>198</th>\n",
       "      <td>5</td>\n",
       "      <td>4</td>\n",
       "      <td>4,00-4,99</td>\n",
       "      <td>700</td>\n",
       "      <td>необр</td>\n",
       "      <td>СТО 45866412-05-2008</td>\n",
       "      <td>СапфирН</td>\n",
       "      <td>фацетный вид огранки</td>\n",
       "    </tr>\n",
       "    <tr>\n",
       "      <th>199</th>\n",
       "      <td>5</td>\n",
       "      <td>5</td>\n",
       "      <td>4,00-4,99</td>\n",
       "      <td>550</td>\n",
       "      <td>необр</td>\n",
       "      <td>СТО 45866412-05-2008</td>\n",
       "      <td>СапфирН</td>\n",
       "      <td>фацетный вид огранки</td>\n",
       "    </tr>\n",
       "  </tbody>\n",
       "</table>\n",
       "<p>400 rows × 8 columns</p>\n",
       "</div>"
      ],
      "text/plain": [
       "     цвет  чистота       size  price Обработка                    ТУ  \\\n",
       "0       1        1    До 0,09     95     термо  СТО 45866412-05-2008   \n",
       "1       1        2    До 0,09     90     термо  СТО 45866412-05-2008   \n",
       "2       1        3    До 0,09     85     термо  СТО 45866412-05-2008   \n",
       "3       1        4    До 0,09     75     термо  СТО 45866412-05-2008   \n",
       "4       1        5    До 0,09     70     термо  СТО 45866412-05-2008   \n",
       "..    ...      ...        ...    ...       ...                   ...   \n",
       "195     5        1  4,00-4,99   1400     необр  СТО 45866412-05-2008   \n",
       "196     5        2  4,00-4,99   1200     необр  СТО 45866412-05-2008   \n",
       "197     5        3  4,00-4,99   1000     необр  СТО 45866412-05-2008   \n",
       "198     5        4  4,00-4,99    700     необр  СТО 45866412-05-2008   \n",
       "199     5        5  4,00-4,99    550     необр  СТО 45866412-05-2008   \n",
       "\n",
       "     gemstone               Огранка  \n",
       "0    СапфирПТ  фацетный вид огранки  \n",
       "1    СапфирПТ  фацетный вид огранки  \n",
       "2    СапфирПТ  фацетный вид огранки  \n",
       "3    СапфирПТ  фацетный вид огранки  \n",
       "4    СапфирПТ  фацетный вид огранки  \n",
       "..        ...                   ...  \n",
       "195   СапфирН  фацетный вид огранки  \n",
       "196   СапфирН  фацетный вид огранки  \n",
       "197   СапфирН  фацетный вид огранки  \n",
       "198   СапфирН  фацетный вид огранки  \n",
       "199   СапфирН  фацетный вид огранки  \n",
       "\n",
       "[400 rows x 8 columns]"
      ]
     },
     "execution_count": 41,
     "metadata": {},
     "output_type": "execute_result"
    }
   ],
   "source": [
    "pr_sap"
   ]
  },
  {
   "cell_type": "code",
   "execution_count": null,
   "id": "303148e0",
   "metadata": {},
   "outputs": [],
   "source": []
  },
  {
   "cell_type": "code",
   "execution_count": null,
   "id": "d8069c68",
   "metadata": {},
   "outputs": [],
   "source": []
  },
  {
   "cell_type": "code",
   "execution_count": null,
   "id": "a9083ae4",
   "metadata": {},
   "outputs": [],
   "source": []
  },
  {
   "cell_type": "markdown",
   "id": "09b28a8c",
   "metadata": {},
   "source": [
    "# Рубин "
   ]
  },
  {
   "cell_type": "markdown",
   "id": "2e98b61f",
   "metadata": {},
   "source": [
    "## Прейскурант обработка пдф отдельно в модуль"
   ]
  },
  {
   "cell_type": "code",
   "execution_count": 42,
   "id": "149ef44d",
   "metadata": {},
   "outputs": [],
   "source": [
    "#фацетный вид огранки"
   ]
  },
  {
   "cell_type": "markdown",
   "id": "14453a2f",
   "metadata": {},
   "source": [
    "### термо"
   ]
  },
  {
   "cell_type": "code",
   "execution_count": 61,
   "id": "30ac7d50",
   "metadata": {},
   "outputs": [],
   "source": [
    "pr_ruby_t = pd.read_excel('полуавт ввод Прейскурант Рубины МинФин РФ  65 13-02-2020 .xlsx', sheet_name='терм')"
   ]
  },
  {
   "cell_type": "code",
   "execution_count": 62,
   "id": "6967a04b",
   "metadata": {},
   "outputs": [
    {
     "data": {
      "text/plain": [
       "Index(['Unnamed: 0', 'Группа цвета', 'Группа чистоты', 'До 0,09', '0.10-0,24',\n",
       "       '0.25-0.49', '0.50-0.99', '1,00-1,99', '2,00-2,99', '3,00-3,99',\n",
       "       '4,00-4,99'],\n",
       "      dtype='object')"
      ]
     },
     "execution_count": 62,
     "metadata": {},
     "output_type": "execute_result"
    }
   ],
   "source": [
    "pr_ruby_t.columns"
   ]
  },
  {
   "cell_type": "code",
   "execution_count": 63,
   "id": "bdc907d8",
   "metadata": {
    "scrolled": true
   },
   "outputs": [],
   "source": [
    "pr_ruby_t = pd.melt(pr_ruby_t, id_vars=['Группа цвета', 'Группа чистоты'],\n",
    "        value_vars=[ 'До 0,09', '0.10-0,24',\n",
    "       '0.25-0.49', '0.50-0.99', '1,00-1,99', '2,00-2,99', '3,00-3,99',\n",
    "       '4,00-4,99'], value_name='price', var_name='size')"
   ]
  },
  {
   "cell_type": "code",
   "execution_count": 64,
   "id": "ea8887bf",
   "metadata": {},
   "outputs": [],
   "source": [
    "pr_ruby_t['Обработка'] = 'термо'"
   ]
  },
  {
   "cell_type": "code",
   "execution_count": 65,
   "id": "d927f0da",
   "metadata": {},
   "outputs": [],
   "source": [
    "pr_ruby_t['ТУ'] = 'СТО 45866412-06-2008'"
   ]
  },
  {
   "cell_type": "code",
   "execution_count": 66,
   "id": "73a0045a",
   "metadata": {},
   "outputs": [],
   "source": [
    "pr_ruby_t['gemstone'] = 'РубинПТ'"
   ]
  },
  {
   "cell_type": "code",
   "execution_count": 67,
   "id": "b8f6b746",
   "metadata": {},
   "outputs": [
    {
     "data": {
      "text/plain": [
       "Index(['Группа цвета', 'Группа чистоты', 'size', 'price', 'Обработка', 'ТУ',\n",
       "       'gemstone'],\n",
       "      dtype='object')"
      ]
     },
     "execution_count": 67,
     "metadata": {},
     "output_type": "execute_result"
    }
   ],
   "source": [
    "pr_ruby_t.columns"
   ]
  },
  {
   "cell_type": "code",
   "execution_count": 68,
   "id": "0954f578",
   "metadata": {},
   "outputs": [],
   "source": [
    "pr_ruby_t.rename(columns={'Группа цвета': 'цвет', 'Группа чистоты': 'чистота'}, inplace=True)"
   ]
  },
  {
   "cell_type": "code",
   "execution_count": 69,
   "id": "aee97498",
   "metadata": {},
   "outputs": [],
   "source": [
    "pr_ruby_t['Огранка'] = 'фацетный вид огранки'"
   ]
  },
  {
   "cell_type": "code",
   "execution_count": 70,
   "id": "3fd191e6",
   "metadata": {
    "scrolled": true
   },
   "outputs": [
    {
     "data": {
      "text/plain": [
       "Index(['цвет', 'чистота', 'size', 'price', 'Обработка', 'ТУ', 'gemstone',\n",
       "       'Огранка'],\n",
       "      dtype='object')"
      ]
     },
     "execution_count": 70,
     "metadata": {},
     "output_type": "execute_result"
    }
   ],
   "source": [
    "pr_ruby_t.columns"
   ]
  },
  {
   "cell_type": "markdown",
   "id": "6e5d87f1",
   "metadata": {},
   "source": [
    "### необр"
   ]
  },
  {
   "cell_type": "code",
   "execution_count": 71,
   "id": "0c1fd3ad",
   "metadata": {},
   "outputs": [],
   "source": [
    "pr_ruby_n = pd.read_excel('полуавт ввод Прейскурант Рубины МинФин РФ  65 13-02-2020 .xlsx',\n",
    "                         sheet_name='необр')"
   ]
  },
  {
   "cell_type": "code",
   "execution_count": 72,
   "id": "e4705974",
   "metadata": {},
   "outputs": [
    {
     "data": {
      "text/plain": [
       "Index(['Unnamed: 0', 'Группа цвета', 'Группа чистоты', 'До 0,09', '0.10-0,24',\n",
       "       '0.25-0.49', '0.50-0.99', '1,00-1,99', '2,00-2,99', '3,00-3,99',\n",
       "       '4,00-4,99'],\n",
       "      dtype='object')"
      ]
     },
     "execution_count": 72,
     "metadata": {},
     "output_type": "execute_result"
    }
   ],
   "source": [
    "pr_ruby_n.columns"
   ]
  },
  {
   "cell_type": "code",
   "execution_count": 73,
   "id": "fae0663d",
   "metadata": {},
   "outputs": [],
   "source": [
    "pr_ruby_n.rename(columns={'ЧИСТОТЫ':'Группа чистоты'}, inplace=True)"
   ]
  },
  {
   "cell_type": "code",
   "execution_count": 74,
   "id": "c3b4ca60",
   "metadata": {
    "scrolled": true
   },
   "outputs": [],
   "source": [
    "pr_ruby_n = pd.melt(pr_ruby_n, id_vars=['Группа цвета', 'Группа чистоты'],\n",
    "        value_vars=[ 'До 0,09', '0.10-0,24',\n",
    "       '0.25-0.49', '0.50-0.99', '1,00-1,99', '2,00-2,99', '3,00-3,99',\n",
    "       '4,00-4,99'], value_name='price', var_name='size')"
   ]
  },
  {
   "cell_type": "code",
   "execution_count": 75,
   "id": "5399ea6e",
   "metadata": {},
   "outputs": [],
   "source": [
    "pr_ruby_n['Обработка'] = 'необр'"
   ]
  },
  {
   "cell_type": "code",
   "execution_count": 76,
   "id": "790d2c85",
   "metadata": {},
   "outputs": [],
   "source": [
    "pr_ruby_n['ТУ'] = 'СТО 45866412-06-2008'"
   ]
  },
  {
   "cell_type": "code",
   "execution_count": 77,
   "id": "45f72600",
   "metadata": {},
   "outputs": [],
   "source": [
    "pr_ruby_n['gemstone'] = 'РубинН'"
   ]
  },
  {
   "cell_type": "code",
   "execution_count": 78,
   "id": "56120c94",
   "metadata": {},
   "outputs": [
    {
     "data": {
      "text/plain": [
       "Index(['Группа цвета', 'Группа чистоты', 'size', 'price', 'Обработка', 'ТУ',\n",
       "       'gemstone'],\n",
       "      dtype='object')"
      ]
     },
     "execution_count": 78,
     "metadata": {},
     "output_type": "execute_result"
    }
   ],
   "source": [
    "pr_ruby_n.columns"
   ]
  },
  {
   "cell_type": "code",
   "execution_count": 79,
   "id": "ae4256bd",
   "metadata": {},
   "outputs": [],
   "source": [
    "pr_ruby_n.rename(columns={'Группа цвета': 'цвет', 'Группа чистоты': 'чистота'}, inplace=True)"
   ]
  },
  {
   "cell_type": "code",
   "execution_count": 80,
   "id": "78fc1ded",
   "metadata": {},
   "outputs": [],
   "source": [
    "pr_ruby_n['Огранка'] = 'фацетный вид огранки'"
   ]
  },
  {
   "cell_type": "code",
   "execution_count": 81,
   "id": "840e143a",
   "metadata": {
    "scrolled": true
   },
   "outputs": [
    {
     "data": {
      "text/plain": [
       "Index(['цвет', 'чистота', 'size', 'price', 'Обработка', 'ТУ', 'gemstone',\n",
       "       'Огранка'],\n",
       "      dtype='object')"
      ]
     },
     "execution_count": 81,
     "metadata": {},
     "output_type": "execute_result"
    }
   ],
   "source": [
    "pr_ruby_n.columns"
   ]
  },
  {
   "cell_type": "markdown",
   "id": "5d593289",
   "metadata": {},
   "source": [
    "### concat"
   ]
  },
  {
   "cell_type": "code",
   "execution_count": 82,
   "id": "6880377d",
   "metadata": {},
   "outputs": [
    {
     "data": {
      "text/html": [
       "<div>\n",
       "<style scoped>\n",
       "    .dataframe tbody tr th:only-of-type {\n",
       "        vertical-align: middle;\n",
       "    }\n",
       "\n",
       "    .dataframe tbody tr th {\n",
       "        vertical-align: top;\n",
       "    }\n",
       "\n",
       "    .dataframe thead th {\n",
       "        text-align: right;\n",
       "    }\n",
       "</style>\n",
       "<table border=\"1\" class=\"dataframe\">\n",
       "  <thead>\n",
       "    <tr style=\"text-align: right;\">\n",
       "      <th></th>\n",
       "      <th>цвет</th>\n",
       "      <th>чистота</th>\n",
       "      <th>size</th>\n",
       "      <th>price</th>\n",
       "      <th>Обработка</th>\n",
       "      <th>ТУ</th>\n",
       "      <th>gemstone</th>\n",
       "      <th>Огранка</th>\n",
       "    </tr>\n",
       "  </thead>\n",
       "  <tbody>\n",
       "    <tr>\n",
       "      <th>0</th>\n",
       "      <td>1</td>\n",
       "      <td>1</td>\n",
       "      <td>До 0,09</td>\n",
       "      <td>360</td>\n",
       "      <td>необр</td>\n",
       "      <td>СТО 45866412-06-2008</td>\n",
       "      <td>РубинН</td>\n",
       "      <td>фацетный вид огранки</td>\n",
       "    </tr>\n",
       "    <tr>\n",
       "      <th>1</th>\n",
       "      <td>1</td>\n",
       "      <td>2</td>\n",
       "      <td>До 0,09</td>\n",
       "      <td>340</td>\n",
       "      <td>необр</td>\n",
       "      <td>СТО 45866412-06-2008</td>\n",
       "      <td>РубинН</td>\n",
       "      <td>фацетный вид огранки</td>\n",
       "    </tr>\n",
       "    <tr>\n",
       "      <th>2</th>\n",
       "      <td>1</td>\n",
       "      <td>3</td>\n",
       "      <td>До 0,09</td>\n",
       "      <td>320</td>\n",
       "      <td>необр</td>\n",
       "      <td>СТО 45866412-06-2008</td>\n",
       "      <td>РубинН</td>\n",
       "      <td>фацетный вид огранки</td>\n",
       "    </tr>\n",
       "    <tr>\n",
       "      <th>3</th>\n",
       "      <td>1</td>\n",
       "      <td>4</td>\n",
       "      <td>До 0,09</td>\n",
       "      <td>180</td>\n",
       "      <td>необр</td>\n",
       "      <td>СТО 45866412-06-2008</td>\n",
       "      <td>РубинН</td>\n",
       "      <td>фацетный вид огранки</td>\n",
       "    </tr>\n",
       "    <tr>\n",
       "      <th>4</th>\n",
       "      <td>1</td>\n",
       "      <td>5</td>\n",
       "      <td>До 0,09</td>\n",
       "      <td>170</td>\n",
       "      <td>необр</td>\n",
       "      <td>СТО 45866412-06-2008</td>\n",
       "      <td>РубинН</td>\n",
       "      <td>фацетный вид огранки</td>\n",
       "    </tr>\n",
       "    <tr>\n",
       "      <th>...</th>\n",
       "      <td>...</td>\n",
       "      <td>...</td>\n",
       "      <td>...</td>\n",
       "      <td>...</td>\n",
       "      <td>...</td>\n",
       "      <td>...</td>\n",
       "      <td>...</td>\n",
       "      <td>...</td>\n",
       "    </tr>\n",
       "    <tr>\n",
       "      <th>195</th>\n",
       "      <td>5</td>\n",
       "      <td>1</td>\n",
       "      <td>4,00-4,99</td>\n",
       "      <td>1950</td>\n",
       "      <td>необр</td>\n",
       "      <td>СТО 45866412-06-2008</td>\n",
       "      <td>РубинН</td>\n",
       "      <td>фацетный вид огранки</td>\n",
       "    </tr>\n",
       "    <tr>\n",
       "      <th>196</th>\n",
       "      <td>5</td>\n",
       "      <td>2</td>\n",
       "      <td>4,00-4,99</td>\n",
       "      <td>1750</td>\n",
       "      <td>необр</td>\n",
       "      <td>СТО 45866412-06-2008</td>\n",
       "      <td>РубинН</td>\n",
       "      <td>фацетный вид огранки</td>\n",
       "    </tr>\n",
       "    <tr>\n",
       "      <th>197</th>\n",
       "      <td>5</td>\n",
       "      <td>3</td>\n",
       "      <td>4,00-4,99</td>\n",
       "      <td>1450</td>\n",
       "      <td>необр</td>\n",
       "      <td>СТО 45866412-06-2008</td>\n",
       "      <td>РубинН</td>\n",
       "      <td>фацетный вид огранки</td>\n",
       "    </tr>\n",
       "    <tr>\n",
       "      <th>198</th>\n",
       "      <td>5</td>\n",
       "      <td>4</td>\n",
       "      <td>4,00-4,99</td>\n",
       "      <td>1100</td>\n",
       "      <td>необр</td>\n",
       "      <td>СТО 45866412-06-2008</td>\n",
       "      <td>РубинН</td>\n",
       "      <td>фацетный вид огранки</td>\n",
       "    </tr>\n",
       "    <tr>\n",
       "      <th>199</th>\n",
       "      <td>5</td>\n",
       "      <td>5</td>\n",
       "      <td>4,00-4,99</td>\n",
       "      <td>800</td>\n",
       "      <td>необр</td>\n",
       "      <td>СТО 45866412-06-2008</td>\n",
       "      <td>РубинН</td>\n",
       "      <td>фацетный вид огранки</td>\n",
       "    </tr>\n",
       "  </tbody>\n",
       "</table>\n",
       "<p>200 rows × 8 columns</p>\n",
       "</div>"
      ],
      "text/plain": [
       "     цвет  чистота       size  price Обработка                    ТУ gemstone  \\\n",
       "0       1        1    До 0,09    360     необр  СТО 45866412-06-2008   РубинН   \n",
       "1       1        2    До 0,09    340     необр  СТО 45866412-06-2008   РубинН   \n",
       "2       1        3    До 0,09    320     необр  СТО 45866412-06-2008   РубинН   \n",
       "3       1        4    До 0,09    180     необр  СТО 45866412-06-2008   РубинН   \n",
       "4       1        5    До 0,09    170     необр  СТО 45866412-06-2008   РубинН   \n",
       "..    ...      ...        ...    ...       ...                   ...      ...   \n",
       "195     5        1  4,00-4,99   1950     необр  СТО 45866412-06-2008   РубинН   \n",
       "196     5        2  4,00-4,99   1750     необр  СТО 45866412-06-2008   РубинН   \n",
       "197     5        3  4,00-4,99   1450     необр  СТО 45866412-06-2008   РубинН   \n",
       "198     5        4  4,00-4,99   1100     необр  СТО 45866412-06-2008   РубинН   \n",
       "199     5        5  4,00-4,99    800     необр  СТО 45866412-06-2008   РубинН   \n",
       "\n",
       "                  Огранка  \n",
       "0    фацетный вид огранки  \n",
       "1    фацетный вид огранки  \n",
       "2    фацетный вид огранки  \n",
       "3    фацетный вид огранки  \n",
       "4    фацетный вид огранки  \n",
       "..                    ...  \n",
       "195  фацетный вид огранки  \n",
       "196  фацетный вид огранки  \n",
       "197  фацетный вид огранки  \n",
       "198  фацетный вид огранки  \n",
       "199  фацетный вид огранки  \n",
       "\n",
       "[200 rows x 8 columns]"
      ]
     },
     "execution_count": 82,
     "metadata": {},
     "output_type": "execute_result"
    }
   ],
   "source": [
    "pr_ruby_n"
   ]
  },
  {
   "cell_type": "code",
   "execution_count": 83,
   "id": "c688ab8c",
   "metadata": {},
   "outputs": [
    {
     "data": {
      "text/html": [
       "<div>\n",
       "<style scoped>\n",
       "    .dataframe tbody tr th:only-of-type {\n",
       "        vertical-align: middle;\n",
       "    }\n",
       "\n",
       "    .dataframe tbody tr th {\n",
       "        vertical-align: top;\n",
       "    }\n",
       "\n",
       "    .dataframe thead th {\n",
       "        text-align: right;\n",
       "    }\n",
       "</style>\n",
       "<table border=\"1\" class=\"dataframe\">\n",
       "  <thead>\n",
       "    <tr style=\"text-align: right;\">\n",
       "      <th></th>\n",
       "      <th>цвет</th>\n",
       "      <th>чистота</th>\n",
       "      <th>size</th>\n",
       "      <th>price</th>\n",
       "      <th>Обработка</th>\n",
       "      <th>ТУ</th>\n",
       "      <th>gemstone</th>\n",
       "      <th>Огранка</th>\n",
       "    </tr>\n",
       "  </thead>\n",
       "  <tbody>\n",
       "    <tr>\n",
       "      <th>0</th>\n",
       "      <td>1</td>\n",
       "      <td>1</td>\n",
       "      <td>До 0,09</td>\n",
       "      <td>180</td>\n",
       "      <td>термо</td>\n",
       "      <td>СТО 45866412-06-2008</td>\n",
       "      <td>РубинПТ</td>\n",
       "      <td>фацетный вид огранки</td>\n",
       "    </tr>\n",
       "    <tr>\n",
       "      <th>1</th>\n",
       "      <td>1</td>\n",
       "      <td>2</td>\n",
       "      <td>До 0,09</td>\n",
       "      <td>170</td>\n",
       "      <td>термо</td>\n",
       "      <td>СТО 45866412-06-2008</td>\n",
       "      <td>РубинПТ</td>\n",
       "      <td>фацетный вид огранки</td>\n",
       "    </tr>\n",
       "    <tr>\n",
       "      <th>2</th>\n",
       "      <td>1</td>\n",
       "      <td>3</td>\n",
       "      <td>До 0,09</td>\n",
       "      <td>160</td>\n",
       "      <td>термо</td>\n",
       "      <td>СТО 45866412-06-2008</td>\n",
       "      <td>РубинПТ</td>\n",
       "      <td>фацетный вид огранки</td>\n",
       "    </tr>\n",
       "    <tr>\n",
       "      <th>3</th>\n",
       "      <td>1</td>\n",
       "      <td>4</td>\n",
       "      <td>До 0,09</td>\n",
       "      <td>90</td>\n",
       "      <td>термо</td>\n",
       "      <td>СТО 45866412-06-2008</td>\n",
       "      <td>РубинПТ</td>\n",
       "      <td>фацетный вид огранки</td>\n",
       "    </tr>\n",
       "    <tr>\n",
       "      <th>4</th>\n",
       "      <td>1</td>\n",
       "      <td>5</td>\n",
       "      <td>До 0,09</td>\n",
       "      <td>85</td>\n",
       "      <td>термо</td>\n",
       "      <td>СТО 45866412-06-2008</td>\n",
       "      <td>РубинПТ</td>\n",
       "      <td>фацетный вид огранки</td>\n",
       "    </tr>\n",
       "    <tr>\n",
       "      <th>...</th>\n",
       "      <td>...</td>\n",
       "      <td>...</td>\n",
       "      <td>...</td>\n",
       "      <td>...</td>\n",
       "      <td>...</td>\n",
       "      <td>...</td>\n",
       "      <td>...</td>\n",
       "      <td>...</td>\n",
       "    </tr>\n",
       "    <tr>\n",
       "      <th>195</th>\n",
       "      <td>5</td>\n",
       "      <td>1</td>\n",
       "      <td>4,00-4,99</td>\n",
       "      <td>970</td>\n",
       "      <td>термо</td>\n",
       "      <td>СТО 45866412-06-2008</td>\n",
       "      <td>РубинПТ</td>\n",
       "      <td>фацетный вид огранки</td>\n",
       "    </tr>\n",
       "    <tr>\n",
       "      <th>196</th>\n",
       "      <td>5</td>\n",
       "      <td>2</td>\n",
       "      <td>4,00-4,99</td>\n",
       "      <td>880</td>\n",
       "      <td>термо</td>\n",
       "      <td>СТО 45866412-06-2008</td>\n",
       "      <td>РубинПТ</td>\n",
       "      <td>фацетный вид огранки</td>\n",
       "    </tr>\n",
       "    <tr>\n",
       "      <th>197</th>\n",
       "      <td>5</td>\n",
       "      <td>3</td>\n",
       "      <td>4,00-4,99</td>\n",
       "      <td>710</td>\n",
       "      <td>термо</td>\n",
       "      <td>СТО 45866412-06-2008</td>\n",
       "      <td>РубинПТ</td>\n",
       "      <td>фацетный вид огранки</td>\n",
       "    </tr>\n",
       "    <tr>\n",
       "      <th>198</th>\n",
       "      <td>5</td>\n",
       "      <td>4</td>\n",
       "      <td>4,00-4,99</td>\n",
       "      <td>400</td>\n",
       "      <td>термо</td>\n",
       "      <td>СТО 45866412-06-2008</td>\n",
       "      <td>РубинПТ</td>\n",
       "      <td>фацетный вид огранки</td>\n",
       "    </tr>\n",
       "    <tr>\n",
       "      <th>199</th>\n",
       "      <td>5</td>\n",
       "      <td>5</td>\n",
       "      <td>4,00-4,99</td>\n",
       "      <td>350</td>\n",
       "      <td>термо</td>\n",
       "      <td>СТО 45866412-06-2008</td>\n",
       "      <td>РубинПТ</td>\n",
       "      <td>фацетный вид огранки</td>\n",
       "    </tr>\n",
       "  </tbody>\n",
       "</table>\n",
       "<p>200 rows × 8 columns</p>\n",
       "</div>"
      ],
      "text/plain": [
       "     цвет  чистота       size  price Обработка                    ТУ gemstone  \\\n",
       "0       1        1    До 0,09    180     термо  СТО 45866412-06-2008  РубинПТ   \n",
       "1       1        2    До 0,09    170     термо  СТО 45866412-06-2008  РубинПТ   \n",
       "2       1        3    До 0,09    160     термо  СТО 45866412-06-2008  РубинПТ   \n",
       "3       1        4    До 0,09     90     термо  СТО 45866412-06-2008  РубинПТ   \n",
       "4       1        5    До 0,09     85     термо  СТО 45866412-06-2008  РубинПТ   \n",
       "..    ...      ...        ...    ...       ...                   ...      ...   \n",
       "195     5        1  4,00-4,99    970     термо  СТО 45866412-06-2008  РубинПТ   \n",
       "196     5        2  4,00-4,99    880     термо  СТО 45866412-06-2008  РубинПТ   \n",
       "197     5        3  4,00-4,99    710     термо  СТО 45866412-06-2008  РубинПТ   \n",
       "198     5        4  4,00-4,99    400     термо  СТО 45866412-06-2008  РубинПТ   \n",
       "199     5        5  4,00-4,99    350     термо  СТО 45866412-06-2008  РубинПТ   \n",
       "\n",
       "                  Огранка  \n",
       "0    фацетный вид огранки  \n",
       "1    фацетный вид огранки  \n",
       "2    фацетный вид огранки  \n",
       "3    фацетный вид огранки  \n",
       "4    фацетный вид огранки  \n",
       "..                    ...  \n",
       "195  фацетный вид огранки  \n",
       "196  фацетный вид огранки  \n",
       "197  фацетный вид огранки  \n",
       "198  фацетный вид огранки  \n",
       "199  фацетный вид огранки  \n",
       "\n",
       "[200 rows x 8 columns]"
      ]
     },
     "execution_count": 83,
     "metadata": {},
     "output_type": "execute_result"
    }
   ],
   "source": [
    "pr_ruby_t"
   ]
  },
  {
   "cell_type": "code",
   "execution_count": 84,
   "id": "1e35eb71",
   "metadata": {},
   "outputs": [],
   "source": [
    "pr_ruby = pd.concat([pr_ruby_t,pr_ruby_n])"
   ]
  },
  {
   "cell_type": "code",
   "execution_count": 85,
   "id": "ea92f836",
   "metadata": {
    "scrolled": false
   },
   "outputs": [
    {
     "data": {
      "text/html": [
       "<div>\n",
       "<style scoped>\n",
       "    .dataframe tbody tr th:only-of-type {\n",
       "        vertical-align: middle;\n",
       "    }\n",
       "\n",
       "    .dataframe tbody tr th {\n",
       "        vertical-align: top;\n",
       "    }\n",
       "\n",
       "    .dataframe thead th {\n",
       "        text-align: right;\n",
       "    }\n",
       "</style>\n",
       "<table border=\"1\" class=\"dataframe\">\n",
       "  <thead>\n",
       "    <tr style=\"text-align: right;\">\n",
       "      <th></th>\n",
       "      <th>цвет</th>\n",
       "      <th>чистота</th>\n",
       "      <th>size</th>\n",
       "      <th>price</th>\n",
       "      <th>Обработка</th>\n",
       "      <th>ТУ</th>\n",
       "      <th>gemstone</th>\n",
       "      <th>Огранка</th>\n",
       "    </tr>\n",
       "  </thead>\n",
       "  <tbody>\n",
       "    <tr>\n",
       "      <th>0</th>\n",
       "      <td>1</td>\n",
       "      <td>1</td>\n",
       "      <td>До 0,09</td>\n",
       "      <td>180</td>\n",
       "      <td>термо</td>\n",
       "      <td>СТО 45866412-06-2008</td>\n",
       "      <td>РубинПТ</td>\n",
       "      <td>фацетный вид огранки</td>\n",
       "    </tr>\n",
       "    <tr>\n",
       "      <th>1</th>\n",
       "      <td>1</td>\n",
       "      <td>2</td>\n",
       "      <td>До 0,09</td>\n",
       "      <td>170</td>\n",
       "      <td>термо</td>\n",
       "      <td>СТО 45866412-06-2008</td>\n",
       "      <td>РубинПТ</td>\n",
       "      <td>фацетный вид огранки</td>\n",
       "    </tr>\n",
       "    <tr>\n",
       "      <th>2</th>\n",
       "      <td>1</td>\n",
       "      <td>3</td>\n",
       "      <td>До 0,09</td>\n",
       "      <td>160</td>\n",
       "      <td>термо</td>\n",
       "      <td>СТО 45866412-06-2008</td>\n",
       "      <td>РубинПТ</td>\n",
       "      <td>фацетный вид огранки</td>\n",
       "    </tr>\n",
       "    <tr>\n",
       "      <th>3</th>\n",
       "      <td>1</td>\n",
       "      <td>4</td>\n",
       "      <td>До 0,09</td>\n",
       "      <td>90</td>\n",
       "      <td>термо</td>\n",
       "      <td>СТО 45866412-06-2008</td>\n",
       "      <td>РубинПТ</td>\n",
       "      <td>фацетный вид огранки</td>\n",
       "    </tr>\n",
       "    <tr>\n",
       "      <th>4</th>\n",
       "      <td>1</td>\n",
       "      <td>5</td>\n",
       "      <td>До 0,09</td>\n",
       "      <td>85</td>\n",
       "      <td>термо</td>\n",
       "      <td>СТО 45866412-06-2008</td>\n",
       "      <td>РубинПТ</td>\n",
       "      <td>фацетный вид огранки</td>\n",
       "    </tr>\n",
       "    <tr>\n",
       "      <th>...</th>\n",
       "      <td>...</td>\n",
       "      <td>...</td>\n",
       "      <td>...</td>\n",
       "      <td>...</td>\n",
       "      <td>...</td>\n",
       "      <td>...</td>\n",
       "      <td>...</td>\n",
       "      <td>...</td>\n",
       "    </tr>\n",
       "    <tr>\n",
       "      <th>195</th>\n",
       "      <td>5</td>\n",
       "      <td>1</td>\n",
       "      <td>4,00-4,99</td>\n",
       "      <td>1950</td>\n",
       "      <td>необр</td>\n",
       "      <td>СТО 45866412-06-2008</td>\n",
       "      <td>РубинН</td>\n",
       "      <td>фацетный вид огранки</td>\n",
       "    </tr>\n",
       "    <tr>\n",
       "      <th>196</th>\n",
       "      <td>5</td>\n",
       "      <td>2</td>\n",
       "      <td>4,00-4,99</td>\n",
       "      <td>1750</td>\n",
       "      <td>необр</td>\n",
       "      <td>СТО 45866412-06-2008</td>\n",
       "      <td>РубинН</td>\n",
       "      <td>фацетный вид огранки</td>\n",
       "    </tr>\n",
       "    <tr>\n",
       "      <th>197</th>\n",
       "      <td>5</td>\n",
       "      <td>3</td>\n",
       "      <td>4,00-4,99</td>\n",
       "      <td>1450</td>\n",
       "      <td>необр</td>\n",
       "      <td>СТО 45866412-06-2008</td>\n",
       "      <td>РубинН</td>\n",
       "      <td>фацетный вид огранки</td>\n",
       "    </tr>\n",
       "    <tr>\n",
       "      <th>198</th>\n",
       "      <td>5</td>\n",
       "      <td>4</td>\n",
       "      <td>4,00-4,99</td>\n",
       "      <td>1100</td>\n",
       "      <td>необр</td>\n",
       "      <td>СТО 45866412-06-2008</td>\n",
       "      <td>РубинН</td>\n",
       "      <td>фацетный вид огранки</td>\n",
       "    </tr>\n",
       "    <tr>\n",
       "      <th>199</th>\n",
       "      <td>5</td>\n",
       "      <td>5</td>\n",
       "      <td>4,00-4,99</td>\n",
       "      <td>800</td>\n",
       "      <td>необр</td>\n",
       "      <td>СТО 45866412-06-2008</td>\n",
       "      <td>РубинН</td>\n",
       "      <td>фацетный вид огранки</td>\n",
       "    </tr>\n",
       "  </tbody>\n",
       "</table>\n",
       "<p>400 rows × 8 columns</p>\n",
       "</div>"
      ],
      "text/plain": [
       "     цвет  чистота       size  price Обработка                    ТУ gemstone  \\\n",
       "0       1        1    До 0,09    180     термо  СТО 45866412-06-2008  РубинПТ   \n",
       "1       1        2    До 0,09    170     термо  СТО 45866412-06-2008  РубинПТ   \n",
       "2       1        3    До 0,09    160     термо  СТО 45866412-06-2008  РубинПТ   \n",
       "3       1        4    До 0,09     90     термо  СТО 45866412-06-2008  РубинПТ   \n",
       "4       1        5    До 0,09     85     термо  СТО 45866412-06-2008  РубинПТ   \n",
       "..    ...      ...        ...    ...       ...                   ...      ...   \n",
       "195     5        1  4,00-4,99   1950     необр  СТО 45866412-06-2008   РубинН   \n",
       "196     5        2  4,00-4,99   1750     необр  СТО 45866412-06-2008   РубинН   \n",
       "197     5        3  4,00-4,99   1450     необр  СТО 45866412-06-2008   РубинН   \n",
       "198     5        4  4,00-4,99   1100     необр  СТО 45866412-06-2008   РубинН   \n",
       "199     5        5  4,00-4,99    800     необр  СТО 45866412-06-2008   РубинН   \n",
       "\n",
       "                  Огранка  \n",
       "0    фацетный вид огранки  \n",
       "1    фацетный вид огранки  \n",
       "2    фацетный вид огранки  \n",
       "3    фацетный вид огранки  \n",
       "4    фацетный вид огранки  \n",
       "..                    ...  \n",
       "195  фацетный вид огранки  \n",
       "196  фацетный вид огранки  \n",
       "197  фацетный вид огранки  \n",
       "198  фацетный вид огранки  \n",
       "199  фацетный вид огранки  \n",
       "\n",
       "[400 rows x 8 columns]"
      ]
     },
     "execution_count": 85,
     "metadata": {},
     "output_type": "execute_result"
    }
   ],
   "source": [
    "pr_ruby"
   ]
  },
  {
   "cell_type": "code",
   "execution_count": null,
   "id": "d7f2653b",
   "metadata": {},
   "outputs": [],
   "source": [
    "pr_ruby = pd.concat([pr_ruby_t,pr_ruby_n])"
   ]
  },
  {
   "cell_type": "markdown",
   "id": "3fcf923a",
   "metadata": {},
   "source": [
    "# Concat ruby sapphire"
   ]
  },
  {
   "cell_type": "code",
   "execution_count": 86,
   "id": "4822a712",
   "metadata": {},
   "outputs": [],
   "source": [
    "pr_ruby_sap = pd.concat([pr_ruby,pr_sap])"
   ]
  },
  {
   "cell_type": "code",
   "execution_count": 87,
   "id": "720eddaf",
   "metadata": {},
   "outputs": [
    {
     "data": {
      "text/html": [
       "<div>\n",
       "<style scoped>\n",
       "    .dataframe tbody tr th:only-of-type {\n",
       "        vertical-align: middle;\n",
       "    }\n",
       "\n",
       "    .dataframe tbody tr th {\n",
       "        vertical-align: top;\n",
       "    }\n",
       "\n",
       "    .dataframe thead th {\n",
       "        text-align: right;\n",
       "    }\n",
       "</style>\n",
       "<table border=\"1\" class=\"dataframe\">\n",
       "  <thead>\n",
       "    <tr style=\"text-align: right;\">\n",
       "      <th></th>\n",
       "      <th>цвет</th>\n",
       "      <th>чистота</th>\n",
       "      <th>size</th>\n",
       "      <th>price</th>\n",
       "      <th>Обработка</th>\n",
       "      <th>ТУ</th>\n",
       "      <th>gemstone</th>\n",
       "      <th>Огранка</th>\n",
       "    </tr>\n",
       "  </thead>\n",
       "  <tbody>\n",
       "    <tr>\n",
       "      <th>0</th>\n",
       "      <td>1</td>\n",
       "      <td>1</td>\n",
       "      <td>До 0,09</td>\n",
       "      <td>180</td>\n",
       "      <td>термо</td>\n",
       "      <td>СТО 45866412-06-2008</td>\n",
       "      <td>РубинПТ</td>\n",
       "      <td>фацетный вид огранки</td>\n",
       "    </tr>\n",
       "    <tr>\n",
       "      <th>1</th>\n",
       "      <td>1</td>\n",
       "      <td>2</td>\n",
       "      <td>До 0,09</td>\n",
       "      <td>170</td>\n",
       "      <td>термо</td>\n",
       "      <td>СТО 45866412-06-2008</td>\n",
       "      <td>РубинПТ</td>\n",
       "      <td>фацетный вид огранки</td>\n",
       "    </tr>\n",
       "    <tr>\n",
       "      <th>2</th>\n",
       "      <td>1</td>\n",
       "      <td>3</td>\n",
       "      <td>До 0,09</td>\n",
       "      <td>160</td>\n",
       "      <td>термо</td>\n",
       "      <td>СТО 45866412-06-2008</td>\n",
       "      <td>РубинПТ</td>\n",
       "      <td>фацетный вид огранки</td>\n",
       "    </tr>\n",
       "    <tr>\n",
       "      <th>3</th>\n",
       "      <td>1</td>\n",
       "      <td>4</td>\n",
       "      <td>До 0,09</td>\n",
       "      <td>90</td>\n",
       "      <td>термо</td>\n",
       "      <td>СТО 45866412-06-2008</td>\n",
       "      <td>РубинПТ</td>\n",
       "      <td>фацетный вид огранки</td>\n",
       "    </tr>\n",
       "    <tr>\n",
       "      <th>4</th>\n",
       "      <td>1</td>\n",
       "      <td>5</td>\n",
       "      <td>До 0,09</td>\n",
       "      <td>85</td>\n",
       "      <td>термо</td>\n",
       "      <td>СТО 45866412-06-2008</td>\n",
       "      <td>РубинПТ</td>\n",
       "      <td>фацетный вид огранки</td>\n",
       "    </tr>\n",
       "    <tr>\n",
       "      <th>...</th>\n",
       "      <td>...</td>\n",
       "      <td>...</td>\n",
       "      <td>...</td>\n",
       "      <td>...</td>\n",
       "      <td>...</td>\n",
       "      <td>...</td>\n",
       "      <td>...</td>\n",
       "      <td>...</td>\n",
       "    </tr>\n",
       "    <tr>\n",
       "      <th>195</th>\n",
       "      <td>5</td>\n",
       "      <td>1</td>\n",
       "      <td>4,00-4,99</td>\n",
       "      <td>1400</td>\n",
       "      <td>необр</td>\n",
       "      <td>СТО 45866412-05-2008</td>\n",
       "      <td>СапфирН</td>\n",
       "      <td>фацетный вид огранки</td>\n",
       "    </tr>\n",
       "    <tr>\n",
       "      <th>196</th>\n",
       "      <td>5</td>\n",
       "      <td>2</td>\n",
       "      <td>4,00-4,99</td>\n",
       "      <td>1200</td>\n",
       "      <td>необр</td>\n",
       "      <td>СТО 45866412-05-2008</td>\n",
       "      <td>СапфирН</td>\n",
       "      <td>фацетный вид огранки</td>\n",
       "    </tr>\n",
       "    <tr>\n",
       "      <th>197</th>\n",
       "      <td>5</td>\n",
       "      <td>3</td>\n",
       "      <td>4,00-4,99</td>\n",
       "      <td>1000</td>\n",
       "      <td>необр</td>\n",
       "      <td>СТО 45866412-05-2008</td>\n",
       "      <td>СапфирН</td>\n",
       "      <td>фацетный вид огранки</td>\n",
       "    </tr>\n",
       "    <tr>\n",
       "      <th>198</th>\n",
       "      <td>5</td>\n",
       "      <td>4</td>\n",
       "      <td>4,00-4,99</td>\n",
       "      <td>700</td>\n",
       "      <td>необр</td>\n",
       "      <td>СТО 45866412-05-2008</td>\n",
       "      <td>СапфирН</td>\n",
       "      <td>фацетный вид огранки</td>\n",
       "    </tr>\n",
       "    <tr>\n",
       "      <th>199</th>\n",
       "      <td>5</td>\n",
       "      <td>5</td>\n",
       "      <td>4,00-4,99</td>\n",
       "      <td>550</td>\n",
       "      <td>необр</td>\n",
       "      <td>СТО 45866412-05-2008</td>\n",
       "      <td>СапфирН</td>\n",
       "      <td>фацетный вид огранки</td>\n",
       "    </tr>\n",
       "  </tbody>\n",
       "</table>\n",
       "<p>800 rows × 8 columns</p>\n",
       "</div>"
      ],
      "text/plain": [
       "     цвет  чистота       size  price Обработка                    ТУ gemstone  \\\n",
       "0       1        1    До 0,09    180     термо  СТО 45866412-06-2008  РубинПТ   \n",
       "1       1        2    До 0,09    170     термо  СТО 45866412-06-2008  РубинПТ   \n",
       "2       1        3    До 0,09    160     термо  СТО 45866412-06-2008  РубинПТ   \n",
       "3       1        4    До 0,09     90     термо  СТО 45866412-06-2008  РубинПТ   \n",
       "4       1        5    До 0,09     85     термо  СТО 45866412-06-2008  РубинПТ   \n",
       "..    ...      ...        ...    ...       ...                   ...      ...   \n",
       "195     5        1  4,00-4,99   1400     необр  СТО 45866412-05-2008  СапфирН   \n",
       "196     5        2  4,00-4,99   1200     необр  СТО 45866412-05-2008  СапфирН   \n",
       "197     5        3  4,00-4,99   1000     необр  СТО 45866412-05-2008  СапфирН   \n",
       "198     5        4  4,00-4,99    700     необр  СТО 45866412-05-2008  СапфирН   \n",
       "199     5        5  4,00-4,99    550     необр  СТО 45866412-05-2008  СапфирН   \n",
       "\n",
       "                  Огранка  \n",
       "0    фацетный вид огранки  \n",
       "1    фацетный вид огранки  \n",
       "2    фацетный вид огранки  \n",
       "3    фацетный вид огранки  \n",
       "4    фацетный вид огранки  \n",
       "..                    ...  \n",
       "195  фацетный вид огранки  \n",
       "196  фацетный вид огранки  \n",
       "197  фацетный вид огранки  \n",
       "198  фацетный вид огранки  \n",
       "199  фацетный вид огранки  \n",
       "\n",
       "[800 rows x 8 columns]"
      ]
     },
     "execution_count": 87,
     "metadata": {},
     "output_type": "execute_result"
    }
   ],
   "source": [
    "pr_ruby_sap"
   ]
  },
  {
   "cell_type": "code",
   "execution_count": 89,
   "id": "afeb94b9",
   "metadata": {},
   "outputs": [],
   "source": [
    "pr_ruby_sap.to_excel('df_pr_sap_ruby_Прейскурант Рубины МинФин РФ  65 13-02-2020.xlsx', index=None)"
   ]
  },
  {
   "cell_type": "markdown",
   "id": "3721e222",
   "metadata": {},
   "source": [
    "## размерности sizes_ruby_sap_sto"
   ]
  },
  {
   "cell_type": "code",
   "execution_count": null,
   "id": "6a07e99e",
   "metadata": {},
   "outputs": [],
   "source": [
    "# ВНИМАНИЕ В ЕХСЕЛ исправил в размерности . -> ,"
   ]
  },
  {
   "cell_type": "code",
   "execution_count": 3,
   "id": "a103080b",
   "metadata": {},
   "outputs": [
    {
     "data": {
      "text/html": [
       "<div>\n",
       "<style scoped>\n",
       "    .dataframe tbody tr th:only-of-type {\n",
       "        vertical-align: middle;\n",
       "    }\n",
       "\n",
       "    .dataframe tbody tr th {\n",
       "        vertical-align: top;\n",
       "    }\n",
       "\n",
       "    .dataframe thead th {\n",
       "        text-align: right;\n",
       "    }\n",
       "</style>\n",
       "<table border=\"1\" class=\"dataframe\">\n",
       "  <thead>\n",
       "    <tr style=\"text-align: right;\">\n",
       "      <th></th>\n",
       "      <th>цвет</th>\n",
       "      <th>чистота</th>\n",
       "      <th>size</th>\n",
       "      <th>price</th>\n",
       "      <th>Обработка</th>\n",
       "      <th>ТУ</th>\n",
       "      <th>gemstone</th>\n",
       "      <th>Огранка</th>\n",
       "    </tr>\n",
       "  </thead>\n",
       "  <tbody>\n",
       "    <tr>\n",
       "      <th>0</th>\n",
       "      <td>1</td>\n",
       "      <td>1</td>\n",
       "      <td>До 0,09</td>\n",
       "      <td>180</td>\n",
       "      <td>термо</td>\n",
       "      <td>СТО 45866412-06-2008</td>\n",
       "      <td>РубинПТ</td>\n",
       "      <td>фацетный вид огранки</td>\n",
       "    </tr>\n",
       "    <tr>\n",
       "      <th>1</th>\n",
       "      <td>1</td>\n",
       "      <td>2</td>\n",
       "      <td>До 0,09</td>\n",
       "      <td>170</td>\n",
       "      <td>термо</td>\n",
       "      <td>СТО 45866412-06-2008</td>\n",
       "      <td>РубинПТ</td>\n",
       "      <td>фацетный вид огранки</td>\n",
       "    </tr>\n",
       "    <tr>\n",
       "      <th>2</th>\n",
       "      <td>1</td>\n",
       "      <td>3</td>\n",
       "      <td>До 0,09</td>\n",
       "      <td>160</td>\n",
       "      <td>термо</td>\n",
       "      <td>СТО 45866412-06-2008</td>\n",
       "      <td>РубинПТ</td>\n",
       "      <td>фацетный вид огранки</td>\n",
       "    </tr>\n",
       "    <tr>\n",
       "      <th>3</th>\n",
       "      <td>1</td>\n",
       "      <td>4</td>\n",
       "      <td>До 0,09</td>\n",
       "      <td>90</td>\n",
       "      <td>термо</td>\n",
       "      <td>СТО 45866412-06-2008</td>\n",
       "      <td>РубинПТ</td>\n",
       "      <td>фацетный вид огранки</td>\n",
       "    </tr>\n",
       "    <tr>\n",
       "      <th>4</th>\n",
       "      <td>1</td>\n",
       "      <td>5</td>\n",
       "      <td>До 0,09</td>\n",
       "      <td>85</td>\n",
       "      <td>термо</td>\n",
       "      <td>СТО 45866412-06-2008</td>\n",
       "      <td>РубинПТ</td>\n",
       "      <td>фацетный вид огранки</td>\n",
       "    </tr>\n",
       "    <tr>\n",
       "      <th>...</th>\n",
       "      <td>...</td>\n",
       "      <td>...</td>\n",
       "      <td>...</td>\n",
       "      <td>...</td>\n",
       "      <td>...</td>\n",
       "      <td>...</td>\n",
       "      <td>...</td>\n",
       "      <td>...</td>\n",
       "    </tr>\n",
       "    <tr>\n",
       "      <th>795</th>\n",
       "      <td>5</td>\n",
       "      <td>1</td>\n",
       "      <td>4,00-4,99</td>\n",
       "      <td>1400</td>\n",
       "      <td>необр</td>\n",
       "      <td>СТО 45866412-05-2008</td>\n",
       "      <td>СапфирН</td>\n",
       "      <td>фацетный вид огранки</td>\n",
       "    </tr>\n",
       "    <tr>\n",
       "      <th>796</th>\n",
       "      <td>5</td>\n",
       "      <td>2</td>\n",
       "      <td>4,00-4,99</td>\n",
       "      <td>1200</td>\n",
       "      <td>необр</td>\n",
       "      <td>СТО 45866412-05-2008</td>\n",
       "      <td>СапфирН</td>\n",
       "      <td>фацетный вид огранки</td>\n",
       "    </tr>\n",
       "    <tr>\n",
       "      <th>797</th>\n",
       "      <td>5</td>\n",
       "      <td>3</td>\n",
       "      <td>4,00-4,99</td>\n",
       "      <td>1000</td>\n",
       "      <td>необр</td>\n",
       "      <td>СТО 45866412-05-2008</td>\n",
       "      <td>СапфирН</td>\n",
       "      <td>фацетный вид огранки</td>\n",
       "    </tr>\n",
       "    <tr>\n",
       "      <th>798</th>\n",
       "      <td>5</td>\n",
       "      <td>4</td>\n",
       "      <td>4,00-4,99</td>\n",
       "      <td>700</td>\n",
       "      <td>необр</td>\n",
       "      <td>СТО 45866412-05-2008</td>\n",
       "      <td>СапфирН</td>\n",
       "      <td>фацетный вид огранки</td>\n",
       "    </tr>\n",
       "    <tr>\n",
       "      <th>799</th>\n",
       "      <td>5</td>\n",
       "      <td>5</td>\n",
       "      <td>4,00-4,99</td>\n",
       "      <td>550</td>\n",
       "      <td>необр</td>\n",
       "      <td>СТО 45866412-05-2008</td>\n",
       "      <td>СапфирН</td>\n",
       "      <td>фацетный вид огранки</td>\n",
       "    </tr>\n",
       "  </tbody>\n",
       "</table>\n",
       "<p>800 rows × 8 columns</p>\n",
       "</div>"
      ],
      "text/plain": [
       "     цвет  чистота       size  price Обработка                    ТУ gemstone  \\\n",
       "0       1        1    До 0,09    180     термо  СТО 45866412-06-2008  РубинПТ   \n",
       "1       1        2    До 0,09    170     термо  СТО 45866412-06-2008  РубинПТ   \n",
       "2       1        3    До 0,09    160     термо  СТО 45866412-06-2008  РубинПТ   \n",
       "3       1        4    До 0,09     90     термо  СТО 45866412-06-2008  РубинПТ   \n",
       "4       1        5    До 0,09     85     термо  СТО 45866412-06-2008  РубинПТ   \n",
       "..    ...      ...        ...    ...       ...                   ...      ...   \n",
       "795     5        1  4,00-4,99   1400     необр  СТО 45866412-05-2008  СапфирН   \n",
       "796     5        2  4,00-4,99   1200     необр  СТО 45866412-05-2008  СапфирН   \n",
       "797     5        3  4,00-4,99   1000     необр  СТО 45866412-05-2008  СапфирН   \n",
       "798     5        4  4,00-4,99    700     необр  СТО 45866412-05-2008  СапфирН   \n",
       "799     5        5  4,00-4,99    550     необр  СТО 45866412-05-2008  СапфирН   \n",
       "\n",
       "                  Огранка  \n",
       "0    фацетный вид огранки  \n",
       "1    фацетный вид огранки  \n",
       "2    фацетный вид огранки  \n",
       "3    фацетный вид огранки  \n",
       "4    фацетный вид огранки  \n",
       "..                    ...  \n",
       "795  фацетный вид огранки  \n",
       "796  фацетный вид огранки  \n",
       "797  фацетный вид огранки  \n",
       "798  фацетный вид огранки  \n",
       "799  фацетный вид огранки  \n",
       "\n",
       "[800 rows x 8 columns]"
      ]
     },
     "execution_count": 3,
     "metadata": {},
     "output_type": "execute_result"
    }
   ],
   "source": [
    "pd.read_excel('df_pr_sap_ruby_Прейскурант Рубины Сапфиры МинФин РФ  64 65 13-02-2020.xlsx')"
   ]
  },
  {
   "cell_type": "code",
   "execution_count": 4,
   "id": "90cb865f",
   "metadata": {},
   "outputs": [],
   "source": [
    "pr_ruby_sap = _"
   ]
  },
  {
   "cell_type": "code",
   "execution_count": 5,
   "id": "e70915c1",
   "metadata": {},
   "outputs": [],
   "source": [
    "sizes_ruby_sap = pr_ruby_sap[~pr_ruby_sap['size'].duplicated()][['size']]"
   ]
  },
  {
   "cell_type": "code",
   "execution_count": 9,
   "id": "626ce4d0",
   "metadata": {},
   "outputs": [],
   "source": [
    "sizes_ruby_sap['size_list'] = sizes_ruby_sap['size'].apply(lambda x: x.split('-'))"
   ]
  },
  {
   "cell_type": "code",
   "execution_count": 11,
   "id": "9274314b",
   "metadata": {},
   "outputs": [],
   "source": [
    "sizes_ruby_sap['low_grade'] = sizes_ruby_sap['size_list'].apply(lambda x: x[0].split()[0] if len(x)==1 else x[0])"
   ]
  },
  {
   "cell_type": "code",
   "execution_count": 13,
   "id": "7d5546c4",
   "metadata": {},
   "outputs": [],
   "source": [
    "sizes_ruby_sap['hi_grade'] = sizes_ruby_sap['size_list'].apply(lambda x: x[0].split()[1] if len(x)==1 else x[1])"
   ]
  },
  {
   "cell_type": "code",
   "execution_count": 15,
   "id": "a2574b16",
   "metadata": {},
   "outputs": [
    {
     "data": {
      "text/plain": [
       "hi_grade     object\n",
       "low_grade    object\n",
       "dtype: object"
      ]
     },
     "execution_count": 15,
     "metadata": {},
     "output_type": "execute_result"
    }
   ],
   "source": [
    "sizes_ruby_sap[['hi_grade','low_grade']].dtypes#str.replase(',','.')#astype('float')"
   ]
  },
  {
   "cell_type": "code",
   "execution_count": 16,
   "id": "9b27b67a",
   "metadata": {},
   "outputs": [],
   "source": [
    "sizes_ruby_sap['hi_grade'] = sizes_ruby_sap['hi_grade'].apply(lambda x: x.replace(',','.')).astype('float')"
   ]
  },
  {
   "cell_type": "code",
   "execution_count": 18,
   "id": "38def8a8",
   "metadata": {},
   "outputs": [],
   "source": [
    "sizes_ruby_sap['low_grade'] = sizes_ruby_sap['low_grade'].apply(lambda x: x.replace(',','.') if x!='До' else 0).astype('float')"
   ]
  },
  {
   "cell_type": "code",
   "execution_count": 19,
   "id": "38401272",
   "metadata": {},
   "outputs": [
    {
     "data": {
      "text/html": [
       "<div>\n",
       "<style scoped>\n",
       "    .dataframe tbody tr th:only-of-type {\n",
       "        vertical-align: middle;\n",
       "    }\n",
       "\n",
       "    .dataframe tbody tr th {\n",
       "        vertical-align: top;\n",
       "    }\n",
       "\n",
       "    .dataframe thead th {\n",
       "        text-align: right;\n",
       "    }\n",
       "</style>\n",
       "<table border=\"1\" class=\"dataframe\">\n",
       "  <thead>\n",
       "    <tr style=\"text-align: right;\">\n",
       "      <th></th>\n",
       "      <th>size</th>\n",
       "      <th>size_list</th>\n",
       "      <th>low_grade</th>\n",
       "      <th>hi_grade</th>\n",
       "    </tr>\n",
       "  </thead>\n",
       "  <tbody>\n",
       "    <tr>\n",
       "      <th>0</th>\n",
       "      <td>До 0,09</td>\n",
       "      <td>[До 0,09]</td>\n",
       "      <td>0.00</td>\n",
       "      <td>0.09</td>\n",
       "    </tr>\n",
       "    <tr>\n",
       "      <th>25</th>\n",
       "      <td>0,10-0,24</td>\n",
       "      <td>[0,10, 0,24]</td>\n",
       "      <td>0.10</td>\n",
       "      <td>0.24</td>\n",
       "    </tr>\n",
       "    <tr>\n",
       "      <th>50</th>\n",
       "      <td>0,25-0,49</td>\n",
       "      <td>[0,25, 0,49]</td>\n",
       "      <td>0.25</td>\n",
       "      <td>0.49</td>\n",
       "    </tr>\n",
       "    <tr>\n",
       "      <th>75</th>\n",
       "      <td>0,50-0,99</td>\n",
       "      <td>[0,50, 0,99]</td>\n",
       "      <td>0.50</td>\n",
       "      <td>0.99</td>\n",
       "    </tr>\n",
       "    <tr>\n",
       "      <th>100</th>\n",
       "      <td>1,00-1,99</td>\n",
       "      <td>[1,00, 1,99]</td>\n",
       "      <td>1.00</td>\n",
       "      <td>1.99</td>\n",
       "    </tr>\n",
       "    <tr>\n",
       "      <th>125</th>\n",
       "      <td>2,00-2,99</td>\n",
       "      <td>[2,00, 2,99]</td>\n",
       "      <td>2.00</td>\n",
       "      <td>2.99</td>\n",
       "    </tr>\n",
       "    <tr>\n",
       "      <th>150</th>\n",
       "      <td>3,00-3,99</td>\n",
       "      <td>[3,00, 3,99]</td>\n",
       "      <td>3.00</td>\n",
       "      <td>3.99</td>\n",
       "    </tr>\n",
       "    <tr>\n",
       "      <th>175</th>\n",
       "      <td>4,00-4,99</td>\n",
       "      <td>[4,00, 4,99]</td>\n",
       "      <td>4.00</td>\n",
       "      <td>4.99</td>\n",
       "    </tr>\n",
       "  </tbody>\n",
       "</table>\n",
       "</div>"
      ],
      "text/plain": [
       "          size     size_list  low_grade  hi_grade\n",
       "0      До 0,09     [До 0,09]       0.00      0.09\n",
       "25   0,10-0,24  [0,10, 0,24]       0.10      0.24\n",
       "50   0,25-0,49  [0,25, 0,49]       0.25      0.49\n",
       "75   0,50-0,99  [0,50, 0,99]       0.50      0.99\n",
       "100  1,00-1,99  [1,00, 1,99]       1.00      1.99\n",
       "125  2,00-2,99  [2,00, 2,99]       2.00      2.99\n",
       "150  3,00-3,99  [3,00, 3,99]       3.00      3.99\n",
       "175  4,00-4,99  [4,00, 4,99]       4.00      4.99"
      ]
     },
     "execution_count": 19,
     "metadata": {},
     "output_type": "execute_result"
    }
   ],
   "source": [
    "sizes_ruby_sap"
   ]
  },
  {
   "cell_type": "code",
   "execution_count": 20,
   "id": "93e20739",
   "metadata": {
    "scrolled": true
   },
   "outputs": [
    {
     "data": {
      "text/plain": [
       "size          object\n",
       "size_list     object\n",
       "low_grade    float64\n",
       "hi_grade     float64\n",
       "dtype: object"
      ]
     },
     "execution_count": 20,
     "metadata": {},
     "output_type": "execute_result"
    }
   ],
   "source": [
    "sizes_ruby_sap.dtypes"
   ]
  },
  {
   "cell_type": "code",
   "execution_count": 21,
   "id": "17022ee9",
   "metadata": {},
   "outputs": [
    {
     "data": {
      "text/plain": [
       "['22-08-25 Инструкция заполнение поля Вставки.xlsx',\n",
       " '~$22-08-25 Инструкция заполнение поля Вставки.xlsx',\n",
       " 'Прейскурант Изумруды МинФин РФ OCR.pdf',\n",
       " 'Прейскурант Рубины МинФин РФ OCR.pdf',\n",
       " 'Прейскурант Рубины МинФин РФ OCR.xlsx',\n",
       " 'Прейскурант Сапфиры МинФин РФ OCR.pdf',\n",
       " 'Прейскурант Сапфиры Рубины Диффузия Стекло МинФин РФ OCR.pdf',\n",
       " 'промежуточные',\n",
       " 'сапфир54-01-05-2019.pdf']"
      ]
     },
     "execution_count": 21,
     "metadata": {},
     "output_type": "execute_result"
    }
   ],
   "source": [
    "os.listdir('../')"
   ]
  },
  {
   "cell_type": "code",
   "execution_count": 22,
   "id": "80a08007",
   "metadata": {},
   "outputs": [],
   "source": [
    "sizes_ruby_sap.to_excel('../sizes_ruby_sap_sto.xlsx')"
   ]
  },
  {
   "cell_type": "markdown",
   "id": "5e1481e4",
   "metadata": {},
   "source": [
    "# DEL"
   ]
  },
  {
   "cell_type": "code",
   "execution_count": null,
   "id": "571b709d",
   "metadata": {},
   "outputs": [],
   "source": []
  },
  {
   "cell_type": "code",
   "execution_count": null,
   "id": "0f2587ba",
   "metadata": {},
   "outputs": [],
   "source": []
  }
 ],
 "metadata": {
  "kernelspec": {
   "display_name": "Python 3",
   "language": "python",
   "name": "python3"
  },
  "language_info": {
   "codemirror_mode": {
    "name": "ipython",
    "version": 3
   },
   "file_extension": ".py",
   "mimetype": "text/x-python",
   "name": "python",
   "nbconvert_exporter": "python",
   "pygments_lexer": "ipython3",
   "version": "3.8.8"
  },
  "toc": {
   "base_numbering": 1,
   "nav_menu": {},
   "number_sections": true,
   "sideBar": true,
   "skip_h1_title": false,
   "title_cell": "Table of Contents",
   "title_sidebar": "Contents",
   "toc_cell": false,
   "toc_position": {
    "height": "calc(100% - 180px)",
    "left": "10px",
    "top": "150px",
    "width": "460.15px"
   },
   "toc_section_display": true,
   "toc_window_display": true
  }
 },
 "nbformat": 4,
 "nbformat_minor": 5
}
