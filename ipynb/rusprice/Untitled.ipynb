{
 "cells": [
  {
   "cell_type": "code",
   "execution_count": 1,
   "id": "b9f402d1",
   "metadata": {},
   "outputs": [],
   "source": [
    "import numpy as np\n",
    "import pandas as pd\n",
    "import re\n",
    "import os"
   ]
  },
  {
   "cell_type": "code",
   "execution_count": 3,
   "id": "e27c1359",
   "metadata": {},
   "outputs": [],
   "source": [
    "carat_to_grp = pd.read_excel(\"D:/TNA/CARtoKVG.xlsx\", sheet_name= 3).iloc[:,0:3]\n",
    "carat_to_grp.columns = ['grp','caratmin','caratmax']"
   ]
  },
  {
   "cell_type": "code",
   "execution_count": 4,
   "id": "f6df1960",
   "metadata": {},
   "outputs": [
    {
     "data": {
      "text/html": [
       "<div>\n",
       "<style scoped>\n",
       "    .dataframe tbody tr th:only-of-type {\n",
       "        vertical-align: middle;\n",
       "    }\n",
       "\n",
       "    .dataframe tbody tr th {\n",
       "        vertical-align: top;\n",
       "    }\n",
       "\n",
       "    .dataframe thead th {\n",
       "        text-align: right;\n",
       "    }\n",
       "</style>\n",
       "<table border=\"1\" class=\"dataframe\">\n",
       "  <thead>\n",
       "    <tr style=\"text-align: right;\">\n",
       "      <th></th>\n",
       "      <th>grp</th>\n",
       "      <th>caratmin</th>\n",
       "      <th>caratmax</th>\n",
       "    </tr>\n",
       "  </thead>\n",
       "  <tbody>\n",
       "    <tr>\n",
       "      <th>0</th>\n",
       "      <td>400-200</td>\n",
       "      <td>0.00010</td>\n",
       "      <td>0.00499</td>\n",
       "    </tr>\n",
       "    <tr>\n",
       "      <th>1</th>\n",
       "      <td>200-120</td>\n",
       "      <td>0.00499</td>\n",
       "      <td>0.00799</td>\n",
       "    </tr>\n",
       "    <tr>\n",
       "      <th>2</th>\n",
       "      <td>120-90</td>\n",
       "      <td>0.00799</td>\n",
       "      <td>0.00999</td>\n",
       "    </tr>\n",
       "    <tr>\n",
       "      <th>3</th>\n",
       "      <td>90-60</td>\n",
       "      <td>0.00999</td>\n",
       "      <td>0.01499</td>\n",
       "    </tr>\n",
       "    <tr>\n",
       "      <th>4</th>\n",
       "      <td>60-40</td>\n",
       "      <td>0.01499</td>\n",
       "      <td>0.02499</td>\n",
       "    </tr>\n",
       "    <tr>\n",
       "      <th>...</th>\n",
       "      <td>...</td>\n",
       "      <td>...</td>\n",
       "      <td>...</td>\n",
       "    </tr>\n",
       "    <tr>\n",
       "      <th>202</th>\n",
       "      <td>46.00-46.24</td>\n",
       "      <td>46.00000</td>\n",
       "      <td>46.24999</td>\n",
       "    </tr>\n",
       "    <tr>\n",
       "      <th>203</th>\n",
       "      <td>46.25-46.49</td>\n",
       "      <td>46.25000</td>\n",
       "      <td>46.49999</td>\n",
       "    </tr>\n",
       "    <tr>\n",
       "      <th>204</th>\n",
       "      <td>46.50-46.74</td>\n",
       "      <td>46.50000</td>\n",
       "      <td>46.74999</td>\n",
       "    </tr>\n",
       "    <tr>\n",
       "      <th>205</th>\n",
       "      <td>46.75-46.99</td>\n",
       "      <td>46.75000</td>\n",
       "      <td>46.99999</td>\n",
       "    </tr>\n",
       "    <tr>\n",
       "      <th>206</th>\n",
       "      <td>60.00-69.99</td>\n",
       "      <td>60.00000</td>\n",
       "      <td>69.99999</td>\n",
       "    </tr>\n",
       "  </tbody>\n",
       "</table>\n",
       "<p>207 rows × 3 columns</p>\n",
       "</div>"
      ],
      "text/plain": [
       "             grp  caratmin  caratmax\n",
       "0        400-200   0.00010   0.00499\n",
       "1        200-120   0.00499   0.00799\n",
       "2         120-90   0.00799   0.00999\n",
       "3          90-60   0.00999   0.01499\n",
       "4          60-40   0.01499   0.02499\n",
       "..           ...       ...       ...\n",
       "202  46.00-46.24  46.00000  46.24999\n",
       "203  46.25-46.49  46.25000  46.49999\n",
       "204  46.50-46.74  46.50000  46.74999\n",
       "205  46.75-46.99  46.75000  46.99999\n",
       "206  60.00-69.99  60.00000  69.99999\n",
       "\n",
       "[207 rows x 3 columns]"
      ]
     },
     "execution_count": 4,
     "metadata": {},
     "output_type": "execute_result"
    }
   ],
   "source": [
    "carat_to_grp"
   ]
  },
  {
   "cell_type": "raw",
   "id": "3ddb7fde",
   "metadata": {},
   "source": []
  },
  {
   "cell_type": "code",
   "execution_count": null,
   "id": "c45fa2a6",
   "metadata": {},
   "outputs": [],
   "source": []
  }
 ],
 "metadata": {
  "kernelspec": {
   "display_name": "Python 3",
   "language": "python",
   "name": "python3"
  },
  "language_info": {
   "codemirror_mode": {
    "name": "ipython",
    "version": 3
   },
   "file_extension": ".py",
   "mimetype": "text/x-python",
   "name": "python",
   "nbconvert_exporter": "python",
   "pygments_lexer": "ipython3",
   "version": "3.8.8"
  },
  "toc": {
   "base_numbering": 1,
   "nav_menu": {},
   "number_sections": true,
   "sideBar": true,
   "skip_h1_title": false,
   "title_cell": "Table of Contents",
   "title_sidebar": "Contents",
   "toc_cell": false,
   "toc_position": {},
   "toc_section_display": true,
   "toc_window_display": false
  }
 },
 "nbformat": 4,
 "nbformat_minor": 5
}
