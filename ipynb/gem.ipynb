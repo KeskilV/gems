{
 "cells": [
  {
   "cell_type": "code",
   "execution_count": 1,
   "id": "4aa9f3f3",
   "metadata": {},
   "outputs": [],
   "source": [
    "#Для расчета прейскуранта бриллиантов\n",
    "# работает после кода 23-10-24_упрОбработка выгрузки 1С УТ ДК использование коррекцию вставок 1-5 род_корр штрихкод.ipynb\n",
    "## на входе данные - for_script24-10-2023\\выгрузка15-10-2023_все_склады_ДК_24-10-2023_17-57.xlsx\n",
    "#\n",
    "#описание - C:\\Users\\специалист ао\\mypandas\\work\\2023\\23-09-ХХ Переоценка ДК магазины выст\\ReadMe2023-10-18.docx"
   ]
  },
  {
   "cell_type": "code",
   "execution_count": 1,
   "id": "fada1cab",
   "metadata": {},
   "outputs": [
    {
     "data": {
      "text/plain": [
       "'10-11-2023_18-49'"
      ]
     },
     "execution_count": 1,
     "metadata": {},
     "output_type": "execute_result"
    }
   ],
   "source": [
    "import datetime\n",
    "datetime.datetime.now().strftime('%d-%m-%Y_%H-%M')"
   ]
  },
  {
   "cell_type": "code",
   "execution_count": null,
   "id": "226b47e0",
   "metadata": {},
   "outputs": [],
   "source": []
  },
  {
   "cell_type": "code",
   "execution_count": null,
   "id": "506d7963",
   "metadata": {},
   "outputs": [],
   "source": []
  },
  {
   "cell_type": "markdown",
   "id": "d0a55769",
   "metadata": {},
   "source": [
    "# imports"
   ]
  },
  {
   "cell_type": "code",
   "execution_count": 821,
   "id": "3a0da704",
   "metadata": {},
   "outputs": [],
   "source": [
    "import numpy as np\n",
    "import pandas as pd\n",
    "import re\n",
    "import os\n",
    "import importlib"
   ]
  },
  {
   "cell_type": "code",
   "execution_count": 822,
   "id": "6b6443d7",
   "metadata": {},
   "outputs": [],
   "source": [
    "import module_prgem.dictemeralds as mprgem"
   ]
  },
  {
   "cell_type": "code",
   "execution_count": 823,
   "id": "663b4dfb",
   "metadata": {},
   "outputs": [],
   "source": [
    "import module_prgem.price_em as price_em"
   ]
  },
  {
   "cell_type": "code",
   "execution_count": 824,
   "id": "f9f457cc",
   "metadata": {
    "scrolled": true
   },
   "outputs": [
    {
     "data": {
      "text/plain": [
       "<module 'module_prgem.dictemeralds' from 'C:\\\\Users\\\\diva0\\\\work\\\\KDM2023\\\\gems\\\\ipynb\\\\module_prgem\\\\dictemeralds.py'>"
      ]
     },
     "execution_count": 824,
     "metadata": {},
     "output_type": "execute_result"
    }
   ],
   "source": [
    "importlib.reload(mprgem)#, dcla_em_sto dcol_em_sto"
   ]
  },
  {
   "cell_type": "code",
   "execution_count": 887,
   "id": "e5b27321",
   "metadata": {},
   "outputs": [
    {
     "data": {
      "text/plain": [
       "<module 'module_prgem.price_em' from 'C:\\\\Users\\\\diva0\\\\work\\\\KDM2023\\\\gems\\\\ipynb\\\\module_prgem\\\\price_em.py'>"
      ]
     },
     "execution_count": 887,
     "metadata": {},
     "output_type": "execute_result"
    }
   ],
   "source": [
    "importlib.reload(price_em)"
   ]
  },
  {
   "cell_type": "code",
   "execution_count": 888,
   "id": "70ee13bc",
   "metadata": {},
   "outputs": [
    {
     "data": {
      "text/plain": [
       "[('5', 'ИзумрудПМ', '0,250', 'НРОКр', '3/Г1'),\n",
       " ('3', 'ИзумрудПМ', '1,500', 'НРОГ', '3/Г3')]"
      ]
     },
     "execution_count": 888,
     "metadata": {},
     "output_type": "execute_result"
    }
   ],
   "source": [
    "price_em.vst2list('5ИзумрудПМ-0,250-НРОКр+3/Г1 3ИзумрудПМ-1,500-НРОГ+3/Г3 14Кр57-0,180-4/4А')"
   ]
  },
  {
   "cell_type": "code",
   "execution_count": 889,
   "id": "f287d9f9",
   "metadata": {},
   "outputs": [
    {
     "data": {
      "text/plain": [
       "(1.75, 217.5, '150-120-', ['до 0,09', '0,50-0,74'], 'C ok;Q ok;PCS ok;')"
      ]
     },
     "execution_count": 889,
     "metadata": {},
     "output_type": "execute_result"
    }
   ],
   "source": [
    "price_em.check_vstlist(_)"
   ]
  },
  {
   "cell_type": "code",
   "execution_count": null,
   "id": "d00de2ec",
   "metadata": {},
   "outputs": [],
   "source": []
  },
  {
   "cell_type": "code",
   "execution_count": 891,
   "id": "de6ec133",
   "metadata": {},
   "outputs": [
    {
     "data": {
      "text/plain": [
       "['df_gems.xlsx',\n",
       " 'pr_emeralds_173_20-04-2023.xlsx',\n",
       " '~$pr_emeralds_173_20-04-2023.xlsx',\n",
       " '~$пром_рез_изумр_проверка_по.xlsx',\n",
       " 'пром_рез_изумр_проверка_по.xlsx',\n",
       " 'ТестЦВДК.xlsx']"
      ]
     },
     "execution_count": 891,
     "metadata": {},
     "output_type": "execute_result"
    }
   ],
   "source": [
    "os.listdir('../ЦВДК/')"
   ]
  },
  {
   "cell_type": "markdown",
   "id": "1b6000cb",
   "metadata": {},
   "source": [
    "# Загрузка"
   ]
  },
  {
   "cell_type": "markdown",
   "id": "b4470e27",
   "metadata": {},
   "source": [
    "## Дальше"
   ]
  },
  {
   "cell_type": "code",
   "execution_count": 892,
   "id": "18e619fa",
   "metadata": {},
   "outputs": [],
   "source": [
    "df_gems = pd.read_excel('../ЦВДК/df_gems.xlsx')"
   ]
  },
  {
   "cell_type": "code",
   "execution_count": 890,
   "id": "1352350d",
   "metadata": {},
   "outputs": [
    {
     "ename": "NameError",
     "evalue": "name 'df_gems' is not defined",
     "output_type": "error",
     "traceback": [
      "\u001b[1;31m---------------------------------------------------------------------------\u001b[0m",
      "\u001b[1;31mNameError\u001b[0m                                 Traceback (most recent call last)",
      "Cell \u001b[1;32mIn[890], line 1\u001b[0m\n\u001b[1;32m----> 1\u001b[0m \u001b[43mdf_gems\u001b[49m\u001b[38;5;241m.\u001b[39mcolumns\n",
      "\u001b[1;31mNameError\u001b[0m: name 'df_gems' is not defined"
     ]
    }
   ],
   "source": [
    "df_gems.columns"
   ]
  },
  {
   "cell_type": "code",
   "execution_count": 11,
   "id": "c946e095",
   "metadata": {},
   "outputs": [],
   "source": [
    "df_gems.rename(columns={'Вставки: корректировка\\n(по умолчанию стоят данные из базового файла 23-01-01 Сводка)'\\\n",
    "                   :'Вставки_д28'}, inplace=True)"
   ]
  },
  {
   "cell_type": "code",
   "execution_count": 15,
   "id": "4d5b26a2",
   "metadata": {},
   "outputs": [],
   "source": [
    "df_vst=df_gems[~df_gems['Вставки_д28'].isna()][['Код','Вставки_д28']].copy(deep=True)"
   ]
  },
  {
   "cell_type": "code",
   "execution_count": 65,
   "id": "7880fbce",
   "metadata": {},
   "outputs": [
    {
     "data": {
      "text/plain": [
       "array(['Гранат Фианит', 'Хромдиопсид Фианит', 'ТопазГ Фианит', ...,\n",
       "       'Фианит Цирконий', 'Жемчуг Раухтопаз', 'Аметист Цирконий'],\n",
       "      dtype=object)"
      ]
     },
     "execution_count": 65,
     "metadata": {},
     "output_type": "execute_result"
    }
   ],
   "source": [
    "df_vst['Вставки_д28'].unique()"
   ]
  },
  {
   "cell_type": "code",
   "execution_count": 66,
   "id": "f1f1dcfb",
   "metadata": {},
   "outputs": [
    {
     "data": {
      "text/plain": [
       "21874"
      ]
     },
     "execution_count": 66,
     "metadata": {},
     "output_type": "execute_result"
    }
   ],
   "source": [
    "len(_)"
   ]
  },
  {
   "cell_type": "markdown",
   "id": "8a08d2a9",
   "metadata": {},
   "source": [
    "## Наличие в ДК"
   ]
  },
  {
   "cell_type": "code",
   "execution_count": 68,
   "id": "09104d94",
   "metadata": {},
   "outputs": [],
   "source": [
    "df_15_10_2023 = pd.read_excel('../from_pereozenka/for_script07-11-2023/выгрузка15-10-2023_все_склады_ДК__08-11-2023_14-25_res_pr.xlsx')"
   ]
  },
  {
   "cell_type": "code",
   "execution_count": 69,
   "id": "87eab2f7",
   "metadata": {},
   "outputs": [
    {
     "data": {
      "text/plain": [
       "Index(['Unnamed: 0', 'Код', 'Старый код (Справочник \"Номенклатура\" (Общие))',\n",
       "       'Склад', 'Склад.Склад / Магазин',\n",
       "       'Вставки (Справочник \"Номенклатура\" (Общие))', 'Вид номенклатуры',\n",
       "       'Тип номенклатуры', 'Номенклатура', 'Группа',\n",
       "       'Заводской номер (Справочник \"Номенклатура\" (Общие))',\n",
       "       'Проба (Справочник \"Номенклатура\" (Общие))',\n",
       "       'Цвет металла (Справочник \"Номенклатура\" (Общие))',\n",
       "       'Дизайн (Справочник \"Номенклатура\" (Общие))', 'Артикул ',\n",
       "       'Размерная группа Центрального камня (Справочник \"Номенклатура\" (Общие))',\n",
       "       'Цвет Центрального Камня (Справочник \"Номенклатура\" (Общие))',\n",
       "       'Чистота Центрального Камня (Справочник \"Номенклатура\" (Общие))',\n",
       "       'Размер (Справочник \"Номенклатура\" (Общие))', 'Наименование для печати',\n",
       "       'Единица измерения веса',\n",
       "       'Вес Вставок ПДК (Карат) (Справочник \"Номенклатура\" (Общие))',\n",
       "       'Кол-во ДК (Справочник \"Номенклатура\" (Общие))',\n",
       "       'Вес Вставок ДК (Карат) (Справочник \"Номенклатура\" (Общие))', 'Группы',\n",
       "       'родитель1_1c', 'родитель2_1c', 'родитель3_1c', 'родитель4_1c',\n",
       "       'родитель5_1c', 'Количество конечный остаток', 'Конечный остаток вес',\n",
       "       'розничная стоимость', 'закупочная стоимость', 'Штрихкод',\n",
       "       'Вставки корректировка', 'дата корректировки вставки',\n",
       "       'корректировка вставки была', 'Источник корректировки', 'Родитель1корр',\n",
       "       'Родитель2корр', 'Родитель3корр', 'Родитель4корр', 'Родитель5корр',\n",
       "       'Code', 'vs_dict', 'ШТУК', 'КАРАТ', 'prcost',\n",
       "       'инф для не сработал прейскурант'],\n",
       "      dtype='object')"
      ]
     },
     "execution_count": 69,
     "metadata": {},
     "output_type": "execute_result"
    }
   ],
   "source": [
    "df_15_10_2023.columns"
   ]
  },
  {
   "cell_type": "markdown",
   "id": "8fcaef26",
   "metadata": {},
   "source": [
    "## merge актуальный остаток на 15-10-2023"
   ]
  },
  {
   "cell_type": "code",
   "execution_count": 70,
   "id": "44e34564",
   "metadata": {},
   "outputs": [
    {
     "name": "stdout",
     "output_type": "stream",
     "text": [
      "<class 'pandas.core.series.Series'>\n",
      "RangeIndex: 34269 entries, 0 to 34268\n",
      "Series name: Вставки корректировка\n",
      "Non-Null Count  Dtype \n",
      "--------------  ----- \n",
      "34269 non-null  object\n",
      "dtypes: object(1)\n",
      "memory usage: 267.9+ KB\n"
     ]
    }
   ],
   "source": [
    "df_15_10_2023['Вставки корректировка'].info()"
   ]
  },
  {
   "cell_type": "code",
   "execution_count": 73,
   "id": "596ccea8",
   "metadata": {},
   "outputs": [],
   "source": [
    "df_vst_15102023 = pd.merge(left=df_15_10_2023['Код'], right=df_vst,\n",
    "         how='left')"
   ]
  },
  {
   "cell_type": "markdown",
   "id": "a44f0941",
   "metadata": {},
   "source": [
    "# Emeralds"
   ]
  },
  {
   "cell_type": "code",
   "execution_count": null,
   "id": "75e563e6",
   "metadata": {},
   "outputs": [],
   "source": [
    "#05-07-2022\n",
    "patternDtest = r\"\"\"(?ix)(?P<N>\\d*)[-_\\s]*(?P<Form>[A-яA-z.]+[-\\s]?\\d*)[\\s-]+    # штуки огранка\n",
    "               (?P<Carat>\\d\\d?[.,]?\\d*)[\\s-]+                                 # карат\n",
    "               (?P<ColQ>\\d+[.-]?\\d?[ /]+(?:7[aAаА]|\\d\\d?))[\\s-]*           # ц/д\n",
    "               (?P<PO>[aAаАбБвВгГbB]+)                                     # по\"\"\"\n",
    "\n",
    "patternG3 = r'''(?ix)(\\d*[-_\\s]*[A-яA-z]{3,15}[\\s-]+\\d[.,]?\\d*[\\s-]+ \\d\\d?[ /]+\\d\\d?\n",
    "                      | \\d*[-_\\s]*[A-яA-z]{3,15}[\\s-]+\\d{0,2}[.,]?\\d{0,3}[\\s-]+ [\\d\\w]{0,4}[ /]+[\\d\\w]{0,4}\\s\n",
    "                      |  \\d{0,2}[-_\\s]{0,2}[A-яA-z]{3,15}[\\s-]?(?:\\d{1,2}[.,]+\\d{1,3})?)'''\n",
    "\n",
    "pattern_g =  r\"\"\"(?ix)(?P<N>\\d*)\n",
    "               (?P<Gem>[A-яA-z.]+)[-]?# штуки gem\n",
    "               (?P<Carat>\\d\\d?[.,]?\\d*)[\\s-]+                                 # карат\n",
    "               (?P<Form>[A-яA-z.]+[+]?\\d*)[\\s-]+    \n",
    "               (?P<ColQ>\\d+[.-]?\\d?[ /]+(?:7[aAаА]|\\d\\d?))\"\"\"\n",
    "               \n",
    "\n",
    "pattern_g =  r\"\"\"(?ix)(?P<N>\\d*)\n",
    "               (?P<Gem>[A-яA-z.]{4,10})[-]?# штуки gem\n",
    "               (?P<Carat>\\d\\d?[.,]?\\d*)[\\s-]+                                 # карат\n",
    "               (?P<Form>[A-яA-z.]{1,5})[+\\s-]+ \n",
    "               (?P<ColQ>\\d+[ /]+(?:[Гг]|\\d\\d?))\n",
    "               \"\"\"\n",
    "\n",
    "vst = '2СапфирПТ-1,540-Кв+2/2 18КР57-0,145-6/6А 2КР57-0,016-4/5А'\n",
    "\n",
    "\n",
    "re.findall(pattern_g, vst )"
   ]
  },
  {
   "cell_type": "code",
   "execution_count": 95,
   "id": "f540bd16",
   "metadata": {},
   "outputs": [
    {
     "data": {
      "text/html": [
       "<div>\n",
       "<style scoped>\n",
       "    .dataframe tbody tr th:only-of-type {\n",
       "        vertical-align: middle;\n",
       "    }\n",
       "\n",
       "    .dataframe tbody tr th {\n",
       "        vertical-align: top;\n",
       "    }\n",
       "\n",
       "    .dataframe thead th {\n",
       "        text-align: right;\n",
       "    }\n",
       "</style>\n",
       "<table border=\"1\" class=\"dataframe\">\n",
       "  <thead>\n",
       "    <tr style=\"text-align: right;\">\n",
       "      <th></th>\n",
       "      <th>Код</th>\n",
       "      <th>Вставки_д28</th>\n",
       "      <th>emeralds</th>\n",
       "    </tr>\n",
       "  </thead>\n",
       "  <tbody>\n",
       "    <tr>\n",
       "      <th>0</th>\n",
       "      <td>ЦБ-00200503</td>\n",
       "      <td>45КР57-0,520-4/5А</td>\n",
       "      <td>NaN</td>\n",
       "    </tr>\n",
       "    <tr>\n",
       "      <th>1</th>\n",
       "      <td>ЦБ-00002854</td>\n",
       "      <td>2Кр57-0,083-2/2А 4Кр57-0,084-2/2А 6Кр57-0,280-...</td>\n",
       "      <td>NaN</td>\n",
       "    </tr>\n",
       "    <tr>\n",
       "      <th>2</th>\n",
       "      <td>ЦБ-00019951</td>\n",
       "      <td>1Кр57-0,086-4/5А</td>\n",
       "      <td>NaN</td>\n",
       "    </tr>\n",
       "    <tr>\n",
       "      <th>3</th>\n",
       "      <td>ЦБ-00019953</td>\n",
       "      <td>3Кр57-0,06-4/5А</td>\n",
       "      <td>NaN</td>\n",
       "    </tr>\n",
       "    <tr>\n",
       "      <th>4</th>\n",
       "      <td>ЦБ-00111074</td>\n",
       "      <td>1Кр57-0,050-4/5А 1Кр57-0,031-6/6А 1Кр57-0,014-...</td>\n",
       "      <td>NaN</td>\n",
       "    </tr>\n",
       "    <tr>\n",
       "      <th>...</th>\n",
       "      <td>...</td>\n",
       "      <td>...</td>\n",
       "      <td>...</td>\n",
       "    </tr>\n",
       "    <tr>\n",
       "      <th>34264</th>\n",
       "      <td>ЦБ-00182016</td>\n",
       "      <td>СапфирВ 6КР57-0,080-3/4А</td>\n",
       "      <td>NaN</td>\n",
       "    </tr>\n",
       "    <tr>\n",
       "      <th>34265</th>\n",
       "      <td>ЦБ-00182017</td>\n",
       "      <td>СапфирВ 6КР57-0,080-3/4А</td>\n",
       "      <td>NaN</td>\n",
       "    </tr>\n",
       "    <tr>\n",
       "      <th>34266</th>\n",
       "      <td>ЦБ-00182019</td>\n",
       "      <td>ИзумрудВ 4КР57-0,040-2/3А</td>\n",
       "      <td>NaN</td>\n",
       "    </tr>\n",
       "    <tr>\n",
       "      <th>34267</th>\n",
       "      <td>ЦБ-00182020</td>\n",
       "      <td>ИзумрудВ 4КР57-0,040-2/3А</td>\n",
       "      <td>NaN</td>\n",
       "    </tr>\n",
       "    <tr>\n",
       "      <th>34268</th>\n",
       "      <td>ЦБ-00182021</td>\n",
       "      <td>ИзумрудВ 4КР57-0,040-2/3А</td>\n",
       "      <td>NaN</td>\n",
       "    </tr>\n",
       "  </tbody>\n",
       "</table>\n",
       "<p>34269 rows × 3 columns</p>\n",
       "</div>"
      ],
      "text/plain": [
       "               Код                                        Вставки_д28 emeralds\n",
       "0      ЦБ-00200503                                  45КР57-0,520-4/5А      NaN\n",
       "1      ЦБ-00002854  2Кр57-0,083-2/2А 4Кр57-0,084-2/2А 6Кр57-0,280-...      NaN\n",
       "2      ЦБ-00019951                                   1Кр57-0,086-4/5А      NaN\n",
       "3      ЦБ-00019953                                    3Кр57-0,06-4/5А      NaN\n",
       "4      ЦБ-00111074  1Кр57-0,050-4/5А 1Кр57-0,031-6/6А 1Кр57-0,014-...      NaN\n",
       "...            ...                                                ...      ...\n",
       "34264  ЦБ-00182016                           СапфирВ 6КР57-0,080-3/4А      NaN\n",
       "34265  ЦБ-00182017                           СапфирВ 6КР57-0,080-3/4А      NaN\n",
       "34266  ЦБ-00182019                          ИзумрудВ 4КР57-0,040-2/3А      NaN\n",
       "34267  ЦБ-00182020                          ИзумрудВ 4КР57-0,040-2/3А      NaN\n",
       "34268  ЦБ-00182021                          ИзумрудВ 4КР57-0,040-2/3А      NaN\n",
       "\n",
       "[34269 rows x 3 columns]"
      ]
     },
     "execution_count": 95,
     "metadata": {},
     "output_type": "execute_result"
    }
   ],
   "source": [
    "df_vst_15102023"
   ]
  },
  {
   "cell_type": "code",
   "execution_count": null,
   "id": "76878d4c",
   "metadata": {},
   "outputs": [],
   "source": []
  },
  {
   "cell_type": "markdown",
   "id": "e2c2af9a",
   "metadata": {},
   "source": [
    "# df"
   ]
  },
  {
   "cell_type": "code",
   "execution_count": 321,
   "id": "640307e8",
   "metadata": {},
   "outputs": [],
   "source": [
    "# на входе текст\n",
    "t1 = '5ИзумрудПМ-0,250-НРОКр+3/Г3 3ИзумрудПМ-1,500-НРОГ+3/Г3 14Кр57-0,180-4/4А'\n",
    "t2 = '1изумрудпм-0,356-нроов+3/г3 18кр57-0,125-2/5а'"
   ]
  },
  {
   "cell_type": "code",
   "execution_count": 331,
   "id": "1a54addf",
   "metadata": {
    "code_folding": []
   },
   "outputs": [],
   "source": [
    "def vst2list(t):\n",
    "    pattern_em =  r\"\"\"(?ix)(?P<N>\\d{,3})# штуки \n",
    "               (?P<Gem>изумру[A-яA-z.]{1,5})[-]+#gem\n",
    "               (?P<Carat>\\d\\d?[.,]?\\d*)[\\s-]+                                 # карат\n",
    "               (?P<Form>[A-яA-z.\\d-]{1,10})[+]+#[+\\s-]+ \n",
    "               (?P<ColQ>\\d+[ /]+(?:\\d*[ГгКкKk]*\\d*))\"\"\"\n",
    "    res = re.findall(pattern_em, t )\n",
    "    return res if len(res)!=0 else np.nan "
   ]
  },
  {
   "cell_type": "code",
   "execution_count": null,
   "id": "66279c40",
   "metadata": {},
   "outputs": [],
   "source": []
  },
  {
   "cell_type": "code",
   "execution_count": null,
   "id": "0e513c8c",
   "metadata": {},
   "outputs": [],
   "source": []
  },
  {
   "cell_type": "markdown",
   "id": "2906edb9",
   "metadata": {},
   "source": [
    "## разработка def check_vstlist"
   ]
  },
  {
   "cell_type": "code",
   "execution_count": 841,
   "id": "ce4ebeb4",
   "metadata": {},
   "outputs": [],
   "source": [
    "from module_prgem.dictemeralds import dcla_em_sto, dcol_em_sto\n"
   ]
  },
  {
   "cell_type": "code",
   "execution_count": 867,
   "id": "00a52f49",
   "metadata": {},
   "outputs": [
    {
     "data": {
      "text/plain": [
       "ТУ           object\n",
       "Обработка    object\n",
       "Огранка      object\n",
       "цвет         object\n",
       "чистота      object\n",
       "size         object\n",
       "price         int64\n",
       "dtype: object"
      ]
     },
     "execution_count": 867,
     "metadata": {},
     "output_type": "execute_result"
    }
   ],
   "source": [
    "pr_em_sto.dtypes"
   ]
  },
  {
   "cell_type": "code",
   "execution_count": null,
   "id": "ba0ae55e",
   "metadata": {},
   "outputs": [],
   "source": []
  },
  {
   "cell_type": "code",
   "execution_count": 866,
   "id": "a59dda87",
   "metadata": {},
   "outputs": [],
   "source": [
    "sizes_g = pd.read_excel('module_prgem/size_em_sto.xlsx')\n",
    "pr_em_sto = pd.read_excel('module_prgem/df_pr_emeralds_sto_173_20-04-2023.xlsx', dtype={'цвет':'str'})"
   ]
  },
  {
   "cell_type": "code",
   "execution_count": 877,
   "id": "148cbc5b",
   "metadata": {},
   "outputs": [],
   "source": [
    "\n",
    "sizes_g = pd.read_excel('module_prgem/size_em_sto.xlsx')\n",
    "pr_em_sto = pd.read_excel('module_prgem/df_pr_emeralds_sto_173_20-04-2023.xlsx', dtype={'цвет':'str'})\n",
    "\n",
    "def size_em_sto(q,carat_1):\n",
    "    '''функция для определения размерной группы изумруда по сто в зависимоти кабашон или фацет огранка\n",
    "   q - качество, carat_1'''   \n",
    "    if q not in dcla_em_sto.values():\n",
    "        return 'error_size_em_sto: q not in dcla_em_sto'\n",
    "    \n",
    "    if q.__contains__('Г'):\n",
    "        sizex = sizes_g[sizes_g['Огранка']=='фацетный вид огранки']\n",
    "    else:\n",
    "        sizex = sizes_g[sizes_g['Огранка']=='кобашенный вид огранки']\n",
    "            \n",
    "    return sizex[(sizex.low_grade<=carat_1)].sort_values('low_grade').iloc[-1,0]\n",
    "                        \n",
    "def check_vstlist(l):\n",
    "    '''функция для определения размерной группы изумруда по сто в зависимотс кабашон или фацет огранка\n",
    "   q - качество, carat_1'''                           \n",
    "    #проверка на пусто или []\n",
    "    if l is np.nan or len(l)==0:\n",
    "        return np.nan\n",
    "    #создать внутренний dfx\n",
    "    dfx = pd.DataFrame({'vstlist':l})\n",
    "    cols = [\"PCS\",\"GEM\",\"CARAT\", \"FORM\", \"CQ\"]\n",
    "    for c in range(len(cols)):\n",
    "        dfx[cols[c]] = dfx.vstlist.apply(lambda x: x[c].lower().strip())\n",
    "    dfx['C'] = dfx['CQ'].apply(lambda x: x.split('/')[0].lower().strip())\n",
    "    dfx['Q'] = dfx['CQ'].apply(lambda x: x.split('/')[1].lower().strip())\n",
    "    \n",
    "    \n",
    "    #пустить проверки по словарям\n",
    "    report = ''\n",
    "    report += 'C ok;' if dfx['C'].apply(lambda x: x in dcol_em_sto).all() \\\n",
    "                      else 'C error;'\n",
    "    report+='Q ok;' if dfx['Q'].apply(lambda x: x in dcla_em_sto).all()\\\n",
    "                      else 'Q error;'\n",
    "    report+='PCS ok;' if dfx['PCS'].apply(lambda x: x!='').all()\\\n",
    "                      else 'PCS error;'\n",
    "    #масса за камень\n",
    "    try:\n",
    "        dfx['PCS'] = dfx['PCS'].astype('int')\n",
    "        dfx['CARAT'] = dfx['CARAT'].str.replace(',','.').astype('float')\n",
    "        dfx['PCS'] = dfx['PCS'].astype('int')\n",
    "        dfx['C'] = dfx['C'].map(dcol_em_sto)\n",
    "        dfx['Q'] = dfx['Q'].map(dcla_em_sto)\n",
    "        dfx['CARAT_1'] = dfx['CARAT']/dfx['PCS']\n",
    "        dfx['size'] = dfx.apply(lambda x:size_em_sto(x['Q'],x['CARAT_1']),axis=1)\n",
    "        dfx = pd.merge(left=dfx, right=pr_em_sto,\n",
    "            how='left', \n",
    "            left_on=['size', 'C', 'Q',],\n",
    "            right_on=['size','цвет', 'чистота'])\n",
    "        dfx['prcost'] = dfx['CARAT']*dfx['price']\n",
    "\n",
    "    except:\n",
    "        return 'except; '+report\n",
    "\n",
    "    \n",
    "    return dfx['CARAT'].sum(),dfx['prcost'].sum(),dfx['price'].astype('str').sum(),list(dfx['size']),len(pr_em_sto), report"
   ]
  },
  {
   "cell_type": "code",
   "execution_count": null,
   "id": "c2154f8d",
   "metadata": {},
   "outputs": [],
   "source": []
  },
  {
   "cell_type": "code",
   "execution_count": null,
   "id": "d81975fd",
   "metadata": {},
   "outputs": [],
   "source": []
  },
  {
   "cell_type": "code",
   "execution_count": null,
   "id": "103def78",
   "metadata": {},
   "outputs": [],
   "source": [
    "\n",
    "\n",
    "\n",
    "\n",
    "\n",
    "\n",
    "#to def\n",
    "\n",
    "dfx['CARAT_1'] = dfx['CARAT']/dfx['PCS']\n",
    "dfx['size'] = dfx.apply(lambda x:size_em_sto(x['Q'],x['CARAT_1']),axis=1)\n",
    "pd.merge(left=dfx, right=pr_em_sto,\n",
    "         how='left', \n",
    "         left_on=['size', 'C', 'Q',],\n",
    "         right_on=['size','цвет', 'чистота'])\n"
   ]
  },
  {
   "cell_type": "code",
   "execution_count": null,
   "id": "3beb23a8",
   "metadata": {},
   "outputs": [],
   "source": []
  },
  {
   "cell_type": "code",
   "execution_count": 870,
   "id": "36dc760f",
   "metadata": {},
   "outputs": [],
   "source": [
    "t1 = '1ИзумрудПМ-0,250-НРОКр+3/Г3 1ИзумрудПМ-1,500-НРОГ+3/г3 14Кр57-0,180-4/4А'"
   ]
  },
  {
   "cell_type": "code",
   "execution_count": 878,
   "id": "be365dac",
   "metadata": {},
   "outputs": [
    {
     "data": {
      "text/plain": [
       "(1.75, 357.5, '110220', ['0,25-0,49', '1,50-1,99'], 230, 'C ok;Q ok;PCS ok;')"
      ]
     },
     "execution_count": 878,
     "metadata": {},
     "output_type": "execute_result"
    }
   ],
   "source": [
    "check_vstlist(vst2list(t1))"
   ]
  },
  {
   "cell_type": "code",
   "execution_count": 593,
   "id": "6130a9da",
   "metadata": {},
   "outputs": [
    {
     "data": {
      "text/plain": [
       "'1ИзумрудПМ-0,280-НРООв+3/Г3 3КР57-0,040-3/3А'"
      ]
     },
     "execution_count": 593,
     "metadata": {},
     "output_type": "execute_result"
    }
   ],
   "source": [
    "(tests_errors[1][::-1]+'1')[::-1]"
   ]
  },
  {
   "cell_type": "code",
   "execution_count": 595,
   "id": "c03b6bfe",
   "metadata": {},
   "outputs": [
    {
     "data": {
      "text/plain": [
       "'ИзумрудПМ-7,900-И41+4/Г3 59КР57-0,690-4/4А 43КР57-0,800-3/5А'"
      ]
     },
     "execution_count": 595,
     "metadata": {},
     "output_type": "execute_result"
    }
   ],
   "source": [
    "tests_errors[0]"
   ]
  },
  {
   "cell_type": "code",
   "execution_count": 596,
   "id": "545af722",
   "metadata": {},
   "outputs": [
    {
     "data": {
      "text/plain": [
       "'except; C ok;Q ok;PCS error;'"
      ]
     },
     "execution_count": 596,
     "metadata": {},
     "output_type": "execute_result"
    }
   ],
   "source": [
    "check_vstlist(vst2list(_))"
   ]
  },
  {
   "cell_type": "code",
   "execution_count": 591,
   "id": "d5c1b237",
   "metadata": {},
   "outputs": [
    {
     "data": {
      "text/plain": [
       "'11111111а5/2-521,0-75рк81 3г/3+воорн-653,0-мпдурмузи1'"
      ]
     },
     "execution_count": 591,
     "metadata": {},
     "output_type": "execute_result"
    }
   ],
   "source": [
    "t2+='1'\n",
    "t2[::-1]"
   ]
  },
  {
   "cell_type": "code",
   "execution_count": 378,
   "id": "38434567",
   "metadata": {},
   "outputs": [
    {
     "data": {
      "text/plain": [
       "False"
      ]
     },
     "execution_count": 378,
     "metadata": {},
     "output_type": "execute_result"
    }
   ],
   "source": [
    "#def check_vstlist(l):\n",
    "\n",
    "l = vst2list(t1)\n",
    "l is np.nan or len(l)==0"
   ]
  },
  {
   "cell_type": "code",
   "execution_count": 379,
   "id": "10b59f3a",
   "metadata": {},
   "outputs": [],
   "source": [
    "dfx = pd.DataFrame({'vstlist':l})"
   ]
  },
  {
   "cell_type": "code",
   "execution_count": 380,
   "id": "e37a0fa5",
   "metadata": {},
   "outputs": [
    {
     "data": {
      "text/html": [
       "<div>\n",
       "<style scoped>\n",
       "    .dataframe tbody tr th:only-of-type {\n",
       "        vertical-align: middle;\n",
       "    }\n",
       "\n",
       "    .dataframe tbody tr th {\n",
       "        vertical-align: top;\n",
       "    }\n",
       "\n",
       "    .dataframe thead th {\n",
       "        text-align: right;\n",
       "    }\n",
       "</style>\n",
       "<table border=\"1\" class=\"dataframe\">\n",
       "  <thead>\n",
       "    <tr style=\"text-align: right;\">\n",
       "      <th></th>\n",
       "      <th>vstlist</th>\n",
       "    </tr>\n",
       "  </thead>\n",
       "  <tbody>\n",
       "    <tr>\n",
       "      <th>0</th>\n",
       "      <td>(5, ИзумрудПМ, 0,250, НРОКр, 3/Г3)</td>\n",
       "    </tr>\n",
       "    <tr>\n",
       "      <th>1</th>\n",
       "      <td>(3, ИзумрудПМ, 1,500, НРОГ, 3/Г3)</td>\n",
       "    </tr>\n",
       "  </tbody>\n",
       "</table>\n",
       "</div>"
      ],
      "text/plain": [
       "                              vstlist\n",
       "0  (5, ИзумрудПМ, 0,250, НРОКр, 3/Г3)\n",
       "1   (3, ИзумрудПМ, 1,500, НРОГ, 3/Г3)"
      ]
     },
     "execution_count": 380,
     "metadata": {},
     "output_type": "execute_result"
    }
   ],
   "source": [
    "dfx"
   ]
  },
  {
   "cell_type": "code",
   "execution_count": 381,
   "id": "34227b33",
   "metadata": {},
   "outputs": [],
   "source": [
    "cols = [\"PCS\",\"GEM\",\"CARAT\", \"FORM\", \"CQ\"]\n",
    "for c in range(len(cols)):\n",
    "    dfx[cols[c]] = dfx.vstlist.apply(lambda x: x[c].lower().strip())"
   ]
  },
  {
   "cell_type": "code",
   "execution_count": 382,
   "id": "392f9c5d",
   "metadata": {},
   "outputs": [],
   "source": [
    "dfx['C'] = dfx['CQ'].apply(lambda x: x.split('/')[0].lower().strip())\n",
    "dfx['Q'] = dfx['CQ'].apply(lambda x: x.split('/')[1].lower().strip())"
   ]
  },
  {
   "cell_type": "code",
   "execution_count": 383,
   "id": "717a8889",
   "metadata": {},
   "outputs": [
    {
     "data": {
      "text/html": [
       "<div>\n",
       "<style scoped>\n",
       "    .dataframe tbody tr th:only-of-type {\n",
       "        vertical-align: middle;\n",
       "    }\n",
       "\n",
       "    .dataframe tbody tr th {\n",
       "        vertical-align: top;\n",
       "    }\n",
       "\n",
       "    .dataframe thead th {\n",
       "        text-align: right;\n",
       "    }\n",
       "</style>\n",
       "<table border=\"1\" class=\"dataframe\">\n",
       "  <thead>\n",
       "    <tr style=\"text-align: right;\">\n",
       "      <th></th>\n",
       "      <th>vstlist</th>\n",
       "      <th>PCS</th>\n",
       "      <th>GEM</th>\n",
       "      <th>CARAT</th>\n",
       "      <th>FORM</th>\n",
       "      <th>CQ</th>\n",
       "      <th>C</th>\n",
       "      <th>Q</th>\n",
       "    </tr>\n",
       "  </thead>\n",
       "  <tbody>\n",
       "    <tr>\n",
       "      <th>0</th>\n",
       "      <td>(5, ИзумрудПМ, 0,250, НРОКр, 3/Г3)</td>\n",
       "      <td>5</td>\n",
       "      <td>изумрудпм</td>\n",
       "      <td>0,250</td>\n",
       "      <td>нрокр</td>\n",
       "      <td>3/г3</td>\n",
       "      <td>3</td>\n",
       "      <td>г3</td>\n",
       "    </tr>\n",
       "    <tr>\n",
       "      <th>1</th>\n",
       "      <td>(3, ИзумрудПМ, 1,500, НРОГ, 3/Г3)</td>\n",
       "      <td>3</td>\n",
       "      <td>изумрудпм</td>\n",
       "      <td>1,500</td>\n",
       "      <td>нрог</td>\n",
       "      <td>3/г3</td>\n",
       "      <td>3</td>\n",
       "      <td>г3</td>\n",
       "    </tr>\n",
       "  </tbody>\n",
       "</table>\n",
       "</div>"
      ],
      "text/plain": [
       "                              vstlist PCS        GEM  CARAT   FORM    CQ  C  \\\n",
       "0  (5, ИзумрудПМ, 0,250, НРОКр, 3/Г3)   5  изумрудпм  0,250  нрокр  3/г3  3   \n",
       "1   (3, ИзумрудПМ, 1,500, НРОГ, 3/Г3)   3  изумрудпм  1,500   нрог  3/г3  3   \n",
       "\n",
       "    Q  \n",
       "0  г3  \n",
       "1  г3  "
      ]
     },
     "execution_count": 383,
     "metadata": {},
     "output_type": "execute_result"
    }
   ],
   "source": [
    "dfx"
   ]
  },
  {
   "cell_type": "code",
   "execution_count": 384,
   "id": "c7cb2a42",
   "metadata": {},
   "outputs": [],
   "source": [
    "dfx['CARAT'] = dfx['CARAT'].str.replace(',','.').astype('float')"
   ]
  },
  {
   "cell_type": "code",
   "execution_count": 385,
   "id": "b2cded76",
   "metadata": {},
   "outputs": [
    {
     "data": {
      "text/plain": [
       "1.75"
      ]
     },
     "execution_count": 385,
     "metadata": {},
     "output_type": "execute_result"
    }
   ],
   "source": [
    "dfx['CARAT'].sum()"
   ]
  },
  {
   "cell_type": "code",
   "execution_count": null,
   "id": "a8de9b58",
   "metadata": {},
   "outputs": [],
   "source": []
  },
  {
   "cell_type": "code",
   "execution_count": 386,
   "id": "e933fa85",
   "metadata": {},
   "outputs": [],
   "source": [
    "# test"
   ]
  },
  {
   "cell_type": "code",
   "execution_count": 387,
   "id": "9b8dfde4",
   "metadata": {},
   "outputs": [
    {
     "data": {
      "text/plain": [
       "[('5', 'ИзумрудПМ', '0,250', 'НРОКр', '3/Г3'),\n",
       " ('3', 'ИзумрудПМ', '1,500', 'НРОГ', '3/Г3')]"
      ]
     },
     "execution_count": 387,
     "metadata": {},
     "output_type": "execute_result"
    }
   ],
   "source": [
    "vst2list(t1)"
   ]
  },
  {
   "cell_type": "code",
   "execution_count": 335,
   "id": "5ff8d9a2",
   "metadata": {},
   "outputs": [
    {
     "data": {
      "text/plain": [
       "nan"
      ]
     },
     "execution_count": 335,
     "metadata": {},
     "output_type": "execute_result"
    }
   ],
   "source": [
    "vst2list('hjkhkljkoj')"
   ]
  },
  {
   "cell_type": "code",
   "execution_count": 509,
   "id": "4c5025dd",
   "metadata": {},
   "outputs": [],
   "source": [
    "df = df_vst_15102023"
   ]
  },
  {
   "cell_type": "code",
   "execution_count": 510,
   "id": "d6a26347",
   "metadata": {},
   "outputs": [],
   "source": [
    "df['vst2list'] = df['Вставки_д28'].map((vst2list))[~df['Вставки_д28'].map(vst2list).isna()]"
   ]
  },
  {
   "cell_type": "code",
   "execution_count": 511,
   "id": "7efe1d29",
   "metadata": {},
   "outputs": [
    {
     "data": {
      "text/plain": [
       "160      (1.27, C ok;Q error;PCS ok;)\n",
       "249          (0.1, C ok;Q ok;PCS ok;)\n",
       "345        (0.234, C ok;Q ok;PCS ok;)\n",
       "372         (0.34, C ok;Q ok;PCS ok;)\n",
       "374        (0.159, C ok;Q ok;PCS ok;)\n",
       "                     ...             \n",
       "31958       (0.54, C ok;Q ok;PCS ok;)\n",
       "31971       (0.27, C ok;Q ok;PCS ok;)\n",
       "31975       (0.67, C ok;Q ok;PCS ok;)\n",
       "32597      (0.166, C ok;Q ok;PCS ok;)\n",
       "32933      (0.203, C ok;Q ok;PCS ok;)\n",
       "Name: vst2list, Length: 304, dtype: object"
      ]
     },
     "execution_count": 511,
     "metadata": {},
     "output_type": "execute_result"
    }
   ],
   "source": [
    "df['vst2list'].map(check_vstlist) [~df['vst2list'].map(check_vstlist).isna()]"
   ]
  },
  {
   "cell_type": "markdown",
   "id": "6d7c6aff",
   "metadata": {},
   "source": [
    "## разработка массовая "
   ]
  },
  {
   "cell_type": "code",
   "execution_count": 194,
   "id": "73d3b80c",
   "metadata": {},
   "outputs": [],
   "source": [
    "df = df_vst_15102023"
   ]
  },
  {
   "cell_type": "code",
   "execution_count": 205,
   "id": "c94465d0",
   "metadata": {},
   "outputs": [],
   "source": [
    "#10-11-2023-20-40\n",
    "pattern_em =  r\"\"\"(?ix)(?P<N>\\d{,3})# штуки \n",
    "               (?P<Gem>изумру[A-яA-z.]{1,5})[-]+#gem\n",
    "               (?P<Carat>\\d\\d?[.,]?\\d*)[\\s-]+                                 # карат\n",
    "               (?P<Form>[A-яA-z.\\d-]{1,10})[+]+#[+\\s-]+ \n",
    "               (?P<ColQ>\\d+[ /]+(?:\\d*[ГгКкKk]*\\d*))\"\"\"\n",
    "               "
   ]
  },
  {
   "cell_type": "code",
   "execution_count": 212,
   "id": "f9fc05a8",
   "metadata": {},
   "outputs": [],
   "source": [
    "#в разработке с *цвет\n",
    "pattern_em2 =  r\"\"\"(?ix)(?P<N>\\d{,3})# штуки \n",
    "               (?P<Gem>изумру[A-яA-z.]{1,5})[-]+#gem\n",
    "               (?P<Carat>\\d\\d?[.,]?\\d*)[\\s-]+                                 # карат\n",
    "               (?P<Form>[A-яA-z.\\d-]{1,10})[+]+#[+\\s-]+ \n",
    "               (?P<ColQ>\\d+[ /]+(?:\\d*[ГгКкKk]*\\d*)[*]*[A-яA-z]*)\"\"\"\n",
    "               "
   ]
  },
  {
   "cell_type": "code",
   "execution_count": 167,
   "id": "f79e3630",
   "metadata": {},
   "outputs": [],
   "source": [
    "# чисто для ИзумрудП\n",
    "pattern_jem = r\"\"\"(?ix)(?P<Gem>изумрудп)+#gem\"\"\""
   ]
  },
  {
   "cell_type": "code",
   "execution_count": 169,
   "id": "558ddea3",
   "metadata": {},
   "outputs": [
    {
     "data": {
      "text/plain": [
       "['ИзумрудП', 'ИзумрудП']"
      ]
     },
     "execution_count": 169,
     "metadata": {},
     "output_type": "execute_result"
    }
   ],
   "source": [
    "#проверка\n",
    "re.findall(pattern_jem, '9ИзумрудПМ-0,15-Пр-21+3/г3*ghgjg 2КР57-0,120-3/2А ИзумрудПМ')"
   ]
  },
  {
   "cell_type": "code",
   "execution_count": 209,
   "id": "0dc378a4",
   "metadata": {},
   "outputs": [
    {
     "data": {
      "text/plain": [
       "[('9', 'ИзумрудПМ', '0,15', 'jffkj-kh', '3/г3')]"
      ]
     },
     "execution_count": 209,
     "metadata": {},
     "output_type": "execute_result"
    }
   ],
   "source": [
    "re.findall(pattern_em, '9ИзумрудПМ-0,15-jffkj-kh+3/г3*ghgjg 2КР57-0,120-3/2А')"
   ]
  },
  {
   "cell_type": "code",
   "execution_count": 213,
   "id": "184dfe66",
   "metadata": {},
   "outputs": [
    {
     "data": {
      "text/plain": [
       "[('1', 'изумрудпм', '0,760', 'нрокр-кр', '3/г3*зеленый')]"
      ]
     },
     "execution_count": 213,
     "metadata": {},
     "output_type": "execute_result"
    }
   ],
   "source": [
    "re.findall(pattern_em2,'1изумрудпм-0,760-нрокр-кр+3/г3*зеленый 2кр57-0,050-4/3а 7кр57-0,050-3/4а')"
   ]
  },
  {
   "cell_type": "markdown",
   "id": "98e373d2",
   "metadata": {},
   "source": [
    "### массовая прогонка pattern"
   ]
  },
  {
   "cell_type": "code",
   "execution_count": 214,
   "id": "9bca145e",
   "metadata": {},
   "outputs": [],
   "source": [
    "df['emerald_list'] = df['Вставки_д28'].apply(lambda x: re.findall(pattern_em, x ))"
   ]
  },
  {
   "cell_type": "code",
   "execution_count": 215,
   "id": "774b78ca",
   "metadata": {},
   "outputs": [],
   "source": [
    "df['len_jem'] = df['Вставки_д28'].apply(lambda x: len(re.findall(pattern_jem, x )))"
   ]
  },
  {
   "cell_type": "code",
   "execution_count": 216,
   "id": "e36e2a38",
   "metadata": {},
   "outputs": [],
   "source": [
    "df['len_em'] = df['emerald_list'].apply(lambda x: len( x ))"
   ]
  },
  {
   "cell_type": "code",
   "execution_count": 217,
   "id": "3fa6585b",
   "metadata": {},
   "outputs": [
    {
     "name": "stdout",
     "output_type": "stream",
     "text": [
      "<class 'pandas.core.frame.DataFrame'>\n",
      "Int64Index: 300 entries, 160 to 32933\n",
      "Data columns (total 7 columns):\n",
      " #   Column        Non-Null Count  Dtype \n",
      "---  ------        --------------  ----- \n",
      " 0   Код           300 non-null    object\n",
      " 1   Вставки_д28   300 non-null    object\n",
      " 2   emeralds      300 non-null    object\n",
      " 3   re01          300 non-null    object\n",
      " 4   emerald_list  300 non-null    object\n",
      " 5   len_jem       300 non-null    int64 \n",
      " 6   len_em        300 non-null    int64 \n",
      "dtypes: int64(2), object(5)\n",
      "memory usage: 18.8+ KB\n"
     ]
    }
   ],
   "source": [
    "df[df['Вставки_д28'].str.lower().str.contains('изумрудп')].info()"
   ]
  },
  {
   "cell_type": "code",
   "execution_count": 218,
   "id": "1521cbad",
   "metadata": {
    "scrolled": true
   },
   "outputs": [
    {
     "data": {
      "text/html": [
       "<div>\n",
       "<style scoped>\n",
       "    .dataframe tbody tr th:only-of-type {\n",
       "        vertical-align: middle;\n",
       "    }\n",
       "\n",
       "    .dataframe tbody tr th {\n",
       "        vertical-align: top;\n",
       "    }\n",
       "\n",
       "    .dataframe thead th {\n",
       "        text-align: right;\n",
       "    }\n",
       "</style>\n",
       "<table border=\"1\" class=\"dataframe\">\n",
       "  <thead>\n",
       "    <tr style=\"text-align: right;\">\n",
       "      <th></th>\n",
       "      <th>Код</th>\n",
       "      <th>Вставки_д28</th>\n",
       "      <th>emeralds</th>\n",
       "      <th>re01</th>\n",
       "      <th>emerald_list</th>\n",
       "      <th>len_jem</th>\n",
       "      <th>len_em</th>\n",
       "    </tr>\n",
       "  </thead>\n",
       "  <tbody>\n",
       "    <tr>\n",
       "      <th>6470</th>\n",
       "      <td>ЦБ-00155200</td>\n",
       "      <td>1Изумруд-0,096-НРОКр+3/Г3 12Кр17-0,090-2/2А</td>\n",
       "      <td>NaN</td>\n",
       "      <td>[(1, Изумруд, 0,096, НРОКр, 3/Г3)]</td>\n",
       "      <td>[(1, Изумруд, 0,096, НРОКр, 3/Г3)]</td>\n",
       "      <td>0</td>\n",
       "      <td>1</td>\n",
       "    </tr>\n",
       "    <tr>\n",
       "      <th>11847</th>\n",
       "      <td>ЦБ-00039564</td>\n",
       "      <td>3Изумруд-0,080-НРОКр+3/Г1 1Кр57-0,440-3/2А</td>\n",
       "      <td>NaN</td>\n",
       "      <td>[(3, Изумруд, 0,080, НРОКр, 3/Г1)]</td>\n",
       "      <td>[(3, Изумруд, 0,080, НРОКр, 3/Г1)]</td>\n",
       "      <td>0</td>\n",
       "      <td>1</td>\n",
       "    </tr>\n",
       "    <tr>\n",
       "      <th>17937</th>\n",
       "      <td>ЦБ-00181165</td>\n",
       "      <td>1Изумруд-0,210-НРОКр+3/Г3 2КР57-0,050-3/3А 1КР...</td>\n",
       "      <td>NaN</td>\n",
       "      <td>[(1, Изумруд, 0,210, НРОКр, 3/Г3)]</td>\n",
       "      <td>[(1, Изумруд, 0,210, НРОКр, 3/Г3)]</td>\n",
       "      <td>0</td>\n",
       "      <td>1</td>\n",
       "    </tr>\n",
       "    <tr>\n",
       "      <th>29167</th>\n",
       "      <td>ЦБ-00051910</td>\n",
       "      <td>2Изумруд-22,610-НРОФ+5/Г3 148КР57-1,080-3/5А</td>\n",
       "      <td>NaN</td>\n",
       "      <td>[(2, Изумруд, 22,610, НРОФ, 5/Г3)]</td>\n",
       "      <td>[(2, Изумруд, 22,610, НРОФ, 5/Г3)]</td>\n",
       "      <td>0</td>\n",
       "      <td>1</td>\n",
       "    </tr>\n",
       "  </tbody>\n",
       "</table>\n",
       "</div>"
      ],
      "text/plain": [
       "               Код                                        Вставки_д28  \\\n",
       "6470   ЦБ-00155200        1Изумруд-0,096-НРОКр+3/Г3 12Кр17-0,090-2/2А   \n",
       "11847  ЦБ-00039564         3Изумруд-0,080-НРОКр+3/Г1 1Кр57-0,440-3/2А   \n",
       "17937  ЦБ-00181165  1Изумруд-0,210-НРОКр+3/Г3 2КР57-0,050-3/3А 1КР...   \n",
       "29167  ЦБ-00051910       2Изумруд-22,610-НРОФ+5/Г3 148КР57-1,080-3/5А   \n",
       "\n",
       "      emeralds                                re01  \\\n",
       "6470       NaN  [(1, Изумруд, 0,096, НРОКр, 3/Г3)]   \n",
       "11847      NaN  [(3, Изумруд, 0,080, НРОКр, 3/Г1)]   \n",
       "17937      NaN  [(1, Изумруд, 0,210, НРОКр, 3/Г3)]   \n",
       "29167      NaN  [(2, Изумруд, 22,610, НРОФ, 5/Г3)]   \n",
       "\n",
       "                             emerald_list  len_jem  len_em  \n",
       "6470   [(1, Изумруд, 0,096, НРОКр, 3/Г3)]        0       1  \n",
       "11847  [(3, Изумруд, 0,080, НРОКр, 3/Г1)]        0       1  \n",
       "17937  [(1, Изумруд, 0,210, НРОКр, 3/Г3)]        0       1  \n",
       "29167  [(2, Изумруд, 22,610, НРОФ, 5/Г3)]        0       1  "
      ]
     },
     "execution_count": 218,
     "metadata": {},
     "output_type": "execute_result"
    }
   ],
   "source": [
    "df[df['len_em']!=df['len_jem'] ]"
   ]
  },
  {
   "cell_type": "code",
   "execution_count": null,
   "id": "c1e60247",
   "metadata": {},
   "outputs": [],
   "source": []
  },
  {
   "cell_type": "code",
   "execution_count": 508,
   "id": "be1c562c",
   "metadata": {},
   "outputs": [
    {
     "data": {
      "text/plain": [
       "0        []\n",
       "1        []\n",
       "2        []\n",
       "3        []\n",
       "4        []\n",
       "         ..\n",
       "34264    []\n",
       "34265    []\n",
       "34266    []\n",
       "34267    []\n",
       "34268    []\n",
       "Name: emerald_list, Length: 34269, dtype: object"
      ]
     },
     "execution_count": 508,
     "metadata": {},
     "output_type": "execute_result"
    }
   ],
   "source": [
    "df['emerald_list'] "
   ]
  },
  {
   "cell_type": "code",
   "execution_count": null,
   "id": "e4274431",
   "metadata": {},
   "outputs": [],
   "source": []
  },
  {
   "cell_type": "code",
   "execution_count": null,
   "id": "f05b9c8c",
   "metadata": {},
   "outputs": [],
   "source": []
  },
  {
   "cell_type": "markdown",
   "id": "f0c1e9ac",
   "metadata": {},
   "source": [
    "### запись в exel массовой прогонки"
   ]
  },
  {
   "cell_type": "code",
   "execution_count": 219,
   "id": "4ba5dd31",
   "metadata": {},
   "outputs": [],
   "source": [
    "df.to_excel('test_re01.xlsx')"
   ]
  },
  {
   "cell_type": "code",
   "execution_count": null,
   "id": "2887c53b",
   "metadata": {},
   "outputs": [],
   "source": []
  },
  {
   "cell_type": "code",
   "execution_count": null,
   "id": "353cc1ac",
   "metadata": {},
   "outputs": [],
   "source": []
  },
  {
   "cell_type": "code",
   "execution_count": 220,
   "id": "172f9607",
   "metadata": {},
   "outputs": [
    {
     "data": {
      "text/plain": [
       "Index(['Код', 'Вставки_д28', 'emeralds', 're01', 'emerald_list', 'len_jem',\n",
       "       'len_em'],\n",
       "      dtype='object')"
      ]
     },
     "execution_count": 220,
     "metadata": {},
     "output_type": "execute_result"
    }
   ],
   "source": [
    "df.columns"
   ]
  },
  {
   "cell_type": "code",
   "execution_count": 221,
   "id": "d4d1e0de",
   "metadata": {},
   "outputs": [
    {
     "data": {
      "text/html": [
       "<div>\n",
       "<style scoped>\n",
       "    .dataframe tbody tr th:only-of-type {\n",
       "        vertical-align: middle;\n",
       "    }\n",
       "\n",
       "    .dataframe tbody tr th {\n",
       "        vertical-align: top;\n",
       "    }\n",
       "\n",
       "    .dataframe thead th {\n",
       "        text-align: right;\n",
       "    }\n",
       "</style>\n",
       "<table border=\"1\" class=\"dataframe\">\n",
       "  <thead>\n",
       "    <tr style=\"text-align: right;\">\n",
       "      <th></th>\n",
       "      <th>Код</th>\n",
       "      <th>Вставки_д28</th>\n",
       "      <th>emerald_list</th>\n",
       "    </tr>\n",
       "  </thead>\n",
       "  <tbody>\n",
       "    <tr>\n",
       "      <th>0</th>\n",
       "      <td>ЦБ-00200503</td>\n",
       "      <td>45КР57-0,520-4/5А</td>\n",
       "      <td>[]</td>\n",
       "    </tr>\n",
       "    <tr>\n",
       "      <th>1</th>\n",
       "      <td>ЦБ-00002854</td>\n",
       "      <td>2Кр57-0,083-2/2А 4Кр57-0,084-2/2А 6Кр57-0,280-...</td>\n",
       "      <td>[]</td>\n",
       "    </tr>\n",
       "    <tr>\n",
       "      <th>2</th>\n",
       "      <td>ЦБ-00019951</td>\n",
       "      <td>1Кр57-0,086-4/5А</td>\n",
       "      <td>[]</td>\n",
       "    </tr>\n",
       "    <tr>\n",
       "      <th>3</th>\n",
       "      <td>ЦБ-00019953</td>\n",
       "      <td>3Кр57-0,06-4/5А</td>\n",
       "      <td>[]</td>\n",
       "    </tr>\n",
       "    <tr>\n",
       "      <th>4</th>\n",
       "      <td>ЦБ-00111074</td>\n",
       "      <td>1Кр57-0,050-4/5А 1Кр57-0,031-6/6А 1Кр57-0,014-...</td>\n",
       "      <td>[]</td>\n",
       "    </tr>\n",
       "    <tr>\n",
       "      <th>...</th>\n",
       "      <td>...</td>\n",
       "      <td>...</td>\n",
       "      <td>...</td>\n",
       "    </tr>\n",
       "    <tr>\n",
       "      <th>34264</th>\n",
       "      <td>ЦБ-00182016</td>\n",
       "      <td>СапфирВ 6КР57-0,080-3/4А</td>\n",
       "      <td>[]</td>\n",
       "    </tr>\n",
       "    <tr>\n",
       "      <th>34265</th>\n",
       "      <td>ЦБ-00182017</td>\n",
       "      <td>СапфирВ 6КР57-0,080-3/4А</td>\n",
       "      <td>[]</td>\n",
       "    </tr>\n",
       "    <tr>\n",
       "      <th>34266</th>\n",
       "      <td>ЦБ-00182019</td>\n",
       "      <td>ИзумрудВ 4КР57-0,040-2/3А</td>\n",
       "      <td>[]</td>\n",
       "    </tr>\n",
       "    <tr>\n",
       "      <th>34267</th>\n",
       "      <td>ЦБ-00182020</td>\n",
       "      <td>ИзумрудВ 4КР57-0,040-2/3А</td>\n",
       "      <td>[]</td>\n",
       "    </tr>\n",
       "    <tr>\n",
       "      <th>34268</th>\n",
       "      <td>ЦБ-00182021</td>\n",
       "      <td>ИзумрудВ 4КР57-0,040-2/3А</td>\n",
       "      <td>[]</td>\n",
       "    </tr>\n",
       "  </tbody>\n",
       "</table>\n",
       "<p>34269 rows × 3 columns</p>\n",
       "</div>"
      ],
      "text/plain": [
       "               Код                                        Вставки_д28  \\\n",
       "0      ЦБ-00200503                                  45КР57-0,520-4/5А   \n",
       "1      ЦБ-00002854  2Кр57-0,083-2/2А 4Кр57-0,084-2/2А 6Кр57-0,280-...   \n",
       "2      ЦБ-00019951                                   1Кр57-0,086-4/5А   \n",
       "3      ЦБ-00019953                                    3Кр57-0,06-4/5А   \n",
       "4      ЦБ-00111074  1Кр57-0,050-4/5А 1Кр57-0,031-6/6А 1Кр57-0,014-...   \n",
       "...            ...                                                ...   \n",
       "34264  ЦБ-00182016                           СапфирВ 6КР57-0,080-3/4А   \n",
       "34265  ЦБ-00182017                           СапфирВ 6КР57-0,080-3/4А   \n",
       "34266  ЦБ-00182019                          ИзумрудВ 4КР57-0,040-2/3А   \n",
       "34267  ЦБ-00182020                          ИзумрудВ 4КР57-0,040-2/3А   \n",
       "34268  ЦБ-00182021                          ИзумрудВ 4КР57-0,040-2/3А   \n",
       "\n",
       "      emerald_list  \n",
       "0               []  \n",
       "1               []  \n",
       "2               []  \n",
       "3               []  \n",
       "4               []  \n",
       "...            ...  \n",
       "34264           []  \n",
       "34265           []  \n",
       "34266           []  \n",
       "34267           []  \n",
       "34268           []  \n",
       "\n",
       "[34269 rows x 3 columns]"
      ]
     },
     "execution_count": 221,
     "metadata": {},
     "output_type": "execute_result"
    }
   ],
   "source": [
    "df[['Код', 'Вставки_д28','emerald_list', 'len_em']]"
   ]
  },
  {
   "cell_type": "code",
   "execution_count": 223,
   "id": "2699611d",
   "metadata": {},
   "outputs": [],
   "source": [
    "df_exp = df.explode('emerald_list')"
   ]
  },
  {
   "cell_type": "code",
   "execution_count": 227,
   "id": "c8870450",
   "metadata": {
    "scrolled": true
   },
   "outputs": [],
   "source": [
    "df_exp.dropna(subset='emerald_list', inplace=True)"
   ]
  },
  {
   "cell_type": "markdown",
   "id": "076f20d1",
   "metadata": {},
   "source": [
    "### разбор по  [\"PCS\",\"GEM\",\"CARAT\", \"FORM\", \"CQ\"]"
   ]
  },
  {
   "cell_type": "code",
   "execution_count": 393,
   "id": "3f9b864d",
   "metadata": {},
   "outputs": [],
   "source": [
    "cols = [\"PCS\",\"GEM\",\"CARAT\", \"FORM\", \"CQ\"]\n",
    "for c in range(len(cols)):\n",
    "    df_exp[cols[c]] = df_exp.emerald_list.apply(lambda x: x[c].lower().strip())"
   ]
  },
  {
   "cell_type": "code",
   "execution_count": 394,
   "id": "d34b3b64",
   "metadata": {},
   "outputs": [
    {
     "data": {
      "text/html": [
       "<div>\n",
       "<style scoped>\n",
       "    .dataframe tbody tr th:only-of-type {\n",
       "        vertical-align: middle;\n",
       "    }\n",
       "\n",
       "    .dataframe tbody tr th {\n",
       "        vertical-align: top;\n",
       "    }\n",
       "\n",
       "    .dataframe thead th {\n",
       "        text-align: right;\n",
       "    }\n",
       "</style>\n",
       "<table border=\"1\" class=\"dataframe\">\n",
       "  <thead>\n",
       "    <tr style=\"text-align: right;\">\n",
       "      <th></th>\n",
       "      <th>Код</th>\n",
       "      <th>Вставки_д28</th>\n",
       "      <th>emeralds</th>\n",
       "      <th>re01</th>\n",
       "      <th>emerald_list</th>\n",
       "      <th>len_jem</th>\n",
       "      <th>len_em</th>\n",
       "      <th>PCS</th>\n",
       "      <th>GEM</th>\n",
       "      <th>CARAT</th>\n",
       "      <th>FORM</th>\n",
       "      <th>CQ</th>\n",
       "      <th>C</th>\n",
       "      <th>Q</th>\n",
       "    </tr>\n",
       "  </thead>\n",
       "  <tbody>\n",
       "    <tr>\n",
       "      <th>160</th>\n",
       "      <td>ЦБ-00019785</td>\n",
       "      <td>1ИзумрудПМ-1,270-НРООв+2/гз 7Кр57-0,100-3/3А</td>\n",
       "      <td>1изумрудпм-1,270-нроов+2/гз 7кр57-0,100-3/3а</td>\n",
       "      <td>[(1, ИзумрудПМ, 1,270, НРООв, 2/г)]</td>\n",
       "      <td>(1, ИзумрудПМ, 1,270, НРООв, 2/г)</td>\n",
       "      <td>1</td>\n",
       "      <td>1</td>\n",
       "      <td>1</td>\n",
       "      <td>изумрудпм</td>\n",
       "      <td>1,270</td>\n",
       "      <td>нроов</td>\n",
       "      <td>2/г</td>\n",
       "      <td>2</td>\n",
       "      <td>г</td>\n",
       "    </tr>\n",
       "    <tr>\n",
       "      <th>249</th>\n",
       "      <td>ЦБ-00019921</td>\n",
       "      <td>1ИзумрудПМ-0,100-НРОКр+4/Г3 4Кр57-0,040-2/4А</td>\n",
       "      <td>1изумрудпм-0,100-нрокр+4/г3 4кр57-0,040-2/4а</td>\n",
       "      <td>[(1, ИзумрудПМ, 0,100, НРОКр, 4/Г3)]</td>\n",
       "      <td>(1, ИзумрудПМ, 0,100, НРОКр, 4/Г3)</td>\n",
       "      <td>1</td>\n",
       "      <td>1</td>\n",
       "      <td>1</td>\n",
       "      <td>изумрудпм</td>\n",
       "      <td>0,100</td>\n",
       "      <td>нрокр</td>\n",
       "      <td>4/г3</td>\n",
       "      <td>4</td>\n",
       "      <td>г3</td>\n",
       "    </tr>\n",
       "    <tr>\n",
       "      <th>345</th>\n",
       "      <td>ЦБ-00090311</td>\n",
       "      <td>1ИзумрудПМ-0,234-НРОКр+3/Г2 6Кр57-0,148-2/2А 2...</td>\n",
       "      <td>1изумрудпм-0,234-нрокр+3/г2 6кр57-0,148-2/2а 2...</td>\n",
       "      <td>[(1, ИзумрудПМ, 0,234, НРОКр, 3/Г2)]</td>\n",
       "      <td>(1, ИзумрудПМ, 0,234, НРОКр, 3/Г2)</td>\n",
       "      <td>1</td>\n",
       "      <td>1</td>\n",
       "      <td>1</td>\n",
       "      <td>изумрудпм</td>\n",
       "      <td>0,234</td>\n",
       "      <td>нрокр</td>\n",
       "      <td>3/г2</td>\n",
       "      <td>3</td>\n",
       "      <td>г2</td>\n",
       "    </tr>\n",
       "    <tr>\n",
       "      <th>372</th>\n",
       "      <td>ЦБ-00163308</td>\n",
       "      <td>1ИзумрудПМ-0,340-НРООв+3/Г3 12Кр17-0,030-2/2А</td>\n",
       "      <td>1изумрудпм-0,340-нроов+3/г3 12кр17-0,030-2/2а</td>\n",
       "      <td>[(1, ИзумрудПМ, 0,340, НРООв, 3/Г3)]</td>\n",
       "      <td>(1, ИзумрудПМ, 0,340, НРООв, 3/Г3)</td>\n",
       "      <td>1</td>\n",
       "      <td>1</td>\n",
       "      <td>1</td>\n",
       "      <td>изумрудпм</td>\n",
       "      <td>0,340</td>\n",
       "      <td>нроов</td>\n",
       "      <td>3/г3</td>\n",
       "      <td>3</td>\n",
       "      <td>г3</td>\n",
       "    </tr>\n",
       "    <tr>\n",
       "      <th>374</th>\n",
       "      <td>ЦБ-00163310</td>\n",
       "      <td>1ИзумрудПМ-0,159-НРОКр+3/Г2 12Кр57-0,113-3/4А</td>\n",
       "      <td>1изумрудпм-0,159-нрокр+3/г2 12кр57-0,113-3/4а</td>\n",
       "      <td>[(1, ИзумрудПМ, 0,159, НРОКр, 3/Г2)]</td>\n",
       "      <td>(1, ИзумрудПМ, 0,159, НРОКр, 3/Г2)</td>\n",
       "      <td>1</td>\n",
       "      <td>1</td>\n",
       "      <td>1</td>\n",
       "      <td>изумрудпм</td>\n",
       "      <td>0,159</td>\n",
       "      <td>нрокр</td>\n",
       "      <td>3/г2</td>\n",
       "      <td>3</td>\n",
       "      <td>г2</td>\n",
       "    </tr>\n",
       "    <tr>\n",
       "      <th>...</th>\n",
       "      <td>...</td>\n",
       "      <td>...</td>\n",
       "      <td>...</td>\n",
       "      <td>...</td>\n",
       "      <td>...</td>\n",
       "      <td>...</td>\n",
       "      <td>...</td>\n",
       "      <td>...</td>\n",
       "      <td>...</td>\n",
       "      <td>...</td>\n",
       "      <td>...</td>\n",
       "      <td>...</td>\n",
       "      <td>...</td>\n",
       "      <td>...</td>\n",
       "    </tr>\n",
       "    <tr>\n",
       "      <th>31958</th>\n",
       "      <td>ЦБ-00171233</td>\n",
       "      <td>4ИзумрудПМ-0,540-кр+3/Г3 2КР57-0,030-3/4А</td>\n",
       "      <td>4изумрудпм-0,540-кр+3/г3 2кр57-0,030-3/4а</td>\n",
       "      <td>[(4, ИзумрудПМ, 0,540, кр, 3/Г3)]</td>\n",
       "      <td>(4, ИзумрудПМ, 0,540, кр, 3/Г3)</td>\n",
       "      <td>1</td>\n",
       "      <td>1</td>\n",
       "      <td>4</td>\n",
       "      <td>изумрудпм</td>\n",
       "      <td>0,540</td>\n",
       "      <td>кр</td>\n",
       "      <td>3/г3</td>\n",
       "      <td>3</td>\n",
       "      <td>г3</td>\n",
       "    </tr>\n",
       "    <tr>\n",
       "      <th>31971</th>\n",
       "      <td>ЦБ-00171334</td>\n",
       "      <td>2ИзумрудПМ-0,270-м+2/Г2 20КР57-0,240-3/5А</td>\n",
       "      <td>2изумрудпм-0,270-м+2/г2 20кр57-0,240-3/5а</td>\n",
       "      <td>[(2, ИзумрудПМ, 0,270, м, 2/Г2)]</td>\n",
       "      <td>(2, ИзумрудПМ, 0,270, м, 2/Г2)</td>\n",
       "      <td>1</td>\n",
       "      <td>1</td>\n",
       "      <td>2</td>\n",
       "      <td>изумрудпм</td>\n",
       "      <td>0,270</td>\n",
       "      <td>м</td>\n",
       "      <td>2/г2</td>\n",
       "      <td>2</td>\n",
       "      <td>г2</td>\n",
       "    </tr>\n",
       "    <tr>\n",
       "      <th>31975</th>\n",
       "      <td>ЦБ-00171360</td>\n",
       "      <td>2ИзумрудПМ-0,670-пр+5/Г1 2КР57-0,030-3/3А</td>\n",
       "      <td>2изумрудпм-0,670-пр+5/г1 2кр57-0,030-3/3а</td>\n",
       "      <td>[(2, ИзумрудПМ, 0,670, пр, 5/Г1)]</td>\n",
       "      <td>(2, ИзумрудПМ, 0,670, пр, 5/Г1)</td>\n",
       "      <td>1</td>\n",
       "      <td>1</td>\n",
       "      <td>2</td>\n",
       "      <td>изумрудпм</td>\n",
       "      <td>0,670</td>\n",
       "      <td>пр</td>\n",
       "      <td>5/г1</td>\n",
       "      <td>5</td>\n",
       "      <td>г1</td>\n",
       "    </tr>\n",
       "    <tr>\n",
       "      <th>32597</th>\n",
       "      <td>ЦБ-00177187</td>\n",
       "      <td>2ИзумрудПМ-0,166-НРОКр+3/Г3 6Кр57-0,076-4/5А 6...</td>\n",
       "      <td>2изумрудпм-0,166-нрокр+3/г3 6кр57-0,076-4/5а 6...</td>\n",
       "      <td>[(2, ИзумрудПМ, 0,166, НРОКр, 3/Г3)]</td>\n",
       "      <td>(2, ИзумрудПМ, 0,166, НРОКр, 3/Г3)</td>\n",
       "      <td>1</td>\n",
       "      <td>1</td>\n",
       "      <td>2</td>\n",
       "      <td>изумрудпм</td>\n",
       "      <td>0,166</td>\n",
       "      <td>нрокр</td>\n",
       "      <td>3/г3</td>\n",
       "      <td>3</td>\n",
       "      <td>г3</td>\n",
       "    </tr>\n",
       "    <tr>\n",
       "      <th>32933</th>\n",
       "      <td>ЦБ-00181335</td>\n",
       "      <td>6ИзумрудПМ-0,203-НРОКр+3/Г3 6КР57-0,244-3/4А</td>\n",
       "      <td>6изумрудпм-0,203-нрокр+3/г3 6кр57-0,244-3/4а</td>\n",
       "      <td>[(6, ИзумрудПМ, 0,203, НРОКр, 3/Г3)]</td>\n",
       "      <td>(6, ИзумрудПМ, 0,203, НРОКр, 3/Г3)</td>\n",
       "      <td>1</td>\n",
       "      <td>1</td>\n",
       "      <td>6</td>\n",
       "      <td>изумрудпм</td>\n",
       "      <td>0,203</td>\n",
       "      <td>нрокр</td>\n",
       "      <td>3/г3</td>\n",
       "      <td>3</td>\n",
       "      <td>г3</td>\n",
       "    </tr>\n",
       "  </tbody>\n",
       "</table>\n",
       "<p>309 rows × 14 columns</p>\n",
       "</div>"
      ],
      "text/plain": [
       "               Код                                        Вставки_д28  \\\n",
       "160    ЦБ-00019785       1ИзумрудПМ-1,270-НРООв+2/гз 7Кр57-0,100-3/3А   \n",
       "249    ЦБ-00019921       1ИзумрудПМ-0,100-НРОКр+4/Г3 4Кр57-0,040-2/4А   \n",
       "345    ЦБ-00090311  1ИзумрудПМ-0,234-НРОКр+3/Г2 6Кр57-0,148-2/2А 2...   \n",
       "372    ЦБ-00163308      1ИзумрудПМ-0,340-НРООв+3/Г3 12Кр17-0,030-2/2А   \n",
       "374    ЦБ-00163310      1ИзумрудПМ-0,159-НРОКр+3/Г2 12Кр57-0,113-3/4А   \n",
       "...            ...                                                ...   \n",
       "31958  ЦБ-00171233          4ИзумрудПМ-0,540-кр+3/Г3 2КР57-0,030-3/4А   \n",
       "31971  ЦБ-00171334          2ИзумрудПМ-0,270-м+2/Г2 20КР57-0,240-3/5А   \n",
       "31975  ЦБ-00171360          2ИзумрудПМ-0,670-пр+5/Г1 2КР57-0,030-3/3А   \n",
       "32597  ЦБ-00177187  2ИзумрудПМ-0,166-НРОКр+3/Г3 6Кр57-0,076-4/5А 6...   \n",
       "32933  ЦБ-00181335       6ИзумрудПМ-0,203-НРОКр+3/Г3 6КР57-0,244-3/4А   \n",
       "\n",
       "                                                emeralds  \\\n",
       "160         1изумрудпм-1,270-нроов+2/гз 7кр57-0,100-3/3а   \n",
       "249         1изумрудпм-0,100-нрокр+4/г3 4кр57-0,040-2/4а   \n",
       "345    1изумрудпм-0,234-нрокр+3/г2 6кр57-0,148-2/2а 2...   \n",
       "372        1изумрудпм-0,340-нроов+3/г3 12кр17-0,030-2/2а   \n",
       "374        1изумрудпм-0,159-нрокр+3/г2 12кр57-0,113-3/4а   \n",
       "...                                                  ...   \n",
       "31958          4изумрудпм-0,540-кр+3/г3 2кр57-0,030-3/4а   \n",
       "31971          2изумрудпм-0,270-м+2/г2 20кр57-0,240-3/5а   \n",
       "31975          2изумрудпм-0,670-пр+5/г1 2кр57-0,030-3/3а   \n",
       "32597  2изумрудпм-0,166-нрокр+3/г3 6кр57-0,076-4/5а 6...   \n",
       "32933       6изумрудпм-0,203-нрокр+3/г3 6кр57-0,244-3/4а   \n",
       "\n",
       "                                       re01  \\\n",
       "160     [(1, ИзумрудПМ, 1,270, НРООв, 2/г)]   \n",
       "249    [(1, ИзумрудПМ, 0,100, НРОКр, 4/Г3)]   \n",
       "345    [(1, ИзумрудПМ, 0,234, НРОКр, 3/Г2)]   \n",
       "372    [(1, ИзумрудПМ, 0,340, НРООв, 3/Г3)]   \n",
       "374    [(1, ИзумрудПМ, 0,159, НРОКр, 3/Г2)]   \n",
       "...                                     ...   \n",
       "31958     [(4, ИзумрудПМ, 0,540, кр, 3/Г3)]   \n",
       "31971      [(2, ИзумрудПМ, 0,270, м, 2/Г2)]   \n",
       "31975     [(2, ИзумрудПМ, 0,670, пр, 5/Г1)]   \n",
       "32597  [(2, ИзумрудПМ, 0,166, НРОКр, 3/Г3)]   \n",
       "32933  [(6, ИзумрудПМ, 0,203, НРОКр, 3/Г3)]   \n",
       "\n",
       "                             emerald_list  len_jem  len_em PCS        GEM  \\\n",
       "160     (1, ИзумрудПМ, 1,270, НРООв, 2/г)        1       1   1  изумрудпм   \n",
       "249    (1, ИзумрудПМ, 0,100, НРОКр, 4/Г3)        1       1   1  изумрудпм   \n",
       "345    (1, ИзумрудПМ, 0,234, НРОКр, 3/Г2)        1       1   1  изумрудпм   \n",
       "372    (1, ИзумрудПМ, 0,340, НРООв, 3/Г3)        1       1   1  изумрудпм   \n",
       "374    (1, ИзумрудПМ, 0,159, НРОКр, 3/Г2)        1       1   1  изумрудпм   \n",
       "...                                   ...      ...     ...  ..        ...   \n",
       "31958     (4, ИзумрудПМ, 0,540, кр, 3/Г3)        1       1   4  изумрудпм   \n",
       "31971      (2, ИзумрудПМ, 0,270, м, 2/Г2)        1       1   2  изумрудпм   \n",
       "31975     (2, ИзумрудПМ, 0,670, пр, 5/Г1)        1       1   2  изумрудпм   \n",
       "32597  (2, ИзумрудПМ, 0,166, НРОКр, 3/Г3)        1       1   2  изумрудпм   \n",
       "32933  (6, ИзумрудПМ, 0,203, НРОКр, 3/Г3)        1       1   6  изумрудпм   \n",
       "\n",
       "       CARAT   FORM    CQ  C   Q  \n",
       "160    1,270  нроов   2/г  2   г  \n",
       "249    0,100  нрокр  4/г3  4  г3  \n",
       "345    0,234  нрокр  3/г2  3  г2  \n",
       "372    0,340  нроов  3/г3  3  г3  \n",
       "374    0,159  нрокр  3/г2  3  г2  \n",
       "...      ...    ...   ... ..  ..  \n",
       "31958  0,540     кр  3/г3  3  г3  \n",
       "31971  0,270      м  2/г2  2  г2  \n",
       "31975  0,670     пр  5/г1  5  г1  \n",
       "32597  0,166  нрокр  3/г3  3  г3  \n",
       "32933  0,203  нрокр  3/г3  3  г3  \n",
       "\n",
       "[309 rows x 14 columns]"
      ]
     },
     "execution_count": 394,
     "metadata": {},
     "output_type": "execute_result"
    }
   ],
   "source": [
    "df_exp"
   ]
  },
  {
   "cell_type": "code",
   "execution_count": 395,
   "id": "742fc11a",
   "metadata": {},
   "outputs": [
    {
     "name": "stdout",
     "output_type": "stream",
     "text": [
      "PCS ['1' '3' '2' '' '218' '32' '7' '5' '4' '12' '6' '8' '17' '48' '18' '60']\n",
      "GEM ['изумрудпм' 'изумруд' 'изумрудпт']\n",
      "CARAT ['1,270' '0,100' '0,234' '0,340' '0,159' '0,420' '0,118' '1,134' '0,356'\n",
      " '0,170' '0,380' '1,490' '0,680' '0,520' '7,900' '0,450' '0,744' '5,230'\n",
      " '0,860' '0,160' '1,205' '3,990' '0,275' '0,590' '0,623' '0,640' '0,530'\n",
      " '0,900' '0,193' '0,875' '0,260' '0,219' '0,747' '0,090' '0,550' '0,150'\n",
      " '0,080' '0,110' '2,370' '0,722' '0,760' '0,650' '0,437' '0,717' '0,300'\n",
      " '0,662' '0,136' '0,200' '1,690' '0,836' '1,130' '0,250' '1,500' '1,930'\n",
      " '0,400' '1,350' '0,415' '0,276' '1,050' '0,500' '0,060' '0,750' '0,930'\n",
      " '0,096' '0,364' '0,663' '0,180' '1,880' '0,030' '0,211' '0,050' '0,540'\n",
      " '0,310' '2,360' '0,236' '0,403' '0,230' '1,370' '0,700' '0,330' '1,070'\n",
      " '2,300' '1,990' '0,800' '0,220' '0,510' '0,305' '0,026' '0,016' '0,020'\n",
      " '0,035' '0,071' '0,115' '0,254' '0,070' '0,130' '0,361' '0,366' '1,253'\n",
      " '0,345' '0,910' '0,120' '0,055' '0,088' '0,053' '0,430' '0,210' '9,070'\n",
      " '0,290' '0,320' '0,143' '3,120' '0,426' '0,041' '0,105' '14,680' '0,460'\n",
      " '0,190' '0,377' '0,262' '0,099' '0,213' '0,163' '0,155' '0,280' '0,580'\n",
      " '0,040' '0,140' '0,112' '0,043' '0,41' '0,141' '0,044' '0,176' '0,390'\n",
      " '0,038' '0,360' '0,370' '0,166' '22,610' '1,400' '0,240' '0,600' '0,270'\n",
      " '0,810' '1,300' '0,62' '0,687' '0,265' '0,225' '0,440' '0,350' '0,480'\n",
      " '1,600' '0,670' '0,203']\n",
      "FORM ['нроов' 'нрокр' 'нрог' 'нропр' 'багет' 'и41' 'нроф' 'кр' 'кв21' 'нрочл'\n",
      " 'пр21' 'ов' 'нрокр-кр' 'нрооо' 'о49' 'кр57' 'кбовв' 'нрокв' 'н41' 'бр17'\n",
      " 'кв-21' 'м' 'пр']\n",
      "CQ ['2/г' '4/г3' '3/г2' '3/г3' '4/г2' '3/к1' '2/г2' '2/г3' '3/г1' '5/г1'\n",
      " '5/г3' '2/к3' '4/г1' '1/г3' '5/г2' '1/г2']\n"
     ]
    }
   ],
   "source": [
    "for c in cols:\n",
    "    print(c, df_exp[c].unique())"
   ]
  },
  {
   "cell_type": "code",
   "execution_count": 396,
   "id": "ae7161ed",
   "metadata": {},
   "outputs": [
    {
     "data": {
      "text/html": [
       "<div>\n",
       "<style scoped>\n",
       "    .dataframe tbody tr th:only-of-type {\n",
       "        vertical-align: middle;\n",
       "    }\n",
       "\n",
       "    .dataframe tbody tr th {\n",
       "        vertical-align: top;\n",
       "    }\n",
       "\n",
       "    .dataframe thead th {\n",
       "        text-align: right;\n",
       "    }\n",
       "</style>\n",
       "<table border=\"1\" class=\"dataframe\">\n",
       "  <thead>\n",
       "    <tr style=\"text-align: right;\">\n",
       "      <th></th>\n",
       "      <th>Код</th>\n",
       "      <th>Вставки_д28</th>\n",
       "      <th>emeralds</th>\n",
       "      <th>re01</th>\n",
       "      <th>emerald_list</th>\n",
       "      <th>len_jem</th>\n",
       "      <th>len_em</th>\n",
       "      <th>PCS</th>\n",
       "      <th>GEM</th>\n",
       "      <th>CARAT</th>\n",
       "      <th>FORM</th>\n",
       "      <th>CQ</th>\n",
       "      <th>C</th>\n",
       "      <th>Q</th>\n",
       "    </tr>\n",
       "  </thead>\n",
       "  <tbody>\n",
       "    <tr>\n",
       "      <th>160</th>\n",
       "      <td>ЦБ-00019785</td>\n",
       "      <td>1ИзумрудПМ-1,270-НРООв+2/гз 7Кр57-0,100-3/3А</td>\n",
       "      <td>1изумрудпм-1,270-нроов+2/гз 7кр57-0,100-3/3а</td>\n",
       "      <td>[(1, ИзумрудПМ, 1,270, НРООв, 2/г)]</td>\n",
       "      <td>(1, ИзумрудПМ, 1,270, НРООв, 2/г)</td>\n",
       "      <td>1</td>\n",
       "      <td>1</td>\n",
       "      <td>1</td>\n",
       "      <td>изумрудпм</td>\n",
       "      <td>1,270</td>\n",
       "      <td>нроов</td>\n",
       "      <td>2/г</td>\n",
       "      <td>2</td>\n",
       "      <td>г</td>\n",
       "    </tr>\n",
       "  </tbody>\n",
       "</table>\n",
       "</div>"
      ],
      "text/plain": [
       "             Код                                   Вставки_д28  \\\n",
       "160  ЦБ-00019785  1ИзумрудПМ-1,270-НРООв+2/гз 7Кр57-0,100-3/3А   \n",
       "\n",
       "                                         emeralds  \\\n",
       "160  1изумрудпм-1,270-нроов+2/гз 7кр57-0,100-3/3а   \n",
       "\n",
       "                                    re01                       emerald_list  \\\n",
       "160  [(1, ИзумрудПМ, 1,270, НРООв, 2/г)]  (1, ИзумрудПМ, 1,270, НРООв, 2/г)   \n",
       "\n",
       "     len_jem  len_em PCS        GEM  CARAT   FORM   CQ  C  Q  \n",
       "160        1       1   1  изумрудпм  1,270  нроов  2/г  2  г  "
      ]
     },
     "execution_count": 396,
     "metadata": {},
     "output_type": "execute_result"
    }
   ],
   "source": [
    "df_exp[df_exp['CQ']=='2/г']"
   ]
  },
  {
   "cell_type": "code",
   "execution_count": 397,
   "id": "fab60eb4",
   "metadata": {},
   "outputs": [
    {
     "data": {
      "text/html": [
       "<div>\n",
       "<style scoped>\n",
       "    .dataframe tbody tr th:only-of-type {\n",
       "        vertical-align: middle;\n",
       "    }\n",
       "\n",
       "    .dataframe tbody tr th {\n",
       "        vertical-align: top;\n",
       "    }\n",
       "\n",
       "    .dataframe thead th {\n",
       "        text-align: right;\n",
       "    }\n",
       "</style>\n",
       "<table border=\"1\" class=\"dataframe\">\n",
       "  <thead>\n",
       "    <tr style=\"text-align: right;\">\n",
       "      <th></th>\n",
       "      <th>Код</th>\n",
       "      <th>Вставки_д28</th>\n",
       "      <th>emeralds</th>\n",
       "      <th>re01</th>\n",
       "      <th>emerald_list</th>\n",
       "      <th>len_jem</th>\n",
       "      <th>len_em</th>\n",
       "      <th>PCS</th>\n",
       "      <th>GEM</th>\n",
       "      <th>CARAT</th>\n",
       "      <th>FORM</th>\n",
       "      <th>CQ</th>\n",
       "      <th>C</th>\n",
       "      <th>Q</th>\n",
       "    </tr>\n",
       "  </thead>\n",
       "  <tbody>\n",
       "    <tr>\n",
       "      <th>1181</th>\n",
       "      <td>ЦБ-00160609</td>\n",
       "      <td>ИзумрудПМ-7,900-И41+4/Г3 59КР57-0,690-4/4А 43К...</td>\n",
       "      <td>изумрудпм-7,900-и41+4/г3 59кр57-0,690-4/4а 43к...</td>\n",
       "      <td>[(, ИзумрудПМ, 7,900, И41, 4/Г3)]</td>\n",
       "      <td>(, ИзумрудПМ, 7,900, И41, 4/Г3)</td>\n",
       "      <td>1</td>\n",
       "      <td>1</td>\n",
       "      <td></td>\n",
       "      <td>изумрудпм</td>\n",
       "      <td>7,900</td>\n",
       "      <td>и41</td>\n",
       "      <td>4/г3</td>\n",
       "      <td>4</td>\n",
       "      <td>г3</td>\n",
       "    </tr>\n",
       "    <tr>\n",
       "      <th>25598</th>\n",
       "      <td>ЦБ-00181874</td>\n",
       "      <td>ИзумрудПМ-0,280-НРООв+3/Г3 3КР57-0,040-3/3А</td>\n",
       "      <td>изумрудпм-0,280-нроов+3/г3 3кр57-0,040-3/3а</td>\n",
       "      <td>[(, ИзумрудПМ, 0,280, НРООв, 3/Г3)]</td>\n",
       "      <td>(, ИзумрудПМ, 0,280, НРООв, 3/Г3)</td>\n",
       "      <td>1</td>\n",
       "      <td>1</td>\n",
       "      <td></td>\n",
       "      <td>изумрудпм</td>\n",
       "      <td>0,280</td>\n",
       "      <td>нроов</td>\n",
       "      <td>3/г3</td>\n",
       "      <td>3</td>\n",
       "      <td>г3</td>\n",
       "    </tr>\n",
       "  </tbody>\n",
       "</table>\n",
       "</div>"
      ],
      "text/plain": [
       "               Код                                        Вставки_д28  \\\n",
       "1181   ЦБ-00160609  ИзумрудПМ-7,900-И41+4/Г3 59КР57-0,690-4/4А 43К...   \n",
       "25598  ЦБ-00181874        ИзумрудПМ-0,280-НРООв+3/Г3 3КР57-0,040-3/3А   \n",
       "\n",
       "                                                emeralds  \\\n",
       "1181   изумрудпм-7,900-и41+4/г3 59кр57-0,690-4/4а 43к...   \n",
       "25598        изумрудпм-0,280-нроов+3/г3 3кр57-0,040-3/3а   \n",
       "\n",
       "                                      re01                       emerald_list  \\\n",
       "1181     [(, ИзумрудПМ, 7,900, И41, 4/Г3)]    (, ИзумрудПМ, 7,900, И41, 4/Г3)   \n",
       "25598  [(, ИзумрудПМ, 0,280, НРООв, 3/Г3)]  (, ИзумрудПМ, 0,280, НРООв, 3/Г3)   \n",
       "\n",
       "       len_jem  len_em PCS        GEM  CARAT   FORM    CQ  C   Q  \n",
       "1181         1       1      изумрудпм  7,900    и41  4/г3  4  г3  \n",
       "25598        1       1      изумрудпм  0,280  нроов  3/г3  3  г3  "
      ]
     },
     "execution_count": 397,
     "metadata": {},
     "output_type": "execute_result"
    }
   ],
   "source": [
    "df_exp[df_exp['PCS']=='']"
   ]
  },
  {
   "cell_type": "code",
   "execution_count": 312,
   "id": "9e71602d",
   "metadata": {},
   "outputs": [],
   "source": [
    "df_exp['C'] = df_exp['CQ'].apply(lambda x: x.split('/')[0].lower().strip())\n",
    "df_exp['Q'] = df_exp['CQ'].apply(lambda x: x.split('/')[1].lower().strip())"
   ]
  },
  {
   "cell_type": "code",
   "execution_count": 313,
   "id": "e403088b",
   "metadata": {
    "scrolled": false
   },
   "outputs": [
    {
     "data": {
      "text/html": [
       "<div>\n",
       "<style scoped>\n",
       "    .dataframe tbody tr th:only-of-type {\n",
       "        vertical-align: middle;\n",
       "    }\n",
       "\n",
       "    .dataframe tbody tr th {\n",
       "        vertical-align: top;\n",
       "    }\n",
       "\n",
       "    .dataframe thead th {\n",
       "        text-align: right;\n",
       "    }\n",
       "</style>\n",
       "<table border=\"1\" class=\"dataframe\">\n",
       "  <thead>\n",
       "    <tr style=\"text-align: right;\">\n",
       "      <th></th>\n",
       "      <th>Код</th>\n",
       "      <th>Вставки_д28</th>\n",
       "      <th>emeralds</th>\n",
       "      <th>re01</th>\n",
       "      <th>emerald_list</th>\n",
       "      <th>len_jem</th>\n",
       "      <th>len_em</th>\n",
       "      <th>PCS</th>\n",
       "      <th>GEM</th>\n",
       "      <th>CARAT</th>\n",
       "      <th>FORM</th>\n",
       "      <th>CQ</th>\n",
       "      <th>C</th>\n",
       "      <th>Q</th>\n",
       "    </tr>\n",
       "  </thead>\n",
       "  <tbody>\n",
       "    <tr>\n",
       "      <th>160</th>\n",
       "      <td>ЦБ-00019785</td>\n",
       "      <td>1ИзумрудПМ-1,270-НРООв+2/гз 7Кр57-0,100-3/3А</td>\n",
       "      <td>1изумрудпм-1,270-нроов+2/гз 7кр57-0,100-3/3а</td>\n",
       "      <td>[(1, ИзумрудПМ, 1,270, НРООв, 2/г)]</td>\n",
       "      <td>(1, ИзумрудПМ, 1,270, НРООв, 2/г)</td>\n",
       "      <td>1</td>\n",
       "      <td>1</td>\n",
       "      <td>1</td>\n",
       "      <td>изумрудпм</td>\n",
       "      <td>1,270</td>\n",
       "      <td>нроов</td>\n",
       "      <td>2/г</td>\n",
       "      <td>2</td>\n",
       "      <td>г</td>\n",
       "    </tr>\n",
       "    <tr>\n",
       "      <th>249</th>\n",
       "      <td>ЦБ-00019921</td>\n",
       "      <td>1ИзумрудПМ-0,100-НРОКр+4/Г3 4Кр57-0,040-2/4А</td>\n",
       "      <td>1изумрудпм-0,100-нрокр+4/г3 4кр57-0,040-2/4а</td>\n",
       "      <td>[(1, ИзумрудПМ, 0,100, НРОКр, 4/Г3)]</td>\n",
       "      <td>(1, ИзумрудПМ, 0,100, НРОКр, 4/Г3)</td>\n",
       "      <td>1</td>\n",
       "      <td>1</td>\n",
       "      <td>1</td>\n",
       "      <td>изумрудпм</td>\n",
       "      <td>0,100</td>\n",
       "      <td>нрокр</td>\n",
       "      <td>4/г3</td>\n",
       "      <td>4</td>\n",
       "      <td>г3</td>\n",
       "    </tr>\n",
       "    <tr>\n",
       "      <th>345</th>\n",
       "      <td>ЦБ-00090311</td>\n",
       "      <td>1ИзумрудПМ-0,234-НРОКр+3/Г2 6Кр57-0,148-2/2А 2...</td>\n",
       "      <td>1изумрудпм-0,234-нрокр+3/г2 6кр57-0,148-2/2а 2...</td>\n",
       "      <td>[(1, ИзумрудПМ, 0,234, НРОКр, 3/Г2)]</td>\n",
       "      <td>(1, ИзумрудПМ, 0,234, НРОКр, 3/Г2)</td>\n",
       "      <td>1</td>\n",
       "      <td>1</td>\n",
       "      <td>1</td>\n",
       "      <td>изумрудпм</td>\n",
       "      <td>0,234</td>\n",
       "      <td>нрокр</td>\n",
       "      <td>3/г2</td>\n",
       "      <td>3</td>\n",
       "      <td>г2</td>\n",
       "    </tr>\n",
       "    <tr>\n",
       "      <th>372</th>\n",
       "      <td>ЦБ-00163308</td>\n",
       "      <td>1ИзумрудПМ-0,340-НРООв+3/Г3 12Кр17-0,030-2/2А</td>\n",
       "      <td>1изумрудпм-0,340-нроов+3/г3 12кр17-0,030-2/2а</td>\n",
       "      <td>[(1, ИзумрудПМ, 0,340, НРООв, 3/Г3)]</td>\n",
       "      <td>(1, ИзумрудПМ, 0,340, НРООв, 3/Г3)</td>\n",
       "      <td>1</td>\n",
       "      <td>1</td>\n",
       "      <td>1</td>\n",
       "      <td>изумрудпм</td>\n",
       "      <td>0,340</td>\n",
       "      <td>нроов</td>\n",
       "      <td>3/г3</td>\n",
       "      <td>3</td>\n",
       "      <td>г3</td>\n",
       "    </tr>\n",
       "    <tr>\n",
       "      <th>374</th>\n",
       "      <td>ЦБ-00163310</td>\n",
       "      <td>1ИзумрудПМ-0,159-НРОКр+3/Г2 12Кр57-0,113-3/4А</td>\n",
       "      <td>1изумрудпм-0,159-нрокр+3/г2 12кр57-0,113-3/4а</td>\n",
       "      <td>[(1, ИзумрудПМ, 0,159, НРОКр, 3/Г2)]</td>\n",
       "      <td>(1, ИзумрудПМ, 0,159, НРОКр, 3/Г2)</td>\n",
       "      <td>1</td>\n",
       "      <td>1</td>\n",
       "      <td>1</td>\n",
       "      <td>изумрудпм</td>\n",
       "      <td>0,159</td>\n",
       "      <td>нрокр</td>\n",
       "      <td>3/г2</td>\n",
       "      <td>3</td>\n",
       "      <td>г2</td>\n",
       "    </tr>\n",
       "    <tr>\n",
       "      <th>...</th>\n",
       "      <td>...</td>\n",
       "      <td>...</td>\n",
       "      <td>...</td>\n",
       "      <td>...</td>\n",
       "      <td>...</td>\n",
       "      <td>...</td>\n",
       "      <td>...</td>\n",
       "      <td>...</td>\n",
       "      <td>...</td>\n",
       "      <td>...</td>\n",
       "      <td>...</td>\n",
       "      <td>...</td>\n",
       "      <td>...</td>\n",
       "      <td>...</td>\n",
       "    </tr>\n",
       "    <tr>\n",
       "      <th>31958</th>\n",
       "      <td>ЦБ-00171233</td>\n",
       "      <td>4ИзумрудПМ-0,540-кр+3/Г3 2КР57-0,030-3/4А</td>\n",
       "      <td>4изумрудпм-0,540-кр+3/г3 2кр57-0,030-3/4а</td>\n",
       "      <td>[(4, ИзумрудПМ, 0,540, кр, 3/Г3)]</td>\n",
       "      <td>(4, ИзумрудПМ, 0,540, кр, 3/Г3)</td>\n",
       "      <td>1</td>\n",
       "      <td>1</td>\n",
       "      <td>4</td>\n",
       "      <td>изумрудпм</td>\n",
       "      <td>0,540</td>\n",
       "      <td>кр</td>\n",
       "      <td>3/г3</td>\n",
       "      <td>3</td>\n",
       "      <td>г3</td>\n",
       "    </tr>\n",
       "    <tr>\n",
       "      <th>31971</th>\n",
       "      <td>ЦБ-00171334</td>\n",
       "      <td>2ИзумрудПМ-0,270-м+2/Г2 20КР57-0,240-3/5А</td>\n",
       "      <td>2изумрудпм-0,270-м+2/г2 20кр57-0,240-3/5а</td>\n",
       "      <td>[(2, ИзумрудПМ, 0,270, м, 2/Г2)]</td>\n",
       "      <td>(2, ИзумрудПМ, 0,270, м, 2/Г2)</td>\n",
       "      <td>1</td>\n",
       "      <td>1</td>\n",
       "      <td>2</td>\n",
       "      <td>изумрудпм</td>\n",
       "      <td>0,270</td>\n",
       "      <td>м</td>\n",
       "      <td>2/г2</td>\n",
       "      <td>2</td>\n",
       "      <td>г2</td>\n",
       "    </tr>\n",
       "    <tr>\n",
       "      <th>31975</th>\n",
       "      <td>ЦБ-00171360</td>\n",
       "      <td>2ИзумрудПМ-0,670-пр+5/Г1 2КР57-0,030-3/3А</td>\n",
       "      <td>2изумрудпм-0,670-пр+5/г1 2кр57-0,030-3/3а</td>\n",
       "      <td>[(2, ИзумрудПМ, 0,670, пр, 5/Г1)]</td>\n",
       "      <td>(2, ИзумрудПМ, 0,670, пр, 5/Г1)</td>\n",
       "      <td>1</td>\n",
       "      <td>1</td>\n",
       "      <td>2</td>\n",
       "      <td>изумрудпм</td>\n",
       "      <td>0,670</td>\n",
       "      <td>пр</td>\n",
       "      <td>5/г1</td>\n",
       "      <td>5</td>\n",
       "      <td>г1</td>\n",
       "    </tr>\n",
       "    <tr>\n",
       "      <th>32597</th>\n",
       "      <td>ЦБ-00177187</td>\n",
       "      <td>2ИзумрудПМ-0,166-НРОКр+3/Г3 6Кр57-0,076-4/5А 6...</td>\n",
       "      <td>2изумрудпм-0,166-нрокр+3/г3 6кр57-0,076-4/5а 6...</td>\n",
       "      <td>[(2, ИзумрудПМ, 0,166, НРОКр, 3/Г3)]</td>\n",
       "      <td>(2, ИзумрудПМ, 0,166, НРОКр, 3/Г3)</td>\n",
       "      <td>1</td>\n",
       "      <td>1</td>\n",
       "      <td>2</td>\n",
       "      <td>изумрудпм</td>\n",
       "      <td>0,166</td>\n",
       "      <td>нрокр</td>\n",
       "      <td>3/г3</td>\n",
       "      <td>3</td>\n",
       "      <td>г3</td>\n",
       "    </tr>\n",
       "    <tr>\n",
       "      <th>32933</th>\n",
       "      <td>ЦБ-00181335</td>\n",
       "      <td>6ИзумрудПМ-0,203-НРОКр+3/Г3 6КР57-0,244-3/4А</td>\n",
       "      <td>6изумрудпм-0,203-нрокр+3/г3 6кр57-0,244-3/4а</td>\n",
       "      <td>[(6, ИзумрудПМ, 0,203, НРОКр, 3/Г3)]</td>\n",
       "      <td>(6, ИзумрудПМ, 0,203, НРОКр, 3/Г3)</td>\n",
       "      <td>1</td>\n",
       "      <td>1</td>\n",
       "      <td>6</td>\n",
       "      <td>изумрудпм</td>\n",
       "      <td>0,203</td>\n",
       "      <td>нрокр</td>\n",
       "      <td>3/г3</td>\n",
       "      <td>3</td>\n",
       "      <td>г3</td>\n",
       "    </tr>\n",
       "  </tbody>\n",
       "</table>\n",
       "<p>309 rows × 14 columns</p>\n",
       "</div>"
      ],
      "text/plain": [
       "               Код                                        Вставки_д28  \\\n",
       "160    ЦБ-00019785       1ИзумрудПМ-1,270-НРООв+2/гз 7Кр57-0,100-3/3А   \n",
       "249    ЦБ-00019921       1ИзумрудПМ-0,100-НРОКр+4/Г3 4Кр57-0,040-2/4А   \n",
       "345    ЦБ-00090311  1ИзумрудПМ-0,234-НРОКр+3/Г2 6Кр57-0,148-2/2А 2...   \n",
       "372    ЦБ-00163308      1ИзумрудПМ-0,340-НРООв+3/Г3 12Кр17-0,030-2/2А   \n",
       "374    ЦБ-00163310      1ИзумрудПМ-0,159-НРОКр+3/Г2 12Кр57-0,113-3/4А   \n",
       "...            ...                                                ...   \n",
       "31958  ЦБ-00171233          4ИзумрудПМ-0,540-кр+3/Г3 2КР57-0,030-3/4А   \n",
       "31971  ЦБ-00171334          2ИзумрудПМ-0,270-м+2/Г2 20КР57-0,240-3/5А   \n",
       "31975  ЦБ-00171360          2ИзумрудПМ-0,670-пр+5/Г1 2КР57-0,030-3/3А   \n",
       "32597  ЦБ-00177187  2ИзумрудПМ-0,166-НРОКр+3/Г3 6Кр57-0,076-4/5А 6...   \n",
       "32933  ЦБ-00181335       6ИзумрудПМ-0,203-НРОКр+3/Г3 6КР57-0,244-3/4А   \n",
       "\n",
       "                                                emeralds  \\\n",
       "160         1изумрудпм-1,270-нроов+2/гз 7кр57-0,100-3/3а   \n",
       "249         1изумрудпм-0,100-нрокр+4/г3 4кр57-0,040-2/4а   \n",
       "345    1изумрудпм-0,234-нрокр+3/г2 6кр57-0,148-2/2а 2...   \n",
       "372        1изумрудпм-0,340-нроов+3/г3 12кр17-0,030-2/2а   \n",
       "374        1изумрудпм-0,159-нрокр+3/г2 12кр57-0,113-3/4а   \n",
       "...                                                  ...   \n",
       "31958          4изумрудпм-0,540-кр+3/г3 2кр57-0,030-3/4а   \n",
       "31971          2изумрудпм-0,270-м+2/г2 20кр57-0,240-3/5а   \n",
       "31975          2изумрудпм-0,670-пр+5/г1 2кр57-0,030-3/3а   \n",
       "32597  2изумрудпм-0,166-нрокр+3/г3 6кр57-0,076-4/5а 6...   \n",
       "32933       6изумрудпм-0,203-нрокр+3/г3 6кр57-0,244-3/4а   \n",
       "\n",
       "                                       re01  \\\n",
       "160     [(1, ИзумрудПМ, 1,270, НРООв, 2/г)]   \n",
       "249    [(1, ИзумрудПМ, 0,100, НРОКр, 4/Г3)]   \n",
       "345    [(1, ИзумрудПМ, 0,234, НРОКр, 3/Г2)]   \n",
       "372    [(1, ИзумрудПМ, 0,340, НРООв, 3/Г3)]   \n",
       "374    [(1, ИзумрудПМ, 0,159, НРОКр, 3/Г2)]   \n",
       "...                                     ...   \n",
       "31958     [(4, ИзумрудПМ, 0,540, кр, 3/Г3)]   \n",
       "31971      [(2, ИзумрудПМ, 0,270, м, 2/Г2)]   \n",
       "31975     [(2, ИзумрудПМ, 0,670, пр, 5/Г1)]   \n",
       "32597  [(2, ИзумрудПМ, 0,166, НРОКр, 3/Г3)]   \n",
       "32933  [(6, ИзумрудПМ, 0,203, НРОКр, 3/Г3)]   \n",
       "\n",
       "                             emerald_list  len_jem  len_em PCS        GEM  \\\n",
       "160     (1, ИзумрудПМ, 1,270, НРООв, 2/г)        1       1   1  изумрудпм   \n",
       "249    (1, ИзумрудПМ, 0,100, НРОКр, 4/Г3)        1       1   1  изумрудпм   \n",
       "345    (1, ИзумрудПМ, 0,234, НРОКр, 3/Г2)        1       1   1  изумрудпм   \n",
       "372    (1, ИзумрудПМ, 0,340, НРООв, 3/Г3)        1       1   1  изумрудпм   \n",
       "374    (1, ИзумрудПМ, 0,159, НРОКр, 3/Г2)        1       1   1  изумрудпм   \n",
       "...                                   ...      ...     ...  ..        ...   \n",
       "31958     (4, ИзумрудПМ, 0,540, кр, 3/Г3)        1       1   4  изумрудпм   \n",
       "31971      (2, ИзумрудПМ, 0,270, м, 2/Г2)        1       1   2  изумрудпм   \n",
       "31975     (2, ИзумрудПМ, 0,670, пр, 5/Г1)        1       1   2  изумрудпм   \n",
       "32597  (2, ИзумрудПМ, 0,166, НРОКр, 3/Г3)        1       1   2  изумрудпм   \n",
       "32933  (6, ИзумрудПМ, 0,203, НРОКр, 3/Г3)        1       1   6  изумрудпм   \n",
       "\n",
       "       CARAT   FORM    CQ  C   Q  \n",
       "160    1,270  нроов   2/г  2   г  \n",
       "249    0,100  нрокр  4/г3  4  г3  \n",
       "345    0,234  нрокр  3/г2  3  г2  \n",
       "372    0,340  нроов  3/г3  3  г3  \n",
       "374    0,159  нрокр  3/г2  3  г2  \n",
       "...      ...    ...   ... ..  ..  \n",
       "31958  0,540     кр  3/г3  3  г3  \n",
       "31971  0,270      м  2/г2  2  г2  \n",
       "31975  0,670     пр  5/г1  5  г1  \n",
       "32597  0,166  нрокр  3/г3  3  г3  \n",
       "32933  0,203  нрокр  3/г3  3  г3  \n",
       "\n",
       "[309 rows x 14 columns]"
      ]
     },
     "execution_count": 313,
     "metadata": {},
     "output_type": "execute_result"
    }
   ],
   "source": [
    "df_exp"
   ]
  },
  {
   "cell_type": "code",
   "execution_count": 469,
   "id": "0492f963",
   "metadata": {},
   "outputs": [
    {
     "data": {
      "text/plain": [
       "True"
      ]
     },
     "execution_count": 469,
     "metadata": {},
     "output_type": "execute_result"
    }
   ],
   "source": [
    "df_exp['C'].apply(lambda x: x in dcol_em_sto).all()"
   ]
  },
  {
   "cell_type": "code",
   "execution_count": 467,
   "id": "3717289e",
   "metadata": {},
   "outputs": [
    {
     "data": {
      "text/plain": [
       "{'help': ['К1К2Г1Г2Г3'],\n",
       " 'г3': 'Г3',\n",
       " 'г2': 'Г2',\n",
       " 'г1': 'Г1',\n",
       " 'к1': 'К1',\n",
       " 'к2': 'К2',\n",
       " 'k1': 'К1',\n",
       " 'k2': 'К2'}"
      ]
     },
     "execution_count": 467,
     "metadata": {},
     "output_type": "execute_result"
    }
   ],
   "source": [
    "dcla_em_sto"
   ]
  },
  {
   "cell_type": "code",
   "execution_count": null,
   "id": "0ab83aa6",
   "metadata": {},
   "outputs": [],
   "source": [
    "vstavki_d.Д.apply(lambda x: x in dcla_dia).unique()"
   ]
  },
  {
   "cell_type": "code",
   "execution_count": null,
   "id": "77fbcbd6",
   "metadata": {},
   "outputs": [],
   "source": []
  },
  {
   "cell_type": "code",
   "execution_count": null,
   "id": "05d531a4",
   "metadata": {},
   "outputs": [],
   "source": []
  },
  {
   "cell_type": "code",
   "execution_count": null,
   "id": "8d1cb8f5",
   "metadata": {},
   "outputs": [],
   "source": []
  },
  {
   "cell_type": "code",
   "execution_count": null,
   "id": "f6d82653",
   "metadata": {},
   "outputs": [],
   "source": []
  },
  {
   "cell_type": "code",
   "execution_count": null,
   "id": "6d992866",
   "metadata": {},
   "outputs": [],
   "source": []
  },
  {
   "cell_type": "code",
   "execution_count": null,
   "id": "d3349f23",
   "metadata": {},
   "outputs": [],
   "source": []
  },
  {
   "cell_type": "markdown",
   "id": "1853e464",
   "metadata": {},
   "source": [
    "## Формирование словарей"
   ]
  },
  {
   "cell_type": "code",
   "execution_count": 457,
   "id": "2a9eb1e0",
   "metadata": {},
   "outputs": [],
   "source": [
    "from rusprice.dictdiamonds import dcol_dia, dcla_dia, dpo_dia, dogr_dia_discount"
   ]
  },
  {
   "cell_type": "markdown",
   "id": "08b65e4f",
   "metadata": {},
   "source": [
    "цвет ['1' '2' '3' '4' '5']\n",
    "чистота ['К1' 'К2' 'Г1' 'Г2' 'Г3']"
   ]
  },
  {
   "cell_type": "code",
   "execution_count": 655,
   "id": "facfda3a",
   "metadata": {},
   "outputs": [],
   "source": [
    "dcol_em_sto = {'help':['1', '2', '3', '4', '5'],\n",
    "               '1':'1' ,\n",
    "               '2':'2' , \n",
    "               '3':'3' ,\n",
    "               '4':'4',  \n",
    "               '5':'5'}"
   ]
  },
  {
   "cell_type": "code",
   "execution_count": 656,
   "id": "bdf82b63",
   "metadata": {},
   "outputs": [],
   "source": [
    "dcla_em_sto = {'help':['К1', 'К2', 'Г1', 'Г2', 'Г3'],\n",
    "                   'г3':'Г3',\n",
    "                   'г2':'Г2',\n",
    "                   'г1':'Г1',\n",
    "                   'к1':'К1', \n",
    "                   'к2':'К2',\n",
    "                   'k1':'К1' , \n",
    "                   'k2':'К2'}\n",
    "                   #   "
   ]
  },
  {
   "cell_type": "code",
   "execution_count": null,
   "id": "00faf490",
   "metadata": {},
   "outputs": [],
   "source": []
  },
  {
   "cell_type": "code",
   "execution_count": null,
   "id": "67a6f21a",
   "metadata": {},
   "outputs": [],
   "source": []
  },
  {
   "cell_type": "code",
   "execution_count": 789,
   "id": "91acbabb",
   "metadata": {},
   "outputs": [
    {
     "name": "stdout",
     "output_type": "stream",
     "text": [
      "Writing module_prgem.dictemeralds.py\n"
     ]
    }
   ],
   "source": [
    "#%%writefile module_prgem.dictemeralds.py\n",
    "#словари для изумрудов СТО по прейскуранту \n",
    "#цвет ['1', '2', '3', '4', '5']\n",
    "#чистота ['К1', 'К2', 'Г1', 'Г2', 'Г3']\n",
    "\n",
    "dcol_em_sto = {'help':['1', '2', '3', '4', '5'],\n",
    "               '1':'1' ,\n",
    "               '2':'2' , \n",
    "               '3':'3' ,\n",
    "               '4':'4',  \n",
    "               '5':'5'}\n",
    "\n",
    "dcla_em_sto = {'help':['К1', 'К2', 'Г1', 'Г2', 'Г3'],\n",
    "                   'г3':'Г3',\n",
    "                   'г2':'Г2',\n",
    "                   'г1':'Г1',\n",
    "                   'к1':'К1', \n",
    "                   'к2':'К2',\n",
    "                   'k1':'К1' , \n",
    "                   'k2':'К2'}\n",
    "                   \n",
    "\n",
    "\n",
    "\n"
   ]
  },
  {
   "cell_type": "code",
   "execution_count": 792,
   "id": "199d4362",
   "metadata": {},
   "outputs": [],
   "source": []
  },
  {
   "cell_type": "code",
   "execution_count": 314,
   "id": "1ec38d45",
   "metadata": {},
   "outputs": [
    {
     "data": {
      "text/plain": [
       "array(['2', '4', '3', '5', '1'], dtype=object)"
      ]
     },
     "execution_count": 314,
     "metadata": {},
     "output_type": "execute_result"
    }
   ],
   "source": [
    "df_exp['C'].unique()"
   ]
  },
  {
   "cell_type": "code",
   "execution_count": 315,
   "id": "0dec0173",
   "metadata": {},
   "outputs": [
    {
     "data": {
      "text/plain": [
       "array(['г', 'г3', 'г2', 'к1', 'г1', 'к3'], dtype=object)"
      ]
     },
     "execution_count": 315,
     "metadata": {},
     "output_type": "execute_result"
    }
   ],
   "source": [
    "df_exp['Q'].unique()"
   ]
  },
  {
   "cell_type": "code",
   "execution_count": 319,
   "id": "eff27012",
   "metadata": {},
   "outputs": [
    {
     "data": {
      "text/plain": [
       "array(['1', '3', '2', '', '218', '32', '7', '5', '4', '12', '6', '8',\n",
       "       '17', '48', '18', '60'], dtype=object)"
      ]
     },
     "execution_count": 319,
     "metadata": {},
     "output_type": "execute_result"
    }
   ],
   "source": [
    "df_exp['PCS'].unique()"
   ]
  },
  {
   "cell_type": "code",
   "execution_count": null,
   "id": "d1a3187e",
   "metadata": {},
   "outputs": [],
   "source": [
    "df_exp[df_exp['PCS']=='']"
   ]
  },
  {
   "cell_type": "code",
   "execution_count": 318,
   "id": "62246fa4",
   "metadata": {
    "scrolled": true
   },
   "outputs": [
    {
     "data": {
      "text/plain": [
       "160      1.270\n",
       "249      0.100\n",
       "345      0.234\n",
       "372      0.340\n",
       "374      0.159\n",
       "         ...  \n",
       "31958    0.540\n",
       "31971    0.270\n",
       "31975    0.670\n",
       "32597    0.166\n",
       "32933    0.203\n",
       "Name: CARAT, Length: 309, dtype: float64"
      ]
     },
     "execution_count": 318,
     "metadata": {},
     "output_type": "execute_result"
    }
   ],
   "source": [
    "df_exp['CARAT'].str.replace(',','.').astype('float')"
   ]
  },
  {
   "cell_type": "markdown",
   "id": "965df2de",
   "metadata": {},
   "source": [
    "### Разработка продолжается средняя масса dfx = df_exp tests_errors= list()"
   ]
  },
  {
   "cell_type": "code",
   "execution_count": 552,
   "id": "62193803",
   "metadata": {},
   "outputs": [],
   "source": [
    "tests_errors= list()"
   ]
  },
  {
   "cell_type": "code",
   "execution_count": 528,
   "id": "685c91ac",
   "metadata": {},
   "outputs": [],
   "source": [
    "#tests_errors.extend(['qq,','wwwww'])"
   ]
  },
  {
   "cell_type": "code",
   "execution_count": 553,
   "id": "fb867de4",
   "metadata": {},
   "outputs": [
    {
     "data": {
      "text/plain": [
       "[]"
      ]
     },
     "execution_count": 553,
     "metadata": {},
     "output_type": "execute_result"
    }
   ],
   "source": [
    "tests_errors"
   ]
  },
  {
   "cell_type": "code",
   "execution_count": 512,
   "id": "7465c7e5",
   "metadata": {},
   "outputs": [],
   "source": [
    " dfx = df_exp"
   ]
  },
  {
   "cell_type": "code",
   "execution_count": 514,
   "id": "01072ef3",
   "metadata": {},
   "outputs": [
    {
     "data": {
      "text/plain": [
       "Index(['Код', 'Вставки_д28', 'emeralds', 're01', 'emerald_list', 'len_jem',\n",
       "       'len_em', 'PCS', 'GEM', 'CARAT', 'FORM', 'CQ', 'C', 'Q'],\n",
       "      dtype='object')"
      ]
     },
     "execution_count": 514,
     "metadata": {},
     "output_type": "execute_result"
    }
   ],
   "source": [
    "dfx.columns"
   ]
  },
  {
   "cell_type": "code",
   "execution_count": null,
   "id": "b1fa5027",
   "metadata": {},
   "outputs": [],
   "source": []
  },
  {
   "cell_type": "code",
   "execution_count": 568,
   "id": "71b3e37d",
   "metadata": {},
   "outputs": [],
   "source": [
    "dfx['CARAT'] = dfx['CARAT'].str.replace(',','.').astype('float')"
   ]
  },
  {
   "cell_type": "code",
   "execution_count": 543,
   "id": "5bf75be5",
   "metadata": {},
   "outputs": [
    {
     "data": {
      "text/plain": [
       "1181     ИзумрудПМ-7,900-И41+4/Г3 59КР57-0,690-4/4А 43К...\n",
       "25598          ИзумрудПМ-0,280-НРООв+3/Г3 3КР57-0,040-3/3А\n",
       "Name: Вставки_д28, dtype: object"
      ]
     },
     "execution_count": 543,
     "metadata": {},
     "output_type": "execute_result"
    }
   ],
   "source": [
    "dfx[dfx['PCS']=='']['Вставки_д28']"
   ]
  },
  {
   "cell_type": "code",
   "execution_count": 544,
   "id": "df739e6a",
   "metadata": {},
   "outputs": [],
   "source": [
    "del_ind = _.index"
   ]
  },
  {
   "cell_type": "code",
   "execution_count": 554,
   "id": "2e10caa0",
   "metadata": {},
   "outputs": [],
   "source": [
    "tests_errors.extend(list(dfx.loc[del_ind, 'Вставки_д28']))"
   ]
  },
  {
   "cell_type": "code",
   "execution_count": 555,
   "id": "4b7ae8b9",
   "metadata": {},
   "outputs": [
    {
     "data": {
      "text/plain": [
       "['ИзумрудПМ-7,900-И41+4/Г3 59КР57-0,690-4/4А 43КР57-0,800-3/5А',\n",
       " 'ИзумрудПМ-0,280-НРООв+3/Г3 3КР57-0,040-3/3А']"
      ]
     },
     "execution_count": 555,
     "metadata": {},
     "output_type": "execute_result"
    }
   ],
   "source": [
    "tests_errors"
   ]
  },
  {
   "cell_type": "code",
   "execution_count": 556,
   "id": "070f0707",
   "metadata": {},
   "outputs": [],
   "source": [
    "dfx.drop(index=del_ind, inplace=True)"
   ]
  },
  {
   "cell_type": "code",
   "execution_count": 560,
   "id": "fde1fc01",
   "metadata": {},
   "outputs": [],
   "source": [
    "dfx['PCS'] = dfx['PCS'].astype('int')"
   ]
  },
  {
   "cell_type": "code",
   "execution_count": 562,
   "id": "0531e2a8",
   "metadata": {},
   "outputs": [],
   "source": [
    " dfx['C'] = dfx['C'].map(dcol_em_sto)#, 'Q'"
   ]
  },
  {
   "cell_type": "code",
   "execution_count": 563,
   "id": "511427b2",
   "metadata": {},
   "outputs": [],
   "source": [
    " dfx['Q'] = dfx['Q'].map(dcla_em_sto)#, "
   ]
  },
  {
   "cell_type": "code",
   "execution_count": 565,
   "id": "54473a76",
   "metadata": {},
   "outputs": [],
   "source": [
    " dfx['CARAT_1'] = dfx['CARAT']/dfx['PCS']"
   ]
  },
  {
   "cell_type": "code",
   "execution_count": null,
   "id": "84bbb888",
   "metadata": {},
   "outputs": [],
   "source": []
  },
  {
   "cell_type": "code",
   "execution_count": 567,
   "id": "5ac78122",
   "metadata": {},
   "outputs": [
    {
     "data": {
      "text/plain": [
       "PCS          int32\n",
       "GEM         object\n",
       "CARAT      float64\n",
       "FORM        object\n",
       "CQ          object\n",
       "C           object\n",
       "Q           object\n",
       "CARAT_1    float64\n",
       "dtype: object"
      ]
     },
     "execution_count": 567,
     "metadata": {},
     "output_type": "execute_result"
    }
   ],
   "source": [
    "dfx[[ 'PCS', 'GEM', 'CARAT', 'FORM', 'CQ', 'C', 'Q','CARAT_1']].dtypes"
   ]
  },
  {
   "cell_type": "code",
   "execution_count": 603,
   "id": "5f0ab8c5",
   "metadata": {},
   "outputs": [
    {
     "data": {
      "text/plain": [
       "160      1.270000\n",
       "249      0.100000\n",
       "345      0.234000\n",
       "372      0.340000\n",
       "374      0.159000\n",
       "           ...   \n",
       "31958    0.135000\n",
       "31971    0.135000\n",
       "31975    0.335000\n",
       "32597    0.083000\n",
       "32933    0.033833\n",
       "Name: CARAT_1, Length: 307, dtype: float64"
      ]
     },
     "execution_count": 603,
     "metadata": {},
     "output_type": "execute_result"
    }
   ],
   "source": [
    "dfx['CARAT_1']"
   ]
  },
  {
   "cell_type": "code",
   "execution_count": null,
   "id": "a69b29ab",
   "metadata": {},
   "outputs": [],
   "source": []
  },
  {
   "cell_type": "code",
   "execution_count": null,
   "id": "6c359179",
   "metadata": {},
   "outputs": [],
   "source": []
  },
  {
   "cell_type": "code",
   "execution_count": 859,
   "id": "fa7b8a0b",
   "metadata": {},
   "outputs": [
    {
     "data": {
      "text/html": [
       "<div>\n",
       "<style scoped>\n",
       "    .dataframe tbody tr th:only-of-type {\n",
       "        vertical-align: middle;\n",
       "    }\n",
       "\n",
       "    .dataframe tbody tr th {\n",
       "        vertical-align: top;\n",
       "    }\n",
       "\n",
       "    .dataframe thead th {\n",
       "        text-align: right;\n",
       "    }\n",
       "</style>\n",
       "<table border=\"1\" class=\"dataframe\">\n",
       "  <thead>\n",
       "    <tr style=\"text-align: right;\">\n",
       "      <th></th>\n",
       "      <th>ТУ</th>\n",
       "      <th>Обработка</th>\n",
       "      <th>Огранка</th>\n",
       "      <th>цвет</th>\n",
       "      <th>чистота</th>\n",
       "      <th>size</th>\n",
       "      <th>price</th>\n",
       "    </tr>\n",
       "  </thead>\n",
       "  <tbody>\n",
       "    <tr>\n",
       "      <th>0</th>\n",
       "      <td>СТО</td>\n",
       "      <td>промасливание (O) и заполнение трещин (F)</td>\n",
       "      <td>кобашенный вид огранки</td>\n",
       "      <td>1</td>\n",
       "      <td>К1</td>\n",
       "      <td>до 0,49</td>\n",
       "      <td>120</td>\n",
       "    </tr>\n",
       "    <tr>\n",
       "      <th>1</th>\n",
       "      <td>СТО</td>\n",
       "      <td>промасливание (O) и заполнение трещин (F)</td>\n",
       "      <td>кобашенный вид огранки</td>\n",
       "      <td>1</td>\n",
       "      <td>К2</td>\n",
       "      <td>до 0,49</td>\n",
       "      <td>75</td>\n",
       "    </tr>\n",
       "    <tr>\n",
       "      <th>2</th>\n",
       "      <td>СТО</td>\n",
       "      <td>промасливание (O) и заполнение трещин (F)</td>\n",
       "      <td>кобашенный вид огранки</td>\n",
       "      <td>2</td>\n",
       "      <td>К1</td>\n",
       "      <td>до 0,49</td>\n",
       "      <td>75</td>\n",
       "    </tr>\n",
       "    <tr>\n",
       "      <th>3</th>\n",
       "      <td>СТО</td>\n",
       "      <td>промасливание (O) и заполнение трещин (F)</td>\n",
       "      <td>кобашенный вид огранки</td>\n",
       "      <td>2</td>\n",
       "      <td>К2</td>\n",
       "      <td>до 0,49</td>\n",
       "      <td>45</td>\n",
       "    </tr>\n",
       "    <tr>\n",
       "      <th>4</th>\n",
       "      <td>СТО</td>\n",
       "      <td>промасливание (O) и заполнение трещин (F)</td>\n",
       "      <td>кобашенный вид огранки</td>\n",
       "      <td>3</td>\n",
       "      <td>К1</td>\n",
       "      <td>до 0,49</td>\n",
       "      <td>55</td>\n",
       "    </tr>\n",
       "    <tr>\n",
       "      <th>...</th>\n",
       "      <td>...</td>\n",
       "      <td>...</td>\n",
       "      <td>...</td>\n",
       "      <td>...</td>\n",
       "      <td>...</td>\n",
       "      <td>...</td>\n",
       "      <td>...</td>\n",
       "    </tr>\n",
       "    <tr>\n",
       "      <th>225</th>\n",
       "      <td>СТО</td>\n",
       "      <td>промасливание (O) и заполнение трещин (F)</td>\n",
       "      <td>фацетный вид огранки</td>\n",
       "      <td>4</td>\n",
       "      <td>Г2</td>\n",
       "      <td>4,00-4,99</td>\n",
       "      <td>250</td>\n",
       "    </tr>\n",
       "    <tr>\n",
       "      <th>226</th>\n",
       "      <td>СТО</td>\n",
       "      <td>промасливание (O) и заполнение трещин (F)</td>\n",
       "      <td>фацетный вид огранки</td>\n",
       "      <td>4</td>\n",
       "      <td>Г3</td>\n",
       "      <td>4,00-4,99</td>\n",
       "      <td>170</td>\n",
       "    </tr>\n",
       "    <tr>\n",
       "      <th>227</th>\n",
       "      <td>СТО</td>\n",
       "      <td>промасливание (O) и заполнение трещин (F)</td>\n",
       "      <td>фацетный вид огранки</td>\n",
       "      <td>5</td>\n",
       "      <td>Г1</td>\n",
       "      <td>4,00-4,99</td>\n",
       "      <td>50</td>\n",
       "    </tr>\n",
       "    <tr>\n",
       "      <th>228</th>\n",
       "      <td>СТО</td>\n",
       "      <td>промасливание (O) и заполнение трещин (F)</td>\n",
       "      <td>фацетный вид огранки</td>\n",
       "      <td>5</td>\n",
       "      <td>Г2</td>\n",
       "      <td>4,00-4,99</td>\n",
       "      <td>30</td>\n",
       "    </tr>\n",
       "    <tr>\n",
       "      <th>229</th>\n",
       "      <td>СТО</td>\n",
       "      <td>промасливание (O) и заполнение трещин (F)</td>\n",
       "      <td>фацетный вид огранки</td>\n",
       "      <td>5</td>\n",
       "      <td>Г3</td>\n",
       "      <td>4,00-4,99</td>\n",
       "      <td>18</td>\n",
       "    </tr>\n",
       "  </tbody>\n",
       "</table>\n",
       "<p>230 rows × 7 columns</p>\n",
       "</div>"
      ],
      "text/plain": [
       "      ТУ                                  Обработка                 Огранка  \\\n",
       "0    СТО  промасливание (O) и заполнение трещин (F)  кобашенный вид огранки   \n",
       "1    СТО  промасливание (O) и заполнение трещин (F)  кобашенный вид огранки   \n",
       "2    СТО  промасливание (O) и заполнение трещин (F)  кобашенный вид огранки   \n",
       "3    СТО  промасливание (O) и заполнение трещин (F)  кобашенный вид огранки   \n",
       "4    СТО  промасливание (O) и заполнение трещин (F)  кобашенный вид огранки   \n",
       "..   ...                                        ...                     ...   \n",
       "225  СТО  промасливание (O) и заполнение трещин (F)    фацетный вид огранки   \n",
       "226  СТО  промасливание (O) и заполнение трещин (F)    фацетный вид огранки   \n",
       "227  СТО  промасливание (O) и заполнение трещин (F)    фацетный вид огранки   \n",
       "228  СТО  промасливание (O) и заполнение трещин (F)    фацетный вид огранки   \n",
       "229  СТО  промасливание (O) и заполнение трещин (F)    фацетный вид огранки   \n",
       "\n",
       "     цвет чистота       size  price  \n",
       "0       1      К1    до 0,49    120  \n",
       "1       1      К2    до 0,49     75  \n",
       "2       2      К1    до 0,49     75  \n",
       "3       2      К2    до 0,49     45  \n",
       "4       3      К1    до 0,49     55  \n",
       "..    ...     ...        ...    ...  \n",
       "225     4      Г2  4,00-4,99    250  \n",
       "226     4      Г3  4,00-4,99    170  \n",
       "227     5      Г1  4,00-4,99     50  \n",
       "228     5      Г2  4,00-4,99     30  \n",
       "229     5      Г3  4,00-4,99     18  \n",
       "\n",
       "[230 rows x 7 columns]"
      ]
     },
     "execution_count": 859,
     "metadata": {},
     "output_type": "execute_result"
    }
   ],
   "source": [
    "pr_em_sto#.to_excel('module_prgem/df_pr_emeralds_sto_173_20-04-2023.xlsx', index=None)"
   ]
  },
  {
   "cell_type": "code",
   "execution_count": null,
   "id": "af909152",
   "metadata": {},
   "outputs": [],
   "source": [
    "pr_em_sto"
   ]
  },
  {
   "cell_type": "markdown",
   "id": "9c6852c8",
   "metadata": {},
   "source": [
    "## размерности"
   ]
  },
  {
   "cell_type": "code",
   "execution_count": 690,
   "id": "fdea900d",
   "metadata": {},
   "outputs": [],
   "source": [
    "sizes_g = pr_em_sto[~pr_em_sto[['size','Огранка']].duplicated()][['size','Огранка']]"
   ]
  },
  {
   "cell_type": "code",
   "execution_count": 691,
   "id": "f4309e28",
   "metadata": {},
   "outputs": [
    {
     "data": {
      "text/html": [
       "<div>\n",
       "<style scoped>\n",
       "    .dataframe tbody tr th:only-of-type {\n",
       "        vertical-align: middle;\n",
       "    }\n",
       "\n",
       "    .dataframe tbody tr th {\n",
       "        vertical-align: top;\n",
       "    }\n",
       "\n",
       "    .dataframe thead th {\n",
       "        text-align: right;\n",
       "    }\n",
       "</style>\n",
       "<table border=\"1\" class=\"dataframe\">\n",
       "  <thead>\n",
       "    <tr style=\"text-align: right;\">\n",
       "      <th></th>\n",
       "      <th>size</th>\n",
       "      <th>Огранка</th>\n",
       "    </tr>\n",
       "  </thead>\n",
       "  <tbody>\n",
       "    <tr>\n",
       "      <th>39</th>\n",
       "      <td>до 0,49</td>\n",
       "      <td>кобашенный вид огранки</td>\n",
       "    </tr>\n",
       "    <tr>\n",
       "      <th>88</th>\n",
       "      <td>0,50-0,74</td>\n",
       "      <td>кобашенный вид огранки</td>\n",
       "    </tr>\n",
       "    <tr>\n",
       "      <th>137</th>\n",
       "      <td>0,75-0,99</td>\n",
       "      <td>кобашенный вид огранки</td>\n",
       "    </tr>\n",
       "    <tr>\n",
       "      <th>186</th>\n",
       "      <td>1,00-1,49</td>\n",
       "      <td>кобашенный вид огранки</td>\n",
       "    </tr>\n",
       "    <tr>\n",
       "      <th>235</th>\n",
       "      <td>1,50-1,99</td>\n",
       "      <td>кобашенный вид огранки</td>\n",
       "    </tr>\n",
       "    <tr>\n",
       "      <th>284</th>\n",
       "      <td>2,00-2,99</td>\n",
       "      <td>кобашенный вид огранки</td>\n",
       "    </tr>\n",
       "    <tr>\n",
       "      <th>333</th>\n",
       "      <td>3,00-3,99</td>\n",
       "      <td>кобашенный вид огранки</td>\n",
       "    </tr>\n",
       "    <tr>\n",
       "      <th>382</th>\n",
       "      <td>4,00-4,99</td>\n",
       "      <td>кобашенный вид огранки</td>\n",
       "    </tr>\n",
       "    <tr>\n",
       "      <th>39</th>\n",
       "      <td>до 0,09</td>\n",
       "      <td>фацетный вид огранки</td>\n",
       "    </tr>\n",
       "    <tr>\n",
       "      <th>93</th>\n",
       "      <td>0,10-0,24</td>\n",
       "      <td>фацетный вид огранки</td>\n",
       "    </tr>\n",
       "    <tr>\n",
       "      <th>147</th>\n",
       "      <td>0,25-0,49</td>\n",
       "      <td>фацетный вид огранки</td>\n",
       "    </tr>\n",
       "    <tr>\n",
       "      <th>201</th>\n",
       "      <td>0,50-0,74</td>\n",
       "      <td>фацетный вид огранки</td>\n",
       "    </tr>\n",
       "    <tr>\n",
       "      <th>255</th>\n",
       "      <td>0,75-0,99</td>\n",
       "      <td>фацетный вид огранки</td>\n",
       "    </tr>\n",
       "    <tr>\n",
       "      <th>309</th>\n",
       "      <td>1,00-1,49</td>\n",
       "      <td>фацетный вид огранки</td>\n",
       "    </tr>\n",
       "    <tr>\n",
       "      <th>363</th>\n",
       "      <td>1,50-1,99</td>\n",
       "      <td>фацетный вид огранки</td>\n",
       "    </tr>\n",
       "    <tr>\n",
       "      <th>417</th>\n",
       "      <td>2,00-2,99</td>\n",
       "      <td>фацетный вид огранки</td>\n",
       "    </tr>\n",
       "    <tr>\n",
       "      <th>471</th>\n",
       "      <td>3,00-3,99</td>\n",
       "      <td>фацетный вид огранки</td>\n",
       "    </tr>\n",
       "    <tr>\n",
       "      <th>525</th>\n",
       "      <td>4,00-4,99</td>\n",
       "      <td>фацетный вид огранки</td>\n",
       "    </tr>\n",
       "  </tbody>\n",
       "</table>\n",
       "</div>"
      ],
      "text/plain": [
       "          size                 Огранка\n",
       "39     до 0,49  кобашенный вид огранки\n",
       "88   0,50-0,74  кобашенный вид огранки\n",
       "137  0,75-0,99  кобашенный вид огранки\n",
       "186  1,00-1,49  кобашенный вид огранки\n",
       "235  1,50-1,99  кобашенный вид огранки\n",
       "284  2,00-2,99  кобашенный вид огранки\n",
       "333  3,00-3,99  кобашенный вид огранки\n",
       "382  4,00-4,99  кобашенный вид огранки\n",
       "39     до 0,09    фацетный вид огранки\n",
       "93   0,10-0,24    фацетный вид огранки\n",
       "147  0,25-0,49    фацетный вид огранки\n",
       "201  0,50-0,74    фацетный вид огранки\n",
       "255  0,75-0,99    фацетный вид огранки\n",
       "309  1,00-1,49    фацетный вид огранки\n",
       "363  1,50-1,99    фацетный вид огранки\n",
       "417  2,00-2,99    фацетный вид огранки\n",
       "471  3,00-3,99    фацетный вид огранки\n",
       "525  4,00-4,99    фацетный вид огранки"
      ]
     },
     "execution_count": 691,
     "metadata": {},
     "output_type": "execute_result"
    }
   ],
   "source": [
    "sizes_g "
   ]
  },
  {
   "cell_type": "code",
   "execution_count": 692,
   "id": "2e3f2f94",
   "metadata": {},
   "outputs": [],
   "source": [
    "sizes_g['size_list'] = sizes_g['size'].apply(lambda x: x.split('-'))"
   ]
  },
  {
   "cell_type": "code",
   "execution_count": 693,
   "id": "cc062a66",
   "metadata": {},
   "outputs": [
    {
     "data": {
      "text/html": [
       "<div>\n",
       "<style scoped>\n",
       "    .dataframe tbody tr th:only-of-type {\n",
       "        vertical-align: middle;\n",
       "    }\n",
       "\n",
       "    .dataframe tbody tr th {\n",
       "        vertical-align: top;\n",
       "    }\n",
       "\n",
       "    .dataframe thead th {\n",
       "        text-align: right;\n",
       "    }\n",
       "</style>\n",
       "<table border=\"1\" class=\"dataframe\">\n",
       "  <thead>\n",
       "    <tr style=\"text-align: right;\">\n",
       "      <th></th>\n",
       "      <th>size</th>\n",
       "      <th>Огранка</th>\n",
       "      <th>size_list</th>\n",
       "    </tr>\n",
       "  </thead>\n",
       "  <tbody>\n",
       "    <tr>\n",
       "      <th>39</th>\n",
       "      <td>до 0,49</td>\n",
       "      <td>кобашенный вид огранки</td>\n",
       "      <td>[до 0,49]</td>\n",
       "    </tr>\n",
       "    <tr>\n",
       "      <th>88</th>\n",
       "      <td>0,50-0,74</td>\n",
       "      <td>кобашенный вид огранки</td>\n",
       "      <td>[0,50, 0,74]</td>\n",
       "    </tr>\n",
       "    <tr>\n",
       "      <th>137</th>\n",
       "      <td>0,75-0,99</td>\n",
       "      <td>кобашенный вид огранки</td>\n",
       "      <td>[0,75, 0,99]</td>\n",
       "    </tr>\n",
       "    <tr>\n",
       "      <th>186</th>\n",
       "      <td>1,00-1,49</td>\n",
       "      <td>кобашенный вид огранки</td>\n",
       "      <td>[1,00, 1,49]</td>\n",
       "    </tr>\n",
       "    <tr>\n",
       "      <th>235</th>\n",
       "      <td>1,50-1,99</td>\n",
       "      <td>кобашенный вид огранки</td>\n",
       "      <td>[1,50, 1,99]</td>\n",
       "    </tr>\n",
       "    <tr>\n",
       "      <th>284</th>\n",
       "      <td>2,00-2,99</td>\n",
       "      <td>кобашенный вид огранки</td>\n",
       "      <td>[2,00, 2,99]</td>\n",
       "    </tr>\n",
       "    <tr>\n",
       "      <th>333</th>\n",
       "      <td>3,00-3,99</td>\n",
       "      <td>кобашенный вид огранки</td>\n",
       "      <td>[3,00, 3,99]</td>\n",
       "    </tr>\n",
       "    <tr>\n",
       "      <th>382</th>\n",
       "      <td>4,00-4,99</td>\n",
       "      <td>кобашенный вид огранки</td>\n",
       "      <td>[4,00, 4,99]</td>\n",
       "    </tr>\n",
       "    <tr>\n",
       "      <th>39</th>\n",
       "      <td>до 0,09</td>\n",
       "      <td>фацетный вид огранки</td>\n",
       "      <td>[до 0,09]</td>\n",
       "    </tr>\n",
       "    <tr>\n",
       "      <th>93</th>\n",
       "      <td>0,10-0,24</td>\n",
       "      <td>фацетный вид огранки</td>\n",
       "      <td>[0,10, 0,24]</td>\n",
       "    </tr>\n",
       "    <tr>\n",
       "      <th>147</th>\n",
       "      <td>0,25-0,49</td>\n",
       "      <td>фацетный вид огранки</td>\n",
       "      <td>[0,25, 0,49]</td>\n",
       "    </tr>\n",
       "    <tr>\n",
       "      <th>201</th>\n",
       "      <td>0,50-0,74</td>\n",
       "      <td>фацетный вид огранки</td>\n",
       "      <td>[0,50, 0,74]</td>\n",
       "    </tr>\n",
       "    <tr>\n",
       "      <th>255</th>\n",
       "      <td>0,75-0,99</td>\n",
       "      <td>фацетный вид огранки</td>\n",
       "      <td>[0,75, 0,99]</td>\n",
       "    </tr>\n",
       "    <tr>\n",
       "      <th>309</th>\n",
       "      <td>1,00-1,49</td>\n",
       "      <td>фацетный вид огранки</td>\n",
       "      <td>[1,00, 1,49]</td>\n",
       "    </tr>\n",
       "    <tr>\n",
       "      <th>363</th>\n",
       "      <td>1,50-1,99</td>\n",
       "      <td>фацетный вид огранки</td>\n",
       "      <td>[1,50, 1,99]</td>\n",
       "    </tr>\n",
       "    <tr>\n",
       "      <th>417</th>\n",
       "      <td>2,00-2,99</td>\n",
       "      <td>фацетный вид огранки</td>\n",
       "      <td>[2,00, 2,99]</td>\n",
       "    </tr>\n",
       "    <tr>\n",
       "      <th>471</th>\n",
       "      <td>3,00-3,99</td>\n",
       "      <td>фацетный вид огранки</td>\n",
       "      <td>[3,00, 3,99]</td>\n",
       "    </tr>\n",
       "    <tr>\n",
       "      <th>525</th>\n",
       "      <td>4,00-4,99</td>\n",
       "      <td>фацетный вид огранки</td>\n",
       "      <td>[4,00, 4,99]</td>\n",
       "    </tr>\n",
       "  </tbody>\n",
       "</table>\n",
       "</div>"
      ],
      "text/plain": [
       "          size                 Огранка     size_list\n",
       "39     до 0,49  кобашенный вид огранки     [до 0,49]\n",
       "88   0,50-0,74  кобашенный вид огранки  [0,50, 0,74]\n",
       "137  0,75-0,99  кобашенный вид огранки  [0,75, 0,99]\n",
       "186  1,00-1,49  кобашенный вид огранки  [1,00, 1,49]\n",
       "235  1,50-1,99  кобашенный вид огранки  [1,50, 1,99]\n",
       "284  2,00-2,99  кобашенный вид огранки  [2,00, 2,99]\n",
       "333  3,00-3,99  кобашенный вид огранки  [3,00, 3,99]\n",
       "382  4,00-4,99  кобашенный вид огранки  [4,00, 4,99]\n",
       "39     до 0,09    фацетный вид огранки     [до 0,09]\n",
       "93   0,10-0,24    фацетный вид огранки  [0,10, 0,24]\n",
       "147  0,25-0,49    фацетный вид огранки  [0,25, 0,49]\n",
       "201  0,50-0,74    фацетный вид огранки  [0,50, 0,74]\n",
       "255  0,75-0,99    фацетный вид огранки  [0,75, 0,99]\n",
       "309  1,00-1,49    фацетный вид огранки  [1,00, 1,49]\n",
       "363  1,50-1,99    фацетный вид огранки  [1,50, 1,99]\n",
       "417  2,00-2,99    фацетный вид огранки  [2,00, 2,99]\n",
       "471  3,00-3,99    фацетный вид огранки  [3,00, 3,99]\n",
       "525  4,00-4,99    фацетный вид огранки  [4,00, 4,99]"
      ]
     },
     "execution_count": 693,
     "metadata": {},
     "output_type": "execute_result"
    }
   ],
   "source": [
    "sizes_g "
   ]
  },
  {
   "cell_type": "code",
   "execution_count": 694,
   "id": "3ee9f81b",
   "metadata": {},
   "outputs": [],
   "source": [
    "sizes_g['low_grade'] = sizes_g['size_list'].apply(lambda x: x[0].split()[0] if len(x)==1 else x[0])"
   ]
  },
  {
   "cell_type": "code",
   "execution_count": 695,
   "id": "8e9433f6",
   "metadata": {},
   "outputs": [],
   "source": [
    "#sizes_g['low_grade'] = sizes_g['size_list'].apply(lambda x: 0 if len(x)==1 else x[0])"
   ]
  },
  {
   "cell_type": "code",
   "execution_count": 696,
   "id": "335bb220",
   "metadata": {},
   "outputs": [],
   "source": [
    "sizes_g['hi_grade'] = sizes_g['size_list'].apply(lambda x: x[0].split()[1] if len(x)==1 else x[1])"
   ]
  },
  {
   "cell_type": "code",
   "execution_count": 697,
   "id": "9229055d",
   "metadata": {},
   "outputs": [
    {
     "data": {
      "text/plain": [
       "hi_grade     object\n",
       "low_grade    object\n",
       "dtype: object"
      ]
     },
     "execution_count": 697,
     "metadata": {},
     "output_type": "execute_result"
    }
   ],
   "source": [
    "sizes_g[['hi_grade','low_grade']].dtypes#str.replase(',','.')#astype('float')"
   ]
  },
  {
   "cell_type": "code",
   "execution_count": 698,
   "id": "9ca4a439",
   "metadata": {},
   "outputs": [
    {
     "data": {
      "text/html": [
       "<div>\n",
       "<style scoped>\n",
       "    .dataframe tbody tr th:only-of-type {\n",
       "        vertical-align: middle;\n",
       "    }\n",
       "\n",
       "    .dataframe tbody tr th {\n",
       "        vertical-align: top;\n",
       "    }\n",
       "\n",
       "    .dataframe thead th {\n",
       "        text-align: right;\n",
       "    }\n",
       "</style>\n",
       "<table border=\"1\" class=\"dataframe\">\n",
       "  <thead>\n",
       "    <tr style=\"text-align: right;\">\n",
       "      <th></th>\n",
       "      <th>size</th>\n",
       "      <th>Огранка</th>\n",
       "      <th>size_list</th>\n",
       "      <th>low_grade</th>\n",
       "      <th>hi_grade</th>\n",
       "    </tr>\n",
       "  </thead>\n",
       "  <tbody>\n",
       "    <tr>\n",
       "      <th>39</th>\n",
       "      <td>до 0,49</td>\n",
       "      <td>кобашенный вид огранки</td>\n",
       "      <td>[до 0,49]</td>\n",
       "      <td>до</td>\n",
       "      <td>0,49</td>\n",
       "    </tr>\n",
       "    <tr>\n",
       "      <th>88</th>\n",
       "      <td>0,50-0,74</td>\n",
       "      <td>кобашенный вид огранки</td>\n",
       "      <td>[0,50, 0,74]</td>\n",
       "      <td>0,50</td>\n",
       "      <td>0,74</td>\n",
       "    </tr>\n",
       "    <tr>\n",
       "      <th>137</th>\n",
       "      <td>0,75-0,99</td>\n",
       "      <td>кобашенный вид огранки</td>\n",
       "      <td>[0,75, 0,99]</td>\n",
       "      <td>0,75</td>\n",
       "      <td>0,99</td>\n",
       "    </tr>\n",
       "    <tr>\n",
       "      <th>186</th>\n",
       "      <td>1,00-1,49</td>\n",
       "      <td>кобашенный вид огранки</td>\n",
       "      <td>[1,00, 1,49]</td>\n",
       "      <td>1,00</td>\n",
       "      <td>1,49</td>\n",
       "    </tr>\n",
       "    <tr>\n",
       "      <th>235</th>\n",
       "      <td>1,50-1,99</td>\n",
       "      <td>кобашенный вид огранки</td>\n",
       "      <td>[1,50, 1,99]</td>\n",
       "      <td>1,50</td>\n",
       "      <td>1,99</td>\n",
       "    </tr>\n",
       "    <tr>\n",
       "      <th>284</th>\n",
       "      <td>2,00-2,99</td>\n",
       "      <td>кобашенный вид огранки</td>\n",
       "      <td>[2,00, 2,99]</td>\n",
       "      <td>2,00</td>\n",
       "      <td>2,99</td>\n",
       "    </tr>\n",
       "    <tr>\n",
       "      <th>333</th>\n",
       "      <td>3,00-3,99</td>\n",
       "      <td>кобашенный вид огранки</td>\n",
       "      <td>[3,00, 3,99]</td>\n",
       "      <td>3,00</td>\n",
       "      <td>3,99</td>\n",
       "    </tr>\n",
       "    <tr>\n",
       "      <th>382</th>\n",
       "      <td>4,00-4,99</td>\n",
       "      <td>кобашенный вид огранки</td>\n",
       "      <td>[4,00, 4,99]</td>\n",
       "      <td>4,00</td>\n",
       "      <td>4,99</td>\n",
       "    </tr>\n",
       "    <tr>\n",
       "      <th>39</th>\n",
       "      <td>до 0,09</td>\n",
       "      <td>фацетный вид огранки</td>\n",
       "      <td>[до 0,09]</td>\n",
       "      <td>до</td>\n",
       "      <td>0,09</td>\n",
       "    </tr>\n",
       "    <tr>\n",
       "      <th>93</th>\n",
       "      <td>0,10-0,24</td>\n",
       "      <td>фацетный вид огранки</td>\n",
       "      <td>[0,10, 0,24]</td>\n",
       "      <td>0,10</td>\n",
       "      <td>0,24</td>\n",
       "    </tr>\n",
       "    <tr>\n",
       "      <th>147</th>\n",
       "      <td>0,25-0,49</td>\n",
       "      <td>фацетный вид огранки</td>\n",
       "      <td>[0,25, 0,49]</td>\n",
       "      <td>0,25</td>\n",
       "      <td>0,49</td>\n",
       "    </tr>\n",
       "    <tr>\n",
       "      <th>201</th>\n",
       "      <td>0,50-0,74</td>\n",
       "      <td>фацетный вид огранки</td>\n",
       "      <td>[0,50, 0,74]</td>\n",
       "      <td>0,50</td>\n",
       "      <td>0,74</td>\n",
       "    </tr>\n",
       "    <tr>\n",
       "      <th>255</th>\n",
       "      <td>0,75-0,99</td>\n",
       "      <td>фацетный вид огранки</td>\n",
       "      <td>[0,75, 0,99]</td>\n",
       "      <td>0,75</td>\n",
       "      <td>0,99</td>\n",
       "    </tr>\n",
       "    <tr>\n",
       "      <th>309</th>\n",
       "      <td>1,00-1,49</td>\n",
       "      <td>фацетный вид огранки</td>\n",
       "      <td>[1,00, 1,49]</td>\n",
       "      <td>1,00</td>\n",
       "      <td>1,49</td>\n",
       "    </tr>\n",
       "    <tr>\n",
       "      <th>363</th>\n",
       "      <td>1,50-1,99</td>\n",
       "      <td>фацетный вид огранки</td>\n",
       "      <td>[1,50, 1,99]</td>\n",
       "      <td>1,50</td>\n",
       "      <td>1,99</td>\n",
       "    </tr>\n",
       "    <tr>\n",
       "      <th>417</th>\n",
       "      <td>2,00-2,99</td>\n",
       "      <td>фацетный вид огранки</td>\n",
       "      <td>[2,00, 2,99]</td>\n",
       "      <td>2,00</td>\n",
       "      <td>2,99</td>\n",
       "    </tr>\n",
       "    <tr>\n",
       "      <th>471</th>\n",
       "      <td>3,00-3,99</td>\n",
       "      <td>фацетный вид огранки</td>\n",
       "      <td>[3,00, 3,99]</td>\n",
       "      <td>3,00</td>\n",
       "      <td>3,99</td>\n",
       "    </tr>\n",
       "    <tr>\n",
       "      <th>525</th>\n",
       "      <td>4,00-4,99</td>\n",
       "      <td>фацетный вид огранки</td>\n",
       "      <td>[4,00, 4,99]</td>\n",
       "      <td>4,00</td>\n",
       "      <td>4,99</td>\n",
       "    </tr>\n",
       "  </tbody>\n",
       "</table>\n",
       "</div>"
      ],
      "text/plain": [
       "          size                 Огранка     size_list low_grade hi_grade\n",
       "39     до 0,49  кобашенный вид огранки     [до 0,49]        до     0,49\n",
       "88   0,50-0,74  кобашенный вид огранки  [0,50, 0,74]      0,50     0,74\n",
       "137  0,75-0,99  кобашенный вид огранки  [0,75, 0,99]      0,75     0,99\n",
       "186  1,00-1,49  кобашенный вид огранки  [1,00, 1,49]      1,00     1,49\n",
       "235  1,50-1,99  кобашенный вид огранки  [1,50, 1,99]      1,50     1,99\n",
       "284  2,00-2,99  кобашенный вид огранки  [2,00, 2,99]      2,00     2,99\n",
       "333  3,00-3,99  кобашенный вид огранки  [3,00, 3,99]      3,00     3,99\n",
       "382  4,00-4,99  кобашенный вид огранки  [4,00, 4,99]      4,00     4,99\n",
       "39     до 0,09    фацетный вид огранки     [до 0,09]        до     0,09\n",
       "93   0,10-0,24    фацетный вид огранки  [0,10, 0,24]      0,10     0,24\n",
       "147  0,25-0,49    фацетный вид огранки  [0,25, 0,49]      0,25     0,49\n",
       "201  0,50-0,74    фацетный вид огранки  [0,50, 0,74]      0,50     0,74\n",
       "255  0,75-0,99    фацетный вид огранки  [0,75, 0,99]      0,75     0,99\n",
       "309  1,00-1,49    фацетный вид огранки  [1,00, 1,49]      1,00     1,49\n",
       "363  1,50-1,99    фацетный вид огранки  [1,50, 1,99]      1,50     1,99\n",
       "417  2,00-2,99    фацетный вид огранки  [2,00, 2,99]      2,00     2,99\n",
       "471  3,00-3,99    фацетный вид огранки  [3,00, 3,99]      3,00     3,99\n",
       "525  4,00-4,99    фацетный вид огранки  [4,00, 4,99]      4,00     4,99"
      ]
     },
     "execution_count": 698,
     "metadata": {},
     "output_type": "execute_result"
    }
   ],
   "source": [
    "sizes_g "
   ]
  },
  {
   "cell_type": "code",
   "execution_count": 699,
   "id": "e3b4579c",
   "metadata": {},
   "outputs": [],
   "source": [
    "sizes_g['hi_grade'] = sizes_g['hi_grade'].apply(lambda x: x.replace(',','.')).astype('float')"
   ]
  },
  {
   "cell_type": "code",
   "execution_count": 700,
   "id": "8ce7760b",
   "metadata": {},
   "outputs": [],
   "source": [
    "sizes_g['low_grade'] = sizes_g['low_grade'].apply(lambda x: x.replace(',','.') if x!='до' else 0).astype('float')"
   ]
  },
  {
   "cell_type": "code",
   "execution_count": 835,
   "id": "b92a7030",
   "metadata": {},
   "outputs": [
    {
     "data": {
      "text/html": [
       "<div>\n",
       "<style scoped>\n",
       "    .dataframe tbody tr th:only-of-type {\n",
       "        vertical-align: middle;\n",
       "    }\n",
       "\n",
       "    .dataframe tbody tr th {\n",
       "        vertical-align: top;\n",
       "    }\n",
       "\n",
       "    .dataframe thead th {\n",
       "        text-align: right;\n",
       "    }\n",
       "</style>\n",
       "<table border=\"1\" class=\"dataframe\">\n",
       "  <thead>\n",
       "    <tr style=\"text-align: right;\">\n",
       "      <th></th>\n",
       "      <th>size</th>\n",
       "      <th>Огранка</th>\n",
       "      <th>size_list</th>\n",
       "      <th>low_grade</th>\n",
       "      <th>hi_grade</th>\n",
       "    </tr>\n",
       "  </thead>\n",
       "  <tbody>\n",
       "    <tr>\n",
       "      <th>39</th>\n",
       "      <td>до 0,49</td>\n",
       "      <td>кобашенный вид огранки</td>\n",
       "      <td>[до 0,49]</td>\n",
       "      <td>0.00</td>\n",
       "      <td>0.49</td>\n",
       "    </tr>\n",
       "    <tr>\n",
       "      <th>88</th>\n",
       "      <td>0,50-0,74</td>\n",
       "      <td>кобашенный вид огранки</td>\n",
       "      <td>[0,50, 0,74]</td>\n",
       "      <td>0.50</td>\n",
       "      <td>0.74</td>\n",
       "    </tr>\n",
       "    <tr>\n",
       "      <th>137</th>\n",
       "      <td>0,75-0,99</td>\n",
       "      <td>кобашенный вид огранки</td>\n",
       "      <td>[0,75, 0,99]</td>\n",
       "      <td>0.75</td>\n",
       "      <td>0.99</td>\n",
       "    </tr>\n",
       "    <tr>\n",
       "      <th>186</th>\n",
       "      <td>1,00-1,49</td>\n",
       "      <td>кобашенный вид огранки</td>\n",
       "      <td>[1,00, 1,49]</td>\n",
       "      <td>1.00</td>\n",
       "      <td>1.49</td>\n",
       "    </tr>\n",
       "    <tr>\n",
       "      <th>235</th>\n",
       "      <td>1,50-1,99</td>\n",
       "      <td>кобашенный вид огранки</td>\n",
       "      <td>[1,50, 1,99]</td>\n",
       "      <td>1.50</td>\n",
       "      <td>1.99</td>\n",
       "    </tr>\n",
       "    <tr>\n",
       "      <th>284</th>\n",
       "      <td>2,00-2,99</td>\n",
       "      <td>кобашенный вид огранки</td>\n",
       "      <td>[2,00, 2,99]</td>\n",
       "      <td>2.00</td>\n",
       "      <td>2.99</td>\n",
       "    </tr>\n",
       "    <tr>\n",
       "      <th>333</th>\n",
       "      <td>3,00-3,99</td>\n",
       "      <td>кобашенный вид огранки</td>\n",
       "      <td>[3,00, 3,99]</td>\n",
       "      <td>3.00</td>\n",
       "      <td>3.99</td>\n",
       "    </tr>\n",
       "    <tr>\n",
       "      <th>382</th>\n",
       "      <td>4,00-4,99</td>\n",
       "      <td>кобашенный вид огранки</td>\n",
       "      <td>[4,00, 4,99]</td>\n",
       "      <td>4.00</td>\n",
       "      <td>4.99</td>\n",
       "    </tr>\n",
       "    <tr>\n",
       "      <th>39</th>\n",
       "      <td>до 0,09</td>\n",
       "      <td>фацетный вид огранки</td>\n",
       "      <td>[до 0,09]</td>\n",
       "      <td>0.00</td>\n",
       "      <td>0.09</td>\n",
       "    </tr>\n",
       "    <tr>\n",
       "      <th>93</th>\n",
       "      <td>0,10-0,24</td>\n",
       "      <td>фацетный вид огранки</td>\n",
       "      <td>[0,10, 0,24]</td>\n",
       "      <td>0.10</td>\n",
       "      <td>0.24</td>\n",
       "    </tr>\n",
       "    <tr>\n",
       "      <th>147</th>\n",
       "      <td>0,25-0,49</td>\n",
       "      <td>фацетный вид огранки</td>\n",
       "      <td>[0,25, 0,49]</td>\n",
       "      <td>0.25</td>\n",
       "      <td>0.49</td>\n",
       "    </tr>\n",
       "    <tr>\n",
       "      <th>201</th>\n",
       "      <td>0,50-0,74</td>\n",
       "      <td>фацетный вид огранки</td>\n",
       "      <td>[0,50, 0,74]</td>\n",
       "      <td>0.50</td>\n",
       "      <td>0.74</td>\n",
       "    </tr>\n",
       "    <tr>\n",
       "      <th>255</th>\n",
       "      <td>0,75-0,99</td>\n",
       "      <td>фацетный вид огранки</td>\n",
       "      <td>[0,75, 0,99]</td>\n",
       "      <td>0.75</td>\n",
       "      <td>0.99</td>\n",
       "    </tr>\n",
       "    <tr>\n",
       "      <th>309</th>\n",
       "      <td>1,00-1,49</td>\n",
       "      <td>фацетный вид огранки</td>\n",
       "      <td>[1,00, 1,49]</td>\n",
       "      <td>1.00</td>\n",
       "      <td>1.49</td>\n",
       "    </tr>\n",
       "    <tr>\n",
       "      <th>363</th>\n",
       "      <td>1,50-1,99</td>\n",
       "      <td>фацетный вид огранки</td>\n",
       "      <td>[1,50, 1,99]</td>\n",
       "      <td>1.50</td>\n",
       "      <td>1.99</td>\n",
       "    </tr>\n",
       "    <tr>\n",
       "      <th>417</th>\n",
       "      <td>2,00-2,99</td>\n",
       "      <td>фацетный вид огранки</td>\n",
       "      <td>[2,00, 2,99]</td>\n",
       "      <td>2.00</td>\n",
       "      <td>2.99</td>\n",
       "    </tr>\n",
       "    <tr>\n",
       "      <th>471</th>\n",
       "      <td>3,00-3,99</td>\n",
       "      <td>фацетный вид огранки</td>\n",
       "      <td>[3,00, 3,99]</td>\n",
       "      <td>3.00</td>\n",
       "      <td>3.99</td>\n",
       "    </tr>\n",
       "    <tr>\n",
       "      <th>525</th>\n",
       "      <td>4,00-4,99</td>\n",
       "      <td>фацетный вид огранки</td>\n",
       "      <td>[4,00, 4,99]</td>\n",
       "      <td>4.00</td>\n",
       "      <td>4.99</td>\n",
       "    </tr>\n",
       "  </tbody>\n",
       "</table>\n",
       "</div>"
      ],
      "text/plain": [
       "          size                 Огранка     size_list  low_grade  hi_grade\n",
       "39     до 0,49  кобашенный вид огранки     [до 0,49]       0.00      0.49\n",
       "88   0,50-0,74  кобашенный вид огранки  [0,50, 0,74]       0.50      0.74\n",
       "137  0,75-0,99  кобашенный вид огранки  [0,75, 0,99]       0.75      0.99\n",
       "186  1,00-1,49  кобашенный вид огранки  [1,00, 1,49]       1.00      1.49\n",
       "235  1,50-1,99  кобашенный вид огранки  [1,50, 1,99]       1.50      1.99\n",
       "284  2,00-2,99  кобашенный вид огранки  [2,00, 2,99]       2.00      2.99\n",
       "333  3,00-3,99  кобашенный вид огранки  [3,00, 3,99]       3.00      3.99\n",
       "382  4,00-4,99  кобашенный вид огранки  [4,00, 4,99]       4.00      4.99\n",
       "39     до 0,09    фацетный вид огранки     [до 0,09]       0.00      0.09\n",
       "93   0,10-0,24    фацетный вид огранки  [0,10, 0,24]       0.10      0.24\n",
       "147  0,25-0,49    фацетный вид огранки  [0,25, 0,49]       0.25      0.49\n",
       "201  0,50-0,74    фацетный вид огранки  [0,50, 0,74]       0.50      0.74\n",
       "255  0,75-0,99    фацетный вид огранки  [0,75, 0,99]       0.75      0.99\n",
       "309  1,00-1,49    фацетный вид огранки  [1,00, 1,49]       1.00      1.49\n",
       "363  1,50-1,99    фацетный вид огранки  [1,50, 1,99]       1.50      1.99\n",
       "417  2,00-2,99    фацетный вид огранки  [2,00, 2,99]       2.00      2.99\n",
       "471  3,00-3,99    фацетный вид огранки  [3,00, 3,99]       3.00      3.99\n",
       "525  4,00-4,99    фацетный вид огранки  [4,00, 4,99]       4.00      4.99"
      ]
     },
     "execution_count": 835,
     "metadata": {},
     "output_type": "execute_result"
    }
   ],
   "source": [
    "sizes_g"
   ]
  },
  {
   "cell_type": "code",
   "execution_count": 702,
   "id": "ebb867dc",
   "metadata": {},
   "outputs": [
    {
     "data": {
      "text/plain": [
       "size          object\n",
       "Огранка       object\n",
       "size_list     object\n",
       "low_grade    float64\n",
       "hi_grade     float64\n",
       "dtype: object"
      ]
     },
     "execution_count": 702,
     "metadata": {},
     "output_type": "execute_result"
    }
   ],
   "source": [
    "sizes_g.dtypes"
   ]
  },
  {
   "cell_type": "code",
   "execution_count": 836,
   "id": "3f330d53",
   "metadata": {},
   "outputs": [],
   "source": [
    "sizes_g.to_excel('module_prgem/size_em_sto.xlsx',index=None)"
   ]
  },
  {
   "cell_type": "code",
   "execution_count": 777,
   "id": "e07d5ff5",
   "metadata": {},
   "outputs": [],
   "source": [
    "def size_em_sto(q,carat_1):\n",
    "    if q not in dcla_em_sto.values():\n",
    "        return 'error_size_em_sto: q not in dcla_em_sto'\n",
    "    \n",
    "    if q.__contains__('Г'):\n",
    "        sizex = sizes_g[sizes_g['Огранка']=='фацетный вид огранки']\n",
    "    else:\n",
    "        sizex = sizes_g[sizes_g['Огранка']=='кобашенный вид огранки']\n",
    "            \n",
    "    return sizex[(sizex.low_grade<=carat_1)].sort_values('low_grade').iloc[-1,0]\n",
    "    \n",
    "    "
   ]
  },
  {
   "cell_type": "code",
   "execution_count": 779,
   "id": "86417cbd",
   "metadata": {},
   "outputs": [],
   "source": [
    "dfx['size'] = dfx.apply(lambda x:size_em_sto(x['Q'],x['CARAT_1']),axis=1)"
   ]
  },
  {
   "cell_type": "code",
   "execution_count": 784,
   "id": "606f79fe",
   "metadata": {},
   "outputs": [
    {
     "data": {
      "text/plain": [
       "Index(['ТУ', 'Обработка', 'Огранка', 'цвет', 'чистота', 'size', 'price'], dtype='object')"
      ]
     },
     "execution_count": 784,
     "metadata": {},
     "output_type": "execute_result"
    }
   ],
   "source": [
    "pr_em_sto.columns"
   ]
  },
  {
   "cell_type": "code",
   "execution_count": 861,
   "id": "662125f7",
   "metadata": {},
   "outputs": [
    {
     "data": {
      "text/plain": [
       "Index(['Код', 'Вставки_д28', 'emeralds', 're01', 'emerald_list', 'len_jem',\n",
       "       'len_em', 'PCS', 'GEM', 'CARAT', 'FORM', 'CQ', 'C', 'Q', 'CARAT_1',\n",
       "       'size'],\n",
       "      dtype='object')"
      ]
     },
     "execution_count": 861,
     "metadata": {},
     "output_type": "execute_result"
    }
   ],
   "source": [
    "dfx.columns"
   ]
  },
  {
   "cell_type": "code",
   "execution_count": 862,
   "id": "48d836f4",
   "metadata": {},
   "outputs": [
    {
     "data": {
      "text/html": [
       "<div>\n",
       "<style scoped>\n",
       "    .dataframe tbody tr th:only-of-type {\n",
       "        vertical-align: middle;\n",
       "    }\n",
       "\n",
       "    .dataframe tbody tr th {\n",
       "        vertical-align: top;\n",
       "    }\n",
       "\n",
       "    .dataframe thead th {\n",
       "        text-align: right;\n",
       "    }\n",
       "</style>\n",
       "<table border=\"1\" class=\"dataframe\">\n",
       "  <thead>\n",
       "    <tr style=\"text-align: right;\">\n",
       "      <th></th>\n",
       "      <th>Код</th>\n",
       "      <th>Вставки_д28</th>\n",
       "      <th>emeralds</th>\n",
       "      <th>re01</th>\n",
       "      <th>emerald_list</th>\n",
       "      <th>len_jem</th>\n",
       "      <th>len_em</th>\n",
       "      <th>PCS</th>\n",
       "      <th>GEM</th>\n",
       "      <th>CARAT</th>\n",
       "      <th>FORM</th>\n",
       "      <th>CQ</th>\n",
       "      <th>C</th>\n",
       "      <th>Q</th>\n",
       "      <th>CARAT_1</th>\n",
       "      <th>size</th>\n",
       "    </tr>\n",
       "  </thead>\n",
       "  <tbody>\n",
       "    <tr>\n",
       "      <th>160</th>\n",
       "      <td>ЦБ-00019785</td>\n",
       "      <td>1ИзумрудПМ-1,270-НРООв+2/гз 7Кр57-0,100-3/3А</td>\n",
       "      <td>1изумрудпм-1,270-нроов+2/гз 7кр57-0,100-3/3а</td>\n",
       "      <td>[(1, ИзумрудПМ, 1,270, НРООв, 2/г)]</td>\n",
       "      <td>(1, ИзумрудПМ, 1,270, НРООв, 2/г)</td>\n",
       "      <td>1</td>\n",
       "      <td>1</td>\n",
       "      <td>1</td>\n",
       "      <td>изумрудпм</td>\n",
       "      <td>1.270</td>\n",
       "      <td>нроов</td>\n",
       "      <td>2/г</td>\n",
       "      <td>2</td>\n",
       "      <td>NaN</td>\n",
       "      <td>1.270000</td>\n",
       "      <td>error_size_em_sto: q not in dcla_em_sto</td>\n",
       "    </tr>\n",
       "    <tr>\n",
       "      <th>249</th>\n",
       "      <td>ЦБ-00019921</td>\n",
       "      <td>1ИзумрудПМ-0,100-НРОКр+4/Г3 4Кр57-0,040-2/4А</td>\n",
       "      <td>1изумрудпм-0,100-нрокр+4/г3 4кр57-0,040-2/4а</td>\n",
       "      <td>[(1, ИзумрудПМ, 0,100, НРОКр, 4/Г3)]</td>\n",
       "      <td>(1, ИзумрудПМ, 0,100, НРОКр, 4/Г3)</td>\n",
       "      <td>1</td>\n",
       "      <td>1</td>\n",
       "      <td>1</td>\n",
       "      <td>изумрудпм</td>\n",
       "      <td>0.100</td>\n",
       "      <td>нрокр</td>\n",
       "      <td>4/г3</td>\n",
       "      <td>4</td>\n",
       "      <td>Г3</td>\n",
       "      <td>0.100000</td>\n",
       "      <td>0,10-0,24</td>\n",
       "    </tr>\n",
       "    <tr>\n",
       "      <th>345</th>\n",
       "      <td>ЦБ-00090311</td>\n",
       "      <td>1ИзумрудПМ-0,234-НРОКр+3/Г2 6Кр57-0,148-2/2А 2...</td>\n",
       "      <td>1изумрудпм-0,234-нрокр+3/г2 6кр57-0,148-2/2а 2...</td>\n",
       "      <td>[(1, ИзумрудПМ, 0,234, НРОКр, 3/Г2)]</td>\n",
       "      <td>(1, ИзумрудПМ, 0,234, НРОКр, 3/Г2)</td>\n",
       "      <td>1</td>\n",
       "      <td>1</td>\n",
       "      <td>1</td>\n",
       "      <td>изумрудпм</td>\n",
       "      <td>0.234</td>\n",
       "      <td>нрокр</td>\n",
       "      <td>3/г2</td>\n",
       "      <td>3</td>\n",
       "      <td>Г2</td>\n",
       "      <td>0.234000</td>\n",
       "      <td>0,10-0,24</td>\n",
       "    </tr>\n",
       "    <tr>\n",
       "      <th>372</th>\n",
       "      <td>ЦБ-00163308</td>\n",
       "      <td>1ИзумрудПМ-0,340-НРООв+3/Г3 12Кр17-0,030-2/2А</td>\n",
       "      <td>1изумрудпм-0,340-нроов+3/г3 12кр17-0,030-2/2а</td>\n",
       "      <td>[(1, ИзумрудПМ, 0,340, НРООв, 3/Г3)]</td>\n",
       "      <td>(1, ИзумрудПМ, 0,340, НРООв, 3/Г3)</td>\n",
       "      <td>1</td>\n",
       "      <td>1</td>\n",
       "      <td>1</td>\n",
       "      <td>изумрудпм</td>\n",
       "      <td>0.340</td>\n",
       "      <td>нроов</td>\n",
       "      <td>3/г3</td>\n",
       "      <td>3</td>\n",
       "      <td>Г3</td>\n",
       "      <td>0.340000</td>\n",
       "      <td>0,25-0,49</td>\n",
       "    </tr>\n",
       "    <tr>\n",
       "      <th>374</th>\n",
       "      <td>ЦБ-00163310</td>\n",
       "      <td>1ИзумрудПМ-0,159-НРОКр+3/Г2 12Кр57-0,113-3/4А</td>\n",
       "      <td>1изумрудпм-0,159-нрокр+3/г2 12кр57-0,113-3/4а</td>\n",
       "      <td>[(1, ИзумрудПМ, 0,159, НРОКр, 3/Г2)]</td>\n",
       "      <td>(1, ИзумрудПМ, 0,159, НРОКр, 3/Г2)</td>\n",
       "      <td>1</td>\n",
       "      <td>1</td>\n",
       "      <td>1</td>\n",
       "      <td>изумрудпм</td>\n",
       "      <td>0.159</td>\n",
       "      <td>нрокр</td>\n",
       "      <td>3/г2</td>\n",
       "      <td>3</td>\n",
       "      <td>Г2</td>\n",
       "      <td>0.159000</td>\n",
       "      <td>0,10-0,24</td>\n",
       "    </tr>\n",
       "    <tr>\n",
       "      <th>...</th>\n",
       "      <td>...</td>\n",
       "      <td>...</td>\n",
       "      <td>...</td>\n",
       "      <td>...</td>\n",
       "      <td>...</td>\n",
       "      <td>...</td>\n",
       "      <td>...</td>\n",
       "      <td>...</td>\n",
       "      <td>...</td>\n",
       "      <td>...</td>\n",
       "      <td>...</td>\n",
       "      <td>...</td>\n",
       "      <td>...</td>\n",
       "      <td>...</td>\n",
       "      <td>...</td>\n",
       "      <td>...</td>\n",
       "    </tr>\n",
       "    <tr>\n",
       "      <th>31958</th>\n",
       "      <td>ЦБ-00171233</td>\n",
       "      <td>4ИзумрудПМ-0,540-кр+3/Г3 2КР57-0,030-3/4А</td>\n",
       "      <td>4изумрудпм-0,540-кр+3/г3 2кр57-0,030-3/4а</td>\n",
       "      <td>[(4, ИзумрудПМ, 0,540, кр, 3/Г3)]</td>\n",
       "      <td>(4, ИзумрудПМ, 0,540, кр, 3/Г3)</td>\n",
       "      <td>1</td>\n",
       "      <td>1</td>\n",
       "      <td>4</td>\n",
       "      <td>изумрудпм</td>\n",
       "      <td>0.540</td>\n",
       "      <td>кр</td>\n",
       "      <td>3/г3</td>\n",
       "      <td>3</td>\n",
       "      <td>Г3</td>\n",
       "      <td>0.135000</td>\n",
       "      <td>0,10-0,24</td>\n",
       "    </tr>\n",
       "    <tr>\n",
       "      <th>31971</th>\n",
       "      <td>ЦБ-00171334</td>\n",
       "      <td>2ИзумрудПМ-0,270-м+2/Г2 20КР57-0,240-3/5А</td>\n",
       "      <td>2изумрудпм-0,270-м+2/г2 20кр57-0,240-3/5а</td>\n",
       "      <td>[(2, ИзумрудПМ, 0,270, м, 2/Г2)]</td>\n",
       "      <td>(2, ИзумрудПМ, 0,270, м, 2/Г2)</td>\n",
       "      <td>1</td>\n",
       "      <td>1</td>\n",
       "      <td>2</td>\n",
       "      <td>изумрудпм</td>\n",
       "      <td>0.270</td>\n",
       "      <td>м</td>\n",
       "      <td>2/г2</td>\n",
       "      <td>2</td>\n",
       "      <td>Г2</td>\n",
       "      <td>0.135000</td>\n",
       "      <td>0,10-0,24</td>\n",
       "    </tr>\n",
       "    <tr>\n",
       "      <th>31975</th>\n",
       "      <td>ЦБ-00171360</td>\n",
       "      <td>2ИзумрудПМ-0,670-пр+5/Г1 2КР57-0,030-3/3А</td>\n",
       "      <td>2изумрудпм-0,670-пр+5/г1 2кр57-0,030-3/3а</td>\n",
       "      <td>[(2, ИзумрудПМ, 0,670, пр, 5/Г1)]</td>\n",
       "      <td>(2, ИзумрудПМ, 0,670, пр, 5/Г1)</td>\n",
       "      <td>1</td>\n",
       "      <td>1</td>\n",
       "      <td>2</td>\n",
       "      <td>изумрудпм</td>\n",
       "      <td>0.670</td>\n",
       "      <td>пр</td>\n",
       "      <td>5/г1</td>\n",
       "      <td>5</td>\n",
       "      <td>Г1</td>\n",
       "      <td>0.335000</td>\n",
       "      <td>0,25-0,49</td>\n",
       "    </tr>\n",
       "    <tr>\n",
       "      <th>32597</th>\n",
       "      <td>ЦБ-00177187</td>\n",
       "      <td>2ИзумрудПМ-0,166-НРОКр+3/Г3 6Кр57-0,076-4/5А 6...</td>\n",
       "      <td>2изумрудпм-0,166-нрокр+3/г3 6кр57-0,076-4/5а 6...</td>\n",
       "      <td>[(2, ИзумрудПМ, 0,166, НРОКр, 3/Г3)]</td>\n",
       "      <td>(2, ИзумрудПМ, 0,166, НРОКр, 3/Г3)</td>\n",
       "      <td>1</td>\n",
       "      <td>1</td>\n",
       "      <td>2</td>\n",
       "      <td>изумрудпм</td>\n",
       "      <td>0.166</td>\n",
       "      <td>нрокр</td>\n",
       "      <td>3/г3</td>\n",
       "      <td>3</td>\n",
       "      <td>Г3</td>\n",
       "      <td>0.083000</td>\n",
       "      <td>до 0,09</td>\n",
       "    </tr>\n",
       "    <tr>\n",
       "      <th>32933</th>\n",
       "      <td>ЦБ-00181335</td>\n",
       "      <td>6ИзумрудПМ-0,203-НРОКр+3/Г3 6КР57-0,244-3/4А</td>\n",
       "      <td>6изумрудпм-0,203-нрокр+3/г3 6кр57-0,244-3/4а</td>\n",
       "      <td>[(6, ИзумрудПМ, 0,203, НРОКр, 3/Г3)]</td>\n",
       "      <td>(6, ИзумрудПМ, 0,203, НРОКр, 3/Г3)</td>\n",
       "      <td>1</td>\n",
       "      <td>1</td>\n",
       "      <td>6</td>\n",
       "      <td>изумрудпм</td>\n",
       "      <td>0.203</td>\n",
       "      <td>нрокр</td>\n",
       "      <td>3/г3</td>\n",
       "      <td>3</td>\n",
       "      <td>Г3</td>\n",
       "      <td>0.033833</td>\n",
       "      <td>до 0,09</td>\n",
       "    </tr>\n",
       "  </tbody>\n",
       "</table>\n",
       "<p>307 rows × 16 columns</p>\n",
       "</div>"
      ],
      "text/plain": [
       "               Код                                        Вставки_д28  \\\n",
       "160    ЦБ-00019785       1ИзумрудПМ-1,270-НРООв+2/гз 7Кр57-0,100-3/3А   \n",
       "249    ЦБ-00019921       1ИзумрудПМ-0,100-НРОКр+4/Г3 4Кр57-0,040-2/4А   \n",
       "345    ЦБ-00090311  1ИзумрудПМ-0,234-НРОКр+3/Г2 6Кр57-0,148-2/2А 2...   \n",
       "372    ЦБ-00163308      1ИзумрудПМ-0,340-НРООв+3/Г3 12Кр17-0,030-2/2А   \n",
       "374    ЦБ-00163310      1ИзумрудПМ-0,159-НРОКр+3/Г2 12Кр57-0,113-3/4А   \n",
       "...            ...                                                ...   \n",
       "31958  ЦБ-00171233          4ИзумрудПМ-0,540-кр+3/Г3 2КР57-0,030-3/4А   \n",
       "31971  ЦБ-00171334          2ИзумрудПМ-0,270-м+2/Г2 20КР57-0,240-3/5А   \n",
       "31975  ЦБ-00171360          2ИзумрудПМ-0,670-пр+5/Г1 2КР57-0,030-3/3А   \n",
       "32597  ЦБ-00177187  2ИзумрудПМ-0,166-НРОКр+3/Г3 6Кр57-0,076-4/5А 6...   \n",
       "32933  ЦБ-00181335       6ИзумрудПМ-0,203-НРОКр+3/Г3 6КР57-0,244-3/4А   \n",
       "\n",
       "                                                emeralds  \\\n",
       "160         1изумрудпм-1,270-нроов+2/гз 7кр57-0,100-3/3а   \n",
       "249         1изумрудпм-0,100-нрокр+4/г3 4кр57-0,040-2/4а   \n",
       "345    1изумрудпм-0,234-нрокр+3/г2 6кр57-0,148-2/2а 2...   \n",
       "372        1изумрудпм-0,340-нроов+3/г3 12кр17-0,030-2/2а   \n",
       "374        1изумрудпм-0,159-нрокр+3/г2 12кр57-0,113-3/4а   \n",
       "...                                                  ...   \n",
       "31958          4изумрудпм-0,540-кр+3/г3 2кр57-0,030-3/4а   \n",
       "31971          2изумрудпм-0,270-м+2/г2 20кр57-0,240-3/5а   \n",
       "31975          2изумрудпм-0,670-пр+5/г1 2кр57-0,030-3/3а   \n",
       "32597  2изумрудпм-0,166-нрокр+3/г3 6кр57-0,076-4/5а 6...   \n",
       "32933       6изумрудпм-0,203-нрокр+3/г3 6кр57-0,244-3/4а   \n",
       "\n",
       "                                       re01  \\\n",
       "160     [(1, ИзумрудПМ, 1,270, НРООв, 2/г)]   \n",
       "249    [(1, ИзумрудПМ, 0,100, НРОКр, 4/Г3)]   \n",
       "345    [(1, ИзумрудПМ, 0,234, НРОКр, 3/Г2)]   \n",
       "372    [(1, ИзумрудПМ, 0,340, НРООв, 3/Г3)]   \n",
       "374    [(1, ИзумрудПМ, 0,159, НРОКр, 3/Г2)]   \n",
       "...                                     ...   \n",
       "31958     [(4, ИзумрудПМ, 0,540, кр, 3/Г3)]   \n",
       "31971      [(2, ИзумрудПМ, 0,270, м, 2/Г2)]   \n",
       "31975     [(2, ИзумрудПМ, 0,670, пр, 5/Г1)]   \n",
       "32597  [(2, ИзумрудПМ, 0,166, НРОКр, 3/Г3)]   \n",
       "32933  [(6, ИзумрудПМ, 0,203, НРОКр, 3/Г3)]   \n",
       "\n",
       "                             emerald_list  len_jem  len_em  PCS        GEM  \\\n",
       "160     (1, ИзумрудПМ, 1,270, НРООв, 2/г)        1       1    1  изумрудпм   \n",
       "249    (1, ИзумрудПМ, 0,100, НРОКр, 4/Г3)        1       1    1  изумрудпм   \n",
       "345    (1, ИзумрудПМ, 0,234, НРОКр, 3/Г2)        1       1    1  изумрудпм   \n",
       "372    (1, ИзумрудПМ, 0,340, НРООв, 3/Г3)        1       1    1  изумрудпм   \n",
       "374    (1, ИзумрудПМ, 0,159, НРОКр, 3/Г2)        1       1    1  изумрудпм   \n",
       "...                                   ...      ...     ...  ...        ...   \n",
       "31958     (4, ИзумрудПМ, 0,540, кр, 3/Г3)        1       1    4  изумрудпм   \n",
       "31971      (2, ИзумрудПМ, 0,270, м, 2/Г2)        1       1    2  изумрудпм   \n",
       "31975     (2, ИзумрудПМ, 0,670, пр, 5/Г1)        1       1    2  изумрудпм   \n",
       "32597  (2, ИзумрудПМ, 0,166, НРОКр, 3/Г3)        1       1    2  изумрудпм   \n",
       "32933  (6, ИзумрудПМ, 0,203, НРОКр, 3/Г3)        1       1    6  изумрудпм   \n",
       "\n",
       "       CARAT   FORM    CQ  C    Q   CARAT_1  \\\n",
       "160    1.270  нроов   2/г  2  NaN  1.270000   \n",
       "249    0.100  нрокр  4/г3  4   Г3  0.100000   \n",
       "345    0.234  нрокр  3/г2  3   Г2  0.234000   \n",
       "372    0.340  нроов  3/г3  3   Г3  0.340000   \n",
       "374    0.159  нрокр  3/г2  3   Г2  0.159000   \n",
       "...      ...    ...   ... ..  ...       ...   \n",
       "31958  0.540     кр  3/г3  3   Г3  0.135000   \n",
       "31971  0.270      м  2/г2  2   Г2  0.135000   \n",
       "31975  0.670     пр  5/г1  5   Г1  0.335000   \n",
       "32597  0.166  нрокр  3/г3  3   Г3  0.083000   \n",
       "32933  0.203  нрокр  3/г3  3   Г3  0.033833   \n",
       "\n",
       "                                          size  \n",
       "160    error_size_em_sto: q not in dcla_em_sto  \n",
       "249                                  0,10-0,24  \n",
       "345                                  0,10-0,24  \n",
       "372                                  0,25-0,49  \n",
       "374                                  0,10-0,24  \n",
       "...                                        ...  \n",
       "31958                                0,10-0,24  \n",
       "31971                                0,10-0,24  \n",
       "31975                                0,25-0,49  \n",
       "32597                                  до 0,09  \n",
       "32933                                  до 0,09  \n",
       "\n",
       "[307 rows x 16 columns]"
      ]
     },
     "execution_count": 862,
     "metadata": {},
     "output_type": "execute_result"
    }
   ],
   "source": [
    "dfx"
   ]
  },
  {
   "cell_type": "code",
   "execution_count": 863,
   "id": "50ff0cb0",
   "metadata": {},
   "outputs": [
    {
     "data": {
      "text/plain": [
       "Код              object\n",
       "Вставки_д28      object\n",
       "emeralds         object\n",
       "re01             object\n",
       "emerald_list     object\n",
       "len_jem           int64\n",
       "len_em            int64\n",
       "PCS               int32\n",
       "GEM              object\n",
       "CARAT           float64\n",
       "FORM             object\n",
       "CQ               object\n",
       "C                object\n",
       "Q                object\n",
       "CARAT_1         float64\n",
       "size             object\n",
       "dtype: object"
      ]
     },
     "execution_count": 863,
     "metadata": {},
     "output_type": "execute_result"
    }
   ],
   "source": [
    "dfx.dtypes"
   ]
  },
  {
   "cell_type": "code",
   "execution_count": 864,
   "id": "3221451a",
   "metadata": {},
   "outputs": [
    {
     "data": {
      "text/plain": [
       "ТУ           object\n",
       "Обработка    object\n",
       "Огранка      object\n",
       "цвет          int64\n",
       "чистота      object\n",
       "size         object\n",
       "price         int64\n",
       "dtype: object"
      ]
     },
     "execution_count": 864,
     "metadata": {},
     "output_type": "execute_result"
    }
   ],
   "source": [
    "pr_em_sto.dtypes\n"
   ]
  },
  {
   "cell_type": "code",
   "execution_count": 869,
   "id": "bdab72ce",
   "metadata": {},
   "outputs": [
    {
     "data": {
      "text/html": [
       "<div>\n",
       "<style scoped>\n",
       "    .dataframe tbody tr th:only-of-type {\n",
       "        vertical-align: middle;\n",
       "    }\n",
       "\n",
       "    .dataframe tbody tr th {\n",
       "        vertical-align: top;\n",
       "    }\n",
       "\n",
       "    .dataframe thead th {\n",
       "        text-align: right;\n",
       "    }\n",
       "</style>\n",
       "<table border=\"1\" class=\"dataframe\">\n",
       "  <thead>\n",
       "    <tr style=\"text-align: right;\">\n",
       "      <th></th>\n",
       "      <th>Код</th>\n",
       "      <th>Вставки_д28</th>\n",
       "      <th>emeralds</th>\n",
       "      <th>re01</th>\n",
       "      <th>emerald_list</th>\n",
       "      <th>len_jem</th>\n",
       "      <th>len_em</th>\n",
       "      <th>PCS</th>\n",
       "      <th>GEM</th>\n",
       "      <th>CARAT</th>\n",
       "      <th>...</th>\n",
       "      <th>C</th>\n",
       "      <th>Q</th>\n",
       "      <th>CARAT_1</th>\n",
       "      <th>size</th>\n",
       "      <th>ТУ</th>\n",
       "      <th>Обработка</th>\n",
       "      <th>Огранка</th>\n",
       "      <th>цвет</th>\n",
       "      <th>чистота</th>\n",
       "      <th>price</th>\n",
       "    </tr>\n",
       "  </thead>\n",
       "  <tbody>\n",
       "    <tr>\n",
       "      <th>0</th>\n",
       "      <td>ЦБ-00019785</td>\n",
       "      <td>1ИзумрудПМ-1,270-НРООв+2/гз 7Кр57-0,100-3/3А</td>\n",
       "      <td>1изумрудпм-1,270-нроов+2/гз 7кр57-0,100-3/3а</td>\n",
       "      <td>[(1, ИзумрудПМ, 1,270, НРООв, 2/г)]</td>\n",
       "      <td>(1, ИзумрудПМ, 1,270, НРООв, 2/г)</td>\n",
       "      <td>1</td>\n",
       "      <td>1</td>\n",
       "      <td>1</td>\n",
       "      <td>изумрудпм</td>\n",
       "      <td>1.270</td>\n",
       "      <td>...</td>\n",
       "      <td>2</td>\n",
       "      <td>NaN</td>\n",
       "      <td>1.270000</td>\n",
       "      <td>error_size_em_sto: q not in dcla_em_sto</td>\n",
       "      <td>NaN</td>\n",
       "      <td>NaN</td>\n",
       "      <td>NaN</td>\n",
       "      <td>NaN</td>\n",
       "      <td>NaN</td>\n",
       "      <td>NaN</td>\n",
       "    </tr>\n",
       "    <tr>\n",
       "      <th>1</th>\n",
       "      <td>ЦБ-00019921</td>\n",
       "      <td>1ИзумрудПМ-0,100-НРОКр+4/Г3 4Кр57-0,040-2/4А</td>\n",
       "      <td>1изумрудпм-0,100-нрокр+4/г3 4кр57-0,040-2/4а</td>\n",
       "      <td>[(1, ИзумрудПМ, 0,100, НРОКр, 4/Г3)]</td>\n",
       "      <td>(1, ИзумрудПМ, 0,100, НРОКр, 4/Г3)</td>\n",
       "      <td>1</td>\n",
       "      <td>1</td>\n",
       "      <td>1</td>\n",
       "      <td>изумрудпм</td>\n",
       "      <td>0.100</td>\n",
       "      <td>...</td>\n",
       "      <td>4</td>\n",
       "      <td>Г3</td>\n",
       "      <td>0.100000</td>\n",
       "      <td>0,10-0,24</td>\n",
       "      <td>СТО</td>\n",
       "      <td>промасливание (O) и заполнение трещин (F)</td>\n",
       "      <td>фацетный вид огранки</td>\n",
       "      <td>4</td>\n",
       "      <td>Г3</td>\n",
       "      <td>40.0</td>\n",
       "    </tr>\n",
       "    <tr>\n",
       "      <th>2</th>\n",
       "      <td>ЦБ-00090311</td>\n",
       "      <td>1ИзумрудПМ-0,234-НРОКр+3/Г2 6Кр57-0,148-2/2А 2...</td>\n",
       "      <td>1изумрудпм-0,234-нрокр+3/г2 6кр57-0,148-2/2а 2...</td>\n",
       "      <td>[(1, ИзумрудПМ, 0,234, НРОКр, 3/Г2)]</td>\n",
       "      <td>(1, ИзумрудПМ, 0,234, НРОКр, 3/Г2)</td>\n",
       "      <td>1</td>\n",
       "      <td>1</td>\n",
       "      <td>1</td>\n",
       "      <td>изумрудпм</td>\n",
       "      <td>0.234</td>\n",
       "      <td>...</td>\n",
       "      <td>3</td>\n",
       "      <td>Г2</td>\n",
       "      <td>0.234000</td>\n",
       "      <td>0,10-0,24</td>\n",
       "      <td>СТО</td>\n",
       "      <td>промасливание (O) и заполнение трещин (F)</td>\n",
       "      <td>фацетный вид огранки</td>\n",
       "      <td>3</td>\n",
       "      <td>Г2</td>\n",
       "      <td>120.0</td>\n",
       "    </tr>\n",
       "    <tr>\n",
       "      <th>3</th>\n",
       "      <td>ЦБ-00163308</td>\n",
       "      <td>1ИзумрудПМ-0,340-НРООв+3/Г3 12Кр17-0,030-2/2А</td>\n",
       "      <td>1изумрудпм-0,340-нроов+3/г3 12кр17-0,030-2/2а</td>\n",
       "      <td>[(1, ИзумрудПМ, 0,340, НРООв, 3/Г3)]</td>\n",
       "      <td>(1, ИзумрудПМ, 0,340, НРООв, 3/Г3)</td>\n",
       "      <td>1</td>\n",
       "      <td>1</td>\n",
       "      <td>1</td>\n",
       "      <td>изумрудпм</td>\n",
       "      <td>0.340</td>\n",
       "      <td>...</td>\n",
       "      <td>3</td>\n",
       "      <td>Г3</td>\n",
       "      <td>0.340000</td>\n",
       "      <td>0,25-0,49</td>\n",
       "      <td>СТО</td>\n",
       "      <td>промасливание (O) и заполнение трещин (F)</td>\n",
       "      <td>фацетный вид огранки</td>\n",
       "      <td>3</td>\n",
       "      <td>Г3</td>\n",
       "      <td>110.0</td>\n",
       "    </tr>\n",
       "    <tr>\n",
       "      <th>4</th>\n",
       "      <td>ЦБ-00163310</td>\n",
       "      <td>1ИзумрудПМ-0,159-НРОКр+3/Г2 12Кр57-0,113-3/4А</td>\n",
       "      <td>1изумрудпм-0,159-нрокр+3/г2 12кр57-0,113-3/4а</td>\n",
       "      <td>[(1, ИзумрудПМ, 0,159, НРОКр, 3/Г2)]</td>\n",
       "      <td>(1, ИзумрудПМ, 0,159, НРОКр, 3/Г2)</td>\n",
       "      <td>1</td>\n",
       "      <td>1</td>\n",
       "      <td>1</td>\n",
       "      <td>изумрудпм</td>\n",
       "      <td>0.159</td>\n",
       "      <td>...</td>\n",
       "      <td>3</td>\n",
       "      <td>Г2</td>\n",
       "      <td>0.159000</td>\n",
       "      <td>0,10-0,24</td>\n",
       "      <td>СТО</td>\n",
       "      <td>промасливание (O) и заполнение трещин (F)</td>\n",
       "      <td>фацетный вид огранки</td>\n",
       "      <td>3</td>\n",
       "      <td>Г2</td>\n",
       "      <td>120.0</td>\n",
       "    </tr>\n",
       "    <tr>\n",
       "      <th>...</th>\n",
       "      <td>...</td>\n",
       "      <td>...</td>\n",
       "      <td>...</td>\n",
       "      <td>...</td>\n",
       "      <td>...</td>\n",
       "      <td>...</td>\n",
       "      <td>...</td>\n",
       "      <td>...</td>\n",
       "      <td>...</td>\n",
       "      <td>...</td>\n",
       "      <td>...</td>\n",
       "      <td>...</td>\n",
       "      <td>...</td>\n",
       "      <td>...</td>\n",
       "      <td>...</td>\n",
       "      <td>...</td>\n",
       "      <td>...</td>\n",
       "      <td>...</td>\n",
       "      <td>...</td>\n",
       "      <td>...</td>\n",
       "      <td>...</td>\n",
       "    </tr>\n",
       "    <tr>\n",
       "      <th>302</th>\n",
       "      <td>ЦБ-00171233</td>\n",
       "      <td>4ИзумрудПМ-0,540-кр+3/Г3 2КР57-0,030-3/4А</td>\n",
       "      <td>4изумрудпм-0,540-кр+3/г3 2кр57-0,030-3/4а</td>\n",
       "      <td>[(4, ИзумрудПМ, 0,540, кр, 3/Г3)]</td>\n",
       "      <td>(4, ИзумрудПМ, 0,540, кр, 3/Г3)</td>\n",
       "      <td>1</td>\n",
       "      <td>1</td>\n",
       "      <td>4</td>\n",
       "      <td>изумрудпм</td>\n",
       "      <td>0.540</td>\n",
       "      <td>...</td>\n",
       "      <td>3</td>\n",
       "      <td>Г3</td>\n",
       "      <td>0.135000</td>\n",
       "      <td>0,10-0,24</td>\n",
       "      <td>СТО</td>\n",
       "      <td>промасливание (O) и заполнение трещин (F)</td>\n",
       "      <td>фацетный вид огранки</td>\n",
       "      <td>3</td>\n",
       "      <td>Г3</td>\n",
       "      <td>100.0</td>\n",
       "    </tr>\n",
       "    <tr>\n",
       "      <th>303</th>\n",
       "      <td>ЦБ-00171334</td>\n",
       "      <td>2ИзумрудПМ-0,270-м+2/Г2 20КР57-0,240-3/5А</td>\n",
       "      <td>2изумрудпм-0,270-м+2/г2 20кр57-0,240-3/5а</td>\n",
       "      <td>[(2, ИзумрудПМ, 0,270, м, 2/Г2)]</td>\n",
       "      <td>(2, ИзумрудПМ, 0,270, м, 2/Г2)</td>\n",
       "      <td>1</td>\n",
       "      <td>1</td>\n",
       "      <td>2</td>\n",
       "      <td>изумрудпм</td>\n",
       "      <td>0.270</td>\n",
       "      <td>...</td>\n",
       "      <td>2</td>\n",
       "      <td>Г2</td>\n",
       "      <td>0.135000</td>\n",
       "      <td>0,10-0,24</td>\n",
       "      <td>СТО</td>\n",
       "      <td>промасливание (O) и заполнение трещин (F)</td>\n",
       "      <td>фацетный вид огранки</td>\n",
       "      <td>2</td>\n",
       "      <td>Г2</td>\n",
       "      <td>200.0</td>\n",
       "    </tr>\n",
       "    <tr>\n",
       "      <th>304</th>\n",
       "      <td>ЦБ-00171360</td>\n",
       "      <td>2ИзумрудПМ-0,670-пр+5/Г1 2КР57-0,030-3/3А</td>\n",
       "      <td>2изумрудпм-0,670-пр+5/г1 2кр57-0,030-3/3а</td>\n",
       "      <td>[(2, ИзумрудПМ, 0,670, пр, 5/Г1)]</td>\n",
       "      <td>(2, ИзумрудПМ, 0,670, пр, 5/Г1)</td>\n",
       "      <td>1</td>\n",
       "      <td>1</td>\n",
       "      <td>2</td>\n",
       "      <td>изумрудпм</td>\n",
       "      <td>0.670</td>\n",
       "      <td>...</td>\n",
       "      <td>5</td>\n",
       "      <td>Г1</td>\n",
       "      <td>0.335000</td>\n",
       "      <td>0,25-0,49</td>\n",
       "      <td>СТО</td>\n",
       "      <td>промасливание (O) и заполнение трещин (F)</td>\n",
       "      <td>фацетный вид огранки</td>\n",
       "      <td>5</td>\n",
       "      <td>Г1</td>\n",
       "      <td>30.0</td>\n",
       "    </tr>\n",
       "    <tr>\n",
       "      <th>305</th>\n",
       "      <td>ЦБ-00177187</td>\n",
       "      <td>2ИзумрудПМ-0,166-НРОКр+3/Г3 6Кр57-0,076-4/5А 6...</td>\n",
       "      <td>2изумрудпм-0,166-нрокр+3/г3 6кр57-0,076-4/5а 6...</td>\n",
       "      <td>[(2, ИзумрудПМ, 0,166, НРОКр, 3/Г3)]</td>\n",
       "      <td>(2, ИзумрудПМ, 0,166, НРОКр, 3/Г3)</td>\n",
       "      <td>1</td>\n",
       "      <td>1</td>\n",
       "      <td>2</td>\n",
       "      <td>изумрудпм</td>\n",
       "      <td>0.166</td>\n",
       "      <td>...</td>\n",
       "      <td>3</td>\n",
       "      <td>Г3</td>\n",
       "      <td>0.083000</td>\n",
       "      <td>до 0,09</td>\n",
       "      <td>СТО</td>\n",
       "      <td>промасливание (O) и заполнение трещин (F)</td>\n",
       "      <td>фацетный вид огранки</td>\n",
       "      <td>3</td>\n",
       "      <td>Г3</td>\n",
       "      <td>65.0</td>\n",
       "    </tr>\n",
       "    <tr>\n",
       "      <th>306</th>\n",
       "      <td>ЦБ-00181335</td>\n",
       "      <td>6ИзумрудПМ-0,203-НРОКр+3/Г3 6КР57-0,244-3/4А</td>\n",
       "      <td>6изумрудпм-0,203-нрокр+3/г3 6кр57-0,244-3/4а</td>\n",
       "      <td>[(6, ИзумрудПМ, 0,203, НРОКр, 3/Г3)]</td>\n",
       "      <td>(6, ИзумрудПМ, 0,203, НРОКр, 3/Г3)</td>\n",
       "      <td>1</td>\n",
       "      <td>1</td>\n",
       "      <td>6</td>\n",
       "      <td>изумрудпм</td>\n",
       "      <td>0.203</td>\n",
       "      <td>...</td>\n",
       "      <td>3</td>\n",
       "      <td>Г3</td>\n",
       "      <td>0.033833</td>\n",
       "      <td>до 0,09</td>\n",
       "      <td>СТО</td>\n",
       "      <td>промасливание (O) и заполнение трещин (F)</td>\n",
       "      <td>фацетный вид огранки</td>\n",
       "      <td>3</td>\n",
       "      <td>Г3</td>\n",
       "      <td>65.0</td>\n",
       "    </tr>\n",
       "  </tbody>\n",
       "</table>\n",
       "<p>307 rows × 22 columns</p>\n",
       "</div>"
      ],
      "text/plain": [
       "             Код                                        Вставки_д28  \\\n",
       "0    ЦБ-00019785       1ИзумрудПМ-1,270-НРООв+2/гз 7Кр57-0,100-3/3А   \n",
       "1    ЦБ-00019921       1ИзумрудПМ-0,100-НРОКр+4/Г3 4Кр57-0,040-2/4А   \n",
       "2    ЦБ-00090311  1ИзумрудПМ-0,234-НРОКр+3/Г2 6Кр57-0,148-2/2А 2...   \n",
       "3    ЦБ-00163308      1ИзумрудПМ-0,340-НРООв+3/Г3 12Кр17-0,030-2/2А   \n",
       "4    ЦБ-00163310      1ИзумрудПМ-0,159-НРОКр+3/Г2 12Кр57-0,113-3/4А   \n",
       "..           ...                                                ...   \n",
       "302  ЦБ-00171233          4ИзумрудПМ-0,540-кр+3/Г3 2КР57-0,030-3/4А   \n",
       "303  ЦБ-00171334          2ИзумрудПМ-0,270-м+2/Г2 20КР57-0,240-3/5А   \n",
       "304  ЦБ-00171360          2ИзумрудПМ-0,670-пр+5/Г1 2КР57-0,030-3/3А   \n",
       "305  ЦБ-00177187  2ИзумрудПМ-0,166-НРОКр+3/Г3 6Кр57-0,076-4/5А 6...   \n",
       "306  ЦБ-00181335       6ИзумрудПМ-0,203-НРОКр+3/Г3 6КР57-0,244-3/4А   \n",
       "\n",
       "                                              emeralds  \\\n",
       "0         1изумрудпм-1,270-нроов+2/гз 7кр57-0,100-3/3а   \n",
       "1         1изумрудпм-0,100-нрокр+4/г3 4кр57-0,040-2/4а   \n",
       "2    1изумрудпм-0,234-нрокр+3/г2 6кр57-0,148-2/2а 2...   \n",
       "3        1изумрудпм-0,340-нроов+3/г3 12кр17-0,030-2/2а   \n",
       "4        1изумрудпм-0,159-нрокр+3/г2 12кр57-0,113-3/4а   \n",
       "..                                                 ...   \n",
       "302          4изумрудпм-0,540-кр+3/г3 2кр57-0,030-3/4а   \n",
       "303          2изумрудпм-0,270-м+2/г2 20кр57-0,240-3/5а   \n",
       "304          2изумрудпм-0,670-пр+5/г1 2кр57-0,030-3/3а   \n",
       "305  2изумрудпм-0,166-нрокр+3/г3 6кр57-0,076-4/5а 6...   \n",
       "306       6изумрудпм-0,203-нрокр+3/г3 6кр57-0,244-3/4а   \n",
       "\n",
       "                                     re01                        emerald_list  \\\n",
       "0     [(1, ИзумрудПМ, 1,270, НРООв, 2/г)]   (1, ИзумрудПМ, 1,270, НРООв, 2/г)   \n",
       "1    [(1, ИзумрудПМ, 0,100, НРОКр, 4/Г3)]  (1, ИзумрудПМ, 0,100, НРОКр, 4/Г3)   \n",
       "2    [(1, ИзумрудПМ, 0,234, НРОКр, 3/Г2)]  (1, ИзумрудПМ, 0,234, НРОКр, 3/Г2)   \n",
       "3    [(1, ИзумрудПМ, 0,340, НРООв, 3/Г3)]  (1, ИзумрудПМ, 0,340, НРООв, 3/Г3)   \n",
       "4    [(1, ИзумрудПМ, 0,159, НРОКр, 3/Г2)]  (1, ИзумрудПМ, 0,159, НРОКр, 3/Г2)   \n",
       "..                                    ...                                 ...   \n",
       "302     [(4, ИзумрудПМ, 0,540, кр, 3/Г3)]     (4, ИзумрудПМ, 0,540, кр, 3/Г3)   \n",
       "303      [(2, ИзумрудПМ, 0,270, м, 2/Г2)]      (2, ИзумрудПМ, 0,270, м, 2/Г2)   \n",
       "304     [(2, ИзумрудПМ, 0,670, пр, 5/Г1)]     (2, ИзумрудПМ, 0,670, пр, 5/Г1)   \n",
       "305  [(2, ИзумрудПМ, 0,166, НРОКр, 3/Г3)]  (2, ИзумрудПМ, 0,166, НРОКр, 3/Г3)   \n",
       "306  [(6, ИзумрудПМ, 0,203, НРОКр, 3/Г3)]  (6, ИзумрудПМ, 0,203, НРОКр, 3/Г3)   \n",
       "\n",
       "     len_jem  len_em  PCS        GEM  CARAT  ...  C    Q   CARAT_1  \\\n",
       "0          1       1    1  изумрудпм  1.270  ...  2  NaN  1.270000   \n",
       "1          1       1    1  изумрудпм  0.100  ...  4   Г3  0.100000   \n",
       "2          1       1    1  изумрудпм  0.234  ...  3   Г2  0.234000   \n",
       "3          1       1    1  изумрудпм  0.340  ...  3   Г3  0.340000   \n",
       "4          1       1    1  изумрудпм  0.159  ...  3   Г2  0.159000   \n",
       "..       ...     ...  ...        ...    ...  ... ..  ...       ...   \n",
       "302        1       1    4  изумрудпм  0.540  ...  3   Г3  0.135000   \n",
       "303        1       1    2  изумрудпм  0.270  ...  2   Г2  0.135000   \n",
       "304        1       1    2  изумрудпм  0.670  ...  5   Г1  0.335000   \n",
       "305        1       1    2  изумрудпм  0.166  ...  3   Г3  0.083000   \n",
       "306        1       1    6  изумрудпм  0.203  ...  3   Г3  0.033833   \n",
       "\n",
       "                                        size   ТУ  \\\n",
       "0    error_size_em_sto: q not in dcla_em_sto  NaN   \n",
       "1                                  0,10-0,24  СТО   \n",
       "2                                  0,10-0,24  СТО   \n",
       "3                                  0,25-0,49  СТО   \n",
       "4                                  0,10-0,24  СТО   \n",
       "..                                       ...  ...   \n",
       "302                                0,10-0,24  СТО   \n",
       "303                                0,10-0,24  СТО   \n",
       "304                                0,25-0,49  СТО   \n",
       "305                                  до 0,09  СТО   \n",
       "306                                  до 0,09  СТО   \n",
       "\n",
       "                                     Обработка               Огранка цвет  \\\n",
       "0                                          NaN                   NaN  NaN   \n",
       "1    промасливание (O) и заполнение трещин (F)  фацетный вид огранки    4   \n",
       "2    промасливание (O) и заполнение трещин (F)  фацетный вид огранки    3   \n",
       "3    промасливание (O) и заполнение трещин (F)  фацетный вид огранки    3   \n",
       "4    промасливание (O) и заполнение трещин (F)  фацетный вид огранки    3   \n",
       "..                                         ...                   ...  ...   \n",
       "302  промасливание (O) и заполнение трещин (F)  фацетный вид огранки    3   \n",
       "303  промасливание (O) и заполнение трещин (F)  фацетный вид огранки    2   \n",
       "304  промасливание (O) и заполнение трещин (F)  фацетный вид огранки    5   \n",
       "305  промасливание (O) и заполнение трещин (F)  фацетный вид огранки    3   \n",
       "306  промасливание (O) и заполнение трещин (F)  фацетный вид огранки    3   \n",
       "\n",
       "    чистота  price  \n",
       "0       NaN    NaN  \n",
       "1        Г3   40.0  \n",
       "2        Г2  120.0  \n",
       "3        Г3  110.0  \n",
       "4        Г2  120.0  \n",
       "..      ...    ...  \n",
       "302      Г3  100.0  \n",
       "303      Г2  200.0  \n",
       "304      Г1   30.0  \n",
       "305      Г3   65.0  \n",
       "306      Г3   65.0  \n",
       "\n",
       "[307 rows x 22 columns]"
      ]
     },
     "execution_count": 869,
     "metadata": {},
     "output_type": "execute_result"
    }
   ],
   "source": [
    "pd.merge(left=dfx, right=pr_em_sto,\n",
    "         how='left', \n",
    "         left_on=['size', 'C', 'Q',],\n",
    "         right_on=['size','цвет', 'чистота'])"
   ]
  },
  {
   "cell_type": "code",
   "execution_count": 788,
   "id": "3c95e55b",
   "metadata": {},
   "outputs": [],
   "source": [
    "_.to_excel('../ЦВДК/пром_рез_изумр_проверка_по.xlsx')"
   ]
  },
  {
   "cell_type": "code",
   "execution_count": null,
   "id": "c7accb82",
   "metadata": {},
   "outputs": [],
   "source": []
  },
  {
   "cell_type": "code",
   "execution_count": null,
   "id": "3abb7988",
   "metadata": {},
   "outputs": [],
   "source": []
  },
  {
   "cell_type": "markdown",
   "id": "a3e75747",
   "metadata": {},
   "source": [
    "# DEL"
   ]
  },
  {
   "cell_type": "code",
   "execution_count": null,
   "id": "2d7b2301",
   "metadata": {},
   "outputs": [],
   "source": []
  },
  {
   "cell_type": "markdown",
   "id": "91246f19",
   "metadata": {},
   "source": [
    "# Прейскурант обработка пдф отдельно в модуль"
   ]
  },
  {
   "cell_type": "code",
   "execution_count": null,
   "id": "b855960f",
   "metadata": {},
   "outputs": [],
   "source": [
    "#фацетный вид огранки"
   ]
  },
  {
   "cell_type": "code",
   "execution_count": 439,
   "id": "6954ec93",
   "metadata": {},
   "outputs": [],
   "source": [
    "pr_g = pd.read_excel('../ЦВДК/pr_emeralds_173_20-04-2023.xlsx', sheet_name='г', header=2)"
   ]
  },
  {
   "cell_type": "code",
   "execution_count": 440,
   "id": "fbfe0f49",
   "metadata": {},
   "outputs": [
    {
     "data": {
      "text/plain": [
       "Index(['ТУ', 'Обработка', 'Огранка', 'цвет', 'чистота', 'до 0,09', '0,10-0,24',\n",
       "       '0,25-0,49', '0,50-0,74', '0,75-0,99', '1,00-1,49', '1,50-1,99',\n",
       "       '2,00-2,99', '3,00-3,99', '4,00-4,99'],\n",
       "      dtype='object')"
      ]
     },
     "execution_count": 440,
     "metadata": {},
     "output_type": "execute_result"
    }
   ],
   "source": [
    "pr_g.columns"
   ]
  },
  {
   "cell_type": "code",
   "execution_count": 239,
   "id": "6e468f28",
   "metadata": {},
   "outputs": [],
   "source": [
    "pd.melt?"
   ]
  },
  {
   "cell_type": "code",
   "execution_count": 441,
   "id": "30a393ff",
   "metadata": {},
   "outputs": [],
   "source": [
    "pr_g = pd.melt(pr_g, id_vars=['ТУ', 'Обработка', 'Огранка', 'цвет', 'чистота'], value_vars=[ 'до 0,09', '0,10-0,24',\n",
    "       '0,25-0,49', '0,50-0,74', '0,75-0,99', '1,00-1,49', '1,50-1,99',\n",
    "       '2,00-2,99', '3,00-3,99', '4,00-4,99'], value_name='price', var_name='size')"
   ]
  },
  {
   "cell_type": "code",
   "execution_count": 442,
   "id": "2d5a1ae3",
   "metadata": {},
   "outputs": [],
   "source": [
    "pr_em_sto_g = pr_g[pr_g['ТУ']=='СТО']"
   ]
  },
  {
   "cell_type": "code",
   "execution_count": 443,
   "id": "b3b3d2bc",
   "metadata": {},
   "outputs": [
    {
     "data": {
      "text/plain": [
       "Index(['ТУ', 'Обработка', 'Огранка', 'цвет', 'чистота', 'size', 'price'], dtype='object')"
      ]
     },
     "execution_count": 443,
     "metadata": {},
     "output_type": "execute_result"
    }
   ],
   "source": [
    "pr_em_sto_g.columns"
   ]
  },
  {
   "cell_type": "code",
   "execution_count": 444,
   "id": "317ec0c5",
   "metadata": {},
   "outputs": [
    {
     "name": "stdout",
     "output_type": "stream",
     "text": [
      "ТУ ['СТО']\n",
      "Обработка ['промасливание (O) и заполнение трещин (F)']\n",
      "Огранка ['фацетный вид огранки']\n",
      "цвет ['1' '2' '3' '4' '5']\n",
      "чистота ['Г1' 'Г2' 'Г3']\n",
      "size ['до 0,09' '0,10-0,24' '0,25-0,49' '0,50-0,74' '0,75-0,99' '1,00-1,49'\n",
      " '1,50-1,99' '2,00-2,99' '3,00-3,99' '4,00-4,99']\n",
      "price [ 350  300  150  240   75   90   65   55   45   30   27   20   12  500\n",
      "  180  200  110  120  100   40  550  400  450  250  130   70   22   13\n",
      "  700  600  170  280   80   60  900  580  185  320  140   26 1200  750\n",
      "  380  220  160   50   18 1700 1050  850  440 2500 1550  420  210 3000\n",
      " 1800  800 1400  520  260 3700 1000  650  360]\n"
     ]
    }
   ],
   "source": [
    "for c in pr_em_sto_g.columns:\n",
    "    print(c, pr_em_sto_g[c].unique())"
   ]
  },
  {
   "cell_type": "code",
   "execution_count": 445,
   "id": "7cbe2572",
   "metadata": {},
   "outputs": [],
   "source": [
    "#кобаш вид огранки"
   ]
  },
  {
   "cell_type": "code",
   "execution_count": 446,
   "id": "ce5d6076",
   "metadata": {},
   "outputs": [],
   "source": [
    "pr_k = pd.read_excel('../ЦВДК/pr_emeralds_173_20-04-2023.xlsx', sheet_name='к', header=2)"
   ]
  },
  {
   "cell_type": "code",
   "execution_count": 447,
   "id": "36f74d14",
   "metadata": {},
   "outputs": [
    {
     "data": {
      "text/plain": [
       "Index(['ТУ', 'Обработка', 'Огранка', 'цвет', 'чистота', 'до 0,49', '0,50-0,74',\n",
       "       '0,75-0,99', '1,00-1,49', '1,50-1,99', '2,00-2,99', '3,00-3,99',\n",
       "       '4,00-4,99'],\n",
       "      dtype='object')"
      ]
     },
     "execution_count": 447,
     "metadata": {},
     "output_type": "execute_result"
    }
   ],
   "source": [
    "pr_k.columns"
   ]
  },
  {
   "cell_type": "code",
   "execution_count": 448,
   "id": "66365b76",
   "metadata": {},
   "outputs": [],
   "source": [
    "pr_k = pd.melt(pr_k, id_vars=['ТУ', 'Обработка', 'Огранка', 'цвет', 'чистота'], value_vars=[ 'до 0,49', '0,50-0,74',\n",
    "       '0,75-0,99', '1,00-1,49', '1,50-1,99', '2,00-2,99', '3,00-3,99',\n",
    "       '4,00-4,99'], value_name='price', var_name='size')"
   ]
  },
  {
   "cell_type": "code",
   "execution_count": 449,
   "id": "39da5d32",
   "metadata": {},
   "outputs": [
    {
     "data": {
      "text/html": [
       "<div>\n",
       "<style scoped>\n",
       "    .dataframe tbody tr th:only-of-type {\n",
       "        vertical-align: middle;\n",
       "    }\n",
       "\n",
       "    .dataframe tbody tr th {\n",
       "        vertical-align: top;\n",
       "    }\n",
       "\n",
       "    .dataframe thead th {\n",
       "        text-align: right;\n",
       "    }\n",
       "</style>\n",
       "<table border=\"1\" class=\"dataframe\">\n",
       "  <thead>\n",
       "    <tr style=\"text-align: right;\">\n",
       "      <th></th>\n",
       "      <th>ТУ</th>\n",
       "      <th>Обработка</th>\n",
       "      <th>Огранка</th>\n",
       "      <th>цвет</th>\n",
       "      <th>чистота</th>\n",
       "      <th>size</th>\n",
       "      <th>price</th>\n",
       "    </tr>\n",
       "  </thead>\n",
       "  <tbody>\n",
       "    <tr>\n",
       "      <th>0</th>\n",
       "      <td>ГОСТ</td>\n",
       "      <td>заполнение трещин (F)</td>\n",
       "      <td>кобашенный вид огранки</td>\n",
       "      <td>1</td>\n",
       "      <td>1</td>\n",
       "      <td>до 0,49</td>\n",
       "      <td>220</td>\n",
       "    </tr>\n",
       "    <tr>\n",
       "      <th>1</th>\n",
       "      <td>ГОСТ</td>\n",
       "      <td>заполнение трещин (F)</td>\n",
       "      <td>кобашенный вид огранки</td>\n",
       "      <td>1</td>\n",
       "      <td>2</td>\n",
       "      <td>до 0,49</td>\n",
       "      <td>200</td>\n",
       "    </tr>\n",
       "    <tr>\n",
       "      <th>2</th>\n",
       "      <td>ГОСТ</td>\n",
       "      <td>заполнение трещин (F)</td>\n",
       "      <td>кобашенный вид огранки</td>\n",
       "      <td>1</td>\n",
       "      <td>3</td>\n",
       "      <td>до 0,49</td>\n",
       "      <td>170</td>\n",
       "    </tr>\n",
       "    <tr>\n",
       "      <th>3</th>\n",
       "      <td>ГОСТ</td>\n",
       "      <td>заполнение трещин (F)</td>\n",
       "      <td>кобашенный вид огранки</td>\n",
       "      <td>1</td>\n",
       "      <td>4</td>\n",
       "      <td>до 0,49</td>\n",
       "      <td>140</td>\n",
       "    </tr>\n",
       "    <tr>\n",
       "      <th>4</th>\n",
       "      <td>ГОСТ</td>\n",
       "      <td>заполнение трещин (F)</td>\n",
       "      <td>кобашенный вид огранки</td>\n",
       "      <td>1</td>\n",
       "      <td>5</td>\n",
       "      <td>до 0,49</td>\n",
       "      <td>100</td>\n",
       "    </tr>\n",
       "    <tr>\n",
       "      <th>...</th>\n",
       "      <td>...</td>\n",
       "      <td>...</td>\n",
       "      <td>...</td>\n",
       "      <td>...</td>\n",
       "      <td>...</td>\n",
       "      <td>...</td>\n",
       "      <td>...</td>\n",
       "    </tr>\n",
       "    <tr>\n",
       "      <th>387</th>\n",
       "      <td>СТО</td>\n",
       "      <td>промасливание (O) и заполнение трещин (F)</td>\n",
       "      <td>кобашенный вид огранки</td>\n",
       "      <td>3</td>\n",
       "      <td>К2</td>\n",
       "      <td>4,00-4,99</td>\n",
       "      <td>110</td>\n",
       "    </tr>\n",
       "    <tr>\n",
       "      <th>388</th>\n",
       "      <td>СТО</td>\n",
       "      <td>промасливание (O) и заполнение трещин (F)</td>\n",
       "      <td>кобашенный вид огранки</td>\n",
       "      <td>4</td>\n",
       "      <td>К1</td>\n",
       "      <td>4,00-4,99</td>\n",
       "      <td>90</td>\n",
       "    </tr>\n",
       "    <tr>\n",
       "      <th>389</th>\n",
       "      <td>СТО</td>\n",
       "      <td>промасливание (O) и заполнение трещин (F)</td>\n",
       "      <td>кобашенный вид огранки</td>\n",
       "      <td>4</td>\n",
       "      <td>К2</td>\n",
       "      <td>4,00-4,99</td>\n",
       "      <td>56</td>\n",
       "    </tr>\n",
       "    <tr>\n",
       "      <th>390</th>\n",
       "      <td>СТО</td>\n",
       "      <td>промасливание (O) и заполнение трещин (F)</td>\n",
       "      <td>кобашенный вид огранки</td>\n",
       "      <td>5</td>\n",
       "      <td>К1</td>\n",
       "      <td>4,00-4,99</td>\n",
       "      <td>17</td>\n",
       "    </tr>\n",
       "    <tr>\n",
       "      <th>391</th>\n",
       "      <td>СТО</td>\n",
       "      <td>промасливание (O) и заполнение трещин (F)</td>\n",
       "      <td>кобашенный вид огранки</td>\n",
       "      <td>5</td>\n",
       "      <td>К2</td>\n",
       "      <td>4,00-4,99</td>\n",
       "      <td>9</td>\n",
       "    </tr>\n",
       "  </tbody>\n",
       "</table>\n",
       "<p>392 rows × 7 columns</p>\n",
       "</div>"
      ],
      "text/plain": [
       "       ТУ                                  Обработка                 Огранка  \\\n",
       "0    ГОСТ                      заполнение трещин (F)  кобашенный вид огранки   \n",
       "1    ГОСТ                      заполнение трещин (F)  кобашенный вид огранки   \n",
       "2    ГОСТ                      заполнение трещин (F)  кобашенный вид огранки   \n",
       "3    ГОСТ                      заполнение трещин (F)  кобашенный вид огранки   \n",
       "4    ГОСТ                      заполнение трещин (F)  кобашенный вид огранки   \n",
       "..    ...                                        ...                     ...   \n",
       "387   СТО  промасливание (O) и заполнение трещин (F)  кобашенный вид огранки   \n",
       "388   СТО  промасливание (O) и заполнение трещин (F)  кобашенный вид огранки   \n",
       "389   СТО  промасливание (O) и заполнение трещин (F)  кобашенный вид огранки   \n",
       "390   СТО  промасливание (O) и заполнение трещин (F)  кобашенный вид огранки   \n",
       "391   СТО  промасливание (O) и заполнение трещин (F)  кобашенный вид огранки   \n",
       "\n",
       "    цвет чистота       size  price  \n",
       "0      1       1    до 0,49    220  \n",
       "1      1       2    до 0,49    200  \n",
       "2      1       3    до 0,49    170  \n",
       "3      1       4    до 0,49    140  \n",
       "4      1       5    до 0,49    100  \n",
       "..   ...     ...        ...    ...  \n",
       "387    3      К2  4,00-4,99    110  \n",
       "388    4      К1  4,00-4,99     90  \n",
       "389    4      К2  4,00-4,99     56  \n",
       "390    5      К1  4,00-4,99     17  \n",
       "391    5      К2  4,00-4,99      9  \n",
       "\n",
       "[392 rows x 7 columns]"
      ]
     },
     "execution_count": 449,
     "metadata": {},
     "output_type": "execute_result"
    }
   ],
   "source": [
    "pr_k"
   ]
  },
  {
   "cell_type": "code",
   "execution_count": 450,
   "id": "fa9ce694",
   "metadata": {},
   "outputs": [],
   "source": [
    "pr_em_sto_k = pr_k[pr_k['ТУ']=='СТО']"
   ]
  },
  {
   "cell_type": "code",
   "execution_count": 451,
   "id": "a20f65eb",
   "metadata": {},
   "outputs": [
    {
     "data": {
      "text/plain": [
       "Index(['ТУ', 'Обработка', 'Огранка', 'цвет', 'чистота', 'size', 'price'], dtype='object')"
      ]
     },
     "execution_count": 451,
     "metadata": {},
     "output_type": "execute_result"
    }
   ],
   "source": [
    "pr_em_sto_k.columns"
   ]
  },
  {
   "cell_type": "code",
   "execution_count": 452,
   "id": "b8d6b008",
   "metadata": {
    "scrolled": true
   },
   "outputs": [
    {
     "name": "stdout",
     "output_type": "stream",
     "text": [
      "ТУ ['СТО']\n",
      "Обработка ['промасливание (O) и заполнение трещин (F)']\n",
      "Огранка ['кобашенный вид огранки']\n",
      "цвет ['1' '2' '3' '4' '5']\n",
      "чистота ['К1' 'К2']\n",
      "size ['до 0,49' '0,50-0,74' '0,75-0,99' '1,00-1,49' '1,50-1,99' '2,00-2,99'\n",
      " '3,00-3,99' '4,00-4,99']\n",
      "price [120  75  45  55  28  17   9 160  85  60  35 185 100  70  40  34  22 225\n",
      " 135  80  39 280 150 170  95 390 240 140  62 490 310 320 180  73 600 210\n",
      " 110  90  56]\n"
     ]
    }
   ],
   "source": [
    "for c in pr_em_sto_k.columns:\n",
    "    print(c, pr_em_sto_k[c].unique())"
   ]
  },
  {
   "cell_type": "code",
   "execution_count": 454,
   "id": "2fe36eb0",
   "metadata": {},
   "outputs": [],
   "source": [
    "# слияние\n",
    "pr_em_sto = pd.concat([pr_em_sto_k,pr_em_sto_g])"
   ]
  },
  {
   "cell_type": "code",
   "execution_count": 456,
   "id": "b301ebe4",
   "metadata": {},
   "outputs": [
    {
     "name": "stdout",
     "output_type": "stream",
     "text": [
      "ТУ ['СТО']\n",
      "Обработка ['промасливание (O) и заполнение трещин (F)']\n",
      "Огранка ['кобашенный вид огранки' 'фацетный вид огранки']\n",
      "цвет ['1' '2' '3' '4' '5']\n",
      "чистота ['К1' 'К2' 'Г1' 'Г2' 'Г3']\n",
      "size ['до 0,49' '0,50-0,74' '0,75-0,99' '1,00-1,49' '1,50-1,99' '2,00-2,99'\n",
      " '3,00-3,99' '4,00-4,99' 'до 0,09' '0,10-0,24' '0,25-0,49']\n",
      "price [ 120   75   45   55   28   17    9  160   85   60   35  185  100   70\n",
      "   40   34   22  225  135   80   39  280  150  170   95  390  240  140\n",
      "   62  490  310  320  180   73  600  210  110   90   56  350  300   65\n",
      "   30   27   20   12  500  200  550  400  450  250  130   13  700  900\n",
      "  580   26 1200  750  380  220   50   18 1700 1050  850  440 2500 1550\n",
      "  420 3000 1800  800 1400  520  260 3700 1000  650  360]\n"
     ]
    }
   ],
   "source": [
    "dfxx = pr_em_sto\n",
    "for c in dfxx.columns:\n",
    "    print(c, dfxx[c].unique())"
   ]
  },
  {
   "cell_type": "code",
   "execution_count": 597,
   "id": "6bf2a511",
   "metadata": {},
   "outputs": [
    {
     "data": {
      "text/html": [
       "<div>\n",
       "<style scoped>\n",
       "    .dataframe tbody tr th:only-of-type {\n",
       "        vertical-align: middle;\n",
       "    }\n",
       "\n",
       "    .dataframe tbody tr th {\n",
       "        vertical-align: top;\n",
       "    }\n",
       "\n",
       "    .dataframe thead th {\n",
       "        text-align: right;\n",
       "    }\n",
       "</style>\n",
       "<table border=\"1\" class=\"dataframe\">\n",
       "  <thead>\n",
       "    <tr style=\"text-align: right;\">\n",
       "      <th></th>\n",
       "      <th>ТУ</th>\n",
       "      <th>Обработка</th>\n",
       "      <th>Огранка</th>\n",
       "      <th>цвет</th>\n",
       "      <th>чистота</th>\n",
       "      <th>size</th>\n",
       "      <th>price</th>\n",
       "    </tr>\n",
       "  </thead>\n",
       "  <tbody>\n",
       "    <tr>\n",
       "      <th>39</th>\n",
       "      <td>СТО</td>\n",
       "      <td>промасливание (O) и заполнение трещин (F)</td>\n",
       "      <td>кобашенный вид огранки</td>\n",
       "      <td>1</td>\n",
       "      <td>К1</td>\n",
       "      <td>до 0,49</td>\n",
       "      <td>120</td>\n",
       "    </tr>\n",
       "    <tr>\n",
       "      <th>40</th>\n",
       "      <td>СТО</td>\n",
       "      <td>промасливание (O) и заполнение трещин (F)</td>\n",
       "      <td>кобашенный вид огранки</td>\n",
       "      <td>1</td>\n",
       "      <td>К2</td>\n",
       "      <td>до 0,49</td>\n",
       "      <td>75</td>\n",
       "    </tr>\n",
       "    <tr>\n",
       "      <th>41</th>\n",
       "      <td>СТО</td>\n",
       "      <td>промасливание (O) и заполнение трещин (F)</td>\n",
       "      <td>кобашенный вид огранки</td>\n",
       "      <td>2</td>\n",
       "      <td>К1</td>\n",
       "      <td>до 0,49</td>\n",
       "      <td>75</td>\n",
       "    </tr>\n",
       "    <tr>\n",
       "      <th>42</th>\n",
       "      <td>СТО</td>\n",
       "      <td>промасливание (O) и заполнение трещин (F)</td>\n",
       "      <td>кобашенный вид огранки</td>\n",
       "      <td>2</td>\n",
       "      <td>К2</td>\n",
       "      <td>до 0,49</td>\n",
       "      <td>45</td>\n",
       "    </tr>\n",
       "    <tr>\n",
       "      <th>43</th>\n",
       "      <td>СТО</td>\n",
       "      <td>промасливание (O) и заполнение трещин (F)</td>\n",
       "      <td>кобашенный вид огранки</td>\n",
       "      <td>3</td>\n",
       "      <td>К1</td>\n",
       "      <td>до 0,49</td>\n",
       "      <td>55</td>\n",
       "    </tr>\n",
       "    <tr>\n",
       "      <th>...</th>\n",
       "      <td>...</td>\n",
       "      <td>...</td>\n",
       "      <td>...</td>\n",
       "      <td>...</td>\n",
       "      <td>...</td>\n",
       "      <td>...</td>\n",
       "      <td>...</td>\n",
       "    </tr>\n",
       "    <tr>\n",
       "      <th>535</th>\n",
       "      <td>СТО</td>\n",
       "      <td>промасливание (O) и заполнение трещин (F)</td>\n",
       "      <td>фацетный вид огранки</td>\n",
       "      <td>4</td>\n",
       "      <td>Г2</td>\n",
       "      <td>4,00-4,99</td>\n",
       "      <td>250</td>\n",
       "    </tr>\n",
       "    <tr>\n",
       "      <th>536</th>\n",
       "      <td>СТО</td>\n",
       "      <td>промасливание (O) и заполнение трещин (F)</td>\n",
       "      <td>фацетный вид огранки</td>\n",
       "      <td>4</td>\n",
       "      <td>Г3</td>\n",
       "      <td>4,00-4,99</td>\n",
       "      <td>170</td>\n",
       "    </tr>\n",
       "    <tr>\n",
       "      <th>537</th>\n",
       "      <td>СТО</td>\n",
       "      <td>промасливание (O) и заполнение трещин (F)</td>\n",
       "      <td>фацетный вид огранки</td>\n",
       "      <td>5</td>\n",
       "      <td>Г1</td>\n",
       "      <td>4,00-4,99</td>\n",
       "      <td>50</td>\n",
       "    </tr>\n",
       "    <tr>\n",
       "      <th>538</th>\n",
       "      <td>СТО</td>\n",
       "      <td>промасливание (O) и заполнение трещин (F)</td>\n",
       "      <td>фацетный вид огранки</td>\n",
       "      <td>5</td>\n",
       "      <td>Г2</td>\n",
       "      <td>4,00-4,99</td>\n",
       "      <td>30</td>\n",
       "    </tr>\n",
       "    <tr>\n",
       "      <th>539</th>\n",
       "      <td>СТО</td>\n",
       "      <td>промасливание (O) и заполнение трещин (F)</td>\n",
       "      <td>фацетный вид огранки</td>\n",
       "      <td>5</td>\n",
       "      <td>Г3</td>\n",
       "      <td>4,00-4,99</td>\n",
       "      <td>18</td>\n",
       "    </tr>\n",
       "  </tbody>\n",
       "</table>\n",
       "<p>230 rows × 7 columns</p>\n",
       "</div>"
      ],
      "text/plain": [
       "      ТУ                                  Обработка                 Огранка  \\\n",
       "39   СТО  промасливание (O) и заполнение трещин (F)  кобашенный вид огранки   \n",
       "40   СТО  промасливание (O) и заполнение трещин (F)  кобашенный вид огранки   \n",
       "41   СТО  промасливание (O) и заполнение трещин (F)  кобашенный вид огранки   \n",
       "42   СТО  промасливание (O) и заполнение трещин (F)  кобашенный вид огранки   \n",
       "43   СТО  промасливание (O) и заполнение трещин (F)  кобашенный вид огранки   \n",
       "..   ...                                        ...                     ...   \n",
       "535  СТО  промасливание (O) и заполнение трещин (F)    фацетный вид огранки   \n",
       "536  СТО  промасливание (O) и заполнение трещин (F)    фацетный вид огранки   \n",
       "537  СТО  промасливание (O) и заполнение трещин (F)    фацетный вид огранки   \n",
       "538  СТО  промасливание (O) и заполнение трещин (F)    фацетный вид огранки   \n",
       "539  СТО  промасливание (O) и заполнение трещин (F)    фацетный вид огранки   \n",
       "\n",
       "    цвет чистота       size  price  \n",
       "39     1      К1    до 0,49    120  \n",
       "40     1      К2    до 0,49     75  \n",
       "41     2      К1    до 0,49     75  \n",
       "42     2      К2    до 0,49     45  \n",
       "43     3      К1    до 0,49     55  \n",
       "..   ...     ...        ...    ...  \n",
       "535    4      Г2  4,00-4,99    250  \n",
       "536    4      Г3  4,00-4,99    170  \n",
       "537    5      Г1  4,00-4,99     50  \n",
       "538    5      Г2  4,00-4,99     30  \n",
       "539    5      Г3  4,00-4,99     18  \n",
       "\n",
       "[230 rows x 7 columns]"
      ]
     },
     "execution_count": 597,
     "metadata": {},
     "output_type": "execute_result"
    }
   ],
   "source": [
    "pr_em_sto.to_excel('', index=None)"
   ]
  },
  {
   "cell_type": "code",
   "execution_count": null,
   "id": "172bceef",
   "metadata": {},
   "outputs": [],
   "source": []
  },
  {
   "cell_type": "code",
   "execution_count": null,
   "id": "ba2f255c",
   "metadata": {},
   "outputs": [],
   "source": []
  }
 ],
 "metadata": {
  "kernelspec": {
   "display_name": "Python 3 (ipykernel)",
   "language": "python",
   "name": "python3"
  },
  "language_info": {
   "codemirror_mode": {
    "name": "ipython",
    "version": 3
   },
   "file_extension": ".py",
   "mimetype": "text/x-python",
   "name": "python",
   "nbconvert_exporter": "python",
   "pygments_lexer": "ipython3",
   "version": "3.10.9"
  },
  "toc": {
   "base_numbering": 1,
   "nav_menu": {},
   "number_sections": true,
   "sideBar": true,
   "skip_h1_title": false,
   "title_cell": "Table of Contents",
   "title_sidebar": "Contents",
   "toc_cell": false,
   "toc_position": {
    "height": "calc(100% - 180px)",
    "left": "10px",
    "top": "150px",
    "width": "460.17px"
   },
   "toc_section_display": true,
   "toc_window_display": true
  }
 },
 "nbformat": 4,
 "nbformat_minor": 5
}
