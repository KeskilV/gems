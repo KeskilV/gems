{
 "cells": [
  {
   "cell_type": "code",
   "execution_count": 1,
   "id": "4aa9f3f3",
   "metadata": {},
   "outputs": [],
   "source": [
    "#Для расчета прейскуранта бриллиантов ver1.0\n",
    "# работает после кода 23-10-24_упрОбработка выгрузки 1С УТ ДК использование коррекцию вставок 1-5 род_корр штрихкод.ipynb\n",
    "## на входе данные - for_script24-10-2023\\выгрузка15-10-2023_все_склады_ДК_24-10-2023_17-57.xlsx\n",
    "#\n",
    "#описание - C:\\Users\\специалист ао\\mypandas\\work\\2023\\23-09-ХХ Переоценка ДК магазины выст\\ReadMe2023-10-18.docx"
   ]
  },
  {
   "cell_type": "code",
   "execution_count": 216,
   "id": "fada1cab",
   "metadata": {},
   "outputs": [
    {
     "data": {
      "text/plain": [
       "'13-11-2023_06-48'"
      ]
     },
     "execution_count": 216,
     "metadata": {},
     "output_type": "execute_result"
    }
   ],
   "source": [
    "import datetime\n",
    "datetime.datetime.now().strftime('%d-%m-%Y_%H-%M')"
   ]
  },
  {
   "cell_type": "code",
   "execution_count": null,
   "id": "226b47e0",
   "metadata": {},
   "outputs": [],
   "source": []
  },
  {
   "cell_type": "code",
   "execution_count": null,
   "id": "506d7963",
   "metadata": {},
   "outputs": [],
   "source": []
  },
  {
   "cell_type": "markdown",
   "id": "d0a55769",
   "metadata": {},
   "source": [
    "# imports"
   ]
  },
  {
   "cell_type": "code",
   "execution_count": 217,
   "id": "3a0da704",
   "metadata": {},
   "outputs": [],
   "source": [
    "import numpy as np\n",
    "import pandas as pd\n",
    "import re\n",
    "import os\n",
    "import importlib"
   ]
  },
  {
   "cell_type": "code",
   "execution_count": 218,
   "id": "9a8668fd",
   "metadata": {},
   "outputs": [],
   "source": [
    "import module_prgem.dictemeralds as mprgem"
   ]
  },
  {
   "cell_type": "code",
   "execution_count": 219,
   "id": "c2090a46",
   "metadata": {},
   "outputs": [],
   "source": [
    "import module_prgem.price_em as price_em"
   ]
  },
  {
   "cell_type": "code",
   "execution_count": 220,
   "id": "7c85c7c2",
   "metadata": {
    "scrolled": true
   },
   "outputs": [
    {
     "data": {
      "text/plain": [
       "<module 'module_prgem.dictemeralds' from 'C:\\\\Users\\\\diva0\\\\work\\\\KDM2023\\\\gems\\\\ipynb\\\\module_prgem\\\\dictemeralds.py'>"
      ]
     },
     "execution_count": 220,
     "metadata": {},
     "output_type": "execute_result"
    }
   ],
   "source": [
    "importlib.reload(mprgem)#, dcla_em_sto dcol_em_sto"
   ]
  },
  {
   "cell_type": "code",
   "execution_count": 221,
   "id": "16df95d4",
   "metadata": {},
   "outputs": [
    {
     "data": {
      "text/plain": [
       "<module 'module_prgem.price_em' from 'C:\\\\Users\\\\diva0\\\\work\\\\KDM2023\\\\gems\\\\ipynb\\\\module_prgem\\\\price_em.py'>"
      ]
     },
     "execution_count": 221,
     "metadata": {},
     "output_type": "execute_result"
    }
   ],
   "source": [
    "importlib.reload(price_em)"
   ]
  },
  {
   "cell_type": "code",
   "execution_count": 222,
   "id": "d9d1016e",
   "metadata": {},
   "outputs": [
    {
     "data": {
      "text/plain": [
       "[('5', 'ИзумрудПМ', '0,250', 'НРОКр', '3/Г1'),\n",
       " ('3', 'ИзумрудПМ', '1,500', 'НРОГ', '3/Г3')]"
      ]
     },
     "execution_count": 222,
     "metadata": {},
     "output_type": "execute_result"
    }
   ],
   "source": [
    "price_em.vst2list('5ИзумрудПМ-0,250-НРОКр+3/Г1 3ИзумрудПМ-1,500-НРОГ+3/Г3 14Кр57-0,180-4/4А')"
   ]
  },
  {
   "cell_type": "code",
   "execution_count": 223,
   "id": "54bbefda",
   "metadata": {},
   "outputs": [
    {
     "data": {
      "text/plain": [
       "(1.75, 217.5, '150-120-', ['до 0,09', '0,50-0,74'], 'C ok;Q ok;PCS ok;')"
      ]
     },
     "execution_count": 223,
     "metadata": {},
     "output_type": "execute_result"
    }
   ],
   "source": [
    "price_em.check_vstlist(_)"
   ]
  },
  {
   "cell_type": "code",
   "execution_count": null,
   "id": "db73d8d0",
   "metadata": {},
   "outputs": [],
   "source": []
  },
  {
   "cell_type": "code",
   "execution_count": 224,
   "id": "ef7f1368",
   "metadata": {},
   "outputs": [
    {
     "data": {
      "text/plain": [
       "['df_gems.xlsx',\n",
       " 'pr_emeralds_173_20-04-2023.xlsx',\n",
       " 'test_re01.xlsx',\n",
       " 'test_re03_модуль.xlsx',\n",
       " 'test_resapphire.xlsx',\n",
       " 'test_res_rubyjruby.xlsx',\n",
       " '~$pr_emeralds_173_20-04-2023.xlsx',\n",
       " '~$test_res_rubyjruby.xlsx',\n",
       " 'пром_рез_изумр_проверка_по.xlsx',\n",
       " 'сапфир54-01-05-2019.pdf',\n",
       " 'ТестЦВДК.xlsx']"
      ]
     },
     "execution_count": 224,
     "metadata": {},
     "output_type": "execute_result"
    }
   ],
   "source": [
    "os.listdir('../ЦВДК/')"
   ]
  },
  {
   "cell_type": "markdown",
   "id": "cf33a306",
   "metadata": {},
   "source": [
    "# Загрузка"
   ]
  },
  {
   "cell_type": "markdown",
   "id": "27941afb",
   "metadata": {},
   "source": [
    "## Дальше"
   ]
  },
  {
   "cell_type": "code",
   "execution_count": 225,
   "id": "8ba7333c",
   "metadata": {},
   "outputs": [],
   "source": [
    "df_gems = pd.read_excel('../ЦВДК/df_gems.xlsx')"
   ]
  },
  {
   "cell_type": "code",
   "execution_count": 226,
   "id": "1f6ebe70",
   "metadata": {},
   "outputs": [
    {
     "data": {
      "text/plain": [
       "Index(['Unnamed: 0', 'УИН', 'Штрихкод', 'Код', 'Наименование', 'Артикул',\n",
       "       'Зав Ном', 'Вид ном', 'Проба', 'Кол', 'Вес', 'Закуп', 'Розн',\n",
       "       'Родитель1', 'Родитель2', 'Родитель3', 'Родитель4', 'Родитель5',\n",
       "       'Вставки: корректировка\\n(по умолчанию стоят данные из базового файла 23-01-01 Сводка)'],\n",
       "      dtype='object')"
      ]
     },
     "execution_count": 226,
     "metadata": {},
     "output_type": "execute_result"
    }
   ],
   "source": [
    "df_gems.columns"
   ]
  },
  {
   "cell_type": "code",
   "execution_count": 227,
   "id": "f0766f71",
   "metadata": {},
   "outputs": [],
   "source": [
    "df_gems.rename(columns={'Вставки: корректировка\\n(по умолчанию стоят данные из базового файла 23-01-01 Сводка)'\\\n",
    "                   :'Вставки_д28'}, inplace=True)"
   ]
  },
  {
   "cell_type": "code",
   "execution_count": 228,
   "id": "fc4f1ef9",
   "metadata": {},
   "outputs": [],
   "source": [
    "df_vst=df_gems[~df_gems['Вставки_д28'].isna()][['Код','Вставки_д28']].copy(deep=True)"
   ]
  },
  {
   "cell_type": "code",
   "execution_count": 229,
   "id": "98ae8a8d",
   "metadata": {},
   "outputs": [
    {
     "data": {
      "text/plain": [
       "array(['Гранат Фианит', 'Хромдиопсид Фианит', 'ТопазГ Фианит', ...,\n",
       "       'Фианит Цирконий', 'Жемчуг Раухтопаз', 'Аметист Цирконий'],\n",
       "      dtype=object)"
      ]
     },
     "execution_count": 229,
     "metadata": {},
     "output_type": "execute_result"
    }
   ],
   "source": [
    "df_vst['Вставки_д28'].unique()"
   ]
  },
  {
   "cell_type": "code",
   "execution_count": 230,
   "id": "79c5d32b",
   "metadata": {},
   "outputs": [
    {
     "data": {
      "text/plain": [
       "21874"
      ]
     },
     "execution_count": 230,
     "metadata": {},
     "output_type": "execute_result"
    }
   ],
   "source": [
    "len(_)"
   ]
  },
  {
   "cell_type": "markdown",
   "id": "765f8e13",
   "metadata": {},
   "source": [
    "## Наличие в ДК"
   ]
  },
  {
   "cell_type": "code",
   "execution_count": 231,
   "id": "ad1e8c13",
   "metadata": {},
   "outputs": [],
   "source": [
    "df_15_10_2023 = pd.read_excel('../from_pereozenka/for_script07-11-2023/выгрузка15-10-2023_все_склады_ДК__08-11-2023_14-25_res_pr.xlsx')"
   ]
  },
  {
   "cell_type": "code",
   "execution_count": 232,
   "id": "75122183",
   "metadata": {},
   "outputs": [
    {
     "data": {
      "text/plain": [
       "Index(['Unnamed: 0', 'Код', 'Старый код (Справочник \"Номенклатура\" (Общие))',\n",
       "       'Склад', 'Склад.Склад / Магазин',\n",
       "       'Вставки (Справочник \"Номенклатура\" (Общие))', 'Вид номенклатуры',\n",
       "       'Тип номенклатуры', 'Номенклатура', 'Группа',\n",
       "       'Заводской номер (Справочник \"Номенклатура\" (Общие))',\n",
       "       'Проба (Справочник \"Номенклатура\" (Общие))',\n",
       "       'Цвет металла (Справочник \"Номенклатура\" (Общие))',\n",
       "       'Дизайн (Справочник \"Номенклатура\" (Общие))', 'Артикул ',\n",
       "       'Размерная группа Центрального камня (Справочник \"Номенклатура\" (Общие))',\n",
       "       'Цвет Центрального Камня (Справочник \"Номенклатура\" (Общие))',\n",
       "       'Чистота Центрального Камня (Справочник \"Номенклатура\" (Общие))',\n",
       "       'Размер (Справочник \"Номенклатура\" (Общие))', 'Наименование для печати',\n",
       "       'Единица измерения веса',\n",
       "       'Вес Вставок ПДК (Карат) (Справочник \"Номенклатура\" (Общие))',\n",
       "       'Кол-во ДК (Справочник \"Номенклатура\" (Общие))',\n",
       "       'Вес Вставок ДК (Карат) (Справочник \"Номенклатура\" (Общие))', 'Группы',\n",
       "       'родитель1_1c', 'родитель2_1c', 'родитель3_1c', 'родитель4_1c',\n",
       "       'родитель5_1c', 'Количество конечный остаток', 'Конечный остаток вес',\n",
       "       'розничная стоимость', 'закупочная стоимость', 'Штрихкод',\n",
       "       'Вставки корректировка', 'дата корректировки вставки',\n",
       "       'корректировка вставки была', 'Источник корректировки', 'Родитель1корр',\n",
       "       'Родитель2корр', 'Родитель3корр', 'Родитель4корр', 'Родитель5корр',\n",
       "       'Code', 'vs_dict', 'ШТУК', 'КАРАТ', 'prcost',\n",
       "       'инф для не сработал прейскурант'],\n",
       "      dtype='object')"
      ]
     },
     "execution_count": 232,
     "metadata": {},
     "output_type": "execute_result"
    }
   ],
   "source": [
    "df_15_10_2023.columns"
   ]
  },
  {
   "cell_type": "markdown",
   "id": "9b9fcd2f",
   "metadata": {},
   "source": [
    "## merge актуальный остаток на 15-10-2023"
   ]
  },
  {
   "cell_type": "code",
   "execution_count": 233,
   "id": "ad1220a1",
   "metadata": {},
   "outputs": [
    {
     "name": "stdout",
     "output_type": "stream",
     "text": [
      "<class 'pandas.core.series.Series'>\n",
      "RangeIndex: 34269 entries, 0 to 34268\n",
      "Series name: Вставки корректировка\n",
      "Non-Null Count  Dtype \n",
      "--------------  ----- \n",
      "34269 non-null  object\n",
      "dtypes: object(1)\n",
      "memory usage: 267.9+ KB\n"
     ]
    }
   ],
   "source": [
    "df_15_10_2023['Вставки корректировка'].info()"
   ]
  },
  {
   "cell_type": "code",
   "execution_count": 234,
   "id": "02158302",
   "metadata": {},
   "outputs": [],
   "source": [
    "df_vst_15102023 = pd.merge(left=df_15_10_2023['Код'], right=df_vst,\n",
    "         how='left')"
   ]
  },
  {
   "cell_type": "code",
   "execution_count": 236,
   "id": "d8a4e5fb",
   "metadata": {},
   "outputs": [
    {
     "name": "stdout",
     "output_type": "stream",
     "text": [
      "<class 'pandas.core.frame.DataFrame'>\n",
      "Int64Index: 34269 entries, 0 to 34268\n",
      "Data columns (total 2 columns):\n",
      " #   Column       Non-Null Count  Dtype \n",
      "---  ------       --------------  ----- \n",
      " 0   Код          34269 non-null  object\n",
      " 1   Вставки_д28  34269 non-null  object\n",
      "dtypes: object(2)\n",
      "memory usage: 803.2+ KB\n"
     ]
    }
   ],
   "source": [
    "df_vst_15102023.info()"
   ]
  },
  {
   "cell_type": "code",
   "execution_count": 237,
   "id": "cdca8821",
   "metadata": {},
   "outputs": [],
   "source": [
    "# запись тестового набора данных о вставках на 15-10-2023\n",
    "df_vst_15102023.to_excel('../ЦВДК/df_vst_15102023.xlsx', index=None)"
   ]
  },
  {
   "cell_type": "code",
   "execution_count": null,
   "id": "80181730",
   "metadata": {},
   "outputs": [],
   "source": []
  },
  {
   "cell_type": "markdown",
   "id": "46766e3f",
   "metadata": {},
   "source": [
    "# Использование модуля (тест)\n"
   ]
  },
  {
   "cell_type": "code",
   "execution_count": 238,
   "id": "94703eb3",
   "metadata": {},
   "outputs": [],
   "source": [
    "# чтение тестового набора данных о вставках на 15-10-2023\n",
    "df_test = pd.read_excel('../ЦВДК/df_vst_15102023.xlsx')"
   ]
  },
  {
   "cell_type": "code",
   "execution_count": 239,
   "id": "307af747",
   "metadata": {},
   "outputs": [
    {
     "name": "stdout",
     "output_type": "stream",
     "text": [
      "<class 'pandas.core.frame.DataFrame'>\n",
      "RangeIndex: 34269 entries, 0 to 34268\n",
      "Data columns (total 2 columns):\n",
      " #   Column       Non-Null Count  Dtype \n",
      "---  ------       --------------  ----- \n",
      " 0   Код          34269 non-null  object\n",
      " 1   Вставки_д28  34269 non-null  object\n",
      "dtypes: object(2)\n",
      "memory usage: 535.6+ KB\n"
     ]
    }
   ],
   "source": [
    "df_test.info()"
   ]
  },
  {
   "cell_type": "code",
   "execution_count": 218,
   "id": "baab48ad",
   "metadata": {},
   "outputs": [],
   "source": [
    "#import module_prgem.dictemeralds as mprgem"
   ]
  },
  {
   "cell_type": "code",
   "execution_count": 220,
   "id": "a5baa87a",
   "metadata": {
    "scrolled": true
   },
   "outputs": [
    {
     "data": {
      "text/plain": [
       "<module 'module_prgem.dictemeralds' from 'C:\\\\Users\\\\diva0\\\\work\\\\KDM2023\\\\gems\\\\ipynb\\\\module_prgem\\\\dictemeralds.py'>"
      ]
     },
     "execution_count": 220,
     "metadata": {},
     "output_type": "execute_result"
    }
   ],
   "source": [
    "#importlib.reload(mprgem)#, dcla_em_sto dcol_em_sto"
   ]
  },
  {
   "cell_type": "code",
   "execution_count": 219,
   "id": "27102307",
   "metadata": {},
   "outputs": [],
   "source": [
    "import module_prgem.price_em as price_em"
   ]
  },
  {
   "cell_type": "code",
   "execution_count": 240,
   "id": "faabc560",
   "metadata": {},
   "outputs": [
    {
     "data": {
      "text/plain": [
       "<module 'module_prgem.price_em' from 'C:\\\\Users\\\\diva0\\\\work\\\\KDM2023\\\\gems\\\\ipynb\\\\module_prgem\\\\price_em.py'>"
      ]
     },
     "execution_count": 240,
     "metadata": {},
     "output_type": "execute_result"
    }
   ],
   "source": [
    "importlib.reload(price_em)"
   ]
  },
  {
   "cell_type": "code",
   "execution_count": 241,
   "id": "a1ef1b16",
   "metadata": {},
   "outputs": [
    {
     "data": {
      "text/plain": [
       "[('5', 'ИзумрудПМ', '0,250', 'НРОКр', '3/Г1'),\n",
       " ('3', 'ИзумрудПМ', '1,500', 'НРОГ', '3/Г3')]"
      ]
     },
     "execution_count": 241,
     "metadata": {},
     "output_type": "execute_result"
    }
   ],
   "source": [
    "price_em.vst2list('5ИзумрудПМ-0,250-НРОКр+3/Г1 3ИзумрудПМ-1,500-НРОГ+3/Г3 14Кр57-0,180-4/4А')"
   ]
  },
  {
   "cell_type": "code",
   "execution_count": 242,
   "id": "b580b510",
   "metadata": {},
   "outputs": [
    {
     "data": {
      "text/plain": [
       "(1.75, 217.5, '150-120-', ['до 0,09', '0,50-0,74'], 'C ok;Q ok;PCS ok;')"
      ]
     },
     "execution_count": 242,
     "metadata": {},
     "output_type": "execute_result"
    }
   ],
   "source": [
    "price_em.check_vstlist(_)"
   ]
  },
  {
   "cell_type": "markdown",
   "id": "021a73c9",
   "metadata": {},
   "source": [
    "## прогонка изумрудов"
   ]
  },
  {
   "cell_type": "code",
   "execution_count": 244,
   "id": "795e14ea",
   "metadata": {},
   "outputs": [],
   "source": [
    "df_test['price_em.vst2list'] = df_test['Вставки_д28'].map(price_em.vst2list)"
   ]
  },
  {
   "cell_type": "code",
   "execution_count": 245,
   "id": "248b70f6",
   "metadata": {},
   "outputs": [],
   "source": [
    "df_test['price_em.check_vstlist'] = df_test['price_em.vst2list'].map(price_em.check_vstlist)"
   ]
  },
  {
   "cell_type": "code",
   "execution_count": 247,
   "id": "b0d390a0",
   "metadata": {
    "scrolled": true
   },
   "outputs": [
    {
     "data": {
      "text/html": [
       "<div>\n",
       "<style scoped>\n",
       "    .dataframe tbody tr th:only-of-type {\n",
       "        vertical-align: middle;\n",
       "    }\n",
       "\n",
       "    .dataframe tbody tr th {\n",
       "        vertical-align: top;\n",
       "    }\n",
       "\n",
       "    .dataframe thead th {\n",
       "        text-align: right;\n",
       "    }\n",
       "</style>\n",
       "<table border=\"1\" class=\"dataframe\">\n",
       "  <thead>\n",
       "    <tr style=\"text-align: right;\">\n",
       "      <th></th>\n",
       "      <th>Код</th>\n",
       "      <th>Вставки_д28</th>\n",
       "      <th>price_em.vst2list</th>\n",
       "      <th>price_em.check_vstlist</th>\n",
       "    </tr>\n",
       "  </thead>\n",
       "  <tbody>\n",
       "    <tr>\n",
       "      <th>160</th>\n",
       "      <td>ЦБ-00019785</td>\n",
       "      <td>1ИзумрудПМ-1,270-НРООв+2/гз 7Кр57-0,100-3/3А</td>\n",
       "      <td>[(1, ИзумрудПМ, 1,270, НРООв, 2/г)]</td>\n",
       "      <td>(1.27, 0.0, nan-, [error_size_em_sto: q not in...</td>\n",
       "    </tr>\n",
       "    <tr>\n",
       "      <th>249</th>\n",
       "      <td>ЦБ-00019921</td>\n",
       "      <td>1ИзумрудПМ-0,100-НРОКр+4/Г3 4Кр57-0,040-2/4А</td>\n",
       "      <td>[(1, ИзумрудПМ, 0,100, НРОКр, 4/Г3)]</td>\n",
       "      <td>(0.1, 4.0, 40-, [0,10-0,24], C ok;Q ok;PCS ok;)</td>\n",
       "    </tr>\n",
       "    <tr>\n",
       "      <th>345</th>\n",
       "      <td>ЦБ-00090311</td>\n",
       "      <td>1ИзумрудПМ-0,234-НРОКр+3/Г2 6Кр57-0,148-2/2А 2...</td>\n",
       "      <td>[(1, ИзумрудПМ, 0,234, НРОКр, 3/Г2)]</td>\n",
       "      <td>(0.234, 28.080000000000002, 120-, [0,10-0,24],...</td>\n",
       "    </tr>\n",
       "    <tr>\n",
       "      <th>372</th>\n",
       "      <td>ЦБ-00163308</td>\n",
       "      <td>1ИзумрудПМ-0,340-НРООв+3/Г3 12Кр17-0,030-2/2А</td>\n",
       "      <td>[(1, ИзумрудПМ, 0,340, НРООв, 3/Г3)]</td>\n",
       "      <td>(0.34, 37.400000000000006, 110-, [0,25-0,49], ...</td>\n",
       "    </tr>\n",
       "    <tr>\n",
       "      <th>374</th>\n",
       "      <td>ЦБ-00163310</td>\n",
       "      <td>1ИзумрудПМ-0,159-НРОКр+3/Г2 12Кр57-0,113-3/4А</td>\n",
       "      <td>[(1, ИзумрудПМ, 0,159, НРОКр, 3/Г2)]</td>\n",
       "      <td>(0.159, 19.080000000000002, 120-, [0,10-0,24],...</td>\n",
       "    </tr>\n",
       "    <tr>\n",
       "      <th>...</th>\n",
       "      <td>...</td>\n",
       "      <td>...</td>\n",
       "      <td>...</td>\n",
       "      <td>...</td>\n",
       "    </tr>\n",
       "    <tr>\n",
       "      <th>31958</th>\n",
       "      <td>ЦБ-00171233</td>\n",
       "      <td>4ИзумрудПМ-0,540-кр+3/Г3 2КР57-0,030-3/4А</td>\n",
       "      <td>[(4, ИзумрудПМ, 0,540, кр, 3/Г3)]</td>\n",
       "      <td>(0.54, 54.0, 100-, [0,10-0,24], C ok;Q ok;PCS ...</td>\n",
       "    </tr>\n",
       "    <tr>\n",
       "      <th>31971</th>\n",
       "      <td>ЦБ-00171334</td>\n",
       "      <td>2ИзумрудПМ-0,270-м+2/Г2 20КР57-0,240-3/5А</td>\n",
       "      <td>[(2, ИзумрудПМ, 0,270, м, 2/Г2)]</td>\n",
       "      <td>(0.27, 54.0, 200-, [0,10-0,24], C ok;Q ok;PCS ...</td>\n",
       "    </tr>\n",
       "    <tr>\n",
       "      <th>31975</th>\n",
       "      <td>ЦБ-00171360</td>\n",
       "      <td>2ИзумрудПМ-0,670-пр+5/Г1 2КР57-0,030-3/3А</td>\n",
       "      <td>[(2, ИзумрудПМ, 0,670, пр, 5/Г1)]</td>\n",
       "      <td>(0.67, 20.1, 30-, [0,25-0,49], C ok;Q ok;PCS ok;)</td>\n",
       "    </tr>\n",
       "    <tr>\n",
       "      <th>32597</th>\n",
       "      <td>ЦБ-00177187</td>\n",
       "      <td>2ИзумрудПМ-0,166-НРОКр+3/Г3 6Кр57-0,076-4/5А 6...</td>\n",
       "      <td>[(2, ИзумрудПМ, 0,166, НРОКр, 3/Г3)]</td>\n",
       "      <td>(0.166, 10.790000000000001, 65-, [до 0,09], C ...</td>\n",
       "    </tr>\n",
       "    <tr>\n",
       "      <th>32933</th>\n",
       "      <td>ЦБ-00181335</td>\n",
       "      <td>6ИзумрудПМ-0,203-НРОКр+3/Г3 6КР57-0,244-3/4А</td>\n",
       "      <td>[(6, ИзумрудПМ, 0,203, НРОКр, 3/Г3)]</td>\n",
       "      <td>(0.203, 13.195, 65-, [до 0,09], C ok;Q ok;PCS ...</td>\n",
       "    </tr>\n",
       "  </tbody>\n",
       "</table>\n",
       "<p>304 rows × 4 columns</p>\n",
       "</div>"
      ],
      "text/plain": [
       "               Код                                        Вставки_д28  \\\n",
       "160    ЦБ-00019785       1ИзумрудПМ-1,270-НРООв+2/гз 7Кр57-0,100-3/3А   \n",
       "249    ЦБ-00019921       1ИзумрудПМ-0,100-НРОКр+4/Г3 4Кр57-0,040-2/4А   \n",
       "345    ЦБ-00090311  1ИзумрудПМ-0,234-НРОКр+3/Г2 6Кр57-0,148-2/2А 2...   \n",
       "372    ЦБ-00163308      1ИзумрудПМ-0,340-НРООв+3/Г3 12Кр17-0,030-2/2А   \n",
       "374    ЦБ-00163310      1ИзумрудПМ-0,159-НРОКр+3/Г2 12Кр57-0,113-3/4А   \n",
       "...            ...                                                ...   \n",
       "31958  ЦБ-00171233          4ИзумрудПМ-0,540-кр+3/Г3 2КР57-0,030-3/4А   \n",
       "31971  ЦБ-00171334          2ИзумрудПМ-0,270-м+2/Г2 20КР57-0,240-3/5А   \n",
       "31975  ЦБ-00171360          2ИзумрудПМ-0,670-пр+5/Г1 2КР57-0,030-3/3А   \n",
       "32597  ЦБ-00177187  2ИзумрудПМ-0,166-НРОКр+3/Г3 6Кр57-0,076-4/5А 6...   \n",
       "32933  ЦБ-00181335       6ИзумрудПМ-0,203-НРОКр+3/Г3 6КР57-0,244-3/4А   \n",
       "\n",
       "                          price_em.vst2list  \\\n",
       "160     [(1, ИзумрудПМ, 1,270, НРООв, 2/г)]   \n",
       "249    [(1, ИзумрудПМ, 0,100, НРОКр, 4/Г3)]   \n",
       "345    [(1, ИзумрудПМ, 0,234, НРОКр, 3/Г2)]   \n",
       "372    [(1, ИзумрудПМ, 0,340, НРООв, 3/Г3)]   \n",
       "374    [(1, ИзумрудПМ, 0,159, НРОКр, 3/Г2)]   \n",
       "...                                     ...   \n",
       "31958     [(4, ИзумрудПМ, 0,540, кр, 3/Г3)]   \n",
       "31971      [(2, ИзумрудПМ, 0,270, м, 2/Г2)]   \n",
       "31975     [(2, ИзумрудПМ, 0,670, пр, 5/Г1)]   \n",
       "32597  [(2, ИзумрудПМ, 0,166, НРОКр, 3/Г3)]   \n",
       "32933  [(6, ИзумрудПМ, 0,203, НРОКр, 3/Г3)]   \n",
       "\n",
       "                                  price_em.check_vstlist  \n",
       "160    (1.27, 0.0, nan-, [error_size_em_sto: q not in...  \n",
       "249      (0.1, 4.0, 40-, [0,10-0,24], C ok;Q ok;PCS ok;)  \n",
       "345    (0.234, 28.080000000000002, 120-, [0,10-0,24],...  \n",
       "372    (0.34, 37.400000000000006, 110-, [0,25-0,49], ...  \n",
       "374    (0.159, 19.080000000000002, 120-, [0,10-0,24],...  \n",
       "...                                                  ...  \n",
       "31958  (0.54, 54.0, 100-, [0,10-0,24], C ok;Q ok;PCS ...  \n",
       "31971  (0.27, 54.0, 200-, [0,10-0,24], C ok;Q ok;PCS ...  \n",
       "31975  (0.67, 20.1, 30-, [0,25-0,49], C ok;Q ok;PCS ok;)  \n",
       "32597  (0.166, 10.790000000000001, 65-, [до 0,09], C ...  \n",
       "32933  (0.203, 13.195, 65-, [до 0,09], C ok;Q ok;PCS ...  \n",
       "\n",
       "[304 rows x 4 columns]"
      ]
     },
     "execution_count": 247,
     "metadata": {},
     "output_type": "execute_result"
    }
   ],
   "source": [
    "df_test[~df_test['price_em.vst2list'].isna()]"
   ]
  },
  {
   "cell_type": "code",
   "execution_count": null,
   "id": "8b71717f",
   "metadata": {},
   "outputs": [],
   "source": []
  },
  {
   "cell_type": "code",
   "execution_count": null,
   "id": "621da627",
   "metadata": {},
   "outputs": [],
   "source": []
  },
  {
   "cell_type": "markdown",
   "id": "23f6c626",
   "metadata": {},
   "source": [
    "# Emeralds разработка"
   ]
  },
  {
   "cell_type": "markdown",
   "id": "befe1d73",
   "metadata": {},
   "source": [
    "## df разработка "
   ]
  },
  {
   "cell_type": "code",
   "execution_count": 235,
   "id": "dc1c4e42",
   "metadata": {},
   "outputs": [],
   "source": [
    "# на входе текст\n",
    "t1 = '5ИзумрудПМ-0,250-НРОКр+3/Г3 3ИзумрудПМ-1,500-НРОГ+3/Г3 14Кр57-0,180-4/4А'\n",
    "t2 = '1изумрудпм-0,356-нроов+3/г3 18кр57-0,125-2/5а'"
   ]
  },
  {
   "cell_type": "code",
   "execution_count": 331,
   "id": "17c5ab97",
   "metadata": {
    "code_folding": []
   },
   "outputs": [],
   "source": [
    "def vst2list(t):\n",
    "    pattern_em =  r\"\"\"(?ix)(?P<N>\\d{,3})# штуки \n",
    "               (?P<Gem>изумру[A-яA-z.]{1,5})[-]+#gem\n",
    "               (?P<Carat>\\d\\d?[.,]?\\d*)[\\s-]+                                 # карат\n",
    "               (?P<Form>[A-яA-z.\\d-]{1,10})[+]+#[+\\s-]+ \n",
    "               (?P<ColQ>\\d+[ /]+(?:\\d*[ГгКкKk]*\\d*))\"\"\"\n",
    "    res = re.findall(pattern_em, t )\n",
    "    return res if len(res)!=0 else np.nan "
   ]
  },
  {
   "cell_type": "markdown",
   "id": "3a09dd54",
   "metadata": {},
   "source": [
    "## разработка для модуля"
   ]
  },
  {
   "cell_type": "code",
   "execution_count": 841,
   "id": "f4964664",
   "metadata": {},
   "outputs": [],
   "source": [
    "from module_prgem.dictemeralds import dcla_em_sto, dcol_em_sto\n"
   ]
  },
  {
   "cell_type": "code",
   "execution_count": 285,
   "id": "c43474d5",
   "metadata": {},
   "outputs": [],
   "source": [
    "sizes_g = pd.read_excel('module_prgem/size_em_sto.xlsx')\n",
    "pr_em_sto = pd.read_excel('module_prgem/df_pr_emeralds_sto_173_20-04-2023.xlsx', dtype={'цвет':'str'})"
   ]
  },
  {
   "cell_type": "code",
   "execution_count": 867,
   "id": "ee760da3",
   "metadata": {
    "scrolled": true
   },
   "outputs": [
    {
     "data": {
      "text/plain": [
       "ТУ           object\n",
       "Обработка    object\n",
       "Огранка      object\n",
       "цвет         object\n",
       "чистота      object\n",
       "size         object\n",
       "price         int64\n",
       "dtype: object"
      ]
     },
     "execution_count": 867,
     "metadata": {},
     "output_type": "execute_result"
    }
   ],
   "source": [
    "pr_em_sto.dtypes"
   ]
  },
  {
   "cell_type": "code",
   "execution_count": 301,
   "id": "5a05b2b7",
   "metadata": {},
   "outputs": [],
   "source": [
    "from module_prgem.dictemeralds import dcla_em_sto, dcol_em_sto\n",
    "def vst2list(t):\n",
    "    '''функцая распозавания изумрудов'''\n",
    "    pattern_em =  r\"\"\"(?ix)(?P<N>\\d{,3})# штуки \n",
    "               (?P<Gem>изумру[A-яA-z.]{1,5})[-]+#gem\n",
    "               (?P<Carat>\\d\\d?[.,]?\\d*)[\\s-]+                                 # карат\n",
    "               (?P<Form>[A-яA-z.\\d-]{1,10})[+]+#[+\\s-]+ \n",
    "               (?P<ColQ>\\d+[ /]+(?:\\d*[ГгКкKk]*\\d*))\"\"\"\n",
    "    res = re.findall(pattern_em, t )\n",
    "    return res if len(res)!=0 else np.nan \n",
    "\n",
    "\n",
    "def size_em_sto(q,carat_1):\n",
    "    '''функция для определения размерной группы изумруда по сто в зависимоти кабашон или фацет огранка\n",
    "   q - качество, carat_1'''   \n",
    "    if q not in dcla_em_sto.values():\n",
    "        return 'error_size_em_sto: q not in dcla_em_sto'\n",
    "    \n",
    "    if q.__contains__('Г'):\n",
    "        sizex = sizes_g[sizes_g['Огранка']=='фацетный вид огранки']\n",
    "    else:\n",
    "        sizex = sizes_g[sizes_g['Огранка']=='кобашенный вид огранки']\n",
    "            \n",
    "    return sizex[(sizex.low_grade<=carat_1)].sort_values('low_grade').iloc[-1,0]\n",
    "                        \n",
    "def check_vstlist(l):\n",
    "    '''функция для проверки соответствия словарям'''                           \n",
    "    #проверка на пусто или []\n",
    "    if l is np.nan or len(l)==0:\n",
    "        return np.nan\n",
    "    #создать внутренний dfx\n",
    "    dfx = pd.DataFrame({'vstlist':l})\n",
    "    cols = [\"PCS\",\"GEM\",\"CARAT\", \"FORM\", \"CQ\"]\n",
    "    for c in range(len(cols)):\n",
    "        dfx[cols[c]] = dfx.vstlist.apply(lambda x: x[c].lower().strip())\n",
    "    dfx['C'] = dfx['CQ'].apply(lambda x: x.split('/')[0].lower().strip())\n",
    "    dfx['Q'] = dfx['CQ'].apply(lambda x: x.split('/')[1].lower().strip())\n",
    "    \n",
    "    \n",
    "    #пустить проверки по словарям\n",
    "    report = ''\n",
    "    report += 'C ok;' if dfx['C'].apply(lambda x: x in dcol_em_sto).all() \\\n",
    "                      else 'C error;'\n",
    "    report+='Q ok;' if dfx['Q'].apply(lambda x: x in dcla_em_sto).all()\\\n",
    "                      else 'Q error;'\n",
    "    report+='PCS ok;' if dfx['PCS'].apply(lambda x: x!='').all()\\\n",
    "                      else 'PCS error;'\n",
    "    #масса за камень\n",
    "    try:\n",
    "        dfx['PCS'] = dfx['PCS'].astype('int')\n",
    "        dfx['CARAT'] = dfx['CARAT'].str.replace(',','.').astype('float')\n",
    "        dfx['PCS'] = dfx['PCS'].astype('int')\n",
    "        dfx['C'] = dfx['C'].map(dcol_em_sto)\n",
    "        dfx['Q'] = dfx['Q'].map(dcla_em_sto)\n",
    "        dfx['CARAT_1'] = dfx['CARAT']/dfx['PCS']\n",
    "        dfx['size'] = dfx.apply(lambda x:size_em_sto(x['Q'],x['CARAT_1']),axis=1)\n",
    "        dfx = pd.merge(left=dfx, right=pr_em_sto,\n",
    "            how='left', \n",
    "            left_on=['size', 'C', 'Q',],\n",
    "            right_on=['size','цвет', 'чистота'])\n",
    "        dfx['prcost'] = dfx['CARAT']*dfx['price']\n",
    "\n",
    "    except:\n",
    "        return 'except; '+report\n",
    "\n",
    "    \n",
    "#    return dfx['CARAT'].sum(),dfx['prcost'].sum(),(dfx['price'].astype('str')+'-').sum(),list(dfx['size']),report\n",
    "    return dfx['CARAT'].sum(),report"
   ]
  },
  {
   "cell_type": "code",
   "execution_count": 300,
   "id": "014a8686",
   "metadata": {},
   "outputs": [
    {
     "data": {
      "text/plain": [
       "0"
      ]
     },
     "execution_count": 300,
     "metadata": {},
     "output_type": "execute_result"
    }
   ],
   "source": [
    "#проверка одинакового результата из модуля и разработки vst2list\n",
    "(df_test['Вставки_д28'].map(vst2list)!=df_test['price_em.vst2list'] )[~df_test['price_em.vst2list'].isna()].sum()"
   ]
  },
  {
   "cell_type": "code",
   "execution_count": 297,
   "id": "62131810",
   "metadata": {},
   "outputs": [],
   "source": [
    "#df_test['Вставки_д28'].map(vst2list).map(check_vstlist)[~df_test['price_em.vst2list'].isna()]"
   ]
  },
  {
   "cell_type": "code",
   "execution_count": 302,
   "id": "89c21517",
   "metadata": {
    "scrolled": true
   },
   "outputs": [
    {
     "data": {
      "text/plain": [
       "302"
      ]
     },
     "execution_count": 302,
     "metadata": {},
     "output_type": "execute_result"
    }
   ],
   "source": [
    "#проверка одинакового результата из модуля и разработки check_vstlist\n",
    "(df_test['Вставки_д28'].map(vst2list).map(check_vstlist)!=df_test['price_em.check_vstlist'] )[~df_test['price_em.vst2list'].isna()].sum()"
   ]
  },
  {
   "cell_type": "code",
   "execution_count": null,
   "id": "42b44e43",
   "metadata": {},
   "outputs": [],
   "source": []
  },
  {
   "cell_type": "code",
   "execution_count": null,
   "id": "c55565d5",
   "metadata": {},
   "outputs": [],
   "source": []
  },
  {
   "cell_type": "code",
   "execution_count": null,
   "id": "c8a4adf0",
   "metadata": {},
   "outputs": [],
   "source": []
  },
  {
   "cell_type": "code",
   "execution_count": null,
   "id": "737f4ad0",
   "metadata": {},
   "outputs": [],
   "source": []
  },
  {
   "cell_type": "code",
   "execution_count": 870,
   "id": "94de786c",
   "metadata": {},
   "outputs": [],
   "source": [
    "t1 = '1ИзумрудПМ-0,250-НРОКр+3/Г3 1ИзумрудПМ-1,500-НРОГ+3/г3 14Кр57-0,180-4/4А'"
   ]
  },
  {
   "cell_type": "code",
   "execution_count": 212,
   "id": "9b779fce",
   "metadata": {},
   "outputs": [
    {
     "ename": "NameError",
     "evalue": "name 'check_vstlist' is not defined",
     "output_type": "error",
     "traceback": [
      "\u001b[1;31m---------------------------------------------------------------------------\u001b[0m",
      "\u001b[1;31mNameError\u001b[0m                                 Traceback (most recent call last)",
      "Cell \u001b[1;32mIn[212], line 1\u001b[0m\n\u001b[1;32m----> 1\u001b[0m \u001b[43mcheck_vstlist\u001b[49m(vst2list(t1))\n",
      "\u001b[1;31mNameError\u001b[0m: name 'check_vstlist' is not defined"
     ]
    }
   ],
   "source": [
    "check_vstlist(vst2list(t1))"
   ]
  },
  {
   "cell_type": "code",
   "execution_count": 593,
   "id": "0b15730f",
   "metadata": {},
   "outputs": [
    {
     "data": {
      "text/plain": [
       "'1ИзумрудПМ-0,280-НРООв+3/Г3 3КР57-0,040-3/3А'"
      ]
     },
     "execution_count": 593,
     "metadata": {},
     "output_type": "execute_result"
    }
   ],
   "source": [
    "(tests_errors[1][::-1]+'1')[::-1]"
   ]
  },
  {
   "cell_type": "code",
   "execution_count": 595,
   "id": "453dd682",
   "metadata": {},
   "outputs": [
    {
     "data": {
      "text/plain": [
       "'ИзумрудПМ-7,900-И41+4/Г3 59КР57-0,690-4/4А 43КР57-0,800-3/5А'"
      ]
     },
     "execution_count": 595,
     "metadata": {},
     "output_type": "execute_result"
    }
   ],
   "source": [
    "tests_errors[0]"
   ]
  },
  {
   "cell_type": "code",
   "execution_count": 596,
   "id": "4985ebb4",
   "metadata": {},
   "outputs": [
    {
     "data": {
      "text/plain": [
       "'except; C ok;Q ok;PCS error;'"
      ]
     },
     "execution_count": 596,
     "metadata": {},
     "output_type": "execute_result"
    }
   ],
   "source": [
    "check_vstlist(vst2list(_))"
   ]
  },
  {
   "cell_type": "code",
   "execution_count": 591,
   "id": "c98c622c",
   "metadata": {},
   "outputs": [
    {
     "data": {
      "text/plain": [
       "'11111111а5/2-521,0-75рк81 3г/3+воорн-653,0-мпдурмузи1'"
      ]
     },
     "execution_count": 591,
     "metadata": {},
     "output_type": "execute_result"
    }
   ],
   "source": [
    "t2+='1'\n",
    "t2[::-1]"
   ]
  },
  {
   "cell_type": "code",
   "execution_count": 378,
   "id": "3d0a36db",
   "metadata": {},
   "outputs": [
    {
     "data": {
      "text/plain": [
       "False"
      ]
     },
     "execution_count": 378,
     "metadata": {},
     "output_type": "execute_result"
    }
   ],
   "source": [
    "#def check_vstlist(l):\n",
    "\n",
    "l = vst2list(t1)\n",
    "l is np.nan or len(l)==0"
   ]
  },
  {
   "cell_type": "code",
   "execution_count": 381,
   "id": "6f553716",
   "metadata": {},
   "outputs": [],
   "source": [
    "cols = [\"PCS\",\"GEM\",\"CARAT\", \"FORM\", \"CQ\"]\n",
    "for c in range(len(cols)):\n",
    "    dfx[cols[c]] = dfx.vstlist.apply(lambda x: x[c].lower().strip())"
   ]
  },
  {
   "cell_type": "code",
   "execution_count": 382,
   "id": "9370c192",
   "metadata": {},
   "outputs": [],
   "source": [
    "dfx['C'] = dfx['CQ'].apply(lambda x: x.split('/')[0].lower().strip())\n",
    "dfx['Q'] = dfx['CQ'].apply(lambda x: x.split('/')[1].lower().strip())"
   ]
  },
  {
   "cell_type": "code",
   "execution_count": 384,
   "id": "e4c274b9",
   "metadata": {},
   "outputs": [],
   "source": [
    "dfx['CARAT'] = dfx['CARAT'].str.replace(',','.').astype('float')"
   ]
  },
  {
   "cell_type": "code",
   "execution_count": 385,
   "id": "d6db6fb3",
   "metadata": {},
   "outputs": [
    {
     "data": {
      "text/plain": [
       "1.75"
      ]
     },
     "execution_count": 385,
     "metadata": {},
     "output_type": "execute_result"
    }
   ],
   "source": [
    "dfx['CARAT'].sum()"
   ]
  },
  {
   "cell_type": "code",
   "execution_count": null,
   "id": "a2714923",
   "metadata": {},
   "outputs": [],
   "source": []
  },
  {
   "cell_type": "code",
   "execution_count": 386,
   "id": "b09decbe",
   "metadata": {},
   "outputs": [],
   "source": [
    "# test"
   ]
  },
  {
   "cell_type": "code",
   "execution_count": 387,
   "id": "39c9a026",
   "metadata": {},
   "outputs": [
    {
     "data": {
      "text/plain": [
       "[('5', 'ИзумрудПМ', '0,250', 'НРОКр', '3/Г3'),\n",
       " ('3', 'ИзумрудПМ', '1,500', 'НРОГ', '3/Г3')]"
      ]
     },
     "execution_count": 387,
     "metadata": {},
     "output_type": "execute_result"
    }
   ],
   "source": [
    "vst2list(t1)"
   ]
  },
  {
   "cell_type": "code",
   "execution_count": 335,
   "id": "7f09af94",
   "metadata": {},
   "outputs": [
    {
     "data": {
      "text/plain": [
       "nan"
      ]
     },
     "execution_count": 335,
     "metadata": {},
     "output_type": "execute_result"
    }
   ],
   "source": [
    "vst2list('hjkhkljkoj')"
   ]
  },
  {
   "cell_type": "code",
   "execution_count": 509,
   "id": "5b6a1763",
   "metadata": {},
   "outputs": [],
   "source": [
    "df = df_vst_15102023"
   ]
  },
  {
   "cell_type": "code",
   "execution_count": 510,
   "id": "7eb90d5c",
   "metadata": {},
   "outputs": [],
   "source": [
    "df['vst2list'] = df['Вставки_д28'].map((vst2list))[~df['Вставки_д28'].map(vst2list).isna()]"
   ]
  },
  {
   "cell_type": "code",
   "execution_count": 511,
   "id": "e6072ee9",
   "metadata": {
    "scrolled": true
   },
   "outputs": [
    {
     "data": {
      "text/plain": [
       "160      (1.27, C ok;Q error;PCS ok;)\n",
       "249          (0.1, C ok;Q ok;PCS ok;)\n",
       "345        (0.234, C ok;Q ok;PCS ok;)\n",
       "372         (0.34, C ok;Q ok;PCS ok;)\n",
       "374        (0.159, C ok;Q ok;PCS ok;)\n",
       "                     ...             \n",
       "31958       (0.54, C ok;Q ok;PCS ok;)\n",
       "31971       (0.27, C ok;Q ok;PCS ok;)\n",
       "31975       (0.67, C ok;Q ok;PCS ok;)\n",
       "32597      (0.166, C ok;Q ok;PCS ok;)\n",
       "32933      (0.203, C ok;Q ok;PCS ok;)\n",
       "Name: vst2list, Length: 304, dtype: object"
      ]
     },
     "execution_count": 511,
     "metadata": {},
     "output_type": "execute_result"
    }
   ],
   "source": [
    "df['vst2list'].map(check_vstlist) [~df['vst2list'].map(check_vstlist).isna()]"
   ]
  },
  {
   "cell_type": "markdown",
   "id": "d48102b0",
   "metadata": {},
   "source": [
    "## разработка массовая Re"
   ]
  },
  {
   "cell_type": "code",
   "execution_count": 25,
   "id": "c2a62cf8",
   "metadata": {},
   "outputs": [],
   "source": [
    "df = df_vst_15102023"
   ]
  },
  {
   "cell_type": "code",
   "execution_count": 26,
   "id": "71a389c5",
   "metadata": {},
   "outputs": [],
   "source": [
    "#10-11-2023-20-40\n",
    "pattern_em =  r\"\"\"(?ix)(?P<N>\\d{,3})# штуки \n",
    "               (?P<Gem>изумру[A-яA-z.]{1,5})[-]+#gem\n",
    "               (?P<Carat>\\d\\d?[.,]?\\d*)[\\s-]+                                 # карат\n",
    "               (?P<Form>[A-яA-z.\\d-]{1,10})[+]+#[+\\s-]+ \n",
    "               (?P<ColQ>\\d+[ /]+(?:\\d*[ГгКкKk]*\\d*))\"\"\"\n",
    "               "
   ]
  },
  {
   "cell_type": "code",
   "execution_count": 212,
   "id": "59fb91cc",
   "metadata": {},
   "outputs": [],
   "source": [
    "#в разработке с *цвет\n",
    "pattern_em2 =  r\"\"\"(?ix)(?P<N>\\d{,3})# штуки \n",
    "               (?P<Gem>изумру[A-яA-z.]{1,5})[-]+#gem\n",
    "               (?P<Carat>\\d\\d?[.,]?\\d*)[\\s-]+                                 # карат\n",
    "               (?P<Form>[A-яA-z.\\d-]{1,10})[+]+#[+\\s-]+ \n",
    "               (?P<ColQ>\\d+[ /]+(?:\\d*[ГгКкKk]*\\d*)[*]*[A-яA-z]*)\"\"\"\n",
    "               "
   ]
  },
  {
   "cell_type": "code",
   "execution_count": 28,
   "id": "890822b0",
   "metadata": {},
   "outputs": [],
   "source": [
    "# чисто для ИзумрудП\n",
    "pattern_jem = r\"\"\"(?ix)(?P<Gem>изумрудп)+#gem\"\"\""
   ]
  },
  {
   "cell_type": "code",
   "execution_count": 169,
   "id": "1be30bf7",
   "metadata": {},
   "outputs": [
    {
     "data": {
      "text/plain": [
       "['ИзумрудП', 'ИзумрудП']"
      ]
     },
     "execution_count": 169,
     "metadata": {},
     "output_type": "execute_result"
    }
   ],
   "source": [
    "#проверка\n",
    "re.findall(pattern_jem, '9ИзумрудПМ-0,15-Пр-21+3/г3*ghgjg 2КР57-0,120-3/2А ИзумрудПМ')"
   ]
  },
  {
   "cell_type": "code",
   "execution_count": 209,
   "id": "07b255d1",
   "metadata": {},
   "outputs": [
    {
     "data": {
      "text/plain": [
       "[('9', 'ИзумрудПМ', '0,15', 'jffkj-kh', '3/г3')]"
      ]
     },
     "execution_count": 209,
     "metadata": {},
     "output_type": "execute_result"
    }
   ],
   "source": [
    "re.findall(pattern_em, '9ИзумрудПМ-0,15-jffkj-kh+3/г3*ghgjg 2КР57-0,120-3/2А')"
   ]
  },
  {
   "cell_type": "code",
   "execution_count": 213,
   "id": "2ab14835",
   "metadata": {},
   "outputs": [
    {
     "data": {
      "text/plain": [
       "[('1', 'изумрудпм', '0,760', 'нрокр-кр', '3/г3*зеленый')]"
      ]
     },
     "execution_count": 213,
     "metadata": {},
     "output_type": "execute_result"
    }
   ],
   "source": [
    "re.findall(pattern_em2,'1изумрудпм-0,760-нрокр-кр+3/г3*зеленый 2кр57-0,050-4/3а 7кр57-0,050-3/4а')"
   ]
  },
  {
   "cell_type": "code",
   "execution_count": null,
   "id": "202607d3",
   "metadata": {},
   "outputs": [],
   "source": []
  },
  {
   "cell_type": "code",
   "execution_count": 124,
   "id": "9fdd874f",
   "metadata": {},
   "outputs": [
    {
     "data": {
      "text/plain": [
       "Index(['Код', 'Вставки_д28', 'emerald_list', 'len_jem', 'len_em',\n",
       "       'price_em.vst2list', 'price_em.check_vstlist', 'prcost',\n",
       "       'sapphire_list', 'jsapphire_list', 'len_sap', 'len_jsap'],\n",
       "      dtype='object')"
      ]
     },
     "execution_count": 124,
     "metadata": {},
     "output_type": "execute_result"
    }
   ],
   "source": [
    "df.columns"
   ]
  },
  {
   "cell_type": "code",
   "execution_count": null,
   "id": "8c0ba5de",
   "metadata": {},
   "outputs": [],
   "source": []
  },
  {
   "cell_type": "markdown",
   "id": "738a3900",
   "metadata": {},
   "source": [
    "# массовая прогонка pattern"
   ]
  },
  {
   "cell_type": "code",
   "execution_count": 27,
   "id": "92883385",
   "metadata": {},
   "outputs": [],
   "source": [
    "df['emerald_list'] = df['Вставки_д28'].apply(lambda x: re.findall(pattern_em, x ))"
   ]
  },
  {
   "cell_type": "code",
   "execution_count": 29,
   "id": "fbfc19f3",
   "metadata": {},
   "outputs": [],
   "source": [
    "df['len_jem'] = df['Вставки_д28'].apply(lambda x: len(re.findall(pattern_jem, x )))"
   ]
  },
  {
   "cell_type": "code",
   "execution_count": 30,
   "id": "e6c7bdbd",
   "metadata": {},
   "outputs": [],
   "source": [
    "df['len_em'] = df['emerald_list'].apply(lambda x: len( x ))"
   ]
  },
  {
   "cell_type": "code",
   "execution_count": 31,
   "id": "94315de5",
   "metadata": {},
   "outputs": [
    {
     "name": "stdout",
     "output_type": "stream",
     "text": [
      "<class 'pandas.core.frame.DataFrame'>\n",
      "Int64Index: 300 entries, 160 to 32933\n",
      "Data columns (total 5 columns):\n",
      " #   Column        Non-Null Count  Dtype \n",
      "---  ------        --------------  ----- \n",
      " 0   Код           300 non-null    object\n",
      " 1   Вставки_д28   300 non-null    object\n",
      " 2   emerald_list  300 non-null    object\n",
      " 3   len_jem       300 non-null    int64 \n",
      " 4   len_em        300 non-null    int64 \n",
      "dtypes: int64(2), object(3)\n",
      "memory usage: 14.1+ KB\n"
     ]
    }
   ],
   "source": [
    "df[price_em.check_vstlist(_).str.lower().str.contains('изумрудп')].info()"
   ]
  },
  {
   "cell_type": "code",
   "execution_count": 32,
   "id": "11acb419",
   "metadata": {
    "scrolled": true
   },
   "outputs": [
    {
     "data": {
      "text/html": [
       "<div>\n",
       "<style scoped>\n",
       "    .dataframe tbody tr th:only-of-type {\n",
       "        vertical-align: middle;\n",
       "    }\n",
       "\n",
       "    .dataframe tbody tr th {\n",
       "        vertical-align: top;\n",
       "    }\n",
       "\n",
       "    .dataframe thead th {\n",
       "        text-align: right;\n",
       "    }\n",
       "</style>\n",
       "<table border=\"1\" class=\"dataframe\">\n",
       "  <thead>\n",
       "    <tr style=\"text-align: right;\">\n",
       "      <th></th>\n",
       "      <th>Код</th>\n",
       "      <th>Вставки_д28</th>\n",
       "      <th>emerald_list</th>\n",
       "      <th>len_jem</th>\n",
       "      <th>len_em</th>\n",
       "    </tr>\n",
       "  </thead>\n",
       "  <tbody>\n",
       "    <tr>\n",
       "      <th>6470</th>\n",
       "      <td>ЦБ-00155200</td>\n",
       "      <td>1Изумруд-0,096-НРОКр+3/Г3 12Кр17-0,090-2/2А</td>\n",
       "      <td>[(1, Изумруд, 0,096, НРОКр, 3/Г3)]</td>\n",
       "      <td>0</td>\n",
       "      <td>1</td>\n",
       "    </tr>\n",
       "    <tr>\n",
       "      <th>11847</th>\n",
       "      <td>ЦБ-00039564</td>\n",
       "      <td>3Изумруд-0,080-НРОКр+3/Г1 1Кр57-0,440-3/2А</td>\n",
       "      <td>[(3, Изумруд, 0,080, НРОКр, 3/Г1)]</td>\n",
       "      <td>0</td>\n",
       "      <td>1</td>\n",
       "    </tr>\n",
       "    <tr>\n",
       "      <th>17937</th>\n",
       "      <td>ЦБ-00181165</td>\n",
       "      <td>1Изумруд-0,210-НРОКр+3/Г3 2КР57-0,050-3/3А 1КР...</td>\n",
       "      <td>[(1, Изумруд, 0,210, НРОКр, 3/Г3)]</td>\n",
       "      <td>0</td>\n",
       "      <td>1</td>\n",
       "    </tr>\n",
       "    <tr>\n",
       "      <th>29167</th>\n",
       "      <td>ЦБ-00051910</td>\n",
       "      <td>2Изумруд-22,610-НРОФ+5/Г3 148КР57-1,080-3/5А</td>\n",
       "      <td>[(2, Изумруд, 22,610, НРОФ, 5/Г3)]</td>\n",
       "      <td>0</td>\n",
       "      <td>1</td>\n",
       "    </tr>\n",
       "  </tbody>\n",
       "</table>\n",
       "</div>"
      ],
      "text/plain": [
       "               Код                                        Вставки_д28  \\\n",
       "6470   ЦБ-00155200        1Изумруд-0,096-НРОКр+3/Г3 12Кр17-0,090-2/2А   \n",
       "11847  ЦБ-00039564         3Изумруд-0,080-НРОКр+3/Г1 1Кр57-0,440-3/2А   \n",
       "17937  ЦБ-00181165  1Изумруд-0,210-НРОКр+3/Г3 2КР57-0,050-3/3А 1КР...   \n",
       "29167  ЦБ-00051910       2Изумруд-22,610-НРОФ+5/Г3 148КР57-1,080-3/5А   \n",
       "\n",
       "                             emerald_list  len_jem  len_em  \n",
       "6470   [(1, Изумруд, 0,096, НРОКр, 3/Г3)]        0       1  \n",
       "11847  [(3, Изумруд, 0,080, НРОКр, 3/Г1)]        0       1  \n",
       "17937  [(1, Изумруд, 0,210, НРОКр, 3/Г3)]        0       1  \n",
       "29167  [(2, Изумруд, 22,610, НРОФ, 5/Г3)]        0       1  "
      ]
     },
     "execution_count": 32,
     "metadata": {},
     "output_type": "execute_result"
    }
   ],
   "source": [
    "df[df['len_em']!=df['len_jem'] ]"
   ]
  },
  {
   "cell_type": "code",
   "execution_count": null,
   "id": "03d9c974",
   "metadata": {},
   "outputs": [],
   "source": []
  },
  {
   "cell_type": "code",
   "execution_count": 508,
   "id": "e957ab7f",
   "metadata": {},
   "outputs": [
    {
     "data": {
      "text/plain": [
       "0        []\n",
       "1        []\n",
       "2        []\n",
       "3        []\n",
       "4        []\n",
       "         ..\n",
       "34264    []\n",
       "34265    []\n",
       "34266    []\n",
       "34267    []\n",
       "34268    []\n",
       "Name: emerald_list, Length: 34269, dtype: object"
      ]
     },
     "execution_count": 508,
     "metadata": {},
     "output_type": "execute_result"
    }
   ],
   "source": [
    "df['emerald_list'].apply(lambda x: )"
   ]
  },
  {
   "cell_type": "code",
   "execution_count": 36,
   "id": "46a4ea22",
   "metadata": {
    "scrolled": true
   },
   "outputs": [
    {
     "data": {
      "text/html": [
       "<div>\n",
       "<style scoped>\n",
       "    .dataframe tbody tr th:only-of-type {\n",
       "        vertical-align: middle;\n",
       "    }\n",
       "\n",
       "    .dataframe tbody tr th {\n",
       "        vertical-align: top;\n",
       "    }\n",
       "\n",
       "    .dataframe thead th {\n",
       "        text-align: right;\n",
       "    }\n",
       "</style>\n",
       "<table border=\"1\" class=\"dataframe\">\n",
       "  <thead>\n",
       "    <tr style=\"text-align: right;\">\n",
       "      <th></th>\n",
       "      <th>Код</th>\n",
       "      <th>Вставки_д28</th>\n",
       "      <th>emerald_list</th>\n",
       "      <th>len_jem</th>\n",
       "      <th>len_em</th>\n",
       "    </tr>\n",
       "  </thead>\n",
       "  <tbody>\n",
       "    <tr>\n",
       "      <th>0</th>\n",
       "      <td>ЦБ-00200503</td>\n",
       "      <td>45КР57-0,520-4/5А</td>\n",
       "      <td>[]</td>\n",
       "      <td>0</td>\n",
       "      <td>0</td>\n",
       "    </tr>\n",
       "    <tr>\n",
       "      <th>1</th>\n",
       "      <td>ЦБ-00002854</td>\n",
       "      <td>2Кр57-0,083-2/2А 4Кр57-0,084-2/2А 6Кр57-0,280-...</td>\n",
       "      <td>[]</td>\n",
       "      <td>0</td>\n",
       "      <td>0</td>\n",
       "    </tr>\n",
       "    <tr>\n",
       "      <th>2</th>\n",
       "      <td>ЦБ-00019951</td>\n",
       "      <td>1Кр57-0,086-4/5А</td>\n",
       "      <td>[]</td>\n",
       "      <td>0</td>\n",
       "      <td>0</td>\n",
       "    </tr>\n",
       "    <tr>\n",
       "      <th>3</th>\n",
       "      <td>ЦБ-00019953</td>\n",
       "      <td>3Кр57-0,06-4/5А</td>\n",
       "      <td>[]</td>\n",
       "      <td>0</td>\n",
       "      <td>0</td>\n",
       "    </tr>\n",
       "    <tr>\n",
       "      <th>4</th>\n",
       "      <td>ЦБ-00111074</td>\n",
       "      <td>1Кр57-0,050-4/5А 1Кр57-0,031-6/6А 1Кр57-0,014-...</td>\n",
       "      <td>[]</td>\n",
       "      <td>0</td>\n",
       "      <td>0</td>\n",
       "    </tr>\n",
       "    <tr>\n",
       "      <th>...</th>\n",
       "      <td>...</td>\n",
       "      <td>...</td>\n",
       "      <td>...</td>\n",
       "      <td>...</td>\n",
       "      <td>...</td>\n",
       "    </tr>\n",
       "    <tr>\n",
       "      <th>34264</th>\n",
       "      <td>ЦБ-00182016</td>\n",
       "      <td>СапфирВ 6КР57-0,080-3/4А</td>\n",
       "      <td>[]</td>\n",
       "      <td>0</td>\n",
       "      <td>0</td>\n",
       "    </tr>\n",
       "    <tr>\n",
       "      <th>34265</th>\n",
       "      <td>ЦБ-00182017</td>\n",
       "      <td>СапфирВ 6КР57-0,080-3/4А</td>\n",
       "      <td>[]</td>\n",
       "      <td>0</td>\n",
       "      <td>0</td>\n",
       "    </tr>\n",
       "    <tr>\n",
       "      <th>34266</th>\n",
       "      <td>ЦБ-00182019</td>\n",
       "      <td>ИзумрудВ 4КР57-0,040-2/3А</td>\n",
       "      <td>[]</td>\n",
       "      <td>0</td>\n",
       "      <td>0</td>\n",
       "    </tr>\n",
       "    <tr>\n",
       "      <th>34267</th>\n",
       "      <td>ЦБ-00182020</td>\n",
       "      <td>ИзумрудВ 4КР57-0,040-2/3А</td>\n",
       "      <td>[]</td>\n",
       "      <td>0</td>\n",
       "      <td>0</td>\n",
       "    </tr>\n",
       "    <tr>\n",
       "      <th>34268</th>\n",
       "      <td>ЦБ-00182021</td>\n",
       "      <td>ИзумрудВ 4КР57-0,040-2/3А</td>\n",
       "      <td>[]</td>\n",
       "      <td>0</td>\n",
       "      <td>0</td>\n",
       "    </tr>\n",
       "  </tbody>\n",
       "</table>\n",
       "<p>34269 rows × 5 columns</p>\n",
       "</div>"
      ],
      "text/plain": [
       "               Код                                        Вставки_д28  \\\n",
       "0      ЦБ-00200503                                  45КР57-0,520-4/5А   \n",
       "1      ЦБ-00002854  2Кр57-0,083-2/2А 4Кр57-0,084-2/2А 6Кр57-0,280-...   \n",
       "2      ЦБ-00019951                                   1Кр57-0,086-4/5А   \n",
       "3      ЦБ-00019953                                    3Кр57-0,06-4/5А   \n",
       "4      ЦБ-00111074  1Кр57-0,050-4/5А 1Кр57-0,031-6/6А 1Кр57-0,014-...   \n",
       "...            ...                                                ...   \n",
       "34264  ЦБ-00182016                           СапфирВ 6КР57-0,080-3/4А   \n",
       "34265  ЦБ-00182017                           СапфирВ 6КР57-0,080-3/4А   \n",
       "34266  ЦБ-00182019                          ИзумрудВ 4КР57-0,040-2/3А   \n",
       "34267  ЦБ-00182020                          ИзумрудВ 4КР57-0,040-2/3А   \n",
       "34268  ЦБ-00182021                          ИзумрудВ 4КР57-0,040-2/3А   \n",
       "\n",
       "      emerald_list  len_jem  len_em  \n",
       "0               []        0       0  \n",
       "1               []        0       0  \n",
       "2               []        0       0  \n",
       "3               []        0       0  \n",
       "4               []        0       0  \n",
       "...            ...      ...     ...  \n",
       "34264           []        0       0  \n",
       "34265           []        0       0  \n",
       "34266           []        0       0  \n",
       "34267           []        0       0  \n",
       "34268           []        0       0  \n",
       "\n",
       "[34269 rows x 5 columns]"
      ]
     },
     "execution_count": 36,
     "metadata": {},
     "output_type": "execute_result"
    }
   ],
   "source": [
    "df"
   ]
  },
  {
   "cell_type": "code",
   "execution_count": null,
   "id": "46f98225",
   "metadata": {},
   "outputs": [],
   "source": []
  },
  {
   "cell_type": "code",
   "execution_count": 34,
   "id": "1e623098",
   "metadata": {},
   "outputs": [
    {
     "data": {
      "text/html": [
       "<div>\n",
       "<style scoped>\n",
       "    .dataframe tbody tr th:only-of-type {\n",
       "        vertical-align: middle;\n",
       "    }\n",
       "\n",
       "    .dataframe tbody tr th {\n",
       "        vertical-align: top;\n",
       "    }\n",
       "\n",
       "    .dataframe thead th {\n",
       "        text-align: right;\n",
       "    }\n",
       "</style>\n",
       "<table border=\"1\" class=\"dataframe\">\n",
       "  <thead>\n",
       "    <tr style=\"text-align: right;\">\n",
       "      <th></th>\n",
       "      <th>Код</th>\n",
       "      <th>Вставки_д28</th>\n",
       "      <th>emerald_list</th>\n",
       "      <th>len_em</th>\n",
       "    </tr>\n",
       "  </thead>\n",
       "  <tbody>\n",
       "    <tr>\n",
       "      <th>0</th>\n",
       "      <td>ЦБ-00200503</td>\n",
       "      <td>45КР57-0,520-4/5А</td>\n",
       "      <td>[]</td>\n",
       "      <td>0</td>\n",
       "    </tr>\n",
       "    <tr>\n",
       "      <th>1</th>\n",
       "      <td>ЦБ-00002854</td>\n",
       "      <td>2Кр57-0,083-2/2А 4Кр57-0,084-2/2А 6Кр57-0,280-...</td>\n",
       "      <td>[]</td>\n",
       "      <td>0</td>\n",
       "    </tr>\n",
       "    <tr>\n",
       "      <th>2</th>\n",
       "      <td>ЦБ-00019951</td>\n",
       "      <td>1Кр57-0,086-4/5А</td>\n",
       "      <td>[]</td>\n",
       "      <td>0</td>\n",
       "    </tr>\n",
       "    <tr>\n",
       "      <th>3</th>\n",
       "      <td>ЦБ-00019953</td>\n",
       "      <td>3Кр57-0,06-4/5А</td>\n",
       "      <td>[]</td>\n",
       "      <td>0</td>\n",
       "    </tr>\n",
       "    <tr>\n",
       "      <th>4</th>\n",
       "      <td>ЦБ-00111074</td>\n",
       "      <td>1Кр57-0,050-4/5А 1Кр57-0,031-6/6А 1Кр57-0,014-...</td>\n",
       "      <td>[]</td>\n",
       "      <td>0</td>\n",
       "    </tr>\n",
       "    <tr>\n",
       "      <th>...</th>\n",
       "      <td>...</td>\n",
       "      <td>...</td>\n",
       "      <td>...</td>\n",
       "      <td>...</td>\n",
       "    </tr>\n",
       "    <tr>\n",
       "      <th>34264</th>\n",
       "      <td>ЦБ-00182016</td>\n",
       "      <td>СапфирВ 6КР57-0,080-3/4А</td>\n",
       "      <td>[]</td>\n",
       "      <td>0</td>\n",
       "    </tr>\n",
       "    <tr>\n",
       "      <th>34265</th>\n",
       "      <td>ЦБ-00182017</td>\n",
       "      <td>СапфирВ 6КР57-0,080-3/4А</td>\n",
       "      <td>[]</td>\n",
       "      <td>0</td>\n",
       "    </tr>\n",
       "    <tr>\n",
       "      <th>34266</th>\n",
       "      <td>ЦБ-00182019</td>\n",
       "      <td>ИзумрудВ 4КР57-0,040-2/3А</td>\n",
       "      <td>[]</td>\n",
       "      <td>0</td>\n",
       "    </tr>\n",
       "    <tr>\n",
       "      <th>34267</th>\n",
       "      <td>ЦБ-00182020</td>\n",
       "      <td>ИзумрудВ 4КР57-0,040-2/3А</td>\n",
       "      <td>[]</td>\n",
       "      <td>0</td>\n",
       "    </tr>\n",
       "    <tr>\n",
       "      <th>34268</th>\n",
       "      <td>ЦБ-00182021</td>\n",
       "      <td>ИзумрудВ 4КР57-0,040-2/3А</td>\n",
       "      <td>[]</td>\n",
       "      <td>0</td>\n",
       "    </tr>\n",
       "  </tbody>\n",
       "</table>\n",
       "<p>34269 rows × 4 columns</p>\n",
       "</div>"
      ],
      "text/plain": [
       "               Код                                        Вставки_д28  \\\n",
       "0      ЦБ-00200503                                  45КР57-0,520-4/5А   \n",
       "1      ЦБ-00002854  2Кр57-0,083-2/2А 4Кр57-0,084-2/2А 6Кр57-0,280-...   \n",
       "2      ЦБ-00019951                                   1Кр57-0,086-4/5А   \n",
       "3      ЦБ-00019953                                    3Кр57-0,06-4/5А   \n",
       "4      ЦБ-00111074  1Кр57-0,050-4/5А 1Кр57-0,031-6/6А 1Кр57-0,014-...   \n",
       "...            ...                                                ...   \n",
       "34264  ЦБ-00182016                           СапфирВ 6КР57-0,080-3/4А   \n",
       "34265  ЦБ-00182017                           СапфирВ 6КР57-0,080-3/4А   \n",
       "34266  ЦБ-00182019                          ИзумрудВ 4КР57-0,040-2/3А   \n",
       "34267  ЦБ-00182020                          ИзумрудВ 4КР57-0,040-2/3А   \n",
       "34268  ЦБ-00182021                          ИзумрудВ 4КР57-0,040-2/3А   \n",
       "\n",
       "      emerald_list  len_em  \n",
       "0               []       0  \n",
       "1               []       0  \n",
       "2               []       0  \n",
       "3               []       0  \n",
       "4               []       0  \n",
       "...            ...     ...  \n",
       "34264           []       0  \n",
       "34265           []       0  \n",
       "34266           []       0  \n",
       "34267           []       0  \n",
       "34268           []       0  \n",
       "\n",
       "[34269 rows x 4 columns]"
      ]
     },
     "execution_count": 34,
     "metadata": {},
     "output_type": "execute_result"
    }
   ],
   "source": [
    "df[['Код', 'Вставки_д28','emerald_list', 'len_em']]"
   ]
  },
  {
   "cell_type": "code",
   "execution_count": 35,
   "id": "406dc532",
   "metadata": {},
   "outputs": [],
   "source": [
    "df_exp = df.explode('emerald_list')"
   ]
  },
  {
   "cell_type": "code",
   "execution_count": 227,
   "id": "71f81c48",
   "metadata": {
    "scrolled": true
   },
   "outputs": [],
   "source": [
    "df_exp.dropna(subset='emerald_list', inplace=True)"
   ]
  },
  {
   "cell_type": "markdown",
   "id": "6eae5a5a",
   "metadata": {},
   "source": [
    "### разбор по  [\"PCS\",\"GEM\",\"CARAT\", \"FORM\", \"CQ\"]"
   ]
  },
  {
   "cell_type": "code",
   "execution_count": 393,
   "id": "e0f70fc7",
   "metadata": {},
   "outputs": [],
   "source": [
    "cols = [\"PCS\",\"GEM\",\"CARAT\", \"FORM\", \"CQ\"]\n",
    "for c in range(len(cols)):\n",
    "    df_exp[cols[c]] = df_exp.emerald_list.apply(lambda x: x[c].lower().strip())"
   ]
  },
  {
   "cell_type": "code",
   "execution_count": 394,
   "id": "d93b76ce",
   "metadata": {},
   "outputs": [
    {
     "data": {
      "text/html": [
       "<div>\n",
       "<style scoped>\n",
       "    .dataframe tbody tr th:only-of-type {\n",
       "        vertical-align: middle;\n",
       "    }\n",
       "\n",
       "    .dataframe tbody tr th {\n",
       "        vertical-align: top;\n",
       "    }\n",
       "\n",
       "    .dataframe thead th {\n",
       "        text-align: right;\n",
       "    }\n",
       "</style>\n",
       "<table border=\"1\" class=\"dataframe\">\n",
       "  <thead>\n",
       "    <tr style=\"text-align: right;\">\n",
       "      <th></th>\n",
       "      <th>Код</th>\n",
       "      <th>Вставки_д28</th>\n",
       "      <th>emeralds</th>\n",
       "      <th>re01</th>\n",
       "      <th>emerald_list</th>\n",
       "      <th>len_jem</th>\n",
       "      <th>len_em</th>\n",
       "      <th>PCS</th>\n",
       "      <th>GEM</th>\n",
       "      <th>CARAT</th>\n",
       "      <th>FORM</th>\n",
       "      <th>CQ</th>\n",
       "      <th>C</th>\n",
       "      <th>Q</th>\n",
       "    </tr>\n",
       "  </thead>\n",
       "  <tbody>\n",
       "    <tr>\n",
       "      <th>160</th>\n",
       "      <td>ЦБ-00019785</td>\n",
       "      <td>1ИзумрудПМ-1,270-НРООв+2/гз 7Кр57-0,100-3/3А</td>\n",
       "      <td>1изумрудпм-1,270-нроов+2/гз 7кр57-0,100-3/3а</td>\n",
       "      <td>[(1, ИзумрудПМ, 1,270, НРООв, 2/г)]</td>\n",
       "      <td>(1, ИзумрудПМ, 1,270, НРООв, 2/г)</td>\n",
       "      <td>1</td>\n",
       "      <td>1</td>\n",
       "      <td>1</td>\n",
       "      <td>изумрудпм</td>\n",
       "      <td>1,270</td>\n",
       "      <td>нроов</td>\n",
       "      <td>2/г</td>\n",
       "      <td>2</td>\n",
       "      <td>г</td>\n",
       "    </tr>\n",
       "    <tr>\n",
       "      <th>249</th>\n",
       "      <td>ЦБ-00019921</td>\n",
       "      <td>1ИзумрудПМ-0,100-НРОКр+4/Г3 4Кр57-0,040-2/4А</td>\n",
       "      <td>1изумрудпм-0,100-нрокр+4/г3 4кр57-0,040-2/4а</td>\n",
       "      <td>[(1, ИзумрудПМ, 0,100, НРОКр, 4/Г3)]</td>\n",
       "      <td>(1, ИзумрудПМ, 0,100, НРОКр, 4/Г3)</td>\n",
       "      <td>1</td>\n",
       "      <td>1</td>\n",
       "      <td>1</td>\n",
       "      <td>изумрудпм</td>\n",
       "      <td>0,100</td>\n",
       "      <td>нрокр</td>\n",
       "      <td>4/г3</td>\n",
       "      <td>4</td>\n",
       "      <td>г3</td>\n",
       "    </tr>\n",
       "    <tr>\n",
       "      <th>345</th>\n",
       "      <td>ЦБ-00090311</td>\n",
       "      <td>1ИзумрудПМ-0,234-НРОКр+3/Г2 6Кр57-0,148-2/2А 2...</td>\n",
       "      <td>1изумрудпм-0,234-нрокр+3/г2 6кр57-0,148-2/2а 2...</td>\n",
       "      <td>[(1, ИзумрудПМ, 0,234, НРОКр, 3/Г2)]</td>\n",
       "      <td>(1, ИзумрудПМ, 0,234, НРОКр, 3/Г2)</td>\n",
       "      <td>1</td>\n",
       "      <td>1</td>\n",
       "      <td>1</td>\n",
       "      <td>изумрудпм</td>\n",
       "      <td>0,234</td>\n",
       "      <td>нрокр</td>\n",
       "      <td>3/г2</td>\n",
       "      <td>3</td>\n",
       "      <td>г2</td>\n",
       "    </tr>\n",
       "    <tr>\n",
       "      <th>372</th>\n",
       "      <td>ЦБ-00163308</td>\n",
       "      <td>1ИзумрудПМ-0,340-НРООв+3/Г3 12Кр17-0,030-2/2А</td>\n",
       "      <td>1изумрудпм-0,340-нроов+3/г3 12кр17-0,030-2/2а</td>\n",
       "      <td>[(1, ИзумрудПМ, 0,340, НРООв, 3/Г3)]</td>\n",
       "      <td>(1, ИзумрудПМ, 0,340, НРООв, 3/Г3)</td>\n",
       "      <td>1</td>\n",
       "      <td>1</td>\n",
       "      <td>1</td>\n",
       "      <td>изумрудпм</td>\n",
       "      <td>0,340</td>\n",
       "      <td>нроов</td>\n",
       "      <td>3/г3</td>\n",
       "      <td>3</td>\n",
       "      <td>г3</td>\n",
       "    </tr>\n",
       "    <tr>\n",
       "      <th>374</th>\n",
       "      <td>ЦБ-00163310</td>\n",
       "      <td>1ИзумрудПМ-0,159-НРОКр+3/Г2 12Кр57-0,113-3/4А</td>\n",
       "      <td>1изумрудпм-0,159-нрокр+3/г2 12кр57-0,113-3/4а</td>\n",
       "      <td>[(1, ИзумрудПМ, 0,159, НРОКр, 3/Г2)]</td>\n",
       "      <td>(1, ИзумрудПМ, 0,159, НРОКр, 3/Г2)</td>\n",
       "      <td>1</td>\n",
       "      <td>1</td>\n",
       "      <td>1</td>\n",
       "      <td>изумрудпм</td>\n",
       "      <td>0,159</td>\n",
       "      <td>нрокр</td>\n",
       "      <td>3/г2</td>\n",
       "      <td>3</td>\n",
       "      <td>г2</td>\n",
       "    </tr>\n",
       "    <tr>\n",
       "      <th>...</th>\n",
       "      <td>...</td>\n",
       "      <td>...</td>\n",
       "      <td>...</td>\n",
       "      <td>...</td>\n",
       "      <td>...</td>\n",
       "      <td>...</td>\n",
       "      <td>...</td>\n",
       "      <td>...</td>\n",
       "      <td>...</td>\n",
       "      <td>...</td>\n",
       "      <td>...</td>\n",
       "      <td>...</td>\n",
       "      <td>...</td>\n",
       "      <td>...</td>\n",
       "    </tr>\n",
       "    <tr>\n",
       "      <th>31958</th>\n",
       "      <td>ЦБ-00171233</td>\n",
       "      <td>4ИзумрудПМ-0,540-кр+3/Г3 2КР57-0,030-3/4А</td>\n",
       "      <td>4изумрудпм-0,540-кр+3/г3 2кр57-0,030-3/4а</td>\n",
       "      <td>[(4, ИзумрудПМ, 0,540, кр, 3/Г3)]</td>\n",
       "      <td>(4, ИзумрудПМ, 0,540, кр, 3/Г3)</td>\n",
       "      <td>1</td>\n",
       "      <td>1</td>\n",
       "      <td>4</td>\n",
       "      <td>изумрудпм</td>\n",
       "      <td>0,540</td>\n",
       "      <td>кр</td>\n",
       "      <td>3/г3</td>\n",
       "      <td>3</td>\n",
       "      <td>г3</td>\n",
       "    </tr>\n",
       "    <tr>\n",
       "      <th>31971</th>\n",
       "      <td>ЦБ-00171334</td>\n",
       "      <td>2ИзумрудПМ-0,270-м+2/Г2 20КР57-0,240-3/5А</td>\n",
       "      <td>2изумрудпм-0,270-м+2/г2 20кр57-0,240-3/5а</td>\n",
       "      <td>[(2, ИзумрудПМ, 0,270, м, 2/Г2)]</td>\n",
       "      <td>(2, ИзумрудПМ, 0,270, м, 2/Г2)</td>\n",
       "      <td>1</td>\n",
       "      <td>1</td>\n",
       "      <td>2</td>\n",
       "      <td>изумрудпм</td>\n",
       "      <td>0,270</td>\n",
       "      <td>м</td>\n",
       "      <td>2/г2</td>\n",
       "      <td>2</td>\n",
       "      <td>г2</td>\n",
       "    </tr>\n",
       "    <tr>\n",
       "      <th>31975</th>\n",
       "      <td>ЦБ-00171360</td>\n",
       "      <td>2ИзумрудПМ-0,670-пр+5/Г1 2КР57-0,030-3/3А</td>\n",
       "      <td>2изумрудпм-0,670-пр+5/г1 2кр57-0,030-3/3а</td>\n",
       "      <td>[(2, ИзумрудПМ, 0,670, пр, 5/Г1)]</td>\n",
       "      <td>(2, ИзумрудПМ, 0,670, пр, 5/Г1)</td>\n",
       "      <td>1</td>\n",
       "      <td>1</td>\n",
       "      <td>2</td>\n",
       "      <td>изумрудпм</td>\n",
       "      <td>0,670</td>\n",
       "      <td>пр</td>\n",
       "      <td>5/г1</td>\n",
       "      <td>5</td>\n",
       "      <td>г1</td>\n",
       "    </tr>\n",
       "    <tr>\n",
       "      <th>32597</th>\n",
       "      <td>ЦБ-00177187</td>\n",
       "      <td>2ИзумрудПМ-0,166-НРОКр+3/Г3 6Кр57-0,076-4/5А 6...</td>\n",
       "      <td>2изумрудпм-0,166-нрокр+3/г3 6кр57-0,076-4/5а 6...</td>\n",
       "      <td>[(2, ИзумрудПМ, 0,166, НРОКр, 3/Г3)]</td>\n",
       "      <td>(2, ИзумрудПМ, 0,166, НРОКр, 3/Г3)</td>\n",
       "      <td>1</td>\n",
       "      <td>1</td>\n",
       "      <td>2</td>\n",
       "      <td>изумрудпм</td>\n",
       "      <td>0,166</td>\n",
       "      <td>нрокр</td>\n",
       "      <td>3/г3</td>\n",
       "      <td>3</td>\n",
       "      <td>г3</td>\n",
       "    </tr>\n",
       "    <tr>\n",
       "      <th>32933</th>\n",
       "      <td>ЦБ-00181335</td>\n",
       "      <td>6ИзумрудПМ-0,203-НРОКр+3/Г3 6КР57-0,244-3/4А</td>\n",
       "      <td>6изумрудпм-0,203-нрокр+3/г3 6кр57-0,244-3/4а</td>\n",
       "      <td>[(6, ИзумрудПМ, 0,203, НРОКр, 3/Г3)]</td>\n",
       "      <td>(6, ИзумрудПМ, 0,203, НРОКр, 3/Г3)</td>\n",
       "      <td>1</td>\n",
       "      <td>1</td>\n",
       "      <td>6</td>\n",
       "      <td>изумрудпм</td>\n",
       "      <td>0,203</td>\n",
       "      <td>нрокр</td>\n",
       "      <td>3/г3</td>\n",
       "      <td>3</td>\n",
       "      <td>г3</td>\n",
       "    </tr>\n",
       "  </tbody>\n",
       "</table>\n",
       "<p>309 rows × 14 columns</p>\n",
       "</div>"
      ],
      "text/plain": [
       "               Код                                        Вставки_д28  \\\n",
       "160    ЦБ-00019785       1ИзумрудПМ-1,270-НРООв+2/гз 7Кр57-0,100-3/3А   \n",
       "249    ЦБ-00019921       1ИзумрудПМ-0,100-НРОКр+4/Г3 4Кр57-0,040-2/4А   \n",
       "345    ЦБ-00090311  1ИзумрудПМ-0,234-НРОКр+3/Г2 6Кр57-0,148-2/2А 2...   \n",
       "372    ЦБ-00163308      1ИзумрудПМ-0,340-НРООв+3/Г3 12Кр17-0,030-2/2А   \n",
       "374    ЦБ-00163310      1ИзумрудПМ-0,159-НРОКр+3/Г2 12Кр57-0,113-3/4А   \n",
       "...            ...                                                ...   \n",
       "31958  ЦБ-00171233          4ИзумрудПМ-0,540-кр+3/Г3 2КР57-0,030-3/4А   \n",
       "31971  ЦБ-00171334          2ИзумрудПМ-0,270-м+2/Г2 20КР57-0,240-3/5А   \n",
       "31975  ЦБ-00171360          2ИзумрудПМ-0,670-пр+5/Г1 2КР57-0,030-3/3А   \n",
       "32597  ЦБ-00177187  2ИзумрудПМ-0,166-НРОКр+3/Г3 6Кр57-0,076-4/5А 6...   \n",
       "32933  ЦБ-00181335       6ИзумрудПМ-0,203-НРОКр+3/Г3 6КР57-0,244-3/4А   \n",
       "\n",
       "                                                emeralds  \\\n",
       "160         1изумрудпм-1,270-нроов+2/гз 7кр57-0,100-3/3а   \n",
       "249         1изумрудпм-0,100-нрокр+4/г3 4кр57-0,040-2/4а   \n",
       "345    1изумрудпм-0,234-нрокр+3/г2 6кр57-0,148-2/2а 2...   \n",
       "372        1изумрудпм-0,340-нроов+3/г3 12кр17-0,030-2/2а   \n",
       "374        1изумрудпм-0,159-нрокр+3/г2 12кр57-0,113-3/4а   \n",
       "...                                                  ...   \n",
       "31958          4изумрудпм-0,540-кр+3/г3 2кр57-0,030-3/4а   \n",
       "31971          2изумрудпм-0,270-м+2/г2 20кр57-0,240-3/5а   \n",
       "31975          2изумрудпм-0,670-пр+5/г1 2кр57-0,030-3/3а   \n",
       "32597  2изумрудпм-0,166-нрокр+3/г3 6кр57-0,076-4/5а 6...   \n",
       "32933       6изумрудпм-0,203-нрокр+3/г3 6кр57-0,244-3/4а   \n",
       "\n",
       "                                       re01  \\\n",
       "160     [(1, ИзумрудПМ, 1,270, НРООв, 2/г)]   \n",
       "249    [(1, ИзумрудПМ, 0,100, НРОКр, 4/Г3)]   \n",
       "345    [(1, ИзумрудПМ, 0,234, НРОКр, 3/Г2)]   \n",
       "372    [(1, ИзумрудПМ, 0,340, НРООв, 3/Г3)]   \n",
       "374    [(1, ИзумрудПМ, 0,159, НРОКр, 3/Г2)]   \n",
       "...                                     ...   \n",
       "31958     [(4, ИзумрудПМ, 0,540, кр, 3/Г3)]   \n",
       "31971      [(2, ИзумрудПМ, 0,270, м, 2/Г2)]   \n",
       "31975     [(2, ИзумрудПМ, 0,670, пр, 5/Г1)]   \n",
       "32597  [(2, ИзумрудПМ, 0,166, НРОКр, 3/Г3)]   \n",
       "32933  [(6, ИзумрудПМ, 0,203, НРОКр, 3/Г3)]   \n",
       "\n",
       "                             emerald_list  len_jem  len_em PCS        GEM  \\\n",
       "160     (1, ИзумрудПМ, 1,270, НРООв, 2/г)        1       1   1  изумрудпм   \n",
       "249    (1, ИзумрудПМ, 0,100, НРОКр, 4/Г3)        1       1   1  изумрудпм   \n",
       "345    (1, ИзумрудПМ, 0,234, НРОКр, 3/Г2)        1       1   1  изумрудпм   \n",
       "372    (1, ИзумрудПМ, 0,340, НРООв, 3/Г3)        1       1   1  изумрудпм   \n",
       "374    (1, ИзумрудПМ, 0,159, НРОКр, 3/Г2)        1       1   1  изумрудпм   \n",
       "...                                   ...      ...     ...  ..        ...   \n",
       "31958     (4, ИзумрудПМ, 0,540, кр, 3/Г3)        1       1   4  изумрудпм   \n",
       "31971      (2, ИзумрудПМ, 0,270, м, 2/Г2)        1       1   2  изумрудпм   \n",
       "31975     (2, ИзумрудПМ, 0,670, пр, 5/Г1)        1       1   2  изумрудпм   \n",
       "32597  (2, ИзумрудПМ, 0,166, НРОКр, 3/Г3)        1       1   2  изумрудпм   \n",
       "32933  (6, ИзумрудПМ, 0,203, НРОКр, 3/Г3)        1       1   6  изумрудпм   \n",
       "\n",
       "       CARAT   FORM    CQ  C   Q  \n",
       "160    1,270  нроов   2/г  2   г  \n",
       "249    0,100  нрокр  4/г3  4  г3  \n",
       "345    0,234  нрокр  3/г2  3  г2  \n",
       "372    0,340  нроов  3/г3  3  г3  \n",
       "374    0,159  нрокр  3/г2  3  г2  \n",
       "...      ...    ...   ... ..  ..  \n",
       "31958  0,540     кр  3/г3  3  г3  \n",
       "31971  0,270      м  2/г2  2  г2  \n",
       "31975  0,670     пр  5/г1  5  г1  \n",
       "32597  0,166  нрокр  3/г3  3  г3  \n",
       "32933  0,203  нрокр  3/г3  3  г3  \n",
       "\n",
       "[309 rows x 14 columns]"
      ]
     },
     "execution_count": 394,
     "metadata": {},
     "output_type": "execute_result"
    }
   ],
   "source": [
    "df_exp"
   ]
  },
  {
   "cell_type": "code",
   "execution_count": 395,
   "id": "dc235cb2",
   "metadata": {},
   "outputs": [
    {
     "name": "stdout",
     "output_type": "stream",
     "text": [
      "PCS ['1' '3' '2' '' '218' '32' '7' '5' '4' '12' '6' '8' '17' '48' '18' '60']\n",
      "GEM ['изумрудпм' 'изумруд' 'изумрудпт']\n",
      "CARAT ['1,270' '0,100' '0,234' '0,340' '0,159' '0,420' '0,118' '1,134' '0,356'\n",
      " '0,170' '0,380' '1,490' '0,680' '0,520' '7,900' '0,450' '0,744' '5,230'\n",
      " '0,860' '0,160' '1,205' '3,990' '0,275' '0,590' '0,623' '0,640' '0,530'\n",
      " '0,900' '0,193' '0,875' '0,260' '0,219' '0,747' '0,090' '0,550' '0,150'\n",
      " '0,080' '0,110' '2,370' '0,722' '0,760' '0,650' '0,437' '0,717' '0,300'\n",
      " '0,662' '0,136' '0,200' '1,690' '0,836' '1,130' '0,250' '1,500' '1,930'\n",
      " '0,400' '1,350' '0,415' '0,276' '1,050' '0,500' '0,060' '0,750' '0,930'\n",
      " '0,096' '0,364' '0,663' '0,180' '1,880' '0,030' '0,211' '0,050' '0,540'\n",
      " '0,310' '2,360' '0,236' '0,403' '0,230' '1,370' '0,700' '0,330' '1,070'\n",
      " '2,300' '1,990' '0,800' '0,220' '0,510' '0,305' '0,026' '0,016' '0,020'\n",
      " '0,035' '0,071' '0,115' '0,254' '0,070' '0,130' '0,361' '0,366' '1,253'\n",
      " '0,345' '0,910' '0,120' '0,055' '0,088' '0,053' '0,430' '0,210' '9,070'\n",
      " '0,290' '0,320' '0,143' '3,120' '0,426' '0,041' '0,105' '14,680' '0,460'\n",
      " '0,190' '0,377' '0,262' '0,099' '0,213' '0,163' '0,155' '0,280' '0,580'\n",
      " '0,040' '0,140' '0,112' '0,043' '0,41' '0,141' '0,044' '0,176' '0,390'\n",
      " '0,038' '0,360' '0,370' '0,166' '22,610' '1,400' '0,240' '0,600' '0,270'\n",
      " '0,810' '1,300' '0,62' '0,687' '0,265' '0,225' '0,440' '0,350' '0,480'\n",
      " '1,600' '0,670' '0,203']\n",
      "FORM ['нроов' 'нрокр' 'нрог' 'нропр' 'багет' 'и41' 'нроф' 'кр' 'кв21' 'нрочл'\n",
      " 'пр21' 'ов' 'нрокр-кр' 'нрооо' 'о49' 'кр57' 'кбовв' 'нрокв' 'н41' 'бр17'\n",
      " 'кв-21' 'м' 'пр']\n",
      "CQ ['2/г' '4/г3' '3/г2' '3/г3' '4/г2' '3/к1' '2/г2' '2/г3' '3/г1' '5/г1'\n",
      " '5/г3' '2/к3' '4/г1' '1/г3' '5/г2' '1/г2']\n"
     ]
    }
   ],
   "source": [
    "for c in cols:\n",
    "    print(c, df_exp[c].unique())"
   ]
  },
  {
   "cell_type": "code",
   "execution_count": 396,
   "id": "4b484761",
   "metadata": {},
   "outputs": [
    {
     "data": {
      "text/html": [
       "<div>\n",
       "<style scoped>\n",
       "    .dataframe tbody tr th:only-of-type {\n",
       "        vertical-align: middle;\n",
       "    }\n",
       "\n",
       "    .dataframe tbody tr th {\n",
       "        vertical-align: top;\n",
       "    }\n",
       "\n",
       "    .dataframe thead th {\n",
       "        text-align: right;\n",
       "    }\n",
       "</style>\n",
       "<table border=\"1\" class=\"dataframe\">\n",
       "  <thead>\n",
       "    <tr style=\"text-align: right;\">\n",
       "      <th></th>\n",
       "      <th>Код</th>\n",
       "      <th>Вставки_д28</th>\n",
       "      <th>emeralds</th>\n",
       "      <th>re01</th>\n",
       "      <th>emerald_list</th>\n",
       "      <th>len_jem</th>\n",
       "      <th>len_em</th>\n",
       "      <th>PCS</th>\n",
       "      <th>GEM</th>\n",
       "      <th>CARAT</th>\n",
       "      <th>FORM</th>\n",
       "      <th>CQ</th>\n",
       "      <th>C</th>\n",
       "      <th>Q</th>\n",
       "    </tr>\n",
       "  </thead>\n",
       "  <tbody>\n",
       "    <tr>\n",
       "      <th>160</th>\n",
       "      <td>ЦБ-00019785</td>\n",
       "      <td>1ИзумрудПМ-1,270-НРООв+2/гз 7Кр57-0,100-3/3А</td>\n",
       "      <td>1изумрудпм-1,270-нроов+2/гз 7кр57-0,100-3/3а</td>\n",
       "      <td>[(1, ИзумрудПМ, 1,270, НРООв, 2/г)]</td>\n",
       "      <td>(1, ИзумрудПМ, 1,270, НРООв, 2/г)</td>\n",
       "      <td>1</td>\n",
       "      <td>1</td>\n",
       "      <td>1</td>\n",
       "      <td>изумрудпм</td>\n",
       "      <td>1,270</td>\n",
       "      <td>нроов</td>\n",
       "      <td>2/г</td>\n",
       "      <td>2</td>\n",
       "      <td>г</td>\n",
       "    </tr>\n",
       "  </tbody>\n",
       "</table>\n",
       "</div>"
      ],
      "text/plain": [
       "             Код                                   Вставки_д28  \\\n",
       "160  ЦБ-00019785  1ИзумрудПМ-1,270-НРООв+2/гз 7Кр57-0,100-3/3А   \n",
       "\n",
       "                                         emeralds  \\\n",
       "160  1изумрудпм-1,270-нроов+2/гз 7кр57-0,100-3/3а   \n",
       "\n",
       "                                    re01                       emerald_list  \\\n",
       "160  [(1, ИзумрудПМ, 1,270, НРООв, 2/г)]  (1, ИзумрудПМ, 1,270, НРООв, 2/г)   \n",
       "\n",
       "     len_jem  len_em PCS        GEM  CARAT   FORM   CQ  C  Q  \n",
       "160        1       1   1  изумрудпм  1,270  нроов  2/г  2  г  "
      ]
     },
     "execution_count": 396,
     "metadata": {},
     "output_type": "execute_result"
    }
   ],
   "source": [
    "df_exp[df_exp['CQ']=='2/г']"
   ]
  },
  {
   "cell_type": "code",
   "execution_count": 397,
   "id": "2ba8b88f",
   "metadata": {},
   "outputs": [
    {
     "data": {
      "text/html": [
       "<div>\n",
       "<style scoped>\n",
       "    .dataframe tbody tr th:only-of-type {\n",
       "        vertical-align: middle;\n",
       "    }\n",
       "\n",
       "    .dataframe tbody tr th {\n",
       "        vertical-align: top;\n",
       "    }\n",
       "\n",
       "    .dataframe thead th {\n",
       "        text-align: right;\n",
       "    }\n",
       "</style>\n",
       "<table border=\"1\" class=\"dataframe\">\n",
       "  <thead>\n",
       "    <tr style=\"text-align: right;\">\n",
       "      <th></th>\n",
       "      <th>Код</th>\n",
       "      <th>Вставки_д28</th>\n",
       "      <th>emeralds</th>\n",
       "      <th>re01</th>\n",
       "      <th>emerald_list</th>\n",
       "      <th>len_jem</th>\n",
       "      <th>len_em</th>\n",
       "      <th>PCS</th>\n",
       "      <th>GEM</th>\n",
       "      <th>CARAT</th>\n",
       "      <th>FORM</th>\n",
       "      <th>CQ</th>\n",
       "      <th>C</th>\n",
       "      <th>Q</th>\n",
       "    </tr>\n",
       "  </thead>\n",
       "  <tbody>\n",
       "    <tr>\n",
       "      <th>1181</th>\n",
       "      <td>ЦБ-00160609</td>\n",
       "      <td>ИзумрудПМ-7,900-И41+4/Г3 59КР57-0,690-4/4А 43К...</td>\n",
       "      <td>изумрудпм-7,900-и41+4/г3 59кр57-0,690-4/4а 43к...</td>\n",
       "      <td>[(, ИзумрудПМ, 7,900, И41, 4/Г3)]</td>\n",
       "      <td>(, ИзумрудПМ, 7,900, И41, 4/Г3)</td>\n",
       "      <td>1</td>\n",
       "      <td>1</td>\n",
       "      <td></td>\n",
       "      <td>изумрудпм</td>\n",
       "      <td>7,900</td>\n",
       "      <td>и41</td>\n",
       "      <td>4/г3</td>\n",
       "      <td>4</td>\n",
       "      <td>г3</td>\n",
       "    </tr>\n",
       "    <tr>\n",
       "      <th>25598</th>\n",
       "      <td>ЦБ-00181874</td>\n",
       "      <td>ИзумрудПМ-0,280-НРООв+3/Г3 3КР57-0,040-3/3А</td>\n",
       "      <td>изумрудпм-0,280-нроов+3/г3 3кр57-0,040-3/3а</td>\n",
       "      <td>[(, ИзумрудПМ, 0,280, НРООв, 3/Г3)]</td>\n",
       "      <td>(, ИзумрудПМ, 0,280, НРООв, 3/Г3)</td>\n",
       "      <td>1</td>\n",
       "      <td>1</td>\n",
       "      <td></td>\n",
       "      <td>изумрудпм</td>\n",
       "      <td>0,280</td>\n",
       "      <td>нроов</td>\n",
       "      <td>3/г3</td>\n",
       "      <td>3</td>\n",
       "      <td>г3</td>\n",
       "    </tr>\n",
       "  </tbody>\n",
       "</table>\n",
       "</div>"
      ],
      "text/plain": [
       "               Код                                        Вставки_д28  \\\n",
       "1181   ЦБ-00160609  ИзумрудПМ-7,900-И41+4/Г3 59КР57-0,690-4/4А 43К...   \n",
       "25598  ЦБ-00181874        ИзумрудПМ-0,280-НРООв+3/Г3 3КР57-0,040-3/3А   \n",
       "\n",
       "                                                emeralds  \\\n",
       "1181   изумрудпм-7,900-и41+4/г3 59кр57-0,690-4/4а 43к...   \n",
       "25598        изумрудпм-0,280-нроов+3/г3 3кр57-0,040-3/3а   \n",
       "\n",
       "                                      re01                       emerald_list  \\\n",
       "1181     [(, ИзумрудПМ, 7,900, И41, 4/Г3)]    (, ИзумрудПМ, 7,900, И41, 4/Г3)   \n",
       "25598  [(, ИзумрудПМ, 0,280, НРООв, 3/Г3)]  (, ИзумрудПМ, 0,280, НРООв, 3/Г3)   \n",
       "\n",
       "       len_jem  len_em PCS        GEM  CARAT   FORM    CQ  C   Q  \n",
       "1181         1       1      изумрудпм  7,900    и41  4/г3  4  г3  \n",
       "25598        1       1      изумрудпм  0,280  нроов  3/г3  3  г3  "
      ]
     },
     "execution_count": 397,
     "metadata": {},
     "output_type": "execute_result"
    }
   ],
   "source": [
    "df_exp[df_exp['PCS']=='']"
   ]
  },
  {
   "cell_type": "code",
   "execution_count": 312,
   "id": "b6f719ab",
   "metadata": {},
   "outputs": [],
   "source": [
    "df_exp['C'] = df_exp['CQ'].apply(lambda x: x.split('/')[0].lower().strip())\n",
    "df_exp['Q'] = df_exp['CQ'].apply(lambda x: x.split('/')[1].lower().strip())"
   ]
  },
  {
   "cell_type": "code",
   "execution_count": 313,
   "id": "38b86d63",
   "metadata": {
    "scrolled": false
   },
   "outputs": [
    {
     "data": {
      "text/html": [
       "<div>\n",
       "<style scoped>\n",
       "    .dataframe tbody tr th:only-of-type {\n",
       "        vertical-align: middle;\n",
       "    }\n",
       "\n",
       "    .dataframe tbody tr th {\n",
       "        vertical-align: top;\n",
       "    }\n",
       "\n",
       "    .dataframe thead th {\n",
       "        text-align: right;\n",
       "    }\n",
       "</style>\n",
       "<table border=\"1\" class=\"dataframe\">\n",
       "  <thead>\n",
       "    <tr style=\"text-align: right;\">\n",
       "      <th></th>\n",
       "      <th>Код</th>\n",
       "      <th>Вставки_д28</th>\n",
       "      <th>emeralds</th>\n",
       "      <th>re01</th>\n",
       "      <th>emerald_list</th>\n",
       "      <th>len_jem</th>\n",
       "      <th>len_em</th>\n",
       "      <th>PCS</th>\n",
       "      <th>GEM</th>\n",
       "      <th>CARAT</th>\n",
       "      <th>FORM</th>\n",
       "      <th>CQ</th>\n",
       "      <th>C</th>\n",
       "      <th>Q</th>\n",
       "    </tr>\n",
       "  </thead>\n",
       "  <tbody>\n",
       "    <tr>\n",
       "      <th>160</th>\n",
       "      <td>ЦБ-00019785</td>\n",
       "      <td>1ИзумрудПМ-1,270-НРООв+2/гз 7Кр57-0,100-3/3А</td>\n",
       "      <td>1изумрудпм-1,270-нроов+2/гз 7кр57-0,100-3/3а</td>\n",
       "      <td>[(1, ИзумрудПМ, 1,270, НРООв, 2/г)]</td>\n",
       "      <td>(1, ИзумрудПМ, 1,270, НРООв, 2/г)</td>\n",
       "      <td>1</td>\n",
       "      <td>1</td>\n",
       "      <td>1</td>\n",
       "      <td>изумрудпм</td>\n",
       "      <td>1,270</td>\n",
       "      <td>нроов</td>\n",
       "      <td>2/г</td>\n",
       "      <td>2</td>\n",
       "      <td>г</td>\n",
       "    </tr>\n",
       "    <tr>\n",
       "      <th>249</th>\n",
       "      <td>ЦБ-00019921</td>\n",
       "      <td>1ИзумрудПМ-0,100-НРОКр+4/Г3 4Кр57-0,040-2/4А</td>\n",
       "      <td>1изумрудпм-0,100-нрокр+4/г3 4кр57-0,040-2/4а</td>\n",
       "      <td>[(1, ИзумрудПМ, 0,100, НРОКр, 4/Г3)]</td>\n",
       "      <td>(1, ИзумрудПМ, 0,100, НРОКр, 4/Г3)</td>\n",
       "      <td>1</td>\n",
       "      <td>1</td>\n",
       "      <td>1</td>\n",
       "      <td>изумрудпм</td>\n",
       "      <td>0,100</td>\n",
       "      <td>нрокр</td>\n",
       "      <td>4/г3</td>\n",
       "      <td>4</td>\n",
       "      <td>г3</td>\n",
       "    </tr>\n",
       "    <tr>\n",
       "      <th>345</th>\n",
       "      <td>ЦБ-00090311</td>\n",
       "      <td>1ИзумрудПМ-0,234-НРОКр+3/Г2 6Кр57-0,148-2/2А 2...</td>\n",
       "      <td>1изумрудпм-0,234-нрокр+3/г2 6кр57-0,148-2/2а 2...</td>\n",
       "      <td>[(1, ИзумрудПМ, 0,234, НРОКр, 3/Г2)]</td>\n",
       "      <td>(1, ИзумрудПМ, 0,234, НРОКр, 3/Г2)</td>\n",
       "      <td>1</td>\n",
       "      <td>1</td>\n",
       "      <td>1</td>\n",
       "      <td>изумрудпм</td>\n",
       "      <td>0,234</td>\n",
       "      <td>нрокр</td>\n",
       "      <td>3/г2</td>\n",
       "      <td>3</td>\n",
       "      <td>г2</td>\n",
       "    </tr>\n",
       "    <tr>\n",
       "      <th>372</th>\n",
       "      <td>ЦБ-00163308</td>\n",
       "      <td>1ИзумрудПМ-0,340-НРООв+3/Г3 12Кр17-0,030-2/2А</td>\n",
       "      <td>1изумрудпм-0,340-нроов+3/г3 12кр17-0,030-2/2а</td>\n",
       "      <td>[(1, ИзумрудПМ, 0,340, НРООв, 3/Г3)]</td>\n",
       "      <td>(1, ИзумрудПМ, 0,340, НРООв, 3/Г3)</td>\n",
       "      <td>1</td>\n",
       "      <td>1</td>\n",
       "      <td>1</td>\n",
       "      <td>изумрудпм</td>\n",
       "      <td>0,340</td>\n",
       "      <td>нроов</td>\n",
       "      <td>3/г3</td>\n",
       "      <td>3</td>\n",
       "      <td>г3</td>\n",
       "    </tr>\n",
       "    <tr>\n",
       "      <th>374</th>\n",
       "      <td>ЦБ-00163310</td>\n",
       "      <td>1ИзумрудПМ-0,159-НРОКр+3/Г2 12Кр57-0,113-3/4А</td>\n",
       "      <td>1изумрудпм-0,159-нрокр+3/г2 12кр57-0,113-3/4а</td>\n",
       "      <td>[(1, ИзумрудПМ, 0,159, НРОКр, 3/Г2)]</td>\n",
       "      <td>(1, ИзумрудПМ, 0,159, НРОКр, 3/Г2)</td>\n",
       "      <td>1</td>\n",
       "      <td>1</td>\n",
       "      <td>1</td>\n",
       "      <td>изумрудпм</td>\n",
       "      <td>0,159</td>\n",
       "      <td>нрокр</td>\n",
       "      <td>3/г2</td>\n",
       "      <td>3</td>\n",
       "      <td>г2</td>\n",
       "    </tr>\n",
       "    <tr>\n",
       "      <th>...</th>\n",
       "      <td>...</td>\n",
       "      <td>...</td>\n",
       "      <td>...</td>\n",
       "      <td>...</td>\n",
       "      <td>...</td>\n",
       "      <td>...</td>\n",
       "      <td>...</td>\n",
       "      <td>...</td>\n",
       "      <td>...</td>\n",
       "      <td>...</td>\n",
       "      <td>...</td>\n",
       "      <td>...</td>\n",
       "      <td>...</td>\n",
       "      <td>...</td>\n",
       "    </tr>\n",
       "    <tr>\n",
       "      <th>31958</th>\n",
       "      <td>ЦБ-00171233</td>\n",
       "      <td>4ИзумрудПМ-0,540-кр+3/Г3 2КР57-0,030-3/4А</td>\n",
       "      <td>4изумрудпм-0,540-кр+3/г3 2кр57-0,030-3/4а</td>\n",
       "      <td>[(4, ИзумрудПМ, 0,540, кр, 3/Г3)]</td>\n",
       "      <td>(4, ИзумрудПМ, 0,540, кр, 3/Г3)</td>\n",
       "      <td>1</td>\n",
       "      <td>1</td>\n",
       "      <td>4</td>\n",
       "      <td>изумрудпм</td>\n",
       "      <td>0,540</td>\n",
       "      <td>кр</td>\n",
       "      <td>3/г3</td>\n",
       "      <td>3</td>\n",
       "      <td>г3</td>\n",
       "    </tr>\n",
       "    <tr>\n",
       "      <th>31971</th>\n",
       "      <td>ЦБ-00171334</td>\n",
       "      <td>2ИзумрудПМ-0,270-м+2/Г2 20КР57-0,240-3/5А</td>\n",
       "      <td>2изумрудпм-0,270-м+2/г2 20кр57-0,240-3/5а</td>\n",
       "      <td>[(2, ИзумрудПМ, 0,270, м, 2/Г2)]</td>\n",
       "      <td>(2, ИзумрудПМ, 0,270, м, 2/Г2)</td>\n",
       "      <td>1</td>\n",
       "      <td>1</td>\n",
       "      <td>2</td>\n",
       "      <td>изумрудпм</td>\n",
       "      <td>0,270</td>\n",
       "      <td>м</td>\n",
       "      <td>2/г2</td>\n",
       "      <td>2</td>\n",
       "      <td>г2</td>\n",
       "    </tr>\n",
       "    <tr>\n",
       "      <th>31975</th>\n",
       "      <td>ЦБ-00171360</td>\n",
       "      <td>2ИзумрудПМ-0,670-пр+5/Г1 2КР57-0,030-3/3А</td>\n",
       "      <td>2изумрудпм-0,670-пр+5/г1 2кр57-0,030-3/3а</td>\n",
       "      <td>[(2, ИзумрудПМ, 0,670, пр, 5/Г1)]</td>\n",
       "      <td>(2, ИзумрудПМ, 0,670, пр, 5/Г1)</td>\n",
       "      <td>1</td>\n",
       "      <td>1</td>\n",
       "      <td>2</td>\n",
       "      <td>изумрудпм</td>\n",
       "      <td>0,670</td>\n",
       "      <td>пр</td>\n",
       "      <td>5/г1</td>\n",
       "      <td>5</td>\n",
       "      <td>г1</td>\n",
       "    </tr>\n",
       "    <tr>\n",
       "      <th>32597</th>\n",
       "      <td>ЦБ-00177187</td>\n",
       "      <td>2ИзумрудПМ-0,166-НРОКр+3/Г3 6Кр57-0,076-4/5А 6...</td>\n",
       "      <td>2изумрудпм-0,166-нрокр+3/г3 6кр57-0,076-4/5а 6...</td>\n",
       "      <td>[(2, ИзумрудПМ, 0,166, НРОКр, 3/Г3)]</td>\n",
       "      <td>(2, ИзумрудПМ, 0,166, НРОКр, 3/Г3)</td>\n",
       "      <td>1</td>\n",
       "      <td>1</td>\n",
       "      <td>2</td>\n",
       "      <td>изумрудпм</td>\n",
       "      <td>0,166</td>\n",
       "      <td>нрокр</td>\n",
       "      <td>3/г3</td>\n",
       "      <td>3</td>\n",
       "      <td>г3</td>\n",
       "    </tr>\n",
       "    <tr>\n",
       "      <th>32933</th>\n",
       "      <td>ЦБ-00181335</td>\n",
       "      <td>6ИзумрудПМ-0,203-НРОКр+3/Г3 6КР57-0,244-3/4А</td>\n",
       "      <td>6изумрудпм-0,203-нрокр+3/г3 6кр57-0,244-3/4а</td>\n",
       "      <td>[(6, ИзумрудПМ, 0,203, НРОКр, 3/Г3)]</td>\n",
       "      <td>(6, ИзумрудПМ, 0,203, НРОКр, 3/Г3)</td>\n",
       "      <td>1</td>\n",
       "      <td>1</td>\n",
       "      <td>6</td>\n",
       "      <td>изумрудпм</td>\n",
       "      <td>0,203</td>\n",
       "      <td>нрокр</td>\n",
       "      <td>3/г3</td>\n",
       "      <td>3</td>\n",
       "      <td>г3</td>\n",
       "    </tr>\n",
       "  </tbody>\n",
       "</table>\n",
       "<p>309 rows × 14 columns</p>\n",
       "</div>"
      ],
      "text/plain": [
       "               Код                                        Вставки_д28  \\\n",
       "160    ЦБ-00019785       1ИзумрудПМ-1,270-НРООв+2/гз 7Кр57-0,100-3/3А   \n",
       "249    ЦБ-00019921       1ИзумрудПМ-0,100-НРОКр+4/Г3 4Кр57-0,040-2/4А   \n",
       "345    ЦБ-00090311  1ИзумрудПМ-0,234-НРОКр+3/Г2 6Кр57-0,148-2/2А 2...   \n",
       "372    ЦБ-00163308      1ИзумрудПМ-0,340-НРООв+3/Г3 12Кр17-0,030-2/2А   \n",
       "374    ЦБ-00163310      1ИзумрудПМ-0,159-НРОКр+3/Г2 12Кр57-0,113-3/4А   \n",
       "...            ...                                                ...   \n",
       "31958  ЦБ-00171233          4ИзумрудПМ-0,540-кр+3/Г3 2КР57-0,030-3/4А   \n",
       "31971  ЦБ-00171334          2ИзумрудПМ-0,270-м+2/Г2 20КР57-0,240-3/5А   \n",
       "31975  ЦБ-00171360          2ИзумрудПМ-0,670-пр+5/Г1 2КР57-0,030-3/3А   \n",
       "32597  ЦБ-00177187  2ИзумрудПМ-0,166-НРОКр+3/Г3 6Кр57-0,076-4/5А 6...   \n",
       "32933  ЦБ-00181335       6ИзумрудПМ-0,203-НРОКр+3/Г3 6КР57-0,244-3/4А   \n",
       "\n",
       "                                                emeralds  \\\n",
       "160         1изумрудпм-1,270-нроов+2/гз 7кр57-0,100-3/3а   \n",
       "249         1изумрудпм-0,100-нрокр+4/г3 4кр57-0,040-2/4а   \n",
       "345    1изумрудпм-0,234-нрокр+3/г2 6кр57-0,148-2/2а 2...   \n",
       "372        1изумрудпм-0,340-нроов+3/г3 12кр17-0,030-2/2а   \n",
       "374        1изумрудпм-0,159-нрокр+3/г2 12кр57-0,113-3/4а   \n",
       "...                                                  ...   \n",
       "31958          4изумрудпм-0,540-кр+3/г3 2кр57-0,030-3/4а   \n",
       "31971          2изумрудпм-0,270-м+2/г2 20кр57-0,240-3/5а   \n",
       "31975          2изумрудпм-0,670-пр+5/г1 2кр57-0,030-3/3а   \n",
       "32597  2изумрудпм-0,166-нрокр+3/г3 6кр57-0,076-4/5а 6...   \n",
       "32933       6изумрудпм-0,203-нрокр+3/г3 6кр57-0,244-3/4а   \n",
       "\n",
       "                                       re01  \\\n",
       "160     [(1, ИзумрудПМ, 1,270, НРООв, 2/г)]   \n",
       "249    [(1, ИзумрудПМ, 0,100, НРОКр, 4/Г3)]   \n",
       "345    [(1, ИзумрудПМ, 0,234, НРОКр, 3/Г2)]   \n",
       "372    [(1, ИзумрудПМ, 0,340, НРООв, 3/Г3)]   \n",
       "374    [(1, ИзумрудПМ, 0,159, НРОКр, 3/Г2)]   \n",
       "...                                     ...   \n",
       "31958     [(4, ИзумрудПМ, 0,540, кр, 3/Г3)]   \n",
       "31971      [(2, ИзумрудПМ, 0,270, м, 2/Г2)]   \n",
       "31975     [(2, ИзумрудПМ, 0,670, пр, 5/Г1)]   \n",
       "32597  [(2, ИзумрудПМ, 0,166, НРОКр, 3/Г3)]   \n",
       "32933  [(6, ИзумрудПМ, 0,203, НРОКр, 3/Г3)]   \n",
       "\n",
       "                             emerald_list  len_jem  len_em PCS        GEM  \\\n",
       "160     (1, ИзумрудПМ, 1,270, НРООв, 2/г)        1       1   1  изумрудпм   \n",
       "249    (1, ИзумрудПМ, 0,100, НРОКр, 4/Г3)        1       1   1  изумрудпм   \n",
       "345    (1, ИзумрудПМ, 0,234, НРОКр, 3/Г2)        1       1   1  изумрудпм   \n",
       "372    (1, ИзумрудПМ, 0,340, НРООв, 3/Г3)        1       1   1  изумрудпм   \n",
       "374    (1, ИзумрудПМ, 0,159, НРОКр, 3/Г2)        1       1   1  изумрудпм   \n",
       "...                                   ...      ...     ...  ..        ...   \n",
       "31958     (4, ИзумрудПМ, 0,540, кр, 3/Г3)        1       1   4  изумрудпм   \n",
       "31971      (2, ИзумрудПМ, 0,270, м, 2/Г2)        1       1   2  изумрудпм   \n",
       "31975     (2, ИзумрудПМ, 0,670, пр, 5/Г1)        1       1   2  изумрудпм   \n",
       "32597  (2, ИзумрудПМ, 0,166, НРОКр, 3/Г3)        1       1   2  изумрудпм   \n",
       "32933  (6, ИзумрудПМ, 0,203, НРОКр, 3/Г3)        1       1   6  изумрудпм   \n",
       "\n",
       "       CARAT   FORM    CQ  C   Q  \n",
       "160    1,270  нроов   2/г  2   г  \n",
       "249    0,100  нрокр  4/г3  4  г3  \n",
       "345    0,234  нрокр  3/г2  3  г2  \n",
       "372    0,340  нроов  3/г3  3  г3  \n",
       "374    0,159  нрокр  3/г2  3  г2  \n",
       "...      ...    ...   ... ..  ..  \n",
       "31958  0,540     кр  3/г3  3  г3  \n",
       "31971  0,270      м  2/г2  2  г2  \n",
       "31975  0,670     пр  5/г1  5  г1  \n",
       "32597  0,166  нрокр  3/г3  3  г3  \n",
       "32933  0,203  нрокр  3/г3  3  г3  \n",
       "\n",
       "[309 rows x 14 columns]"
      ]
     },
     "execution_count": 313,
     "metadata": {},
     "output_type": "execute_result"
    }
   ],
   "source": [
    "df_exp"
   ]
  },
  {
   "cell_type": "code",
   "execution_count": 469,
   "id": "ee1de2a9",
   "metadata": {},
   "outputs": [
    {
     "data": {
      "text/plain": [
       "True"
      ]
     },
     "execution_count": 469,
     "metadata": {},
     "output_type": "execute_result"
    }
   ],
   "source": [
    "df_exp['C'].apply(lambda x: x in dcol_em_sto).all()"
   ]
  },
  {
   "cell_type": "code",
   "execution_count": 467,
   "id": "5460aced",
   "metadata": {},
   "outputs": [
    {
     "data": {
      "text/plain": [
       "{'help': ['К1К2Г1Г2Г3'],\n",
       " 'г3': 'Г3',\n",
       " 'г2': 'Г2',\n",
       " 'г1': 'Г1',\n",
       " 'к1': 'К1',\n",
       " 'к2': 'К2',\n",
       " 'k1': 'К1',\n",
       " 'k2': 'К2'}"
      ]
     },
     "execution_count": 467,
     "metadata": {},
     "output_type": "execute_result"
    }
   ],
   "source": [
    "dcla_em_sto"
   ]
  },
  {
   "cell_type": "code",
   "execution_count": null,
   "id": "62f7181e",
   "metadata": {},
   "outputs": [],
   "source": [
    "vstavki_d.Д.apply(lambda x: x in dcla_dia).unique()"
   ]
  },
  {
   "cell_type": "code",
   "execution_count": null,
   "id": "157f6441",
   "metadata": {},
   "outputs": [],
   "source": []
  },
  {
   "cell_type": "markdown",
   "id": "53c10539",
   "metadata": {},
   "source": [
    "## Формирование словарей"
   ]
  },
  {
   "cell_type": "code",
   "execution_count": 457,
   "id": "4f9d41e4",
   "metadata": {},
   "outputs": [],
   "source": [
    "from rusprice.dictdiamonds import dcol_dia, dcla_dia, dpo_dia, dogr_dia_discount"
   ]
  },
  {
   "cell_type": "markdown",
   "id": "fbe81ddc",
   "metadata": {},
   "source": [
    "цвет ['1' '2' '3' '4' '5']\n",
    "чистота ['К1' 'К2' 'Г1' 'Г2' 'Г3']"
   ]
  },
  {
   "cell_type": "code",
   "execution_count": 655,
   "id": "f0670648",
   "metadata": {},
   "outputs": [],
   "source": [
    "dcol_em_sto = {'help':['1', '2', '3', '4', '5'],\n",
    "               '1':'1' ,\n",
    "               '2':'2' , \n",
    "               '3':'3' ,\n",
    "               '4':'4',  \n",
    "               '5':'5'}"
   ]
  },
  {
   "cell_type": "code",
   "execution_count": 656,
   "id": "f1ac772b",
   "metadata": {},
   "outputs": [],
   "source": [
    "dcla_em_sto = {'help':['К1', 'К2', 'Г1', 'Г2', 'Г3'],\n",
    "                   'г3':'Г3',\n",
    "                   'г2':'Г2',\n",
    "                   'г1':'Г1',\n",
    "                   'к1':'К1', \n",
    "                   'к2':'К2',\n",
    "                   'k1':'К1' , \n",
    "                   'k2':'К2'}\n",
    "                   #   "
   ]
  },
  {
   "cell_type": "code",
   "execution_count": null,
   "id": "f19c5ebe",
   "metadata": {},
   "outputs": [],
   "source": []
  },
  {
   "cell_type": "code",
   "execution_count": null,
   "id": "ce6f36a5",
   "metadata": {},
   "outputs": [],
   "source": []
  },
  {
   "cell_type": "code",
   "execution_count": 789,
   "id": "e0b566fe",
   "metadata": {},
   "outputs": [
    {
     "name": "stdout",
     "output_type": "stream",
     "text": [
      "Writing module_prgem.dictemeralds.py\n"
     ]
    }
   ],
   "source": [
    "#%%writefile module_prgem.dictemeralds.py\n",
    "#словари для изумрудов СТО по прейскуранту \n",
    "#цвет ['1', '2', '3', '4', '5']\n",
    "#чистота ['К1', 'К2', 'Г1', 'Г2', 'Г3']\n",
    "\n",
    "dcol_em_sto = {'help':['1', '2', '3', '4', '5'],\n",
    "               '1':'1' ,\n",
    "               '2':'2' , \n",
    "               '3':'3' ,\n",
    "               '4':'4',  \n",
    "               '5':'5'}\n",
    "\n",
    "dcla_em_sto = {'help':['К1', 'К2', 'Г1', 'Г2', 'Г3'],\n",
    "                   'г3':'Г3',\n",
    "                   'г2':'Г2',\n",
    "                   'г1':'Г1',\n",
    "                   'к1':'К1', \n",
    "                   'к2':'К2',\n",
    "                   'k1':'К1' , \n",
    "                   'k2':'К2'}\n",
    "                   \n",
    "\n",
    "\n",
    "\n"
   ]
  },
  {
   "cell_type": "code",
   "execution_count": 792,
   "id": "64ea7fb7",
   "metadata": {},
   "outputs": [],
   "source": []
  },
  {
   "cell_type": "code",
   "execution_count": 314,
   "id": "5e15925e",
   "metadata": {},
   "outputs": [
    {
     "data": {
      "text/plain": [
       "array(['2', '4', '3', '5', '1'], dtype=object)"
      ]
     },
     "execution_count": 314,
     "metadata": {},
     "output_type": "execute_result"
    }
   ],
   "source": [
    "df_exp['C'].unique()"
   ]
  },
  {
   "cell_type": "code",
   "execution_count": 315,
   "id": "037eed40",
   "metadata": {},
   "outputs": [
    {
     "data": {
      "text/plain": [
       "array(['г', 'г3', 'г2', 'к1', 'г1', 'к3'], dtype=object)"
      ]
     },
     "execution_count": 315,
     "metadata": {},
     "output_type": "execute_result"
    }
   ],
   "source": [
    "df_exp['Q'].unique()"
   ]
  },
  {
   "cell_type": "code",
   "execution_count": 319,
   "id": "c82c828f",
   "metadata": {},
   "outputs": [
    {
     "data": {
      "text/plain": [
       "array(['1', '3', '2', '', '218', '32', '7', '5', '4', '12', '6', '8',\n",
       "       '17', '48', '18', '60'], dtype=object)"
      ]
     },
     "execution_count": 319,
     "metadata": {},
     "output_type": "execute_result"
    }
   ],
   "source": [
    "df_exp['PCS'].unique()"
   ]
  },
  {
   "cell_type": "code",
   "execution_count": null,
   "id": "a34f794b",
   "metadata": {},
   "outputs": [],
   "source": [
    "df_exp[df_exp['PCS']=='']"
   ]
  },
  {
   "cell_type": "code",
   "execution_count": 318,
   "id": "db8f26f7",
   "metadata": {
    "scrolled": true
   },
   "outputs": [
    {
     "data": {
      "text/plain": [
       "160      1.270\n",
       "249      0.100\n",
       "345      0.234\n",
       "372      0.340\n",
       "374      0.159\n",
       "         ...  \n",
       "31958    0.540\n",
       "31971    0.270\n",
       "31975    0.670\n",
       "32597    0.166\n",
       "32933    0.203\n",
       "Name: CARAT, Length: 309, dtype: float64"
      ]
     },
     "execution_count": 318,
     "metadata": {},
     "output_type": "execute_result"
    }
   ],
   "source": [
    "df_exp['CARAT'].str.replace(',','.').astype('float')"
   ]
  },
  {
   "cell_type": "markdown",
   "id": "67a747c2",
   "metadata": {},
   "source": [
    "### Разработка продолжается средняя масса dfx = df_exp tests_errors= list()"
   ]
  },
  {
   "cell_type": "code",
   "execution_count": 552,
   "id": "5290a338",
   "metadata": {},
   "outputs": [],
   "source": [
    "tests_errors= list()"
   ]
  },
  {
   "cell_type": "code",
   "execution_count": 528,
   "id": "6157aef2",
   "metadata": {},
   "outputs": [],
   "source": [
    "#tests_errors.extend(['qq,','wwwww'])"
   ]
  },
  {
   "cell_type": "code",
   "execution_count": 553,
   "id": "fd4f25ff",
   "metadata": {},
   "outputs": [
    {
     "data": {
      "text/plain": [
       "[]"
      ]
     },
     "execution_count": 553,
     "metadata": {},
     "output_type": "execute_result"
    }
   ],
   "source": [
    "tests_errors"
   ]
  },
  {
   "cell_type": "code",
   "execution_count": 512,
   "id": "615aa9d8",
   "metadata": {},
   "outputs": [],
   "source": [
    " dfx = df_exp"
   ]
  },
  {
   "cell_type": "code",
   "execution_count": 514,
   "id": "60249d20",
   "metadata": {},
   "outputs": [
    {
     "data": {
      "text/plain": [
       "Index(['Код', 'Вставки_д28', 'emeralds', 're01', 'emerald_list', 'len_jem',\n",
       "       'len_em', 'PCS', 'GEM', 'CARAT', 'FORM', 'CQ', 'C', 'Q'],\n",
       "      dtype='object')"
      ]
     },
     "execution_count": 514,
     "metadata": {},
     "output_type": "execute_result"
    }
   ],
   "source": [
    "dfx.columns"
   ]
  },
  {
   "cell_type": "code",
   "execution_count": null,
   "id": "358cbae6",
   "metadata": {},
   "outputs": [],
   "source": []
  },
  {
   "cell_type": "code",
   "execution_count": 568,
   "id": "6d210684",
   "metadata": {},
   "outputs": [],
   "source": [
    "dfx['CARAT'] = dfx['CARAT'].str.replace(',','.').astype('float')"
   ]
  },
  {
   "cell_type": "code",
   "execution_count": 543,
   "id": "810cc20f",
   "metadata": {},
   "outputs": [
    {
     "data": {
      "text/plain": [
       "1181     ИзумрудПМ-7,900-И41+4/Г3 59КР57-0,690-4/4А 43К...\n",
       "25598          ИзумрудПМ-0,280-НРООв+3/Г3 3КР57-0,040-3/3А\n",
       "Name: Вставки_д28, dtype: object"
      ]
     },
     "execution_count": 543,
     "metadata": {},
     "output_type": "execute_result"
    }
   ],
   "source": [
    "dfx[dfx['PCS']=='']['Вставки_д28']"
   ]
  },
  {
   "cell_type": "code",
   "execution_count": 544,
   "id": "12c6bb90",
   "metadata": {},
   "outputs": [],
   "source": [
    "del_ind = _.index"
   ]
  },
  {
   "cell_type": "code",
   "execution_count": 554,
   "id": "746b8900",
   "metadata": {},
   "outputs": [],
   "source": [
    "tests_errors.extend(list(dfx.loc[del_ind, 'Вставки_д28']))"
   ]
  },
  {
   "cell_type": "code",
   "execution_count": 555,
   "id": "1880371d",
   "metadata": {},
   "outputs": [
    {
     "data": {
      "text/plain": [
       "['ИзумрудПМ-7,900-И41+4/Г3 59КР57-0,690-4/4А 43КР57-0,800-3/5А',\n",
       " 'ИзумрудПМ-0,280-НРООв+3/Г3 3КР57-0,040-3/3А']"
      ]
     },
     "execution_count": 555,
     "metadata": {},
     "output_type": "execute_result"
    }
   ],
   "source": [
    "tests_errors"
   ]
  },
  {
   "cell_type": "code",
   "execution_count": 556,
   "id": "4a973005",
   "metadata": {},
   "outputs": [],
   "source": [
    "dfx.drop(index=del_ind, inplace=True)"
   ]
  },
  {
   "cell_type": "code",
   "execution_count": 560,
   "id": "8e8d568a",
   "metadata": {},
   "outputs": [],
   "source": [
    "dfx['PCS'] = dfx['PCS'].astype('int')"
   ]
  },
  {
   "cell_type": "code",
   "execution_count": 562,
   "id": "4af787c2",
   "metadata": {},
   "outputs": [],
   "source": [
    " dfx['C'] = dfx['C'].map(dcol_em_sto)#, 'Q'"
   ]
  },
  {
   "cell_type": "code",
   "execution_count": 563,
   "id": "16e18bbd",
   "metadata": {},
   "outputs": [],
   "source": [
    " dfx['Q'] = dfx['Q'].map(dcla_em_sto)#, "
   ]
  },
  {
   "cell_type": "code",
   "execution_count": 565,
   "id": "cf2857b7",
   "metadata": {},
   "outputs": [],
   "source": [
    " dfx['CARAT_1'] = dfx['CARAT']/dfx['PCS']"
   ]
  },
  {
   "cell_type": "code",
   "execution_count": null,
   "id": "e2c8e731",
   "metadata": {},
   "outputs": [],
   "source": []
  },
  {
   "cell_type": "code",
   "execution_count": 567,
   "id": "77b73ad6",
   "metadata": {},
   "outputs": [
    {
     "data": {
      "text/plain": [
       "PCS          int32\n",
       "GEM         object\n",
       "CARAT      float64\n",
       "FORM        object\n",
       "CQ          object\n",
       "C           object\n",
       "Q           object\n",
       "CARAT_1    float64\n",
       "dtype: object"
      ]
     },
     "execution_count": 567,
     "metadata": {},
     "output_type": "execute_result"
    }
   ],
   "source": [
    "dfx[[ 'PCS', 'GEM', 'CARAT', 'FORM', 'CQ', 'C', 'Q','CARAT_1']].dtypes"
   ]
  },
  {
   "cell_type": "code",
   "execution_count": 603,
   "id": "5b751a1f",
   "metadata": {},
   "outputs": [
    {
     "data": {
      "text/plain": [
       "160      1.270000\n",
       "249      0.100000\n",
       "345      0.234000\n",
       "372      0.340000\n",
       "374      0.159000\n",
       "           ...   \n",
       "31958    0.135000\n",
       "31971    0.135000\n",
       "31975    0.335000\n",
       "32597    0.083000\n",
       "32933    0.033833\n",
       "Name: CARAT_1, Length: 307, dtype: float64"
      ]
     },
     "execution_count": 603,
     "metadata": {},
     "output_type": "execute_result"
    }
   ],
   "source": [
    "dfx['CARAT_1']"
   ]
  },
  {
   "cell_type": "code",
   "execution_count": null,
   "id": "0a81eaf0",
   "metadata": {},
   "outputs": [],
   "source": []
  },
  {
   "cell_type": "code",
   "execution_count": null,
   "id": "13e5db0f",
   "metadata": {},
   "outputs": [],
   "source": []
  },
  {
   "cell_type": "code",
   "execution_count": 859,
   "id": "6a23f732",
   "metadata": {},
   "outputs": [
    {
     "data": {
      "text/html": [
       "<div>\n",
       "<style scoped>\n",
       "    .dataframe tbody tr th:only-of-type {\n",
       "        vertical-align: middle;\n",
       "    }\n",
       "\n",
       "    .dataframe tbody tr th {\n",
       "        vertical-align: top;\n",
       "    }\n",
       "\n",
       "    .dataframe thead th {\n",
       "        text-align: right;\n",
       "    }\n",
       "</style>\n",
       "<table border=\"1\" class=\"dataframe\">\n",
       "  <thead>\n",
       "    <tr style=\"text-align: right;\">\n",
       "      <th></th>\n",
       "      <th>ТУ</th>\n",
       "      <th>Обработка</th>\n",
       "      <th>Огранка</th>\n",
       "      <th>цвет</th>\n",
       "      <th>чистота</th>\n",
       "      <th>size</th>\n",
       "      <th>price</th>\n",
       "    </tr>\n",
       "  </thead>\n",
       "  <tbody>\n",
       "    <tr>\n",
       "      <th>0</th>\n",
       "      <td>СТО</td>\n",
       "      <td>промасливание (O) и заполнение трещин (F)</td>\n",
       "      <td>кобашенный вид огранки</td>\n",
       "      <td>1</td>\n",
       "      <td>К1</td>\n",
       "      <td>до 0,49</td>\n",
       "      <td>120</td>\n",
       "    </tr>\n",
       "    <tr>\n",
       "      <th>1</th>\n",
       "      <td>СТО</td>\n",
       "      <td>промасливание (O) и заполнение трещин (F)</td>\n",
       "      <td>кобашенный вид огранки</td>\n",
       "      <td>1</td>\n",
       "      <td>К2</td>\n",
       "      <td>до 0,49</td>\n",
       "      <td>75</td>\n",
       "    </tr>\n",
       "    <tr>\n",
       "      <th>2</th>\n",
       "      <td>СТО</td>\n",
       "      <td>промасливание (O) и заполнение трещин (F)</td>\n",
       "      <td>кобашенный вид огранки</td>\n",
       "      <td>2</td>\n",
       "      <td>К1</td>\n",
       "      <td>до 0,49</td>\n",
       "      <td>75</td>\n",
       "    </tr>\n",
       "    <tr>\n",
       "      <th>3</th>\n",
       "      <td>СТО</td>\n",
       "      <td>промасливание (O) и заполнение трещин (F)</td>\n",
       "      <td>кобашенный вид огранки</td>\n",
       "      <td>2</td>\n",
       "      <td>К2</td>\n",
       "      <td>до 0,49</td>\n",
       "      <td>45</td>\n",
       "    </tr>\n",
       "    <tr>\n",
       "      <th>4</th>\n",
       "      <td>СТО</td>\n",
       "      <td>промасливание (O) и заполнение трещин (F)</td>\n",
       "      <td>кобашенный вид огранки</td>\n",
       "      <td>3</td>\n",
       "      <td>К1</td>\n",
       "      <td>до 0,49</td>\n",
       "      <td>55</td>\n",
       "    </tr>\n",
       "    <tr>\n",
       "      <th>...</th>\n",
       "      <td>...</td>\n",
       "      <td>...</td>\n",
       "      <td>...</td>\n",
       "      <td>...</td>\n",
       "      <td>...</td>\n",
       "      <td>...</td>\n",
       "      <td>...</td>\n",
       "    </tr>\n",
       "    <tr>\n",
       "      <th>225</th>\n",
       "      <td>СТО</td>\n",
       "      <td>промасливание (O) и заполнение трещин (F)</td>\n",
       "      <td>фацетный вид огранки</td>\n",
       "      <td>4</td>\n",
       "      <td>Г2</td>\n",
       "      <td>4,00-4,99</td>\n",
       "      <td>250</td>\n",
       "    </tr>\n",
       "    <tr>\n",
       "      <th>226</th>\n",
       "      <td>СТО</td>\n",
       "      <td>промасливание (O) и заполнение трещин (F)</td>\n",
       "      <td>фацетный вид огранки</td>\n",
       "      <td>4</td>\n",
       "      <td>Г3</td>\n",
       "      <td>4,00-4,99</td>\n",
       "      <td>170</td>\n",
       "    </tr>\n",
       "    <tr>\n",
       "      <th>227</th>\n",
       "      <td>СТО</td>\n",
       "      <td>промасливание (O) и заполнение трещин (F)</td>\n",
       "      <td>фацетный вид огранки</td>\n",
       "      <td>5</td>\n",
       "      <td>Г1</td>\n",
       "      <td>4,00-4,99</td>\n",
       "      <td>50</td>\n",
       "    </tr>\n",
       "    <tr>\n",
       "      <th>228</th>\n",
       "      <td>СТО</td>\n",
       "      <td>промасливание (O) и заполнение трещин (F)</td>\n",
       "      <td>фацетный вид огранки</td>\n",
       "      <td>5</td>\n",
       "      <td>Г2</td>\n",
       "      <td>4,00-4,99</td>\n",
       "      <td>30</td>\n",
       "    </tr>\n",
       "    <tr>\n",
       "      <th>229</th>\n",
       "      <td>СТО</td>\n",
       "      <td>промасливание (O) и заполнение трещин (F)</td>\n",
       "      <td>фацетный вид огранки</td>\n",
       "      <td>5</td>\n",
       "      <td>Г3</td>\n",
       "      <td>4,00-4,99</td>\n",
       "      <td>18</td>\n",
       "    </tr>\n",
       "  </tbody>\n",
       "</table>\n",
       "<p>230 rows × 7 columns</p>\n",
       "</div>"
      ],
      "text/plain": [
       "      ТУ                                  Обработка                 Огранка  \\\n",
       "0    СТО  промасливание (O) и заполнение трещин (F)  кобашенный вид огранки   \n",
       "1    СТО  промасливание (O) и заполнение трещин (F)  кобашенный вид огранки   \n",
       "2    СТО  промасливание (O) и заполнение трещин (F)  кобашенный вид огранки   \n",
       "3    СТО  промасливание (O) и заполнение трещин (F)  кобашенный вид огранки   \n",
       "4    СТО  промасливание (O) и заполнение трещин (F)  кобашенный вид огранки   \n",
       "..   ...                                        ...                     ...   \n",
       "225  СТО  промасливание (O) и заполнение трещин (F)    фацетный вид огранки   \n",
       "226  СТО  промасливание (O) и заполнение трещин (F)    фацетный вид огранки   \n",
       "227  СТО  промасливание (O) и заполнение трещин (F)    фацетный вид огранки   \n",
       "228  СТО  промасливание (O) и заполнение трещин (F)    фацетный вид огранки   \n",
       "229  СТО  промасливание (O) и заполнение трещин (F)    фацетный вид огранки   \n",
       "\n",
       "     цвет чистота       size  price  \n",
       "0       1      К1    до 0,49    120  \n",
       "1       1      К2    до 0,49     75  \n",
       "2       2      К1    до 0,49     75  \n",
       "3       2      К2    до 0,49     45  \n",
       "4       3      К1    до 0,49     55  \n",
       "..    ...     ...        ...    ...  \n",
       "225     4      Г2  4,00-4,99    250  \n",
       "226     4      Г3  4,00-4,99    170  \n",
       "227     5      Г1  4,00-4,99     50  \n",
       "228     5      Г2  4,00-4,99     30  \n",
       "229     5      Г3  4,00-4,99     18  \n",
       "\n",
       "[230 rows x 7 columns]"
      ]
     },
     "execution_count": 859,
     "metadata": {},
     "output_type": "execute_result"
    }
   ],
   "source": [
    "pr_em_sto#.to_excel('module_prgem/df_pr_emeralds_sto_173_20-04-2023.xlsx', index=None)"
   ]
  },
  {
   "cell_type": "code",
   "execution_count": null,
   "id": "74522afa",
   "metadata": {},
   "outputs": [],
   "source": [
    "pr_em_sto"
   ]
  },
  {
   "cell_type": "markdown",
   "id": "6b74c01d",
   "metadata": {},
   "source": [
    "## размерности"
   ]
  },
  {
   "cell_type": "code",
   "execution_count": 690,
   "id": "51faac0e",
   "metadata": {},
   "outputs": [],
   "source": [
    "sizes_g = pr_em_sto[~pr_em_sto[['size','Огранка']].duplicated()][['size','Огранка']]"
   ]
  },
  {
   "cell_type": "code",
   "execution_count": 691,
   "id": "fd50a195",
   "metadata": {},
   "outputs": [
    {
     "data": {
      "text/html": [
       "<div>\n",
       "<style scoped>\n",
       "    .dataframe tbody tr th:only-of-type {\n",
       "        vertical-align: middle;\n",
       "    }\n",
       "\n",
       "    .dataframe tbody tr th {\n",
       "        vertical-align: top;\n",
       "    }\n",
       "\n",
       "    .dataframe thead th {\n",
       "        text-align: right;\n",
       "    }\n",
       "</style>\n",
       "<table border=\"1\" class=\"dataframe\">\n",
       "  <thead>\n",
       "    <tr style=\"text-align: right;\">\n",
       "      <th></th>\n",
       "      <th>size</th>\n",
       "      <th>Огранка</th>\n",
       "    </tr>\n",
       "  </thead>\n",
       "  <tbody>\n",
       "    <tr>\n",
       "      <th>39</th>\n",
       "      <td>до 0,49</td>\n",
       "      <td>кобашенный вид огранки</td>\n",
       "    </tr>\n",
       "    <tr>\n",
       "      <th>88</th>\n",
       "      <td>0,50-0,74</td>\n",
       "      <td>кобашенный вид огранки</td>\n",
       "    </tr>\n",
       "    <tr>\n",
       "      <th>137</th>\n",
       "      <td>0,75-0,99</td>\n",
       "      <td>кобашенный вид огранки</td>\n",
       "    </tr>\n",
       "    <tr>\n",
       "      <th>186</th>\n",
       "      <td>1,00-1,49</td>\n",
       "      <td>кобашенный вид огранки</td>\n",
       "    </tr>\n",
       "    <tr>\n",
       "      <th>235</th>\n",
       "      <td>1,50-1,99</td>\n",
       "      <td>кобашенный вид огранки</td>\n",
       "    </tr>\n",
       "    <tr>\n",
       "      <th>284</th>\n",
       "      <td>2,00-2,99</td>\n",
       "      <td>кобашенный вид огранки</td>\n",
       "    </tr>\n",
       "    <tr>\n",
       "      <th>333</th>\n",
       "      <td>3,00-3,99</td>\n",
       "      <td>кобашенный вид огранки</td>\n",
       "    </tr>\n",
       "    <tr>\n",
       "      <th>382</th>\n",
       "      <td>4,00-4,99</td>\n",
       "      <td>кобашенный вид огранки</td>\n",
       "    </tr>\n",
       "    <tr>\n",
       "      <th>39</th>\n",
       "      <td>до 0,09</td>\n",
       "      <td>фацетный вид огранки</td>\n",
       "    </tr>\n",
       "    <tr>\n",
       "      <th>93</th>\n",
       "      <td>0,10-0,24</td>\n",
       "      <td>фацетный вид огранки</td>\n",
       "    </tr>\n",
       "    <tr>\n",
       "      <th>147</th>\n",
       "      <td>0,25-0,49</td>\n",
       "      <td>фацетный вид огранки</td>\n",
       "    </tr>\n",
       "    <tr>\n",
       "      <th>201</th>\n",
       "      <td>0,50-0,74</td>\n",
       "      <td>фацетный вид огранки</td>\n",
       "    </tr>\n",
       "    <tr>\n",
       "      <th>255</th>\n",
       "      <td>0,75-0,99</td>\n",
       "      <td>фацетный вид огранки</td>\n",
       "    </tr>\n",
       "    <tr>\n",
       "      <th>309</th>\n",
       "      <td>1,00-1,49</td>\n",
       "      <td>фацетный вид огранки</td>\n",
       "    </tr>\n",
       "    <tr>\n",
       "      <th>363</th>\n",
       "      <td>1,50-1,99</td>\n",
       "      <td>фацетный вид огранки</td>\n",
       "    </tr>\n",
       "    <tr>\n",
       "      <th>417</th>\n",
       "      <td>2,00-2,99</td>\n",
       "      <td>фацетный вид огранки</td>\n",
       "    </tr>\n",
       "    <tr>\n",
       "      <th>471</th>\n",
       "      <td>3,00-3,99</td>\n",
       "      <td>фацетный вид огранки</td>\n",
       "    </tr>\n",
       "    <tr>\n",
       "      <th>525</th>\n",
       "      <td>4,00-4,99</td>\n",
       "      <td>фацетный вид огранки</td>\n",
       "    </tr>\n",
       "  </tbody>\n",
       "</table>\n",
       "</div>"
      ],
      "text/plain": [
       "          size                 Огранка\n",
       "39     до 0,49  кобашенный вид огранки\n",
       "88   0,50-0,74  кобашенный вид огранки\n",
       "137  0,75-0,99  кобашенный вид огранки\n",
       "186  1,00-1,49  кобашенный вид огранки\n",
       "235  1,50-1,99  кобашенный вид огранки\n",
       "284  2,00-2,99  кобашенный вид огранки\n",
       "333  3,00-3,99  кобашенный вид огранки\n",
       "382  4,00-4,99  кобашенный вид огранки\n",
       "39     до 0,09    фацетный вид огранки\n",
       "93   0,10-0,24    фацетный вид огранки\n",
       "147  0,25-0,49    фацетный вид огранки\n",
       "201  0,50-0,74    фацетный вид огранки\n",
       "255  0,75-0,99    фацетный вид огранки\n",
       "309  1,00-1,49    фацетный вид огранки\n",
       "363  1,50-1,99    фацетный вид огранки\n",
       "417  2,00-2,99    фацетный вид огранки\n",
       "471  3,00-3,99    фацетный вид огранки\n",
       "525  4,00-4,99    фацетный вид огранки"
      ]
     },
     "execution_count": 691,
     "metadata": {},
     "output_type": "execute_result"
    }
   ],
   "source": [
    "sizes_g "
   ]
  },
  {
   "cell_type": "code",
   "execution_count": 692,
   "id": "c0c53ef4",
   "metadata": {},
   "outputs": [],
   "source": [
    "sizes_g['size_list'] = sizes_g['size'].apply(lambda x: x.split('-'))"
   ]
  },
  {
   "cell_type": "code",
   "execution_count": 693,
   "id": "1fa23db5",
   "metadata": {},
   "outputs": [
    {
     "data": {
      "text/html": [
       "<div>\n",
       "<style scoped>\n",
       "    .dataframe tbody tr th:only-of-type {\n",
       "        vertical-align: middle;\n",
       "    }\n",
       "\n",
       "    .dataframe tbody tr th {\n",
       "        vertical-align: top;\n",
       "    }\n",
       "\n",
       "    .dataframe thead th {\n",
       "        text-align: right;\n",
       "    }\n",
       "</style>\n",
       "<table border=\"1\" class=\"dataframe\">\n",
       "  <thead>\n",
       "    <tr style=\"text-align: right;\">\n",
       "      <th></th>\n",
       "      <th>size</th>\n",
       "      <th>Огранка</th>\n",
       "      <th>size_list</th>\n",
       "    </tr>\n",
       "  </thead>\n",
       "  <tbody>\n",
       "    <tr>\n",
       "      <th>39</th>\n",
       "      <td>до 0,49</td>\n",
       "      <td>кобашенный вид огранки</td>\n",
       "      <td>[до 0,49]</td>\n",
       "    </tr>\n",
       "    <tr>\n",
       "      <th>88</th>\n",
       "      <td>0,50-0,74</td>\n",
       "      <td>кобашенный вид огранки</td>\n",
       "      <td>[0,50, 0,74]</td>\n",
       "    </tr>\n",
       "    <tr>\n",
       "      <th>137</th>\n",
       "      <td>0,75-0,99</td>\n",
       "      <td>кобашенный вид огранки</td>\n",
       "      <td>[0,75, 0,99]</td>\n",
       "    </tr>\n",
       "    <tr>\n",
       "      <th>186</th>\n",
       "      <td>1,00-1,49</td>\n",
       "      <td>кобашенный вид огранки</td>\n",
       "      <td>[1,00, 1,49]</td>\n",
       "    </tr>\n",
       "    <tr>\n",
       "      <th>235</th>\n",
       "      <td>1,50-1,99</td>\n",
       "      <td>кобашенный вид огранки</td>\n",
       "      <td>[1,50, 1,99]</td>\n",
       "    </tr>\n",
       "    <tr>\n",
       "      <th>284</th>\n",
       "      <td>2,00-2,99</td>\n",
       "      <td>кобашенный вид огранки</td>\n",
       "      <td>[2,00, 2,99]</td>\n",
       "    </tr>\n",
       "    <tr>\n",
       "      <th>333</th>\n",
       "      <td>3,00-3,99</td>\n",
       "      <td>кобашенный вид огранки</td>\n",
       "      <td>[3,00, 3,99]</td>\n",
       "    </tr>\n",
       "    <tr>\n",
       "      <th>382</th>\n",
       "      <td>4,00-4,99</td>\n",
       "      <td>кобашенный вид огранки</td>\n",
       "      <td>[4,00, 4,99]</td>\n",
       "    </tr>\n",
       "    <tr>\n",
       "      <th>39</th>\n",
       "      <td>до 0,09</td>\n",
       "      <td>фацетный вид огранки</td>\n",
       "      <td>[до 0,09]</td>\n",
       "    </tr>\n",
       "    <tr>\n",
       "      <th>93</th>\n",
       "      <td>0,10-0,24</td>\n",
       "      <td>фацетный вид огранки</td>\n",
       "      <td>[0,10, 0,24]</td>\n",
       "    </tr>\n",
       "    <tr>\n",
       "      <th>147</th>\n",
       "      <td>0,25-0,49</td>\n",
       "      <td>фацетный вид огранки</td>\n",
       "      <td>[0,25, 0,49]</td>\n",
       "    </tr>\n",
       "    <tr>\n",
       "      <th>201</th>\n",
       "      <td>0,50-0,74</td>\n",
       "      <td>фацетный вид огранки</td>\n",
       "      <td>[0,50, 0,74]</td>\n",
       "    </tr>\n",
       "    <tr>\n",
       "      <th>255</th>\n",
       "      <td>0,75-0,99</td>\n",
       "      <td>фацетный вид огранки</td>\n",
       "      <td>[0,75, 0,99]</td>\n",
       "    </tr>\n",
       "    <tr>\n",
       "      <th>309</th>\n",
       "      <td>1,00-1,49</td>\n",
       "      <td>фацетный вид огранки</td>\n",
       "      <td>[1,00, 1,49]</td>\n",
       "    </tr>\n",
       "    <tr>\n",
       "      <th>363</th>\n",
       "      <td>1,50-1,99</td>\n",
       "      <td>фацетный вид огранки</td>\n",
       "      <td>[1,50, 1,99]</td>\n",
       "    </tr>\n",
       "    <tr>\n",
       "      <th>417</th>\n",
       "      <td>2,00-2,99</td>\n",
       "      <td>фацетный вид огранки</td>\n",
       "      <td>[2,00, 2,99]</td>\n",
       "    </tr>\n",
       "    <tr>\n",
       "      <th>471</th>\n",
       "      <td>3,00-3,99</td>\n",
       "      <td>фацетный вид огранки</td>\n",
       "      <td>[3,00, 3,99]</td>\n",
       "    </tr>\n",
       "    <tr>\n",
       "      <th>525</th>\n",
       "      <td>4,00-4,99</td>\n",
       "      <td>фацетный вид огранки</td>\n",
       "      <td>[4,00, 4,99]</td>\n",
       "    </tr>\n",
       "  </tbody>\n",
       "</table>\n",
       "</div>"
      ],
      "text/plain": [
       "          size                 Огранка     size_list\n",
       "39     до 0,49  кобашенный вид огранки     [до 0,49]\n",
       "88   0,50-0,74  кобашенный вид огранки  [0,50, 0,74]\n",
       "137  0,75-0,99  кобашенный вид огранки  [0,75, 0,99]\n",
       "186  1,00-1,49  кобашенный вид огранки  [1,00, 1,49]\n",
       "235  1,50-1,99  кобашенный вид огранки  [1,50, 1,99]\n",
       "284  2,00-2,99  кобашенный вид огранки  [2,00, 2,99]\n",
       "333  3,00-3,99  кобашенный вид огранки  [3,00, 3,99]\n",
       "382  4,00-4,99  кобашенный вид огранки  [4,00, 4,99]\n",
       "39     до 0,09    фацетный вид огранки     [до 0,09]\n",
       "93   0,10-0,24    фацетный вид огранки  [0,10, 0,24]\n",
       "147  0,25-0,49    фацетный вид огранки  [0,25, 0,49]\n",
       "201  0,50-0,74    фацетный вид огранки  [0,50, 0,74]\n",
       "255  0,75-0,99    фацетный вид огранки  [0,75, 0,99]\n",
       "309  1,00-1,49    фацетный вид огранки  [1,00, 1,49]\n",
       "363  1,50-1,99    фацетный вид огранки  [1,50, 1,99]\n",
       "417  2,00-2,99    фацетный вид огранки  [2,00, 2,99]\n",
       "471  3,00-3,99    фацетный вид огранки  [3,00, 3,99]\n",
       "525  4,00-4,99    фацетный вид огранки  [4,00, 4,99]"
      ]
     },
     "execution_count": 693,
     "metadata": {},
     "output_type": "execute_result"
    }
   ],
   "source": [
    "sizes_g "
   ]
  },
  {
   "cell_type": "code",
   "execution_count": 694,
   "id": "6b58c9ec",
   "metadata": {},
   "outputs": [],
   "source": [
    "sizes_g['low_grade'] = sizes_g['size_list'].apply(lambda x: x[0].split()[0] if len(x)==1 else x[0])"
   ]
  },
  {
   "cell_type": "code",
   "execution_count": 695,
   "id": "51147dc9",
   "metadata": {},
   "outputs": [],
   "source": [
    "#sizes_g['low_grade'] = sizes_g['size_list'].apply(lambda x: 0 if len(x)==1 else x[0])"
   ]
  },
  {
   "cell_type": "code",
   "execution_count": 696,
   "id": "ec0186ef",
   "metadata": {},
   "outputs": [],
   "source": [
    "sizes_g['hi_grade'] = sizes_g['size_list'].apply(lambda x: x[0].split()[1] if len(x)==1 else x[1])"
   ]
  },
  {
   "cell_type": "code",
   "execution_count": 697,
   "id": "4e921d61",
   "metadata": {},
   "outputs": [
    {
     "data": {
      "text/plain": [
       "hi_grade     object\n",
       "low_grade    object\n",
       "dtype: object"
      ]
     },
     "execution_count": 697,
     "metadata": {},
     "output_type": "execute_result"
    }
   ],
   "source": [
    "sizes_g[['hi_grade','low_grade']].dtypes#str.replase(',','.')#astype('float')"
   ]
  },
  {
   "cell_type": "code",
   "execution_count": 698,
   "id": "02fcbb2f",
   "metadata": {},
   "outputs": [
    {
     "data": {
      "text/html": [
       "<div>\n",
       "<style scoped>\n",
       "    .dataframe tbody tr th:only-of-type {\n",
       "        vertical-align: middle;\n",
       "    }\n",
       "\n",
       "    .dataframe tbody tr th {\n",
       "        vertical-align: top;\n",
       "    }\n",
       "\n",
       "    .dataframe thead th {\n",
       "        text-align: right;\n",
       "    }\n",
       "</style>\n",
       "<table border=\"1\" class=\"dataframe\">\n",
       "  <thead>\n",
       "    <tr style=\"text-align: right;\">\n",
       "      <th></th>\n",
       "      <th>size</th>\n",
       "      <th>Огранка</th>\n",
       "      <th>size_list</th>\n",
       "      <th>low_grade</th>\n",
       "      <th>hi_grade</th>\n",
       "    </tr>\n",
       "  </thead>\n",
       "  <tbody>\n",
       "    <tr>\n",
       "      <th>39</th>\n",
       "      <td>до 0,49</td>\n",
       "      <td>кобашенный вид огранки</td>\n",
       "      <td>[до 0,49]</td>\n",
       "      <td>до</td>\n",
       "      <td>0,49</td>\n",
       "    </tr>\n",
       "    <tr>\n",
       "      <th>88</th>\n",
       "      <td>0,50-0,74</td>\n",
       "      <td>кобашенный вид огранки</td>\n",
       "      <td>[0,50, 0,74]</td>\n",
       "      <td>0,50</td>\n",
       "      <td>0,74</td>\n",
       "    </tr>\n",
       "    <tr>\n",
       "      <th>137</th>\n",
       "      <td>0,75-0,99</td>\n",
       "      <td>кобашенный вид огранки</td>\n",
       "      <td>[0,75, 0,99]</td>\n",
       "      <td>0,75</td>\n",
       "      <td>0,99</td>\n",
       "    </tr>\n",
       "    <tr>\n",
       "      <th>186</th>\n",
       "      <td>1,00-1,49</td>\n",
       "      <td>кобашенный вид огранки</td>\n",
       "      <td>[1,00, 1,49]</td>\n",
       "      <td>1,00</td>\n",
       "      <td>1,49</td>\n",
       "    </tr>\n",
       "    <tr>\n",
       "      <th>235</th>\n",
       "      <td>1,50-1,99</td>\n",
       "      <td>кобашенный вид огранки</td>\n",
       "      <td>[1,50, 1,99]</td>\n",
       "      <td>1,50</td>\n",
       "      <td>1,99</td>\n",
       "    </tr>\n",
       "    <tr>\n",
       "      <th>284</th>\n",
       "      <td>2,00-2,99</td>\n",
       "      <td>кобашенный вид огранки</td>\n",
       "      <td>[2,00, 2,99]</td>\n",
       "      <td>2,00</td>\n",
       "      <td>2,99</td>\n",
       "    </tr>\n",
       "    <tr>\n",
       "      <th>333</th>\n",
       "      <td>3,00-3,99</td>\n",
       "      <td>кобашенный вид огранки</td>\n",
       "      <td>[3,00, 3,99]</td>\n",
       "      <td>3,00</td>\n",
       "      <td>3,99</td>\n",
       "    </tr>\n",
       "    <tr>\n",
       "      <th>382</th>\n",
       "      <td>4,00-4,99</td>\n",
       "      <td>кобашенный вид огранки</td>\n",
       "      <td>[4,00, 4,99]</td>\n",
       "      <td>4,00</td>\n",
       "      <td>4,99</td>\n",
       "    </tr>\n",
       "    <tr>\n",
       "      <th>39</th>\n",
       "      <td>до 0,09</td>\n",
       "      <td>фацетный вид огранки</td>\n",
       "      <td>[до 0,09]</td>\n",
       "      <td>до</td>\n",
       "      <td>0,09</td>\n",
       "    </tr>\n",
       "    <tr>\n",
       "      <th>93</th>\n",
       "      <td>0,10-0,24</td>\n",
       "      <td>фацетный вид огранки</td>\n",
       "      <td>[0,10, 0,24]</td>\n",
       "      <td>0,10</td>\n",
       "      <td>0,24</td>\n",
       "    </tr>\n",
       "    <tr>\n",
       "      <th>147</th>\n",
       "      <td>0,25-0,49</td>\n",
       "      <td>фацетный вид огранки</td>\n",
       "      <td>[0,25, 0,49]</td>\n",
       "      <td>0,25</td>\n",
       "      <td>0,49</td>\n",
       "    </tr>\n",
       "    <tr>\n",
       "      <th>201</th>\n",
       "      <td>0,50-0,74</td>\n",
       "      <td>фацетный вид огранки</td>\n",
       "      <td>[0,50, 0,74]</td>\n",
       "      <td>0,50</td>\n",
       "      <td>0,74</td>\n",
       "    </tr>\n",
       "    <tr>\n",
       "      <th>255</th>\n",
       "      <td>0,75-0,99</td>\n",
       "      <td>фацетный вид огранки</td>\n",
       "      <td>[0,75, 0,99]</td>\n",
       "      <td>0,75</td>\n",
       "      <td>0,99</td>\n",
       "    </tr>\n",
       "    <tr>\n",
       "      <th>309</th>\n",
       "      <td>1,00-1,49</td>\n",
       "      <td>фацетный вид огранки</td>\n",
       "      <td>[1,00, 1,49]</td>\n",
       "      <td>1,00</td>\n",
       "      <td>1,49</td>\n",
       "    </tr>\n",
       "    <tr>\n",
       "      <th>363</th>\n",
       "      <td>1,50-1,99</td>\n",
       "      <td>фацетный вид огранки</td>\n",
       "      <td>[1,50, 1,99]</td>\n",
       "      <td>1,50</td>\n",
       "      <td>1,99</td>\n",
       "    </tr>\n",
       "    <tr>\n",
       "      <th>417</th>\n",
       "      <td>2,00-2,99</td>\n",
       "      <td>фацетный вид огранки</td>\n",
       "      <td>[2,00, 2,99]</td>\n",
       "      <td>2,00</td>\n",
       "      <td>2,99</td>\n",
       "    </tr>\n",
       "    <tr>\n",
       "      <th>471</th>\n",
       "      <td>3,00-3,99</td>\n",
       "      <td>фацетный вид огранки</td>\n",
       "      <td>[3,00, 3,99]</td>\n",
       "      <td>3,00</td>\n",
       "      <td>3,99</td>\n",
       "    </tr>\n",
       "    <tr>\n",
       "      <th>525</th>\n",
       "      <td>4,00-4,99</td>\n",
       "      <td>фацетный вид огранки</td>\n",
       "      <td>[4,00, 4,99]</td>\n",
       "      <td>4,00</td>\n",
       "      <td>4,99</td>\n",
       "    </tr>\n",
       "  </tbody>\n",
       "</table>\n",
       "</div>"
      ],
      "text/plain": [
       "          size                 Огранка     size_list low_grade hi_grade\n",
       "39     до 0,49  кобашенный вид огранки     [до 0,49]        до     0,49\n",
       "88   0,50-0,74  кобашенный вид огранки  [0,50, 0,74]      0,50     0,74\n",
       "137  0,75-0,99  кобашенный вид огранки  [0,75, 0,99]      0,75     0,99\n",
       "186  1,00-1,49  кобашенный вид огранки  [1,00, 1,49]      1,00     1,49\n",
       "235  1,50-1,99  кобашенный вид огранки  [1,50, 1,99]      1,50     1,99\n",
       "284  2,00-2,99  кобашенный вид огранки  [2,00, 2,99]      2,00     2,99\n",
       "333  3,00-3,99  кобашенный вид огранки  [3,00, 3,99]      3,00     3,99\n",
       "382  4,00-4,99  кобашенный вид огранки  [4,00, 4,99]      4,00     4,99\n",
       "39     до 0,09    фацетный вид огранки     [до 0,09]        до     0,09\n",
       "93   0,10-0,24    фацетный вид огранки  [0,10, 0,24]      0,10     0,24\n",
       "147  0,25-0,49    фацетный вид огранки  [0,25, 0,49]      0,25     0,49\n",
       "201  0,50-0,74    фацетный вид огранки  [0,50, 0,74]      0,50     0,74\n",
       "255  0,75-0,99    фацетный вид огранки  [0,75, 0,99]      0,75     0,99\n",
       "309  1,00-1,49    фацетный вид огранки  [1,00, 1,49]      1,00     1,49\n",
       "363  1,50-1,99    фацетный вид огранки  [1,50, 1,99]      1,50     1,99\n",
       "417  2,00-2,99    фацетный вид огранки  [2,00, 2,99]      2,00     2,99\n",
       "471  3,00-3,99    фацетный вид огранки  [3,00, 3,99]      3,00     3,99\n",
       "525  4,00-4,99    фацетный вид огранки  [4,00, 4,99]      4,00     4,99"
      ]
     },
     "execution_count": 698,
     "metadata": {},
     "output_type": "execute_result"
    }
   ],
   "source": [
    "sizes_g "
   ]
  },
  {
   "cell_type": "code",
   "execution_count": 699,
   "id": "78bf4f35",
   "metadata": {},
   "outputs": [],
   "source": [
    "sizes_g['hi_grade'] = sizes_g['hi_grade'].apply(lambda x: x.replace(',','.')).astype('float')"
   ]
  },
  {
   "cell_type": "code",
   "execution_count": 700,
   "id": "4f530fb0",
   "metadata": {},
   "outputs": [],
   "source": [
    "sizes_g['low_grade'] = sizes_g['low_grade'].apply(lambda x: x.replace(',','.') if x!='до' else 0).astype('float')"
   ]
  },
  {
   "cell_type": "code",
   "execution_count": 835,
   "id": "5b7ecebb",
   "metadata": {},
   "outputs": [
    {
     "data": {
      "text/html": [
       "<div>\n",
       "<style scoped>\n",
       "    .dataframe tbody tr th:only-of-type {\n",
       "        vertical-align: middle;\n",
       "    }\n",
       "\n",
       "    .dataframe tbody tr th {\n",
       "        vertical-align: top;\n",
       "    }\n",
       "\n",
       "    .dataframe thead th {\n",
       "        text-align: right;\n",
       "    }\n",
       "</style>\n",
       "<table border=\"1\" class=\"dataframe\">\n",
       "  <thead>\n",
       "    <tr style=\"text-align: right;\">\n",
       "      <th></th>\n",
       "      <th>size</th>\n",
       "      <th>Огранка</th>\n",
       "      <th>size_list</th>\n",
       "      <th>low_grade</th>\n",
       "      <th>hi_grade</th>\n",
       "    </tr>\n",
       "  </thead>\n",
       "  <tbody>\n",
       "    <tr>\n",
       "      <th>39</th>\n",
       "      <td>до 0,49</td>\n",
       "      <td>кобашенный вид огранки</td>\n",
       "      <td>[до 0,49]</td>\n",
       "      <td>0.00</td>\n",
       "      <td>0.49</td>\n",
       "    </tr>\n",
       "    <tr>\n",
       "      <th>88</th>\n",
       "      <td>0,50-0,74</td>\n",
       "      <td>кобашенный вид огранки</td>\n",
       "      <td>[0,50, 0,74]</td>\n",
       "      <td>0.50</td>\n",
       "      <td>0.74</td>\n",
       "    </tr>\n",
       "    <tr>\n",
       "      <th>137</th>\n",
       "      <td>0,75-0,99</td>\n",
       "      <td>кобашенный вид огранки</td>\n",
       "      <td>[0,75, 0,99]</td>\n",
       "      <td>0.75</td>\n",
       "      <td>0.99</td>\n",
       "    </tr>\n",
       "    <tr>\n",
       "      <th>186</th>\n",
       "      <td>1,00-1,49</td>\n",
       "      <td>кобашенный вид огранки</td>\n",
       "      <td>[1,00, 1,49]</td>\n",
       "      <td>1.00</td>\n",
       "      <td>1.49</td>\n",
       "    </tr>\n",
       "    <tr>\n",
       "      <th>235</th>\n",
       "      <td>1,50-1,99</td>\n",
       "      <td>кобашенный вид огранки</td>\n",
       "      <td>[1,50, 1,99]</td>\n",
       "      <td>1.50</td>\n",
       "      <td>1.99</td>\n",
       "    </tr>\n",
       "    <tr>\n",
       "      <th>284</th>\n",
       "      <td>2,00-2,99</td>\n",
       "      <td>кобашенный вид огранки</td>\n",
       "      <td>[2,00, 2,99]</td>\n",
       "      <td>2.00</td>\n",
       "      <td>2.99</td>\n",
       "    </tr>\n",
       "    <tr>\n",
       "      <th>333</th>\n",
       "      <td>3,00-3,99</td>\n",
       "      <td>кобашенный вид огранки</td>\n",
       "      <td>[3,00, 3,99]</td>\n",
       "      <td>3.00</td>\n",
       "      <td>3.99</td>\n",
       "    </tr>\n",
       "    <tr>\n",
       "      <th>382</th>\n",
       "      <td>4,00-4,99</td>\n",
       "      <td>кобашенный вид огранки</td>\n",
       "      <td>[4,00, 4,99]</td>\n",
       "      <td>4.00</td>\n",
       "      <td>4.99</td>\n",
       "    </tr>\n",
       "    <tr>\n",
       "      <th>39</th>\n",
       "      <td>до 0,09</td>\n",
       "      <td>фацетный вид огранки</td>\n",
       "      <td>[до 0,09]</td>\n",
       "      <td>0.00</td>\n",
       "      <td>0.09</td>\n",
       "    </tr>\n",
       "    <tr>\n",
       "      <th>93</th>\n",
       "      <td>0,10-0,24</td>\n",
       "      <td>фацетный вид огранки</td>\n",
       "      <td>[0,10, 0,24]</td>\n",
       "      <td>0.10</td>\n",
       "      <td>0.24</td>\n",
       "    </tr>\n",
       "    <tr>\n",
       "      <th>147</th>\n",
       "      <td>0,25-0,49</td>\n",
       "      <td>фацетный вид огранки</td>\n",
       "      <td>[0,25, 0,49]</td>\n",
       "      <td>0.25</td>\n",
       "      <td>0.49</td>\n",
       "    </tr>\n",
       "    <tr>\n",
       "      <th>201</th>\n",
       "      <td>0,50-0,74</td>\n",
       "      <td>фацетный вид огранки</td>\n",
       "      <td>[0,50, 0,74]</td>\n",
       "      <td>0.50</td>\n",
       "      <td>0.74</td>\n",
       "    </tr>\n",
       "    <tr>\n",
       "      <th>255</th>\n",
       "      <td>0,75-0,99</td>\n",
       "      <td>фацетный вид огранки</td>\n",
       "      <td>[0,75, 0,99]</td>\n",
       "      <td>0.75</td>\n",
       "      <td>0.99</td>\n",
       "    </tr>\n",
       "    <tr>\n",
       "      <th>309</th>\n",
       "      <td>1,00-1,49</td>\n",
       "      <td>фацетный вид огранки</td>\n",
       "      <td>[1,00, 1,49]</td>\n",
       "      <td>1.00</td>\n",
       "      <td>1.49</td>\n",
       "    </tr>\n",
       "    <tr>\n",
       "      <th>363</th>\n",
       "      <td>1,50-1,99</td>\n",
       "      <td>фацетный вид огранки</td>\n",
       "      <td>[1,50, 1,99]</td>\n",
       "      <td>1.50</td>\n",
       "      <td>1.99</td>\n",
       "    </tr>\n",
       "    <tr>\n",
       "      <th>417</th>\n",
       "      <td>2,00-2,99</td>\n",
       "      <td>фацетный вид огранки</td>\n",
       "      <td>[2,00, 2,99]</td>\n",
       "      <td>2.00</td>\n",
       "      <td>2.99</td>\n",
       "    </tr>\n",
       "    <tr>\n",
       "      <th>471</th>\n",
       "      <td>3,00-3,99</td>\n",
       "      <td>фацетный вид огранки</td>\n",
       "      <td>[3,00, 3,99]</td>\n",
       "      <td>3.00</td>\n",
       "      <td>3.99</td>\n",
       "    </tr>\n",
       "    <tr>\n",
       "      <th>525</th>\n",
       "      <td>4,00-4,99</td>\n",
       "      <td>фацетный вид огранки</td>\n",
       "      <td>[4,00, 4,99]</td>\n",
       "      <td>4.00</td>\n",
       "      <td>4.99</td>\n",
       "    </tr>\n",
       "  </tbody>\n",
       "</table>\n",
       "</div>"
      ],
      "text/plain": [
       "          size                 Огранка     size_list  low_grade  hi_grade\n",
       "39     до 0,49  кобашенный вид огранки     [до 0,49]       0.00      0.49\n",
       "88   0,50-0,74  кобашенный вид огранки  [0,50, 0,74]       0.50      0.74\n",
       "137  0,75-0,99  кобашенный вид огранки  [0,75, 0,99]       0.75      0.99\n",
       "186  1,00-1,49  кобашенный вид огранки  [1,00, 1,49]       1.00      1.49\n",
       "235  1,50-1,99  кобашенный вид огранки  [1,50, 1,99]       1.50      1.99\n",
       "284  2,00-2,99  кобашенный вид огранки  [2,00, 2,99]       2.00      2.99\n",
       "333  3,00-3,99  кобашенный вид огранки  [3,00, 3,99]       3.00      3.99\n",
       "382  4,00-4,99  кобашенный вид огранки  [4,00, 4,99]       4.00      4.99\n",
       "39     до 0,09    фацетный вид огранки     [до 0,09]       0.00      0.09\n",
       "93   0,10-0,24    фацетный вид огранки  [0,10, 0,24]       0.10      0.24\n",
       "147  0,25-0,49    фацетный вид огранки  [0,25, 0,49]       0.25      0.49\n",
       "201  0,50-0,74    фацетный вид огранки  [0,50, 0,74]       0.50      0.74\n",
       "255  0,75-0,99    фацетный вид огранки  [0,75, 0,99]       0.75      0.99\n",
       "309  1,00-1,49    фацетный вид огранки  [1,00, 1,49]       1.00      1.49\n",
       "363  1,50-1,99    фацетный вид огранки  [1,50, 1,99]       1.50      1.99\n",
       "417  2,00-2,99    фацетный вид огранки  [2,00, 2,99]       2.00      2.99\n",
       "471  3,00-3,99    фацетный вид огранки  [3,00, 3,99]       3.00      3.99\n",
       "525  4,00-4,99    фацетный вид огранки  [4,00, 4,99]       4.00      4.99"
      ]
     },
     "execution_count": 835,
     "metadata": {},
     "output_type": "execute_result"
    }
   ],
   "source": [
    "sizes_g"
   ]
  },
  {
   "cell_type": "code",
   "execution_count": 702,
   "id": "61350e9f",
   "metadata": {},
   "outputs": [
    {
     "data": {
      "text/plain": [
       "size          object\n",
       "Огранка       object\n",
       "size_list     object\n",
       "low_grade    float64\n",
       "hi_grade     float64\n",
       "dtype: object"
      ]
     },
     "execution_count": 702,
     "metadata": {},
     "output_type": "execute_result"
    }
   ],
   "source": [
    "sizes_g.dtypes"
   ]
  },
  {
   "cell_type": "code",
   "execution_count": 836,
   "id": "40a44cc2",
   "metadata": {},
   "outputs": [],
   "source": [
    "sizes_g.to_excel('module_prgem/size_em_sto.xlsx',index=None)"
   ]
  },
  {
   "cell_type": "code",
   "execution_count": 777,
   "id": "6966a021",
   "metadata": {},
   "outputs": [],
   "source": [
    "def size_em_sto(q,carat_1):\n",
    "    if q not in dcla_em_sto.values():\n",
    "        return 'error_size_em_sto: q not in dcla_em_sto'\n",
    "    \n",
    "    if q.__contains__('Г'):\n",
    "        sizex = sizes_g[sizes_g['Огранка']=='фацетный вид огранки']\n",
    "    else:\n",
    "        sizex = sizes_g[sizes_g['Огранка']=='кобашенный вид огранки']\n",
    "            \n",
    "    return sizex[(sizex.low_grade<=carat_1)].sort_values('low_grade').iloc[-1,0]\n",
    "    \n",
    "    "
   ]
  },
  {
   "cell_type": "code",
   "execution_count": 779,
   "id": "6fdb8e89",
   "metadata": {},
   "outputs": [],
   "source": [
    "dfx['size'] = dfx.apply(lambda x:size_em_sto(x['Q'],x['CARAT_1']),axis=1)"
   ]
  },
  {
   "cell_type": "code",
   "execution_count": 784,
   "id": "75e942cc",
   "metadata": {},
   "outputs": [
    {
     "data": {
      "text/plain": [
       "Index(['ТУ', 'Обработка', 'Огранка', 'цвет', 'чистота', 'size', 'price'], dtype='object')"
      ]
     },
     "execution_count": 784,
     "metadata": {},
     "output_type": "execute_result"
    }
   ],
   "source": [
    "pr_em_sto.columns"
   ]
  },
  {
   "cell_type": "code",
   "execution_count": 861,
   "id": "b5936ddb",
   "metadata": {},
   "outputs": [
    {
     "data": {
      "text/plain": [
       "Index(['Код', 'Вставки_д28', 'emeralds', 're01', 'emerald_list', 'len_jem',\n",
       "       'len_em', 'PCS', 'GEM', 'CARAT', 'FORM', 'CQ', 'C', 'Q', 'CARAT_1',\n",
       "       'size'],\n",
       "      dtype='object')"
      ]
     },
     "execution_count": 861,
     "metadata": {},
     "output_type": "execute_result"
    }
   ],
   "source": [
    "dfx.columns"
   ]
  },
  {
   "cell_type": "code",
   "execution_count": 862,
   "id": "73089f29",
   "metadata": {},
   "outputs": [
    {
     "data": {
      "text/html": [
       "<div>\n",
       "<style scoped>\n",
       "    .dataframe tbody tr th:only-of-type {\n",
       "        vertical-align: middle;\n",
       "    }\n",
       "\n",
       "    .dataframe tbody tr th {\n",
       "        vertical-align: top;\n",
       "    }\n",
       "\n",
       "    .dataframe thead th {\n",
       "        text-align: right;\n",
       "    }\n",
       "</style>\n",
       "<table border=\"1\" class=\"dataframe\">\n",
       "  <thead>\n",
       "    <tr style=\"text-align: right;\">\n",
       "      <th></th>\n",
       "      <th>Код</th>\n",
       "      <th>Вставки_д28</th>\n",
       "      <th>emeralds</th>\n",
       "      <th>re01</th>\n",
       "      <th>emerald_list</th>\n",
       "      <th>len_jem</th>\n",
       "      <th>len_em</th>\n",
       "      <th>PCS</th>\n",
       "      <th>GEM</th>\n",
       "      <th>CARAT</th>\n",
       "      <th>FORM</th>\n",
       "      <th>CQ</th>\n",
       "      <th>C</th>\n",
       "      <th>Q</th>\n",
       "      <th>CARAT_1</th>\n",
       "      <th>size</th>\n",
       "    </tr>\n",
       "  </thead>\n",
       "  <tbody>\n",
       "    <tr>\n",
       "      <th>160</th>\n",
       "      <td>ЦБ-00019785</td>\n",
       "      <td>1ИзумрудПМ-1,270-НРООв+2/гз 7Кр57-0,100-3/3А</td>\n",
       "      <td>1изумрудпм-1,270-нроов+2/гз 7кр57-0,100-3/3а</td>\n",
       "      <td>[(1, ИзумрудПМ, 1,270, НРООв, 2/г)]</td>\n",
       "      <td>(1, ИзумрудПМ, 1,270, НРООв, 2/г)</td>\n",
       "      <td>1</td>\n",
       "      <td>1</td>\n",
       "      <td>1</td>\n",
       "      <td>изумрудпм</td>\n",
       "      <td>1.270</td>\n",
       "      <td>нроов</td>\n",
       "      <td>2/г</td>\n",
       "      <td>2</td>\n",
       "      <td>NaN</td>\n",
       "      <td>1.270000</td>\n",
       "      <td>error_size_em_sto: q not in dcla_em_sto</td>\n",
       "    </tr>\n",
       "    <tr>\n",
       "      <th>249</th>\n",
       "      <td>ЦБ-00019921</td>\n",
       "      <td>1ИзумрудПМ-0,100-НРОКр+4/Г3 4Кр57-0,040-2/4А</td>\n",
       "      <td>1изумрудпм-0,100-нрокр+4/г3 4кр57-0,040-2/4а</td>\n",
       "      <td>[(1, ИзумрудПМ, 0,100, НРОКр, 4/Г3)]</td>\n",
       "      <td>(1, ИзумрудПМ, 0,100, НРОКр, 4/Г3)</td>\n",
       "      <td>1</td>\n",
       "      <td>1</td>\n",
       "      <td>1</td>\n",
       "      <td>изумрудпм</td>\n",
       "      <td>0.100</td>\n",
       "      <td>нрокр</td>\n",
       "      <td>4/г3</td>\n",
       "      <td>4</td>\n",
       "      <td>Г3</td>\n",
       "      <td>0.100000</td>\n",
       "      <td>0,10-0,24</td>\n",
       "    </tr>\n",
       "    <tr>\n",
       "      <th>345</th>\n",
       "      <td>ЦБ-00090311</td>\n",
       "      <td>1ИзумрудПМ-0,234-НРОКр+3/Г2 6Кр57-0,148-2/2А 2...</td>\n",
       "      <td>1изумрудпм-0,234-нрокр+3/г2 6кр57-0,148-2/2а 2...</td>\n",
       "      <td>[(1, ИзумрудПМ, 0,234, НРОКр, 3/Г2)]</td>\n",
       "      <td>(1, ИзумрудПМ, 0,234, НРОКр, 3/Г2)</td>\n",
       "      <td>1</td>\n",
       "      <td>1</td>\n",
       "      <td>1</td>\n",
       "      <td>изумрудпм</td>\n",
       "      <td>0.234</td>\n",
       "      <td>нрокр</td>\n",
       "      <td>3/г2</td>\n",
       "      <td>3</td>\n",
       "      <td>Г2</td>\n",
       "      <td>0.234000</td>\n",
       "      <td>0,10-0,24</td>\n",
       "    </tr>\n",
       "    <tr>\n",
       "      <th>372</th>\n",
       "      <td>ЦБ-00163308</td>\n",
       "      <td>1ИзумрудПМ-0,340-НРООв+3/Г3 12Кр17-0,030-2/2А</td>\n",
       "      <td>1изумрудпм-0,340-нроов+3/г3 12кр17-0,030-2/2а</td>\n",
       "      <td>[(1, ИзумрудПМ, 0,340, НРООв, 3/Г3)]</td>\n",
       "      <td>(1, ИзумрудПМ, 0,340, НРООв, 3/Г3)</td>\n",
       "      <td>1</td>\n",
       "      <td>1</td>\n",
       "      <td>1</td>\n",
       "      <td>изумрудпм</td>\n",
       "      <td>0.340</td>\n",
       "      <td>нроов</td>\n",
       "      <td>3/г3</td>\n",
       "      <td>3</td>\n",
       "      <td>Г3</td>\n",
       "      <td>0.340000</td>\n",
       "      <td>0,25-0,49</td>\n",
       "    </tr>\n",
       "    <tr>\n",
       "      <th>374</th>\n",
       "      <td>ЦБ-00163310</td>\n",
       "      <td>1ИзумрудПМ-0,159-НРОКр+3/Г2 12Кр57-0,113-3/4А</td>\n",
       "      <td>1изумрудпм-0,159-нрокр+3/г2 12кр57-0,113-3/4а</td>\n",
       "      <td>[(1, ИзумрудПМ, 0,159, НРОКр, 3/Г2)]</td>\n",
       "      <td>(1, ИзумрудПМ, 0,159, НРОКр, 3/Г2)</td>\n",
       "      <td>1</td>\n",
       "      <td>1</td>\n",
       "      <td>1</td>\n",
       "      <td>изумрудпм</td>\n",
       "      <td>0.159</td>\n",
       "      <td>нрокр</td>\n",
       "      <td>3/г2</td>\n",
       "      <td>3</td>\n",
       "      <td>Г2</td>\n",
       "      <td>0.159000</td>\n",
       "      <td>0,10-0,24</td>\n",
       "    </tr>\n",
       "    <tr>\n",
       "      <th>...</th>\n",
       "      <td>...</td>\n",
       "      <td>...</td>\n",
       "      <td>...</td>\n",
       "      <td>...</td>\n",
       "      <td>...</td>\n",
       "      <td>...</td>\n",
       "      <td>...</td>\n",
       "      <td>...</td>\n",
       "      <td>...</td>\n",
       "      <td>...</td>\n",
       "      <td>...</td>\n",
       "      <td>...</td>\n",
       "      <td>...</td>\n",
       "      <td>...</td>\n",
       "      <td>...</td>\n",
       "      <td>...</td>\n",
       "    </tr>\n",
       "    <tr>\n",
       "      <th>31958</th>\n",
       "      <td>ЦБ-00171233</td>\n",
       "      <td>4ИзумрудПМ-0,540-кр+3/Г3 2КР57-0,030-3/4А</td>\n",
       "      <td>4изумрудпм-0,540-кр+3/г3 2кр57-0,030-3/4а</td>\n",
       "      <td>[(4, ИзумрудПМ, 0,540, кр, 3/Г3)]</td>\n",
       "      <td>(4, ИзумрудПМ, 0,540, кр, 3/Г3)</td>\n",
       "      <td>1</td>\n",
       "      <td>1</td>\n",
       "      <td>4</td>\n",
       "      <td>изумрудпм</td>\n",
       "      <td>0.540</td>\n",
       "      <td>кр</td>\n",
       "      <td>3/г3</td>\n",
       "      <td>3</td>\n",
       "      <td>Г3</td>\n",
       "      <td>0.135000</td>\n",
       "      <td>0,10-0,24</td>\n",
       "    </tr>\n",
       "    <tr>\n",
       "      <th>31971</th>\n",
       "      <td>ЦБ-00171334</td>\n",
       "      <td>2ИзумрудПМ-0,270-м+2/Г2 20КР57-0,240-3/5А</td>\n",
       "      <td>2изумрудпм-0,270-м+2/г2 20кр57-0,240-3/5а</td>\n",
       "      <td>[(2, ИзумрудПМ, 0,270, м, 2/Г2)]</td>\n",
       "      <td>(2, ИзумрудПМ, 0,270, м, 2/Г2)</td>\n",
       "      <td>1</td>\n",
       "      <td>1</td>\n",
       "      <td>2</td>\n",
       "      <td>изумрудпм</td>\n",
       "      <td>0.270</td>\n",
       "      <td>м</td>\n",
       "      <td>2/г2</td>\n",
       "      <td>2</td>\n",
       "      <td>Г2</td>\n",
       "      <td>0.135000</td>\n",
       "      <td>0,10-0,24</td>\n",
       "    </tr>\n",
       "    <tr>\n",
       "      <th>31975</th>\n",
       "      <td>ЦБ-00171360</td>\n",
       "      <td>2ИзумрудПМ-0,670-пр+5/Г1 2КР57-0,030-3/3А</td>\n",
       "      <td>2изумрудпм-0,670-пр+5/г1 2кр57-0,030-3/3а</td>\n",
       "      <td>[(2, ИзумрудПМ, 0,670, пр, 5/Г1)]</td>\n",
       "      <td>(2, ИзумрудПМ, 0,670, пр, 5/Г1)</td>\n",
       "      <td>1</td>\n",
       "      <td>1</td>\n",
       "      <td>2</td>\n",
       "      <td>изумрудпм</td>\n",
       "      <td>0.670</td>\n",
       "      <td>пр</td>\n",
       "      <td>5/г1</td>\n",
       "      <td>5</td>\n",
       "      <td>Г1</td>\n",
       "      <td>0.335000</td>\n",
       "      <td>0,25-0,49</td>\n",
       "    </tr>\n",
       "    <tr>\n",
       "      <th>32597</th>\n",
       "      <td>ЦБ-00177187</td>\n",
       "      <td>2ИзумрудПМ-0,166-НРОКр+3/Г3 6Кр57-0,076-4/5А 6...</td>\n",
       "      <td>2изумрудпм-0,166-нрокр+3/г3 6кр57-0,076-4/5а 6...</td>\n",
       "      <td>[(2, ИзумрудПМ, 0,166, НРОКр, 3/Г3)]</td>\n",
       "      <td>(2, ИзумрудПМ, 0,166, НРОКр, 3/Г3)</td>\n",
       "      <td>1</td>\n",
       "      <td>1</td>\n",
       "      <td>2</td>\n",
       "      <td>изумрудпм</td>\n",
       "      <td>0.166</td>\n",
       "      <td>нрокр</td>\n",
       "      <td>3/г3</td>\n",
       "      <td>3</td>\n",
       "      <td>Г3</td>\n",
       "      <td>0.083000</td>\n",
       "      <td>до 0,09</td>\n",
       "    </tr>\n",
       "    <tr>\n",
       "      <th>32933</th>\n",
       "      <td>ЦБ-00181335</td>\n",
       "      <td>6ИзумрудПМ-0,203-НРОКр+3/Г3 6КР57-0,244-3/4А</td>\n",
       "      <td>6изумрудпм-0,203-нрокр+3/г3 6кр57-0,244-3/4а</td>\n",
       "      <td>[(6, ИзумрудПМ, 0,203, НРОКр, 3/Г3)]</td>\n",
       "      <td>(6, ИзумрудПМ, 0,203, НРОКр, 3/Г3)</td>\n",
       "      <td>1</td>\n",
       "      <td>1</td>\n",
       "      <td>6</td>\n",
       "      <td>изумрудпм</td>\n",
       "      <td>0.203</td>\n",
       "      <td>нрокр</td>\n",
       "      <td>3/г3</td>\n",
       "      <td>3</td>\n",
       "      <td>Г3</td>\n",
       "      <td>0.033833</td>\n",
       "      <td>до 0,09</td>\n",
       "    </tr>\n",
       "  </tbody>\n",
       "</table>\n",
       "<p>307 rows × 16 columns</p>\n",
       "</div>"
      ],
      "text/plain": [
       "               Код                                        Вставки_д28  \\\n",
       "160    ЦБ-00019785       1ИзумрудПМ-1,270-НРООв+2/гз 7Кр57-0,100-3/3А   \n",
       "249    ЦБ-00019921       1ИзумрудПМ-0,100-НРОКр+4/Г3 4Кр57-0,040-2/4А   \n",
       "345    ЦБ-00090311  1ИзумрудПМ-0,234-НРОКр+3/Г2 6Кр57-0,148-2/2А 2...   \n",
       "372    ЦБ-00163308      1ИзумрудПМ-0,340-НРООв+3/Г3 12Кр17-0,030-2/2А   \n",
       "374    ЦБ-00163310      1ИзумрудПМ-0,159-НРОКр+3/Г2 12Кр57-0,113-3/4А   \n",
       "...            ...                                                ...   \n",
       "31958  ЦБ-00171233          4ИзумрудПМ-0,540-кр+3/Г3 2КР57-0,030-3/4А   \n",
       "31971  ЦБ-00171334          2ИзумрудПМ-0,270-м+2/Г2 20КР57-0,240-3/5А   \n",
       "31975  ЦБ-00171360          2ИзумрудПМ-0,670-пр+5/Г1 2КР57-0,030-3/3А   \n",
       "32597  ЦБ-00177187  2ИзумрудПМ-0,166-НРОКр+3/Г3 6Кр57-0,076-4/5А 6...   \n",
       "32933  ЦБ-00181335       6ИзумрудПМ-0,203-НРОКр+3/Г3 6КР57-0,244-3/4А   \n",
       "\n",
       "                                                emeralds  \\\n",
       "160         1изумрудпм-1,270-нроов+2/гз 7кр57-0,100-3/3а   \n",
       "249         1изумрудпм-0,100-нрокр+4/г3 4кр57-0,040-2/4а   \n",
       "345    1изумрудпм-0,234-нрокр+3/г2 6кр57-0,148-2/2а 2...   \n",
       "372        1изумрудпм-0,340-нроов+3/г3 12кр17-0,030-2/2а   \n",
       "374        1изумрудпм-0,159-нрокр+3/г2 12кр57-0,113-3/4а   \n",
       "...                                                  ...   \n",
       "31958          4изумрудпм-0,540-кр+3/г3 2кр57-0,030-3/4а   \n",
       "31971          2изумрудпм-0,270-м+2/г2 20кр57-0,240-3/5а   \n",
       "31975          2изумрудпм-0,670-пр+5/г1 2кр57-0,030-3/3а   \n",
       "32597  2изумрудпм-0,166-нрокр+3/г3 6кр57-0,076-4/5а 6...   \n",
       "32933       6изумрудпм-0,203-нрокр+3/г3 6кр57-0,244-3/4а   \n",
       "\n",
       "                                       re01  \\\n",
       "160     [(1, ИзумрудПМ, 1,270, НРООв, 2/г)]   \n",
       "249    [(1, ИзумрудПМ, 0,100, НРОКр, 4/Г3)]   \n",
       "345    [(1, ИзумрудПМ, 0,234, НРОКр, 3/Г2)]   \n",
       "372    [(1, ИзумрудПМ, 0,340, НРООв, 3/Г3)]   \n",
       "374    [(1, ИзумрудПМ, 0,159, НРОКр, 3/Г2)]   \n",
       "...                                     ...   \n",
       "31958     [(4, ИзумрудПМ, 0,540, кр, 3/Г3)]   \n",
       "31971      [(2, ИзумрудПМ, 0,270, м, 2/Г2)]   \n",
       "31975     [(2, ИзумрудПМ, 0,670, пр, 5/Г1)]   \n",
       "32597  [(2, ИзумрудПМ, 0,166, НРОКр, 3/Г3)]   \n",
       "32933  [(6, ИзумрудПМ, 0,203, НРОКр, 3/Г3)]   \n",
       "\n",
       "                             emerald_list  len_jem  len_em  PCS        GEM  \\\n",
       "160     (1, ИзумрудПМ, 1,270, НРООв, 2/г)        1       1    1  изумрудпм   \n",
       "249    (1, ИзумрудПМ, 0,100, НРОКр, 4/Г3)        1       1    1  изумрудпм   \n",
       "345    (1, ИзумрудПМ, 0,234, НРОКр, 3/Г2)        1       1    1  изумрудпм   \n",
       "372    (1, ИзумрудПМ, 0,340, НРООв, 3/Г3)        1       1    1  изумрудпм   \n",
       "374    (1, ИзумрудПМ, 0,159, НРОКр, 3/Г2)        1       1    1  изумрудпм   \n",
       "...                                   ...      ...     ...  ...        ...   \n",
       "31958     (4, ИзумрудПМ, 0,540, кр, 3/Г3)        1       1    4  изумрудпм   \n",
       "31971      (2, ИзумрудПМ, 0,270, м, 2/Г2)        1       1    2  изумрудпм   \n",
       "31975     (2, ИзумрудПМ, 0,670, пр, 5/Г1)        1       1    2  изумрудпм   \n",
       "32597  (2, ИзумрудПМ, 0,166, НРОКр, 3/Г3)        1       1    2  изумрудпм   \n",
       "32933  (6, ИзумрудПМ, 0,203, НРОКр, 3/Г3)        1       1    6  изумрудпм   \n",
       "\n",
       "       CARAT   FORM    CQ  C    Q   CARAT_1  \\\n",
       "160    1.270  нроов   2/г  2  NaN  1.270000   \n",
       "249    0.100  нрокр  4/г3  4   Г3  0.100000   \n",
       "345    0.234  нрокр  3/г2  3   Г2  0.234000   \n",
       "372    0.340  нроов  3/г3  3   Г3  0.340000   \n",
       "374    0.159  нрокр  3/г2  3   Г2  0.159000   \n",
       "...      ...    ...   ... ..  ...       ...   \n",
       "31958  0.540     кр  3/г3  3   Г3  0.135000   \n",
       "31971  0.270      м  2/г2  2   Г2  0.135000   \n",
       "31975  0.670     пр  5/г1  5   Г1  0.335000   \n",
       "32597  0.166  нрокр  3/г3  3   Г3  0.083000   \n",
       "32933  0.203  нрокр  3/г3  3   Г3  0.033833   \n",
       "\n",
       "                                          size  \n",
       "160    error_size_em_sto: q not in dcla_em_sto  \n",
       "249                                  0,10-0,24  \n",
       "345                                  0,10-0,24  \n",
       "372                                  0,25-0,49  \n",
       "374                                  0,10-0,24  \n",
       "...                                        ...  \n",
       "31958                                0,10-0,24  \n",
       "31971                                0,10-0,24  \n",
       "31975                                0,25-0,49  \n",
       "32597                                  до 0,09  \n",
       "32933                                  до 0,09  \n",
       "\n",
       "[307 rows x 16 columns]"
      ]
     },
     "execution_count": 862,
     "metadata": {},
     "output_type": "execute_result"
    }
   ],
   "source": [
    "dfx"
   ]
  },
  {
   "cell_type": "code",
   "execution_count": 863,
   "id": "f1c8c933",
   "metadata": {},
   "outputs": [
    {
     "data": {
      "text/plain": [
       "Код              object\n",
       "Вставки_д28      object\n",
       "emeralds         object\n",
       "re01             object\n",
       "emerald_list     object\n",
       "len_jem           int64\n",
       "len_em            int64\n",
       "PCS               int32\n",
       "GEM              object\n",
       "CARAT           float64\n",
       "FORM             object\n",
       "CQ               object\n",
       "C                object\n",
       "Q                object\n",
       "CARAT_1         float64\n",
       "size             object\n",
       "dtype: object"
      ]
     },
     "execution_count": 863,
     "metadata": {},
     "output_type": "execute_result"
    }
   ],
   "source": [
    "dfx.dtypes"
   ]
  },
  {
   "cell_type": "code",
   "execution_count": 864,
   "id": "413dcf44",
   "metadata": {},
   "outputs": [
    {
     "data": {
      "text/plain": [
       "ТУ           object\n",
       "Обработка    object\n",
       "Огранка      object\n",
       "цвет          int64\n",
       "чистота      object\n",
       "size         object\n",
       "price         int64\n",
       "dtype: object"
      ]
     },
     "execution_count": 864,
     "metadata": {},
     "output_type": "execute_result"
    }
   ],
   "source": [
    "pr_em_sto.dtypes\n"
   ]
  },
  {
   "cell_type": "code",
   "execution_count": 869,
   "id": "fa6fecbd",
   "metadata": {},
   "outputs": [
    {
     "data": {
      "text/html": [
       "<div>\n",
       "<style scoped>\n",
       "    .dataframe tbody tr th:only-of-type {\n",
       "        vertical-align: middle;\n",
       "    }\n",
       "\n",
       "    .dataframe tbody tr th {\n",
       "        vertical-align: top;\n",
       "    }\n",
       "\n",
       "    .dataframe thead th {\n",
       "        text-align: right;\n",
       "    }\n",
       "</style>\n",
       "<table border=\"1\" class=\"dataframe\">\n",
       "  <thead>\n",
       "    <tr style=\"text-align: right;\">\n",
       "      <th></th>\n",
       "      <th>Код</th>\n",
       "      <th>Вставки_д28</th>\n",
       "      <th>emeralds</th>\n",
       "      <th>re01</th>\n",
       "      <th>emerald_list</th>\n",
       "      <th>len_jem</th>\n",
       "      <th>len_em</th>\n",
       "      <th>PCS</th>\n",
       "      <th>GEM</th>\n",
       "      <th>CARAT</th>\n",
       "      <th>...</th>\n",
       "      <th>C</th>\n",
       "      <th>Q</th>\n",
       "      <th>CARAT_1</th>\n",
       "      <th>size</th>\n",
       "      <th>ТУ</th>\n",
       "      <th>Обработка</th>\n",
       "      <th>Огранка</th>\n",
       "      <th>цвет</th>\n",
       "      <th>чистота</th>\n",
       "      <th>price</th>\n",
       "    </tr>\n",
       "  </thead>\n",
       "  <tbody>\n",
       "    <tr>\n",
       "      <th>0</th>\n",
       "      <td>ЦБ-00019785</td>\n",
       "      <td>1ИзумрудПМ-1,270-НРООв+2/гз 7Кр57-0,100-3/3А</td>\n",
       "      <td>1изумрудпм-1,270-нроов+2/гз 7кр57-0,100-3/3а</td>\n",
       "      <td>[(1, ИзумрудПМ, 1,270, НРООв, 2/г)]</td>\n",
       "      <td>(1, ИзумрудПМ, 1,270, НРООв, 2/г)</td>\n",
       "      <td>1</td>\n",
       "      <td>1</td>\n",
       "      <td>1</td>\n",
       "      <td>изумрудпм</td>\n",
       "      <td>1.270</td>\n",
       "      <td>...</td>\n",
       "      <td>2</td>\n",
       "      <td>NaN</td>\n",
       "      <td>1.270000</td>\n",
       "      <td>error_size_em_sto: q not in dcla_em_sto</td>\n",
       "      <td>NaN</td>\n",
       "      <td>NaN</td>\n",
       "      <td>NaN</td>\n",
       "      <td>NaN</td>\n",
       "      <td>NaN</td>\n",
       "      <td>NaN</td>\n",
       "    </tr>\n",
       "    <tr>\n",
       "      <th>1</th>\n",
       "      <td>ЦБ-00019921</td>\n",
       "      <td>1ИзумрудПМ-0,100-НРОКр+4/Г3 4Кр57-0,040-2/4А</td>\n",
       "      <td>1изумрудпм-0,100-нрокр+4/г3 4кр57-0,040-2/4а</td>\n",
       "      <td>[(1, ИзумрудПМ, 0,100, НРОКр, 4/Г3)]</td>\n",
       "      <td>(1, ИзумрудПМ, 0,100, НРОКр, 4/Г3)</td>\n",
       "      <td>1</td>\n",
       "      <td>1</td>\n",
       "      <td>1</td>\n",
       "      <td>изумрудпм</td>\n",
       "      <td>0.100</td>\n",
       "      <td>...</td>\n",
       "      <td>4</td>\n",
       "      <td>Г3</td>\n",
       "      <td>0.100000</td>\n",
       "      <td>0,10-0,24</td>\n",
       "      <td>СТО</td>\n",
       "      <td>промасливание (O) и заполнение трещин (F)</td>\n",
       "      <td>фацетный вид огранки</td>\n",
       "      <td>4</td>\n",
       "      <td>Г3</td>\n",
       "      <td>40.0</td>\n",
       "    </tr>\n",
       "    <tr>\n",
       "      <th>2</th>\n",
       "      <td>ЦБ-00090311</td>\n",
       "      <td>1ИзумрудПМ-0,234-НРОКр+3/Г2 6Кр57-0,148-2/2А 2...</td>\n",
       "      <td>1изумрудпм-0,234-нрокр+3/г2 6кр57-0,148-2/2а 2...</td>\n",
       "      <td>[(1, ИзумрудПМ, 0,234, НРОКр, 3/Г2)]</td>\n",
       "      <td>(1, ИзумрудПМ, 0,234, НРОКр, 3/Г2)</td>\n",
       "      <td>1</td>\n",
       "      <td>1</td>\n",
       "      <td>1</td>\n",
       "      <td>изумрудпм</td>\n",
       "      <td>0.234</td>\n",
       "      <td>...</td>\n",
       "      <td>3</td>\n",
       "      <td>Г2</td>\n",
       "      <td>0.234000</td>\n",
       "      <td>0,10-0,24</td>\n",
       "      <td>СТО</td>\n",
       "      <td>промасливание (O) и заполнение трещин (F)</td>\n",
       "      <td>фацетный вид огранки</td>\n",
       "      <td>3</td>\n",
       "      <td>Г2</td>\n",
       "      <td>120.0</td>\n",
       "    </tr>\n",
       "    <tr>\n",
       "      <th>3</th>\n",
       "      <td>ЦБ-00163308</td>\n",
       "      <td>1ИзумрудПМ-0,340-НРООв+3/Г3 12Кр17-0,030-2/2А</td>\n",
       "      <td>1изумрудпм-0,340-нроов+3/г3 12кр17-0,030-2/2а</td>\n",
       "      <td>[(1, ИзумрудПМ, 0,340, НРООв, 3/Г3)]</td>\n",
       "      <td>(1, ИзумрудПМ, 0,340, НРООв, 3/Г3)</td>\n",
       "      <td>1</td>\n",
       "      <td>1</td>\n",
       "      <td>1</td>\n",
       "      <td>изумрудпм</td>\n",
       "      <td>0.340</td>\n",
       "      <td>...</td>\n",
       "      <td>3</td>\n",
       "      <td>Г3</td>\n",
       "      <td>0.340000</td>\n",
       "      <td>0,25-0,49</td>\n",
       "      <td>СТО</td>\n",
       "      <td>промасливание (O) и заполнение трещин (F)</td>\n",
       "      <td>фацетный вид огранки</td>\n",
       "      <td>3</td>\n",
       "      <td>Г3</td>\n",
       "      <td>110.0</td>\n",
       "    </tr>\n",
       "    <tr>\n",
       "      <th>4</th>\n",
       "      <td>ЦБ-00163310</td>\n",
       "      <td>1ИзумрудПМ-0,159-НРОКр+3/Г2 12Кр57-0,113-3/4А</td>\n",
       "      <td>1изумрудпм-0,159-нрокр+3/г2 12кр57-0,113-3/4а</td>\n",
       "      <td>[(1, ИзумрудПМ, 0,159, НРОКр, 3/Г2)]</td>\n",
       "      <td>(1, ИзумрудПМ, 0,159, НРОКр, 3/Г2)</td>\n",
       "      <td>1</td>\n",
       "      <td>1</td>\n",
       "      <td>1</td>\n",
       "      <td>изумрудпм</td>\n",
       "      <td>0.159</td>\n",
       "      <td>...</td>\n",
       "      <td>3</td>\n",
       "      <td>Г2</td>\n",
       "      <td>0.159000</td>\n",
       "      <td>0,10-0,24</td>\n",
       "      <td>СТО</td>\n",
       "      <td>промасливание (O) и заполнение трещин (F)</td>\n",
       "      <td>фацетный вид огранки</td>\n",
       "      <td>3</td>\n",
       "      <td>Г2</td>\n",
       "      <td>120.0</td>\n",
       "    </tr>\n",
       "    <tr>\n",
       "      <th>...</th>\n",
       "      <td>...</td>\n",
       "      <td>...</td>\n",
       "      <td>...</td>\n",
       "      <td>...</td>\n",
       "      <td>...</td>\n",
       "      <td>...</td>\n",
       "      <td>...</td>\n",
       "      <td>...</td>\n",
       "      <td>...</td>\n",
       "      <td>...</td>\n",
       "      <td>...</td>\n",
       "      <td>...</td>\n",
       "      <td>...</td>\n",
       "      <td>...</td>\n",
       "      <td>...</td>\n",
       "      <td>...</td>\n",
       "      <td>...</td>\n",
       "      <td>...</td>\n",
       "      <td>...</td>\n",
       "      <td>...</td>\n",
       "      <td>...</td>\n",
       "    </tr>\n",
       "    <tr>\n",
       "      <th>302</th>\n",
       "      <td>ЦБ-00171233</td>\n",
       "      <td>4ИзумрудПМ-0,540-кр+3/Г3 2КР57-0,030-3/4А</td>\n",
       "      <td>4изумрудпм-0,540-кр+3/г3 2кр57-0,030-3/4а</td>\n",
       "      <td>[(4, ИзумрудПМ, 0,540, кр, 3/Г3)]</td>\n",
       "      <td>(4, ИзумрудПМ, 0,540, кр, 3/Г3)</td>\n",
       "      <td>1</td>\n",
       "      <td>1</td>\n",
       "      <td>4</td>\n",
       "      <td>изумрудпм</td>\n",
       "      <td>0.540</td>\n",
       "      <td>...</td>\n",
       "      <td>3</td>\n",
       "      <td>Г3</td>\n",
       "      <td>0.135000</td>\n",
       "      <td>0,10-0,24</td>\n",
       "      <td>СТО</td>\n",
       "      <td>промасливание (O) и заполнение трещин (F)</td>\n",
       "      <td>фацетный вид огранки</td>\n",
       "      <td>3</td>\n",
       "      <td>Г3</td>\n",
       "      <td>100.0</td>\n",
       "    </tr>\n",
       "    <tr>\n",
       "      <th>303</th>\n",
       "      <td>ЦБ-00171334</td>\n",
       "      <td>2ИзумрудПМ-0,270-м+2/Г2 20КР57-0,240-3/5А</td>\n",
       "      <td>2изумрудпм-0,270-м+2/г2 20кр57-0,240-3/5а</td>\n",
       "      <td>[(2, ИзумрудПМ, 0,270, м, 2/Г2)]</td>\n",
       "      <td>(2, ИзумрудПМ, 0,270, м, 2/Г2)</td>\n",
       "      <td>1</td>\n",
       "      <td>1</td>\n",
       "      <td>2</td>\n",
       "      <td>изумрудпм</td>\n",
       "      <td>0.270</td>\n",
       "      <td>...</td>\n",
       "      <td>2</td>\n",
       "      <td>Г2</td>\n",
       "      <td>0.135000</td>\n",
       "      <td>0,10-0,24</td>\n",
       "      <td>СТО</td>\n",
       "      <td>промасливание (O) и заполнение трещин (F)</td>\n",
       "      <td>фацетный вид огранки</td>\n",
       "      <td>2</td>\n",
       "      <td>Г2</td>\n",
       "      <td>200.0</td>\n",
       "    </tr>\n",
       "    <tr>\n",
       "      <th>304</th>\n",
       "      <td>ЦБ-00171360</td>\n",
       "      <td>2ИзумрудПМ-0,670-пр+5/Г1 2КР57-0,030-3/3А</td>\n",
       "      <td>2изумрудпм-0,670-пр+5/г1 2кр57-0,030-3/3а</td>\n",
       "      <td>[(2, ИзумрудПМ, 0,670, пр, 5/Г1)]</td>\n",
       "      <td>(2, ИзумрудПМ, 0,670, пр, 5/Г1)</td>\n",
       "      <td>1</td>\n",
       "      <td>1</td>\n",
       "      <td>2</td>\n",
       "      <td>изумрудпм</td>\n",
       "      <td>0.670</td>\n",
       "      <td>...</td>\n",
       "      <td>5</td>\n",
       "      <td>Г1</td>\n",
       "      <td>0.335000</td>\n",
       "      <td>0,25-0,49</td>\n",
       "      <td>СТО</td>\n",
       "      <td>промасливание (O) и заполнение трещин (F)</td>\n",
       "      <td>фацетный вид огранки</td>\n",
       "      <td>5</td>\n",
       "      <td>Г1</td>\n",
       "      <td>30.0</td>\n",
       "    </tr>\n",
       "    <tr>\n",
       "      <th>305</th>\n",
       "      <td>ЦБ-00177187</td>\n",
       "      <td>2ИзумрудПМ-0,166-НРОКр+3/Г3 6Кр57-0,076-4/5А 6...</td>\n",
       "      <td>2изумрудпм-0,166-нрокр+3/г3 6кр57-0,076-4/5а 6...</td>\n",
       "      <td>[(2, ИзумрудПМ, 0,166, НРОКр, 3/Г3)]</td>\n",
       "      <td>(2, ИзумрудПМ, 0,166, НРОКр, 3/Г3)</td>\n",
       "      <td>1</td>\n",
       "      <td>1</td>\n",
       "      <td>2</td>\n",
       "      <td>изумрудпм</td>\n",
       "      <td>0.166</td>\n",
       "      <td>...</td>\n",
       "      <td>3</td>\n",
       "      <td>Г3</td>\n",
       "      <td>0.083000</td>\n",
       "      <td>до 0,09</td>\n",
       "      <td>СТО</td>\n",
       "      <td>промасливание (O) и заполнение трещин (F)</td>\n",
       "      <td>фацетный вид огранки</td>\n",
       "      <td>3</td>\n",
       "      <td>Г3</td>\n",
       "      <td>65.0</td>\n",
       "    </tr>\n",
       "    <tr>\n",
       "      <th>306</th>\n",
       "      <td>ЦБ-00181335</td>\n",
       "      <td>6ИзумрудПМ-0,203-НРОКр+3/Г3 6КР57-0,244-3/4А</td>\n",
       "      <td>6изумрудпм-0,203-нрокр+3/г3 6кр57-0,244-3/4а</td>\n",
       "      <td>[(6, ИзумрудПМ, 0,203, НРОКр, 3/Г3)]</td>\n",
       "      <td>(6, ИзумрудПМ, 0,203, НРОКр, 3/Г3)</td>\n",
       "      <td>1</td>\n",
       "      <td>1</td>\n",
       "      <td>6</td>\n",
       "      <td>изумрудпм</td>\n",
       "      <td>0.203</td>\n",
       "      <td>...</td>\n",
       "      <td>3</td>\n",
       "      <td>Г3</td>\n",
       "      <td>0.033833</td>\n",
       "      <td>до 0,09</td>\n",
       "      <td>СТО</td>\n",
       "      <td>промасливание (O) и заполнение трещин (F)</td>\n",
       "      <td>фацетный вид огранки</td>\n",
       "      <td>3</td>\n",
       "      <td>Г3</td>\n",
       "      <td>65.0</td>\n",
       "    </tr>\n",
       "  </tbody>\n",
       "</table>\n",
       "<p>307 rows × 22 columns</p>\n",
       "</div>"
      ],
      "text/plain": [
       "             Код                                        Вставки_д28  \\\n",
       "0    ЦБ-00019785       1ИзумрудПМ-1,270-НРООв+2/гз 7Кр57-0,100-3/3А   \n",
       "1    ЦБ-00019921       1ИзумрудПМ-0,100-НРОКр+4/Г3 4Кр57-0,040-2/4А   \n",
       "2    ЦБ-00090311  1ИзумрудПМ-0,234-НРОКр+3/Г2 6Кр57-0,148-2/2А 2...   \n",
       "3    ЦБ-00163308      1ИзумрудПМ-0,340-НРООв+3/Г3 12Кр17-0,030-2/2А   \n",
       "4    ЦБ-00163310      1ИзумрудПМ-0,159-НРОКр+3/Г2 12Кр57-0,113-3/4А   \n",
       "..           ...                                                ...   \n",
       "302  ЦБ-00171233          4ИзумрудПМ-0,540-кр+3/Г3 2КР57-0,030-3/4А   \n",
       "303  ЦБ-00171334          2ИзумрудПМ-0,270-м+2/Г2 20КР57-0,240-3/5А   \n",
       "304  ЦБ-00171360          2ИзумрудПМ-0,670-пр+5/Г1 2КР57-0,030-3/3А   \n",
       "305  ЦБ-00177187  2ИзумрудПМ-0,166-НРОКр+3/Г3 6Кр57-0,076-4/5А 6...   \n",
       "306  ЦБ-00181335       6ИзумрудПМ-0,203-НРОКр+3/Г3 6КР57-0,244-3/4А   \n",
       "\n",
       "                                              emeralds  \\\n",
       "0         1изумрудпм-1,270-нроов+2/гз 7кр57-0,100-3/3а   \n",
       "1         1изумрудпм-0,100-нрокр+4/г3 4кр57-0,040-2/4а   \n",
       "2    1изумрудпм-0,234-нрокр+3/г2 6кр57-0,148-2/2а 2...   \n",
       "3        1изумрудпм-0,340-нроов+3/г3 12кр17-0,030-2/2а   \n",
       "4        1изумрудпм-0,159-нрокр+3/г2 12кр57-0,113-3/4а   \n",
       "..                                                 ...   \n",
       "302          4изумрудпм-0,540-кр+3/г3 2кр57-0,030-3/4а   \n",
       "303          2изумрудпм-0,270-м+2/г2 20кр57-0,240-3/5а   \n",
       "304          2изумрудпм-0,670-пр+5/г1 2кр57-0,030-3/3а   \n",
       "305  2изумрудпм-0,166-нрокр+3/г3 6кр57-0,076-4/5а 6...   \n",
       "306       6изумрудпм-0,203-нрокр+3/г3 6кр57-0,244-3/4а   \n",
       "\n",
       "                                     re01                        emerald_list  \\\n",
       "0     [(1, ИзумрудПМ, 1,270, НРООв, 2/г)]   (1, ИзумрудПМ, 1,270, НРООв, 2/г)   \n",
       "1    [(1, ИзумрудПМ, 0,100, НРОКр, 4/Г3)]  (1, ИзумрудПМ, 0,100, НРОКр, 4/Г3)   \n",
       "2    [(1, ИзумрудПМ, 0,234, НРОКр, 3/Г2)]  (1, ИзумрудПМ, 0,234, НРОКр, 3/Г2)   \n",
       "3    [(1, ИзумрудПМ, 0,340, НРООв, 3/Г3)]  (1, ИзумрудПМ, 0,340, НРООв, 3/Г3)   \n",
       "4    [(1, ИзумрудПМ, 0,159, НРОКр, 3/Г2)]  (1, ИзумрудПМ, 0,159, НРОКр, 3/Г2)   \n",
       "..                                    ...                                 ...   \n",
       "302     [(4, ИзумрудПМ, 0,540, кр, 3/Г3)]     (4, ИзумрудПМ, 0,540, кр, 3/Г3)   \n",
       "303      [(2, ИзумрудПМ, 0,270, м, 2/Г2)]      (2, ИзумрудПМ, 0,270, м, 2/Г2)   \n",
       "304     [(2, ИзумрудПМ, 0,670, пр, 5/Г1)]     (2, ИзумрудПМ, 0,670, пр, 5/Г1)   \n",
       "305  [(2, ИзумрудПМ, 0,166, НРОКр, 3/Г3)]  (2, ИзумрудПМ, 0,166, НРОКр, 3/Г3)   \n",
       "306  [(6, ИзумрудПМ, 0,203, НРОКр, 3/Г3)]  (6, ИзумрудПМ, 0,203, НРОКр, 3/Г3)   \n",
       "\n",
       "     len_jem  len_em  PCS        GEM  CARAT  ...  C    Q   CARAT_1  \\\n",
       "0          1       1    1  изумрудпм  1.270  ...  2  NaN  1.270000   \n",
       "1          1       1    1  изумрудпм  0.100  ...  4   Г3  0.100000   \n",
       "2          1       1    1  изумрудпм  0.234  ...  3   Г2  0.234000   \n",
       "3          1       1    1  изумрудпм  0.340  ...  3   Г3  0.340000   \n",
       "4          1       1    1  изумрудпм  0.159  ...  3   Г2  0.159000   \n",
       "..       ...     ...  ...        ...    ...  ... ..  ...       ...   \n",
       "302        1       1    4  изумрудпм  0.540  ...  3   Г3  0.135000   \n",
       "303        1       1    2  изумрудпм  0.270  ...  2   Г2  0.135000   \n",
       "304        1       1    2  изумрудпм  0.670  ...  5   Г1  0.335000   \n",
       "305        1       1    2  изумрудпм  0.166  ...  3   Г3  0.083000   \n",
       "306        1       1    6  изумрудпм  0.203  ...  3   Г3  0.033833   \n",
       "\n",
       "                                        size   ТУ  \\\n",
       "0    error_size_em_sto: q not in dcla_em_sto  NaN   \n",
       "1                                  0,10-0,24  СТО   \n",
       "2                                  0,10-0,24  СТО   \n",
       "3                                  0,25-0,49  СТО   \n",
       "4                                  0,10-0,24  СТО   \n",
       "..                                       ...  ...   \n",
       "302                                0,10-0,24  СТО   \n",
       "303                                0,10-0,24  СТО   \n",
       "304                                0,25-0,49  СТО   \n",
       "305                                  до 0,09  СТО   \n",
       "306                                  до 0,09  СТО   \n",
       "\n",
       "                                     Обработка               Огранка цвет  \\\n",
       "0                                          NaN                   NaN  NaN   \n",
       "1    промасливание (O) и заполнение трещин (F)  фацетный вид огранки    4   \n",
       "2    промасливание (O) и заполнение трещин (F)  фацетный вид огранки    3   \n",
       "3    промасливание (O) и заполнение трещин (F)  фацетный вид огранки    3   \n",
       "4    промасливание (O) и заполнение трещин (F)  фацетный вид огранки    3   \n",
       "..                                         ...                   ...  ...   \n",
       "302  промасливание (O) и заполнение трещин (F)  фацетный вид огранки    3   \n",
       "303  промасливание (O) и заполнение трещин (F)  фацетный вид огранки    2   \n",
       "304  промасливание (O) и заполнение трещин (F)  фацетный вид огранки    5   \n",
       "305  промасливание (O) и заполнение трещин (F)  фацетный вид огранки    3   \n",
       "306  промасливание (O) и заполнение трещин (F)  фацетный вид огранки    3   \n",
       "\n",
       "    чистота  price  \n",
       "0       NaN    NaN  \n",
       "1        Г3   40.0  \n",
       "2        Г2  120.0  \n",
       "3        Г3  110.0  \n",
       "4        Г2  120.0  \n",
       "..      ...    ...  \n",
       "302      Г3  100.0  \n",
       "303      Г2  200.0  \n",
       "304      Г1   30.0  \n",
       "305      Г3   65.0  \n",
       "306      Г3   65.0  \n",
       "\n",
       "[307 rows x 22 columns]"
      ]
     },
     "execution_count": 869,
     "metadata": {},
     "output_type": "execute_result"
    }
   ],
   "source": [
    "pd.merge(left=dfx, right=pr_em_sto,\n",
    "         how='left', \n",
    "         left_on=['size', 'C', 'Q',],\n",
    "         right_on=['size','цвет', 'чистота'])"
   ]
  },
  {
   "cell_type": "code",
   "execution_count": 788,
   "id": "035ff764",
   "metadata": {},
   "outputs": [],
   "source": [
    "_.to_excel('../ЦВДК/пром_рез_изумр_проверка_по.xlsx')"
   ]
  },
  {
   "cell_type": "code",
   "execution_count": null,
   "id": "80331789",
   "metadata": {},
   "outputs": [],
   "source": []
  },
  {
   "cell_type": "code",
   "execution_count": null,
   "id": "fe0b80a1",
   "metadata": {},
   "outputs": [],
   "source": []
  },
  {
   "cell_type": "code",
   "execution_count": null,
   "id": "2c6b1719",
   "metadata": {},
   "outputs": [],
   "source": []
  },
  {
   "cell_type": "markdown",
   "id": "c670666d",
   "metadata": {},
   "source": [
    "# sapphire разработка re"
   ]
  },
  {
   "cell_type": "code",
   "execution_count": null,
   "id": "811fa815",
   "metadata": {},
   "outputs": [],
   "source": [
    "#05-07-2022\n",
    "patternDtest = r\"\"\"(?ix)(?P<N>\\d*)[-_\\s]*(?P<Form>[A-яA-z.]+[-\\s]?\\d*)[\\s-]+    # штуки огранка\n",
    "               (?P<Carat>\\d\\d?[.,]?\\d*)[\\s-]+                                 # карат\n",
    "               (?P<ColQ>\\d+[.-]?\\d?[ /]+(?:7[aAаА]|\\d\\d?))[\\s-]*           # ц/д\n",
    "               (?P<PO>[aAаАбБвВгГbB]+)                                     # по\"\"\"\n",
    "\n",
    "patternG3 = r'''(?ix)(\\d*[-_\\s]*[A-яA-z]{3,15}[\\s-]+\\d[.,]?\\d*[\\s-]+ \\d\\d?[ /]+\\d\\d?\n",
    "                      | \\d*[-_\\s]*[A-яA-z]{3,15}[\\s-]+\\d{0,2}[.,]?\\d{0,3}[\\s-]+ [\\d\\w]{0,4}[ /]+[\\d\\w]{0,4}\\s\n",
    "                      |  \\d{0,2}[-_\\s]{0,2}[A-яA-z]{3,15}[\\s-]?(?:\\d{1,2}[.,]+\\d{1,3})?)'''\n",
    "\n",
    "pattern_g =  r\"\"\"(?ix)(?P<N>\\d*)\n",
    "               (?P<Gem>[A-яA-z.]+)[-]?# штуки gem\n",
    "               (?P<Carat>\\d\\d?[.,]?\\d*)[\\s-]+                                 # карат\n",
    "               (?P<Form>[A-яA-z.]+[+]?\\d*)[\\s-]+    \n",
    "               (?P<ColQ>\\d+[.-]?\\d?[ /]+(?:7[aAаА]|\\d\\d?))\"\"\"\n",
    "               \n",
    "\n",
    "pattern_g =  r\"\"\"(?ix)(?P<N>\\d*)\n",
    "               (?P<Gem>[A-яA-z.]{4,10})[-]?# штуки gem\n",
    "               (?P<Carat>\\d\\d?[.,]?\\d*)[\\s-]+                                 # карат\n",
    "               (?P<Form>[A-яA-z.]{1,5})[+\\s-]+ \n",
    "               (?P<ColQ>\\d+[ /]+(?:[Гг]|\\d\\d?))\n",
    "               \"\"\"\n",
    "\n",
    "vst = '2СапфирПТ-1,540-Кв+2/2 18КР57-0,145-6/6А 2КР57-0,016-4/5А'\n",
    "\n",
    "\n",
    "re.findall(pattern_g, vst )"
   ]
  },
  {
   "cell_type": "code",
   "execution_count": null,
   "id": "58fa5a68",
   "metadata": {},
   "outputs": [],
   "source": []
  },
  {
   "cell_type": "markdown",
   "id": "86278e18",
   "metadata": {},
   "source": [
    "## разработка массовая "
   ]
  },
  {
   "cell_type": "code",
   "execution_count": 25,
   "id": "f8e9aca6",
   "metadata": {},
   "outputs": [],
   "source": [
    "df = df_vst_15102023"
   ]
  },
  {
   "cell_type": "code",
   "execution_count": 103,
   "id": "aab736ca",
   "metadata": {},
   "outputs": [
    {
     "name": "stdout",
     "output_type": "stream",
     "text": [
      "<class 'pandas.core.frame.DataFrame'>\n",
      "Int64Index: 34269 entries, 0 to 34268\n",
      "Data columns (total 8 columns):\n",
      " #   Column                  Non-Null Count  Dtype \n",
      "---  ------                  --------------  ----- \n",
      " 0   Код                     34269 non-null  object\n",
      " 1   Вставки_д28             34269 non-null  object\n",
      " 2   emerald_list            34269 non-null  object\n",
      " 3   len_jem                 34269 non-null  int64 \n",
      " 4   len_em                  34269 non-null  int64 \n",
      " 5   price_em.vst2list       304 non-null    object\n",
      " 6   price_em.check_vstlist  304 non-null    object\n",
      " 7   prcost                  304 non-null    object\n",
      "dtypes: int64(2), object(6)\n",
      "memory usage: 2.4+ MB\n"
     ]
    }
   ],
   "source": [
    "df.info()"
   ]
  },
  {
   "cell_type": "code",
   "execution_count": 105,
   "id": "7eb2f852",
   "metadata": {},
   "outputs": [],
   "source": [
    "#11-11-2023-20-40\n",
    "pattern_sap =  r\"\"\"(?ix)(?P<N>\\d{,3})# штуки \n",
    "               (?P<Gem>сапфир[A-яA-z.]{1,5})[-]+#gem\n",
    "               (?P<Carat>\\d\\d?[.,]?\\d*)[\\s-]+                                 # карат\n",
    "               (?P<Form>[A-яA-z.\\d-]{1,10})[+]+#[+\\s-]+ \n",
    "               (?P<ColQ>\\d+[ /]+(?:\\d*[ГгКкKk]*\\d*))\"\"\"\n",
    "               "
   ]
  },
  {
   "cell_type": "code",
   "execution_count": 106,
   "id": "13ca3405",
   "metadata": {},
   "outputs": [],
   "source": [
    "#в разработке с *цвет\n",
    "pattern_sap2 =  r\"\"\"(?ix)(?P<N>\\d{,3})# штуки \n",
    "               (?P<Gem>сапфир[A-яA-z.]{1,5})[-]+#gem\n",
    "               (?P<Carat>\\d\\d?[.,]?\\d*)[\\s-]+                                 # карат\n",
    "               (?P<Form>[A-яA-z.\\d-]{1,10})[+]+#[+\\s-]+ \n",
    "               (?P<ColQ>\\d+[ /]+(?:\\d*[ГгКкKk]*\\d*)[*]*[A-яA-z]*)\"\"\"\n",
    "               "
   ]
  },
  {
   "cell_type": "code",
   "execution_count": 107,
   "id": "27ed298b",
   "metadata": {},
   "outputs": [],
   "source": [
    "# чисто для сапфирП\n",
    "pattern_jsap = r\"\"\"(?ix)(?P<Gem>сапфирп)+#gem\"\"\""
   ]
  },
  {
   "cell_type": "code",
   "execution_count": 109,
   "id": "330fe237",
   "metadata": {},
   "outputs": [
    {
     "data": {
      "text/plain": [
       "['СапфирП', 'СапфирП', 'СапфирП']"
      ]
     },
     "execution_count": 109,
     "metadata": {},
     "output_type": "execute_result"
    }
   ],
   "source": [
    "#проверка\n",
    "re.findall(pattern_jsap, '3ИзумрудПМ-0,160-НРОКр+3/Г2 3РубинПТ-0,210-Кр+2/2 3СапфирПТ-0,220-Кр+2/2*Желтый 3СапфирПТ-0,230-Кр+2/2*Розовый 3СапфирПТ-0,220-Кр+2/2*Оранжевый 13КР57-0,140-3/5А 9КР57-0,550-3/3А')"
   ]
  },
  {
   "cell_type": "code",
   "execution_count": 110,
   "id": "84f741fa",
   "metadata": {},
   "outputs": [
    {
     "data": {
      "text/plain": [
       "[('3', 'СапфирПТ', '0,220', 'Кр', '2/2'),\n",
       " ('3', 'СапфирПТ', '0,230', 'Кр', '2/2'),\n",
       " ('3', 'СапфирПТ', '0,220', 'Кр', '2/2')]"
      ]
     },
     "execution_count": 110,
     "metadata": {},
     "output_type": "execute_result"
    }
   ],
   "source": [
    "re.findall(pattern_sap, '3ИзумрудПМ-0,160-НРОКр+3/Г2 3РубинПТ-0,210-Кр+2/2 3СапфирПТ-0,220-Кр+2/2*Желтый 3СапфирПТ-0,230-Кр+2/2*Розовый 3СапфирПТ-0,220-Кр+2/2*Оранжевый 13КР57-0,140-3/5А 9КР57-0,550-3/3А')"
   ]
  },
  {
   "cell_type": "code",
   "execution_count": 111,
   "id": "61baa4d5",
   "metadata": {},
   "outputs": [
    {
     "data": {
      "text/plain": [
       "[('3', 'СапфирПТ', '0,220', 'Кр', '2/2*Желтый'),\n",
       " ('3', 'СапфирПТ', '0,230', 'Кр', '2/2*Розовый'),\n",
       " ('3', 'СапфирПТ', '0,220', 'Кр', '2/2*Оранжевый')]"
      ]
     },
     "execution_count": 111,
     "metadata": {},
     "output_type": "execute_result"
    }
   ],
   "source": [
    "re.findall(pattern_sap2,'3ИзумрудПМ-0,160-НРОКр+3/Г2 3РубинПТ-0,210-Кр+2/2 3СапфирПТ-0,220-Кр+2/2*Желтый 3СапфирПТ-0,230-Кр+2/2*Розовый 3СапфирПТ-0,220-Кр+2/2*Оранжевый 13КР57-0,140-3/5А 9КР57-0,550-3/3А')"
   ]
  },
  {
   "cell_type": "code",
   "execution_count": 116,
   "id": "590610e5",
   "metadata": {},
   "outputs": [],
   "source": [
    "df['sapphire_list'] = df['Вставки_д28'].apply(lambda x: re.findall(pattern_sap2, x))"
   ]
  },
  {
   "cell_type": "code",
   "execution_count": 117,
   "id": "bcf90d5f",
   "metadata": {},
   "outputs": [],
   "source": [
    "df['jsapphire_list'] = df['Вставки_д28'].apply(lambda x: re.findall(pattern_jsap, x))"
   ]
  },
  {
   "cell_type": "code",
   "execution_count": 120,
   "id": "8670c5d8",
   "metadata": {},
   "outputs": [],
   "source": [
    "df['len_sap'] = df['sapphire_list'].map(len) "
   ]
  },
  {
   "cell_type": "code",
   "execution_count": 121,
   "id": "2c93c078",
   "metadata": {},
   "outputs": [],
   "source": [
    "df['len_jsap'] = df['jsapphire_list'].map(len) "
   ]
  },
  {
   "cell_type": "code",
   "execution_count": null,
   "id": "ca2c6f75",
   "metadata": {},
   "outputs": [],
   "source": [
    "# ошибки не распознаны\n",
    "ts3='''\n",
    "46КР57-0,202-2/4А 67СапфирПТ-КР-0,332+2/2\n",
    "1СапфирПТ-0,603-КР+4в/3 2КР57-0,008-3/6А\n",
    "2СапфирПТ-1,205-КР+4в/3 2КР57-0,008-3/6А\n",
    "1СапфирПТ-КР-0,093+2/3\n",
    "1СапфирПТ-0,603- кр+4в/3 2КР57-0,008-3/6А\n",
    "2СапфирПТ-1,205-кр+4в/3 2КР57-0,008-3/6А\n",
    "6СапфирПТ-0,074+Кр+2/2 1КР57-0,006-3/4А 5КР57-0,023-3/3А\n",
    "'''"
   ]
  },
  {
   "cell_type": "code",
   "execution_count": null,
   "id": "df7a2f65",
   "metadata": {},
   "outputs": [],
   "source": []
  },
  {
   "cell_type": "code",
   "execution_count": null,
   "id": "9f9f49a8",
   "metadata": {},
   "outputs": [],
   "source": []
  },
  {
   "cell_type": "code",
   "execution_count": 122,
   "id": "7a4d60c0",
   "metadata": {},
   "outputs": [
    {
     "data": {
      "text/plain": [
       "Index(['Код', 'Вставки_д28', 'emerald_list', 'len_jem', 'len_em',\n",
       "       'price_em.vst2list', 'price_em.check_vstlist', 'prcost',\n",
       "       'sapphire_list', 'jsapphire_list', 'len_sap', 'len_jsap'],\n",
       "      dtype='object')"
      ]
     },
     "execution_count": 122,
     "metadata": {},
     "output_type": "execute_result"
    }
   ],
   "source": [
    "df.columns"
   ]
  },
  {
   "cell_type": "code",
   "execution_count": 125,
   "id": "d20ec5f0",
   "metadata": {},
   "outputs": [
    {
     "name": "stdout",
     "output_type": "stream",
     "text": [
      "<class 'pandas.core.frame.DataFrame'>\n",
      "Int64Index: 34269 entries, 0 to 34268\n",
      "Data columns (total 12 columns):\n",
      " #   Column                  Non-Null Count  Dtype \n",
      "---  ------                  --------------  ----- \n",
      " 0   Код                     34269 non-null  object\n",
      " 1   Вставки_д28             34269 non-null  object\n",
      " 2   emerald_list            34269 non-null  object\n",
      " 3   len_jem                 34269 non-null  int64 \n",
      " 4   len_em                  34269 non-null  int64 \n",
      " 5   price_em.vst2list       304 non-null    object\n",
      " 6   price_em.check_vstlist  304 non-null    object\n",
      " 7   prcost                  304 non-null    object\n",
      " 8   sapphire_list           34269 non-null  object\n",
      " 9   jsapphire_list          34269 non-null  object\n",
      " 10  len_sap                 34269 non-null  int64 \n",
      " 11  len_jsap                34269 non-null  int64 \n",
      "dtypes: int64(4), object(8)\n",
      "memory usage: 3.4+ MB\n"
     ]
    }
   ],
   "source": [
    "df.info()"
   ]
  },
  {
   "cell_type": "code",
   "execution_count": 126,
   "id": "84a549c1",
   "metadata": {},
   "outputs": [],
   "source": [
    "df_xs = df[['Код', 'Вставки_д28',\n",
    "       'sapphire_list', 'jsapphire_list', 'len_sap', 'len_jsap']].explode('sapphire_list').copy(deep=True)"
   ]
  },
  {
   "cell_type": "code",
   "execution_count": 127,
   "id": "20714430",
   "metadata": {},
   "outputs": [
    {
     "name": "stdout",
     "output_type": "stream",
     "text": [
      "<class 'pandas.core.frame.DataFrame'>\n",
      "Int64Index: 34297 entries, 0 to 34268\n",
      "Data columns (total 6 columns):\n",
      " #   Column          Non-Null Count  Dtype \n",
      "---  ------          --------------  ----- \n",
      " 0   Код             34297 non-null  object\n",
      " 1   Вставки_д28     34297 non-null  object\n",
      " 2   sapphire_list   445 non-null    object\n",
      " 3   jsapphire_list  34297 non-null  object\n",
      " 4   len_sap         34297 non-null  int64 \n",
      " 5   len_jsap        34297 non-null  int64 \n",
      "dtypes: int64(2), object(4)\n",
      "memory usage: 1.8+ MB\n"
     ]
    }
   ],
   "source": [
    "df_xs.info()"
   ]
  },
  {
   "cell_type": "code",
   "execution_count": 128,
   "id": "80a5b7ac",
   "metadata": {
    "scrolled": true
   },
   "outputs": [],
   "source": [
    "df_xs.dropna(subset='sapphire_list', inplace=True)"
   ]
  },
  {
   "cell_type": "markdown",
   "id": "81221bc6",
   "metadata": {},
   "source": [
    "### разбор по  [\"PCS\",\"GEM\",\"CARAT\", \"FORM\", \"CQ\"]"
   ]
  },
  {
   "cell_type": "code",
   "execution_count": 129,
   "id": "20df284a",
   "metadata": {},
   "outputs": [],
   "source": [
    "cols = [\"PCS\",\"GEM\",\"CARAT\", \"FORM\", \"CQ\"]\n",
    "for c in range(len(cols)):\n",
    "    df_xs[cols[c]] = df_xs.sapphire_list.apply(lambda x: x[c].lower().strip())"
   ]
  },
  {
   "cell_type": "code",
   "execution_count": 130,
   "id": "10fb6902",
   "metadata": {
    "scrolled": true
   },
   "outputs": [
    {
     "data": {
      "text/html": [
       "<div>\n",
       "<style scoped>\n",
       "    .dataframe tbody tr th:only-of-type {\n",
       "        vertical-align: middle;\n",
       "    }\n",
       "\n",
       "    .dataframe tbody tr th {\n",
       "        vertical-align: top;\n",
       "    }\n",
       "\n",
       "    .dataframe thead th {\n",
       "        text-align: right;\n",
       "    }\n",
       "</style>\n",
       "<table border=\"1\" class=\"dataframe\">\n",
       "  <thead>\n",
       "    <tr style=\"text-align: right;\">\n",
       "      <th></th>\n",
       "      <th>Код</th>\n",
       "      <th>Вставки_д28</th>\n",
       "      <th>sapphire_list</th>\n",
       "      <th>jsapphire_list</th>\n",
       "      <th>len_sap</th>\n",
       "      <th>len_jsap</th>\n",
       "      <th>PCS</th>\n",
       "      <th>GEM</th>\n",
       "      <th>CARAT</th>\n",
       "      <th>FORM</th>\n",
       "      <th>CQ</th>\n",
       "    </tr>\n",
       "  </thead>\n",
       "  <tbody>\n",
       "    <tr>\n",
       "      <th>373</th>\n",
       "      <td>ЦБ-00163309</td>\n",
       "      <td>1СапфирПТ-0,470-ОВ+2/2 8Кр17-0,040-2/2А</td>\n",
       "      <td>(1, СапфирПТ, 0,470, ОВ, 2/2)</td>\n",
       "      <td>[СапфирП]</td>\n",
       "      <td>1</td>\n",
       "      <td>1</td>\n",
       "      <td>1</td>\n",
       "      <td>сапфирпт</td>\n",
       "      <td>0,470</td>\n",
       "      <td>ов</td>\n",
       "      <td>2/2</td>\n",
       "    </tr>\n",
       "    <tr>\n",
       "      <th>379</th>\n",
       "      <td>ЦБ-00163537</td>\n",
       "      <td>1СапфирПТ-0,550-С+2/1 1Кр57-0,020-3/2А</td>\n",
       "      <td>(1, СапфирПТ, 0,550, С, 2/1)</td>\n",
       "      <td>[СапфирП]</td>\n",
       "      <td>1</td>\n",
       "      <td>1</td>\n",
       "      <td>1</td>\n",
       "      <td>сапфирпт</td>\n",
       "      <td>0,550</td>\n",
       "      <td>с</td>\n",
       "      <td>2/1</td>\n",
       "    </tr>\n",
       "    <tr>\n",
       "      <th>380</th>\n",
       "      <td>ЦБ-00163613</td>\n",
       "      <td>1СапфирПТ-0,220-КР+2/2 2Кр57-0,040-4/2А</td>\n",
       "      <td>(1, СапфирПТ, 0,220, КР, 2/2)</td>\n",
       "      <td>[СапфирП]</td>\n",
       "      <td>1</td>\n",
       "      <td>1</td>\n",
       "      <td>1</td>\n",
       "      <td>сапфирпт</td>\n",
       "      <td>0,220</td>\n",
       "      <td>кр</td>\n",
       "      <td>2/2</td>\n",
       "    </tr>\n",
       "    <tr>\n",
       "      <th>383</th>\n",
       "      <td>ЦБ-00165984</td>\n",
       "      <td>1СапфирПТ-0,276-ОВ+2/3 20Кр57-0,108-4/5А</td>\n",
       "      <td>(1, СапфирПТ, 0,276, ОВ, 2/3)</td>\n",
       "      <td>[СапфирП]</td>\n",
       "      <td>1</td>\n",
       "      <td>1</td>\n",
       "      <td>1</td>\n",
       "      <td>сапфирпт</td>\n",
       "      <td>0,276</td>\n",
       "      <td>ов</td>\n",
       "      <td>2/3</td>\n",
       "    </tr>\n",
       "    <tr>\n",
       "      <th>384</th>\n",
       "      <td>ЦБ-00165994</td>\n",
       "      <td>1СапфирПТ-0,332-ОВ+2/2 6Кр57-0,057-4/6А</td>\n",
       "      <td>(1, СапфирПТ, 0,332, ОВ, 2/2)</td>\n",
       "      <td>[СапфирП]</td>\n",
       "      <td>1</td>\n",
       "      <td>1</td>\n",
       "      <td>1</td>\n",
       "      <td>сапфирпт</td>\n",
       "      <td>0,332</td>\n",
       "      <td>ов</td>\n",
       "      <td>2/2</td>\n",
       "    </tr>\n",
       "    <tr>\n",
       "      <th>...</th>\n",
       "      <td>...</td>\n",
       "      <td>...</td>\n",
       "      <td>...</td>\n",
       "      <td>...</td>\n",
       "      <td>...</td>\n",
       "      <td>...</td>\n",
       "      <td>...</td>\n",
       "      <td>...</td>\n",
       "      <td>...</td>\n",
       "      <td>...</td>\n",
       "      <td>...</td>\n",
       "    </tr>\n",
       "    <tr>\n",
       "      <th>32925</th>\n",
       "      <td>ЦБ-00181171</td>\n",
       "      <td>2СапфирПТ-4,460-Ов+2/2 12КР57-0,096-3/3А</td>\n",
       "      <td>(2, СапфирПТ, 4,460, Ов, 2/2)</td>\n",
       "      <td>[СапфирП]</td>\n",
       "      <td>1</td>\n",
       "      <td>1</td>\n",
       "      <td>2</td>\n",
       "      <td>сапфирпт</td>\n",
       "      <td>4,460</td>\n",
       "      <td>ов</td>\n",
       "      <td>2/2</td>\n",
       "    </tr>\n",
       "    <tr>\n",
       "      <th>32926</th>\n",
       "      <td>ЦБ-00181172</td>\n",
       "      <td>ЖемчугБ 4СапфирПТ-1,210-Ф+2/2 8КР57-0,230-5/3А...</td>\n",
       "      <td>(4, СапфирПТ, 1,210, Ф, 2/2)</td>\n",
       "      <td>[СапфирП]</td>\n",
       "      <td>1</td>\n",
       "      <td>1</td>\n",
       "      <td>4</td>\n",
       "      <td>сапфирпт</td>\n",
       "      <td>1,210</td>\n",
       "      <td>ф</td>\n",
       "      <td>2/2</td>\n",
       "    </tr>\n",
       "    <tr>\n",
       "      <th>32931</th>\n",
       "      <td>ЦБ-00181187</td>\n",
       "      <td>2СапфирПТ-0,406-Ов+2/3 2СапфирПТ-1,037-Ов+2/2 ...</td>\n",
       "      <td>(2, СапфирПТ, 0,406, Ов, 2/3)</td>\n",
       "      <td>[СапфирП, СапфирП]</td>\n",
       "      <td>2</td>\n",
       "      <td>2</td>\n",
       "      <td>2</td>\n",
       "      <td>сапфирпт</td>\n",
       "      <td>0,406</td>\n",
       "      <td>ов</td>\n",
       "      <td>2/3</td>\n",
       "    </tr>\n",
       "    <tr>\n",
       "      <th>32931</th>\n",
       "      <td>ЦБ-00181187</td>\n",
       "      <td>2СапфирПТ-0,406-Ов+2/3 2СапфирПТ-1,037-Ов+2/2 ...</td>\n",
       "      <td>(2, СапфирПТ, 1,037, Ов, 2/2)</td>\n",
       "      <td>[СапфирП, СапфирП]</td>\n",
       "      <td>2</td>\n",
       "      <td>2</td>\n",
       "      <td>2</td>\n",
       "      <td>сапфирпт</td>\n",
       "      <td>1,037</td>\n",
       "      <td>ов</td>\n",
       "      <td>2/2</td>\n",
       "    </tr>\n",
       "    <tr>\n",
       "      <th>34218</th>\n",
       "      <td>ЦБ-00006196</td>\n",
       "      <td>4СапфирПТ-0,640-кр+2/2 2Кр57-0,03-2/4А</td>\n",
       "      <td>(4, СапфирПТ, 0,640, кр, 2/2)</td>\n",
       "      <td>[СапфирП]</td>\n",
       "      <td>1</td>\n",
       "      <td>1</td>\n",
       "      <td>4</td>\n",
       "      <td>сапфирпт</td>\n",
       "      <td>0,640</td>\n",
       "      <td>кр</td>\n",
       "      <td>2/2</td>\n",
       "    </tr>\n",
       "  </tbody>\n",
       "</table>\n",
       "<p>445 rows × 11 columns</p>\n",
       "</div>"
      ],
      "text/plain": [
       "               Код                                        Вставки_д28  \\\n",
       "373    ЦБ-00163309            1СапфирПТ-0,470-ОВ+2/2 8Кр17-0,040-2/2А   \n",
       "379    ЦБ-00163537             1СапфирПТ-0,550-С+2/1 1Кр57-0,020-3/2А   \n",
       "380    ЦБ-00163613            1СапфирПТ-0,220-КР+2/2 2Кр57-0,040-4/2А   \n",
       "383    ЦБ-00165984           1СапфирПТ-0,276-ОВ+2/3 20Кр57-0,108-4/5А   \n",
       "384    ЦБ-00165994            1СапфирПТ-0,332-ОВ+2/2 6Кр57-0,057-4/6А   \n",
       "...            ...                                                ...   \n",
       "32925  ЦБ-00181171           2СапфирПТ-4,460-Ов+2/2 12КР57-0,096-3/3А   \n",
       "32926  ЦБ-00181172  ЖемчугБ 4СапфирПТ-1,210-Ф+2/2 8КР57-0,230-5/3А...   \n",
       "32931  ЦБ-00181187  2СапфирПТ-0,406-Ов+2/3 2СапфирПТ-1,037-Ов+2/2 ...   \n",
       "32931  ЦБ-00181187  2СапфирПТ-0,406-Ов+2/3 2СапфирПТ-1,037-Ов+2/2 ...   \n",
       "34218  ЦБ-00006196             4СапфирПТ-0,640-кр+2/2 2Кр57-0,03-2/4А   \n",
       "\n",
       "                       sapphire_list      jsapphire_list  len_sap  len_jsap  \\\n",
       "373    (1, СапфирПТ, 0,470, ОВ, 2/2)           [СапфирП]        1         1   \n",
       "379     (1, СапфирПТ, 0,550, С, 2/1)           [СапфирП]        1         1   \n",
       "380    (1, СапфирПТ, 0,220, КР, 2/2)           [СапфирП]        1         1   \n",
       "383    (1, СапфирПТ, 0,276, ОВ, 2/3)           [СапфирП]        1         1   \n",
       "384    (1, СапфирПТ, 0,332, ОВ, 2/2)           [СапфирП]        1         1   \n",
       "...                              ...                 ...      ...       ...   \n",
       "32925  (2, СапфирПТ, 4,460, Ов, 2/2)           [СапфирП]        1         1   \n",
       "32926   (4, СапфирПТ, 1,210, Ф, 2/2)           [СапфирП]        1         1   \n",
       "32931  (2, СапфирПТ, 0,406, Ов, 2/3)  [СапфирП, СапфирП]        2         2   \n",
       "32931  (2, СапфирПТ, 1,037, Ов, 2/2)  [СапфирП, СапфирП]        2         2   \n",
       "34218  (4, СапфирПТ, 0,640, кр, 2/2)           [СапфирП]        1         1   \n",
       "\n",
       "      PCS       GEM  CARAT FORM   CQ  \n",
       "373     1  сапфирпт  0,470   ов  2/2  \n",
       "379     1  сапфирпт  0,550    с  2/1  \n",
       "380     1  сапфирпт  0,220   кр  2/2  \n",
       "383     1  сапфирпт  0,276   ов  2/3  \n",
       "384     1  сапфирпт  0,332   ов  2/2  \n",
       "...    ..       ...    ...  ...  ...  \n",
       "32925   2  сапфирпт  4,460   ов  2/2  \n",
       "32926   4  сапфирпт  1,210    ф  2/2  \n",
       "32931   2  сапфирпт  0,406   ов  2/3  \n",
       "32931   2  сапфирпт  1,037   ов  2/2  \n",
       "34218   4  сапфирпт  0,640   кр  2/2  \n",
       "\n",
       "[445 rows x 11 columns]"
      ]
     },
     "execution_count": 130,
     "metadata": {},
     "output_type": "execute_result"
    }
   ],
   "source": [
    "df_xs"
   ]
  },
  {
   "cell_type": "code",
   "execution_count": 133,
   "id": "20e73a84",
   "metadata": {},
   "outputs": [
    {
     "name": "stdout",
     "output_type": "stream",
     "text": [
      "PCS ['1' '6' '2' '4' '38' '77' '' '3' '32' '51' '27' '11' '8' '5' '9' '7' '14'\n",
      " '15' '12' '17' '46' '56' '20']\n",
      "GEM ['сапфирпт' 'сапфирпм' 'сапфирпф' 'сапфирн']\n",
      "CARAT ['0,470' '0,550' '0,220' '0,276' '0,332' '0,248' '1,726' '0,260' '0,277'\n",
      " '0,400' '0,320' '0,520' '0,194' '0,488' '20,980' '13,750' '0,620' '0,680'\n",
      " '0,590' '0,230' '0,580' '0,790' '0,820' '1,200' '0,530' '0,880' '0,090'\n",
      " '0,120' '0,430' '0,760' '0,360' '0,335' '0,450' '1,260' '0,203' '0,519'\n",
      " '1,370' '0,115' '0,070' '0,140' '0,080' '0,240' '0,364' '0,630' '0,187'\n",
      " '0,293' '0,455' '0,287' '0,340' '0,211' '0,300' '1,780' '0,14' '0,050'\n",
      " '0,030' '1,070' '0,710' '1,570' '3,320' '1,050' '1,484' '0,100' '6,300'\n",
      " '2,280' '1,220' '0,162' '0,699' '0,570' '1,640' '0,449' '1,300' '0,314'\n",
      " '0,153' '5,020' '0,0585' '1,290' '0,770' '0,410' '0,270' '0,160' '0,610'\n",
      " '4,369' '0,780' '0,135' '0,200' '0,170' '1,490' '0,092' '0,235' '0,390'\n",
      " '0,130' '0,110' '1,097' '1,372' '1,230' '0,150' '0,165' '0,125' '0,305'\n",
      " '0,543' '0,355' '0,303' '0,310' '0,640' '0,330' '0,2565' '0,452' '0,600'\n",
      " '1,409' '2,982' '0,370' '0,168' '0,075' '0,058' '0,228' '0,040' '0,195'\n",
      " '0,104' '0,560' '0,180' '0,831' '0,690' '0,700' '0,313' '0,540' '0,440'\n",
      " '0,185' '0,060' '1,060' '0,163' '0,190' '0,920' '0,830' '0,051' '2,24'\n",
      " '0,148' '0,307' '0,04' '0,900' '0,198' '0,052' '4,430' '1,000' '0,558'\n",
      " '0,405' '0,423' '0,424' '0,890' '0,705' '0580' '0,990' '1,470' '1,020'\n",
      " '0,930' '2,090' '1,540' '1,148' '1,117' '5,580' '0,393' '0,093' '0,274'\n",
      " '0,134' '0,139' '0,155' '0,386' '0,605' '1,810' '0,280' '0,810' '2,100'\n",
      " '1,040' '0,860' '0,960' '0,453' '4,460' '1,210' '0,406' '1,037']\n",
      "FORM ['ов' 'с' 'кр' 'м' 'крн' 'гр' 'ф' 'кв' 'нрог' 'пр' 'кр57']\n",
      "CQ ['2/2' '2/1' '2/3' '3/2' '2/2*желтый' '2/2*розовый' '2/2*оранжевый' '3/3'\n",
      " '3/3*оранжевый' '3/3*розовый' '3/3*желтый' '3/3*зеленый' '2/3*синий'\n",
      " '2/2*синий' '3/2*синий' '3/1г' '2/4' '2/2а' '1/1' '1/2' '5/2' '4/3*синий'\n",
      " '4/2*розовый' '3/2*желтый' '3/4*желтый' '4/3*розовый' '4/2' '2/3а'\n",
      " '3/3*желтыйзеленый' '2/2*падпараджа' '4/3']\n"
     ]
    }
   ],
   "source": [
    "for c in cols:\n",
    "    print(c, df_xs[c].unique())"
   ]
  },
  {
   "cell_type": "code",
   "execution_count": 134,
   "id": "7866e6d5",
   "metadata": {},
   "outputs": [
    {
     "data": {
      "text/html": [
       "<div>\n",
       "<style scoped>\n",
       "    .dataframe tbody tr th:only-of-type {\n",
       "        vertical-align: middle;\n",
       "    }\n",
       "\n",
       "    .dataframe tbody tr th {\n",
       "        vertical-align: top;\n",
       "    }\n",
       "\n",
       "    .dataframe thead th {\n",
       "        text-align: right;\n",
       "    }\n",
       "</style>\n",
       "<table border=\"1\" class=\"dataframe\">\n",
       "  <thead>\n",
       "    <tr style=\"text-align: right;\">\n",
       "      <th></th>\n",
       "      <th>Код</th>\n",
       "      <th>Вставки_д28</th>\n",
       "      <th>sapphire_list</th>\n",
       "      <th>jsapphire_list</th>\n",
       "      <th>len_sap</th>\n",
       "      <th>len_jsap</th>\n",
       "      <th>PCS</th>\n",
       "      <th>GEM</th>\n",
       "      <th>CARAT</th>\n",
       "      <th>FORM</th>\n",
       "      <th>CQ</th>\n",
       "    </tr>\n",
       "  </thead>\n",
       "  <tbody>\n",
       "    <tr>\n",
       "      <th>26672</th>\n",
       "      <td>ЦБ-00005905</td>\n",
       "      <td>9СапфирПТ-0,052-кр+2/3А 8Кр57-0,038-4/4А</td>\n",
       "      <td>(9, СапфирПТ, 0,052, кр, 2/3А)</td>\n",
       "      <td>[СапфирП]</td>\n",
       "      <td>1</td>\n",
       "      <td>1</td>\n",
       "      <td>9</td>\n",
       "      <td>сапфирпт</td>\n",
       "      <td>0,052</td>\n",
       "      <td>кр</td>\n",
       "      <td>2/3а</td>\n",
       "    </tr>\n",
       "  </tbody>\n",
       "</table>\n",
       "</div>"
      ],
      "text/plain": [
       "               Код                               Вставки_д28  \\\n",
       "26672  ЦБ-00005905  9СапфирПТ-0,052-кр+2/3А 8Кр57-0,038-4/4А   \n",
       "\n",
       "                        sapphire_list jsapphire_list  len_sap  len_jsap PCS  \\\n",
       "26672  (9, СапфирПТ, 0,052, кр, 2/3А)      [СапфирП]        1         1   9   \n",
       "\n",
       "            GEM  CARAT FORM    CQ  \n",
       "26672  сапфирпт  0,052   кр  2/3а  "
      ]
     },
     "execution_count": 134,
     "metadata": {},
     "output_type": "execute_result"
    }
   ],
   "source": [
    "df_xs[df_xs['CQ']=='2/3а']"
   ]
  },
  {
   "cell_type": "code",
   "execution_count": 136,
   "id": "be8b5bb0",
   "metadata": {},
   "outputs": [
    {
     "data": {
      "text/html": [
       "<div>\n",
       "<style scoped>\n",
       "    .dataframe tbody tr th:only-of-type {\n",
       "        vertical-align: middle;\n",
       "    }\n",
       "\n",
       "    .dataframe tbody tr th {\n",
       "        vertical-align: top;\n",
       "    }\n",
       "\n",
       "    .dataframe thead th {\n",
       "        text-align: right;\n",
       "    }\n",
       "</style>\n",
       "<table border=\"1\" class=\"dataframe\">\n",
       "  <thead>\n",
       "    <tr style=\"text-align: right;\">\n",
       "      <th></th>\n",
       "      <th>Код</th>\n",
       "      <th>Вставки_д28</th>\n",
       "      <th>sapphire_list</th>\n",
       "      <th>jsapphire_list</th>\n",
       "      <th>len_sap</th>\n",
       "      <th>len_jsap</th>\n",
       "      <th>PCS</th>\n",
       "      <th>GEM</th>\n",
       "      <th>CARAT</th>\n",
       "      <th>FORM</th>\n",
       "      <th>CQ</th>\n",
       "    </tr>\n",
       "  </thead>\n",
       "  <tbody>\n",
       "    <tr>\n",
       "      <th>1187</th>\n",
       "      <td>ЦБ-00160647</td>\n",
       "      <td>СапфирПТ-0,620-Гр+2/1 8КР57-0,203-4/6А</td>\n",
       "      <td>(, СапфирПТ, 0,620, Гр, 2/1)</td>\n",
       "      <td>[СапфирП]</td>\n",
       "      <td>1</td>\n",
       "      <td>1</td>\n",
       "      <td></td>\n",
       "      <td>сапфирпт</td>\n",
       "      <td>0,620</td>\n",
       "      <td>гр</td>\n",
       "      <td>2/1</td>\n",
       "    </tr>\n",
       "    <tr>\n",
       "      <th>18520</th>\n",
       "      <td>ЦБ-00101518</td>\n",
       "      <td>СапфирПТ-0,320-КР+2/3 4Кр57-0,030-2/4А</td>\n",
       "      <td>(, СапфирПТ, 0,320, КР, 2/3)</td>\n",
       "      <td>[СапфирП]</td>\n",
       "      <td>1</td>\n",
       "      <td>1</td>\n",
       "      <td></td>\n",
       "      <td>сапфирпт</td>\n",
       "      <td>0,320</td>\n",
       "      <td>кр</td>\n",
       "      <td>2/3</td>\n",
       "    </tr>\n",
       "  </tbody>\n",
       "</table>\n",
       "</div>"
      ],
      "text/plain": [
       "               Код                             Вставки_д28  \\\n",
       "1187   ЦБ-00160647  СапфирПТ-0,620-Гр+2/1 8КР57-0,203-4/6А   \n",
       "18520  ЦБ-00101518  СапфирПТ-0,320-КР+2/3 4Кр57-0,030-2/4А   \n",
       "\n",
       "                      sapphire_list jsapphire_list  len_sap  len_jsap PCS  \\\n",
       "1187   (, СапфирПТ, 0,620, Гр, 2/1)      [СапфирП]        1         1       \n",
       "18520  (, СапфирПТ, 0,320, КР, 2/3)      [СапфирП]        1         1       \n",
       "\n",
       "            GEM  CARAT FORM   CQ  \n",
       "1187   сапфирпт  0,620   гр  2/1  \n",
       "18520  сапфирпт  0,320   кр  2/3  "
      ]
     },
     "execution_count": 136,
     "metadata": {},
     "output_type": "execute_result"
    }
   ],
   "source": [
    "df_xs[df_xs['PCS']=='']"
   ]
  },
  {
   "cell_type": "code",
   "execution_count": 137,
   "id": "1f5d484a",
   "metadata": {},
   "outputs": [],
   "source": [
    "df_xs['C'] = df_xs['CQ'].apply(lambda x: x.split('/')[0].lower().strip())\n",
    "df_xs['Q'] = df_xs['CQ'].apply(lambda x: x.split('/')[1].lower().strip())"
   ]
  },
  {
   "cell_type": "code",
   "execution_count": 138,
   "id": "b85ab2a6",
   "metadata": {
    "scrolled": true
   },
   "outputs": [
    {
     "data": {
      "text/html": [
       "<div>\n",
       "<style scoped>\n",
       "    .dataframe tbody tr th:only-of-type {\n",
       "        vertical-align: middle;\n",
       "    }\n",
       "\n",
       "    .dataframe tbody tr th {\n",
       "        vertical-align: top;\n",
       "    }\n",
       "\n",
       "    .dataframe thead th {\n",
       "        text-align: right;\n",
       "    }\n",
       "</style>\n",
       "<table border=\"1\" class=\"dataframe\">\n",
       "  <thead>\n",
       "    <tr style=\"text-align: right;\">\n",
       "      <th></th>\n",
       "      <th>Код</th>\n",
       "      <th>Вставки_д28</th>\n",
       "      <th>sapphire_list</th>\n",
       "      <th>jsapphire_list</th>\n",
       "      <th>len_sap</th>\n",
       "      <th>len_jsap</th>\n",
       "      <th>PCS</th>\n",
       "      <th>GEM</th>\n",
       "      <th>CARAT</th>\n",
       "      <th>FORM</th>\n",
       "      <th>CQ</th>\n",
       "      <th>C</th>\n",
       "      <th>Q</th>\n",
       "    </tr>\n",
       "  </thead>\n",
       "  <tbody>\n",
       "    <tr>\n",
       "      <th>373</th>\n",
       "      <td>ЦБ-00163309</td>\n",
       "      <td>1СапфирПТ-0,470-ОВ+2/2 8Кр17-0,040-2/2А</td>\n",
       "      <td>(1, СапфирПТ, 0,470, ОВ, 2/2)</td>\n",
       "      <td>[СапфирП]</td>\n",
       "      <td>1</td>\n",
       "      <td>1</td>\n",
       "      <td>1</td>\n",
       "      <td>сапфирпт</td>\n",
       "      <td>0,470</td>\n",
       "      <td>ов</td>\n",
       "      <td>2/2</td>\n",
       "      <td>2</td>\n",
       "      <td>2</td>\n",
       "    </tr>\n",
       "    <tr>\n",
       "      <th>379</th>\n",
       "      <td>ЦБ-00163537</td>\n",
       "      <td>1СапфирПТ-0,550-С+2/1 1Кр57-0,020-3/2А</td>\n",
       "      <td>(1, СапфирПТ, 0,550, С, 2/1)</td>\n",
       "      <td>[СапфирП]</td>\n",
       "      <td>1</td>\n",
       "      <td>1</td>\n",
       "      <td>1</td>\n",
       "      <td>сапфирпт</td>\n",
       "      <td>0,550</td>\n",
       "      <td>с</td>\n",
       "      <td>2/1</td>\n",
       "      <td>2</td>\n",
       "      <td>1</td>\n",
       "    </tr>\n",
       "    <tr>\n",
       "      <th>380</th>\n",
       "      <td>ЦБ-00163613</td>\n",
       "      <td>1СапфирПТ-0,220-КР+2/2 2Кр57-0,040-4/2А</td>\n",
       "      <td>(1, СапфирПТ, 0,220, КР, 2/2)</td>\n",
       "      <td>[СапфирП]</td>\n",
       "      <td>1</td>\n",
       "      <td>1</td>\n",
       "      <td>1</td>\n",
       "      <td>сапфирпт</td>\n",
       "      <td>0,220</td>\n",
       "      <td>кр</td>\n",
       "      <td>2/2</td>\n",
       "      <td>2</td>\n",
       "      <td>2</td>\n",
       "    </tr>\n",
       "    <tr>\n",
       "      <th>383</th>\n",
       "      <td>ЦБ-00165984</td>\n",
       "      <td>1СапфирПТ-0,276-ОВ+2/3 20Кр57-0,108-4/5А</td>\n",
       "      <td>(1, СапфирПТ, 0,276, ОВ, 2/3)</td>\n",
       "      <td>[СапфирП]</td>\n",
       "      <td>1</td>\n",
       "      <td>1</td>\n",
       "      <td>1</td>\n",
       "      <td>сапфирпт</td>\n",
       "      <td>0,276</td>\n",
       "      <td>ов</td>\n",
       "      <td>2/3</td>\n",
       "      <td>2</td>\n",
       "      <td>3</td>\n",
       "    </tr>\n",
       "    <tr>\n",
       "      <th>384</th>\n",
       "      <td>ЦБ-00165994</td>\n",
       "      <td>1СапфирПТ-0,332-ОВ+2/2 6Кр57-0,057-4/6А</td>\n",
       "      <td>(1, СапфирПТ, 0,332, ОВ, 2/2)</td>\n",
       "      <td>[СапфирП]</td>\n",
       "      <td>1</td>\n",
       "      <td>1</td>\n",
       "      <td>1</td>\n",
       "      <td>сапфирпт</td>\n",
       "      <td>0,332</td>\n",
       "      <td>ов</td>\n",
       "      <td>2/2</td>\n",
       "      <td>2</td>\n",
       "      <td>2</td>\n",
       "    </tr>\n",
       "    <tr>\n",
       "      <th>...</th>\n",
       "      <td>...</td>\n",
       "      <td>...</td>\n",
       "      <td>...</td>\n",
       "      <td>...</td>\n",
       "      <td>...</td>\n",
       "      <td>...</td>\n",
       "      <td>...</td>\n",
       "      <td>...</td>\n",
       "      <td>...</td>\n",
       "      <td>...</td>\n",
       "      <td>...</td>\n",
       "      <td>...</td>\n",
       "      <td>...</td>\n",
       "    </tr>\n",
       "    <tr>\n",
       "      <th>32925</th>\n",
       "      <td>ЦБ-00181171</td>\n",
       "      <td>2СапфирПТ-4,460-Ов+2/2 12КР57-0,096-3/3А</td>\n",
       "      <td>(2, СапфирПТ, 4,460, Ов, 2/2)</td>\n",
       "      <td>[СапфирП]</td>\n",
       "      <td>1</td>\n",
       "      <td>1</td>\n",
       "      <td>2</td>\n",
       "      <td>сапфирпт</td>\n",
       "      <td>4,460</td>\n",
       "      <td>ов</td>\n",
       "      <td>2/2</td>\n",
       "      <td>2</td>\n",
       "      <td>2</td>\n",
       "    </tr>\n",
       "    <tr>\n",
       "      <th>32926</th>\n",
       "      <td>ЦБ-00181172</td>\n",
       "      <td>ЖемчугБ 4СапфирПТ-1,210-Ф+2/2 8КР57-0,230-5/3А...</td>\n",
       "      <td>(4, СапфирПТ, 1,210, Ф, 2/2)</td>\n",
       "      <td>[СапфирП]</td>\n",
       "      <td>1</td>\n",
       "      <td>1</td>\n",
       "      <td>4</td>\n",
       "      <td>сапфирпт</td>\n",
       "      <td>1,210</td>\n",
       "      <td>ф</td>\n",
       "      <td>2/2</td>\n",
       "      <td>2</td>\n",
       "      <td>2</td>\n",
       "    </tr>\n",
       "    <tr>\n",
       "      <th>32931</th>\n",
       "      <td>ЦБ-00181187</td>\n",
       "      <td>2СапфирПТ-0,406-Ов+2/3 2СапфирПТ-1,037-Ов+2/2 ...</td>\n",
       "      <td>(2, СапфирПТ, 0,406, Ов, 2/3)</td>\n",
       "      <td>[СапфирП, СапфирП]</td>\n",
       "      <td>2</td>\n",
       "      <td>2</td>\n",
       "      <td>2</td>\n",
       "      <td>сапфирпт</td>\n",
       "      <td>0,406</td>\n",
       "      <td>ов</td>\n",
       "      <td>2/3</td>\n",
       "      <td>2</td>\n",
       "      <td>3</td>\n",
       "    </tr>\n",
       "    <tr>\n",
       "      <th>32931</th>\n",
       "      <td>ЦБ-00181187</td>\n",
       "      <td>2СапфирПТ-0,406-Ов+2/3 2СапфирПТ-1,037-Ов+2/2 ...</td>\n",
       "      <td>(2, СапфирПТ, 1,037, Ов, 2/2)</td>\n",
       "      <td>[СапфирП, СапфирП]</td>\n",
       "      <td>2</td>\n",
       "      <td>2</td>\n",
       "      <td>2</td>\n",
       "      <td>сапфирпт</td>\n",
       "      <td>1,037</td>\n",
       "      <td>ов</td>\n",
       "      <td>2/2</td>\n",
       "      <td>2</td>\n",
       "      <td>2</td>\n",
       "    </tr>\n",
       "    <tr>\n",
       "      <th>34218</th>\n",
       "      <td>ЦБ-00006196</td>\n",
       "      <td>4СапфирПТ-0,640-кр+2/2 2Кр57-0,03-2/4А</td>\n",
       "      <td>(4, СапфирПТ, 0,640, кр, 2/2)</td>\n",
       "      <td>[СапфирП]</td>\n",
       "      <td>1</td>\n",
       "      <td>1</td>\n",
       "      <td>4</td>\n",
       "      <td>сапфирпт</td>\n",
       "      <td>0,640</td>\n",
       "      <td>кр</td>\n",
       "      <td>2/2</td>\n",
       "      <td>2</td>\n",
       "      <td>2</td>\n",
       "    </tr>\n",
       "  </tbody>\n",
       "</table>\n",
       "<p>445 rows × 13 columns</p>\n",
       "</div>"
      ],
      "text/plain": [
       "               Код                                        Вставки_д28  \\\n",
       "373    ЦБ-00163309            1СапфирПТ-0,470-ОВ+2/2 8Кр17-0,040-2/2А   \n",
       "379    ЦБ-00163537             1СапфирПТ-0,550-С+2/1 1Кр57-0,020-3/2А   \n",
       "380    ЦБ-00163613            1СапфирПТ-0,220-КР+2/2 2Кр57-0,040-4/2А   \n",
       "383    ЦБ-00165984           1СапфирПТ-0,276-ОВ+2/3 20Кр57-0,108-4/5А   \n",
       "384    ЦБ-00165994            1СапфирПТ-0,332-ОВ+2/2 6Кр57-0,057-4/6А   \n",
       "...            ...                                                ...   \n",
       "32925  ЦБ-00181171           2СапфирПТ-4,460-Ов+2/2 12КР57-0,096-3/3А   \n",
       "32926  ЦБ-00181172  ЖемчугБ 4СапфирПТ-1,210-Ф+2/2 8КР57-0,230-5/3А...   \n",
       "32931  ЦБ-00181187  2СапфирПТ-0,406-Ов+2/3 2СапфирПТ-1,037-Ов+2/2 ...   \n",
       "32931  ЦБ-00181187  2СапфирПТ-0,406-Ов+2/3 2СапфирПТ-1,037-Ов+2/2 ...   \n",
       "34218  ЦБ-00006196             4СапфирПТ-0,640-кр+2/2 2Кр57-0,03-2/4А   \n",
       "\n",
       "                       sapphire_list      jsapphire_list  len_sap  len_jsap  \\\n",
       "373    (1, СапфирПТ, 0,470, ОВ, 2/2)           [СапфирП]        1         1   \n",
       "379     (1, СапфирПТ, 0,550, С, 2/1)           [СапфирП]        1         1   \n",
       "380    (1, СапфирПТ, 0,220, КР, 2/2)           [СапфирП]        1         1   \n",
       "383    (1, СапфирПТ, 0,276, ОВ, 2/3)           [СапфирП]        1         1   \n",
       "384    (1, СапфирПТ, 0,332, ОВ, 2/2)           [СапфирП]        1         1   \n",
       "...                              ...                 ...      ...       ...   \n",
       "32925  (2, СапфирПТ, 4,460, Ов, 2/2)           [СапфирП]        1         1   \n",
       "32926   (4, СапфирПТ, 1,210, Ф, 2/2)           [СапфирП]        1         1   \n",
       "32931  (2, СапфирПТ, 0,406, Ов, 2/3)  [СапфирП, СапфирП]        2         2   \n",
       "32931  (2, СапфирПТ, 1,037, Ов, 2/2)  [СапфирП, СапфирП]        2         2   \n",
       "34218  (4, СапфирПТ, 0,640, кр, 2/2)           [СапфирП]        1         1   \n",
       "\n",
       "      PCS       GEM  CARAT FORM   CQ  C  Q  \n",
       "373     1  сапфирпт  0,470   ов  2/2  2  2  \n",
       "379     1  сапфирпт  0,550    с  2/1  2  1  \n",
       "380     1  сапфирпт  0,220   кр  2/2  2  2  \n",
       "383     1  сапфирпт  0,276   ов  2/3  2  3  \n",
       "384     1  сапфирпт  0,332   ов  2/2  2  2  \n",
       "...    ..       ...    ...  ...  ... .. ..  \n",
       "32925   2  сапфирпт  4,460   ов  2/2  2  2  \n",
       "32926   4  сапфирпт  1,210    ф  2/2  2  2  \n",
       "32931   2  сапфирпт  0,406   ов  2/3  2  3  \n",
       "32931   2  сапфирпт  1,037   ов  2/2  2  2  \n",
       "34218   4  сапфирпт  0,640   кр  2/2  2  2  \n",
       "\n",
       "[445 rows x 13 columns]"
      ]
     },
     "execution_count": 138,
     "metadata": {},
     "output_type": "execute_result"
    }
   ],
   "source": [
    "df_xs"
   ]
  },
  {
   "cell_type": "code",
   "execution_count": null,
   "id": "cc6b95a0",
   "metadata": {},
   "outputs": [],
   "source": []
  },
  {
   "cell_type": "markdown",
   "id": "791c9162",
   "metadata": {},
   "source": [
    "## Массовая прогонка словарей"
   ]
  },
  {
   "cell_type": "code",
   "execution_count": 469,
   "id": "2d44314c",
   "metadata": {},
   "outputs": [
    {
     "data": {
      "text/plain": [
       "True"
      ]
     },
     "execution_count": 469,
     "metadata": {},
     "output_type": "execute_result"
    }
   ],
   "source": [
    "df_exp['C'].apply(lambda x: x in dcol_em_sto).all()"
   ]
  },
  {
   "cell_type": "code",
   "execution_count": 467,
   "id": "9faa2c1c",
   "metadata": {},
   "outputs": [
    {
     "data": {
      "text/plain": [
       "{'help': ['К1К2Г1Г2Г3'],\n",
       " 'г3': 'Г3',\n",
       " 'г2': 'Г2',\n",
       " 'г1': 'Г1',\n",
       " 'к1': 'К1',\n",
       " 'к2': 'К2',\n",
       " 'k1': 'К1',\n",
       " 'k2': 'К2'}"
      ]
     },
     "execution_count": 467,
     "metadata": {},
     "output_type": "execute_result"
    }
   ],
   "source": [
    "dcla_em_sto"
   ]
  },
  {
   "cell_type": "code",
   "execution_count": null,
   "id": "4b4683ab",
   "metadata": {},
   "outputs": [],
   "source": [
    "vstavki_d.Д.apply(lambda x: x in dcla_dia).unique()"
   ]
  },
  {
   "cell_type": "code",
   "execution_count": null,
   "id": "14b59fb3",
   "metadata": {},
   "outputs": [],
   "source": []
  },
  {
   "cell_type": "code",
   "execution_count": null,
   "id": "384d1f31",
   "metadata": {},
   "outputs": [],
   "source": []
  },
  {
   "cell_type": "markdown",
   "id": "5f23cb5b",
   "metadata": {},
   "source": [
    "### запись в exel массовой прогонки"
   ]
  },
  {
   "cell_type": "code",
   "execution_count": 123,
   "id": "2a18d2e8",
   "metadata": {},
   "outputs": [],
   "source": [
    "df.to_excel('../ЦВДК/test_resapphire.xlsx')"
   ]
  },
  {
   "cell_type": "code",
   "execution_count": null,
   "id": "3f16d08a",
   "metadata": {},
   "outputs": [],
   "source": [
    "''{:,.2f}'.format"
   ]
  },
  {
   "cell_type": "code",
   "execution_count": 48,
   "id": "4542f7b4",
   "metadata": {},
   "outputs": [
    {
     "data": {
      "text/plain": [
       "1.3"
      ]
     },
     "execution_count": 48,
     "metadata": {},
     "output_type": "execute_result"
    }
   ],
   "source": [
    "x=1.29999999999999999999999999999999999999999\n",
    "float(f\"{x:.2f}\")"
   ]
  },
  {
   "cell_type": "code",
   "execution_count": null,
   "id": "3d710b24",
   "metadata": {},
   "outputs": [],
   "source": []
  },
  {
   "cell_type": "code",
   "execution_count": null,
   "id": "2f1bc9b4",
   "metadata": {},
   "outputs": [],
   "source": []
  },
  {
   "cell_type": "markdown",
   "id": "c7db44c1",
   "metadata": {},
   "source": [
    "# RUBY разработка re"
   ]
  },
  {
   "cell_type": "markdown",
   "id": "fd9f3e5d",
   "metadata": {},
   "source": [
    "## разработка массовая "
   ]
  },
  {
   "cell_type": "code",
   "execution_count": 25,
   "id": "61a8ab21",
   "metadata": {},
   "outputs": [],
   "source": [
    "df = df_vst_15102023"
   ]
  },
  {
   "cell_type": "code",
   "execution_count": 139,
   "id": "5f2af51f",
   "metadata": {},
   "outputs": [
    {
     "name": "stdout",
     "output_type": "stream",
     "text": [
      "<class 'pandas.core.frame.DataFrame'>\n",
      "Int64Index: 34269 entries, 0 to 34268\n",
      "Data columns (total 12 columns):\n",
      " #   Column                  Non-Null Count  Dtype \n",
      "---  ------                  --------------  ----- \n",
      " 0   Код                     34269 non-null  object\n",
      " 1   Вставки_д28             34269 non-null  object\n",
      " 2   emerald_list            34269 non-null  object\n",
      " 3   len_jem                 34269 non-null  int64 \n",
      " 4   len_em                  34269 non-null  int64 \n",
      " 5   price_em.vst2list       304 non-null    object\n",
      " 6   price_em.check_vstlist  304 non-null    object\n",
      " 7   prcost                  304 non-null    object\n",
      " 8   sapphire_list           34269 non-null  object\n",
      " 9   jsapphire_list          34269 non-null  object\n",
      " 10  len_sap                 34269 non-null  int64 \n",
      " 11  len_jsap                34269 non-null  int64 \n",
      "dtypes: int64(4), object(8)\n",
      "memory usage: 3.4+ MB\n"
     ]
    }
   ],
   "source": [
    "df.info()"
   ]
  },
  {
   "cell_type": "code",
   "execution_count": 140,
   "id": "2d8e71c5",
   "metadata": {},
   "outputs": [],
   "source": [
    "#11-11-2023-20-40\n",
    "pattern_ruby =  r\"\"\"(?ix)(?P<N>\\d{,3})# штуки \n",
    "               (?P<Gem>рубин[A-яA-z.]{1,5})[-]+#gem\n",
    "               (?P<Carat>\\d\\d?[.,]?\\d*)[\\s-]+                                 # карат\n",
    "               (?P<Form>[A-яA-z.\\d-]{1,10})[+]+#[+\\s-]+ \n",
    "               (?P<ColQ>\\d+[ /]+(?:\\d*[ГгКкKk]*\\d*))\"\"\"\n",
    "               "
   ]
  },
  {
   "cell_type": "code",
   "execution_count": 193,
   "id": "d727e8d7",
   "metadata": {},
   "outputs": [],
   "source": [
    "#12-11-2023-20-40\n",
    "pattern_ruby3 =  r\"\"\"(?ix)(?P<N>\\d{,3})# штуки \n",
    "               (?P<Gem>рубин[A-яA-z.]{1,5})[-]+#gem\n",
    "               (?P<Carat>\\d\\d?[.,]?\\d*)[+-]+\\s*                              # карат\n",
    "               (?P<Form>[A-яA-z.\\d-]{1,10})[+-]+\\s*  #[+-\\s]+ \n",
    "               (?P<ColQ>\\d+[ /]+(?:\\d*[ГгКкKk]*\\d*))\"\"\"\n",
    "               "
   ]
  },
  {
   "cell_type": "code",
   "execution_count": 191,
   "id": "11f3c830",
   "metadata": {},
   "outputs": [],
   "source": [
    "#в разработке с *цвет\n",
    "pattern_ruby2 =  r\"\"\"(?ix)(?P<N>\\d{,3})# штуки \n",
    "               (?P<Gem>рубин[A-яA-z.]{1,5})[-]+#gem\n",
    "               (?P<Carat>\\d\\d?[.,]?\\d*)[\\s-]+                                 # карат\n",
    "               (?P<Form>[A-яA-z.\\d-]{1,10})[+]+#[+\\s-]+ \n",
    "               (?P<ColQ>\\d+[ /]+(?:\\d*[ГгКкKk]*\\d*)[*]*[A-яA-z]*)\"\"\"\n",
    "               "
   ]
  },
  {
   "cell_type": "code",
   "execution_count": 178,
   "id": "5af98727",
   "metadata": {},
   "outputs": [],
   "source": [
    "# чисто для сапфирП\n",
    "pattern_jruby = r\"\"\"(?ix)(?P<Gem>рубин[нНпП])+#gem\"\"\""
   ]
  },
  {
   "cell_type": "code",
   "execution_count": 184,
   "id": "9e956c23",
   "metadata": {},
   "outputs": [],
   "source": [
    "t3 = '''\n",
    "1РубинН-2,020-натГ/1 20КР17-0,152-2/2А\n",
    "1РубинН-0,682-4б/4 6КР57-0,036-6/5А \n",
    "2РубинН-1,780-4б/4 12КР57-0,070-6/5А\n",
    "2РубинПТ-1,880+ОВ+2/2 8кр57-0,08-4/5А\n",
    "3РубинПТ-0,210-Кр+2/2 '''"
   ]
  },
  {
   "cell_type": "code",
   "execution_count": 194,
   "id": "8ebc8093",
   "metadata": {},
   "outputs": [
    {
     "data": {
      "text/plain": [
       "[('2', 'РубинПТ', '1,880', 'ОВ', '2/2'),\n",
       " ('3', 'РубинПТ', '0,210', 'Кр', '2/2')]"
      ]
     },
     "execution_count": 194,
     "metadata": {},
     "output_type": "execute_result"
    }
   ],
   "source": [
    "re.findall(pattern_ruby3, t3) "
   ]
  },
  {
   "cell_type": "code",
   "execution_count": 164,
   "id": "9c915a6a",
   "metadata": {},
   "outputs": [
    {
     "data": {
      "text/plain": [
       "['РубинН', 'РубинН', 'РубинН', 'РубинП', 'РубинП']"
      ]
     },
     "execution_count": 164,
     "metadata": {},
     "output_type": "execute_result"
    }
   ],
   "source": [
    "#проверка\n",
    "re.findall(pattern_jruby, t3)"
   ]
  },
  {
   "cell_type": "code",
   "execution_count": 144,
   "id": "f4a1b03d",
   "metadata": {},
   "outputs": [
    {
     "data": {
      "text/plain": [
       "[('3', 'РубинПТ', '0,210', 'Кр', '2/2')]"
      ]
     },
     "execution_count": 144,
     "metadata": {},
     "output_type": "execute_result"
    }
   ],
   "source": [
    "re.findall(pattern_ruby, '3ИзумрудПМ-0,160-НРОКр+3/Г2 3РубинПТ-0,210-Кр+2/2 3СапфирПТ-0,220-Кр+2/2*Желтый 3СапфирПТ-0,230-Кр+2/2*Розовый 3СапфирПТ-0,220-Кр+2/2*Оранжевый 13КР57-0,140-3/5А 9КР57-0,550-3/3А')"
   ]
  },
  {
   "cell_type": "code",
   "execution_count": 145,
   "id": "398aefdb",
   "metadata": {},
   "outputs": [
    {
     "data": {
      "text/plain": [
       "[('3', 'РубинПТ', '0,210', 'Кр', '2/2')]"
      ]
     },
     "execution_count": 145,
     "metadata": {},
     "output_type": "execute_result"
    }
   ],
   "source": [
    "re.findall(pattern_ruby2,'3ИзумрудПМ-0,160-НРОКр+3/Г2 3РубинПТ-0,210-Кр+2/2 3СапфирПТ-0,220-Кр+2/2*Желтый 3СапфирПТ-0,230-Кр+2/2*Розовый 3СапфирПТ-0,220-Кр+2/2*Оранжевый 13КР57-0,140-3/5А 9КР57-0,550-3/3А')"
   ]
  },
  {
   "cell_type": "code",
   "execution_count": 146,
   "id": "bcfc59a8",
   "metadata": {},
   "outputs": [],
   "source": [
    "df['ruby_list'] = df['Вставки_д28'].apply(lambda x: re.findall(pattern_ruby2, x))"
   ]
  },
  {
   "cell_type": "code",
   "execution_count": 195,
   "id": "019f0bef",
   "metadata": {},
   "outputs": [],
   "source": [
    "df['ruby_list3'] = df['Вставки_д28'].apply(lambda x: re.findall(pattern_ruby3, x))"
   ]
  },
  {
   "cell_type": "code",
   "execution_count": 196,
   "id": "98dce9f8",
   "metadata": {},
   "outputs": [],
   "source": [
    "df['len_ruby3'] = df['ruby_list3'].map(len) "
   ]
  },
  {
   "cell_type": "code",
   "execution_count": 147,
   "id": "8103549b",
   "metadata": {},
   "outputs": [],
   "source": [
    "df['jruby_list'] = df['Вставки_д28'].apply(lambda x: re.findall(pattern_jruby, x))"
   ]
  },
  {
   "cell_type": "code",
   "execution_count": 148,
   "id": "1ab2eef7",
   "metadata": {},
   "outputs": [],
   "source": [
    "df['len_ruby'] = df['ruby_list'].map(len) "
   ]
  },
  {
   "cell_type": "code",
   "execution_count": 150,
   "id": "9063a0a3",
   "metadata": {},
   "outputs": [],
   "source": [
    "df['len_jruby'] = df['jruby_list'].map(len) "
   ]
  },
  {
   "cell_type": "code",
   "execution_count": 197,
   "id": "81f6f97f",
   "metadata": {},
   "outputs": [
    {
     "data": {
      "text/plain": [
       "Index(['Код', 'Вставки_д28', 'emerald_list', 'len_jem', 'len_em',\n",
       "       'price_em.vst2list', 'price_em.check_vstlist', 'prcost',\n",
       "       'sapphire_list', 'jsapphire_list', 'len_sap', 'len_jsap', 'ruby_list',\n",
       "       'jruby_list', 'len_ruby', 'len_jruby', 'ruby_list3', 'len_ruby3'],\n",
       "      dtype='object')"
      ]
     },
     "execution_count": 197,
     "metadata": {},
     "output_type": "execute_result"
    }
   ],
   "source": [
    "df.columns"
   ]
  },
  {
   "cell_type": "code",
   "execution_count": 152,
   "id": "45299f83",
   "metadata": {},
   "outputs": [
    {
     "name": "stdout",
     "output_type": "stream",
     "text": [
      "<class 'pandas.core.frame.DataFrame'>\n",
      "Int64Index: 34269 entries, 0 to 34268\n",
      "Data columns (total 16 columns):\n",
      " #   Column                  Non-Null Count  Dtype \n",
      "---  ------                  --------------  ----- \n",
      " 0   Код                     34269 non-null  object\n",
      " 1   Вставки_д28             34269 non-null  object\n",
      " 2   emerald_list            34269 non-null  object\n",
      " 3   len_jem                 34269 non-null  int64 \n",
      " 4   len_em                  34269 non-null  int64 \n",
      " 5   price_em.vst2list       304 non-null    object\n",
      " 6   price_em.check_vstlist  304 non-null    object\n",
      " 7   prcost                  304 non-null    object\n",
      " 8   sapphire_list           34269 non-null  object\n",
      " 9   jsapphire_list          34269 non-null  object\n",
      " 10  len_sap                 34269 non-null  int64 \n",
      " 11  len_jsap                34269 non-null  int64 \n",
      " 12  ruby_list               34269 non-null  object\n",
      " 13  jruby_list              34269 non-null  object\n",
      " 14  len_ruby                34269 non-null  int64 \n",
      " 15  len_jruby               34269 non-null  int64 \n",
      "dtypes: int64(6), object(10)\n",
      "memory usage: 4.4+ MB\n"
     ]
    }
   ],
   "source": [
    "df.info()"
   ]
  },
  {
   "cell_type": "code",
   "execution_count": 199,
   "id": "8e5fc376",
   "metadata": {},
   "outputs": [
    {
     "data": {
      "text/plain": [
       "Index(['Код', 'Вставки_д28', 'emerald_list', 'len_jem', 'len_em',\n",
       "       'price_em.vst2list', 'price_em.check_vstlist', 'prcost',\n",
       "       'sapphire_list', 'jsapphire_list', 'len_sap', 'len_jsap', 'ruby_list',\n",
       "       'jruby_list', 'len_ruby', 'len_jruby', 'ruby_list3', 'len_ruby3'],\n",
       "      dtype='object')"
      ]
     },
     "execution_count": 199,
     "metadata": {},
     "output_type": "execute_result"
    }
   ],
   "source": [
    "df.columns"
   ]
  },
  {
   "cell_type": "code",
   "execution_count": 200,
   "id": "fbd03c0c",
   "metadata": {},
   "outputs": [],
   "source": [
    "df_xr = df[['Код', 'Вставки_д28',\n",
    "      'ruby_list', 'jruby_list', 'len_ruby', 'len_jruby', 'ruby_list3', 'len_ruby3']].explode( 'ruby_list3').copy(deep=True)"
   ]
  },
  {
   "cell_type": "code",
   "execution_count": 201,
   "id": "f0b81c43",
   "metadata": {},
   "outputs": [
    {
     "name": "stdout",
     "output_type": "stream",
     "text": [
      "<class 'pandas.core.frame.DataFrame'>\n",
      "Int64Index: 34274 entries, 0 to 34268\n",
      "Data columns (total 8 columns):\n",
      " #   Column       Non-Null Count  Dtype \n",
      "---  ------       --------------  ----- \n",
      " 0   Код          34274 non-null  object\n",
      " 1   Вставки_д28  34274 non-null  object\n",
      " 2   ruby_list    34274 non-null  object\n",
      " 3   jruby_list   34274 non-null  object\n",
      " 4   len_ruby     34274 non-null  int64 \n",
      " 5   len_jruby    34274 non-null  int64 \n",
      " 6   ruby_list3   204 non-null    object\n",
      " 7   len_ruby3    34274 non-null  int64 \n",
      "dtypes: int64(3), object(5)\n",
      "memory usage: 2.4+ MB\n"
     ]
    }
   ],
   "source": [
    "df_xr.info()"
   ]
  },
  {
   "cell_type": "code",
   "execution_count": 202,
   "id": "75b37f76",
   "metadata": {
    "scrolled": true
   },
   "outputs": [],
   "source": [
    "df_xr.dropna(subset='ruby_list3', inplace=True)"
   ]
  },
  {
   "cell_type": "markdown",
   "id": "f549616f",
   "metadata": {},
   "source": [
    "### разбор по  [\"PCS\",\"GEM\",\"CARAT\", \"FORM\", \"CQ\"]"
   ]
  },
  {
   "cell_type": "code",
   "execution_count": 203,
   "id": "31cdf2c5",
   "metadata": {},
   "outputs": [],
   "source": [
    "cols = [\"PCS\",\"GEM\",\"CARAT\", \"FORM\", \"CQ\"]\n",
    "for c in range(len(cols)):\n",
    "    df_xr[cols[c]] = df_xr.ruby_list3.apply(lambda x: x[c].lower().strip())"
   ]
  },
  {
   "cell_type": "code",
   "execution_count": 204,
   "id": "460d06e5",
   "metadata": {
    "scrolled": true
   },
   "outputs": [
    {
     "data": {
      "text/html": [
       "<div>\n",
       "<style scoped>\n",
       "    .dataframe tbody tr th:only-of-type {\n",
       "        vertical-align: middle;\n",
       "    }\n",
       "\n",
       "    .dataframe tbody tr th {\n",
       "        vertical-align: top;\n",
       "    }\n",
       "\n",
       "    .dataframe thead th {\n",
       "        text-align: right;\n",
       "    }\n",
       "</style>\n",
       "<table border=\"1\" class=\"dataframe\">\n",
       "  <thead>\n",
       "    <tr style=\"text-align: right;\">\n",
       "      <th></th>\n",
       "      <th>Код</th>\n",
       "      <th>Вставки_д28</th>\n",
       "      <th>ruby_list</th>\n",
       "      <th>jruby_list</th>\n",
       "      <th>len_ruby</th>\n",
       "      <th>len_jruby</th>\n",
       "      <th>ruby_list3</th>\n",
       "      <th>len_ruby3</th>\n",
       "      <th>PCS</th>\n",
       "      <th>GEM</th>\n",
       "      <th>CARAT</th>\n",
       "      <th>FORM</th>\n",
       "      <th>CQ</th>\n",
       "    </tr>\n",
       "  </thead>\n",
       "  <tbody>\n",
       "    <tr>\n",
       "      <th>165</th>\n",
       "      <td>ЦБ-00019794</td>\n",
       "      <td>1РубинПТ-1,410-ОВ+2/3 6Кр57-0,07-3/3А</td>\n",
       "      <td>[(1, РубинПТ, 1,410, ОВ, 2/3)]</td>\n",
       "      <td>[РубинП]</td>\n",
       "      <td>1</td>\n",
       "      <td>1</td>\n",
       "      <td>(1, РубинПТ, 1,410, ОВ, 2/3)</td>\n",
       "      <td>1</td>\n",
       "      <td>1</td>\n",
       "      <td>рубинпт</td>\n",
       "      <td>1,410</td>\n",
       "      <td>ов</td>\n",
       "      <td>2/3</td>\n",
       "    </tr>\n",
       "    <tr>\n",
       "      <th>388</th>\n",
       "      <td>ЦБ-00166033</td>\n",
       "      <td>1РубинПТ-0,590-ОВ+3/2 26Кр57-0,130-4/5А</td>\n",
       "      <td>[(1, РубинПТ, 0,590, ОВ, 3/2)]</td>\n",
       "      <td>[РубинП]</td>\n",
       "      <td>1</td>\n",
       "      <td>1</td>\n",
       "      <td>(1, РубинПТ, 0,590, ОВ, 3/2)</td>\n",
       "      <td>1</td>\n",
       "      <td>1</td>\n",
       "      <td>рубинпт</td>\n",
       "      <td>0,590</td>\n",
       "      <td>ов</td>\n",
       "      <td>3/2</td>\n",
       "    </tr>\n",
       "    <tr>\n",
       "      <th>418</th>\n",
       "      <td>ЦБ-00188652</td>\n",
       "      <td>3РубинПТ-0,570-М+2/2 ЖемчугР 1КР57-0,020-3/3А ...</td>\n",
       "      <td>[(3, РубинПТ, 0,570, М, 2/2)]</td>\n",
       "      <td>[РубинП]</td>\n",
       "      <td>1</td>\n",
       "      <td>1</td>\n",
       "      <td>(3, РубинПТ, 0,570, М, 2/2)</td>\n",
       "      <td>1</td>\n",
       "      <td>3</td>\n",
       "      <td>рубинпт</td>\n",
       "      <td>0,570</td>\n",
       "      <td>м</td>\n",
       "      <td>2/2</td>\n",
       "    </tr>\n",
       "    <tr>\n",
       "      <th>908</th>\n",
       "      <td>ЦБ-00188663</td>\n",
       "      <td>6РубинПТ-1,030-М+2/2 ЖемчугР 2КР57-0,030-3/3А ...</td>\n",
       "      <td>[(6, РубинПТ, 1,030, М, 2/2)]</td>\n",
       "      <td>[РубинП]</td>\n",
       "      <td>1</td>\n",
       "      <td>1</td>\n",
       "      <td>(6, РубинПТ, 1,030, М, 2/2)</td>\n",
       "      <td>1</td>\n",
       "      <td>6</td>\n",
       "      <td>рубинпт</td>\n",
       "      <td>1,030</td>\n",
       "      <td>м</td>\n",
       "      <td>2/2</td>\n",
       "    </tr>\n",
       "    <tr>\n",
       "      <th>1046</th>\n",
       "      <td>ЦБ-00029667</td>\n",
       "      <td>3РубинПТ-0,890-Кр+3/3 36Кр57-0,250-2/4А</td>\n",
       "      <td>[(3, РубинПТ, 0,890, Кр, 3/3)]</td>\n",
       "      <td>[РубинП]</td>\n",
       "      <td>1</td>\n",
       "      <td>1</td>\n",
       "      <td>(3, РубинПТ, 0,890, Кр, 3/3)</td>\n",
       "      <td>1</td>\n",
       "      <td>3</td>\n",
       "      <td>рубинпт</td>\n",
       "      <td>0,890</td>\n",
       "      <td>кр</td>\n",
       "      <td>3/3</td>\n",
       "    </tr>\n",
       "    <tr>\n",
       "      <th>...</th>\n",
       "      <td>...</td>\n",
       "      <td>...</td>\n",
       "      <td>...</td>\n",
       "      <td>...</td>\n",
       "      <td>...</td>\n",
       "      <td>...</td>\n",
       "      <td>...</td>\n",
       "      <td>...</td>\n",
       "      <td>...</td>\n",
       "      <td>...</td>\n",
       "      <td>...</td>\n",
       "      <td>...</td>\n",
       "      <td>...</td>\n",
       "    </tr>\n",
       "    <tr>\n",
       "      <th>32924</th>\n",
       "      <td>ЦБ-00181170</td>\n",
       "      <td>2РубинПТ-1,880-Кр+2/3 8КР57-0,104-2/3А 8кр57-0...</td>\n",
       "      <td>[(2, РубинПТ, 1,880, Кр, 2/3)]</td>\n",
       "      <td>[РубинП]</td>\n",
       "      <td>1</td>\n",
       "      <td>1</td>\n",
       "      <td>(2, РубинПТ, 1,880, Кр, 2/3)</td>\n",
       "      <td>1</td>\n",
       "      <td>2</td>\n",
       "      <td>рубинпт</td>\n",
       "      <td>1,880</td>\n",
       "      <td>кр</td>\n",
       "      <td>2/3</td>\n",
       "    </tr>\n",
       "    <tr>\n",
       "      <th>32930</th>\n",
       "      <td>ЦБ-00181186</td>\n",
       "      <td>1РубинПТ-0,620-Ов+2/2 2КР17-0,060-2/2А 14Кр17-...</td>\n",
       "      <td>[(1, РубинПТ, 0,620, Ов, 2/2)]</td>\n",
       "      <td>[РубинП]</td>\n",
       "      <td>1</td>\n",
       "      <td>1</td>\n",
       "      <td>(1, РубинПТ, 0,620, Ов, 2/2)</td>\n",
       "      <td>1</td>\n",
       "      <td>1</td>\n",
       "      <td>рубинпт</td>\n",
       "      <td>0,620</td>\n",
       "      <td>ов</td>\n",
       "      <td>2/2</td>\n",
       "    </tr>\n",
       "    <tr>\n",
       "      <th>33015</th>\n",
       "      <td>ЦБ-00182517</td>\n",
       "      <td>4РубинПТ-1,960-Ф+2/2 6КР57-0,060-3/5А 4КР57-0,...</td>\n",
       "      <td>[(4, РубинПТ, 1,960, Ф, 2/2)]</td>\n",
       "      <td>[РубинП]</td>\n",
       "      <td>1</td>\n",
       "      <td>1</td>\n",
       "      <td>(4, РубинПТ, 1,960, Ф, 2/2)</td>\n",
       "      <td>1</td>\n",
       "      <td>4</td>\n",
       "      <td>рубинпт</td>\n",
       "      <td>1,960</td>\n",
       "      <td>ф</td>\n",
       "      <td>2/2</td>\n",
       "    </tr>\n",
       "    <tr>\n",
       "      <th>33016</th>\n",
       "      <td>ЦБ-00182518</td>\n",
       "      <td>1РубинПТ-0,43-Ф+2/2 4КР57-0,040-3/5А 2КР57-0,0...</td>\n",
       "      <td>[(1, РубинПТ, 0,43, Ф, 2/2)]</td>\n",
       "      <td>[РубинП]</td>\n",
       "      <td>1</td>\n",
       "      <td>1</td>\n",
       "      <td>(1, РубинПТ, 0,43, Ф, 2/2)</td>\n",
       "      <td>1</td>\n",
       "      <td>1</td>\n",
       "      <td>рубинпт</td>\n",
       "      <td>0,43</td>\n",
       "      <td>ф</td>\n",
       "      <td>2/2</td>\n",
       "    </tr>\n",
       "    <tr>\n",
       "      <th>34203</th>\n",
       "      <td>ЦБ-00003020</td>\n",
       "      <td>2РубинПТ-0,100-кр+3/3 10кр57-0,14-3/3А</td>\n",
       "      <td>[(2, РубинПТ, 0,100, кр, 3/3)]</td>\n",
       "      <td>[РубинП]</td>\n",
       "      <td>1</td>\n",
       "      <td>1</td>\n",
       "      <td>(2, РубинПТ, 0,100, кр, 3/3)</td>\n",
       "      <td>1</td>\n",
       "      <td>2</td>\n",
       "      <td>рубинпт</td>\n",
       "      <td>0,100</td>\n",
       "      <td>кр</td>\n",
       "      <td>3/3</td>\n",
       "    </tr>\n",
       "  </tbody>\n",
       "</table>\n",
       "<p>204 rows × 13 columns</p>\n",
       "</div>"
      ],
      "text/plain": [
       "               Код                                        Вставки_д28  \\\n",
       "165    ЦБ-00019794              1РубинПТ-1,410-ОВ+2/3 6Кр57-0,07-3/3А   \n",
       "388    ЦБ-00166033            1РубинПТ-0,590-ОВ+3/2 26Кр57-0,130-4/5А   \n",
       "418    ЦБ-00188652  3РубинПТ-0,570-М+2/2 ЖемчугР 1КР57-0,020-3/3А ...   \n",
       "908    ЦБ-00188663  6РубинПТ-1,030-М+2/2 ЖемчугР 2КР57-0,030-3/3А ...   \n",
       "1046   ЦБ-00029667            3РубинПТ-0,890-Кр+3/3 36Кр57-0,250-2/4А   \n",
       "...            ...                                                ...   \n",
       "32924  ЦБ-00181170  2РубинПТ-1,880-Кр+2/3 8КР57-0,104-2/3А 8кр57-0...   \n",
       "32930  ЦБ-00181186  1РубинПТ-0,620-Ов+2/2 2КР17-0,060-2/2А 14Кр17-...   \n",
       "33015  ЦБ-00182517  4РубинПТ-1,960-Ф+2/2 6КР57-0,060-3/5А 4КР57-0,...   \n",
       "33016  ЦБ-00182518  1РубинПТ-0,43-Ф+2/2 4КР57-0,040-3/5А 2КР57-0,0...   \n",
       "34203  ЦБ-00003020             2РубинПТ-0,100-кр+3/3 10кр57-0,14-3/3А   \n",
       "\n",
       "                            ruby_list jruby_list  len_ruby  len_jruby  \\\n",
       "165    [(1, РубинПТ, 1,410, ОВ, 2/3)]   [РубинП]         1          1   \n",
       "388    [(1, РубинПТ, 0,590, ОВ, 3/2)]   [РубинП]         1          1   \n",
       "418     [(3, РубинПТ, 0,570, М, 2/2)]   [РубинП]         1          1   \n",
       "908     [(6, РубинПТ, 1,030, М, 2/2)]   [РубинП]         1          1   \n",
       "1046   [(3, РубинПТ, 0,890, Кр, 3/3)]   [РубинП]         1          1   \n",
       "...                               ...        ...       ...        ...   \n",
       "32924  [(2, РубинПТ, 1,880, Кр, 2/3)]   [РубинП]         1          1   \n",
       "32930  [(1, РубинПТ, 0,620, Ов, 2/2)]   [РубинП]         1          1   \n",
       "33015   [(4, РубинПТ, 1,960, Ф, 2/2)]   [РубинП]         1          1   \n",
       "33016    [(1, РубинПТ, 0,43, Ф, 2/2)]   [РубинП]         1          1   \n",
       "34203  [(2, РубинПТ, 0,100, кр, 3/3)]   [РубинП]         1          1   \n",
       "\n",
       "                         ruby_list3  len_ruby3 PCS      GEM  CARAT FORM   CQ  \n",
       "165    (1, РубинПТ, 1,410, ОВ, 2/3)          1   1  рубинпт  1,410   ов  2/3  \n",
       "388    (1, РубинПТ, 0,590, ОВ, 3/2)          1   1  рубинпт  0,590   ов  3/2  \n",
       "418     (3, РубинПТ, 0,570, М, 2/2)          1   3  рубинпт  0,570    м  2/2  \n",
       "908     (6, РубинПТ, 1,030, М, 2/2)          1   6  рубинпт  1,030    м  2/2  \n",
       "1046   (3, РубинПТ, 0,890, Кр, 3/3)          1   3  рубинпт  0,890   кр  3/3  \n",
       "...                             ...        ...  ..      ...    ...  ...  ...  \n",
       "32924  (2, РубинПТ, 1,880, Кр, 2/3)          1   2  рубинпт  1,880   кр  2/3  \n",
       "32930  (1, РубинПТ, 0,620, Ов, 2/2)          1   1  рубинпт  0,620   ов  2/2  \n",
       "33015   (4, РубинПТ, 1,960, Ф, 2/2)          1   4  рубинпт  1,960    ф  2/2  \n",
       "33016    (1, РубинПТ, 0,43, Ф, 2/2)          1   1  рубинпт   0,43    ф  2/2  \n",
       "34203  (2, РубинПТ, 0,100, кр, 3/3)          1   2  рубинпт  0,100   кр  3/3  \n",
       "\n",
       "[204 rows x 13 columns]"
      ]
     },
     "execution_count": 204,
     "metadata": {},
     "output_type": "execute_result"
    }
   ],
   "source": [
    "df_xr"
   ]
  },
  {
   "cell_type": "code",
   "execution_count": 205,
   "id": "8108c81d",
   "metadata": {},
   "outputs": [
    {
     "name": "stdout",
     "output_type": "stream",
     "text": [
      "PCS ['1' '3' '6' '146' '2' '4' '5' '7' '11' '10' '17' '9' '' '16' '67' '13'\n",
      " '12' '20' '80' '54']\n",
      "GEM ['рубинпт' 'рубинн' 'рубинпф']\n",
      "CARAT ['1,410' '0,590' '0,570' '1,030' '0,890' '0,210' '4,570' '0,877' '2,340'\n",
      " '0,220' '0,630' '0,150' '0,740' '0,615' '1,960' '0,682' '0,350' '0,233'\n",
      " '0,360' '0,269' '2,630' '0,730' '1,750' '0,100' '0,830' '0,230' '0,770'\n",
      " '0,460' '0,280' '1,460' '1,880' '1,100' '1,700' '1,315' '1,076' '0,470'\n",
      " '0,170' '0,020' '0,030' '0,060' '1,680' '1,545' '6,150' '1,550' '1,220'\n",
      " '1,420' '5,600' '2,990' '0,065' '0,600' '1,130' '0,400' '0,500' '0,420'\n",
      " '4,780' '1,38' '1,520' '2,460' '1,740' '5,120' '5,210' '9,570' '1,800'\n",
      " '0,130' '1,640' '0,361' '0,640' '0,270' '0,160' '0,1028' '0,320' '0,700'\n",
      " '0,610' '0,307' '1,135' '0,120' '0,090' '0,110' '0,950' '2,520' '2,430'\n",
      " '0,370' '0,101' '0,200' '024' '0,760' '1,319' '0,850' '5,270' '0,050'\n",
      " '1,010' '1,200' '0,550' '0,260' '0,136' '0,051' '0,080' '0,840' '0,240'\n",
      " '0,070' '0,076' '0,344' '8,520' '0,166' '1,544' '0,870' '1,830' '0,290'\n",
      " '0,620' '0,43']\n",
      "FORM ['ов' 'м' 'кр' 'кв' 'гр' 'пр' 'ф' 'нрокр' 'и']\n",
      "CQ ['2/3' '3/2' '2/2' '3/3' '2/г2' '3/4' '4/4' '3/5' '2/1' '4/5' '3/г4' '1/2'\n",
      " '1/3' '2/4']\n"
     ]
    }
   ],
   "source": [
    "for c in cols:\n",
    "    print(c, df_xr[c].unique())"
   ]
  },
  {
   "cell_type": "code",
   "execution_count": 208,
   "id": "0ff56038",
   "metadata": {
    "scrolled": true
   },
   "outputs": [
    {
     "data": {
      "text/html": [
       "<div>\n",
       "<style scoped>\n",
       "    .dataframe tbody tr th:only-of-type {\n",
       "        vertical-align: middle;\n",
       "    }\n",
       "\n",
       "    .dataframe tbody tr th {\n",
       "        vertical-align: top;\n",
       "    }\n",
       "\n",
       "    .dataframe thead th {\n",
       "        text-align: right;\n",
       "    }\n",
       "</style>\n",
       "<table border=\"1\" class=\"dataframe\">\n",
       "  <thead>\n",
       "    <tr style=\"text-align: right;\">\n",
       "      <th></th>\n",
       "      <th>Код</th>\n",
       "      <th>Вставки_д28</th>\n",
       "      <th>ruby_list</th>\n",
       "      <th>jruby_list</th>\n",
       "      <th>len_ruby</th>\n",
       "      <th>len_jruby</th>\n",
       "      <th>ruby_list3</th>\n",
       "      <th>len_ruby3</th>\n",
       "      <th>PCS</th>\n",
       "      <th>GEM</th>\n",
       "      <th>CARAT</th>\n",
       "      <th>FORM</th>\n",
       "      <th>CQ</th>\n",
       "    </tr>\n",
       "  </thead>\n",
       "  <tbody>\n",
       "    <tr>\n",
       "      <th>1686</th>\n",
       "      <td>ЦБ-00160602</td>\n",
       "      <td>218ИзумрудПМ-3,990-НРОКр+2/Г2 146РубинПТ-4,570...</td>\n",
       "      <td>[(146, РубинПТ, 4,570, Кр, 2/Г2)]</td>\n",
       "      <td>[РубинП]</td>\n",
       "      <td>1</td>\n",
       "      <td>1</td>\n",
       "      <td>(146, РубинПТ, 4,570, Кр, 2/Г2)</td>\n",
       "      <td>1</td>\n",
       "      <td>146</td>\n",
       "      <td>рубинпт</td>\n",
       "      <td>4,570</td>\n",
       "      <td>кр</td>\n",
       "      <td>2/г2</td>\n",
       "    </tr>\n",
       "    <tr>\n",
       "      <th>8774</th>\n",
       "      <td>ЦБ-00161529</td>\n",
       "      <td>1РубинПТ-0,130-НРОКр+3/Г4 20КР57-0,090-3/4А</td>\n",
       "      <td>[(1, РубинПТ, 0,130, НРОКр, 3/Г4)]</td>\n",
       "      <td>[РубинП]</td>\n",
       "      <td>1</td>\n",
       "      <td>1</td>\n",
       "      <td>(1, РубинПТ, 0,130, НРОКр, 3/Г4)</td>\n",
       "      <td>1</td>\n",
       "      <td>1</td>\n",
       "      <td>рубинпт</td>\n",
       "      <td>0,130</td>\n",
       "      <td>нрокр</td>\n",
       "      <td>3/г4</td>\n",
       "    </tr>\n",
       "  </tbody>\n",
       "</table>\n",
       "</div>"
      ],
      "text/plain": [
       "              Код                                        Вставки_д28  \\\n",
       "1686  ЦБ-00160602  218ИзумрудПМ-3,990-НРОКр+2/Г2 146РубинПТ-4,570...   \n",
       "8774  ЦБ-00161529        1РубинПТ-0,130-НРОКр+3/Г4 20КР57-0,090-3/4А   \n",
       "\n",
       "                               ruby_list jruby_list  len_ruby  len_jruby  \\\n",
       "1686   [(146, РубинПТ, 4,570, Кр, 2/Г2)]   [РубинП]         1          1   \n",
       "8774  [(1, РубинПТ, 0,130, НРОКр, 3/Г4)]   [РубинП]         1          1   \n",
       "\n",
       "                            ruby_list3  len_ruby3  PCS      GEM  CARAT   FORM  \\\n",
       "1686   (146, РубинПТ, 4,570, Кр, 2/Г2)          1  146  рубинпт  4,570     кр   \n",
       "8774  (1, РубинПТ, 0,130, НРОКр, 3/Г4)          1    1  рубинпт  0,130  нрокр   \n",
       "\n",
       "        CQ  \n",
       "1686  2/г2  \n",
       "8774  3/г4  "
      ]
     },
     "execution_count": 208,
     "metadata": {},
     "output_type": "execute_result"
    }
   ],
   "source": [
    "df_xr[df_xr['CQ'].isin(['2/г2','3/г4'])]"
   ]
  },
  {
   "cell_type": "code",
   "execution_count": 209,
   "id": "efc112e1",
   "metadata": {},
   "outputs": [
    {
     "data": {
      "text/html": [
       "<div>\n",
       "<style scoped>\n",
       "    .dataframe tbody tr th:only-of-type {\n",
       "        vertical-align: middle;\n",
       "    }\n",
       "\n",
       "    .dataframe tbody tr th {\n",
       "        vertical-align: top;\n",
       "    }\n",
       "\n",
       "    .dataframe thead th {\n",
       "        text-align: right;\n",
       "    }\n",
       "</style>\n",
       "<table border=\"1\" class=\"dataframe\">\n",
       "  <thead>\n",
       "    <tr style=\"text-align: right;\">\n",
       "      <th></th>\n",
       "      <th>Код</th>\n",
       "      <th>Вставки_д28</th>\n",
       "      <th>ruby_list</th>\n",
       "      <th>jruby_list</th>\n",
       "      <th>len_ruby</th>\n",
       "      <th>len_jruby</th>\n",
       "      <th>ruby_list3</th>\n",
       "      <th>len_ruby3</th>\n",
       "      <th>PCS</th>\n",
       "      <th>GEM</th>\n",
       "      <th>CARAT</th>\n",
       "      <th>FORM</th>\n",
       "      <th>CQ</th>\n",
       "    </tr>\n",
       "  </thead>\n",
       "  <tbody>\n",
       "    <tr>\n",
       "      <th>8106</th>\n",
       "      <td>ЦБ-00008485</td>\n",
       "      <td>60Кр57-1,00-3/3А РубинПТ-1,38-КР+2/2</td>\n",
       "      <td>[(, РубинПТ, 1,38, КР, 2/2)]</td>\n",
       "      <td>[РубинП]</td>\n",
       "      <td>1</td>\n",
       "      <td>1</td>\n",
       "      <td>(, РубинПТ, 1,38, КР, 2/2)</td>\n",
       "      <td>1</td>\n",
       "      <td></td>\n",
       "      <td>рубинпт</td>\n",
       "      <td>1,38</td>\n",
       "      <td>кр</td>\n",
       "      <td>2/2</td>\n",
       "    </tr>\n",
       "    <tr>\n",
       "      <th>8541</th>\n",
       "      <td>ЦБ-00009215</td>\n",
       "      <td>86Кр57-1,03-3/3А РубинПТ-5,120-КР+3/2</td>\n",
       "      <td>[(, РубинПТ, 5,120, КР, 3/2)]</td>\n",
       "      <td>[РубинП]</td>\n",
       "      <td>1</td>\n",
       "      <td>1</td>\n",
       "      <td>(, РубинПТ, 5,120, КР, 3/2)</td>\n",
       "      <td>1</td>\n",
       "      <td></td>\n",
       "      <td>рубинпт</td>\n",
       "      <td>5,120</td>\n",
       "      <td>кр</td>\n",
       "      <td>3/2</td>\n",
       "    </tr>\n",
       "    <tr>\n",
       "      <th>8542</th>\n",
       "      <td>ЦБ-00009216</td>\n",
       "      <td>33Кр57-0,390-3/3А РубинПТ-5,210-ОВ+2/3</td>\n",
       "      <td>[(, РубинПТ, 5,210, ОВ, 2/3)]</td>\n",
       "      <td>[РубинП]</td>\n",
       "      <td>1</td>\n",
       "      <td>1</td>\n",
       "      <td>(, РубинПТ, 5,210, ОВ, 2/3)</td>\n",
       "      <td>1</td>\n",
       "      <td></td>\n",
       "      <td>рубинпт</td>\n",
       "      <td>5,210</td>\n",
       "      <td>ов</td>\n",
       "      <td>2/3</td>\n",
       "    </tr>\n",
       "  </tbody>\n",
       "</table>\n",
       "</div>"
      ],
      "text/plain": [
       "              Код                             Вставки_д28  \\\n",
       "8106  ЦБ-00008485    60Кр57-1,00-3/3А РубинПТ-1,38-КР+2/2   \n",
       "8541  ЦБ-00009215   86Кр57-1,03-3/3А РубинПТ-5,120-КР+3/2   \n",
       "8542  ЦБ-00009216  33Кр57-0,390-3/3А РубинПТ-5,210-ОВ+2/3   \n",
       "\n",
       "                          ruby_list jruby_list  len_ruby  len_jruby  \\\n",
       "8106   [(, РубинПТ, 1,38, КР, 2/2)]   [РубинП]         1          1   \n",
       "8541  [(, РубинПТ, 5,120, КР, 3/2)]   [РубинП]         1          1   \n",
       "8542  [(, РубинПТ, 5,210, ОВ, 2/3)]   [РубинП]         1          1   \n",
       "\n",
       "                       ruby_list3  len_ruby3 PCS      GEM  CARAT FORM   CQ  \n",
       "8106   (, РубинПТ, 1,38, КР, 2/2)          1      рубинпт   1,38   кр  2/2  \n",
       "8541  (, РубинПТ, 5,120, КР, 3/2)          1      рубинпт  5,120   кр  3/2  \n",
       "8542  (, РубинПТ, 5,210, ОВ, 2/3)          1      рубинпт  5,210   ов  2/3  "
      ]
     },
     "execution_count": 209,
     "metadata": {},
     "output_type": "execute_result"
    }
   ],
   "source": [
    "df_xr[df_xr['PCS']=='']"
   ]
  },
  {
   "cell_type": "code",
   "execution_count": 210,
   "id": "0e3f38e3",
   "metadata": {},
   "outputs": [],
   "source": [
    "df_xr['C'] = df_xr['CQ'].apply(lambda x: x.split('/')[0].lower().strip())\n",
    "df_xr['Q'] = df_xr['CQ'].apply(lambda x: x.split('/')[1].lower().strip())"
   ]
  },
  {
   "cell_type": "code",
   "execution_count": 211,
   "id": "977c85b0",
   "metadata": {
    "scrolled": false
   },
   "outputs": [
    {
     "data": {
      "text/html": [
       "<div>\n",
       "<style scoped>\n",
       "    .dataframe tbody tr th:only-of-type {\n",
       "        vertical-align: middle;\n",
       "    }\n",
       "\n",
       "    .dataframe tbody tr th {\n",
       "        vertical-align: top;\n",
       "    }\n",
       "\n",
       "    .dataframe thead th {\n",
       "        text-align: right;\n",
       "    }\n",
       "</style>\n",
       "<table border=\"1\" class=\"dataframe\">\n",
       "  <thead>\n",
       "    <tr style=\"text-align: right;\">\n",
       "      <th></th>\n",
       "      <th>Код</th>\n",
       "      <th>Вставки_д28</th>\n",
       "      <th>ruby_list</th>\n",
       "      <th>jruby_list</th>\n",
       "      <th>len_ruby</th>\n",
       "      <th>len_jruby</th>\n",
       "      <th>ruby_list3</th>\n",
       "      <th>len_ruby3</th>\n",
       "      <th>PCS</th>\n",
       "      <th>GEM</th>\n",
       "      <th>CARAT</th>\n",
       "      <th>FORM</th>\n",
       "      <th>CQ</th>\n",
       "      <th>C</th>\n",
       "      <th>Q</th>\n",
       "    </tr>\n",
       "  </thead>\n",
       "  <tbody>\n",
       "    <tr>\n",
       "      <th>165</th>\n",
       "      <td>ЦБ-00019794</td>\n",
       "      <td>1РубинПТ-1,410-ОВ+2/3 6Кр57-0,07-3/3А</td>\n",
       "      <td>[(1, РубинПТ, 1,410, ОВ, 2/3)]</td>\n",
       "      <td>[РубинП]</td>\n",
       "      <td>1</td>\n",
       "      <td>1</td>\n",
       "      <td>(1, РубинПТ, 1,410, ОВ, 2/3)</td>\n",
       "      <td>1</td>\n",
       "      <td>1</td>\n",
       "      <td>рубинпт</td>\n",
       "      <td>1,410</td>\n",
       "      <td>ов</td>\n",
       "      <td>2/3</td>\n",
       "      <td>2</td>\n",
       "      <td>3</td>\n",
       "    </tr>\n",
       "    <tr>\n",
       "      <th>388</th>\n",
       "      <td>ЦБ-00166033</td>\n",
       "      <td>1РубинПТ-0,590-ОВ+3/2 26Кр57-0,130-4/5А</td>\n",
       "      <td>[(1, РубинПТ, 0,590, ОВ, 3/2)]</td>\n",
       "      <td>[РубинП]</td>\n",
       "      <td>1</td>\n",
       "      <td>1</td>\n",
       "      <td>(1, РубинПТ, 0,590, ОВ, 3/2)</td>\n",
       "      <td>1</td>\n",
       "      <td>1</td>\n",
       "      <td>рубинпт</td>\n",
       "      <td>0,590</td>\n",
       "      <td>ов</td>\n",
       "      <td>3/2</td>\n",
       "      <td>3</td>\n",
       "      <td>2</td>\n",
       "    </tr>\n",
       "    <tr>\n",
       "      <th>418</th>\n",
       "      <td>ЦБ-00188652</td>\n",
       "      <td>3РубинПТ-0,570-М+2/2 ЖемчугР 1КР57-0,020-3/3А ...</td>\n",
       "      <td>[(3, РубинПТ, 0,570, М, 2/2)]</td>\n",
       "      <td>[РубинП]</td>\n",
       "      <td>1</td>\n",
       "      <td>1</td>\n",
       "      <td>(3, РубинПТ, 0,570, М, 2/2)</td>\n",
       "      <td>1</td>\n",
       "      <td>3</td>\n",
       "      <td>рубинпт</td>\n",
       "      <td>0,570</td>\n",
       "      <td>м</td>\n",
       "      <td>2/2</td>\n",
       "      <td>2</td>\n",
       "      <td>2</td>\n",
       "    </tr>\n",
       "    <tr>\n",
       "      <th>908</th>\n",
       "      <td>ЦБ-00188663</td>\n",
       "      <td>6РубинПТ-1,030-М+2/2 ЖемчугР 2КР57-0,030-3/3А ...</td>\n",
       "      <td>[(6, РубинПТ, 1,030, М, 2/2)]</td>\n",
       "      <td>[РубинП]</td>\n",
       "      <td>1</td>\n",
       "      <td>1</td>\n",
       "      <td>(6, РубинПТ, 1,030, М, 2/2)</td>\n",
       "      <td>1</td>\n",
       "      <td>6</td>\n",
       "      <td>рубинпт</td>\n",
       "      <td>1,030</td>\n",
       "      <td>м</td>\n",
       "      <td>2/2</td>\n",
       "      <td>2</td>\n",
       "      <td>2</td>\n",
       "    </tr>\n",
       "    <tr>\n",
       "      <th>1046</th>\n",
       "      <td>ЦБ-00029667</td>\n",
       "      <td>3РубинПТ-0,890-Кр+3/3 36Кр57-0,250-2/4А</td>\n",
       "      <td>[(3, РубинПТ, 0,890, Кр, 3/3)]</td>\n",
       "      <td>[РубинП]</td>\n",
       "      <td>1</td>\n",
       "      <td>1</td>\n",
       "      <td>(3, РубинПТ, 0,890, Кр, 3/3)</td>\n",
       "      <td>1</td>\n",
       "      <td>3</td>\n",
       "      <td>рубинпт</td>\n",
       "      <td>0,890</td>\n",
       "      <td>кр</td>\n",
       "      <td>3/3</td>\n",
       "      <td>3</td>\n",
       "      <td>3</td>\n",
       "    </tr>\n",
       "    <tr>\n",
       "      <th>...</th>\n",
       "      <td>...</td>\n",
       "      <td>...</td>\n",
       "      <td>...</td>\n",
       "      <td>...</td>\n",
       "      <td>...</td>\n",
       "      <td>...</td>\n",
       "      <td>...</td>\n",
       "      <td>...</td>\n",
       "      <td>...</td>\n",
       "      <td>...</td>\n",
       "      <td>...</td>\n",
       "      <td>...</td>\n",
       "      <td>...</td>\n",
       "      <td>...</td>\n",
       "      <td>...</td>\n",
       "    </tr>\n",
       "    <tr>\n",
       "      <th>32924</th>\n",
       "      <td>ЦБ-00181170</td>\n",
       "      <td>2РубинПТ-1,880-Кр+2/3 8КР57-0,104-2/3А 8кр57-0...</td>\n",
       "      <td>[(2, РубинПТ, 1,880, Кр, 2/3)]</td>\n",
       "      <td>[РубинП]</td>\n",
       "      <td>1</td>\n",
       "      <td>1</td>\n",
       "      <td>(2, РубинПТ, 1,880, Кр, 2/3)</td>\n",
       "      <td>1</td>\n",
       "      <td>2</td>\n",
       "      <td>рубинпт</td>\n",
       "      <td>1,880</td>\n",
       "      <td>кр</td>\n",
       "      <td>2/3</td>\n",
       "      <td>2</td>\n",
       "      <td>3</td>\n",
       "    </tr>\n",
       "    <tr>\n",
       "      <th>32930</th>\n",
       "      <td>ЦБ-00181186</td>\n",
       "      <td>1РубинПТ-0,620-Ов+2/2 2КР17-0,060-2/2А 14Кр17-...</td>\n",
       "      <td>[(1, РубинПТ, 0,620, Ов, 2/2)]</td>\n",
       "      <td>[РубинП]</td>\n",
       "      <td>1</td>\n",
       "      <td>1</td>\n",
       "      <td>(1, РубинПТ, 0,620, Ов, 2/2)</td>\n",
       "      <td>1</td>\n",
       "      <td>1</td>\n",
       "      <td>рубинпт</td>\n",
       "      <td>0,620</td>\n",
       "      <td>ов</td>\n",
       "      <td>2/2</td>\n",
       "      <td>2</td>\n",
       "      <td>2</td>\n",
       "    </tr>\n",
       "    <tr>\n",
       "      <th>33015</th>\n",
       "      <td>ЦБ-00182517</td>\n",
       "      <td>4РубинПТ-1,960-Ф+2/2 6КР57-0,060-3/5А 4КР57-0,...</td>\n",
       "      <td>[(4, РубинПТ, 1,960, Ф, 2/2)]</td>\n",
       "      <td>[РубинП]</td>\n",
       "      <td>1</td>\n",
       "      <td>1</td>\n",
       "      <td>(4, РубинПТ, 1,960, Ф, 2/2)</td>\n",
       "      <td>1</td>\n",
       "      <td>4</td>\n",
       "      <td>рубинпт</td>\n",
       "      <td>1,960</td>\n",
       "      <td>ф</td>\n",
       "      <td>2/2</td>\n",
       "      <td>2</td>\n",
       "      <td>2</td>\n",
       "    </tr>\n",
       "    <tr>\n",
       "      <th>33016</th>\n",
       "      <td>ЦБ-00182518</td>\n",
       "      <td>1РубинПТ-0,43-Ф+2/2 4КР57-0,040-3/5А 2КР57-0,0...</td>\n",
       "      <td>[(1, РубинПТ, 0,43, Ф, 2/2)]</td>\n",
       "      <td>[РубинП]</td>\n",
       "      <td>1</td>\n",
       "      <td>1</td>\n",
       "      <td>(1, РубинПТ, 0,43, Ф, 2/2)</td>\n",
       "      <td>1</td>\n",
       "      <td>1</td>\n",
       "      <td>рубинпт</td>\n",
       "      <td>0,43</td>\n",
       "      <td>ф</td>\n",
       "      <td>2/2</td>\n",
       "      <td>2</td>\n",
       "      <td>2</td>\n",
       "    </tr>\n",
       "    <tr>\n",
       "      <th>34203</th>\n",
       "      <td>ЦБ-00003020</td>\n",
       "      <td>2РубинПТ-0,100-кр+3/3 10кр57-0,14-3/3А</td>\n",
       "      <td>[(2, РубинПТ, 0,100, кр, 3/3)]</td>\n",
       "      <td>[РубинП]</td>\n",
       "      <td>1</td>\n",
       "      <td>1</td>\n",
       "      <td>(2, РубинПТ, 0,100, кр, 3/3)</td>\n",
       "      <td>1</td>\n",
       "      <td>2</td>\n",
       "      <td>рубинпт</td>\n",
       "      <td>0,100</td>\n",
       "      <td>кр</td>\n",
       "      <td>3/3</td>\n",
       "      <td>3</td>\n",
       "      <td>3</td>\n",
       "    </tr>\n",
       "  </tbody>\n",
       "</table>\n",
       "<p>204 rows × 15 columns</p>\n",
       "</div>"
      ],
      "text/plain": [
       "               Код                                        Вставки_д28  \\\n",
       "165    ЦБ-00019794              1РубинПТ-1,410-ОВ+2/3 6Кр57-0,07-3/3А   \n",
       "388    ЦБ-00166033            1РубинПТ-0,590-ОВ+3/2 26Кр57-0,130-4/5А   \n",
       "418    ЦБ-00188652  3РубинПТ-0,570-М+2/2 ЖемчугР 1КР57-0,020-3/3А ...   \n",
       "908    ЦБ-00188663  6РубинПТ-1,030-М+2/2 ЖемчугР 2КР57-0,030-3/3А ...   \n",
       "1046   ЦБ-00029667            3РубинПТ-0,890-Кр+3/3 36Кр57-0,250-2/4А   \n",
       "...            ...                                                ...   \n",
       "32924  ЦБ-00181170  2РубинПТ-1,880-Кр+2/3 8КР57-0,104-2/3А 8кр57-0...   \n",
       "32930  ЦБ-00181186  1РубинПТ-0,620-Ов+2/2 2КР17-0,060-2/2А 14Кр17-...   \n",
       "33015  ЦБ-00182517  4РубинПТ-1,960-Ф+2/2 6КР57-0,060-3/5А 4КР57-0,...   \n",
       "33016  ЦБ-00182518  1РубинПТ-0,43-Ф+2/2 4КР57-0,040-3/5А 2КР57-0,0...   \n",
       "34203  ЦБ-00003020             2РубинПТ-0,100-кр+3/3 10кр57-0,14-3/3А   \n",
       "\n",
       "                            ruby_list jruby_list  len_ruby  len_jruby  \\\n",
       "165    [(1, РубинПТ, 1,410, ОВ, 2/3)]   [РубинП]         1          1   \n",
       "388    [(1, РубинПТ, 0,590, ОВ, 3/2)]   [РубинП]         1          1   \n",
       "418     [(3, РубинПТ, 0,570, М, 2/2)]   [РубинП]         1          1   \n",
       "908     [(6, РубинПТ, 1,030, М, 2/2)]   [РубинП]         1          1   \n",
       "1046   [(3, РубинПТ, 0,890, Кр, 3/3)]   [РубинП]         1          1   \n",
       "...                               ...        ...       ...        ...   \n",
       "32924  [(2, РубинПТ, 1,880, Кр, 2/3)]   [РубинП]         1          1   \n",
       "32930  [(1, РубинПТ, 0,620, Ов, 2/2)]   [РубинП]         1          1   \n",
       "33015   [(4, РубинПТ, 1,960, Ф, 2/2)]   [РубинП]         1          1   \n",
       "33016    [(1, РубинПТ, 0,43, Ф, 2/2)]   [РубинП]         1          1   \n",
       "34203  [(2, РубинПТ, 0,100, кр, 3/3)]   [РубинП]         1          1   \n",
       "\n",
       "                         ruby_list3  len_ruby3 PCS      GEM  CARAT FORM   CQ  \\\n",
       "165    (1, РубинПТ, 1,410, ОВ, 2/3)          1   1  рубинпт  1,410   ов  2/3   \n",
       "388    (1, РубинПТ, 0,590, ОВ, 3/2)          1   1  рубинпт  0,590   ов  3/2   \n",
       "418     (3, РубинПТ, 0,570, М, 2/2)          1   3  рубинпт  0,570    м  2/2   \n",
       "908     (6, РубинПТ, 1,030, М, 2/2)          1   6  рубинпт  1,030    м  2/2   \n",
       "1046   (3, РубинПТ, 0,890, Кр, 3/3)          1   3  рубинпт  0,890   кр  3/3   \n",
       "...                             ...        ...  ..      ...    ...  ...  ...   \n",
       "32924  (2, РубинПТ, 1,880, Кр, 2/3)          1   2  рубинпт  1,880   кр  2/3   \n",
       "32930  (1, РубинПТ, 0,620, Ов, 2/2)          1   1  рубинпт  0,620   ов  2/2   \n",
       "33015   (4, РубинПТ, 1,960, Ф, 2/2)          1   4  рубинпт  1,960    ф  2/2   \n",
       "33016    (1, РубинПТ, 0,43, Ф, 2/2)          1   1  рубинпт   0,43    ф  2/2   \n",
       "34203  (2, РубинПТ, 0,100, кр, 3/3)          1   2  рубинпт  0,100   кр  3/3   \n",
       "\n",
       "       C  Q  \n",
       "165    2  3  \n",
       "388    3  2  \n",
       "418    2  2  \n",
       "908    2  2  \n",
       "1046   3  3  \n",
       "...   .. ..  \n",
       "32924  2  3  \n",
       "32930  2  2  \n",
       "33015  2  2  \n",
       "33016  2  2  \n",
       "34203  3  3  \n",
       "\n",
       "[204 rows x 15 columns]"
      ]
     },
     "execution_count": 211,
     "metadata": {},
     "output_type": "execute_result"
    }
   ],
   "source": [
    "df_xr"
   ]
  },
  {
   "cell_type": "code",
   "execution_count": null,
   "id": "849cb6ac",
   "metadata": {},
   "outputs": [],
   "source": []
  },
  {
   "cell_type": "markdown",
   "id": "c1ce3c7e",
   "metadata": {},
   "source": [
    "## Массовая прогонка словарей"
   ]
  },
  {
   "cell_type": "code",
   "execution_count": 469,
   "id": "60ef06d0",
   "metadata": {},
   "outputs": [
    {
     "data": {
      "text/plain": [
       "True"
      ]
     },
     "execution_count": 469,
     "metadata": {},
     "output_type": "execute_result"
    }
   ],
   "source": [
    "df_exp['C'].apply(lambda x: x in dcol_em_sto).all()"
   ]
  },
  {
   "cell_type": "code",
   "execution_count": 467,
   "id": "65fa2129",
   "metadata": {},
   "outputs": [
    {
     "data": {
      "text/plain": [
       "{'help': ['К1К2Г1Г2Г3'],\n",
       " 'г3': 'Г3',\n",
       " 'г2': 'Г2',\n",
       " 'г1': 'Г1',\n",
       " 'к1': 'К1',\n",
       " 'к2': 'К2',\n",
       " 'k1': 'К1',\n",
       " 'k2': 'К2'}"
      ]
     },
     "execution_count": 467,
     "metadata": {},
     "output_type": "execute_result"
    }
   ],
   "source": [
    "dcla_em_sto"
   ]
  },
  {
   "cell_type": "code",
   "execution_count": null,
   "id": "b3bd9ff6",
   "metadata": {},
   "outputs": [],
   "source": [
    "vstavki_d.Д.apply(lambda x: x in dcla_dia).unique()"
   ]
  },
  {
   "cell_type": "code",
   "execution_count": null,
   "id": "a19ce50b",
   "metadata": {},
   "outputs": [],
   "source": []
  },
  {
   "cell_type": "code",
   "execution_count": null,
   "id": "c2e34f17",
   "metadata": {},
   "outputs": [],
   "source": []
  },
  {
   "cell_type": "markdown",
   "id": "cf5a4d98",
   "metadata": {},
   "source": [
    "### запись в exel массовой прогонки"
   ]
  },
  {
   "cell_type": "code",
   "execution_count": 198,
   "id": "97036b37",
   "metadata": {},
   "outputs": [],
   "source": [
    "df.to_excel('../ЦВДК/test_res_rubyjruby.xlsx')"
   ]
  },
  {
   "cell_type": "code",
   "execution_count": null,
   "id": "9c92493f",
   "metadata": {},
   "outputs": [],
   "source": [
    "''{:,.2f}'.format"
   ]
  },
  {
   "cell_type": "code",
   "execution_count": 48,
   "id": "0a077f02",
   "metadata": {},
   "outputs": [
    {
     "data": {
      "text/plain": [
       "1.3"
      ]
     },
     "execution_count": 48,
     "metadata": {},
     "output_type": "execute_result"
    }
   ],
   "source": [
    "x=1.29999999999999999999999999999999999999999\n",
    "float(f\"{x:.2f}\")"
   ]
  },
  {
   "cell_type": "code",
   "execution_count": null,
   "id": "d87a7aa6",
   "metadata": {},
   "outputs": [],
   "source": []
  },
  {
   "cell_type": "code",
   "execution_count": null,
   "id": "d774ce36",
   "metadata": {},
   "outputs": [],
   "source": []
  },
  {
   "cell_type": "code",
   "execution_count": null,
   "id": "0de7bc94",
   "metadata": {},
   "outputs": [],
   "source": []
  },
  {
   "cell_type": "code",
   "execution_count": null,
   "id": "0c1f7366",
   "metadata": {},
   "outputs": [],
   "source": []
  },
  {
   "cell_type": "markdown",
   "id": "a3e75747",
   "metadata": {},
   "source": [
    "# DEL"
   ]
  },
  {
   "cell_type": "code",
   "execution_count": null,
   "id": "2d7b2301",
   "metadata": {},
   "outputs": [],
   "source": []
  },
  {
   "cell_type": "markdown",
   "id": "ca814f2e",
   "metadata": {},
   "source": [
    "# Прейскурант обработка пдф отдельно в модуль"
   ]
  },
  {
   "cell_type": "code",
   "execution_count": null,
   "id": "abf85ebe",
   "metadata": {},
   "outputs": [],
   "source": [
    "#фацетный вид огранки"
   ]
  },
  {
   "cell_type": "code",
   "execution_count": 439,
   "id": "99b99292",
   "metadata": {},
   "outputs": [],
   "source": [
    "pr_g = pd.read_excel('../ЦВДК/pr_emeralds_173_20-04-2023.xlsx', sheet_name='г', header=2)"
   ]
  },
  {
   "cell_type": "code",
   "execution_count": 440,
   "id": "53791a66",
   "metadata": {},
   "outputs": [
    {
     "data": {
      "text/plain": [
       "Index(['ТУ', 'Обработка', 'Огранка', 'цвет', 'чистота', 'до 0,09', '0,10-0,24',\n",
       "       '0,25-0,49', '0,50-0,74', '0,75-0,99', '1,00-1,49', '1,50-1,99',\n",
       "       '2,00-2,99', '3,00-3,99', '4,00-4,99'],\n",
       "      dtype='object')"
      ]
     },
     "execution_count": 440,
     "metadata": {},
     "output_type": "execute_result"
    }
   ],
   "source": [
    "pr_g.columns"
   ]
  },
  {
   "cell_type": "code",
   "execution_count": 239,
   "id": "5cfadec9",
   "metadata": {},
   "outputs": [],
   "source": [
    "pd.melt?"
   ]
  },
  {
   "cell_type": "code",
   "execution_count": 441,
   "id": "671fec9b",
   "metadata": {},
   "outputs": [],
   "source": [
    "pr_g = pd.melt(pr_g, id_vars=['ТУ', 'Обработка', 'Огранка', 'цвет', 'чистота'], value_vars=[ 'до 0,09', '0,10-0,24',\n",
    "       '0,25-0,49', '0,50-0,74', '0,75-0,99', '1,00-1,49', '1,50-1,99',\n",
    "       '2,00-2,99', '3,00-3,99', '4,00-4,99'], value_name='price', var_name='size')"
   ]
  },
  {
   "cell_type": "code",
   "execution_count": 442,
   "id": "caf3c814",
   "metadata": {},
   "outputs": [],
   "source": [
    "pr_em_sto_g = pr_g[pr_g['ТУ']=='СТО']"
   ]
  },
  {
   "cell_type": "code",
   "execution_count": 443,
   "id": "7342460e",
   "metadata": {},
   "outputs": [
    {
     "data": {
      "text/plain": [
       "Index(['ТУ', 'Обработка', 'Огранка', 'цвет', 'чистота', 'size', 'price'], dtype='object')"
      ]
     },
     "execution_count": 443,
     "metadata": {},
     "output_type": "execute_result"
    }
   ],
   "source": [
    "pr_em_sto_g.columns"
   ]
  },
  {
   "cell_type": "code",
   "execution_count": 444,
   "id": "6188170f",
   "metadata": {},
   "outputs": [
    {
     "name": "stdout",
     "output_type": "stream",
     "text": [
      "ТУ ['СТО']\n",
      "Обработка ['промасливание (O) и заполнение трещин (F)']\n",
      "Огранка ['фацетный вид огранки']\n",
      "цвет ['1' '2' '3' '4' '5']\n",
      "чистота ['Г1' 'Г2' 'Г3']\n",
      "size ['до 0,09' '0,10-0,24' '0,25-0,49' '0,50-0,74' '0,75-0,99' '1,00-1,49'\n",
      " '1,50-1,99' '2,00-2,99' '3,00-3,99' '4,00-4,99']\n",
      "price [ 350  300  150  240   75   90   65   55   45   30   27   20   12  500\n",
      "  180  200  110  120  100   40  550  400  450  250  130   70   22   13\n",
      "  700  600  170  280   80   60  900  580  185  320  140   26 1200  750\n",
      "  380  220  160   50   18 1700 1050  850  440 2500 1550  420  210 3000\n",
      " 1800  800 1400  520  260 3700 1000  650  360]\n"
     ]
    }
   ],
   "source": [
    "for c in pr_em_sto_g.columns:\n",
    "    print(c, pr_em_sto_g[c].unique())"
   ]
  },
  {
   "cell_type": "code",
   "execution_count": 445,
   "id": "58ab8d4c",
   "metadata": {},
   "outputs": [],
   "source": [
    "#кобаш вид огранки"
   ]
  },
  {
   "cell_type": "code",
   "execution_count": 446,
   "id": "8b544305",
   "metadata": {},
   "outputs": [],
   "source": [
    "pr_k = pd.read_excel('../ЦВДК/pr_emeralds_173_20-04-2023.xlsx', sheet_name='к', header=2)"
   ]
  },
  {
   "cell_type": "code",
   "execution_count": 447,
   "id": "3dd71dd6",
   "metadata": {},
   "outputs": [
    {
     "data": {
      "text/plain": [
       "Index(['ТУ', 'Обработка', 'Огранка', 'цвет', 'чистота', 'до 0,49', '0,50-0,74',\n",
       "       '0,75-0,99', '1,00-1,49', '1,50-1,99', '2,00-2,99', '3,00-3,99',\n",
       "       '4,00-4,99'],\n",
       "      dtype='object')"
      ]
     },
     "execution_count": 447,
     "metadata": {},
     "output_type": "execute_result"
    }
   ],
   "source": [
    "pr_k.columns"
   ]
  },
  {
   "cell_type": "code",
   "execution_count": 448,
   "id": "03276146",
   "metadata": {},
   "outputs": [],
   "source": [
    "pr_k = pd.melt(pr_k, id_vars=['ТУ', 'Обработка', 'Огранка', 'цвет', 'чистота'], value_vars=[ 'до 0,49', '0,50-0,74',\n",
    "       '0,75-0,99', '1,00-1,49', '1,50-1,99', '2,00-2,99', '3,00-3,99',\n",
    "       '4,00-4,99'], value_name='price', var_name='size')"
   ]
  },
  {
   "cell_type": "code",
   "execution_count": 449,
   "id": "76104ee4",
   "metadata": {},
   "outputs": [
    {
     "data": {
      "text/html": [
       "<div>\n",
       "<style scoped>\n",
       "    .dataframe tbody tr th:only-of-type {\n",
       "        vertical-align: middle;\n",
       "    }\n",
       "\n",
       "    .dataframe tbody tr th {\n",
       "        vertical-align: top;\n",
       "    }\n",
       "\n",
       "    .dataframe thead th {\n",
       "        text-align: right;\n",
       "    }\n",
       "</style>\n",
       "<table border=\"1\" class=\"dataframe\">\n",
       "  <thead>\n",
       "    <tr style=\"text-align: right;\">\n",
       "      <th></th>\n",
       "      <th>ТУ</th>\n",
       "      <th>Обработка</th>\n",
       "      <th>Огранка</th>\n",
       "      <th>цвет</th>\n",
       "      <th>чистота</th>\n",
       "      <th>size</th>\n",
       "      <th>price</th>\n",
       "    </tr>\n",
       "  </thead>\n",
       "  <tbody>\n",
       "    <tr>\n",
       "      <th>0</th>\n",
       "      <td>ГОСТ</td>\n",
       "      <td>заполнение трещин (F)</td>\n",
       "      <td>кобашенный вид огранки</td>\n",
       "      <td>1</td>\n",
       "      <td>1</td>\n",
       "      <td>до 0,49</td>\n",
       "      <td>220</td>\n",
       "    </tr>\n",
       "    <tr>\n",
       "      <th>1</th>\n",
       "      <td>ГОСТ</td>\n",
       "      <td>заполнение трещин (F)</td>\n",
       "      <td>кобашенный вид огранки</td>\n",
       "      <td>1</td>\n",
       "      <td>2</td>\n",
       "      <td>до 0,49</td>\n",
       "      <td>200</td>\n",
       "    </tr>\n",
       "    <tr>\n",
       "      <th>2</th>\n",
       "      <td>ГОСТ</td>\n",
       "      <td>заполнение трещин (F)</td>\n",
       "      <td>кобашенный вид огранки</td>\n",
       "      <td>1</td>\n",
       "      <td>3</td>\n",
       "      <td>до 0,49</td>\n",
       "      <td>170</td>\n",
       "    </tr>\n",
       "    <tr>\n",
       "      <th>3</th>\n",
       "      <td>ГОСТ</td>\n",
       "      <td>заполнение трещин (F)</td>\n",
       "      <td>кобашенный вид огранки</td>\n",
       "      <td>1</td>\n",
       "      <td>4</td>\n",
       "      <td>до 0,49</td>\n",
       "      <td>140</td>\n",
       "    </tr>\n",
       "    <tr>\n",
       "      <th>4</th>\n",
       "      <td>ГОСТ</td>\n",
       "      <td>заполнение трещин (F)</td>\n",
       "      <td>кобашенный вид огранки</td>\n",
       "      <td>1</td>\n",
       "      <td>5</td>\n",
       "      <td>до 0,49</td>\n",
       "      <td>100</td>\n",
       "    </tr>\n",
       "    <tr>\n",
       "      <th>...</th>\n",
       "      <td>...</td>\n",
       "      <td>...</td>\n",
       "      <td>...</td>\n",
       "      <td>...</td>\n",
       "      <td>...</td>\n",
       "      <td>...</td>\n",
       "      <td>...</td>\n",
       "    </tr>\n",
       "    <tr>\n",
       "      <th>387</th>\n",
       "      <td>СТО</td>\n",
       "      <td>промасливание (O) и заполнение трещин (F)</td>\n",
       "      <td>кобашенный вид огранки</td>\n",
       "      <td>3</td>\n",
       "      <td>К2</td>\n",
       "      <td>4,00-4,99</td>\n",
       "      <td>110</td>\n",
       "    </tr>\n",
       "    <tr>\n",
       "      <th>388</th>\n",
       "      <td>СТО</td>\n",
       "      <td>промасливание (O) и заполнение трещин (F)</td>\n",
       "      <td>кобашенный вид огранки</td>\n",
       "      <td>4</td>\n",
       "      <td>К1</td>\n",
       "      <td>4,00-4,99</td>\n",
       "      <td>90</td>\n",
       "    </tr>\n",
       "    <tr>\n",
       "      <th>389</th>\n",
       "      <td>СТО</td>\n",
       "      <td>промасливание (O) и заполнение трещин (F)</td>\n",
       "      <td>кобашенный вид огранки</td>\n",
       "      <td>4</td>\n",
       "      <td>К2</td>\n",
       "      <td>4,00-4,99</td>\n",
       "      <td>56</td>\n",
       "    </tr>\n",
       "    <tr>\n",
       "      <th>390</th>\n",
       "      <td>СТО</td>\n",
       "      <td>промасливание (O) и заполнение трещин (F)</td>\n",
       "      <td>кобашенный вид огранки</td>\n",
       "      <td>5</td>\n",
       "      <td>К1</td>\n",
       "      <td>4,00-4,99</td>\n",
       "      <td>17</td>\n",
       "    </tr>\n",
       "    <tr>\n",
       "      <th>391</th>\n",
       "      <td>СТО</td>\n",
       "      <td>промасливание (O) и заполнение трещин (F)</td>\n",
       "      <td>кобашенный вид огранки</td>\n",
       "      <td>5</td>\n",
       "      <td>К2</td>\n",
       "      <td>4,00-4,99</td>\n",
       "      <td>9</td>\n",
       "    </tr>\n",
       "  </tbody>\n",
       "</table>\n",
       "<p>392 rows × 7 columns</p>\n",
       "</div>"
      ],
      "text/plain": [
       "       ТУ                                  Обработка                 Огранка  \\\n",
       "0    ГОСТ                      заполнение трещин (F)  кобашенный вид огранки   \n",
       "1    ГОСТ                      заполнение трещин (F)  кобашенный вид огранки   \n",
       "2    ГОСТ                      заполнение трещин (F)  кобашенный вид огранки   \n",
       "3    ГОСТ                      заполнение трещин (F)  кобашенный вид огранки   \n",
       "4    ГОСТ                      заполнение трещин (F)  кобашенный вид огранки   \n",
       "..    ...                                        ...                     ...   \n",
       "387   СТО  промасливание (O) и заполнение трещин (F)  кобашенный вид огранки   \n",
       "388   СТО  промасливание (O) и заполнение трещин (F)  кобашенный вид огранки   \n",
       "389   СТО  промасливание (O) и заполнение трещин (F)  кобашенный вид огранки   \n",
       "390   СТО  промасливание (O) и заполнение трещин (F)  кобашенный вид огранки   \n",
       "391   СТО  промасливание (O) и заполнение трещин (F)  кобашенный вид огранки   \n",
       "\n",
       "    цвет чистота       size  price  \n",
       "0      1       1    до 0,49    220  \n",
       "1      1       2    до 0,49    200  \n",
       "2      1       3    до 0,49    170  \n",
       "3      1       4    до 0,49    140  \n",
       "4      1       5    до 0,49    100  \n",
       "..   ...     ...        ...    ...  \n",
       "387    3      К2  4,00-4,99    110  \n",
       "388    4      К1  4,00-4,99     90  \n",
       "389    4      К2  4,00-4,99     56  \n",
       "390    5      К1  4,00-4,99     17  \n",
       "391    5      К2  4,00-4,99      9  \n",
       "\n",
       "[392 rows x 7 columns]"
      ]
     },
     "execution_count": 449,
     "metadata": {},
     "output_type": "execute_result"
    }
   ],
   "source": [
    "pr_k"
   ]
  },
  {
   "cell_type": "code",
   "execution_count": 450,
   "id": "6a48cbd7",
   "metadata": {},
   "outputs": [],
   "source": [
    "pr_em_sto_k = pr_k[pr_k['ТУ']=='СТО']"
   ]
  },
  {
   "cell_type": "code",
   "execution_count": 451,
   "id": "eb31b879",
   "metadata": {},
   "outputs": [
    {
     "data": {
      "text/plain": [
       "Index(['ТУ', 'Обработка', 'Огранка', 'цвет', 'чистота', 'size', 'price'], dtype='object')"
      ]
     },
     "execution_count": 451,
     "metadata": {},
     "output_type": "execute_result"
    }
   ],
   "source": [
    "pr_em_sto_k.columns"
   ]
  },
  {
   "cell_type": "code",
   "execution_count": 452,
   "id": "038785a3",
   "metadata": {
    "scrolled": true
   },
   "outputs": [
    {
     "name": "stdout",
     "output_type": "stream",
     "text": [
      "ТУ ['СТО']\n",
      "Обработка ['промасливание (O) и заполнение трещин (F)']\n",
      "Огранка ['кобашенный вид огранки']\n",
      "цвет ['1' '2' '3' '4' '5']\n",
      "чистота ['К1' 'К2']\n",
      "size ['до 0,49' '0,50-0,74' '0,75-0,99' '1,00-1,49' '1,50-1,99' '2,00-2,99'\n",
      " '3,00-3,99' '4,00-4,99']\n",
      "price [120  75  45  55  28  17   9 160  85  60  35 185 100  70  40  34  22 225\n",
      " 135  80  39 280 150 170  95 390 240 140  62 490 310 320 180  73 600 210\n",
      " 110  90  56]\n"
     ]
    }
   ],
   "source": [
    "for c in pr_em_sto_k.columns:\n",
    "    print(c, pr_em_sto_k[c].unique())"
   ]
  },
  {
   "cell_type": "code",
   "execution_count": 454,
   "id": "434594d0",
   "metadata": {},
   "outputs": [],
   "source": [
    "# слияние\n",
    "pr_em_sto = pd.concat([pr_em_sto_k,pr_em_sto_g])"
   ]
  },
  {
   "cell_type": "code",
   "execution_count": 456,
   "id": "4a2f2622",
   "metadata": {},
   "outputs": [
    {
     "name": "stdout",
     "output_type": "stream",
     "text": [
      "ТУ ['СТО']\n",
      "Обработка ['промасливание (O) и заполнение трещин (F)']\n",
      "Огранка ['кобашенный вид огранки' 'фацетный вид огранки']\n",
      "цвет ['1' '2' '3' '4' '5']\n",
      "чистота ['К1' 'К2' 'Г1' 'Г2' 'Г3']\n",
      "size ['до 0,49' '0,50-0,74' '0,75-0,99' '1,00-1,49' '1,50-1,99' '2,00-2,99'\n",
      " '3,00-3,99' '4,00-4,99' 'до 0,09' '0,10-0,24' '0,25-0,49']\n",
      "price [ 120   75   45   55   28   17    9  160   85   60   35  185  100   70\n",
      "   40   34   22  225  135   80   39  280  150  170   95  390  240  140\n",
      "   62  490  310  320  180   73  600  210  110   90   56  350  300   65\n",
      "   30   27   20   12  500  200  550  400  450  250  130   13  700  900\n",
      "  580   26 1200  750  380  220   50   18 1700 1050  850  440 2500 1550\n",
      "  420 3000 1800  800 1400  520  260 3700 1000  650  360]\n"
     ]
    }
   ],
   "source": [
    "dfxx = pr_em_sto\n",
    "for c in dfxx.columns:\n",
    "    print(c, dfxx[c].unique())"
   ]
  },
  {
   "cell_type": "code",
   "execution_count": 597,
   "id": "1df79c45",
   "metadata": {},
   "outputs": [
    {
     "data": {
      "text/html": [
       "<div>\n",
       "<style scoped>\n",
       "    .dataframe tbody tr th:only-of-type {\n",
       "        vertical-align: middle;\n",
       "    }\n",
       "\n",
       "    .dataframe tbody tr th {\n",
       "        vertical-align: top;\n",
       "    }\n",
       "\n",
       "    .dataframe thead th {\n",
       "        text-align: right;\n",
       "    }\n",
       "</style>\n",
       "<table border=\"1\" class=\"dataframe\">\n",
       "  <thead>\n",
       "    <tr style=\"text-align: right;\">\n",
       "      <th></th>\n",
       "      <th>ТУ</th>\n",
       "      <th>Обработка</th>\n",
       "      <th>Огранка</th>\n",
       "      <th>цвет</th>\n",
       "      <th>чистота</th>\n",
       "      <th>size</th>\n",
       "      <th>price</th>\n",
       "    </tr>\n",
       "  </thead>\n",
       "  <tbody>\n",
       "    <tr>\n",
       "      <th>39</th>\n",
       "      <td>СТО</td>\n",
       "      <td>промасливание (O) и заполнение трещин (F)</td>\n",
       "      <td>кобашенный вид огранки</td>\n",
       "      <td>1</td>\n",
       "      <td>К1</td>\n",
       "      <td>до 0,49</td>\n",
       "      <td>120</td>\n",
       "    </tr>\n",
       "    <tr>\n",
       "      <th>40</th>\n",
       "      <td>СТО</td>\n",
       "      <td>промасливание (O) и заполнение трещин (F)</td>\n",
       "      <td>кобашенный вид огранки</td>\n",
       "      <td>1</td>\n",
       "      <td>К2</td>\n",
       "      <td>до 0,49</td>\n",
       "      <td>75</td>\n",
       "    </tr>\n",
       "    <tr>\n",
       "      <th>41</th>\n",
       "      <td>СТО</td>\n",
       "      <td>промасливание (O) и заполнение трещин (F)</td>\n",
       "      <td>кобашенный вид огранки</td>\n",
       "      <td>2</td>\n",
       "      <td>К1</td>\n",
       "      <td>до 0,49</td>\n",
       "      <td>75</td>\n",
       "    </tr>\n",
       "    <tr>\n",
       "      <th>42</th>\n",
       "      <td>СТО</td>\n",
       "      <td>промасливание (O) и заполнение трещин (F)</td>\n",
       "      <td>кобашенный вид огранки</td>\n",
       "      <td>2</td>\n",
       "      <td>К2</td>\n",
       "      <td>до 0,49</td>\n",
       "      <td>45</td>\n",
       "    </tr>\n",
       "    <tr>\n",
       "      <th>43</th>\n",
       "      <td>СТО</td>\n",
       "      <td>промасливание (O) и заполнение трещин (F)</td>\n",
       "      <td>кобашенный вид огранки</td>\n",
       "      <td>3</td>\n",
       "      <td>К1</td>\n",
       "      <td>до 0,49</td>\n",
       "      <td>55</td>\n",
       "    </tr>\n",
       "    <tr>\n",
       "      <th>...</th>\n",
       "      <td>...</td>\n",
       "      <td>...</td>\n",
       "      <td>...</td>\n",
       "      <td>...</td>\n",
       "      <td>...</td>\n",
       "      <td>...</td>\n",
       "      <td>...</td>\n",
       "    </tr>\n",
       "    <tr>\n",
       "      <th>535</th>\n",
       "      <td>СТО</td>\n",
       "      <td>промасливание (O) и заполнение трещин (F)</td>\n",
       "      <td>фацетный вид огранки</td>\n",
       "      <td>4</td>\n",
       "      <td>Г2</td>\n",
       "      <td>4,00-4,99</td>\n",
       "      <td>250</td>\n",
       "    </tr>\n",
       "    <tr>\n",
       "      <th>536</th>\n",
       "      <td>СТО</td>\n",
       "      <td>промасливание (O) и заполнение трещин (F)</td>\n",
       "      <td>фацетный вид огранки</td>\n",
       "      <td>4</td>\n",
       "      <td>Г3</td>\n",
       "      <td>4,00-4,99</td>\n",
       "      <td>170</td>\n",
       "    </tr>\n",
       "    <tr>\n",
       "      <th>537</th>\n",
       "      <td>СТО</td>\n",
       "      <td>промасливание (O) и заполнение трещин (F)</td>\n",
       "      <td>фацетный вид огранки</td>\n",
       "      <td>5</td>\n",
       "      <td>Г1</td>\n",
       "      <td>4,00-4,99</td>\n",
       "      <td>50</td>\n",
       "    </tr>\n",
       "    <tr>\n",
       "      <th>538</th>\n",
       "      <td>СТО</td>\n",
       "      <td>промасливание (O) и заполнение трещин (F)</td>\n",
       "      <td>фацетный вид огранки</td>\n",
       "      <td>5</td>\n",
       "      <td>Г2</td>\n",
       "      <td>4,00-4,99</td>\n",
       "      <td>30</td>\n",
       "    </tr>\n",
       "    <tr>\n",
       "      <th>539</th>\n",
       "      <td>СТО</td>\n",
       "      <td>промасливание (O) и заполнение трещин (F)</td>\n",
       "      <td>фацетный вид огранки</td>\n",
       "      <td>5</td>\n",
       "      <td>Г3</td>\n",
       "      <td>4,00-4,99</td>\n",
       "      <td>18</td>\n",
       "    </tr>\n",
       "  </tbody>\n",
       "</table>\n",
       "<p>230 rows × 7 columns</p>\n",
       "</div>"
      ],
      "text/plain": [
       "      ТУ                                  Обработка                 Огранка  \\\n",
       "39   СТО  промасливание (O) и заполнение трещин (F)  кобашенный вид огранки   \n",
       "40   СТО  промасливание (O) и заполнение трещин (F)  кобашенный вид огранки   \n",
       "41   СТО  промасливание (O) и заполнение трещин (F)  кобашенный вид огранки   \n",
       "42   СТО  промасливание (O) и заполнение трещин (F)  кобашенный вид огранки   \n",
       "43   СТО  промасливание (O) и заполнение трещин (F)  кобашенный вид огранки   \n",
       "..   ...                                        ...                     ...   \n",
       "535  СТО  промасливание (O) и заполнение трещин (F)    фацетный вид огранки   \n",
       "536  СТО  промасливание (O) и заполнение трещин (F)    фацетный вид огранки   \n",
       "537  СТО  промасливание (O) и заполнение трещин (F)    фацетный вид огранки   \n",
       "538  СТО  промасливание (O) и заполнение трещин (F)    фацетный вид огранки   \n",
       "539  СТО  промасливание (O) и заполнение трещин (F)    фацетный вид огранки   \n",
       "\n",
       "    цвет чистота       size  price  \n",
       "39     1      К1    до 0,49    120  \n",
       "40     1      К2    до 0,49     75  \n",
       "41     2      К1    до 0,49     75  \n",
       "42     2      К2    до 0,49     45  \n",
       "43     3      К1    до 0,49     55  \n",
       "..   ...     ...        ...    ...  \n",
       "535    4      Г2  4,00-4,99    250  \n",
       "536    4      Г3  4,00-4,99    170  \n",
       "537    5      Г1  4,00-4,99     50  \n",
       "538    5      Г2  4,00-4,99     30  \n",
       "539    5      Г3  4,00-4,99     18  \n",
       "\n",
       "[230 rows x 7 columns]"
      ]
     },
     "execution_count": 597,
     "metadata": {},
     "output_type": "execute_result"
    }
   ],
   "source": [
    "pr_em_sto.to_excel('', index=None)"
   ]
  },
  {
   "cell_type": "code",
   "execution_count": null,
   "id": "f24e4b26",
   "metadata": {},
   "outputs": [],
   "source": [
    "\"ДО 0,09\n",
    "150\n",
    "140\n",
    "130\n",
    "120\n",
    "110\n",
    "130\n",
    "100\n",
    "90\n",
    "70\n",
    "60\n",
    "90\n",
    "80\n",
    "70\n",
    "40\n",
    "30\n",
    "65\n",
    "60\n",
    "50\n",
    "30\n",
    "25\n",
    "50\n",
    "40\n",
    "30\n",
    "25\n",
    "20\"\t\t\t\t\t\t\n",
    "\t\t\t\t\t\t\n",
    "\t\t\t\t\t\t\n",
    "\t\t\t\t\t\t\n",
    "\t\t\t\t\t\t\n",
    "\t\t\t\t\t\t\n",
    "\t\t\t\t\t\t\n",
    "\t\t\t\t\t\t\n",
    "\t\t\t\t\t\t\n",
    "\t\t\t\t\t\t\n"
   ]
  },
  {
   "cell_type": "code",
   "execution_count": null,
   "id": "7e65bf3d",
   "metadata": {},
   "outputs": [],
   "source": []
  }
 ],
 "metadata": {
  "kernelspec": {
   "display_name": "Python 3 (ipykernel)",
   "language": "python",
   "name": "python3"
  },
  "language_info": {
   "codemirror_mode": {
    "name": "ipython",
    "version": 3
   },
   "file_extension": ".py",
   "mimetype": "text/x-python",
   "name": "python",
   "nbconvert_exporter": "python",
   "pygments_lexer": "ipython3",
   "version": "3.10.9"
  },
  "toc": {
   "base_numbering": 1,
   "nav_menu": {},
   "number_sections": true,
   "sideBar": true,
   "skip_h1_title": false,
   "title_cell": "Table of Contents",
   "title_sidebar": "Contents",
   "toc_cell": false,
   "toc_position": {
    "height": "calc(100% - 180px)",
    "left": "10px",
    "top": "150px",
    "width": "460.156px"
   },
   "toc_section_display": true,
   "toc_window_display": true
  }
 },
 "nbformat": 4,
 "nbformat_minor": 5
}
