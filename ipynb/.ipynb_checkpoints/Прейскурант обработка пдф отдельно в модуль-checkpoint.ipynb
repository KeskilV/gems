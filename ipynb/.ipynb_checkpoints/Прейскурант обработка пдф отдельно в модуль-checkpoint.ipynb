{
 "cells": [
  {
   "cell_type": "code",
   "execution_count": 1,
   "id": "4aa9f3f3",
   "metadata": {},
   "outputs": [],
   "source": [
    "#Для расчета прейскуранта бриллиантов\n",
    "# работает после кода 23-10-24_упрОбработка выгрузки 1С УТ ДК использование коррекцию вставок 1-5 род_корр штрихкод.ipynb\n",
    "## на входе данные - for_script24-10-2023\\выгрузка15-10-2023_все_склады_ДК_24-10-2023_17-57.xlsx\n",
    "#\n",
    "#описание - C:\\Users\\специалист ао\\mypandas\\work\\2023\\23-09-ХХ Переоценка ДК магазины выст\\ReadMe2023-10-18.docx"
   ]
  },
  {
   "cell_type": "code",
   "execution_count": 1,
   "id": "fada1cab",
   "metadata": {},
   "outputs": [
    {
     "data": {
      "text/plain": [
       "'10-11-2023_18-49'"
      ]
     },
     "execution_count": 1,
     "metadata": {},
     "output_type": "execute_result"
    }
   ],
   "source": [
    "import datetime\n",
    "datetime.datetime.now().strftime('%d-%m-%Y_%H-%M')"
   ]
  },
  {
   "cell_type": "markdown",
   "id": "d0a55769",
   "metadata": {},
   "source": [
    "# imports"
   ]
  },
  {
   "cell_type": "code",
   "execution_count": 2,
   "id": "3a0da704",
   "metadata": {},
   "outputs": [],
   "source": [
    "import numpy as np\n",
    "import pandas as pd\n",
    "import re\n",
    "import os\n"
   ]
  },
  {
   "cell_type": "code",
   "execution_count": 4,
   "id": "0f36d7b3",
   "metadata": {},
   "outputs": [
    {
     "data": {
      "text/plain": [
       "['df_gems.xlsx',\n",
       " 'pr_emeralds_173_20-04-2023.xlsx',\n",
       " '~$pr_emeralds_173_20-04-2023.xlsx',\n",
       " 'ТестЦВДК.xlsx']"
      ]
     },
     "execution_count": 4,
     "metadata": {},
     "output_type": "execute_result"
    }
   ],
   "source": [
    "os.listdir('../ЦВДК/')"
   ]
  },
  {
   "cell_type": "code",
   "execution_count": null,
   "id": "2d7b2301",
   "metadata": {},
   "outputs": [],
   "source": []
  },
  {
   "cell_type": "markdown",
   "id": "70f55d5c",
   "metadata": {},
   "source": [
    "# Прейскурант обработка пдф отдельно в модуль"
   ]
  },
  {
   "cell_type": "code",
   "execution_count": null,
   "id": "1909a086",
   "metadata": {},
   "outputs": [],
   "source": [
    "#фацетный вид огранки"
   ]
  },
  {
   "cell_type": "code",
   "execution_count": 439,
   "id": "d5836a8e",
   "metadata": {},
   "outputs": [],
   "source": [
    "pr_g = pd.read_excel('../ЦВДК/pr_emeralds_173_20-04-2023.xlsx', sheet_name='г', header=2)"
   ]
  },
  {
   "cell_type": "code",
   "execution_count": 440,
   "id": "3eb568d6",
   "metadata": {},
   "outputs": [
    {
     "data": {
      "text/plain": [
       "Index(['ТУ', 'Обработка', 'Огранка', 'цвет', 'чистота', 'до 0,09', '0,10-0,24',\n",
       "       '0,25-0,49', '0,50-0,74', '0,75-0,99', '1,00-1,49', '1,50-1,99',\n",
       "       '2,00-2,99', '3,00-3,99', '4,00-4,99'],\n",
       "      dtype='object')"
      ]
     },
     "execution_count": 440,
     "metadata": {},
     "output_type": "execute_result"
    }
   ],
   "source": [
    "pr_g.columns"
   ]
  },
  {
   "cell_type": "code",
   "execution_count": 239,
   "id": "cd697c05",
   "metadata": {},
   "outputs": [],
   "source": [
    "pd.melt?"
   ]
  },
  {
   "cell_type": "code",
   "execution_count": 441,
   "id": "56f7f83d",
   "metadata": {},
   "outputs": [],
   "source": [
    "pr_g = pd.melt(pr_g, id_vars=['ТУ', 'Обработка', 'Огранка', 'цвет', 'чистота'], value_vars=[ 'до 0,09', '0,10-0,24',\n",
    "       '0,25-0,49', '0,50-0,74', '0,75-0,99', '1,00-1,49', '1,50-1,99',\n",
    "       '2,00-2,99', '3,00-3,99', '4,00-4,99'], value_name='price', var_name='size')"
   ]
  },
  {
   "cell_type": "code",
   "execution_count": 442,
   "id": "fb4f64d6",
   "metadata": {},
   "outputs": [],
   "source": [
    "pr_em_sto_g = pr_g[pr_g['ТУ']=='СТО']"
   ]
  },
  {
   "cell_type": "code",
   "execution_count": 443,
   "id": "0a6025e7",
   "metadata": {},
   "outputs": [
    {
     "data": {
      "text/plain": [
       "Index(['ТУ', 'Обработка', 'Огранка', 'цвет', 'чистота', 'size', 'price'], dtype='object')"
      ]
     },
     "execution_count": 443,
     "metadata": {},
     "output_type": "execute_result"
    }
   ],
   "source": [
    "pr_em_sto_g.columns"
   ]
  },
  {
   "cell_type": "code",
   "execution_count": 444,
   "id": "f93f1c00",
   "metadata": {},
   "outputs": [
    {
     "name": "stdout",
     "output_type": "stream",
     "text": [
      "ТУ ['СТО']\n",
      "Обработка ['промасливание (O) и заполнение трещин (F)']\n",
      "Огранка ['фацетный вид огранки']\n",
      "цвет ['1' '2' '3' '4' '5']\n",
      "чистота ['Г1' 'Г2' 'Г3']\n",
      "size ['до 0,09' '0,10-0,24' '0,25-0,49' '0,50-0,74' '0,75-0,99' '1,00-1,49'\n",
      " '1,50-1,99' '2,00-2,99' '3,00-3,99' '4,00-4,99']\n",
      "price [ 350  300  150  240   75   90   65   55   45   30   27   20   12  500\n",
      "  180  200  110  120  100   40  550  400  450  250  130   70   22   13\n",
      "  700  600  170  280   80   60  900  580  185  320  140   26 1200  750\n",
      "  380  220  160   50   18 1700 1050  850  440 2500 1550  420  210 3000\n",
      " 1800  800 1400  520  260 3700 1000  650  360]\n"
     ]
    }
   ],
   "source": [
    "for c in pr_em_sto_g.columns:\n",
    "    print(c, pr_em_sto_g[c].unique())"
   ]
  },
  {
   "cell_type": "code",
   "execution_count": 445,
   "id": "a8fa45ef",
   "metadata": {},
   "outputs": [],
   "source": [
    "#кобаш вид огранки"
   ]
  },
  {
   "cell_type": "code",
   "execution_count": 446,
   "id": "fb69daeb",
   "metadata": {},
   "outputs": [],
   "source": [
    "pr_k = pd.read_excel('../ЦВДК/pr_emeralds_173_20-04-2023.xlsx', sheet_name='к', header=2)"
   ]
  },
  {
   "cell_type": "code",
   "execution_count": 447,
   "id": "c31414e4",
   "metadata": {},
   "outputs": [
    {
     "data": {
      "text/plain": [
       "Index(['ТУ', 'Обработка', 'Огранка', 'цвет', 'чистота', 'до 0,49', '0,50-0,74',\n",
       "       '0,75-0,99', '1,00-1,49', '1,50-1,99', '2,00-2,99', '3,00-3,99',\n",
       "       '4,00-4,99'],\n",
       "      dtype='object')"
      ]
     },
     "execution_count": 447,
     "metadata": {},
     "output_type": "execute_result"
    }
   ],
   "source": [
    "pr_k.columns"
   ]
  },
  {
   "cell_type": "code",
   "execution_count": 448,
   "id": "c8aef189",
   "metadata": {},
   "outputs": [],
   "source": [
    "pr_k = pd.melt(pr_k, id_vars=['ТУ', 'Обработка', 'Огранка', 'цвет', 'чистота'], value_vars=[ 'до 0,49', '0,50-0,74',\n",
    "       '0,75-0,99', '1,00-1,49', '1,50-1,99', '2,00-2,99', '3,00-3,99',\n",
    "       '4,00-4,99'], value_name='price', var_name='size')"
   ]
  },
  {
   "cell_type": "code",
   "execution_count": 449,
   "id": "e02d3b23",
   "metadata": {},
   "outputs": [
    {
     "data": {
      "text/html": [
       "<div>\n",
       "<style scoped>\n",
       "    .dataframe tbody tr th:only-of-type {\n",
       "        vertical-align: middle;\n",
       "    }\n",
       "\n",
       "    .dataframe tbody tr th {\n",
       "        vertical-align: top;\n",
       "    }\n",
       "\n",
       "    .dataframe thead th {\n",
       "        text-align: right;\n",
       "    }\n",
       "</style>\n",
       "<table border=\"1\" class=\"dataframe\">\n",
       "  <thead>\n",
       "    <tr style=\"text-align: right;\">\n",
       "      <th></th>\n",
       "      <th>ТУ</th>\n",
       "      <th>Обработка</th>\n",
       "      <th>Огранка</th>\n",
       "      <th>цвет</th>\n",
       "      <th>чистота</th>\n",
       "      <th>size</th>\n",
       "      <th>price</th>\n",
       "    </tr>\n",
       "  </thead>\n",
       "  <tbody>\n",
       "    <tr>\n",
       "      <th>0</th>\n",
       "      <td>ГОСТ</td>\n",
       "      <td>заполнение трещин (F)</td>\n",
       "      <td>кобашенный вид огранки</td>\n",
       "      <td>1</td>\n",
       "      <td>1</td>\n",
       "      <td>до 0,49</td>\n",
       "      <td>220</td>\n",
       "    </tr>\n",
       "    <tr>\n",
       "      <th>1</th>\n",
       "      <td>ГОСТ</td>\n",
       "      <td>заполнение трещин (F)</td>\n",
       "      <td>кобашенный вид огранки</td>\n",
       "      <td>1</td>\n",
       "      <td>2</td>\n",
       "      <td>до 0,49</td>\n",
       "      <td>200</td>\n",
       "    </tr>\n",
       "    <tr>\n",
       "      <th>2</th>\n",
       "      <td>ГОСТ</td>\n",
       "      <td>заполнение трещин (F)</td>\n",
       "      <td>кобашенный вид огранки</td>\n",
       "      <td>1</td>\n",
       "      <td>3</td>\n",
       "      <td>до 0,49</td>\n",
       "      <td>170</td>\n",
       "    </tr>\n",
       "    <tr>\n",
       "      <th>3</th>\n",
       "      <td>ГОСТ</td>\n",
       "      <td>заполнение трещин (F)</td>\n",
       "      <td>кобашенный вид огранки</td>\n",
       "      <td>1</td>\n",
       "      <td>4</td>\n",
       "      <td>до 0,49</td>\n",
       "      <td>140</td>\n",
       "    </tr>\n",
       "    <tr>\n",
       "      <th>4</th>\n",
       "      <td>ГОСТ</td>\n",
       "      <td>заполнение трещин (F)</td>\n",
       "      <td>кобашенный вид огранки</td>\n",
       "      <td>1</td>\n",
       "      <td>5</td>\n",
       "      <td>до 0,49</td>\n",
       "      <td>100</td>\n",
       "    </tr>\n",
       "    <tr>\n",
       "      <th>...</th>\n",
       "      <td>...</td>\n",
       "      <td>...</td>\n",
       "      <td>...</td>\n",
       "      <td>...</td>\n",
       "      <td>...</td>\n",
       "      <td>...</td>\n",
       "      <td>...</td>\n",
       "    </tr>\n",
       "    <tr>\n",
       "      <th>387</th>\n",
       "      <td>СТО</td>\n",
       "      <td>промасливание (O) и заполнение трещин (F)</td>\n",
       "      <td>кобашенный вид огранки</td>\n",
       "      <td>3</td>\n",
       "      <td>К2</td>\n",
       "      <td>4,00-4,99</td>\n",
       "      <td>110</td>\n",
       "    </tr>\n",
       "    <tr>\n",
       "      <th>388</th>\n",
       "      <td>СТО</td>\n",
       "      <td>промасливание (O) и заполнение трещин (F)</td>\n",
       "      <td>кобашенный вид огранки</td>\n",
       "      <td>4</td>\n",
       "      <td>К1</td>\n",
       "      <td>4,00-4,99</td>\n",
       "      <td>90</td>\n",
       "    </tr>\n",
       "    <tr>\n",
       "      <th>389</th>\n",
       "      <td>СТО</td>\n",
       "      <td>промасливание (O) и заполнение трещин (F)</td>\n",
       "      <td>кобашенный вид огранки</td>\n",
       "      <td>4</td>\n",
       "      <td>К2</td>\n",
       "      <td>4,00-4,99</td>\n",
       "      <td>56</td>\n",
       "    </tr>\n",
       "    <tr>\n",
       "      <th>390</th>\n",
       "      <td>СТО</td>\n",
       "      <td>промасливание (O) и заполнение трещин (F)</td>\n",
       "      <td>кобашенный вид огранки</td>\n",
       "      <td>5</td>\n",
       "      <td>К1</td>\n",
       "      <td>4,00-4,99</td>\n",
       "      <td>17</td>\n",
       "    </tr>\n",
       "    <tr>\n",
       "      <th>391</th>\n",
       "      <td>СТО</td>\n",
       "      <td>промасливание (O) и заполнение трещин (F)</td>\n",
       "      <td>кобашенный вид огранки</td>\n",
       "      <td>5</td>\n",
       "      <td>К2</td>\n",
       "      <td>4,00-4,99</td>\n",
       "      <td>9</td>\n",
       "    </tr>\n",
       "  </tbody>\n",
       "</table>\n",
       "<p>392 rows × 7 columns</p>\n",
       "</div>"
      ],
      "text/plain": [
       "       ТУ                                  Обработка                 Огранка  \\\n",
       "0    ГОСТ                      заполнение трещин (F)  кобашенный вид огранки   \n",
       "1    ГОСТ                      заполнение трещин (F)  кобашенный вид огранки   \n",
       "2    ГОСТ                      заполнение трещин (F)  кобашенный вид огранки   \n",
       "3    ГОСТ                      заполнение трещин (F)  кобашенный вид огранки   \n",
       "4    ГОСТ                      заполнение трещин (F)  кобашенный вид огранки   \n",
       "..    ...                                        ...                     ...   \n",
       "387   СТО  промасливание (O) и заполнение трещин (F)  кобашенный вид огранки   \n",
       "388   СТО  промасливание (O) и заполнение трещин (F)  кобашенный вид огранки   \n",
       "389   СТО  промасливание (O) и заполнение трещин (F)  кобашенный вид огранки   \n",
       "390   СТО  промасливание (O) и заполнение трещин (F)  кобашенный вид огранки   \n",
       "391   СТО  промасливание (O) и заполнение трещин (F)  кобашенный вид огранки   \n",
       "\n",
       "    цвет чистота       size  price  \n",
       "0      1       1    до 0,49    220  \n",
       "1      1       2    до 0,49    200  \n",
       "2      1       3    до 0,49    170  \n",
       "3      1       4    до 0,49    140  \n",
       "4      1       5    до 0,49    100  \n",
       "..   ...     ...        ...    ...  \n",
       "387    3      К2  4,00-4,99    110  \n",
       "388    4      К1  4,00-4,99     90  \n",
       "389    4      К2  4,00-4,99     56  \n",
       "390    5      К1  4,00-4,99     17  \n",
       "391    5      К2  4,00-4,99      9  \n",
       "\n",
       "[392 rows x 7 columns]"
      ]
     },
     "execution_count": 449,
     "metadata": {},
     "output_type": "execute_result"
    }
   ],
   "source": [
    "pr_k"
   ]
  },
  {
   "cell_type": "code",
   "execution_count": 450,
   "id": "2377b190",
   "metadata": {},
   "outputs": [],
   "source": [
    "pr_em_sto_k = pr_k[pr_k['ТУ']=='СТО']"
   ]
  },
  {
   "cell_type": "code",
   "execution_count": 451,
   "id": "40f9315f",
   "metadata": {},
   "outputs": [
    {
     "data": {
      "text/plain": [
       "Index(['ТУ', 'Обработка', 'Огранка', 'цвет', 'чистота', 'size', 'price'], dtype='object')"
      ]
     },
     "execution_count": 451,
     "metadata": {},
     "output_type": "execute_result"
    }
   ],
   "source": [
    "pr_em_sto_k.columns"
   ]
  },
  {
   "cell_type": "code",
   "execution_count": 452,
   "id": "61dc3488",
   "metadata": {
    "scrolled": true
   },
   "outputs": [
    {
     "name": "stdout",
     "output_type": "stream",
     "text": [
      "ТУ ['СТО']\n",
      "Обработка ['промасливание (O) и заполнение трещин (F)']\n",
      "Огранка ['кобашенный вид огранки']\n",
      "цвет ['1' '2' '3' '4' '5']\n",
      "чистота ['К1' 'К2']\n",
      "size ['до 0,49' '0,50-0,74' '0,75-0,99' '1,00-1,49' '1,50-1,99' '2,00-2,99'\n",
      " '3,00-3,99' '4,00-4,99']\n",
      "price [120  75  45  55  28  17   9 160  85  60  35 185 100  70  40  34  22 225\n",
      " 135  80  39 280 150 170  95 390 240 140  62 490 310 320 180  73 600 210\n",
      " 110  90  56]\n"
     ]
    }
   ],
   "source": [
    "for c in pr_em_sto_k.columns:\n",
    "    print(c, pr_em_sto_k[c].unique())"
   ]
  },
  {
   "cell_type": "code",
   "execution_count": 454,
   "id": "46cf2d06",
   "metadata": {},
   "outputs": [],
   "source": [
    "# слияние\n",
    "pr_em_sto = pd.concat([pr_em_sto_k,pr_em_sto_g])"
   ]
  },
  {
   "cell_type": "code",
   "execution_count": 456,
   "id": "1f1d6b0e",
   "metadata": {},
   "outputs": [
    {
     "name": "stdout",
     "output_type": "stream",
     "text": [
      "ТУ ['СТО']\n",
      "Обработка ['промасливание (O) и заполнение трещин (F)']\n",
      "Огранка ['кобашенный вид огранки' 'фацетный вид огранки']\n",
      "цвет ['1' '2' '3' '4' '5']\n",
      "чистота ['К1' 'К2' 'Г1' 'Г2' 'Г3']\n",
      "size ['до 0,49' '0,50-0,74' '0,75-0,99' '1,00-1,49' '1,50-1,99' '2,00-2,99'\n",
      " '3,00-3,99' '4,00-4,99' 'до 0,09' '0,10-0,24' '0,25-0,49']\n",
      "price [ 120   75   45   55   28   17    9  160   85   60   35  185  100   70\n",
      "   40   34   22  225  135   80   39  280  150  170   95  390  240  140\n",
      "   62  490  310  320  180   73  600  210  110   90   56  350  300   65\n",
      "   30   27   20   12  500  200  550  400  450  250  130   13  700  900\n",
      "  580   26 1200  750  380  220   50   18 1700 1050  850  440 2500 1550\n",
      "  420 3000 1800  800 1400  520  260 3700 1000  650  360]\n"
     ]
    }
   ],
   "source": [
    "dfxx = pr_em_sto\n",
    "for c in dfxx.columns:\n",
    "    print(c, dfxx[c].unique())"
   ]
  },
  {
   "cell_type": "code",
   "execution_count": 597,
   "id": "c7ed4247",
   "metadata": {},
   "outputs": [
    {
     "data": {
      "text/html": [
       "<div>\n",
       "<style scoped>\n",
       "    .dataframe tbody tr th:only-of-type {\n",
       "        vertical-align: middle;\n",
       "    }\n",
       "\n",
       "    .dataframe tbody tr th {\n",
       "        vertical-align: top;\n",
       "    }\n",
       "\n",
       "    .dataframe thead th {\n",
       "        text-align: right;\n",
       "    }\n",
       "</style>\n",
       "<table border=\"1\" class=\"dataframe\">\n",
       "  <thead>\n",
       "    <tr style=\"text-align: right;\">\n",
       "      <th></th>\n",
       "      <th>ТУ</th>\n",
       "      <th>Обработка</th>\n",
       "      <th>Огранка</th>\n",
       "      <th>цвет</th>\n",
       "      <th>чистота</th>\n",
       "      <th>size</th>\n",
       "      <th>price</th>\n",
       "    </tr>\n",
       "  </thead>\n",
       "  <tbody>\n",
       "    <tr>\n",
       "      <th>39</th>\n",
       "      <td>СТО</td>\n",
       "      <td>промасливание (O) и заполнение трещин (F)</td>\n",
       "      <td>кобашенный вид огранки</td>\n",
       "      <td>1</td>\n",
       "      <td>К1</td>\n",
       "      <td>до 0,49</td>\n",
       "      <td>120</td>\n",
       "    </tr>\n",
       "    <tr>\n",
       "      <th>40</th>\n",
       "      <td>СТО</td>\n",
       "      <td>промасливание (O) и заполнение трещин (F)</td>\n",
       "      <td>кобашенный вид огранки</td>\n",
       "      <td>1</td>\n",
       "      <td>К2</td>\n",
       "      <td>до 0,49</td>\n",
       "      <td>75</td>\n",
       "    </tr>\n",
       "    <tr>\n",
       "      <th>41</th>\n",
       "      <td>СТО</td>\n",
       "      <td>промасливание (O) и заполнение трещин (F)</td>\n",
       "      <td>кобашенный вид огранки</td>\n",
       "      <td>2</td>\n",
       "      <td>К1</td>\n",
       "      <td>до 0,49</td>\n",
       "      <td>75</td>\n",
       "    </tr>\n",
       "    <tr>\n",
       "      <th>42</th>\n",
       "      <td>СТО</td>\n",
       "      <td>промасливание (O) и заполнение трещин (F)</td>\n",
       "      <td>кобашенный вид огранки</td>\n",
       "      <td>2</td>\n",
       "      <td>К2</td>\n",
       "      <td>до 0,49</td>\n",
       "      <td>45</td>\n",
       "    </tr>\n",
       "    <tr>\n",
       "      <th>43</th>\n",
       "      <td>СТО</td>\n",
       "      <td>промасливание (O) и заполнение трещин (F)</td>\n",
       "      <td>кобашенный вид огранки</td>\n",
       "      <td>3</td>\n",
       "      <td>К1</td>\n",
       "      <td>до 0,49</td>\n",
       "      <td>55</td>\n",
       "    </tr>\n",
       "    <tr>\n",
       "      <th>...</th>\n",
       "      <td>...</td>\n",
       "      <td>...</td>\n",
       "      <td>...</td>\n",
       "      <td>...</td>\n",
       "      <td>...</td>\n",
       "      <td>...</td>\n",
       "      <td>...</td>\n",
       "    </tr>\n",
       "    <tr>\n",
       "      <th>535</th>\n",
       "      <td>СТО</td>\n",
       "      <td>промасливание (O) и заполнение трещин (F)</td>\n",
       "      <td>фацетный вид огранки</td>\n",
       "      <td>4</td>\n",
       "      <td>Г2</td>\n",
       "      <td>4,00-4,99</td>\n",
       "      <td>250</td>\n",
       "    </tr>\n",
       "    <tr>\n",
       "      <th>536</th>\n",
       "      <td>СТО</td>\n",
       "      <td>промасливание (O) и заполнение трещин (F)</td>\n",
       "      <td>фацетный вид огранки</td>\n",
       "      <td>4</td>\n",
       "      <td>Г3</td>\n",
       "      <td>4,00-4,99</td>\n",
       "      <td>170</td>\n",
       "    </tr>\n",
       "    <tr>\n",
       "      <th>537</th>\n",
       "      <td>СТО</td>\n",
       "      <td>промасливание (O) и заполнение трещин (F)</td>\n",
       "      <td>фацетный вид огранки</td>\n",
       "      <td>5</td>\n",
       "      <td>Г1</td>\n",
       "      <td>4,00-4,99</td>\n",
       "      <td>50</td>\n",
       "    </tr>\n",
       "    <tr>\n",
       "      <th>538</th>\n",
       "      <td>СТО</td>\n",
       "      <td>промасливание (O) и заполнение трещин (F)</td>\n",
       "      <td>фацетный вид огранки</td>\n",
       "      <td>5</td>\n",
       "      <td>Г2</td>\n",
       "      <td>4,00-4,99</td>\n",
       "      <td>30</td>\n",
       "    </tr>\n",
       "    <tr>\n",
       "      <th>539</th>\n",
       "      <td>СТО</td>\n",
       "      <td>промасливание (O) и заполнение трещин (F)</td>\n",
       "      <td>фацетный вид огранки</td>\n",
       "      <td>5</td>\n",
       "      <td>Г3</td>\n",
       "      <td>4,00-4,99</td>\n",
       "      <td>18</td>\n",
       "    </tr>\n",
       "  </tbody>\n",
       "</table>\n",
       "<p>230 rows × 7 columns</p>\n",
       "</div>"
      ],
      "text/plain": [
       "      ТУ                                  Обработка                 Огранка  \\\n",
       "39   СТО  промасливание (O) и заполнение трещин (F)  кобашенный вид огранки   \n",
       "40   СТО  промасливание (O) и заполнение трещин (F)  кобашенный вид огранки   \n",
       "41   СТО  промасливание (O) и заполнение трещин (F)  кобашенный вид огранки   \n",
       "42   СТО  промасливание (O) и заполнение трещин (F)  кобашенный вид огранки   \n",
       "43   СТО  промасливание (O) и заполнение трещин (F)  кобашенный вид огранки   \n",
       "..   ...                                        ...                     ...   \n",
       "535  СТО  промасливание (O) и заполнение трещин (F)    фацетный вид огранки   \n",
       "536  СТО  промасливание (O) и заполнение трещин (F)    фацетный вид огранки   \n",
       "537  СТО  промасливание (O) и заполнение трещин (F)    фацетный вид огранки   \n",
       "538  СТО  промасливание (O) и заполнение трещин (F)    фацетный вид огранки   \n",
       "539  СТО  промасливание (O) и заполнение трещин (F)    фацетный вид огранки   \n",
       "\n",
       "    цвет чистота       size  price  \n",
       "39     1      К1    до 0,49    120  \n",
       "40     1      К2    до 0,49     75  \n",
       "41     2      К1    до 0,49     75  \n",
       "42     2      К2    до 0,49     45  \n",
       "43     3      К1    до 0,49     55  \n",
       "..   ...     ...        ...    ...  \n",
       "535    4      Г2  4,00-4,99    250  \n",
       "536    4      Г3  4,00-4,99    170  \n",
       "537    5      Г1  4,00-4,99     50  \n",
       "538    5      Г2  4,00-4,99     30  \n",
       "539    5      Г3  4,00-4,99     18  \n",
       "\n",
       "[230 rows x 7 columns]"
      ]
     },
     "execution_count": 597,
     "metadata": {},
     "output_type": "execute_result"
    }
   ],
   "source": [
    "pr_em_sto"
   ]
  },
  {
   "cell_type": "code",
   "execution_count": 601,
   "id": "26b009de",
   "metadata": {},
   "outputs": [],
   "source": [
    "pr_em_sto.to_excel('module_prgem/df_pr_emeralds_sto_173_20-04-2023.xlsx', index=None)"
   ]
  },
  {
   "cell_type": "code",
   "execution_count": null,
   "id": "d9be89df",
   "metadata": {},
   "outputs": [],
   "source": []
  },
  {
   "cell_type": "markdown",
   "id": "28c4c5e3",
   "metadata": {},
   "source": [
    "## размерности"
   ]
  },
  {
   "cell_type": "code",
   "execution_count": 401,
   "id": "724881fc",
   "metadata": {},
   "outputs": [],
   "source": [
    "sizes_g = pr_g[~pr_g['size'].duplicated()][['size']]"
   ]
  },
  {
   "cell_type": "code",
   "execution_count": 402,
   "id": "1892c753",
   "metadata": {},
   "outputs": [],
   "source": [
    "sizes_g['size_list'] = sizes_g['size'].apply(lambda x: x.split('-'))"
   ]
  },
  {
   "cell_type": "code",
   "execution_count": 403,
   "id": "71fcacd6",
   "metadata": {},
   "outputs": [],
   "source": [
    "sizes_g['low_grade'] = sizes_g['size_list'].apply(lambda x: x[0].split()[0] if len(x)==1 else x[0])"
   ]
  },
  {
   "cell_type": "code",
   "execution_count": 406,
   "id": "c3d9d58b",
   "metadata": {},
   "outputs": [],
   "source": [
    "sizes_g['hi_grade'] = sizes_g['size_list'].apply(lambda x: x[0].split()[1] if len(x)==1 else x[1])"
   ]
  },
  {
   "cell_type": "code",
   "execution_count": 407,
   "id": "ffb41e07",
   "metadata": {},
   "outputs": [
    {
     "data": {
      "text/plain": [
       "hi_grade     object\n",
       "low_grade    object\n",
       "dtype: object"
      ]
     },
     "execution_count": 407,
     "metadata": {},
     "output_type": "execute_result"
    }
   ],
   "source": [
    "sizes_g[['hi_grade','low_grade']].dtypes#str.replase(',','.')#astype('float')"
   ]
  },
  {
   "cell_type": "code",
   "execution_count": 408,
   "id": "d581ea05",
   "metadata": {},
   "outputs": [
    {
     "data": {
      "text/plain": [
       "'1.2'"
      ]
     },
     "execution_count": 408,
     "metadata": {},
     "output_type": "execute_result"
    }
   ],
   "source": [
    "'1,2'.replace(',','.')"
   ]
  },
  {
   "cell_type": "code",
   "execution_count": 409,
   "id": "f2d55a0b",
   "metadata": {},
   "outputs": [],
   "source": [
    "sizes_g['hi_grade'] = sizes_g['hi_grade'].apply(lambda x: x.replace(',','.')).astype('float')"
   ]
  },
  {
   "cell_type": "code",
   "execution_count": 410,
   "id": "01c527d2",
   "metadata": {},
   "outputs": [],
   "source": [
    "sizes_g['low_grade'] = sizes_g['low_grade'].apply(lambda x: x.replace(',','.') if x!='до' else 0).astype('float')"
   ]
  },
  {
   "cell_type": "code",
   "execution_count": 411,
   "id": "75c03b81",
   "metadata": {},
   "outputs": [
    {
     "data": {
      "text/html": [
       "<div>\n",
       "<style scoped>\n",
       "    .dataframe tbody tr th:only-of-type {\n",
       "        vertical-align: middle;\n",
       "    }\n",
       "\n",
       "    .dataframe tbody tr th {\n",
       "        vertical-align: top;\n",
       "    }\n",
       "\n",
       "    .dataframe thead th {\n",
       "        text-align: right;\n",
       "    }\n",
       "</style>\n",
       "<table border=\"1\" class=\"dataframe\">\n",
       "  <thead>\n",
       "    <tr style=\"text-align: right;\">\n",
       "      <th></th>\n",
       "      <th>size</th>\n",
       "      <th>size_list</th>\n",
       "      <th>low_grade</th>\n",
       "      <th>hi_grade</th>\n",
       "    </tr>\n",
       "  </thead>\n",
       "  <tbody>\n",
       "    <tr>\n",
       "      <th>0</th>\n",
       "      <td>до 0,09</td>\n",
       "      <td>[до 0,09]</td>\n",
       "      <td>0.00</td>\n",
       "      <td>0.09</td>\n",
       "    </tr>\n",
       "    <tr>\n",
       "      <th>54</th>\n",
       "      <td>0,10-0,24</td>\n",
       "      <td>[0,10, 0,24]</td>\n",
       "      <td>0.10</td>\n",
       "      <td>0.24</td>\n",
       "    </tr>\n",
       "    <tr>\n",
       "      <th>108</th>\n",
       "      <td>0,25-0,49</td>\n",
       "      <td>[0,25, 0,49]</td>\n",
       "      <td>0.25</td>\n",
       "      <td>0.49</td>\n",
       "    </tr>\n",
       "    <tr>\n",
       "      <th>162</th>\n",
       "      <td>0,50-0,74</td>\n",
       "      <td>[0,50, 0,74]</td>\n",
       "      <td>0.50</td>\n",
       "      <td>0.74</td>\n",
       "    </tr>\n",
       "    <tr>\n",
       "      <th>216</th>\n",
       "      <td>0,75-0,99</td>\n",
       "      <td>[0,75, 0,99]</td>\n",
       "      <td>0.75</td>\n",
       "      <td>0.99</td>\n",
       "    </tr>\n",
       "    <tr>\n",
       "      <th>270</th>\n",
       "      <td>1,00-1,49</td>\n",
       "      <td>[1,00, 1,49]</td>\n",
       "      <td>1.00</td>\n",
       "      <td>1.49</td>\n",
       "    </tr>\n",
       "    <tr>\n",
       "      <th>324</th>\n",
       "      <td>1,50-1,99</td>\n",
       "      <td>[1,50, 1,99]</td>\n",
       "      <td>1.50</td>\n",
       "      <td>1.99</td>\n",
       "    </tr>\n",
       "    <tr>\n",
       "      <th>378</th>\n",
       "      <td>2,00-2,99</td>\n",
       "      <td>[2,00, 2,99]</td>\n",
       "      <td>2.00</td>\n",
       "      <td>2.99</td>\n",
       "    </tr>\n",
       "    <tr>\n",
       "      <th>432</th>\n",
       "      <td>3,00-3,99</td>\n",
       "      <td>[3,00, 3,99]</td>\n",
       "      <td>3.00</td>\n",
       "      <td>3.99</td>\n",
       "    </tr>\n",
       "    <tr>\n",
       "      <th>486</th>\n",
       "      <td>4,00-4,99</td>\n",
       "      <td>[4,00, 4,99]</td>\n",
       "      <td>4.00</td>\n",
       "      <td>4.99</td>\n",
       "    </tr>\n",
       "  </tbody>\n",
       "</table>\n",
       "</div>"
      ],
      "text/plain": [
       "          size     size_list  low_grade  hi_grade\n",
       "0      до 0,09     [до 0,09]       0.00      0.09\n",
       "54   0,10-0,24  [0,10, 0,24]       0.10      0.24\n",
       "108  0,25-0,49  [0,25, 0,49]       0.25      0.49\n",
       "162  0,50-0,74  [0,50, 0,74]       0.50      0.74\n",
       "216  0,75-0,99  [0,75, 0,99]       0.75      0.99\n",
       "270  1,00-1,49  [1,00, 1,49]       1.00      1.49\n",
       "324  1,50-1,99  [1,50, 1,99]       1.50      1.99\n",
       "378  2,00-2,99  [2,00, 2,99]       2.00      2.99\n",
       "432  3,00-3,99  [3,00, 3,99]       3.00      3.99\n",
       "486  4,00-4,99  [4,00, 4,99]       4.00      4.99"
      ]
     },
     "execution_count": 411,
     "metadata": {},
     "output_type": "execute_result"
    }
   ],
   "source": [
    "sizes_g"
   ]
  },
  {
   "cell_type": "code",
   "execution_count": 294,
   "id": "17d3f3f1",
   "metadata": {},
   "outputs": [
    {
     "data": {
      "text/plain": [
       "size          object\n",
       "size_list     object\n",
       "low_grade    float64\n",
       "hi_grade     float64\n",
       "dtype: object"
      ]
     },
     "execution_count": 294,
     "metadata": {},
     "output_type": "execute_result"
    }
   ],
   "source": [
    "sizes_g.dtypes"
   ]
  },
  {
   "cell_type": "code",
   "execution_count": null,
   "id": "191092a6",
   "metadata": {},
   "outputs": [],
   "source": []
  },
  {
   "cell_type": "code",
   "execution_count": null,
   "id": "88ce532a",
   "metadata": {},
   "outputs": [],
   "source": []
  },
  {
   "cell_type": "code",
   "execution_count": null,
   "id": "0f2587ba",
   "metadata": {},
   "outputs": [],
   "source": []
  }
 ],
 "metadata": {
  "kernelspec": {
   "display_name": "Python 3 (ipykernel)",
   "language": "python",
   "name": "python3"
  },
  "language_info": {
   "codemirror_mode": {
    "name": "ipython",
    "version": 3
   },
   "file_extension": ".py",
   "mimetype": "text/x-python",
   "name": "python",
   "nbconvert_exporter": "python",
   "pygments_lexer": "ipython3",
   "version": "3.10.9"
  },
  "toc": {
   "base_numbering": 1,
   "nav_menu": {},
   "number_sections": true,
   "sideBar": true,
   "skip_h1_title": false,
   "title_cell": "Table of Contents",
   "title_sidebar": "Contents",
   "toc_cell": false,
   "toc_position": {
    "height": "calc(100% - 180px)",
    "left": "10px",
    "top": "150px",
    "width": "460.156px"
   },
   "toc_section_display": true,
   "toc_window_display": true
  }
 },
 "nbformat": 4,
 "nbformat_minor": 5
}
