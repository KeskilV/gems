{
 "cells": [
  {
   "cell_type": "code",
   "execution_count": 1,
   "id": "4aa9f3f3",
   "metadata": {},
   "outputs": [],
   "source": [
    "#Для расчета прейскуранта цв камней \n",
    "#ver2.3 2023-11-22 перенос на git, соединение em sap ruby, folder_res\n",
    "# "
   ]
  },
  {
   "cell_type": "code",
   "execution_count": 2,
   "id": "fada1cab",
   "metadata": {
    "scrolled": true
   },
   "outputs": [
    {
     "data": {
      "text/plain": [
       "'22-11-2023_22-35'"
      ]
     },
     "execution_count": 2,
     "metadata": {},
     "output_type": "execute_result"
    }
   ],
   "source": [
    "import datetime\n",
    "datetime.datetime.now().strftime('%d-%m-%Y_%H-%M')"
   ]
  },
  {
   "cell_type": "markdown",
   "id": "d0a55769",
   "metadata": {},
   "source": [
    "# imports"
   ]
  },
  {
   "cell_type": "code",
   "execution_count": 3,
   "id": "3a0da704",
   "metadata": {},
   "outputs": [],
   "source": [
    "import numpy as np\n",
    "import pandas as pd\n",
    "import re\n",
    "import os\n",
    "import importlib"
   ]
  },
  {
   "cell_type": "code",
   "execution_count": 4,
   "id": "c2090a46",
   "metadata": {},
   "outputs": [],
   "source": [
    "import module_prgem.price_em as price_em\n",
    "\n",
    "import module_prgem.price_sap_ruby as price_sap_ruby\n",
    "\n",
    "import module_prgem.dictgems as mds"
   ]
  },
  {
   "cell_type": "code",
   "execution_count": 6,
   "id": "16df95d4",
   "metadata": {},
   "outputs": [
    {
     "data": {
      "text/plain": [
       "<module 'module_prgem.price_em' from 'C:\\\\Users\\\\diva0\\\\work\\\\KDM2023\\\\gems\\\\ipynb\\\\module_prgem\\\\price_em.py'>"
      ]
     },
     "execution_count": 6,
     "metadata": {},
     "output_type": "execute_result"
    }
   ],
   "source": [
    "importlib.reload(price_em)"
   ]
  },
  {
   "cell_type": "code",
   "execution_count": 7,
   "id": "d270aed4",
   "metadata": {},
   "outputs": [
    {
     "data": {
      "text/plain": [
       "<module 'module_prgem.price_sap_ruby' from 'C:\\\\Users\\\\специалист ао\\\\mypandas\\\\work\\\\2023\\\\gems_git\\\\gems\\\\ipynb\\\\module_prgem\\\\price_sap_ruby.py'>"
      ]
     },
     "execution_count": 7,
     "metadata": {},
     "output_type": "execute_result"
    }
   ],
   "source": [
    "importlib.reload(price_sap_ruby)"
   ]
  },
  {
   "cell_type": "code",
   "execution_count": 9,
   "id": "de96a608",
   "metadata": {
    "scrolled": true
   },
   "outputs": [
    {
     "data": {
      "text/plain": [
       "<module 'module_prgem.dictgems' from 'C:\\\\Users\\\\специалист ао\\\\mypandas\\\\work\\\\2023\\\\gems_git\\\\gems\\\\ipynb\\\\module_prgem\\\\dictgems.py'>"
      ]
     },
     "execution_count": 9,
     "metadata": {},
     "output_type": "execute_result"
    }
   ],
   "source": [
    "importlib.reload(mds)"
   ]
  },
  {
   "cell_type": "code",
   "execution_count": 8,
   "id": "88bd82a6",
   "metadata": {},
   "outputs": [],
   "source": [
    "folder_res = '../ЦВДК/2023-11-21/'"
   ]
  },
  {
   "cell_type": "code",
   "execution_count": 9,
   "id": "ce0c3116",
   "metadata": {},
   "outputs": [
    {
     "data": {
      "text/plain": [
       "['done_em_sap_ruby21.xlsx',\n",
       " 'done_em_sap_ruby2122-11-2023_16-53.xlsx',\n",
       " 'test_em_sap ruby собраны поправки.xlsx']"
      ]
     },
     "execution_count": 9,
     "metadata": {},
     "output_type": "execute_result"
    }
   ],
   "source": [
    "os.listdir(folder_res)"
   ]
  },
  {
   "cell_type": "code",
   "execution_count": 10,
   "id": "d88a78d7",
   "metadata": {},
   "outputs": [
    {
     "data": {
      "text/plain": [
       "{'help': ['сапфирпт', 'сапфирн', 'изумрудпм', 'рубинптрубиннрубинпф'],\n",
       " 'сапфирпт': 'сапфирпт',\n",
       " 'сапфирн': 'сапфирн',\n",
       " 'изумрудпм': 'изумрудпм',\n",
       " 'рубинпт': 'рубинпт',\n",
       " 'рубинн': 'рубинн',\n",
       " 'рубинпф': 'рубинпф'}"
      ]
     },
     "execution_count": 10,
     "metadata": {},
     "output_type": "execute_result"
    }
   ],
   "source": [
    "mds.dgem"
   ]
  },
  {
   "cell_type": "markdown",
   "id": "3b4d458d",
   "metadata": {},
   "source": [
    "## Экспресс тесты модулей"
   ]
  },
  {
   "cell_type": "code",
   "execution_count": 13,
   "id": "7fa900be",
   "metadata": {},
   "outputs": [
    {
     "data": {
      "text/plain": [
       "{'help': ['1', '2', '3', '4', '5'],\n",
       " '1': '1',\n",
       " '2': '2',\n",
       " '3': '3',\n",
       " '4': '4',\n",
       " '5': '5',\n",
       " 1: '1',\n",
       " 2: '2',\n",
       " 3: '3',\n",
       " 4: '4',\n",
       " 5: '5'}"
      ]
     },
     "execution_count": 13,
     "metadata": {},
     "output_type": "execute_result"
    }
   ],
   "source": [
    "mds.dcol_sap"
   ]
  },
  {
   "cell_type": "code",
   "execution_count": 14,
   "id": "d9d1016e",
   "metadata": {},
   "outputs": [
    {
     "data": {
      "text/plain": [
       "[('5', 'ИзумрудПМ', '0,250', 'НРОКр', '3/Г1'),\n",
       " ('3', 'ИзумрудПМ', '1,500', 'НРОГ', '3/Г3')]"
      ]
     },
     "execution_count": 14,
     "metadata": {},
     "output_type": "execute_result"
    }
   ],
   "source": [
    "price_em.vst2list('5ИзумрудПМ-0,250-НРОКр+3/Г1 3ИзумрудПМ-1,500-НРОГ+3/Г3 14Кр57-0,180-4/4А')"
   ]
  },
  {
   "cell_type": "code",
   "execution_count": 15,
   "id": "54bbefda",
   "metadata": {},
   "outputs": [
    {
     "data": {
      "text/plain": [
       "'217.50; 0.25+1.5; price:150+120;size:до 0,09+0,50-0,74;gem:изумрудпм+изумрудпм'"
      ]
     },
     "execution_count": 15,
     "metadata": {},
     "output_type": "execute_result"
    }
   ],
   "source": [
    "price_em.check_vstlist(_)"
   ]
  },
  {
   "cell_type": "code",
   "execution_count": null,
   "id": "4b1d7d97",
   "metadata": {},
   "outputs": [],
   "source": []
  },
  {
   "cell_type": "code",
   "execution_count": 16,
   "id": "9a08b125",
   "metadata": {},
   "outputs": [],
   "source": [
    "t = '3ИзумрудПМ-0,160-НРОКр+3/Г2 3РубинПТ-0,210-Кр+2/2 3СапфирПТ-0,220-Кр+2/2*Желтый 3СапфирПТ-0,230-Кр+2/2*Розовый 3СапфирПТ-0,220-Кр+2/2*Оранжевый 13КР57-0,140-3/5А 9КР57-0,550-3/3А'"
   ]
  },
  {
   "cell_type": "code",
   "execution_count": 17,
   "id": "ab6fc442",
   "metadata": {
    "scrolled": true
   },
   "outputs": [
    {
     "data": {
      "text/plain": [
       "([['3', 'сапфирпт', '0,220', 'кр', '2', '2', 'желтый'],\n",
       "  ['3', 'сапфирпт', '0,230', 'кр', '2', '2', 'розовый'],\n",
       "  ['3', 'сапфирпт', '0,220', 'кр', '2', '2', 'оранжевый']],\n",
       " 'ok:3!=3;C:ok;Q:ok;PCS:ok;GEM:ok;')"
      ]
     },
     "execution_count": 17,
     "metadata": {},
     "output_type": "execute_result"
    }
   ],
   "source": [
    "price_sap_ruby.make_list_sap(t)"
   ]
  },
  {
   "cell_type": "code",
   "execution_count": 18,
   "id": "b62f941e",
   "metadata": {},
   "outputs": [
    {
     "data": {
      "text/plain": [
       "([['3', 'сапфирпт', '0,220', 'кр', '2', '2', 'желтый'],\n",
       "  ['3', 'сапфирпт', '0,230', 'кр', '2', '2', 'розовый'],\n",
       "  ['3', 'сапфирпт', '0,220', 'кр', '2', '2', 'оранжевый']],\n",
       " 'ok:3!=3;C:ok;Q:ok;PCS:ok;GEM:ok;')"
      ]
     },
     "execution_count": 18,
     "metadata": {},
     "output_type": "execute_result"
    }
   ],
   "source": [
    "price_sap_ruby.make_list_sap(t)"
   ]
  },
  {
   "cell_type": "code",
   "execution_count": 19,
   "id": "6b98f23e",
   "metadata": {},
   "outputs": [
    {
     "data": {
      "text/plain": [
       "'2,00-2,99'"
      ]
     },
     "execution_count": 19,
     "metadata": {},
     "output_type": "execute_result"
    }
   ],
   "source": [
    "price_sap_ruby.size_sap_ruby(2.2)"
   ]
  },
  {
   "cell_type": "code",
   "execution_count": 20,
   "id": "ef7f1368",
   "metadata": {},
   "outputs": [
    {
     "data": {
      "text/plain": [
       "['2023-11-21',\n",
       " 'pr_emeralds_173_20-04-2023.xlsx',\n",
       " 'выгрузка17_11_2023_все_склады_ДК_17_11_2023_08_01_res_pr.xlsx',\n",
       " 'плохое распознавание сапфир54-01-05-2019.xlsx',\n",
       " 'пром_рез_изумр_проверка_по.xlsx',\n",
       " 'сапфир54-01-05-2019.pdf',\n",
       " 'ТестЦВДК.xlsx']"
      ]
     },
     "execution_count": 20,
     "metadata": {},
     "output_type": "execute_result"
    }
   ],
   "source": [
    "os.listdir('../ЦВДК/')"
   ]
  },
  {
   "cell_type": "markdown",
   "id": "cf33a306",
   "metadata": {},
   "source": [
    "# Загрузка"
   ]
  },
  {
   "cell_type": "markdown",
   "id": "765f8e13",
   "metadata": {},
   "source": [
    "## Наличие в ДК"
   ]
  },
  {
   "cell_type": "code",
   "execution_count": 12,
   "id": "ad1e8c13",
   "metadata": {},
   "outputs": [],
   "source": [
    "#из дома через врем файл\n",
    "df0 = pd.read_excel('../ЦВДК/выгрузка17_11_2023_все_склады_ДК_17_11_2023_08_01_res_pr.xlsx')\n",
    "#из офиса \n",
    "#C:\\Users\\специалист ао\\mypandas\\work\\2023\\23-09-ХХ Переоценка ДК магазины выст\\for_script2023-11-16\\выгрузка17-11-2023_все_склады_ДК__17-11-2023_08-01_res_pr.xlsx"
   ]
  },
  {
   "cell_type": "code",
   "execution_count": 13,
   "id": "ab6e0cea",
   "metadata": {},
   "outputs": [],
   "source": [
    "#os.listdir('../../23-09-ХХ Переоценка ДК магазины выст/for_script2023-11-16')"
   ]
  },
  {
   "cell_type": "code",
   "execution_count": 14,
   "id": "ca8f20cf",
   "metadata": {},
   "outputs": [],
   "source": [
    "#df0 = pd.read_excel('../../23-09-ХХ Переоценка ДК магазины выст/for_script2023-11-16/выгрузка17-11-2023_все_склады_ДК__17-11-2023_08-01_res_pr.xlsx')"
   ]
  },
  {
   "cell_type": "code",
   "execution_count": 15,
   "id": "b2ffbf53",
   "metadata": {},
   "outputs": [
    {
     "data": {
      "text/plain": [
       "Index(['Unnamed: 0', 'Код', 'Старый код (Справочник \"Номенклатура\" (Общие))',\n",
       "       'Склад', 'Склад.Склад / Магазин',\n",
       "       'Вставки (Справочник \"Номенклатура\" (Общие))', 'Вид номенклатуры',\n",
       "       'Тип номенклатуры', 'Номенклатура', 'Группа',\n",
       "       'Заводской номер (Справочник \"Номенклатура\" (Общие))',\n",
       "       'Проба (Справочник \"Номенклатура\" (Общие))',\n",
       "       'Цвет металла (Справочник \"Номенклатура\" (Общие))',\n",
       "       'Дизайн (Справочник \"Номенклатура\" (Общие))', 'Артикул ',\n",
       "       'Размерная группа Центрального камня (Справочник \"Номенклатура\" (Общие))',\n",
       "       'Цвет Центрального Камня (Справочник \"Номенклатура\" (Общие))',\n",
       "       'Чистота Центрального Камня (Справочник \"Номенклатура\" (Общие))',\n",
       "       'Размер (Справочник \"Номенклатура\" (Общие))', 'Наименование для печати',\n",
       "       'Единица измерения веса',\n",
       "       'Вес Вставок ПДК (Карат) (Справочник \"Номенклатура\" (Общие))',\n",
       "       'Кол-во ДК (Справочник \"Номенклатура\" (Общие))',\n",
       "       'Вес Вставок ДК (Карат) (Справочник \"Номенклатура\" (Общие))', 'Группы',\n",
       "       'родитель1_1c', 'родитель2_1c', 'родитель3_1c', 'родитель4_1c',\n",
       "       'родитель5_1c', 'Количество конечный остаток', 'Конечный остаток вес',\n",
       "       'розничная стоимость', 'закупочная стоимость', 'УИН', 'Штрихкод',\n",
       "       'Родитель2корр', 'Родитель3корр', 'Родитель4корр', 'Родитель5корр',\n",
       "       'Прейскурант брил по 2 источникам (Васильев 08.11.2023 и предв расчёт по самородкам)',\n",
       "       'Прейскурант ЦвДК по предв расчёту по самородкам)',\n",
       "       'Вес самородков суммированный', 'Оставшиеся задачи',\n",
       "       'Комментарий по задачам', 'Дата запроса', 'Качество данных',\n",
       "       'Характер изменений', 'Дата последней правки', 'Источник',\n",
       "       'Штрихкод_spr', 'Вставки корректировка', 'Code', 'vs_dict', 'ШТУК',\n",
       "       'КАРАТ', 'prcost', 'инф для не сработал прейскурант'],\n",
       "      dtype='object')"
      ]
     },
     "execution_count": 15,
     "metadata": {},
     "output_type": "execute_result"
    }
   ],
   "source": [
    "df0.columns"
   ]
  },
  {
   "cell_type": "code",
   "execution_count": 16,
   "id": "c546d7e9",
   "metadata": {
    "scrolled": true
   },
   "outputs": [
    {
     "data": {
      "text/html": [
       "<div>\n",
       "<style scoped>\n",
       "    .dataframe tbody tr th:only-of-type {\n",
       "        vertical-align: middle;\n",
       "    }\n",
       "\n",
       "    .dataframe tbody tr th {\n",
       "        vertical-align: top;\n",
       "    }\n",
       "\n",
       "    .dataframe thead th {\n",
       "        text-align: right;\n",
       "    }\n",
       "</style>\n",
       "<table border=\"1\" class=\"dataframe\">\n",
       "  <thead>\n",
       "    <tr style=\"text-align: right;\">\n",
       "      <th></th>\n",
       "      <th>Код</th>\n",
       "      <th>Вставки корректировка</th>\n",
       "    </tr>\n",
       "  </thead>\n",
       "  <tbody>\n",
       "    <tr>\n",
       "      <th>0</th>\n",
       "      <td>ЦБ-00000421</td>\n",
       "      <td>1Кр57-0,11-4/3А 1Кр57-0,10-4/3Б</td>\n",
       "    </tr>\n",
       "    <tr>\n",
       "      <th>1</th>\n",
       "      <td>ЦБ-00000422</td>\n",
       "      <td>2Кр57-0,431-4/5Б</td>\n",
       "    </tr>\n",
       "    <tr>\n",
       "      <th>2</th>\n",
       "      <td>ЦБ-00000426</td>\n",
       "      <td>1Кр57-0,30-4/4Б 1Кр57-0,35-4/5Б</td>\n",
       "    </tr>\n",
       "    <tr>\n",
       "      <th>3</th>\n",
       "      <td>ЦБ-00000427</td>\n",
       "      <td>2Кр57-0,44-3/3Б</td>\n",
       "    </tr>\n",
       "    <tr>\n",
       "      <th>4</th>\n",
       "      <td>ЦБ-00000428</td>\n",
       "      <td>2Кр57-0,427-4/3Б</td>\n",
       "    </tr>\n",
       "    <tr>\n",
       "      <th>...</th>\n",
       "      <td>...</td>\n",
       "      <td>...</td>\n",
       "    </tr>\n",
       "    <tr>\n",
       "      <th>34504</th>\n",
       "      <td>ЦБ-00219618</td>\n",
       "      <td>1МодГ-3,410-6/7А 6Кр57-0,140-5/5А 8Кр57-0,150-...</td>\n",
       "    </tr>\n",
       "    <tr>\n",
       "      <th>34505</th>\n",
       "      <td>ЦБ-00219619</td>\n",
       "      <td>1Кр57-1,790-9-4/8А 8Кр57-0,680-5/5А 10Кр57-0,3...</td>\n",
       "    </tr>\n",
       "    <tr>\n",
       "      <th>34506</th>\n",
       "      <td>ЦБ-00219620</td>\n",
       "      <td>1МодИ-1,020-6/7А 2Кр57-0,020-5/5А 42Кр57-0,490...</td>\n",
       "    </tr>\n",
       "    <tr>\n",
       "      <th>34507</th>\n",
       "      <td>ЦБ-00219621</td>\n",
       "      <td>1Кр57-1,000-4/3А 28Кр57-0,490-5/5А 2Кр57-0,010...</td>\n",
       "    </tr>\n",
       "    <tr>\n",
       "      <th>34508</th>\n",
       "      <td>ЦБ-00219622</td>\n",
       "      <td>1Кр57-1,020-6/7аА 4Кр57-0,030-5/5А 2Кр57-0,050...</td>\n",
       "    </tr>\n",
       "  </tbody>\n",
       "</table>\n",
       "<p>34509 rows × 2 columns</p>\n",
       "</div>"
      ],
      "text/plain": [
       "               Код                              Вставки корректировка\n",
       "0      ЦБ-00000421                    1Кр57-0,11-4/3А 1Кр57-0,10-4/3Б\n",
       "1      ЦБ-00000422                                   2Кр57-0,431-4/5Б\n",
       "2      ЦБ-00000426                    1Кр57-0,30-4/4Б 1Кр57-0,35-4/5Б\n",
       "3      ЦБ-00000427                                    2Кр57-0,44-3/3Б\n",
       "4      ЦБ-00000428                                   2Кр57-0,427-4/3Б\n",
       "...            ...                                                ...\n",
       "34504  ЦБ-00219618  1МодГ-3,410-6/7А 6Кр57-0,140-5/5А 8Кр57-0,150-...\n",
       "34505  ЦБ-00219619  1Кр57-1,790-9-4/8А 8Кр57-0,680-5/5А 10Кр57-0,3...\n",
       "34506  ЦБ-00219620  1МодИ-1,020-6/7А 2Кр57-0,020-5/5А 42Кр57-0,490...\n",
       "34507  ЦБ-00219621  1Кр57-1,000-4/3А 28Кр57-0,490-5/5А 2Кр57-0,010...\n",
       "34508  ЦБ-00219622  1Кр57-1,020-6/7аА 4Кр57-0,030-5/5А 2Кр57-0,050...\n",
       "\n",
       "[34509 rows x 2 columns]"
      ]
     },
     "execution_count": 16,
     "metadata": {},
     "output_type": "execute_result"
    }
   ],
   "source": [
    "df0[['Код','Вставки корректировка']]"
   ]
  },
  {
   "cell_type": "markdown",
   "id": "cb0508f0",
   "metadata": {},
   "source": [
    "# Подготовка данных df_test"
   ]
  },
  {
   "cell_type": "code",
   "execution_count": 17,
   "id": "dd63444b",
   "metadata": {},
   "outputs": [],
   "source": [
    "# чтение тестового набора данных о вставках на 15-10-2023\n",
    "df_test = df0[['Код','Вставки корректировка']].copy(deep=True)"
   ]
  },
  {
   "cell_type": "code",
   "execution_count": 18,
   "id": "abebe39f",
   "metadata": {},
   "outputs": [],
   "source": [
    "df_test.rename(columns={'Вставки корректировка':'vst'}, inplace=True)"
   ]
  },
  {
   "cell_type": "code",
   "execution_count": 19,
   "id": "b4997194",
   "metadata": {},
   "outputs": [
    {
     "name": "stdout",
     "output_type": "stream",
     "text": [
      "<class 'pandas.core.frame.DataFrame'>\n",
      "RangeIndex: 34509 entries, 0 to 34508\n",
      "Data columns (total 2 columns):\n",
      " #   Column  Non-Null Count  Dtype \n",
      "---  ------  --------------  ----- \n",
      " 0   Код     34509 non-null  object\n",
      " 1   vst     34509 non-null  object\n",
      "dtypes: object(2)\n",
      "memory usage: 539.3+ KB\n"
     ]
    }
   ],
   "source": [
    "df_test.info()"
   ]
  },
  {
   "cell_type": "markdown",
   "id": "7eba35b9",
   "metadata": {},
   "source": [
    "# Сборка общей функции для df  module_prgem"
   ]
  },
  {
   "cell_type": "code",
   "execution_count": 20,
   "id": "18d7103a",
   "metadata": {},
   "outputs": [],
   "source": [
    "#данные\n",
    "df =  df0[['Код','Вставки корректировка']].copy(deep=True)\n",
    "df.rename(columns={'Вставки корректировка':'vst'}, inplace=True)"
   ]
  },
  {
   "cell_type": "code",
   "execution_count": 21,
   "id": "48ae0243",
   "metadata": {},
   "outputs": [
    {
     "name": "stdout",
     "output_type": "stream",
     "text": [
      "<class 'pandas.core.frame.DataFrame'>\n",
      "RangeIndex: 34509 entries, 0 to 34508\n",
      "Data columns (total 2 columns):\n",
      " #   Column  Non-Null Count  Dtype \n",
      "---  ------  --------------  ----- \n",
      " 0   Код     34509 non-null  object\n",
      " 1   vst     34509 non-null  object\n",
      "dtypes: object(2)\n",
      "memory usage: 539.3+ KB\n"
     ]
    }
   ],
   "source": [
    "df.info()"
   ]
  },
  {
   "cell_type": "code",
   "execution_count": 22,
   "id": "90cc3b8b",
   "metadata": {},
   "outputs": [],
   "source": [
    "folder_res = '../ЦВДК/2023-11-22 res total/'"
   ]
  },
  {
   "cell_type": "code",
   "execution_count": 23,
   "id": "b7d3c1ba",
   "metadata": {},
   "outputs": [
    {
     "ename": "FileExistsError",
     "evalue": "[WinError 183] Невозможно создать файл, так как он уже существует: '../ЦВДК/2023-11-22 res total/'",
     "output_type": "error",
     "traceback": [
      "\u001b[1;31m---------------------------------------------------------------------------\u001b[0m",
      "\u001b[1;31mFileExistsError\u001b[0m                           Traceback (most recent call last)",
      "Cell \u001b[1;32mIn[23], line 1\u001b[0m\n\u001b[1;32m----> 1\u001b[0m \u001b[43mos\u001b[49m\u001b[38;5;241;43m.\u001b[39;49m\u001b[43mmkdir\u001b[49m\u001b[43m(\u001b[49m\u001b[43mfolder_res\u001b[49m\u001b[43m)\u001b[49m\n",
      "\u001b[1;31mFileExistsError\u001b[0m: [WinError 183] Невозможно создать файл, так как он уже существует: '../ЦВДК/2023-11-22 res total/'"
     ]
    }
   ],
   "source": [
    "os.mkdir(folder_res)"
   ]
  },
  {
   "cell_type": "code",
   "execution_count": 24,
   "id": "2855787f",
   "metadata": {},
   "outputs": [
    {
     "data": {
      "text/plain": [
       "['done_df_em_sap_ruby2122-11-2023_18-48.xlsx']"
      ]
     },
     "execution_count": 24,
     "metadata": {},
     "output_type": "execute_result"
    }
   ],
   "source": [
    "os.listdir(folder_res)"
   ]
  },
  {
   "cell_type": "code",
   "execution_count": null,
   "id": "1b8a681a",
   "metadata": {},
   "outputs": [],
   "source": []
  },
  {
   "cell_type": "markdown",
   "id": "c02bafd1",
   "metadata": {},
   "source": [
    "## для записи в файл .py"
   ]
  },
  {
   "cell_type": "code",
   "execution_count": 37,
   "id": "c73d8cb6",
   "metadata": {},
   "outputs": [
    {
     "name": "stdout",
     "output_type": "stream",
     "text": [
      "Writing gemprice.py\n"
     ]
    }
   ],
   "source": [
    "%%writefile gemprice.py\n",
    "def gemprice(df):\n",
    "    '''функция расчета прейскурантной стоимости цветных камней'''\n",
    "    import numpy as np\n",
    "    import pandas as pd\n",
    "    import re\n",
    "    import os\n",
    "    import importlib\n",
    "    import module_prgem.price_em as price_em\n",
    "    import module_prgem.price_sap_ruby as price_sap_ruby\n",
    "    import module_prgem.dictgems as mds\n",
    "\n",
    "    def float_numeric(s):\n",
    "        if type(s) == type('s'):\n",
    "            return float(s) if s.replace('.','').isnumeric() else s\n",
    "        else:\n",
    "            return s\n",
    "\n",
    "    def sum_str(l):\n",
    "        sumstr = '' \n",
    "        for x in [z for z in l if type(z) == type('s')]:\n",
    "            if not (x.replace('.','').isnumeric()):\n",
    "                sumstr+=x+';'\n",
    "        if sumstr == '':\n",
    "            return sum([float(x) for x in l if x!=np.nan])\n",
    "        else:\n",
    "            return sumstr\n",
    "\n",
    "\n",
    "    #Быстрый повтор сапфиров\n",
    "    df['make_list_sap_20'] = df.vst.apply(lambda x: price_sap_ruby.make_list_sap(x))\n",
    "    df['list_std_sap20'] = df['make_list_sap_20'].apply(lambda x: x[0])\n",
    "    df['report_sap20'] = df['make_list_sap_20'].apply(lambda x: x[1])\n",
    "    df['count_price_sap20']=df['make_list_sap_20'].apply(lambda x: price_sap_ruby.count_price_report(x))\n",
    "    df['prsap_cost'] = df['count_price_sap20'].apply(lambda x: 0 if len(x)==0 else x.split(\";\")[0]) #map(len)!=0]\n",
    "\n",
    "    # результат функции (стандартный лист, рапорт распознавания ) \n",
    "    df['make_list_ruby20'] = df.vst.apply(lambda x: price_sap_ruby.make_list_ruby(x))\n",
    "    # стандартный лист\n",
    "    df['list_std_ruby20'] = df['make_list_ruby20'].apply(lambda x: x[0])\n",
    "    # рапорт распознавания \n",
    "    df['report_ruby20'] = df['make_list_ruby20'].apply(lambda x: x[1])\n",
    "    #  результат функции (рапорт применения прейскуранта) \n",
    "    df['count_price_ruby20']=df['make_list_ruby20'].apply(lambda x: price_sap_ruby.count_price_report(x))\n",
    "    # прейскурантая стоимсоть float или ошибка \n",
    "    df['prruby_cost'] = df['count_price_ruby20'].apply(lambda x: 0 if len(x)==0 else x.split(\";\")[0]) #map(len)!=0]\n",
    "\n",
    "    #  результат функции (рапорт применения прейскуранта) \n",
    "    df['count_price_ruby20']=df['make_list_ruby20'].apply(lambda x: price_sap_ruby.count_price_report(x))\n",
    "    # прейскурантая стоимсоть float или ошибка \n",
    "    df['prruby_cost'] = df['count_price_ruby20'].apply(lambda x: 0 if len(x)==0 else x.split(\";\")[0]) #map(len)!=0]\n",
    "    # результат функции (стандартный лист, рапорт распознавания ) \n",
    "    df['make_list_em20'] = df.vst.apply(lambda x: price_em.list2std_em_sap_ruby(price_em.vst2list(x)))\n",
    "    # стандартный лист\n",
    "    df['list_std_em20'] = df['make_list_em20'].apply(lambda x: x[0])\n",
    "    # рапорт распознавания \n",
    "    df['report_em20'] = df['make_list_em20'].apply(lambda x: x[1])\n",
    "    # не стандартный лист (только изумруд)\n",
    "    df['prem_vst2list'] = df.vst.map(price_em.vst2list)\n",
    "    #  результат функции (рапорт применения прейскуранта) \n",
    "    df['count_price_em20']=df['prem_vst2list'].map(price_em.check_vstlist)\n",
    "    # прейскурантая стоимсоть float или ошибка \n",
    "    #df['prem_cost'] = df['prem_cost'] = df['count_price_em20'].apply(lambda x: float(x.split(';')[0].replace('prcost:','').replace(',',''))  if type(x)==type('s')else 0)\n",
    "    # прейскурантая стоимсоть float или ошибка \n",
    "    #df['prem_cost'] = df['prem_cost'] = df['count_price_em20'].apply(lambda x: float(x.split(';')[0].replace('prcost:','').replace(',',''))  if type(x)==type('s')else 0)\n",
    "    df['prem_cost'] = df['count_price_em20'].apply(lambda x: 0 if len(x)==0 else x.split(\";\")[0]) #map(len)!=0]\n",
    "\n",
    "\n",
    "    df['prruby_cost2'] = df['prruby_cost'].map(float_numeric)\n",
    "\n",
    "    df['prsap_cost2'] = df['prsap_cost'].map(float_numeric)\n",
    "\n",
    "    df['prem_cost2'] = df['prem_cost'].map(float_numeric)\n",
    "\n",
    "    df['sum_pr2'] = df[['prruby_cost2','prsap_cost2','prem_cost2' ]].apply(lambda x: sum_str(x), axis=1)\n",
    "\n",
    "    # суммирование листа всех ДК\n",
    "    df['list_sum'] = df[['list_std_ruby20','list_std_sap20','list_std_em20' ]]\\\n",
    "    .apply(lambda x: x['list_std_ruby20']+x['list_std_sap20']+x['list_std_em20'], axis=1)\n",
    "\n",
    "    #суммирование репортов всех ДК\n",
    "    df['report_sum'] = df[['report_ruby20','report_sap20','report_em20' ]]\\\n",
    "    .apply(lambda x: f\"r:{x['report_ruby20']}; s:{x['report_sap20']}; e:{x['report_em20']}\", axis=1)\n",
    "    return df[['Код','vst', 'list_sum', 'report_sum', 'sum_pr2']]"
   ]
  },
  {
   "cell_type": "markdown",
   "id": "f9ee9cc1",
   "metadata": {},
   "source": [
    "## Проверка файла"
   ]
  },
  {
   "cell_type": "code",
   "execution_count": null,
   "id": "a7190775",
   "metadata": {},
   "outputs": [],
   "source": [
    "#сбросить ядро"
   ]
  },
  {
   "cell_type": "code",
   "execution_count": 1,
   "id": "aa217ad6",
   "metadata": {},
   "outputs": [],
   "source": [
    "import datetime\n",
    "import pandas as pd\n",
    "import importlib"
   ]
  },
  {
   "cell_type": "code",
   "execution_count": 5,
   "id": "cf4f1664",
   "metadata": {},
   "outputs": [],
   "source": [
    "import module_prgem.gemprice as gemprice"
   ]
  },
  {
   "cell_type": "code",
   "execution_count": 2,
   "id": "c3588579",
   "metadata": {},
   "outputs": [],
   "source": [
    "#из дома через врем файл\n",
    "df0 = pd.read_excel('../ЦВДК/выгрузка17_11_2023_все_склады_ДК_17_11_2023_08_01_res_pr.xlsx')"
   ]
  },
  {
   "cell_type": "code",
   "execution_count": 3,
   "id": "4a693ad6",
   "metadata": {},
   "outputs": [
    {
     "data": {
      "text/html": [
       "<div>\n",
       "<style scoped>\n",
       "    .dataframe tbody tr th:only-of-type {\n",
       "        vertical-align: middle;\n",
       "    }\n",
       "\n",
       "    .dataframe tbody tr th {\n",
       "        vertical-align: top;\n",
       "    }\n",
       "\n",
       "    .dataframe thead th {\n",
       "        text-align: right;\n",
       "    }\n",
       "</style>\n",
       "<table border=\"1\" class=\"dataframe\">\n",
       "  <thead>\n",
       "    <tr style=\"text-align: right;\">\n",
       "      <th></th>\n",
       "      <th>Код</th>\n",
       "      <th>Вставки корректировка</th>\n",
       "    </tr>\n",
       "  </thead>\n",
       "  <tbody>\n",
       "    <tr>\n",
       "      <th>0</th>\n",
       "      <td>ЦБ-00000421</td>\n",
       "      <td>1Кр57-0,11-4/3А 1Кр57-0,10-4/3Б</td>\n",
       "    </tr>\n",
       "    <tr>\n",
       "      <th>1</th>\n",
       "      <td>ЦБ-00000422</td>\n",
       "      <td>2Кр57-0,431-4/5Б</td>\n",
       "    </tr>\n",
       "    <tr>\n",
       "      <th>2</th>\n",
       "      <td>ЦБ-00000426</td>\n",
       "      <td>1Кр57-0,30-4/4Б 1Кр57-0,35-4/5Б</td>\n",
       "    </tr>\n",
       "    <tr>\n",
       "      <th>3</th>\n",
       "      <td>ЦБ-00000427</td>\n",
       "      <td>2Кр57-0,44-3/3Б</td>\n",
       "    </tr>\n",
       "    <tr>\n",
       "      <th>4</th>\n",
       "      <td>ЦБ-00000428</td>\n",
       "      <td>2Кр57-0,427-4/3Б</td>\n",
       "    </tr>\n",
       "    <tr>\n",
       "      <th>...</th>\n",
       "      <td>...</td>\n",
       "      <td>...</td>\n",
       "    </tr>\n",
       "    <tr>\n",
       "      <th>34504</th>\n",
       "      <td>ЦБ-00219618</td>\n",
       "      <td>1МодГ-3,410-6/7А 6Кр57-0,140-5/5А 8Кр57-0,150-...</td>\n",
       "    </tr>\n",
       "    <tr>\n",
       "      <th>34505</th>\n",
       "      <td>ЦБ-00219619</td>\n",
       "      <td>1Кр57-1,790-9-4/8А 8Кр57-0,680-5/5А 10Кр57-0,3...</td>\n",
       "    </tr>\n",
       "    <tr>\n",
       "      <th>34506</th>\n",
       "      <td>ЦБ-00219620</td>\n",
       "      <td>1МодИ-1,020-6/7А 2Кр57-0,020-5/5А 42Кр57-0,490...</td>\n",
       "    </tr>\n",
       "    <tr>\n",
       "      <th>34507</th>\n",
       "      <td>ЦБ-00219621</td>\n",
       "      <td>1Кр57-1,000-4/3А 28Кр57-0,490-5/5А 2Кр57-0,010...</td>\n",
       "    </tr>\n",
       "    <tr>\n",
       "      <th>34508</th>\n",
       "      <td>ЦБ-00219622</td>\n",
       "      <td>1Кр57-1,020-6/7аА 4Кр57-0,030-5/5А 2Кр57-0,050...</td>\n",
       "    </tr>\n",
       "  </tbody>\n",
       "</table>\n",
       "<p>34509 rows × 2 columns</p>\n",
       "</div>"
      ],
      "text/plain": [
       "               Код                              Вставки корректировка\n",
       "0      ЦБ-00000421                    1Кр57-0,11-4/3А 1Кр57-0,10-4/3Б\n",
       "1      ЦБ-00000422                                   2Кр57-0,431-4/5Б\n",
       "2      ЦБ-00000426                    1Кр57-0,30-4/4Б 1Кр57-0,35-4/5Б\n",
       "3      ЦБ-00000427                                    2Кр57-0,44-3/3Б\n",
       "4      ЦБ-00000428                                   2Кр57-0,427-4/3Б\n",
       "...            ...                                                ...\n",
       "34504  ЦБ-00219618  1МодГ-3,410-6/7А 6Кр57-0,140-5/5А 8Кр57-0,150-...\n",
       "34505  ЦБ-00219619  1Кр57-1,790-9-4/8А 8Кр57-0,680-5/5А 10Кр57-0,3...\n",
       "34506  ЦБ-00219620  1МодИ-1,020-6/7А 2Кр57-0,020-5/5А 42Кр57-0,490...\n",
       "34507  ЦБ-00219621  1Кр57-1,000-4/3А 28Кр57-0,490-5/5А 2Кр57-0,010...\n",
       "34508  ЦБ-00219622  1Кр57-1,020-6/7аА 4Кр57-0,030-5/5А 2Кр57-0,050...\n",
       "\n",
       "[34509 rows x 2 columns]"
      ]
     },
     "execution_count": 3,
     "metadata": {},
     "output_type": "execute_result"
    }
   ],
   "source": [
    "df_test = df0[['Код','Вставки корректировка']].copy(deep=True)\n",
    "df_test"
   ]
  },
  {
   "cell_type": "code",
   "execution_count": 4,
   "id": "095218b1",
   "metadata": {},
   "outputs": [
    {
     "data": {
      "text/plain": [
       "'22-11-2023_23-13'"
      ]
     },
     "execution_count": 4,
     "metadata": {},
     "output_type": "execute_result"
    }
   ],
   "source": [
    "datetime.datetime.now().strftime('%d-%m-%Y_%H-%M')"
   ]
  },
  {
   "cell_type": "code",
   "execution_count": 7,
   "id": "59dc695e",
   "metadata": {},
   "outputs": [
    {
     "data": {
      "text/plain": [
       "<module 'module_prgem.gemprice' from 'C:\\\\Users\\\\diva0\\\\work\\\\KDM2023\\\\gems\\\\ipynb\\\\module_prgem\\\\gemprice.py'>"
      ]
     },
     "execution_count": 7,
     "metadata": {},
     "output_type": "execute_result"
    }
   ],
   "source": [
    "importlib.reload(gemprice)"
   ]
  },
  {
   "cell_type": "code",
   "execution_count": 8,
   "id": "122dab16",
   "metadata": {},
   "outputs": [
    {
     "data": {
      "text/html": [
       "<div>\n",
       "<style scoped>\n",
       "    .dataframe tbody tr th:only-of-type {\n",
       "        vertical-align: middle;\n",
       "    }\n",
       "\n",
       "    .dataframe tbody tr th {\n",
       "        vertical-align: top;\n",
       "    }\n",
       "\n",
       "    .dataframe thead th {\n",
       "        text-align: right;\n",
       "    }\n",
       "</style>\n",
       "<table border=\"1\" class=\"dataframe\">\n",
       "  <thead>\n",
       "    <tr style=\"text-align: right;\">\n",
       "      <th></th>\n",
       "      <th>Код</th>\n",
       "      <th>vst</th>\n",
       "      <th>list_sum</th>\n",
       "      <th>report_sum</th>\n",
       "      <th>sum_pr2</th>\n",
       "    </tr>\n",
       "  </thead>\n",
       "  <tbody>\n",
       "    <tr>\n",
       "      <th>0</th>\n",
       "      <td>ЦБ-00000421</td>\n",
       "      <td>1Кр57-0,11-4/3А 1Кр57-0,10-4/3Б</td>\n",
       "      <td>[]</td>\n",
       "      <td>r:ok:0!=0;нет распознанных; s:ok:0!=0;нет расп...</td>\n",
       "      <td>0.0</td>\n",
       "    </tr>\n",
       "    <tr>\n",
       "      <th>1</th>\n",
       "      <td>ЦБ-00000422</td>\n",
       "      <td>2Кр57-0,431-4/5Б</td>\n",
       "      <td>[]</td>\n",
       "      <td>r:ok:0!=0;нет распознанных; s:ok:0!=0;нет расп...</td>\n",
       "      <td>0.0</td>\n",
       "    </tr>\n",
       "    <tr>\n",
       "      <th>2</th>\n",
       "      <td>ЦБ-00000426</td>\n",
       "      <td>1Кр57-0,30-4/4Б 1Кр57-0,35-4/5Б</td>\n",
       "      <td>[]</td>\n",
       "      <td>r:ok:0!=0;нет распознанных; s:ok:0!=0;нет расп...</td>\n",
       "      <td>0.0</td>\n",
       "    </tr>\n",
       "    <tr>\n",
       "      <th>3</th>\n",
       "      <td>ЦБ-00000427</td>\n",
       "      <td>2Кр57-0,44-3/3Б</td>\n",
       "      <td>[]</td>\n",
       "      <td>r:ok:0!=0;нет распознанных; s:ok:0!=0;нет расп...</td>\n",
       "      <td>0.0</td>\n",
       "    </tr>\n",
       "    <tr>\n",
       "      <th>4</th>\n",
       "      <td>ЦБ-00000428</td>\n",
       "      <td>2Кр57-0,427-4/3Б</td>\n",
       "      <td>[]</td>\n",
       "      <td>r:ok:0!=0;нет распознанных; s:ok:0!=0;нет расп...</td>\n",
       "      <td>0.0</td>\n",
       "    </tr>\n",
       "    <tr>\n",
       "      <th>...</th>\n",
       "      <td>...</td>\n",
       "      <td>...</td>\n",
       "      <td>...</td>\n",
       "      <td>...</td>\n",
       "      <td>...</td>\n",
       "    </tr>\n",
       "    <tr>\n",
       "      <th>34504</th>\n",
       "      <td>ЦБ-00219618</td>\n",
       "      <td>1МодГ-3,410-6/7А 6Кр57-0,140-5/5А 8Кр57-0,150-...</td>\n",
       "      <td>[]</td>\n",
       "      <td>r:ok:0!=0;нет распознанных; s:ok:0!=0;нет расп...</td>\n",
       "      <td>0.0</td>\n",
       "    </tr>\n",
       "    <tr>\n",
       "      <th>34505</th>\n",
       "      <td>ЦБ-00219619</td>\n",
       "      <td>1Кр57-1,790-9-4/8А 8Кр57-0,680-5/5А 10Кр57-0,3...</td>\n",
       "      <td>[]</td>\n",
       "      <td>r:ok:0!=0;нет распознанных; s:ok:0!=0;нет расп...</td>\n",
       "      <td>0.0</td>\n",
       "    </tr>\n",
       "    <tr>\n",
       "      <th>34506</th>\n",
       "      <td>ЦБ-00219620</td>\n",
       "      <td>1МодИ-1,020-6/7А 2Кр57-0,020-5/5А 42Кр57-0,490...</td>\n",
       "      <td>[]</td>\n",
       "      <td>r:ok:0!=0;нет распознанных; s:ok:0!=0;нет расп...</td>\n",
       "      <td>0.0</td>\n",
       "    </tr>\n",
       "    <tr>\n",
       "      <th>34507</th>\n",
       "      <td>ЦБ-00219621</td>\n",
       "      <td>1Кр57-1,000-4/3А 28Кр57-0,490-5/5А 2Кр57-0,010...</td>\n",
       "      <td>[]</td>\n",
       "      <td>r:ok:0!=0;нет распознанных; s:ok:0!=0;нет расп...</td>\n",
       "      <td>0.0</td>\n",
       "    </tr>\n",
       "    <tr>\n",
       "      <th>34508</th>\n",
       "      <td>ЦБ-00219622</td>\n",
       "      <td>1Кр57-1,020-6/7аА 4Кр57-0,030-5/5А 2Кр57-0,050...</td>\n",
       "      <td>[]</td>\n",
       "      <td>r:ok:0!=0;нет распознанных; s:ok:0!=0;нет расп...</td>\n",
       "      <td>0.0</td>\n",
       "    </tr>\n",
       "  </tbody>\n",
       "</table>\n",
       "<p>34509 rows × 5 columns</p>\n",
       "</div>"
      ],
      "text/plain": [
       "               Код                                                vst  \\\n",
       "0      ЦБ-00000421                    1Кр57-0,11-4/3А 1Кр57-0,10-4/3Б   \n",
       "1      ЦБ-00000422                                   2Кр57-0,431-4/5Б   \n",
       "2      ЦБ-00000426                    1Кр57-0,30-4/4Б 1Кр57-0,35-4/5Б   \n",
       "3      ЦБ-00000427                                    2Кр57-0,44-3/3Б   \n",
       "4      ЦБ-00000428                                   2Кр57-0,427-4/3Б   \n",
       "...            ...                                                ...   \n",
       "34504  ЦБ-00219618  1МодГ-3,410-6/7А 6Кр57-0,140-5/5А 8Кр57-0,150-...   \n",
       "34505  ЦБ-00219619  1Кр57-1,790-9-4/8А 8Кр57-0,680-5/5А 10Кр57-0,3...   \n",
       "34506  ЦБ-00219620  1МодИ-1,020-6/7А 2Кр57-0,020-5/5А 42Кр57-0,490...   \n",
       "34507  ЦБ-00219621  1Кр57-1,000-4/3А 28Кр57-0,490-5/5А 2Кр57-0,010...   \n",
       "34508  ЦБ-00219622  1Кр57-1,020-6/7аА 4Кр57-0,030-5/5А 2Кр57-0,050...   \n",
       "\n",
       "      list_sum                                         report_sum sum_pr2  \n",
       "0           []  r:ok:0!=0;нет распознанных; s:ok:0!=0;нет расп...     0.0  \n",
       "1           []  r:ok:0!=0;нет распознанных; s:ok:0!=0;нет расп...     0.0  \n",
       "2           []  r:ok:0!=0;нет распознанных; s:ok:0!=0;нет расп...     0.0  \n",
       "3           []  r:ok:0!=0;нет распознанных; s:ok:0!=0;нет расп...     0.0  \n",
       "4           []  r:ok:0!=0;нет распознанных; s:ok:0!=0;нет расп...     0.0  \n",
       "...        ...                                                ...     ...  \n",
       "34504       []  r:ok:0!=0;нет распознанных; s:ok:0!=0;нет расп...     0.0  \n",
       "34505       []  r:ok:0!=0;нет распознанных; s:ok:0!=0;нет расп...     0.0  \n",
       "34506       []  r:ok:0!=0;нет распознанных; s:ok:0!=0;нет расп...     0.0  \n",
       "34507       []  r:ok:0!=0;нет распознанных; s:ok:0!=0;нет расп...     0.0  \n",
       "34508       []  r:ok:0!=0;нет распознанных; s:ok:0!=0;нет расп...     0.0  \n",
       "\n",
       "[34509 rows x 5 columns]"
      ]
     },
     "execution_count": 8,
     "metadata": {},
     "output_type": "execute_result"
    }
   ],
   "source": [
    "gemprice.gemprice(df_test, 'Вставки корректировка')"
   ]
  },
  {
   "cell_type": "code",
   "execution_count": 9,
   "id": "a6fdff7a",
   "metadata": {},
   "outputs": [],
   "source": [
    "df = _"
   ]
  },
  {
   "cell_type": "code",
   "execution_count": 10,
   "id": "36538cc9",
   "metadata": {},
   "outputs": [
    {
     "data": {
      "text/html": [
       "<div>\n",
       "<style scoped>\n",
       "    .dataframe tbody tr th:only-of-type {\n",
       "        vertical-align: middle;\n",
       "    }\n",
       "\n",
       "    .dataframe tbody tr th {\n",
       "        vertical-align: top;\n",
       "    }\n",
       "\n",
       "    .dataframe thead th {\n",
       "        text-align: right;\n",
       "    }\n",
       "</style>\n",
       "<table border=\"1\" class=\"dataframe\">\n",
       "  <thead>\n",
       "    <tr style=\"text-align: right;\">\n",
       "      <th></th>\n",
       "      <th>Код</th>\n",
       "      <th>Вставки корректировка</th>\n",
       "    </tr>\n",
       "  </thead>\n",
       "  <tbody>\n",
       "    <tr>\n",
       "      <th>0</th>\n",
       "      <td>ЦБ-00000421</td>\n",
       "      <td>1Кр57-0,11-4/3А 1Кр57-0,10-4/3Б</td>\n",
       "    </tr>\n",
       "    <tr>\n",
       "      <th>1</th>\n",
       "      <td>ЦБ-00000422</td>\n",
       "      <td>2Кр57-0,431-4/5Б</td>\n",
       "    </tr>\n",
       "    <tr>\n",
       "      <th>2</th>\n",
       "      <td>ЦБ-00000426</td>\n",
       "      <td>1Кр57-0,30-4/4Б 1Кр57-0,35-4/5Б</td>\n",
       "    </tr>\n",
       "    <tr>\n",
       "      <th>3</th>\n",
       "      <td>ЦБ-00000427</td>\n",
       "      <td>2Кр57-0,44-3/3Б</td>\n",
       "    </tr>\n",
       "    <tr>\n",
       "      <th>4</th>\n",
       "      <td>ЦБ-00000428</td>\n",
       "      <td>2Кр57-0,427-4/3Б</td>\n",
       "    </tr>\n",
       "    <tr>\n",
       "      <th>...</th>\n",
       "      <td>...</td>\n",
       "      <td>...</td>\n",
       "    </tr>\n",
       "    <tr>\n",
       "      <th>34504</th>\n",
       "      <td>ЦБ-00219618</td>\n",
       "      <td>1МодГ-3,410-6/7А 6Кр57-0,140-5/5А 8Кр57-0,150-...</td>\n",
       "    </tr>\n",
       "    <tr>\n",
       "      <th>34505</th>\n",
       "      <td>ЦБ-00219619</td>\n",
       "      <td>1Кр57-1,790-9-4/8А 8Кр57-0,680-5/5А 10Кр57-0,3...</td>\n",
       "    </tr>\n",
       "    <tr>\n",
       "      <th>34506</th>\n",
       "      <td>ЦБ-00219620</td>\n",
       "      <td>1МодИ-1,020-6/7А 2Кр57-0,020-5/5А 42Кр57-0,490...</td>\n",
       "    </tr>\n",
       "    <tr>\n",
       "      <th>34507</th>\n",
       "      <td>ЦБ-00219621</td>\n",
       "      <td>1Кр57-1,000-4/3А 28Кр57-0,490-5/5А 2Кр57-0,010...</td>\n",
       "    </tr>\n",
       "    <tr>\n",
       "      <th>34508</th>\n",
       "      <td>ЦБ-00219622</td>\n",
       "      <td>1Кр57-1,020-6/7аА 4Кр57-0,030-5/5А 2Кр57-0,050...</td>\n",
       "    </tr>\n",
       "  </tbody>\n",
       "</table>\n",
       "<p>34509 rows × 2 columns</p>\n",
       "</div>"
      ],
      "text/plain": [
       "               Код                              Вставки корректировка\n",
       "0      ЦБ-00000421                    1Кр57-0,11-4/3А 1Кр57-0,10-4/3Б\n",
       "1      ЦБ-00000422                                   2Кр57-0,431-4/5Б\n",
       "2      ЦБ-00000426                    1Кр57-0,30-4/4Б 1Кр57-0,35-4/5Б\n",
       "3      ЦБ-00000427                                    2Кр57-0,44-3/3Б\n",
       "4      ЦБ-00000428                                   2Кр57-0,427-4/3Б\n",
       "...            ...                                                ...\n",
       "34504  ЦБ-00219618  1МодГ-3,410-6/7А 6Кр57-0,140-5/5А 8Кр57-0,150-...\n",
       "34505  ЦБ-00219619  1Кр57-1,790-9-4/8А 8Кр57-0,680-5/5А 10Кр57-0,3...\n",
       "34506  ЦБ-00219620  1МодИ-1,020-6/7А 2Кр57-0,020-5/5А 42Кр57-0,490...\n",
       "34507  ЦБ-00219621  1Кр57-1,000-4/3А 28Кр57-0,490-5/5А 2Кр57-0,010...\n",
       "34508  ЦБ-00219622  1Кр57-1,020-6/7аА 4Кр57-0,030-5/5А 2Кр57-0,050...\n",
       "\n",
       "[34509 rows x 2 columns]"
      ]
     },
     "execution_count": 10,
     "metadata": {},
     "output_type": "execute_result"
    }
   ],
   "source": [
    "df_test"
   ]
  },
  {
   "cell_type": "code",
   "execution_count": 11,
   "id": "1f10b773",
   "metadata": {},
   "outputs": [
    {
     "data": {
      "text/html": [
       "<div>\n",
       "<style scoped>\n",
       "    .dataframe tbody tr th:only-of-type {\n",
       "        vertical-align: middle;\n",
       "    }\n",
       "\n",
       "    .dataframe tbody tr th {\n",
       "        vertical-align: top;\n",
       "    }\n",
       "\n",
       "    .dataframe thead th {\n",
       "        text-align: right;\n",
       "    }\n",
       "</style>\n",
       "<table border=\"1\" class=\"dataframe\">\n",
       "  <thead>\n",
       "    <tr style=\"text-align: right;\">\n",
       "      <th></th>\n",
       "      <th>Код</th>\n",
       "      <th>vst</th>\n",
       "      <th>list_sum</th>\n",
       "      <th>report_sum</th>\n",
       "      <th>sum_pr2</th>\n",
       "    </tr>\n",
       "  </thead>\n",
       "  <tbody>\n",
       "    <tr>\n",
       "      <th>0</th>\n",
       "      <td>ЦБ-00000421</td>\n",
       "      <td>1Кр57-0,11-4/3А 1Кр57-0,10-4/3Б</td>\n",
       "      <td>[]</td>\n",
       "      <td>r:ok:0!=0;нет распознанных; s:ok:0!=0;нет расп...</td>\n",
       "      <td>0.0</td>\n",
       "    </tr>\n",
       "    <tr>\n",
       "      <th>1</th>\n",
       "      <td>ЦБ-00000422</td>\n",
       "      <td>2Кр57-0,431-4/5Б</td>\n",
       "      <td>[]</td>\n",
       "      <td>r:ok:0!=0;нет распознанных; s:ok:0!=0;нет расп...</td>\n",
       "      <td>0.0</td>\n",
       "    </tr>\n",
       "    <tr>\n",
       "      <th>2</th>\n",
       "      <td>ЦБ-00000426</td>\n",
       "      <td>1Кр57-0,30-4/4Б 1Кр57-0,35-4/5Б</td>\n",
       "      <td>[]</td>\n",
       "      <td>r:ok:0!=0;нет распознанных; s:ok:0!=0;нет расп...</td>\n",
       "      <td>0.0</td>\n",
       "    </tr>\n",
       "    <tr>\n",
       "      <th>3</th>\n",
       "      <td>ЦБ-00000427</td>\n",
       "      <td>2Кр57-0,44-3/3Б</td>\n",
       "      <td>[]</td>\n",
       "      <td>r:ok:0!=0;нет распознанных; s:ok:0!=0;нет расп...</td>\n",
       "      <td>0.0</td>\n",
       "    </tr>\n",
       "    <tr>\n",
       "      <th>4</th>\n",
       "      <td>ЦБ-00000428</td>\n",
       "      <td>2Кр57-0,427-4/3Б</td>\n",
       "      <td>[]</td>\n",
       "      <td>r:ok:0!=0;нет распознанных; s:ok:0!=0;нет расп...</td>\n",
       "      <td>0.0</td>\n",
       "    </tr>\n",
       "    <tr>\n",
       "      <th>...</th>\n",
       "      <td>...</td>\n",
       "      <td>...</td>\n",
       "      <td>...</td>\n",
       "      <td>...</td>\n",
       "      <td>...</td>\n",
       "    </tr>\n",
       "    <tr>\n",
       "      <th>34504</th>\n",
       "      <td>ЦБ-00219618</td>\n",
       "      <td>1МодГ-3,410-6/7А 6Кр57-0,140-5/5А 8Кр57-0,150-...</td>\n",
       "      <td>[]</td>\n",
       "      <td>r:ok:0!=0;нет распознанных; s:ok:0!=0;нет расп...</td>\n",
       "      <td>0.0</td>\n",
       "    </tr>\n",
       "    <tr>\n",
       "      <th>34505</th>\n",
       "      <td>ЦБ-00219619</td>\n",
       "      <td>1Кр57-1,790-9-4/8А 8Кр57-0,680-5/5А 10Кр57-0,3...</td>\n",
       "      <td>[]</td>\n",
       "      <td>r:ok:0!=0;нет распознанных; s:ok:0!=0;нет расп...</td>\n",
       "      <td>0.0</td>\n",
       "    </tr>\n",
       "    <tr>\n",
       "      <th>34506</th>\n",
       "      <td>ЦБ-00219620</td>\n",
       "      <td>1МодИ-1,020-6/7А 2Кр57-0,020-5/5А 42Кр57-0,490...</td>\n",
       "      <td>[]</td>\n",
       "      <td>r:ok:0!=0;нет распознанных; s:ok:0!=0;нет расп...</td>\n",
       "      <td>0.0</td>\n",
       "    </tr>\n",
       "    <tr>\n",
       "      <th>34507</th>\n",
       "      <td>ЦБ-00219621</td>\n",
       "      <td>1Кр57-1,000-4/3А 28Кр57-0,490-5/5А 2Кр57-0,010...</td>\n",
       "      <td>[]</td>\n",
       "      <td>r:ok:0!=0;нет распознанных; s:ok:0!=0;нет расп...</td>\n",
       "      <td>0.0</td>\n",
       "    </tr>\n",
       "    <tr>\n",
       "      <th>34508</th>\n",
       "      <td>ЦБ-00219622</td>\n",
       "      <td>1Кр57-1,020-6/7аА 4Кр57-0,030-5/5А 2Кр57-0,050...</td>\n",
       "      <td>[]</td>\n",
       "      <td>r:ok:0!=0;нет распознанных; s:ok:0!=0;нет расп...</td>\n",
       "      <td>0.0</td>\n",
       "    </tr>\n",
       "  </tbody>\n",
       "</table>\n",
       "<p>34509 rows × 5 columns</p>\n",
       "</div>"
      ],
      "text/plain": [
       "               Код                                                vst  \\\n",
       "0      ЦБ-00000421                    1Кр57-0,11-4/3А 1Кр57-0,10-4/3Б   \n",
       "1      ЦБ-00000422                                   2Кр57-0,431-4/5Б   \n",
       "2      ЦБ-00000426                    1Кр57-0,30-4/4Б 1Кр57-0,35-4/5Б   \n",
       "3      ЦБ-00000427                                    2Кр57-0,44-3/3Б   \n",
       "4      ЦБ-00000428                                   2Кр57-0,427-4/3Б   \n",
       "...            ...                                                ...   \n",
       "34504  ЦБ-00219618  1МодГ-3,410-6/7А 6Кр57-0,140-5/5А 8Кр57-0,150-...   \n",
       "34505  ЦБ-00219619  1Кр57-1,790-9-4/8А 8Кр57-0,680-5/5А 10Кр57-0,3...   \n",
       "34506  ЦБ-00219620  1МодИ-1,020-6/7А 2Кр57-0,020-5/5А 42Кр57-0,490...   \n",
       "34507  ЦБ-00219621  1Кр57-1,000-4/3А 28Кр57-0,490-5/5А 2Кр57-0,010...   \n",
       "34508  ЦБ-00219622  1Кр57-1,020-6/7аА 4Кр57-0,030-5/5А 2Кр57-0,050...   \n",
       "\n",
       "      list_sum                                         report_sum sum_pr2  \n",
       "0           []  r:ok:0!=0;нет распознанных; s:ok:0!=0;нет расп...     0.0  \n",
       "1           []  r:ok:0!=0;нет распознанных; s:ok:0!=0;нет расп...     0.0  \n",
       "2           []  r:ok:0!=0;нет распознанных; s:ok:0!=0;нет расп...     0.0  \n",
       "3           []  r:ok:0!=0;нет распознанных; s:ok:0!=0;нет расп...     0.0  \n",
       "4           []  r:ok:0!=0;нет распознанных; s:ok:0!=0;нет расп...     0.0  \n",
       "...        ...                                                ...     ...  \n",
       "34504       []  r:ok:0!=0;нет распознанных; s:ok:0!=0;нет расп...     0.0  \n",
       "34505       []  r:ok:0!=0;нет распознанных; s:ok:0!=0;нет расп...     0.0  \n",
       "34506       []  r:ok:0!=0;нет распознанных; s:ok:0!=0;нет расп...     0.0  \n",
       "34507       []  r:ok:0!=0;нет распознанных; s:ok:0!=0;нет расп...     0.0  \n",
       "34508       []  r:ok:0!=0;нет распознанных; s:ok:0!=0;нет расп...     0.0  \n",
       "\n",
       "[34509 rows x 5 columns]"
      ]
     },
     "execution_count": 11,
     "metadata": {},
     "output_type": "execute_result"
    }
   ],
   "source": [
    "df"
   ]
  },
  {
   "cell_type": "markdown",
   "id": "84cbafa8",
   "metadata": {},
   "source": [
    "## сборка "
   ]
  },
  {
   "cell_type": "code",
   "execution_count": 26,
   "id": "395be09d",
   "metadata": {},
   "outputs": [],
   "source": [
    "import numpy as np\n",
    "import pandas as pd\n",
    "import re\n",
    "import os\n",
    "import importlib\n",
    "import module_prgem.price_em as price_em\n",
    "import module_prgem.price_sap_ruby as price_sap_ruby\n",
    "import module_prgem.dictgems as mds"
   ]
  },
  {
   "cell_type": "code",
   "execution_count": 27,
   "id": "6530aa15",
   "metadata": {},
   "outputs": [],
   "source": [
    "#Быстрый повтор сапфиров\n",
    "df['make_list_sap_20'] = df.vst.apply(lambda x: price_sap_ruby.make_list_sap(x))\n",
    "df['list_std_sap20'] = df['make_list_sap_20'].apply(lambda x: x[0])\n",
    "df['report_sap20'] = df['make_list_sap_20'].apply(lambda x: x[1])\n",
    "df['count_price_sap20']=df['make_list_sap_20'].apply(lambda x: price_sap_ruby.count_price_report(x))\n",
    "df['prsap_cost'] = df['count_price_sap20'].apply(lambda x: 0 if len(x)==0 else x.split(\";\")[0]) #map(len)!=0]\n",
    "\n",
    "# результат функции (стандартный лист, рапорт распознавания ) \n",
    "df['make_list_ruby20'] = df.vst.apply(lambda x: price_sap_ruby.make_list_ruby(x))\n",
    "# стандартный лист\n",
    "df['list_std_ruby20'] = df['make_list_ruby20'].apply(lambda x: x[0])\n",
    "# рапорт распознавания \n",
    "df['report_ruby20'] = df['make_list_ruby20'].apply(lambda x: x[1])\n",
    "#  результат функции (рапорт применения прейскуранта) \n",
    "df['count_price_ruby20']=df['make_list_ruby20'].apply(lambda x: price_sap_ruby.count_price_report(x))\n",
    "# прейскурантая стоимсоть float или ошибка \n",
    "df['prruby_cost'] = df['count_price_ruby20'].apply(lambda x: 0 if len(x)==0 else x.split(\";\")[0]) #map(len)!=0]\n",
    "\n",
    "#  результат функции (рапорт применения прейскуранта) \n",
    "df['count_price_ruby20']=df['make_list_ruby20'].apply(lambda x: price_sap_ruby.count_price_report(x))\n",
    "# прейскурантая стоимсоть float или ошибка \n",
    "df['prruby_cost'] = df['count_price_ruby20'].apply(lambda x: 0 if len(x)==0 else x.split(\";\")[0]) #map(len)!=0]\n",
    "# результат функции (стандартный лист, рапорт распознавания ) \n",
    "df['make_list_em20'] = df.vst.apply(lambda x: price_em.list2std_em_sap_ruby(price_em.vst2list(x)))\n",
    "# стандартный лист\n",
    "df['list_std_em20'] = df['make_list_em20'].apply(lambda x: x[0])\n",
    "# рапорт распознавания \n",
    "df['report_em20'] = df['make_list_em20'].apply(lambda x: x[1])\n",
    "# не стандартный лист (только изумруд)\n",
    "df['prem_vst2list'] = df.vst.map(price_em.vst2list)\n",
    "#  результат функции (рапорт применения прейскуранта) \n",
    "df['count_price_em20']=df['prem_vst2list'].map(price_em.check_vstlist)\n",
    "# прейскурантая стоимсоть float или ошибка \n",
    "#df['prem_cost'] = df['prem_cost'] = df['count_price_em20'].apply(lambda x: float(x.split(';')[0].replace('prcost:','').replace(',',''))  if type(x)==type('s')else 0)\n",
    "# прейскурантая стоимсоть float или ошибка \n",
    "#df['prem_cost'] = df['prem_cost'] = df['count_price_em20'].apply(lambda x: float(x.split(';')[0].replace('prcost:','').replace(',',''))  if type(x)==type('s')else 0)\n",
    "df['prem_cost'] = df['count_price_em20'].apply(lambda x: 0 if len(x)==0 else x.split(\";\")[0]) #map(len)!=0]"
   ]
  },
  {
   "cell_type": "code",
   "execution_count": 28,
   "id": "5d0c585e",
   "metadata": {},
   "outputs": [],
   "source": [
    "def float_numeric(s):\n",
    "    if type(s) == type('s'):\n",
    "        return float(s) if s.replace('.','').isnumeric() else s\n",
    "    else:\n",
    "        return s\n",
    "\n",
    "def sum_str(l):\n",
    "    sumstr = '' \n",
    "    for x in [z for z in l if type(z) == type('s')]:\n",
    "        if not (x.replace('.','').isnumeric()):\n",
    "            sumstr+=x+';'\n",
    "    if sumstr == '':\n",
    "        return sum([float(x) for x in l if x!=np.nan])\n",
    "    else:\n",
    "        return sumstr"
   ]
  },
  {
   "cell_type": "code",
   "execution_count": 29,
   "id": "b9024a5e",
   "metadata": {},
   "outputs": [],
   "source": [
    "df['prruby_cost2'] = df['prruby_cost'].map(float_numeric)\n",
    "\n",
    "df['prsap_cost2'] = df['prsap_cost'].map(float_numeric)\n",
    "\n",
    "df['prem_cost2'] = df['prem_cost'].map(float_numeric)\n",
    "\n",
    "df['sum_pr2'] = df[['prruby_cost2','prsap_cost2','prem_cost2' ]].apply(lambda x: sum_str(x), axis=1)\n",
    "\n",
    "# суммирование листа всех ДК\n",
    "df['list_sum'] = df[['list_std_ruby20','list_std_sap20','list_std_em20' ]]\\\n",
    ".apply(lambda x: x['list_std_ruby20']+x['list_std_sap20']+x['list_std_em20'], axis=1)\n",
    "\n",
    "#суммирование репортов всех ДК\n",
    "df['report_sum'] = df[['report_ruby20','report_sap20','report_em20' ]]\\\n",
    ".apply(lambda x: f\"r:{x['report_ruby20']}; s:{x['report_sap20']}; e:{x['report_em20']}\", axis=1)"
   ]
  },
  {
   "cell_type": "code",
   "execution_count": null,
   "id": "2cf35bec",
   "metadata": {},
   "outputs": [],
   "source": []
  },
  {
   "cell_type": "code",
   "execution_count": 25,
   "id": "67a3886b",
   "metadata": {},
   "outputs": [],
   "source": [
    "#import"
   ]
  },
  {
   "cell_type": "code",
   "execution_count": 26,
   "id": "b29a25bc",
   "metadata": {},
   "outputs": [],
   "source": [
    "import numpy as np\n",
    "import pandas as pd\n",
    "import re\n",
    "import os\n",
    "import importlib\n",
    "import module_prgem.price_em as price_em\n",
    "import module_prgem.price_sap_ruby as price_sap_ruby\n",
    "import module_prgem.dictgems as mds"
   ]
  },
  {
   "cell_type": "code",
   "execution_count": 27,
   "id": "4bec58f7",
   "metadata": {},
   "outputs": [],
   "source": [
    "#Быстрый повтор сапфиров\n",
    "df['make_list_sap_20'] = df.vst.apply(lambda x: price_sap_ruby.make_list_sap(x))\n",
    "df['list_std_sap20'] = df['make_list_sap_20'].apply(lambda x: x[0])\n",
    "df['report_sap20'] = df['make_list_sap_20'].apply(lambda x: x[1])\n",
    "df['count_price_sap20']=df['make_list_sap_20'].apply(lambda x: price_sap_ruby.count_price_report(x))\n",
    "df['prsap_cost'] = df['count_price_sap20'].apply(lambda x: 0 if len(x)==0 else x.split(\";\")[0]) #map(len)!=0]\n",
    "\n",
    "# результат функции (стандартный лист, рапорт распознавания ) \n",
    "df['make_list_ruby20'] = df.vst.apply(lambda x: price_sap_ruby.make_list_ruby(x))\n",
    "# стандартный лист\n",
    "df['list_std_ruby20'] = df['make_list_ruby20'].apply(lambda x: x[0])\n",
    "# рапорт распознавания \n",
    "df['report_ruby20'] = df['make_list_ruby20'].apply(lambda x: x[1])\n",
    "#  результат функции (рапорт применения прейскуранта) \n",
    "df['count_price_ruby20']=df['make_list_ruby20'].apply(lambda x: price_sap_ruby.count_price_report(x))\n",
    "# прейскурантая стоимсоть float или ошибка \n",
    "df['prruby_cost'] = df['count_price_ruby20'].apply(lambda x: 0 if len(x)==0 else x.split(\";\")[0]) #map(len)!=0]\n",
    "\n",
    "#  результат функции (рапорт применения прейскуранта) \n",
    "df['count_price_ruby20']=df['make_list_ruby20'].apply(lambda x: price_sap_ruby.count_price_report(x))\n",
    "# прейскурантая стоимсоть float или ошибка \n",
    "df['prruby_cost'] = df['count_price_ruby20'].apply(lambda x: 0 if len(x)==0 else x.split(\";\")[0]) #map(len)!=0]\n",
    "# результат функции (стандартный лист, рапорт распознавания ) \n",
    "df['make_list_em20'] = df.vst.apply(lambda x: price_em.list2std_em_sap_ruby(price_em.vst2list(x)))\n",
    "# стандартный лист\n",
    "df['list_std_em20'] = df['make_list_em20'].apply(lambda x: x[0])\n",
    "# рапорт распознавания \n",
    "df['report_em20'] = df['make_list_em20'].apply(lambda x: x[1])\n",
    "# не стандартный лист (только изумруд)\n",
    "df['prem_vst2list'] = df.vst.map(price_em.vst2list)\n",
    "#  результат функции (рапорт применения прейскуранта) \n",
    "df['count_price_em20']=df['prem_vst2list'].map(price_em.check_vstlist)\n",
    "# прейскурантая стоимсоть float или ошибка \n",
    "#df['prem_cost'] = df['prem_cost'] = df['count_price_em20'].apply(lambda x: float(x.split(';')[0].replace('prcost:','').replace(',',''))  if type(x)==type('s')else 0)\n",
    "# прейскурантая стоимсоть float или ошибка \n",
    "#df['prem_cost'] = df['prem_cost'] = df['count_price_em20'].apply(lambda x: float(x.split(';')[0].replace('prcost:','').replace(',',''))  if type(x)==type('s')else 0)\n",
    "df['prem_cost'] = df['count_price_em20'].apply(lambda x: 0 if len(x)==0 else x.split(\";\")[0]) #map(len)!=0]"
   ]
  },
  {
   "cell_type": "code",
   "execution_count": 28,
   "id": "e6a0d7b1",
   "metadata": {},
   "outputs": [],
   "source": [
    "def float_numeric(s):\n",
    "    if type(s) == type('s'):\n",
    "        return float(s) if s.replace('.','').isnumeric() else s\n",
    "    else:\n",
    "        return s\n",
    "\n",
    "def sum_str(l):\n",
    "    sumstr = '' \n",
    "    for x in [z for z in l if type(z) == type('s')]:\n",
    "        if not (x.replace('.','').isnumeric()):\n",
    "            sumstr+=x+';'\n",
    "    if sumstr == '':\n",
    "        return sum([float(x) for x in l if x!=np.nan])\n",
    "    else:\n",
    "        return sumstr"
   ]
  },
  {
   "cell_type": "code",
   "execution_count": 29,
   "id": "bc0ad593",
   "metadata": {},
   "outputs": [],
   "source": [
    "df['prruby_cost2'] = df['prruby_cost'].map(float_numeric)\n",
    "\n",
    "df['prsap_cost2'] = df['prsap_cost'].map(float_numeric)\n",
    "\n",
    "df['prem_cost2'] = df['prem_cost'].map(float_numeric)\n",
    "\n",
    "df['sum_pr2'] = df[['prruby_cost2','prsap_cost2','prem_cost2' ]].apply(lambda x: sum_str(x), axis=1)\n",
    "\n",
    "# суммирование листа всех ДК\n",
    "df['list_sum'] = df[['list_std_ruby20','list_std_sap20','list_std_em20' ]]\\\n",
    ".apply(lambda x: x['list_std_ruby20']+x['list_std_sap20']+x['list_std_em20'], axis=1)\n",
    "\n",
    "#суммирование репортов всех ДК\n",
    "df['report_sum'] = df[['report_ruby20','report_sap20','report_em20' ]]\\\n",
    ".apply(lambda x: f\"r:{x['report_ruby20']}; s:{x['report_sap20']}; e:{x['report_em20']}\", axis=1)"
   ]
  },
  {
   "cell_type": "code",
   "execution_count": null,
   "id": "ed0c4307",
   "metadata": {},
   "outputs": [],
   "source": []
  },
  {
   "cell_type": "code",
   "execution_count": 36,
   "id": "fef999aa",
   "metadata": {},
   "outputs": [
    {
     "data": {
      "text/html": [
       "<div>\n",
       "<style scoped>\n",
       "    .dataframe tbody tr th:only-of-type {\n",
       "        vertical-align: middle;\n",
       "    }\n",
       "\n",
       "    .dataframe tbody tr th {\n",
       "        vertical-align: top;\n",
       "    }\n",
       "\n",
       "    .dataframe thead th {\n",
       "        text-align: right;\n",
       "    }\n",
       "</style>\n",
       "<table border=\"1\" class=\"dataframe\">\n",
       "  <thead>\n",
       "    <tr style=\"text-align: right;\">\n",
       "      <th></th>\n",
       "      <th>Код</th>\n",
       "      <th>vst</th>\n",
       "      <th>list_sum</th>\n",
       "      <th>report_sum</th>\n",
       "      <th>sum_pr2</th>\n",
       "    </tr>\n",
       "  </thead>\n",
       "  <tbody>\n",
       "    <tr>\n",
       "      <th>0</th>\n",
       "      <td>ЦБ-00000421</td>\n",
       "      <td>1Кр57-0,11-4/3А 1Кр57-0,10-4/3Б</td>\n",
       "      <td>[]</td>\n",
       "      <td>r:ok:0!=0;нет распознанных; s:ok:0!=0;нет расп...</td>\n",
       "      <td>0.0</td>\n",
       "    </tr>\n",
       "    <tr>\n",
       "      <th>1</th>\n",
       "      <td>ЦБ-00000422</td>\n",
       "      <td>2Кр57-0,431-4/5Б</td>\n",
       "      <td>[]</td>\n",
       "      <td>r:ok:0!=0;нет распознанных; s:ok:0!=0;нет расп...</td>\n",
       "      <td>0.0</td>\n",
       "    </tr>\n",
       "    <tr>\n",
       "      <th>2</th>\n",
       "      <td>ЦБ-00000426</td>\n",
       "      <td>1Кр57-0,30-4/4Б 1Кр57-0,35-4/5Б</td>\n",
       "      <td>[]</td>\n",
       "      <td>r:ok:0!=0;нет распознанных; s:ok:0!=0;нет расп...</td>\n",
       "      <td>0.0</td>\n",
       "    </tr>\n",
       "    <tr>\n",
       "      <th>3</th>\n",
       "      <td>ЦБ-00000427</td>\n",
       "      <td>2Кр57-0,44-3/3Б</td>\n",
       "      <td>[]</td>\n",
       "      <td>r:ok:0!=0;нет распознанных; s:ok:0!=0;нет расп...</td>\n",
       "      <td>0.0</td>\n",
       "    </tr>\n",
       "    <tr>\n",
       "      <th>4</th>\n",
       "      <td>ЦБ-00000428</td>\n",
       "      <td>2Кр57-0,427-4/3Б</td>\n",
       "      <td>[]</td>\n",
       "      <td>r:ok:0!=0;нет распознанных; s:ok:0!=0;нет расп...</td>\n",
       "      <td>0.0</td>\n",
       "    </tr>\n",
       "    <tr>\n",
       "      <th>...</th>\n",
       "      <td>...</td>\n",
       "      <td>...</td>\n",
       "      <td>...</td>\n",
       "      <td>...</td>\n",
       "      <td>...</td>\n",
       "    </tr>\n",
       "    <tr>\n",
       "      <th>34504</th>\n",
       "      <td>ЦБ-00219618</td>\n",
       "      <td>1МодГ-3,410-6/7А 6Кр57-0,140-5/5А 8Кр57-0,150-...</td>\n",
       "      <td>[]</td>\n",
       "      <td>r:ok:0!=0;нет распознанных; s:ok:0!=0;нет расп...</td>\n",
       "      <td>0.0</td>\n",
       "    </tr>\n",
       "    <tr>\n",
       "      <th>34505</th>\n",
       "      <td>ЦБ-00219619</td>\n",
       "      <td>1Кр57-1,790-9-4/8А 8Кр57-0,680-5/5А 10Кр57-0,3...</td>\n",
       "      <td>[]</td>\n",
       "      <td>r:ok:0!=0;нет распознанных; s:ok:0!=0;нет расп...</td>\n",
       "      <td>0.0</td>\n",
       "    </tr>\n",
       "    <tr>\n",
       "      <th>34506</th>\n",
       "      <td>ЦБ-00219620</td>\n",
       "      <td>1МодИ-1,020-6/7А 2Кр57-0,020-5/5А 42Кр57-0,490...</td>\n",
       "      <td>[]</td>\n",
       "      <td>r:ok:0!=0;нет распознанных; s:ok:0!=0;нет расп...</td>\n",
       "      <td>0.0</td>\n",
       "    </tr>\n",
       "    <tr>\n",
       "      <th>34507</th>\n",
       "      <td>ЦБ-00219621</td>\n",
       "      <td>1Кр57-1,000-4/3А 28Кр57-0,490-5/5А 2Кр57-0,010...</td>\n",
       "      <td>[]</td>\n",
       "      <td>r:ok:0!=0;нет распознанных; s:ok:0!=0;нет расп...</td>\n",
       "      <td>0.0</td>\n",
       "    </tr>\n",
       "    <tr>\n",
       "      <th>34508</th>\n",
       "      <td>ЦБ-00219622</td>\n",
       "      <td>1Кр57-1,020-6/7аА 4Кр57-0,030-5/5А 2Кр57-0,050...</td>\n",
       "      <td>[]</td>\n",
       "      <td>r:ok:0!=0;нет распознанных; s:ok:0!=0;нет расп...</td>\n",
       "      <td>0.0</td>\n",
       "    </tr>\n",
       "  </tbody>\n",
       "</table>\n",
       "<p>34509 rows × 5 columns</p>\n",
       "</div>"
      ],
      "text/plain": [
       "               Код                                                vst  \\\n",
       "0      ЦБ-00000421                    1Кр57-0,11-4/3А 1Кр57-0,10-4/3Б   \n",
       "1      ЦБ-00000422                                   2Кр57-0,431-4/5Б   \n",
       "2      ЦБ-00000426                    1Кр57-0,30-4/4Б 1Кр57-0,35-4/5Б   \n",
       "3      ЦБ-00000427                                    2Кр57-0,44-3/3Б   \n",
       "4      ЦБ-00000428                                   2Кр57-0,427-4/3Б   \n",
       "...            ...                                                ...   \n",
       "34504  ЦБ-00219618  1МодГ-3,410-6/7А 6Кр57-0,140-5/5А 8Кр57-0,150-...   \n",
       "34505  ЦБ-00219619  1Кр57-1,790-9-4/8А 8Кр57-0,680-5/5А 10Кр57-0,3...   \n",
       "34506  ЦБ-00219620  1МодИ-1,020-6/7А 2Кр57-0,020-5/5А 42Кр57-0,490...   \n",
       "34507  ЦБ-00219621  1Кр57-1,000-4/3А 28Кр57-0,490-5/5А 2Кр57-0,010...   \n",
       "34508  ЦБ-00219622  1Кр57-1,020-6/7аА 4Кр57-0,030-5/5А 2Кр57-0,050...   \n",
       "\n",
       "      list_sum                                         report_sum sum_pr2  \n",
       "0           []  r:ok:0!=0;нет распознанных; s:ok:0!=0;нет расп...     0.0  \n",
       "1           []  r:ok:0!=0;нет распознанных; s:ok:0!=0;нет расп...     0.0  \n",
       "2           []  r:ok:0!=0;нет распознанных; s:ok:0!=0;нет расп...     0.0  \n",
       "3           []  r:ok:0!=0;нет распознанных; s:ok:0!=0;нет расп...     0.0  \n",
       "4           []  r:ok:0!=0;нет распознанных; s:ok:0!=0;нет расп...     0.0  \n",
       "...        ...                                                ...     ...  \n",
       "34504       []  r:ok:0!=0;нет распознанных; s:ok:0!=0;нет расп...     0.0  \n",
       "34505       []  r:ok:0!=0;нет распознанных; s:ok:0!=0;нет расп...     0.0  \n",
       "34506       []  r:ok:0!=0;нет распознанных; s:ok:0!=0;нет расп...     0.0  \n",
       "34507       []  r:ok:0!=0;нет распознанных; s:ok:0!=0;нет расп...     0.0  \n",
       "34508       []  r:ok:0!=0;нет распознанных; s:ok:0!=0;нет расп...     0.0  \n",
       "\n",
       "[34509 rows x 5 columns]"
      ]
     },
     "execution_count": 36,
     "metadata": {},
     "output_type": "execute_result"
    }
   ],
   "source": [
    "df[['Код','vst', 'list_sum', 'report_sum', 'sum_pr2']]"
   ]
  },
  {
   "cell_type": "code",
   "execution_count": 35,
   "id": "39a56c39",
   "metadata": {},
   "outputs": [
    {
     "data": {
      "text/plain": [
       "Index(['Код', 'vst', 'make_list_sap_20', 'list_std_sap20', 'report_sap20',\n",
       "       'count_price_sap20', 'prsap_cost', 'make_list_ruby20',\n",
       "       'list_std_ruby20', 'report_ruby20', 'count_price_ruby20', 'prruby_cost',\n",
       "       'make_list_em20', 'list_std_em20', 'report_em20', 'prem_vst2list',\n",
       "       'count_price_em20', 'prem_cost', 'prruby_cost2', 'prsap_cost2',\n",
       "       'prem_cost2', 'sum_pr2', 'list_sum', 'report_sum'],\n",
       "      dtype='object')"
      ]
     },
     "execution_count": 35,
     "metadata": {},
     "output_type": "execute_result"
    }
   ],
   "source": [
    "df.columns"
   ]
  },
  {
   "cell_type": "code",
   "execution_count": 30,
   "id": "048c39a0",
   "metadata": {},
   "outputs": [
    {
     "name": "stdout",
     "output_type": "stream",
     "text": [
      "<class 'pandas.core.frame.DataFrame'>\n",
      "RangeIndex: 34509 entries, 0 to 34508\n",
      "Data columns (total 24 columns):\n",
      " #   Column              Non-Null Count  Dtype \n",
      "---  ------              --------------  ----- \n",
      " 0   Код                 34509 non-null  object\n",
      " 1   vst                 34509 non-null  object\n",
      " 2   make_list_sap_20    34509 non-null  object\n",
      " 3   list_std_sap20      34509 non-null  object\n",
      " 4   report_sap20        34509 non-null  object\n",
      " 5   count_price_sap20   34509 non-null  object\n",
      " 6   prsap_cost          34509 non-null  object\n",
      " 7   make_list_ruby20    34509 non-null  object\n",
      " 8   list_std_ruby20     34509 non-null  object\n",
      " 9   report_ruby20       34509 non-null  object\n",
      " 10  count_price_ruby20  34509 non-null  object\n",
      " 11  prruby_cost         34509 non-null  object\n",
      " 12  make_list_em20      34509 non-null  object\n",
      " 13  list_std_em20       34509 non-null  object\n",
      " 14  report_em20         34509 non-null  object\n",
      " 15  prem_vst2list       34509 non-null  object\n",
      " 16  count_price_em20    34509 non-null  object\n",
      " 17  prem_cost           34509 non-null  object\n",
      " 18  prruby_cost2        34509 non-null  object\n",
      " 19  prsap_cost2         34509 non-null  object\n",
      " 20  prem_cost2          34509 non-null  object\n",
      " 21  sum_pr2             34509 non-null  object\n",
      " 22  list_sum            34509 non-null  object\n",
      " 23  report_sum          34509 non-null  object\n",
      "dtypes: object(24)\n",
      "memory usage: 6.3+ MB\n"
     ]
    }
   ],
   "source": [
    "df.info()"
   ]
  },
  {
   "cell_type": "code",
   "execution_count": 31,
   "id": "54665e0a",
   "metadata": {},
   "outputs": [
    {
     "name": "stdout",
     "output_type": "stream",
     "text": [
      "<class 'pandas.core.frame.DataFrame'>\n",
      "RangeIndex: 34509 entries, 0 to 34508\n",
      "Data columns (total 2 columns):\n",
      " #   Column  Non-Null Count  Dtype \n",
      "---  ------  --------------  ----- \n",
      " 0   Код     34509 non-null  object\n",
      " 1   vst     34509 non-null  object\n",
      "dtypes: object(2)\n",
      "memory usage: 539.3+ KB\n"
     ]
    }
   ],
   "source": [
    "df_test.info()"
   ]
  },
  {
   "cell_type": "code",
   "execution_count": null,
   "id": "2427e19e",
   "metadata": {},
   "outputs": [],
   "source": []
  },
  {
   "cell_type": "code",
   "execution_count": null,
   "id": "9da1477b",
   "metadata": {},
   "outputs": [],
   "source": []
  },
  {
   "cell_type": "code",
   "execution_count": 337,
   "id": "c58582e6",
   "metadata": {},
   "outputs": [],
   "source": [
    "#Проверки прогон"
   ]
  },
  {
   "cell_type": "code",
   "execution_count": 33,
   "id": "cf7ef572",
   "metadata": {},
   "outputs": [
    {
     "data": {
      "text/html": [
       "<div>\n",
       "<style scoped>\n",
       "    .dataframe tbody tr th:only-of-type {\n",
       "        vertical-align: middle;\n",
       "    }\n",
       "\n",
       "    .dataframe tbody tr th {\n",
       "        vertical-align: top;\n",
       "    }\n",
       "\n",
       "    .dataframe thead th {\n",
       "        text-align: right;\n",
       "    }\n",
       "</style>\n",
       "<table border=\"1\" class=\"dataframe\">\n",
       "  <thead>\n",
       "    <tr style=\"text-align: right;\">\n",
       "      <th></th>\n",
       "      <th>Код</th>\n",
       "      <th>prruby_cost2</th>\n",
       "      <th>prsap_cost2</th>\n",
       "      <th>prem_cost2</th>\n",
       "      <th>sum_pr2</th>\n",
       "    </tr>\n",
       "  </thead>\n",
       "  <tbody>\n",
       "    <tr>\n",
       "      <th>19871</th>\n",
       "      <td>ЦБ-00160691</td>\n",
       "      <td>29.4</td>\n",
       "      <td>43.55</td>\n",
       "      <td>14.4</td>\n",
       "      <td>87.35</td>\n",
       "    </tr>\n",
       "  </tbody>\n",
       "</table>\n",
       "</div>"
      ],
      "text/plain": [
       "               Код prruby_cost2 prsap_cost2 prem_cost2 sum_pr2\n",
       "19871  ЦБ-00160691         29.4       43.55       14.4   87.35"
      ]
     },
     "execution_count": 33,
     "metadata": {},
     "output_type": "execute_result"
    }
   ],
   "source": [
    "df[['Код','prruby_cost2','prsap_cost2','prem_cost2','sum_pr2' ]][(df['prsap_cost2']!=0)&(df['prruby_cost2']!=0)]"
   ]
  },
  {
   "cell_type": "code",
   "execution_count": null,
   "id": "e21b5305",
   "metadata": {},
   "outputs": [],
   "source": []
  },
  {
   "cell_type": "code",
   "execution_count": null,
   "id": "634475d5",
   "metadata": {},
   "outputs": [],
   "source": []
  },
  {
   "cell_type": "code",
   "execution_count": 34,
   "id": "27769c51",
   "metadata": {},
   "outputs": [],
   "source": [
    "df.to_excel(f\"{folder_res}done_em_sap_ruby22{datetime.datetime.now().strftime('%d-%m-%Y_%H-%M')}.xlsx\")"
   ]
  },
  {
   "cell_type": "code",
   "execution_count": null,
   "id": "4953ae08",
   "metadata": {},
   "outputs": [],
   "source": []
  },
  {
   "cell_type": "code",
   "execution_count": null,
   "id": "a32110b4",
   "metadata": {},
   "outputs": [],
   "source": []
  },
  {
   "cell_type": "markdown",
   "id": "536673ba",
   "metadata": {},
   "source": [
    "# Прогонки модуля по частям (module_prgem)\n"
   ]
  },
  {
   "cell_type": "markdown",
   "id": "d8376ea9",
   "metadata": {},
   "source": [
    "## прогонка модулей разовая 1 раз count_price(stdl)"
   ]
  },
  {
   "cell_type": "code",
   "execution_count": 29,
   "id": "cf6d93aa",
   "metadata": {},
   "outputs": [],
   "source": [
    "#import module_prgem.price_sap_ruby as price_sap_ruby\n"
   ]
  },
  {
   "cell_type": "code",
   "execution_count": 30,
   "id": "5b612787",
   "metadata": {},
   "outputs": [],
   "source": [
    "import module_prgem.price_sap_ruby as price_sap_ruby"
   ]
  },
  {
   "cell_type": "code",
   "execution_count": 31,
   "id": "73bad8dc",
   "metadata": {},
   "outputs": [],
   "source": [
    "#import importlib\n",
    "#importlib.reload(price_sap_ruby)"
   ]
  },
  {
   "cell_type": "code",
   "execution_count": 32,
   "id": "2281e5d1",
   "metadata": {},
   "outputs": [
    {
     "data": {
      "text/plain": [
       "<module 'module_prgem.price_sap_ruby' from 'C:\\\\Users\\\\специалист ао\\\\mypandas\\\\work\\\\2023\\\\gems_git\\\\gems\\\\ipynb\\\\module_prgem\\\\price_sap_ruby.py'>"
      ]
     },
     "execution_count": 32,
     "metadata": {},
     "output_type": "execute_result"
    }
   ],
   "source": [
    "import importlib\n",
    "importlib.reload(price_sap_ruby)"
   ]
  },
  {
   "cell_type": "markdown",
   "id": "35f43bc4",
   "metadata": {},
   "source": [
    "### ruby"
   ]
  },
  {
   "cell_type": "code",
   "execution_count": null,
   "id": "e54cb325",
   "metadata": {},
   "outputs": [],
   "source": []
  },
  {
   "cell_type": "code",
   "execution_count": 33,
   "id": "0faa11fe",
   "metadata": {},
   "outputs": [],
   "source": [
    "tr5='''\n",
    "1РубинН-1,550-ОВ+3/3 20КР17-0,152-2/2А\n",
    "1РубинН-0,682-ГР+4/4 6КР57-0,036-6/5А\n",
    "1ИзумрудПМ-0,020-Кбовв+2/К2 13РубинПТ-0,950-Ф+3/3 10Кр57-0,090-4/4А 39Кр57-0,590-4/4А\n",
    "1РубинПТ-0,050-Кр+2/2 3Кр57-0,040-3/4А\n",
    "1РубинПТ-0,051-кр+2/3 3КР57-0,0225-3/5А\n",
    "'''\n"
   ]
  },
  {
   "cell_type": "code",
   "execution_count": 34,
   "id": "d7feb610",
   "metadata": {},
   "outputs": [],
   "source": [
    "# без ошибок\n",
    "ts5='''\n",
    "67СапфирПТ-0,332-КР+2/2*синий\n",
    "1СапфирПТ-0,603-КР+4/3 2КР57-0,008-3/6А\n",
    "2СапфирПТ-1,205-КР+4/3 2КР57-0,008-3/6А\n",
    "'''"
   ]
  },
  {
   "cell_type": "code",
   "execution_count": 35,
   "id": "8e8f14b9",
   "metadata": {},
   "outputs": [],
   "source": [
    "# ruby (визуально, if не работает, странно но выходит False из за np.nan)"
   ]
  },
  {
   "cell_type": "code",
   "execution_count": 105,
   "id": "4e02f0bd",
   "metadata": {},
   "outputs": [
    {
     "data": {
      "text/plain": [
       "([['1', 'рубинн', '1,550', 'ов', '3', '3', nan],\n",
       "  ['1', 'рубинн', '0,682', 'гр', '4', '4', nan],\n",
       "  ['13', 'рубинпт', '0,950', 'ф', '3', '3', nan],\n",
       "  ['1', 'рубинпт', '0,050', 'кр', '2', '2', nan],\n",
       "  ['1', 'рубинпт', '0,051', 'кр', '2', '3', nan]],\n",
       " 'ok:5!=5;C:ok;Q:ok;PCS:ok;GEM:ok;')"
      ]
     },
     "execution_count": 105,
     "metadata": {},
     "output_type": "execute_result"
    }
   ],
   "source": [
    "price_sap_ruby.make_list_ruby(tr5)"
   ]
  },
  {
   "cell_type": "code",
   "execution_count": 37,
   "id": "ab1e414c",
   "metadata": {},
   "outputs": [
    {
     "data": {
      "text/plain": [
       "([['1', 'рубинн', '1,550', 'ов', '3', '3', nan],\n",
       "  ['1', 'рубинн', '0,682', 'гр', '4', '4', nan],\n",
       "  ['13', 'рубинпт', '0,950', 'ф', '3', '3', nan],\n",
       "  ['1', 'рубинпт', '0,050', 'кр', '2', '2', nan],\n",
       "  ['1', 'рубинпт', '0,051', 'кр', '2', '3', nan]],\n",
       " 'ok:5!=5;C:ok;Q:ok;PCS:ok;GEM:ok;')"
      ]
     },
     "execution_count": 37,
     "metadata": {},
     "output_type": "execute_result"
    }
   ],
   "source": [
    "([['1', 'рубинн', '1,550', 'ов', '3', '3', np.nan],\n",
    "  ['1', 'рубинн', '0,682', 'гр', '4', '4', np.nan],\n",
    "  ['13', 'рубинпт', '0,950', 'ф', '3', '3', np.nan],\n",
    "  ['1', 'рубинпт', '0,050', 'кр', '2', '2', np.nan],\n",
    "  ['1', 'рубинпт', '0,051', 'кр', '2', '3', np.nan]],\n",
    " 'ok:5!=5;C:ok;Q:ok;PCS:ok;GEM:ok;')"
   ]
  },
  {
   "cell_type": "code",
   "execution_count": 106,
   "id": "0a263898",
   "metadata": {},
   "outputs": [
    {
     "data": {
      "text/plain": [
       "True"
      ]
     },
     "execution_count": 106,
     "metadata": {},
     "output_type": "execute_result"
    }
   ],
   "source": [
    "price_sap_ruby.make_list_ruby(tr5)[1]=='ok:5!=5;C:ok;Q:ok;PCS:ok;GEM:ok;'"
   ]
  },
  {
   "cell_type": "code",
   "execution_count": 39,
   "id": "8e920e9e",
   "metadata": {},
   "outputs": [
    {
     "data": {
      "text/plain": [
       "True"
      ]
     },
     "execution_count": 39,
     "metadata": {},
     "output_type": "execute_result"
    }
   ],
   "source": [
    "([['1', 'рубинн', '1,550', 'ов', '3', '3', np.nan],\n",
    "  ['1', 'рубинн', '0,682', 'гр', '4', '4', np.nan],\n",
    "  ['13', 'рубинпт', '0,950', 'ф', '3', '3', np.nan],\n",
    "  ['1', 'рубинпт', '0,050', 'кр', '2', '2', np.nan],\n",
    "  ['1', 'рубинпт', '0,051', 'кр', '2', '3', np.nan]],\n",
    "'ok:5!=5;C:ok;Q:ok;PCS:ok;GEM:ok;') == ([['1', 'рубинн', '1,550', 'ов', '3', '3', np.nan],\n",
    "  ['1', 'рубинн', '0,682', 'гр', '4', '4', np.nan],\n",
    "  ['13', 'рубинпт', '0,950', 'ф', '3', '3', np.nan],\n",
    "  ['1', 'рубинпт', '0,050', 'кр', '2', '2', np.nan],\n",
    "  ['1', 'рубинпт', '0,051', 'кр', '2', '3', np.nan]],\n",
    " 'ok:5!=5;C:ok;Q:ok;PCS:ok;GEM:ok;')"
   ]
  },
  {
   "cell_type": "code",
   "execution_count": null,
   "id": "a065c90c",
   "metadata": {},
   "outputs": [],
   "source": []
  },
  {
   "cell_type": "code",
   "execution_count": 40,
   "id": "c05f2ed1",
   "metadata": {},
   "outputs": [
    {
     "data": {
      "text/plain": [
       "'ok:5!=5;C:ok;Q:ok;PCS:ok;GEM:ok;'"
      ]
     },
     "execution_count": 40,
     "metadata": {},
     "output_type": "execute_result"
    }
   ],
   "source": [
    "price_sap_ruby.make_list_ruby(tr5)[1]"
   ]
  },
  {
   "cell_type": "code",
   "execution_count": 41,
   "id": "801a3620",
   "metadata": {},
   "outputs": [
    {
     "data": {
      "text/plain": [
       "'2487.06; 1.55+0.682+0.95+0.05+0.051; price:1460+170+100+140+120;size:1,00-1,99+0,50-0,99+До 0,09+До 0,09+До 0,09;gem:рубинн+рубинн+рубинпт+рубинпт+рубинпт'"
      ]
     },
     "execution_count": 41,
     "metadata": {},
     "output_type": "execute_result"
    }
   ],
   "source": [
    "price_sap_ruby.count_price(price_sap_ruby.make_list_ruby(tr5)[0])"
   ]
  },
  {
   "cell_type": "code",
   "execution_count": 42,
   "id": "2a60201f",
   "metadata": {},
   "outputs": [],
   "source": [
    "#'2487.06; 1.55+0.682+0.95+0.05+0.051; price:1460+170+100+140+120;size:1,00-1,99+0,50-0,99+До 0,09+До 0,09+До 0,09;gem:р\n",
    "#убинн+рубинн+рубинпт+рубинпт+рубинпт'"
   ]
  },
  {
   "cell_type": "code",
   "execution_count": null,
   "id": "29832829",
   "metadata": {},
   "outputs": [],
   "source": []
  },
  {
   "cell_type": "markdown",
   "id": "48c551fa",
   "metadata": {},
   "source": [
    "### sap"
   ]
  },
  {
   "cell_type": "code",
   "execution_count": 43,
   "id": "4076f93f",
   "metadata": {},
   "outputs": [
    {
     "data": {
      "text/plain": [
       "True"
      ]
     },
     "execution_count": 43,
     "metadata": {},
     "output_type": "execute_result"
    }
   ],
   "source": [
    "# TEST  без ошибок сапфир\n",
    "ts5='''\n",
    "67СапфирПТ-0,332-КР+2/2*синий\n",
    "1СапфирПТ-0,603-КР+4/3 2КР57-0,008-3/6А\n",
    "2СапфирПТ-1,205-КР+4/3 2КР57-0,008-3/6А\n",
    "'''\n",
    "\n",
    "price_sap_ruby.make_list_sap(ts5) == ([['67', 'сапфирпт', '0,332', 'кр', '2', '2', 'синий'],\n",
    "  ['1', 'сапфирпт', '0,603', 'кр', '4', '3', np.nan],\n",
    "  ['2', 'сапфирпт', '1,205', 'кр', '4', '3', np.nan]],\n",
    " 'ok:3!=3;C:ok;Q:ok;PCS:ok;GEM:ok;')"
   ]
  },
  {
   "cell_type": "code",
   "execution_count": 44,
   "id": "438f5338",
   "metadata": {},
   "outputs": [
    {
     "data": {
      "text/plain": [
       "False"
      ]
     },
     "execution_count": 44,
     "metadata": {},
     "output_type": "execute_result"
    }
   ],
   "source": [
    "# TEST с ошибкой сапфирпм TODO пм пока не работает\n",
    "ts5pm='''\n",
    "67СапфирПТ-0,332-КР+21/2*синий\n",
    "1СапфирПТ-0,603-КР+4/3 2КР57-0,008-3/6А\n",
    "2СапфирПМ-1,205-КР+4/3 2КР57-0,008-3/6А\n",
    "'''\n",
    "\n",
    "price_sap_ruby.make_list_sap(ts5pm) == ([['67', 'сапфирпт', '0,332', 'кр', np.nan, '2', 'синий'],\n",
    "  ['1', 'сапфирпт', '0,603', 'кр', '4', '3', np.nan],],\n",
    " 'ok:3!=3;C:error:21;Q:ok;PCS:ok;GEM:error;')\n"
   ]
  },
  {
   "cell_type": "code",
   "execution_count": 45,
   "id": "82bdc07f",
   "metadata": {},
   "outputs": [
    {
     "data": {
      "text/plain": [
       "True"
      ]
     },
     "execution_count": 45,
     "metadata": {},
     "output_type": "execute_result"
    }
   ],
   "source": [
    "# TEST с ошибкой сапфирпм \n",
    "ts5pm='''\n",
    "67СапфирПТ-0,332-КР+21/2*синий\n",
    "1СапфирПТ-0,603-КР+4/3 2КР57-0,008-3/6А\n",
    "2СапфирПМ-1,205-КР+4/3 2КР57-0,008-3/6А\n",
    "'''\n",
    "price_sap_ruby.make_list_sap(ts5pm) == ([['67', 'сапфирпт', '0,332', 'кр', np.nan, '2', 'синий'],\n",
    "  ['1', 'сапфирпт', '0,603', 'кр', '4', '3', np.nan],\n",
    "  ['2', np.nan, '1,205', 'кр', '4', '3', np.nan]],\n",
    " 'ok:3!=3;C:error:21;Q:ok;PCS:ok;GEM:error:сапфирпм;')"
   ]
  },
  {
   "cell_type": "code",
   "execution_count": null,
   "id": "e6baca9a",
   "metadata": {},
   "outputs": [],
   "source": []
  },
  {
   "cell_type": "code",
   "execution_count": 46,
   "id": "d86111da",
   "metadata": {},
   "outputs": [
    {
     "data": {
      "text/plain": [
       "'ok:3!=3;C:error:21;Q:ok;PCS:ok;GEM:error:сапфирпм;'"
      ]
     },
     "execution_count": 46,
     "metadata": {},
     "output_type": "execute_result"
    }
   ],
   "source": [
    "price_sap_ruby.make_list_sap(ts5pm)[1]"
   ]
  },
  {
   "cell_type": "code",
   "execution_count": 47,
   "id": "7928f308",
   "metadata": {},
   "outputs": [
    {
     "data": {
      "text/plain": [
       "[['67', 'сапфирпт', '0,332', 'кр', '2', '2', 'синий'],\n",
       " ['1', 'сапфирпт', '0,603', 'кр', '4', '3', nan],\n",
       " ['2', 'сапфирпт', '1,205', 'кр', '4', '3', nan]]"
      ]
     },
     "execution_count": 47,
     "metadata": {},
     "output_type": "execute_result"
    }
   ],
   "source": [
    "price_sap_ruby.make_list_sap(ts5)[0]"
   ]
  },
  {
   "cell_type": "code",
   "execution_count": 48,
   "id": "6dbda303",
   "metadata": {},
   "outputs": [],
   "source": [
    "#[['67', 'сапфирпт', '0,332', 'кр', '2', '2', 'синий'],\n",
    "# ['1', 'сапфирпт', '0,603', 'кр', '4', '3', nan],\n",
    "# ['2', 'сапфирпт', '1,205', 'кр', '4', '3', nan]]"
   ]
  },
  {
   "cell_type": "code",
   "execution_count": null,
   "id": "9698c246",
   "metadata": {},
   "outputs": [],
   "source": []
  },
  {
   "cell_type": "code",
   "execution_count": 49,
   "id": "c108d90f",
   "metadata": {},
   "outputs": [
    {
     "data": {
      "text/plain": [
       "'ok:3!=3;C:ok;Q:ok;PCS:ok;GEM:ok;'"
      ]
     },
     "execution_count": 49,
     "metadata": {},
     "output_type": "execute_result"
    }
   ],
   "source": [
    "price_sap_ruby.make_list_sap(ts5)[1]"
   ]
  },
  {
   "cell_type": "code",
   "execution_count": 50,
   "id": "3805da69",
   "metadata": {},
   "outputs": [],
   "source": [
    "#price_sap_ruby.make_list_sap(ts5)[1]\n",
    "#'ok:3!=3;C:ok;Q:ok;PCS:ok;GEM:ok;'"
   ]
  },
  {
   "cell_type": "code",
   "execution_count": 51,
   "id": "6e716524",
   "metadata": {},
   "outputs": [
    {
     "data": {
      "text/plain": [
       "'175.26; 0.332+0.603+1.205; price:65+85+85;size:До 0,09+0,50-0,99+0,50-0,99;gem:сапфирпт+сапфирпт+сапфирпт'"
      ]
     },
     "execution_count": 51,
     "metadata": {},
     "output_type": "execute_result"
    }
   ],
   "source": [
    "price_sap_ruby.count_price(price_sap_ruby.make_list_sap(ts5)[0])"
   ]
  },
  {
   "cell_type": "code",
   "execution_count": 52,
   "id": "5d5293e7",
   "metadata": {},
   "outputs": [],
   "source": [
    "#'175.26; 0.332+0.603+1.205; price:65+85+85;size:До 0,09+0,50-0,99+0,50-0,99;gem:сапфирпт+сапфирпт+сапфирпт'"
   ]
  },
  {
   "cell_type": "code",
   "execution_count": 53,
   "id": "3b004ec8",
   "metadata": {},
   "outputs": [
    {
     "data": {
      "text/plain": [
       "'175.26; 0.332+0.603+1.205; price:65+85+85;size:До 0,09+0,50-0,99+0,50-0,99;gem:сапфирпт+сапфирпт+сапфирпт'"
      ]
     },
     "execution_count": 53,
     "metadata": {},
     "output_type": "execute_result"
    }
   ],
   "source": [
    "price_sap_ruby.count_price_report(price_sap_ruby.make_list_sap(ts5))"
   ]
  },
  {
   "cell_type": "code",
   "execution_count": null,
   "id": "723b69a2",
   "metadata": {},
   "outputs": [],
   "source": []
  },
  {
   "cell_type": "code",
   "execution_count": 54,
   "id": "b22ec01f",
   "metadata": {},
   "outputs": [
    {
     "data": {
      "text/plain": [
       "[]"
      ]
     },
     "execution_count": 54,
     "metadata": {},
     "output_type": "execute_result"
    }
   ],
   "source": [
    "price_sap_ruby.count_price_report(price_sap_ruby.make_list_sap(' '))"
   ]
  },
  {
   "cell_type": "code",
   "execution_count": 55,
   "id": "c3b5bbf2",
   "metadata": {},
   "outputs": [],
   "source": [
    "tr5err='''\n",
    "1РубинН-1,550-ОВ+31/3 20КР17-0,152-2/2А\n",
    "1РубинН-0,682-ГР+4/4 6КР57-0,036-6/5А\n",
    "1ИзумрудПМ-0,020-Кбовв+2/К2 13РубинПТ-0,950-Ф+3/3 10Кр57-0,090-4/4А 39Кр57-0,590-4/4А\n",
    "1РубинПТ-0,050-Кр+2/2 3Кр57-0,040-3/4А\n",
    "1РубинПТ-0,051-кр+2/3 3КР57-0,0225-3/5А\n",
    "'''"
   ]
  },
  {
   "cell_type": "code",
   "execution_count": 56,
   "id": "b9e0f1b2",
   "metadata": {},
   "outputs": [
    {
     "data": {
      "text/plain": [
       "([['1', 'рубинн', '1,550', 'ов', nan, '3', nan],\n",
       "  ['1', 'рубинн', '0,682', 'гр', '4', '4', nan],\n",
       "  ['13', 'рубинпт', '0,950', 'ф', '3', '3', nan],\n",
       "  ['1', 'рубинпт', '0,050', 'кр', '2', '2', nan],\n",
       "  ['1', 'рубинпт', '0,051', 'кр', '2', '3', nan]],\n",
       " 'ok:5!=5;C:error:31;Q:ok;PCS:ok;GEM:ok;')"
      ]
     },
     "execution_count": 56,
     "metadata": {},
     "output_type": "execute_result"
    }
   ],
   "source": [
    "price_sap_ruby.make_list_ruby(tr5err)"
   ]
  },
  {
   "cell_type": "code",
   "execution_count": null,
   "id": "06464ef4",
   "metadata": {},
   "outputs": [],
   "source": []
  },
  {
   "cell_type": "code",
   "execution_count": 57,
   "id": "7d6b410e",
   "metadata": {},
   "outputs": [
    {
     "data": {
      "text/plain": [
       "'имеется ошибка, или подозрение см report'"
      ]
     },
     "execution_count": 57,
     "metadata": {},
     "output_type": "execute_result"
    }
   ],
   "source": [
    "\n",
    "\n",
    "price_sap_ruby.count_price_report(price_sap_ruby.make_list_ruby(tr5err))"
   ]
  },
  {
   "cell_type": "code",
   "execution_count": 58,
   "id": "37881942",
   "metadata": {},
   "outputs": [
    {
     "data": {
      "text/plain": [
       "[]"
      ]
     },
     "execution_count": 58,
     "metadata": {},
     "output_type": "execute_result"
    }
   ],
   "source": [
    "\n",
    "price_sap_ruby.count_price_report(price_sap_ruby.make_list_ruby(' '))"
   ]
  },
  {
   "cell_type": "code",
   "execution_count": 59,
   "id": "66c0cf86",
   "metadata": {},
   "outputs": [],
   "source": [
    "#['175.26',\n",
    "# ' 0.332+0.603+1.205',\n",
    "# ' price:65+85+85',\n",
    "# 'size:До 0,09+0,50-0,99+0,50-0,99',\n",
    "# 'gem:сапфирпт+сапфирпт+сапфирпт']"
   ]
  },
  {
   "cell_type": "markdown",
   "id": "83c088f1",
   "metadata": {},
   "source": [
    "### em\n"
   ]
  },
  {
   "cell_type": "code",
   "execution_count": 60,
   "id": "789eba8c",
   "metadata": {},
   "outputs": [],
   "source": [
    "import module_prgem.price_em as price_em"
   ]
  },
  {
   "cell_type": "code",
   "execution_count": 61,
   "id": "09ef709a",
   "metadata": {},
   "outputs": [],
   "source": [
    "import module_prgem.dictgems"
   ]
  },
  {
   "cell_type": "code",
   "execution_count": 62,
   "id": "31318807",
   "metadata": {},
   "outputs": [
    {
     "data": {
      "text/plain": [
       "<module 'module_prgem.price_em' from 'C:\\\\Users\\\\специалист ао\\\\mypandas\\\\work\\\\2023\\\\gems_git\\\\gems\\\\ipynb\\\\module_prgem\\\\price_em.py'>"
      ]
     },
     "execution_count": 62,
     "metadata": {},
     "output_type": "execute_result"
    }
   ],
   "source": [
    "importlib.reload(price_em)"
   ]
  },
  {
   "cell_type": "code",
   "execution_count": 63,
   "id": "1cd444fc",
   "metadata": {},
   "outputs": [
    {
     "data": {
      "text/plain": [
       "[('5', 'ИзумрудПМ', '0,250', 'НРОКр', '3/Г1'),\n",
       " ('3', 'ИзумрудПМ', '1,500', 'НРОГ', '3/Г')]"
      ]
     },
     "execution_count": 63,
     "metadata": {},
     "output_type": "execute_result"
    }
   ],
   "source": [
    "no_std_list = price_em.vst2list('5ИзумрудПМ-0,250-НРОКр+3/Г1 3ИзумрудПМ-1,500-НРОГ+3/Г 14Кр57-0,180-4/4А')\n",
    "no_std_list"
   ]
  },
  {
   "cell_type": "code",
   "execution_count": 64,
   "id": "6509cbbe",
   "metadata": {},
   "outputs": [],
   "source": [
    "#[('5', 'ИзумрудПМ', '0,250', 'НРОКр', '3/Г1'),\n",
    "# ('3', 'ИзумрудПМ', '1,500', 'НРОГ', '3/Г3')]"
   ]
  },
  {
   "cell_type": "code",
   "execution_count": 65,
   "id": "4e940a6b",
   "metadata": {},
   "outputs": [
    {
     "data": {
      "text/plain": [
       "'имеется ошибка, или подозрение см report;см report;except; C:ok;Q:error;PCS:ok;'"
      ]
     },
     "execution_count": 65,
     "metadata": {},
     "output_type": "execute_result"
    }
   ],
   "source": [
    "price_em.check_vstlist(no_std_list)"
   ]
  },
  {
   "cell_type": "code",
   "execution_count": 66,
   "id": "5e52826d",
   "metadata": {},
   "outputs": [
    {
     "data": {
      "text/plain": [
       "([['5', 'изумрудпм', '0,250', 'нрокр', '3', 'Г1', nan],\n",
       "  ['3', 'изумрудпм', '1,500', 'нрог', '3', nan, nan]],\n",
       " 'C:ok;Q:error:г;PCS:ok;GEM:ok;')"
      ]
     },
     "execution_count": 66,
     "metadata": {},
     "output_type": "execute_result"
    }
   ],
   "source": [
    "price_em.list2std_em_sap_ruby(no_std_list)"
   ]
  },
  {
   "cell_type": "code",
   "execution_count": 67,
   "id": "243fcc7b",
   "metadata": {},
   "outputs": [],
   "source": [
    "#'217.50; 0.25+1.5; price:150+120;size:до 0,09+0,50-0,74;gem:изумрудпм+изумрудпм'"
   ]
  },
  {
   "cell_type": "code",
   "execution_count": 68,
   "id": "1279db2a",
   "metadata": {},
   "outputs": [
    {
     "data": {
      "text/plain": [
       "[('1', 'ИзумрудПМ', '0,020', 'Кбовв', '2/К2')]"
      ]
     },
     "execution_count": 68,
     "metadata": {},
     "output_type": "execute_result"
    }
   ],
   "source": [
    "price_em.vst2list(tr5)"
   ]
  },
  {
   "cell_type": "code",
   "execution_count": 69,
   "id": "209f0fc4",
   "metadata": {},
   "outputs": [],
   "source": [
    "#[('1', 'ИзумрудПМ', '0,020', 'Кбовв', '2/К2')]"
   ]
  },
  {
   "cell_type": "code",
   "execution_count": 70,
   "id": "ea58f7b4",
   "metadata": {
    "scrolled": true
   },
   "outputs": [
    {
     "data": {
      "text/plain": [
       "'0.90; 0.02; price:45;size:до 0,49;gem:изумрудпм'"
      ]
     },
     "execution_count": 70,
     "metadata": {},
     "output_type": "execute_result"
    }
   ],
   "source": [
    "price_em.check_vstlist(price_em.vst2list(tr5))"
   ]
  },
  {
   "cell_type": "code",
   "execution_count": 71,
   "id": "0e1534b3",
   "metadata": {},
   "outputs": [],
   "source": [
    "#'0.90; 0.02; price:45;size:до 0,49;gem:изумрудпм'"
   ]
  },
  {
   "cell_type": "code",
   "execution_count": 72,
   "id": "47f6bb54",
   "metadata": {},
   "outputs": [
    {
     "data": {
      "text/plain": [
       "[]"
      ]
     },
     "execution_count": 72,
     "metadata": {},
     "output_type": "execute_result"
    }
   ],
   "source": [
    "price_em.vst2list('dddd')"
   ]
  },
  {
   "cell_type": "markdown",
   "id": "3a5afd3d",
   "metadata": {},
   "source": [
    "## Прогонка ruby sap em массовая"
   ]
  },
  {
   "cell_type": "code",
   "execution_count": 73,
   "id": "dd902126",
   "metadata": {},
   "outputs": [
    {
     "data": {
      "text/plain": [
       "<module 'module_prgem.price_sap_ruby' from 'C:\\\\Users\\\\специалист ао\\\\mypandas\\\\work\\\\2023\\\\gems_git\\\\gems\\\\ipynb\\\\module_prgem\\\\price_sap_ruby.py'>"
      ]
     },
     "execution_count": 73,
     "metadata": {},
     "output_type": "execute_result"
    }
   ],
   "source": [
    "importlib.reload(price_sap_ruby)"
   ]
  },
  {
   "cell_type": "code",
   "execution_count": 74,
   "id": "2d1c5c97",
   "metadata": {},
   "outputs": [],
   "source": [
    "#df_xs.vst.apply(lambda x: price_sap_ruby.count_price(price_sap_ruby.make_list_sap(x)[0]))"
   ]
  },
  {
   "cell_type": "code",
   "execution_count": null,
   "id": "b99b9134",
   "metadata": {},
   "outputs": [],
   "source": []
  },
  {
   "cell_type": "markdown",
   "id": "049b618c",
   "metadata": {},
   "source": [
    "### Массовая прогонка sap"
   ]
  },
  {
   "cell_type": "code",
   "execution_count": 75,
   "id": "bfe26a9a",
   "metadata": {},
   "outputs": [],
   "source": [
    "#sap"
   ]
  },
  {
   "cell_type": "code",
   "execution_count": 76,
   "id": "29d783bb",
   "metadata": {},
   "outputs": [],
   "source": [
    "#Быстрый повтор сапфиров\n",
    "df_test['make_list_sap_20'] = df_test.vst.apply(lambda x: price_sap_ruby.make_list_sap(x))\n",
    "df_test['list_std_sap20'] = df_test['make_list_sap_20'].apply(lambda x: x[0])\n",
    "df_test['report_sap20'] = df_test['make_list_sap_20'].apply(lambda x: x[1])\n",
    "df_test['count_price_sap20']=df_test['make_list_sap_20'].apply(lambda x: price_sap_ruby.count_price_report(x))\n",
    "df_test['prsap_cost'] = df_test['count_price_sap20'].apply(lambda x: 0 if len(x)==0 else x.split(\";\")[0]) #map(len)!=0]"
   ]
  },
  {
   "cell_type": "code",
   "execution_count": 77,
   "id": "18c33329",
   "metadata": {},
   "outputs": [
    {
     "data": {
      "text/html": [
       "<div>\n",
       "<style scoped>\n",
       "    .dataframe tbody tr th:only-of-type {\n",
       "        vertical-align: middle;\n",
       "    }\n",
       "\n",
       "    .dataframe tbody tr th {\n",
       "        vertical-align: top;\n",
       "    }\n",
       "\n",
       "    .dataframe thead th {\n",
       "        text-align: right;\n",
       "    }\n",
       "</style>\n",
       "<table border=\"1\" class=\"dataframe\">\n",
       "  <thead>\n",
       "    <tr style=\"text-align: right;\">\n",
       "      <th></th>\n",
       "      <th>Код</th>\n",
       "      <th>vst</th>\n",
       "      <th>make_list_sap_20</th>\n",
       "      <th>list_std_sap20</th>\n",
       "      <th>report_sap20</th>\n",
       "      <th>count_price_sap20</th>\n",
       "      <th>prsap_cost</th>\n",
       "    </tr>\n",
       "  </thead>\n",
       "  <tbody>\n",
       "    <tr>\n",
       "      <th>203</th>\n",
       "      <td>ЦБ-00001991</td>\n",
       "      <td>1сапфирПТ-0,450-КВ+2/2 2кр57-0,02-2/3А</td>\n",
       "      <td>([[1, сапфирпт, 0,450, кв, 2, 2, nan]], ok:1!=...</td>\n",
       "      <td>[[1, сапфирпт, 0,450, кв, 2, 2, nan]]</td>\n",
       "      <td>ok:1!=1;C:ok;Q:ok;PCS:ok;GEM:ok;</td>\n",
       "      <td>51.75; 0.45; price:115;size:0,25-0,49;gem:сапф...</td>\n",
       "      <td>51.75</td>\n",
       "    </tr>\n",
       "    <tr>\n",
       "      <th>501</th>\n",
       "      <td>ЦБ-00003190</td>\n",
       "      <td>1сапфирПТ-0,211-ОВ+3/2 4кр57-0,042-3/4А 2кр57-...</td>\n",
       "      <td>([[1, сапфирпт, 0,211, ов, 3, 2, nan]], ok:1!=...</td>\n",
       "      <td>[[1, сапфирпт, 0,211, ов, 3, 2, nan]]</td>\n",
       "      <td>ok:1!=1;C:ok;Q:ok;PCS:ok;GEM:ok;</td>\n",
       "      <td>13.71; 0.211; price:65;size:0,10-0,24;gem:сапф...</td>\n",
       "      <td>13.71</td>\n",
       "    </tr>\n",
       "    <tr>\n",
       "      <th>879</th>\n",
       "      <td>ЦБ-00005503</td>\n",
       "      <td>12сапфирПТ-0,170-КР+2/3 12Кр57-0,16-3/4А</td>\n",
       "      <td>([[12, сапфирпт, 0,170, кр, 2, 3, nan]], ok:1!...</td>\n",
       "      <td>[[12, сапфирпт, 0,170, кр, 2, 3, nan]]</td>\n",
       "      <td>ok:1!=1;C:ok;Q:ok;PCS:ok;GEM:ok;</td>\n",
       "      <td>10.20; 0.17; price:60;size:До 0,09;gem:сапфирпт</td>\n",
       "      <td>10.20</td>\n",
       "    </tr>\n",
       "    <tr>\n",
       "      <th>950</th>\n",
       "      <td>ЦБ-00005890</td>\n",
       "      <td>2СапфирПТ-0,170-кр+2/2 2Кр57-0,030-3/4А</td>\n",
       "      <td>([[2, сапфирпт, 0,170, кр, 2, 2, nan]], ok:1!=...</td>\n",
       "      <td>[[2, сапфирпт, 0,170, кр, 2, 2, nan]]</td>\n",
       "      <td>ok:1!=1;C:ok;Q:ok;PCS:ok;GEM:ok;</td>\n",
       "      <td>11.05; 0.17; price:65;size:До 0,09;gem:сапфирпт</td>\n",
       "      <td>11.05</td>\n",
       "    </tr>\n",
       "    <tr>\n",
       "      <th>951</th>\n",
       "      <td>ЦБ-00005891</td>\n",
       "      <td>2СапфирПТ-0,198-кр+2/3 2Кр57-0,022-2/3А</td>\n",
       "      <td>([[2, сапфирпт, 0,198, кр, 2, 3, nan]], ok:1!=...</td>\n",
       "      <td>[[2, сапфирпт, 0,198, кр, 2, 3, nan]]</td>\n",
       "      <td>ok:1!=1;C:ok;Q:ok;PCS:ok;GEM:ok;</td>\n",
       "      <td>11.88; 0.198; price:60;size:До 0,09;gem:сапфирпт</td>\n",
       "      <td>11.88</td>\n",
       "    </tr>\n",
       "    <tr>\n",
       "      <th>...</th>\n",
       "      <td>...</td>\n",
       "      <td>...</td>\n",
       "      <td>...</td>\n",
       "      <td>...</td>\n",
       "      <td>...</td>\n",
       "      <td>...</td>\n",
       "      <td>...</td>\n",
       "    </tr>\n",
       "    <tr>\n",
       "      <th>29399</th>\n",
       "      <td>ЦБ-00188585</td>\n",
       "      <td>2СапфирПТ-1,640-ГР+2/2 70КР57-0,820-4/6А</td>\n",
       "      <td>([[2, сапфирпт, 1,640, гр, 2, 2, nan]], ok:1!=...</td>\n",
       "      <td>[[2, сапфирпт, 1,640, гр, 2, 2, nan]]</td>\n",
       "      <td>ok:1!=1;C:ok;Q:ok;PCS:ok;GEM:ok;</td>\n",
       "      <td>278.80; 1.64; price:170;size:0,50-0,99;gem:сап...</td>\n",
       "      <td>278.80</td>\n",
       "    </tr>\n",
       "    <tr>\n",
       "      <th>29405</th>\n",
       "      <td>ЦБ-00188647</td>\n",
       "      <td>Топаз*Голубой 56СапфирПТ-0,360-КР+3/3</td>\n",
       "      <td>([[56, сапфирпт, 0,360, кр, 3, 3, nan]], ok:1!...</td>\n",
       "      <td>[[56, сапфирпт, 0,360, кр, 3, 3, nan]]</td>\n",
       "      <td>ok:1!=1;C:ok;Q:ok;PCS:ok;GEM:ok;</td>\n",
       "      <td>16.20; 0.36; price:45;size:До 0,09;gem:сапфирпт</td>\n",
       "      <td>16.20</td>\n",
       "    </tr>\n",
       "    <tr>\n",
       "      <th>29409</th>\n",
       "      <td>ЦБ-00188651</td>\n",
       "      <td>2СапфирПТ-0,900-ГР+1/2 9КР57-0,270-4/3А</td>\n",
       "      <td>([[2, сапфирпт, 0,900, гр, 1, 2, nan]], ok:1!=...</td>\n",
       "      <td>[[2, сапфирпт, 0,900, гр, 1, 2, nan]]</td>\n",
       "      <td>ok:1!=1;C:ok;Q:ok;PCS:ok;GEM:ok;</td>\n",
       "      <td>180.00; 0.9; price:200;size:0,25-0,49;gem:сапф...</td>\n",
       "      <td>180.00</td>\n",
       "    </tr>\n",
       "    <tr>\n",
       "      <th>29564</th>\n",
       "      <td>ЦБ-00188961</td>\n",
       "      <td>1СапфирПТ-0,100-КР+2/2 2КР57-0,090-2/4А</td>\n",
       "      <td>([[1, сапфирпт, 0,100, кр, 2, 2, nan]], ok:1!=...</td>\n",
       "      <td>[[1, сапфирпт, 0,100, кр, 2, 2, nan]]</td>\n",
       "      <td>ok:1!=1;C:ok;Q:ok;PCS:ok;GEM:ok;</td>\n",
       "      <td>8.00; 0.1; price:80;size:0,10-0,24;gem:сапфирпт</td>\n",
       "      <td>8.00</td>\n",
       "    </tr>\n",
       "    <tr>\n",
       "      <th>29576</th>\n",
       "      <td>ЦБ-00189699</td>\n",
       "      <td>1СапфирПТ-0,600-ов+2/2 10КР57-0,138-6/6А</td>\n",
       "      <td>([[1, сапфирпт, 0,600, ов, 2, 2, nan]], ok:1!=...</td>\n",
       "      <td>[[1, сапфирпт, 0,600, ов, 2, 2, nan]]</td>\n",
       "      <td>ok:1!=1;C:ok;Q:ok;PCS:ok;GEM:ok;</td>\n",
       "      <td>102.00; 0.6; price:170;size:0,50-0,99;gem:сапф...</td>\n",
       "      <td>102.00</td>\n",
       "    </tr>\n",
       "  </tbody>\n",
       "</table>\n",
       "<p>425 rows × 7 columns</p>\n",
       "</div>"
      ],
      "text/plain": [
       "               Код                                                vst  \\\n",
       "203    ЦБ-00001991             1сапфирПТ-0,450-КВ+2/2 2кр57-0,02-2/3А   \n",
       "501    ЦБ-00003190  1сапфирПТ-0,211-ОВ+3/2 4кр57-0,042-3/4А 2кр57-...   \n",
       "879    ЦБ-00005503           12сапфирПТ-0,170-КР+2/3 12Кр57-0,16-3/4А   \n",
       "950    ЦБ-00005890            2СапфирПТ-0,170-кр+2/2 2Кр57-0,030-3/4А   \n",
       "951    ЦБ-00005891            2СапфирПТ-0,198-кр+2/3 2Кр57-0,022-2/3А   \n",
       "...            ...                                                ...   \n",
       "29399  ЦБ-00188585           2СапфирПТ-1,640-ГР+2/2 70КР57-0,820-4/6А   \n",
       "29405  ЦБ-00188647              Топаз*Голубой 56СапфирПТ-0,360-КР+3/3   \n",
       "29409  ЦБ-00188651            2СапфирПТ-0,900-ГР+1/2 9КР57-0,270-4/3А   \n",
       "29564  ЦБ-00188961            1СапфирПТ-0,100-КР+2/2 2КР57-0,090-2/4А   \n",
       "29576  ЦБ-00189699           1СапфирПТ-0,600-ов+2/2 10КР57-0,138-6/6А   \n",
       "\n",
       "                                        make_list_sap_20  \\\n",
       "203    ([[1, сапфирпт, 0,450, кв, 2, 2, nan]], ok:1!=...   \n",
       "501    ([[1, сапфирпт, 0,211, ов, 3, 2, nan]], ok:1!=...   \n",
       "879    ([[12, сапфирпт, 0,170, кр, 2, 3, nan]], ok:1!...   \n",
       "950    ([[2, сапфирпт, 0,170, кр, 2, 2, nan]], ok:1!=...   \n",
       "951    ([[2, сапфирпт, 0,198, кр, 2, 3, nan]], ok:1!=...   \n",
       "...                                                  ...   \n",
       "29399  ([[2, сапфирпт, 1,640, гр, 2, 2, nan]], ok:1!=...   \n",
       "29405  ([[56, сапфирпт, 0,360, кр, 3, 3, nan]], ok:1!...   \n",
       "29409  ([[2, сапфирпт, 0,900, гр, 1, 2, nan]], ok:1!=...   \n",
       "29564  ([[1, сапфирпт, 0,100, кр, 2, 2, nan]], ok:1!=...   \n",
       "29576  ([[1, сапфирпт, 0,600, ов, 2, 2, nan]], ok:1!=...   \n",
       "\n",
       "                               list_std_sap20  \\\n",
       "203     [[1, сапфирпт, 0,450, кв, 2, 2, nan]]   \n",
       "501     [[1, сапфирпт, 0,211, ов, 3, 2, nan]]   \n",
       "879    [[12, сапфирпт, 0,170, кр, 2, 3, nan]]   \n",
       "950     [[2, сапфирпт, 0,170, кр, 2, 2, nan]]   \n",
       "951     [[2, сапфирпт, 0,198, кр, 2, 3, nan]]   \n",
       "...                                       ...   \n",
       "29399   [[2, сапфирпт, 1,640, гр, 2, 2, nan]]   \n",
       "29405  [[56, сапфирпт, 0,360, кр, 3, 3, nan]]   \n",
       "29409   [[2, сапфирпт, 0,900, гр, 1, 2, nan]]   \n",
       "29564   [[1, сапфирпт, 0,100, кр, 2, 2, nan]]   \n",
       "29576   [[1, сапфирпт, 0,600, ов, 2, 2, nan]]   \n",
       "\n",
       "                           report_sap20  \\\n",
       "203    ok:1!=1;C:ok;Q:ok;PCS:ok;GEM:ok;   \n",
       "501    ok:1!=1;C:ok;Q:ok;PCS:ok;GEM:ok;   \n",
       "879    ok:1!=1;C:ok;Q:ok;PCS:ok;GEM:ok;   \n",
       "950    ok:1!=1;C:ok;Q:ok;PCS:ok;GEM:ok;   \n",
       "951    ok:1!=1;C:ok;Q:ok;PCS:ok;GEM:ok;   \n",
       "...                                 ...   \n",
       "29399  ok:1!=1;C:ok;Q:ok;PCS:ok;GEM:ok;   \n",
       "29405  ok:1!=1;C:ok;Q:ok;PCS:ok;GEM:ok;   \n",
       "29409  ok:1!=1;C:ok;Q:ok;PCS:ok;GEM:ok;   \n",
       "29564  ok:1!=1;C:ok;Q:ok;PCS:ok;GEM:ok;   \n",
       "29576  ok:1!=1;C:ok;Q:ok;PCS:ok;GEM:ok;   \n",
       "\n",
       "                                       count_price_sap20 prsap_cost  \n",
       "203    51.75; 0.45; price:115;size:0,25-0,49;gem:сапф...      51.75  \n",
       "501    13.71; 0.211; price:65;size:0,10-0,24;gem:сапф...      13.71  \n",
       "879      10.20; 0.17; price:60;size:До 0,09;gem:сапфирпт      10.20  \n",
       "950      11.05; 0.17; price:65;size:До 0,09;gem:сапфирпт      11.05  \n",
       "951     11.88; 0.198; price:60;size:До 0,09;gem:сапфирпт      11.88  \n",
       "...                                                  ...        ...  \n",
       "29399  278.80; 1.64; price:170;size:0,50-0,99;gem:сап...     278.80  \n",
       "29405    16.20; 0.36; price:45;size:До 0,09;gem:сапфирпт      16.20  \n",
       "29409  180.00; 0.9; price:200;size:0,25-0,49;gem:сапф...     180.00  \n",
       "29564    8.00; 0.1; price:80;size:0,10-0,24;gem:сапфирпт       8.00  \n",
       "29576  102.00; 0.6; price:170;size:0,50-0,99;gem:сапф...     102.00  \n",
       "\n",
       "[425 rows x 7 columns]"
      ]
     },
     "execution_count": 77,
     "metadata": {},
     "output_type": "execute_result"
    }
   ],
   "source": [
    "df_test[df_test['prsap_cost'] !=0]"
   ]
  },
  {
   "cell_type": "markdown",
   "id": "808896e1",
   "metadata": {},
   "source": [
    "#### разработка (не запускать)"
   ]
  },
  {
   "cell_type": "code",
   "execution_count": 79,
   "id": "50240fe4",
   "metadata": {},
   "outputs": [],
   "source": [
    "не запускать"
   ]
  },
  {
   "cell_type": "code",
   "execution_count": 73,
   "id": "aafff89b",
   "metadata": {},
   "outputs": [],
   "source": [
    "df_test['make_list_sap_20'] = df_test.vst.apply(lambda x: price_sap_ruby.make_list_sap(x))\n"
   ]
  },
  {
   "cell_type": "code",
   "execution_count": 168,
   "id": "f9ac9454",
   "metadata": {},
   "outputs": [
    {
     "data": {
      "text/plain": [
       "0        ([], ok:0!=0;нет распознанных)\n",
       "1        ([], ok:0!=0;нет распознанных)\n",
       "2        ([], ok:0!=0;нет распознанных)\n",
       "3        ([], ok:0!=0;нет распознанных)\n",
       "4        ([], ok:0!=0;нет распознанных)\n",
       "                      ...              \n",
       "34504    ([], ok:0!=0;нет распознанных)\n",
       "34505    ([], ok:0!=0;нет распознанных)\n",
       "34506    ([], ok:0!=0;нет распознанных)\n",
       "34507    ([], ok:0!=0;нет распознанных)\n",
       "34508    ([], ok:0!=0;нет распознанных)\n",
       "Name: make_list_sap_20, Length: 34509, dtype: object"
      ]
     },
     "execution_count": 168,
     "metadata": {},
     "output_type": "execute_result"
    }
   ],
   "source": [
    "df_test['make_list_sap_20']"
   ]
  },
  {
   "cell_type": "code",
   "execution_count": 169,
   "id": "1aa2eb87",
   "metadata": {},
   "outputs": [],
   "source": [
    "df_test['list_std_sap20'] = df_test['make_list_sap_20'].apply(lambda x: x[0])"
   ]
  },
  {
   "cell_type": "code",
   "execution_count": 170,
   "id": "8bc4e17d",
   "metadata": {},
   "outputs": [],
   "source": [
    "df_test['report_sap20'] = df_test['make_list_sap_20'].apply(lambda x: x[1])"
   ]
  },
  {
   "cell_type": "code",
   "execution_count": 171,
   "id": "89f45c66",
   "metadata": {},
   "outputs": [
    {
     "data": {
      "text/plain": [
       "0        ok:0!=0;нет распознанных\n",
       "1        ok:0!=0;нет распознанных\n",
       "2        ok:0!=0;нет распознанных\n",
       "3        ok:0!=0;нет распознанных\n",
       "4        ok:0!=0;нет распознанных\n",
       "                   ...           \n",
       "34504    ok:0!=0;нет распознанных\n",
       "34505    ok:0!=0;нет распознанных\n",
       "34506    ok:0!=0;нет распознанных\n",
       "34507    ok:0!=0;нет распознанных\n",
       "34508    ok:0!=0;нет распознанных\n",
       "Name: report_sap20, Length: 34509, dtype: object"
      ]
     },
     "execution_count": 171,
     "metadata": {},
     "output_type": "execute_result"
    }
   ],
   "source": [
    "df_test['report_sap20'] "
   ]
  },
  {
   "cell_type": "code",
   "execution_count": 172,
   "id": "58c6cb7e",
   "metadata": {},
   "outputs": [],
   "source": [
    "df_test['count_price_sap20']=df_test['make_list_sap_20'].apply(lambda x: price_sap_ruby.count_price_report(x))"
   ]
  },
  {
   "cell_type": "code",
   "execution_count": 173,
   "id": "5cb916e4",
   "metadata": {},
   "outputs": [
    {
     "data": {
      "text/plain": [
       "0        []\n",
       "1        []\n",
       "2        []\n",
       "3        []\n",
       "4        []\n",
       "         ..\n",
       "34504    []\n",
       "34505    []\n",
       "34506    []\n",
       "34507    []\n",
       "34508    []\n",
       "Name: count_price_sap20, Length: 34509, dtype: object"
      ]
     },
     "execution_count": 173,
     "metadata": {},
     "output_type": "execute_result"
    }
   ],
   "source": [
    "df_test['count_price_sap20']"
   ]
  },
  {
   "cell_type": "code",
   "execution_count": 174,
   "id": "84a43c6b",
   "metadata": {
    "scrolled": true
   },
   "outputs": [
    {
     "data": {
      "text/html": [
       "<div>\n",
       "<style scoped>\n",
       "    .dataframe tbody tr th:only-of-type {\n",
       "        vertical-align: middle;\n",
       "    }\n",
       "\n",
       "    .dataframe tbody tr th {\n",
       "        vertical-align: top;\n",
       "    }\n",
       "\n",
       "    .dataframe thead th {\n",
       "        text-align: right;\n",
       "    }\n",
       "</style>\n",
       "<table border=\"1\" class=\"dataframe\">\n",
       "  <thead>\n",
       "    <tr style=\"text-align: right;\">\n",
       "      <th></th>\n",
       "      <th>Код</th>\n",
       "      <th>vst</th>\n",
       "      <th>make_list_sap_20</th>\n",
       "      <th>list_std_sap20</th>\n",
       "      <th>report_sap20</th>\n",
       "      <th>count_price_sap20</th>\n",
       "    </tr>\n",
       "  </thead>\n",
       "  <tbody>\n",
       "    <tr>\n",
       "      <th>203</th>\n",
       "      <td>ЦБ-00001991</td>\n",
       "      <td>1сапфирПТ-0,450-КВ+2/2 2кр57-0,02-2/3А</td>\n",
       "      <td>([[1, сапфирпт, 0,450, кв, 2, 2, nan]], ok:1!=...</td>\n",
       "      <td>[[1, сапфирпт, 0,450, кв, 2, 2, nan]]</td>\n",
       "      <td>ok:1!=1;C:ok;Q:ok;PCS:ok;GEM:ok;</td>\n",
       "      <td>51.75; 0.45; price:115;size:0,25-0,49;gem:сапф...</td>\n",
       "    </tr>\n",
       "    <tr>\n",
       "      <th>501</th>\n",
       "      <td>ЦБ-00003190</td>\n",
       "      <td>1сапфирПТ-0,211-ОВ+3/2 4кр57-0,042-3/4А 2кр57-...</td>\n",
       "      <td>([[1, сапфирпт, 0,211, ов, 3, 2, nan]], ok:1!=...</td>\n",
       "      <td>[[1, сапфирпт, 0,211, ов, 3, 2, nan]]</td>\n",
       "      <td>ok:1!=1;C:ok;Q:ok;PCS:ok;GEM:ok;</td>\n",
       "      <td>13.71; 0.211; price:65;size:0,10-0,24;gem:сапф...</td>\n",
       "    </tr>\n",
       "    <tr>\n",
       "      <th>879</th>\n",
       "      <td>ЦБ-00005503</td>\n",
       "      <td>12сапфирПТ-0,170-КР+2/3 12Кр57-0,16-3/4А</td>\n",
       "      <td>([[12, сапфирпт, 0,170, кр, 2, 3, nan]], ok:1!...</td>\n",
       "      <td>[[12, сапфирпт, 0,170, кр, 2, 3, nan]]</td>\n",
       "      <td>ok:1!=1;C:ok;Q:ok;PCS:ok;GEM:ok;</td>\n",
       "      <td>10.20; 0.17; price:60;size:До 0,09;gem:сапфирпт</td>\n",
       "    </tr>\n",
       "    <tr>\n",
       "      <th>950</th>\n",
       "      <td>ЦБ-00005890</td>\n",
       "      <td>2СапфирПТ-0,170-кр+2/2 2Кр57-0,030-3/4А</td>\n",
       "      <td>([[2, сапфирпт, 0,170, кр, 2, 2, nan]], ok:1!=...</td>\n",
       "      <td>[[2, сапфирпт, 0,170, кр, 2, 2, nan]]</td>\n",
       "      <td>ok:1!=1;C:ok;Q:ok;PCS:ok;GEM:ok;</td>\n",
       "      <td>11.05; 0.17; price:65;size:До 0,09;gem:сапфирпт</td>\n",
       "    </tr>\n",
       "    <tr>\n",
       "      <th>951</th>\n",
       "      <td>ЦБ-00005891</td>\n",
       "      <td>2СапфирПТ-0,198-кр+2/3 2Кр57-0,022-2/3А</td>\n",
       "      <td>([[2, сапфирпт, 0,198, кр, 2, 3, nan]], ok:1!=...</td>\n",
       "      <td>[[2, сапфирпт, 0,198, кр, 2, 3, nan]]</td>\n",
       "      <td>ok:1!=1;C:ok;Q:ok;PCS:ok;GEM:ok;</td>\n",
       "      <td>11.88; 0.198; price:60;size:До 0,09;gem:сапфирпт</td>\n",
       "    </tr>\n",
       "    <tr>\n",
       "      <th>...</th>\n",
       "      <td>...</td>\n",
       "      <td>...</td>\n",
       "      <td>...</td>\n",
       "      <td>...</td>\n",
       "      <td>...</td>\n",
       "      <td>...</td>\n",
       "    </tr>\n",
       "    <tr>\n",
       "      <th>29399</th>\n",
       "      <td>ЦБ-00188585</td>\n",
       "      <td>2СапфирПТ-1,640-ГР+2/2 70КР57-0,820-4/6А</td>\n",
       "      <td>([[2, сапфирпт, 1,640, гр, 2, 2, nan]], ok:1!=...</td>\n",
       "      <td>[[2, сапфирпт, 1,640, гр, 2, 2, nan]]</td>\n",
       "      <td>ok:1!=1;C:ok;Q:ok;PCS:ok;GEM:ok;</td>\n",
       "      <td>278.80; 1.64; price:170;size:0,50-0,99;gem:сап...</td>\n",
       "    </tr>\n",
       "    <tr>\n",
       "      <th>29405</th>\n",
       "      <td>ЦБ-00188647</td>\n",
       "      <td>Топаз*Голубой 56СапфирПТ-0,360-КР+3/3</td>\n",
       "      <td>([[56, сапфирпт, 0,360, кр, 3, 3, nan]], ok:1!...</td>\n",
       "      <td>[[56, сапфирпт, 0,360, кр, 3, 3, nan]]</td>\n",
       "      <td>ok:1!=1;C:ok;Q:ok;PCS:ok;GEM:ok;</td>\n",
       "      <td>16.20; 0.36; price:45;size:До 0,09;gem:сапфирпт</td>\n",
       "    </tr>\n",
       "    <tr>\n",
       "      <th>29409</th>\n",
       "      <td>ЦБ-00188651</td>\n",
       "      <td>2СапфирПТ-0,900-ГР+1/2 9КР57-0,270-4/3А</td>\n",
       "      <td>([[2, сапфирпт, 0,900, гр, 1, 2, nan]], ok:1!=...</td>\n",
       "      <td>[[2, сапфирпт, 0,900, гр, 1, 2, nan]]</td>\n",
       "      <td>ok:1!=1;C:ok;Q:ok;PCS:ok;GEM:ok;</td>\n",
       "      <td>180.00; 0.9; price:200;size:0,25-0,49;gem:сапф...</td>\n",
       "    </tr>\n",
       "    <tr>\n",
       "      <th>29564</th>\n",
       "      <td>ЦБ-00188961</td>\n",
       "      <td>1СапфирПТ-0,100-КР+2/2 2КР57-0,090-2/4А</td>\n",
       "      <td>([[1, сапфирпт, 0,100, кр, 2, 2, nan]], ok:1!=...</td>\n",
       "      <td>[[1, сапфирпт, 0,100, кр, 2, 2, nan]]</td>\n",
       "      <td>ok:1!=1;C:ok;Q:ok;PCS:ok;GEM:ok;</td>\n",
       "      <td>8.00; 0.1; price:80;size:0,10-0,24;gem:сапфирпт</td>\n",
       "    </tr>\n",
       "    <tr>\n",
       "      <th>29576</th>\n",
       "      <td>ЦБ-00189699</td>\n",
       "      <td>1СапфирПТ-0,600-ов+2/2 10КР57-0,138-6/6А</td>\n",
       "      <td>([[1, сапфирпт, 0,600, ов, 2, 2, nan]], ok:1!=...</td>\n",
       "      <td>[[1, сапфирпт, 0,600, ов, 2, 2, nan]]</td>\n",
       "      <td>ok:1!=1;C:ok;Q:ok;PCS:ok;GEM:ok;</td>\n",
       "      <td>102.00; 0.6; price:170;size:0,50-0,99;gem:сапф...</td>\n",
       "    </tr>\n",
       "  </tbody>\n",
       "</table>\n",
       "<p>425 rows × 6 columns</p>\n",
       "</div>"
      ],
      "text/plain": [
       "               Код                                                vst  \\\n",
       "203    ЦБ-00001991             1сапфирПТ-0,450-КВ+2/2 2кр57-0,02-2/3А   \n",
       "501    ЦБ-00003190  1сапфирПТ-0,211-ОВ+3/2 4кр57-0,042-3/4А 2кр57-...   \n",
       "879    ЦБ-00005503           12сапфирПТ-0,170-КР+2/3 12Кр57-0,16-3/4А   \n",
       "950    ЦБ-00005890            2СапфирПТ-0,170-кр+2/2 2Кр57-0,030-3/4А   \n",
       "951    ЦБ-00005891            2СапфирПТ-0,198-кр+2/3 2Кр57-0,022-2/3А   \n",
       "...            ...                                                ...   \n",
       "29399  ЦБ-00188585           2СапфирПТ-1,640-ГР+2/2 70КР57-0,820-4/6А   \n",
       "29405  ЦБ-00188647              Топаз*Голубой 56СапфирПТ-0,360-КР+3/3   \n",
       "29409  ЦБ-00188651            2СапфирПТ-0,900-ГР+1/2 9КР57-0,270-4/3А   \n",
       "29564  ЦБ-00188961            1СапфирПТ-0,100-КР+2/2 2КР57-0,090-2/4А   \n",
       "29576  ЦБ-00189699           1СапфирПТ-0,600-ов+2/2 10КР57-0,138-6/6А   \n",
       "\n",
       "                                        make_list_sap_20  \\\n",
       "203    ([[1, сапфирпт, 0,450, кв, 2, 2, nan]], ok:1!=...   \n",
       "501    ([[1, сапфирпт, 0,211, ов, 3, 2, nan]], ok:1!=...   \n",
       "879    ([[12, сапфирпт, 0,170, кр, 2, 3, nan]], ok:1!...   \n",
       "950    ([[2, сапфирпт, 0,170, кр, 2, 2, nan]], ok:1!=...   \n",
       "951    ([[2, сапфирпт, 0,198, кр, 2, 3, nan]], ok:1!=...   \n",
       "...                                                  ...   \n",
       "29399  ([[2, сапфирпт, 1,640, гр, 2, 2, nan]], ok:1!=...   \n",
       "29405  ([[56, сапфирпт, 0,360, кр, 3, 3, nan]], ok:1!...   \n",
       "29409  ([[2, сапфирпт, 0,900, гр, 1, 2, nan]], ok:1!=...   \n",
       "29564  ([[1, сапфирпт, 0,100, кр, 2, 2, nan]], ok:1!=...   \n",
       "29576  ([[1, сапфирпт, 0,600, ов, 2, 2, nan]], ok:1!=...   \n",
       "\n",
       "                               list_std_sap20  \\\n",
       "203     [[1, сапфирпт, 0,450, кв, 2, 2, nan]]   \n",
       "501     [[1, сапфирпт, 0,211, ов, 3, 2, nan]]   \n",
       "879    [[12, сапфирпт, 0,170, кр, 2, 3, nan]]   \n",
       "950     [[2, сапфирпт, 0,170, кр, 2, 2, nan]]   \n",
       "951     [[2, сапфирпт, 0,198, кр, 2, 3, nan]]   \n",
       "...                                       ...   \n",
       "29399   [[2, сапфирпт, 1,640, гр, 2, 2, nan]]   \n",
       "29405  [[56, сапфирпт, 0,360, кр, 3, 3, nan]]   \n",
       "29409   [[2, сапфирпт, 0,900, гр, 1, 2, nan]]   \n",
       "29564   [[1, сапфирпт, 0,100, кр, 2, 2, nan]]   \n",
       "29576   [[1, сапфирпт, 0,600, ов, 2, 2, nan]]   \n",
       "\n",
       "                           report_sap20  \\\n",
       "203    ok:1!=1;C:ok;Q:ok;PCS:ok;GEM:ok;   \n",
       "501    ok:1!=1;C:ok;Q:ok;PCS:ok;GEM:ok;   \n",
       "879    ok:1!=1;C:ok;Q:ok;PCS:ok;GEM:ok;   \n",
       "950    ok:1!=1;C:ok;Q:ok;PCS:ok;GEM:ok;   \n",
       "951    ok:1!=1;C:ok;Q:ok;PCS:ok;GEM:ok;   \n",
       "...                                 ...   \n",
       "29399  ok:1!=1;C:ok;Q:ok;PCS:ok;GEM:ok;   \n",
       "29405  ok:1!=1;C:ok;Q:ok;PCS:ok;GEM:ok;   \n",
       "29409  ok:1!=1;C:ok;Q:ok;PCS:ok;GEM:ok;   \n",
       "29564  ok:1!=1;C:ok;Q:ok;PCS:ok;GEM:ok;   \n",
       "29576  ok:1!=1;C:ok;Q:ok;PCS:ok;GEM:ok;   \n",
       "\n",
       "                                       count_price_sap20  \n",
       "203    51.75; 0.45; price:115;size:0,25-0,49;gem:сапф...  \n",
       "501    13.71; 0.211; price:65;size:0,10-0,24;gem:сапф...  \n",
       "879      10.20; 0.17; price:60;size:До 0,09;gem:сапфирпт  \n",
       "950      11.05; 0.17; price:65;size:До 0,09;gem:сапфирпт  \n",
       "951     11.88; 0.198; price:60;size:До 0,09;gem:сапфирпт  \n",
       "...                                                  ...  \n",
       "29399  278.80; 1.64; price:170;size:0,50-0,99;gem:сап...  \n",
       "29405    16.20; 0.36; price:45;size:До 0,09;gem:сапфирпт  \n",
       "29409  180.00; 0.9; price:200;size:0,25-0,49;gem:сапф...  \n",
       "29564    8.00; 0.1; price:80;size:0,10-0,24;gem:сапфирпт  \n",
       "29576  102.00; 0.6; price:170;size:0,50-0,99;gem:сапф...  \n",
       "\n",
       "[425 rows x 6 columns]"
      ]
     },
     "execution_count": 174,
     "metadata": {},
     "output_type": "execute_result"
    }
   ],
   "source": [
    "df_test[df_test['count_price_sap20'].map(len)!=0]"
   ]
  },
  {
   "cell_type": "code",
   "execution_count": null,
   "id": "de9a568d",
   "metadata": {},
   "outputs": [],
   "source": []
  },
  {
   "cell_type": "code",
   "execution_count": 175,
   "id": "eaf8b190",
   "metadata": {},
   "outputs": [
    {
     "data": {
      "text/plain": [
       "0        0\n",
       "1        0\n",
       "2        0\n",
       "3        0\n",
       "4        0\n",
       "        ..\n",
       "34504    0\n",
       "34505    0\n",
       "34506    0\n",
       "34507    0\n",
       "34508    0\n",
       "Name: count_price_sap20, Length: 34509, dtype: object"
      ]
     },
     "execution_count": 175,
     "metadata": {},
     "output_type": "execute_result"
    }
   ],
   "source": [
    "df_test['count_price_sap20'].apply(lambda x: 0 if len(x)==0 else x) "
   ]
  },
  {
   "cell_type": "code",
   "execution_count": 176,
   "id": "e83ee692",
   "metadata": {},
   "outputs": [],
   "source": [
    "df_test['prsap_cost'] = df_test['count_price_sap20'].apply(lambda x: 0 if len(x)==0 else x.split(\";\")[0]) #map(len)!=0]"
   ]
  },
  {
   "cell_type": "code",
   "execution_count": 177,
   "id": "8384fadd",
   "metadata": {
    "scrolled": false
   },
   "outputs": [
    {
     "data": {
      "text/html": [
       "<div>\n",
       "<style scoped>\n",
       "    .dataframe tbody tr th:only-of-type {\n",
       "        vertical-align: middle;\n",
       "    }\n",
       "\n",
       "    .dataframe tbody tr th {\n",
       "        vertical-align: top;\n",
       "    }\n",
       "\n",
       "    .dataframe thead th {\n",
       "        text-align: right;\n",
       "    }\n",
       "</style>\n",
       "<table border=\"1\" class=\"dataframe\">\n",
       "  <thead>\n",
       "    <tr style=\"text-align: right;\">\n",
       "      <th></th>\n",
       "      <th>Код</th>\n",
       "      <th>vst</th>\n",
       "      <th>make_list_sap_20</th>\n",
       "      <th>list_std_sap20</th>\n",
       "      <th>report_sap20</th>\n",
       "      <th>count_price_sap20</th>\n",
       "      <th>prsap_cost</th>\n",
       "    </tr>\n",
       "  </thead>\n",
       "  <tbody>\n",
       "    <tr>\n",
       "      <th>203</th>\n",
       "      <td>ЦБ-00001991</td>\n",
       "      <td>1сапфирПТ-0,450-КВ+2/2 2кр57-0,02-2/3А</td>\n",
       "      <td>([[1, сапфирпт, 0,450, кв, 2, 2, nan]], ok:1!=...</td>\n",
       "      <td>[[1, сапфирпт, 0,450, кв, 2, 2, nan]]</td>\n",
       "      <td>ok:1!=1;C:ok;Q:ok;PCS:ok;GEM:ok;</td>\n",
       "      <td>51.75; 0.45; price:115;size:0,25-0,49;gem:сапф...</td>\n",
       "      <td>51.75</td>\n",
       "    </tr>\n",
       "    <tr>\n",
       "      <th>501</th>\n",
       "      <td>ЦБ-00003190</td>\n",
       "      <td>1сапфирПТ-0,211-ОВ+3/2 4кр57-0,042-3/4А 2кр57-...</td>\n",
       "      <td>([[1, сапфирпт, 0,211, ов, 3, 2, nan]], ok:1!=...</td>\n",
       "      <td>[[1, сапфирпт, 0,211, ов, 3, 2, nan]]</td>\n",
       "      <td>ok:1!=1;C:ok;Q:ok;PCS:ok;GEM:ok;</td>\n",
       "      <td>13.71; 0.211; price:65;size:0,10-0,24;gem:сапф...</td>\n",
       "      <td>13.71</td>\n",
       "    </tr>\n",
       "    <tr>\n",
       "      <th>879</th>\n",
       "      <td>ЦБ-00005503</td>\n",
       "      <td>12сапфирПТ-0,170-КР+2/3 12Кр57-0,16-3/4А</td>\n",
       "      <td>([[12, сапфирпт, 0,170, кр, 2, 3, nan]], ok:1!...</td>\n",
       "      <td>[[12, сапфирпт, 0,170, кр, 2, 3, nan]]</td>\n",
       "      <td>ok:1!=1;C:ok;Q:ok;PCS:ok;GEM:ok;</td>\n",
       "      <td>10.20; 0.17; price:60;size:До 0,09;gem:сапфирпт</td>\n",
       "      <td>10.20</td>\n",
       "    </tr>\n",
       "    <tr>\n",
       "      <th>950</th>\n",
       "      <td>ЦБ-00005890</td>\n",
       "      <td>2СапфирПТ-0,170-кр+2/2 2Кр57-0,030-3/4А</td>\n",
       "      <td>([[2, сапфирпт, 0,170, кр, 2, 2, nan]], ok:1!=...</td>\n",
       "      <td>[[2, сапфирпт, 0,170, кр, 2, 2, nan]]</td>\n",
       "      <td>ok:1!=1;C:ok;Q:ok;PCS:ok;GEM:ok;</td>\n",
       "      <td>11.05; 0.17; price:65;size:До 0,09;gem:сапфирпт</td>\n",
       "      <td>11.05</td>\n",
       "    </tr>\n",
       "    <tr>\n",
       "      <th>951</th>\n",
       "      <td>ЦБ-00005891</td>\n",
       "      <td>2СапфирПТ-0,198-кр+2/3 2Кр57-0,022-2/3А</td>\n",
       "      <td>([[2, сапфирпт, 0,198, кр, 2, 3, nan]], ok:1!=...</td>\n",
       "      <td>[[2, сапфирпт, 0,198, кр, 2, 3, nan]]</td>\n",
       "      <td>ok:1!=1;C:ok;Q:ok;PCS:ok;GEM:ok;</td>\n",
       "      <td>11.88; 0.198; price:60;size:До 0,09;gem:сапфирпт</td>\n",
       "      <td>11.88</td>\n",
       "    </tr>\n",
       "    <tr>\n",
       "      <th>...</th>\n",
       "      <td>...</td>\n",
       "      <td>...</td>\n",
       "      <td>...</td>\n",
       "      <td>...</td>\n",
       "      <td>...</td>\n",
       "      <td>...</td>\n",
       "      <td>...</td>\n",
       "    </tr>\n",
       "    <tr>\n",
       "      <th>29399</th>\n",
       "      <td>ЦБ-00188585</td>\n",
       "      <td>2СапфирПТ-1,640-ГР+2/2 70КР57-0,820-4/6А</td>\n",
       "      <td>([[2, сапфирпт, 1,640, гр, 2, 2, nan]], ok:1!=...</td>\n",
       "      <td>[[2, сапфирпт, 1,640, гр, 2, 2, nan]]</td>\n",
       "      <td>ok:1!=1;C:ok;Q:ok;PCS:ok;GEM:ok;</td>\n",
       "      <td>278.80; 1.64; price:170;size:0,50-0,99;gem:сап...</td>\n",
       "      <td>278.80</td>\n",
       "    </tr>\n",
       "    <tr>\n",
       "      <th>29405</th>\n",
       "      <td>ЦБ-00188647</td>\n",
       "      <td>Топаз*Голубой 56СапфирПТ-0,360-КР+3/3</td>\n",
       "      <td>([[56, сапфирпт, 0,360, кр, 3, 3, nan]], ok:1!...</td>\n",
       "      <td>[[56, сапфирпт, 0,360, кр, 3, 3, nan]]</td>\n",
       "      <td>ok:1!=1;C:ok;Q:ok;PCS:ok;GEM:ok;</td>\n",
       "      <td>16.20; 0.36; price:45;size:До 0,09;gem:сапфирпт</td>\n",
       "      <td>16.20</td>\n",
       "    </tr>\n",
       "    <tr>\n",
       "      <th>29409</th>\n",
       "      <td>ЦБ-00188651</td>\n",
       "      <td>2СапфирПТ-0,900-ГР+1/2 9КР57-0,270-4/3А</td>\n",
       "      <td>([[2, сапфирпт, 0,900, гр, 1, 2, nan]], ok:1!=...</td>\n",
       "      <td>[[2, сапфирпт, 0,900, гр, 1, 2, nan]]</td>\n",
       "      <td>ok:1!=1;C:ok;Q:ok;PCS:ok;GEM:ok;</td>\n",
       "      <td>180.00; 0.9; price:200;size:0,25-0,49;gem:сапф...</td>\n",
       "      <td>180.00</td>\n",
       "    </tr>\n",
       "    <tr>\n",
       "      <th>29564</th>\n",
       "      <td>ЦБ-00188961</td>\n",
       "      <td>1СапфирПТ-0,100-КР+2/2 2КР57-0,090-2/4А</td>\n",
       "      <td>([[1, сапфирпт, 0,100, кр, 2, 2, nan]], ok:1!=...</td>\n",
       "      <td>[[1, сапфирпт, 0,100, кр, 2, 2, nan]]</td>\n",
       "      <td>ok:1!=1;C:ok;Q:ok;PCS:ok;GEM:ok;</td>\n",
       "      <td>8.00; 0.1; price:80;size:0,10-0,24;gem:сапфирпт</td>\n",
       "      <td>8.00</td>\n",
       "    </tr>\n",
       "    <tr>\n",
       "      <th>29576</th>\n",
       "      <td>ЦБ-00189699</td>\n",
       "      <td>1СапфирПТ-0,600-ов+2/2 10КР57-0,138-6/6А</td>\n",
       "      <td>([[1, сапфирпт, 0,600, ов, 2, 2, nan]], ok:1!=...</td>\n",
       "      <td>[[1, сапфирпт, 0,600, ов, 2, 2, nan]]</td>\n",
       "      <td>ok:1!=1;C:ok;Q:ok;PCS:ok;GEM:ok;</td>\n",
       "      <td>102.00; 0.6; price:170;size:0,50-0,99;gem:сапф...</td>\n",
       "      <td>102.00</td>\n",
       "    </tr>\n",
       "  </tbody>\n",
       "</table>\n",
       "<p>425 rows × 7 columns</p>\n",
       "</div>"
      ],
      "text/plain": [
       "               Код                                                vst  \\\n",
       "203    ЦБ-00001991             1сапфирПТ-0,450-КВ+2/2 2кр57-0,02-2/3А   \n",
       "501    ЦБ-00003190  1сапфирПТ-0,211-ОВ+3/2 4кр57-0,042-3/4А 2кр57-...   \n",
       "879    ЦБ-00005503           12сапфирПТ-0,170-КР+2/3 12Кр57-0,16-3/4А   \n",
       "950    ЦБ-00005890            2СапфирПТ-0,170-кр+2/2 2Кр57-0,030-3/4А   \n",
       "951    ЦБ-00005891            2СапфирПТ-0,198-кр+2/3 2Кр57-0,022-2/3А   \n",
       "...            ...                                                ...   \n",
       "29399  ЦБ-00188585           2СапфирПТ-1,640-ГР+2/2 70КР57-0,820-4/6А   \n",
       "29405  ЦБ-00188647              Топаз*Голубой 56СапфирПТ-0,360-КР+3/3   \n",
       "29409  ЦБ-00188651            2СапфирПТ-0,900-ГР+1/2 9КР57-0,270-4/3А   \n",
       "29564  ЦБ-00188961            1СапфирПТ-0,100-КР+2/2 2КР57-0,090-2/4А   \n",
       "29576  ЦБ-00189699           1СапфирПТ-0,600-ов+2/2 10КР57-0,138-6/6А   \n",
       "\n",
       "                                        make_list_sap_20  \\\n",
       "203    ([[1, сапфирпт, 0,450, кв, 2, 2, nan]], ok:1!=...   \n",
       "501    ([[1, сапфирпт, 0,211, ов, 3, 2, nan]], ok:1!=...   \n",
       "879    ([[12, сапфирпт, 0,170, кр, 2, 3, nan]], ok:1!...   \n",
       "950    ([[2, сапфирпт, 0,170, кр, 2, 2, nan]], ok:1!=...   \n",
       "951    ([[2, сапфирпт, 0,198, кр, 2, 3, nan]], ok:1!=...   \n",
       "...                                                  ...   \n",
       "29399  ([[2, сапфирпт, 1,640, гр, 2, 2, nan]], ok:1!=...   \n",
       "29405  ([[56, сапфирпт, 0,360, кр, 3, 3, nan]], ok:1!...   \n",
       "29409  ([[2, сапфирпт, 0,900, гр, 1, 2, nan]], ok:1!=...   \n",
       "29564  ([[1, сапфирпт, 0,100, кр, 2, 2, nan]], ok:1!=...   \n",
       "29576  ([[1, сапфирпт, 0,600, ов, 2, 2, nan]], ok:1!=...   \n",
       "\n",
       "                               list_std_sap20  \\\n",
       "203     [[1, сапфирпт, 0,450, кв, 2, 2, nan]]   \n",
       "501     [[1, сапфирпт, 0,211, ов, 3, 2, nan]]   \n",
       "879    [[12, сапфирпт, 0,170, кр, 2, 3, nan]]   \n",
       "950     [[2, сапфирпт, 0,170, кр, 2, 2, nan]]   \n",
       "951     [[2, сапфирпт, 0,198, кр, 2, 3, nan]]   \n",
       "...                                       ...   \n",
       "29399   [[2, сапфирпт, 1,640, гр, 2, 2, nan]]   \n",
       "29405  [[56, сапфирпт, 0,360, кр, 3, 3, nan]]   \n",
       "29409   [[2, сапфирпт, 0,900, гр, 1, 2, nan]]   \n",
       "29564   [[1, сапфирпт, 0,100, кр, 2, 2, nan]]   \n",
       "29576   [[1, сапфирпт, 0,600, ов, 2, 2, nan]]   \n",
       "\n",
       "                           report_sap20  \\\n",
       "203    ok:1!=1;C:ok;Q:ok;PCS:ok;GEM:ok;   \n",
       "501    ok:1!=1;C:ok;Q:ok;PCS:ok;GEM:ok;   \n",
       "879    ok:1!=1;C:ok;Q:ok;PCS:ok;GEM:ok;   \n",
       "950    ok:1!=1;C:ok;Q:ok;PCS:ok;GEM:ok;   \n",
       "951    ok:1!=1;C:ok;Q:ok;PCS:ok;GEM:ok;   \n",
       "...                                 ...   \n",
       "29399  ok:1!=1;C:ok;Q:ok;PCS:ok;GEM:ok;   \n",
       "29405  ok:1!=1;C:ok;Q:ok;PCS:ok;GEM:ok;   \n",
       "29409  ok:1!=1;C:ok;Q:ok;PCS:ok;GEM:ok;   \n",
       "29564  ok:1!=1;C:ok;Q:ok;PCS:ok;GEM:ok;   \n",
       "29576  ok:1!=1;C:ok;Q:ok;PCS:ok;GEM:ok;   \n",
       "\n",
       "                                       count_price_sap20 prsap_cost  \n",
       "203    51.75; 0.45; price:115;size:0,25-0,49;gem:сапф...      51.75  \n",
       "501    13.71; 0.211; price:65;size:0,10-0,24;gem:сапф...      13.71  \n",
       "879      10.20; 0.17; price:60;size:До 0,09;gem:сапфирпт      10.20  \n",
       "950      11.05; 0.17; price:65;size:До 0,09;gem:сапфирпт      11.05  \n",
       "951     11.88; 0.198; price:60;size:До 0,09;gem:сапфирпт      11.88  \n",
       "...                                                  ...        ...  \n",
       "29399  278.80; 1.64; price:170;size:0,50-0,99;gem:сап...     278.80  \n",
       "29405    16.20; 0.36; price:45;size:До 0,09;gem:сапфирпт      16.20  \n",
       "29409  180.00; 0.9; price:200;size:0,25-0,49;gem:сапф...     180.00  \n",
       "29564    8.00; 0.1; price:80;size:0,10-0,24;gem:сапфирпт       8.00  \n",
       "29576  102.00; 0.6; price:170;size:0,50-0,99;gem:сапф...     102.00  \n",
       "\n",
       "[425 rows x 7 columns]"
      ]
     },
     "execution_count": 177,
     "metadata": {},
     "output_type": "execute_result"
    }
   ],
   "source": [
    "df_test[df_test['prsap_cost'] !=0]"
   ]
  },
  {
   "cell_type": "code",
   "execution_count": null,
   "id": "70d78d00",
   "metadata": {},
   "outputs": [],
   "source": []
  },
  {
   "cell_type": "markdown",
   "id": "2f9dfbbb",
   "metadata": {},
   "source": [
    "### Массовая прогонка ruby\n"
   ]
  },
  {
   "cell_type": "code",
   "execution_count": 80,
   "id": "15292743",
   "metadata": {},
   "outputs": [],
   "source": [
    "# результат функции (стандартный лист, рапорт распознавания ) \n",
    "df_test['make_list_ruby20'] = df_test.vst.apply(lambda x: price_sap_ruby.make_list_ruby(x))\n",
    "# стандартный лист\n",
    "df_test['list_std_ruby20'] = df_test['make_list_ruby20'].apply(lambda x: x[0])\n",
    "# рапорт распознавания \n",
    "df_test['report_ruby20'] = df_test['make_list_ruby20'].apply(lambda x: x[1])\n",
    "#  результат функции (рапорт применения прейскуранта) \n",
    "df_test['count_price_ruby20']=df_test['make_list_ruby20'].apply(lambda x: price_sap_ruby.count_price_report(x))\n",
    "# прейскурантая стоимсоть float или ошибка \n",
    "df_test['prruby_cost'] = df_test['count_price_ruby20'].apply(lambda x: 0 if len(x)==0 else x.split(\";\")[0]) #map(len)!=0]"
   ]
  },
  {
   "cell_type": "code",
   "execution_count": 81,
   "id": "0a05d338",
   "metadata": {
    "scrolled": true
   },
   "outputs": [
    {
     "data": {
      "text/html": [
       "<div>\n",
       "<style scoped>\n",
       "    .dataframe tbody tr th:only-of-type {\n",
       "        vertical-align: middle;\n",
       "    }\n",
       "\n",
       "    .dataframe tbody tr th {\n",
       "        vertical-align: top;\n",
       "    }\n",
       "\n",
       "    .dataframe thead th {\n",
       "        text-align: right;\n",
       "    }\n",
       "</style>\n",
       "<table border=\"1\" class=\"dataframe\">\n",
       "  <thead>\n",
       "    <tr style=\"text-align: right;\">\n",
       "      <th></th>\n",
       "      <th>Код</th>\n",
       "      <th>vst</th>\n",
       "      <th>make_list_sap_20</th>\n",
       "      <th>list_std_sap20</th>\n",
       "      <th>report_sap20</th>\n",
       "      <th>count_price_sap20</th>\n",
       "      <th>prsap_cost</th>\n",
       "      <th>make_list_ruby20</th>\n",
       "      <th>list_std_ruby20</th>\n",
       "      <th>report_ruby20</th>\n",
       "      <th>count_price_ruby20</th>\n",
       "      <th>prruby_cost</th>\n",
       "    </tr>\n",
       "  </thead>\n",
       "  <tbody>\n",
       "    <tr>\n",
       "      <th>220</th>\n",
       "      <td>ЦБ-00002032</td>\n",
       "      <td>1РубинПТ-0,230-ОВ+2/2</td>\n",
       "      <td>([], ok:0!=0;нет распознанных)</td>\n",
       "      <td>[]</td>\n",
       "      <td>ok:0!=0;нет распознанных</td>\n",
       "      <td>[]</td>\n",
       "      <td>0</td>\n",
       "      <td>([[1, рубинпт, 0,230, ов, 2, 2, nan]], ok:1!=1...</td>\n",
       "      <td>[[1, рубинпт, 0,230, ов, 2, 2, nan]]</td>\n",
       "      <td>ok:1!=1;C:ok;Q:ok;PCS:ok;GEM:ok;</td>\n",
       "      <td>35.65; 0.23; price:155;size:0,10-0,24;gem:рубинпт</td>\n",
       "      <td>35.65</td>\n",
       "    </tr>\n",
       "    <tr>\n",
       "      <th>221</th>\n",
       "      <td>ЦБ-00002033</td>\n",
       "      <td>1рубинПТ-0,770-ОВ+2/2 18кр57-0,37-3/4А</td>\n",
       "      <td>([], ok:0!=0;нет распознанных)</td>\n",
       "      <td>[]</td>\n",
       "      <td>ok:0!=0;нет распознанных</td>\n",
       "      <td>[]</td>\n",
       "      <td>0</td>\n",
       "      <td>([[1, рубинпт, 0,770, ов, 2, 2, nan]], ok:1!=1...</td>\n",
       "      <td>[[1, рубинпт, 0,770, ов, 2, 2, nan]]</td>\n",
       "      <td>ok:1!=1;C:ok;Q:ok;PCS:ok;GEM:ok;</td>\n",
       "      <td>308.00; 0.77; price:400;size:0,50-0,99;gem:руб...</td>\n",
       "      <td>308.00</td>\n",
       "    </tr>\n",
       "    <tr>\n",
       "      <th>391</th>\n",
       "      <td>ЦБ-00003020</td>\n",
       "      <td>2РубинПТ-0,100-кр+3/3 10кр57-0,14-3/3А</td>\n",
       "      <td>([], ok:0!=0;нет распознанных)</td>\n",
       "      <td>[]</td>\n",
       "      <td>ok:0!=0;нет распознанных</td>\n",
       "      <td>[]</td>\n",
       "      <td>0</td>\n",
       "      <td>([[2, рубинпт, 0,100, кр, 3, 3, nan]], ok:1!=1...</td>\n",
       "      <td>[[2, рубинпт, 0,100, кр, 3, 3, nan]]</td>\n",
       "      <td>ok:1!=1;C:ok;Q:ok;PCS:ok;GEM:ok;</td>\n",
       "      <td>10.00; 0.1; price:100;size:До 0,09;gem:рубинпт</td>\n",
       "      <td>10.00</td>\n",
       "    </tr>\n",
       "    <tr>\n",
       "      <th>871</th>\n",
       "      <td>ЦБ-00005481</td>\n",
       "      <td>1РубинПТ-0,307-М+2/2 4кр57-0,08-4/5А</td>\n",
       "      <td>([], ok:0!=0;нет распознанных)</td>\n",
       "      <td>[]</td>\n",
       "      <td>ok:0!=0;нет распознанных</td>\n",
       "      <td>[]</td>\n",
       "      <td>0</td>\n",
       "      <td>([[1, рубинпт, 0,307, м, 2, 2, nan]], ok:1!=1;...</td>\n",
       "      <td>[[1, рубинпт, 0,307, м, 2, 2, nan]]</td>\n",
       "      <td>ok:1!=1;C:ok;Q:ok;PCS:ok;GEM:ok;</td>\n",
       "      <td>55.26; 0.307; price:180;size:0,25-0,49;gem:руб...</td>\n",
       "      <td>55.26</td>\n",
       "    </tr>\n",
       "    <tr>\n",
       "      <th>949</th>\n",
       "      <td>ЦБ-00005889</td>\n",
       "      <td>2РубинПТ-0,080-кр+2/2 2Кр57-0,030-3/4А</td>\n",
       "      <td>([], ok:0!=0;нет распознанных)</td>\n",
       "      <td>[]</td>\n",
       "      <td>ok:0!=0;нет распознанных</td>\n",
       "      <td>[]</td>\n",
       "      <td>0</td>\n",
       "      <td>([[2, рубинпт, 0,080, кр, 2, 2, nan]], ok:1!=1...</td>\n",
       "      <td>[[2, рубинпт, 0,080, кр, 2, 2, nan]]</td>\n",
       "      <td>ok:1!=1;C:ok;Q:ok;PCS:ok;GEM:ok;</td>\n",
       "      <td>11.20; 0.08; price:140;size:До 0,09;gem:рубинпт</td>\n",
       "      <td>11.20</td>\n",
       "    </tr>\n",
       "    <tr>\n",
       "      <th>...</th>\n",
       "      <td>...</td>\n",
       "      <td>...</td>\n",
       "      <td>...</td>\n",
       "      <td>...</td>\n",
       "      <td>...</td>\n",
       "      <td>...</td>\n",
       "      <td>...</td>\n",
       "      <td>...</td>\n",
       "      <td>...</td>\n",
       "      <td>...</td>\n",
       "      <td>...</td>\n",
       "      <td>...</td>\n",
       "    </tr>\n",
       "    <tr>\n",
       "      <th>29577</th>\n",
       "      <td>ЦБ-00189700</td>\n",
       "      <td>1РубинПТ-0,610-ов+3/2 10КР57-0,138-6/6А</td>\n",
       "      <td>([], ok:0!=0;нет распознанных)</td>\n",
       "      <td>[]</td>\n",
       "      <td>ok:0!=0;нет распознанных</td>\n",
       "      <td>[]</td>\n",
       "      <td>0</td>\n",
       "      <td>([[1, рубинпт, 0,610, ов, 3, 2, nan]], ok:1!=1...</td>\n",
       "      <td>[[1, рубинпт, 0,610, ов, 3, 2, nan]]</td>\n",
       "      <td>ok:1!=1;C:ok;Q:ok;PCS:ok;GEM:ok;</td>\n",
       "      <td>195.20; 0.61; price:320;size:0,50-0,99;gem:руб...</td>\n",
       "      <td>195.20</td>\n",
       "    </tr>\n",
       "    <tr>\n",
       "      <th>29606</th>\n",
       "      <td>ЦБ-00189729</td>\n",
       "      <td>1РубинПТ-0,610-ов+3/2 10КР57-0,138-6/6А</td>\n",
       "      <td>([], ok:0!=0;нет распознанных)</td>\n",
       "      <td>[]</td>\n",
       "      <td>ok:0!=0;нет распознанных</td>\n",
       "      <td>[]</td>\n",
       "      <td>0</td>\n",
       "      <td>([[1, рубинпт, 0,610, ов, 3, 2, nan]], ok:1!=1...</td>\n",
       "      <td>[[1, рубинпт, 0,610, ов, 3, 2, nan]]</td>\n",
       "      <td>ok:1!=1;C:ok;Q:ok;PCS:ok;GEM:ok;</td>\n",
       "      <td>195.20; 0.61; price:320;size:0,50-0,99;gem:руб...</td>\n",
       "      <td>195.20</td>\n",
       "    </tr>\n",
       "    <tr>\n",
       "      <th>29663</th>\n",
       "      <td>ЦБ-00189787</td>\n",
       "      <td>1РубинПТ-0,610-ов+3/4 10КР57-0,139-6/6А</td>\n",
       "      <td>([], ok:0!=0;нет распознанных)</td>\n",
       "      <td>[]</td>\n",
       "      <td>ok:0!=0;нет распознанных</td>\n",
       "      <td>[]</td>\n",
       "      <td>0</td>\n",
       "      <td>([[1, рубинпт, 0,610, ов, 3, 4, nan]], ok:1!=1...</td>\n",
       "      <td>[[1, рубинпт, 0,610, ов, 3, 4, nan]]</td>\n",
       "      <td>ok:1!=1;C:ok;Q:ok;PCS:ok;GEM:ok;</td>\n",
       "      <td>109.80; 0.61; price:180;size:0,50-0,99;gem:руб...</td>\n",
       "      <td>109.80</td>\n",
       "    </tr>\n",
       "    <tr>\n",
       "      <th>29717</th>\n",
       "      <td>ЦБ-00189841</td>\n",
       "      <td>1РубинПТ-0,610-ов+3/4 10КР57-0,138-6/6А</td>\n",
       "      <td>([], ok:0!=0;нет распознанных)</td>\n",
       "      <td>[]</td>\n",
       "      <td>ok:0!=0;нет распознанных</td>\n",
       "      <td>[]</td>\n",
       "      <td>0</td>\n",
       "      <td>([[1, рубинпт, 0,610, ов, 3, 4, nan]], ok:1!=1...</td>\n",
       "      <td>[[1, рубинпт, 0,610, ов, 3, 4, nan]]</td>\n",
       "      <td>ok:1!=1;C:ok;Q:ok;PCS:ok;GEM:ok;</td>\n",
       "      <td>109.80; 0.61; price:180;size:0,50-0,99;gem:руб...</td>\n",
       "      <td>109.80</td>\n",
       "    </tr>\n",
       "    <tr>\n",
       "      <th>29720</th>\n",
       "      <td>ЦБ-00189844</td>\n",
       "      <td>1РубинПТ-0,610-ов+3/2 10КР57-0,138-6/6А</td>\n",
       "      <td>([], ok:0!=0;нет распознанных)</td>\n",
       "      <td>[]</td>\n",
       "      <td>ok:0!=0;нет распознанных</td>\n",
       "      <td>[]</td>\n",
       "      <td>0</td>\n",
       "      <td>([[1, рубинпт, 0,610, ов, 3, 2, nan]], ok:1!=1...</td>\n",
       "      <td>[[1, рубинпт, 0,610, ов, 3, 2, nan]]</td>\n",
       "      <td>ok:1!=1;C:ok;Q:ok;PCS:ok;GEM:ok;</td>\n",
       "      <td>195.20; 0.61; price:320;size:0,50-0,99;gem:руб...</td>\n",
       "      <td>195.20</td>\n",
       "    </tr>\n",
       "  </tbody>\n",
       "</table>\n",
       "<p>204 rows × 12 columns</p>\n",
       "</div>"
      ],
      "text/plain": [
       "               Код                                      vst  \\\n",
       "220    ЦБ-00002032                    1РубинПТ-0,230-ОВ+2/2   \n",
       "221    ЦБ-00002033   1рубинПТ-0,770-ОВ+2/2 18кр57-0,37-3/4А   \n",
       "391    ЦБ-00003020   2РубинПТ-0,100-кр+3/3 10кр57-0,14-3/3А   \n",
       "871    ЦБ-00005481     1РубинПТ-0,307-М+2/2 4кр57-0,08-4/5А   \n",
       "949    ЦБ-00005889   2РубинПТ-0,080-кр+2/2 2Кр57-0,030-3/4А   \n",
       "...            ...                                      ...   \n",
       "29577  ЦБ-00189700  1РубинПТ-0,610-ов+3/2 10КР57-0,138-6/6А   \n",
       "29606  ЦБ-00189729  1РубинПТ-0,610-ов+3/2 10КР57-0,138-6/6А   \n",
       "29663  ЦБ-00189787  1РубинПТ-0,610-ов+3/4 10КР57-0,139-6/6А   \n",
       "29717  ЦБ-00189841  1РубинПТ-0,610-ов+3/4 10КР57-0,138-6/6А   \n",
       "29720  ЦБ-00189844  1РубинПТ-0,610-ов+3/2 10КР57-0,138-6/6А   \n",
       "\n",
       "                     make_list_sap_20 list_std_sap20  \\\n",
       "220    ([], ok:0!=0;нет распознанных)             []   \n",
       "221    ([], ok:0!=0;нет распознанных)             []   \n",
       "391    ([], ok:0!=0;нет распознанных)             []   \n",
       "871    ([], ok:0!=0;нет распознанных)             []   \n",
       "949    ([], ok:0!=0;нет распознанных)             []   \n",
       "...                               ...            ...   \n",
       "29577  ([], ok:0!=0;нет распознанных)             []   \n",
       "29606  ([], ok:0!=0;нет распознанных)             []   \n",
       "29663  ([], ok:0!=0;нет распознанных)             []   \n",
       "29717  ([], ok:0!=0;нет распознанных)             []   \n",
       "29720  ([], ok:0!=0;нет распознанных)             []   \n",
       "\n",
       "                   report_sap20 count_price_sap20 prsap_cost  \\\n",
       "220    ok:0!=0;нет распознанных                []          0   \n",
       "221    ok:0!=0;нет распознанных                []          0   \n",
       "391    ok:0!=0;нет распознанных                []          0   \n",
       "871    ok:0!=0;нет распознанных                []          0   \n",
       "949    ok:0!=0;нет распознанных                []          0   \n",
       "...                         ...               ...        ...   \n",
       "29577  ok:0!=0;нет распознанных                []          0   \n",
       "29606  ok:0!=0;нет распознанных                []          0   \n",
       "29663  ok:0!=0;нет распознанных                []          0   \n",
       "29717  ok:0!=0;нет распознанных                []          0   \n",
       "29720  ok:0!=0;нет распознанных                []          0   \n",
       "\n",
       "                                        make_list_ruby20  \\\n",
       "220    ([[1, рубинпт, 0,230, ов, 2, 2, nan]], ok:1!=1...   \n",
       "221    ([[1, рубинпт, 0,770, ов, 2, 2, nan]], ok:1!=1...   \n",
       "391    ([[2, рубинпт, 0,100, кр, 3, 3, nan]], ok:1!=1...   \n",
       "871    ([[1, рубинпт, 0,307, м, 2, 2, nan]], ok:1!=1;...   \n",
       "949    ([[2, рубинпт, 0,080, кр, 2, 2, nan]], ok:1!=1...   \n",
       "...                                                  ...   \n",
       "29577  ([[1, рубинпт, 0,610, ов, 3, 2, nan]], ok:1!=1...   \n",
       "29606  ([[1, рубинпт, 0,610, ов, 3, 2, nan]], ok:1!=1...   \n",
       "29663  ([[1, рубинпт, 0,610, ов, 3, 4, nan]], ok:1!=1...   \n",
       "29717  ([[1, рубинпт, 0,610, ов, 3, 4, nan]], ok:1!=1...   \n",
       "29720  ([[1, рубинпт, 0,610, ов, 3, 2, nan]], ok:1!=1...   \n",
       "\n",
       "                            list_std_ruby20                     report_ruby20  \\\n",
       "220    [[1, рубинпт, 0,230, ов, 2, 2, nan]]  ok:1!=1;C:ok;Q:ok;PCS:ok;GEM:ok;   \n",
       "221    [[1, рубинпт, 0,770, ов, 2, 2, nan]]  ok:1!=1;C:ok;Q:ok;PCS:ok;GEM:ok;   \n",
       "391    [[2, рубинпт, 0,100, кр, 3, 3, nan]]  ok:1!=1;C:ok;Q:ok;PCS:ok;GEM:ok;   \n",
       "871     [[1, рубинпт, 0,307, м, 2, 2, nan]]  ok:1!=1;C:ok;Q:ok;PCS:ok;GEM:ok;   \n",
       "949    [[2, рубинпт, 0,080, кр, 2, 2, nan]]  ok:1!=1;C:ok;Q:ok;PCS:ok;GEM:ok;   \n",
       "...                                     ...                               ...   \n",
       "29577  [[1, рубинпт, 0,610, ов, 3, 2, nan]]  ok:1!=1;C:ok;Q:ok;PCS:ok;GEM:ok;   \n",
       "29606  [[1, рубинпт, 0,610, ов, 3, 2, nan]]  ok:1!=1;C:ok;Q:ok;PCS:ok;GEM:ok;   \n",
       "29663  [[1, рубинпт, 0,610, ов, 3, 4, nan]]  ok:1!=1;C:ok;Q:ok;PCS:ok;GEM:ok;   \n",
       "29717  [[1, рубинпт, 0,610, ов, 3, 4, nan]]  ok:1!=1;C:ok;Q:ok;PCS:ok;GEM:ok;   \n",
       "29720  [[1, рубинпт, 0,610, ов, 3, 2, nan]]  ok:1!=1;C:ok;Q:ok;PCS:ok;GEM:ok;   \n",
       "\n",
       "                                      count_price_ruby20 prruby_cost  \n",
       "220    35.65; 0.23; price:155;size:0,10-0,24;gem:рубинпт       35.65  \n",
       "221    308.00; 0.77; price:400;size:0,50-0,99;gem:руб...      308.00  \n",
       "391       10.00; 0.1; price:100;size:До 0,09;gem:рубинпт       10.00  \n",
       "871    55.26; 0.307; price:180;size:0,25-0,49;gem:руб...       55.26  \n",
       "949      11.20; 0.08; price:140;size:До 0,09;gem:рубинпт       11.20  \n",
       "...                                                  ...         ...  \n",
       "29577  195.20; 0.61; price:320;size:0,50-0,99;gem:руб...      195.20  \n",
       "29606  195.20; 0.61; price:320;size:0,50-0,99;gem:руб...      195.20  \n",
       "29663  109.80; 0.61; price:180;size:0,50-0,99;gem:руб...      109.80  \n",
       "29717  109.80; 0.61; price:180;size:0,50-0,99;gem:руб...      109.80  \n",
       "29720  195.20; 0.61; price:320;size:0,50-0,99;gem:руб...      195.20  \n",
       "\n",
       "[204 rows x 12 columns]"
      ]
     },
     "execution_count": 81,
     "metadata": {},
     "output_type": "execute_result"
    }
   ],
   "source": [
    "df_test[df_test['prruby_cost'] !=0]"
   ]
  },
  {
   "cell_type": "markdown",
   "id": "062f7d64",
   "metadata": {},
   "source": [
    "#### разработка (не запускать)"
   ]
  },
  {
   "cell_type": "code",
   "execution_count": null,
   "id": "6a1b6bde",
   "metadata": {},
   "outputs": [],
   "source": [
    "не запускать"
   ]
  },
  {
   "cell_type": "code",
   "execution_count": 183,
   "id": "a5dfeb8c",
   "metadata": {},
   "outputs": [
    {
     "data": {
      "text/html": [
       "<div>\n",
       "<style scoped>\n",
       "    .dataframe tbody tr th:only-of-type {\n",
       "        vertical-align: middle;\n",
       "    }\n",
       "\n",
       "    .dataframe tbody tr th {\n",
       "        vertical-align: top;\n",
       "    }\n",
       "\n",
       "    .dataframe thead th {\n",
       "        text-align: right;\n",
       "    }\n",
       "</style>\n",
       "<table border=\"1\" class=\"dataframe\">\n",
       "  <thead>\n",
       "    <tr style=\"text-align: right;\">\n",
       "      <th></th>\n",
       "      <th>Код</th>\n",
       "      <th>vst</th>\n",
       "      <th>make_list_sap_20</th>\n",
       "      <th>list_std_sap20</th>\n",
       "      <th>report_sap20</th>\n",
       "      <th>count_price_sap20</th>\n",
       "      <th>prsap_cost</th>\n",
       "      <th>make_list_ruby20</th>\n",
       "      <th>list_std_ruby20</th>\n",
       "      <th>report_ruby20</th>\n",
       "      <th>count_price_ruby20</th>\n",
       "      <th>prruby_cost</th>\n",
       "    </tr>\n",
       "  </thead>\n",
       "  <tbody>\n",
       "    <tr>\n",
       "      <th>0</th>\n",
       "      <td>ЦБ-00000421</td>\n",
       "      <td>1Кр57-0,11-4/3А 1Кр57-0,10-4/3Б</td>\n",
       "      <td>([], ok:0!=0;нет распознанных)</td>\n",
       "      <td>[]</td>\n",
       "      <td>ok:0!=0;нет распознанных</td>\n",
       "      <td>[]</td>\n",
       "      <td>0</td>\n",
       "      <td>([], ok:0!=0;нет распознанных)</td>\n",
       "      <td>[]</td>\n",
       "      <td>ok:0!=0;нет распознанных</td>\n",
       "      <td>[]</td>\n",
       "      <td>0</td>\n",
       "    </tr>\n",
       "    <tr>\n",
       "      <th>1</th>\n",
       "      <td>ЦБ-00000422</td>\n",
       "      <td>2Кр57-0,431-4/5Б</td>\n",
       "      <td>([], ok:0!=0;нет распознанных)</td>\n",
       "      <td>[]</td>\n",
       "      <td>ok:0!=0;нет распознанных</td>\n",
       "      <td>[]</td>\n",
       "      <td>0</td>\n",
       "      <td>([], ok:0!=0;нет распознанных)</td>\n",
       "      <td>[]</td>\n",
       "      <td>ok:0!=0;нет распознанных</td>\n",
       "      <td>[]</td>\n",
       "      <td>0</td>\n",
       "    </tr>\n",
       "    <tr>\n",
       "      <th>2</th>\n",
       "      <td>ЦБ-00000426</td>\n",
       "      <td>1Кр57-0,30-4/4Б 1Кр57-0,35-4/5Б</td>\n",
       "      <td>([], ok:0!=0;нет распознанных)</td>\n",
       "      <td>[]</td>\n",
       "      <td>ok:0!=0;нет распознанных</td>\n",
       "      <td>[]</td>\n",
       "      <td>0</td>\n",
       "      <td>([], ok:0!=0;нет распознанных)</td>\n",
       "      <td>[]</td>\n",
       "      <td>ok:0!=0;нет распознанных</td>\n",
       "      <td>[]</td>\n",
       "      <td>0</td>\n",
       "    </tr>\n",
       "    <tr>\n",
       "      <th>3</th>\n",
       "      <td>ЦБ-00000427</td>\n",
       "      <td>2Кр57-0,44-3/3Б</td>\n",
       "      <td>([], ok:0!=0;нет распознанных)</td>\n",
       "      <td>[]</td>\n",
       "      <td>ok:0!=0;нет распознанных</td>\n",
       "      <td>[]</td>\n",
       "      <td>0</td>\n",
       "      <td>([], ok:0!=0;нет распознанных)</td>\n",
       "      <td>[]</td>\n",
       "      <td>ok:0!=0;нет распознанных</td>\n",
       "      <td>[]</td>\n",
       "      <td>0</td>\n",
       "    </tr>\n",
       "    <tr>\n",
       "      <th>4</th>\n",
       "      <td>ЦБ-00000428</td>\n",
       "      <td>2Кр57-0,427-4/3Б</td>\n",
       "      <td>([], ok:0!=0;нет распознанных)</td>\n",
       "      <td>[]</td>\n",
       "      <td>ok:0!=0;нет распознанных</td>\n",
       "      <td>[]</td>\n",
       "      <td>0</td>\n",
       "      <td>([], ok:0!=0;нет распознанных)</td>\n",
       "      <td>[]</td>\n",
       "      <td>ok:0!=0;нет распознанных</td>\n",
       "      <td>[]</td>\n",
       "      <td>0</td>\n",
       "    </tr>\n",
       "    <tr>\n",
       "      <th>...</th>\n",
       "      <td>...</td>\n",
       "      <td>...</td>\n",
       "      <td>...</td>\n",
       "      <td>...</td>\n",
       "      <td>...</td>\n",
       "      <td>...</td>\n",
       "      <td>...</td>\n",
       "      <td>...</td>\n",
       "      <td>...</td>\n",
       "      <td>...</td>\n",
       "      <td>...</td>\n",
       "      <td>...</td>\n",
       "    </tr>\n",
       "    <tr>\n",
       "      <th>34504</th>\n",
       "      <td>ЦБ-00219618</td>\n",
       "      <td>1МодГ-3,410-6/7А 6Кр57-0,140-5/5А 8Кр57-0,150-...</td>\n",
       "      <td>([], ok:0!=0;нет распознанных)</td>\n",
       "      <td>[]</td>\n",
       "      <td>ok:0!=0;нет распознанных</td>\n",
       "      <td>[]</td>\n",
       "      <td>0</td>\n",
       "      <td>([], ok:0!=0;нет распознанных)</td>\n",
       "      <td>[]</td>\n",
       "      <td>ok:0!=0;нет распознанных</td>\n",
       "      <td>[]</td>\n",
       "      <td>0</td>\n",
       "    </tr>\n",
       "    <tr>\n",
       "      <th>34505</th>\n",
       "      <td>ЦБ-00219619</td>\n",
       "      <td>1Кр57-1,790-9-4/8А 8Кр57-0,680-5/5А 10Кр57-0,3...</td>\n",
       "      <td>([], ok:0!=0;нет распознанных)</td>\n",
       "      <td>[]</td>\n",
       "      <td>ok:0!=0;нет распознанных</td>\n",
       "      <td>[]</td>\n",
       "      <td>0</td>\n",
       "      <td>([], ok:0!=0;нет распознанных)</td>\n",
       "      <td>[]</td>\n",
       "      <td>ok:0!=0;нет распознанных</td>\n",
       "      <td>[]</td>\n",
       "      <td>0</td>\n",
       "    </tr>\n",
       "    <tr>\n",
       "      <th>34506</th>\n",
       "      <td>ЦБ-00219620</td>\n",
       "      <td>1МодИ-1,020-6/7А 2Кр57-0,020-5/5А 42Кр57-0,490...</td>\n",
       "      <td>([], ok:0!=0;нет распознанных)</td>\n",
       "      <td>[]</td>\n",
       "      <td>ok:0!=0;нет распознанных</td>\n",
       "      <td>[]</td>\n",
       "      <td>0</td>\n",
       "      <td>([], ok:0!=0;нет распознанных)</td>\n",
       "      <td>[]</td>\n",
       "      <td>ok:0!=0;нет распознанных</td>\n",
       "      <td>[]</td>\n",
       "      <td>0</td>\n",
       "    </tr>\n",
       "    <tr>\n",
       "      <th>34507</th>\n",
       "      <td>ЦБ-00219621</td>\n",
       "      <td>1Кр57-1,000-4/3А 28Кр57-0,490-5/5А 2Кр57-0,010...</td>\n",
       "      <td>([], ok:0!=0;нет распознанных)</td>\n",
       "      <td>[]</td>\n",
       "      <td>ok:0!=0;нет распознанных</td>\n",
       "      <td>[]</td>\n",
       "      <td>0</td>\n",
       "      <td>([], ok:0!=0;нет распознанных)</td>\n",
       "      <td>[]</td>\n",
       "      <td>ok:0!=0;нет распознанных</td>\n",
       "      <td>[]</td>\n",
       "      <td>0</td>\n",
       "    </tr>\n",
       "    <tr>\n",
       "      <th>34508</th>\n",
       "      <td>ЦБ-00219622</td>\n",
       "      <td>1Кр57-1,020-6/7аА 4Кр57-0,030-5/5А 2Кр57-0,050...</td>\n",
       "      <td>([], ok:0!=0;нет распознанных)</td>\n",
       "      <td>[]</td>\n",
       "      <td>ok:0!=0;нет распознанных</td>\n",
       "      <td>[]</td>\n",
       "      <td>0</td>\n",
       "      <td>([], ok:0!=0;нет распознанных)</td>\n",
       "      <td>[]</td>\n",
       "      <td>ok:0!=0;нет распознанных</td>\n",
       "      <td>[]</td>\n",
       "      <td>0</td>\n",
       "    </tr>\n",
       "  </tbody>\n",
       "</table>\n",
       "<p>34509 rows × 12 columns</p>\n",
       "</div>"
      ],
      "text/plain": [
       "               Код                                                vst  \\\n",
       "0      ЦБ-00000421                    1Кр57-0,11-4/3А 1Кр57-0,10-4/3Б   \n",
       "1      ЦБ-00000422                                   2Кр57-0,431-4/5Б   \n",
       "2      ЦБ-00000426                    1Кр57-0,30-4/4Б 1Кр57-0,35-4/5Б   \n",
       "3      ЦБ-00000427                                    2Кр57-0,44-3/3Б   \n",
       "4      ЦБ-00000428                                   2Кр57-0,427-4/3Б   \n",
       "...            ...                                                ...   \n",
       "34504  ЦБ-00219618  1МодГ-3,410-6/7А 6Кр57-0,140-5/5А 8Кр57-0,150-...   \n",
       "34505  ЦБ-00219619  1Кр57-1,790-9-4/8А 8Кр57-0,680-5/5А 10Кр57-0,3...   \n",
       "34506  ЦБ-00219620  1МодИ-1,020-6/7А 2Кр57-0,020-5/5А 42Кр57-0,490...   \n",
       "34507  ЦБ-00219621  1Кр57-1,000-4/3А 28Кр57-0,490-5/5А 2Кр57-0,010...   \n",
       "34508  ЦБ-00219622  1Кр57-1,020-6/7аА 4Кр57-0,030-5/5А 2Кр57-0,050...   \n",
       "\n",
       "                     make_list_sap_20 list_std_sap20  \\\n",
       "0      ([], ok:0!=0;нет распознанных)             []   \n",
       "1      ([], ok:0!=0;нет распознанных)             []   \n",
       "2      ([], ok:0!=0;нет распознанных)             []   \n",
       "3      ([], ok:0!=0;нет распознанных)             []   \n",
       "4      ([], ok:0!=0;нет распознанных)             []   \n",
       "...                               ...            ...   \n",
       "34504  ([], ok:0!=0;нет распознанных)             []   \n",
       "34505  ([], ok:0!=0;нет распознанных)             []   \n",
       "34506  ([], ok:0!=0;нет распознанных)             []   \n",
       "34507  ([], ok:0!=0;нет распознанных)             []   \n",
       "34508  ([], ok:0!=0;нет распознанных)             []   \n",
       "\n",
       "                   report_sap20 count_price_sap20 prsap_cost  \\\n",
       "0      ok:0!=0;нет распознанных                []          0   \n",
       "1      ok:0!=0;нет распознанных                []          0   \n",
       "2      ok:0!=0;нет распознанных                []          0   \n",
       "3      ok:0!=0;нет распознанных                []          0   \n",
       "4      ok:0!=0;нет распознанных                []          0   \n",
       "...                         ...               ...        ...   \n",
       "34504  ok:0!=0;нет распознанных                []          0   \n",
       "34505  ok:0!=0;нет распознанных                []          0   \n",
       "34506  ok:0!=0;нет распознанных                []          0   \n",
       "34507  ok:0!=0;нет распознанных                []          0   \n",
       "34508  ok:0!=0;нет распознанных                []          0   \n",
       "\n",
       "                     make_list_ruby20 list_std_ruby20  \\\n",
       "0      ([], ok:0!=0;нет распознанных)              []   \n",
       "1      ([], ok:0!=0;нет распознанных)              []   \n",
       "2      ([], ok:0!=0;нет распознанных)              []   \n",
       "3      ([], ok:0!=0;нет распознанных)              []   \n",
       "4      ([], ok:0!=0;нет распознанных)              []   \n",
       "...                               ...             ...   \n",
       "34504  ([], ok:0!=0;нет распознанных)              []   \n",
       "34505  ([], ok:0!=0;нет распознанных)              []   \n",
       "34506  ([], ok:0!=0;нет распознанных)              []   \n",
       "34507  ([], ok:0!=0;нет распознанных)              []   \n",
       "34508  ([], ok:0!=0;нет распознанных)              []   \n",
       "\n",
       "                  report_ruby20 count_price_ruby20 prruby_cost  \n",
       "0      ok:0!=0;нет распознанных                 []           0  \n",
       "1      ok:0!=0;нет распознанных                 []           0  \n",
       "2      ok:0!=0;нет распознанных                 []           0  \n",
       "3      ok:0!=0;нет распознанных                 []           0  \n",
       "4      ok:0!=0;нет распознанных                 []           0  \n",
       "...                         ...                ...         ...  \n",
       "34504  ok:0!=0;нет распознанных                 []           0  \n",
       "34505  ok:0!=0;нет распознанных                 []           0  \n",
       "34506  ok:0!=0;нет распознанных                 []           0  \n",
       "34507  ok:0!=0;нет распознанных                 []           0  \n",
       "34508  ok:0!=0;нет распознанных                 []           0  \n",
       "\n",
       "[34509 rows x 12 columns]"
      ]
     },
     "execution_count": 183,
     "metadata": {},
     "output_type": "execute_result"
    }
   ],
   "source": [
    "df_test"
   ]
  },
  {
   "cell_type": "markdown",
   "id": "f5db00f7",
   "metadata": {},
   "source": [
    "### Массовая прогонка  изумрудов"
   ]
  },
  {
   "cell_type": "code",
   "execution_count": 83,
   "id": "6ed3a62f",
   "metadata": {},
   "outputs": [],
   "source": [
    "#  результат функции (рапорт применения прейскуранта) \n",
    "df_test['count_price_ruby20']=df_test['make_list_ruby20'].apply(lambda x: price_sap_ruby.count_price_report(x))\n",
    "# прейскурантая стоимсоть float или ошибка \n",
    "df_test['prruby_cost'] = df_test['count_price_ruby20'].apply(lambda x: 0 if len(x)==0 else x.split(\";\")[0]) #map(len)!=0]\n",
    "# результат функции (стандартный лист, рапорт распознавания ) \n",
    "df_test['make_list_em20'] = df_test.vst.apply(lambda x: price_em.list2std_em_sap_ruby(price_em.vst2list(x)))\n",
    "# стандартный лист\n",
    "df_test['list_std_em20'] = df_test['make_list_em20'].apply(lambda x: x[0])\n",
    "# рапорт распознавания \n",
    "df_test['report_em20'] = df_test['make_list_em20'].apply(lambda x: x[1])\n",
    "# не стандартный лист (только изумруд)\n",
    "df_test['prem_vst2list'] = df_test.vst.map(price_em.vst2list)\n",
    "#  результат функции (рапорт применения прейскуранта) \n",
    "df_test['count_price_em20']=df_test['prem_vst2list'].map(price_em.check_vstlist)\n",
    "# прейскурантая стоимсоть float или ошибка \n",
    "#df_test['prem_cost'] = df_test['prem_cost'] = df_test['count_price_em20'].apply(lambda x: float(x.split(';')[0].replace('prcost:','').replace(',',''))  if type(x)==type('s')else 0)\n",
    "# прейскурантая стоимсоть float или ошибка \n",
    "#df_test['prem_cost'] = df_test['prem_cost'] = df_test['count_price_em20'].apply(lambda x: float(x.split(';')[0].replace('prcost:','').replace(',',''))  if type(x)==type('s')else 0)\n",
    "df_test['prem_cost'] = df_test['count_price_em20'].apply(lambda x: 0 if len(x)==0 else x.split(\";\")[0]) #map(len)!=0]"
   ]
  },
  {
   "cell_type": "code",
   "execution_count": 84,
   "id": "1bdec321",
   "metadata": {},
   "outputs": [
    {
     "data": {
      "text/html": [
       "<div>\n",
       "<style scoped>\n",
       "    .dataframe tbody tr th:only-of-type {\n",
       "        vertical-align: middle;\n",
       "    }\n",
       "\n",
       "    .dataframe tbody tr th {\n",
       "        vertical-align: top;\n",
       "    }\n",
       "\n",
       "    .dataframe thead th {\n",
       "        text-align: right;\n",
       "    }\n",
       "</style>\n",
       "<table border=\"1\" class=\"dataframe\">\n",
       "  <thead>\n",
       "    <tr style=\"text-align: right;\">\n",
       "      <th></th>\n",
       "      <th>Код</th>\n",
       "      <th>vst</th>\n",
       "      <th>make_list_sap_20</th>\n",
       "      <th>list_std_sap20</th>\n",
       "      <th>report_sap20</th>\n",
       "      <th>count_price_sap20</th>\n",
       "      <th>prsap_cost</th>\n",
       "      <th>make_list_ruby20</th>\n",
       "      <th>list_std_ruby20</th>\n",
       "      <th>report_ruby20</th>\n",
       "      <th>count_price_ruby20</th>\n",
       "      <th>prruby_cost</th>\n",
       "      <th>make_list_em20</th>\n",
       "      <th>list_std_em20</th>\n",
       "      <th>report_em20</th>\n",
       "      <th>prem_vst2list</th>\n",
       "      <th>count_price_em20</th>\n",
       "      <th>prem_cost</th>\n",
       "    </tr>\n",
       "  </thead>\n",
       "  <tbody>\n",
       "    <tr>\n",
       "      <th>218</th>\n",
       "      <td>ЦБ-00002028</td>\n",
       "      <td>4изумрудПМ-0,100-НРООв+3/Г2 12кр57-0,19-2/2А</td>\n",
       "      <td>([], ok:0!=0;нет распознанных)</td>\n",
       "      <td>[]</td>\n",
       "      <td>ok:0!=0;нет распознанных</td>\n",
       "      <td>[]</td>\n",
       "      <td>0</td>\n",
       "      <td>([], ok:0!=0;нет распознанных)</td>\n",
       "      <td>[]</td>\n",
       "      <td>ok:0!=0;нет распознанных</td>\n",
       "      <td>[]</td>\n",
       "      <td>0</td>\n",
       "      <td>([[4, изумрудпм, 0,100, нроов, 3, Г2, nan]], C...</td>\n",
       "      <td>[[4, изумрудпм, 0,100, нроов, 3, Г2, nan]]</td>\n",
       "      <td>C:ok;Q:ok;PCS:ok;GEM:ok;</td>\n",
       "      <td>[(4, изумрудПМ, 0,100, НРООв, 3/Г2)]</td>\n",
       "      <td>9.00; 0.1; price:90;size:до 0,09;gem:изумрудпм</td>\n",
       "      <td>9.00</td>\n",
       "    </tr>\n",
       "    <tr>\n",
       "      <th>368</th>\n",
       "      <td>ЦБ-00002875</td>\n",
       "      <td>1ИзумрудПМ-1,490-Багет+4/Г2 6Кр57-0,07-3/3А</td>\n",
       "      <td>([], ok:0!=0;нет распознанных)</td>\n",
       "      <td>[]</td>\n",
       "      <td>ok:0!=0;нет распознанных</td>\n",
       "      <td>[]</td>\n",
       "      <td>0</td>\n",
       "      <td>([], ok:0!=0;нет распознанных)</td>\n",
       "      <td>[]</td>\n",
       "      <td>ok:0!=0;нет распознанных</td>\n",
       "      <td>[]</td>\n",
       "      <td>0</td>\n",
       "      <td>([[1, изумрудпм, 1,490, багет, 4, Г2, nan]], C...</td>\n",
       "      <td>[[1, изумрудпм, 1,490, багет, 4, Г2, nan]]</td>\n",
       "      <td>C:ok;Q:ok;PCS:ok;GEM:ok;</td>\n",
       "      <td>[(1, ИзумрудПМ, 1,490, Багет, 4/Г2)]</td>\n",
       "      <td>178.80; 1.49; price:120;size:1,00-1,49;gem:изу...</td>\n",
       "      <td>178.80</td>\n",
       "    </tr>\n",
       "    <tr>\n",
       "      <th>878</th>\n",
       "      <td>ЦБ-00005502</td>\n",
       "      <td>1ИзумрудПМ-0,230-НРОКр+5/Г3 4кр57-0,06-2/2А</td>\n",
       "      <td>([], ok:0!=0;нет распознанных)</td>\n",
       "      <td>[]</td>\n",
       "      <td>ok:0!=0;нет распознанных</td>\n",
       "      <td>[]</td>\n",
       "      <td>0</td>\n",
       "      <td>([], ok:0!=0;нет распознанных)</td>\n",
       "      <td>[]</td>\n",
       "      <td>ok:0!=0;нет распознанных</td>\n",
       "      <td>[]</td>\n",
       "      <td>0</td>\n",
       "      <td>([[1, изумрудпм, 0,230, нрокр, 5, Г3, nan]], C...</td>\n",
       "      <td>[[1, изумрудпм, 0,230, нрокр, 5, Г3, nan]]</td>\n",
       "      <td>C:ok;Q:ok;PCS:ok;GEM:ok;</td>\n",
       "      <td>[(1, ИзумрудПМ, 0,230, НРОКр, 5/Г3)]</td>\n",
       "      <td>2.76; 0.23; price:12;size:0,10-0,24;gem:изумрудпм</td>\n",
       "      <td>2.76</td>\n",
       "    </tr>\n",
       "    <tr>\n",
       "      <th>945</th>\n",
       "      <td>ЦБ-00005885</td>\n",
       "      <td>6ИзумрудПМ-0,141-НРОКр+4/Г3 6Кр57-0,036-3/4А</td>\n",
       "      <td>([], ok:0!=0;нет распознанных)</td>\n",
       "      <td>[]</td>\n",
       "      <td>ok:0!=0;нет распознанных</td>\n",
       "      <td>[]</td>\n",
       "      <td>0</td>\n",
       "      <td>([], ok:0!=0;нет распознанных)</td>\n",
       "      <td>[]</td>\n",
       "      <td>ok:0!=0;нет распознанных</td>\n",
       "      <td>[]</td>\n",
       "      <td>0</td>\n",
       "      <td>([[6, изумрудпм, 0,141, нрокр, 4, Г3, nan]], C...</td>\n",
       "      <td>[[6, изумрудпм, 0,141, нрокр, 4, Г3, nan]]</td>\n",
       "      <td>C:ok;Q:ok;PCS:ok;GEM:ok;</td>\n",
       "      <td>[(6, ИзумрудПМ, 0,141, НРОКр, 4/Г3)]</td>\n",
       "      <td>4.23; 0.141; price:30;size:до 0,09;gem:изумрудпм</td>\n",
       "      <td>4.23</td>\n",
       "    </tr>\n",
       "    <tr>\n",
       "      <th>958</th>\n",
       "      <td>ЦБ-00005898</td>\n",
       "      <td>1ИзумрудПМ-0,043-кв21+3/Г2 2Кр57-0,0215-3/3А</td>\n",
       "      <td>([], ok:0!=0;нет распознанных)</td>\n",
       "      <td>[]</td>\n",
       "      <td>ok:0!=0;нет распознанных</td>\n",
       "      <td>[]</td>\n",
       "      <td>0</td>\n",
       "      <td>([], ok:0!=0;нет распознанных)</td>\n",
       "      <td>[]</td>\n",
       "      <td>ok:0!=0;нет распознанных</td>\n",
       "      <td>[]</td>\n",
       "      <td>0</td>\n",
       "      <td>([[1, изумрудпм, 0,043, кв21, 3, Г2, nan]], C:...</td>\n",
       "      <td>[[1, изумрудпм, 0,043, кв21, 3, Г2, nan]]</td>\n",
       "      <td>C:ok;Q:ok;PCS:ok;GEM:ok;</td>\n",
       "      <td>[(1, ИзумрудПМ, 0,043, кв21, 3/Г2)]</td>\n",
       "      <td>3.87; 0.043; price:90;size:до 0,09;gem:изумрудпм</td>\n",
       "      <td>3.87</td>\n",
       "    </tr>\n",
       "    <tr>\n",
       "      <th>...</th>\n",
       "      <td>...</td>\n",
       "      <td>...</td>\n",
       "      <td>...</td>\n",
       "      <td>...</td>\n",
       "      <td>...</td>\n",
       "      <td>...</td>\n",
       "      <td>...</td>\n",
       "      <td>...</td>\n",
       "      <td>...</td>\n",
       "      <td>...</td>\n",
       "      <td>...</td>\n",
       "      <td>...</td>\n",
       "      <td>...</td>\n",
       "      <td>...</td>\n",
       "      <td>...</td>\n",
       "      <td>...</td>\n",
       "      <td>...</td>\n",
       "      <td>...</td>\n",
       "    </tr>\n",
       "    <tr>\n",
       "      <th>29386</th>\n",
       "      <td>ЦБ-00188572</td>\n",
       "      <td>1ИзумрудПМ-0,236-НРОКр+3/Г3 4КР57-0,121-4/5А</td>\n",
       "      <td>([], ok:0!=0;нет распознанных)</td>\n",
       "      <td>[]</td>\n",
       "      <td>ok:0!=0;нет распознанных</td>\n",
       "      <td>[]</td>\n",
       "      <td>0</td>\n",
       "      <td>([], ok:0!=0;нет распознанных)</td>\n",
       "      <td>[]</td>\n",
       "      <td>ok:0!=0;нет распознанных</td>\n",
       "      <td>[]</td>\n",
       "      <td>0</td>\n",
       "      <td>([[1, изумрудпм, 0,236, нрокр, 3, Г3, nan]], C...</td>\n",
       "      <td>[[1, изумрудпм, 0,236, нрокр, 3, Г3, nan]]</td>\n",
       "      <td>C:ok;Q:ok;PCS:ok;GEM:ok;</td>\n",
       "      <td>[(1, ИзумрудПМ, 0,236, НРОКр, 3/Г3)]</td>\n",
       "      <td>23.60; 0.236; price:100;size:0,10-0,24;gem:изу...</td>\n",
       "      <td>23.60</td>\n",
       "    </tr>\n",
       "    <tr>\n",
       "      <th>29408</th>\n",
       "      <td>ЦБ-00188650</td>\n",
       "      <td>1ИзумрудПМ-0,170-НРОГ+3/Г2 18КР57-0,180-4/3А</td>\n",
       "      <td>([], ok:0!=0;нет распознанных)</td>\n",
       "      <td>[]</td>\n",
       "      <td>ok:0!=0;нет распознанных</td>\n",
       "      <td>[]</td>\n",
       "      <td>0</td>\n",
       "      <td>([], ok:0!=0;нет распознанных)</td>\n",
       "      <td>[]</td>\n",
       "      <td>ok:0!=0;нет распознанных</td>\n",
       "      <td>[]</td>\n",
       "      <td>0</td>\n",
       "      <td>([[1, изумрудпм, 0,170, нрог, 3, Г2, nan]], C:...</td>\n",
       "      <td>[[1, изумрудпм, 0,170, нрог, 3, Г2, nan]]</td>\n",
       "      <td>C:ok;Q:ok;PCS:ok;GEM:ok;</td>\n",
       "      <td>[(1, ИзумрудПМ, 0,170, НРОГ, 3/Г2)]</td>\n",
       "      <td>20.40; 0.17; price:120;size:0,10-0,24;gem:изум...</td>\n",
       "      <td>20.40</td>\n",
       "    </tr>\n",
       "    <tr>\n",
       "      <th>29492</th>\n",
       "      <td>ЦБ-00188885</td>\n",
       "      <td>1ИзумрудПМ-0,380-НРОПр+3/Г2 4КР57-0,080-4/6А</td>\n",
       "      <td>([], ok:0!=0;нет распознанных)</td>\n",
       "      <td>[]</td>\n",
       "      <td>ok:0!=0;нет распознанных</td>\n",
       "      <td>[]</td>\n",
       "      <td>0</td>\n",
       "      <td>([], ok:0!=0;нет распознанных)</td>\n",
       "      <td>[]</td>\n",
       "      <td>ok:0!=0;нет распознанных</td>\n",
       "      <td>[]</td>\n",
       "      <td>0</td>\n",
       "      <td>([[1, изумрудпм, 0,380, нропр, 3, Г2, nan]], C...</td>\n",
       "      <td>[[1, изумрудпм, 0,380, нропр, 3, Г2, nan]]</td>\n",
       "      <td>C:ok;Q:ok;PCS:ok;GEM:ok;</td>\n",
       "      <td>[(1, ИзумрудПМ, 0,380, НРОПр, 3/Г2)]</td>\n",
       "      <td>49.40; 0.38; price:130;size:0,25-0,49;gem:изум...</td>\n",
       "      <td>49.40</td>\n",
       "    </tr>\n",
       "    <tr>\n",
       "      <th>29561</th>\n",
       "      <td>ЦБ-00188958</td>\n",
       "      <td>1ИзумрудПМ-0,370-НРОКр+3/Г3</td>\n",
       "      <td>([], ok:0!=0;нет распознанных)</td>\n",
       "      <td>[]</td>\n",
       "      <td>ok:0!=0;нет распознанных</td>\n",
       "      <td>[]</td>\n",
       "      <td>0</td>\n",
       "      <td>([], ok:0!=0;нет распознанных)</td>\n",
       "      <td>[]</td>\n",
       "      <td>ok:0!=0;нет распознанных</td>\n",
       "      <td>[]</td>\n",
       "      <td>0</td>\n",
       "      <td>([[1, изумрудпм, 0,370, нрокр, 3, Г3, nan]], C...</td>\n",
       "      <td>[[1, изумрудпм, 0,370, нрокр, 3, Г3, nan]]</td>\n",
       "      <td>C:ok;Q:ok;PCS:ok;GEM:ok;</td>\n",
       "      <td>[(1, ИзумрудПМ, 0,370, НРОКр, 3/Г3)]</td>\n",
       "      <td>40.70; 0.37; price:110;size:0,25-0,49;gem:изум...</td>\n",
       "      <td>40.70</td>\n",
       "    </tr>\n",
       "    <tr>\n",
       "      <th>29562</th>\n",
       "      <td>ЦБ-00188959</td>\n",
       "      <td>1ИзумрудПМ-0,070-НРОКр+3/Г3</td>\n",
       "      <td>([], ok:0!=0;нет распознанных)</td>\n",
       "      <td>[]</td>\n",
       "      <td>ok:0!=0;нет распознанных</td>\n",
       "      <td>[]</td>\n",
       "      <td>0</td>\n",
       "      <td>([], ok:0!=0;нет распознанных)</td>\n",
       "      <td>[]</td>\n",
       "      <td>ok:0!=0;нет распознанных</td>\n",
       "      <td>[]</td>\n",
       "      <td>0</td>\n",
       "      <td>([[1, изумрудпм, 0,070, нрокр, 3, Г3, nan]], C...</td>\n",
       "      <td>[[1, изумрудпм, 0,070, нрокр, 3, Г3, nan]]</td>\n",
       "      <td>C:ok;Q:ok;PCS:ok;GEM:ok;</td>\n",
       "      <td>[(1, ИзумрудПМ, 0,070, НРОКр, 3/Г3)]</td>\n",
       "      <td>4.55; 0.07; price:65;size:до 0,09;gem:изумрудпм</td>\n",
       "      <td>4.55</td>\n",
       "    </tr>\n",
       "  </tbody>\n",
       "</table>\n",
       "<p>305 rows × 18 columns</p>\n",
       "</div>"
      ],
      "text/plain": [
       "               Код                                           vst  \\\n",
       "218    ЦБ-00002028  4изумрудПМ-0,100-НРООв+3/Г2 12кр57-0,19-2/2А   \n",
       "368    ЦБ-00002875   1ИзумрудПМ-1,490-Багет+4/Г2 6Кр57-0,07-3/3А   \n",
       "878    ЦБ-00005502   1ИзумрудПМ-0,230-НРОКр+5/Г3 4кр57-0,06-2/2А   \n",
       "945    ЦБ-00005885  6ИзумрудПМ-0,141-НРОКр+4/Г3 6Кр57-0,036-3/4А   \n",
       "958    ЦБ-00005898  1ИзумрудПМ-0,043-кв21+3/Г2 2Кр57-0,0215-3/3А   \n",
       "...            ...                                           ...   \n",
       "29386  ЦБ-00188572  1ИзумрудПМ-0,236-НРОКр+3/Г3 4КР57-0,121-4/5А   \n",
       "29408  ЦБ-00188650  1ИзумрудПМ-0,170-НРОГ+3/Г2 18КР57-0,180-4/3А   \n",
       "29492  ЦБ-00188885  1ИзумрудПМ-0,380-НРОПр+3/Г2 4КР57-0,080-4/6А   \n",
       "29561  ЦБ-00188958                   1ИзумрудПМ-0,370-НРОКр+3/Г3   \n",
       "29562  ЦБ-00188959                   1ИзумрудПМ-0,070-НРОКр+3/Г3   \n",
       "\n",
       "                     make_list_sap_20 list_std_sap20  \\\n",
       "218    ([], ok:0!=0;нет распознанных)             []   \n",
       "368    ([], ok:0!=0;нет распознанных)             []   \n",
       "878    ([], ok:0!=0;нет распознанных)             []   \n",
       "945    ([], ok:0!=0;нет распознанных)             []   \n",
       "958    ([], ok:0!=0;нет распознанных)             []   \n",
       "...                               ...            ...   \n",
       "29386  ([], ok:0!=0;нет распознанных)             []   \n",
       "29408  ([], ok:0!=0;нет распознанных)             []   \n",
       "29492  ([], ok:0!=0;нет распознанных)             []   \n",
       "29561  ([], ok:0!=0;нет распознанных)             []   \n",
       "29562  ([], ok:0!=0;нет распознанных)             []   \n",
       "\n",
       "                   report_sap20 count_price_sap20 prsap_cost  \\\n",
       "218    ok:0!=0;нет распознанных                []          0   \n",
       "368    ok:0!=0;нет распознанных                []          0   \n",
       "878    ok:0!=0;нет распознанных                []          0   \n",
       "945    ok:0!=0;нет распознанных                []          0   \n",
       "958    ok:0!=0;нет распознанных                []          0   \n",
       "...                         ...               ...        ...   \n",
       "29386  ok:0!=0;нет распознанных                []          0   \n",
       "29408  ok:0!=0;нет распознанных                []          0   \n",
       "29492  ok:0!=0;нет распознанных                []          0   \n",
       "29561  ok:0!=0;нет распознанных                []          0   \n",
       "29562  ok:0!=0;нет распознанных                []          0   \n",
       "\n",
       "                     make_list_ruby20 list_std_ruby20  \\\n",
       "218    ([], ok:0!=0;нет распознанных)              []   \n",
       "368    ([], ok:0!=0;нет распознанных)              []   \n",
       "878    ([], ok:0!=0;нет распознанных)              []   \n",
       "945    ([], ok:0!=0;нет распознанных)              []   \n",
       "958    ([], ok:0!=0;нет распознанных)              []   \n",
       "...                               ...             ...   \n",
       "29386  ([], ok:0!=0;нет распознанных)              []   \n",
       "29408  ([], ok:0!=0;нет распознанных)              []   \n",
       "29492  ([], ok:0!=0;нет распознанных)              []   \n",
       "29561  ([], ok:0!=0;нет распознанных)              []   \n",
       "29562  ([], ok:0!=0;нет распознанных)              []   \n",
       "\n",
       "                  report_ruby20 count_price_ruby20 prruby_cost  \\\n",
       "218    ok:0!=0;нет распознанных                 []           0   \n",
       "368    ok:0!=0;нет распознанных                 []           0   \n",
       "878    ok:0!=0;нет распознанных                 []           0   \n",
       "945    ok:0!=0;нет распознанных                 []           0   \n",
       "958    ok:0!=0;нет распознанных                 []           0   \n",
       "...                         ...                ...         ...   \n",
       "29386  ok:0!=0;нет распознанных                 []           0   \n",
       "29408  ok:0!=0;нет распознанных                 []           0   \n",
       "29492  ok:0!=0;нет распознанных                 []           0   \n",
       "29561  ok:0!=0;нет распознанных                 []           0   \n",
       "29562  ok:0!=0;нет распознанных                 []           0   \n",
       "\n",
       "                                          make_list_em20  \\\n",
       "218    ([[4, изумрудпм, 0,100, нроов, 3, Г2, nan]], C...   \n",
       "368    ([[1, изумрудпм, 1,490, багет, 4, Г2, nan]], C...   \n",
       "878    ([[1, изумрудпм, 0,230, нрокр, 5, Г3, nan]], C...   \n",
       "945    ([[6, изумрудпм, 0,141, нрокр, 4, Г3, nan]], C...   \n",
       "958    ([[1, изумрудпм, 0,043, кв21, 3, Г2, nan]], C:...   \n",
       "...                                                  ...   \n",
       "29386  ([[1, изумрудпм, 0,236, нрокр, 3, Г3, nan]], C...   \n",
       "29408  ([[1, изумрудпм, 0,170, нрог, 3, Г2, nan]], C:...   \n",
       "29492  ([[1, изумрудпм, 0,380, нропр, 3, Г2, nan]], C...   \n",
       "29561  ([[1, изумрудпм, 0,370, нрокр, 3, Г3, nan]], C...   \n",
       "29562  ([[1, изумрудпм, 0,070, нрокр, 3, Г3, nan]], C...   \n",
       "\n",
       "                                    list_std_em20               report_em20  \\\n",
       "218    [[4, изумрудпм, 0,100, нроов, 3, Г2, nan]]  C:ok;Q:ok;PCS:ok;GEM:ok;   \n",
       "368    [[1, изумрудпм, 1,490, багет, 4, Г2, nan]]  C:ok;Q:ok;PCS:ok;GEM:ok;   \n",
       "878    [[1, изумрудпм, 0,230, нрокр, 5, Г3, nan]]  C:ok;Q:ok;PCS:ok;GEM:ok;   \n",
       "945    [[6, изумрудпм, 0,141, нрокр, 4, Г3, nan]]  C:ok;Q:ok;PCS:ok;GEM:ok;   \n",
       "958     [[1, изумрудпм, 0,043, кв21, 3, Г2, nan]]  C:ok;Q:ok;PCS:ok;GEM:ok;   \n",
       "...                                           ...                       ...   \n",
       "29386  [[1, изумрудпм, 0,236, нрокр, 3, Г3, nan]]  C:ok;Q:ok;PCS:ok;GEM:ok;   \n",
       "29408   [[1, изумрудпм, 0,170, нрог, 3, Г2, nan]]  C:ok;Q:ok;PCS:ok;GEM:ok;   \n",
       "29492  [[1, изумрудпм, 0,380, нропр, 3, Г2, nan]]  C:ok;Q:ok;PCS:ok;GEM:ok;   \n",
       "29561  [[1, изумрудпм, 0,370, нрокр, 3, Г3, nan]]  C:ok;Q:ok;PCS:ok;GEM:ok;   \n",
       "29562  [[1, изумрудпм, 0,070, нрокр, 3, Г3, nan]]  C:ok;Q:ok;PCS:ok;GEM:ok;   \n",
       "\n",
       "                              prem_vst2list  \\\n",
       "218    [(4, изумрудПМ, 0,100, НРООв, 3/Г2)]   \n",
       "368    [(1, ИзумрудПМ, 1,490, Багет, 4/Г2)]   \n",
       "878    [(1, ИзумрудПМ, 0,230, НРОКр, 5/Г3)]   \n",
       "945    [(6, ИзумрудПМ, 0,141, НРОКр, 4/Г3)]   \n",
       "958     [(1, ИзумрудПМ, 0,043, кв21, 3/Г2)]   \n",
       "...                                     ...   \n",
       "29386  [(1, ИзумрудПМ, 0,236, НРОКр, 3/Г3)]   \n",
       "29408   [(1, ИзумрудПМ, 0,170, НРОГ, 3/Г2)]   \n",
       "29492  [(1, ИзумрудПМ, 0,380, НРОПр, 3/Г2)]   \n",
       "29561  [(1, ИзумрудПМ, 0,370, НРОКр, 3/Г3)]   \n",
       "29562  [(1, ИзумрудПМ, 0,070, НРОКр, 3/Г3)]   \n",
       "\n",
       "                                        count_price_em20 prem_cost  \n",
       "218       9.00; 0.1; price:90;size:до 0,09;gem:изумрудпм      9.00  \n",
       "368    178.80; 1.49; price:120;size:1,00-1,49;gem:изу...    178.80  \n",
       "878    2.76; 0.23; price:12;size:0,10-0,24;gem:изумрудпм      2.76  \n",
       "945     4.23; 0.141; price:30;size:до 0,09;gem:изумрудпм      4.23  \n",
       "958     3.87; 0.043; price:90;size:до 0,09;gem:изумрудпм      3.87  \n",
       "...                                                  ...       ...  \n",
       "29386  23.60; 0.236; price:100;size:0,10-0,24;gem:изу...     23.60  \n",
       "29408  20.40; 0.17; price:120;size:0,10-0,24;gem:изум...     20.40  \n",
       "29492  49.40; 0.38; price:130;size:0,25-0,49;gem:изум...     49.40  \n",
       "29561  40.70; 0.37; price:110;size:0,25-0,49;gem:изум...     40.70  \n",
       "29562    4.55; 0.07; price:65;size:до 0,09;gem:изумрудпм      4.55  \n",
       "\n",
       "[305 rows x 18 columns]"
      ]
     },
     "execution_count": 84,
     "metadata": {},
     "output_type": "execute_result"
    }
   ],
   "source": [
    "df_test[df_test['prem_cost'] !=0]"
   ]
  },
  {
   "cell_type": "markdown",
   "id": "63a5dd57",
   "metadata": {},
   "source": [
    "#### разработка (не запускать)"
   ]
  },
  {
   "cell_type": "code",
   "execution_count": null,
   "id": "37e9c9e8",
   "metadata": {},
   "outputs": [],
   "source": [
    "не запускать"
   ]
  },
  {
   "cell_type": "code",
   "execution_count": 35,
   "id": "128ae317",
   "metadata": {},
   "outputs": [],
   "source": [
    "\n",
    "\n",
    "#  результат функции (рапорт применения прейскуранта) \n",
    "df_test['count_price_ruby20']=df_test['make_list_ruby20'].apply(lambda x: price_sap_ruby.count_price_report(x))\n",
    "# прейскурантая стоимсоть float или ошибка \n",
    "df_test['prruby_cost'] = df_test['count_price_ruby20'].apply(lambda x: 0 if len(x)==0 else x.split(\";\")[0]) #map(len)!=0]"
   ]
  },
  {
   "cell_type": "code",
   "execution_count": null,
   "id": "0f690f3a",
   "metadata": {},
   "outputs": [],
   "source": []
  },
  {
   "cell_type": "code",
   "execution_count": 213,
   "id": "2bfe7fb1",
   "metadata": {},
   "outputs": [],
   "source": [
    "# результат функции (стандартный лист, рапорт распознавания ) \n",
    "df_test['make_list_em20'] = df_test.vst.apply(lambda x: price_em.list2std_em_sap_ruby(price_em.vst2list(x)))"
   ]
  },
  {
   "cell_type": "code",
   "execution_count": 210,
   "id": "c34c9f3e",
   "metadata": {},
   "outputs": [],
   "source": [
    "# стандартный лист\n",
    "df_test['list_std_em20'] = df_test['make_list_em20'].apply(lambda x: x[0])"
   ]
  },
  {
   "cell_type": "code",
   "execution_count": 211,
   "id": "07cca5e4",
   "metadata": {},
   "outputs": [],
   "source": [
    "# рапорт распознавания \n",
    "df_test['report_em20'] = df_test['make_list_em20'].apply(lambda x: x[1])"
   ]
  },
  {
   "cell_type": "code",
   "execution_count": 214,
   "id": "fd9b92ef",
   "metadata": {},
   "outputs": [],
   "source": [
    "df_test['prem_vst2list'] = df_test.vst.map(price_em.vst2list)"
   ]
  },
  {
   "cell_type": "code",
   "execution_count": 215,
   "id": "86809513",
   "metadata": {},
   "outputs": [],
   "source": [
    "#  результат функции (рапорт применения прейскуранта) \n",
    "df_test['count_price_em20']=df_test['prem_vst2list'].map(price_em.check_vstlist)"
   ]
  },
  {
   "cell_type": "code",
   "execution_count": 218,
   "id": "bca8cfdf",
   "metadata": {},
   "outputs": [],
   "source": [
    "# прейскурантая стоимсоть float или ошибка \n",
    "df_test['prem_cost'] = df_test['prem_cost'] = df_test['count_price_em20'].apply(lambda x: float(x.split(';')[0].replace('prcost:','').replace(',',''))  if type(x)==type('s')else 0)"
   ]
  },
  {
   "cell_type": "code",
   "execution_count": null,
   "id": "ba85b8b1",
   "metadata": {},
   "outputs": [],
   "source": []
  },
  {
   "cell_type": "code",
   "execution_count": null,
   "id": "9b663981",
   "metadata": {},
   "outputs": [],
   "source": []
  },
  {
   "cell_type": "code",
   "execution_count": 153,
   "id": "90ad3e57",
   "metadata": {},
   "outputs": [],
   "source": [
    "df_test['prem_vst2list'] = df_test.vst.map(price_em.vst2list)"
   ]
  },
  {
   "cell_type": "code",
   "execution_count": 154,
   "id": "ebcd37b2",
   "metadata": {},
   "outputs": [],
   "source": [
    "df_test['prem_res'] = df_test['prem_vst2list'].map(price_em.check_vstlist)"
   ]
  },
  {
   "cell_type": "code",
   "execution_count": 155,
   "id": "a8d354df",
   "metadata": {
    "scrolled": true
   },
   "outputs": [
    {
     "data": {
      "text/html": [
       "<div>\n",
       "<style scoped>\n",
       "    .dataframe tbody tr th:only-of-type {\n",
       "        vertical-align: middle;\n",
       "    }\n",
       "\n",
       "    .dataframe tbody tr th {\n",
       "        vertical-align: top;\n",
       "    }\n",
       "\n",
       "    .dataframe thead th {\n",
       "        text-align: right;\n",
       "    }\n",
       "</style>\n",
       "<table border=\"1\" class=\"dataframe\">\n",
       "  <thead>\n",
       "    <tr style=\"text-align: right;\">\n",
       "      <th></th>\n",
       "      <th>Код</th>\n",
       "      <th>vst</th>\n",
       "      <th>prem_vst2list</th>\n",
       "      <th>prem_res</th>\n",
       "    </tr>\n",
       "  </thead>\n",
       "  <tbody>\n",
       "    <tr>\n",
       "      <th>0</th>\n",
       "      <td>ЦБ-00000421</td>\n",
       "      <td>1Кр57-0,11-4/3А 1Кр57-0,10-4/3Б</td>\n",
       "      <td>[]</td>\n",
       "      <td>[]</td>\n",
       "    </tr>\n",
       "    <tr>\n",
       "      <th>1</th>\n",
       "      <td>ЦБ-00000422</td>\n",
       "      <td>2Кр57-0,431-4/5Б</td>\n",
       "      <td>[]</td>\n",
       "      <td>[]</td>\n",
       "    </tr>\n",
       "    <tr>\n",
       "      <th>2</th>\n",
       "      <td>ЦБ-00000426</td>\n",
       "      <td>1Кр57-0,30-4/4Б 1Кр57-0,35-4/5Б</td>\n",
       "      <td>[]</td>\n",
       "      <td>[]</td>\n",
       "    </tr>\n",
       "    <tr>\n",
       "      <th>3</th>\n",
       "      <td>ЦБ-00000427</td>\n",
       "      <td>2Кр57-0,44-3/3Б</td>\n",
       "      <td>[]</td>\n",
       "      <td>[]</td>\n",
       "    </tr>\n",
       "    <tr>\n",
       "      <th>4</th>\n",
       "      <td>ЦБ-00000428</td>\n",
       "      <td>2Кр57-0,427-4/3Б</td>\n",
       "      <td>[]</td>\n",
       "      <td>[]</td>\n",
       "    </tr>\n",
       "    <tr>\n",
       "      <th>...</th>\n",
       "      <td>...</td>\n",
       "      <td>...</td>\n",
       "      <td>...</td>\n",
       "      <td>...</td>\n",
       "    </tr>\n",
       "    <tr>\n",
       "      <th>34504</th>\n",
       "      <td>ЦБ-00219618</td>\n",
       "      <td>1МодГ-3,410-6/7А 6Кр57-0,140-5/5А 8Кр57-0,150-...</td>\n",
       "      <td>[]</td>\n",
       "      <td>[]</td>\n",
       "    </tr>\n",
       "    <tr>\n",
       "      <th>34505</th>\n",
       "      <td>ЦБ-00219619</td>\n",
       "      <td>1Кр57-1,790-9-4/8А 8Кр57-0,680-5/5А 10Кр57-0,3...</td>\n",
       "      <td>[]</td>\n",
       "      <td>[]</td>\n",
       "    </tr>\n",
       "    <tr>\n",
       "      <th>34506</th>\n",
       "      <td>ЦБ-00219620</td>\n",
       "      <td>1МодИ-1,020-6/7А 2Кр57-0,020-5/5А 42Кр57-0,490...</td>\n",
       "      <td>[]</td>\n",
       "      <td>[]</td>\n",
       "    </tr>\n",
       "    <tr>\n",
       "      <th>34507</th>\n",
       "      <td>ЦБ-00219621</td>\n",
       "      <td>1Кр57-1,000-4/3А 28Кр57-0,490-5/5А 2Кр57-0,010...</td>\n",
       "      <td>[]</td>\n",
       "      <td>[]</td>\n",
       "    </tr>\n",
       "    <tr>\n",
       "      <th>34508</th>\n",
       "      <td>ЦБ-00219622</td>\n",
       "      <td>1Кр57-1,020-6/7аА 4Кр57-0,030-5/5А 2Кр57-0,050...</td>\n",
       "      <td>[]</td>\n",
       "      <td>[]</td>\n",
       "    </tr>\n",
       "  </tbody>\n",
       "</table>\n",
       "<p>34509 rows × 4 columns</p>\n",
       "</div>"
      ],
      "text/plain": [
       "               Код                                                vst  \\\n",
       "0      ЦБ-00000421                    1Кр57-0,11-4/3А 1Кр57-0,10-4/3Б   \n",
       "1      ЦБ-00000422                                   2Кр57-0,431-4/5Б   \n",
       "2      ЦБ-00000426                    1Кр57-0,30-4/4Б 1Кр57-0,35-4/5Б   \n",
       "3      ЦБ-00000427                                    2Кр57-0,44-3/3Б   \n",
       "4      ЦБ-00000428                                   2Кр57-0,427-4/3Б   \n",
       "...            ...                                                ...   \n",
       "34504  ЦБ-00219618  1МодГ-3,410-6/7А 6Кр57-0,140-5/5А 8Кр57-0,150-...   \n",
       "34505  ЦБ-00219619  1Кр57-1,790-9-4/8А 8Кр57-0,680-5/5А 10Кр57-0,3...   \n",
       "34506  ЦБ-00219620  1МодИ-1,020-6/7А 2Кр57-0,020-5/5А 42Кр57-0,490...   \n",
       "34507  ЦБ-00219621  1Кр57-1,000-4/3А 28Кр57-0,490-5/5А 2Кр57-0,010...   \n",
       "34508  ЦБ-00219622  1Кр57-1,020-6/7аА 4Кр57-0,030-5/5А 2Кр57-0,050...   \n",
       "\n",
       "      prem_vst2list prem_res  \n",
       "0                []       []  \n",
       "1                []       []  \n",
       "2                []       []  \n",
       "3                []       []  \n",
       "4                []       []  \n",
       "...             ...      ...  \n",
       "34504            []       []  \n",
       "34505            []       []  \n",
       "34506            []       []  \n",
       "34507            []       []  \n",
       "34508            []       []  \n",
       "\n",
       "[34509 rows x 4 columns]"
      ]
     },
     "execution_count": 155,
     "metadata": {},
     "output_type": "execute_result"
    }
   ],
   "source": [
    "df_test[~df_test['prem_vst2list'].isna()]"
   ]
  },
  {
   "cell_type": "code",
   "execution_count": 156,
   "id": "4d3d7bec",
   "metadata": {},
   "outputs": [],
   "source": [
    "#pd.set_option('display.float_format', '{:.3f}'.format)"
   ]
  },
  {
   "cell_type": "code",
   "execution_count": 157,
   "id": "dbe14b91",
   "metadata": {},
   "outputs": [],
   "source": [
    "#pd.options.display.float_format = '{:,.2f}'.format"
   ]
  },
  {
   "cell_type": "code",
   "execution_count": 158,
   "id": "fa6bf6a5",
   "metadata": {},
   "outputs": [
    {
     "data": {
      "text/plain": [
       "9.0"
      ]
     },
     "execution_count": 158,
     "metadata": {},
     "output_type": "execute_result"
    }
   ],
   "source": [
    "float('prcost:9.00$'.replace('prcost:','').replace('$',''))"
   ]
  },
  {
   "cell_type": "code",
   "execution_count": 159,
   "id": "52e08ee8",
   "metadata": {},
   "outputs": [],
   "source": [
    "df_test['prem_cost'] = df_test['prem_res'].apply(lambda x: float(x.split(';')[0].replace('prcost:','').replace(',',''))  if type(x)==type('s')else 0)"
   ]
  },
  {
   "cell_type": "code",
   "execution_count": 160,
   "id": "dfb79eb9",
   "metadata": {
    "scrolled": true
   },
   "outputs": [
    {
     "data": {
      "text/html": [
       "<div>\n",
       "<style scoped>\n",
       "    .dataframe tbody tr th:only-of-type {\n",
       "        vertical-align: middle;\n",
       "    }\n",
       "\n",
       "    .dataframe tbody tr th {\n",
       "        vertical-align: top;\n",
       "    }\n",
       "\n",
       "    .dataframe thead th {\n",
       "        text-align: right;\n",
       "    }\n",
       "</style>\n",
       "<table border=\"1\" class=\"dataframe\">\n",
       "  <thead>\n",
       "    <tr style=\"text-align: right;\">\n",
       "      <th></th>\n",
       "      <th>Код</th>\n",
       "      <th>vst</th>\n",
       "      <th>prem_vst2list</th>\n",
       "      <th>prem_res</th>\n",
       "      <th>prem_cost</th>\n",
       "    </tr>\n",
       "  </thead>\n",
       "  <tbody>\n",
       "    <tr>\n",
       "      <th>0</th>\n",
       "      <td>ЦБ-00000421</td>\n",
       "      <td>1Кр57-0,11-4/3А 1Кр57-0,10-4/3Б</td>\n",
       "      <td>[]</td>\n",
       "      <td>[]</td>\n",
       "      <td>0.0</td>\n",
       "    </tr>\n",
       "    <tr>\n",
       "      <th>1</th>\n",
       "      <td>ЦБ-00000422</td>\n",
       "      <td>2Кр57-0,431-4/5Б</td>\n",
       "      <td>[]</td>\n",
       "      <td>[]</td>\n",
       "      <td>0.0</td>\n",
       "    </tr>\n",
       "    <tr>\n",
       "      <th>2</th>\n",
       "      <td>ЦБ-00000426</td>\n",
       "      <td>1Кр57-0,30-4/4Б 1Кр57-0,35-4/5Б</td>\n",
       "      <td>[]</td>\n",
       "      <td>[]</td>\n",
       "      <td>0.0</td>\n",
       "    </tr>\n",
       "    <tr>\n",
       "      <th>3</th>\n",
       "      <td>ЦБ-00000427</td>\n",
       "      <td>2Кр57-0,44-3/3Б</td>\n",
       "      <td>[]</td>\n",
       "      <td>[]</td>\n",
       "      <td>0.0</td>\n",
       "    </tr>\n",
       "    <tr>\n",
       "      <th>4</th>\n",
       "      <td>ЦБ-00000428</td>\n",
       "      <td>2Кр57-0,427-4/3Б</td>\n",
       "      <td>[]</td>\n",
       "      <td>[]</td>\n",
       "      <td>0.0</td>\n",
       "    </tr>\n",
       "    <tr>\n",
       "      <th>...</th>\n",
       "      <td>...</td>\n",
       "      <td>...</td>\n",
       "      <td>...</td>\n",
       "      <td>...</td>\n",
       "      <td>...</td>\n",
       "    </tr>\n",
       "    <tr>\n",
       "      <th>34504</th>\n",
       "      <td>ЦБ-00219618</td>\n",
       "      <td>1МодГ-3,410-6/7А 6Кр57-0,140-5/5А 8Кр57-0,150-...</td>\n",
       "      <td>[]</td>\n",
       "      <td>[]</td>\n",
       "      <td>0.0</td>\n",
       "    </tr>\n",
       "    <tr>\n",
       "      <th>34505</th>\n",
       "      <td>ЦБ-00219619</td>\n",
       "      <td>1Кр57-1,790-9-4/8А 8Кр57-0,680-5/5А 10Кр57-0,3...</td>\n",
       "      <td>[]</td>\n",
       "      <td>[]</td>\n",
       "      <td>0.0</td>\n",
       "    </tr>\n",
       "    <tr>\n",
       "      <th>34506</th>\n",
       "      <td>ЦБ-00219620</td>\n",
       "      <td>1МодИ-1,020-6/7А 2Кр57-0,020-5/5А 42Кр57-0,490...</td>\n",
       "      <td>[]</td>\n",
       "      <td>[]</td>\n",
       "      <td>0.0</td>\n",
       "    </tr>\n",
       "    <tr>\n",
       "      <th>34507</th>\n",
       "      <td>ЦБ-00219621</td>\n",
       "      <td>1Кр57-1,000-4/3А 28Кр57-0,490-5/5А 2Кр57-0,010...</td>\n",
       "      <td>[]</td>\n",
       "      <td>[]</td>\n",
       "      <td>0.0</td>\n",
       "    </tr>\n",
       "    <tr>\n",
       "      <th>34508</th>\n",
       "      <td>ЦБ-00219622</td>\n",
       "      <td>1Кр57-1,020-6/7аА 4Кр57-0,030-5/5А 2Кр57-0,050...</td>\n",
       "      <td>[]</td>\n",
       "      <td>[]</td>\n",
       "      <td>0.0</td>\n",
       "    </tr>\n",
       "  </tbody>\n",
       "</table>\n",
       "<p>34509 rows × 5 columns</p>\n",
       "</div>"
      ],
      "text/plain": [
       "               Код                                                vst  \\\n",
       "0      ЦБ-00000421                    1Кр57-0,11-4/3А 1Кр57-0,10-4/3Б   \n",
       "1      ЦБ-00000422                                   2Кр57-0,431-4/5Б   \n",
       "2      ЦБ-00000426                    1Кр57-0,30-4/4Б 1Кр57-0,35-4/5Б   \n",
       "3      ЦБ-00000427                                    2Кр57-0,44-3/3Б   \n",
       "4      ЦБ-00000428                                   2Кр57-0,427-4/3Б   \n",
       "...            ...                                                ...   \n",
       "34504  ЦБ-00219618  1МодГ-3,410-6/7А 6Кр57-0,140-5/5А 8Кр57-0,150-...   \n",
       "34505  ЦБ-00219619  1Кр57-1,790-9-4/8А 8Кр57-0,680-5/5А 10Кр57-0,3...   \n",
       "34506  ЦБ-00219620  1МодИ-1,020-6/7А 2Кр57-0,020-5/5А 42Кр57-0,490...   \n",
       "34507  ЦБ-00219621  1Кр57-1,000-4/3А 28Кр57-0,490-5/5А 2Кр57-0,010...   \n",
       "34508  ЦБ-00219622  1Кр57-1,020-6/7аА 4Кр57-0,030-5/5А 2Кр57-0,050...   \n",
       "\n",
       "      prem_vst2list prem_res  prem_cost  \n",
       "0                []       []        0.0  \n",
       "1                []       []        0.0  \n",
       "2                []       []        0.0  \n",
       "3                []       []        0.0  \n",
       "4                []       []        0.0  \n",
       "...             ...      ...        ...  \n",
       "34504            []       []        0.0  \n",
       "34505            []       []        0.0  \n",
       "34506            []       []        0.0  \n",
       "34507            []       []        0.0  \n",
       "34508            []       []        0.0  \n",
       "\n",
       "[34509 rows x 5 columns]"
      ]
     },
     "execution_count": 160,
     "metadata": {},
     "output_type": "execute_result"
    }
   ],
   "source": [
    "df_test[~df_test['prem_vst2list'].isna()]"
   ]
  },
  {
   "cell_type": "markdown",
   "id": "42800681",
   "metadata": {},
   "source": [
    "## Суммирование прейскурантов em sap ruby"
   ]
  },
  {
   "cell_type": "code",
   "execution_count": 85,
   "id": "2162c8ae",
   "metadata": {},
   "outputs": [],
   "source": [
    "def float_numeric(s):\n",
    "    if type(s) == type('s'):\n",
    "        return float(s) if s.replace('.','').isnumeric() else s\n",
    "    else:\n",
    "        return s"
   ]
  },
  {
   "cell_type": "code",
   "execution_count": 86,
   "id": "93f79721",
   "metadata": {},
   "outputs": [],
   "source": [
    "#def sum_str(l):\n",
    "#    try:\n",
    "#        res = sum([float(x) for x in l])\n",
    "#        return res\n",
    "#    except:\n",
    "#        return ';'.join(re.findall(\"\\d*[A-z]+\\d*\",' '.join([str(x) for x in l])))\n"
   ]
  },
  {
   "cell_type": "code",
   "execution_count": 87,
   "id": "f74eaf2e",
   "metadata": {},
   "outputs": [],
   "source": [
    "def sum_str(l):\n",
    "    sumstr = '' \n",
    "    for x in [z for z in l if type(z) == type('s')]:\n",
    "        if not (x.replace('.','').isnumeric()):\n",
    "            sumstr+=x+';'\n",
    "    if sumstr == '':\n",
    "        return sum([float(x) for x in l if x!=np.nan])\n",
    "    else:\n",
    "        return sumstr\n",
    "    \n",
    "    '''\n",
    "    try:\n",
    "        res = sum([float(x) for x in l])\n",
    "        return res\n",
    "    except:\n",
    "        return ';'.join(re.findall(\"\\d*[A-z]+\\d*\",' '.join([str(x) for x in l])))\n",
    "'''"
   ]
  },
  {
   "cell_type": "markdown",
   "id": "ba9d0733",
   "metadata": {},
   "source": [
    "### Само суммирование"
   ]
  },
  {
   "cell_type": "code",
   "execution_count": 88,
   "id": "1f2b3a9d",
   "metadata": {},
   "outputs": [],
   "source": [
    "df_test['prruby_cost2'] = df_test['prruby_cost'].map(float_numeric)"
   ]
  },
  {
   "cell_type": "code",
   "execution_count": 89,
   "id": "1bda6a15",
   "metadata": {},
   "outputs": [],
   "source": [
    "df_test['prsap_cost2'] = df_test['prsap_cost'].map(float_numeric)"
   ]
  },
  {
   "cell_type": "code",
   "execution_count": 90,
   "id": "3bcf44af",
   "metadata": {},
   "outputs": [],
   "source": [
    "df_test['prem_cost2'] = df_test['prem_cost'].map(float_numeric)"
   ]
  },
  {
   "cell_type": "code",
   "execution_count": 91,
   "id": "865d6b68",
   "metadata": {},
   "outputs": [],
   "source": [
    "df_test['sum_pr2'] = df_test[['prruby_cost2','prsap_cost2','prem_cost2' ]].apply(lambda x: sum_str(x), axis=1)"
   ]
  },
  {
   "cell_type": "code",
   "execution_count": 92,
   "id": "952fd7ae",
   "metadata": {},
   "outputs": [],
   "source": [
    "# суммирование листа всех ДК\n",
    "df_test['list_sum'] = df_test[['list_std_ruby20','list_std_sap20','list_std_em20' ]]\\\n",
    ".apply(lambda x: x['list_std_ruby20']+x['list_std_sap20']+x['list_std_em20'], axis=1)"
   ]
  },
  {
   "cell_type": "code",
   "execution_count": 93,
   "id": "8b6692df",
   "metadata": {},
   "outputs": [],
   "source": [
    "#суммирование репортов всех ДК\n",
    "df_test['report_sum'] = df_test[['report_ruby20','report_sap20','report_em20' ]]\\\n",
    ".apply(lambda x: f\"r:{x['report_ruby20']}; s:{x['report_sap20']}; e:{x['report_em20']}\", axis=1)"
   ]
  },
  {
   "cell_type": "code",
   "execution_count": null,
   "id": "5741e4db",
   "metadata": {},
   "outputs": [],
   "source": []
  },
  {
   "cell_type": "code",
   "execution_count": 337,
   "id": "dad3de21",
   "metadata": {},
   "outputs": [],
   "source": [
    "#Проверки прогон"
   ]
  },
  {
   "cell_type": "code",
   "execution_count": 341,
   "id": "671be29d",
   "metadata": {},
   "outputs": [
    {
     "data": {
      "text/html": [
       "<div>\n",
       "<style scoped>\n",
       "    .dataframe tbody tr th:only-of-type {\n",
       "        vertical-align: middle;\n",
       "    }\n",
       "\n",
       "    .dataframe tbody tr th {\n",
       "        vertical-align: top;\n",
       "    }\n",
       "\n",
       "    .dataframe thead th {\n",
       "        text-align: right;\n",
       "    }\n",
       "</style>\n",
       "<table border=\"1\" class=\"dataframe\">\n",
       "  <thead>\n",
       "    <tr style=\"text-align: right;\">\n",
       "      <th></th>\n",
       "      <th>Код</th>\n",
       "      <th>prruby_cost2</th>\n",
       "      <th>prsap_cost2</th>\n",
       "      <th>prem_cost2</th>\n",
       "      <th>sum_pr2</th>\n",
       "    </tr>\n",
       "  </thead>\n",
       "  <tbody>\n",
       "    <tr>\n",
       "      <th>19871</th>\n",
       "      <td>ЦБ-00160691</td>\n",
       "      <td>29.4</td>\n",
       "      <td>43.55</td>\n",
       "      <td>14.4</td>\n",
       "      <td>87.35</td>\n",
       "    </tr>\n",
       "  </tbody>\n",
       "</table>\n",
       "</div>"
      ],
      "text/plain": [
       "               Код prruby_cost2 prsap_cost2 prem_cost2 sum_pr2\n",
       "19871  ЦБ-00160691         29.4       43.55       14.4   87.35"
      ]
     },
     "execution_count": 341,
     "metadata": {},
     "output_type": "execute_result"
    }
   ],
   "source": [
    "df_test[['Код','prruby_cost2','prsap_cost2','prem_cost2','sum_pr2' ]][(df_test['prsap_cost2']!=0)&(df_test['prruby_cost2']!=0)]"
   ]
  },
  {
   "cell_type": "code",
   "execution_count": 336,
   "id": "d88aac77",
   "metadata": {},
   "outputs": [
    {
     "data": {
      "text/plain": [
       "Index(['Код', 'vst', 'make_list_sap_20', 'list_std_sap20', 'report_sap20',\n",
       "       'count_price_sap20', 'prsap_cost', 'make_list_ruby20',\n",
       "       'list_std_ruby20', 'report_ruby20', 'count_price_ruby20', 'prruby_cost',\n",
       "       'make_list_em20', 'list_std_em20', 'report_em20', 'prem_vst2list',\n",
       "       'count_price_em20', 'prem_cost', 'prruby_cost2', 'prsap_cost2',\n",
       "       'sum_pr2', 'prem_cost2', 'report_sum', 'list_sum'],\n",
       "      dtype='object')"
      ]
     },
     "execution_count": 336,
     "metadata": {},
     "output_type": "execute_result"
    }
   ],
   "source": [
    "df_test.columns"
   ]
  },
  {
   "cell_type": "code",
   "execution_count": 94,
   "id": "b597edea",
   "metadata": {},
   "outputs": [
    {
     "data": {
      "text/plain": [
       "array(['r:ok:0!=0;нет распознанных; s:ok:0!=0;нет распознанных; e:нет распознанных',\n",
       "       'r:ok:0!=0;нет распознанных; s:ok:1!=1;C:ok;Q:ok;PCS:ok;GEM:ok;; e:нет распознанных',\n",
       "       'r:ok:0!=0;нет распознанных; s:ok:0!=0;нет распознанных; e:C:ok;Q:ok;PCS:ok;GEM:ok;',\n",
       "       'r:ok:1!=1;C:ok;Q:ok;PCS:ok;GEM:ok;; s:ok:0!=0;нет распознанных; e:нет распознанных',\n",
       "       'r:ok:0!=0;нет распознанных; s:ok:1!=1;C:ok;Q:error:3а;PCS:ok;GEM:ok;; e:нет распознанных',\n",
       "       'r:ok:1!=1;C:ok;Q:ok;PCS:ok;GEM:ok;; s:ok:0!=0;нет распознанных; e:C:ok;Q:ok;PCS:ok;GEM:ok;',\n",
       "       'r:ok:1!=1;C:ok;Q:ok;PCS:error:;GEM:ok;; s:ok:0!=0;нет распознанных; e:нет распознанных',\n",
       "       'r:ok:1!=1;C:ok;Q:error:3а;PCS:ok;GEM:ok;; s:ok:0!=0;нет распознанных; e:нет распознанных',\n",
       "       'r:ok:0!=0;нет распознанных; s:ok:0!=0;нет распознанных; e:C:ok;Q:error:г;PCS:ok;GEM:ok;',\n",
       "       'r:ok:4!=4;C:ok;Q:error:5а;PCS:ok;GEM:ok;; s:ok:0!=0;нет распознанных; e:нет распознанных',\n",
       "       'r:ok:0!=0;нет распознанных; s:ok:2!=2;C:ok;Q:ok;PCS:ok;GEM:ok;; e:нет распознанных',\n",
       "       'r:ok:0!=0;нет распознанных; s:ok:1!=1;C:ok;Q:error:2а;PCS:ok;GEM:ok;; e:нет распознанных',\n",
       "       'r:ok:0!=0;нет распознанных; s:bylens:error:0!=1;нет распознанных; e:нет распознанных',\n",
       "       'r:ok:0!=0;нет распознанных; s:ok:1!=1;C:ok;Q:error:1г;PCS:ok;GEM:ok;; e:нет распознанных',\n",
       "       'r:bylens:error:0!=1;нет распознанных; s:ok:0!=0;нет распознанных; e:нет распознанных',\n",
       "       'r:ok:0!=0;нет распознанных; s:ok:1!=1;C:error:4в;Q:ok;PCS:ok;GEM:ok;; e:нет распознанных',\n",
       "       'r:ok:0!=0;нет распознанных; s:ok:1!=1;C:ok;Q:ok;PCS:error:;GEM:ok;; e:нет распознанных',\n",
       "       'r:ok:0!=0;нет распознанных; s:bylens:error:4!=2;C:ok;Q:ok;PCS:ok;GEM:error:сапфир сапфир;; e:нет распознанных',\n",
       "       'r:ok:0!=0;нет распознанных; s:ok:4!=4;C:ok;Q:ok;PCS:ok;GEM:ok;; e:нет распознанных',\n",
       "       'r:ok:1!=1;C:ok;Q:error:г2;PCS:ok;GEM:ok;; s:ok:0!=0;нет распознанных; e:C:ok;Q:ok;PCS:ok;GEM:ok;',\n",
       "       'r:ok:0!=0;нет распознанных; s:ok:0!=0;нет распознанных; e:C:ok;Q:ok;PCS:error:;GEM:ok;',\n",
       "       'r:ok:0!=0;нет распознанных; s:ok:5!=5;C:ok;Q:ok;PCS:ok;GEM:ok;; e:C:ok;Q:ok;PCS:ok;GEM:ok;',\n",
       "       'r:ok:1!=1;C:ok;Q:ok;PCS:ok;GEM:ok;; s:ok:3!=3;C:ok;Q:ok;PCS:ok;GEM:ok;; e:C:ok;Q:ok;PCS:ok;GEM:ok;',\n",
       "       'r:ok:1!=1;C:ok;Q:error:г4;PCS:ok;GEM:ok;; s:ok:0!=0;нет распознанных; e:нет распознанных',\n",
       "       'r:ok:1!=1;C:ok;Q:ok;PCS:ok;GEM:ok;; s:ok:0!=0;нет распознанных; e:C:ok;Q:error:к3;PCS:ok;GEM:ok;',\n",
       "       'r:ok:2!=2;C:ok;Q:ok;PCS:ok;GEM:ok;; s:ok:0!=0;нет распознанных; e:нет распознанных',\n",
       "       'r:ok:1!=1;C:ok;Q:error:5а;PCS:ok;GEM:ok;; s:ok:0!=0;нет распознанных; e:нет распознанных',\n",
       "       'r:ok:0!=0;нет распознанных; s:ok:1!=1;C:ok;Q:ok;PCS:ok;GEM:error:сапфирпм;; e:нет распознанных'],\n",
       "      dtype=object)"
      ]
     },
     "execution_count": 94,
     "metadata": {},
     "output_type": "execute_result"
    }
   ],
   "source": [
    "df_test.report_sum.unique()"
   ]
  },
  {
   "cell_type": "code",
   "execution_count": null,
   "id": "d53dd00c",
   "metadata": {},
   "outputs": [],
   "source": [
    "#разработка em 15:18"
   ]
  },
  {
   "cell_type": "code",
   "execution_count": 95,
   "id": "e88ab618",
   "metadata": {},
   "outputs": [
    {
     "data": {
      "text/html": [
       "<div>\n",
       "<style scoped>\n",
       "    .dataframe tbody tr th:only-of-type {\n",
       "        vertical-align: middle;\n",
       "    }\n",
       "\n",
       "    .dataframe tbody tr th {\n",
       "        vertical-align: top;\n",
       "    }\n",
       "\n",
       "    .dataframe thead th {\n",
       "        text-align: right;\n",
       "    }\n",
       "</style>\n",
       "<table border=\"1\" class=\"dataframe\">\n",
       "  <thead>\n",
       "    <tr style=\"text-align: right;\">\n",
       "      <th></th>\n",
       "      <th>Код</th>\n",
       "      <th>prruby_cost2</th>\n",
       "      <th>prsap_cost2</th>\n",
       "      <th>prem_cost2</th>\n",
       "      <th>sum_pr2</th>\n",
       "    </tr>\n",
       "  </thead>\n",
       "  <tbody>\n",
       "    <tr>\n",
       "      <th>965</th>\n",
       "      <td>ЦБ-00005905</td>\n",
       "      <td>0</td>\n",
       "      <td>имеется ошибка, или подозрение см report</td>\n",
       "      <td>0</td>\n",
       "      <td>имеется ошибка, или подозрение см report;</td>\n",
       "    </tr>\n",
       "    <tr>\n",
       "      <th>5978</th>\n",
       "      <td>ЦБ-00034422</td>\n",
       "      <td>0</td>\n",
       "      <td>имеется ошибка, или подозрение см report</td>\n",
       "      <td>0</td>\n",
       "      <td>имеется ошибка, или подозрение см report;</td>\n",
       "    </tr>\n",
       "    <tr>\n",
       "      <th>6507</th>\n",
       "      <td>ЦБ-00036164</td>\n",
       "      <td>0</td>\n",
       "      <td>имеется ошибка, или подозрение см report</td>\n",
       "      <td>0</td>\n",
       "      <td>имеется ошибка, или подозрение см report;</td>\n",
       "    </tr>\n",
       "    <tr>\n",
       "      <th>6702</th>\n",
       "      <td>ЦБ-00037248</td>\n",
       "      <td>0</td>\n",
       "      <td>имеется ошибка, или подозрение см report</td>\n",
       "      <td>0</td>\n",
       "      <td>имеется ошибка, или подозрение см report;</td>\n",
       "    </tr>\n",
       "    <tr>\n",
       "      <th>8071</th>\n",
       "      <td>ЦБ-00043873</td>\n",
       "      <td>0</td>\n",
       "      <td>имеется ошибка, или подозрение см report</td>\n",
       "      <td>0</td>\n",
       "      <td>имеется ошибка, или подозрение см report;</td>\n",
       "    </tr>\n",
       "    <tr>\n",
       "      <th>11987</th>\n",
       "      <td>ЦБ-00093208</td>\n",
       "      <td>0</td>\n",
       "      <td>имеется ошибка, или подозрение см report</td>\n",
       "      <td>0</td>\n",
       "      <td>имеется ошибка, или подозрение см report;</td>\n",
       "    </tr>\n",
       "    <tr>\n",
       "      <th>11988</th>\n",
       "      <td>ЦБ-00093210</td>\n",
       "      <td>0</td>\n",
       "      <td>имеется ошибка, или подозрение см report</td>\n",
       "      <td>0</td>\n",
       "      <td>имеется ошибка, или подозрение см report;</td>\n",
       "    </tr>\n",
       "    <tr>\n",
       "      <th>11990</th>\n",
       "      <td>ЦБ-00093214</td>\n",
       "      <td>0</td>\n",
       "      <td>имеется ошибка, или подозрение см report</td>\n",
       "      <td>0</td>\n",
       "      <td>имеется ошибка, или подозрение см report;</td>\n",
       "    </tr>\n",
       "    <tr>\n",
       "      <th>11992</th>\n",
       "      <td>ЦБ-00093216</td>\n",
       "      <td>0</td>\n",
       "      <td>имеется ошибка, или подозрение см report</td>\n",
       "      <td>0</td>\n",
       "      <td>имеется ошибка, или подозрение см report;</td>\n",
       "    </tr>\n",
       "    <tr>\n",
       "      <th>12122</th>\n",
       "      <td>ЦБ-00101518</td>\n",
       "      <td>0</td>\n",
       "      <td>имеется ошибка, или подозрение см report</td>\n",
       "      <td>0</td>\n",
       "      <td>имеется ошибка, или подозрение см report;</td>\n",
       "    </tr>\n",
       "    <tr>\n",
       "      <th>17416</th>\n",
       "      <td>ЦБ-00130114</td>\n",
       "      <td>0</td>\n",
       "      <td>имеется ошибка, или подозрение см report</td>\n",
       "      <td>0</td>\n",
       "      <td>имеется ошибка, или подозрение см report;</td>\n",
       "    </tr>\n",
       "    <tr>\n",
       "      <th>19829</th>\n",
       "      <td>ЦБ-00160647</td>\n",
       "      <td>0</td>\n",
       "      <td>имеется ошибка, или подозрение см report</td>\n",
       "      <td>0</td>\n",
       "      <td>имеется ошибка, или подозрение см report;</td>\n",
       "    </tr>\n",
       "    <tr>\n",
       "      <th>23692</th>\n",
       "      <td>ЦБ-00171198</td>\n",
       "      <td>0</td>\n",
       "      <td>имеется ошибка, или подозрение см report</td>\n",
       "      <td>0</td>\n",
       "      <td>имеется ошибка, или подозрение см report;</td>\n",
       "    </tr>\n",
       "    <tr>\n",
       "      <th>28484</th>\n",
       "      <td>ЦБ-00183444</td>\n",
       "      <td>0</td>\n",
       "      <td>имеется ошибка, или подозрение см report</td>\n",
       "      <td>0</td>\n",
       "      <td>имеется ошибка, или подозрение см report;</td>\n",
       "    </tr>\n",
       "  </tbody>\n",
       "</table>\n",
       "</div>"
      ],
      "text/plain": [
       "               Код prruby_cost2                               prsap_cost2  \\\n",
       "965    ЦБ-00005905            0  имеется ошибка, или подозрение см report   \n",
       "5978   ЦБ-00034422            0  имеется ошибка, или подозрение см report   \n",
       "6507   ЦБ-00036164            0  имеется ошибка, или подозрение см report   \n",
       "6702   ЦБ-00037248            0  имеется ошибка, или подозрение см report   \n",
       "8071   ЦБ-00043873            0  имеется ошибка, или подозрение см report   \n",
       "11987  ЦБ-00093208            0  имеется ошибка, или подозрение см report   \n",
       "11988  ЦБ-00093210            0  имеется ошибка, или подозрение см report   \n",
       "11990  ЦБ-00093214            0  имеется ошибка, или подозрение см report   \n",
       "11992  ЦБ-00093216            0  имеется ошибка, или подозрение см report   \n",
       "12122  ЦБ-00101518            0  имеется ошибка, или подозрение см report   \n",
       "17416  ЦБ-00130114            0  имеется ошибка, или подозрение см report   \n",
       "19829  ЦБ-00160647            0  имеется ошибка, или подозрение см report   \n",
       "23692  ЦБ-00171198            0  имеется ошибка, или подозрение см report   \n",
       "28484  ЦБ-00183444            0  имеется ошибка, или подозрение см report   \n",
       "\n",
       "      prem_cost2                                    sum_pr2  \n",
       "965            0  имеется ошибка, или подозрение см report;  \n",
       "5978           0  имеется ошибка, или подозрение см report;  \n",
       "6507           0  имеется ошибка, или подозрение см report;  \n",
       "6702           0  имеется ошибка, или подозрение см report;  \n",
       "8071           0  имеется ошибка, или подозрение см report;  \n",
       "11987          0  имеется ошибка, или подозрение см report;  \n",
       "11988          0  имеется ошибка, или подозрение см report;  \n",
       "11990          0  имеется ошибка, или подозрение см report;  \n",
       "11992          0  имеется ошибка, или подозрение см report;  \n",
       "12122          0  имеется ошибка, или подозрение см report;  \n",
       "17416          0  имеется ошибка, или подозрение см report;  \n",
       "19829          0  имеется ошибка, или подозрение см report;  \n",
       "23692          0  имеется ошибка, или подозрение см report;  \n",
       "28484          0  имеется ошибка, или подозрение см report;  "
      ]
     },
     "execution_count": 95,
     "metadata": {},
     "output_type": "execute_result"
    }
   ],
   "source": [
    "df_test[['Код','prruby_cost2','prsap_cost2','prem_cost2','sum_pr2' ]]\\\n",
    "[(df_test['prsap_cost2']=='имеется ошибка, или подозрение см report')]"
   ]
  },
  {
   "cell_type": "code",
   "execution_count": 96,
   "id": "a5f4e926",
   "metadata": {},
   "outputs": [
    {
     "data": {
      "text/html": [
       "<div>\n",
       "<style scoped>\n",
       "    .dataframe tbody tr th:only-of-type {\n",
       "        vertical-align: middle;\n",
       "    }\n",
       "\n",
       "    .dataframe tbody tr th {\n",
       "        vertical-align: top;\n",
       "    }\n",
       "\n",
       "    .dataframe thead th {\n",
       "        text-align: right;\n",
       "    }\n",
       "</style>\n",
       "<table border=\"1\" class=\"dataframe\">\n",
       "  <thead>\n",
       "    <tr style=\"text-align: right;\">\n",
       "      <th></th>\n",
       "      <th>Код</th>\n",
       "      <th>prruby_cost2</th>\n",
       "      <th>prsap_cost2</th>\n",
       "      <th>prem_cost2</th>\n",
       "      <th>sum_pr2</th>\n",
       "    </tr>\n",
       "  </thead>\n",
       "  <tbody>\n",
       "    <tr>\n",
       "      <th>965</th>\n",
       "      <td>ЦБ-00005905</td>\n",
       "      <td>0</td>\n",
       "      <td>имеется ошибка, или подозрение см report</td>\n",
       "      <td>0</td>\n",
       "      <td>имеется ошибка, или подозрение см report;</td>\n",
       "    </tr>\n",
       "    <tr>\n",
       "      <th>5978</th>\n",
       "      <td>ЦБ-00034422</td>\n",
       "      <td>0</td>\n",
       "      <td>имеется ошибка, или подозрение см report</td>\n",
       "      <td>0</td>\n",
       "      <td>имеется ошибка, или подозрение см report;</td>\n",
       "    </tr>\n",
       "    <tr>\n",
       "      <th>6507</th>\n",
       "      <td>ЦБ-00036164</td>\n",
       "      <td>0</td>\n",
       "      <td>имеется ошибка, или подозрение см report</td>\n",
       "      <td>0</td>\n",
       "      <td>имеется ошибка, или подозрение см report;</td>\n",
       "    </tr>\n",
       "    <tr>\n",
       "      <th>6702</th>\n",
       "      <td>ЦБ-00037248</td>\n",
       "      <td>0</td>\n",
       "      <td>имеется ошибка, или подозрение см report</td>\n",
       "      <td>0</td>\n",
       "      <td>имеется ошибка, или подозрение см report;</td>\n",
       "    </tr>\n",
       "    <tr>\n",
       "      <th>8071</th>\n",
       "      <td>ЦБ-00043873</td>\n",
       "      <td>0</td>\n",
       "      <td>имеется ошибка, или подозрение см report</td>\n",
       "      <td>0</td>\n",
       "      <td>имеется ошибка, или подозрение см report;</td>\n",
       "    </tr>\n",
       "    <tr>\n",
       "      <th>11987</th>\n",
       "      <td>ЦБ-00093208</td>\n",
       "      <td>0</td>\n",
       "      <td>имеется ошибка, или подозрение см report</td>\n",
       "      <td>0</td>\n",
       "      <td>имеется ошибка, или подозрение см report;</td>\n",
       "    </tr>\n",
       "    <tr>\n",
       "      <th>11988</th>\n",
       "      <td>ЦБ-00093210</td>\n",
       "      <td>0</td>\n",
       "      <td>имеется ошибка, или подозрение см report</td>\n",
       "      <td>0</td>\n",
       "      <td>имеется ошибка, или подозрение см report;</td>\n",
       "    </tr>\n",
       "    <tr>\n",
       "      <th>11990</th>\n",
       "      <td>ЦБ-00093214</td>\n",
       "      <td>0</td>\n",
       "      <td>имеется ошибка, или подозрение см report</td>\n",
       "      <td>0</td>\n",
       "      <td>имеется ошибка, или подозрение см report;</td>\n",
       "    </tr>\n",
       "    <tr>\n",
       "      <th>11992</th>\n",
       "      <td>ЦБ-00093216</td>\n",
       "      <td>0</td>\n",
       "      <td>имеется ошибка, или подозрение см report</td>\n",
       "      <td>0</td>\n",
       "      <td>имеется ошибка, или подозрение см report;</td>\n",
       "    </tr>\n",
       "    <tr>\n",
       "      <th>12122</th>\n",
       "      <td>ЦБ-00101518</td>\n",
       "      <td>0</td>\n",
       "      <td>имеется ошибка, или подозрение см report</td>\n",
       "      <td>0</td>\n",
       "      <td>имеется ошибка, или подозрение см report;</td>\n",
       "    </tr>\n",
       "    <tr>\n",
       "      <th>17416</th>\n",
       "      <td>ЦБ-00130114</td>\n",
       "      <td>0</td>\n",
       "      <td>имеется ошибка, или подозрение см report</td>\n",
       "      <td>0</td>\n",
       "      <td>имеется ошибка, или подозрение см report;</td>\n",
       "    </tr>\n",
       "    <tr>\n",
       "      <th>19829</th>\n",
       "      <td>ЦБ-00160647</td>\n",
       "      <td>0</td>\n",
       "      <td>имеется ошибка, или подозрение см report</td>\n",
       "      <td>0</td>\n",
       "      <td>имеется ошибка, или подозрение см report;</td>\n",
       "    </tr>\n",
       "    <tr>\n",
       "      <th>23692</th>\n",
       "      <td>ЦБ-00171198</td>\n",
       "      <td>0</td>\n",
       "      <td>имеется ошибка, или подозрение см report</td>\n",
       "      <td>0</td>\n",
       "      <td>имеется ошибка, или подозрение см report;</td>\n",
       "    </tr>\n",
       "    <tr>\n",
       "      <th>28484</th>\n",
       "      <td>ЦБ-00183444</td>\n",
       "      <td>0</td>\n",
       "      <td>имеется ошибка, или подозрение см report</td>\n",
       "      <td>0</td>\n",
       "      <td>имеется ошибка, или подозрение см report;</td>\n",
       "    </tr>\n",
       "  </tbody>\n",
       "</table>\n",
       "</div>"
      ],
      "text/plain": [
       "               Код prruby_cost2                               prsap_cost2  \\\n",
       "965    ЦБ-00005905            0  имеется ошибка, или подозрение см report   \n",
       "5978   ЦБ-00034422            0  имеется ошибка, или подозрение см report   \n",
       "6507   ЦБ-00036164            0  имеется ошибка, или подозрение см report   \n",
       "6702   ЦБ-00037248            0  имеется ошибка, или подозрение см report   \n",
       "8071   ЦБ-00043873            0  имеется ошибка, или подозрение см report   \n",
       "11987  ЦБ-00093208            0  имеется ошибка, или подозрение см report   \n",
       "11988  ЦБ-00093210            0  имеется ошибка, или подозрение см report   \n",
       "11990  ЦБ-00093214            0  имеется ошибка, или подозрение см report   \n",
       "11992  ЦБ-00093216            0  имеется ошибка, или подозрение см report   \n",
       "12122  ЦБ-00101518            0  имеется ошибка, или подозрение см report   \n",
       "17416  ЦБ-00130114            0  имеется ошибка, или подозрение см report   \n",
       "19829  ЦБ-00160647            0  имеется ошибка, или подозрение см report   \n",
       "23692  ЦБ-00171198            0  имеется ошибка, или подозрение см report   \n",
       "28484  ЦБ-00183444            0  имеется ошибка, или подозрение см report   \n",
       "\n",
       "      prem_cost2                                    sum_pr2  \n",
       "965            0  имеется ошибка, или подозрение см report;  \n",
       "5978           0  имеется ошибка, или подозрение см report;  \n",
       "6507           0  имеется ошибка, или подозрение см report;  \n",
       "6702           0  имеется ошибка, или подозрение см report;  \n",
       "8071           0  имеется ошибка, или подозрение см report;  \n",
       "11987          0  имеется ошибка, или подозрение см report;  \n",
       "11988          0  имеется ошибка, или подозрение см report;  \n",
       "11990          0  имеется ошибка, или подозрение см report;  \n",
       "11992          0  имеется ошибка, или подозрение см report;  \n",
       "12122          0  имеется ошибка, или подозрение см report;  \n",
       "17416          0  имеется ошибка, или подозрение см report;  \n",
       "19829          0  имеется ошибка, или подозрение см report;  \n",
       "23692          0  имеется ошибка, или подозрение см report;  \n",
       "28484          0  имеется ошибка, или подозрение см report;  "
      ]
     },
     "execution_count": 96,
     "metadata": {},
     "output_type": "execute_result"
    }
   ],
   "source": [
    "df_test[['Код','prruby_cost2','prsap_cost2','prem_cost2','sum_pr2' ]]\\\n",
    "[(df_test['prsap_cost2']=='имеется ошибка, или подозрение см report')]"
   ]
  },
  {
   "cell_type": "code",
   "execution_count": null,
   "id": "fb2ca0d5",
   "metadata": {},
   "outputs": [],
   "source": []
  },
  {
   "cell_type": "code",
   "execution_count": 97,
   "id": "2a8ac80b",
   "metadata": {},
   "outputs": [
    {
     "data": {
      "text/plain": [
       "array([0, 51.75, 13.71, 10.2, 11.05, 11.88, 3.77, 10.08, 3.9,\n",
       "       'имеется ошибка, или подозрение см report', 3.12, 25.6, 16.8, 51.2,\n",
       "       1405.6, 3.8, 32.8, 21.6, 96.75, 98.6, 6.0, 32.0, 36.4, 7.8, 61.6,\n",
       "       107.1, 5.2, 19.5, 10.72, 9.38, 11.2, 34.5, 35.2, 33.55, 76.02,\n",
       "       31.95, 34.84, 18.0, 18.15, 15.39, 9.35, 35.65, 320.0, 186.49, 9.75,\n",
       "       75.46, 13.65, 4.5, 15.6, 14.82, 12.15, 40.7, 9.6, 81.07, 78.2, 6.5,\n",
       "       8.32, 24.0, 4.55, 265.0, 312.0, 2324.0, 4410.0, 80.0, 285.0, 101.4,\n",
       "       8.78, 51.63, 8.0, 111.75, 20.79, 2621.4, 886.9, 97.6, 49.45, 48.8,\n",
       "       302.6, 9.1, 9.04, 33.0, 43.5, 78.0, 280.0, 9.0, 115.6, 102.0,\n",
       "       113.85, 132.3, 173.4, 60.45, 731.5, 5.85, 261.8, 17.6, 5.25, 6.3,\n",
       "       8.4, 108.03, 110.4, 182.0, 2.8, 91.0, 31.0, 20.4, 103.32, 7.5,\n",
       "       169.0, 119.77, 32.76, 149.8, 139.1, 181.9, 3566.6, 1100.0, 189.9,\n",
       "       4.05, 6.6, 43.55, 35.99, 63.25, 31.05, 86.4, 48.4, 42.55, 64.17,\n",
       "       26.33, 10.53, 128.46, 64.4, 641.7, 11.1, 100.3, 40.82, 3.25, 38.07,\n",
       "       25.55, 20.85, 20.15, 18.6, 24.66, 24.57, 40.95, 46.8, 41.6, 38.16,\n",
       "       25.09, 1151.8, 75.0, 12.0, 2.7, 129.2, 80.6, 106.0, 158.6, 54.05,\n",
       "       180.2, 132.0, 103.7, 14.4, 30.0, 70.15, 101.58, 261.15, 159.9,\n",
       "       97.58, 30.36, 38.18, 60.95, 19.84, 56.5, 39.04, 80.38, 604.1, 16.9,\n",
       "       8.96, 18.2, 549.5, 15.2, 13.0, 156.4, 12.35, 3.6, 62.1, 24.3, 36.9,\n",
       "       116.2, 212.4, 41.4, 58.1, 139.2, 124.6, 176.4, 93.15, 588.0, 176.8,\n",
       "       510.0, 64.5, 36.24, 20.41, 3.06, 5.7, 136.8, 49.5, 10.4, 200.2,\n",
       "       80.5, 1075.2, 2676.0, 139.15, 238.56, 206.74, 9.9, 16.0, 25.35,\n",
       "       1.95, 24.93, 36.11, 32.23, 228.4, 30.15, 103.46, 9.95, 24.75,\n",
       "       31.57, 94.5, 39.1, 81.65, 11.84, 15.82, 19.95, 66.7, 25.65, 278.8,\n",
       "       16.2, 180.0], dtype=object)"
      ]
     },
     "execution_count": 97,
     "metadata": {},
     "output_type": "execute_result"
    }
   ],
   "source": [
    "df_test['prsap_cost2'].unique()"
   ]
  },
  {
   "cell_type": "code",
   "execution_count": null,
   "id": "05801e85",
   "metadata": {},
   "outputs": [],
   "source": []
  },
  {
   "cell_type": "code",
   "execution_count": 269,
   "id": "3312b27a",
   "metadata": {},
   "outputs": [],
   "source": [
    "d = ['ckjf', '13.71', 'fffff', '11.05', '11,88', '3.sss77', 0]"
   ]
  },
  {
   "cell_type": "code",
   "execution_count": 325,
   "id": "7ea90601",
   "metadata": {},
   "outputs": [],
   "source": [
    "d = ['10.257','0','0.23', '21.22', 1, np.nan]"
   ]
  },
  {
   "cell_type": "code",
   "execution_count": 326,
   "id": "f51597d2",
   "metadata": {},
   "outputs": [
    {
     "data": {
      "text/plain": [
       "['257 0', ' 0', '23 21', '22 1', ' nan']"
      ]
     },
     "execution_count": 326,
     "metadata": {},
     "output_type": "execute_result"
    }
   ],
   "source": [
    "re.findall(\"\\d*[A-zА-я\\s]+\\d*\",' '.join([str(x) for x in d]).strip())"
   ]
  },
  {
   "cell_type": "code",
   "execution_count": 327,
   "id": "15d9febd",
   "metadata": {},
   "outputs": [
    {
     "data": {
      "text/plain": [
       "nan"
      ]
     },
     "execution_count": 327,
     "metadata": {},
     "output_type": "execute_result"
    }
   ],
   "source": [
    "sum_str(d)"
   ]
  },
  {
   "cell_type": "markdown",
   "id": "9964bc80",
   "metadata": {},
   "source": [
    "## запись в exel массовой прогонки em ruby sap"
   ]
  },
  {
   "cell_type": "code",
   "execution_count": 98,
   "id": "188e3b93",
   "metadata": {},
   "outputs": [],
   "source": [
    "df_test.to_excel(f\"{folder_res}done_em_sap_ruby21{datetime.datetime.now().strftime('%d-%m-%Y_%H-%M')}.xlsx\")"
   ]
  },
  {
   "cell_type": "code",
   "execution_count": 99,
   "id": "eb69eccf",
   "metadata": {},
   "outputs": [
    {
     "data": {
      "text/plain": [
       "'../ЦВДК/2023-11-21/'"
      ]
     },
     "execution_count": 99,
     "metadata": {},
     "output_type": "execute_result"
    }
   ],
   "source": [
    "folder_res"
   ]
  },
  {
   "cell_type": "code",
   "execution_count": null,
   "id": "b7ab90a2",
   "metadata": {},
   "outputs": [],
   "source": []
  },
  {
   "cell_type": "code",
   "execution_count": null,
   "id": "3cce5df7",
   "metadata": {},
   "outputs": [],
   "source": []
  },
  {
   "cell_type": "code",
   "execution_count": null,
   "id": "b74b908e",
   "metadata": {},
   "outputs": [],
   "source": []
  },
  {
   "cell_type": "code",
   "execution_count": null,
   "id": "0cde60ee",
   "metadata": {},
   "outputs": [],
   "source": []
  },
  {
   "cell_type": "markdown",
   "id": "a3e75747",
   "metadata": {},
   "source": [
    "# DEL"
   ]
  },
  {
   "cell_type": "code",
   "execution_count": null,
   "id": "1dd441e0",
   "metadata": {},
   "outputs": [],
   "source": []
  }
 ],
 "metadata": {
  "kernelspec": {
   "display_name": "Python 3 (ipykernel)",
   "language": "python",
   "name": "python3"
  },
  "language_info": {
   "codemirror_mode": {
    "name": "ipython",
    "version": 3
   },
   "file_extension": ".py",
   "mimetype": "text/x-python",
   "name": "python",
   "nbconvert_exporter": "python",
   "pygments_lexer": "ipython3",
   "version": "3.10.9"
  },
  "toc": {
   "base_numbering": 1,
   "nav_menu": {},
   "number_sections": true,
   "sideBar": true,
   "skip_h1_title": false,
   "title_cell": "Table of Contents",
   "title_sidebar": "Contents",
   "toc_cell": false,
   "toc_position": {
    "height": "calc(100% - 180px)",
    "left": "10px",
    "top": "150px",
    "width": "460.516px"
   },
   "toc_section_display": true,
   "toc_window_display": true
  }
 },
 "nbformat": 4,
 "nbformat_minor": 5
}
