{
 "cells": [
  {
   "cell_type": "code",
   "execution_count": 1,
   "id": "4aa9f3f3",
   "metadata": {},
   "outputs": [],
   "source": [
    "#Для расчета прейскуранта цв камней \n",
    "#ver2.3 2023-11-22 перенос на git, соединение em sap ruby, folder_res\n",
    "# "
   ]
  },
  {
   "cell_type": "code",
   "execution_count": 1,
   "id": "fada1cab",
   "metadata": {},
   "outputs": [
    {
     "data": {
      "text/plain": [
       "'22-11-2023_09-28'"
      ]
     },
     "execution_count": 1,
     "metadata": {},
     "output_type": "execute_result"
    }
   ],
   "source": [
    "import datetime\n",
    "datetime.datetime.now().strftime('%d-%m-%Y_%H-%M')"
   ]
  },
  {
   "cell_type": "markdown",
   "id": "d0a55769",
   "metadata": {},
   "source": [
    "# imports"
   ]
  },
  {
   "cell_type": "code",
   "execution_count": 2,
   "id": "3a0da704",
   "metadata": {},
   "outputs": [],
   "source": [
    "import numpy as np\n",
    "import pandas as pd\n",
    "import re\n",
    "import os\n",
    "import importlib"
   ]
  },
  {
   "cell_type": "code",
   "execution_count": 3,
   "id": "c2090a46",
   "metadata": {},
   "outputs": [],
   "source": [
    "import module_prgem.price_em as price_em"
   ]
  },
  {
   "cell_type": "code",
   "execution_count": 4,
   "id": "a985a6bc",
   "metadata": {},
   "outputs": [],
   "source": [
    "import module_prgem.price_sap_ruby2 as price_sap_ruby2"
   ]
  },
  {
   "cell_type": "code",
   "execution_count": 5,
   "id": "16df95d4",
   "metadata": {},
   "outputs": [
    {
     "data": {
      "text/plain": [
       "<module 'module_prgem.price_em' from 'C:\\\\Users\\\\специалист ао\\\\mypandas\\\\work\\\\2023\\\\gems_git\\\\gems\\\\ipynb\\\\module_prgem\\\\price_em.py'>"
      ]
     },
     "execution_count": 5,
     "metadata": {},
     "output_type": "execute_result"
    }
   ],
   "source": [
    "importlib.reload(price_em)"
   ]
  },
  {
   "cell_type": "code",
   "execution_count": 6,
   "id": "d270aed4",
   "metadata": {},
   "outputs": [
    {
     "data": {
      "text/plain": [
       "<module 'module_prgem.price_sap_ruby2' from 'C:\\\\Users\\\\специалист ао\\\\mypandas\\\\work\\\\2023\\\\gems_git\\\\gems\\\\ipynb\\\\module_prgem\\\\price_sap_ruby2.py'>"
      ]
     },
     "execution_count": 6,
     "metadata": {},
     "output_type": "execute_result"
    }
   ],
   "source": [
    "importlib.reload(price_sap_ruby2)"
   ]
  },
  {
   "cell_type": "code",
   "execution_count": 7,
   "id": "60d50274",
   "metadata": {},
   "outputs": [],
   "source": [
    "import module_prgem.dictgems as mds"
   ]
  },
  {
   "cell_type": "code",
   "execution_count": 8,
   "id": "de96a608",
   "metadata": {
    "scrolled": true
   },
   "outputs": [
    {
     "data": {
      "text/plain": [
       "<module 'module_prgem.dictgems' from 'C:\\\\Users\\\\специалист ао\\\\mypandas\\\\work\\\\2023\\\\gems_git\\\\gems\\\\ipynb\\\\module_prgem\\\\dictgems.py'>"
      ]
     },
     "execution_count": 8,
     "metadata": {},
     "output_type": "execute_result"
    }
   ],
   "source": [
    "importlib.reload(mds)"
   ]
  },
  {
   "cell_type": "code",
   "execution_count": 247,
   "id": "88bd82a6",
   "metadata": {},
   "outputs": [],
   "source": [
    "folder_res = '../ЦВДК/2023-11-21/'"
   ]
  },
  {
   "cell_type": "code",
   "execution_count": 248,
   "id": "ce0c3116",
   "metadata": {},
   "outputs": [
    {
     "data": {
      "text/plain": [
       "['done_em_sap_ruby21.xlsx',\n",
       " 'test_em_sap ruby собраны поправки.xlsx',\n",
       " '~$done_em_sap_ruby21.xlsx']"
      ]
     },
     "execution_count": 248,
     "metadata": {},
     "output_type": "execute_result"
    }
   ],
   "source": [
    "os.listdir(folder_res)"
   ]
  },
  {
   "cell_type": "code",
   "execution_count": 249,
   "id": "d88a78d7",
   "metadata": {},
   "outputs": [
    {
     "data": {
      "text/plain": [
       "{'help': ['сапфирпт', 'сапфирн', 'изумрудпм', 'рубинптрубиннрубинпф'],\n",
       " 'сапфирпт': 'сапфирпт',\n",
       " 'сапфирн': 'сапфирн',\n",
       " 'изумрудпм': 'изумрудпм',\n",
       " 'рубинпт': 'рубинпт',\n",
       " 'рубинн': 'рубинн',\n",
       " 'рубинпф': 'рубинпф'}"
      ]
     },
     "execution_count": 249,
     "metadata": {},
     "output_type": "execute_result"
    }
   ],
   "source": [
    "mds.dgem"
   ]
  },
  {
   "cell_type": "markdown",
   "id": "3b4d458d",
   "metadata": {},
   "source": [
    "## Экспресс тесты модулей"
   ]
  },
  {
   "cell_type": "code",
   "execution_count": 10,
   "id": "7fa900be",
   "metadata": {},
   "outputs": [
    {
     "data": {
      "text/plain": [
       "{'help': ['1', '2', '3', '4', '5'],\n",
       " '1': '1',\n",
       " '2': '2',\n",
       " '3': '3',\n",
       " '4': '4',\n",
       " '5': '5',\n",
       " 1: '1',\n",
       " 2: '2',\n",
       " 3: '3',\n",
       " 4: '4',\n",
       " 5: '5'}"
      ]
     },
     "execution_count": 10,
     "metadata": {},
     "output_type": "execute_result"
    }
   ],
   "source": [
    "mds.dcol_sap"
   ]
  },
  {
   "cell_type": "code",
   "execution_count": 11,
   "id": "d9d1016e",
   "metadata": {},
   "outputs": [
    {
     "data": {
      "text/plain": [
       "[('5', 'ИзумрудПМ', '0,250', 'НРОКр', '3/Г1'),\n",
       " ('3', 'ИзумрудПМ', '1,500', 'НРОГ', '3/Г3')]"
      ]
     },
     "execution_count": 11,
     "metadata": {},
     "output_type": "execute_result"
    }
   ],
   "source": [
    "price_em.vst2list('5ИзумрудПМ-0,250-НРОКр+3/Г1 3ИзумрудПМ-1,500-НРОГ+3/Г3 14Кр57-0,180-4/4А')"
   ]
  },
  {
   "cell_type": "code",
   "execution_count": 12,
   "id": "54bbefda",
   "metadata": {},
   "outputs": [
    {
     "data": {
      "text/plain": [
       "'217.50; 0.25+1.5; price:150+120;size:до 0,09+0,50-0,74;gem:изумрудпм+изумрудпм'"
      ]
     },
     "execution_count": 12,
     "metadata": {},
     "output_type": "execute_result"
    }
   ],
   "source": [
    "price_em.check_vstlist(_)"
   ]
  },
  {
   "cell_type": "code",
   "execution_count": null,
   "id": "4b1d7d97",
   "metadata": {},
   "outputs": [],
   "source": []
  },
  {
   "cell_type": "code",
   "execution_count": 13,
   "id": "9a08b125",
   "metadata": {},
   "outputs": [],
   "source": [
    "t = '3ИзумрудПМ-0,160-НРОКр+3/Г2 3РубинПТ-0,210-Кр+2/2 3СапфирПТ-0,220-Кр+2/2*Желтый 3СапфирПТ-0,230-Кр+2/2*Розовый 3СапфирПТ-0,220-Кр+2/2*Оранжевый 13КР57-0,140-3/5А 9КР57-0,550-3/3А'"
   ]
  },
  {
   "cell_type": "code",
   "execution_count": 14,
   "id": "ab6fc442",
   "metadata": {
    "scrolled": true
   },
   "outputs": [
    {
     "data": {
      "text/plain": [
       "([['3', 'сапфирпт', '0,220', 'кр', '2', '2', 'желтый'],\n",
       "  ['3', 'сапфирпт', '0,230', 'кр', '2', '2', 'розовый'],\n",
       "  ['3', 'сапфирпт', '0,220', 'кр', '2', '2', 'оранжевый']],\n",
       " 'ok:3!=3;C:ok;Q:ok;PCS:ok;GEM:ok;')"
      ]
     },
     "execution_count": 14,
     "metadata": {},
     "output_type": "execute_result"
    }
   ],
   "source": [
    "price_sap_ruby2.make_list_sap(t)"
   ]
  },
  {
   "cell_type": "code",
   "execution_count": 15,
   "id": "b62f941e",
   "metadata": {},
   "outputs": [
    {
     "data": {
      "text/plain": [
       "([['3', 'сапфирпт', '0,220', 'кр', '2', '2', 'желтый'],\n",
       "  ['3', 'сапфирпт', '0,230', 'кр', '2', '2', 'розовый'],\n",
       "  ['3', 'сапфирпт', '0,220', 'кр', '2', '2', 'оранжевый']],\n",
       " 'ok:3!=3;C:ok;Q:ok;PCS:ok;GEM:ok;')"
      ]
     },
     "execution_count": 15,
     "metadata": {},
     "output_type": "execute_result"
    }
   ],
   "source": [
    "price_sap_ruby2.make_list_sap(t)"
   ]
  },
  {
   "cell_type": "code",
   "execution_count": 16,
   "id": "6b98f23e",
   "metadata": {},
   "outputs": [
    {
     "data": {
      "text/plain": [
       "'2,00-2,99'"
      ]
     },
     "execution_count": 16,
     "metadata": {},
     "output_type": "execute_result"
    }
   ],
   "source": [
    "price_sap_ruby2.size_sap_ruby(2.2)"
   ]
  },
  {
   "cell_type": "code",
   "execution_count": 17,
   "id": "ef7f1368",
   "metadata": {},
   "outputs": [
    {
     "data": {
      "text/plain": [
       "['2023-11-17',\n",
       " '2023-11-21',\n",
       " 'df_gems.xlsx',\n",
       " 'df_vst_15102023.xlsx',\n",
       " 'pr_emeralds_173_20-04-2023.xlsx',\n",
       " 'test_re01.xlsx',\n",
       " 'test_re03_модуль.xlsx',\n",
       " 'test_resapphire.xlsx',\n",
       " 'test_res_rubyjruby.xlsx',\n",
       " '~$pr_emeralds_173_20-04-2023.xlsx',\n",
       " 'выгрузка17_11_2023_все_склады_ДК_17_11_2023_08_01_res_pr.xlsx',\n",
       " 'плохое распознавание сапфир54-01-05-2019.xlsx',\n",
       " 'пром_рез_изумр_проверка_по.xlsx',\n",
       " 'сапфир54-01-05-2019.pdf',\n",
       " 'ТестЦВДК.xlsx']"
      ]
     },
     "execution_count": 17,
     "metadata": {},
     "output_type": "execute_result"
    }
   ],
   "source": [
    "os.listdir('../ЦВДК/')"
   ]
  },
  {
   "cell_type": "markdown",
   "id": "cf33a306",
   "metadata": {},
   "source": [
    "# Загрузка"
   ]
  },
  {
   "cell_type": "markdown",
   "id": "765f8e13",
   "metadata": {},
   "source": [
    "## Наличие в ДК"
   ]
  },
  {
   "cell_type": "code",
   "execution_count": 18,
   "id": "ad1e8c13",
   "metadata": {},
   "outputs": [],
   "source": [
    "#из дома через врем файл\n",
    "df0 = pd.read_excel('../ЦВДК/выгрузка17_11_2023_все_склады_ДК_17_11_2023_08_01_res_pr.xlsx')\n",
    "#из офиса \n",
    "#C:\\Users\\специалист ао\\mypandas\\work\\2023\\23-09-ХХ Переоценка ДК магазины выст\\for_script2023-11-16\\выгрузка17-11-2023_все_склады_ДК__17-11-2023_08-01_res_pr.xlsx"
   ]
  },
  {
   "cell_type": "code",
   "execution_count": 19,
   "id": "ab6e0cea",
   "metadata": {},
   "outputs": [],
   "source": [
    "#os.listdir('../../23-09-ХХ Переоценка ДК магазины выст/for_script2023-11-16')"
   ]
  },
  {
   "cell_type": "code",
   "execution_count": 20,
   "id": "ca8f20cf",
   "metadata": {},
   "outputs": [],
   "source": [
    "#df0 = pd.read_excel('../../23-09-ХХ Переоценка ДК магазины выст/for_script2023-11-16/выгрузка17-11-2023_все_склады_ДК__17-11-2023_08-01_res_pr.xlsx')"
   ]
  },
  {
   "cell_type": "code",
   "execution_count": 21,
   "id": "b2ffbf53",
   "metadata": {},
   "outputs": [
    {
     "data": {
      "text/plain": [
       "Index(['Unnamed: 0', 'Код', 'Старый код (Справочник \"Номенклатура\" (Общие))',\n",
       "       'Склад', 'Склад.Склад / Магазин',\n",
       "       'Вставки (Справочник \"Номенклатура\" (Общие))', 'Вид номенклатуры',\n",
       "       'Тип номенклатуры', 'Номенклатура', 'Группа',\n",
       "       'Заводской номер (Справочник \"Номенклатура\" (Общие))',\n",
       "       'Проба (Справочник \"Номенклатура\" (Общие))',\n",
       "       'Цвет металла (Справочник \"Номенклатура\" (Общие))',\n",
       "       'Дизайн (Справочник \"Номенклатура\" (Общие))', 'Артикул ',\n",
       "       'Размерная группа Центрального камня (Справочник \"Номенклатура\" (Общие))',\n",
       "       'Цвет Центрального Камня (Справочник \"Номенклатура\" (Общие))',\n",
       "       'Чистота Центрального Камня (Справочник \"Номенклатура\" (Общие))',\n",
       "       'Размер (Справочник \"Номенклатура\" (Общие))', 'Наименование для печати',\n",
       "       'Единица измерения веса',\n",
       "       'Вес Вставок ПДК (Карат) (Справочник \"Номенклатура\" (Общие))',\n",
       "       'Кол-во ДК (Справочник \"Номенклатура\" (Общие))',\n",
       "       'Вес Вставок ДК (Карат) (Справочник \"Номенклатура\" (Общие))', 'Группы',\n",
       "       'родитель1_1c', 'родитель2_1c', 'родитель3_1c', 'родитель4_1c',\n",
       "       'родитель5_1c', 'Количество конечный остаток', 'Конечный остаток вес',\n",
       "       'розничная стоимость', 'закупочная стоимость', 'УИН', 'Штрихкод',\n",
       "       'Родитель2корр', 'Родитель3корр', 'Родитель4корр', 'Родитель5корр',\n",
       "       'Прейскурант брил по 2 источникам (Васильев 08.11.2023 и предв расчёт по самородкам)',\n",
       "       'Прейскурант ЦвДК по предв расчёту по самородкам)',\n",
       "       'Вес самородков суммированный', 'Оставшиеся задачи',\n",
       "       'Комментарий по задачам', 'Дата запроса', 'Качество данных',\n",
       "       'Характер изменений', 'Дата последней правки', 'Источник',\n",
       "       'Штрихкод_spr', 'Вставки корректировка', 'Code', 'vs_dict', 'ШТУК',\n",
       "       'КАРАТ', 'prcost', 'инф для не сработал прейскурант'],\n",
       "      dtype='object')"
      ]
     },
     "execution_count": 21,
     "metadata": {},
     "output_type": "execute_result"
    }
   ],
   "source": [
    "df0.columns"
   ]
  },
  {
   "cell_type": "code",
   "execution_count": 22,
   "id": "c546d7e9",
   "metadata": {},
   "outputs": [
    {
     "data": {
      "text/html": [
       "<div>\n",
       "<style scoped>\n",
       "    .dataframe tbody tr th:only-of-type {\n",
       "        vertical-align: middle;\n",
       "    }\n",
       "\n",
       "    .dataframe tbody tr th {\n",
       "        vertical-align: top;\n",
       "    }\n",
       "\n",
       "    .dataframe thead th {\n",
       "        text-align: right;\n",
       "    }\n",
       "</style>\n",
       "<table border=\"1\" class=\"dataframe\">\n",
       "  <thead>\n",
       "    <tr style=\"text-align: right;\">\n",
       "      <th></th>\n",
       "      <th>Код</th>\n",
       "      <th>Вставки корректировка</th>\n",
       "    </tr>\n",
       "  </thead>\n",
       "  <tbody>\n",
       "    <tr>\n",
       "      <th>0</th>\n",
       "      <td>ЦБ-00000421</td>\n",
       "      <td>1Кр57-0,11-4/3А 1Кр57-0,10-4/3Б</td>\n",
       "    </tr>\n",
       "    <tr>\n",
       "      <th>1</th>\n",
       "      <td>ЦБ-00000422</td>\n",
       "      <td>2Кр57-0,431-4/5Б</td>\n",
       "    </tr>\n",
       "    <tr>\n",
       "      <th>2</th>\n",
       "      <td>ЦБ-00000426</td>\n",
       "      <td>1Кр57-0,30-4/4Б 1Кр57-0,35-4/5Б</td>\n",
       "    </tr>\n",
       "    <tr>\n",
       "      <th>3</th>\n",
       "      <td>ЦБ-00000427</td>\n",
       "      <td>2Кр57-0,44-3/3Б</td>\n",
       "    </tr>\n",
       "    <tr>\n",
       "      <th>4</th>\n",
       "      <td>ЦБ-00000428</td>\n",
       "      <td>2Кр57-0,427-4/3Б</td>\n",
       "    </tr>\n",
       "    <tr>\n",
       "      <th>...</th>\n",
       "      <td>...</td>\n",
       "      <td>...</td>\n",
       "    </tr>\n",
       "    <tr>\n",
       "      <th>34504</th>\n",
       "      <td>ЦБ-00219618</td>\n",
       "      <td>1МодГ-3,410-6/7А 6Кр57-0,140-5/5А 8Кр57-0,150-...</td>\n",
       "    </tr>\n",
       "    <tr>\n",
       "      <th>34505</th>\n",
       "      <td>ЦБ-00219619</td>\n",
       "      <td>1Кр57-1,790-9-4/8А 8Кр57-0,680-5/5А 10Кр57-0,3...</td>\n",
       "    </tr>\n",
       "    <tr>\n",
       "      <th>34506</th>\n",
       "      <td>ЦБ-00219620</td>\n",
       "      <td>1МодИ-1,020-6/7А 2Кр57-0,020-5/5А 42Кр57-0,490...</td>\n",
       "    </tr>\n",
       "    <tr>\n",
       "      <th>34507</th>\n",
       "      <td>ЦБ-00219621</td>\n",
       "      <td>1Кр57-1,000-4/3А 28Кр57-0,490-5/5А 2Кр57-0,010...</td>\n",
       "    </tr>\n",
       "    <tr>\n",
       "      <th>34508</th>\n",
       "      <td>ЦБ-00219622</td>\n",
       "      <td>1Кр57-1,020-6/7аА 4Кр57-0,030-5/5А 2Кр57-0,050...</td>\n",
       "    </tr>\n",
       "  </tbody>\n",
       "</table>\n",
       "<p>34509 rows × 2 columns</p>\n",
       "</div>"
      ],
      "text/plain": [
       "               Код                              Вставки корректировка\n",
       "0      ЦБ-00000421                    1Кр57-0,11-4/3А 1Кр57-0,10-4/3Б\n",
       "1      ЦБ-00000422                                   2Кр57-0,431-4/5Б\n",
       "2      ЦБ-00000426                    1Кр57-0,30-4/4Б 1Кр57-0,35-4/5Б\n",
       "3      ЦБ-00000427                                    2Кр57-0,44-3/3Б\n",
       "4      ЦБ-00000428                                   2Кр57-0,427-4/3Б\n",
       "...            ...                                                ...\n",
       "34504  ЦБ-00219618  1МодГ-3,410-6/7А 6Кр57-0,140-5/5А 8Кр57-0,150-...\n",
       "34505  ЦБ-00219619  1Кр57-1,790-9-4/8А 8Кр57-0,680-5/5А 10Кр57-0,3...\n",
       "34506  ЦБ-00219620  1МодИ-1,020-6/7А 2Кр57-0,020-5/5А 42Кр57-0,490...\n",
       "34507  ЦБ-00219621  1Кр57-1,000-4/3А 28Кр57-0,490-5/5А 2Кр57-0,010...\n",
       "34508  ЦБ-00219622  1Кр57-1,020-6/7аА 4Кр57-0,030-5/5А 2Кр57-0,050...\n",
       "\n",
       "[34509 rows x 2 columns]"
      ]
     },
     "execution_count": 22,
     "metadata": {},
     "output_type": "execute_result"
    }
   ],
   "source": [
    "df0[['Код','Вставки корректировка']]"
   ]
  },
  {
   "cell_type": "markdown",
   "id": "536673ba",
   "metadata": {},
   "source": [
    "# Использование модуля (module_prgem)\n"
   ]
  },
  {
   "cell_type": "code",
   "execution_count": 23,
   "id": "dd63444b",
   "metadata": {},
   "outputs": [],
   "source": [
    "# чтение тестового набора данных о вставках на 15-10-2023\n",
    "df_test = df0[['Код','Вставки корректировка']].copy(deep=True)"
   ]
  },
  {
   "cell_type": "code",
   "execution_count": 24,
   "id": "abebe39f",
   "metadata": {},
   "outputs": [],
   "source": [
    "df_test.rename(columns={'Вставки корректировка':'vst'}, inplace=True)"
   ]
  },
  {
   "cell_type": "code",
   "execution_count": 25,
   "id": "b4997194",
   "metadata": {},
   "outputs": [
    {
     "name": "stdout",
     "output_type": "stream",
     "text": [
      "<class 'pandas.core.frame.DataFrame'>\n",
      "RangeIndex: 34509 entries, 0 to 34508\n",
      "Data columns (total 2 columns):\n",
      " #   Column  Non-Null Count  Dtype \n",
      "---  ------  --------------  ----- \n",
      " 0   Код     34509 non-null  object\n",
      " 1   vst     34509 non-null  object\n",
      "dtypes: object(2)\n",
      "memory usage: 539.3+ KB\n"
     ]
    }
   ],
   "source": [
    "df_test.info()"
   ]
  },
  {
   "cell_type": "code",
   "execution_count": null,
   "id": "b09df626",
   "metadata": {},
   "outputs": [],
   "source": []
  },
  {
   "cell_type": "markdown",
   "id": "d8376ea9",
   "metadata": {},
   "source": [
    "## прогонка модулей разовая 1 раз count_price(stdl)"
   ]
  },
  {
   "cell_type": "code",
   "execution_count": 26,
   "id": "cf6d93aa",
   "metadata": {},
   "outputs": [],
   "source": [
    "#import module_prgem.price_sap_ruby as price_sap_ruby\n"
   ]
  },
  {
   "cell_type": "code",
   "execution_count": 27,
   "id": "5b612787",
   "metadata": {},
   "outputs": [],
   "source": [
    "import module_prgem.price_sap_ruby2 as price_sap_ruby2"
   ]
  },
  {
   "cell_type": "code",
   "execution_count": 28,
   "id": "73bad8dc",
   "metadata": {},
   "outputs": [],
   "source": [
    "#import importlib\n",
    "#importlib.reload(price_sap_ruby)"
   ]
  },
  {
   "cell_type": "code",
   "execution_count": 29,
   "id": "2281e5d1",
   "metadata": {},
   "outputs": [
    {
     "data": {
      "text/plain": [
       "<module 'module_prgem.price_sap_ruby2' from 'C:\\\\Users\\\\специалист ао\\\\mypandas\\\\work\\\\2023\\\\gems_git\\\\gems\\\\ipynb\\\\module_prgem\\\\price_sap_ruby2.py'>"
      ]
     },
     "execution_count": 29,
     "metadata": {},
     "output_type": "execute_result"
    }
   ],
   "source": [
    "import importlib\n",
    "importlib.reload(price_sap_ruby2)"
   ]
  },
  {
   "cell_type": "markdown",
   "id": "35f43bc4",
   "metadata": {},
   "source": [
    "### ruby"
   ]
  },
  {
   "cell_type": "code",
   "execution_count": null,
   "id": "e54cb325",
   "metadata": {},
   "outputs": [],
   "source": []
  },
  {
   "cell_type": "code",
   "execution_count": 30,
   "id": "0faa11fe",
   "metadata": {},
   "outputs": [],
   "source": [
    "tr5='''\n",
    "1РубинН-1,550-ОВ+3/3 20КР17-0,152-2/2А\n",
    "1РубинН-0,682-ГР+4/4 6КР57-0,036-6/5А\n",
    "1ИзумрудПМ-0,020-Кбовв+2/К2 13РубинПТ-0,950-Ф+3/3 10Кр57-0,090-4/4А 39Кр57-0,590-4/4А\n",
    "1РубинПТ-0,050-Кр+2/2 3Кр57-0,040-3/4А\n",
    "1РубинПТ-0,051-кр+2/3 3КР57-0,0225-3/5А\n",
    "'''\n"
   ]
  },
  {
   "cell_type": "code",
   "execution_count": 31,
   "id": "d7feb610",
   "metadata": {},
   "outputs": [],
   "source": [
    "# без ошибок\n",
    "ts5='''\n",
    "67СапфирПТ-0,332-КР+2/2*синий\n",
    "1СапфирПТ-0,603-КР+4/3 2КР57-0,008-3/6А\n",
    "2СапфирПТ-1,205-КР+4/3 2КР57-0,008-3/6А\n",
    "'''"
   ]
  },
  {
   "cell_type": "code",
   "execution_count": 32,
   "id": "8e8f14b9",
   "metadata": {},
   "outputs": [],
   "source": [
    "# ruby (визуально, if не работает, странно но выходит False из за np.nan)"
   ]
  },
  {
   "cell_type": "code",
   "execution_count": 33,
   "id": "4e02f0bd",
   "metadata": {},
   "outputs": [
    {
     "data": {
      "text/plain": [
       "([['1', 'рубинн', '1,550', 'ов', '3', '3', nan],\n",
       "  ['1', 'рубинн', '0,682', 'гр', '4', '4', nan],\n",
       "  ['13', 'рубинпт', '0,950', 'ф', '3', '3', nan],\n",
       "  ['1', 'рубинпт', '0,050', 'кр', '2', '2', nan],\n",
       "  ['1', 'рубинпт', '0,051', 'кр', '2', '3', nan]],\n",
       " 'ok:5!=5;C:ok;Q:ok;PCS:ok;GEM:ok;')"
      ]
     },
     "execution_count": 33,
     "metadata": {},
     "output_type": "execute_result"
    }
   ],
   "source": [
    "price_sap_ruby2.make_list_ruby(tr5)"
   ]
  },
  {
   "cell_type": "code",
   "execution_count": 34,
   "id": "ab1e414c",
   "metadata": {},
   "outputs": [
    {
     "data": {
      "text/plain": [
       "([['1', 'рубинн', '1,550', 'ов', '3', '3', nan],\n",
       "  ['1', 'рубинн', '0,682', 'гр', '4', '4', nan],\n",
       "  ['13', 'рубинпт', '0,950', 'ф', '3', '3', nan],\n",
       "  ['1', 'рубинпт', '0,050', 'кр', '2', '2', nan],\n",
       "  ['1', 'рубинпт', '0,051', 'кр', '2', '3', nan]],\n",
       " 'ok:5!=5;C:ok;Q:ok;PCS:ok;GEM:ok;')"
      ]
     },
     "execution_count": 34,
     "metadata": {},
     "output_type": "execute_result"
    }
   ],
   "source": [
    "([['1', 'рубинн', '1,550', 'ов', '3', '3', np.nan],\n",
    "  ['1', 'рубинн', '0,682', 'гр', '4', '4', np.nan],\n",
    "  ['13', 'рубинпт', '0,950', 'ф', '3', '3', np.nan],\n",
    "  ['1', 'рубинпт', '0,050', 'кр', '2', '2', np.nan],\n",
    "  ['1', 'рубинпт', '0,051', 'кр', '2', '3', np.nan]],\n",
    " 'ok:5!=5;C:ok;Q:ok;PCS:ok;GEM:ok;')"
   ]
  },
  {
   "cell_type": "code",
   "execution_count": 35,
   "id": "0a263898",
   "metadata": {},
   "outputs": [
    {
     "data": {
      "text/plain": [
       "True"
      ]
     },
     "execution_count": 35,
     "metadata": {},
     "output_type": "execute_result"
    }
   ],
   "source": [
    "price_sap_ruby2.make_list_ruby(tr5)[1]=='ok:5!=5;C:ok;Q:ok;PCS:ok;GEM:ok;'"
   ]
  },
  {
   "cell_type": "code",
   "execution_count": 36,
   "id": "8e920e9e",
   "metadata": {},
   "outputs": [
    {
     "data": {
      "text/plain": [
       "True"
      ]
     },
     "execution_count": 36,
     "metadata": {},
     "output_type": "execute_result"
    }
   ],
   "source": [
    "([['1', 'рубинн', '1,550', 'ов', '3', '3', np.nan],\n",
    "  ['1', 'рубинн', '0,682', 'гр', '4', '4', np.nan],\n",
    "  ['13', 'рубинпт', '0,950', 'ф', '3', '3', np.nan],\n",
    "  ['1', 'рубинпт', '0,050', 'кр', '2', '2', np.nan],\n",
    "  ['1', 'рубинпт', '0,051', 'кр', '2', '3', np.nan]],\n",
    "'ok:5!=5;C:ok;Q:ok;PCS:ok;GEM:ok;') == ([['1', 'рубинн', '1,550', 'ов', '3', '3', np.nan],\n",
    "  ['1', 'рубинн', '0,682', 'гр', '4', '4', np.nan],\n",
    "  ['13', 'рубинпт', '0,950', 'ф', '3', '3', np.nan],\n",
    "  ['1', 'рубинпт', '0,050', 'кр', '2', '2', np.nan],\n",
    "  ['1', 'рубинпт', '0,051', 'кр', '2', '3', np.nan]],\n",
    " 'ok:5!=5;C:ok;Q:ok;PCS:ok;GEM:ok;')"
   ]
  },
  {
   "cell_type": "code",
   "execution_count": null,
   "id": "a065c90c",
   "metadata": {},
   "outputs": [],
   "source": []
  },
  {
   "cell_type": "code",
   "execution_count": 37,
   "id": "c05f2ed1",
   "metadata": {},
   "outputs": [
    {
     "data": {
      "text/plain": [
       "'ok:5!=5;C:ok;Q:ok;PCS:ok;GEM:ok;'"
      ]
     },
     "execution_count": 37,
     "metadata": {},
     "output_type": "execute_result"
    }
   ],
   "source": [
    "price_sap_ruby2.make_list_ruby(tr5)[1]"
   ]
  },
  {
   "cell_type": "code",
   "execution_count": 38,
   "id": "801a3620",
   "metadata": {},
   "outputs": [
    {
     "data": {
      "text/plain": [
       "'2487.06; 1.55+0.682+0.95+0.05+0.051; price:1460+170+100+140+120;size:1,00-1,99+0,50-0,99+До 0,09+До 0,09+До 0,09;gem:рубинн+рубинн+рубинпт+рубинпт+рубинпт'"
      ]
     },
     "execution_count": 38,
     "metadata": {},
     "output_type": "execute_result"
    }
   ],
   "source": [
    "price_sap_ruby2.count_price(price_sap_ruby2.make_list_ruby(tr5)[0])"
   ]
  },
  {
   "cell_type": "code",
   "execution_count": 39,
   "id": "2a60201f",
   "metadata": {},
   "outputs": [],
   "source": [
    "#'2487.06; 1.55+0.682+0.95+0.05+0.051; price:1460+170+100+140+120;size:1,00-1,99+0,50-0,99+До 0,09+До 0,09+До 0,09;gem:р\n",
    "#убинн+рубинн+рубинпт+рубинпт+рубинпт'"
   ]
  },
  {
   "cell_type": "code",
   "execution_count": null,
   "id": "29832829",
   "metadata": {},
   "outputs": [],
   "source": []
  },
  {
   "cell_type": "markdown",
   "id": "48c551fa",
   "metadata": {},
   "source": [
    "### sap"
   ]
  },
  {
   "cell_type": "code",
   "execution_count": 40,
   "id": "4076f93f",
   "metadata": {},
   "outputs": [
    {
     "data": {
      "text/plain": [
       "True"
      ]
     },
     "execution_count": 40,
     "metadata": {},
     "output_type": "execute_result"
    }
   ],
   "source": [
    "# TEST  без ошибок сапфир\n",
    "ts5='''\n",
    "67СапфирПТ-0,332-КР+2/2*синий\n",
    "1СапфирПТ-0,603-КР+4/3 2КР57-0,008-3/6А\n",
    "2СапфирПТ-1,205-КР+4/3 2КР57-0,008-3/6А\n",
    "'''\n",
    "\n",
    "price_sap_ruby2.make_list_sap(ts5) == ([['67', 'сапфирпт', '0,332', 'кр', '2', '2', 'синий'],\n",
    "  ['1', 'сапфирпт', '0,603', 'кр', '4', '3', np.nan],\n",
    "  ['2', 'сапфирпт', '1,205', 'кр', '4', '3', np.nan]],\n",
    " 'ok:3!=3;C:ok;Q:ok;PCS:ok;GEM:ok;')"
   ]
  },
  {
   "cell_type": "code",
   "execution_count": 41,
   "id": "438f5338",
   "metadata": {},
   "outputs": [
    {
     "data": {
      "text/plain": [
       "False"
      ]
     },
     "execution_count": 41,
     "metadata": {},
     "output_type": "execute_result"
    }
   ],
   "source": [
    "# TEST с ошибкой сапфирпм TODO пм пока не работает\n",
    "ts5pm='''\n",
    "67СапфирПТ-0,332-КР+21/2*синий\n",
    "1СапфирПТ-0,603-КР+4/3 2КР57-0,008-3/6А\n",
    "2СапфирПМ-1,205-КР+4/3 2КР57-0,008-3/6А\n",
    "'''\n",
    "\n",
    "price_sap_ruby2.make_list_sap(ts5pm) == ([['67', 'сапфирпт', '0,332', 'кр', np.nan, '2', 'синий'],\n",
    "  ['1', 'сапфирпт', '0,603', 'кр', '4', '3', np.nan],],\n",
    " 'ok:3!=3;C:error:21;Q:ok;PCS:ok;GEM:error;')\n"
   ]
  },
  {
   "cell_type": "code",
   "execution_count": 42,
   "id": "82bdc07f",
   "metadata": {},
   "outputs": [
    {
     "data": {
      "text/plain": [
       "True"
      ]
     },
     "execution_count": 42,
     "metadata": {},
     "output_type": "execute_result"
    }
   ],
   "source": [
    "# TEST с ошибкой сапфирпм \n",
    "ts5pm='''\n",
    "67СапфирПТ-0,332-КР+21/2*синий\n",
    "1СапфирПТ-0,603-КР+4/3 2КР57-0,008-3/6А\n",
    "2СапфирПМ-1,205-КР+4/3 2КР57-0,008-3/6А\n",
    "'''\n",
    "price_sap_ruby2.make_list_sap(ts5pm) == ([['67', 'сапфирпт', '0,332', 'кр', np.nan, '2', 'синий'],\n",
    "  ['1', 'сапфирпт', '0,603', 'кр', '4', '3', np.nan],\n",
    "  ['2', np.nan, '1,205', 'кр', '4', '3', np.nan]],\n",
    " 'ok:3!=3;C:error:21;Q:ok;PCS:ok;GEM:error:сапфирпм;')"
   ]
  },
  {
   "cell_type": "code",
   "execution_count": null,
   "id": "e6baca9a",
   "metadata": {},
   "outputs": [],
   "source": []
  },
  {
   "cell_type": "code",
   "execution_count": 43,
   "id": "d86111da",
   "metadata": {},
   "outputs": [
    {
     "data": {
      "text/plain": [
       "'ok:3!=3;C:error:21;Q:ok;PCS:ok;GEM:error:сапфирпм;'"
      ]
     },
     "execution_count": 43,
     "metadata": {},
     "output_type": "execute_result"
    }
   ],
   "source": [
    "price_sap_ruby2.make_list_sap(ts5pm)[1]"
   ]
  },
  {
   "cell_type": "code",
   "execution_count": 44,
   "id": "7928f308",
   "metadata": {},
   "outputs": [
    {
     "data": {
      "text/plain": [
       "[['67', 'сапфирпт', '0,332', 'кр', '2', '2', 'синий'],\n",
       " ['1', 'сапфирпт', '0,603', 'кр', '4', '3', nan],\n",
       " ['2', 'сапфирпт', '1,205', 'кр', '4', '3', nan]]"
      ]
     },
     "execution_count": 44,
     "metadata": {},
     "output_type": "execute_result"
    }
   ],
   "source": [
    "price_sap_ruby2.make_list_sap(ts5)[0]"
   ]
  },
  {
   "cell_type": "code",
   "execution_count": 45,
   "id": "6dbda303",
   "metadata": {},
   "outputs": [],
   "source": [
    "#[['67', 'сапфирпт', '0,332', 'кр', '2', '2', 'синий'],\n",
    "# ['1', 'сапфирпт', '0,603', 'кр', '4', '3', nan],\n",
    "# ['2', 'сапфирпт', '1,205', 'кр', '4', '3', nan]]"
   ]
  },
  {
   "cell_type": "code",
   "execution_count": null,
   "id": "9698c246",
   "metadata": {},
   "outputs": [],
   "source": []
  },
  {
   "cell_type": "code",
   "execution_count": 46,
   "id": "c108d90f",
   "metadata": {},
   "outputs": [
    {
     "data": {
      "text/plain": [
       "'ok:3!=3;C:ok;Q:ok;PCS:ok;GEM:ok;'"
      ]
     },
     "execution_count": 46,
     "metadata": {},
     "output_type": "execute_result"
    }
   ],
   "source": [
    "price_sap_ruby2.make_list_sap(ts5)[1]"
   ]
  },
  {
   "cell_type": "code",
   "execution_count": 47,
   "id": "3805da69",
   "metadata": {},
   "outputs": [],
   "source": [
    "#price_sap_ruby2.make_list_sap(ts5)[1]\n",
    "#'ok:3!=3;C:ok;Q:ok;PCS:ok;GEM:ok;'"
   ]
  },
  {
   "cell_type": "code",
   "execution_count": 48,
   "id": "6e716524",
   "metadata": {},
   "outputs": [
    {
     "data": {
      "text/plain": [
       "'175.26; 0.332+0.603+1.205; price:65+85+85;size:До 0,09+0,50-0,99+0,50-0,99;gem:сапфирпт+сапфирпт+сапфирпт'"
      ]
     },
     "execution_count": 48,
     "metadata": {},
     "output_type": "execute_result"
    }
   ],
   "source": [
    "price_sap_ruby2.count_price(price_sap_ruby2.make_list_sap(ts5)[0])"
   ]
  },
  {
   "cell_type": "code",
   "execution_count": 49,
   "id": "5d5293e7",
   "metadata": {},
   "outputs": [],
   "source": [
    "#'175.26; 0.332+0.603+1.205; price:65+85+85;size:До 0,09+0,50-0,99+0,50-0,99;gem:сапфирпт+сапфирпт+сапфирпт'"
   ]
  },
  {
   "cell_type": "code",
   "execution_count": 50,
   "id": "3b004ec8",
   "metadata": {},
   "outputs": [
    {
     "data": {
      "text/plain": [
       "'175.26; 0.332+0.603+1.205; price:65+85+85;size:До 0,09+0,50-0,99+0,50-0,99;gem:сапфирпт+сапфирпт+сапфирпт'"
      ]
     },
     "execution_count": 50,
     "metadata": {},
     "output_type": "execute_result"
    }
   ],
   "source": [
    "price_sap_ruby2.count_price_report(price_sap_ruby2.make_list_sap(ts5))"
   ]
  },
  {
   "cell_type": "code",
   "execution_count": null,
   "id": "723b69a2",
   "metadata": {},
   "outputs": [],
   "source": []
  },
  {
   "cell_type": "code",
   "execution_count": 51,
   "id": "b22ec01f",
   "metadata": {},
   "outputs": [
    {
     "data": {
      "text/plain": [
       "[]"
      ]
     },
     "execution_count": 51,
     "metadata": {},
     "output_type": "execute_result"
    }
   ],
   "source": [
    "price_sap_ruby2.count_price_report(price_sap_ruby2.make_list_sap(' '))"
   ]
  },
  {
   "cell_type": "code",
   "execution_count": 52,
   "id": "c3b5bbf2",
   "metadata": {},
   "outputs": [],
   "source": [
    "tr5err='''\n",
    "1РубинН-1,550-ОВ+31/3 20КР17-0,152-2/2А\n",
    "1РубинН-0,682-ГР+4/4 6КР57-0,036-6/5А\n",
    "1ИзумрудПМ-0,020-Кбовв+2/К2 13РубинПТ-0,950-Ф+3/3 10Кр57-0,090-4/4А 39Кр57-0,590-4/4А\n",
    "1РубинПТ-0,050-Кр+2/2 3Кр57-0,040-3/4А\n",
    "1РубинПТ-0,051-кр+2/3 3КР57-0,0225-3/5А\n",
    "'''"
   ]
  },
  {
   "cell_type": "code",
   "execution_count": 53,
   "id": "b9e0f1b2",
   "metadata": {},
   "outputs": [
    {
     "data": {
      "text/plain": [
       "([['1', 'рубинн', '1,550', 'ов', nan, '3', nan],\n",
       "  ['1', 'рубинн', '0,682', 'гр', '4', '4', nan],\n",
       "  ['13', 'рубинпт', '0,950', 'ф', '3', '3', nan],\n",
       "  ['1', 'рубинпт', '0,050', 'кр', '2', '2', nan],\n",
       "  ['1', 'рубинпт', '0,051', 'кр', '2', '3', nan]],\n",
       " 'ok:5!=5;C:error:31;Q:ok;PCS:ok;GEM:ok;')"
      ]
     },
     "execution_count": 53,
     "metadata": {},
     "output_type": "execute_result"
    }
   ],
   "source": [
    "price_sap_ruby2.make_list_ruby(tr5err)"
   ]
  },
  {
   "cell_type": "code",
   "execution_count": null,
   "id": "06464ef4",
   "metadata": {},
   "outputs": [],
   "source": []
  },
  {
   "cell_type": "code",
   "execution_count": 54,
   "id": "7d6b410e",
   "metadata": {},
   "outputs": [
    {
     "data": {
      "text/plain": [
       "'имеется ошибка, или подозрение см report'"
      ]
     },
     "execution_count": 54,
     "metadata": {},
     "output_type": "execute_result"
    }
   ],
   "source": [
    "\n",
    "\n",
    "price_sap_ruby2.count_price_report(price_sap_ruby2.make_list_ruby(tr5err))"
   ]
  },
  {
   "cell_type": "code",
   "execution_count": 55,
   "id": "37881942",
   "metadata": {},
   "outputs": [
    {
     "data": {
      "text/plain": [
       "[]"
      ]
     },
     "execution_count": 55,
     "metadata": {},
     "output_type": "execute_result"
    }
   ],
   "source": [
    "\n",
    "price_sap_ruby2.count_price_report(price_sap_ruby2.make_list_ruby(' '))"
   ]
  },
  {
   "cell_type": "code",
   "execution_count": null,
   "id": "66c0cf86",
   "metadata": {},
   "outputs": [],
   "source": [
    "#['175.26',\n",
    "# ' 0.332+0.603+1.205',\n",
    "# ' price:65+85+85',\n",
    "# 'size:До 0,09+0,50-0,99+0,50-0,99',\n",
    "# 'gem:сапфирпт+сапфирпт+сапфирпт']"
   ]
  },
  {
   "cell_type": "markdown",
   "id": "83c088f1",
   "metadata": {},
   "source": [
    "### em\n"
   ]
  },
  {
   "cell_type": "code",
   "execution_count": 57,
   "id": "789eba8c",
   "metadata": {},
   "outputs": [],
   "source": [
    "import module_prgem.price_em as price_em"
   ]
  },
  {
   "cell_type": "code",
   "execution_count": 58,
   "id": "09ef709a",
   "metadata": {},
   "outputs": [],
   "source": [
    "import module_prgem.dictgems"
   ]
  },
  {
   "cell_type": "code",
   "execution_count": 59,
   "id": "31318807",
   "metadata": {},
   "outputs": [
    {
     "data": {
      "text/plain": [
       "<module 'module_prgem.price_em' from 'C:\\\\Users\\\\специалист ао\\\\mypandas\\\\work\\\\2023\\\\gems_git\\\\gems\\\\ipynb\\\\module_prgem\\\\price_em.py'>"
      ]
     },
     "execution_count": 59,
     "metadata": {},
     "output_type": "execute_result"
    }
   ],
   "source": [
    "importlib.reload(price_em)"
   ]
  },
  {
   "cell_type": "code",
   "execution_count": 60,
   "id": "1cd444fc",
   "metadata": {},
   "outputs": [
    {
     "data": {
      "text/plain": [
       "[('5', 'ИзумрудПМ', '0,250', 'НРОКр', '3/Г1'),\n",
       " ('3', 'ИзумрудПМ', '1,500', 'НРОГ', '3/Г')]"
      ]
     },
     "execution_count": 60,
     "metadata": {},
     "output_type": "execute_result"
    }
   ],
   "source": [
    "no_std_list = price_em.vst2list('5ИзумрудПМ-0,250-НРОКр+3/Г1 3ИзумрудПМ-1,500-НРОГ+3/Г 14Кр57-0,180-4/4А')\n",
    "no_std_list"
   ]
  },
  {
   "cell_type": "code",
   "execution_count": 61,
   "id": "6509cbbe",
   "metadata": {},
   "outputs": [],
   "source": [
    "#[('5', 'ИзумрудПМ', '0,250', 'НРОКр', '3/Г1'),\n",
    "# ('3', 'ИзумрудПМ', '1,500', 'НРОГ', '3/Г3')]"
   ]
  },
  {
   "cell_type": "code",
   "execution_count": 62,
   "id": "4e940a6b",
   "metadata": {},
   "outputs": [
    {
     "data": {
      "text/plain": [
       "'0;0;except; C:ok;Q:error;PCS:ok;'"
      ]
     },
     "execution_count": 62,
     "metadata": {},
     "output_type": "execute_result"
    }
   ],
   "source": [
    "price_em.check_vstlist(no_std_list)"
   ]
  },
  {
   "cell_type": "code",
   "execution_count": 63,
   "id": "5e52826d",
   "metadata": {},
   "outputs": [
    {
     "data": {
      "text/plain": [
       "([['5', 'изумрудпм', '0,250', 'нрокр', '3', 'Г1', nan],\n",
       "  ['3', 'изумрудпм', '1,500', 'нрог', '3', nan, nan]],\n",
       " 'C:ok;Q:error:г;PCS:ok;GEM:ok;')"
      ]
     },
     "execution_count": 63,
     "metadata": {},
     "output_type": "execute_result"
    }
   ],
   "source": [
    "price_em.list2std_em_sap_ruby(no_std_list)"
   ]
  },
  {
   "cell_type": "code",
   "execution_count": 64,
   "id": "243fcc7b",
   "metadata": {},
   "outputs": [],
   "source": [
    "#'217.50; 0.25+1.5; price:150+120;size:до 0,09+0,50-0,74;gem:изумрудпм+изумрудпм'"
   ]
  },
  {
   "cell_type": "code",
   "execution_count": 65,
   "id": "1279db2a",
   "metadata": {},
   "outputs": [
    {
     "data": {
      "text/plain": [
       "[('1', 'ИзумрудПМ', '0,020', 'Кбовв', '2/К2')]"
      ]
     },
     "execution_count": 65,
     "metadata": {},
     "output_type": "execute_result"
    }
   ],
   "source": [
    "price_em.vst2list(tr5)"
   ]
  },
  {
   "cell_type": "code",
   "execution_count": 66,
   "id": "209f0fc4",
   "metadata": {},
   "outputs": [],
   "source": [
    "#[('1', 'ИзумрудПМ', '0,020', 'Кбовв', '2/К2')]"
   ]
  },
  {
   "cell_type": "code",
   "execution_count": 67,
   "id": "ea58f7b4",
   "metadata": {
    "scrolled": true
   },
   "outputs": [
    {
     "data": {
      "text/plain": [
       "'0.90; 0.02; price:45;size:до 0,49;gem:изумрудпм'"
      ]
     },
     "execution_count": 67,
     "metadata": {},
     "output_type": "execute_result"
    }
   ],
   "source": [
    "price_em.check_vstlist(price_em.vst2list(tr5))"
   ]
  },
  {
   "cell_type": "code",
   "execution_count": 68,
   "id": "0e1534b3",
   "metadata": {},
   "outputs": [],
   "source": [
    "#'0.90; 0.02; price:45;size:до 0,49;gem:изумрудпм'"
   ]
  },
  {
   "cell_type": "code",
   "execution_count": 69,
   "id": "47f6bb54",
   "metadata": {},
   "outputs": [
    {
     "data": {
      "text/plain": [
       "[]"
      ]
     },
     "execution_count": 69,
     "metadata": {},
     "output_type": "execute_result"
    }
   ],
   "source": [
    "price_em.vst2list('dddd')"
   ]
  },
  {
   "cell_type": "markdown",
   "id": "3a5afd3d",
   "metadata": {},
   "source": [
    "## Прогонка ruby sap em массовая"
   ]
  },
  {
   "cell_type": "code",
   "execution_count": 70,
   "id": "dd902126",
   "metadata": {},
   "outputs": [
    {
     "data": {
      "text/plain": [
       "<module 'module_prgem.price_sap_ruby2' from 'C:\\\\Users\\\\специалист ао\\\\mypandas\\\\work\\\\2023\\\\gems_git\\\\gems\\\\ipynb\\\\module_prgem\\\\price_sap_ruby2.py'>"
      ]
     },
     "execution_count": 70,
     "metadata": {},
     "output_type": "execute_result"
    }
   ],
   "source": [
    "importlib.reload(price_sap_ruby2)"
   ]
  },
  {
   "cell_type": "code",
   "execution_count": 71,
   "id": "2d1c5c97",
   "metadata": {},
   "outputs": [],
   "source": [
    "#df_xs.vst.apply(lambda x: price_sap_ruby.count_price(price_sap_ruby.make_list_sap(x)[0]))"
   ]
  },
  {
   "cell_type": "code",
   "execution_count": null,
   "id": "b99b9134",
   "metadata": {},
   "outputs": [],
   "source": []
  },
  {
   "cell_type": "markdown",
   "id": "049b618c",
   "metadata": {},
   "source": [
    "### Массовая прогонка sap"
   ]
  },
  {
   "cell_type": "code",
   "execution_count": 74,
   "id": "bfe26a9a",
   "metadata": {},
   "outputs": [],
   "source": [
    "#sap"
   ]
  },
  {
   "cell_type": "code",
   "execution_count": 75,
   "id": "29d783bb",
   "metadata": {},
   "outputs": [],
   "source": [
    "#Быстрый повтор сапфиров\n",
    "df_test['make_list_sap_20'] = df_test.vst.apply(lambda x: price_sap_ruby2.make_list_sap(x))\n",
    "df_test['list_std_sap20'] = df_test['make_list_sap_20'].apply(lambda x: x[0])\n",
    "df_test['report_sap20'] = df_test['make_list_sap_20'].apply(lambda x: x[1])\n",
    "df_test['count_price_sap20']=df_test['make_list_sap_20'].apply(lambda x: price_sap_ruby2.count_price_report(x))\n",
    "df_test['prsap_cost'] = df_test['count_price_sap20'].apply(lambda x: 0 if len(x)==0 else x.split(\";\")[0]) #map(len)!=0]"
   ]
  },
  {
   "cell_type": "code",
   "execution_count": 76,
   "id": "18c33329",
   "metadata": {},
   "outputs": [
    {
     "data": {
      "text/html": [
       "<div>\n",
       "<style scoped>\n",
       "    .dataframe tbody tr th:only-of-type {\n",
       "        vertical-align: middle;\n",
       "    }\n",
       "\n",
       "    .dataframe tbody tr th {\n",
       "        vertical-align: top;\n",
       "    }\n",
       "\n",
       "    .dataframe thead th {\n",
       "        text-align: right;\n",
       "    }\n",
       "</style>\n",
       "<table border=\"1\" class=\"dataframe\">\n",
       "  <thead>\n",
       "    <tr style=\"text-align: right;\">\n",
       "      <th></th>\n",
       "      <th>Код</th>\n",
       "      <th>vst</th>\n",
       "      <th>make_list_sap_20</th>\n",
       "      <th>list_std_sap20</th>\n",
       "      <th>report_sap20</th>\n",
       "      <th>count_price_sap20</th>\n",
       "      <th>prsap_cost</th>\n",
       "    </tr>\n",
       "  </thead>\n",
       "  <tbody>\n",
       "    <tr>\n",
       "      <th>203</th>\n",
       "      <td>ЦБ-00001991</td>\n",
       "      <td>1сапфирПТ-0,450-КВ+2/2 2кр57-0,02-2/3А</td>\n",
       "      <td>([[1, сапфирпт, 0,450, кв, 2, 2, nan]], ok:1!=...</td>\n",
       "      <td>[[1, сапфирпт, 0,450, кв, 2, 2, nan]]</td>\n",
       "      <td>ok:1!=1;C:ok;Q:ok;PCS:ok;GEM:ok;</td>\n",
       "      <td>51.75; 0.45; price:115;size:0,25-0,49;gem:сапф...</td>\n",
       "      <td>51.75</td>\n",
       "    </tr>\n",
       "    <tr>\n",
       "      <th>501</th>\n",
       "      <td>ЦБ-00003190</td>\n",
       "      <td>1сапфирПТ-0,211-ОВ+3/2 4кр57-0,042-3/4А 2кр57-...</td>\n",
       "      <td>([[1, сапфирпт, 0,211, ов, 3, 2, nan]], ok:1!=...</td>\n",
       "      <td>[[1, сапфирпт, 0,211, ов, 3, 2, nan]]</td>\n",
       "      <td>ok:1!=1;C:ok;Q:ok;PCS:ok;GEM:ok;</td>\n",
       "      <td>13.71; 0.211; price:65;size:0,10-0,24;gem:сапф...</td>\n",
       "      <td>13.71</td>\n",
       "    </tr>\n",
       "    <tr>\n",
       "      <th>879</th>\n",
       "      <td>ЦБ-00005503</td>\n",
       "      <td>12сапфирПТ-0,170-КР+2/3 12Кр57-0,16-3/4А</td>\n",
       "      <td>([[12, сапфирпт, 0,170, кр, 2, 3, nan]], ok:1!...</td>\n",
       "      <td>[[12, сапфирпт, 0,170, кр, 2, 3, nan]]</td>\n",
       "      <td>ok:1!=1;C:ok;Q:ok;PCS:ok;GEM:ok;</td>\n",
       "      <td>10.20; 0.17; price:60;size:До 0,09;gem:сапфирпт</td>\n",
       "      <td>10.20</td>\n",
       "    </tr>\n",
       "    <tr>\n",
       "      <th>950</th>\n",
       "      <td>ЦБ-00005890</td>\n",
       "      <td>2СапфирПТ-0,170-кр+2/2 2Кр57-0,030-3/4А</td>\n",
       "      <td>([[2, сапфирпт, 0,170, кр, 2, 2, nan]], ok:1!=...</td>\n",
       "      <td>[[2, сапфирпт, 0,170, кр, 2, 2, nan]]</td>\n",
       "      <td>ok:1!=1;C:ok;Q:ok;PCS:ok;GEM:ok;</td>\n",
       "      <td>11.05; 0.17; price:65;size:До 0,09;gem:сапфирпт</td>\n",
       "      <td>11.05</td>\n",
       "    </tr>\n",
       "    <tr>\n",
       "      <th>951</th>\n",
       "      <td>ЦБ-00005891</td>\n",
       "      <td>2СапфирПТ-0,198-кр+2/3 2Кр57-0,022-2/3А</td>\n",
       "      <td>([[2, сапфирпт, 0,198, кр, 2, 3, nan]], ok:1!=...</td>\n",
       "      <td>[[2, сапфирпт, 0,198, кр, 2, 3, nan]]</td>\n",
       "      <td>ok:1!=1;C:ok;Q:ok;PCS:ok;GEM:ok;</td>\n",
       "      <td>11.88; 0.198; price:60;size:До 0,09;gem:сапфирпт</td>\n",
       "      <td>11.88</td>\n",
       "    </tr>\n",
       "    <tr>\n",
       "      <th>...</th>\n",
       "      <td>...</td>\n",
       "      <td>...</td>\n",
       "      <td>...</td>\n",
       "      <td>...</td>\n",
       "      <td>...</td>\n",
       "      <td>...</td>\n",
       "      <td>...</td>\n",
       "    </tr>\n",
       "    <tr>\n",
       "      <th>29399</th>\n",
       "      <td>ЦБ-00188585</td>\n",
       "      <td>2СапфирПТ-1,640-ГР+2/2 70КР57-0,820-4/6А</td>\n",
       "      <td>([[2, сапфирпт, 1,640, гр, 2, 2, nan]], ok:1!=...</td>\n",
       "      <td>[[2, сапфирпт, 1,640, гр, 2, 2, nan]]</td>\n",
       "      <td>ok:1!=1;C:ok;Q:ok;PCS:ok;GEM:ok;</td>\n",
       "      <td>278.80; 1.64; price:170;size:0,50-0,99;gem:сап...</td>\n",
       "      <td>278.80</td>\n",
       "    </tr>\n",
       "    <tr>\n",
       "      <th>29405</th>\n",
       "      <td>ЦБ-00188647</td>\n",
       "      <td>Топаз*Голубой 56СапфирПТ-0,360-КР+3/3</td>\n",
       "      <td>([[56, сапфирпт, 0,360, кр, 3, 3, nan]], ok:1!...</td>\n",
       "      <td>[[56, сапфирпт, 0,360, кр, 3, 3, nan]]</td>\n",
       "      <td>ok:1!=1;C:ok;Q:ok;PCS:ok;GEM:ok;</td>\n",
       "      <td>16.20; 0.36; price:45;size:До 0,09;gem:сапфирпт</td>\n",
       "      <td>16.20</td>\n",
       "    </tr>\n",
       "    <tr>\n",
       "      <th>29409</th>\n",
       "      <td>ЦБ-00188651</td>\n",
       "      <td>2СапфирПТ-0,900-ГР+1/2 9КР57-0,270-4/3А</td>\n",
       "      <td>([[2, сапфирпт, 0,900, гр, 1, 2, nan]], ok:1!=...</td>\n",
       "      <td>[[2, сапфирпт, 0,900, гр, 1, 2, nan]]</td>\n",
       "      <td>ok:1!=1;C:ok;Q:ok;PCS:ok;GEM:ok;</td>\n",
       "      <td>180.00; 0.9; price:200;size:0,25-0,49;gem:сапф...</td>\n",
       "      <td>180.00</td>\n",
       "    </tr>\n",
       "    <tr>\n",
       "      <th>29564</th>\n",
       "      <td>ЦБ-00188961</td>\n",
       "      <td>1СапфирПТ-0,100-КР+2/2 2КР57-0,090-2/4А</td>\n",
       "      <td>([[1, сапфирпт, 0,100, кр, 2, 2, nan]], ok:1!=...</td>\n",
       "      <td>[[1, сапфирпт, 0,100, кр, 2, 2, nan]]</td>\n",
       "      <td>ok:1!=1;C:ok;Q:ok;PCS:ok;GEM:ok;</td>\n",
       "      <td>8.00; 0.1; price:80;size:0,10-0,24;gem:сапфирпт</td>\n",
       "      <td>8.00</td>\n",
       "    </tr>\n",
       "    <tr>\n",
       "      <th>29576</th>\n",
       "      <td>ЦБ-00189699</td>\n",
       "      <td>1СапфирПТ-0,600-ов+2/2 10КР57-0,138-6/6А</td>\n",
       "      <td>([[1, сапфирпт, 0,600, ов, 2, 2, nan]], ok:1!=...</td>\n",
       "      <td>[[1, сапфирпт, 0,600, ов, 2, 2, nan]]</td>\n",
       "      <td>ok:1!=1;C:ok;Q:ok;PCS:ok;GEM:ok;</td>\n",
       "      <td>102.00; 0.6; price:170;size:0,50-0,99;gem:сапф...</td>\n",
       "      <td>102.00</td>\n",
       "    </tr>\n",
       "  </tbody>\n",
       "</table>\n",
       "<p>425 rows × 7 columns</p>\n",
       "</div>"
      ],
      "text/plain": [
       "               Код                                                vst  \\\n",
       "203    ЦБ-00001991             1сапфирПТ-0,450-КВ+2/2 2кр57-0,02-2/3А   \n",
       "501    ЦБ-00003190  1сапфирПТ-0,211-ОВ+3/2 4кр57-0,042-3/4А 2кр57-...   \n",
       "879    ЦБ-00005503           12сапфирПТ-0,170-КР+2/3 12Кр57-0,16-3/4А   \n",
       "950    ЦБ-00005890            2СапфирПТ-0,170-кр+2/2 2Кр57-0,030-3/4А   \n",
       "951    ЦБ-00005891            2СапфирПТ-0,198-кр+2/3 2Кр57-0,022-2/3А   \n",
       "...            ...                                                ...   \n",
       "29399  ЦБ-00188585           2СапфирПТ-1,640-ГР+2/2 70КР57-0,820-4/6А   \n",
       "29405  ЦБ-00188647              Топаз*Голубой 56СапфирПТ-0,360-КР+3/3   \n",
       "29409  ЦБ-00188651            2СапфирПТ-0,900-ГР+1/2 9КР57-0,270-4/3А   \n",
       "29564  ЦБ-00188961            1СапфирПТ-0,100-КР+2/2 2КР57-0,090-2/4А   \n",
       "29576  ЦБ-00189699           1СапфирПТ-0,600-ов+2/2 10КР57-0,138-6/6А   \n",
       "\n",
       "                                        make_list_sap_20  \\\n",
       "203    ([[1, сапфирпт, 0,450, кв, 2, 2, nan]], ok:1!=...   \n",
       "501    ([[1, сапфирпт, 0,211, ов, 3, 2, nan]], ok:1!=...   \n",
       "879    ([[12, сапфирпт, 0,170, кр, 2, 3, nan]], ok:1!...   \n",
       "950    ([[2, сапфирпт, 0,170, кр, 2, 2, nan]], ok:1!=...   \n",
       "951    ([[2, сапфирпт, 0,198, кр, 2, 3, nan]], ok:1!=...   \n",
       "...                                                  ...   \n",
       "29399  ([[2, сапфирпт, 1,640, гр, 2, 2, nan]], ok:1!=...   \n",
       "29405  ([[56, сапфирпт, 0,360, кр, 3, 3, nan]], ok:1!...   \n",
       "29409  ([[2, сапфирпт, 0,900, гр, 1, 2, nan]], ok:1!=...   \n",
       "29564  ([[1, сапфирпт, 0,100, кр, 2, 2, nan]], ok:1!=...   \n",
       "29576  ([[1, сапфирпт, 0,600, ов, 2, 2, nan]], ok:1!=...   \n",
       "\n",
       "                               list_std_sap20  \\\n",
       "203     [[1, сапфирпт, 0,450, кв, 2, 2, nan]]   \n",
       "501     [[1, сапфирпт, 0,211, ов, 3, 2, nan]]   \n",
       "879    [[12, сапфирпт, 0,170, кр, 2, 3, nan]]   \n",
       "950     [[2, сапфирпт, 0,170, кр, 2, 2, nan]]   \n",
       "951     [[2, сапфирпт, 0,198, кр, 2, 3, nan]]   \n",
       "...                                       ...   \n",
       "29399   [[2, сапфирпт, 1,640, гр, 2, 2, nan]]   \n",
       "29405  [[56, сапфирпт, 0,360, кр, 3, 3, nan]]   \n",
       "29409   [[2, сапфирпт, 0,900, гр, 1, 2, nan]]   \n",
       "29564   [[1, сапфирпт, 0,100, кр, 2, 2, nan]]   \n",
       "29576   [[1, сапфирпт, 0,600, ов, 2, 2, nan]]   \n",
       "\n",
       "                           report_sap20  \\\n",
       "203    ok:1!=1;C:ok;Q:ok;PCS:ok;GEM:ok;   \n",
       "501    ok:1!=1;C:ok;Q:ok;PCS:ok;GEM:ok;   \n",
       "879    ok:1!=1;C:ok;Q:ok;PCS:ok;GEM:ok;   \n",
       "950    ok:1!=1;C:ok;Q:ok;PCS:ok;GEM:ok;   \n",
       "951    ok:1!=1;C:ok;Q:ok;PCS:ok;GEM:ok;   \n",
       "...                                 ...   \n",
       "29399  ok:1!=1;C:ok;Q:ok;PCS:ok;GEM:ok;   \n",
       "29405  ok:1!=1;C:ok;Q:ok;PCS:ok;GEM:ok;   \n",
       "29409  ok:1!=1;C:ok;Q:ok;PCS:ok;GEM:ok;   \n",
       "29564  ok:1!=1;C:ok;Q:ok;PCS:ok;GEM:ok;   \n",
       "29576  ok:1!=1;C:ok;Q:ok;PCS:ok;GEM:ok;   \n",
       "\n",
       "                                       count_price_sap20 prsap_cost  \n",
       "203    51.75; 0.45; price:115;size:0,25-0,49;gem:сапф...      51.75  \n",
       "501    13.71; 0.211; price:65;size:0,10-0,24;gem:сапф...      13.71  \n",
       "879      10.20; 0.17; price:60;size:До 0,09;gem:сапфирпт      10.20  \n",
       "950      11.05; 0.17; price:65;size:До 0,09;gem:сапфирпт      11.05  \n",
       "951     11.88; 0.198; price:60;size:До 0,09;gem:сапфирпт      11.88  \n",
       "...                                                  ...        ...  \n",
       "29399  278.80; 1.64; price:170;size:0,50-0,99;gem:сап...     278.80  \n",
       "29405    16.20; 0.36; price:45;size:До 0,09;gem:сапфирпт      16.20  \n",
       "29409  180.00; 0.9; price:200;size:0,25-0,49;gem:сапф...     180.00  \n",
       "29564    8.00; 0.1; price:80;size:0,10-0,24;gem:сапфирпт       8.00  \n",
       "29576  102.00; 0.6; price:170;size:0,50-0,99;gem:сапф...     102.00  \n",
       "\n",
       "[425 rows x 7 columns]"
      ]
     },
     "execution_count": 76,
     "metadata": {},
     "output_type": "execute_result"
    }
   ],
   "source": [
    "df_test[df_test['prsap_cost'] !=0]"
   ]
  },
  {
   "cell_type": "markdown",
   "id": "808896e1",
   "metadata": {},
   "source": [
    "#### разработка (не запускать)"
   ]
  },
  {
   "cell_type": "code",
   "execution_count": null,
   "id": "50240fe4",
   "metadata": {},
   "outputs": [],
   "source": [
    "не запускать"
   ]
  },
  {
   "cell_type": "code",
   "execution_count": 73,
   "id": "aafff89b",
   "metadata": {},
   "outputs": [],
   "source": [
    "df_test['make_list_sap_20'] = df_test.vst.apply(lambda x: price_sap_ruby2.make_list_sap(x))\n"
   ]
  },
  {
   "cell_type": "code",
   "execution_count": 168,
   "id": "f9ac9454",
   "metadata": {},
   "outputs": [
    {
     "data": {
      "text/plain": [
       "0        ([], ok:0!=0;нет распознанных)\n",
       "1        ([], ok:0!=0;нет распознанных)\n",
       "2        ([], ok:0!=0;нет распознанных)\n",
       "3        ([], ok:0!=0;нет распознанных)\n",
       "4        ([], ok:0!=0;нет распознанных)\n",
       "                      ...              \n",
       "34504    ([], ok:0!=0;нет распознанных)\n",
       "34505    ([], ok:0!=0;нет распознанных)\n",
       "34506    ([], ok:0!=0;нет распознанных)\n",
       "34507    ([], ok:0!=0;нет распознанных)\n",
       "34508    ([], ok:0!=0;нет распознанных)\n",
       "Name: make_list_sap_20, Length: 34509, dtype: object"
      ]
     },
     "execution_count": 168,
     "metadata": {},
     "output_type": "execute_result"
    }
   ],
   "source": [
    "df_test['make_list_sap_20']"
   ]
  },
  {
   "cell_type": "code",
   "execution_count": 169,
   "id": "1aa2eb87",
   "metadata": {},
   "outputs": [],
   "source": [
    "df_test['list_std_sap20'] = df_test['make_list_sap_20'].apply(lambda x: x[0])"
   ]
  },
  {
   "cell_type": "code",
   "execution_count": 170,
   "id": "8bc4e17d",
   "metadata": {},
   "outputs": [],
   "source": [
    "df_test['report_sap20'] = df_test['make_list_sap_20'].apply(lambda x: x[1])"
   ]
  },
  {
   "cell_type": "code",
   "execution_count": 171,
   "id": "89f45c66",
   "metadata": {},
   "outputs": [
    {
     "data": {
      "text/plain": [
       "0        ok:0!=0;нет распознанных\n",
       "1        ok:0!=0;нет распознанных\n",
       "2        ok:0!=0;нет распознанных\n",
       "3        ok:0!=0;нет распознанных\n",
       "4        ok:0!=0;нет распознанных\n",
       "                   ...           \n",
       "34504    ok:0!=0;нет распознанных\n",
       "34505    ok:0!=0;нет распознанных\n",
       "34506    ok:0!=0;нет распознанных\n",
       "34507    ok:0!=0;нет распознанных\n",
       "34508    ok:0!=0;нет распознанных\n",
       "Name: report_sap20, Length: 34509, dtype: object"
      ]
     },
     "execution_count": 171,
     "metadata": {},
     "output_type": "execute_result"
    }
   ],
   "source": [
    "df_test['report_sap20'] "
   ]
  },
  {
   "cell_type": "code",
   "execution_count": 172,
   "id": "58c6cb7e",
   "metadata": {},
   "outputs": [],
   "source": [
    "df_test['count_price_sap20']=df_test['make_list_sap_20'].apply(lambda x: price_sap_ruby2.count_price_report(x))"
   ]
  },
  {
   "cell_type": "code",
   "execution_count": 173,
   "id": "5cb916e4",
   "metadata": {},
   "outputs": [
    {
     "data": {
      "text/plain": [
       "0        []\n",
       "1        []\n",
       "2        []\n",
       "3        []\n",
       "4        []\n",
       "         ..\n",
       "34504    []\n",
       "34505    []\n",
       "34506    []\n",
       "34507    []\n",
       "34508    []\n",
       "Name: count_price_sap20, Length: 34509, dtype: object"
      ]
     },
     "execution_count": 173,
     "metadata": {},
     "output_type": "execute_result"
    }
   ],
   "source": [
    "df_test['count_price_sap20']"
   ]
  },
  {
   "cell_type": "code",
   "execution_count": 174,
   "id": "84a43c6b",
   "metadata": {
    "scrolled": true
   },
   "outputs": [
    {
     "data": {
      "text/html": [
       "<div>\n",
       "<style scoped>\n",
       "    .dataframe tbody tr th:only-of-type {\n",
       "        vertical-align: middle;\n",
       "    }\n",
       "\n",
       "    .dataframe tbody tr th {\n",
       "        vertical-align: top;\n",
       "    }\n",
       "\n",
       "    .dataframe thead th {\n",
       "        text-align: right;\n",
       "    }\n",
       "</style>\n",
       "<table border=\"1\" class=\"dataframe\">\n",
       "  <thead>\n",
       "    <tr style=\"text-align: right;\">\n",
       "      <th></th>\n",
       "      <th>Код</th>\n",
       "      <th>vst</th>\n",
       "      <th>make_list_sap_20</th>\n",
       "      <th>list_std_sap20</th>\n",
       "      <th>report_sap20</th>\n",
       "      <th>count_price_sap20</th>\n",
       "    </tr>\n",
       "  </thead>\n",
       "  <tbody>\n",
       "    <tr>\n",
       "      <th>203</th>\n",
       "      <td>ЦБ-00001991</td>\n",
       "      <td>1сапфирПТ-0,450-КВ+2/2 2кр57-0,02-2/3А</td>\n",
       "      <td>([[1, сапфирпт, 0,450, кв, 2, 2, nan]], ok:1!=...</td>\n",
       "      <td>[[1, сапфирпт, 0,450, кв, 2, 2, nan]]</td>\n",
       "      <td>ok:1!=1;C:ok;Q:ok;PCS:ok;GEM:ok;</td>\n",
       "      <td>51.75; 0.45; price:115;size:0,25-0,49;gem:сапф...</td>\n",
       "    </tr>\n",
       "    <tr>\n",
       "      <th>501</th>\n",
       "      <td>ЦБ-00003190</td>\n",
       "      <td>1сапфирПТ-0,211-ОВ+3/2 4кр57-0,042-3/4А 2кр57-...</td>\n",
       "      <td>([[1, сапфирпт, 0,211, ов, 3, 2, nan]], ok:1!=...</td>\n",
       "      <td>[[1, сапфирпт, 0,211, ов, 3, 2, nan]]</td>\n",
       "      <td>ok:1!=1;C:ok;Q:ok;PCS:ok;GEM:ok;</td>\n",
       "      <td>13.71; 0.211; price:65;size:0,10-0,24;gem:сапф...</td>\n",
       "    </tr>\n",
       "    <tr>\n",
       "      <th>879</th>\n",
       "      <td>ЦБ-00005503</td>\n",
       "      <td>12сапфирПТ-0,170-КР+2/3 12Кр57-0,16-3/4А</td>\n",
       "      <td>([[12, сапфирпт, 0,170, кр, 2, 3, nan]], ok:1!...</td>\n",
       "      <td>[[12, сапфирпт, 0,170, кр, 2, 3, nan]]</td>\n",
       "      <td>ok:1!=1;C:ok;Q:ok;PCS:ok;GEM:ok;</td>\n",
       "      <td>10.20; 0.17; price:60;size:До 0,09;gem:сапфирпт</td>\n",
       "    </tr>\n",
       "    <tr>\n",
       "      <th>950</th>\n",
       "      <td>ЦБ-00005890</td>\n",
       "      <td>2СапфирПТ-0,170-кр+2/2 2Кр57-0,030-3/4А</td>\n",
       "      <td>([[2, сапфирпт, 0,170, кр, 2, 2, nan]], ok:1!=...</td>\n",
       "      <td>[[2, сапфирпт, 0,170, кр, 2, 2, nan]]</td>\n",
       "      <td>ok:1!=1;C:ok;Q:ok;PCS:ok;GEM:ok;</td>\n",
       "      <td>11.05; 0.17; price:65;size:До 0,09;gem:сапфирпт</td>\n",
       "    </tr>\n",
       "    <tr>\n",
       "      <th>951</th>\n",
       "      <td>ЦБ-00005891</td>\n",
       "      <td>2СапфирПТ-0,198-кр+2/3 2Кр57-0,022-2/3А</td>\n",
       "      <td>([[2, сапфирпт, 0,198, кр, 2, 3, nan]], ok:1!=...</td>\n",
       "      <td>[[2, сапфирпт, 0,198, кр, 2, 3, nan]]</td>\n",
       "      <td>ok:1!=1;C:ok;Q:ok;PCS:ok;GEM:ok;</td>\n",
       "      <td>11.88; 0.198; price:60;size:До 0,09;gem:сапфирпт</td>\n",
       "    </tr>\n",
       "    <tr>\n",
       "      <th>...</th>\n",
       "      <td>...</td>\n",
       "      <td>...</td>\n",
       "      <td>...</td>\n",
       "      <td>...</td>\n",
       "      <td>...</td>\n",
       "      <td>...</td>\n",
       "    </tr>\n",
       "    <tr>\n",
       "      <th>29399</th>\n",
       "      <td>ЦБ-00188585</td>\n",
       "      <td>2СапфирПТ-1,640-ГР+2/2 70КР57-0,820-4/6А</td>\n",
       "      <td>([[2, сапфирпт, 1,640, гр, 2, 2, nan]], ok:1!=...</td>\n",
       "      <td>[[2, сапфирпт, 1,640, гр, 2, 2, nan]]</td>\n",
       "      <td>ok:1!=1;C:ok;Q:ok;PCS:ok;GEM:ok;</td>\n",
       "      <td>278.80; 1.64; price:170;size:0,50-0,99;gem:сап...</td>\n",
       "    </tr>\n",
       "    <tr>\n",
       "      <th>29405</th>\n",
       "      <td>ЦБ-00188647</td>\n",
       "      <td>Топаз*Голубой 56СапфирПТ-0,360-КР+3/3</td>\n",
       "      <td>([[56, сапфирпт, 0,360, кр, 3, 3, nan]], ok:1!...</td>\n",
       "      <td>[[56, сапфирпт, 0,360, кр, 3, 3, nan]]</td>\n",
       "      <td>ok:1!=1;C:ok;Q:ok;PCS:ok;GEM:ok;</td>\n",
       "      <td>16.20; 0.36; price:45;size:До 0,09;gem:сапфирпт</td>\n",
       "    </tr>\n",
       "    <tr>\n",
       "      <th>29409</th>\n",
       "      <td>ЦБ-00188651</td>\n",
       "      <td>2СапфирПТ-0,900-ГР+1/2 9КР57-0,270-4/3А</td>\n",
       "      <td>([[2, сапфирпт, 0,900, гр, 1, 2, nan]], ok:1!=...</td>\n",
       "      <td>[[2, сапфирпт, 0,900, гр, 1, 2, nan]]</td>\n",
       "      <td>ok:1!=1;C:ok;Q:ok;PCS:ok;GEM:ok;</td>\n",
       "      <td>180.00; 0.9; price:200;size:0,25-0,49;gem:сапф...</td>\n",
       "    </tr>\n",
       "    <tr>\n",
       "      <th>29564</th>\n",
       "      <td>ЦБ-00188961</td>\n",
       "      <td>1СапфирПТ-0,100-КР+2/2 2КР57-0,090-2/4А</td>\n",
       "      <td>([[1, сапфирпт, 0,100, кр, 2, 2, nan]], ok:1!=...</td>\n",
       "      <td>[[1, сапфирпт, 0,100, кр, 2, 2, nan]]</td>\n",
       "      <td>ok:1!=1;C:ok;Q:ok;PCS:ok;GEM:ok;</td>\n",
       "      <td>8.00; 0.1; price:80;size:0,10-0,24;gem:сапфирпт</td>\n",
       "    </tr>\n",
       "    <tr>\n",
       "      <th>29576</th>\n",
       "      <td>ЦБ-00189699</td>\n",
       "      <td>1СапфирПТ-0,600-ов+2/2 10КР57-0,138-6/6А</td>\n",
       "      <td>([[1, сапфирпт, 0,600, ов, 2, 2, nan]], ok:1!=...</td>\n",
       "      <td>[[1, сапфирпт, 0,600, ов, 2, 2, nan]]</td>\n",
       "      <td>ok:1!=1;C:ok;Q:ok;PCS:ok;GEM:ok;</td>\n",
       "      <td>102.00; 0.6; price:170;size:0,50-0,99;gem:сапф...</td>\n",
       "    </tr>\n",
       "  </tbody>\n",
       "</table>\n",
       "<p>425 rows × 6 columns</p>\n",
       "</div>"
      ],
      "text/plain": [
       "               Код                                                vst  \\\n",
       "203    ЦБ-00001991             1сапфирПТ-0,450-КВ+2/2 2кр57-0,02-2/3А   \n",
       "501    ЦБ-00003190  1сапфирПТ-0,211-ОВ+3/2 4кр57-0,042-3/4А 2кр57-...   \n",
       "879    ЦБ-00005503           12сапфирПТ-0,170-КР+2/3 12Кр57-0,16-3/4А   \n",
       "950    ЦБ-00005890            2СапфирПТ-0,170-кр+2/2 2Кр57-0,030-3/4А   \n",
       "951    ЦБ-00005891            2СапфирПТ-0,198-кр+2/3 2Кр57-0,022-2/3А   \n",
       "...            ...                                                ...   \n",
       "29399  ЦБ-00188585           2СапфирПТ-1,640-ГР+2/2 70КР57-0,820-4/6А   \n",
       "29405  ЦБ-00188647              Топаз*Голубой 56СапфирПТ-0,360-КР+3/3   \n",
       "29409  ЦБ-00188651            2СапфирПТ-0,900-ГР+1/2 9КР57-0,270-4/3А   \n",
       "29564  ЦБ-00188961            1СапфирПТ-0,100-КР+2/2 2КР57-0,090-2/4А   \n",
       "29576  ЦБ-00189699           1СапфирПТ-0,600-ов+2/2 10КР57-0,138-6/6А   \n",
       "\n",
       "                                        make_list_sap_20  \\\n",
       "203    ([[1, сапфирпт, 0,450, кв, 2, 2, nan]], ok:1!=...   \n",
       "501    ([[1, сапфирпт, 0,211, ов, 3, 2, nan]], ok:1!=...   \n",
       "879    ([[12, сапфирпт, 0,170, кр, 2, 3, nan]], ok:1!...   \n",
       "950    ([[2, сапфирпт, 0,170, кр, 2, 2, nan]], ok:1!=...   \n",
       "951    ([[2, сапфирпт, 0,198, кр, 2, 3, nan]], ok:1!=...   \n",
       "...                                                  ...   \n",
       "29399  ([[2, сапфирпт, 1,640, гр, 2, 2, nan]], ok:1!=...   \n",
       "29405  ([[56, сапфирпт, 0,360, кр, 3, 3, nan]], ok:1!...   \n",
       "29409  ([[2, сапфирпт, 0,900, гр, 1, 2, nan]], ok:1!=...   \n",
       "29564  ([[1, сапфирпт, 0,100, кр, 2, 2, nan]], ok:1!=...   \n",
       "29576  ([[1, сапфирпт, 0,600, ов, 2, 2, nan]], ok:1!=...   \n",
       "\n",
       "                               list_std_sap20  \\\n",
       "203     [[1, сапфирпт, 0,450, кв, 2, 2, nan]]   \n",
       "501     [[1, сапфирпт, 0,211, ов, 3, 2, nan]]   \n",
       "879    [[12, сапфирпт, 0,170, кр, 2, 3, nan]]   \n",
       "950     [[2, сапфирпт, 0,170, кр, 2, 2, nan]]   \n",
       "951     [[2, сапфирпт, 0,198, кр, 2, 3, nan]]   \n",
       "...                                       ...   \n",
       "29399   [[2, сапфирпт, 1,640, гр, 2, 2, nan]]   \n",
       "29405  [[56, сапфирпт, 0,360, кр, 3, 3, nan]]   \n",
       "29409   [[2, сапфирпт, 0,900, гр, 1, 2, nan]]   \n",
       "29564   [[1, сапфирпт, 0,100, кр, 2, 2, nan]]   \n",
       "29576   [[1, сапфирпт, 0,600, ов, 2, 2, nan]]   \n",
       "\n",
       "                           report_sap20  \\\n",
       "203    ok:1!=1;C:ok;Q:ok;PCS:ok;GEM:ok;   \n",
       "501    ok:1!=1;C:ok;Q:ok;PCS:ok;GEM:ok;   \n",
       "879    ok:1!=1;C:ok;Q:ok;PCS:ok;GEM:ok;   \n",
       "950    ok:1!=1;C:ok;Q:ok;PCS:ok;GEM:ok;   \n",
       "951    ok:1!=1;C:ok;Q:ok;PCS:ok;GEM:ok;   \n",
       "...                                 ...   \n",
       "29399  ok:1!=1;C:ok;Q:ok;PCS:ok;GEM:ok;   \n",
       "29405  ok:1!=1;C:ok;Q:ok;PCS:ok;GEM:ok;   \n",
       "29409  ok:1!=1;C:ok;Q:ok;PCS:ok;GEM:ok;   \n",
       "29564  ok:1!=1;C:ok;Q:ok;PCS:ok;GEM:ok;   \n",
       "29576  ok:1!=1;C:ok;Q:ok;PCS:ok;GEM:ok;   \n",
       "\n",
       "                                       count_price_sap20  \n",
       "203    51.75; 0.45; price:115;size:0,25-0,49;gem:сапф...  \n",
       "501    13.71; 0.211; price:65;size:0,10-0,24;gem:сапф...  \n",
       "879      10.20; 0.17; price:60;size:До 0,09;gem:сапфирпт  \n",
       "950      11.05; 0.17; price:65;size:До 0,09;gem:сапфирпт  \n",
       "951     11.88; 0.198; price:60;size:До 0,09;gem:сапфирпт  \n",
       "...                                                  ...  \n",
       "29399  278.80; 1.64; price:170;size:0,50-0,99;gem:сап...  \n",
       "29405    16.20; 0.36; price:45;size:До 0,09;gem:сапфирпт  \n",
       "29409  180.00; 0.9; price:200;size:0,25-0,49;gem:сапф...  \n",
       "29564    8.00; 0.1; price:80;size:0,10-0,24;gem:сапфирпт  \n",
       "29576  102.00; 0.6; price:170;size:0,50-0,99;gem:сапф...  \n",
       "\n",
       "[425 rows x 6 columns]"
      ]
     },
     "execution_count": 174,
     "metadata": {},
     "output_type": "execute_result"
    }
   ],
   "source": [
    "df_test[df_test['count_price_sap20'].map(len)!=0]"
   ]
  },
  {
   "cell_type": "code",
   "execution_count": null,
   "id": "de9a568d",
   "metadata": {},
   "outputs": [],
   "source": []
  },
  {
   "cell_type": "code",
   "execution_count": 175,
   "id": "eaf8b190",
   "metadata": {},
   "outputs": [
    {
     "data": {
      "text/plain": [
       "0        0\n",
       "1        0\n",
       "2        0\n",
       "3        0\n",
       "4        0\n",
       "        ..\n",
       "34504    0\n",
       "34505    0\n",
       "34506    0\n",
       "34507    0\n",
       "34508    0\n",
       "Name: count_price_sap20, Length: 34509, dtype: object"
      ]
     },
     "execution_count": 175,
     "metadata": {},
     "output_type": "execute_result"
    }
   ],
   "source": [
    "df_test['count_price_sap20'].apply(lambda x: 0 if len(x)==0 else x) "
   ]
  },
  {
   "cell_type": "code",
   "execution_count": 176,
   "id": "e83ee692",
   "metadata": {},
   "outputs": [],
   "source": [
    "df_test['prsap_cost'] = df_test['count_price_sap20'].apply(lambda x: 0 if len(x)==0 else x.split(\";\")[0]) #map(len)!=0]"
   ]
  },
  {
   "cell_type": "code",
   "execution_count": 177,
   "id": "8384fadd",
   "metadata": {
    "scrolled": false
   },
   "outputs": [
    {
     "data": {
      "text/html": [
       "<div>\n",
       "<style scoped>\n",
       "    .dataframe tbody tr th:only-of-type {\n",
       "        vertical-align: middle;\n",
       "    }\n",
       "\n",
       "    .dataframe tbody tr th {\n",
       "        vertical-align: top;\n",
       "    }\n",
       "\n",
       "    .dataframe thead th {\n",
       "        text-align: right;\n",
       "    }\n",
       "</style>\n",
       "<table border=\"1\" class=\"dataframe\">\n",
       "  <thead>\n",
       "    <tr style=\"text-align: right;\">\n",
       "      <th></th>\n",
       "      <th>Код</th>\n",
       "      <th>vst</th>\n",
       "      <th>make_list_sap_20</th>\n",
       "      <th>list_std_sap20</th>\n",
       "      <th>report_sap20</th>\n",
       "      <th>count_price_sap20</th>\n",
       "      <th>prsap_cost</th>\n",
       "    </tr>\n",
       "  </thead>\n",
       "  <tbody>\n",
       "    <tr>\n",
       "      <th>203</th>\n",
       "      <td>ЦБ-00001991</td>\n",
       "      <td>1сапфирПТ-0,450-КВ+2/2 2кр57-0,02-2/3А</td>\n",
       "      <td>([[1, сапфирпт, 0,450, кв, 2, 2, nan]], ok:1!=...</td>\n",
       "      <td>[[1, сапфирпт, 0,450, кв, 2, 2, nan]]</td>\n",
       "      <td>ok:1!=1;C:ok;Q:ok;PCS:ok;GEM:ok;</td>\n",
       "      <td>51.75; 0.45; price:115;size:0,25-0,49;gem:сапф...</td>\n",
       "      <td>51.75</td>\n",
       "    </tr>\n",
       "    <tr>\n",
       "      <th>501</th>\n",
       "      <td>ЦБ-00003190</td>\n",
       "      <td>1сапфирПТ-0,211-ОВ+3/2 4кр57-0,042-3/4А 2кр57-...</td>\n",
       "      <td>([[1, сапфирпт, 0,211, ов, 3, 2, nan]], ok:1!=...</td>\n",
       "      <td>[[1, сапфирпт, 0,211, ов, 3, 2, nan]]</td>\n",
       "      <td>ok:1!=1;C:ok;Q:ok;PCS:ok;GEM:ok;</td>\n",
       "      <td>13.71; 0.211; price:65;size:0,10-0,24;gem:сапф...</td>\n",
       "      <td>13.71</td>\n",
       "    </tr>\n",
       "    <tr>\n",
       "      <th>879</th>\n",
       "      <td>ЦБ-00005503</td>\n",
       "      <td>12сапфирПТ-0,170-КР+2/3 12Кр57-0,16-3/4А</td>\n",
       "      <td>([[12, сапфирпт, 0,170, кр, 2, 3, nan]], ok:1!...</td>\n",
       "      <td>[[12, сапфирпт, 0,170, кр, 2, 3, nan]]</td>\n",
       "      <td>ok:1!=1;C:ok;Q:ok;PCS:ok;GEM:ok;</td>\n",
       "      <td>10.20; 0.17; price:60;size:До 0,09;gem:сапфирпт</td>\n",
       "      <td>10.20</td>\n",
       "    </tr>\n",
       "    <tr>\n",
       "      <th>950</th>\n",
       "      <td>ЦБ-00005890</td>\n",
       "      <td>2СапфирПТ-0,170-кр+2/2 2Кр57-0,030-3/4А</td>\n",
       "      <td>([[2, сапфирпт, 0,170, кр, 2, 2, nan]], ok:1!=...</td>\n",
       "      <td>[[2, сапфирпт, 0,170, кр, 2, 2, nan]]</td>\n",
       "      <td>ok:1!=1;C:ok;Q:ok;PCS:ok;GEM:ok;</td>\n",
       "      <td>11.05; 0.17; price:65;size:До 0,09;gem:сапфирпт</td>\n",
       "      <td>11.05</td>\n",
       "    </tr>\n",
       "    <tr>\n",
       "      <th>951</th>\n",
       "      <td>ЦБ-00005891</td>\n",
       "      <td>2СапфирПТ-0,198-кр+2/3 2Кр57-0,022-2/3А</td>\n",
       "      <td>([[2, сапфирпт, 0,198, кр, 2, 3, nan]], ok:1!=...</td>\n",
       "      <td>[[2, сапфирпт, 0,198, кр, 2, 3, nan]]</td>\n",
       "      <td>ok:1!=1;C:ok;Q:ok;PCS:ok;GEM:ok;</td>\n",
       "      <td>11.88; 0.198; price:60;size:До 0,09;gem:сапфирпт</td>\n",
       "      <td>11.88</td>\n",
       "    </tr>\n",
       "    <tr>\n",
       "      <th>...</th>\n",
       "      <td>...</td>\n",
       "      <td>...</td>\n",
       "      <td>...</td>\n",
       "      <td>...</td>\n",
       "      <td>...</td>\n",
       "      <td>...</td>\n",
       "      <td>...</td>\n",
       "    </tr>\n",
       "    <tr>\n",
       "      <th>29399</th>\n",
       "      <td>ЦБ-00188585</td>\n",
       "      <td>2СапфирПТ-1,640-ГР+2/2 70КР57-0,820-4/6А</td>\n",
       "      <td>([[2, сапфирпт, 1,640, гр, 2, 2, nan]], ok:1!=...</td>\n",
       "      <td>[[2, сапфирпт, 1,640, гр, 2, 2, nan]]</td>\n",
       "      <td>ok:1!=1;C:ok;Q:ok;PCS:ok;GEM:ok;</td>\n",
       "      <td>278.80; 1.64; price:170;size:0,50-0,99;gem:сап...</td>\n",
       "      <td>278.80</td>\n",
       "    </tr>\n",
       "    <tr>\n",
       "      <th>29405</th>\n",
       "      <td>ЦБ-00188647</td>\n",
       "      <td>Топаз*Голубой 56СапфирПТ-0,360-КР+3/3</td>\n",
       "      <td>([[56, сапфирпт, 0,360, кр, 3, 3, nan]], ok:1!...</td>\n",
       "      <td>[[56, сапфирпт, 0,360, кр, 3, 3, nan]]</td>\n",
       "      <td>ok:1!=1;C:ok;Q:ok;PCS:ok;GEM:ok;</td>\n",
       "      <td>16.20; 0.36; price:45;size:До 0,09;gem:сапфирпт</td>\n",
       "      <td>16.20</td>\n",
       "    </tr>\n",
       "    <tr>\n",
       "      <th>29409</th>\n",
       "      <td>ЦБ-00188651</td>\n",
       "      <td>2СапфирПТ-0,900-ГР+1/2 9КР57-0,270-4/3А</td>\n",
       "      <td>([[2, сапфирпт, 0,900, гр, 1, 2, nan]], ok:1!=...</td>\n",
       "      <td>[[2, сапфирпт, 0,900, гр, 1, 2, nan]]</td>\n",
       "      <td>ok:1!=1;C:ok;Q:ok;PCS:ok;GEM:ok;</td>\n",
       "      <td>180.00; 0.9; price:200;size:0,25-0,49;gem:сапф...</td>\n",
       "      <td>180.00</td>\n",
       "    </tr>\n",
       "    <tr>\n",
       "      <th>29564</th>\n",
       "      <td>ЦБ-00188961</td>\n",
       "      <td>1СапфирПТ-0,100-КР+2/2 2КР57-0,090-2/4А</td>\n",
       "      <td>([[1, сапфирпт, 0,100, кр, 2, 2, nan]], ok:1!=...</td>\n",
       "      <td>[[1, сапфирпт, 0,100, кр, 2, 2, nan]]</td>\n",
       "      <td>ok:1!=1;C:ok;Q:ok;PCS:ok;GEM:ok;</td>\n",
       "      <td>8.00; 0.1; price:80;size:0,10-0,24;gem:сапфирпт</td>\n",
       "      <td>8.00</td>\n",
       "    </tr>\n",
       "    <tr>\n",
       "      <th>29576</th>\n",
       "      <td>ЦБ-00189699</td>\n",
       "      <td>1СапфирПТ-0,600-ов+2/2 10КР57-0,138-6/6А</td>\n",
       "      <td>([[1, сапфирпт, 0,600, ов, 2, 2, nan]], ok:1!=...</td>\n",
       "      <td>[[1, сапфирпт, 0,600, ов, 2, 2, nan]]</td>\n",
       "      <td>ok:1!=1;C:ok;Q:ok;PCS:ok;GEM:ok;</td>\n",
       "      <td>102.00; 0.6; price:170;size:0,50-0,99;gem:сапф...</td>\n",
       "      <td>102.00</td>\n",
       "    </tr>\n",
       "  </tbody>\n",
       "</table>\n",
       "<p>425 rows × 7 columns</p>\n",
       "</div>"
      ],
      "text/plain": [
       "               Код                                                vst  \\\n",
       "203    ЦБ-00001991             1сапфирПТ-0,450-КВ+2/2 2кр57-0,02-2/3А   \n",
       "501    ЦБ-00003190  1сапфирПТ-0,211-ОВ+3/2 4кр57-0,042-3/4А 2кр57-...   \n",
       "879    ЦБ-00005503           12сапфирПТ-0,170-КР+2/3 12Кр57-0,16-3/4А   \n",
       "950    ЦБ-00005890            2СапфирПТ-0,170-кр+2/2 2Кр57-0,030-3/4А   \n",
       "951    ЦБ-00005891            2СапфирПТ-0,198-кр+2/3 2Кр57-0,022-2/3А   \n",
       "...            ...                                                ...   \n",
       "29399  ЦБ-00188585           2СапфирПТ-1,640-ГР+2/2 70КР57-0,820-4/6А   \n",
       "29405  ЦБ-00188647              Топаз*Голубой 56СапфирПТ-0,360-КР+3/3   \n",
       "29409  ЦБ-00188651            2СапфирПТ-0,900-ГР+1/2 9КР57-0,270-4/3А   \n",
       "29564  ЦБ-00188961            1СапфирПТ-0,100-КР+2/2 2КР57-0,090-2/4А   \n",
       "29576  ЦБ-00189699           1СапфирПТ-0,600-ов+2/2 10КР57-0,138-6/6А   \n",
       "\n",
       "                                        make_list_sap_20  \\\n",
       "203    ([[1, сапфирпт, 0,450, кв, 2, 2, nan]], ok:1!=...   \n",
       "501    ([[1, сапфирпт, 0,211, ов, 3, 2, nan]], ok:1!=...   \n",
       "879    ([[12, сапфирпт, 0,170, кр, 2, 3, nan]], ok:1!...   \n",
       "950    ([[2, сапфирпт, 0,170, кр, 2, 2, nan]], ok:1!=...   \n",
       "951    ([[2, сапфирпт, 0,198, кр, 2, 3, nan]], ok:1!=...   \n",
       "...                                                  ...   \n",
       "29399  ([[2, сапфирпт, 1,640, гр, 2, 2, nan]], ok:1!=...   \n",
       "29405  ([[56, сапфирпт, 0,360, кр, 3, 3, nan]], ok:1!...   \n",
       "29409  ([[2, сапфирпт, 0,900, гр, 1, 2, nan]], ok:1!=...   \n",
       "29564  ([[1, сапфирпт, 0,100, кр, 2, 2, nan]], ok:1!=...   \n",
       "29576  ([[1, сапфирпт, 0,600, ов, 2, 2, nan]], ok:1!=...   \n",
       "\n",
       "                               list_std_sap20  \\\n",
       "203     [[1, сапфирпт, 0,450, кв, 2, 2, nan]]   \n",
       "501     [[1, сапфирпт, 0,211, ов, 3, 2, nan]]   \n",
       "879    [[12, сапфирпт, 0,170, кр, 2, 3, nan]]   \n",
       "950     [[2, сапфирпт, 0,170, кр, 2, 2, nan]]   \n",
       "951     [[2, сапфирпт, 0,198, кр, 2, 3, nan]]   \n",
       "...                                       ...   \n",
       "29399   [[2, сапфирпт, 1,640, гр, 2, 2, nan]]   \n",
       "29405  [[56, сапфирпт, 0,360, кр, 3, 3, nan]]   \n",
       "29409   [[2, сапфирпт, 0,900, гр, 1, 2, nan]]   \n",
       "29564   [[1, сапфирпт, 0,100, кр, 2, 2, nan]]   \n",
       "29576   [[1, сапфирпт, 0,600, ов, 2, 2, nan]]   \n",
       "\n",
       "                           report_sap20  \\\n",
       "203    ok:1!=1;C:ok;Q:ok;PCS:ok;GEM:ok;   \n",
       "501    ok:1!=1;C:ok;Q:ok;PCS:ok;GEM:ok;   \n",
       "879    ok:1!=1;C:ok;Q:ok;PCS:ok;GEM:ok;   \n",
       "950    ok:1!=1;C:ok;Q:ok;PCS:ok;GEM:ok;   \n",
       "951    ok:1!=1;C:ok;Q:ok;PCS:ok;GEM:ok;   \n",
       "...                                 ...   \n",
       "29399  ok:1!=1;C:ok;Q:ok;PCS:ok;GEM:ok;   \n",
       "29405  ok:1!=1;C:ok;Q:ok;PCS:ok;GEM:ok;   \n",
       "29409  ok:1!=1;C:ok;Q:ok;PCS:ok;GEM:ok;   \n",
       "29564  ok:1!=1;C:ok;Q:ok;PCS:ok;GEM:ok;   \n",
       "29576  ok:1!=1;C:ok;Q:ok;PCS:ok;GEM:ok;   \n",
       "\n",
       "                                       count_price_sap20 prsap_cost  \n",
       "203    51.75; 0.45; price:115;size:0,25-0,49;gem:сапф...      51.75  \n",
       "501    13.71; 0.211; price:65;size:0,10-0,24;gem:сапф...      13.71  \n",
       "879      10.20; 0.17; price:60;size:До 0,09;gem:сапфирпт      10.20  \n",
       "950      11.05; 0.17; price:65;size:До 0,09;gem:сапфирпт      11.05  \n",
       "951     11.88; 0.198; price:60;size:До 0,09;gem:сапфирпт      11.88  \n",
       "...                                                  ...        ...  \n",
       "29399  278.80; 1.64; price:170;size:0,50-0,99;gem:сап...     278.80  \n",
       "29405    16.20; 0.36; price:45;size:До 0,09;gem:сапфирпт      16.20  \n",
       "29409  180.00; 0.9; price:200;size:0,25-0,49;gem:сапф...     180.00  \n",
       "29564    8.00; 0.1; price:80;size:0,10-0,24;gem:сапфирпт       8.00  \n",
       "29576  102.00; 0.6; price:170;size:0,50-0,99;gem:сапф...     102.00  \n",
       "\n",
       "[425 rows x 7 columns]"
      ]
     },
     "execution_count": 177,
     "metadata": {},
     "output_type": "execute_result"
    }
   ],
   "source": [
    "df_test[df_test['prsap_cost'] !=0]"
   ]
  },
  {
   "cell_type": "code",
   "execution_count": null,
   "id": "70d78d00",
   "metadata": {},
   "outputs": [],
   "source": []
  },
  {
   "cell_type": "markdown",
   "id": "2f9dfbbb",
   "metadata": {},
   "source": [
    "### Массовая прогонка ruby\n"
   ]
  },
  {
   "cell_type": "code",
   "execution_count": 77,
   "id": "15292743",
   "metadata": {},
   "outputs": [],
   "source": [
    "# результат функции (стандартный лист, рапорт распознавания ) \n",
    "df_test['make_list_ruby20'] = df_test.vst.apply(lambda x: price_sap_ruby2.make_list_ruby(x))\n",
    "# стандартный лист\n",
    "df_test['list_std_ruby20'] = df_test['make_list_ruby20'].apply(lambda x: x[0])\n",
    "# рапорт распознавания \n",
    "df_test['report_ruby20'] = df_test['make_list_ruby20'].apply(lambda x: x[1])\n",
    "#  результат функции (рапорт применения прейскуранта) \n",
    "df_test['count_price_ruby20']=df_test['make_list_ruby20'].apply(lambda x: price_sap_ruby2.count_price_report(x))\n",
    "# прейскурантая стоимсоть float или ошибка \n",
    "df_test['prruby_cost'] = df_test['count_price_ruby20'].apply(lambda x: 0 if len(x)==0 else x.split(\";\")[0]) #map(len)!=0]"
   ]
  },
  {
   "cell_type": "code",
   "execution_count": 78,
   "id": "0a05d338",
   "metadata": {
    "scrolled": true
   },
   "outputs": [
    {
     "data": {
      "text/html": [
       "<div>\n",
       "<style scoped>\n",
       "    .dataframe tbody tr th:only-of-type {\n",
       "        vertical-align: middle;\n",
       "    }\n",
       "\n",
       "    .dataframe tbody tr th {\n",
       "        vertical-align: top;\n",
       "    }\n",
       "\n",
       "    .dataframe thead th {\n",
       "        text-align: right;\n",
       "    }\n",
       "</style>\n",
       "<table border=\"1\" class=\"dataframe\">\n",
       "  <thead>\n",
       "    <tr style=\"text-align: right;\">\n",
       "      <th></th>\n",
       "      <th>Код</th>\n",
       "      <th>vst</th>\n",
       "      <th>make_list_sap_20</th>\n",
       "      <th>list_std_sap20</th>\n",
       "      <th>report_sap20</th>\n",
       "      <th>count_price_sap20</th>\n",
       "      <th>prsap_cost</th>\n",
       "      <th>make_list_ruby20</th>\n",
       "      <th>list_std_ruby20</th>\n",
       "      <th>report_ruby20</th>\n",
       "      <th>count_price_ruby20</th>\n",
       "      <th>prruby_cost</th>\n",
       "    </tr>\n",
       "  </thead>\n",
       "  <tbody>\n",
       "    <tr>\n",
       "      <th>220</th>\n",
       "      <td>ЦБ-00002032</td>\n",
       "      <td>1РубинПТ-0,230-ОВ+2/2</td>\n",
       "      <td>([], ok:0!=0;нет распознанных)</td>\n",
       "      <td>[]</td>\n",
       "      <td>ok:0!=0;нет распознанных</td>\n",
       "      <td>[]</td>\n",
       "      <td>0</td>\n",
       "      <td>([[1, рубинпт, 0,230, ов, 2, 2, nan]], ok:1!=1...</td>\n",
       "      <td>[[1, рубинпт, 0,230, ов, 2, 2, nan]]</td>\n",
       "      <td>ok:1!=1;C:ok;Q:ok;PCS:ok;GEM:ok;</td>\n",
       "      <td>35.65; 0.23; price:155;size:0,10-0,24;gem:рубинпт</td>\n",
       "      <td>35.65</td>\n",
       "    </tr>\n",
       "    <tr>\n",
       "      <th>221</th>\n",
       "      <td>ЦБ-00002033</td>\n",
       "      <td>1рубинПТ-0,770-ОВ+2/2 18кр57-0,37-3/4А</td>\n",
       "      <td>([], ok:0!=0;нет распознанных)</td>\n",
       "      <td>[]</td>\n",
       "      <td>ok:0!=0;нет распознанных</td>\n",
       "      <td>[]</td>\n",
       "      <td>0</td>\n",
       "      <td>([[1, рубинпт, 0,770, ов, 2, 2, nan]], ok:1!=1...</td>\n",
       "      <td>[[1, рубинпт, 0,770, ов, 2, 2, nan]]</td>\n",
       "      <td>ok:1!=1;C:ok;Q:ok;PCS:ok;GEM:ok;</td>\n",
       "      <td>308.00; 0.77; price:400;size:0,50-0,99;gem:руб...</td>\n",
       "      <td>308.00</td>\n",
       "    </tr>\n",
       "    <tr>\n",
       "      <th>391</th>\n",
       "      <td>ЦБ-00003020</td>\n",
       "      <td>2РубинПТ-0,100-кр+3/3 10кр57-0,14-3/3А</td>\n",
       "      <td>([], ok:0!=0;нет распознанных)</td>\n",
       "      <td>[]</td>\n",
       "      <td>ok:0!=0;нет распознанных</td>\n",
       "      <td>[]</td>\n",
       "      <td>0</td>\n",
       "      <td>([[2, рубинпт, 0,100, кр, 3, 3, nan]], ok:1!=1...</td>\n",
       "      <td>[[2, рубинпт, 0,100, кр, 3, 3, nan]]</td>\n",
       "      <td>ok:1!=1;C:ok;Q:ok;PCS:ok;GEM:ok;</td>\n",
       "      <td>10.00; 0.1; price:100;size:До 0,09;gem:рубинпт</td>\n",
       "      <td>10.00</td>\n",
       "    </tr>\n",
       "    <tr>\n",
       "      <th>871</th>\n",
       "      <td>ЦБ-00005481</td>\n",
       "      <td>1РубинПТ-0,307-М+2/2 4кр57-0,08-4/5А</td>\n",
       "      <td>([], ok:0!=0;нет распознанных)</td>\n",
       "      <td>[]</td>\n",
       "      <td>ok:0!=0;нет распознанных</td>\n",
       "      <td>[]</td>\n",
       "      <td>0</td>\n",
       "      <td>([[1, рубинпт, 0,307, м, 2, 2, nan]], ok:1!=1;...</td>\n",
       "      <td>[[1, рубинпт, 0,307, м, 2, 2, nan]]</td>\n",
       "      <td>ok:1!=1;C:ok;Q:ok;PCS:ok;GEM:ok;</td>\n",
       "      <td>55.26; 0.307; price:180;size:0,25-0,49;gem:руб...</td>\n",
       "      <td>55.26</td>\n",
       "    </tr>\n",
       "    <tr>\n",
       "      <th>949</th>\n",
       "      <td>ЦБ-00005889</td>\n",
       "      <td>2РубинПТ-0,080-кр+2/2 2Кр57-0,030-3/4А</td>\n",
       "      <td>([], ok:0!=0;нет распознанных)</td>\n",
       "      <td>[]</td>\n",
       "      <td>ok:0!=0;нет распознанных</td>\n",
       "      <td>[]</td>\n",
       "      <td>0</td>\n",
       "      <td>([[2, рубинпт, 0,080, кр, 2, 2, nan]], ok:1!=1...</td>\n",
       "      <td>[[2, рубинпт, 0,080, кр, 2, 2, nan]]</td>\n",
       "      <td>ok:1!=1;C:ok;Q:ok;PCS:ok;GEM:ok;</td>\n",
       "      <td>11.20; 0.08; price:140;size:До 0,09;gem:рубинпт</td>\n",
       "      <td>11.20</td>\n",
       "    </tr>\n",
       "    <tr>\n",
       "      <th>...</th>\n",
       "      <td>...</td>\n",
       "      <td>...</td>\n",
       "      <td>...</td>\n",
       "      <td>...</td>\n",
       "      <td>...</td>\n",
       "      <td>...</td>\n",
       "      <td>...</td>\n",
       "      <td>...</td>\n",
       "      <td>...</td>\n",
       "      <td>...</td>\n",
       "      <td>...</td>\n",
       "      <td>...</td>\n",
       "    </tr>\n",
       "    <tr>\n",
       "      <th>29577</th>\n",
       "      <td>ЦБ-00189700</td>\n",
       "      <td>1РубинПТ-0,610-ов+3/2 10КР57-0,138-6/6А</td>\n",
       "      <td>([], ok:0!=0;нет распознанных)</td>\n",
       "      <td>[]</td>\n",
       "      <td>ok:0!=0;нет распознанных</td>\n",
       "      <td>[]</td>\n",
       "      <td>0</td>\n",
       "      <td>([[1, рубинпт, 0,610, ов, 3, 2, nan]], ok:1!=1...</td>\n",
       "      <td>[[1, рубинпт, 0,610, ов, 3, 2, nan]]</td>\n",
       "      <td>ok:1!=1;C:ok;Q:ok;PCS:ok;GEM:ok;</td>\n",
       "      <td>195.20; 0.61; price:320;size:0,50-0,99;gem:руб...</td>\n",
       "      <td>195.20</td>\n",
       "    </tr>\n",
       "    <tr>\n",
       "      <th>29606</th>\n",
       "      <td>ЦБ-00189729</td>\n",
       "      <td>1РубинПТ-0,610-ов+3/2 10КР57-0,138-6/6А</td>\n",
       "      <td>([], ok:0!=0;нет распознанных)</td>\n",
       "      <td>[]</td>\n",
       "      <td>ok:0!=0;нет распознанных</td>\n",
       "      <td>[]</td>\n",
       "      <td>0</td>\n",
       "      <td>([[1, рубинпт, 0,610, ов, 3, 2, nan]], ok:1!=1...</td>\n",
       "      <td>[[1, рубинпт, 0,610, ов, 3, 2, nan]]</td>\n",
       "      <td>ok:1!=1;C:ok;Q:ok;PCS:ok;GEM:ok;</td>\n",
       "      <td>195.20; 0.61; price:320;size:0,50-0,99;gem:руб...</td>\n",
       "      <td>195.20</td>\n",
       "    </tr>\n",
       "    <tr>\n",
       "      <th>29663</th>\n",
       "      <td>ЦБ-00189787</td>\n",
       "      <td>1РубинПТ-0,610-ов+3/4 10КР57-0,139-6/6А</td>\n",
       "      <td>([], ok:0!=0;нет распознанных)</td>\n",
       "      <td>[]</td>\n",
       "      <td>ok:0!=0;нет распознанных</td>\n",
       "      <td>[]</td>\n",
       "      <td>0</td>\n",
       "      <td>([[1, рубинпт, 0,610, ов, 3, 4, nan]], ok:1!=1...</td>\n",
       "      <td>[[1, рубинпт, 0,610, ов, 3, 4, nan]]</td>\n",
       "      <td>ok:1!=1;C:ok;Q:ok;PCS:ok;GEM:ok;</td>\n",
       "      <td>109.80; 0.61; price:180;size:0,50-0,99;gem:руб...</td>\n",
       "      <td>109.80</td>\n",
       "    </tr>\n",
       "    <tr>\n",
       "      <th>29717</th>\n",
       "      <td>ЦБ-00189841</td>\n",
       "      <td>1РубинПТ-0,610-ов+3/4 10КР57-0,138-6/6А</td>\n",
       "      <td>([], ok:0!=0;нет распознанных)</td>\n",
       "      <td>[]</td>\n",
       "      <td>ok:0!=0;нет распознанных</td>\n",
       "      <td>[]</td>\n",
       "      <td>0</td>\n",
       "      <td>([[1, рубинпт, 0,610, ов, 3, 4, nan]], ok:1!=1...</td>\n",
       "      <td>[[1, рубинпт, 0,610, ов, 3, 4, nan]]</td>\n",
       "      <td>ok:1!=1;C:ok;Q:ok;PCS:ok;GEM:ok;</td>\n",
       "      <td>109.80; 0.61; price:180;size:0,50-0,99;gem:руб...</td>\n",
       "      <td>109.80</td>\n",
       "    </tr>\n",
       "    <tr>\n",
       "      <th>29720</th>\n",
       "      <td>ЦБ-00189844</td>\n",
       "      <td>1РубинПТ-0,610-ов+3/2 10КР57-0,138-6/6А</td>\n",
       "      <td>([], ok:0!=0;нет распознанных)</td>\n",
       "      <td>[]</td>\n",
       "      <td>ok:0!=0;нет распознанных</td>\n",
       "      <td>[]</td>\n",
       "      <td>0</td>\n",
       "      <td>([[1, рубинпт, 0,610, ов, 3, 2, nan]], ok:1!=1...</td>\n",
       "      <td>[[1, рубинпт, 0,610, ов, 3, 2, nan]]</td>\n",
       "      <td>ok:1!=1;C:ok;Q:ok;PCS:ok;GEM:ok;</td>\n",
       "      <td>195.20; 0.61; price:320;size:0,50-0,99;gem:руб...</td>\n",
       "      <td>195.20</td>\n",
       "    </tr>\n",
       "  </tbody>\n",
       "</table>\n",
       "<p>204 rows × 12 columns</p>\n",
       "</div>"
      ],
      "text/plain": [
       "               Код                                      vst  \\\n",
       "220    ЦБ-00002032                    1РубинПТ-0,230-ОВ+2/2   \n",
       "221    ЦБ-00002033   1рубинПТ-0,770-ОВ+2/2 18кр57-0,37-3/4А   \n",
       "391    ЦБ-00003020   2РубинПТ-0,100-кр+3/3 10кр57-0,14-3/3А   \n",
       "871    ЦБ-00005481     1РубинПТ-0,307-М+2/2 4кр57-0,08-4/5А   \n",
       "949    ЦБ-00005889   2РубинПТ-0,080-кр+2/2 2Кр57-0,030-3/4А   \n",
       "...            ...                                      ...   \n",
       "29577  ЦБ-00189700  1РубинПТ-0,610-ов+3/2 10КР57-0,138-6/6А   \n",
       "29606  ЦБ-00189729  1РубинПТ-0,610-ов+3/2 10КР57-0,138-6/6А   \n",
       "29663  ЦБ-00189787  1РубинПТ-0,610-ов+3/4 10КР57-0,139-6/6А   \n",
       "29717  ЦБ-00189841  1РубинПТ-0,610-ов+3/4 10КР57-0,138-6/6А   \n",
       "29720  ЦБ-00189844  1РубинПТ-0,610-ов+3/2 10КР57-0,138-6/6А   \n",
       "\n",
       "                     make_list_sap_20 list_std_sap20  \\\n",
       "220    ([], ok:0!=0;нет распознанных)             []   \n",
       "221    ([], ok:0!=0;нет распознанных)             []   \n",
       "391    ([], ok:0!=0;нет распознанных)             []   \n",
       "871    ([], ok:0!=0;нет распознанных)             []   \n",
       "949    ([], ok:0!=0;нет распознанных)             []   \n",
       "...                               ...            ...   \n",
       "29577  ([], ok:0!=0;нет распознанных)             []   \n",
       "29606  ([], ok:0!=0;нет распознанных)             []   \n",
       "29663  ([], ok:0!=0;нет распознанных)             []   \n",
       "29717  ([], ok:0!=0;нет распознанных)             []   \n",
       "29720  ([], ok:0!=0;нет распознанных)             []   \n",
       "\n",
       "                   report_sap20 count_price_sap20 prsap_cost  \\\n",
       "220    ok:0!=0;нет распознанных                []          0   \n",
       "221    ok:0!=0;нет распознанных                []          0   \n",
       "391    ok:0!=0;нет распознанных                []          0   \n",
       "871    ok:0!=0;нет распознанных                []          0   \n",
       "949    ok:0!=0;нет распознанных                []          0   \n",
       "...                         ...               ...        ...   \n",
       "29577  ok:0!=0;нет распознанных                []          0   \n",
       "29606  ok:0!=0;нет распознанных                []          0   \n",
       "29663  ok:0!=0;нет распознанных                []          0   \n",
       "29717  ok:0!=0;нет распознанных                []          0   \n",
       "29720  ok:0!=0;нет распознанных                []          0   \n",
       "\n",
       "                                        make_list_ruby20  \\\n",
       "220    ([[1, рубинпт, 0,230, ов, 2, 2, nan]], ok:1!=1...   \n",
       "221    ([[1, рубинпт, 0,770, ов, 2, 2, nan]], ok:1!=1...   \n",
       "391    ([[2, рубинпт, 0,100, кр, 3, 3, nan]], ok:1!=1...   \n",
       "871    ([[1, рубинпт, 0,307, м, 2, 2, nan]], ok:1!=1;...   \n",
       "949    ([[2, рубинпт, 0,080, кр, 2, 2, nan]], ok:1!=1...   \n",
       "...                                                  ...   \n",
       "29577  ([[1, рубинпт, 0,610, ов, 3, 2, nan]], ok:1!=1...   \n",
       "29606  ([[1, рубинпт, 0,610, ов, 3, 2, nan]], ok:1!=1...   \n",
       "29663  ([[1, рубинпт, 0,610, ов, 3, 4, nan]], ok:1!=1...   \n",
       "29717  ([[1, рубинпт, 0,610, ов, 3, 4, nan]], ok:1!=1...   \n",
       "29720  ([[1, рубинпт, 0,610, ов, 3, 2, nan]], ok:1!=1...   \n",
       "\n",
       "                            list_std_ruby20                     report_ruby20  \\\n",
       "220    [[1, рубинпт, 0,230, ов, 2, 2, nan]]  ok:1!=1;C:ok;Q:ok;PCS:ok;GEM:ok;   \n",
       "221    [[1, рубинпт, 0,770, ов, 2, 2, nan]]  ok:1!=1;C:ok;Q:ok;PCS:ok;GEM:ok;   \n",
       "391    [[2, рубинпт, 0,100, кр, 3, 3, nan]]  ok:1!=1;C:ok;Q:ok;PCS:ok;GEM:ok;   \n",
       "871     [[1, рубинпт, 0,307, м, 2, 2, nan]]  ok:1!=1;C:ok;Q:ok;PCS:ok;GEM:ok;   \n",
       "949    [[2, рубинпт, 0,080, кр, 2, 2, nan]]  ok:1!=1;C:ok;Q:ok;PCS:ok;GEM:ok;   \n",
       "...                                     ...                               ...   \n",
       "29577  [[1, рубинпт, 0,610, ов, 3, 2, nan]]  ok:1!=1;C:ok;Q:ok;PCS:ok;GEM:ok;   \n",
       "29606  [[1, рубинпт, 0,610, ов, 3, 2, nan]]  ok:1!=1;C:ok;Q:ok;PCS:ok;GEM:ok;   \n",
       "29663  [[1, рубинпт, 0,610, ов, 3, 4, nan]]  ok:1!=1;C:ok;Q:ok;PCS:ok;GEM:ok;   \n",
       "29717  [[1, рубинпт, 0,610, ов, 3, 4, nan]]  ok:1!=1;C:ok;Q:ok;PCS:ok;GEM:ok;   \n",
       "29720  [[1, рубинпт, 0,610, ов, 3, 2, nan]]  ok:1!=1;C:ok;Q:ok;PCS:ok;GEM:ok;   \n",
       "\n",
       "                                      count_price_ruby20 prruby_cost  \n",
       "220    35.65; 0.23; price:155;size:0,10-0,24;gem:рубинпт       35.65  \n",
       "221    308.00; 0.77; price:400;size:0,50-0,99;gem:руб...      308.00  \n",
       "391       10.00; 0.1; price:100;size:До 0,09;gem:рубинпт       10.00  \n",
       "871    55.26; 0.307; price:180;size:0,25-0,49;gem:руб...       55.26  \n",
       "949      11.20; 0.08; price:140;size:До 0,09;gem:рубинпт       11.20  \n",
       "...                                                  ...         ...  \n",
       "29577  195.20; 0.61; price:320;size:0,50-0,99;gem:руб...      195.20  \n",
       "29606  195.20; 0.61; price:320;size:0,50-0,99;gem:руб...      195.20  \n",
       "29663  109.80; 0.61; price:180;size:0,50-0,99;gem:руб...      109.80  \n",
       "29717  109.80; 0.61; price:180;size:0,50-0,99;gem:руб...      109.80  \n",
       "29720  195.20; 0.61; price:320;size:0,50-0,99;gem:руб...      195.20  \n",
       "\n",
       "[204 rows x 12 columns]"
      ]
     },
     "execution_count": 78,
     "metadata": {},
     "output_type": "execute_result"
    }
   ],
   "source": [
    "df_test[df_test['prruby_cost'] !=0]"
   ]
  },
  {
   "cell_type": "markdown",
   "id": "062f7d64",
   "metadata": {},
   "source": [
    "#### разработка (не запускать)"
   ]
  },
  {
   "cell_type": "code",
   "execution_count": null,
   "id": "6a1b6bde",
   "metadata": {},
   "outputs": [],
   "source": [
    "не запускать"
   ]
  },
  {
   "cell_type": "code",
   "execution_count": 183,
   "id": "a5dfeb8c",
   "metadata": {},
   "outputs": [
    {
     "data": {
      "text/html": [
       "<div>\n",
       "<style scoped>\n",
       "    .dataframe tbody tr th:only-of-type {\n",
       "        vertical-align: middle;\n",
       "    }\n",
       "\n",
       "    .dataframe tbody tr th {\n",
       "        vertical-align: top;\n",
       "    }\n",
       "\n",
       "    .dataframe thead th {\n",
       "        text-align: right;\n",
       "    }\n",
       "</style>\n",
       "<table border=\"1\" class=\"dataframe\">\n",
       "  <thead>\n",
       "    <tr style=\"text-align: right;\">\n",
       "      <th></th>\n",
       "      <th>Код</th>\n",
       "      <th>vst</th>\n",
       "      <th>make_list_sap_20</th>\n",
       "      <th>list_std_sap20</th>\n",
       "      <th>report_sap20</th>\n",
       "      <th>count_price_sap20</th>\n",
       "      <th>prsap_cost</th>\n",
       "      <th>make_list_ruby20</th>\n",
       "      <th>list_std_ruby20</th>\n",
       "      <th>report_ruby20</th>\n",
       "      <th>count_price_ruby20</th>\n",
       "      <th>prruby_cost</th>\n",
       "    </tr>\n",
       "  </thead>\n",
       "  <tbody>\n",
       "    <tr>\n",
       "      <th>0</th>\n",
       "      <td>ЦБ-00000421</td>\n",
       "      <td>1Кр57-0,11-4/3А 1Кр57-0,10-4/3Б</td>\n",
       "      <td>([], ok:0!=0;нет распознанных)</td>\n",
       "      <td>[]</td>\n",
       "      <td>ok:0!=0;нет распознанных</td>\n",
       "      <td>[]</td>\n",
       "      <td>0</td>\n",
       "      <td>([], ok:0!=0;нет распознанных)</td>\n",
       "      <td>[]</td>\n",
       "      <td>ok:0!=0;нет распознанных</td>\n",
       "      <td>[]</td>\n",
       "      <td>0</td>\n",
       "    </tr>\n",
       "    <tr>\n",
       "      <th>1</th>\n",
       "      <td>ЦБ-00000422</td>\n",
       "      <td>2Кр57-0,431-4/5Б</td>\n",
       "      <td>([], ok:0!=0;нет распознанных)</td>\n",
       "      <td>[]</td>\n",
       "      <td>ok:0!=0;нет распознанных</td>\n",
       "      <td>[]</td>\n",
       "      <td>0</td>\n",
       "      <td>([], ok:0!=0;нет распознанных)</td>\n",
       "      <td>[]</td>\n",
       "      <td>ok:0!=0;нет распознанных</td>\n",
       "      <td>[]</td>\n",
       "      <td>0</td>\n",
       "    </tr>\n",
       "    <tr>\n",
       "      <th>2</th>\n",
       "      <td>ЦБ-00000426</td>\n",
       "      <td>1Кр57-0,30-4/4Б 1Кр57-0,35-4/5Б</td>\n",
       "      <td>([], ok:0!=0;нет распознанных)</td>\n",
       "      <td>[]</td>\n",
       "      <td>ok:0!=0;нет распознанных</td>\n",
       "      <td>[]</td>\n",
       "      <td>0</td>\n",
       "      <td>([], ok:0!=0;нет распознанных)</td>\n",
       "      <td>[]</td>\n",
       "      <td>ok:0!=0;нет распознанных</td>\n",
       "      <td>[]</td>\n",
       "      <td>0</td>\n",
       "    </tr>\n",
       "    <tr>\n",
       "      <th>3</th>\n",
       "      <td>ЦБ-00000427</td>\n",
       "      <td>2Кр57-0,44-3/3Б</td>\n",
       "      <td>([], ok:0!=0;нет распознанных)</td>\n",
       "      <td>[]</td>\n",
       "      <td>ok:0!=0;нет распознанных</td>\n",
       "      <td>[]</td>\n",
       "      <td>0</td>\n",
       "      <td>([], ok:0!=0;нет распознанных)</td>\n",
       "      <td>[]</td>\n",
       "      <td>ok:0!=0;нет распознанных</td>\n",
       "      <td>[]</td>\n",
       "      <td>0</td>\n",
       "    </tr>\n",
       "    <tr>\n",
       "      <th>4</th>\n",
       "      <td>ЦБ-00000428</td>\n",
       "      <td>2Кр57-0,427-4/3Б</td>\n",
       "      <td>([], ok:0!=0;нет распознанных)</td>\n",
       "      <td>[]</td>\n",
       "      <td>ok:0!=0;нет распознанных</td>\n",
       "      <td>[]</td>\n",
       "      <td>0</td>\n",
       "      <td>([], ok:0!=0;нет распознанных)</td>\n",
       "      <td>[]</td>\n",
       "      <td>ok:0!=0;нет распознанных</td>\n",
       "      <td>[]</td>\n",
       "      <td>0</td>\n",
       "    </tr>\n",
       "    <tr>\n",
       "      <th>...</th>\n",
       "      <td>...</td>\n",
       "      <td>...</td>\n",
       "      <td>...</td>\n",
       "      <td>...</td>\n",
       "      <td>...</td>\n",
       "      <td>...</td>\n",
       "      <td>...</td>\n",
       "      <td>...</td>\n",
       "      <td>...</td>\n",
       "      <td>...</td>\n",
       "      <td>...</td>\n",
       "      <td>...</td>\n",
       "    </tr>\n",
       "    <tr>\n",
       "      <th>34504</th>\n",
       "      <td>ЦБ-00219618</td>\n",
       "      <td>1МодГ-3,410-6/7А 6Кр57-0,140-5/5А 8Кр57-0,150-...</td>\n",
       "      <td>([], ok:0!=0;нет распознанных)</td>\n",
       "      <td>[]</td>\n",
       "      <td>ok:0!=0;нет распознанных</td>\n",
       "      <td>[]</td>\n",
       "      <td>0</td>\n",
       "      <td>([], ok:0!=0;нет распознанных)</td>\n",
       "      <td>[]</td>\n",
       "      <td>ok:0!=0;нет распознанных</td>\n",
       "      <td>[]</td>\n",
       "      <td>0</td>\n",
       "    </tr>\n",
       "    <tr>\n",
       "      <th>34505</th>\n",
       "      <td>ЦБ-00219619</td>\n",
       "      <td>1Кр57-1,790-9-4/8А 8Кр57-0,680-5/5А 10Кр57-0,3...</td>\n",
       "      <td>([], ok:0!=0;нет распознанных)</td>\n",
       "      <td>[]</td>\n",
       "      <td>ok:0!=0;нет распознанных</td>\n",
       "      <td>[]</td>\n",
       "      <td>0</td>\n",
       "      <td>([], ok:0!=0;нет распознанных)</td>\n",
       "      <td>[]</td>\n",
       "      <td>ok:0!=0;нет распознанных</td>\n",
       "      <td>[]</td>\n",
       "      <td>0</td>\n",
       "    </tr>\n",
       "    <tr>\n",
       "      <th>34506</th>\n",
       "      <td>ЦБ-00219620</td>\n",
       "      <td>1МодИ-1,020-6/7А 2Кр57-0,020-5/5А 42Кр57-0,490...</td>\n",
       "      <td>([], ok:0!=0;нет распознанных)</td>\n",
       "      <td>[]</td>\n",
       "      <td>ok:0!=0;нет распознанных</td>\n",
       "      <td>[]</td>\n",
       "      <td>0</td>\n",
       "      <td>([], ok:0!=0;нет распознанных)</td>\n",
       "      <td>[]</td>\n",
       "      <td>ok:0!=0;нет распознанных</td>\n",
       "      <td>[]</td>\n",
       "      <td>0</td>\n",
       "    </tr>\n",
       "    <tr>\n",
       "      <th>34507</th>\n",
       "      <td>ЦБ-00219621</td>\n",
       "      <td>1Кр57-1,000-4/3А 28Кр57-0,490-5/5А 2Кр57-0,010...</td>\n",
       "      <td>([], ok:0!=0;нет распознанных)</td>\n",
       "      <td>[]</td>\n",
       "      <td>ok:0!=0;нет распознанных</td>\n",
       "      <td>[]</td>\n",
       "      <td>0</td>\n",
       "      <td>([], ok:0!=0;нет распознанных)</td>\n",
       "      <td>[]</td>\n",
       "      <td>ok:0!=0;нет распознанных</td>\n",
       "      <td>[]</td>\n",
       "      <td>0</td>\n",
       "    </tr>\n",
       "    <tr>\n",
       "      <th>34508</th>\n",
       "      <td>ЦБ-00219622</td>\n",
       "      <td>1Кр57-1,020-6/7аА 4Кр57-0,030-5/5А 2Кр57-0,050...</td>\n",
       "      <td>([], ok:0!=0;нет распознанных)</td>\n",
       "      <td>[]</td>\n",
       "      <td>ok:0!=0;нет распознанных</td>\n",
       "      <td>[]</td>\n",
       "      <td>0</td>\n",
       "      <td>([], ok:0!=0;нет распознанных)</td>\n",
       "      <td>[]</td>\n",
       "      <td>ok:0!=0;нет распознанных</td>\n",
       "      <td>[]</td>\n",
       "      <td>0</td>\n",
       "    </tr>\n",
       "  </tbody>\n",
       "</table>\n",
       "<p>34509 rows × 12 columns</p>\n",
       "</div>"
      ],
      "text/plain": [
       "               Код                                                vst  \\\n",
       "0      ЦБ-00000421                    1Кр57-0,11-4/3А 1Кр57-0,10-4/3Б   \n",
       "1      ЦБ-00000422                                   2Кр57-0,431-4/5Б   \n",
       "2      ЦБ-00000426                    1Кр57-0,30-4/4Б 1Кр57-0,35-4/5Б   \n",
       "3      ЦБ-00000427                                    2Кр57-0,44-3/3Б   \n",
       "4      ЦБ-00000428                                   2Кр57-0,427-4/3Б   \n",
       "...            ...                                                ...   \n",
       "34504  ЦБ-00219618  1МодГ-3,410-6/7А 6Кр57-0,140-5/5А 8Кр57-0,150-...   \n",
       "34505  ЦБ-00219619  1Кр57-1,790-9-4/8А 8Кр57-0,680-5/5А 10Кр57-0,3...   \n",
       "34506  ЦБ-00219620  1МодИ-1,020-6/7А 2Кр57-0,020-5/5А 42Кр57-0,490...   \n",
       "34507  ЦБ-00219621  1Кр57-1,000-4/3А 28Кр57-0,490-5/5А 2Кр57-0,010...   \n",
       "34508  ЦБ-00219622  1Кр57-1,020-6/7аА 4Кр57-0,030-5/5А 2Кр57-0,050...   \n",
       "\n",
       "                     make_list_sap_20 list_std_sap20  \\\n",
       "0      ([], ok:0!=0;нет распознанных)             []   \n",
       "1      ([], ok:0!=0;нет распознанных)             []   \n",
       "2      ([], ok:0!=0;нет распознанных)             []   \n",
       "3      ([], ok:0!=0;нет распознанных)             []   \n",
       "4      ([], ok:0!=0;нет распознанных)             []   \n",
       "...                               ...            ...   \n",
       "34504  ([], ok:0!=0;нет распознанных)             []   \n",
       "34505  ([], ok:0!=0;нет распознанных)             []   \n",
       "34506  ([], ok:0!=0;нет распознанных)             []   \n",
       "34507  ([], ok:0!=0;нет распознанных)             []   \n",
       "34508  ([], ok:0!=0;нет распознанных)             []   \n",
       "\n",
       "                   report_sap20 count_price_sap20 prsap_cost  \\\n",
       "0      ok:0!=0;нет распознанных                []          0   \n",
       "1      ok:0!=0;нет распознанных                []          0   \n",
       "2      ok:0!=0;нет распознанных                []          0   \n",
       "3      ok:0!=0;нет распознанных                []          0   \n",
       "4      ok:0!=0;нет распознанных                []          0   \n",
       "...                         ...               ...        ...   \n",
       "34504  ok:0!=0;нет распознанных                []          0   \n",
       "34505  ok:0!=0;нет распознанных                []          0   \n",
       "34506  ok:0!=0;нет распознанных                []          0   \n",
       "34507  ok:0!=0;нет распознанных                []          0   \n",
       "34508  ok:0!=0;нет распознанных                []          0   \n",
       "\n",
       "                     make_list_ruby20 list_std_ruby20  \\\n",
       "0      ([], ok:0!=0;нет распознанных)              []   \n",
       "1      ([], ok:0!=0;нет распознанных)              []   \n",
       "2      ([], ok:0!=0;нет распознанных)              []   \n",
       "3      ([], ok:0!=0;нет распознанных)              []   \n",
       "4      ([], ok:0!=0;нет распознанных)              []   \n",
       "...                               ...             ...   \n",
       "34504  ([], ok:0!=0;нет распознанных)              []   \n",
       "34505  ([], ok:0!=0;нет распознанных)              []   \n",
       "34506  ([], ok:0!=0;нет распознанных)              []   \n",
       "34507  ([], ok:0!=0;нет распознанных)              []   \n",
       "34508  ([], ok:0!=0;нет распознанных)              []   \n",
       "\n",
       "                  report_ruby20 count_price_ruby20 prruby_cost  \n",
       "0      ok:0!=0;нет распознанных                 []           0  \n",
       "1      ok:0!=0;нет распознанных                 []           0  \n",
       "2      ok:0!=0;нет распознанных                 []           0  \n",
       "3      ok:0!=0;нет распознанных                 []           0  \n",
       "4      ok:0!=0;нет распознанных                 []           0  \n",
       "...                         ...                ...         ...  \n",
       "34504  ok:0!=0;нет распознанных                 []           0  \n",
       "34505  ok:0!=0;нет распознанных                 []           0  \n",
       "34506  ok:0!=0;нет распознанных                 []           0  \n",
       "34507  ok:0!=0;нет распознанных                 []           0  \n",
       "34508  ok:0!=0;нет распознанных                 []           0  \n",
       "\n",
       "[34509 rows x 12 columns]"
      ]
     },
     "execution_count": 183,
     "metadata": {},
     "output_type": "execute_result"
    }
   ],
   "source": [
    "df_test"
   ]
  },
  {
   "cell_type": "markdown",
   "id": "f5db00f7",
   "metadata": {},
   "source": [
    "### Массовая прогонка  изумрудов"
   ]
  },
  {
   "cell_type": "code",
   "execution_count": 79,
   "id": "6ed3a62f",
   "metadata": {},
   "outputs": [],
   "source": [
    "#  результат функции (рапорт применения прейскуранта) \n",
    "df_test['count_price_ruby20']=df_test['make_list_ruby20'].apply(lambda x: price_sap_ruby2.count_price_report(x))\n",
    "# прейскурантая стоимсоть float или ошибка \n",
    "df_test['prruby_cost'] = df_test['count_price_ruby20'].apply(lambda x: 0 if len(x)==0 else x.split(\";\")[0]) #map(len)!=0]\n",
    "# результат функции (стандартный лист, рапорт распознавания ) \n",
    "df_test['make_list_em20'] = df_test.vst.apply(lambda x: price_em.list2std_em_sap_ruby(price_em.vst2list(x)))\n",
    "# стандартный лист\n",
    "df_test['list_std_em20'] = df_test['make_list_em20'].apply(lambda x: x[0])\n",
    "# рапорт распознавания \n",
    "df_test['report_em20'] = df_test['make_list_em20'].apply(lambda x: x[1])\n",
    "# не стандартный лист (только изумруд)\n",
    "df_test['prem_vst2list'] = df_test.vst.map(price_em.vst2list)\n",
    "#  результат функции (рапорт применения прейскуранта) \n",
    "df_test['count_price_em20']=df_test['prem_vst2list'].map(price_em.check_vstlist)\n",
    "# прейскурантая стоимсоть float или ошибка \n",
    "df_test['prem_cost'] = df_test['prem_cost'] = df_test['count_price_em20'].apply(lambda x: float(x.split(';')[0].replace('prcost:','').replace(',',''))  if type(x)==type('s')else 0)"
   ]
  },
  {
   "cell_type": "code",
   "execution_count": 81,
   "id": "1bdec321",
   "metadata": {},
   "outputs": [
    {
     "data": {
      "text/html": [
       "<div>\n",
       "<style scoped>\n",
       "    .dataframe tbody tr th:only-of-type {\n",
       "        vertical-align: middle;\n",
       "    }\n",
       "\n",
       "    .dataframe tbody tr th {\n",
       "        vertical-align: top;\n",
       "    }\n",
       "\n",
       "    .dataframe thead th {\n",
       "        text-align: right;\n",
       "    }\n",
       "</style>\n",
       "<table border=\"1\" class=\"dataframe\">\n",
       "  <thead>\n",
       "    <tr style=\"text-align: right;\">\n",
       "      <th></th>\n",
       "      <th>Код</th>\n",
       "      <th>vst</th>\n",
       "      <th>make_list_sap_20</th>\n",
       "      <th>list_std_sap20</th>\n",
       "      <th>report_sap20</th>\n",
       "      <th>count_price_sap20</th>\n",
       "      <th>prsap_cost</th>\n",
       "      <th>make_list_ruby20</th>\n",
       "      <th>list_std_ruby20</th>\n",
       "      <th>report_ruby20</th>\n",
       "      <th>count_price_ruby20</th>\n",
       "      <th>prruby_cost</th>\n",
       "      <th>make_list_em20</th>\n",
       "      <th>list_std_em20</th>\n",
       "      <th>report_em20</th>\n",
       "      <th>prem_vst2list</th>\n",
       "      <th>count_price_em20</th>\n",
       "      <th>prem_cost</th>\n",
       "    </tr>\n",
       "  </thead>\n",
       "  <tbody>\n",
       "    <tr>\n",
       "      <th>218</th>\n",
       "      <td>ЦБ-00002028</td>\n",
       "      <td>4изумрудПМ-0,100-НРООв+3/Г2 12кр57-0,19-2/2А</td>\n",
       "      <td>([], ok:0!=0;нет распознанных)</td>\n",
       "      <td>[]</td>\n",
       "      <td>ok:0!=0;нет распознанных</td>\n",
       "      <td>[]</td>\n",
       "      <td>0</td>\n",
       "      <td>([], ok:0!=0;нет распознанных)</td>\n",
       "      <td>[]</td>\n",
       "      <td>ok:0!=0;нет распознанных</td>\n",
       "      <td>[]</td>\n",
       "      <td>0</td>\n",
       "      <td>([[4, изумрудпм, 0,100, нроов, 3, Г2, nan]], C...</td>\n",
       "      <td>[[4, изумрудпм, 0,100, нроов, 3, Г2, nan]]</td>\n",
       "      <td>C:ok;Q:ok;PCS:ok;GEM:ok;</td>\n",
       "      <td>[(4, изумрудПМ, 0,100, НРООв, 3/Г2)]</td>\n",
       "      <td>9.00; 0.1; price:90;size:до 0,09;gem:изумрудпм</td>\n",
       "      <td>9.00</td>\n",
       "    </tr>\n",
       "    <tr>\n",
       "      <th>368</th>\n",
       "      <td>ЦБ-00002875</td>\n",
       "      <td>1ИзумрудПМ-1,490-Багет+4/Г2 6Кр57-0,07-3/3А</td>\n",
       "      <td>([], ok:0!=0;нет распознанных)</td>\n",
       "      <td>[]</td>\n",
       "      <td>ok:0!=0;нет распознанных</td>\n",
       "      <td>[]</td>\n",
       "      <td>0</td>\n",
       "      <td>([], ok:0!=0;нет распознанных)</td>\n",
       "      <td>[]</td>\n",
       "      <td>ok:0!=0;нет распознанных</td>\n",
       "      <td>[]</td>\n",
       "      <td>0</td>\n",
       "      <td>([[1, изумрудпм, 1,490, багет, 4, Г2, nan]], C...</td>\n",
       "      <td>[[1, изумрудпм, 1,490, багет, 4, Г2, nan]]</td>\n",
       "      <td>C:ok;Q:ok;PCS:ok;GEM:ok;</td>\n",
       "      <td>[(1, ИзумрудПМ, 1,490, Багет, 4/Г2)]</td>\n",
       "      <td>178.80; 1.49; price:120;size:1,00-1,49;gem:изу...</td>\n",
       "      <td>178.80</td>\n",
       "    </tr>\n",
       "    <tr>\n",
       "      <th>878</th>\n",
       "      <td>ЦБ-00005502</td>\n",
       "      <td>1ИзумрудПМ-0,230-НРОКр+5/Г3 4кр57-0,06-2/2А</td>\n",
       "      <td>([], ok:0!=0;нет распознанных)</td>\n",
       "      <td>[]</td>\n",
       "      <td>ok:0!=0;нет распознанных</td>\n",
       "      <td>[]</td>\n",
       "      <td>0</td>\n",
       "      <td>([], ok:0!=0;нет распознанных)</td>\n",
       "      <td>[]</td>\n",
       "      <td>ok:0!=0;нет распознанных</td>\n",
       "      <td>[]</td>\n",
       "      <td>0</td>\n",
       "      <td>([[1, изумрудпм, 0,230, нрокр, 5, Г3, nan]], C...</td>\n",
       "      <td>[[1, изумрудпм, 0,230, нрокр, 5, Г3, nan]]</td>\n",
       "      <td>C:ok;Q:ok;PCS:ok;GEM:ok;</td>\n",
       "      <td>[(1, ИзумрудПМ, 0,230, НРОКр, 5/Г3)]</td>\n",
       "      <td>2.76; 0.23; price:12;size:0,10-0,24;gem:изумрудпм</td>\n",
       "      <td>2.76</td>\n",
       "    </tr>\n",
       "    <tr>\n",
       "      <th>945</th>\n",
       "      <td>ЦБ-00005885</td>\n",
       "      <td>6ИзумрудПМ-0,141-НРОКр+4/Г3 6Кр57-0,036-3/4А</td>\n",
       "      <td>([], ok:0!=0;нет распознанных)</td>\n",
       "      <td>[]</td>\n",
       "      <td>ok:0!=0;нет распознанных</td>\n",
       "      <td>[]</td>\n",
       "      <td>0</td>\n",
       "      <td>([], ok:0!=0;нет распознанных)</td>\n",
       "      <td>[]</td>\n",
       "      <td>ok:0!=0;нет распознанных</td>\n",
       "      <td>[]</td>\n",
       "      <td>0</td>\n",
       "      <td>([[6, изумрудпм, 0,141, нрокр, 4, Г3, nan]], C...</td>\n",
       "      <td>[[6, изумрудпм, 0,141, нрокр, 4, Г3, nan]]</td>\n",
       "      <td>C:ok;Q:ok;PCS:ok;GEM:ok;</td>\n",
       "      <td>[(6, ИзумрудПМ, 0,141, НРОКр, 4/Г3)]</td>\n",
       "      <td>4.23; 0.141; price:30;size:до 0,09;gem:изумрудпм</td>\n",
       "      <td>4.23</td>\n",
       "    </tr>\n",
       "    <tr>\n",
       "      <th>958</th>\n",
       "      <td>ЦБ-00005898</td>\n",
       "      <td>1ИзумрудПМ-0,043-кв21+3/Г2 2Кр57-0,0215-3/3А</td>\n",
       "      <td>([], ok:0!=0;нет распознанных)</td>\n",
       "      <td>[]</td>\n",
       "      <td>ok:0!=0;нет распознанных</td>\n",
       "      <td>[]</td>\n",
       "      <td>0</td>\n",
       "      <td>([], ok:0!=0;нет распознанных)</td>\n",
       "      <td>[]</td>\n",
       "      <td>ok:0!=0;нет распознанных</td>\n",
       "      <td>[]</td>\n",
       "      <td>0</td>\n",
       "      <td>([[1, изумрудпм, 0,043, кв21, 3, Г2, nan]], C:...</td>\n",
       "      <td>[[1, изумрудпм, 0,043, кв21, 3, Г2, nan]]</td>\n",
       "      <td>C:ok;Q:ok;PCS:ok;GEM:ok;</td>\n",
       "      <td>[(1, ИзумрудПМ, 0,043, кв21, 3/Г2)]</td>\n",
       "      <td>3.87; 0.043; price:90;size:до 0,09;gem:изумрудпм</td>\n",
       "      <td>3.87</td>\n",
       "    </tr>\n",
       "    <tr>\n",
       "      <th>...</th>\n",
       "      <td>...</td>\n",
       "      <td>...</td>\n",
       "      <td>...</td>\n",
       "      <td>...</td>\n",
       "      <td>...</td>\n",
       "      <td>...</td>\n",
       "      <td>...</td>\n",
       "      <td>...</td>\n",
       "      <td>...</td>\n",
       "      <td>...</td>\n",
       "      <td>...</td>\n",
       "      <td>...</td>\n",
       "      <td>...</td>\n",
       "      <td>...</td>\n",
       "      <td>...</td>\n",
       "      <td>...</td>\n",
       "      <td>...</td>\n",
       "      <td>...</td>\n",
       "    </tr>\n",
       "    <tr>\n",
       "      <th>29386</th>\n",
       "      <td>ЦБ-00188572</td>\n",
       "      <td>1ИзумрудПМ-0,236-НРОКр+3/Г3 4КР57-0,121-4/5А</td>\n",
       "      <td>([], ok:0!=0;нет распознанных)</td>\n",
       "      <td>[]</td>\n",
       "      <td>ok:0!=0;нет распознанных</td>\n",
       "      <td>[]</td>\n",
       "      <td>0</td>\n",
       "      <td>([], ok:0!=0;нет распознанных)</td>\n",
       "      <td>[]</td>\n",
       "      <td>ok:0!=0;нет распознанных</td>\n",
       "      <td>[]</td>\n",
       "      <td>0</td>\n",
       "      <td>([[1, изумрудпм, 0,236, нрокр, 3, Г3, nan]], C...</td>\n",
       "      <td>[[1, изумрудпм, 0,236, нрокр, 3, Г3, nan]]</td>\n",
       "      <td>C:ok;Q:ok;PCS:ok;GEM:ok;</td>\n",
       "      <td>[(1, ИзумрудПМ, 0,236, НРОКр, 3/Г3)]</td>\n",
       "      <td>23.60; 0.236; price:100;size:0,10-0,24;gem:изу...</td>\n",
       "      <td>23.60</td>\n",
       "    </tr>\n",
       "    <tr>\n",
       "      <th>29408</th>\n",
       "      <td>ЦБ-00188650</td>\n",
       "      <td>1ИзумрудПМ-0,170-НРОГ+3/Г2 18КР57-0,180-4/3А</td>\n",
       "      <td>([], ok:0!=0;нет распознанных)</td>\n",
       "      <td>[]</td>\n",
       "      <td>ok:0!=0;нет распознанных</td>\n",
       "      <td>[]</td>\n",
       "      <td>0</td>\n",
       "      <td>([], ok:0!=0;нет распознанных)</td>\n",
       "      <td>[]</td>\n",
       "      <td>ok:0!=0;нет распознанных</td>\n",
       "      <td>[]</td>\n",
       "      <td>0</td>\n",
       "      <td>([[1, изумрудпм, 0,170, нрог, 3, Г2, nan]], C:...</td>\n",
       "      <td>[[1, изумрудпм, 0,170, нрог, 3, Г2, nan]]</td>\n",
       "      <td>C:ok;Q:ok;PCS:ok;GEM:ok;</td>\n",
       "      <td>[(1, ИзумрудПМ, 0,170, НРОГ, 3/Г2)]</td>\n",
       "      <td>20.40; 0.17; price:120;size:0,10-0,24;gem:изум...</td>\n",
       "      <td>20.40</td>\n",
       "    </tr>\n",
       "    <tr>\n",
       "      <th>29492</th>\n",
       "      <td>ЦБ-00188885</td>\n",
       "      <td>1ИзумрудПМ-0,380-НРОПр+3/Г2 4КР57-0,080-4/6А</td>\n",
       "      <td>([], ok:0!=0;нет распознанных)</td>\n",
       "      <td>[]</td>\n",
       "      <td>ok:0!=0;нет распознанных</td>\n",
       "      <td>[]</td>\n",
       "      <td>0</td>\n",
       "      <td>([], ok:0!=0;нет распознанных)</td>\n",
       "      <td>[]</td>\n",
       "      <td>ok:0!=0;нет распознанных</td>\n",
       "      <td>[]</td>\n",
       "      <td>0</td>\n",
       "      <td>([[1, изумрудпм, 0,380, нропр, 3, Г2, nan]], C...</td>\n",
       "      <td>[[1, изумрудпм, 0,380, нропр, 3, Г2, nan]]</td>\n",
       "      <td>C:ok;Q:ok;PCS:ok;GEM:ok;</td>\n",
       "      <td>[(1, ИзумрудПМ, 0,380, НРОПр, 3/Г2)]</td>\n",
       "      <td>49.40; 0.38; price:130;size:0,25-0,49;gem:изум...</td>\n",
       "      <td>49.40</td>\n",
       "    </tr>\n",
       "    <tr>\n",
       "      <th>29561</th>\n",
       "      <td>ЦБ-00188958</td>\n",
       "      <td>1ИзумрудПМ-0,370-НРОКр+3/Г3</td>\n",
       "      <td>([], ok:0!=0;нет распознанных)</td>\n",
       "      <td>[]</td>\n",
       "      <td>ok:0!=0;нет распознанных</td>\n",
       "      <td>[]</td>\n",
       "      <td>0</td>\n",
       "      <td>([], ok:0!=0;нет распознанных)</td>\n",
       "      <td>[]</td>\n",
       "      <td>ok:0!=0;нет распознанных</td>\n",
       "      <td>[]</td>\n",
       "      <td>0</td>\n",
       "      <td>([[1, изумрудпм, 0,370, нрокр, 3, Г3, nan]], C...</td>\n",
       "      <td>[[1, изумрудпм, 0,370, нрокр, 3, Г3, nan]]</td>\n",
       "      <td>C:ok;Q:ok;PCS:ok;GEM:ok;</td>\n",
       "      <td>[(1, ИзумрудПМ, 0,370, НРОКр, 3/Г3)]</td>\n",
       "      <td>40.70; 0.37; price:110;size:0,25-0,49;gem:изум...</td>\n",
       "      <td>40.70</td>\n",
       "    </tr>\n",
       "    <tr>\n",
       "      <th>29562</th>\n",
       "      <td>ЦБ-00188959</td>\n",
       "      <td>1ИзумрудПМ-0,070-НРОКр+3/Г3</td>\n",
       "      <td>([], ok:0!=0;нет распознанных)</td>\n",
       "      <td>[]</td>\n",
       "      <td>ok:0!=0;нет распознанных</td>\n",
       "      <td>[]</td>\n",
       "      <td>0</td>\n",
       "      <td>([], ok:0!=0;нет распознанных)</td>\n",
       "      <td>[]</td>\n",
       "      <td>ok:0!=0;нет распознанных</td>\n",
       "      <td>[]</td>\n",
       "      <td>0</td>\n",
       "      <td>([[1, изумрудпм, 0,070, нрокр, 3, Г3, nan]], C...</td>\n",
       "      <td>[[1, изумрудпм, 0,070, нрокр, 3, Г3, nan]]</td>\n",
       "      <td>C:ok;Q:ok;PCS:ok;GEM:ok;</td>\n",
       "      <td>[(1, ИзумрудПМ, 0,070, НРОКр, 3/Г3)]</td>\n",
       "      <td>4.55; 0.07; price:65;size:до 0,09;gem:изумрудпм</td>\n",
       "      <td>4.55</td>\n",
       "    </tr>\n",
       "  </tbody>\n",
       "</table>\n",
       "<p>301 rows × 18 columns</p>\n",
       "</div>"
      ],
      "text/plain": [
       "               Код                                           vst  \\\n",
       "218    ЦБ-00002028  4изумрудПМ-0,100-НРООв+3/Г2 12кр57-0,19-2/2А   \n",
       "368    ЦБ-00002875   1ИзумрудПМ-1,490-Багет+4/Г2 6Кр57-0,07-3/3А   \n",
       "878    ЦБ-00005502   1ИзумрудПМ-0,230-НРОКр+5/Г3 4кр57-0,06-2/2А   \n",
       "945    ЦБ-00005885  6ИзумрудПМ-0,141-НРОКр+4/Г3 6Кр57-0,036-3/4А   \n",
       "958    ЦБ-00005898  1ИзумрудПМ-0,043-кв21+3/Г2 2Кр57-0,0215-3/3А   \n",
       "...            ...                                           ...   \n",
       "29386  ЦБ-00188572  1ИзумрудПМ-0,236-НРОКр+3/Г3 4КР57-0,121-4/5А   \n",
       "29408  ЦБ-00188650  1ИзумрудПМ-0,170-НРОГ+3/Г2 18КР57-0,180-4/3А   \n",
       "29492  ЦБ-00188885  1ИзумрудПМ-0,380-НРОПр+3/Г2 4КР57-0,080-4/6А   \n",
       "29561  ЦБ-00188958                   1ИзумрудПМ-0,370-НРОКр+3/Г3   \n",
       "29562  ЦБ-00188959                   1ИзумрудПМ-0,070-НРОКр+3/Г3   \n",
       "\n",
       "                     make_list_sap_20 list_std_sap20  \\\n",
       "218    ([], ok:0!=0;нет распознанных)             []   \n",
       "368    ([], ok:0!=0;нет распознанных)             []   \n",
       "878    ([], ok:0!=0;нет распознанных)             []   \n",
       "945    ([], ok:0!=0;нет распознанных)             []   \n",
       "958    ([], ok:0!=0;нет распознанных)             []   \n",
       "...                               ...            ...   \n",
       "29386  ([], ok:0!=0;нет распознанных)             []   \n",
       "29408  ([], ok:0!=0;нет распознанных)             []   \n",
       "29492  ([], ok:0!=0;нет распознанных)             []   \n",
       "29561  ([], ok:0!=0;нет распознанных)             []   \n",
       "29562  ([], ok:0!=0;нет распознанных)             []   \n",
       "\n",
       "                   report_sap20 count_price_sap20 prsap_cost  \\\n",
       "218    ok:0!=0;нет распознанных                []          0   \n",
       "368    ok:0!=0;нет распознанных                []          0   \n",
       "878    ok:0!=0;нет распознанных                []          0   \n",
       "945    ok:0!=0;нет распознанных                []          0   \n",
       "958    ok:0!=0;нет распознанных                []          0   \n",
       "...                         ...               ...        ...   \n",
       "29386  ok:0!=0;нет распознанных                []          0   \n",
       "29408  ok:0!=0;нет распознанных                []          0   \n",
       "29492  ok:0!=0;нет распознанных                []          0   \n",
       "29561  ok:0!=0;нет распознанных                []          0   \n",
       "29562  ok:0!=0;нет распознанных                []          0   \n",
       "\n",
       "                     make_list_ruby20 list_std_ruby20  \\\n",
       "218    ([], ok:0!=0;нет распознанных)              []   \n",
       "368    ([], ok:0!=0;нет распознанных)              []   \n",
       "878    ([], ok:0!=0;нет распознанных)              []   \n",
       "945    ([], ok:0!=0;нет распознанных)              []   \n",
       "958    ([], ok:0!=0;нет распознанных)              []   \n",
       "...                               ...             ...   \n",
       "29386  ([], ok:0!=0;нет распознанных)              []   \n",
       "29408  ([], ok:0!=0;нет распознанных)              []   \n",
       "29492  ([], ok:0!=0;нет распознанных)              []   \n",
       "29561  ([], ok:0!=0;нет распознанных)              []   \n",
       "29562  ([], ok:0!=0;нет распознанных)              []   \n",
       "\n",
       "                  report_ruby20 count_price_ruby20 prruby_cost  \\\n",
       "218    ok:0!=0;нет распознанных                 []           0   \n",
       "368    ok:0!=0;нет распознанных                 []           0   \n",
       "878    ok:0!=0;нет распознанных                 []           0   \n",
       "945    ok:0!=0;нет распознанных                 []           0   \n",
       "958    ok:0!=0;нет распознанных                 []           0   \n",
       "...                         ...                ...         ...   \n",
       "29386  ok:0!=0;нет распознанных                 []           0   \n",
       "29408  ok:0!=0;нет распознанных                 []           0   \n",
       "29492  ok:0!=0;нет распознанных                 []           0   \n",
       "29561  ok:0!=0;нет распознанных                 []           0   \n",
       "29562  ok:0!=0;нет распознанных                 []           0   \n",
       "\n",
       "                                          make_list_em20  \\\n",
       "218    ([[4, изумрудпм, 0,100, нроов, 3, Г2, nan]], C...   \n",
       "368    ([[1, изумрудпм, 1,490, багет, 4, Г2, nan]], C...   \n",
       "878    ([[1, изумрудпм, 0,230, нрокр, 5, Г3, nan]], C...   \n",
       "945    ([[6, изумрудпм, 0,141, нрокр, 4, Г3, nan]], C...   \n",
       "958    ([[1, изумрудпм, 0,043, кв21, 3, Г2, nan]], C:...   \n",
       "...                                                  ...   \n",
       "29386  ([[1, изумрудпм, 0,236, нрокр, 3, Г3, nan]], C...   \n",
       "29408  ([[1, изумрудпм, 0,170, нрог, 3, Г2, nan]], C:...   \n",
       "29492  ([[1, изумрудпм, 0,380, нропр, 3, Г2, nan]], C...   \n",
       "29561  ([[1, изумрудпм, 0,370, нрокр, 3, Г3, nan]], C...   \n",
       "29562  ([[1, изумрудпм, 0,070, нрокр, 3, Г3, nan]], C...   \n",
       "\n",
       "                                    list_std_em20               report_em20  \\\n",
       "218    [[4, изумрудпм, 0,100, нроов, 3, Г2, nan]]  C:ok;Q:ok;PCS:ok;GEM:ok;   \n",
       "368    [[1, изумрудпм, 1,490, багет, 4, Г2, nan]]  C:ok;Q:ok;PCS:ok;GEM:ok;   \n",
       "878    [[1, изумрудпм, 0,230, нрокр, 5, Г3, nan]]  C:ok;Q:ok;PCS:ok;GEM:ok;   \n",
       "945    [[6, изумрудпм, 0,141, нрокр, 4, Г3, nan]]  C:ok;Q:ok;PCS:ok;GEM:ok;   \n",
       "958     [[1, изумрудпм, 0,043, кв21, 3, Г2, nan]]  C:ok;Q:ok;PCS:ok;GEM:ok;   \n",
       "...                                           ...                       ...   \n",
       "29386  [[1, изумрудпм, 0,236, нрокр, 3, Г3, nan]]  C:ok;Q:ok;PCS:ok;GEM:ok;   \n",
       "29408   [[1, изумрудпм, 0,170, нрог, 3, Г2, nan]]  C:ok;Q:ok;PCS:ok;GEM:ok;   \n",
       "29492  [[1, изумрудпм, 0,380, нропр, 3, Г2, nan]]  C:ok;Q:ok;PCS:ok;GEM:ok;   \n",
       "29561  [[1, изумрудпм, 0,370, нрокр, 3, Г3, nan]]  C:ok;Q:ok;PCS:ok;GEM:ok;   \n",
       "29562  [[1, изумрудпм, 0,070, нрокр, 3, Г3, nan]]  C:ok;Q:ok;PCS:ok;GEM:ok;   \n",
       "\n",
       "                              prem_vst2list  \\\n",
       "218    [(4, изумрудПМ, 0,100, НРООв, 3/Г2)]   \n",
       "368    [(1, ИзумрудПМ, 1,490, Багет, 4/Г2)]   \n",
       "878    [(1, ИзумрудПМ, 0,230, НРОКр, 5/Г3)]   \n",
       "945    [(6, ИзумрудПМ, 0,141, НРОКр, 4/Г3)]   \n",
       "958     [(1, ИзумрудПМ, 0,043, кв21, 3/Г2)]   \n",
       "...                                     ...   \n",
       "29386  [(1, ИзумрудПМ, 0,236, НРОКр, 3/Г3)]   \n",
       "29408   [(1, ИзумрудПМ, 0,170, НРОГ, 3/Г2)]   \n",
       "29492  [(1, ИзумрудПМ, 0,380, НРОПр, 3/Г2)]   \n",
       "29561  [(1, ИзумрудПМ, 0,370, НРОКр, 3/Г3)]   \n",
       "29562  [(1, ИзумрудПМ, 0,070, НРОКр, 3/Г3)]   \n",
       "\n",
       "                                        count_price_em20  prem_cost  \n",
       "218       9.00; 0.1; price:90;size:до 0,09;gem:изумрудпм       9.00  \n",
       "368    178.80; 1.49; price:120;size:1,00-1,49;gem:изу...     178.80  \n",
       "878    2.76; 0.23; price:12;size:0,10-0,24;gem:изумрудпм       2.76  \n",
       "945     4.23; 0.141; price:30;size:до 0,09;gem:изумрудпм       4.23  \n",
       "958     3.87; 0.043; price:90;size:до 0,09;gem:изумрудпм       3.87  \n",
       "...                                                  ...        ...  \n",
       "29386  23.60; 0.236; price:100;size:0,10-0,24;gem:изу...      23.60  \n",
       "29408  20.40; 0.17; price:120;size:0,10-0,24;gem:изум...      20.40  \n",
       "29492  49.40; 0.38; price:130;size:0,25-0,49;gem:изум...      49.40  \n",
       "29561  40.70; 0.37; price:110;size:0,25-0,49;gem:изум...      40.70  \n",
       "29562    4.55; 0.07; price:65;size:до 0,09;gem:изумрудпм       4.55  \n",
       "\n",
       "[301 rows x 18 columns]"
      ]
     },
     "execution_count": 81,
     "metadata": {},
     "output_type": "execute_result"
    }
   ],
   "source": [
    "df_test[df_test['prem_cost'] !=0]"
   ]
  },
  {
   "cell_type": "markdown",
   "id": "63a5dd57",
   "metadata": {},
   "source": [
    "#### разработка (не запускать)"
   ]
  },
  {
   "cell_type": "code",
   "execution_count": null,
   "id": "37e9c9e8",
   "metadata": {},
   "outputs": [],
   "source": [
    "не запускать"
   ]
  },
  {
   "cell_type": "code",
   "execution_count": 35,
   "id": "128ae317",
   "metadata": {},
   "outputs": [],
   "source": [
    "\n",
    "\n",
    "#  результат функции (рапорт применения прейскуранта) \n",
    "df_test['count_price_ruby20']=df_test['make_list_ruby20'].apply(lambda x: price_sap_ruby2.count_price_report(x))\n",
    "# прейскурантая стоимсоть float или ошибка \n",
    "df_test['prruby_cost'] = df_test['count_price_ruby20'].apply(lambda x: 0 if len(x)==0 else x.split(\";\")[0]) #map(len)!=0]"
   ]
  },
  {
   "cell_type": "code",
   "execution_count": null,
   "id": "0f690f3a",
   "metadata": {},
   "outputs": [],
   "source": []
  },
  {
   "cell_type": "code",
   "execution_count": 213,
   "id": "2bfe7fb1",
   "metadata": {},
   "outputs": [],
   "source": [
    "# результат функции (стандартный лист, рапорт распознавания ) \n",
    "df_test['make_list_em20'] = df_test.vst.apply(lambda x: price_em.list2std_em_sap_ruby(price_em.vst2list(x)))"
   ]
  },
  {
   "cell_type": "code",
   "execution_count": 210,
   "id": "c34c9f3e",
   "metadata": {},
   "outputs": [],
   "source": [
    "# стандартный лист\n",
    "df_test['list_std_em20'] = df_test['make_list_em20'].apply(lambda x: x[0])"
   ]
  },
  {
   "cell_type": "code",
   "execution_count": 211,
   "id": "07cca5e4",
   "metadata": {},
   "outputs": [],
   "source": [
    "# рапорт распознавания \n",
    "df_test['report_em20'] = df_test['make_list_em20'].apply(lambda x: x[1])"
   ]
  },
  {
   "cell_type": "code",
   "execution_count": 214,
   "id": "fd9b92ef",
   "metadata": {},
   "outputs": [],
   "source": [
    "df_test['prem_vst2list'] = df_test.vst.map(price_em.vst2list)"
   ]
  },
  {
   "cell_type": "code",
   "execution_count": 215,
   "id": "86809513",
   "metadata": {},
   "outputs": [],
   "source": [
    "#  результат функции (рапорт применения прейскуранта) \n",
    "df_test['count_price_em20']=df_test['prem_vst2list'].map(price_em.check_vstlist)"
   ]
  },
  {
   "cell_type": "code",
   "execution_count": 218,
   "id": "bca8cfdf",
   "metadata": {},
   "outputs": [],
   "source": [
    "# прейскурантая стоимсоть float или ошибка \n",
    "df_test['prem_cost'] = df_test['prem_cost'] = df_test['count_price_em20'].apply(lambda x: float(x.split(';')[0].replace('prcost:','').replace(',',''))  if type(x)==type('s')else 0)"
   ]
  },
  {
   "cell_type": "code",
   "execution_count": null,
   "id": "ba85b8b1",
   "metadata": {},
   "outputs": [],
   "source": []
  },
  {
   "cell_type": "code",
   "execution_count": null,
   "id": "9b663981",
   "metadata": {},
   "outputs": [],
   "source": []
  },
  {
   "cell_type": "code",
   "execution_count": 153,
   "id": "90ad3e57",
   "metadata": {},
   "outputs": [],
   "source": [
    "df_test['prem_vst2list'] = df_test.vst.map(price_em.vst2list)"
   ]
  },
  {
   "cell_type": "code",
   "execution_count": 154,
   "id": "ebcd37b2",
   "metadata": {},
   "outputs": [],
   "source": [
    "df_test['prem_res'] = df_test['prem_vst2list'].map(price_em.check_vstlist)"
   ]
  },
  {
   "cell_type": "code",
   "execution_count": 155,
   "id": "a8d354df",
   "metadata": {
    "scrolled": true
   },
   "outputs": [
    {
     "data": {
      "text/html": [
       "<div>\n",
       "<style scoped>\n",
       "    .dataframe tbody tr th:only-of-type {\n",
       "        vertical-align: middle;\n",
       "    }\n",
       "\n",
       "    .dataframe tbody tr th {\n",
       "        vertical-align: top;\n",
       "    }\n",
       "\n",
       "    .dataframe thead th {\n",
       "        text-align: right;\n",
       "    }\n",
       "</style>\n",
       "<table border=\"1\" class=\"dataframe\">\n",
       "  <thead>\n",
       "    <tr style=\"text-align: right;\">\n",
       "      <th></th>\n",
       "      <th>Код</th>\n",
       "      <th>vst</th>\n",
       "      <th>prem_vst2list</th>\n",
       "      <th>prem_res</th>\n",
       "    </tr>\n",
       "  </thead>\n",
       "  <tbody>\n",
       "    <tr>\n",
       "      <th>0</th>\n",
       "      <td>ЦБ-00000421</td>\n",
       "      <td>1Кр57-0,11-4/3А 1Кр57-0,10-4/3Б</td>\n",
       "      <td>[]</td>\n",
       "      <td>[]</td>\n",
       "    </tr>\n",
       "    <tr>\n",
       "      <th>1</th>\n",
       "      <td>ЦБ-00000422</td>\n",
       "      <td>2Кр57-0,431-4/5Б</td>\n",
       "      <td>[]</td>\n",
       "      <td>[]</td>\n",
       "    </tr>\n",
       "    <tr>\n",
       "      <th>2</th>\n",
       "      <td>ЦБ-00000426</td>\n",
       "      <td>1Кр57-0,30-4/4Б 1Кр57-0,35-4/5Б</td>\n",
       "      <td>[]</td>\n",
       "      <td>[]</td>\n",
       "    </tr>\n",
       "    <tr>\n",
       "      <th>3</th>\n",
       "      <td>ЦБ-00000427</td>\n",
       "      <td>2Кр57-0,44-3/3Б</td>\n",
       "      <td>[]</td>\n",
       "      <td>[]</td>\n",
       "    </tr>\n",
       "    <tr>\n",
       "      <th>4</th>\n",
       "      <td>ЦБ-00000428</td>\n",
       "      <td>2Кр57-0,427-4/3Б</td>\n",
       "      <td>[]</td>\n",
       "      <td>[]</td>\n",
       "    </tr>\n",
       "    <tr>\n",
       "      <th>...</th>\n",
       "      <td>...</td>\n",
       "      <td>...</td>\n",
       "      <td>...</td>\n",
       "      <td>...</td>\n",
       "    </tr>\n",
       "    <tr>\n",
       "      <th>34504</th>\n",
       "      <td>ЦБ-00219618</td>\n",
       "      <td>1МодГ-3,410-6/7А 6Кр57-0,140-5/5А 8Кр57-0,150-...</td>\n",
       "      <td>[]</td>\n",
       "      <td>[]</td>\n",
       "    </tr>\n",
       "    <tr>\n",
       "      <th>34505</th>\n",
       "      <td>ЦБ-00219619</td>\n",
       "      <td>1Кр57-1,790-9-4/8А 8Кр57-0,680-5/5А 10Кр57-0,3...</td>\n",
       "      <td>[]</td>\n",
       "      <td>[]</td>\n",
       "    </tr>\n",
       "    <tr>\n",
       "      <th>34506</th>\n",
       "      <td>ЦБ-00219620</td>\n",
       "      <td>1МодИ-1,020-6/7А 2Кр57-0,020-5/5А 42Кр57-0,490...</td>\n",
       "      <td>[]</td>\n",
       "      <td>[]</td>\n",
       "    </tr>\n",
       "    <tr>\n",
       "      <th>34507</th>\n",
       "      <td>ЦБ-00219621</td>\n",
       "      <td>1Кр57-1,000-4/3А 28Кр57-0,490-5/5А 2Кр57-0,010...</td>\n",
       "      <td>[]</td>\n",
       "      <td>[]</td>\n",
       "    </tr>\n",
       "    <tr>\n",
       "      <th>34508</th>\n",
       "      <td>ЦБ-00219622</td>\n",
       "      <td>1Кр57-1,020-6/7аА 4Кр57-0,030-5/5А 2Кр57-0,050...</td>\n",
       "      <td>[]</td>\n",
       "      <td>[]</td>\n",
       "    </tr>\n",
       "  </tbody>\n",
       "</table>\n",
       "<p>34509 rows × 4 columns</p>\n",
       "</div>"
      ],
      "text/plain": [
       "               Код                                                vst  \\\n",
       "0      ЦБ-00000421                    1Кр57-0,11-4/3А 1Кр57-0,10-4/3Б   \n",
       "1      ЦБ-00000422                                   2Кр57-0,431-4/5Б   \n",
       "2      ЦБ-00000426                    1Кр57-0,30-4/4Б 1Кр57-0,35-4/5Б   \n",
       "3      ЦБ-00000427                                    2Кр57-0,44-3/3Б   \n",
       "4      ЦБ-00000428                                   2Кр57-0,427-4/3Б   \n",
       "...            ...                                                ...   \n",
       "34504  ЦБ-00219618  1МодГ-3,410-6/7А 6Кр57-0,140-5/5А 8Кр57-0,150-...   \n",
       "34505  ЦБ-00219619  1Кр57-1,790-9-4/8А 8Кр57-0,680-5/5А 10Кр57-0,3...   \n",
       "34506  ЦБ-00219620  1МодИ-1,020-6/7А 2Кр57-0,020-5/5А 42Кр57-0,490...   \n",
       "34507  ЦБ-00219621  1Кр57-1,000-4/3А 28Кр57-0,490-5/5А 2Кр57-0,010...   \n",
       "34508  ЦБ-00219622  1Кр57-1,020-6/7аА 4Кр57-0,030-5/5А 2Кр57-0,050...   \n",
       "\n",
       "      prem_vst2list prem_res  \n",
       "0                []       []  \n",
       "1                []       []  \n",
       "2                []       []  \n",
       "3                []       []  \n",
       "4                []       []  \n",
       "...             ...      ...  \n",
       "34504            []       []  \n",
       "34505            []       []  \n",
       "34506            []       []  \n",
       "34507            []       []  \n",
       "34508            []       []  \n",
       "\n",
       "[34509 rows x 4 columns]"
      ]
     },
     "execution_count": 155,
     "metadata": {},
     "output_type": "execute_result"
    }
   ],
   "source": [
    "df_test[~df_test['prem_vst2list'].isna()]"
   ]
  },
  {
   "cell_type": "code",
   "execution_count": 156,
   "id": "4d3d7bec",
   "metadata": {},
   "outputs": [],
   "source": [
    "#pd.set_option('display.float_format', '{:.3f}'.format)"
   ]
  },
  {
   "cell_type": "code",
   "execution_count": 157,
   "id": "dbe14b91",
   "metadata": {},
   "outputs": [],
   "source": [
    "#pd.options.display.float_format = '{:,.2f}'.format"
   ]
  },
  {
   "cell_type": "code",
   "execution_count": 158,
   "id": "fa6bf6a5",
   "metadata": {},
   "outputs": [
    {
     "data": {
      "text/plain": [
       "9.0"
      ]
     },
     "execution_count": 158,
     "metadata": {},
     "output_type": "execute_result"
    }
   ],
   "source": [
    "float('prcost:9.00$'.replace('prcost:','').replace('$',''))"
   ]
  },
  {
   "cell_type": "code",
   "execution_count": 159,
   "id": "52e08ee8",
   "metadata": {},
   "outputs": [],
   "source": [
    "df_test['prem_cost'] = df_test['prem_res'].apply(lambda x: float(x.split(';')[0].replace('prcost:','').replace(',',''))  if type(x)==type('s')else 0)"
   ]
  },
  {
   "cell_type": "code",
   "execution_count": 160,
   "id": "dfb79eb9",
   "metadata": {
    "scrolled": true
   },
   "outputs": [
    {
     "data": {
      "text/html": [
       "<div>\n",
       "<style scoped>\n",
       "    .dataframe tbody tr th:only-of-type {\n",
       "        vertical-align: middle;\n",
       "    }\n",
       "\n",
       "    .dataframe tbody tr th {\n",
       "        vertical-align: top;\n",
       "    }\n",
       "\n",
       "    .dataframe thead th {\n",
       "        text-align: right;\n",
       "    }\n",
       "</style>\n",
       "<table border=\"1\" class=\"dataframe\">\n",
       "  <thead>\n",
       "    <tr style=\"text-align: right;\">\n",
       "      <th></th>\n",
       "      <th>Код</th>\n",
       "      <th>vst</th>\n",
       "      <th>prem_vst2list</th>\n",
       "      <th>prem_res</th>\n",
       "      <th>prem_cost</th>\n",
       "    </tr>\n",
       "  </thead>\n",
       "  <tbody>\n",
       "    <tr>\n",
       "      <th>0</th>\n",
       "      <td>ЦБ-00000421</td>\n",
       "      <td>1Кр57-0,11-4/3А 1Кр57-0,10-4/3Б</td>\n",
       "      <td>[]</td>\n",
       "      <td>[]</td>\n",
       "      <td>0.0</td>\n",
       "    </tr>\n",
       "    <tr>\n",
       "      <th>1</th>\n",
       "      <td>ЦБ-00000422</td>\n",
       "      <td>2Кр57-0,431-4/5Б</td>\n",
       "      <td>[]</td>\n",
       "      <td>[]</td>\n",
       "      <td>0.0</td>\n",
       "    </tr>\n",
       "    <tr>\n",
       "      <th>2</th>\n",
       "      <td>ЦБ-00000426</td>\n",
       "      <td>1Кр57-0,30-4/4Б 1Кр57-0,35-4/5Б</td>\n",
       "      <td>[]</td>\n",
       "      <td>[]</td>\n",
       "      <td>0.0</td>\n",
       "    </tr>\n",
       "    <tr>\n",
       "      <th>3</th>\n",
       "      <td>ЦБ-00000427</td>\n",
       "      <td>2Кр57-0,44-3/3Б</td>\n",
       "      <td>[]</td>\n",
       "      <td>[]</td>\n",
       "      <td>0.0</td>\n",
       "    </tr>\n",
       "    <tr>\n",
       "      <th>4</th>\n",
       "      <td>ЦБ-00000428</td>\n",
       "      <td>2Кр57-0,427-4/3Б</td>\n",
       "      <td>[]</td>\n",
       "      <td>[]</td>\n",
       "      <td>0.0</td>\n",
       "    </tr>\n",
       "    <tr>\n",
       "      <th>...</th>\n",
       "      <td>...</td>\n",
       "      <td>...</td>\n",
       "      <td>...</td>\n",
       "      <td>...</td>\n",
       "      <td>...</td>\n",
       "    </tr>\n",
       "    <tr>\n",
       "      <th>34504</th>\n",
       "      <td>ЦБ-00219618</td>\n",
       "      <td>1МодГ-3,410-6/7А 6Кр57-0,140-5/5А 8Кр57-0,150-...</td>\n",
       "      <td>[]</td>\n",
       "      <td>[]</td>\n",
       "      <td>0.0</td>\n",
       "    </tr>\n",
       "    <tr>\n",
       "      <th>34505</th>\n",
       "      <td>ЦБ-00219619</td>\n",
       "      <td>1Кр57-1,790-9-4/8А 8Кр57-0,680-5/5А 10Кр57-0,3...</td>\n",
       "      <td>[]</td>\n",
       "      <td>[]</td>\n",
       "      <td>0.0</td>\n",
       "    </tr>\n",
       "    <tr>\n",
       "      <th>34506</th>\n",
       "      <td>ЦБ-00219620</td>\n",
       "      <td>1МодИ-1,020-6/7А 2Кр57-0,020-5/5А 42Кр57-0,490...</td>\n",
       "      <td>[]</td>\n",
       "      <td>[]</td>\n",
       "      <td>0.0</td>\n",
       "    </tr>\n",
       "    <tr>\n",
       "      <th>34507</th>\n",
       "      <td>ЦБ-00219621</td>\n",
       "      <td>1Кр57-1,000-4/3А 28Кр57-0,490-5/5А 2Кр57-0,010...</td>\n",
       "      <td>[]</td>\n",
       "      <td>[]</td>\n",
       "      <td>0.0</td>\n",
       "    </tr>\n",
       "    <tr>\n",
       "      <th>34508</th>\n",
       "      <td>ЦБ-00219622</td>\n",
       "      <td>1Кр57-1,020-6/7аА 4Кр57-0,030-5/5А 2Кр57-0,050...</td>\n",
       "      <td>[]</td>\n",
       "      <td>[]</td>\n",
       "      <td>0.0</td>\n",
       "    </tr>\n",
       "  </tbody>\n",
       "</table>\n",
       "<p>34509 rows × 5 columns</p>\n",
       "</div>"
      ],
      "text/plain": [
       "               Код                                                vst  \\\n",
       "0      ЦБ-00000421                    1Кр57-0,11-4/3А 1Кр57-0,10-4/3Б   \n",
       "1      ЦБ-00000422                                   2Кр57-0,431-4/5Б   \n",
       "2      ЦБ-00000426                    1Кр57-0,30-4/4Б 1Кр57-0,35-4/5Б   \n",
       "3      ЦБ-00000427                                    2Кр57-0,44-3/3Б   \n",
       "4      ЦБ-00000428                                   2Кр57-0,427-4/3Б   \n",
       "...            ...                                                ...   \n",
       "34504  ЦБ-00219618  1МодГ-3,410-6/7А 6Кр57-0,140-5/5А 8Кр57-0,150-...   \n",
       "34505  ЦБ-00219619  1Кр57-1,790-9-4/8А 8Кр57-0,680-5/5А 10Кр57-0,3...   \n",
       "34506  ЦБ-00219620  1МодИ-1,020-6/7А 2Кр57-0,020-5/5А 42Кр57-0,490...   \n",
       "34507  ЦБ-00219621  1Кр57-1,000-4/3А 28Кр57-0,490-5/5А 2Кр57-0,010...   \n",
       "34508  ЦБ-00219622  1Кр57-1,020-6/7аА 4Кр57-0,030-5/5А 2Кр57-0,050...   \n",
       "\n",
       "      prem_vst2list prem_res  prem_cost  \n",
       "0                []       []        0.0  \n",
       "1                []       []        0.0  \n",
       "2                []       []        0.0  \n",
       "3                []       []        0.0  \n",
       "4                []       []        0.0  \n",
       "...             ...      ...        ...  \n",
       "34504            []       []        0.0  \n",
       "34505            []       []        0.0  \n",
       "34506            []       []        0.0  \n",
       "34507            []       []        0.0  \n",
       "34508            []       []        0.0  \n",
       "\n",
       "[34509 rows x 5 columns]"
      ]
     },
     "execution_count": 160,
     "metadata": {},
     "output_type": "execute_result"
    }
   ],
   "source": [
    "df_test[~df_test['prem_vst2list'].isna()]"
   ]
  },
  {
   "cell_type": "markdown",
   "id": "42800681",
   "metadata": {},
   "source": [
    "## Суммирование прейскурантов em sap ruby"
   ]
  },
  {
   "cell_type": "code",
   "execution_count": 328,
   "id": "2162c8ae",
   "metadata": {},
   "outputs": [],
   "source": [
    "def float_numeric(s):\n",
    "    if type(s) == type('s'):\n",
    "        return float(s) if s.replace('.','').isnumeric() else s\n",
    "    else:\n",
    "        return s"
   ]
  },
  {
   "cell_type": "code",
   "execution_count": 329,
   "id": "93f79721",
   "metadata": {},
   "outputs": [],
   "source": [
    "#def sum_str(l):\n",
    "#    try:\n",
    "#        res = sum([float(x) for x in l])\n",
    "#        return res\n",
    "#    except:\n",
    "#        return ';'.join(re.findall(\"\\d*[A-z]+\\d*\",' '.join([str(x) for x in l])))\n"
   ]
  },
  {
   "cell_type": "code",
   "execution_count": 330,
   "id": "71e1e8ac",
   "metadata": {},
   "outputs": [],
   "source": [
    "def sum_str(l):\n",
    "    sumstr = '' \n",
    "    for x in [z for z in l if type(z) == type('s')]:\n",
    "        if not (x.replace('.','').isnumeric()):\n",
    "            sumstr+=x+';'\n",
    "    if sumstr == '':\n",
    "        return sum([float(x) for x in l if x!=np.nan])\n",
    "    else:\n",
    "        return sumstr\n",
    "    \n",
    "    '''\n",
    "    try:\n",
    "        res = sum([float(x) for x in l])\n",
    "        return res\n",
    "    except:\n",
    "        return ';'.join(re.findall(\"\\d*[A-z]+\\d*\",' '.join([str(x) for x in l])))\n",
    "'''"
   ]
  },
  {
   "cell_type": "markdown",
   "id": "47d88c97",
   "metadata": {},
   "source": [
    "### Само суммирование"
   ]
  },
  {
   "cell_type": "code",
   "execution_count": 331,
   "id": "1f2b3a9d",
   "metadata": {},
   "outputs": [],
   "source": [
    "df_test['prruby_cost2'] = df_test['prruby_cost'].map(float_numeric)"
   ]
  },
  {
   "cell_type": "code",
   "execution_count": 332,
   "id": "1bda6a15",
   "metadata": {},
   "outputs": [],
   "source": [
    "df_test['prsap_cost2'] = df_test['prsap_cost'].map(float_numeric)"
   ]
  },
  {
   "cell_type": "code",
   "execution_count": 333,
   "id": "63ae505d",
   "metadata": {},
   "outputs": [],
   "source": [
    "df_test['prem_cost2'] = df_test['prem_cost'].map(float_numeric)"
   ]
  },
  {
   "cell_type": "code",
   "execution_count": 334,
   "id": "865d6b68",
   "metadata": {},
   "outputs": [],
   "source": [
    "df_test['sum_pr2'] = df_test[['prruby_cost2','prsap_cost2','prem_cost2' ]].apply(lambda x: sum_str(x), axis=1)"
   ]
  },
  {
   "cell_type": "code",
   "execution_count": 339,
   "id": "a6d32e79",
   "metadata": {},
   "outputs": [],
   "source": [
    "# суммирование листа всех ДК\n",
    "df_test['list_sum'] = df_test[['list_std_ruby20','list_std_sap20','list_std_em20' ]]\\\n",
    ".apply(lambda x: x['list_std_ruby20']+x['list_std_sap20']+x['list_std_em20'], axis=1)"
   ]
  },
  {
   "cell_type": "code",
   "execution_count": 340,
   "id": "8b6692df",
   "metadata": {},
   "outputs": [],
   "source": [
    "#суммирование репортов всех ДК\n",
    "df_test['report_sum'] = df_test[['report_ruby20','report_sap20','report_em20' ]]\\\n",
    ".apply(lambda x: f\"r:{x['report_ruby20']}; s:{x['report_sap20']}; e:{x['report_em20']}\", axis=1)"
   ]
  },
  {
   "cell_type": "code",
   "execution_count": null,
   "id": "b38b9f6b",
   "metadata": {},
   "outputs": [],
   "source": []
  },
  {
   "cell_type": "code",
   "execution_count": 337,
   "id": "a9de813b",
   "metadata": {},
   "outputs": [],
   "source": [
    "#Проверки прогон"
   ]
  },
  {
   "cell_type": "code",
   "execution_count": 341,
   "id": "671be29d",
   "metadata": {},
   "outputs": [
    {
     "data": {
      "text/html": [
       "<div>\n",
       "<style scoped>\n",
       "    .dataframe tbody tr th:only-of-type {\n",
       "        vertical-align: middle;\n",
       "    }\n",
       "\n",
       "    .dataframe tbody tr th {\n",
       "        vertical-align: top;\n",
       "    }\n",
       "\n",
       "    .dataframe thead th {\n",
       "        text-align: right;\n",
       "    }\n",
       "</style>\n",
       "<table border=\"1\" class=\"dataframe\">\n",
       "  <thead>\n",
       "    <tr style=\"text-align: right;\">\n",
       "      <th></th>\n",
       "      <th>Код</th>\n",
       "      <th>prruby_cost2</th>\n",
       "      <th>prsap_cost2</th>\n",
       "      <th>prem_cost2</th>\n",
       "      <th>sum_pr2</th>\n",
       "    </tr>\n",
       "  </thead>\n",
       "  <tbody>\n",
       "    <tr>\n",
       "      <th>19871</th>\n",
       "      <td>ЦБ-00160691</td>\n",
       "      <td>29.4</td>\n",
       "      <td>43.55</td>\n",
       "      <td>14.4</td>\n",
       "      <td>87.35</td>\n",
       "    </tr>\n",
       "  </tbody>\n",
       "</table>\n",
       "</div>"
      ],
      "text/plain": [
       "               Код prruby_cost2 prsap_cost2 prem_cost2 sum_pr2\n",
       "19871  ЦБ-00160691         29.4       43.55       14.4   87.35"
      ]
     },
     "execution_count": 341,
     "metadata": {},
     "output_type": "execute_result"
    }
   ],
   "source": [
    "df_test[['Код','prruby_cost2','prsap_cost2','prem_cost2','sum_pr2' ]][(df_test['prsap_cost2']!=0)&(df_test['prruby_cost2']!=0)]"
   ]
  },
  {
   "cell_type": "code",
   "execution_count": 336,
   "id": "d88aac77",
   "metadata": {},
   "outputs": [
    {
     "data": {
      "text/plain": [
       "Index(['Код', 'vst', 'make_list_sap_20', 'list_std_sap20', 'report_sap20',\n",
       "       'count_price_sap20', 'prsap_cost', 'make_list_ruby20',\n",
       "       'list_std_ruby20', 'report_ruby20', 'count_price_ruby20', 'prruby_cost',\n",
       "       'make_list_em20', 'list_std_em20', 'report_em20', 'prem_vst2list',\n",
       "       'count_price_em20', 'prem_cost', 'prruby_cost2', 'prsap_cost2',\n",
       "       'sum_pr2', 'prem_cost2', 'report_sum', 'list_sum'],\n",
       "      dtype='object')"
      ]
     },
     "execution_count": 336,
     "metadata": {},
     "output_type": "execute_result"
    }
   ],
   "source": [
    "df_test.columns"
   ]
  },
  {
   "cell_type": "code",
   "execution_count": 344,
   "id": "6ee8208f",
   "metadata": {},
   "outputs": [
    {
     "data": {
      "text/plain": [
       "array(['r:ok:0!=0;нет распознанных; s:ok:0!=0;нет распознанных; e:нет распознанных',\n",
       "       'r:ok:0!=0;нет распознанных; s:ok:1!=1;C:ok;Q:ok;PCS:ok;GEM:ok;; e:нет распознанных',\n",
       "       'r:ok:0!=0;нет распознанных; s:ok:0!=0;нет распознанных; e:C:ok;Q:ok;PCS:ok;GEM:ok;',\n",
       "       'r:ok:1!=1;C:ok;Q:ok;PCS:ok;GEM:ok;; s:ok:0!=0;нет распознанных; e:нет распознанных',\n",
       "       'r:ok:0!=0;нет распознанных; s:ok:1!=1;C:ok;Q:error:3а;PCS:ok;GEM:ok;; e:нет распознанных',\n",
       "       'r:ok:1!=1;C:ok;Q:ok;PCS:ok;GEM:ok;; s:ok:0!=0;нет распознанных; e:C:ok;Q:ok;PCS:ok;GEM:ok;',\n",
       "       'r:ok:1!=1;C:ok;Q:ok;PCS:error:;GEM:ok;; s:ok:0!=0;нет распознанных; e:нет распознанных',\n",
       "       'r:ok:1!=1;C:ok;Q:error:3а;PCS:ok;GEM:ok;; s:ok:0!=0;нет распознанных; e:нет распознанных',\n",
       "       'r:ok:0!=0;нет распознанных; s:ok:0!=0;нет распознанных; e:C:ok;Q:error:г;PCS:ok;GEM:ok;',\n",
       "       'r:ok:4!=4;C:ok;Q:error:5а;PCS:ok;GEM:ok;; s:ok:0!=0;нет распознанных; e:нет распознанных',\n",
       "       'r:ok:0!=0;нет распознанных; s:ok:2!=2;C:ok;Q:ok;PCS:ok;GEM:ok;; e:нет распознанных',\n",
       "       'r:ok:0!=0;нет распознанных; s:ok:1!=1;C:ok;Q:error:2а;PCS:ok;GEM:ok;; e:нет распознанных',\n",
       "       'r:ok:0!=0;нет распознанных; s:bylens:error:0!=1;нет распознанных; e:нет распознанных',\n",
       "       'r:ok:0!=0;нет распознанных; s:ok:1!=1;C:ok;Q:error:1г;PCS:ok;GEM:ok;; e:нет распознанных',\n",
       "       'r:bylens:error:0!=1;нет распознанных; s:ok:0!=0;нет распознанных; e:нет распознанных',\n",
       "       'r:ok:0!=0;нет распознанных; s:ok:1!=1;C:error:4в;Q:ok;PCS:ok;GEM:ok;; e:нет распознанных',\n",
       "       'r:ok:0!=0;нет распознанных; s:ok:1!=1;C:ok;Q:ok;PCS:error:;GEM:ok;; e:нет распознанных',\n",
       "       'r:ok:0!=0;нет распознанных; s:bylens:error:4!=2;C:ok;Q:ok;PCS:ok;GEM:error:сапфир сапфир;; e:нет распознанных',\n",
       "       'r:ok:0!=0;нет распознанных; s:ok:4!=4;C:ok;Q:ok;PCS:ok;GEM:ok;; e:нет распознанных',\n",
       "       'r:ok:1!=1;C:ok;Q:error:г2;PCS:ok;GEM:ok;; s:ok:0!=0;нет распознанных; e:C:ok;Q:ok;PCS:ok;GEM:ok;',\n",
       "       'r:ok:0!=0;нет распознанных; s:ok:0!=0;нет распознанных; e:C:ok;Q:ok;PCS:error:;GEM:ok;',\n",
       "       'r:ok:0!=0;нет распознанных; s:ok:5!=5;C:ok;Q:ok;PCS:ok;GEM:ok;; e:C:ok;Q:ok;PCS:ok;GEM:ok;',\n",
       "       'r:ok:1!=1;C:ok;Q:ok;PCS:ok;GEM:ok;; s:ok:3!=3;C:ok;Q:ok;PCS:ok;GEM:ok;; e:C:ok;Q:ok;PCS:ok;GEM:ok;',\n",
       "       'r:ok:1!=1;C:ok;Q:error:г4;PCS:ok;GEM:ok;; s:ok:0!=0;нет распознанных; e:нет распознанных',\n",
       "       'r:ok:1!=1;C:ok;Q:ok;PCS:ok;GEM:ok;; s:ok:0!=0;нет распознанных; e:C:ok;Q:error:к3;PCS:ok;GEM:ok;',\n",
       "       'r:ok:2!=2;C:ok;Q:ok;PCS:ok;GEM:ok;; s:ok:0!=0;нет распознанных; e:нет распознанных',\n",
       "       'r:ok:1!=1;C:ok;Q:error:5а;PCS:ok;GEM:ok;; s:ok:0!=0;нет распознанных; e:нет распознанных',\n",
       "       'r:ok:0!=0;нет распознанных; s:ok:1!=1;C:ok;Q:ok;PCS:ok;GEM:error:сапфирпм;; e:нет распознанных'],\n",
       "      dtype=object)"
      ]
     },
     "execution_count": 344,
     "metadata": {},
     "output_type": "execute_result"
    }
   ],
   "source": [
    "df_test.report_sum.unique()"
   ]
  },
  {
   "cell_type": "code",
   "execution_count": null,
   "id": "d53dd00c",
   "metadata": {},
   "outputs": [],
   "source": [
    "#разработка em 15:18"
   ]
  },
  {
   "cell_type": "code",
   "execution_count": 342,
   "id": "95696b6e",
   "metadata": {},
   "outputs": [
    {
     "data": {
      "text/html": [
       "<div>\n",
       "<style scoped>\n",
       "    .dataframe tbody tr th:only-of-type {\n",
       "        vertical-align: middle;\n",
       "    }\n",
       "\n",
       "    .dataframe tbody tr th {\n",
       "        vertical-align: top;\n",
       "    }\n",
       "\n",
       "    .dataframe thead th {\n",
       "        text-align: right;\n",
       "    }\n",
       "</style>\n",
       "<table border=\"1\" class=\"dataframe\">\n",
       "  <thead>\n",
       "    <tr style=\"text-align: right;\">\n",
       "      <th></th>\n",
       "      <th>Код</th>\n",
       "      <th>prruby_cost2</th>\n",
       "      <th>prsap_cost2</th>\n",
       "      <th>prem_cost2</th>\n",
       "      <th>sum_pr2</th>\n",
       "    </tr>\n",
       "  </thead>\n",
       "  <tbody>\n",
       "    <tr>\n",
       "      <th>965</th>\n",
       "      <td>ЦБ-00005905</td>\n",
       "      <td>0</td>\n",
       "      <td>имеется ошибка, или подозрение см report</td>\n",
       "      <td>0</td>\n",
       "      <td>имеется ошибка, или подозрение см report;</td>\n",
       "    </tr>\n",
       "    <tr>\n",
       "      <th>5978</th>\n",
       "      <td>ЦБ-00034422</td>\n",
       "      <td>0</td>\n",
       "      <td>имеется ошибка, или подозрение см report</td>\n",
       "      <td>0</td>\n",
       "      <td>имеется ошибка, или подозрение см report;</td>\n",
       "    </tr>\n",
       "    <tr>\n",
       "      <th>6507</th>\n",
       "      <td>ЦБ-00036164</td>\n",
       "      <td>0</td>\n",
       "      <td>имеется ошибка, или подозрение см report</td>\n",
       "      <td>0</td>\n",
       "      <td>имеется ошибка, или подозрение см report;</td>\n",
       "    </tr>\n",
       "    <tr>\n",
       "      <th>6702</th>\n",
       "      <td>ЦБ-00037248</td>\n",
       "      <td>0</td>\n",
       "      <td>имеется ошибка, или подозрение см report</td>\n",
       "      <td>0</td>\n",
       "      <td>имеется ошибка, или подозрение см report;</td>\n",
       "    </tr>\n",
       "    <tr>\n",
       "      <th>8071</th>\n",
       "      <td>ЦБ-00043873</td>\n",
       "      <td>0</td>\n",
       "      <td>имеется ошибка, или подозрение см report</td>\n",
       "      <td>0</td>\n",
       "      <td>имеется ошибка, или подозрение см report;</td>\n",
       "    </tr>\n",
       "    <tr>\n",
       "      <th>11987</th>\n",
       "      <td>ЦБ-00093208</td>\n",
       "      <td>0</td>\n",
       "      <td>имеется ошибка, или подозрение см report</td>\n",
       "      <td>0</td>\n",
       "      <td>имеется ошибка, или подозрение см report;</td>\n",
       "    </tr>\n",
       "    <tr>\n",
       "      <th>11988</th>\n",
       "      <td>ЦБ-00093210</td>\n",
       "      <td>0</td>\n",
       "      <td>имеется ошибка, или подозрение см report</td>\n",
       "      <td>0</td>\n",
       "      <td>имеется ошибка, или подозрение см report;</td>\n",
       "    </tr>\n",
       "    <tr>\n",
       "      <th>11990</th>\n",
       "      <td>ЦБ-00093214</td>\n",
       "      <td>0</td>\n",
       "      <td>имеется ошибка, или подозрение см report</td>\n",
       "      <td>0</td>\n",
       "      <td>имеется ошибка, или подозрение см report;</td>\n",
       "    </tr>\n",
       "    <tr>\n",
       "      <th>11992</th>\n",
       "      <td>ЦБ-00093216</td>\n",
       "      <td>0</td>\n",
       "      <td>имеется ошибка, или подозрение см report</td>\n",
       "      <td>0</td>\n",
       "      <td>имеется ошибка, или подозрение см report;</td>\n",
       "    </tr>\n",
       "    <tr>\n",
       "      <th>12122</th>\n",
       "      <td>ЦБ-00101518</td>\n",
       "      <td>0</td>\n",
       "      <td>имеется ошибка, или подозрение см report</td>\n",
       "      <td>0</td>\n",
       "      <td>имеется ошибка, или подозрение см report;</td>\n",
       "    </tr>\n",
       "    <tr>\n",
       "      <th>17416</th>\n",
       "      <td>ЦБ-00130114</td>\n",
       "      <td>0</td>\n",
       "      <td>имеется ошибка, или подозрение см report</td>\n",
       "      <td>0</td>\n",
       "      <td>имеется ошибка, или подозрение см report;</td>\n",
       "    </tr>\n",
       "    <tr>\n",
       "      <th>19829</th>\n",
       "      <td>ЦБ-00160647</td>\n",
       "      <td>0</td>\n",
       "      <td>имеется ошибка, или подозрение см report</td>\n",
       "      <td>0</td>\n",
       "      <td>имеется ошибка, или подозрение см report;</td>\n",
       "    </tr>\n",
       "    <tr>\n",
       "      <th>23692</th>\n",
       "      <td>ЦБ-00171198</td>\n",
       "      <td>0</td>\n",
       "      <td>имеется ошибка, или подозрение см report</td>\n",
       "      <td>0</td>\n",
       "      <td>имеется ошибка, или подозрение см report;</td>\n",
       "    </tr>\n",
       "    <tr>\n",
       "      <th>28484</th>\n",
       "      <td>ЦБ-00183444</td>\n",
       "      <td>0</td>\n",
       "      <td>имеется ошибка, или подозрение см report</td>\n",
       "      <td>0</td>\n",
       "      <td>имеется ошибка, или подозрение см report;</td>\n",
       "    </tr>\n",
       "  </tbody>\n",
       "</table>\n",
       "</div>"
      ],
      "text/plain": [
       "               Код prruby_cost2                               prsap_cost2  \\\n",
       "965    ЦБ-00005905            0  имеется ошибка, или подозрение см report   \n",
       "5978   ЦБ-00034422            0  имеется ошибка, или подозрение см report   \n",
       "6507   ЦБ-00036164            0  имеется ошибка, или подозрение см report   \n",
       "6702   ЦБ-00037248            0  имеется ошибка, или подозрение см report   \n",
       "8071   ЦБ-00043873            0  имеется ошибка, или подозрение см report   \n",
       "11987  ЦБ-00093208            0  имеется ошибка, или подозрение см report   \n",
       "11988  ЦБ-00093210            0  имеется ошибка, или подозрение см report   \n",
       "11990  ЦБ-00093214            0  имеется ошибка, или подозрение см report   \n",
       "11992  ЦБ-00093216            0  имеется ошибка, или подозрение см report   \n",
       "12122  ЦБ-00101518            0  имеется ошибка, или подозрение см report   \n",
       "17416  ЦБ-00130114            0  имеется ошибка, или подозрение см report   \n",
       "19829  ЦБ-00160647            0  имеется ошибка, или подозрение см report   \n",
       "23692  ЦБ-00171198            0  имеется ошибка, или подозрение см report   \n",
       "28484  ЦБ-00183444            0  имеется ошибка, или подозрение см report   \n",
       "\n",
       "      prem_cost2                                    sum_pr2  \n",
       "965            0  имеется ошибка, или подозрение см report;  \n",
       "5978           0  имеется ошибка, или подозрение см report;  \n",
       "6507           0  имеется ошибка, или подозрение см report;  \n",
       "6702           0  имеется ошибка, или подозрение см report;  \n",
       "8071           0  имеется ошибка, или подозрение см report;  \n",
       "11987          0  имеется ошибка, или подозрение см report;  \n",
       "11988          0  имеется ошибка, или подозрение см report;  \n",
       "11990          0  имеется ошибка, или подозрение см report;  \n",
       "11992          0  имеется ошибка, или подозрение см report;  \n",
       "12122          0  имеется ошибка, или подозрение см report;  \n",
       "17416          0  имеется ошибка, или подозрение см report;  \n",
       "19829          0  имеется ошибка, или подозрение см report;  \n",
       "23692          0  имеется ошибка, или подозрение см report;  \n",
       "28484          0  имеется ошибка, или подозрение см report;  "
      ]
     },
     "execution_count": 342,
     "metadata": {},
     "output_type": "execute_result"
    }
   ],
   "source": [
    "df_test[['Код','prruby_cost2','prsap_cost2','prem_cost2','sum_pr2' ]]\\\n",
    "[(df_test['prsap_cost2']=='имеется ошибка, или подозрение см report')]"
   ]
  },
  {
   "cell_type": "code",
   "execution_count": 319,
   "id": "00bbcecf",
   "metadata": {},
   "outputs": [
    {
     "data": {
      "text/html": [
       "<div>\n",
       "<style scoped>\n",
       "    .dataframe tbody tr th:only-of-type {\n",
       "        vertical-align: middle;\n",
       "    }\n",
       "\n",
       "    .dataframe tbody tr th {\n",
       "        vertical-align: top;\n",
       "    }\n",
       "\n",
       "    .dataframe thead th {\n",
       "        text-align: right;\n",
       "    }\n",
       "</style>\n",
       "<table border=\"1\" class=\"dataframe\">\n",
       "  <thead>\n",
       "    <tr style=\"text-align: right;\">\n",
       "      <th></th>\n",
       "      <th>Код</th>\n",
       "      <th>prruby_cost2</th>\n",
       "      <th>prsap_cost2</th>\n",
       "      <th>prem_cost2</th>\n",
       "      <th>sum_pr2</th>\n",
       "    </tr>\n",
       "  </thead>\n",
       "  <tbody>\n",
       "    <tr>\n",
       "      <th>965</th>\n",
       "      <td>ЦБ-00005905</td>\n",
       "      <td>0</td>\n",
       "      <td>имеется ошибка, или подозрение см report</td>\n",
       "      <td>0</td>\n",
       "      <td>имеется ошибка, или подозрение см report;</td>\n",
       "    </tr>\n",
       "    <tr>\n",
       "      <th>5978</th>\n",
       "      <td>ЦБ-00034422</td>\n",
       "      <td>0</td>\n",
       "      <td>имеется ошибка, или подозрение см report</td>\n",
       "      <td>0</td>\n",
       "      <td>имеется ошибка, или подозрение см report;</td>\n",
       "    </tr>\n",
       "    <tr>\n",
       "      <th>6507</th>\n",
       "      <td>ЦБ-00036164</td>\n",
       "      <td>0</td>\n",
       "      <td>имеется ошибка, или подозрение см report</td>\n",
       "      <td>0</td>\n",
       "      <td>имеется ошибка, или подозрение см report;</td>\n",
       "    </tr>\n",
       "    <tr>\n",
       "      <th>6702</th>\n",
       "      <td>ЦБ-00037248</td>\n",
       "      <td>0</td>\n",
       "      <td>имеется ошибка, или подозрение см report</td>\n",
       "      <td>0</td>\n",
       "      <td>имеется ошибка, или подозрение см report;</td>\n",
       "    </tr>\n",
       "    <tr>\n",
       "      <th>8071</th>\n",
       "      <td>ЦБ-00043873</td>\n",
       "      <td>0</td>\n",
       "      <td>имеется ошибка, или подозрение см report</td>\n",
       "      <td>0</td>\n",
       "      <td>имеется ошибка, или подозрение см report;</td>\n",
       "    </tr>\n",
       "    <tr>\n",
       "      <th>11987</th>\n",
       "      <td>ЦБ-00093208</td>\n",
       "      <td>0</td>\n",
       "      <td>имеется ошибка, или подозрение см report</td>\n",
       "      <td>0</td>\n",
       "      <td>имеется ошибка, или подозрение см report;</td>\n",
       "    </tr>\n",
       "    <tr>\n",
       "      <th>11988</th>\n",
       "      <td>ЦБ-00093210</td>\n",
       "      <td>0</td>\n",
       "      <td>имеется ошибка, или подозрение см report</td>\n",
       "      <td>0</td>\n",
       "      <td>имеется ошибка, или подозрение см report;</td>\n",
       "    </tr>\n",
       "    <tr>\n",
       "      <th>11990</th>\n",
       "      <td>ЦБ-00093214</td>\n",
       "      <td>0</td>\n",
       "      <td>имеется ошибка, или подозрение см report</td>\n",
       "      <td>0</td>\n",
       "      <td>имеется ошибка, или подозрение см report;</td>\n",
       "    </tr>\n",
       "    <tr>\n",
       "      <th>11992</th>\n",
       "      <td>ЦБ-00093216</td>\n",
       "      <td>0</td>\n",
       "      <td>имеется ошибка, или подозрение см report</td>\n",
       "      <td>0</td>\n",
       "      <td>имеется ошибка, или подозрение см report;</td>\n",
       "    </tr>\n",
       "    <tr>\n",
       "      <th>12122</th>\n",
       "      <td>ЦБ-00101518</td>\n",
       "      <td>0</td>\n",
       "      <td>имеется ошибка, или подозрение см report</td>\n",
       "      <td>0</td>\n",
       "      <td>имеется ошибка, или подозрение см report;</td>\n",
       "    </tr>\n",
       "    <tr>\n",
       "      <th>17416</th>\n",
       "      <td>ЦБ-00130114</td>\n",
       "      <td>0</td>\n",
       "      <td>имеется ошибка, или подозрение см report</td>\n",
       "      <td>0</td>\n",
       "      <td>имеется ошибка, или подозрение см report;</td>\n",
       "    </tr>\n",
       "    <tr>\n",
       "      <th>19829</th>\n",
       "      <td>ЦБ-00160647</td>\n",
       "      <td>0</td>\n",
       "      <td>имеется ошибка, или подозрение см report</td>\n",
       "      <td>0</td>\n",
       "      <td>имеется ошибка, или подозрение см report;</td>\n",
       "    </tr>\n",
       "    <tr>\n",
       "      <th>23692</th>\n",
       "      <td>ЦБ-00171198</td>\n",
       "      <td>0</td>\n",
       "      <td>имеется ошибка, или подозрение см report</td>\n",
       "      <td>0</td>\n",
       "      <td>имеется ошибка, или подозрение см report;</td>\n",
       "    </tr>\n",
       "    <tr>\n",
       "      <th>28484</th>\n",
       "      <td>ЦБ-00183444</td>\n",
       "      <td>0</td>\n",
       "      <td>имеется ошибка, или подозрение см report</td>\n",
       "      <td>0</td>\n",
       "      <td>имеется ошибка, или подозрение см report;</td>\n",
       "    </tr>\n",
       "  </tbody>\n",
       "</table>\n",
       "</div>"
      ],
      "text/plain": [
       "               Код prruby_cost2                               prsap_cost2  \\\n",
       "965    ЦБ-00005905            0  имеется ошибка, или подозрение см report   \n",
       "5978   ЦБ-00034422            0  имеется ошибка, или подозрение см report   \n",
       "6507   ЦБ-00036164            0  имеется ошибка, или подозрение см report   \n",
       "6702   ЦБ-00037248            0  имеется ошибка, или подозрение см report   \n",
       "8071   ЦБ-00043873            0  имеется ошибка, или подозрение см report   \n",
       "11987  ЦБ-00093208            0  имеется ошибка, или подозрение см report   \n",
       "11988  ЦБ-00093210            0  имеется ошибка, или подозрение см report   \n",
       "11990  ЦБ-00093214            0  имеется ошибка, или подозрение см report   \n",
       "11992  ЦБ-00093216            0  имеется ошибка, или подозрение см report   \n",
       "12122  ЦБ-00101518            0  имеется ошибка, или подозрение см report   \n",
       "17416  ЦБ-00130114            0  имеется ошибка, или подозрение см report   \n",
       "19829  ЦБ-00160647            0  имеется ошибка, или подозрение см report   \n",
       "23692  ЦБ-00171198            0  имеется ошибка, или подозрение см report   \n",
       "28484  ЦБ-00183444            0  имеется ошибка, или подозрение см report   \n",
       "\n",
       "      prem_cost2                                    sum_pr2  \n",
       "965            0  имеется ошибка, или подозрение см report;  \n",
       "5978           0  имеется ошибка, или подозрение см report;  \n",
       "6507           0  имеется ошибка, или подозрение см report;  \n",
       "6702           0  имеется ошибка, или подозрение см report;  \n",
       "8071           0  имеется ошибка, или подозрение см report;  \n",
       "11987          0  имеется ошибка, или подозрение см report;  \n",
       "11988          0  имеется ошибка, или подозрение см report;  \n",
       "11990          0  имеется ошибка, или подозрение см report;  \n",
       "11992          0  имеется ошибка, или подозрение см report;  \n",
       "12122          0  имеется ошибка, или подозрение см report;  \n",
       "17416          0  имеется ошибка, или подозрение см report;  \n",
       "19829          0  имеется ошибка, или подозрение см report;  \n",
       "23692          0  имеется ошибка, или подозрение см report;  \n",
       "28484          0  имеется ошибка, или подозрение см report;  "
      ]
     },
     "execution_count": 319,
     "metadata": {},
     "output_type": "execute_result"
    }
   ],
   "source": [
    "df_test[['Код','prruby_cost2','prsap_cost2','prem_cost2','sum_pr2' ]]\\\n",
    "[(df_test['prsap_cost2']=='имеется ошибка, или подозрение см report')]"
   ]
  },
  {
   "cell_type": "code",
   "execution_count": null,
   "id": "25f8cb97",
   "metadata": {},
   "outputs": [],
   "source": []
  },
  {
   "cell_type": "code",
   "execution_count": 320,
   "id": "5f56d0fe",
   "metadata": {},
   "outputs": [
    {
     "data": {
      "text/plain": [
       "array([0, 51.75, 13.71, 10.2, 11.05, 11.88, 3.77, 10.08, 3.9,\n",
       "       'имеется ошибка, или подозрение см report', 3.12, 25.6, 16.8, 51.2,\n",
       "       1405.6, 3.8, 32.8, 21.6, 96.75, 98.6, 6.0, 32.0, 36.4, 7.8, 61.6,\n",
       "       107.1, 5.2, 19.5, 10.72, 9.38, 11.2, 34.5, 35.2, 33.55, 76.02,\n",
       "       31.95, 34.84, 18.0, 18.15, 15.39, 9.35, 35.65, 320.0, 186.49, 9.75,\n",
       "       75.46, 13.65, 4.5, 15.6, 14.82, 12.15, 40.7, 9.6, 81.07, 78.2, 6.5,\n",
       "       8.32, 24.0, 4.55, 265.0, 312.0, 2324.0, 4410.0, 80.0, 285.0, 101.4,\n",
       "       8.78, 51.63, 8.0, 111.75, 20.79, 2621.4, 886.9, 97.6, 49.45, 48.8,\n",
       "       302.6, 9.1, 9.04, 33.0, 43.5, 78.0, 280.0, 9.0, 115.6, 102.0,\n",
       "       113.85, 132.3, 173.4, 60.45, 731.5, 5.85, 261.8, 17.6, 5.25, 6.3,\n",
       "       8.4, 108.03, 110.4, 182.0, 2.8, 91.0, 31.0, 20.4, 103.32, 7.5,\n",
       "       169.0, 119.77, 32.76, 149.8, 139.1, 181.9, 3566.6, 1100.0, 189.9,\n",
       "       4.05, 6.6, 43.55, 35.99, 63.25, 31.05, 86.4, 48.4, 42.55, 64.17,\n",
       "       26.33, 10.53, 128.46, 64.4, 641.7, 11.1, 100.3, 40.82, 3.25, 38.07,\n",
       "       25.55, 20.85, 20.15, 18.6, 24.66, 24.57, 40.95, 46.8, 41.6, 38.16,\n",
       "       25.09, 1151.8, 75.0, 12.0, 2.7, 129.2, 80.6, 106.0, 158.6, 54.05,\n",
       "       180.2, 132.0, 103.7, 14.4, 30.0, 70.15, 101.58, 261.15, 159.9,\n",
       "       97.58, 30.36, 38.18, 60.95, 19.84, 56.5, 39.04, 80.38, 604.1, 16.9,\n",
       "       8.96, 18.2, 549.5, 15.2, 13.0, 156.4, 12.35, 3.6, 62.1, 24.3, 36.9,\n",
       "       116.2, 212.4, 41.4, 58.1, 139.2, 124.6, 176.4, 93.15, 588.0, 176.8,\n",
       "       510.0, 64.5, 36.24, 20.41, 3.06, 5.7, 136.8, 49.5, 10.4, 200.2,\n",
       "       80.5, 1075.2, 2676.0, 139.15, 238.56, 206.74, 9.9, 16.0, 25.35,\n",
       "       1.95, 24.93, 36.11, 32.23, 228.4, 30.15, 103.46, 9.95, 24.75,\n",
       "       31.57, 94.5, 39.1, 81.65, 11.84, 15.82, 19.95, 66.7, 25.65, 278.8,\n",
       "       16.2, 180.0], dtype=object)"
      ]
     },
     "execution_count": 320,
     "metadata": {},
     "output_type": "execute_result"
    }
   ],
   "source": [
    "df_test['prsap_cost2'].unique()"
   ]
  },
  {
   "cell_type": "code",
   "execution_count": null,
   "id": "5fcc7d72",
   "metadata": {},
   "outputs": [],
   "source": []
  },
  {
   "cell_type": "code",
   "execution_count": 269,
   "id": "3312b27a",
   "metadata": {},
   "outputs": [],
   "source": [
    "d = ['ckjf', '13.71', 'fffff', '11.05', '11,88', '3.sss77', 0]"
   ]
  },
  {
   "cell_type": "code",
   "execution_count": 325,
   "id": "e6622f76",
   "metadata": {},
   "outputs": [],
   "source": [
    "d = ['10.257','0','0.23', '21.22', 1, np.nan]"
   ]
  },
  {
   "cell_type": "code",
   "execution_count": 326,
   "id": "f51597d2",
   "metadata": {},
   "outputs": [
    {
     "data": {
      "text/plain": [
       "['257 0', ' 0', '23 21', '22 1', ' nan']"
      ]
     },
     "execution_count": 326,
     "metadata": {},
     "output_type": "execute_result"
    }
   ],
   "source": [
    "re.findall(\"\\d*[A-zА-я\\s]+\\d*\",' '.join([str(x) for x in d]).strip())"
   ]
  },
  {
   "cell_type": "code",
   "execution_count": 327,
   "id": "15d9febd",
   "metadata": {},
   "outputs": [
    {
     "data": {
      "text/plain": [
       "nan"
      ]
     },
     "execution_count": 327,
     "metadata": {},
     "output_type": "execute_result"
    }
   ],
   "source": [
    "sum_str(d)"
   ]
  },
  {
   "cell_type": "markdown",
   "id": "9964bc80",
   "metadata": {},
   "source": [
    "## запись в exel массовой прогонки em ruby sap"
   ]
  },
  {
   "cell_type": "code",
   "execution_count": 345,
   "id": "188e3b93",
   "metadata": {},
   "outputs": [],
   "source": [
    "df_test.to_excel(f\"{folder_res}done_em_sap_ruby21{datetime.datetime.now().strftime('%d-%m-%Y_%H-%M')}.xlsx\")"
   ]
  },
  {
   "cell_type": "code",
   "execution_count": 346,
   "id": "eb69eccf",
   "metadata": {},
   "outputs": [
    {
     "data": {
      "text/plain": [
       "'../ЦВДК/2023-11-21/'"
      ]
     },
     "execution_count": 346,
     "metadata": {},
     "output_type": "execute_result"
    }
   ],
   "source": [
    "folder_res"
   ]
  },
  {
   "cell_type": "markdown",
   "id": "c76ce32e",
   "metadata": {},
   "source": [
    "# разработка суммы"
   ]
  },
  {
   "cell_type": "code",
   "execution_count": 88,
   "id": "6688e783",
   "metadata": {},
   "outputs": [
    {
     "data": {
      "text/plain": [
       "array([0, '51.75', '13.71', '10.20', '11.05', '11.88', '3.77', '10.08',\n",
       "       '3.90', 'имеется ошибка, или подозрение см report', '3.12',\n",
       "       '25.60', '16.80', '51.20', '1405.60', '3.80', '32.80', '21.60',\n",
       "       '96.75', '98.60', '6.00', '32.00', '36.40', '7.80', '61.60',\n",
       "       '107.10', '5.20', '19.50', '10.72', '9.38', '11.20', '34.50',\n",
       "       '35.20', '33.55', '76.02', '31.95', '34.84', '18.00', '18.15',\n",
       "       '15.39', '9.35', '35.65', '320.00', '186.49', '9.75', '75.46',\n",
       "       '13.65', '4.50', '15.60', '14.82', '12.15', '40.70', '9.60',\n",
       "       '81.07', '78.20', '6.50', '8.32', '24.00', '4.55', '265.00',\n",
       "       '312.00', '2324.00', '4410.00', '80.00', '285.00', '101.40',\n",
       "       '8.78', '51.63', '8.00', '111.75', '20.79', '2621.40', '886.90',\n",
       "       '97.60', '49.45', '48.80', '302.60', '9.10', '9.04', '33.00',\n",
       "       '43.50', '78.00', '280.00', '9.00', '115.60', '102.00', '113.85',\n",
       "       '132.30', '173.40', '60.45', '731.50', '5.85', '261.80', '17.60',\n",
       "       '5.25', '6.30', '8.40', '108.03', '110.40', '182.00', '2.80',\n",
       "       '91.00', '31.00', '20.40', '103.32', '7.50', '169.00', '119.77',\n",
       "       '32.76', '149.80', '139.10', '181.90', '3566.60', '1100.00',\n",
       "       '189.90', '4.05', '6.60', '43.55', '35.99', '63.25', '31.05',\n",
       "       '86.40', '48.40', '42.55', '64.17', '26.33', '10.53', '128.46',\n",
       "       '64.40', '641.70', '11.10', '100.30', '40.82', '3.25', '38.07',\n",
       "       '25.55', '20.85', '20.15', '18.60', '24.66', '24.57', '40.95',\n",
       "       '46.80', '41.60', '38.16', '25.09', '1151.80', '75.00', '12.00',\n",
       "       '2.70', '129.20', '80.60', '106.00', '158.60', '54.05', '180.20',\n",
       "       '132.00', '103.70', '14.40', '30.00', '70.15', '101.58', '261.15',\n",
       "       '159.90', '97.58', '30.36', '38.18', '60.95', '19.84', '56.50',\n",
       "       '39.04', '80.38', '604.10', '16.90', '8.96', '18.20', '549.50',\n",
       "       '15.20', '13.00', '156.40', '12.35', '3.60', '62.10', '24.30',\n",
       "       '36.90', '116.20', '212.40', '41.40', '58.10', '139.20', '124.60',\n",
       "       '176.40', '93.15', '588.00', '176.80', '510.00', '64.50', '36.24',\n",
       "       '20.41', '3.06', '5.70', '136.80', '49.50', '10.40', '200.20',\n",
       "       '80.50', '1075.20', '2676.00', '139.15', '238.56', '206.74',\n",
       "       '9.90', '16.00', '25.35', '1.95', '24.93', '36.11', '32.23',\n",
       "       '228.40', '30.15', '103.46', '9.95', '24.75', '31.57', '94.50',\n",
       "       '39.10', '81.65', '11.84', '15.82', '19.95', '66.70', '25.65',\n",
       "       '278.80', '16.20', '180.00'], dtype=object)"
      ]
     },
     "execution_count": 88,
     "metadata": {},
     "output_type": "execute_result"
    }
   ],
   "source": [
    "df_test.prsap_cost.unique()"
   ]
  },
  {
   "cell_type": "code",
   "execution_count": 101,
   "id": "633a5407",
   "metadata": {},
   "outputs": [],
   "source": [
    "t = '278.80'"
   ]
  },
  {
   "cell_type": "code",
   "execution_count": 105,
   "id": "dd0060f7",
   "metadata": {},
   "outputs": [],
   "source": [
    "t =  'имеется ошибка, или подозрение см report'"
   ]
  },
  {
   "cell_type": "code",
   "execution_count": 107,
   "id": "7aa04160",
   "metadata": {},
   "outputs": [],
   "source": [
    "re.match(\"\\d+.\\d+\",t)#.group()"
   ]
  },
  {
   "cell_type": "code",
   "execution_count": 108,
   "id": "d633dc8e",
   "metadata": {},
   "outputs": [
    {
     "name": "stdout",
     "output_type": "stream",
     "text": [
      "True\n"
     ]
    }
   ],
   "source": [
    "if _ is not None:\n",
    "    print('True')"
   ]
  },
  {
   "cell_type": "code",
   "execution_count": 118,
   "id": "dec8f5ae",
   "metadata": {},
   "outputs": [
    {
     "name": "stdout",
     "output_type": "stream",
     "text": [
      "[13.71, 11.05, 11.88, 3.77, 10.08]\n"
     ]
    }
   ],
   "source": [
    "data = ['ckjf', '13.71', 'fffff', '11.05', '11.88', '3.77', '10.08']\n",
    "numbers = []\n",
    "\n",
    "for item in data:\n",
    "    if item.replace('.','').isnumeric():\n",
    "        numbers.append(float(item))\n",
    "\n",
    "print(numbers)"
   ]
  },
  {
   "cell_type": "code",
   "execution_count": 116,
   "id": "becbc5ab",
   "metadata": {},
   "outputs": [
    {
     "data": {
      "text/plain": [
       "True"
      ]
     },
     "execution_count": 116,
     "metadata": {},
     "output_type": "execute_result"
    }
   ],
   "source": [
    "'122'.replace('.','').isnumeric()"
   ]
  },
  {
   "cell_type": "code",
   "execution_count": 131,
   "id": "cf9dedd2",
   "metadata": {},
   "outputs": [],
   "source": [
    "def float_numeric(s):\n",
    "    if type(s) == type('s'):\n",
    "        return float(s) if s.replace('.','').isnumeric() else s\n",
    "    else:\n",
    "        return s\n",
    "    "
   ]
  },
  {
   "cell_type": "code",
   "execution_count": 134,
   "id": "64cf9935",
   "metadata": {},
   "outputs": [
    {
     "data": {
      "text/plain": [
       "1.2"
      ]
     },
     "execution_count": 134,
     "metadata": {},
     "output_type": "execute_result"
    }
   ],
   "source": [
    "float_numeric(1.2)"
   ]
  },
  {
   "cell_type": "code",
   "execution_count": 216,
   "id": "f4ef2f81",
   "metadata": {},
   "outputs": [
    {
     "data": {
      "text/plain": [
       "array([0, 51.75, 13.71, 10.2, 11.05, 11.88, 3.77, 10.08, 3.9,\n",
       "       'имеется ошибка, или подозрение см report', 3.12, 25.6, 16.8, 51.2,\n",
       "       1405.6, 3.8, 32.8, 21.6, 96.75, 98.6, 6.0, 32.0, 36.4, 7.8, 61.6,\n",
       "       107.1, 5.2, 19.5, 10.72, 9.38, 11.2, 34.5, 35.2, 33.55, 76.02,\n",
       "       31.95, 34.84, 18.0, 18.15, 15.39, 9.35, 35.65, 320.0, 186.49, 9.75,\n",
       "       75.46, 13.65, 4.5, 15.6, 14.82, 12.15, 40.7, 9.6, 81.07, 78.2, 6.5,\n",
       "       8.32, 24.0, 4.55, 265.0, 312.0, 2324.0, 4410.0, 80.0, 285.0, 101.4,\n",
       "       8.78, 51.63, 8.0, 111.75, 20.79, 2621.4, 886.9, 97.6, 49.45, 48.8,\n",
       "       302.6, 9.1, 9.04, 33.0, 43.5, 78.0, 280.0, 9.0, 115.6, 102.0,\n",
       "       113.85, 132.3, 173.4, 60.45, 731.5, 5.85, 261.8, 17.6, 5.25, 6.3,\n",
       "       8.4, 108.03, 110.4, 182.0, 2.8, 91.0, 31.0, 20.4, 103.32, 7.5,\n",
       "       169.0, 119.77, 32.76, 149.8, 139.1, 181.9, 3566.6, 1100.0, 189.9,\n",
       "       4.05, 6.6, 43.55, 35.99, 63.25, 31.05, 86.4, 48.4, 42.55, 64.17,\n",
       "       26.33, 10.53, 128.46, 64.4, 641.7, 11.1, 100.3, 40.82, 3.25, 38.07,\n",
       "       25.55, 20.85, 20.15, 18.6, 24.66, 24.57, 40.95, 46.8, 41.6, 38.16,\n",
       "       25.09, 1151.8, 75.0, 12.0, 2.7, 129.2, 80.6, 106.0, 158.6, 54.05,\n",
       "       180.2, 132.0, 103.7, 14.4, 30.0, 70.15, 101.58, 261.15, 159.9,\n",
       "       97.58, 30.36, 38.18, 60.95, 19.84, 56.5, 39.04, 80.38, 604.1, 16.9,\n",
       "       8.96, 18.2, 549.5, 15.2, 13.0, 156.4, 12.35, 3.6, 62.1, 24.3, 36.9,\n",
       "       116.2, 212.4, 41.4, 58.1, 139.2, 124.6, 176.4, 93.15, 588.0, 176.8,\n",
       "       510.0, 64.5, 36.24, 20.41, 3.06, 5.7, 136.8, 49.5, 10.4, 200.2,\n",
       "       80.5, 1075.2, 2676.0, 139.15, 238.56, 206.74, 9.9, 16.0, 25.35,\n",
       "       1.95, 24.93, 36.11, 32.23, 228.4, 30.15, 103.46, 9.95, 24.75,\n",
       "       31.57, 94.5, 39.1, 81.65, 11.84, 15.82, 19.95, 66.7, 25.65, 278.8,\n",
       "       16.2, 180.0], dtype=object)"
      ]
     },
     "execution_count": 216,
     "metadata": {},
     "output_type": "execute_result"
    }
   ],
   "source": [
    "df_test.prsap_cost.map(float_numeric).unique()"
   ]
  },
  {
   "cell_type": "code",
   "execution_count": null,
   "id": "b7ab90a2",
   "metadata": {},
   "outputs": [],
   "source": []
  },
  {
   "cell_type": "markdown",
   "id": "a3e75747",
   "metadata": {},
   "source": [
    "# DEL"
   ]
  },
  {
   "cell_type": "code",
   "execution_count": null,
   "id": "1d9af9e3",
   "metadata": {},
   "outputs": [],
   "source": [
    "''{:,.2f}'.format"
   ]
  },
  {
   "cell_type": "code",
   "execution_count": 220,
   "id": "b9170cc1",
   "metadata": {},
   "outputs": [
    {
     "data": {
      "text/plain": [
       "'20,001.30'"
      ]
     },
     "execution_count": 220,
     "metadata": {},
     "output_type": "execute_result"
    }
   ],
   "source": [
    "x=20001.29999999999\n",
    "(f\"{float(x):,.2f}\")"
   ]
  },
  {
   "cell_type": "code",
   "execution_count": 82,
   "id": "fe445fa9",
   "metadata": {},
   "outputs": [
    {
     "data": {
      "text/plain": [
       "'22-11-2023_10-04'"
      ]
     },
     "execution_count": 82,
     "metadata": {},
     "output_type": "execute_result"
    }
   ],
   "source": [
    "datetime.datetime.now().strftime('%d-%m-%Y_%H-%M')"
   ]
  },
  {
   "cell_type": "code",
   "execution_count": null,
   "id": "f229391b",
   "metadata": {},
   "outputs": [],
   "source": []
  },
  {
   "cell_type": "code",
   "execution_count": null,
   "id": "4d55934c",
   "metadata": {},
   "outputs": [],
   "source": []
  },
  {
   "cell_type": "code",
   "execution_count": null,
   "id": "10c15f24",
   "metadata": {},
   "outputs": [],
   "source": []
  },
  {
   "cell_type": "code",
   "execution_count": null,
   "id": "e8cf358d",
   "metadata": {},
   "outputs": [],
   "source": []
  },
  {
   "cell_type": "code",
   "execution_count": null,
   "id": "2d7b2301",
   "metadata": {},
   "outputs": [],
   "source": []
  },
  {
   "cell_type": "code",
   "execution_count": null,
   "id": "b6a95c9c",
   "metadata": {},
   "outputs": [],
   "source": []
  },
  {
   "cell_type": "markdown",
   "id": "40775bc5",
   "metadata": {},
   "source": [
    "# 23-11-16 16-00 Сводка ЮИ .xlsx"
   ]
  },
  {
   "cell_type": "code",
   "execution_count": 92,
   "id": "a2beb876",
   "metadata": {},
   "outputs": [],
   "source": [
    "#23-11-16 16-00 Сводка ЮИ .xlsx\n",
    "df_svod = pd.read_excel('../../23-09-ХХ Переоценка ДК магазины выст/Вставки Родитель1-5 коррекция/23-11-16 16-00 Сводка ЮИ .xlsx',\n",
    "                       dtype={'УИН':'str'})"
   ]
  },
  {
   "cell_type": "code",
   "execution_count": 93,
   "id": "64907dbc",
   "metadata": {},
   "outputs": [
    {
     "data": {
      "text/plain": [
       "Index(['Статус на 10.11.2023', 'УИН', 'Штрихкод', 'Код', 'Наименование',\n",
       "       'Артикул', 'Зав Ном', 'Проба', 'Вид ном', 'Вставки', 'Родитель2',\n",
       "       'Родитель3', 'Родитель4', 'Родитель5', 'Кол', 'Вес', 'Закуп',\n",
       "       'Розница на 10.11.2023 (для проданных - последняя известная)',\n",
       "       'Прейскурант брил по 2 источникам (Васильев 08.11.2023 и предв расчёт по самородкам)',\n",
       "       'Прейскурант ЦвДК по предв расчёту по самородкам)',\n",
       "       'Вес самородков суммированный', 'Старый код', 'Цвет металла', 'Размер',\n",
       "       'Дизайн', 'Родитель1', 'Оставшиеся задачи', 'Комментарий по задачам',\n",
       "       'Дата запроса', 'Качество данных', 'Характер изменений',\n",
       "       'Дата последней правки', 'Источник',\n",
       "       'ТЕХНИЧЕСКОЕ ПОЛЕ для временных сверок'],\n",
       "      dtype='object')"
      ]
     },
     "execution_count": 93,
     "metadata": {},
     "output_type": "execute_result"
    }
   ],
   "source": [
    "df_svod.columns"
   ]
  },
  {
   "cell_type": "code",
   "execution_count": 94,
   "id": "92f88c08",
   "metadata": {
    "scrolled": true
   },
   "outputs": [
    {
     "name": "stdout",
     "output_type": "stream",
     "text": [
      "<class 'pandas.core.frame.DataFrame'>\n",
      "RangeIndex: 142599 entries, 0 to 142598\n",
      "Data columns (total 34 columns):\n",
      " #   Column                                                                               Non-Null Count   Dtype         \n",
      "---  ------                                                                               --------------   -----         \n",
      " 0   Статус на 10.11.2023                                                                 142599 non-null  object        \n",
      " 1   УИН                                                                                  139327 non-null  object        \n",
      " 2   Штрихкод                                                                             142589 non-null  float64       \n",
      " 3   Код                                                                                  142599 non-null  object        \n",
      " 4   Наименование                                                                         142599 non-null  object        \n",
      " 5   Артикул                                                                              142594 non-null  object        \n",
      " 6   Зав Ном                                                                              69637 non-null   object        \n",
      " 7   Проба                                                                                142599 non-null  object        \n",
      " 8   Вид ном                                                                              142599 non-null  object        \n",
      " 9   Вставки                                                                              102551 non-null  object        \n",
      " 10  Родитель2                                                                            142599 non-null  object        \n",
      " 11  Родитель3                                                                            142592 non-null  object        \n",
      " 12  Родитель4                                                                            132823 non-null  object        \n",
      " 13  Родитель5                                                                            26486 non-null   object        \n",
      " 14  Кол                                                                                  142599 non-null  int64         \n",
      " 15  Вес                                                                                  142598 non-null  float64       \n",
      " 16  Закуп                                                                                142599 non-null  float64       \n",
      " 17  Розница на 10.11.2023 (для проданных - последняя известная)                          142599 non-null  float64       \n",
      " 18  Прейскурант брил по 2 источникам (Васильев 08.11.2023 и предв расчёт по самородкам)  34740 non-null   float64       \n",
      " 19  Прейскурант ЦвДК по предв расчёту по самородкам)                                     487 non-null     float64       \n",
      " 20  Вес самородков суммированный                                                         487 non-null     float64       \n",
      " 21  Старый код                                                                           122300 non-null  object        \n",
      " 22  Цвет металла                                                                         142599 non-null  object        \n",
      " 23  Размер                                                                               142487 non-null  object        \n",
      " 24  Дизайн                                                                               142599 non-null  object        \n",
      " 25  Родитель1                                                                            142599 non-null  object        \n",
      " 26  Оставшиеся задачи                                                                    17412 non-null   object        \n",
      " 27  Комментарий по задачам                                                               6494 non-null    object        \n",
      " 28  Дата запроса                                                                         191 non-null     datetime64[ns]\n",
      " 29  Качество данных                                                                      142599 non-null  int64         \n",
      " 30  Характер изменений                                                                   2395 non-null    object        \n",
      " 31  Дата последней правки                                                                142599 non-null  datetime64[ns]\n",
      " 32  Источник                                                                             142599 non-null  object        \n",
      " 33  ТЕХНИЧЕСКОЕ ПОЛЕ для временных сверок                                                0 non-null       float64       \n",
      "dtypes: datetime64[ns](2), float64(8), int64(2), object(22)\n",
      "memory usage: 37.0+ MB\n"
     ]
    }
   ],
   "source": [
    "df_svod.info()"
   ]
  },
  {
   "cell_type": "code",
   "execution_count": null,
   "id": "55e6e380",
   "metadata": {},
   "outputs": [],
   "source": []
  },
  {
   "cell_type": "code",
   "execution_count": null,
   "id": "7feda04e",
   "metadata": {},
   "outputs": [],
   "source": []
  },
  {
   "cell_type": "code",
   "execution_count": null,
   "id": "3d2beb20",
   "metadata": {},
   "outputs": [],
   "source": []
  },
  {
   "cell_type": "markdown",
   "id": "7c425b53",
   "metadata": {},
   "source": [
    "# Emeralds разработка"
   ]
  },
  {
   "cell_type": "markdown",
   "id": "239a1421",
   "metadata": {},
   "source": [
    "## df разработка "
   ]
  },
  {
   "cell_type": "code",
   "execution_count": 39,
   "id": "cd7d0817",
   "metadata": {},
   "outputs": [],
   "source": [
    "# на входе текст\n",
    "t1 = '5ИзумрудПМ-0,250-НРОКр+3/Г3 3ИзумрудПМ-1,500-НРОГ+3/Г3 14Кр57-0,180-4/4А'\n",
    "t2 = '1изумрудпм-0,356-нроов+3/г3 18кр57-0,125-2/5а'"
   ]
  },
  {
   "cell_type": "markdown",
   "id": "0dad8835",
   "metadata": {},
   "source": [
    "## разработка для модуля"
   ]
  },
  {
   "cell_type": "code",
   "execution_count": 40,
   "id": "87662785",
   "metadata": {},
   "outputs": [],
   "source": [
    "from module_prgem.dictemeralds import dcla_em_sto, dcol_em_sto\n"
   ]
  },
  {
   "cell_type": "code",
   "execution_count": 41,
   "id": "e1a097e9",
   "metadata": {},
   "outputs": [],
   "source": [
    "sizes_g = pd.read_excel('module_prgem/size_em_sto.xlsx')\n",
    "pr_em_sto = pd.read_excel('module_prgem/df_pr_emeralds_sto_173_20-04-2023.xlsx', dtype={'цвет':'str'})"
   ]
  },
  {
   "cell_type": "code",
   "execution_count": 42,
   "id": "f81bec17",
   "metadata": {
    "scrolled": true
   },
   "outputs": [
    {
     "data": {
      "text/plain": [
       "ТУ           object\n",
       "Обработка    object\n",
       "Огранка      object\n",
       "цвет         object\n",
       "чистота      object\n",
       "size         object\n",
       "price         int64\n",
       "dtype: object"
      ]
     },
     "execution_count": 42,
     "metadata": {},
     "output_type": "execute_result"
    }
   ],
   "source": [
    "pr_em_sto.dtypes"
   ]
  },
  {
   "cell_type": "code",
   "execution_count": 15,
   "id": "1c17aff6",
   "metadata": {},
   "outputs": [],
   "source": [
    "from module_prgem.dictemeralds import dcla_em_sto, dcol_em_sto\n",
    "def vst2list(t):\n",
    "    '''функцая распозавания изумрудов'''\n",
    "    pattern_em =  r\"\"\"(?ix)(?P<N>\\d{,3})# штуки \n",
    "               (?P<Gem>изумру[A-яA-z.]{1,5})[-]+#gem\n",
    "               (?P<Carat>\\d\\d?[.,]?\\d*)[\\s-]+                                 # карат\n",
    "               (?P<Form>[A-яA-z.\\d-]{1,10})[+]+#[+\\s-]+ \n",
    "               (?P<ColQ>\\d+[ /]+(?:\\d*[ГгКкKk]*\\d*))\"\"\"\n",
    "    res = re.findall(pattern_em, t )\n",
    "    return res if len(res)!=0 else np.nan \n",
    "\n",
    "\n",
    "def size_em_sto(q,carat_1):\n",
    "    '''функция для определения размерной группы изумруда по сто в зависимоти кабашон или фацет огранка\n",
    "   q - качество, carat_1'''   \n",
    "    if q not in dcla_em_sto.values():\n",
    "        return 'error_size_em_sto: q not in dcla_em_sto'\n",
    "    \n",
    "    if q.__contains__('Г'):\n",
    "        sizex = sizes_g[sizes_g['Огранка']=='фацетный вид огранки']\n",
    "    else:\n",
    "        sizex = sizes_g[sizes_g['Огранка']=='кобашенный вид огранки']\n",
    "            \n",
    "    return sizex[(sizex.low_grade<=carat_1)].sort_values('low_grade').iloc[-1,0]\n",
    "                        \n",
    "def check_vstlist(l):\n",
    "    '''функция для проверки соответствия словарям'''                           \n",
    "    #проверка на пусто или []\n",
    "    if l is np.nan or len(l)==0:\n",
    "        return np.nan\n",
    "    #создать внутренний dfx\n",
    "    dfx = pd.DataFrame({'vstlist':l})\n",
    "    cols = [\"PCS\",\"GEM\",\"CARAT\", \"FORM\", \"CQ\"]\n",
    "    for c in range(len(cols)):\n",
    "        dfx[cols[c]] = dfx.vstlist.apply(lambda x: x[c].lower().strip())\n",
    "    dfx['C'] = dfx['CQ'].apply(lambda x: x.split('/')[0].lower().strip())\n",
    "    dfx['Q'] = dfx['CQ'].apply(lambda x: x.split('/')[1].lower().strip())\n",
    "    \n",
    "    \n",
    "    #пустить проверки по словарям\n",
    "    report = ''\n",
    "    report += 'C ok;' if dfx['C'].apply(lambda x: x in dcol_em_sto).all() \\\n",
    "                      else 'C error;'\n",
    "    report+='Q ok;' if dfx['Q'].apply(lambda x: x in dcla_em_sto).all()\\\n",
    "                      else 'Q error;'\n",
    "    report+='PCS ok;' if dfx['PCS'].apply(lambda x: x!='').all()\\\n",
    "                      else 'PCS error;'\n",
    "    #масса за камень\n",
    "    try:\n",
    "        dfx['PCS'] = dfx['PCS'].astype('int')\n",
    "        dfx['CARAT'] = dfx['CARAT'].str.replace(',','.').astype('float')\n",
    "        dfx['PCS'] = dfx['PCS'].astype('int')\n",
    "        dfx['C'] = dfx['C'].map(dcol_em_sto)\n",
    "        dfx['Q'] = dfx['Q'].map(dcla_em_sto)\n",
    "        dfx['CARAT_1'] = dfx['CARAT']/dfx['PCS']\n",
    "        dfx['size'] = dfx.apply(lambda x:size_em_sto(x['Q'],x['CARAT_1']),axis=1)\n",
    "        dfx = pd.merge(left=dfx, right=pr_em_sto,\n",
    "            how='left', \n",
    "            left_on=['size', 'C', 'Q',],\n",
    "            right_on=['size','цвет', 'чистота'])\n",
    "        dfx['prcost'] = dfx['CARAT']*dfx['price']\n",
    "\n",
    "    except:\n",
    "        return 'except; '+report\n",
    "\n",
    "    \n",
    "#    return dfx['CARAT'].sum(),dfx['prcost'].sum(),(dfx['price'].astype('str')+'-').sum(),list(dfx['size']),report\n",
    "    return f\"CARAT:{dfx['CARAT'].sum():,.2f}, prcost:{dfx['prcost'].sum():,.2f}; \"+report"
   ]
  },
  {
   "cell_type": "code",
   "execution_count": null,
   "id": "7ab8b44a",
   "metadata": {},
   "outputs": [],
   "source": [
    " return dfx['CARAT'].sum(),dfx['prcost'].sum(),(dfx['price'].astype('str')+'-').sum(),list(dfx['size']),"
   ]
  },
  {
   "cell_type": "code",
   "execution_count": 44,
   "id": "18bca27a",
   "metadata": {},
   "outputs": [
    {
     "data": {
      "text/plain": [
       "0"
      ]
     },
     "execution_count": 44,
     "metadata": {},
     "output_type": "execute_result"
    }
   ],
   "source": [
    "#проверка одинакового результата из модуля и разработки vst2list\n",
    "(df_test['Вставки_д28'].map(vst2list)!=df_test['price_em.vst2list'] )[~df_test['price_em.vst2list'].isna()].sum()"
   ]
  },
  {
   "cell_type": "code",
   "execution_count": 297,
   "id": "1f0e0264",
   "metadata": {},
   "outputs": [],
   "source": [
    "#df_test['Вставки_д28'].map(vst2list).map(check_vstlist)[~df_test['price_em.vst2list'].isna()]"
   ]
  },
  {
   "cell_type": "code",
   "execution_count": 45,
   "id": "763a90ca",
   "metadata": {
    "scrolled": true
   },
   "outputs": [
    {
     "data": {
      "text/plain": [
       "302"
      ]
     },
     "execution_count": 45,
     "metadata": {},
     "output_type": "execute_result"
    }
   ],
   "source": [
    "#проверка одинакового результата из модуля и разработки check_vstlist\n",
    "(df_test['Вставки_д28'].map(vst2list).map(check_vstlist)!=df_test['price_em.check_vstlist'] )[~df_test['price_em.vst2list'].isna()].sum()"
   ]
  },
  {
   "cell_type": "code",
   "execution_count": null,
   "id": "012bf7f2",
   "metadata": {},
   "outputs": [],
   "source": []
  },
  {
   "cell_type": "code",
   "execution_count": 381,
   "id": "828050aa",
   "metadata": {},
   "outputs": [],
   "source": [
    "cols = [\"PCS\",\"GEM\",\"CARAT\", \"FORM\", \"CQ\"]\n",
    "for c in range(len(cols)):\n",
    "    dfx[cols[c]] = dfx.vstlist.apply(lambda x: x[c].lower().strip())"
   ]
  },
  {
   "cell_type": "code",
   "execution_count": 382,
   "id": "89ec9b94",
   "metadata": {},
   "outputs": [],
   "source": [
    "dfx['C'] = dfx['CQ'].apply(lambda x: x.split('/')[0].lower().strip())\n",
    "dfx['Q'] = dfx['CQ'].apply(lambda x: x.split('/')[1].lower().strip())"
   ]
  },
  {
   "cell_type": "code",
   "execution_count": 384,
   "id": "e8389668",
   "metadata": {},
   "outputs": [],
   "source": [
    "dfx['CARAT'] = dfx['CARAT'].str.replace(',','.').astype('float')"
   ]
  },
  {
   "cell_type": "code",
   "execution_count": 385,
   "id": "5bb16c83",
   "metadata": {},
   "outputs": [
    {
     "data": {
      "text/plain": [
       "1.75"
      ]
     },
     "execution_count": 385,
     "metadata": {},
     "output_type": "execute_result"
    }
   ],
   "source": [
    "dfx['CARAT'].sum()"
   ]
  },
  {
   "cell_type": "code",
   "execution_count": null,
   "id": "21935f34",
   "metadata": {},
   "outputs": [],
   "source": []
  },
  {
   "cell_type": "code",
   "execution_count": 386,
   "id": "73965f62",
   "metadata": {},
   "outputs": [],
   "source": [
    "# test"
   ]
  },
  {
   "cell_type": "code",
   "execution_count": 387,
   "id": "5ba3e5cd",
   "metadata": {},
   "outputs": [
    {
     "data": {
      "text/plain": [
       "[('5', 'ИзумрудПМ', '0,250', 'НРОКр', '3/Г3'),\n",
       " ('3', 'ИзумрудПМ', '1,500', 'НРОГ', '3/Г3')]"
      ]
     },
     "execution_count": 387,
     "metadata": {},
     "output_type": "execute_result"
    }
   ],
   "source": [
    "vst2list(t1)"
   ]
  },
  {
   "cell_type": "code",
   "execution_count": 335,
   "id": "e0d5bebf",
   "metadata": {},
   "outputs": [
    {
     "data": {
      "text/plain": [
       "nan"
      ]
     },
     "execution_count": 335,
     "metadata": {},
     "output_type": "execute_result"
    }
   ],
   "source": [
    "vst2list('hjkhkljkoj')"
   ]
  },
  {
   "cell_type": "code",
   "execution_count": 509,
   "id": "74d717b5",
   "metadata": {},
   "outputs": [],
   "source": [
    "df = df_vst_15102023"
   ]
  },
  {
   "cell_type": "code",
   "execution_count": 510,
   "id": "3a06ec66",
   "metadata": {},
   "outputs": [],
   "source": [
    "df['vst2list'] = df['Вставки_д28'].map((vst2list))[~df['Вставки_д28'].map(vst2list).isna()]"
   ]
  },
  {
   "cell_type": "code",
   "execution_count": 511,
   "id": "0d7ebc76",
   "metadata": {
    "scrolled": true
   },
   "outputs": [
    {
     "data": {
      "text/plain": [
       "160      (1.27, C ok;Q error;PCS ok;)\n",
       "249          (0.1, C ok;Q ok;PCS ok;)\n",
       "345        (0.234, C ok;Q ok;PCS ok;)\n",
       "372         (0.34, C ok;Q ok;PCS ok;)\n",
       "374        (0.159, C ok;Q ok;PCS ok;)\n",
       "                     ...             \n",
       "31958       (0.54, C ok;Q ok;PCS ok;)\n",
       "31971       (0.27, C ok;Q ok;PCS ok;)\n",
       "31975       (0.67, C ok;Q ok;PCS ok;)\n",
       "32597      (0.166, C ok;Q ok;PCS ok;)\n",
       "32933      (0.203, C ok;Q ok;PCS ok;)\n",
       "Name: vst2list, Length: 304, dtype: object"
      ]
     },
     "execution_count": 511,
     "metadata": {},
     "output_type": "execute_result"
    }
   ],
   "source": [
    "df['vst2list'].map(check_vstlist) [~df['vst2list'].map(check_vstlist).isna()]"
   ]
  },
  {
   "cell_type": "markdown",
   "id": "1b1c85f8",
   "metadata": {},
   "source": [
    "## разработка массовая Re"
   ]
  },
  {
   "cell_type": "code",
   "execution_count": 82,
   "id": "13a4239a",
   "metadata": {},
   "outputs": [],
   "source": [
    "df = df_test"
   ]
  },
  {
   "cell_type": "code",
   "execution_count": 86,
   "id": "8750927b",
   "metadata": {},
   "outputs": [],
   "source": [
    "#10-11-2023-20-40\n",
    "pattern_em =  r\"\"\"(?ix)(?P<N>\\d{,3})# штуки \n",
    "               (?P<Gem>изумру[A-яA-z.]{1,5})[-]+#gem\n",
    "               (?P<Carat>\\d\\d?[.,]?\\d*)[\\s-]+                                 # карат\n",
    "               (?P<Form>[A-яA-z.\\d-]{1,10})[+]+#[+\\s-]+ \n",
    "               (?P<ColQ>\\d+[ /]+(?:\\d*[ГгКкKk]*\\d*))\"\"\"\n",
    "               "
   ]
  },
  {
   "cell_type": "code",
   "execution_count": 87,
   "id": "13656912",
   "metadata": {},
   "outputs": [],
   "source": [
    "#в разработке с *цвет\n",
    "pattern_em2 =  r\"\"\"(?ix)(?P<N>\\d{,3})# штуки \n",
    "               (?P<Gem>изумру[A-яA-z.]{1,5})[-]+#gem\n",
    "               (?P<Carat>\\d\\d?[.,]?\\d*)[\\s-]+                                 # карат\n",
    "               (?P<Form>[A-яA-z.\\d-]{1,10})[+]+#[+\\s-]+ \n",
    "               (?P<ColQ>\\d+[ /]+(?:\\d*[ГгКкKk]*\\d*)[*]*[A-яA-z]*)\"\"\"\n",
    "               "
   ]
  },
  {
   "cell_type": "code",
   "execution_count": 88,
   "id": "72c3226d",
   "metadata": {},
   "outputs": [],
   "source": [
    "# чисто для ИзумрудП\n",
    "pattern_jem = r\"\"\"(?ix)(?P<Gem>изумрудп)+#gem\"\"\""
   ]
  },
  {
   "cell_type": "code",
   "execution_count": 89,
   "id": "1d05c06b",
   "metadata": {},
   "outputs": [
    {
     "data": {
      "text/plain": [
       "['ИзумрудП', 'ИзумрудП']"
      ]
     },
     "execution_count": 89,
     "metadata": {},
     "output_type": "execute_result"
    }
   ],
   "source": [
    "#проверка\n",
    "re.findall(pattern_jem, '9ИзумрудПМ-0,15-Пр-21+3/г3*ghgjg 2КР57-0,120-3/2А ИзумрудПМ')"
   ]
  },
  {
   "cell_type": "code",
   "execution_count": 90,
   "id": "f1a1ef17",
   "metadata": {},
   "outputs": [
    {
     "data": {
      "text/plain": [
       "[('9', 'ИзумрудПМ', '0,15', 'jffkj-kh', '3/г3')]"
      ]
     },
     "execution_count": 90,
     "metadata": {},
     "output_type": "execute_result"
    }
   ],
   "source": [
    "re.findall(pattern_em, '9ИзумрудПМ-0,15-jffkj-kh+3/г3*ghgjg 2КР57-0,120-3/2А')"
   ]
  },
  {
   "cell_type": "code",
   "execution_count": 91,
   "id": "a3be2da7",
   "metadata": {},
   "outputs": [
    {
     "data": {
      "text/plain": [
       "[('1', 'изумрудпм', '0,760', 'нрокр-кр', '3/г3*зеленый')]"
      ]
     },
     "execution_count": 91,
     "metadata": {},
     "output_type": "execute_result"
    }
   ],
   "source": [
    "re.findall(pattern_em2,'1изумрудпм-0,760-нрокр-кр+3/г3*зеленый 2кр57-0,050-4/3а 7кр57-0,050-3/4а')"
   ]
  },
  {
   "cell_type": "code",
   "execution_count": null,
   "id": "af33b79c",
   "metadata": {},
   "outputs": [],
   "source": []
  },
  {
   "cell_type": "code",
   "execution_count": 92,
   "id": "75d86d4c",
   "metadata": {},
   "outputs": [
    {
     "data": {
      "text/plain": [
       "Index(['Код', 'vst', 'prem_vst2list', 'prem_res', 'prem_cost'], dtype='object')"
      ]
     },
     "execution_count": 92,
     "metadata": {},
     "output_type": "execute_result"
    }
   ],
   "source": [
    "df.columns"
   ]
  },
  {
   "cell_type": "code",
   "execution_count": null,
   "id": "0a080244",
   "metadata": {},
   "outputs": [],
   "source": []
  },
  {
   "cell_type": "markdown",
   "id": "25328a31",
   "metadata": {},
   "source": [
    "# массовая прогонка pattern"
   ]
  },
  {
   "cell_type": "code",
   "execution_count": 93,
   "id": "bfcf620a",
   "metadata": {},
   "outputs": [],
   "source": [
    "df['emerald_list'] = df.vst.apply(lambda x: re.findall(pattern_em, x ))"
   ]
  },
  {
   "cell_type": "code",
   "execution_count": 94,
   "id": "076e687b",
   "metadata": {},
   "outputs": [],
   "source": [
    "df['len_jem'] = df.vst.apply(lambda x: len(re.findall(pattern_jem, x )))"
   ]
  },
  {
   "cell_type": "code",
   "execution_count": 95,
   "id": "b4bcf97c",
   "metadata": {},
   "outputs": [],
   "source": [
    "df['len_em'] = df['emerald_list'].apply(lambda x: len( x ))"
   ]
  },
  {
   "cell_type": "code",
   "execution_count": 96,
   "id": "48cd612a",
   "metadata": {},
   "outputs": [
    {
     "ename": "IndexError",
     "evalue": "string index out of range",
     "output_type": "error",
     "traceback": [
      "\u001b[1;31m---------------------------------------------------------------------------\u001b[0m",
      "\u001b[1;31mIndexError\u001b[0m                                Traceback (most recent call last)",
      "Cell \u001b[1;32mIn[96], line 1\u001b[0m\n\u001b[1;32m----> 1\u001b[0m df[\u001b[43mprice_em\u001b[49m\u001b[38;5;241;43m.\u001b[39;49m\u001b[43mcheck_vstlist\u001b[49m\u001b[43m(\u001b[49m\u001b[43m_\u001b[49m\u001b[43m)\u001b[49m\u001b[38;5;241m.\u001b[39mstr\u001b[38;5;241m.\u001b[39mlower()\u001b[38;5;241m.\u001b[39mstr\u001b[38;5;241m.\u001b[39mcontains(\u001b[38;5;124m'\u001b[39m\u001b[38;5;124mизумрудп\u001b[39m\u001b[38;5;124m'\u001b[39m)]\u001b[38;5;241m.\u001b[39minfo()\n",
      "File \u001b[1;32m~\\work\\KDM2023\\gems\\ipynb\\module_prgem\\price_em.py:48\u001b[0m, in \u001b[0;36mcheck_vstlist\u001b[1;34m(l)\u001b[0m\n\u001b[0;32m     46\u001b[0m cols \u001b[38;5;241m=\u001b[39m [\u001b[38;5;124m\"\u001b[39m\u001b[38;5;124mPCS\u001b[39m\u001b[38;5;124m\"\u001b[39m,\u001b[38;5;124m\"\u001b[39m\u001b[38;5;124mGEM\u001b[39m\u001b[38;5;124m\"\u001b[39m,\u001b[38;5;124m\"\u001b[39m\u001b[38;5;124mCARAT\u001b[39m\u001b[38;5;124m\"\u001b[39m, \u001b[38;5;124m\"\u001b[39m\u001b[38;5;124mFORM\u001b[39m\u001b[38;5;124m\"\u001b[39m, \u001b[38;5;124m\"\u001b[39m\u001b[38;5;124mCQ\u001b[39m\u001b[38;5;124m\"\u001b[39m]\n\u001b[0;32m     47\u001b[0m \u001b[38;5;28;01mfor\u001b[39;00m c \u001b[38;5;129;01min\u001b[39;00m \u001b[38;5;28mrange\u001b[39m(\u001b[38;5;28mlen\u001b[39m(cols)):\n\u001b[1;32m---> 48\u001b[0m     dfx[cols[c]] \u001b[38;5;241m=\u001b[39m \u001b[43mdfx\u001b[49m\u001b[38;5;241;43m.\u001b[39;49m\u001b[43mvstlist\u001b[49m\u001b[38;5;241;43m.\u001b[39;49m\u001b[43mapply\u001b[49m\u001b[43m(\u001b[49m\u001b[38;5;28;43;01mlambda\u001b[39;49;00m\u001b[43m \u001b[49m\u001b[43mx\u001b[49m\u001b[43m:\u001b[49m\u001b[43m \u001b[49m\u001b[43mx\u001b[49m\u001b[43m[\u001b[49m\u001b[43mc\u001b[49m\u001b[43m]\u001b[49m\u001b[38;5;241;43m.\u001b[39;49m\u001b[43mlower\u001b[49m\u001b[43m(\u001b[49m\u001b[43m)\u001b[49m\u001b[38;5;241;43m.\u001b[39;49m\u001b[43mstrip\u001b[49m\u001b[43m(\u001b[49m\u001b[43m)\u001b[49m\u001b[43m)\u001b[49m\n\u001b[0;32m     49\u001b[0m dfx[\u001b[38;5;124m'\u001b[39m\u001b[38;5;124mC\u001b[39m\u001b[38;5;124m'\u001b[39m] \u001b[38;5;241m=\u001b[39m dfx[\u001b[38;5;124m'\u001b[39m\u001b[38;5;124mCQ\u001b[39m\u001b[38;5;124m'\u001b[39m]\u001b[38;5;241m.\u001b[39mapply(\u001b[38;5;28;01mlambda\u001b[39;00m x: x\u001b[38;5;241m.\u001b[39msplit(\u001b[38;5;124m'\u001b[39m\u001b[38;5;124m/\u001b[39m\u001b[38;5;124m'\u001b[39m)[\u001b[38;5;241m0\u001b[39m]\u001b[38;5;241m.\u001b[39mlower()\u001b[38;5;241m.\u001b[39mstrip())\n\u001b[0;32m     50\u001b[0m dfx[\u001b[38;5;124m'\u001b[39m\u001b[38;5;124mQ\u001b[39m\u001b[38;5;124m'\u001b[39m] \u001b[38;5;241m=\u001b[39m dfx[\u001b[38;5;124m'\u001b[39m\u001b[38;5;124mCQ\u001b[39m\u001b[38;5;124m'\u001b[39m]\u001b[38;5;241m.\u001b[39mapply(\u001b[38;5;28;01mlambda\u001b[39;00m x: x\u001b[38;5;241m.\u001b[39msplit(\u001b[38;5;124m'\u001b[39m\u001b[38;5;124m/\u001b[39m\u001b[38;5;124m'\u001b[39m)[\u001b[38;5;241m1\u001b[39m]\u001b[38;5;241m.\u001b[39mlower()\u001b[38;5;241m.\u001b[39mstrip())\n",
      "File \u001b[1;32mC:\\ProgramData\\anaconda3\\lib\\site-packages\\pandas\\core\\series.py:4771\u001b[0m, in \u001b[0;36mSeries.apply\u001b[1;34m(self, func, convert_dtype, args, **kwargs)\u001b[0m\n\u001b[0;32m   4661\u001b[0m \u001b[38;5;28;01mdef\u001b[39;00m \u001b[38;5;21mapply\u001b[39m(\n\u001b[0;32m   4662\u001b[0m     \u001b[38;5;28mself\u001b[39m,\n\u001b[0;32m   4663\u001b[0m     func: AggFuncType,\n\u001b[1;32m   (...)\u001b[0m\n\u001b[0;32m   4666\u001b[0m     \u001b[38;5;241m*\u001b[39m\u001b[38;5;241m*\u001b[39mkwargs,\n\u001b[0;32m   4667\u001b[0m ) \u001b[38;5;241m-\u001b[39m\u001b[38;5;241m>\u001b[39m DataFrame \u001b[38;5;241m|\u001b[39m Series:\n\u001b[0;32m   4668\u001b[0m     \u001b[38;5;124;03m\"\"\"\u001b[39;00m\n\u001b[0;32m   4669\u001b[0m \u001b[38;5;124;03m    Invoke function on values of Series.\u001b[39;00m\n\u001b[0;32m   4670\u001b[0m \n\u001b[1;32m   (...)\u001b[0m\n\u001b[0;32m   4769\u001b[0m \u001b[38;5;124;03m    dtype: float64\u001b[39;00m\n\u001b[0;32m   4770\u001b[0m \u001b[38;5;124;03m    \"\"\"\u001b[39;00m\n\u001b[1;32m-> 4771\u001b[0m     \u001b[38;5;28;01mreturn\u001b[39;00m \u001b[43mSeriesApply\u001b[49m\u001b[43m(\u001b[49m\u001b[38;5;28;43mself\u001b[39;49m\u001b[43m,\u001b[49m\u001b[43m \u001b[49m\u001b[43mfunc\u001b[49m\u001b[43m,\u001b[49m\u001b[43m \u001b[49m\u001b[43mconvert_dtype\u001b[49m\u001b[43m,\u001b[49m\u001b[43m \u001b[49m\u001b[43margs\u001b[49m\u001b[43m,\u001b[49m\u001b[43m \u001b[49m\u001b[43mkwargs\u001b[49m\u001b[43m)\u001b[49m\u001b[38;5;241;43m.\u001b[39;49m\u001b[43mapply\u001b[49m\u001b[43m(\u001b[49m\u001b[43m)\u001b[49m\n",
      "File \u001b[1;32mC:\\ProgramData\\anaconda3\\lib\\site-packages\\pandas\\core\\apply.py:1123\u001b[0m, in \u001b[0;36mSeriesApply.apply\u001b[1;34m(self)\u001b[0m\n\u001b[0;32m   1120\u001b[0m     \u001b[38;5;28;01mreturn\u001b[39;00m \u001b[38;5;28mself\u001b[39m\u001b[38;5;241m.\u001b[39mapply_str()\n\u001b[0;32m   1122\u001b[0m \u001b[38;5;66;03m# self.f is Callable\u001b[39;00m\n\u001b[1;32m-> 1123\u001b[0m \u001b[38;5;28;01mreturn\u001b[39;00m \u001b[38;5;28;43mself\u001b[39;49m\u001b[38;5;241;43m.\u001b[39;49m\u001b[43mapply_standard\u001b[49m\u001b[43m(\u001b[49m\u001b[43m)\u001b[49m\n",
      "File \u001b[1;32mC:\\ProgramData\\anaconda3\\lib\\site-packages\\pandas\\core\\apply.py:1174\u001b[0m, in \u001b[0;36mSeriesApply.apply_standard\u001b[1;34m(self)\u001b[0m\n\u001b[0;32m   1172\u001b[0m     \u001b[38;5;28;01melse\u001b[39;00m:\n\u001b[0;32m   1173\u001b[0m         values \u001b[38;5;241m=\u001b[39m obj\u001b[38;5;241m.\u001b[39mastype(\u001b[38;5;28mobject\u001b[39m)\u001b[38;5;241m.\u001b[39m_values\n\u001b[1;32m-> 1174\u001b[0m         mapped \u001b[38;5;241m=\u001b[39m \u001b[43mlib\u001b[49m\u001b[38;5;241;43m.\u001b[39;49m\u001b[43mmap_infer\u001b[49m\u001b[43m(\u001b[49m\n\u001b[0;32m   1175\u001b[0m \u001b[43m            \u001b[49m\u001b[43mvalues\u001b[49m\u001b[43m,\u001b[49m\n\u001b[0;32m   1176\u001b[0m \u001b[43m            \u001b[49m\u001b[43mf\u001b[49m\u001b[43m,\u001b[49m\n\u001b[0;32m   1177\u001b[0m \u001b[43m            \u001b[49m\u001b[43mconvert\u001b[49m\u001b[38;5;241;43m=\u001b[39;49m\u001b[38;5;28;43mself\u001b[39;49m\u001b[38;5;241;43m.\u001b[39;49m\u001b[43mconvert_dtype\u001b[49m\u001b[43m,\u001b[49m\n\u001b[0;32m   1178\u001b[0m \u001b[43m        \u001b[49m\u001b[43m)\u001b[49m\n\u001b[0;32m   1180\u001b[0m \u001b[38;5;28;01mif\u001b[39;00m \u001b[38;5;28mlen\u001b[39m(mapped) \u001b[38;5;129;01mand\u001b[39;00m \u001b[38;5;28misinstance\u001b[39m(mapped[\u001b[38;5;241m0\u001b[39m], ABCSeries):\n\u001b[0;32m   1181\u001b[0m     \u001b[38;5;66;03m# GH#43986 Need to do list(mapped) in order to get treated as nested\u001b[39;00m\n\u001b[0;32m   1182\u001b[0m     \u001b[38;5;66;03m#  See also GH#25959 regarding EA support\u001b[39;00m\n\u001b[0;32m   1183\u001b[0m     \u001b[38;5;28;01mreturn\u001b[39;00m obj\u001b[38;5;241m.\u001b[39m_constructor_expanddim(\u001b[38;5;28mlist\u001b[39m(mapped), index\u001b[38;5;241m=\u001b[39mobj\u001b[38;5;241m.\u001b[39mindex)\n",
      "File \u001b[1;32mC:\\ProgramData\\anaconda3\\lib\\site-packages\\pandas\\_libs\\lib.pyx:2924\u001b[0m, in \u001b[0;36mpandas._libs.lib.map_infer\u001b[1;34m()\u001b[0m\n",
      "File \u001b[1;32m~\\work\\KDM2023\\gems\\ipynb\\module_prgem\\price_em.py:48\u001b[0m, in \u001b[0;36mcheck_vstlist.<locals>.<lambda>\u001b[1;34m(x)\u001b[0m\n\u001b[0;32m     46\u001b[0m cols \u001b[38;5;241m=\u001b[39m [\u001b[38;5;124m\"\u001b[39m\u001b[38;5;124mPCS\u001b[39m\u001b[38;5;124m\"\u001b[39m,\u001b[38;5;124m\"\u001b[39m\u001b[38;5;124mGEM\u001b[39m\u001b[38;5;124m\"\u001b[39m,\u001b[38;5;124m\"\u001b[39m\u001b[38;5;124mCARAT\u001b[39m\u001b[38;5;124m\"\u001b[39m, \u001b[38;5;124m\"\u001b[39m\u001b[38;5;124mFORM\u001b[39m\u001b[38;5;124m\"\u001b[39m, \u001b[38;5;124m\"\u001b[39m\u001b[38;5;124mCQ\u001b[39m\u001b[38;5;124m\"\u001b[39m]\n\u001b[0;32m     47\u001b[0m \u001b[38;5;28;01mfor\u001b[39;00m c \u001b[38;5;129;01min\u001b[39;00m \u001b[38;5;28mrange\u001b[39m(\u001b[38;5;28mlen\u001b[39m(cols)):\n\u001b[1;32m---> 48\u001b[0m     dfx[cols[c]] \u001b[38;5;241m=\u001b[39m dfx\u001b[38;5;241m.\u001b[39mvstlist\u001b[38;5;241m.\u001b[39mapply(\u001b[38;5;28;01mlambda\u001b[39;00m x: \u001b[43mx\u001b[49m\u001b[43m[\u001b[49m\u001b[43mc\u001b[49m\u001b[43m]\u001b[49m\u001b[38;5;241m.\u001b[39mlower()\u001b[38;5;241m.\u001b[39mstrip())\n\u001b[0;32m     49\u001b[0m dfx[\u001b[38;5;124m'\u001b[39m\u001b[38;5;124mC\u001b[39m\u001b[38;5;124m'\u001b[39m] \u001b[38;5;241m=\u001b[39m dfx[\u001b[38;5;124m'\u001b[39m\u001b[38;5;124mCQ\u001b[39m\u001b[38;5;124m'\u001b[39m]\u001b[38;5;241m.\u001b[39mapply(\u001b[38;5;28;01mlambda\u001b[39;00m x: x\u001b[38;5;241m.\u001b[39msplit(\u001b[38;5;124m'\u001b[39m\u001b[38;5;124m/\u001b[39m\u001b[38;5;124m'\u001b[39m)[\u001b[38;5;241m0\u001b[39m]\u001b[38;5;241m.\u001b[39mlower()\u001b[38;5;241m.\u001b[39mstrip())\n\u001b[0;32m     50\u001b[0m dfx[\u001b[38;5;124m'\u001b[39m\u001b[38;5;124mQ\u001b[39m\u001b[38;5;124m'\u001b[39m] \u001b[38;5;241m=\u001b[39m dfx[\u001b[38;5;124m'\u001b[39m\u001b[38;5;124mCQ\u001b[39m\u001b[38;5;124m'\u001b[39m]\u001b[38;5;241m.\u001b[39mapply(\u001b[38;5;28;01mlambda\u001b[39;00m x: x\u001b[38;5;241m.\u001b[39msplit(\u001b[38;5;124m'\u001b[39m\u001b[38;5;124m/\u001b[39m\u001b[38;5;124m'\u001b[39m)[\u001b[38;5;241m1\u001b[39m]\u001b[38;5;241m.\u001b[39mlower()\u001b[38;5;241m.\u001b[39mstrip())\n",
      "\u001b[1;31mIndexError\u001b[0m: string index out of range"
     ]
    }
   ],
   "source": [
    "df[price_em.check_vstlist(_).str.lower().str.contains('изумрудп')].info()"
   ]
  },
  {
   "cell_type": "code",
   "execution_count": 97,
   "id": "14a5b211",
   "metadata": {
    "scrolled": true
   },
   "outputs": [
    {
     "data": {
      "text/html": [
       "<div>\n",
       "<style scoped>\n",
       "    .dataframe tbody tr th:only-of-type {\n",
       "        vertical-align: middle;\n",
       "    }\n",
       "\n",
       "    .dataframe tbody tr th {\n",
       "        vertical-align: top;\n",
       "    }\n",
       "\n",
       "    .dataframe thead th {\n",
       "        text-align: right;\n",
       "    }\n",
       "</style>\n",
       "<table border=\"1\" class=\"dataframe\">\n",
       "  <thead>\n",
       "    <tr style=\"text-align: right;\">\n",
       "      <th></th>\n",
       "      <th>Код</th>\n",
       "      <th>vst</th>\n",
       "      <th>prem_vst2list</th>\n",
       "      <th>prem_res</th>\n",
       "      <th>prem_cost</th>\n",
       "      <th>emerald_list</th>\n",
       "      <th>len_jem</th>\n",
       "      <th>len_em</th>\n",
       "    </tr>\n",
       "  </thead>\n",
       "  <tbody>\n",
       "  </tbody>\n",
       "</table>\n",
       "</div>"
      ],
      "text/plain": [
       "Empty DataFrame\n",
       "Columns: [Код, vst, prem_vst2list, prem_res, prem_cost, emerald_list, len_jem, len_em]\n",
       "Index: []"
      ]
     },
     "execution_count": 97,
     "metadata": {},
     "output_type": "execute_result"
    }
   ],
   "source": [
    "df[df['len_em']!=df['len_jem'] ]"
   ]
  },
  {
   "cell_type": "code",
   "execution_count": null,
   "id": "3f68fd33",
   "metadata": {},
   "outputs": [],
   "source": []
  },
  {
   "cell_type": "code",
   "execution_count": 98,
   "id": "aeab0374",
   "metadata": {},
   "outputs": [
    {
     "ename": "SyntaxError",
     "evalue": "invalid syntax (1838878422.py, line 1)",
     "output_type": "error",
     "traceback": [
      "\u001b[1;36m  Cell \u001b[1;32mIn[98], line 1\u001b[1;36m\u001b[0m\n\u001b[1;33m    df['emerald_list'].apply(lambda x: )\u001b[0m\n\u001b[1;37m                                       ^\u001b[0m\n\u001b[1;31mSyntaxError\u001b[0m\u001b[1;31m:\u001b[0m invalid syntax\n"
     ]
    }
   ],
   "source": [
    "df['emerald_list'].apply(lambda x: )"
   ]
  },
  {
   "cell_type": "code",
   "execution_count": 99,
   "id": "47d59790",
   "metadata": {
    "scrolled": true
   },
   "outputs": [
    {
     "data": {
      "text/html": [
       "<div>\n",
       "<style scoped>\n",
       "    .dataframe tbody tr th:only-of-type {\n",
       "        vertical-align: middle;\n",
       "    }\n",
       "\n",
       "    .dataframe tbody tr th {\n",
       "        vertical-align: top;\n",
       "    }\n",
       "\n",
       "    .dataframe thead th {\n",
       "        text-align: right;\n",
       "    }\n",
       "</style>\n",
       "<table border=\"1\" class=\"dataframe\">\n",
       "  <thead>\n",
       "    <tr style=\"text-align: right;\">\n",
       "      <th></th>\n",
       "      <th>Код</th>\n",
       "      <th>vst</th>\n",
       "      <th>prem_vst2list</th>\n",
       "      <th>prem_res</th>\n",
       "      <th>prem_cost</th>\n",
       "      <th>emerald_list</th>\n",
       "      <th>len_jem</th>\n",
       "      <th>len_em</th>\n",
       "    </tr>\n",
       "  </thead>\n",
       "  <tbody>\n",
       "    <tr>\n",
       "      <th>0</th>\n",
       "      <td>ЦБ-00000421</td>\n",
       "      <td>1Кр57-0,11-4/3А 1Кр57-0,10-4/3Б</td>\n",
       "      <td>NaN</td>\n",
       "      <td>NaN</td>\n",
       "      <td>NaN</td>\n",
       "      <td>[]</td>\n",
       "      <td>0</td>\n",
       "      <td>0</td>\n",
       "    </tr>\n",
       "    <tr>\n",
       "      <th>1</th>\n",
       "      <td>ЦБ-00000422</td>\n",
       "      <td>2Кр57-0,431-4/5Б</td>\n",
       "      <td>NaN</td>\n",
       "      <td>NaN</td>\n",
       "      <td>NaN</td>\n",
       "      <td>[]</td>\n",
       "      <td>0</td>\n",
       "      <td>0</td>\n",
       "    </tr>\n",
       "    <tr>\n",
       "      <th>2</th>\n",
       "      <td>ЦБ-00000426</td>\n",
       "      <td>1Кр57-0,30-4/4Б 1Кр57-0,35-4/5Б</td>\n",
       "      <td>NaN</td>\n",
       "      <td>NaN</td>\n",
       "      <td>NaN</td>\n",
       "      <td>[]</td>\n",
       "      <td>0</td>\n",
       "      <td>0</td>\n",
       "    </tr>\n",
       "    <tr>\n",
       "      <th>3</th>\n",
       "      <td>ЦБ-00000427</td>\n",
       "      <td>2Кр57-0,44-3/3Б</td>\n",
       "      <td>NaN</td>\n",
       "      <td>NaN</td>\n",
       "      <td>NaN</td>\n",
       "      <td>[]</td>\n",
       "      <td>0</td>\n",
       "      <td>0</td>\n",
       "    </tr>\n",
       "    <tr>\n",
       "      <th>4</th>\n",
       "      <td>ЦБ-00000428</td>\n",
       "      <td>2Кр57-0,427-4/3Б</td>\n",
       "      <td>NaN</td>\n",
       "      <td>NaN</td>\n",
       "      <td>NaN</td>\n",
       "      <td>[]</td>\n",
       "      <td>0</td>\n",
       "      <td>0</td>\n",
       "    </tr>\n",
       "    <tr>\n",
       "      <th>...</th>\n",
       "      <td>...</td>\n",
       "      <td>...</td>\n",
       "      <td>...</td>\n",
       "      <td>...</td>\n",
       "      <td>...</td>\n",
       "      <td>...</td>\n",
       "      <td>...</td>\n",
       "      <td>...</td>\n",
       "    </tr>\n",
       "    <tr>\n",
       "      <th>34504</th>\n",
       "      <td>ЦБ-00219618</td>\n",
       "      <td>1МодГ-3,410-6/7А 6Кр57-0,140-5/5А 8Кр57-0,150-...</td>\n",
       "      <td>NaN</td>\n",
       "      <td>NaN</td>\n",
       "      <td>NaN</td>\n",
       "      <td>[]</td>\n",
       "      <td>0</td>\n",
       "      <td>0</td>\n",
       "    </tr>\n",
       "    <tr>\n",
       "      <th>34505</th>\n",
       "      <td>ЦБ-00219619</td>\n",
       "      <td>1Кр57-1,790-9-4/8А 8Кр57-0,680-5/5А 10Кр57-0,3...</td>\n",
       "      <td>NaN</td>\n",
       "      <td>NaN</td>\n",
       "      <td>NaN</td>\n",
       "      <td>[]</td>\n",
       "      <td>0</td>\n",
       "      <td>0</td>\n",
       "    </tr>\n",
       "    <tr>\n",
       "      <th>34506</th>\n",
       "      <td>ЦБ-00219620</td>\n",
       "      <td>1МодИ-1,020-6/7А 2Кр57-0,020-5/5А 42Кр57-0,490...</td>\n",
       "      <td>NaN</td>\n",
       "      <td>NaN</td>\n",
       "      <td>NaN</td>\n",
       "      <td>[]</td>\n",
       "      <td>0</td>\n",
       "      <td>0</td>\n",
       "    </tr>\n",
       "    <tr>\n",
       "      <th>34507</th>\n",
       "      <td>ЦБ-00219621</td>\n",
       "      <td>1Кр57-1,000-4/3А 28Кр57-0,490-5/5А 2Кр57-0,010...</td>\n",
       "      <td>NaN</td>\n",
       "      <td>NaN</td>\n",
       "      <td>NaN</td>\n",
       "      <td>[]</td>\n",
       "      <td>0</td>\n",
       "      <td>0</td>\n",
       "    </tr>\n",
       "    <tr>\n",
       "      <th>34508</th>\n",
       "      <td>ЦБ-00219622</td>\n",
       "      <td>1Кр57-1,020-6/7аА 4Кр57-0,030-5/5А 2Кр57-0,050...</td>\n",
       "      <td>NaN</td>\n",
       "      <td>NaN</td>\n",
       "      <td>NaN</td>\n",
       "      <td>[]</td>\n",
       "      <td>0</td>\n",
       "      <td>0</td>\n",
       "    </tr>\n",
       "  </tbody>\n",
       "</table>\n",
       "<p>34509 rows × 8 columns</p>\n",
       "</div>"
      ],
      "text/plain": [
       "               Код                                                vst  \\\n",
       "0      ЦБ-00000421                    1Кр57-0,11-4/3А 1Кр57-0,10-4/3Б   \n",
       "1      ЦБ-00000422                                   2Кр57-0,431-4/5Б   \n",
       "2      ЦБ-00000426                    1Кр57-0,30-4/4Б 1Кр57-0,35-4/5Б   \n",
       "3      ЦБ-00000427                                    2Кр57-0,44-3/3Б   \n",
       "4      ЦБ-00000428                                   2Кр57-0,427-4/3Б   \n",
       "...            ...                                                ...   \n",
       "34504  ЦБ-00219618  1МодГ-3,410-6/7А 6Кр57-0,140-5/5А 8Кр57-0,150-...   \n",
       "34505  ЦБ-00219619  1Кр57-1,790-9-4/8А 8Кр57-0,680-5/5А 10Кр57-0,3...   \n",
       "34506  ЦБ-00219620  1МодИ-1,020-6/7А 2Кр57-0,020-5/5А 42Кр57-0,490...   \n",
       "34507  ЦБ-00219621  1Кр57-1,000-4/3А 28Кр57-0,490-5/5А 2Кр57-0,010...   \n",
       "34508  ЦБ-00219622  1Кр57-1,020-6/7аА 4Кр57-0,030-5/5А 2Кр57-0,050...   \n",
       "\n",
       "      prem_vst2list prem_res  prem_cost emerald_list  len_jem  len_em  \n",
       "0               NaN      NaN        NaN           []        0       0  \n",
       "1               NaN      NaN        NaN           []        0       0  \n",
       "2               NaN      NaN        NaN           []        0       0  \n",
       "3               NaN      NaN        NaN           []        0       0  \n",
       "4               NaN      NaN        NaN           []        0       0  \n",
       "...             ...      ...        ...          ...      ...     ...  \n",
       "34504           NaN      NaN        NaN           []        0       0  \n",
       "34505           NaN      NaN        NaN           []        0       0  \n",
       "34506           NaN      NaN        NaN           []        0       0  \n",
       "34507           NaN      NaN        NaN           []        0       0  \n",
       "34508           NaN      NaN        NaN           []        0       0  \n",
       "\n",
       "[34509 rows x 8 columns]"
      ]
     },
     "execution_count": 99,
     "metadata": {},
     "output_type": "execute_result"
    }
   ],
   "source": [
    "df"
   ]
  },
  {
   "cell_type": "code",
   "execution_count": null,
   "id": "7a9d77e4",
   "metadata": {},
   "outputs": [],
   "source": []
  },
  {
   "cell_type": "markdown",
   "id": "81a69768",
   "metadata": {},
   "source": [
    "### запись в exel массовой прогонки"
   ]
  },
  {
   "cell_type": "code",
   "execution_count": 100,
   "id": "1d54e484",
   "metadata": {},
   "outputs": [],
   "source": [
    "os.mkdir('../ЦВДК/2023-11-17/')"
   ]
  },
  {
   "cell_type": "code",
   "execution_count": 101,
   "id": "0e66fb73",
   "metadata": {},
   "outputs": [],
   "source": [
    "df.to_excel('../ЦВДК/2023-11-17/test_em1.xlsx')"
   ]
  },
  {
   "cell_type": "code",
   "execution_count": null,
   "id": "aeee280a",
   "metadata": {},
   "outputs": [],
   "source": []
  },
  {
   "cell_type": "code",
   "execution_count": 34,
   "id": "75c0b618",
   "metadata": {},
   "outputs": [
    {
     "data": {
      "text/html": [
       "<div>\n",
       "<style scoped>\n",
       "    .dataframe tbody tr th:only-of-type {\n",
       "        vertical-align: middle;\n",
       "    }\n",
       "\n",
       "    .dataframe tbody tr th {\n",
       "        vertical-align: top;\n",
       "    }\n",
       "\n",
       "    .dataframe thead th {\n",
       "        text-align: right;\n",
       "    }\n",
       "</style>\n",
       "<table border=\"1\" class=\"dataframe\">\n",
       "  <thead>\n",
       "    <tr style=\"text-align: right;\">\n",
       "      <th></th>\n",
       "      <th>Код</th>\n",
       "      <th>Вставки_д28</th>\n",
       "      <th>emerald_list</th>\n",
       "      <th>len_em</th>\n",
       "    </tr>\n",
       "  </thead>\n",
       "  <tbody>\n",
       "    <tr>\n",
       "      <th>0</th>\n",
       "      <td>ЦБ-00200503</td>\n",
       "      <td>45КР57-0,520-4/5А</td>\n",
       "      <td>[]</td>\n",
       "      <td>0</td>\n",
       "    </tr>\n",
       "    <tr>\n",
       "      <th>1</th>\n",
       "      <td>ЦБ-00002854</td>\n",
       "      <td>2Кр57-0,083-2/2А 4Кр57-0,084-2/2А 6Кр57-0,280-...</td>\n",
       "      <td>[]</td>\n",
       "      <td>0</td>\n",
       "    </tr>\n",
       "    <tr>\n",
       "      <th>2</th>\n",
       "      <td>ЦБ-00019951</td>\n",
       "      <td>1Кр57-0,086-4/5А</td>\n",
       "      <td>[]</td>\n",
       "      <td>0</td>\n",
       "    </tr>\n",
       "    <tr>\n",
       "      <th>3</th>\n",
       "      <td>ЦБ-00019953</td>\n",
       "      <td>3Кр57-0,06-4/5А</td>\n",
       "      <td>[]</td>\n",
       "      <td>0</td>\n",
       "    </tr>\n",
       "    <tr>\n",
       "      <th>4</th>\n",
       "      <td>ЦБ-00111074</td>\n",
       "      <td>1Кр57-0,050-4/5А 1Кр57-0,031-6/6А 1Кр57-0,014-...</td>\n",
       "      <td>[]</td>\n",
       "      <td>0</td>\n",
       "    </tr>\n",
       "    <tr>\n",
       "      <th>...</th>\n",
       "      <td>...</td>\n",
       "      <td>...</td>\n",
       "      <td>...</td>\n",
       "      <td>...</td>\n",
       "    </tr>\n",
       "    <tr>\n",
       "      <th>34264</th>\n",
       "      <td>ЦБ-00182016</td>\n",
       "      <td>СапфирВ 6КР57-0,080-3/4А</td>\n",
       "      <td>[]</td>\n",
       "      <td>0</td>\n",
       "    </tr>\n",
       "    <tr>\n",
       "      <th>34265</th>\n",
       "      <td>ЦБ-00182017</td>\n",
       "      <td>СапфирВ 6КР57-0,080-3/4А</td>\n",
       "      <td>[]</td>\n",
       "      <td>0</td>\n",
       "    </tr>\n",
       "    <tr>\n",
       "      <th>34266</th>\n",
       "      <td>ЦБ-00182019</td>\n",
       "      <td>ИзумрудВ 4КР57-0,040-2/3А</td>\n",
       "      <td>[]</td>\n",
       "      <td>0</td>\n",
       "    </tr>\n",
       "    <tr>\n",
       "      <th>34267</th>\n",
       "      <td>ЦБ-00182020</td>\n",
       "      <td>ИзумрудВ 4КР57-0,040-2/3А</td>\n",
       "      <td>[]</td>\n",
       "      <td>0</td>\n",
       "    </tr>\n",
       "    <tr>\n",
       "      <th>34268</th>\n",
       "      <td>ЦБ-00182021</td>\n",
       "      <td>ИзумрудВ 4КР57-0,040-2/3А</td>\n",
       "      <td>[]</td>\n",
       "      <td>0</td>\n",
       "    </tr>\n",
       "  </tbody>\n",
       "</table>\n",
       "<p>34269 rows × 4 columns</p>\n",
       "</div>"
      ],
      "text/plain": [
       "               Код                                        Вставки_д28  \\\n",
       "0      ЦБ-00200503                                  45КР57-0,520-4/5А   \n",
       "1      ЦБ-00002854  2Кр57-0,083-2/2А 4Кр57-0,084-2/2А 6Кр57-0,280-...   \n",
       "2      ЦБ-00019951                                   1Кр57-0,086-4/5А   \n",
       "3      ЦБ-00019953                                    3Кр57-0,06-4/5А   \n",
       "4      ЦБ-00111074  1Кр57-0,050-4/5А 1Кр57-0,031-6/6А 1Кр57-0,014-...   \n",
       "...            ...                                                ...   \n",
       "34264  ЦБ-00182016                           СапфирВ 6КР57-0,080-3/4А   \n",
       "34265  ЦБ-00182017                           СапфирВ 6КР57-0,080-3/4А   \n",
       "34266  ЦБ-00182019                          ИзумрудВ 4КР57-0,040-2/3А   \n",
       "34267  ЦБ-00182020                          ИзумрудВ 4КР57-0,040-2/3А   \n",
       "34268  ЦБ-00182021                          ИзумрудВ 4КР57-0,040-2/3А   \n",
       "\n",
       "      emerald_list  len_em  \n",
       "0               []       0  \n",
       "1               []       0  \n",
       "2               []       0  \n",
       "3               []       0  \n",
       "4               []       0  \n",
       "...            ...     ...  \n",
       "34264           []       0  \n",
       "34265           []       0  \n",
       "34266           []       0  \n",
       "34267           []       0  \n",
       "34268           []       0  \n",
       "\n",
       "[34269 rows x 4 columns]"
      ]
     },
     "execution_count": 34,
     "metadata": {},
     "output_type": "execute_result"
    }
   ],
   "source": [
    "df[['Код', 'Вставки_д28','emerald_list', 'len_em']]"
   ]
  },
  {
   "cell_type": "code",
   "execution_count": 35,
   "id": "f799b202",
   "metadata": {},
   "outputs": [],
   "source": [
    "df_exp = df.explode('emerald_list')"
   ]
  },
  {
   "cell_type": "code",
   "execution_count": 227,
   "id": "c6a8c67f",
   "metadata": {
    "scrolled": true
   },
   "outputs": [],
   "source": [
    "df_exp.dropna(subset='emerald_list', inplace=True)"
   ]
  },
  {
   "cell_type": "markdown",
   "id": "4155cc49",
   "metadata": {},
   "source": [
    "### разбор по  [\"PCS\",\"GEM\",\"CARAT\", \"FORM\", \"CQ\"]"
   ]
  },
  {
   "cell_type": "code",
   "execution_count": 393,
   "id": "711f12e4",
   "metadata": {},
   "outputs": [],
   "source": [
    "cols = [\"PCS\",\"GEM\",\"CARAT\", \"FORM\", \"CQ\"]\n",
    "for c in range(len(cols)):\n",
    "    df_exp[cols[c]] = df_exp.emerald_list.apply(lambda x: x[c].lower().strip())"
   ]
  },
  {
   "cell_type": "code",
   "execution_count": 394,
   "id": "ec53e0a7",
   "metadata": {},
   "outputs": [
    {
     "data": {
      "text/html": [
       "<div>\n",
       "<style scoped>\n",
       "    .dataframe tbody tr th:only-of-type {\n",
       "        vertical-align: middle;\n",
       "    }\n",
       "\n",
       "    .dataframe tbody tr th {\n",
       "        vertical-align: top;\n",
       "    }\n",
       "\n",
       "    .dataframe thead th {\n",
       "        text-align: right;\n",
       "    }\n",
       "</style>\n",
       "<table border=\"1\" class=\"dataframe\">\n",
       "  <thead>\n",
       "    <tr style=\"text-align: right;\">\n",
       "      <th></th>\n",
       "      <th>Код</th>\n",
       "      <th>Вставки_д28</th>\n",
       "      <th>emeralds</th>\n",
       "      <th>re01</th>\n",
       "      <th>emerald_list</th>\n",
       "      <th>len_jem</th>\n",
       "      <th>len_em</th>\n",
       "      <th>PCS</th>\n",
       "      <th>GEM</th>\n",
       "      <th>CARAT</th>\n",
       "      <th>FORM</th>\n",
       "      <th>CQ</th>\n",
       "      <th>C</th>\n",
       "      <th>Q</th>\n",
       "    </tr>\n",
       "  </thead>\n",
       "  <tbody>\n",
       "    <tr>\n",
       "      <th>160</th>\n",
       "      <td>ЦБ-00019785</td>\n",
       "      <td>1ИзумрудПМ-1,270-НРООв+2/гз 7Кр57-0,100-3/3А</td>\n",
       "      <td>1изумрудпм-1,270-нроов+2/гз 7кр57-0,100-3/3а</td>\n",
       "      <td>[(1, ИзумрудПМ, 1,270, НРООв, 2/г)]</td>\n",
       "      <td>(1, ИзумрудПМ, 1,270, НРООв, 2/г)</td>\n",
       "      <td>1</td>\n",
       "      <td>1</td>\n",
       "      <td>1</td>\n",
       "      <td>изумрудпм</td>\n",
       "      <td>1,270</td>\n",
       "      <td>нроов</td>\n",
       "      <td>2/г</td>\n",
       "      <td>2</td>\n",
       "      <td>г</td>\n",
       "    </tr>\n",
       "    <tr>\n",
       "      <th>249</th>\n",
       "      <td>ЦБ-00019921</td>\n",
       "      <td>1ИзумрудПМ-0,100-НРОКр+4/Г3 4Кр57-0,040-2/4А</td>\n",
       "      <td>1изумрудпм-0,100-нрокр+4/г3 4кр57-0,040-2/4а</td>\n",
       "      <td>[(1, ИзумрудПМ, 0,100, НРОКр, 4/Г3)]</td>\n",
       "      <td>(1, ИзумрудПМ, 0,100, НРОКр, 4/Г3)</td>\n",
       "      <td>1</td>\n",
       "      <td>1</td>\n",
       "      <td>1</td>\n",
       "      <td>изумрудпм</td>\n",
       "      <td>0,100</td>\n",
       "      <td>нрокр</td>\n",
       "      <td>4/г3</td>\n",
       "      <td>4</td>\n",
       "      <td>г3</td>\n",
       "    </tr>\n",
       "    <tr>\n",
       "      <th>345</th>\n",
       "      <td>ЦБ-00090311</td>\n",
       "      <td>1ИзумрудПМ-0,234-НРОКр+3/Г2 6Кр57-0,148-2/2А 2...</td>\n",
       "      <td>1изумрудпм-0,234-нрокр+3/г2 6кр57-0,148-2/2а 2...</td>\n",
       "      <td>[(1, ИзумрудПМ, 0,234, НРОКр, 3/Г2)]</td>\n",
       "      <td>(1, ИзумрудПМ, 0,234, НРОКр, 3/Г2)</td>\n",
       "      <td>1</td>\n",
       "      <td>1</td>\n",
       "      <td>1</td>\n",
       "      <td>изумрудпм</td>\n",
       "      <td>0,234</td>\n",
       "      <td>нрокр</td>\n",
       "      <td>3/г2</td>\n",
       "      <td>3</td>\n",
       "      <td>г2</td>\n",
       "    </tr>\n",
       "    <tr>\n",
       "      <th>372</th>\n",
       "      <td>ЦБ-00163308</td>\n",
       "      <td>1ИзумрудПМ-0,340-НРООв+3/Г3 12Кр17-0,030-2/2А</td>\n",
       "      <td>1изумрудпм-0,340-нроов+3/г3 12кр17-0,030-2/2а</td>\n",
       "      <td>[(1, ИзумрудПМ, 0,340, НРООв, 3/Г3)]</td>\n",
       "      <td>(1, ИзумрудПМ, 0,340, НРООв, 3/Г3)</td>\n",
       "      <td>1</td>\n",
       "      <td>1</td>\n",
       "      <td>1</td>\n",
       "      <td>изумрудпм</td>\n",
       "      <td>0,340</td>\n",
       "      <td>нроов</td>\n",
       "      <td>3/г3</td>\n",
       "      <td>3</td>\n",
       "      <td>г3</td>\n",
       "    </tr>\n",
       "    <tr>\n",
       "      <th>374</th>\n",
       "      <td>ЦБ-00163310</td>\n",
       "      <td>1ИзумрудПМ-0,159-НРОКр+3/Г2 12Кр57-0,113-3/4А</td>\n",
       "      <td>1изумрудпм-0,159-нрокр+3/г2 12кр57-0,113-3/4а</td>\n",
       "      <td>[(1, ИзумрудПМ, 0,159, НРОКр, 3/Г2)]</td>\n",
       "      <td>(1, ИзумрудПМ, 0,159, НРОКр, 3/Г2)</td>\n",
       "      <td>1</td>\n",
       "      <td>1</td>\n",
       "      <td>1</td>\n",
       "      <td>изумрудпм</td>\n",
       "      <td>0,159</td>\n",
       "      <td>нрокр</td>\n",
       "      <td>3/г2</td>\n",
       "      <td>3</td>\n",
       "      <td>г2</td>\n",
       "    </tr>\n",
       "    <tr>\n",
       "      <th>...</th>\n",
       "      <td>...</td>\n",
       "      <td>...</td>\n",
       "      <td>...</td>\n",
       "      <td>...</td>\n",
       "      <td>...</td>\n",
       "      <td>...</td>\n",
       "      <td>...</td>\n",
       "      <td>...</td>\n",
       "      <td>...</td>\n",
       "      <td>...</td>\n",
       "      <td>...</td>\n",
       "      <td>...</td>\n",
       "      <td>...</td>\n",
       "      <td>...</td>\n",
       "    </tr>\n",
       "    <tr>\n",
       "      <th>31958</th>\n",
       "      <td>ЦБ-00171233</td>\n",
       "      <td>4ИзумрудПМ-0,540-кр+3/Г3 2КР57-0,030-3/4А</td>\n",
       "      <td>4изумрудпм-0,540-кр+3/г3 2кр57-0,030-3/4а</td>\n",
       "      <td>[(4, ИзумрудПМ, 0,540, кр, 3/Г3)]</td>\n",
       "      <td>(4, ИзумрудПМ, 0,540, кр, 3/Г3)</td>\n",
       "      <td>1</td>\n",
       "      <td>1</td>\n",
       "      <td>4</td>\n",
       "      <td>изумрудпм</td>\n",
       "      <td>0,540</td>\n",
       "      <td>кр</td>\n",
       "      <td>3/г3</td>\n",
       "      <td>3</td>\n",
       "      <td>г3</td>\n",
       "    </tr>\n",
       "    <tr>\n",
       "      <th>31971</th>\n",
       "      <td>ЦБ-00171334</td>\n",
       "      <td>2ИзумрудПМ-0,270-м+2/Г2 20КР57-0,240-3/5А</td>\n",
       "      <td>2изумрудпм-0,270-м+2/г2 20кр57-0,240-3/5а</td>\n",
       "      <td>[(2, ИзумрудПМ, 0,270, м, 2/Г2)]</td>\n",
       "      <td>(2, ИзумрудПМ, 0,270, м, 2/Г2)</td>\n",
       "      <td>1</td>\n",
       "      <td>1</td>\n",
       "      <td>2</td>\n",
       "      <td>изумрудпм</td>\n",
       "      <td>0,270</td>\n",
       "      <td>м</td>\n",
       "      <td>2/г2</td>\n",
       "      <td>2</td>\n",
       "      <td>г2</td>\n",
       "    </tr>\n",
       "    <tr>\n",
       "      <th>31975</th>\n",
       "      <td>ЦБ-00171360</td>\n",
       "      <td>2ИзумрудПМ-0,670-пр+5/Г1 2КР57-0,030-3/3А</td>\n",
       "      <td>2изумрудпм-0,670-пр+5/г1 2кр57-0,030-3/3а</td>\n",
       "      <td>[(2, ИзумрудПМ, 0,670, пр, 5/Г1)]</td>\n",
       "      <td>(2, ИзумрудПМ, 0,670, пр, 5/Г1)</td>\n",
       "      <td>1</td>\n",
       "      <td>1</td>\n",
       "      <td>2</td>\n",
       "      <td>изумрудпм</td>\n",
       "      <td>0,670</td>\n",
       "      <td>пр</td>\n",
       "      <td>5/г1</td>\n",
       "      <td>5</td>\n",
       "      <td>г1</td>\n",
       "    </tr>\n",
       "    <tr>\n",
       "      <th>32597</th>\n",
       "      <td>ЦБ-00177187</td>\n",
       "      <td>2ИзумрудПМ-0,166-НРОКр+3/Г3 6Кр57-0,076-4/5А 6...</td>\n",
       "      <td>2изумрудпм-0,166-нрокр+3/г3 6кр57-0,076-4/5а 6...</td>\n",
       "      <td>[(2, ИзумрудПМ, 0,166, НРОКр, 3/Г3)]</td>\n",
       "      <td>(2, ИзумрудПМ, 0,166, НРОКр, 3/Г3)</td>\n",
       "      <td>1</td>\n",
       "      <td>1</td>\n",
       "      <td>2</td>\n",
       "      <td>изумрудпм</td>\n",
       "      <td>0,166</td>\n",
       "      <td>нрокр</td>\n",
       "      <td>3/г3</td>\n",
       "      <td>3</td>\n",
       "      <td>г3</td>\n",
       "    </tr>\n",
       "    <tr>\n",
       "      <th>32933</th>\n",
       "      <td>ЦБ-00181335</td>\n",
       "      <td>6ИзумрудПМ-0,203-НРОКр+3/Г3 6КР57-0,244-3/4А</td>\n",
       "      <td>6изумрудпм-0,203-нрокр+3/г3 6кр57-0,244-3/4а</td>\n",
       "      <td>[(6, ИзумрудПМ, 0,203, НРОКр, 3/Г3)]</td>\n",
       "      <td>(6, ИзумрудПМ, 0,203, НРОКр, 3/Г3)</td>\n",
       "      <td>1</td>\n",
       "      <td>1</td>\n",
       "      <td>6</td>\n",
       "      <td>изумрудпм</td>\n",
       "      <td>0,203</td>\n",
       "      <td>нрокр</td>\n",
       "      <td>3/г3</td>\n",
       "      <td>3</td>\n",
       "      <td>г3</td>\n",
       "    </tr>\n",
       "  </tbody>\n",
       "</table>\n",
       "<p>309 rows × 14 columns</p>\n",
       "</div>"
      ],
      "text/plain": [
       "               Код                                        Вставки_д28  \\\n",
       "160    ЦБ-00019785       1ИзумрудПМ-1,270-НРООв+2/гз 7Кр57-0,100-3/3А   \n",
       "249    ЦБ-00019921       1ИзумрудПМ-0,100-НРОКр+4/Г3 4Кр57-0,040-2/4А   \n",
       "345    ЦБ-00090311  1ИзумрудПМ-0,234-НРОКр+3/Г2 6Кр57-0,148-2/2А 2...   \n",
       "372    ЦБ-00163308      1ИзумрудПМ-0,340-НРООв+3/Г3 12Кр17-0,030-2/2А   \n",
       "374    ЦБ-00163310      1ИзумрудПМ-0,159-НРОКр+3/Г2 12Кр57-0,113-3/4А   \n",
       "...            ...                                                ...   \n",
       "31958  ЦБ-00171233          4ИзумрудПМ-0,540-кр+3/Г3 2КР57-0,030-3/4А   \n",
       "31971  ЦБ-00171334          2ИзумрудПМ-0,270-м+2/Г2 20КР57-0,240-3/5А   \n",
       "31975  ЦБ-00171360          2ИзумрудПМ-0,670-пр+5/Г1 2КР57-0,030-3/3А   \n",
       "32597  ЦБ-00177187  2ИзумрудПМ-0,166-НРОКр+3/Г3 6Кр57-0,076-4/5А 6...   \n",
       "32933  ЦБ-00181335       6ИзумрудПМ-0,203-НРОКр+3/Г3 6КР57-0,244-3/4А   \n",
       "\n",
       "                                                emeralds  \\\n",
       "160         1изумрудпм-1,270-нроов+2/гз 7кр57-0,100-3/3а   \n",
       "249         1изумрудпм-0,100-нрокр+4/г3 4кр57-0,040-2/4а   \n",
       "345    1изумрудпм-0,234-нрокр+3/г2 6кр57-0,148-2/2а 2...   \n",
       "372        1изумрудпм-0,340-нроов+3/г3 12кр17-0,030-2/2а   \n",
       "374        1изумрудпм-0,159-нрокр+3/г2 12кр57-0,113-3/4а   \n",
       "...                                                  ...   \n",
       "31958          4изумрудпм-0,540-кр+3/г3 2кр57-0,030-3/4а   \n",
       "31971          2изумрудпм-0,270-м+2/г2 20кр57-0,240-3/5а   \n",
       "31975          2изумрудпм-0,670-пр+5/г1 2кр57-0,030-3/3а   \n",
       "32597  2изумрудпм-0,166-нрокр+3/г3 6кр57-0,076-4/5а 6...   \n",
       "32933       6изумрудпм-0,203-нрокр+3/г3 6кр57-0,244-3/4а   \n",
       "\n",
       "                                       re01  \\\n",
       "160     [(1, ИзумрудПМ, 1,270, НРООв, 2/г)]   \n",
       "249    [(1, ИзумрудПМ, 0,100, НРОКр, 4/Г3)]   \n",
       "345    [(1, ИзумрудПМ, 0,234, НРОКр, 3/Г2)]   \n",
       "372    [(1, ИзумрудПМ, 0,340, НРООв, 3/Г3)]   \n",
       "374    [(1, ИзумрудПМ, 0,159, НРОКр, 3/Г2)]   \n",
       "...                                     ...   \n",
       "31958     [(4, ИзумрудПМ, 0,540, кр, 3/Г3)]   \n",
       "31971      [(2, ИзумрудПМ, 0,270, м, 2/Г2)]   \n",
       "31975     [(2, ИзумрудПМ, 0,670, пр, 5/Г1)]   \n",
       "32597  [(2, ИзумрудПМ, 0,166, НРОКр, 3/Г3)]   \n",
       "32933  [(6, ИзумрудПМ, 0,203, НРОКр, 3/Г3)]   \n",
       "\n",
       "                             emerald_list  len_jem  len_em PCS        GEM  \\\n",
       "160     (1, ИзумрудПМ, 1,270, НРООв, 2/г)        1       1   1  изумрудпм   \n",
       "249    (1, ИзумрудПМ, 0,100, НРОКр, 4/Г3)        1       1   1  изумрудпм   \n",
       "345    (1, ИзумрудПМ, 0,234, НРОКр, 3/Г2)        1       1   1  изумрудпм   \n",
       "372    (1, ИзумрудПМ, 0,340, НРООв, 3/Г3)        1       1   1  изумрудпм   \n",
       "374    (1, ИзумрудПМ, 0,159, НРОКр, 3/Г2)        1       1   1  изумрудпм   \n",
       "...                                   ...      ...     ...  ..        ...   \n",
       "31958     (4, ИзумрудПМ, 0,540, кр, 3/Г3)        1       1   4  изумрудпм   \n",
       "31971      (2, ИзумрудПМ, 0,270, м, 2/Г2)        1       1   2  изумрудпм   \n",
       "31975     (2, ИзумрудПМ, 0,670, пр, 5/Г1)        1       1   2  изумрудпм   \n",
       "32597  (2, ИзумрудПМ, 0,166, НРОКр, 3/Г3)        1       1   2  изумрудпм   \n",
       "32933  (6, ИзумрудПМ, 0,203, НРОКр, 3/Г3)        1       1   6  изумрудпм   \n",
       "\n",
       "       CARAT   FORM    CQ  C   Q  \n",
       "160    1,270  нроов   2/г  2   г  \n",
       "249    0,100  нрокр  4/г3  4  г3  \n",
       "345    0,234  нрокр  3/г2  3  г2  \n",
       "372    0,340  нроов  3/г3  3  г3  \n",
       "374    0,159  нрокр  3/г2  3  г2  \n",
       "...      ...    ...   ... ..  ..  \n",
       "31958  0,540     кр  3/г3  3  г3  \n",
       "31971  0,270      м  2/г2  2  г2  \n",
       "31975  0,670     пр  5/г1  5  г1  \n",
       "32597  0,166  нрокр  3/г3  3  г3  \n",
       "32933  0,203  нрокр  3/г3  3  г3  \n",
       "\n",
       "[309 rows x 14 columns]"
      ]
     },
     "execution_count": 394,
     "metadata": {},
     "output_type": "execute_result"
    }
   ],
   "source": [
    "df_exp"
   ]
  },
  {
   "cell_type": "code",
   "execution_count": 395,
   "id": "6ed44d3d",
   "metadata": {},
   "outputs": [
    {
     "name": "stdout",
     "output_type": "stream",
     "text": [
      "PCS ['1' '3' '2' '' '218' '32' '7' '5' '4' '12' '6' '8' '17' '48' '18' '60']\n",
      "GEM ['изумрудпм' 'изумруд' 'изумрудпт']\n",
      "CARAT ['1,270' '0,100' '0,234' '0,340' '0,159' '0,420' '0,118' '1,134' '0,356'\n",
      " '0,170' '0,380' '1,490' '0,680' '0,520' '7,900' '0,450' '0,744' '5,230'\n",
      " '0,860' '0,160' '1,205' '3,990' '0,275' '0,590' '0,623' '0,640' '0,530'\n",
      " '0,900' '0,193' '0,875' '0,260' '0,219' '0,747' '0,090' '0,550' '0,150'\n",
      " '0,080' '0,110' '2,370' '0,722' '0,760' '0,650' '0,437' '0,717' '0,300'\n",
      " '0,662' '0,136' '0,200' '1,690' '0,836' '1,130' '0,250' '1,500' '1,930'\n",
      " '0,400' '1,350' '0,415' '0,276' '1,050' '0,500' '0,060' '0,750' '0,930'\n",
      " '0,096' '0,364' '0,663' '0,180' '1,880' '0,030' '0,211' '0,050' '0,540'\n",
      " '0,310' '2,360' '0,236' '0,403' '0,230' '1,370' '0,700' '0,330' '1,070'\n",
      " '2,300' '1,990' '0,800' '0,220' '0,510' '0,305' '0,026' '0,016' '0,020'\n",
      " '0,035' '0,071' '0,115' '0,254' '0,070' '0,130' '0,361' '0,366' '1,253'\n",
      " '0,345' '0,910' '0,120' '0,055' '0,088' '0,053' '0,430' '0,210' '9,070'\n",
      " '0,290' '0,320' '0,143' '3,120' '0,426' '0,041' '0,105' '14,680' '0,460'\n",
      " '0,190' '0,377' '0,262' '0,099' '0,213' '0,163' '0,155' '0,280' '0,580'\n",
      " '0,040' '0,140' '0,112' '0,043' '0,41' '0,141' '0,044' '0,176' '0,390'\n",
      " '0,038' '0,360' '0,370' '0,166' '22,610' '1,400' '0,240' '0,600' '0,270'\n",
      " '0,810' '1,300' '0,62' '0,687' '0,265' '0,225' '0,440' '0,350' '0,480'\n",
      " '1,600' '0,670' '0,203']\n",
      "FORM ['нроов' 'нрокр' 'нрог' 'нропр' 'багет' 'и41' 'нроф' 'кр' 'кв21' 'нрочл'\n",
      " 'пр21' 'ов' 'нрокр-кр' 'нрооо' 'о49' 'кр57' 'кбовв' 'нрокв' 'н41' 'бр17'\n",
      " 'кв-21' 'м' 'пр']\n",
      "CQ ['2/г' '4/г3' '3/г2' '3/г3' '4/г2' '3/к1' '2/г2' '2/г3' '3/г1' '5/г1'\n",
      " '5/г3' '2/к3' '4/г1' '1/г3' '5/г2' '1/г2']\n"
     ]
    }
   ],
   "source": [
    "for c in cols:\n",
    "    print(c, df_exp[c].unique())"
   ]
  },
  {
   "cell_type": "code",
   "execution_count": 396,
   "id": "461a6b75",
   "metadata": {},
   "outputs": [
    {
     "data": {
      "text/html": [
       "<div>\n",
       "<style scoped>\n",
       "    .dataframe tbody tr th:only-of-type {\n",
       "        vertical-align: middle;\n",
       "    }\n",
       "\n",
       "    .dataframe tbody tr th {\n",
       "        vertical-align: top;\n",
       "    }\n",
       "\n",
       "    .dataframe thead th {\n",
       "        text-align: right;\n",
       "    }\n",
       "</style>\n",
       "<table border=\"1\" class=\"dataframe\">\n",
       "  <thead>\n",
       "    <tr style=\"text-align: right;\">\n",
       "      <th></th>\n",
       "      <th>Код</th>\n",
       "      <th>Вставки_д28</th>\n",
       "      <th>emeralds</th>\n",
       "      <th>re01</th>\n",
       "      <th>emerald_list</th>\n",
       "      <th>len_jem</th>\n",
       "      <th>len_em</th>\n",
       "      <th>PCS</th>\n",
       "      <th>GEM</th>\n",
       "      <th>CARAT</th>\n",
       "      <th>FORM</th>\n",
       "      <th>CQ</th>\n",
       "      <th>C</th>\n",
       "      <th>Q</th>\n",
       "    </tr>\n",
       "  </thead>\n",
       "  <tbody>\n",
       "    <tr>\n",
       "      <th>160</th>\n",
       "      <td>ЦБ-00019785</td>\n",
       "      <td>1ИзумрудПМ-1,270-НРООв+2/гз 7Кр57-0,100-3/3А</td>\n",
       "      <td>1изумрудпм-1,270-нроов+2/гз 7кр57-0,100-3/3а</td>\n",
       "      <td>[(1, ИзумрудПМ, 1,270, НРООв, 2/г)]</td>\n",
       "      <td>(1, ИзумрудПМ, 1,270, НРООв, 2/г)</td>\n",
       "      <td>1</td>\n",
       "      <td>1</td>\n",
       "      <td>1</td>\n",
       "      <td>изумрудпм</td>\n",
       "      <td>1,270</td>\n",
       "      <td>нроов</td>\n",
       "      <td>2/г</td>\n",
       "      <td>2</td>\n",
       "      <td>г</td>\n",
       "    </tr>\n",
       "  </tbody>\n",
       "</table>\n",
       "</div>"
      ],
      "text/plain": [
       "             Код                                   Вставки_д28  \\\n",
       "160  ЦБ-00019785  1ИзумрудПМ-1,270-НРООв+2/гз 7Кр57-0,100-3/3А   \n",
       "\n",
       "                                         emeralds  \\\n",
       "160  1изумрудпм-1,270-нроов+2/гз 7кр57-0,100-3/3а   \n",
       "\n",
       "                                    re01                       emerald_list  \\\n",
       "160  [(1, ИзумрудПМ, 1,270, НРООв, 2/г)]  (1, ИзумрудПМ, 1,270, НРООв, 2/г)   \n",
       "\n",
       "     len_jem  len_em PCS        GEM  CARAT   FORM   CQ  C  Q  \n",
       "160        1       1   1  изумрудпм  1,270  нроов  2/г  2  г  "
      ]
     },
     "execution_count": 396,
     "metadata": {},
     "output_type": "execute_result"
    }
   ],
   "source": [
    "df_exp[df_exp['CQ']=='2/г']"
   ]
  },
  {
   "cell_type": "code",
   "execution_count": 397,
   "id": "e7c274a6",
   "metadata": {},
   "outputs": [
    {
     "data": {
      "text/html": [
       "<div>\n",
       "<style scoped>\n",
       "    .dataframe tbody tr th:only-of-type {\n",
       "        vertical-align: middle;\n",
       "    }\n",
       "\n",
       "    .dataframe tbody tr th {\n",
       "        vertical-align: top;\n",
       "    }\n",
       "\n",
       "    .dataframe thead th {\n",
       "        text-align: right;\n",
       "    }\n",
       "</style>\n",
       "<table border=\"1\" class=\"dataframe\">\n",
       "  <thead>\n",
       "    <tr style=\"text-align: right;\">\n",
       "      <th></th>\n",
       "      <th>Код</th>\n",
       "      <th>Вставки_д28</th>\n",
       "      <th>emeralds</th>\n",
       "      <th>re01</th>\n",
       "      <th>emerald_list</th>\n",
       "      <th>len_jem</th>\n",
       "      <th>len_em</th>\n",
       "      <th>PCS</th>\n",
       "      <th>GEM</th>\n",
       "      <th>CARAT</th>\n",
       "      <th>FORM</th>\n",
       "      <th>CQ</th>\n",
       "      <th>C</th>\n",
       "      <th>Q</th>\n",
       "    </tr>\n",
       "  </thead>\n",
       "  <tbody>\n",
       "    <tr>\n",
       "      <th>1181</th>\n",
       "      <td>ЦБ-00160609</td>\n",
       "      <td>ИзумрудПМ-7,900-И41+4/Г3 59КР57-0,690-4/4А 43К...</td>\n",
       "      <td>изумрудпм-7,900-и41+4/г3 59кр57-0,690-4/4а 43к...</td>\n",
       "      <td>[(, ИзумрудПМ, 7,900, И41, 4/Г3)]</td>\n",
       "      <td>(, ИзумрудПМ, 7,900, И41, 4/Г3)</td>\n",
       "      <td>1</td>\n",
       "      <td>1</td>\n",
       "      <td></td>\n",
       "      <td>изумрудпм</td>\n",
       "      <td>7,900</td>\n",
       "      <td>и41</td>\n",
       "      <td>4/г3</td>\n",
       "      <td>4</td>\n",
       "      <td>г3</td>\n",
       "    </tr>\n",
       "    <tr>\n",
       "      <th>25598</th>\n",
       "      <td>ЦБ-00181874</td>\n",
       "      <td>ИзумрудПМ-0,280-НРООв+3/Г3 3КР57-0,040-3/3А</td>\n",
       "      <td>изумрудпм-0,280-нроов+3/г3 3кр57-0,040-3/3а</td>\n",
       "      <td>[(, ИзумрудПМ, 0,280, НРООв, 3/Г3)]</td>\n",
       "      <td>(, ИзумрудПМ, 0,280, НРООв, 3/Г3)</td>\n",
       "      <td>1</td>\n",
       "      <td>1</td>\n",
       "      <td></td>\n",
       "      <td>изумрудпм</td>\n",
       "      <td>0,280</td>\n",
       "      <td>нроов</td>\n",
       "      <td>3/г3</td>\n",
       "      <td>3</td>\n",
       "      <td>г3</td>\n",
       "    </tr>\n",
       "  </tbody>\n",
       "</table>\n",
       "</div>"
      ],
      "text/plain": [
       "               Код                                        Вставки_д28  \\\n",
       "1181   ЦБ-00160609  ИзумрудПМ-7,900-И41+4/Г3 59КР57-0,690-4/4А 43К...   \n",
       "25598  ЦБ-00181874        ИзумрудПМ-0,280-НРООв+3/Г3 3КР57-0,040-3/3А   \n",
       "\n",
       "                                                emeralds  \\\n",
       "1181   изумрудпм-7,900-и41+4/г3 59кр57-0,690-4/4а 43к...   \n",
       "25598        изумрудпм-0,280-нроов+3/г3 3кр57-0,040-3/3а   \n",
       "\n",
       "                                      re01                       emerald_list  \\\n",
       "1181     [(, ИзумрудПМ, 7,900, И41, 4/Г3)]    (, ИзумрудПМ, 7,900, И41, 4/Г3)   \n",
       "25598  [(, ИзумрудПМ, 0,280, НРООв, 3/Г3)]  (, ИзумрудПМ, 0,280, НРООв, 3/Г3)   \n",
       "\n",
       "       len_jem  len_em PCS        GEM  CARAT   FORM    CQ  C   Q  \n",
       "1181         1       1      изумрудпм  7,900    и41  4/г3  4  г3  \n",
       "25598        1       1      изумрудпм  0,280  нроов  3/г3  3  г3  "
      ]
     },
     "execution_count": 397,
     "metadata": {},
     "output_type": "execute_result"
    }
   ],
   "source": [
    "df_exp[df_exp['PCS']=='']"
   ]
  },
  {
   "cell_type": "code",
   "execution_count": 312,
   "id": "52cc73be",
   "metadata": {},
   "outputs": [],
   "source": [
    "df_exp['C'] = df_exp['CQ'].apply(lambda x: x.split('/')[0].lower().strip())\n",
    "df_exp['Q'] = df_exp['CQ'].apply(lambda x: x.split('/')[1].lower().strip())"
   ]
  },
  {
   "cell_type": "code",
   "execution_count": 313,
   "id": "6455352a",
   "metadata": {
    "scrolled": false
   },
   "outputs": [
    {
     "data": {
      "text/html": [
       "<div>\n",
       "<style scoped>\n",
       "    .dataframe tbody tr th:only-of-type {\n",
       "        vertical-align: middle;\n",
       "    }\n",
       "\n",
       "    .dataframe tbody tr th {\n",
       "        vertical-align: top;\n",
       "    }\n",
       "\n",
       "    .dataframe thead th {\n",
       "        text-align: right;\n",
       "    }\n",
       "</style>\n",
       "<table border=\"1\" class=\"dataframe\">\n",
       "  <thead>\n",
       "    <tr style=\"text-align: right;\">\n",
       "      <th></th>\n",
       "      <th>Код</th>\n",
       "      <th>Вставки_д28</th>\n",
       "      <th>emeralds</th>\n",
       "      <th>re01</th>\n",
       "      <th>emerald_list</th>\n",
       "      <th>len_jem</th>\n",
       "      <th>len_em</th>\n",
       "      <th>PCS</th>\n",
       "      <th>GEM</th>\n",
       "      <th>CARAT</th>\n",
       "      <th>FORM</th>\n",
       "      <th>CQ</th>\n",
       "      <th>C</th>\n",
       "      <th>Q</th>\n",
       "    </tr>\n",
       "  </thead>\n",
       "  <tbody>\n",
       "    <tr>\n",
       "      <th>160</th>\n",
       "      <td>ЦБ-00019785</td>\n",
       "      <td>1ИзумрудПМ-1,270-НРООв+2/гз 7Кр57-0,100-3/3А</td>\n",
       "      <td>1изумрудпм-1,270-нроов+2/гз 7кр57-0,100-3/3а</td>\n",
       "      <td>[(1, ИзумрудПМ, 1,270, НРООв, 2/г)]</td>\n",
       "      <td>(1, ИзумрудПМ, 1,270, НРООв, 2/г)</td>\n",
       "      <td>1</td>\n",
       "      <td>1</td>\n",
       "      <td>1</td>\n",
       "      <td>изумрудпм</td>\n",
       "      <td>1,270</td>\n",
       "      <td>нроов</td>\n",
       "      <td>2/г</td>\n",
       "      <td>2</td>\n",
       "      <td>г</td>\n",
       "    </tr>\n",
       "    <tr>\n",
       "      <th>249</th>\n",
       "      <td>ЦБ-00019921</td>\n",
       "      <td>1ИзумрудПМ-0,100-НРОКр+4/Г3 4Кр57-0,040-2/4А</td>\n",
       "      <td>1изумрудпм-0,100-нрокр+4/г3 4кр57-0,040-2/4а</td>\n",
       "      <td>[(1, ИзумрудПМ, 0,100, НРОКр, 4/Г3)]</td>\n",
       "      <td>(1, ИзумрудПМ, 0,100, НРОКр, 4/Г3)</td>\n",
       "      <td>1</td>\n",
       "      <td>1</td>\n",
       "      <td>1</td>\n",
       "      <td>изумрудпм</td>\n",
       "      <td>0,100</td>\n",
       "      <td>нрокр</td>\n",
       "      <td>4/г3</td>\n",
       "      <td>4</td>\n",
       "      <td>г3</td>\n",
       "    </tr>\n",
       "    <tr>\n",
       "      <th>345</th>\n",
       "      <td>ЦБ-00090311</td>\n",
       "      <td>1ИзумрудПМ-0,234-НРОКр+3/Г2 6Кр57-0,148-2/2А 2...</td>\n",
       "      <td>1изумрудпм-0,234-нрокр+3/г2 6кр57-0,148-2/2а 2...</td>\n",
       "      <td>[(1, ИзумрудПМ, 0,234, НРОКр, 3/Г2)]</td>\n",
       "      <td>(1, ИзумрудПМ, 0,234, НРОКр, 3/Г2)</td>\n",
       "      <td>1</td>\n",
       "      <td>1</td>\n",
       "      <td>1</td>\n",
       "      <td>изумрудпм</td>\n",
       "      <td>0,234</td>\n",
       "      <td>нрокр</td>\n",
       "      <td>3/г2</td>\n",
       "      <td>3</td>\n",
       "      <td>г2</td>\n",
       "    </tr>\n",
       "    <tr>\n",
       "      <th>372</th>\n",
       "      <td>ЦБ-00163308</td>\n",
       "      <td>1ИзумрудПМ-0,340-НРООв+3/Г3 12Кр17-0,030-2/2А</td>\n",
       "      <td>1изумрудпм-0,340-нроов+3/г3 12кр17-0,030-2/2а</td>\n",
       "      <td>[(1, ИзумрудПМ, 0,340, НРООв, 3/Г3)]</td>\n",
       "      <td>(1, ИзумрудПМ, 0,340, НРООв, 3/Г3)</td>\n",
       "      <td>1</td>\n",
       "      <td>1</td>\n",
       "      <td>1</td>\n",
       "      <td>изумрудпм</td>\n",
       "      <td>0,340</td>\n",
       "      <td>нроов</td>\n",
       "      <td>3/г3</td>\n",
       "      <td>3</td>\n",
       "      <td>г3</td>\n",
       "    </tr>\n",
       "    <tr>\n",
       "      <th>374</th>\n",
       "      <td>ЦБ-00163310</td>\n",
       "      <td>1ИзумрудПМ-0,159-НРОКр+3/Г2 12Кр57-0,113-3/4А</td>\n",
       "      <td>1изумрудпм-0,159-нрокр+3/г2 12кр57-0,113-3/4а</td>\n",
       "      <td>[(1, ИзумрудПМ, 0,159, НРОКр, 3/Г2)]</td>\n",
       "      <td>(1, ИзумрудПМ, 0,159, НРОКр, 3/Г2)</td>\n",
       "      <td>1</td>\n",
       "      <td>1</td>\n",
       "      <td>1</td>\n",
       "      <td>изумрудпм</td>\n",
       "      <td>0,159</td>\n",
       "      <td>нрокр</td>\n",
       "      <td>3/г2</td>\n",
       "      <td>3</td>\n",
       "      <td>г2</td>\n",
       "    </tr>\n",
       "    <tr>\n",
       "      <th>...</th>\n",
       "      <td>...</td>\n",
       "      <td>...</td>\n",
       "      <td>...</td>\n",
       "      <td>...</td>\n",
       "      <td>...</td>\n",
       "      <td>...</td>\n",
       "      <td>...</td>\n",
       "      <td>...</td>\n",
       "      <td>...</td>\n",
       "      <td>...</td>\n",
       "      <td>...</td>\n",
       "      <td>...</td>\n",
       "      <td>...</td>\n",
       "      <td>...</td>\n",
       "    </tr>\n",
       "    <tr>\n",
       "      <th>31958</th>\n",
       "      <td>ЦБ-00171233</td>\n",
       "      <td>4ИзумрудПМ-0,540-кр+3/Г3 2КР57-0,030-3/4А</td>\n",
       "      <td>4изумрудпм-0,540-кр+3/г3 2кр57-0,030-3/4а</td>\n",
       "      <td>[(4, ИзумрудПМ, 0,540, кр, 3/Г3)]</td>\n",
       "      <td>(4, ИзумрудПМ, 0,540, кр, 3/Г3)</td>\n",
       "      <td>1</td>\n",
       "      <td>1</td>\n",
       "      <td>4</td>\n",
       "      <td>изумрудпм</td>\n",
       "      <td>0,540</td>\n",
       "      <td>кр</td>\n",
       "      <td>3/г3</td>\n",
       "      <td>3</td>\n",
       "      <td>г3</td>\n",
       "    </tr>\n",
       "    <tr>\n",
       "      <th>31971</th>\n",
       "      <td>ЦБ-00171334</td>\n",
       "      <td>2ИзумрудПМ-0,270-м+2/Г2 20КР57-0,240-3/5А</td>\n",
       "      <td>2изумрудпм-0,270-м+2/г2 20кр57-0,240-3/5а</td>\n",
       "      <td>[(2, ИзумрудПМ, 0,270, м, 2/Г2)]</td>\n",
       "      <td>(2, ИзумрудПМ, 0,270, м, 2/Г2)</td>\n",
       "      <td>1</td>\n",
       "      <td>1</td>\n",
       "      <td>2</td>\n",
       "      <td>изумрудпм</td>\n",
       "      <td>0,270</td>\n",
       "      <td>м</td>\n",
       "      <td>2/г2</td>\n",
       "      <td>2</td>\n",
       "      <td>г2</td>\n",
       "    </tr>\n",
       "    <tr>\n",
       "      <th>31975</th>\n",
       "      <td>ЦБ-00171360</td>\n",
       "      <td>2ИзумрудПМ-0,670-пр+5/Г1 2КР57-0,030-3/3А</td>\n",
       "      <td>2изумрудпм-0,670-пр+5/г1 2кр57-0,030-3/3а</td>\n",
       "      <td>[(2, ИзумрудПМ, 0,670, пр, 5/Г1)]</td>\n",
       "      <td>(2, ИзумрудПМ, 0,670, пр, 5/Г1)</td>\n",
       "      <td>1</td>\n",
       "      <td>1</td>\n",
       "      <td>2</td>\n",
       "      <td>изумрудпм</td>\n",
       "      <td>0,670</td>\n",
       "      <td>пр</td>\n",
       "      <td>5/г1</td>\n",
       "      <td>5</td>\n",
       "      <td>г1</td>\n",
       "    </tr>\n",
       "    <tr>\n",
       "      <th>32597</th>\n",
       "      <td>ЦБ-00177187</td>\n",
       "      <td>2ИзумрудПМ-0,166-НРОКр+3/Г3 6Кр57-0,076-4/5А 6...</td>\n",
       "      <td>2изумрудпм-0,166-нрокр+3/г3 6кр57-0,076-4/5а 6...</td>\n",
       "      <td>[(2, ИзумрудПМ, 0,166, НРОКр, 3/Г3)]</td>\n",
       "      <td>(2, ИзумрудПМ, 0,166, НРОКр, 3/Г3)</td>\n",
       "      <td>1</td>\n",
       "      <td>1</td>\n",
       "      <td>2</td>\n",
       "      <td>изумрудпм</td>\n",
       "      <td>0,166</td>\n",
       "      <td>нрокр</td>\n",
       "      <td>3/г3</td>\n",
       "      <td>3</td>\n",
       "      <td>г3</td>\n",
       "    </tr>\n",
       "    <tr>\n",
       "      <th>32933</th>\n",
       "      <td>ЦБ-00181335</td>\n",
       "      <td>6ИзумрудПМ-0,203-НРОКр+3/Г3 6КР57-0,244-3/4А</td>\n",
       "      <td>6изумрудпм-0,203-нрокр+3/г3 6кр57-0,244-3/4а</td>\n",
       "      <td>[(6, ИзумрудПМ, 0,203, НРОКр, 3/Г3)]</td>\n",
       "      <td>(6, ИзумрудПМ, 0,203, НРОКр, 3/Г3)</td>\n",
       "      <td>1</td>\n",
       "      <td>1</td>\n",
       "      <td>6</td>\n",
       "      <td>изумрудпм</td>\n",
       "      <td>0,203</td>\n",
       "      <td>нрокр</td>\n",
       "      <td>3/г3</td>\n",
       "      <td>3</td>\n",
       "      <td>г3</td>\n",
       "    </tr>\n",
       "  </tbody>\n",
       "</table>\n",
       "<p>309 rows × 14 columns</p>\n",
       "</div>"
      ],
      "text/plain": [
       "               Код                                        Вставки_д28  \\\n",
       "160    ЦБ-00019785       1ИзумрудПМ-1,270-НРООв+2/гз 7Кр57-0,100-3/3А   \n",
       "249    ЦБ-00019921       1ИзумрудПМ-0,100-НРОКр+4/Г3 4Кр57-0,040-2/4А   \n",
       "345    ЦБ-00090311  1ИзумрудПМ-0,234-НРОКр+3/Г2 6Кр57-0,148-2/2А 2...   \n",
       "372    ЦБ-00163308      1ИзумрудПМ-0,340-НРООв+3/Г3 12Кр17-0,030-2/2А   \n",
       "374    ЦБ-00163310      1ИзумрудПМ-0,159-НРОКр+3/Г2 12Кр57-0,113-3/4А   \n",
       "...            ...                                                ...   \n",
       "31958  ЦБ-00171233          4ИзумрудПМ-0,540-кр+3/Г3 2КР57-0,030-3/4А   \n",
       "31971  ЦБ-00171334          2ИзумрудПМ-0,270-м+2/Г2 20КР57-0,240-3/5А   \n",
       "31975  ЦБ-00171360          2ИзумрудПМ-0,670-пр+5/Г1 2КР57-0,030-3/3А   \n",
       "32597  ЦБ-00177187  2ИзумрудПМ-0,166-НРОКр+3/Г3 6Кр57-0,076-4/5А 6...   \n",
       "32933  ЦБ-00181335       6ИзумрудПМ-0,203-НРОКр+3/Г3 6КР57-0,244-3/4А   \n",
       "\n",
       "                                                emeralds  \\\n",
       "160         1изумрудпм-1,270-нроов+2/гз 7кр57-0,100-3/3а   \n",
       "249         1изумрудпм-0,100-нрокр+4/г3 4кр57-0,040-2/4а   \n",
       "345    1изумрудпм-0,234-нрокр+3/г2 6кр57-0,148-2/2а 2...   \n",
       "372        1изумрудпм-0,340-нроов+3/г3 12кр17-0,030-2/2а   \n",
       "374        1изумрудпм-0,159-нрокр+3/г2 12кр57-0,113-3/4а   \n",
       "...                                                  ...   \n",
       "31958          4изумрудпм-0,540-кр+3/г3 2кр57-0,030-3/4а   \n",
       "31971          2изумрудпм-0,270-м+2/г2 20кр57-0,240-3/5а   \n",
       "31975          2изумрудпм-0,670-пр+5/г1 2кр57-0,030-3/3а   \n",
       "32597  2изумрудпм-0,166-нрокр+3/г3 6кр57-0,076-4/5а 6...   \n",
       "32933       6изумрудпм-0,203-нрокр+3/г3 6кр57-0,244-3/4а   \n",
       "\n",
       "                                       re01  \\\n",
       "160     [(1, ИзумрудПМ, 1,270, НРООв, 2/г)]   \n",
       "249    [(1, ИзумрудПМ, 0,100, НРОКр, 4/Г3)]   \n",
       "345    [(1, ИзумрудПМ, 0,234, НРОКр, 3/Г2)]   \n",
       "372    [(1, ИзумрудПМ, 0,340, НРООв, 3/Г3)]   \n",
       "374    [(1, ИзумрудПМ, 0,159, НРОКр, 3/Г2)]   \n",
       "...                                     ...   \n",
       "31958     [(4, ИзумрудПМ, 0,540, кр, 3/Г3)]   \n",
       "31971      [(2, ИзумрудПМ, 0,270, м, 2/Г2)]   \n",
       "31975     [(2, ИзумрудПМ, 0,670, пр, 5/Г1)]   \n",
       "32597  [(2, ИзумрудПМ, 0,166, НРОКр, 3/Г3)]   \n",
       "32933  [(6, ИзумрудПМ, 0,203, НРОКр, 3/Г3)]   \n",
       "\n",
       "                             emerald_list  len_jem  len_em PCS        GEM  \\\n",
       "160     (1, ИзумрудПМ, 1,270, НРООв, 2/г)        1       1   1  изумрудпм   \n",
       "249    (1, ИзумрудПМ, 0,100, НРОКр, 4/Г3)        1       1   1  изумрудпм   \n",
       "345    (1, ИзумрудПМ, 0,234, НРОКр, 3/Г2)        1       1   1  изумрудпм   \n",
       "372    (1, ИзумрудПМ, 0,340, НРООв, 3/Г3)        1       1   1  изумрудпм   \n",
       "374    (1, ИзумрудПМ, 0,159, НРОКр, 3/Г2)        1       1   1  изумрудпм   \n",
       "...                                   ...      ...     ...  ..        ...   \n",
       "31958     (4, ИзумрудПМ, 0,540, кр, 3/Г3)        1       1   4  изумрудпм   \n",
       "31971      (2, ИзумрудПМ, 0,270, м, 2/Г2)        1       1   2  изумрудпм   \n",
       "31975     (2, ИзумрудПМ, 0,670, пр, 5/Г1)        1       1   2  изумрудпм   \n",
       "32597  (2, ИзумрудПМ, 0,166, НРОКр, 3/Г3)        1       1   2  изумрудпм   \n",
       "32933  (6, ИзумрудПМ, 0,203, НРОКр, 3/Г3)        1       1   6  изумрудпм   \n",
       "\n",
       "       CARAT   FORM    CQ  C   Q  \n",
       "160    1,270  нроов   2/г  2   г  \n",
       "249    0,100  нрокр  4/г3  4  г3  \n",
       "345    0,234  нрокр  3/г2  3  г2  \n",
       "372    0,340  нроов  3/г3  3  г3  \n",
       "374    0,159  нрокр  3/г2  3  г2  \n",
       "...      ...    ...   ... ..  ..  \n",
       "31958  0,540     кр  3/г3  3  г3  \n",
       "31971  0,270      м  2/г2  2  г2  \n",
       "31975  0,670     пр  5/г1  5  г1  \n",
       "32597  0,166  нрокр  3/г3  3  г3  \n",
       "32933  0,203  нрокр  3/г3  3  г3  \n",
       "\n",
       "[309 rows x 14 columns]"
      ]
     },
     "execution_count": 313,
     "metadata": {},
     "output_type": "execute_result"
    }
   ],
   "source": [
    "df_exp"
   ]
  },
  {
   "cell_type": "code",
   "execution_count": 469,
   "id": "cae8e92d",
   "metadata": {},
   "outputs": [
    {
     "data": {
      "text/plain": [
       "True"
      ]
     },
     "execution_count": 469,
     "metadata": {},
     "output_type": "execute_result"
    }
   ],
   "source": [
    "df_exp['C'].apply(lambda x: x in dcol_em_sto).all()"
   ]
  },
  {
   "cell_type": "code",
   "execution_count": 467,
   "id": "76913ade",
   "metadata": {},
   "outputs": [
    {
     "data": {
      "text/plain": [
       "{'help': ['К1К2Г1Г2Г3'],\n",
       " 'г3': 'Г3',\n",
       " 'г2': 'Г2',\n",
       " 'г1': 'Г1',\n",
       " 'к1': 'К1',\n",
       " 'к2': 'К2',\n",
       " 'k1': 'К1',\n",
       " 'k2': 'К2'}"
      ]
     },
     "execution_count": 467,
     "metadata": {},
     "output_type": "execute_result"
    }
   ],
   "source": [
    "dcla_em_sto"
   ]
  },
  {
   "cell_type": "code",
   "execution_count": null,
   "id": "8d9dd739",
   "metadata": {},
   "outputs": [],
   "source": [
    "vstavki_d.Д.apply(lambda x: x in dcla_dia).unique()"
   ]
  },
  {
   "cell_type": "code",
   "execution_count": null,
   "id": "da728b6a",
   "metadata": {},
   "outputs": [],
   "source": []
  },
  {
   "cell_type": "markdown",
   "id": "12a49198",
   "metadata": {},
   "source": [
    "## Формирование словарей"
   ]
  },
  {
   "cell_type": "code",
   "execution_count": 457,
   "id": "3c9e79be",
   "metadata": {},
   "outputs": [],
   "source": [
    "from rusprice.dictdiamonds import dcol_dia, dcla_dia, dpo_dia, dogr_dia_discount"
   ]
  },
  {
   "cell_type": "markdown",
   "id": "8750029b",
   "metadata": {},
   "source": [
    "цвет ['1' '2' '3' '4' '5']\n",
    "чистота ['К1' 'К2' 'Г1' 'Г2' 'Г3']"
   ]
  },
  {
   "cell_type": "code",
   "execution_count": 655,
   "id": "2b56b397",
   "metadata": {},
   "outputs": [],
   "source": [
    "dcol_em_sto = {'help':['1', '2', '3', '4', '5'],\n",
    "               '1':'1' ,\n",
    "               '2':'2' , \n",
    "               '3':'3' ,\n",
    "               '4':'4',  \n",
    "               '5':'5'}"
   ]
  },
  {
   "cell_type": "code",
   "execution_count": 656,
   "id": "066132f0",
   "metadata": {},
   "outputs": [],
   "source": [
    "dcla_em_sto = {'help':['К1', 'К2', 'Г1', 'Г2', 'Г3'],\n",
    "                   'г3':'Г3',\n",
    "                   'г2':'Г2',\n",
    "                   'г1':'Г1',\n",
    "                   'к1':'К1', \n",
    "                   'к2':'К2',\n",
    "                   'k1':'К1' , \n",
    "                   'k2':'К2'}\n",
    "                   #   "
   ]
  },
  {
   "cell_type": "code",
   "execution_count": null,
   "id": "6d4fcf5b",
   "metadata": {},
   "outputs": [],
   "source": []
  },
  {
   "cell_type": "code",
   "execution_count": null,
   "id": "9f417963",
   "metadata": {},
   "outputs": [],
   "source": []
  },
  {
   "cell_type": "code",
   "execution_count": 789,
   "id": "2f5e9a22",
   "metadata": {},
   "outputs": [
    {
     "name": "stdout",
     "output_type": "stream",
     "text": [
      "Writing module_prgem.dictemeralds.py\n"
     ]
    }
   ],
   "source": [
    "#%%writefile module_prgem.dictemeralds.py\n",
    "#словари для изумрудов СТО по прейскуранту \n",
    "#цвет ['1', '2', '3', '4', '5']\n",
    "#чистота ['К1', 'К2', 'Г1', 'Г2', 'Г3']\n",
    "\n",
    "dcol_em_sto = {'help':['1', '2', '3', '4', '5'],\n",
    "               '1':'1' ,\n",
    "               '2':'2' , \n",
    "               '3':'3' ,\n",
    "               '4':'4',  \n",
    "               '5':'5'}\n",
    "\n",
    "dcla_em_sto = {'help':['К1', 'К2', 'Г1', 'Г2', 'Г3'],\n",
    "                   'г3':'Г3',\n",
    "                   'г2':'Г2',\n",
    "                   'г1':'Г1',\n",
    "                   'к1':'К1', \n",
    "                   'к2':'К2',\n",
    "                   'k1':'К1' , \n",
    "                   'k2':'К2'}\n",
    "                   \n",
    "\n",
    "\n",
    "\n"
   ]
  },
  {
   "cell_type": "code",
   "execution_count": 792,
   "id": "60cdf617",
   "metadata": {},
   "outputs": [],
   "source": []
  },
  {
   "cell_type": "code",
   "execution_count": 314,
   "id": "fd6140b6",
   "metadata": {},
   "outputs": [
    {
     "data": {
      "text/plain": [
       "array(['2', '4', '3', '5', '1'], dtype=object)"
      ]
     },
     "execution_count": 314,
     "metadata": {},
     "output_type": "execute_result"
    }
   ],
   "source": [
    "df_exp['C'].unique()"
   ]
  },
  {
   "cell_type": "code",
   "execution_count": 315,
   "id": "48c8cbe0",
   "metadata": {},
   "outputs": [
    {
     "data": {
      "text/plain": [
       "array(['г', 'г3', 'г2', 'к1', 'г1', 'к3'], dtype=object)"
      ]
     },
     "execution_count": 315,
     "metadata": {},
     "output_type": "execute_result"
    }
   ],
   "source": [
    "df_exp['Q'].unique()"
   ]
  },
  {
   "cell_type": "code",
   "execution_count": 319,
   "id": "08165a71",
   "metadata": {},
   "outputs": [
    {
     "data": {
      "text/plain": [
       "array(['1', '3', '2', '', '218', '32', '7', '5', '4', '12', '6', '8',\n",
       "       '17', '48', '18', '60'], dtype=object)"
      ]
     },
     "execution_count": 319,
     "metadata": {},
     "output_type": "execute_result"
    }
   ],
   "source": [
    "df_exp['PCS'].unique()"
   ]
  },
  {
   "cell_type": "code",
   "execution_count": null,
   "id": "b59e1488",
   "metadata": {},
   "outputs": [],
   "source": [
    "df_exp[df_exp['PCS']=='']"
   ]
  },
  {
   "cell_type": "code",
   "execution_count": 318,
   "id": "4f2df3ce",
   "metadata": {
    "scrolled": true
   },
   "outputs": [
    {
     "data": {
      "text/plain": [
       "160      1.270\n",
       "249      0.100\n",
       "345      0.234\n",
       "372      0.340\n",
       "374      0.159\n",
       "         ...  \n",
       "31958    0.540\n",
       "31971    0.270\n",
       "31975    0.670\n",
       "32597    0.166\n",
       "32933    0.203\n",
       "Name: CARAT, Length: 309, dtype: float64"
      ]
     },
     "execution_count": 318,
     "metadata": {},
     "output_type": "execute_result"
    }
   ],
   "source": [
    "df_exp['CARAT'].str.replace(',','.').astype('float')"
   ]
  },
  {
   "cell_type": "markdown",
   "id": "823ee62e",
   "metadata": {},
   "source": [
    "### Разработка продолжается средняя масса dfx = df_exp tests_errors= list()"
   ]
  },
  {
   "cell_type": "code",
   "execution_count": 552,
   "id": "61f4986b",
   "metadata": {},
   "outputs": [],
   "source": [
    "tests_errors= list()"
   ]
  },
  {
   "cell_type": "code",
   "execution_count": 528,
   "id": "daf5f51d",
   "metadata": {},
   "outputs": [],
   "source": [
    "#tests_errors.extend(['qq,','wwwww'])"
   ]
  },
  {
   "cell_type": "code",
   "execution_count": 553,
   "id": "514b4796",
   "metadata": {},
   "outputs": [
    {
     "data": {
      "text/plain": [
       "[]"
      ]
     },
     "execution_count": 553,
     "metadata": {},
     "output_type": "execute_result"
    }
   ],
   "source": [
    "tests_errors"
   ]
  },
  {
   "cell_type": "code",
   "execution_count": 512,
   "id": "7a4b8090",
   "metadata": {},
   "outputs": [],
   "source": [
    " dfx = df_exp"
   ]
  },
  {
   "cell_type": "code",
   "execution_count": 514,
   "id": "b364cbfe",
   "metadata": {},
   "outputs": [
    {
     "data": {
      "text/plain": [
       "Index(['Код', 'Вставки_д28', 'emeralds', 're01', 'emerald_list', 'len_jem',\n",
       "       'len_em', 'PCS', 'GEM', 'CARAT', 'FORM', 'CQ', 'C', 'Q'],\n",
       "      dtype='object')"
      ]
     },
     "execution_count": 514,
     "metadata": {},
     "output_type": "execute_result"
    }
   ],
   "source": [
    "dfx.columns"
   ]
  },
  {
   "cell_type": "code",
   "execution_count": null,
   "id": "409c1c1d",
   "metadata": {},
   "outputs": [],
   "source": []
  },
  {
   "cell_type": "code",
   "execution_count": 568,
   "id": "48543d40",
   "metadata": {},
   "outputs": [],
   "source": [
    "dfx['CARAT'] = dfx['CARAT'].str.replace(',','.').astype('float')"
   ]
  },
  {
   "cell_type": "code",
   "execution_count": 543,
   "id": "aa2f929a",
   "metadata": {},
   "outputs": [
    {
     "data": {
      "text/plain": [
       "1181     ИзумрудПМ-7,900-И41+4/Г3 59КР57-0,690-4/4А 43К...\n",
       "25598          ИзумрудПМ-0,280-НРООв+3/Г3 3КР57-0,040-3/3А\n",
       "Name: Вставки_д28, dtype: object"
      ]
     },
     "execution_count": 543,
     "metadata": {},
     "output_type": "execute_result"
    }
   ],
   "source": [
    "dfx[dfx['PCS']=='']['Вставки_д28']"
   ]
  },
  {
   "cell_type": "code",
   "execution_count": 544,
   "id": "924f5426",
   "metadata": {},
   "outputs": [],
   "source": [
    "del_ind = _.index"
   ]
  },
  {
   "cell_type": "code",
   "execution_count": 554,
   "id": "7698fdd8",
   "metadata": {},
   "outputs": [],
   "source": [
    "tests_errors.extend(list(dfx.loc[del_ind, 'Вставки_д28']))"
   ]
  },
  {
   "cell_type": "code",
   "execution_count": 555,
   "id": "f7e1a21b",
   "metadata": {},
   "outputs": [
    {
     "data": {
      "text/plain": [
       "['ИзумрудПМ-7,900-И41+4/Г3 59КР57-0,690-4/4А 43КР57-0,800-3/5А',\n",
       " 'ИзумрудПМ-0,280-НРООв+3/Г3 3КР57-0,040-3/3А']"
      ]
     },
     "execution_count": 555,
     "metadata": {},
     "output_type": "execute_result"
    }
   ],
   "source": [
    "tests_errors"
   ]
  },
  {
   "cell_type": "code",
   "execution_count": 556,
   "id": "c7ddb68d",
   "metadata": {},
   "outputs": [],
   "source": [
    "dfx.drop(index=del_ind, inplace=True)"
   ]
  },
  {
   "cell_type": "code",
   "execution_count": 560,
   "id": "bc3f87f4",
   "metadata": {},
   "outputs": [],
   "source": [
    "dfx['PCS'] = dfx['PCS'].astype('int')"
   ]
  },
  {
   "cell_type": "code",
   "execution_count": 562,
   "id": "34937d46",
   "metadata": {},
   "outputs": [],
   "source": [
    " dfx['C'] = dfx['C'].map(dcol_em_sto)#, 'Q'"
   ]
  },
  {
   "cell_type": "code",
   "execution_count": 563,
   "id": "75d0c121",
   "metadata": {},
   "outputs": [],
   "source": [
    " dfx['Q'] = dfx['Q'].map(dcla_em_sto)#, "
   ]
  },
  {
   "cell_type": "code",
   "execution_count": 565,
   "id": "134ea5ec",
   "metadata": {},
   "outputs": [],
   "source": [
    " dfx['CARAT_1'] = dfx['CARAT']/dfx['PCS']"
   ]
  },
  {
   "cell_type": "code",
   "execution_count": null,
   "id": "e9502ab6",
   "metadata": {},
   "outputs": [],
   "source": []
  },
  {
   "cell_type": "code",
   "execution_count": 567,
   "id": "22ac1b6d",
   "metadata": {},
   "outputs": [
    {
     "data": {
      "text/plain": [
       "PCS          int32\n",
       "GEM         object\n",
       "CARAT      float64\n",
       "FORM        object\n",
       "CQ          object\n",
       "C           object\n",
       "Q           object\n",
       "CARAT_1    float64\n",
       "dtype: object"
      ]
     },
     "execution_count": 567,
     "metadata": {},
     "output_type": "execute_result"
    }
   ],
   "source": [
    "dfx[[ 'PCS', 'GEM', 'CARAT', 'FORM', 'CQ', 'C', 'Q','CARAT_1']].dtypes"
   ]
  },
  {
   "cell_type": "code",
   "execution_count": 603,
   "id": "ca8121fe",
   "metadata": {},
   "outputs": [
    {
     "data": {
      "text/plain": [
       "160      1.270000\n",
       "249      0.100000\n",
       "345      0.234000\n",
       "372      0.340000\n",
       "374      0.159000\n",
       "           ...   \n",
       "31958    0.135000\n",
       "31971    0.135000\n",
       "31975    0.335000\n",
       "32597    0.083000\n",
       "32933    0.033833\n",
       "Name: CARAT_1, Length: 307, dtype: float64"
      ]
     },
     "execution_count": 603,
     "metadata": {},
     "output_type": "execute_result"
    }
   ],
   "source": [
    "dfx['CARAT_1']"
   ]
  },
  {
   "cell_type": "code",
   "execution_count": null,
   "id": "034f5e52",
   "metadata": {},
   "outputs": [],
   "source": []
  },
  {
   "cell_type": "code",
   "execution_count": null,
   "id": "0e513ee0",
   "metadata": {},
   "outputs": [],
   "source": []
  },
  {
   "cell_type": "code",
   "execution_count": 859,
   "id": "3a9ad1a3",
   "metadata": {},
   "outputs": [
    {
     "data": {
      "text/html": [
       "<div>\n",
       "<style scoped>\n",
       "    .dataframe tbody tr th:only-of-type {\n",
       "        vertical-align: middle;\n",
       "    }\n",
       "\n",
       "    .dataframe tbody tr th {\n",
       "        vertical-align: top;\n",
       "    }\n",
       "\n",
       "    .dataframe thead th {\n",
       "        text-align: right;\n",
       "    }\n",
       "</style>\n",
       "<table border=\"1\" class=\"dataframe\">\n",
       "  <thead>\n",
       "    <tr style=\"text-align: right;\">\n",
       "      <th></th>\n",
       "      <th>ТУ</th>\n",
       "      <th>Обработка</th>\n",
       "      <th>Огранка</th>\n",
       "      <th>цвет</th>\n",
       "      <th>чистота</th>\n",
       "      <th>size</th>\n",
       "      <th>price</th>\n",
       "    </tr>\n",
       "  </thead>\n",
       "  <tbody>\n",
       "    <tr>\n",
       "      <th>0</th>\n",
       "      <td>СТО</td>\n",
       "      <td>промасливание (O) и заполнение трещин (F)</td>\n",
       "      <td>кобашенный вид огранки</td>\n",
       "      <td>1</td>\n",
       "      <td>К1</td>\n",
       "      <td>до 0,49</td>\n",
       "      <td>120</td>\n",
       "    </tr>\n",
       "    <tr>\n",
       "      <th>1</th>\n",
       "      <td>СТО</td>\n",
       "      <td>промасливание (O) и заполнение трещин (F)</td>\n",
       "      <td>кобашенный вид огранки</td>\n",
       "      <td>1</td>\n",
       "      <td>К2</td>\n",
       "      <td>до 0,49</td>\n",
       "      <td>75</td>\n",
       "    </tr>\n",
       "    <tr>\n",
       "      <th>2</th>\n",
       "      <td>СТО</td>\n",
       "      <td>промасливание (O) и заполнение трещин (F)</td>\n",
       "      <td>кобашенный вид огранки</td>\n",
       "      <td>2</td>\n",
       "      <td>К1</td>\n",
       "      <td>до 0,49</td>\n",
       "      <td>75</td>\n",
       "    </tr>\n",
       "    <tr>\n",
       "      <th>3</th>\n",
       "      <td>СТО</td>\n",
       "      <td>промасливание (O) и заполнение трещин (F)</td>\n",
       "      <td>кобашенный вид огранки</td>\n",
       "      <td>2</td>\n",
       "      <td>К2</td>\n",
       "      <td>до 0,49</td>\n",
       "      <td>45</td>\n",
       "    </tr>\n",
       "    <tr>\n",
       "      <th>4</th>\n",
       "      <td>СТО</td>\n",
       "      <td>промасливание (O) и заполнение трещин (F)</td>\n",
       "      <td>кобашенный вид огранки</td>\n",
       "      <td>3</td>\n",
       "      <td>К1</td>\n",
       "      <td>до 0,49</td>\n",
       "      <td>55</td>\n",
       "    </tr>\n",
       "    <tr>\n",
       "      <th>...</th>\n",
       "      <td>...</td>\n",
       "      <td>...</td>\n",
       "      <td>...</td>\n",
       "      <td>...</td>\n",
       "      <td>...</td>\n",
       "      <td>...</td>\n",
       "      <td>...</td>\n",
       "    </tr>\n",
       "    <tr>\n",
       "      <th>225</th>\n",
       "      <td>СТО</td>\n",
       "      <td>промасливание (O) и заполнение трещин (F)</td>\n",
       "      <td>фацетный вид огранки</td>\n",
       "      <td>4</td>\n",
       "      <td>Г2</td>\n",
       "      <td>4,00-4,99</td>\n",
       "      <td>250</td>\n",
       "    </tr>\n",
       "    <tr>\n",
       "      <th>226</th>\n",
       "      <td>СТО</td>\n",
       "      <td>промасливание (O) и заполнение трещин (F)</td>\n",
       "      <td>фацетный вид огранки</td>\n",
       "      <td>4</td>\n",
       "      <td>Г3</td>\n",
       "      <td>4,00-4,99</td>\n",
       "      <td>170</td>\n",
       "    </tr>\n",
       "    <tr>\n",
       "      <th>227</th>\n",
       "      <td>СТО</td>\n",
       "      <td>промасливание (O) и заполнение трещин (F)</td>\n",
       "      <td>фацетный вид огранки</td>\n",
       "      <td>5</td>\n",
       "      <td>Г1</td>\n",
       "      <td>4,00-4,99</td>\n",
       "      <td>50</td>\n",
       "    </tr>\n",
       "    <tr>\n",
       "      <th>228</th>\n",
       "      <td>СТО</td>\n",
       "      <td>промасливание (O) и заполнение трещин (F)</td>\n",
       "      <td>фацетный вид огранки</td>\n",
       "      <td>5</td>\n",
       "      <td>Г2</td>\n",
       "      <td>4,00-4,99</td>\n",
       "      <td>30</td>\n",
       "    </tr>\n",
       "    <tr>\n",
       "      <th>229</th>\n",
       "      <td>СТО</td>\n",
       "      <td>промасливание (O) и заполнение трещин (F)</td>\n",
       "      <td>фацетный вид огранки</td>\n",
       "      <td>5</td>\n",
       "      <td>Г3</td>\n",
       "      <td>4,00-4,99</td>\n",
       "      <td>18</td>\n",
       "    </tr>\n",
       "  </tbody>\n",
       "</table>\n",
       "<p>230 rows × 7 columns</p>\n",
       "</div>"
      ],
      "text/plain": [
       "      ТУ                                  Обработка                 Огранка  \\\n",
       "0    СТО  промасливание (O) и заполнение трещин (F)  кобашенный вид огранки   \n",
       "1    СТО  промасливание (O) и заполнение трещин (F)  кобашенный вид огранки   \n",
       "2    СТО  промасливание (O) и заполнение трещин (F)  кобашенный вид огранки   \n",
       "3    СТО  промасливание (O) и заполнение трещин (F)  кобашенный вид огранки   \n",
       "4    СТО  промасливание (O) и заполнение трещин (F)  кобашенный вид огранки   \n",
       "..   ...                                        ...                     ...   \n",
       "225  СТО  промасливание (O) и заполнение трещин (F)    фацетный вид огранки   \n",
       "226  СТО  промасливание (O) и заполнение трещин (F)    фацетный вид огранки   \n",
       "227  СТО  промасливание (O) и заполнение трещин (F)    фацетный вид огранки   \n",
       "228  СТО  промасливание (O) и заполнение трещин (F)    фацетный вид огранки   \n",
       "229  СТО  промасливание (O) и заполнение трещин (F)    фацетный вид огранки   \n",
       "\n",
       "     цвет чистота       size  price  \n",
       "0       1      К1    до 0,49    120  \n",
       "1       1      К2    до 0,49     75  \n",
       "2       2      К1    до 0,49     75  \n",
       "3       2      К2    до 0,49     45  \n",
       "4       3      К1    до 0,49     55  \n",
       "..    ...     ...        ...    ...  \n",
       "225     4      Г2  4,00-4,99    250  \n",
       "226     4      Г3  4,00-4,99    170  \n",
       "227     5      Г1  4,00-4,99     50  \n",
       "228     5      Г2  4,00-4,99     30  \n",
       "229     5      Г3  4,00-4,99     18  \n",
       "\n",
       "[230 rows x 7 columns]"
      ]
     },
     "execution_count": 859,
     "metadata": {},
     "output_type": "execute_result"
    }
   ],
   "source": [
    "pr_em_sto#.to_excel('module_prgem/df_pr_emeralds_sto_173_20-04-2023.xlsx', index=None)"
   ]
  },
  {
   "cell_type": "code",
   "execution_count": null,
   "id": "59c6772f",
   "metadata": {},
   "outputs": [],
   "source": [
    "pr_em_sto"
   ]
  },
  {
   "cell_type": "markdown",
   "id": "711a273c",
   "metadata": {},
   "source": [
    "## размерности"
   ]
  },
  {
   "cell_type": "code",
   "execution_count": 690,
   "id": "d31d73b0",
   "metadata": {},
   "outputs": [],
   "source": [
    "sizes_g = pr_em_sto[~pr_em_sto[['size','Огранка']].duplicated()][['size','Огранка']]"
   ]
  },
  {
   "cell_type": "code",
   "execution_count": 691,
   "id": "73af73f2",
   "metadata": {},
   "outputs": [
    {
     "data": {
      "text/html": [
       "<div>\n",
       "<style scoped>\n",
       "    .dataframe tbody tr th:only-of-type {\n",
       "        vertical-align: middle;\n",
       "    }\n",
       "\n",
       "    .dataframe tbody tr th {\n",
       "        vertical-align: top;\n",
       "    }\n",
       "\n",
       "    .dataframe thead th {\n",
       "        text-align: right;\n",
       "    }\n",
       "</style>\n",
       "<table border=\"1\" class=\"dataframe\">\n",
       "  <thead>\n",
       "    <tr style=\"text-align: right;\">\n",
       "      <th></th>\n",
       "      <th>size</th>\n",
       "      <th>Огранка</th>\n",
       "    </tr>\n",
       "  </thead>\n",
       "  <tbody>\n",
       "    <tr>\n",
       "      <th>39</th>\n",
       "      <td>до 0,49</td>\n",
       "      <td>кобашенный вид огранки</td>\n",
       "    </tr>\n",
       "    <tr>\n",
       "      <th>88</th>\n",
       "      <td>0,50-0,74</td>\n",
       "      <td>кобашенный вид огранки</td>\n",
       "    </tr>\n",
       "    <tr>\n",
       "      <th>137</th>\n",
       "      <td>0,75-0,99</td>\n",
       "      <td>кобашенный вид огранки</td>\n",
       "    </tr>\n",
       "    <tr>\n",
       "      <th>186</th>\n",
       "      <td>1,00-1,49</td>\n",
       "      <td>кобашенный вид огранки</td>\n",
       "    </tr>\n",
       "    <tr>\n",
       "      <th>235</th>\n",
       "      <td>1,50-1,99</td>\n",
       "      <td>кобашенный вид огранки</td>\n",
       "    </tr>\n",
       "    <tr>\n",
       "      <th>284</th>\n",
       "      <td>2,00-2,99</td>\n",
       "      <td>кобашенный вид огранки</td>\n",
       "    </tr>\n",
       "    <tr>\n",
       "      <th>333</th>\n",
       "      <td>3,00-3,99</td>\n",
       "      <td>кобашенный вид огранки</td>\n",
       "    </tr>\n",
       "    <tr>\n",
       "      <th>382</th>\n",
       "      <td>4,00-4,99</td>\n",
       "      <td>кобашенный вид огранки</td>\n",
       "    </tr>\n",
       "    <tr>\n",
       "      <th>39</th>\n",
       "      <td>до 0,09</td>\n",
       "      <td>фацетный вид огранки</td>\n",
       "    </tr>\n",
       "    <tr>\n",
       "      <th>93</th>\n",
       "      <td>0,10-0,24</td>\n",
       "      <td>фацетный вид огранки</td>\n",
       "    </tr>\n",
       "    <tr>\n",
       "      <th>147</th>\n",
       "      <td>0,25-0,49</td>\n",
       "      <td>фацетный вид огранки</td>\n",
       "    </tr>\n",
       "    <tr>\n",
       "      <th>201</th>\n",
       "      <td>0,50-0,74</td>\n",
       "      <td>фацетный вид огранки</td>\n",
       "    </tr>\n",
       "    <tr>\n",
       "      <th>255</th>\n",
       "      <td>0,75-0,99</td>\n",
       "      <td>фацетный вид огранки</td>\n",
       "    </tr>\n",
       "    <tr>\n",
       "      <th>309</th>\n",
       "      <td>1,00-1,49</td>\n",
       "      <td>фацетный вид огранки</td>\n",
       "    </tr>\n",
       "    <tr>\n",
       "      <th>363</th>\n",
       "      <td>1,50-1,99</td>\n",
       "      <td>фацетный вид огранки</td>\n",
       "    </tr>\n",
       "    <tr>\n",
       "      <th>417</th>\n",
       "      <td>2,00-2,99</td>\n",
       "      <td>фацетный вид огранки</td>\n",
       "    </tr>\n",
       "    <tr>\n",
       "      <th>471</th>\n",
       "      <td>3,00-3,99</td>\n",
       "      <td>фацетный вид огранки</td>\n",
       "    </tr>\n",
       "    <tr>\n",
       "      <th>525</th>\n",
       "      <td>4,00-4,99</td>\n",
       "      <td>фацетный вид огранки</td>\n",
       "    </tr>\n",
       "  </tbody>\n",
       "</table>\n",
       "</div>"
      ],
      "text/plain": [
       "          size                 Огранка\n",
       "39     до 0,49  кобашенный вид огранки\n",
       "88   0,50-0,74  кобашенный вид огранки\n",
       "137  0,75-0,99  кобашенный вид огранки\n",
       "186  1,00-1,49  кобашенный вид огранки\n",
       "235  1,50-1,99  кобашенный вид огранки\n",
       "284  2,00-2,99  кобашенный вид огранки\n",
       "333  3,00-3,99  кобашенный вид огранки\n",
       "382  4,00-4,99  кобашенный вид огранки\n",
       "39     до 0,09    фацетный вид огранки\n",
       "93   0,10-0,24    фацетный вид огранки\n",
       "147  0,25-0,49    фацетный вид огранки\n",
       "201  0,50-0,74    фацетный вид огранки\n",
       "255  0,75-0,99    фацетный вид огранки\n",
       "309  1,00-1,49    фацетный вид огранки\n",
       "363  1,50-1,99    фацетный вид огранки\n",
       "417  2,00-2,99    фацетный вид огранки\n",
       "471  3,00-3,99    фацетный вид огранки\n",
       "525  4,00-4,99    фацетный вид огранки"
      ]
     },
     "execution_count": 691,
     "metadata": {},
     "output_type": "execute_result"
    }
   ],
   "source": [
    "sizes_g "
   ]
  },
  {
   "cell_type": "code",
   "execution_count": 692,
   "id": "22f18f2e",
   "metadata": {},
   "outputs": [],
   "source": [
    "sizes_g['size_list'] = sizes_g['size'].apply(lambda x: x.split('-'))"
   ]
  },
  {
   "cell_type": "code",
   "execution_count": 693,
   "id": "f100b2cb",
   "metadata": {},
   "outputs": [
    {
     "data": {
      "text/html": [
       "<div>\n",
       "<style scoped>\n",
       "    .dataframe tbody tr th:only-of-type {\n",
       "        vertical-align: middle;\n",
       "    }\n",
       "\n",
       "    .dataframe tbody tr th {\n",
       "        vertical-align: top;\n",
       "    }\n",
       "\n",
       "    .dataframe thead th {\n",
       "        text-align: right;\n",
       "    }\n",
       "</style>\n",
       "<table border=\"1\" class=\"dataframe\">\n",
       "  <thead>\n",
       "    <tr style=\"text-align: right;\">\n",
       "      <th></th>\n",
       "      <th>size</th>\n",
       "      <th>Огранка</th>\n",
       "      <th>size_list</th>\n",
       "    </tr>\n",
       "  </thead>\n",
       "  <tbody>\n",
       "    <tr>\n",
       "      <th>39</th>\n",
       "      <td>до 0,49</td>\n",
       "      <td>кобашенный вид огранки</td>\n",
       "      <td>[до 0,49]</td>\n",
       "    </tr>\n",
       "    <tr>\n",
       "      <th>88</th>\n",
       "      <td>0,50-0,74</td>\n",
       "      <td>кобашенный вид огранки</td>\n",
       "      <td>[0,50, 0,74]</td>\n",
       "    </tr>\n",
       "    <tr>\n",
       "      <th>137</th>\n",
       "      <td>0,75-0,99</td>\n",
       "      <td>кобашенный вид огранки</td>\n",
       "      <td>[0,75, 0,99]</td>\n",
       "    </tr>\n",
       "    <tr>\n",
       "      <th>186</th>\n",
       "      <td>1,00-1,49</td>\n",
       "      <td>кобашенный вид огранки</td>\n",
       "      <td>[1,00, 1,49]</td>\n",
       "    </tr>\n",
       "    <tr>\n",
       "      <th>235</th>\n",
       "      <td>1,50-1,99</td>\n",
       "      <td>кобашенный вид огранки</td>\n",
       "      <td>[1,50, 1,99]</td>\n",
       "    </tr>\n",
       "    <tr>\n",
       "      <th>284</th>\n",
       "      <td>2,00-2,99</td>\n",
       "      <td>кобашенный вид огранки</td>\n",
       "      <td>[2,00, 2,99]</td>\n",
       "    </tr>\n",
       "    <tr>\n",
       "      <th>333</th>\n",
       "      <td>3,00-3,99</td>\n",
       "      <td>кобашенный вид огранки</td>\n",
       "      <td>[3,00, 3,99]</td>\n",
       "    </tr>\n",
       "    <tr>\n",
       "      <th>382</th>\n",
       "      <td>4,00-4,99</td>\n",
       "      <td>кобашенный вид огранки</td>\n",
       "      <td>[4,00, 4,99]</td>\n",
       "    </tr>\n",
       "    <tr>\n",
       "      <th>39</th>\n",
       "      <td>до 0,09</td>\n",
       "      <td>фацетный вид огранки</td>\n",
       "      <td>[до 0,09]</td>\n",
       "    </tr>\n",
       "    <tr>\n",
       "      <th>93</th>\n",
       "      <td>0,10-0,24</td>\n",
       "      <td>фацетный вид огранки</td>\n",
       "      <td>[0,10, 0,24]</td>\n",
       "    </tr>\n",
       "    <tr>\n",
       "      <th>147</th>\n",
       "      <td>0,25-0,49</td>\n",
       "      <td>фацетный вид огранки</td>\n",
       "      <td>[0,25, 0,49]</td>\n",
       "    </tr>\n",
       "    <tr>\n",
       "      <th>201</th>\n",
       "      <td>0,50-0,74</td>\n",
       "      <td>фацетный вид огранки</td>\n",
       "      <td>[0,50, 0,74]</td>\n",
       "    </tr>\n",
       "    <tr>\n",
       "      <th>255</th>\n",
       "      <td>0,75-0,99</td>\n",
       "      <td>фацетный вид огранки</td>\n",
       "      <td>[0,75, 0,99]</td>\n",
       "    </tr>\n",
       "    <tr>\n",
       "      <th>309</th>\n",
       "      <td>1,00-1,49</td>\n",
       "      <td>фацетный вид огранки</td>\n",
       "      <td>[1,00, 1,49]</td>\n",
       "    </tr>\n",
       "    <tr>\n",
       "      <th>363</th>\n",
       "      <td>1,50-1,99</td>\n",
       "      <td>фацетный вид огранки</td>\n",
       "      <td>[1,50, 1,99]</td>\n",
       "    </tr>\n",
       "    <tr>\n",
       "      <th>417</th>\n",
       "      <td>2,00-2,99</td>\n",
       "      <td>фацетный вид огранки</td>\n",
       "      <td>[2,00, 2,99]</td>\n",
       "    </tr>\n",
       "    <tr>\n",
       "      <th>471</th>\n",
       "      <td>3,00-3,99</td>\n",
       "      <td>фацетный вид огранки</td>\n",
       "      <td>[3,00, 3,99]</td>\n",
       "    </tr>\n",
       "    <tr>\n",
       "      <th>525</th>\n",
       "      <td>4,00-4,99</td>\n",
       "      <td>фацетный вид огранки</td>\n",
       "      <td>[4,00, 4,99]</td>\n",
       "    </tr>\n",
       "  </tbody>\n",
       "</table>\n",
       "</div>"
      ],
      "text/plain": [
       "          size                 Огранка     size_list\n",
       "39     до 0,49  кобашенный вид огранки     [до 0,49]\n",
       "88   0,50-0,74  кобашенный вид огранки  [0,50, 0,74]\n",
       "137  0,75-0,99  кобашенный вид огранки  [0,75, 0,99]\n",
       "186  1,00-1,49  кобашенный вид огранки  [1,00, 1,49]\n",
       "235  1,50-1,99  кобашенный вид огранки  [1,50, 1,99]\n",
       "284  2,00-2,99  кобашенный вид огранки  [2,00, 2,99]\n",
       "333  3,00-3,99  кобашенный вид огранки  [3,00, 3,99]\n",
       "382  4,00-4,99  кобашенный вид огранки  [4,00, 4,99]\n",
       "39     до 0,09    фацетный вид огранки     [до 0,09]\n",
       "93   0,10-0,24    фацетный вид огранки  [0,10, 0,24]\n",
       "147  0,25-0,49    фацетный вид огранки  [0,25, 0,49]\n",
       "201  0,50-0,74    фацетный вид огранки  [0,50, 0,74]\n",
       "255  0,75-0,99    фацетный вид огранки  [0,75, 0,99]\n",
       "309  1,00-1,49    фацетный вид огранки  [1,00, 1,49]\n",
       "363  1,50-1,99    фацетный вид огранки  [1,50, 1,99]\n",
       "417  2,00-2,99    фацетный вид огранки  [2,00, 2,99]\n",
       "471  3,00-3,99    фацетный вид огранки  [3,00, 3,99]\n",
       "525  4,00-4,99    фацетный вид огранки  [4,00, 4,99]"
      ]
     },
     "execution_count": 693,
     "metadata": {},
     "output_type": "execute_result"
    }
   ],
   "source": [
    "sizes_g "
   ]
  },
  {
   "cell_type": "code",
   "execution_count": 694,
   "id": "d495a0c8",
   "metadata": {},
   "outputs": [],
   "source": [
    "sizes_g['low_grade'] = sizes_g['size_list'].apply(lambda x: x[0].split()[0] if len(x)==1 else x[0])"
   ]
  },
  {
   "cell_type": "code",
   "execution_count": 695,
   "id": "7f869ee7",
   "metadata": {},
   "outputs": [],
   "source": [
    "#sizes_g['low_grade'] = sizes_g['size_list'].apply(lambda x: 0 if len(x)==1 else x[0])"
   ]
  },
  {
   "cell_type": "code",
   "execution_count": 696,
   "id": "325f4ebf",
   "metadata": {},
   "outputs": [],
   "source": [
    "sizes_g['hi_grade'] = sizes_g['size_list'].apply(lambda x: x[0].split()[1] if len(x)==1 else x[1])"
   ]
  },
  {
   "cell_type": "code",
   "execution_count": 697,
   "id": "6c76e028",
   "metadata": {},
   "outputs": [
    {
     "data": {
      "text/plain": [
       "hi_grade     object\n",
       "low_grade    object\n",
       "dtype: object"
      ]
     },
     "execution_count": 697,
     "metadata": {},
     "output_type": "execute_result"
    }
   ],
   "source": [
    "sizes_g[['hi_grade','low_grade']].dtypes#str.replase(',','.')#astype('float')"
   ]
  },
  {
   "cell_type": "code",
   "execution_count": 698,
   "id": "c5b26c6f",
   "metadata": {},
   "outputs": [
    {
     "data": {
      "text/html": [
       "<div>\n",
       "<style scoped>\n",
       "    .dataframe tbody tr th:only-of-type {\n",
       "        vertical-align: middle;\n",
       "    }\n",
       "\n",
       "    .dataframe tbody tr th {\n",
       "        vertical-align: top;\n",
       "    }\n",
       "\n",
       "    .dataframe thead th {\n",
       "        text-align: right;\n",
       "    }\n",
       "</style>\n",
       "<table border=\"1\" class=\"dataframe\">\n",
       "  <thead>\n",
       "    <tr style=\"text-align: right;\">\n",
       "      <th></th>\n",
       "      <th>size</th>\n",
       "      <th>Огранка</th>\n",
       "      <th>size_list</th>\n",
       "      <th>low_grade</th>\n",
       "      <th>hi_grade</th>\n",
       "    </tr>\n",
       "  </thead>\n",
       "  <tbody>\n",
       "    <tr>\n",
       "      <th>39</th>\n",
       "      <td>до 0,49</td>\n",
       "      <td>кобашенный вид огранки</td>\n",
       "      <td>[до 0,49]</td>\n",
       "      <td>до</td>\n",
       "      <td>0,49</td>\n",
       "    </tr>\n",
       "    <tr>\n",
       "      <th>88</th>\n",
       "      <td>0,50-0,74</td>\n",
       "      <td>кобашенный вид огранки</td>\n",
       "      <td>[0,50, 0,74]</td>\n",
       "      <td>0,50</td>\n",
       "      <td>0,74</td>\n",
       "    </tr>\n",
       "    <tr>\n",
       "      <th>137</th>\n",
       "      <td>0,75-0,99</td>\n",
       "      <td>кобашенный вид огранки</td>\n",
       "      <td>[0,75, 0,99]</td>\n",
       "      <td>0,75</td>\n",
       "      <td>0,99</td>\n",
       "    </tr>\n",
       "    <tr>\n",
       "      <th>186</th>\n",
       "      <td>1,00-1,49</td>\n",
       "      <td>кобашенный вид огранки</td>\n",
       "      <td>[1,00, 1,49]</td>\n",
       "      <td>1,00</td>\n",
       "      <td>1,49</td>\n",
       "    </tr>\n",
       "    <tr>\n",
       "      <th>235</th>\n",
       "      <td>1,50-1,99</td>\n",
       "      <td>кобашенный вид огранки</td>\n",
       "      <td>[1,50, 1,99]</td>\n",
       "      <td>1,50</td>\n",
       "      <td>1,99</td>\n",
       "    </tr>\n",
       "    <tr>\n",
       "      <th>284</th>\n",
       "      <td>2,00-2,99</td>\n",
       "      <td>кобашенный вид огранки</td>\n",
       "      <td>[2,00, 2,99]</td>\n",
       "      <td>2,00</td>\n",
       "      <td>2,99</td>\n",
       "    </tr>\n",
       "    <tr>\n",
       "      <th>333</th>\n",
       "      <td>3,00-3,99</td>\n",
       "      <td>кобашенный вид огранки</td>\n",
       "      <td>[3,00, 3,99]</td>\n",
       "      <td>3,00</td>\n",
       "      <td>3,99</td>\n",
       "    </tr>\n",
       "    <tr>\n",
       "      <th>382</th>\n",
       "      <td>4,00-4,99</td>\n",
       "      <td>кобашенный вид огранки</td>\n",
       "      <td>[4,00, 4,99]</td>\n",
       "      <td>4,00</td>\n",
       "      <td>4,99</td>\n",
       "    </tr>\n",
       "    <tr>\n",
       "      <th>39</th>\n",
       "      <td>до 0,09</td>\n",
       "      <td>фацетный вид огранки</td>\n",
       "      <td>[до 0,09]</td>\n",
       "      <td>до</td>\n",
       "      <td>0,09</td>\n",
       "    </tr>\n",
       "    <tr>\n",
       "      <th>93</th>\n",
       "      <td>0,10-0,24</td>\n",
       "      <td>фацетный вид огранки</td>\n",
       "      <td>[0,10, 0,24]</td>\n",
       "      <td>0,10</td>\n",
       "      <td>0,24</td>\n",
       "    </tr>\n",
       "    <tr>\n",
       "      <th>147</th>\n",
       "      <td>0,25-0,49</td>\n",
       "      <td>фацетный вид огранки</td>\n",
       "      <td>[0,25, 0,49]</td>\n",
       "      <td>0,25</td>\n",
       "      <td>0,49</td>\n",
       "    </tr>\n",
       "    <tr>\n",
       "      <th>201</th>\n",
       "      <td>0,50-0,74</td>\n",
       "      <td>фацетный вид огранки</td>\n",
       "      <td>[0,50, 0,74]</td>\n",
       "      <td>0,50</td>\n",
       "      <td>0,74</td>\n",
       "    </tr>\n",
       "    <tr>\n",
       "      <th>255</th>\n",
       "      <td>0,75-0,99</td>\n",
       "      <td>фацетный вид огранки</td>\n",
       "      <td>[0,75, 0,99]</td>\n",
       "      <td>0,75</td>\n",
       "      <td>0,99</td>\n",
       "    </tr>\n",
       "    <tr>\n",
       "      <th>309</th>\n",
       "      <td>1,00-1,49</td>\n",
       "      <td>фацетный вид огранки</td>\n",
       "      <td>[1,00, 1,49]</td>\n",
       "      <td>1,00</td>\n",
       "      <td>1,49</td>\n",
       "    </tr>\n",
       "    <tr>\n",
       "      <th>363</th>\n",
       "      <td>1,50-1,99</td>\n",
       "      <td>фацетный вид огранки</td>\n",
       "      <td>[1,50, 1,99]</td>\n",
       "      <td>1,50</td>\n",
       "      <td>1,99</td>\n",
       "    </tr>\n",
       "    <tr>\n",
       "      <th>417</th>\n",
       "      <td>2,00-2,99</td>\n",
       "      <td>фацетный вид огранки</td>\n",
       "      <td>[2,00, 2,99]</td>\n",
       "      <td>2,00</td>\n",
       "      <td>2,99</td>\n",
       "    </tr>\n",
       "    <tr>\n",
       "      <th>471</th>\n",
       "      <td>3,00-3,99</td>\n",
       "      <td>фацетный вид огранки</td>\n",
       "      <td>[3,00, 3,99]</td>\n",
       "      <td>3,00</td>\n",
       "      <td>3,99</td>\n",
       "    </tr>\n",
       "    <tr>\n",
       "      <th>525</th>\n",
       "      <td>4,00-4,99</td>\n",
       "      <td>фацетный вид огранки</td>\n",
       "      <td>[4,00, 4,99]</td>\n",
       "      <td>4,00</td>\n",
       "      <td>4,99</td>\n",
       "    </tr>\n",
       "  </tbody>\n",
       "</table>\n",
       "</div>"
      ],
      "text/plain": [
       "          size                 Огранка     size_list low_grade hi_grade\n",
       "39     до 0,49  кобашенный вид огранки     [до 0,49]        до     0,49\n",
       "88   0,50-0,74  кобашенный вид огранки  [0,50, 0,74]      0,50     0,74\n",
       "137  0,75-0,99  кобашенный вид огранки  [0,75, 0,99]      0,75     0,99\n",
       "186  1,00-1,49  кобашенный вид огранки  [1,00, 1,49]      1,00     1,49\n",
       "235  1,50-1,99  кобашенный вид огранки  [1,50, 1,99]      1,50     1,99\n",
       "284  2,00-2,99  кобашенный вид огранки  [2,00, 2,99]      2,00     2,99\n",
       "333  3,00-3,99  кобашенный вид огранки  [3,00, 3,99]      3,00     3,99\n",
       "382  4,00-4,99  кобашенный вид огранки  [4,00, 4,99]      4,00     4,99\n",
       "39     до 0,09    фацетный вид огранки     [до 0,09]        до     0,09\n",
       "93   0,10-0,24    фацетный вид огранки  [0,10, 0,24]      0,10     0,24\n",
       "147  0,25-0,49    фацетный вид огранки  [0,25, 0,49]      0,25     0,49\n",
       "201  0,50-0,74    фацетный вид огранки  [0,50, 0,74]      0,50     0,74\n",
       "255  0,75-0,99    фацетный вид огранки  [0,75, 0,99]      0,75     0,99\n",
       "309  1,00-1,49    фацетный вид огранки  [1,00, 1,49]      1,00     1,49\n",
       "363  1,50-1,99    фацетный вид огранки  [1,50, 1,99]      1,50     1,99\n",
       "417  2,00-2,99    фацетный вид огранки  [2,00, 2,99]      2,00     2,99\n",
       "471  3,00-3,99    фацетный вид огранки  [3,00, 3,99]      3,00     3,99\n",
       "525  4,00-4,99    фацетный вид огранки  [4,00, 4,99]      4,00     4,99"
      ]
     },
     "execution_count": 698,
     "metadata": {},
     "output_type": "execute_result"
    }
   ],
   "source": [
    "sizes_g "
   ]
  },
  {
   "cell_type": "code",
   "execution_count": 699,
   "id": "3efba493",
   "metadata": {},
   "outputs": [],
   "source": [
    "sizes_g['hi_grade'] = sizes_g['hi_grade'].apply(lambda x: x.replace(',','.')).astype('float')"
   ]
  },
  {
   "cell_type": "code",
   "execution_count": 700,
   "id": "ea821b76",
   "metadata": {},
   "outputs": [],
   "source": [
    "sizes_g['low_grade'] = sizes_g['low_grade'].apply(lambda x: x.replace(',','.') if x!='до' else 0).astype('float')"
   ]
  },
  {
   "cell_type": "code",
   "execution_count": 835,
   "id": "251b0bdf",
   "metadata": {},
   "outputs": [
    {
     "data": {
      "text/html": [
       "<div>\n",
       "<style scoped>\n",
       "    .dataframe tbody tr th:only-of-type {\n",
       "        vertical-align: middle;\n",
       "    }\n",
       "\n",
       "    .dataframe tbody tr th {\n",
       "        vertical-align: top;\n",
       "    }\n",
       "\n",
       "    .dataframe thead th {\n",
       "        text-align: right;\n",
       "    }\n",
       "</style>\n",
       "<table border=\"1\" class=\"dataframe\">\n",
       "  <thead>\n",
       "    <tr style=\"text-align: right;\">\n",
       "      <th></th>\n",
       "      <th>size</th>\n",
       "      <th>Огранка</th>\n",
       "      <th>size_list</th>\n",
       "      <th>low_grade</th>\n",
       "      <th>hi_grade</th>\n",
       "    </tr>\n",
       "  </thead>\n",
       "  <tbody>\n",
       "    <tr>\n",
       "      <th>39</th>\n",
       "      <td>до 0,49</td>\n",
       "      <td>кобашенный вид огранки</td>\n",
       "      <td>[до 0,49]</td>\n",
       "      <td>0.00</td>\n",
       "      <td>0.49</td>\n",
       "    </tr>\n",
       "    <tr>\n",
       "      <th>88</th>\n",
       "      <td>0,50-0,74</td>\n",
       "      <td>кобашенный вид огранки</td>\n",
       "      <td>[0,50, 0,74]</td>\n",
       "      <td>0.50</td>\n",
       "      <td>0.74</td>\n",
       "    </tr>\n",
       "    <tr>\n",
       "      <th>137</th>\n",
       "      <td>0,75-0,99</td>\n",
       "      <td>кобашенный вид огранки</td>\n",
       "      <td>[0,75, 0,99]</td>\n",
       "      <td>0.75</td>\n",
       "      <td>0.99</td>\n",
       "    </tr>\n",
       "    <tr>\n",
       "      <th>186</th>\n",
       "      <td>1,00-1,49</td>\n",
       "      <td>кобашенный вид огранки</td>\n",
       "      <td>[1,00, 1,49]</td>\n",
       "      <td>1.00</td>\n",
       "      <td>1.49</td>\n",
       "    </tr>\n",
       "    <tr>\n",
       "      <th>235</th>\n",
       "      <td>1,50-1,99</td>\n",
       "      <td>кобашенный вид огранки</td>\n",
       "      <td>[1,50, 1,99]</td>\n",
       "      <td>1.50</td>\n",
       "      <td>1.99</td>\n",
       "    </tr>\n",
       "    <tr>\n",
       "      <th>284</th>\n",
       "      <td>2,00-2,99</td>\n",
       "      <td>кобашенный вид огранки</td>\n",
       "      <td>[2,00, 2,99]</td>\n",
       "      <td>2.00</td>\n",
       "      <td>2.99</td>\n",
       "    </tr>\n",
       "    <tr>\n",
       "      <th>333</th>\n",
       "      <td>3,00-3,99</td>\n",
       "      <td>кобашенный вид огранки</td>\n",
       "      <td>[3,00, 3,99]</td>\n",
       "      <td>3.00</td>\n",
       "      <td>3.99</td>\n",
       "    </tr>\n",
       "    <tr>\n",
       "      <th>382</th>\n",
       "      <td>4,00-4,99</td>\n",
       "      <td>кобашенный вид огранки</td>\n",
       "      <td>[4,00, 4,99]</td>\n",
       "      <td>4.00</td>\n",
       "      <td>4.99</td>\n",
       "    </tr>\n",
       "    <tr>\n",
       "      <th>39</th>\n",
       "      <td>до 0,09</td>\n",
       "      <td>фацетный вид огранки</td>\n",
       "      <td>[до 0,09]</td>\n",
       "      <td>0.00</td>\n",
       "      <td>0.09</td>\n",
       "    </tr>\n",
       "    <tr>\n",
       "      <th>93</th>\n",
       "      <td>0,10-0,24</td>\n",
       "      <td>фацетный вид огранки</td>\n",
       "      <td>[0,10, 0,24]</td>\n",
       "      <td>0.10</td>\n",
       "      <td>0.24</td>\n",
       "    </tr>\n",
       "    <tr>\n",
       "      <th>147</th>\n",
       "      <td>0,25-0,49</td>\n",
       "      <td>фацетный вид огранки</td>\n",
       "      <td>[0,25, 0,49]</td>\n",
       "      <td>0.25</td>\n",
       "      <td>0.49</td>\n",
       "    </tr>\n",
       "    <tr>\n",
       "      <th>201</th>\n",
       "      <td>0,50-0,74</td>\n",
       "      <td>фацетный вид огранки</td>\n",
       "      <td>[0,50, 0,74]</td>\n",
       "      <td>0.50</td>\n",
       "      <td>0.74</td>\n",
       "    </tr>\n",
       "    <tr>\n",
       "      <th>255</th>\n",
       "      <td>0,75-0,99</td>\n",
       "      <td>фацетный вид огранки</td>\n",
       "      <td>[0,75, 0,99]</td>\n",
       "      <td>0.75</td>\n",
       "      <td>0.99</td>\n",
       "    </tr>\n",
       "    <tr>\n",
       "      <th>309</th>\n",
       "      <td>1,00-1,49</td>\n",
       "      <td>фацетный вид огранки</td>\n",
       "      <td>[1,00, 1,49]</td>\n",
       "      <td>1.00</td>\n",
       "      <td>1.49</td>\n",
       "    </tr>\n",
       "    <tr>\n",
       "      <th>363</th>\n",
       "      <td>1,50-1,99</td>\n",
       "      <td>фацетный вид огранки</td>\n",
       "      <td>[1,50, 1,99]</td>\n",
       "      <td>1.50</td>\n",
       "      <td>1.99</td>\n",
       "    </tr>\n",
       "    <tr>\n",
       "      <th>417</th>\n",
       "      <td>2,00-2,99</td>\n",
       "      <td>фацетный вид огранки</td>\n",
       "      <td>[2,00, 2,99]</td>\n",
       "      <td>2.00</td>\n",
       "      <td>2.99</td>\n",
       "    </tr>\n",
       "    <tr>\n",
       "      <th>471</th>\n",
       "      <td>3,00-3,99</td>\n",
       "      <td>фацетный вид огранки</td>\n",
       "      <td>[3,00, 3,99]</td>\n",
       "      <td>3.00</td>\n",
       "      <td>3.99</td>\n",
       "    </tr>\n",
       "    <tr>\n",
       "      <th>525</th>\n",
       "      <td>4,00-4,99</td>\n",
       "      <td>фацетный вид огранки</td>\n",
       "      <td>[4,00, 4,99]</td>\n",
       "      <td>4.00</td>\n",
       "      <td>4.99</td>\n",
       "    </tr>\n",
       "  </tbody>\n",
       "</table>\n",
       "</div>"
      ],
      "text/plain": [
       "          size                 Огранка     size_list  low_grade  hi_grade\n",
       "39     до 0,49  кобашенный вид огранки     [до 0,49]       0.00      0.49\n",
       "88   0,50-0,74  кобашенный вид огранки  [0,50, 0,74]       0.50      0.74\n",
       "137  0,75-0,99  кобашенный вид огранки  [0,75, 0,99]       0.75      0.99\n",
       "186  1,00-1,49  кобашенный вид огранки  [1,00, 1,49]       1.00      1.49\n",
       "235  1,50-1,99  кобашенный вид огранки  [1,50, 1,99]       1.50      1.99\n",
       "284  2,00-2,99  кобашенный вид огранки  [2,00, 2,99]       2.00      2.99\n",
       "333  3,00-3,99  кобашенный вид огранки  [3,00, 3,99]       3.00      3.99\n",
       "382  4,00-4,99  кобашенный вид огранки  [4,00, 4,99]       4.00      4.99\n",
       "39     до 0,09    фацетный вид огранки     [до 0,09]       0.00      0.09\n",
       "93   0,10-0,24    фацетный вид огранки  [0,10, 0,24]       0.10      0.24\n",
       "147  0,25-0,49    фацетный вид огранки  [0,25, 0,49]       0.25      0.49\n",
       "201  0,50-0,74    фацетный вид огранки  [0,50, 0,74]       0.50      0.74\n",
       "255  0,75-0,99    фацетный вид огранки  [0,75, 0,99]       0.75      0.99\n",
       "309  1,00-1,49    фацетный вид огранки  [1,00, 1,49]       1.00      1.49\n",
       "363  1,50-1,99    фацетный вид огранки  [1,50, 1,99]       1.50      1.99\n",
       "417  2,00-2,99    фацетный вид огранки  [2,00, 2,99]       2.00      2.99\n",
       "471  3,00-3,99    фацетный вид огранки  [3,00, 3,99]       3.00      3.99\n",
       "525  4,00-4,99    фацетный вид огранки  [4,00, 4,99]       4.00      4.99"
      ]
     },
     "execution_count": 835,
     "metadata": {},
     "output_type": "execute_result"
    }
   ],
   "source": [
    "sizes_g"
   ]
  },
  {
   "cell_type": "code",
   "execution_count": 702,
   "id": "59aed8f7",
   "metadata": {},
   "outputs": [
    {
     "data": {
      "text/plain": [
       "size          object\n",
       "Огранка       object\n",
       "size_list     object\n",
       "low_grade    float64\n",
       "hi_grade     float64\n",
       "dtype: object"
      ]
     },
     "execution_count": 702,
     "metadata": {},
     "output_type": "execute_result"
    }
   ],
   "source": [
    "sizes_g.dtypes"
   ]
  },
  {
   "cell_type": "code",
   "execution_count": 836,
   "id": "68abd625",
   "metadata": {},
   "outputs": [],
   "source": [
    "sizes_g.to_excel('module_prgem/size_em_sto.xlsx',index=None)"
   ]
  },
  {
   "cell_type": "code",
   "execution_count": 777,
   "id": "e4295c6e",
   "metadata": {},
   "outputs": [],
   "source": [
    "def size_em_sto(q,carat_1):\n",
    "    if q not in dcla_em_sto.values():\n",
    "        return 'error_size_em_sto: q not in dcla_em_sto'\n",
    "    \n",
    "    if q.__contains__('Г'):\n",
    "        sizex = sizes_g[sizes_g['Огранка']=='фацетный вид огранки']\n",
    "    else:\n",
    "        sizex = sizes_g[sizes_g['Огранка']=='кобашенный вид огранки']\n",
    "            \n",
    "    return sizex[(sizex.low_grade<=carat_1)].sort_values('low_grade').iloc[-1,0]\n",
    "    \n",
    "    "
   ]
  },
  {
   "cell_type": "code",
   "execution_count": 779,
   "id": "0678909d",
   "metadata": {},
   "outputs": [],
   "source": [
    "dfx['size'] = dfx.apply(lambda x:size_em_sto(x['Q'],x['CARAT_1']),axis=1)"
   ]
  },
  {
   "cell_type": "code",
   "execution_count": 784,
   "id": "32f32a1a",
   "metadata": {},
   "outputs": [
    {
     "data": {
      "text/plain": [
       "Index(['ТУ', 'Обработка', 'Огранка', 'цвет', 'чистота', 'size', 'price'], dtype='object')"
      ]
     },
     "execution_count": 784,
     "metadata": {},
     "output_type": "execute_result"
    }
   ],
   "source": [
    "pr_em_sto.columns"
   ]
  },
  {
   "cell_type": "code",
   "execution_count": 861,
   "id": "c5cce1a8",
   "metadata": {},
   "outputs": [
    {
     "data": {
      "text/plain": [
       "Index(['Код', 'Вставки_д28', 'emeralds', 're01', 'emerald_list', 'len_jem',\n",
       "       'len_em', 'PCS', 'GEM', 'CARAT', 'FORM', 'CQ', 'C', 'Q', 'CARAT_1',\n",
       "       'size'],\n",
       "      dtype='object')"
      ]
     },
     "execution_count": 861,
     "metadata": {},
     "output_type": "execute_result"
    }
   ],
   "source": [
    "dfx.columns"
   ]
  },
  {
   "cell_type": "code",
   "execution_count": 862,
   "id": "2fc86de7",
   "metadata": {},
   "outputs": [
    {
     "data": {
      "text/html": [
       "<div>\n",
       "<style scoped>\n",
       "    .dataframe tbody tr th:only-of-type {\n",
       "        vertical-align: middle;\n",
       "    }\n",
       "\n",
       "    .dataframe tbody tr th {\n",
       "        vertical-align: top;\n",
       "    }\n",
       "\n",
       "    .dataframe thead th {\n",
       "        text-align: right;\n",
       "    }\n",
       "</style>\n",
       "<table border=\"1\" class=\"dataframe\">\n",
       "  <thead>\n",
       "    <tr style=\"text-align: right;\">\n",
       "      <th></th>\n",
       "      <th>Код</th>\n",
       "      <th>Вставки_д28</th>\n",
       "      <th>emeralds</th>\n",
       "      <th>re01</th>\n",
       "      <th>emerald_list</th>\n",
       "      <th>len_jem</th>\n",
       "      <th>len_em</th>\n",
       "      <th>PCS</th>\n",
       "      <th>GEM</th>\n",
       "      <th>CARAT</th>\n",
       "      <th>FORM</th>\n",
       "      <th>CQ</th>\n",
       "      <th>C</th>\n",
       "      <th>Q</th>\n",
       "      <th>CARAT_1</th>\n",
       "      <th>size</th>\n",
       "    </tr>\n",
       "  </thead>\n",
       "  <tbody>\n",
       "    <tr>\n",
       "      <th>160</th>\n",
       "      <td>ЦБ-00019785</td>\n",
       "      <td>1ИзумрудПМ-1,270-НРООв+2/гз 7Кр57-0,100-3/3А</td>\n",
       "      <td>1изумрудпм-1,270-нроов+2/гз 7кр57-0,100-3/3а</td>\n",
       "      <td>[(1, ИзумрудПМ, 1,270, НРООв, 2/г)]</td>\n",
       "      <td>(1, ИзумрудПМ, 1,270, НРООв, 2/г)</td>\n",
       "      <td>1</td>\n",
       "      <td>1</td>\n",
       "      <td>1</td>\n",
       "      <td>изумрудпм</td>\n",
       "      <td>1.270</td>\n",
       "      <td>нроов</td>\n",
       "      <td>2/г</td>\n",
       "      <td>2</td>\n",
       "      <td>NaN</td>\n",
       "      <td>1.270000</td>\n",
       "      <td>error_size_em_sto: q not in dcla_em_sto</td>\n",
       "    </tr>\n",
       "    <tr>\n",
       "      <th>249</th>\n",
       "      <td>ЦБ-00019921</td>\n",
       "      <td>1ИзумрудПМ-0,100-НРОКр+4/Г3 4Кр57-0,040-2/4А</td>\n",
       "      <td>1изумрудпм-0,100-нрокр+4/г3 4кр57-0,040-2/4а</td>\n",
       "      <td>[(1, ИзумрудПМ, 0,100, НРОКр, 4/Г3)]</td>\n",
       "      <td>(1, ИзумрудПМ, 0,100, НРОКр, 4/Г3)</td>\n",
       "      <td>1</td>\n",
       "      <td>1</td>\n",
       "      <td>1</td>\n",
       "      <td>изумрудпм</td>\n",
       "      <td>0.100</td>\n",
       "      <td>нрокр</td>\n",
       "      <td>4/г3</td>\n",
       "      <td>4</td>\n",
       "      <td>Г3</td>\n",
       "      <td>0.100000</td>\n",
       "      <td>0,10-0,24</td>\n",
       "    </tr>\n",
       "    <tr>\n",
       "      <th>345</th>\n",
       "      <td>ЦБ-00090311</td>\n",
       "      <td>1ИзумрудПМ-0,234-НРОКр+3/Г2 6Кр57-0,148-2/2А 2...</td>\n",
       "      <td>1изумрудпм-0,234-нрокр+3/г2 6кр57-0,148-2/2а 2...</td>\n",
       "      <td>[(1, ИзумрудПМ, 0,234, НРОКр, 3/Г2)]</td>\n",
       "      <td>(1, ИзумрудПМ, 0,234, НРОКр, 3/Г2)</td>\n",
       "      <td>1</td>\n",
       "      <td>1</td>\n",
       "      <td>1</td>\n",
       "      <td>изумрудпм</td>\n",
       "      <td>0.234</td>\n",
       "      <td>нрокр</td>\n",
       "      <td>3/г2</td>\n",
       "      <td>3</td>\n",
       "      <td>Г2</td>\n",
       "      <td>0.234000</td>\n",
       "      <td>0,10-0,24</td>\n",
       "    </tr>\n",
       "    <tr>\n",
       "      <th>372</th>\n",
       "      <td>ЦБ-00163308</td>\n",
       "      <td>1ИзумрудПМ-0,340-НРООв+3/Г3 12Кр17-0,030-2/2А</td>\n",
       "      <td>1изумрудпм-0,340-нроов+3/г3 12кр17-0,030-2/2а</td>\n",
       "      <td>[(1, ИзумрудПМ, 0,340, НРООв, 3/Г3)]</td>\n",
       "      <td>(1, ИзумрудПМ, 0,340, НРООв, 3/Г3)</td>\n",
       "      <td>1</td>\n",
       "      <td>1</td>\n",
       "      <td>1</td>\n",
       "      <td>изумрудпм</td>\n",
       "      <td>0.340</td>\n",
       "      <td>нроов</td>\n",
       "      <td>3/г3</td>\n",
       "      <td>3</td>\n",
       "      <td>Г3</td>\n",
       "      <td>0.340000</td>\n",
       "      <td>0,25-0,49</td>\n",
       "    </tr>\n",
       "    <tr>\n",
       "      <th>374</th>\n",
       "      <td>ЦБ-00163310</td>\n",
       "      <td>1ИзумрудПМ-0,159-НРОКр+3/Г2 12Кр57-0,113-3/4А</td>\n",
       "      <td>1изумрудпм-0,159-нрокр+3/г2 12кр57-0,113-3/4а</td>\n",
       "      <td>[(1, ИзумрудПМ, 0,159, НРОКр, 3/Г2)]</td>\n",
       "      <td>(1, ИзумрудПМ, 0,159, НРОКр, 3/Г2)</td>\n",
       "      <td>1</td>\n",
       "      <td>1</td>\n",
       "      <td>1</td>\n",
       "      <td>изумрудпм</td>\n",
       "      <td>0.159</td>\n",
       "      <td>нрокр</td>\n",
       "      <td>3/г2</td>\n",
       "      <td>3</td>\n",
       "      <td>Г2</td>\n",
       "      <td>0.159000</td>\n",
       "      <td>0,10-0,24</td>\n",
       "    </tr>\n",
       "    <tr>\n",
       "      <th>...</th>\n",
       "      <td>...</td>\n",
       "      <td>...</td>\n",
       "      <td>...</td>\n",
       "      <td>...</td>\n",
       "      <td>...</td>\n",
       "      <td>...</td>\n",
       "      <td>...</td>\n",
       "      <td>...</td>\n",
       "      <td>...</td>\n",
       "      <td>...</td>\n",
       "      <td>...</td>\n",
       "      <td>...</td>\n",
       "      <td>...</td>\n",
       "      <td>...</td>\n",
       "      <td>...</td>\n",
       "      <td>...</td>\n",
       "    </tr>\n",
       "    <tr>\n",
       "      <th>31958</th>\n",
       "      <td>ЦБ-00171233</td>\n",
       "      <td>4ИзумрудПМ-0,540-кр+3/Г3 2КР57-0,030-3/4А</td>\n",
       "      <td>4изумрудпм-0,540-кр+3/г3 2кр57-0,030-3/4а</td>\n",
       "      <td>[(4, ИзумрудПМ, 0,540, кр, 3/Г3)]</td>\n",
       "      <td>(4, ИзумрудПМ, 0,540, кр, 3/Г3)</td>\n",
       "      <td>1</td>\n",
       "      <td>1</td>\n",
       "      <td>4</td>\n",
       "      <td>изумрудпм</td>\n",
       "      <td>0.540</td>\n",
       "      <td>кр</td>\n",
       "      <td>3/г3</td>\n",
       "      <td>3</td>\n",
       "      <td>Г3</td>\n",
       "      <td>0.135000</td>\n",
       "      <td>0,10-0,24</td>\n",
       "    </tr>\n",
       "    <tr>\n",
       "      <th>31971</th>\n",
       "      <td>ЦБ-00171334</td>\n",
       "      <td>2ИзумрудПМ-0,270-м+2/Г2 20КР57-0,240-3/5А</td>\n",
       "      <td>2изумрудпм-0,270-м+2/г2 20кр57-0,240-3/5а</td>\n",
       "      <td>[(2, ИзумрудПМ, 0,270, м, 2/Г2)]</td>\n",
       "      <td>(2, ИзумрудПМ, 0,270, м, 2/Г2)</td>\n",
       "      <td>1</td>\n",
       "      <td>1</td>\n",
       "      <td>2</td>\n",
       "      <td>изумрудпм</td>\n",
       "      <td>0.270</td>\n",
       "      <td>м</td>\n",
       "      <td>2/г2</td>\n",
       "      <td>2</td>\n",
       "      <td>Г2</td>\n",
       "      <td>0.135000</td>\n",
       "      <td>0,10-0,24</td>\n",
       "    </tr>\n",
       "    <tr>\n",
       "      <th>31975</th>\n",
       "      <td>ЦБ-00171360</td>\n",
       "      <td>2ИзумрудПМ-0,670-пр+5/Г1 2КР57-0,030-3/3А</td>\n",
       "      <td>2изумрудпм-0,670-пр+5/г1 2кр57-0,030-3/3а</td>\n",
       "      <td>[(2, ИзумрудПМ, 0,670, пр, 5/Г1)]</td>\n",
       "      <td>(2, ИзумрудПМ, 0,670, пр, 5/Г1)</td>\n",
       "      <td>1</td>\n",
       "      <td>1</td>\n",
       "      <td>2</td>\n",
       "      <td>изумрудпм</td>\n",
       "      <td>0.670</td>\n",
       "      <td>пр</td>\n",
       "      <td>5/г1</td>\n",
       "      <td>5</td>\n",
       "      <td>Г1</td>\n",
       "      <td>0.335000</td>\n",
       "      <td>0,25-0,49</td>\n",
       "    </tr>\n",
       "    <tr>\n",
       "      <th>32597</th>\n",
       "      <td>ЦБ-00177187</td>\n",
       "      <td>2ИзумрудПМ-0,166-НРОКр+3/Г3 6Кр57-0,076-4/5А 6...</td>\n",
       "      <td>2изумрудпм-0,166-нрокр+3/г3 6кр57-0,076-4/5а 6...</td>\n",
       "      <td>[(2, ИзумрудПМ, 0,166, НРОКр, 3/Г3)]</td>\n",
       "      <td>(2, ИзумрудПМ, 0,166, НРОКр, 3/Г3)</td>\n",
       "      <td>1</td>\n",
       "      <td>1</td>\n",
       "      <td>2</td>\n",
       "      <td>изумрудпм</td>\n",
       "      <td>0.166</td>\n",
       "      <td>нрокр</td>\n",
       "      <td>3/г3</td>\n",
       "      <td>3</td>\n",
       "      <td>Г3</td>\n",
       "      <td>0.083000</td>\n",
       "      <td>до 0,09</td>\n",
       "    </tr>\n",
       "    <tr>\n",
       "      <th>32933</th>\n",
       "      <td>ЦБ-00181335</td>\n",
       "      <td>6ИзумрудПМ-0,203-НРОКр+3/Г3 6КР57-0,244-3/4А</td>\n",
       "      <td>6изумрудпм-0,203-нрокр+3/г3 6кр57-0,244-3/4а</td>\n",
       "      <td>[(6, ИзумрудПМ, 0,203, НРОКр, 3/Г3)]</td>\n",
       "      <td>(6, ИзумрудПМ, 0,203, НРОКр, 3/Г3)</td>\n",
       "      <td>1</td>\n",
       "      <td>1</td>\n",
       "      <td>6</td>\n",
       "      <td>изумрудпм</td>\n",
       "      <td>0.203</td>\n",
       "      <td>нрокр</td>\n",
       "      <td>3/г3</td>\n",
       "      <td>3</td>\n",
       "      <td>Г3</td>\n",
       "      <td>0.033833</td>\n",
       "      <td>до 0,09</td>\n",
       "    </tr>\n",
       "  </tbody>\n",
       "</table>\n",
       "<p>307 rows × 16 columns</p>\n",
       "</div>"
      ],
      "text/plain": [
       "               Код                                        Вставки_д28  \\\n",
       "160    ЦБ-00019785       1ИзумрудПМ-1,270-НРООв+2/гз 7Кр57-0,100-3/3А   \n",
       "249    ЦБ-00019921       1ИзумрудПМ-0,100-НРОКр+4/Г3 4Кр57-0,040-2/4А   \n",
       "345    ЦБ-00090311  1ИзумрудПМ-0,234-НРОКр+3/Г2 6Кр57-0,148-2/2А 2...   \n",
       "372    ЦБ-00163308      1ИзумрудПМ-0,340-НРООв+3/Г3 12Кр17-0,030-2/2А   \n",
       "374    ЦБ-00163310      1ИзумрудПМ-0,159-НРОКр+3/Г2 12Кр57-0,113-3/4А   \n",
       "...            ...                                                ...   \n",
       "31958  ЦБ-00171233          4ИзумрудПМ-0,540-кр+3/Г3 2КР57-0,030-3/4А   \n",
       "31971  ЦБ-00171334          2ИзумрудПМ-0,270-м+2/Г2 20КР57-0,240-3/5А   \n",
       "31975  ЦБ-00171360          2ИзумрудПМ-0,670-пр+5/Г1 2КР57-0,030-3/3А   \n",
       "32597  ЦБ-00177187  2ИзумрудПМ-0,166-НРОКр+3/Г3 6Кр57-0,076-4/5А 6...   \n",
       "32933  ЦБ-00181335       6ИзумрудПМ-0,203-НРОКр+3/Г3 6КР57-0,244-3/4А   \n",
       "\n",
       "                                                emeralds  \\\n",
       "160         1изумрудпм-1,270-нроов+2/гз 7кр57-0,100-3/3а   \n",
       "249         1изумрудпм-0,100-нрокр+4/г3 4кр57-0,040-2/4а   \n",
       "345    1изумрудпм-0,234-нрокр+3/г2 6кр57-0,148-2/2а 2...   \n",
       "372        1изумрудпм-0,340-нроов+3/г3 12кр17-0,030-2/2а   \n",
       "374        1изумрудпм-0,159-нрокр+3/г2 12кр57-0,113-3/4а   \n",
       "...                                                  ...   \n",
       "31958          4изумрудпм-0,540-кр+3/г3 2кр57-0,030-3/4а   \n",
       "31971          2изумрудпм-0,270-м+2/г2 20кр57-0,240-3/5а   \n",
       "31975          2изумрудпм-0,670-пр+5/г1 2кр57-0,030-3/3а   \n",
       "32597  2изумрудпм-0,166-нрокр+3/г3 6кр57-0,076-4/5а 6...   \n",
       "32933       6изумрудпм-0,203-нрокр+3/г3 6кр57-0,244-3/4а   \n",
       "\n",
       "                                       re01  \\\n",
       "160     [(1, ИзумрудПМ, 1,270, НРООв, 2/г)]   \n",
       "249    [(1, ИзумрудПМ, 0,100, НРОКр, 4/Г3)]   \n",
       "345    [(1, ИзумрудПМ, 0,234, НРОКр, 3/Г2)]   \n",
       "372    [(1, ИзумрудПМ, 0,340, НРООв, 3/Г3)]   \n",
       "374    [(1, ИзумрудПМ, 0,159, НРОКр, 3/Г2)]   \n",
       "...                                     ...   \n",
       "31958     [(4, ИзумрудПМ, 0,540, кр, 3/Г3)]   \n",
       "31971      [(2, ИзумрудПМ, 0,270, м, 2/Г2)]   \n",
       "31975     [(2, ИзумрудПМ, 0,670, пр, 5/Г1)]   \n",
       "32597  [(2, ИзумрудПМ, 0,166, НРОКр, 3/Г3)]   \n",
       "32933  [(6, ИзумрудПМ, 0,203, НРОКр, 3/Г3)]   \n",
       "\n",
       "                             emerald_list  len_jem  len_em  PCS        GEM  \\\n",
       "160     (1, ИзумрудПМ, 1,270, НРООв, 2/г)        1       1    1  изумрудпм   \n",
       "249    (1, ИзумрудПМ, 0,100, НРОКр, 4/Г3)        1       1    1  изумрудпм   \n",
       "345    (1, ИзумрудПМ, 0,234, НРОКр, 3/Г2)        1       1    1  изумрудпм   \n",
       "372    (1, ИзумрудПМ, 0,340, НРООв, 3/Г3)        1       1    1  изумрудпм   \n",
       "374    (1, ИзумрудПМ, 0,159, НРОКр, 3/Г2)        1       1    1  изумрудпм   \n",
       "...                                   ...      ...     ...  ...        ...   \n",
       "31958     (4, ИзумрудПМ, 0,540, кр, 3/Г3)        1       1    4  изумрудпм   \n",
       "31971      (2, ИзумрудПМ, 0,270, м, 2/Г2)        1       1    2  изумрудпм   \n",
       "31975     (2, ИзумрудПМ, 0,670, пр, 5/Г1)        1       1    2  изумрудпм   \n",
       "32597  (2, ИзумрудПМ, 0,166, НРОКр, 3/Г3)        1       1    2  изумрудпм   \n",
       "32933  (6, ИзумрудПМ, 0,203, НРОКр, 3/Г3)        1       1    6  изумрудпм   \n",
       "\n",
       "       CARAT   FORM    CQ  C    Q   CARAT_1  \\\n",
       "160    1.270  нроов   2/г  2  NaN  1.270000   \n",
       "249    0.100  нрокр  4/г3  4   Г3  0.100000   \n",
       "345    0.234  нрокр  3/г2  3   Г2  0.234000   \n",
       "372    0.340  нроов  3/г3  3   Г3  0.340000   \n",
       "374    0.159  нрокр  3/г2  3   Г2  0.159000   \n",
       "...      ...    ...   ... ..  ...       ...   \n",
       "31958  0.540     кр  3/г3  3   Г3  0.135000   \n",
       "31971  0.270      м  2/г2  2   Г2  0.135000   \n",
       "31975  0.670     пр  5/г1  5   Г1  0.335000   \n",
       "32597  0.166  нрокр  3/г3  3   Г3  0.083000   \n",
       "32933  0.203  нрокр  3/г3  3   Г3  0.033833   \n",
       "\n",
       "                                          size  \n",
       "160    error_size_em_sto: q not in dcla_em_sto  \n",
       "249                                  0,10-0,24  \n",
       "345                                  0,10-0,24  \n",
       "372                                  0,25-0,49  \n",
       "374                                  0,10-0,24  \n",
       "...                                        ...  \n",
       "31958                                0,10-0,24  \n",
       "31971                                0,10-0,24  \n",
       "31975                                0,25-0,49  \n",
       "32597                                  до 0,09  \n",
       "32933                                  до 0,09  \n",
       "\n",
       "[307 rows x 16 columns]"
      ]
     },
     "execution_count": 862,
     "metadata": {},
     "output_type": "execute_result"
    }
   ],
   "source": [
    "dfx"
   ]
  },
  {
   "cell_type": "code",
   "execution_count": 863,
   "id": "0b44fca6",
   "metadata": {},
   "outputs": [
    {
     "data": {
      "text/plain": [
       "Код              object\n",
       "Вставки_д28      object\n",
       "emeralds         object\n",
       "re01             object\n",
       "emerald_list     object\n",
       "len_jem           int64\n",
       "len_em            int64\n",
       "PCS               int32\n",
       "GEM              object\n",
       "CARAT           float64\n",
       "FORM             object\n",
       "CQ               object\n",
       "C                object\n",
       "Q                object\n",
       "CARAT_1         float64\n",
       "size             object\n",
       "dtype: object"
      ]
     },
     "execution_count": 863,
     "metadata": {},
     "output_type": "execute_result"
    }
   ],
   "source": [
    "dfx.dtypes"
   ]
  },
  {
   "cell_type": "code",
   "execution_count": 864,
   "id": "b197feef",
   "metadata": {},
   "outputs": [
    {
     "data": {
      "text/plain": [
       "ТУ           object\n",
       "Обработка    object\n",
       "Огранка      object\n",
       "цвет          int64\n",
       "чистота      object\n",
       "size         object\n",
       "price         int64\n",
       "dtype: object"
      ]
     },
     "execution_count": 864,
     "metadata": {},
     "output_type": "execute_result"
    }
   ],
   "source": [
    "pr_em_sto.dtypes\n"
   ]
  },
  {
   "cell_type": "code",
   "execution_count": 869,
   "id": "c835c47d",
   "metadata": {},
   "outputs": [
    {
     "data": {
      "text/html": [
       "<div>\n",
       "<style scoped>\n",
       "    .dataframe tbody tr th:only-of-type {\n",
       "        vertical-align: middle;\n",
       "    }\n",
       "\n",
       "    .dataframe tbody tr th {\n",
       "        vertical-align: top;\n",
       "    }\n",
       "\n",
       "    .dataframe thead th {\n",
       "        text-align: right;\n",
       "    }\n",
       "</style>\n",
       "<table border=\"1\" class=\"dataframe\">\n",
       "  <thead>\n",
       "    <tr style=\"text-align: right;\">\n",
       "      <th></th>\n",
       "      <th>Код</th>\n",
       "      <th>Вставки_д28</th>\n",
       "      <th>emeralds</th>\n",
       "      <th>re01</th>\n",
       "      <th>emerald_list</th>\n",
       "      <th>len_jem</th>\n",
       "      <th>len_em</th>\n",
       "      <th>PCS</th>\n",
       "      <th>GEM</th>\n",
       "      <th>CARAT</th>\n",
       "      <th>...</th>\n",
       "      <th>C</th>\n",
       "      <th>Q</th>\n",
       "      <th>CARAT_1</th>\n",
       "      <th>size</th>\n",
       "      <th>ТУ</th>\n",
       "      <th>Обработка</th>\n",
       "      <th>Огранка</th>\n",
       "      <th>цвет</th>\n",
       "      <th>чистота</th>\n",
       "      <th>price</th>\n",
       "    </tr>\n",
       "  </thead>\n",
       "  <tbody>\n",
       "    <tr>\n",
       "      <th>0</th>\n",
       "      <td>ЦБ-00019785</td>\n",
       "      <td>1ИзумрудПМ-1,270-НРООв+2/гз 7Кр57-0,100-3/3А</td>\n",
       "      <td>1изумрудпм-1,270-нроов+2/гз 7кр57-0,100-3/3а</td>\n",
       "      <td>[(1, ИзумрудПМ, 1,270, НРООв, 2/г)]</td>\n",
       "      <td>(1, ИзумрудПМ, 1,270, НРООв, 2/г)</td>\n",
       "      <td>1</td>\n",
       "      <td>1</td>\n",
       "      <td>1</td>\n",
       "      <td>изумрудпм</td>\n",
       "      <td>1.270</td>\n",
       "      <td>...</td>\n",
       "      <td>2</td>\n",
       "      <td>NaN</td>\n",
       "      <td>1.270000</td>\n",
       "      <td>error_size_em_sto: q not in dcla_em_sto</td>\n",
       "      <td>NaN</td>\n",
       "      <td>NaN</td>\n",
       "      <td>NaN</td>\n",
       "      <td>NaN</td>\n",
       "      <td>NaN</td>\n",
       "      <td>NaN</td>\n",
       "    </tr>\n",
       "    <tr>\n",
       "      <th>1</th>\n",
       "      <td>ЦБ-00019921</td>\n",
       "      <td>1ИзумрудПМ-0,100-НРОКр+4/Г3 4Кр57-0,040-2/4А</td>\n",
       "      <td>1изумрудпм-0,100-нрокр+4/г3 4кр57-0,040-2/4а</td>\n",
       "      <td>[(1, ИзумрудПМ, 0,100, НРОКр, 4/Г3)]</td>\n",
       "      <td>(1, ИзумрудПМ, 0,100, НРОКр, 4/Г3)</td>\n",
       "      <td>1</td>\n",
       "      <td>1</td>\n",
       "      <td>1</td>\n",
       "      <td>изумрудпм</td>\n",
       "      <td>0.100</td>\n",
       "      <td>...</td>\n",
       "      <td>4</td>\n",
       "      <td>Г3</td>\n",
       "      <td>0.100000</td>\n",
       "      <td>0,10-0,24</td>\n",
       "      <td>СТО</td>\n",
       "      <td>промасливание (O) и заполнение трещин (F)</td>\n",
       "      <td>фацетный вид огранки</td>\n",
       "      <td>4</td>\n",
       "      <td>Г3</td>\n",
       "      <td>40.0</td>\n",
       "    </tr>\n",
       "    <tr>\n",
       "      <th>2</th>\n",
       "      <td>ЦБ-00090311</td>\n",
       "      <td>1ИзумрудПМ-0,234-НРОКр+3/Г2 6Кр57-0,148-2/2А 2...</td>\n",
       "      <td>1изумрудпм-0,234-нрокр+3/г2 6кр57-0,148-2/2а 2...</td>\n",
       "      <td>[(1, ИзумрудПМ, 0,234, НРОКр, 3/Г2)]</td>\n",
       "      <td>(1, ИзумрудПМ, 0,234, НРОКр, 3/Г2)</td>\n",
       "      <td>1</td>\n",
       "      <td>1</td>\n",
       "      <td>1</td>\n",
       "      <td>изумрудпм</td>\n",
       "      <td>0.234</td>\n",
       "      <td>...</td>\n",
       "      <td>3</td>\n",
       "      <td>Г2</td>\n",
       "      <td>0.234000</td>\n",
       "      <td>0,10-0,24</td>\n",
       "      <td>СТО</td>\n",
       "      <td>промасливание (O) и заполнение трещин (F)</td>\n",
       "      <td>фацетный вид огранки</td>\n",
       "      <td>3</td>\n",
       "      <td>Г2</td>\n",
       "      <td>120.0</td>\n",
       "    </tr>\n",
       "    <tr>\n",
       "      <th>3</th>\n",
       "      <td>ЦБ-00163308</td>\n",
       "      <td>1ИзумрудПМ-0,340-НРООв+3/Г3 12Кр17-0,030-2/2А</td>\n",
       "      <td>1изумрудпм-0,340-нроов+3/г3 12кр17-0,030-2/2а</td>\n",
       "      <td>[(1, ИзумрудПМ, 0,340, НРООв, 3/Г3)]</td>\n",
       "      <td>(1, ИзумрудПМ, 0,340, НРООв, 3/Г3)</td>\n",
       "      <td>1</td>\n",
       "      <td>1</td>\n",
       "      <td>1</td>\n",
       "      <td>изумрудпм</td>\n",
       "      <td>0.340</td>\n",
       "      <td>...</td>\n",
       "      <td>3</td>\n",
       "      <td>Г3</td>\n",
       "      <td>0.340000</td>\n",
       "      <td>0,25-0,49</td>\n",
       "      <td>СТО</td>\n",
       "      <td>промасливание (O) и заполнение трещин (F)</td>\n",
       "      <td>фацетный вид огранки</td>\n",
       "      <td>3</td>\n",
       "      <td>Г3</td>\n",
       "      <td>110.0</td>\n",
       "    </tr>\n",
       "    <tr>\n",
       "      <th>4</th>\n",
       "      <td>ЦБ-00163310</td>\n",
       "      <td>1ИзумрудПМ-0,159-НРОКр+3/Г2 12Кр57-0,113-3/4А</td>\n",
       "      <td>1изумрудпм-0,159-нрокр+3/г2 12кр57-0,113-3/4а</td>\n",
       "      <td>[(1, ИзумрудПМ, 0,159, НРОКр, 3/Г2)]</td>\n",
       "      <td>(1, ИзумрудПМ, 0,159, НРОКр, 3/Г2)</td>\n",
       "      <td>1</td>\n",
       "      <td>1</td>\n",
       "      <td>1</td>\n",
       "      <td>изумрудпм</td>\n",
       "      <td>0.159</td>\n",
       "      <td>...</td>\n",
       "      <td>3</td>\n",
       "      <td>Г2</td>\n",
       "      <td>0.159000</td>\n",
       "      <td>0,10-0,24</td>\n",
       "      <td>СТО</td>\n",
       "      <td>промасливание (O) и заполнение трещин (F)</td>\n",
       "      <td>фацетный вид огранки</td>\n",
       "      <td>3</td>\n",
       "      <td>Г2</td>\n",
       "      <td>120.0</td>\n",
       "    </tr>\n",
       "    <tr>\n",
       "      <th>...</th>\n",
       "      <td>...</td>\n",
       "      <td>...</td>\n",
       "      <td>...</td>\n",
       "      <td>...</td>\n",
       "      <td>...</td>\n",
       "      <td>...</td>\n",
       "      <td>...</td>\n",
       "      <td>...</td>\n",
       "      <td>...</td>\n",
       "      <td>...</td>\n",
       "      <td>...</td>\n",
       "      <td>...</td>\n",
       "      <td>...</td>\n",
       "      <td>...</td>\n",
       "      <td>...</td>\n",
       "      <td>...</td>\n",
       "      <td>...</td>\n",
       "      <td>...</td>\n",
       "      <td>...</td>\n",
       "      <td>...</td>\n",
       "      <td>...</td>\n",
       "    </tr>\n",
       "    <tr>\n",
       "      <th>302</th>\n",
       "      <td>ЦБ-00171233</td>\n",
       "      <td>4ИзумрудПМ-0,540-кр+3/Г3 2КР57-0,030-3/4А</td>\n",
       "      <td>4изумрудпм-0,540-кр+3/г3 2кр57-0,030-3/4а</td>\n",
       "      <td>[(4, ИзумрудПМ, 0,540, кр, 3/Г3)]</td>\n",
       "      <td>(4, ИзумрудПМ, 0,540, кр, 3/Г3)</td>\n",
       "      <td>1</td>\n",
       "      <td>1</td>\n",
       "      <td>4</td>\n",
       "      <td>изумрудпм</td>\n",
       "      <td>0.540</td>\n",
       "      <td>...</td>\n",
       "      <td>3</td>\n",
       "      <td>Г3</td>\n",
       "      <td>0.135000</td>\n",
       "      <td>0,10-0,24</td>\n",
       "      <td>СТО</td>\n",
       "      <td>промасливание (O) и заполнение трещин (F)</td>\n",
       "      <td>фацетный вид огранки</td>\n",
       "      <td>3</td>\n",
       "      <td>Г3</td>\n",
       "      <td>100.0</td>\n",
       "    </tr>\n",
       "    <tr>\n",
       "      <th>303</th>\n",
       "      <td>ЦБ-00171334</td>\n",
       "      <td>2ИзумрудПМ-0,270-м+2/Г2 20КР57-0,240-3/5А</td>\n",
       "      <td>2изумрудпм-0,270-м+2/г2 20кр57-0,240-3/5а</td>\n",
       "      <td>[(2, ИзумрудПМ, 0,270, м, 2/Г2)]</td>\n",
       "      <td>(2, ИзумрудПМ, 0,270, м, 2/Г2)</td>\n",
       "      <td>1</td>\n",
       "      <td>1</td>\n",
       "      <td>2</td>\n",
       "      <td>изумрудпм</td>\n",
       "      <td>0.270</td>\n",
       "      <td>...</td>\n",
       "      <td>2</td>\n",
       "      <td>Г2</td>\n",
       "      <td>0.135000</td>\n",
       "      <td>0,10-0,24</td>\n",
       "      <td>СТО</td>\n",
       "      <td>промасливание (O) и заполнение трещин (F)</td>\n",
       "      <td>фацетный вид огранки</td>\n",
       "      <td>2</td>\n",
       "      <td>Г2</td>\n",
       "      <td>200.0</td>\n",
       "    </tr>\n",
       "    <tr>\n",
       "      <th>304</th>\n",
       "      <td>ЦБ-00171360</td>\n",
       "      <td>2ИзумрудПМ-0,670-пр+5/Г1 2КР57-0,030-3/3А</td>\n",
       "      <td>2изумрудпм-0,670-пр+5/г1 2кр57-0,030-3/3а</td>\n",
       "      <td>[(2, ИзумрудПМ, 0,670, пр, 5/Г1)]</td>\n",
       "      <td>(2, ИзумрудПМ, 0,670, пр, 5/Г1)</td>\n",
       "      <td>1</td>\n",
       "      <td>1</td>\n",
       "      <td>2</td>\n",
       "      <td>изумрудпм</td>\n",
       "      <td>0.670</td>\n",
       "      <td>...</td>\n",
       "      <td>5</td>\n",
       "      <td>Г1</td>\n",
       "      <td>0.335000</td>\n",
       "      <td>0,25-0,49</td>\n",
       "      <td>СТО</td>\n",
       "      <td>промасливание (O) и заполнение трещин (F)</td>\n",
       "      <td>фацетный вид огранки</td>\n",
       "      <td>5</td>\n",
       "      <td>Г1</td>\n",
       "      <td>30.0</td>\n",
       "    </tr>\n",
       "    <tr>\n",
       "      <th>305</th>\n",
       "      <td>ЦБ-00177187</td>\n",
       "      <td>2ИзумрудПМ-0,166-НРОКр+3/Г3 6Кр57-0,076-4/5А 6...</td>\n",
       "      <td>2изумрудпм-0,166-нрокр+3/г3 6кр57-0,076-4/5а 6...</td>\n",
       "      <td>[(2, ИзумрудПМ, 0,166, НРОКр, 3/Г3)]</td>\n",
       "      <td>(2, ИзумрудПМ, 0,166, НРОКр, 3/Г3)</td>\n",
       "      <td>1</td>\n",
       "      <td>1</td>\n",
       "      <td>2</td>\n",
       "      <td>изумрудпм</td>\n",
       "      <td>0.166</td>\n",
       "      <td>...</td>\n",
       "      <td>3</td>\n",
       "      <td>Г3</td>\n",
       "      <td>0.083000</td>\n",
       "      <td>до 0,09</td>\n",
       "      <td>СТО</td>\n",
       "      <td>промасливание (O) и заполнение трещин (F)</td>\n",
       "      <td>фацетный вид огранки</td>\n",
       "      <td>3</td>\n",
       "      <td>Г3</td>\n",
       "      <td>65.0</td>\n",
       "    </tr>\n",
       "    <tr>\n",
       "      <th>306</th>\n",
       "      <td>ЦБ-00181335</td>\n",
       "      <td>6ИзумрудПМ-0,203-НРОКр+3/Г3 6КР57-0,244-3/4А</td>\n",
       "      <td>6изумрудпм-0,203-нрокр+3/г3 6кр57-0,244-3/4а</td>\n",
       "      <td>[(6, ИзумрудПМ, 0,203, НРОКр, 3/Г3)]</td>\n",
       "      <td>(6, ИзумрудПМ, 0,203, НРОКр, 3/Г3)</td>\n",
       "      <td>1</td>\n",
       "      <td>1</td>\n",
       "      <td>6</td>\n",
       "      <td>изумрудпм</td>\n",
       "      <td>0.203</td>\n",
       "      <td>...</td>\n",
       "      <td>3</td>\n",
       "      <td>Г3</td>\n",
       "      <td>0.033833</td>\n",
       "      <td>до 0,09</td>\n",
       "      <td>СТО</td>\n",
       "      <td>промасливание (O) и заполнение трещин (F)</td>\n",
       "      <td>фацетный вид огранки</td>\n",
       "      <td>3</td>\n",
       "      <td>Г3</td>\n",
       "      <td>65.0</td>\n",
       "    </tr>\n",
       "  </tbody>\n",
       "</table>\n",
       "<p>307 rows × 22 columns</p>\n",
       "</div>"
      ],
      "text/plain": [
       "             Код                                        Вставки_д28  \\\n",
       "0    ЦБ-00019785       1ИзумрудПМ-1,270-НРООв+2/гз 7Кр57-0,100-3/3А   \n",
       "1    ЦБ-00019921       1ИзумрудПМ-0,100-НРОКр+4/Г3 4Кр57-0,040-2/4А   \n",
       "2    ЦБ-00090311  1ИзумрудПМ-0,234-НРОКр+3/Г2 6Кр57-0,148-2/2А 2...   \n",
       "3    ЦБ-00163308      1ИзумрудПМ-0,340-НРООв+3/Г3 12Кр17-0,030-2/2А   \n",
       "4    ЦБ-00163310      1ИзумрудПМ-0,159-НРОКр+3/Г2 12Кр57-0,113-3/4А   \n",
       "..           ...                                                ...   \n",
       "302  ЦБ-00171233          4ИзумрудПМ-0,540-кр+3/Г3 2КР57-0,030-3/4А   \n",
       "303  ЦБ-00171334          2ИзумрудПМ-0,270-м+2/Г2 20КР57-0,240-3/5А   \n",
       "304  ЦБ-00171360          2ИзумрудПМ-0,670-пр+5/Г1 2КР57-0,030-3/3А   \n",
       "305  ЦБ-00177187  2ИзумрудПМ-0,166-НРОКр+3/Г3 6Кр57-0,076-4/5А 6...   \n",
       "306  ЦБ-00181335       6ИзумрудПМ-0,203-НРОКр+3/Г3 6КР57-0,244-3/4А   \n",
       "\n",
       "                                              emeralds  \\\n",
       "0         1изумрудпм-1,270-нроов+2/гз 7кр57-0,100-3/3а   \n",
       "1         1изумрудпм-0,100-нрокр+4/г3 4кр57-0,040-2/4а   \n",
       "2    1изумрудпм-0,234-нрокр+3/г2 6кр57-0,148-2/2а 2...   \n",
       "3        1изумрудпм-0,340-нроов+3/г3 12кр17-0,030-2/2а   \n",
       "4        1изумрудпм-0,159-нрокр+3/г2 12кр57-0,113-3/4а   \n",
       "..                                                 ...   \n",
       "302          4изумрудпм-0,540-кр+3/г3 2кр57-0,030-3/4а   \n",
       "303          2изумрудпм-0,270-м+2/г2 20кр57-0,240-3/5а   \n",
       "304          2изумрудпм-0,670-пр+5/г1 2кр57-0,030-3/3а   \n",
       "305  2изумрудпм-0,166-нрокр+3/г3 6кр57-0,076-4/5а 6...   \n",
       "306       6изумрудпм-0,203-нрокр+3/г3 6кр57-0,244-3/4а   \n",
       "\n",
       "                                     re01                        emerald_list  \\\n",
       "0     [(1, ИзумрудПМ, 1,270, НРООв, 2/г)]   (1, ИзумрудПМ, 1,270, НРООв, 2/г)   \n",
       "1    [(1, ИзумрудПМ, 0,100, НРОКр, 4/Г3)]  (1, ИзумрудПМ, 0,100, НРОКр, 4/Г3)   \n",
       "2    [(1, ИзумрудПМ, 0,234, НРОКр, 3/Г2)]  (1, ИзумрудПМ, 0,234, НРОКр, 3/Г2)   \n",
       "3    [(1, ИзумрудПМ, 0,340, НРООв, 3/Г3)]  (1, ИзумрудПМ, 0,340, НРООв, 3/Г3)   \n",
       "4    [(1, ИзумрудПМ, 0,159, НРОКр, 3/Г2)]  (1, ИзумрудПМ, 0,159, НРОКр, 3/Г2)   \n",
       "..                                    ...                                 ...   \n",
       "302     [(4, ИзумрудПМ, 0,540, кр, 3/Г3)]     (4, ИзумрудПМ, 0,540, кр, 3/Г3)   \n",
       "303      [(2, ИзумрудПМ, 0,270, м, 2/Г2)]      (2, ИзумрудПМ, 0,270, м, 2/Г2)   \n",
       "304     [(2, ИзумрудПМ, 0,670, пр, 5/Г1)]     (2, ИзумрудПМ, 0,670, пр, 5/Г1)   \n",
       "305  [(2, ИзумрудПМ, 0,166, НРОКр, 3/Г3)]  (2, ИзумрудПМ, 0,166, НРОКр, 3/Г3)   \n",
       "306  [(6, ИзумрудПМ, 0,203, НРОКр, 3/Г3)]  (6, ИзумрудПМ, 0,203, НРОКр, 3/Г3)   \n",
       "\n",
       "     len_jem  len_em  PCS        GEM  CARAT  ...  C    Q   CARAT_1  \\\n",
       "0          1       1    1  изумрудпм  1.270  ...  2  NaN  1.270000   \n",
       "1          1       1    1  изумрудпм  0.100  ...  4   Г3  0.100000   \n",
       "2          1       1    1  изумрудпм  0.234  ...  3   Г2  0.234000   \n",
       "3          1       1    1  изумрудпм  0.340  ...  3   Г3  0.340000   \n",
       "4          1       1    1  изумрудпм  0.159  ...  3   Г2  0.159000   \n",
       "..       ...     ...  ...        ...    ...  ... ..  ...       ...   \n",
       "302        1       1    4  изумрудпм  0.540  ...  3   Г3  0.135000   \n",
       "303        1       1    2  изумрудпм  0.270  ...  2   Г2  0.135000   \n",
       "304        1       1    2  изумрудпм  0.670  ...  5   Г1  0.335000   \n",
       "305        1       1    2  изумрудпм  0.166  ...  3   Г3  0.083000   \n",
       "306        1       1    6  изумрудпм  0.203  ...  3   Г3  0.033833   \n",
       "\n",
       "                                        size   ТУ  \\\n",
       "0    error_size_em_sto: q not in dcla_em_sto  NaN   \n",
       "1                                  0,10-0,24  СТО   \n",
       "2                                  0,10-0,24  СТО   \n",
       "3                                  0,25-0,49  СТО   \n",
       "4                                  0,10-0,24  СТО   \n",
       "..                                       ...  ...   \n",
       "302                                0,10-0,24  СТО   \n",
       "303                                0,10-0,24  СТО   \n",
       "304                                0,25-0,49  СТО   \n",
       "305                                  до 0,09  СТО   \n",
       "306                                  до 0,09  СТО   \n",
       "\n",
       "                                     Обработка               Огранка цвет  \\\n",
       "0                                          NaN                   NaN  NaN   \n",
       "1    промасливание (O) и заполнение трещин (F)  фацетный вид огранки    4   \n",
       "2    промасливание (O) и заполнение трещин (F)  фацетный вид огранки    3   \n",
       "3    промасливание (O) и заполнение трещин (F)  фацетный вид огранки    3   \n",
       "4    промасливание (O) и заполнение трещин (F)  фацетный вид огранки    3   \n",
       "..                                         ...                   ...  ...   \n",
       "302  промасливание (O) и заполнение трещин (F)  фацетный вид огранки    3   \n",
       "303  промасливание (O) и заполнение трещин (F)  фацетный вид огранки    2   \n",
       "304  промасливание (O) и заполнение трещин (F)  фацетный вид огранки    5   \n",
       "305  промасливание (O) и заполнение трещин (F)  фацетный вид огранки    3   \n",
       "306  промасливание (O) и заполнение трещин (F)  фацетный вид огранки    3   \n",
       "\n",
       "    чистота  price  \n",
       "0       NaN    NaN  \n",
       "1        Г3   40.0  \n",
       "2        Г2  120.0  \n",
       "3        Г3  110.0  \n",
       "4        Г2  120.0  \n",
       "..      ...    ...  \n",
       "302      Г3  100.0  \n",
       "303      Г2  200.0  \n",
       "304      Г1   30.0  \n",
       "305      Г3   65.0  \n",
       "306      Г3   65.0  \n",
       "\n",
       "[307 rows x 22 columns]"
      ]
     },
     "execution_count": 869,
     "metadata": {},
     "output_type": "execute_result"
    }
   ],
   "source": [
    "pd.merge(left=dfx, right=pr_em_sto,\n",
    "         how='left', \n",
    "         left_on=['size', 'C', 'Q',],\n",
    "         right_on=['size','цвет', 'чистота'])"
   ]
  },
  {
   "cell_type": "code",
   "execution_count": 788,
   "id": "98426a29",
   "metadata": {},
   "outputs": [],
   "source": [
    "_.to_excel('../ЦВДК/пром_рез_изумр_проверка_по.xlsx')"
   ]
  },
  {
   "cell_type": "code",
   "execution_count": null,
   "id": "14a79920",
   "metadata": {},
   "outputs": [],
   "source": []
  },
  {
   "cell_type": "code",
   "execution_count": null,
   "id": "240ae206",
   "metadata": {},
   "outputs": [],
   "source": []
  },
  {
   "cell_type": "code",
   "execution_count": null,
   "id": "99ac9f24",
   "metadata": {},
   "outputs": [],
   "source": []
  },
  {
   "cell_type": "markdown",
   "id": "49c24282",
   "metadata": {},
   "source": [
    "# sapphire разработка re"
   ]
  },
  {
   "cell_type": "code",
   "execution_count": null,
   "id": "f502aee9",
   "metadata": {},
   "outputs": [],
   "source": []
  },
  {
   "cell_type": "code",
   "execution_count": 383,
   "id": "728f116d",
   "metadata": {},
   "outputs": [
    {
     "data": {
      "text/plain": [
       "<module 'module_prgem.price_sap_ruby' from 'C:\\\\Users\\\\diva0\\\\work\\\\KDM2023\\\\gems\\\\ipynb\\\\module_prgem\\\\price_sap_ruby.py'>"
      ]
     },
     "execution_count": 383,
     "metadata": {},
     "output_type": "execute_result"
    }
   ],
   "source": [
    "importlib.reload(price_sap_ruby)"
   ]
  },
  {
   "cell_type": "code",
   "execution_count": 410,
   "id": "ff012b73",
   "metadata": {},
   "outputs": [
    {
     "data": {
      "text/plain": [
       "([['1', 'сапфирпт', '0,603', 'кр', nan, '3', nan],\n",
       "  ['2', 'сапфирпт', '1,205', 'кр', nan, '3', nan],\n",
       "  ['1', 'сапфирпт', '0,603', 'кр', nan, '3', nan],\n",
       "  ['2', 'сапфирпт', '1,205', 'кр', nan, '3', nan]],\n",
       " 'bylens:error:4!=7;C:error:4в 4в 4в 4в;Q:ok;PCS:ok;GEM:ok;')"
      ]
     },
     "execution_count": 410,
     "metadata": {},
     "output_type": "execute_result"
    }
   ],
   "source": [
    "price_sap_ruby.make_list_sap(ts3)"
   ]
  },
  {
   "cell_type": "code",
   "execution_count": 115,
   "id": "e76949e3",
   "metadata": {},
   "outputs": [
    {
     "data": {
      "text/html": [
       "<div>\n",
       "<style scoped>\n",
       "    .dataframe tbody tr th:only-of-type {\n",
       "        vertical-align: middle;\n",
       "    }\n",
       "\n",
       "    .dataframe tbody tr th {\n",
       "        vertical-align: top;\n",
       "    }\n",
       "\n",
       "    .dataframe thead th {\n",
       "        text-align: right;\n",
       "    }\n",
       "</style>\n",
       "<table border=\"1\" class=\"dataframe\">\n",
       "  <thead>\n",
       "    <tr style=\"text-align: right;\">\n",
       "      <th></th>\n",
       "      <th>size</th>\n",
       "      <th>size_list</th>\n",
       "      <th>low_grade</th>\n",
       "      <th>hi_grade</th>\n",
       "    </tr>\n",
       "  </thead>\n",
       "  <tbody>\n",
       "    <tr>\n",
       "      <th>0</th>\n",
       "      <td>До 0,09</td>\n",
       "      <td>['До 0,09']</td>\n",
       "      <td>0.00</td>\n",
       "      <td>0.09</td>\n",
       "    </tr>\n",
       "    <tr>\n",
       "      <th>1</th>\n",
       "      <td>0,10-0,24</td>\n",
       "      <td>['0,10', '0,24']</td>\n",
       "      <td>0.10</td>\n",
       "      <td>0.24</td>\n",
       "    </tr>\n",
       "    <tr>\n",
       "      <th>2</th>\n",
       "      <td>0,25-0,49</td>\n",
       "      <td>['0,25', '0,49']</td>\n",
       "      <td>0.25</td>\n",
       "      <td>0.49</td>\n",
       "    </tr>\n",
       "    <tr>\n",
       "      <th>3</th>\n",
       "      <td>0,50-0,99</td>\n",
       "      <td>['0,50', '0,99']</td>\n",
       "      <td>0.50</td>\n",
       "      <td>0.99</td>\n",
       "    </tr>\n",
       "    <tr>\n",
       "      <th>4</th>\n",
       "      <td>1,00-1,99</td>\n",
       "      <td>['1,00', '1,99']</td>\n",
       "      <td>1.00</td>\n",
       "      <td>1.99</td>\n",
       "    </tr>\n",
       "    <tr>\n",
       "      <th>5</th>\n",
       "      <td>2,00-2,99</td>\n",
       "      <td>['2,00', '2,99']</td>\n",
       "      <td>2.00</td>\n",
       "      <td>2.99</td>\n",
       "    </tr>\n",
       "    <tr>\n",
       "      <th>6</th>\n",
       "      <td>3,00-3,99</td>\n",
       "      <td>['3,00', '3,99']</td>\n",
       "      <td>3.00</td>\n",
       "      <td>3.99</td>\n",
       "    </tr>\n",
       "    <tr>\n",
       "      <th>7</th>\n",
       "      <td>4,00-4,99</td>\n",
       "      <td>['4,00', '4,99']</td>\n",
       "      <td>4.00</td>\n",
       "      <td>4.99</td>\n",
       "    </tr>\n",
       "  </tbody>\n",
       "</table>\n",
       "</div>"
      ],
      "text/plain": [
       "        size         size_list  low_grade  hi_grade\n",
       "0    До 0,09       ['До 0,09']       0.00      0.09\n",
       "1  0,10-0,24  ['0,10', '0,24']       0.10      0.24\n",
       "2  0,25-0,49  ['0,25', '0,49']       0.25      0.49\n",
       "3  0,50-0,99  ['0,50', '0,99']       0.50      0.99\n",
       "4  1,00-1,99  ['1,00', '1,99']       1.00      1.99\n",
       "5  2,00-2,99  ['2,00', '2,99']       2.00      2.99\n",
       "6  3,00-3,99  ['3,00', '3,99']       3.00      3.99\n",
       "7  4,00-4,99  ['4,00', '4,99']       4.00      4.99"
      ]
     },
     "execution_count": 115,
     "metadata": {},
     "output_type": "execute_result"
    }
   ],
   "source": [
    "df_sizes_sap_ruby"
   ]
  },
  {
   "cell_type": "code",
   "execution_count": 49,
   "id": "7120b677",
   "metadata": {},
   "outputs": [
    {
     "data": {
      "text/plain": [
       "'До 0,09'"
      ]
     },
     "execution_count": 49,
     "metadata": {},
     "output_type": "execute_result"
    }
   ],
   "source": [
    "price_sap_ruby2.size_sap_ruby(0.01)"
   ]
  },
  {
   "cell_type": "code",
   "execution_count": 51,
   "id": "77f36de7",
   "metadata": {},
   "outputs": [
    {
     "data": {
      "text/plain": [
       "'0,50-0,99'"
      ]
     },
     "execution_count": 51,
     "metadata": {},
     "output_type": "execute_result"
    }
   ],
   "source": [
    "price_sap_ruby2.size_sap_ruby(0.7)"
   ]
  },
  {
   "cell_type": "code",
   "execution_count": 118,
   "id": "6eae3abd",
   "metadata": {},
   "outputs": [],
   "source": [
    "df_pr_sapruby = pd.read_excel('module_prgem/df_pr_sap_ruby_ 64_65_13-02-2020.xlsx',\n",
    "                          dtype={'цвет':'str', 'чистота':'str'})\n"
   ]
  },
  {
   "cell_type": "code",
   "execution_count": 119,
   "id": "7410b25e",
   "metadata": {},
   "outputs": [
    {
     "data": {
      "text/html": [
       "<div>\n",
       "<style scoped>\n",
       "    .dataframe tbody tr th:only-of-type {\n",
       "        vertical-align: middle;\n",
       "    }\n",
       "\n",
       "    .dataframe tbody tr th {\n",
       "        vertical-align: top;\n",
       "    }\n",
       "\n",
       "    .dataframe thead th {\n",
       "        text-align: right;\n",
       "    }\n",
       "</style>\n",
       "<table border=\"1\" class=\"dataframe\">\n",
       "  <thead>\n",
       "    <tr style=\"text-align: right;\">\n",
       "      <th></th>\n",
       "      <th>цвет</th>\n",
       "      <th>чистота</th>\n",
       "      <th>size</th>\n",
       "      <th>price</th>\n",
       "      <th>Обработка</th>\n",
       "      <th>ТУ</th>\n",
       "      <th>gemstone</th>\n",
       "      <th>Огранка</th>\n",
       "    </tr>\n",
       "  </thead>\n",
       "  <tbody>\n",
       "    <tr>\n",
       "      <th>0</th>\n",
       "      <td>1</td>\n",
       "      <td>1</td>\n",
       "      <td>До 0,09</td>\n",
       "      <td>180</td>\n",
       "      <td>термо</td>\n",
       "      <td>СТО 45866412-06-2008</td>\n",
       "      <td>РубинПТ</td>\n",
       "      <td>фацетный вид огранки</td>\n",
       "    </tr>\n",
       "    <tr>\n",
       "      <th>1</th>\n",
       "      <td>1</td>\n",
       "      <td>2</td>\n",
       "      <td>До 0,09</td>\n",
       "      <td>170</td>\n",
       "      <td>термо</td>\n",
       "      <td>СТО 45866412-06-2008</td>\n",
       "      <td>РубинПТ</td>\n",
       "      <td>фацетный вид огранки</td>\n",
       "    </tr>\n",
       "    <tr>\n",
       "      <th>2</th>\n",
       "      <td>1</td>\n",
       "      <td>3</td>\n",
       "      <td>До 0,09</td>\n",
       "      <td>160</td>\n",
       "      <td>термо</td>\n",
       "      <td>СТО 45866412-06-2008</td>\n",
       "      <td>РубинПТ</td>\n",
       "      <td>фацетный вид огранки</td>\n",
       "    </tr>\n",
       "    <tr>\n",
       "      <th>3</th>\n",
       "      <td>1</td>\n",
       "      <td>4</td>\n",
       "      <td>До 0,09</td>\n",
       "      <td>90</td>\n",
       "      <td>термо</td>\n",
       "      <td>СТО 45866412-06-2008</td>\n",
       "      <td>РубинПТ</td>\n",
       "      <td>фацетный вид огранки</td>\n",
       "    </tr>\n",
       "    <tr>\n",
       "      <th>4</th>\n",
       "      <td>1</td>\n",
       "      <td>5</td>\n",
       "      <td>До 0,09</td>\n",
       "      <td>85</td>\n",
       "      <td>термо</td>\n",
       "      <td>СТО 45866412-06-2008</td>\n",
       "      <td>РубинПТ</td>\n",
       "      <td>фацетный вид огранки</td>\n",
       "    </tr>\n",
       "    <tr>\n",
       "      <th>...</th>\n",
       "      <td>...</td>\n",
       "      <td>...</td>\n",
       "      <td>...</td>\n",
       "      <td>...</td>\n",
       "      <td>...</td>\n",
       "      <td>...</td>\n",
       "      <td>...</td>\n",
       "      <td>...</td>\n",
       "    </tr>\n",
       "    <tr>\n",
       "      <th>795</th>\n",
       "      <td>5</td>\n",
       "      <td>1</td>\n",
       "      <td>4,00-4,99</td>\n",
       "      <td>1400</td>\n",
       "      <td>необр</td>\n",
       "      <td>СТО 45866412-05-2008</td>\n",
       "      <td>СапфирН</td>\n",
       "      <td>фацетный вид огранки</td>\n",
       "    </tr>\n",
       "    <tr>\n",
       "      <th>796</th>\n",
       "      <td>5</td>\n",
       "      <td>2</td>\n",
       "      <td>4,00-4,99</td>\n",
       "      <td>1200</td>\n",
       "      <td>необр</td>\n",
       "      <td>СТО 45866412-05-2008</td>\n",
       "      <td>СапфирН</td>\n",
       "      <td>фацетный вид огранки</td>\n",
       "    </tr>\n",
       "    <tr>\n",
       "      <th>797</th>\n",
       "      <td>5</td>\n",
       "      <td>3</td>\n",
       "      <td>4,00-4,99</td>\n",
       "      <td>1000</td>\n",
       "      <td>необр</td>\n",
       "      <td>СТО 45866412-05-2008</td>\n",
       "      <td>СапфирН</td>\n",
       "      <td>фацетный вид огранки</td>\n",
       "    </tr>\n",
       "    <tr>\n",
       "      <th>798</th>\n",
       "      <td>5</td>\n",
       "      <td>4</td>\n",
       "      <td>4,00-4,99</td>\n",
       "      <td>700</td>\n",
       "      <td>необр</td>\n",
       "      <td>СТО 45866412-05-2008</td>\n",
       "      <td>СапфирН</td>\n",
       "      <td>фацетный вид огранки</td>\n",
       "    </tr>\n",
       "    <tr>\n",
       "      <th>799</th>\n",
       "      <td>5</td>\n",
       "      <td>5</td>\n",
       "      <td>4,00-4,99</td>\n",
       "      <td>550</td>\n",
       "      <td>необр</td>\n",
       "      <td>СТО 45866412-05-2008</td>\n",
       "      <td>СапфирН</td>\n",
       "      <td>фацетный вид огранки</td>\n",
       "    </tr>\n",
       "  </tbody>\n",
       "</table>\n",
       "<p>800 rows × 8 columns</p>\n",
       "</div>"
      ],
      "text/plain": [
       "    цвет чистота       size  price Обработка                    ТУ gemstone  \\\n",
       "0      1       1    До 0,09    180     термо  СТО 45866412-06-2008  РубинПТ   \n",
       "1      1       2    До 0,09    170     термо  СТО 45866412-06-2008  РубинПТ   \n",
       "2      1       3    До 0,09    160     термо  СТО 45866412-06-2008  РубинПТ   \n",
       "3      1       4    До 0,09     90     термо  СТО 45866412-06-2008  РубинПТ   \n",
       "4      1       5    До 0,09     85     термо  СТО 45866412-06-2008  РубинПТ   \n",
       "..   ...     ...        ...    ...       ...                   ...      ...   \n",
       "795    5       1  4,00-4,99   1400     необр  СТО 45866412-05-2008  СапфирН   \n",
       "796    5       2  4,00-4,99   1200     необр  СТО 45866412-05-2008  СапфирН   \n",
       "797    5       3  4,00-4,99   1000     необр  СТО 45866412-05-2008  СапфирН   \n",
       "798    5       4  4,00-4,99    700     необр  СТО 45866412-05-2008  СапфирН   \n",
       "799    5       5  4,00-4,99    550     необр  СТО 45866412-05-2008  СапфирН   \n",
       "\n",
       "                  Огранка  \n",
       "0    фацетный вид огранки  \n",
       "1    фацетный вид огранки  \n",
       "2    фацетный вид огранки  \n",
       "3    фацетный вид огранки  \n",
       "4    фацетный вид огранки  \n",
       "..                    ...  \n",
       "795  фацетный вид огранки  \n",
       "796  фацетный вид огранки  \n",
       "797  фацетный вид огранки  \n",
       "798  фацетный вид огранки  \n",
       "799  фацетный вид огранки  \n",
       "\n",
       "[800 rows x 8 columns]"
      ]
     },
     "execution_count": 119,
     "metadata": {},
     "output_type": "execute_result"
    }
   ],
   "source": [
    "df_pr_sapruby"
   ]
  },
  {
   "cell_type": "code",
   "execution_count": 120,
   "id": "16c50b57",
   "metadata": {},
   "outputs": [
    {
     "data": {
      "text/plain": [
       "array(['РубинПТ', 'РубинН', 'СапфирПТ', 'СапфирН'], dtype=object)"
      ]
     },
     "execution_count": 120,
     "metadata": {},
     "output_type": "execute_result"
    }
   ],
   "source": [
    "df_pr_sapruby.gemstone.unique()"
   ]
  },
  {
   "cell_type": "code",
   "execution_count": null,
   "id": "2327b293",
   "metadata": {},
   "outputs": [],
   "source": []
  },
  {
   "cell_type": "markdown",
   "id": "c00b2b71",
   "metadata": {},
   "source": [
    "## разработка массовая re"
   ]
  },
  {
   "cell_type": "code",
   "execution_count": 386,
   "id": "516970de",
   "metadata": {},
   "outputs": [
    {
     "name": "stdout",
     "output_type": "stream",
     "text": [
      "<class 'pandas.core.frame.DataFrame'>\n",
      "RangeIndex: 34509 entries, 0 to 34508\n",
      "Data columns (total 9 columns):\n",
      " #   Column             Non-Null Count  Dtype \n",
      "---  ------             --------------  ----- \n",
      " 0   Код                34509 non-null  object\n",
      " 1   vst                34509 non-null  object\n",
      " 2   sapphire_list_p2   34509 non-null  object\n",
      " 3   sapphire_list_p3_  34509 non-null  object\n",
      " 4   jsapphire_list     34509 non-null  object\n",
      " 5   len_sap2           34509 non-null  int64 \n",
      " 6   len_jsap           34509 non-null  int64 \n",
      " 7   vst2listsap        34509 non-null  object\n",
      " 8   len_vst2list       34509 non-null  int64 \n",
      "dtypes: int64(3), object(6)\n",
      "memory usage: 2.4+ MB\n"
     ]
    }
   ],
   "source": [
    "df_test.info()"
   ]
  },
  {
   "cell_type": "code",
   "execution_count": 122,
   "id": "350a233c",
   "metadata": {},
   "outputs": [],
   "source": [
    "#11-11-2023-20-40\n",
    "pattern_sap =  r\"\"\"(?ix)(?P<N>\\d{,3})# штуки \n",
    "               (?P<Gem>сапфир[A-яA-z.]{1,5})[-]+#gem\n",
    "               (?P<Carat>\\d\\d?[.,]?\\d*)[\\s-]+                                 # карат\n",
    "               (?P<Form>[A-яA-z.\\d-]{1,10})[+]+#[+\\s-]+ \n",
    "               (?P<ColQ>\\d+[ /]+(?:\\d*[ГгКкKk]*\\d*))\"\"\"\n",
    "               "
   ]
  },
  {
   "cell_type": "code",
   "execution_count": 123,
   "id": "d7141dec",
   "metadata": {},
   "outputs": [],
   "source": [
    "#в разработке с *цвет\n",
    "pattern_sap2 =  r\"\"\"(?ix)(?P<N>\\d{,3})# штуки \n",
    "               (?P<Gem>сапфир[A-яA-z.]{1,5})[-]+#gem\n",
    "               (?P<Carat>\\d\\d?[.,]?\\d*)[\\s-]+                                 # карат\n",
    "               (?P<Form>[A-яA-z.\\d-]{1,10})[+]+#[+\\s-]+ \n",
    "               (?P<ColQ>\\d+[ /]+(?:\\d*[ГгКкKk]*\\d*)[*]*[A-яA-z]*)\"\"\"\n",
    "               \n",
    "    \n",
    "    \n",
    "pattern_sap2_ =  r\"\"\"(?ix)(?P<N>\\d{,3})# штуки \n",
    "               (?P<Gem>сапфир[A-яA-z.]{1,5})[-]+#gem\n",
    "               (?P<Carat>\\d\\d?[.,]?\\d*)[\\s-]+                                 # карат\n",
    "               (?P<Form>[A-яA-z.\\d-]{1,10})[+]+#[+\\s-]+ \n",
    "               (?P<ColQ>\\d+[ /]+(?:\\d*[ГгКкKk]*\\d*)[*]*[A-яA-z]*)\"\"\"    "
   ]
  },
  {
   "cell_type": "code",
   "execution_count": 111,
   "id": "27f80222",
   "metadata": {},
   "outputs": [],
   "source": [
    "#в разработке с *цвет\n",
    "pattern_sap3 =  r\"\"\"(?ix)(?P<N>\\d{,3})# штуки \n",
    "               (?P<Gem>сапфир[A-яA-z.]{1,5})[-]+  #gem\n",
    "               (?P<Carat>\\d\\d?[.,]?\\d*)[\\s-]+                                 # карат\n",
    "               (?P<Form>[A-яA-z.\\d-]{1,10})[+]+  #[+\\s-]+ \n",
    "               (?P<ColQ>[A-яA-z]*\\d*[A-яA-z]*[ /]+(?:[A-яA-z]*\\d*[ГгКкKk]*\\d*)[*]*[A-яA-z]*)\"\"\"\n",
    "pattern_sap3_ =  r\"\"\"(?ix)(?P<N>\\d{,3})# штуки \n",
    "               (?P<Gem>сапфир[A-яA-z.]{1,5})[-]+  #gem\n",
    "               (?P<Carat>\\d\\d?[.,]?\\d*)[\\s-]+                                 # карат\n",
    "               (?P<Form>[A-яA-z.\\d-]{1,10})[+]+  #[+\\s-]+ \n",
    "               (?P<ColQ>[A-яA-z]*\\d*[A-яA-z]*[ /]+(?:[A-яA-z]*\\d*[A-яA-z]*\\d*)[*]*[A-яA-z]*)\"\"\"\n",
    "                              "
   ]
  },
  {
   "cell_type": "code",
   "execution_count": 241,
   "id": "d790beda",
   "metadata": {},
   "outputs": [],
   "source": [
    "#последний рабочий pattern_sap3_\n",
    "pattern_sap =  r\"\"\"(?ix)(?P<N>\\d{,3})# штуки \n",
    "               (?P<Gem>сапфир[A-яA-z.]{0,5})[-]+  #gem\n",
    "               (?P<Carat>\\d\\d?[.,]?\\d*)[\\s-]+                                 # карат\n",
    "               (?P<Form>[A-яA-z.\\d-]{1,10})[+]+  #[+\\s-]+ \n",
    "               (?P<ColQ>[A-яA-z]*\\d*[A-яA-z]*[ /]+(?:[A-яA-z]*\\d*[A-яA-z]*\\d*)[*]*[A-яA-z]*)\"\"\"\n",
    "                              "
   ]
  },
  {
   "cell_type": "code",
   "execution_count": null,
   "id": "4bee502b",
   "metadata": {},
   "outputs": [],
   "source": []
  },
  {
   "cell_type": "code",
   "execution_count": 125,
   "id": "5e3901da",
   "metadata": {},
   "outputs": [],
   "source": [
    "# чисто для сапфирП и Н\n",
    "pattern_jsap = r\"\"\"(?ix)(?P<Gem>сапфир[пПнНhH][^вВbB])+#gem\"\"\""
   ]
  },
  {
   "cell_type": "code",
   "execution_count": 126,
   "id": "4da0fc30",
   "metadata": {},
   "outputs": [],
   "source": [
    "ts3='''\n",
    "хорошие\n",
    "3ИзумрудПМ-0,160-НРОКр+3/Г2 \n",
    "3РубинПТ-0,210-Кр+2/2 \n",
    "3Сапфирв-0,220-Кр+2/2*Желтый 3СапфирПТ-0,230-Кр+2/2*Розовый\n",
    "3СапфирПТ-0,220-Кр+2/2*Оранжевый 13КР57-0,140-3/5А 9КР57-0,550-3/3А'\n",
    "\n",
    "выращенные\n",
    "1СапфирВТ-0,603-КР+4/3 2КР57-0,008-3/6А\n",
    "Сапфир'\n",
    "1СапфирВТ-0,603-КР+4/3d 2КР57-0,008-3/6А\n",
    "1СапфирВТ-0,603-КР+4/d3d 2КР57-0,008-3/6А\n",
    "1СапфирddВТ-0,603-КР+4/ 2КР57-0,008-3/6А\n",
    "1СапфирddВТ-0,603-КР+d/v  2КР57-0,008-3/6А\n",
    "плохие\n",
    "46КР57-0,202-2/4А 67СапфирПТ-КР-0,332+2/2\n",
    "1СапфирВТ-0,603-КР+f4/3 2КР57-0,008-3/6А\n",
    "2СапфирПТ-1,205-КР+4в/3 2КР57-0,008-3/6А\n",
    "1СапфирПТ-КР-0,093+2/3\n",
    "1СапфирПТ-0,603- кр+4в/3 2КР57-0,008-3/6А\n",
    "2СапфирПТ-1,205-кр+4в/3 2КР57-0,008-3/6А\n",
    "6СапфирПТ-0,074+Кр+2/2 1КР57-0,006-3/4А 5КР57-0,023-3/3А\n",
    "'''"
   ]
  },
  {
   "cell_type": "code",
   "execution_count": 127,
   "id": "094f4378",
   "metadata": {},
   "outputs": [],
   "source": [
    "#почему не поймали\n",
    "ts_prob = '''1СапфирПТ-КР-0,093+2/3\n",
    "46КР57-0,202-2/4А 67СапфирПТ-КР-0,332+2/2\n",
    "6СапфирПТ-0,074+Кр+2/2 1КР57-0,006-3/4А 5КР57-0,023-3/3А\n",
    "6СапфирПТ-0,074-Кр+2/2 \n",
    "'''"
   ]
  },
  {
   "cell_type": "code",
   "execution_count": 128,
   "id": "97adb915",
   "metadata": {},
   "outputs": [
    {
     "data": {
      "text/plain": [
       "[('6', 'СапфирПТ', '0,074', 'Кр', '2/2')]"
      ]
     },
     "execution_count": 128,
     "metadata": {},
     "output_type": "execute_result"
    }
   ],
   "source": [
    "re.findall(pattern_sap3, ts_prob)"
   ]
  },
  {
   "cell_type": "code",
   "execution_count": 129,
   "id": "628d2030",
   "metadata": {},
   "outputs": [
    {
     "data": {
      "text/plain": [
       "'bylens:error:12!=8;C:error;Q:error;PCS:ok;GEM:error;'"
      ]
     },
     "execution_count": 129,
     "metadata": {},
     "output_type": "execute_result"
    }
   ],
   "source": [
    "price_sap_ruby.make_list_sap(ts3, flagreport=True)"
   ]
  },
  {
   "cell_type": "code",
   "execution_count": 130,
   "id": "c1df5be0",
   "metadata": {},
   "outputs": [
    {
     "data": {
      "text/plain": [
       "['СапфирПТ',\n",
       " 'СапфирПТ',\n",
       " 'СапфирПТ',\n",
       " 'СапфирПТ',\n",
       " 'СапфирПТ',\n",
       " 'СапфирПТ',\n",
       " 'СапфирПТ',\n",
       " 'СапфирПТ']"
      ]
     },
     "execution_count": 130,
     "metadata": {},
     "output_type": "execute_result"
    }
   ],
   "source": [
    "#проверка\n",
    "re.findall(pattern_jsap, ts3)"
   ]
  },
  {
   "cell_type": "code",
   "execution_count": 132,
   "id": "286fdef0",
   "metadata": {},
   "outputs": [
    {
     "data": {
      "text/plain": [
       "[('3', 'Сапфирв', '0,220', 'Кр', '2/2*Желтый'),\n",
       " ('3', 'СапфирПТ', '0,230', 'Кр', '2/2*Розовый'),\n",
       " ('3', 'СапфирПТ', '0,220', 'Кр', '2/2*Оранжевый'),\n",
       " ('1', 'СапфирВТ', '0,603', 'КР', '4/3'),\n",
       " ('1', 'СапфирВТ', '0,603', 'КР', '4/3d'),\n",
       " ('1', 'СапфирВТ', '0,603', 'КР', '4/d3d'),\n",
       " ('1', 'СапфирddВТ', '0,603', 'КР', '4/ 2КР57'),\n",
       " ('1', 'СапфирddВТ', '0,603', 'КР', 'd/v'),\n",
       " ('1', 'СапфирВТ', '0,603', 'КР', 'f4/3'),\n",
       " ('2', 'СапфирПТ', '1,205', 'КР', '4в/3'),\n",
       " ('1', 'СапфирПТ', '0,603', 'кр', '4в/3'),\n",
       " ('2', 'СапфирПТ', '1,205', 'кр', '4в/3')]"
      ]
     },
     "execution_count": 132,
     "metadata": {},
     "output_type": "execute_result"
    }
   ],
   "source": [
    "price_sap_ruby.make_list_sap(ts3)"
   ]
  },
  {
   "cell_type": "code",
   "execution_count": 133,
   "id": "8a0c6a1a",
   "metadata": {},
   "outputs": [
    {
     "data": {
      "text/plain": [
       "[('3', 'Сапфирв', '0,220', 'Кр', '2/2*Желтый'),\n",
       " ('3', 'СапфирПТ', '0,230', 'Кр', '2/2*Розовый'),\n",
       " ('3', 'СапфирПТ', '0,220', 'Кр', '2/2*Оранжевый'),\n",
       " ('1', 'СапфирВТ', '0,603', 'КР', '4/3'),\n",
       " ('1', 'СапфирВТ', '0,603', 'КР', '4/3d'),\n",
       " ('1', 'СапфирВТ', '0,603', 'КР', '4/d3d'),\n",
       " ('1', 'СапфирddВТ', '0,603', 'КР', '4/ 2КР'),\n",
       " ('1', 'СапфирddВТ', '0,603', 'КР', 'd/v'),\n",
       " ('1', 'СапфирВТ', '0,603', 'КР', 'f4/3'),\n",
       " ('2', 'СапфирПТ', '1,205', 'КР', '4в/3'),\n",
       " ('1', 'СапфирПТ', '0,603', 'кр', '4в/3'),\n",
       " ('2', 'СапфирПТ', '1,205', 'кр', '4в/3')]"
      ]
     },
     "execution_count": 133,
     "metadata": {},
     "output_type": "execute_result"
    }
   ],
   "source": [
    "re.findall(pattern_sap3, ts3)"
   ]
  },
  {
   "cell_type": "code",
   "execution_count": null,
   "id": "f90986e8",
   "metadata": {},
   "outputs": [],
   "source": []
  },
  {
   "cell_type": "code",
   "execution_count": 134,
   "id": "a41dd0f8",
   "metadata": {},
   "outputs": [
    {
     "data": {
      "text/plain": [
       "[('3', 'СапфирПТ', '0,220', 'Кр', '2/2*Желтый'),\n",
       " ('3', 'СапфирПТ', '0,230', 'Кр', '2/2*Розовый'),\n",
       " ('3', 'СапфирПТ', '0,220', 'Кр', '2/2*Оранжевый')]"
      ]
     },
     "execution_count": 134,
     "metadata": {},
     "output_type": "execute_result"
    }
   ],
   "source": [
    "re.findall(pattern_sap, '3ИзумрудПМ-0,160-НРОКр+3/Г2 3РубинПТ-0,210-Кр+2/2 3СапфирПТ-0,220-Кр+2/2*Желтый 3СапфирПТ-0,230-Кр+2/2*Розовый 3СапфирПТ-0,220-Кр+2/2*Оранжевый 13КР57-0,140-3/5А 9КР57-0,550-3/3А')"
   ]
  },
  {
   "cell_type": "code",
   "execution_count": 135,
   "id": "ea6b4a9f",
   "metadata": {},
   "outputs": [
    {
     "data": {
      "text/plain": [
       "[('3', 'СапфирПТ', '0,220', 'Кр', '2/2*Желтый'),\n",
       " ('3', 'СапфирПТ', '0,230', 'Кр', '2/2*Розовый'),\n",
       " ('3', 'СапфирПТ', '0,220', 'Кр', '2/2*Оранжевый')]"
      ]
     },
     "execution_count": 135,
     "metadata": {},
     "output_type": "execute_result"
    }
   ],
   "source": [
    "re.findall(pattern_sap2,'3ИзумрудПМ-0,160-НРОКр+3/Г2 3РубинПТ-0,210-Кр+2/2 3СапфирПТ-0,220-Кр+2/2*Желтый 3СапфирПТ-0,230-Кр+2/2*Розовый 3СапфирПТ-0,220-Кр+2/2*Оранжевый 13КР57-0,140-3/5А 9КР57-0,550-3/3А')"
   ]
  },
  {
   "cell_type": "code",
   "execution_count": null,
   "id": "0e8a1ab2",
   "metadata": {},
   "outputs": [],
   "source": []
  },
  {
   "cell_type": "code",
   "execution_count": 136,
   "id": "41975591",
   "metadata": {},
   "outputs": [],
   "source": [
    "# ошибки не распознаны\n",
    "ts3='''\n",
    "46КР57-0,202-2/4А 67СапфирПТ-КР-0,332+2/2\n",
    "1СапфирПТ-0,603-КР+4в/3 2КР57-0,008-3/6А\n",
    "2СапфирПТ-1,205-КР+4в/3 2КР57-0,008-3/6А\n",
    "1СапфирПТ-КР-0,093+2/3\n",
    "1СапфирПТ-0,603- кр+4в/3 2КР57-0,008-3/6А\n",
    "2СапфирПТ-1,205-кр+4в/3 2КР57-0,008-3/6А\n",
    "6СапфирПТ-0,074+Кр+2/2 1КР57-0,006-3/4А 5КР57-0,023-3/3А\n",
    "'''"
   ]
  },
  {
   "cell_type": "code",
   "execution_count": 150,
   "id": "ceccfa72",
   "metadata": {},
   "outputs": [],
   "source": [
    "df_test['sapphire_list_p2'] = df_test['vst'].apply(lambda x: re.findall(pattern_sap2, x))"
   ]
  },
  {
   "cell_type": "code",
   "execution_count": 151,
   "id": "40ee57dd",
   "metadata": {},
   "outputs": [
    {
     "data": {
      "text/plain": [
       "[('1', 'сапфирПТ', '0,450', 'КВ', '2/2'),\n",
       " ('1', 'сапфирПТ', '0,211', 'ОВ', '3/2'),\n",
       " ('12', 'сапфирПТ', '0,170', 'КР', '2/3'),\n",
       " ('2', 'СапфирПТ', '0,170', 'кр', '2/2'),\n",
       " ('2', 'СапфирПТ', '0,198', 'кр', '2/3'),\n",
       " ('1', 'СапфирПТ', '0,058', 'кв', '2/2'),\n",
       " ('2', 'СапфирПТ', '0,168', 'кр', '2/3'),\n",
       " ('1', 'СапфирПТ', '0,060', 'кв', '2/2'),\n",
       " ('1', 'СапфирПТ', '0,058', 'кв', '2/2'),\n",
       " ('9', 'СапфирПТ', '0,052', 'кр', '2/3А'),\n",
       " ('9', 'СапфирПТ', '0,052', 'кр', '2/3'),\n",
       " ('1', 'СапфирПТ', '0,058', 'кв', '2/2'),\n",
       " ('2', 'СапфирПТ', '0,320', 'кр', '2/2'),\n",
       " ('4', 'СапфирПТ', '0,280', 'КВ', '2/3*синий'),\n",
       " ('4', 'СапфирПТ', '0,640', 'кр', '2/2'),\n",
       " ('5', 'СапфирПТ', '5,020', 'КР', '3/2'),\n",
       " ('2', 'СапфирПТ', '0,320', 'КР', '2/2'),\n",
       " ('1', 'СапфирПТ', '0,0585', 'КР', '2/2'),\n",
       " ('2', 'СапфирПТ', '0,410', 'ПР', '2/2'),\n",
       " ('2', 'СапфирПТ', '0,270', 'КР', '2/2'),\n",
       " ('6', 'СапфирПТ', '1,290', 'ОВ', '2/3'),\n",
       " ('1', 'СапфирПТ', '0,580', 'ОВ', '2/2'),\n",
       " ('14', 'СапфирПТ', '0,100', 'КР', '2/3'),\n",
       " ('2', 'СапфирПТ', '0,400', 'ОВ', '2/2'),\n",
       " ('4', 'СапфирПТ', '0,455', 'ПР', '2/2'),\n",
       " ('2', 'СапфирПТ', '0,120', 'КР', '2/2'),\n",
       " ('7', 'СапфирПТ', '0,770', 'М', '2/2'),\n",
       " ('1', 'СапфирПТ', '0,630', 'ОВ', '2/2'),\n",
       " ('1', 'СапфирПТ', '0,080', 'Кр', '2/2*Желтый'),\n",
       " ('1', 'сапфирПТ', '0,150', 'кр57', '1/2'),\n",
       " ('2', 'сапфирПТ', '0,165', 'кр', '2/2'),\n",
       " ('1', 'сапфирПТ', '0,125', 'кр', '2/3'),\n",
       " ('1', 'сапфирПТ', '0,140', 'кр', '2/2'),\n",
       " ('1', 'сапфирПТ', '0,300', 'Кр', '2/2'),\n",
       " ('1', 'сапфирПТ', '0,320', 'кр', '2/3'),\n",
       " ('1', 'сапфирПТ', '0,305', 'кр', '2/3'),\n",
       " ('1', 'сапфирПТ', '0,543', 'кр', '3/2'),\n",
       " ('1', 'сапфирПТ', '0,355', 'кр', '3/2'),\n",
       " ('1', 'сапфирПТ', '0,303', 'кр', '2/2'),\n",
       " ('1', 'сапфирПТ', '0,240', 'кр', '2/3'),\n",
       " ('2', 'сапфирПТ', '0,330', 'Кр', '3/3'),\n",
       " ('6', 'сапфирПТ', '0,2565', 'кр', '2/3'),\n",
       " ('1', 'сапфирПТ', '0,170', 'кр', '3/3'),\n",
       " ('1', 'сапфирПТ', '0,310', 'ГР', '2/2'),\n",
       " ('1', 'сапфирПТ', '0,640', 'С', '1/1'),\n",
       " ('2', 'СапфирПТ', '1,097', 'КР', '2/2'),\n",
       " ('1', 'СапфирПТ', '0,130', 'КР', '2/3'),\n",
       " ('8', 'СапфирПТ', '1,372', 'М', '3/3'),\n",
       " ('6', 'СапфирПТ', '0,110', 'КР', '2/2*Синий'),\n",
       " ('5', 'СапфирПТ', '0,100', 'КР', '2/2*Желтый'),\n",
       " ('2', 'СапфирПТ', '0,168', 'кр', '2/3'),\n",
       " ('2', 'СапфирПТ', '0,168', 'кр', '2/3'),\n",
       " ('2', 'СапфирПТ', '0,168', 'кр', '2/3'),\n",
       " ('1', 'СапфирПТ', '0,075', 'кв', '2/3'),\n",
       " ('12', 'СапфирПТ', '0,240', 'кр', '2/2'),\n",
       " ('1', 'СапфирПТ', '0,058', 'кв', '2/2'),\n",
       " ('2', 'СапфирПТ', '0,320', 'кр', '2/2'),\n",
       " ('46', 'СапфирПТ', '0,228', 'кр', '2/2'),\n",
       " ('2', 'СапфирПТ', '0,040', 'КР', '2/3'),\n",
       " ('12', 'СапфирПТ', '0,195', 'КР', '3/2'),\n",
       " ('1', 'СапфирПТ', '0,370', 'кр', '2/3'),\n",
       " ('20', 'СапфирПТ', '0,160', 'кр', '2/3'),\n",
       " ('2', 'СапфирПТ', '0,705', 'кр', '2/2*желтый'),\n",
       " ('2', 'СапфирПТ', '0,680', 'кр', '2/2*желтый'),\n",
       " ('4', 'СапфирПТ', '0,640', 'кр', '2/2'),\n",
       " ('20', 'СапфирПТ', '0,100', 'кр', '2/2'),\n",
       " ('2', 'сапфирПТ', '0,058', 'КВ', '2/2'),\n",
       " ('1', 'СапфирПТ', '0,104', 'Кр', '2/2*Желтый'),\n",
       " ('1', 'СапфирПТ', '0,058', 'Кв', '2/2'),\n",
       " ('2', 'сапфирПТ', '0,300', 'КР', '2/2'),\n",
       " ('1', 'сапфирПТ', '0,070', 'КР', '2/2'),\n",
       " ('1', 'СапфирПТ', '0,170', 'КР', '3/3'),\n",
       " ('1', 'СапфирПТ', '0,530', 'С', '1/1'),\n",
       " ('2', 'сапфирПТ', '0,320', 'КР', '2/2А'),\n",
       " ('2', 'сапфирПТ', '1,300', 'С', '2/1'),\n",
       " ('1', 'СапфирПТ', '3,320', 'ОВ', '3/2'),\n",
       " ('2', 'СапфирПТ', '6,300', 'ОВ', '3/2'),\n",
       " ('2', 'СапфирПТ', '2,280', 'ОВ', '3/1Г'),\n",
       " ('1', 'СапфирПТ', '0,320', 'ОВ', '1/1'),\n",
       " ('1', 'СапфирПТ', '0,570', 'С', '1/1'),\n",
       " ('1', 'СапфирПТ', '0,780', 'КВ', '3/3'),\n",
       " ('15', 'СапфирПТ', '0,135', 'КР', '2/2'),\n",
       " ('1', 'СапфирПТ', '0,449', 'КР', '2/2'),\n",
       " ('5', 'СапфирПТ', '0,160', 'кр', '3/2'),\n",
       " ('8', 'СапфирПТ', '1,490', 'КР', '2/3'),\n",
       " ('1', 'СапфирПТ', '0,092', 'КР', '2/3'),\n",
       " ('3', 'сапфирПТ', '0,235', 'КР', '2/2'),\n",
       " ('2', 'СапфирПТ', '4,369', 'ОВ', '2/2'),\n",
       " ('1', 'СапфирПТ', '1,050', 'КР', '2/2'),\n",
       " ('1', 'СапфирПТ', '1,484', 'ОВ', '2/2'),\n",
       " ('8', 'СапфирПТ', '1,220', 'КР', '2/2'),\n",
       " ('1', 'СапфирПТ', '0,430', 'М', '2/2'),\n",
       " ('5', 'СапфирПТ', '0,160', 'КР', '3/2'),\n",
       " ('2', 'СапфирПТ', '0,610', 'КР', '2/4'),\n",
       " ('2', 'сапфирПТ', '1,780', 'НРОГ', '2/2'),\n",
       " ('2', 'сапфирПТ', '0,140', 'КР', '2/2'),\n",
       " ('1', 'сапфирПТ', '0,140', 'КР', '2/2'),\n",
       " ('1', 'СапфирПТ', '0,080', 'КР', '2/2'),\n",
       " ('1', 'СапфирПТ', '0,240', 'КР', '2/3'),\n",
       " ('11', 'СапфирПТ', '0,360', 'Кр', '3/2'),\n",
       " ('1', 'СапфирПТ', '0,780', 'кв', '3/3'),\n",
       " ('2', 'СапфирПТ', '0,452', 'ГР', '5/2'),\n",
       " ('1', 'СапфирПТ', '0,300', 'ГР', '2/3'),\n",
       " ('2', 'СапфирПТ', '0,580', 'КР', '3/3'),\n",
       " ('1', 'СапфирПТ', '0,600', 'КР', '3/3'),\n",
       " ('', 'СапфирПТ', '0,320', 'КР', '2/3'),\n",
       " ('1', 'СапфирПТ', '0,560', 'С', '1/1'),\n",
       " ('1', 'СапфирПТ', '0,200', 'ГР', '4/2'),\n",
       " ('1', 'СапфирПТ', '0,680', 'С', '2/2*Желтый'),\n",
       " ('1', 'СапфирПТ', '0,600', 'С', '2/2*Падпараджа'),\n",
       " ('1', 'СапфирПТ', '0,530', 'С', '1/1'),\n",
       " ('2', 'СапфирПТ', '0,990', 'ГР', '2/2*Оранжевый'),\n",
       " ('2', 'СапфирПТ', '1,470', 'Ф', '4/2'),\n",
       " ('2', 'СапфирПТ', '1,020', 'ГР', '2/2*Оранжевый'),\n",
       " ('2', 'СапфирПТ', '0,930', 'ГР', '4/2*Розовый'),\n",
       " ('2', 'СапфирПТ', '2,090', 'ГР', '2/2*Оранжевый'),\n",
       " ('1', 'СапфирПТ', '0,090', 'КР', '2/2'),\n",
       " ('2', 'СапфирПТ', '0,270', 'Кр', '2/2'),\n",
       " ('2', 'СапфирПТ', '1,540', 'Кв', '2/2'),\n",
       " ('4', 'СапфирПТ', '0,240', 'КР', '2/2'),\n",
       " ('1', 'СапфирПТ', '0,220', 'ГР', '2/2'),\n",
       " ('4', 'СапфирПТ', '0,640', 'КР', '2/2'),\n",
       " ('5', 'СапфирПТ', '0,150', 'КР', '4/2*Розовый'),\n",
       " ('2', 'СапфирПТ', '0,180', 'КР', '4/2*Розовый'),\n",
       " ('2', 'СапфирПТ', '0,180', 'КР', '4/2*Розовый'),\n",
       " ('2', 'СапфирПТ', '0,180', 'КР', '4/2*Розовый'),\n",
       " ('2', 'СапфирПТ', '0,180', 'КР', '4/2*Розовый'),\n",
       " ('2', 'СапфирПТ', '0,180', 'КР', '4/2*Розовый'),\n",
       " ('2', 'СапфирПТ', '0,180', 'КР', '4/2*Розовый'),\n",
       " ('4', 'СапфирПТ', '0,240', 'КР', '4/2*Розовый'),\n",
       " ('4', 'СапфирПТ', '0,240', 'КР', '4/2*Розовый'),\n",
       " ('4', 'СапфирПТ', '0,240', 'КР', '4/2*Розовый'),\n",
       " ('4', 'СапфирПТ', '0,240', 'КР', '4/2*Розовый'),\n",
       " ('4', 'СапфирПТ', '0,240', 'КР', '4/2*Розовый'),\n",
       " ('4', 'СапфирПТ', '0,240', 'КР', '4/2*Розовый'),\n",
       " ('1', 'СапфирПТ', '0,831', 'кр', '3/3'),\n",
       " ('1', 'СапфирПТ', '0,690', 'Кр', '2/3'),\n",
       " ('2', 'СапфирПТ', '1,300', 'кр', '3/2'),\n",
       " ('2', 'СапфирПТ', '0,320', 'КР', '2/2'),\n",
       " ('2', 'СапфирПТ', '0,320', 'КР', '2/2'),\n",
       " ('2', 'СапфирПТ', '0,320', 'КР', '2/2'),\n",
       " ('2', 'СапфирПТ', '0,320', 'КР', '2/2'),\n",
       " ('2', 'СапфирПТ', '0,320', 'КР', '2/2'),\n",
       " ('2', 'СапфирПТ', '0,320', 'КР', '2/2'),\n",
       " ('2', 'СапфирПТ', '0,320', 'КР', '2/2'),\n",
       " ('2', 'СапфирПТ', '0,320', 'КР', '2/2'),\n",
       " ('2', 'СапфирПТ', '0,320', 'КР', '2/2'),\n",
       " ('2', 'СапфирПТ', '0,320', 'КР', '2/2'),\n",
       " ('2', 'СапфирПТ', '0,320', 'КР', '2/2'),\n",
       " ('2', 'СапфирПТ', '0,320', 'КР', '2/2'),\n",
       " ('2', 'СапфирПТ', '0,320', 'КР', '2/2'),\n",
       " ('2', 'СапфирПТ', '0,320', 'КР', '2/2'),\n",
       " ('2', 'СапфирПТ', '0,320', 'КР', '2/2'),\n",
       " ('2', 'СапфирПТ', '0,320', 'КР', '2/2'),\n",
       " ('2', 'СапфирПТ', '0,320', 'КР', '2/2'),\n",
       " ('2', 'СапфирПТ', '0,320', 'КР', '2/2'),\n",
       " ('2', 'СапфирПТ', '0,320', 'КР', '2/2'),\n",
       " ('2', 'СапфирПТ', '0,320', 'КР', '2/2'),\n",
       " ('2', 'СапфирПТ', '0,320', 'КР', '2/2'),\n",
       " ('2', 'СапфирПТ', '0,320', 'КР', '2/2'),\n",
       " ('2', 'СапфирПТ', '0,320', 'КР', '2/2'),\n",
       " ('2', 'СапфирПТ', '0,320', 'КР', '2/2'),\n",
       " ('2', 'СапфирПТ', '0,320', 'КР', '2/2'),\n",
       " ('2', 'СапфирПТ', '0,320', 'КР', '2/2'),\n",
       " ('2', 'СапфирПТ', '0,320', 'КР', '2/2'),\n",
       " ('2', 'СапфирПТ', '0,320', 'КР', '2/2'),\n",
       " ('2', 'СапфирПТ', '0,320', 'КР', '2/2'),\n",
       " ('2', 'СапфирПТ', '0,320', 'КР', '2/2'),\n",
       " ('2', 'СапфирПТ', '0,320', 'КР', '2/2'),\n",
       " ('2', 'СапфирПТ', '0,320', 'КР', '2/2'),\n",
       " ('5', 'СапфирПТ', '0,150', 'КР', '4/2*Розовый'),\n",
       " ('5', 'СапфирПТ', '0,150', 'КР', '4/2*Розовый'),\n",
       " ('5', 'СапфирПТ', '0,150', 'КР', '4/2*Розовый'),\n",
       " ('3', 'СапфирПТ', '0,150', 'КР', '2/2'),\n",
       " ('5', 'СапфирПТ', '0,150', 'КР', '4/2*Розовый'),\n",
       " ('5', 'СапфирПТ', '0,150', 'КР', '4/2*Розовый'),\n",
       " ('5', 'СапфирПТ', '0,150', 'КР', '4/2*Розовый'),\n",
       " ('2', 'СапфирПТ', '0,080', 'КР', '4/2*Розовый'),\n",
       " ('1', 'СапфирПТ', '0,780', 'кв', '3/3'),\n",
       " ('1', 'СапфирПТ', '0,780', 'кв', '3/3'),\n",
       " ('1', 'СапфирПТ', '0,780', 'кв', '3/3'),\n",
       " ('1', 'СапфирПТ', '0,780', 'кв', '3/3'),\n",
       " ('1', 'СапфирПТ', '0,780', 'кв', '3/3'),\n",
       " ('1', 'СапфирПТ', '0,700', 'кв', '3/3'),\n",
       " ('1', 'СапфирПТ', '0,780', 'кв', '3/3'),\n",
       " ('15', 'Сапфирпт', '0,620', 'КР', '3/2*синий'),\n",
       " ('1', 'Сапфирпт', '0,100', 'КР', '2/2*синий'),\n",
       " ('1', 'Сапфирпт', '0,140', 'КР', '2/2*синий'),\n",
       " ('2', 'Сапфирпт', '0,14', 'КР', '2/3*синий'),\n",
       " ('6', 'Сапфирпт', '0,120', 'КР', '2/3*синий'),\n",
       " ('2', 'Сапфирпт', '0,050', 'КР', '2/3*синий'),\n",
       " ('2', 'Сапфирпт', '0,030', 'КР', '2/3*синий'),\n",
       " ('5', 'СапфирПТ', '0,150', 'КР', '4/2*Розовый'),\n",
       " ('2', 'СапфирПТ', '1,148', 'КР', '4/2'),\n",
       " ('5', 'СапфирПТ', '0,150', 'Кр', '4/2*Розовый'),\n",
       " ('3', 'СапфирПТ', '0,150', 'КР', '3/2'),\n",
       " ('2', 'СапфирПТ', '0,320', 'КР', '2/2'),\n",
       " ('2', 'СапфирПТ', '0,320', 'КР', '2/2'),\n",
       " ('2', 'СапфирПТ', '0,320', 'КР', '2/3'),\n",
       " ('2', 'СапфирПТ', '0,320', 'КР', '2/3'),\n",
       " ('2', 'СапфирПТ', '0,320', 'КР', '2/3'),\n",
       " ('2', 'СапфирПТ', '0,320', 'КР', '2/3'),\n",
       " ('2', 'СапфирПТ', '0,320', 'КР', '2/3'),\n",
       " ('2', 'СапфирПТ', '0,320', 'КР', '2/3'),\n",
       " ('2', 'СапфирПТ', '0,320', 'КР', '2/3'),\n",
       " ('2', 'СапфирПТ', '1,300', 'КР', '3/2'),\n",
       " ('2', 'СапфирПТ', '1,300', 'КР', '3/3'),\n",
       " ('2', 'Сапфирпт', '1,409', 'КР', '4/3*синий'),\n",
       " ('5', 'СапфирПТ', '0,150', 'КР', '4/2*Розовый'),\n",
       " ('5', 'СапфирПТ', '0,150', 'КР', '4/2*Розовый'),\n",
       " ('5', 'СапфирПТ', '0,150', 'КР', '4/2*Розовый'),\n",
       " ('1', 'Сапфирпт', '0,364', 'КР', '3/2*синий'),\n",
       " ('2', 'Сапфирпт', '1,070', 'ОВ', '3/2*синий'),\n",
       " ('2', 'СапфирПТ', '1,070', 'ОВ', '3/3'),\n",
       " ('2', 'СапфирПТ', '1,070', 'ОВ', '2/2'),\n",
       " ('38', 'СапфирПТ', '20,980', 'Кр', '2/2'),\n",
       " ('77', 'СапфирПТ', '13,750', 'Крн', '2/2'),\n",
       " ('32', 'СапфирПТ', '0,790', 'Кр', '3/3*Оранжевый'),\n",
       " ('32', 'СапфирПТ', '0,820', 'Кр', '3/3*Розовый'),\n",
       " ('51', 'СапфирПТ', '1,200', 'Кр', '3/3*Желтый'),\n",
       " ('27', 'СапфирПТ', '0,530', 'Кр', '3/3*Зеленый'),\n",
       " ('32', 'СапфирПТ', '0,880', 'Кр', '3/3'),\n",
       " ('1', 'СапфирПТ', '0,090', 'Кр', '3/3'),\n",
       " ('1', 'СапфирПТ', '0,120', 'Кр', '3/3*Оранжевый'),\n",
       " ('1', 'СапфирПТ', '0,120', 'Кр', '3/3*Розовый'),\n",
       " ('', 'СапфирПТ', '0,620', 'Гр', '2/1'),\n",
       " ('3', 'СапфирПТ', '0,220', 'Кр', '2/2*Желтый'),\n",
       " ('3', 'СапфирПТ', '0,230', 'Кр', '2/2*Розовый'),\n",
       " ('3', 'СапфирПТ', '0,220', 'Кр', '2/2*Оранжевый'),\n",
       " ('2', 'СапфирПТ', '0,580', 'Кр', '3/3'),\n",
       " ('1', 'СапфирПТ', '0,313', 'КР', '2/2'),\n",
       " ('2', 'СапфирПТ', '0,550', 'ОВ', '2/2'),\n",
       " ('1', 'СапфирПТ', '0,270', 'КР', '2/2'),\n",
       " ('1', 'СапфирПТ', '0,540', 'ОВ', '2/3'),\n",
       " ('1', 'СапфирПТ', '0,440', 'ОВ', '2/3'),\n",
       " ('1', 'СапфирПТ', '0,370', 'ОВ', '2/2'),\n",
       " ('2', 'СапфирПТ', '0,558', 'ОВ', '2/2'),\n",
       " ('2', 'СапфирПТ', '0,558', 'ОВ', '2/2'),\n",
       " ('2', 'СапфирПТ', '0,558', 'ОВ', '2/2'),\n",
       " ('5', 'СапфирПТ', '0,405', 'КР', '2/2'),\n",
       " ('2', 'СапфирПТ', '0,162', 'КР', '2/2'),\n",
       " ('4', 'СапфирПТ', '1,117', 'ОВ', '2/2'),\n",
       " ('4', 'СапфирПТ', '1,117', 'ОВ', '2/2'),\n",
       " ('2', 'СапфирПТ', '0,560', 'ОВ', '2/2'),\n",
       " ('14', 'СапфирПТ', '5,580', 'Ф', '2/2'),\n",
       " ('2', 'СапфирПТ', '0,185', 'КР', '2/3'),\n",
       " ('1', 'СапфирПТ', '0,430', 'КР', '2/2'),\n",
       " ('1', 'СапфирПТ', '0,680', 'КР', '2/2'),\n",
       " ('1', 'СапфирПТ', '0,590', 'КР', '2/2'),\n",
       " ('1', 'СапфирПТ', '0,355', 'КР', '2/2'),\n",
       " ('1', 'СапфирПТ', '0,050', 'Кр', '2/2'),\n",
       " ('12', 'СапфирПТ', '0,423', 'Кр', '1/2'),\n",
       " ('2', 'СапфирПТ', '0,100', 'Кр', '1/2'),\n",
       " ('4', 'СапфирПТ', '0,393', 'Кр', '2/2'),\n",
       " ('1', 'СапфирПТ', '0,093', 'Кр', '2/3'),\n",
       " ('3', 'СапфирПТ', '0,235', 'Кр', '2/2'),\n",
       " ('4', 'СапфирПТ', '0,310', 'Кр', '2/2'),\n",
       " ('4', 'СапфирПТ', '0,310', 'Кр', '2/3'),\n",
       " ('4', 'СапфирПТ', '0,274', 'КР', '1/2'),\n",
       " ('2', 'СапфирПТ', '0,134', 'КР', '1/2'),\n",
       " ('2', 'СапфирПТ', '0,139', 'КР', '1/2'),\n",
       " ('8', 'СапфирПТ', '0,630', 'Кр', '2/2'),\n",
       " ('8', 'СапфирПТ', '0,630', 'Кр', '2/2'),\n",
       " ('8', 'СапфирПТ', '0,780', 'Кр', '2/3'),\n",
       " ('2', 'СапфирПТ', '0,155', 'Кр', '2/2'),\n",
       " ('2', 'СапфирПТ', '0,160', 'Кр', '2/2'),\n",
       " ('2', 'СапфирПТ', '0,160', 'Кр', '2/2'),\n",
       " ('2', 'СапфирПТ', '0,165', 'Кр', '2/2'),\n",
       " ('12', 'СапфирПТ', '0,424', 'Кр', '1/2'),\n",
       " ('1', 'СапфирПТ', '0,093', 'КР', '2/3'),\n",
       " ('3', 'СапфирПТ', '0,235', 'Кр', '2/2'),\n",
       " ('6', 'СапфирПТ', '0,386', 'Кр', '2/2'),\n",
       " ('3', 'СапфирПТ', '4,430', 'Ф', '3/3*ЖелтыйЗеленый'),\n",
       " ('3', 'СапфирПТ', '1,000', 'М', '3/3'),\n",
       " ('1', 'СапфирПТ', '0,150', 'Кр', '2/2'),\n",
       " ('1', 'СапфирПТ', '0,060', 'Кр', '3/3'),\n",
       " ('1', 'СапфирПТ', '0,170', 'Кр', '3/3'),\n",
       " ('1', 'СапфирПТ', '0,760', 'Ф', '2/2'),\n",
       " ('1', 'СапфирПТ', '0,620', 'Ф', '3/3'),\n",
       " ('1', 'Сапфирпт', '0,630', 'Ф', '2/3*синий'),\n",
       " ('8', 'Сапфирпт', '0,080', 'КР', '2/2*синий'),\n",
       " ('2', 'СапфирПТ', '1,220', 'Ф', '3/3'),\n",
       " ('5', 'Сапфирпт', '0,187', 'КР', '3/2*синий'),\n",
       " ('6', 'СапфирПТ', '0,090', 'Кр', '2/2'),\n",
       " ('1', 'СапфирПТ', '0,470', 'ОВ', '2/2'),\n",
       " ('2', 'СапфирПТ', '1,060', 'КР', '2/2'),\n",
       " ('1', 'СапфирПТ', '0,550', 'С', '2/1'),\n",
       " ('1', 'СапфирПТ', '0,120', 'Кр', '2/2'),\n",
       " ('1', 'СапфирПТ', '0,120', 'Кр', '2/2'),\n",
       " ('1', 'СапфирПТ', '0,220', 'КР', '2/2'),\n",
       " ('1', 'СапфирПТ', '0,610', 'Кр', '2/2*Розовый'),\n",
       " ('1', 'СапфирПТ', '0,180', 'М', '2/2'),\n",
       " ('2', 'СапфирПТ', '0,400', 'Кр', '2/3'),\n",
       " ('2', 'СапфирПТ', '0,610', 'Ов', '2/2*Розовый'),\n",
       " ('2', 'СапфирПТ', '0,610', 'Ов', '2/2*Розовый'),\n",
       " ('2', 'СапфирПТ', '0,605', 'Ов', '2/2'),\n",
       " ('2', 'СапфирПТ', '0,400', 'Кр', '2/2'),\n",
       " ('2', 'СапфирПТ', '0,320', 'М', '2/2'),\n",
       " ('2', 'СапфирПТ', '1,810', 'Ов', '3/3'),\n",
       " ('2', 'СапфирПТ', '0,470', 'Кр', '3/3'),\n",
       " ('2', 'СапфирПТ', '1,230', 'Гр', '3/3'),\n",
       " ('2', 'СапфирПТ', '1,148', 'Кр', '4/3'),\n",
       " ('1', 'СапфирПТ', '0,276', 'ОВ', '2/3'),\n",
       " ('1', 'СапфирПТ', '0,332', 'ОВ', '2/2'),\n",
       " ('2', 'СапфирПТ', '0,530', 'ОВ', '2/2'),\n",
       " ('2', 'СапфирПТ', '0,530', 'ОВ', '2/2'),\n",
       " ('1', 'СапфирПТ', '0,600', 'ОВ', '3/3'),\n",
       " ('1', 'СапфирПТ', '0,248', 'ОВ', '2/2'),\n",
       " ('2', 'СапфирПТ', '0,520', 'ОВ', '3/2'),\n",
       " ('4', 'СапфирПТ', '0,194', 'КР', '3/2'),\n",
       " ('2', 'СапфирПТ', '0,488', 'ОВ', '2/2'),\n",
       " ('2', 'СапфирПТ', '0,699', 'ОВ', '2/2'),\n",
       " ('1', 'СапфирПТ', '1,726', 'ОВ', '2/2'),\n",
       " ('6', 'СапфирПТ', '0,260', 'КР', '2/2'),\n",
       " ('1', 'СапфирПТ', '0,120', 'КВ', '3/3'),\n",
       " ('1', 'СапфирПТ', '0,163', 'КР', '3/3'),\n",
       " ('4', 'СапфирПТ', '0,280', 'КР', '2/2*желтый'),\n",
       " ('1', 'СапфирПТ', '1,570', 'ОВ', '2/2'),\n",
       " ('1', 'СапфирПТ', '0,190', 'КР', '2/2'),\n",
       " ('5', 'СапфирПТ', '0,200', 'КР', '2/2'),\n",
       " ('1', 'СапфирПТ', '0,920', 'ОВ', '2/2'),\n",
       " ('1', 'СапфирПТ', '0,190', 'КР', '3/2'),\n",
       " ('1', 'СапфирПТ', '0,060', 'КР', '2/3'),\n",
       " ('2', 'СапфирПТ', '0,540', 'ОВ', '2/2'),\n",
       " ('1', 'СапфирПТ', '0,075', 'кр', '2/3'),\n",
       " ('6', 'СапфирПТ', '0,540', 'кр', '3/3'),\n",
       " ('1', 'СапфирПТ', '0,410', 'ГР', '3/2*желтый'),\n",
       " ('1', 'СапфирПТ', '0,830', 'ф', '3/2*желтый'),\n",
       " ('1', 'СапфирПТ', '0,600', 'С', '2/2'),\n",
       " ('1', 'СапфирПТ', '0,590', 'С', '1/2'),\n",
       " ('1', 'СапфирПТ', '0,690', 'ф', '3/4*желтый'),\n",
       " ('1', 'СапфирПТ', '0,830', 'ф', '5/2'),\n",
       " ('1', 'СапфирПТ', '0,580', 'С', '2/1'),\n",
       " ('1', 'СапфирПТ', '0,890', 'ф', '3/2*желтый'),\n",
       " ('2', 'СапфирПТ', '1,260', 'ф', '3/2*желтый'),\n",
       " ('2', 'СапфирПТ', '0,810', 'ГР', '2/2*желтый'),\n",
       " ('2', 'СапфирПТ', '2,100', 'ГР', '3/2*желтый'),\n",
       " ('2', 'СапфирПТ', '1,040', 'ГР', '2/2*Оранжевый'),\n",
       " ('2', 'СапфирПТ', '1,020', 'С', '1/1'),\n",
       " ('2', 'СапфирПТ', '0,860', 'ГР', '3/3'),\n",
       " ('2', 'СапфирПТ', '0,960', 'ГР', '2/2*Оранжевый'),\n",
       " ('4', 'СапфирПТ', '0,100', 'кр', '2/2'),\n",
       " ('1', 'СапфирПТ', '0,093', 'кр', '2/3'),\n",
       " ('3', 'СапфирПТ', '0,235', 'кр', '2/2'),\n",
       " ('2', 'СапфирПТ', '0,453', 'кв', '2/2'),\n",
       " ('4', 'СапфирПТ', '0,314', 'кр', '2/2'),\n",
       " ('1', 'СапфирПТ', '0,058', 'кв', '2/2'),\n",
       " ('2', 'СапфирПТ', '0,140', 'кв', '2/2'),\n",
       " ('2', 'СапфирПТ', '0,168', 'кр', '2/3'),\n",
       " ('1', 'СапфирПТ', '0,060', 'кв', '2/2'),\n",
       " ('1', 'СапфирПТ', '0,060', 'кв', '2/2'),\n",
       " ('1', 'СапфирПТ', '0,058', 'кв', '2/2'),\n",
       " ('2', 'СапфирПТ', '0,320', 'кр', '2/2'),\n",
       " ('12', 'СапфирПТ', '0,240', 'кр', '2/2'),\n",
       " ('12', 'СапфирПТ', '0,240', 'кр', '2/2'),\n",
       " ('1', 'СапфирПТ', '0,060', 'кв', '2/2'),\n",
       " ('5', 'СапфирПТ', '0,160', 'кр', '3/2'),\n",
       " ('1', 'СапфирПТ', '0,370', 'кр', '2/2'),\n",
       " ('1', 'СапфирПТ', '0,051', 'кр', '2/3'),\n",
       " ('2', 'СапфирПТ', '0,168', 'кр', '2/3'),\n",
       " ('2', 'СапфирПТ', '0,168', 'кр', '2/3'),\n",
       " ('1', 'СапфирПТ', '0,051', 'кр', '2/3'),\n",
       " ('6', 'СапфирПТ', '0,190', 'кр', '4/3*розовый'),\n",
       " ('1', 'СапфирПТ', '0,570', 'ов', '2/1'),\n",
       " ('1', 'СапфирПТ', '0,330', 'пр', '2/1'),\n",
       " ('2', 'СапфирПТ', '1,148', 'кр', '4/3'),\n",
       " ('1', 'СапфирПТ', '0,120', 'кр', '2/2'),\n",
       " ('2', 'СапфирПТ', '0,160', 'кр', '2/2'),\n",
       " ('2', 'СапфирПТ', '0,160', 'кр', '2/2'),\n",
       " ('2', 'СапфирПТ', '0,160', 'кр', '2/2'),\n",
       " ('2', 'СапфирПТ', '0,160', 'кр', '2/2'),\n",
       " ('2', 'СапфирПТ', '0,160', 'кр', '2/2'),\n",
       " ('2', 'СапфирПТ', '0,160', 'кр', '2/2'),\n",
       " ('2', 'СапфирПТ', '0,170', 'кр', '2/2'),\n",
       " ('2', 'СапфирПТ', '0,170', 'кр', '2/2'),\n",
       " ('2', 'СапфирПТ', '0,170', 'кр', '2/2'),\n",
       " ('2', 'СапфирПТ', '0,170', 'кр', '2/2'),\n",
       " ('2', 'СапфирПТ', '0,170', 'кр', '2/2'),\n",
       " ('2', 'СапфирПТ', '0,170', 'кр', '2/2'),\n",
       " ('2', 'СапфирПТ', '0,170', 'кр', '2/2'),\n",
       " ('2', 'СапфирПТ', '0,170', 'кр', '2/2'),\n",
       " ('2', 'СапфирПТ', '0,170', 'кр', '2/2'),\n",
       " ('2', 'СапфирПТ', '0,170', 'кр', '2/2'),\n",
       " ('2', 'СапфирПТ', '0,170', 'кр', '2/2'),\n",
       " ('2', 'СапфирПТ', '1,540', 'кв', '3/3'),\n",
       " ('2', 'СапфирПТ', '1,540', 'кв', '3/3'),\n",
       " ('2', 'СапфирПТ', '1,540', 'кв', '3/3'),\n",
       " ('2', 'СапфирПТ', '1,540', 'кв', '3/3'),\n",
       " ('2', 'СапфирПТ', '1,540', 'кв', '3/3'),\n",
       " ('2', 'СапфирПТ', '1,540', 'кв', '3/3'),\n",
       " ('2', 'СапфирПТ', '1,540', 'кв', '3/3'),\n",
       " ('2', 'СапфирПТ', '1,540', 'кв', '3/3'),\n",
       " ('2', 'СапфирПТ', '1,540', 'кв', '3/3'),\n",
       " ('2', 'СапфирПТ', '1,540', 'кв', '3/3'),\n",
       " ('2', 'СапфирПТ', '1,540', 'кв', '3/3'),\n",
       " ('2', 'СапфирПТ', '1,540', 'кв', '3/3'),\n",
       " ('2', 'СапфирПТ', '1,540', 'кв', '3/3'),\n",
       " ('2', 'СапфирПТ', '1,540', 'кв', '3/3'),\n",
       " ('2', 'СапфирПТ', '0,700', 'Ф', '2/2*Оранжевый'),\n",
       " ('1', 'СапфирПТ', '2,24', 'Кр', '3/2'),\n",
       " ('2', 'СапфирПТ', '4,460', 'Ов', '2/2'),\n",
       " ('4', 'СапфирПТ', '1,210', 'Ф', '2/2'),\n",
       " ('17', 'СапфирПТ', '2,982', 'М', '2/2'),\n",
       " ('2', 'СапфирПТ', '0,406', 'Ов', '2/3'),\n",
       " ('2', 'СапфирПТ', '1,037', 'Ов', '2/2'),\n",
       " ('1', 'СапфирПТ', '0,058', 'Кв', '2/2'),\n",
       " ('1', 'СапфирПТ', '0,058', 'Кв', '2/2'),\n",
       " ('1', 'СапфирПТ', '0,058', 'Кв', '2/2'),\n",
       " ('1', 'СапфирПТ', '0,180', 'КР', '3/3'),\n",
       " ('2', 'СапфирПТ', '0,200', 'КР', '2/2'),\n",
       " ('4', 'СапфирПТ', '0,390', 'КР', '2/2'),\n",
       " ('1', 'СапфирПТ', '0,030', 'КР', '2/2'),\n",
       " ('1', 'СапфирПТ', '0,277', 'КР', '3/2'),\n",
       " ('1', 'СапфирПТ', '0,277', 'Кр', '3/2'),\n",
       " ('1', 'СапфирПТ', '0,314', 'КР', '2/2'),\n",
       " ('1', 'СапфирПТ', '0,449', 'КР', '2/2'),\n",
       " ('1', 'Сапфирпт', '0,080', 'КР', '2/2*синий'),\n",
       " ('1', 'Сапфирпт', '0,293', 'ОВ', '2/3*синий'),\n",
       " ('2', 'Сапфирпт', '1,370', 'ОВ', '2/3*синий'),\n",
       " ('1', 'Сапфирпт', '0,115', 'КР', '2/2*синий'),\n",
       " ('9', 'Сапфирпт', '0,090', 'КР', '2/2*синий'),\n",
       " ('11', 'СапфирПТ', '0,360', 'Кр', '3/2'),\n",
       " ('1', 'СапфирПТ', '0,335', 'Ов', '3/2'),\n",
       " ('1', 'СапфирПТ', '0,203', 'Кр', '2/3'),\n",
       " ('1', 'СапфирПТ', '0,519', 'Ов', '2/2'),\n",
       " ('3', 'СапфирПТ', '0,153', 'С', '2/2'),\n",
       " ('2', 'СапфирПТ', '0,450', 'Гр', '3/3'),\n",
       " ('4', 'Сапфирпт', '0,455', 'КВ', '2/2*синий'),\n",
       " ('1', 'Сапфирпт', '0,287', 'КР', '2/3*синий'),\n",
       " ('6', 'СапфирПТ', '1,260', 'Ов', '2/3'),\n",
       " ('1', 'Сапфирпт', '0,340', 'КР', '2/2*синий'),\n",
       " ('2', 'Сапфирпт', '0,710', 'КР', '2/2*синий'),\n",
       " ('1', 'СапфирПТ', '0,148', 'КР', '2/2'),\n",
       " ('1', 'СапфирПТ', '0,148', 'КР', '2/2'),\n",
       " ('1', 'СапфирПТ', '0,211', 'КР', '2/3'),\n",
       " ('1', 'СапфирПТ', '0,307', 'КР', '4/2'),\n",
       " ('1', 'СапфирПМ', '0,04', 'КР', '2/4'),\n",
       " ('1', 'СапфирПТ', '0,120', 'КР', '2/2'),\n",
       " ('2', 'СапфирПТ', '0,580', 'КР', '2/2'),\n",
       " ('1', 'сапфирПТ', '0,080', 'КР', '2/2'),\n",
       " ('6', 'СапфирПТ', '0,570', 'КР', '3/3'),\n",
       " ('2', 'СапфирПТ', '1,640', 'ГР', '2/2'),\n",
       " ('56', 'СапфирПТ', '0,360', 'КР', '3/3'),\n",
       " ('2', 'СапфирПТ', '0,900', 'ГР', '1/2'),\n",
       " ('1', 'СапфирПТ', '0,100', 'КР', '2/2'),\n",
       " ('1', 'СапфирПТ', '0,600', 'ов', '2/2')]"
      ]
     },
     "execution_count": 151,
     "metadata": {},
     "output_type": "execute_result"
    }
   ],
   "source": [
    "df_test['sapphire_list_p2'].sum()"
   ]
  },
  {
   "cell_type": "code",
   "execution_count": 152,
   "id": "10adf9b0",
   "metadata": {},
   "outputs": [
    {
     "data": {
      "text/plain": [
       "446"
      ]
     },
     "execution_count": 152,
     "metadata": {},
     "output_type": "execute_result"
    }
   ],
   "source": [
    "len(_)"
   ]
  },
  {
   "cell_type": "code",
   "execution_count": 243,
   "id": "a2bc06d0",
   "metadata": {},
   "outputs": [],
   "source": [
    "df_test['sapphire_list_p3_'] = df_test['vst'].apply(lambda x: re.findall(pattern_sap, x))"
   ]
  },
  {
   "cell_type": "code",
   "execution_count": 244,
   "id": "81d95bda",
   "metadata": {},
   "outputs": [
    {
     "data": {
      "text/plain": [
       "[('1', 'сапфирПТ', '0,450', 'КВ', '2/2'),\n",
       " ('1', 'сапфирПТ', '0,211', 'ОВ', '3/2'),\n",
       " ('12', 'сапфирПТ', '0,170', 'КР', '2/3'),\n",
       " ('2', 'СапфирПТ', '0,170', 'кр', '2/2'),\n",
       " ('2', 'СапфирПТ', '0,198', 'кр', '2/3'),\n",
       " ('1', 'СапфирПТ', '0,058', 'кв', '2/2'),\n",
       " ('2', 'СапфирПТ', '0,168', 'кр', '2/3'),\n",
       " ('1', 'СапфирПТ', '0,060', 'кв', '2/2'),\n",
       " ('1', 'СапфирПТ', '0,058', 'кв', '2/2'),\n",
       " ('9', 'СапфирПТ', '0,052', 'кр', '2/3А'),\n",
       " ('9', 'СапфирПТ', '0,052', 'кр', '2/3'),\n",
       " ('1', 'СапфирПТ', '0,058', 'кв', '2/2'),\n",
       " ('2', 'СапфирПТ', '0,320', 'кр', '2/2'),\n",
       " ('4', 'СапфирПТ', '0,280', 'КВ', '2/3*синий'),\n",
       " ('4', 'СапфирПТ', '0,640', 'кр', '2/2'),\n",
       " ('5', 'СапфирПТ', '5,020', 'КР', '3/2'),\n",
       " ('2', 'СапфирПТ', '0,320', 'КР', '2/2'),\n",
       " ('1', 'СапфирПТ', '0,0585', 'КР', '2/2'),\n",
       " ('2', 'СапфирПТ', '0,410', 'ПР', '2/2'),\n",
       " ('2', 'СапфирПТ', '0,270', 'КР', '2/2'),\n",
       " ('6', 'СапфирПТ', '1,290', 'ОВ', '2/3'),\n",
       " ('1', 'СапфирПТ', '0,580', 'ОВ', '2/2'),\n",
       " ('14', 'СапфирПТ', '0,100', 'КР', '2/3'),\n",
       " ('2', 'СапфирПТ', '0,400', 'ОВ', '2/2'),\n",
       " ('4', 'СапфирПТ', '0,455', 'ПР', '2/2'),\n",
       " ('2', 'СапфирПТ', '0,120', 'КР', '2/2'),\n",
       " ('7', 'СапфирПТ', '0,770', 'М', '2/2'),\n",
       " ('1', 'СапфирПТ', '0,630', 'ОВ', '2/2'),\n",
       " ('1', 'СапфирПТ', '0,080', 'Кр', '2/2*Желтый'),\n",
       " ('1', 'сапфирПТ', '0,150', 'кр57', '1/2'),\n",
       " ('2', 'сапфирПТ', '0,165', 'кр', '2/2'),\n",
       " ('1', 'сапфирПТ', '0,125', 'кр', '2/3'),\n",
       " ('1', 'сапфирПТ', '0,140', 'кр', '2/2'),\n",
       " ('1', 'сапфирПТ', '0,300', 'Кр', '2/2'),\n",
       " ('1', 'сапфирПТ', '0,320', 'кр', '2/3'),\n",
       " ('1', 'сапфирПТ', '0,305', 'кр', '2/3'),\n",
       " ('1', 'сапфирПТ', '0,543', 'кр', '3/2'),\n",
       " ('1', 'сапфирПТ', '0,355', 'кр', '3/2'),\n",
       " ('1', 'сапфирПТ', '0,303', 'кр', '2/2'),\n",
       " ('1', 'сапфирПТ', '0,240', 'кр', '2/3'),\n",
       " ('2', 'сапфирПТ', '0,330', 'Кр', '3/3'),\n",
       " ('6', 'сапфирПТ', '0,2565', 'кр', '2/3'),\n",
       " ('1', 'сапфирПТ', '0,170', 'кр', '3/3'),\n",
       " ('1', 'сапфирПТ', '0,310', 'ГР', '2/2'),\n",
       " ('1', 'сапфирПТ', '0,640', 'С', '1/1'),\n",
       " ('2', 'СапфирПТ', '1,097', 'КР', '2/2'),\n",
       " ('1', 'СапфирПТ', '0,130', 'КР', '2/3'),\n",
       " ('8', 'СапфирПТ', '1,372', 'М', '3/3'),\n",
       " ('6', 'СапфирПТ', '0,110', 'КР', '2/2*Синий'),\n",
       " ('5', 'СапфирПТ', '0,100', 'КР', '2/2*Желтый'),\n",
       " ('2', 'СапфирПТ', '0,168', 'кр', '2/3'),\n",
       " ('2', 'СапфирПТ', '0,168', 'кр', '2/3'),\n",
       " ('2', 'СапфирПТ', '0,168', 'кр', '2/3'),\n",
       " ('1', 'СапфирПТ', '0,075', 'кв', '2/3'),\n",
       " ('12', 'СапфирПТ', '0,240', 'кр', '2/2'),\n",
       " ('1', 'СапфирПТ', '0,058', 'кв', '2/2'),\n",
       " ('2', 'СапфирПТ', '0,320', 'кр', '2/2'),\n",
       " ('46', 'СапфирПТ', '0,228', 'кр', '2/2'),\n",
       " ('2', 'СапфирПТ', '0,040', 'КР', '2/3'),\n",
       " ('12', 'СапфирПТ', '0,195', 'КР', '3/2'),\n",
       " ('1', 'СапфирПТ', '0,370', 'кр', '2/3'),\n",
       " ('20', 'СапфирПТ', '0,160', 'кр', '2/3'),\n",
       " ('2', 'СапфирПТ', '0,705', 'кр', '2/2*желтый'),\n",
       " ('2', 'СапфирПТ', '0,680', 'кр', '2/2*желтый'),\n",
       " ('4', 'СапфирПТ', '0,640', 'кр', '2/2'),\n",
       " ('20', 'СапфирПТ', '0,100', 'кр', '2/2'),\n",
       " ('2', 'сапфирПТ', '0,058', 'КВ', '2/2'),\n",
       " ('1', 'СапфирПТ', '0,104', 'Кр', '2/2*Желтый'),\n",
       " ('1', 'СапфирПТ', '0,058', 'Кв', '2/2'),\n",
       " ('2', 'сапфирПТ', '0,300', 'КР', '2/2'),\n",
       " ('1', 'сапфирПТ', '0,070', 'КР', '2/2'),\n",
       " ('1', 'СапфирПТ', '0,170', 'КР', '3/3'),\n",
       " ('1', 'СапфирПТ', '0,530', 'С', '1/1'),\n",
       " ('2', 'сапфирПТ', '0,320', 'КР', '2/2А'),\n",
       " ('2', 'сапфирПТ', '1,300', 'С', '2/1'),\n",
       " ('1', 'СапфирПТ', '3,320', 'ОВ', '3/2'),\n",
       " ('2', 'СапфирПТ', '6,300', 'ОВ', '3/2'),\n",
       " ('2', 'СапфирПТ', '2,280', 'ОВ', '3/1Г'),\n",
       " ('1', 'СапфирПТ', '0,320', 'ОВ', '1/1'),\n",
       " ('1', 'СапфирПТ', '0,570', 'С', '1/1'),\n",
       " ('1', 'СапфирПТ', '0,780', 'КВ', '3/3'),\n",
       " ('15', 'СапфирПТ', '0,135', 'КР', '2/2'),\n",
       " ('1', 'СапфирПТ', '0,449', 'КР', '2/2'),\n",
       " ('5', 'СапфирПТ', '0,160', 'кр', '3/2'),\n",
       " ('8', 'СапфирПТ', '1,490', 'КР', '2/3'),\n",
       " ('1', 'СапфирПТ', '0,092', 'КР', '2/3'),\n",
       " ('3', 'сапфирПТ', '0,235', 'КР', '2/2'),\n",
       " ('2', 'СапфирПТ', '4,369', 'ОВ', '2/2'),\n",
       " ('1', 'СапфирПТ', '1,050', 'КР', '2/2'),\n",
       " ('1', 'СапфирПТ', '1,484', 'ОВ', '2/2'),\n",
       " ('8', 'СапфирПТ', '1,220', 'КР', '2/2'),\n",
       " ('1', 'СапфирПТ', '0,430', 'М', '2/2'),\n",
       " ('5', 'СапфирПТ', '0,160', 'КР', '3/2'),\n",
       " ('2', 'СапфирПТ', '0,610', 'КР', '2/4'),\n",
       " ('2', 'сапфирПТ', '1,780', 'НРОГ', '2/2'),\n",
       " ('2', 'сапфирПТ', '0,140', 'КР', '2/2'),\n",
       " ('1', 'сапфирПТ', '0,140', 'КР', '2/2'),\n",
       " ('1', 'СапфирПТ', '0,080', 'КР', '2/2'),\n",
       " ('1', 'СапфирПТ', '0,240', 'КР', '2/3'),\n",
       " ('11', 'СапфирПТ', '0,360', 'Кр', '3/2'),\n",
       " ('1', 'СапфирПТ', '0,780', 'кв', '3/3'),\n",
       " ('2', 'СапфирПТ', '0,452', 'ГР', '5/2'),\n",
       " ('1', 'СапфирПТ', '0,603', 'КР', '4в/3'),\n",
       " ('1', 'СапфирПТ', '0,603', 'кр', '4в/3'),\n",
       " ('2', 'СапфирПТ', '1,205', 'КР', '4в/3'),\n",
       " ('2', 'СапфирПТ', '1,205', 'кр', '4в/3'),\n",
       " ('1', 'СапфирПТ', '0,300', 'ГР', '2/3'),\n",
       " ('2', 'СапфирПТ', '0,580', 'КР', '3/3'),\n",
       " ('1', 'СапфирПТ', '0,600', 'КР', '3/3'),\n",
       " ('', 'СапфирПТ', '0,320', 'КР', '2/3'),\n",
       " ('1', 'СапфирПТ', '0,560', 'С', '1/1'),\n",
       " ('1', 'СапфирПТ', '0,200', 'ГР', '4/2'),\n",
       " ('1', 'СапфирПТ', '0,680', 'С', '2/2*Желтый'),\n",
       " ('1', 'СапфирПТ', '0,600', 'С', '2/2*Падпараджа'),\n",
       " ('1', 'СапфирПТ', '0,530', 'С', '1/1'),\n",
       " ('2', 'СапфирПТ', '0,990', 'ГР', '2/2*Оранжевый'),\n",
       " ('2', 'СапфирПТ', '1,470', 'Ф', '4/2'),\n",
       " ('2', 'СапфирПТ', '1,020', 'ГР', '2/2*Оранжевый'),\n",
       " ('2', 'СапфирПТ', '0,930', 'ГР', '4/2*Розовый'),\n",
       " ('2', 'СапфирПТ', '2,090', 'ГР', '2/2*Оранжевый'),\n",
       " ('1', 'СапфирПТ', '0,090', 'КР', '2/2'),\n",
       " ('2', 'СапфирПТ', '0,270', 'Кр', '2/2'),\n",
       " ('2', 'СапфирПТ', '1,540', 'Кв', '2/2'),\n",
       " ('4', 'СапфирПТ', '0,240', 'КР', '2/2'),\n",
       " ('1', 'СапфирПТ', '0,220', 'ГР', '2/2'),\n",
       " ('4', 'СапфирПТ', '0,640', 'КР', '2/2'),\n",
       " ('5', 'СапфирПТ', '0,150', 'КР', '4/2*Розовый'),\n",
       " ('2', 'СапфирПТ', '0,180', 'КР', '4/2*Розовый'),\n",
       " ('2', 'СапфирПТ', '0,180', 'КР', '4/2*Розовый'),\n",
       " ('2', 'СапфирПТ', '0,180', 'КР', '4/2*Розовый'),\n",
       " ('2', 'СапфирПТ', '0,180', 'КР', '4/2*Розовый'),\n",
       " ('2', 'СапфирПТ', '0,180', 'КР', '4/2*Розовый'),\n",
       " ('2', 'СапфирПТ', '0,180', 'КР', '4/2*Розовый'),\n",
       " ('4', 'СапфирПТ', '0,240', 'КР', '4/2*Розовый'),\n",
       " ('4', 'СапфирПТ', '0,240', 'КР', '4/2*Розовый'),\n",
       " ('4', 'СапфирПТ', '0,240', 'КР', '4/2*Розовый'),\n",
       " ('4', 'СапфирПТ', '0,240', 'КР', '4/2*Розовый'),\n",
       " ('4', 'СапфирПТ', '0,240', 'КР', '4/2*Розовый'),\n",
       " ('4', 'СапфирПТ', '0,240', 'КР', '4/2*Розовый'),\n",
       " ('1', 'СапфирПТ', '0,831', 'кр', '3/3'),\n",
       " ('1', 'СапфирПТ', '0,690', 'Кр', '2/3'),\n",
       " ('2', 'СапфирПТ', '1,300', 'кр', '3/2'),\n",
       " ('2', 'СапфирПТ', '0,320', 'КР', '2/2'),\n",
       " ('2', 'СапфирПТ', '0,320', 'КР', '2/2'),\n",
       " ('2', 'СапфирПТ', '0,320', 'КР', '2/2'),\n",
       " ('2', 'СапфирПТ', '0,320', 'КР', '2/2'),\n",
       " ('2', 'СапфирПТ', '0,320', 'КР', '2/2'),\n",
       " ('2', 'СапфирПТ', '0,320', 'КР', '2/2'),\n",
       " ('2', 'СапфирПТ', '0,320', 'КР', '2/2'),\n",
       " ('2', 'СапфирПТ', '0,320', 'КР', '2/2'),\n",
       " ('2', 'СапфирПТ', '0,320', 'КР', '2/2'),\n",
       " ('2', 'СапфирПТ', '0,320', 'КР', '2/2'),\n",
       " ('2', 'СапфирПТ', '0,320', 'КР', '2/2'),\n",
       " ('2', 'СапфирПТ', '0,320', 'КР', '2/2'),\n",
       " ('2', 'СапфирПТ', '0,320', 'КР', '2/2'),\n",
       " ('2', 'СапфирПТ', '0,320', 'КР', '2/2'),\n",
       " ('2', 'СапфирПТ', '0,320', 'КР', '2/2'),\n",
       " ('2', 'СапфирПТ', '0,320', 'КР', '2/2'),\n",
       " ('2', 'СапфирПТ', '0,320', 'КР', '2/2'),\n",
       " ('2', 'СапфирПТ', '0,320', 'КР', '2/2'),\n",
       " ('2', 'СапфирПТ', '0,320', 'КР', '2/2'),\n",
       " ('2', 'СапфирПТ', '0,320', 'КР', '2/2'),\n",
       " ('2', 'СапфирПТ', '0,320', 'КР', '2/2'),\n",
       " ('2', 'СапфирПТ', '0,320', 'КР', '2/2'),\n",
       " ('2', 'СапфирПТ', '0,320', 'КР', '2/2'),\n",
       " ('2', 'СапфирПТ', '0,320', 'КР', '2/2'),\n",
       " ('2', 'СапфирПТ', '0,320', 'КР', '2/2'),\n",
       " ('2', 'СапфирПТ', '0,320', 'КР', '2/2'),\n",
       " ('2', 'СапфирПТ', '0,320', 'КР', '2/2'),\n",
       " ('2', 'СапфирПТ', '0,320', 'КР', '2/2'),\n",
       " ('2', 'СапфирПТ', '0,320', 'КР', '2/2'),\n",
       " ('2', 'СапфирПТ', '0,320', 'КР', '2/2'),\n",
       " ('2', 'СапфирПТ', '0,320', 'КР', '2/2'),\n",
       " ('2', 'СапфирПТ', '0,320', 'КР', '2/2'),\n",
       " ('5', 'СапфирПТ', '0,150', 'КР', '4/2*Розовый'),\n",
       " ('5', 'СапфирПТ', '0,150', 'КР', '4/2*Розовый'),\n",
       " ('5', 'СапфирПТ', '0,150', 'КР', '4/2*Розовый'),\n",
       " ('3', 'СапфирПТ', '0,150', 'КР', '2/2'),\n",
       " ('5', 'СапфирПТ', '0,150', 'КР', '4/2*Розовый'),\n",
       " ('5', 'СапфирПТ', '0,150', 'КР', '4/2*Розовый'),\n",
       " ('5', 'СапфирПТ', '0,150', 'КР', '4/2*Розовый'),\n",
       " ('2', 'СапфирПТ', '0,080', 'КР', '4/2*Розовый'),\n",
       " ('1', 'СапфирПТ', '0,780', 'кв', '3/3'),\n",
       " ('1', 'СапфирПТ', '0,780', 'кв', '3/3'),\n",
       " ('1', 'СапфирПТ', '0,780', 'кв', '3/3'),\n",
       " ('1', 'СапфирПТ', '0,780', 'кв', '3/3'),\n",
       " ('1', 'СапфирПТ', '0,780', 'кв', '3/3'),\n",
       " ('1', 'СапфирПТ', '0,700', 'кв', '3/3'),\n",
       " ('1', 'СапфирПТ', '0,780', 'кв', '3/3'),\n",
       " ('15', 'Сапфирпт', '0,620', 'КР', '3/2*синий'),\n",
       " ('1', 'Сапфирпт', '0,100', 'КР', '2/2*синий'),\n",
       " ('1', 'Сапфирпт', '0,140', 'КР', '2/2*синий'),\n",
       " ('2', 'Сапфир', '0,090', 'КР', '2/2*синий'),\n",
       " ('3', 'Сапфир', '0,080', 'КР', '2/2*синий'),\n",
       " ('2', 'Сапфирпт', '0,14', 'КР', '2/3*синий'),\n",
       " ('6', 'Сапфирпт', '0,120', 'КР', '2/3*синий'),\n",
       " ('2', 'Сапфирпт', '0,050', 'КР', '2/3*синий'),\n",
       " ('2', 'Сапфирпт', '0,030', 'КР', '2/3*синий'),\n",
       " ('5', 'СапфирПТ', '0,150', 'КР', '4/2*Розовый'),\n",
       " ('2', 'СапфирПТ', '1,148', 'КР', '4/2'),\n",
       " ('5', 'СапфирПТ', '0,150', 'Кр', '4/2*Розовый'),\n",
       " ('3', 'СапфирПТ', '0,150', 'КР', '3/2'),\n",
       " ('2', 'СапфирПТ', '0,320', 'КР', '2/2'),\n",
       " ('2', 'СапфирПТ', '0,320', 'КР', '2/2'),\n",
       " ('2', 'СапфирПТ', '0,320', 'КР', '2/3'),\n",
       " ('2', 'СапфирПТ', '0,320', 'КР', '2/3'),\n",
       " ('2', 'СапфирПТ', '0,320', 'КР', '2/3'),\n",
       " ('2', 'СапфирПТ', '0,320', 'КР', '2/3'),\n",
       " ('2', 'СапфирПТ', '0,320', 'КР', '2/3'),\n",
       " ('2', 'СапфирПТ', '0,320', 'КР', '2/3'),\n",
       " ('2', 'СапфирПТ', '0,320', 'КР', '2/3'),\n",
       " ('2', 'СапфирПТ', '1,300', 'КР', '3/2'),\n",
       " ('2', 'СапфирПТ', '1,300', 'КР', '3/3'),\n",
       " ('2', 'Сапфирпт', '1,409', 'КР', '4/3*синий'),\n",
       " ('5', 'СапфирПТ', '0,150', 'КР', '4/2*Розовый'),\n",
       " ('5', 'СапфирПТ', '0,150', 'КР', '4/2*Розовый'),\n",
       " ('5', 'СапфирПТ', '0,150', 'КР', '4/2*Розовый'),\n",
       " ('1', 'Сапфирпт', '0,364', 'КР', '3/2*синий'),\n",
       " ('2', 'Сапфирпт', '1,070', 'ОВ', '3/2*синий'),\n",
       " ('2', 'СапфирПТ', '1,070', 'ОВ', '3/3'),\n",
       " ('2', 'СапфирПТ', '1,070', 'ОВ', '2/2'),\n",
       " ('38', 'СапфирПТ', '20,980', 'Кр', '2/2'),\n",
       " ('77', 'СапфирПТ', '13,750', 'Крн', '2/2'),\n",
       " ('32', 'СапфирПТ', '0,790', 'Кр', '3/3*Оранжевый'),\n",
       " ('32', 'СапфирПТ', '0,820', 'Кр', '3/3*Розовый'),\n",
       " ('51', 'СапфирПТ', '1,200', 'Кр', '3/3*Желтый'),\n",
       " ('27', 'СапфирПТ', '0,530', 'Кр', '3/3*Зеленый'),\n",
       " ('32', 'СапфирПТ', '0,880', 'Кр', '3/3'),\n",
       " ('1', 'СапфирПТ', '0,090', 'Кр', '3/3'),\n",
       " ('1', 'СапфирПТ', '0,120', 'Кр', '3/3*Оранжевый'),\n",
       " ('1', 'СапфирПТ', '0,120', 'Кр', '3/3*Розовый'),\n",
       " ('', 'СапфирПТ', '0,620', 'Гр', '2/1'),\n",
       " ('3', 'СапфирПТ', '0,220', 'Кр', '2/2*Желтый'),\n",
       " ('3', 'СапфирПТ', '0,230', 'Кр', '2/2*Розовый'),\n",
       " ('3', 'СапфирПТ', '0,220', 'Кр', '2/2*Оранжевый'),\n",
       " ('2', 'СапфирПТ', '0,580', 'Кр', '3/3'),\n",
       " ('1', 'СапфирПТ', '0,313', 'КР', '2/2'),\n",
       " ('2', 'СапфирПТ', '0,550', 'ОВ', '2/2'),\n",
       " ('1', 'СапфирПТ', '0,270', 'КР', '2/2'),\n",
       " ('1', 'СапфирПТ', '0,540', 'ОВ', '2/3'),\n",
       " ('1', 'СапфирПТ', '0,440', 'ОВ', '2/3'),\n",
       " ('1', 'СапфирПТ', '0,370', 'ОВ', '2/2'),\n",
       " ('2', 'СапфирПТ', '0,558', 'ОВ', '2/2'),\n",
       " ('2', 'СапфирПТ', '0,558', 'ОВ', '2/2'),\n",
       " ('2', 'СапфирПТ', '0,558', 'ОВ', '2/2'),\n",
       " ('5', 'СапфирПТ', '0,405', 'КР', '2/2'),\n",
       " ('2', 'СапфирПТ', '0,162', 'КР', '2/2'),\n",
       " ('4', 'СапфирПТ', '1,117', 'ОВ', '2/2'),\n",
       " ('4', 'СапфирПТ', '1,117', 'ОВ', '2/2'),\n",
       " ('2', 'СапфирПТ', '0,560', 'ОВ', '2/2'),\n",
       " ('14', 'СапфирПТ', '5,580', 'Ф', '2/2'),\n",
       " ('2', 'СапфирПТ', '0,185', 'КР', '2/3'),\n",
       " ('1', 'СапфирПТ', '0,430', 'КР', '2/2'),\n",
       " ('1', 'СапфирПТ', '0,680', 'КР', '2/2'),\n",
       " ('1', 'СапфирПТ', '0,590', 'КР', '2/2'),\n",
       " ('1', 'СапфирПТ', '0,355', 'КР', '2/2'),\n",
       " ('1', 'СапфирПТ', '0,050', 'Кр', '2/2'),\n",
       " ('12', 'СапфирПТ', '0,423', 'Кр', '1/2'),\n",
       " ('2', 'СапфирПТ', '0,100', 'Кр', '1/2'),\n",
       " ('4', 'СапфирПТ', '0,393', 'Кр', '2/2'),\n",
       " ('1', 'СапфирПТ', '0,093', 'Кр', '2/3'),\n",
       " ('3', 'СапфирПТ', '0,235', 'Кр', '2/2'),\n",
       " ('4', 'СапфирПТ', '0,310', 'Кр', '2/2'),\n",
       " ('4', 'СапфирПТ', '0,310', 'Кр', '2/3'),\n",
       " ('4', 'СапфирПТ', '0,274', 'КР', '1/2'),\n",
       " ('2', 'СапфирПТ', '0,134', 'КР', '1/2'),\n",
       " ('2', 'СапфирПТ', '0,139', 'КР', '1/2'),\n",
       " ('8', 'СапфирПТ', '0,630', 'Кр', '2/2'),\n",
       " ('8', 'СапфирПТ', '0,630', 'Кр', '2/2'),\n",
       " ('8', 'СапфирПТ', '0,780', 'Кр', '2/3'),\n",
       " ('2', 'СапфирПТ', '0,155', 'Кр', '2/2'),\n",
       " ('2', 'СапфирПТ', '0,160', 'Кр', '2/2'),\n",
       " ('2', 'СапфирПТ', '0,160', 'Кр', '2/2'),\n",
       " ('2', 'СапфирПТ', '0,165', 'Кр', '2/2'),\n",
       " ('12', 'СапфирПТ', '0,424', 'Кр', '1/2'),\n",
       " ('1', 'СапфирПТ', '0,093', 'КР', '2/3'),\n",
       " ('3', 'СапфирПТ', '0,235', 'Кр', '2/2'),\n",
       " ('6', 'СапфирПТ', '0,386', 'Кр', '2/2'),\n",
       " ('3', 'СапфирПТ', '4,430', 'Ф', '3/3*ЖелтыйЗеленый'),\n",
       " ('3', 'СапфирПТ', '1,000', 'М', '3/3'),\n",
       " ('1', 'СапфирПТ', '0,150', 'Кр', '2/2'),\n",
       " ('1', 'СапфирПТ', '0,060', 'Кр', '3/3'),\n",
       " ('1', 'СапфирПТ', '0,170', 'Кр', '3/3'),\n",
       " ('1', 'СапфирПТ', '0,760', 'Ф', '2/2'),\n",
       " ('1', 'СапфирПТ', '0,620', 'Ф', '3/3'),\n",
       " ('1', 'Сапфирпт', '0,630', 'Ф', '2/3*синий'),\n",
       " ('8', 'Сапфирпт', '0,080', 'КР', '2/2*синий'),\n",
       " ('2', 'СапфирПТ', '1,220', 'Ф', '3/3'),\n",
       " ('5', 'Сапфирпт', '0,187', 'КР', '3/2*синий'),\n",
       " ('6', 'СапфирПТ', '0,090', 'Кр', '2/2'),\n",
       " ('1', 'СапфирПТ', '0,470', 'ОВ', '2/2'),\n",
       " ('2', 'СапфирПТ', '1,060', 'КР', '2/2'),\n",
       " ('1', 'СапфирПТ', '0,550', 'С', '2/1'),\n",
       " ('1', 'СапфирПТ', '0,120', 'Кр', '2/2'),\n",
       " ('1', 'СапфирПТ', '0,120', 'Кр', '2/2'),\n",
       " ('1', 'СапфирПТ', '0,220', 'КР', '2/2'),\n",
       " ('1', 'СапфирПТ', '0,610', 'Кр', '2/2*Розовый'),\n",
       " ('1', 'СапфирПТ', '0,180', 'М', '2/2'),\n",
       " ('2', 'СапфирПТ', '0,400', 'Кр', '2/3'),\n",
       " ('2', 'СапфирПТ', '0,610', 'Ов', '2/2*Розовый'),\n",
       " ('2', 'СапфирПТ', '0,610', 'Ов', '2/2*Розовый'),\n",
       " ('2', 'СапфирПТ', '0,605', 'Ов', '2/2'),\n",
       " ('2', 'СапфирПТ', '0,400', 'Кр', '2/2'),\n",
       " ('2', 'СапфирПТ', '0,320', 'М', '2/2'),\n",
       " ('2', 'СапфирПТ', '1,810', 'Ов', '3/3'),\n",
       " ('2', 'СапфирПТ', '0,470', 'Кр', '3/3'),\n",
       " ('2', 'СапфирПТ', '1,230', 'Гр', '3/3'),\n",
       " ('2', 'СапфирПТ', '1,148', 'Кр', '4/3'),\n",
       " ('1', 'СапфирПТ', '0,276', 'ОВ', '2/3'),\n",
       " ('1', 'СапфирПТ', '0,332', 'ОВ', '2/2'),\n",
       " ('2', 'СапфирПТ', '0,530', 'ОВ', '2/2'),\n",
       " ('2', 'СапфирПТ', '0,530', 'ОВ', '2/2'),\n",
       " ('1', 'СапфирПТ', '0,600', 'ОВ', '3/3'),\n",
       " ('1', 'СапфирПТ', '0,248', 'ОВ', '2/2'),\n",
       " ('2', 'СапфирПТ', '0,520', 'ОВ', '3/2'),\n",
       " ('4', 'СапфирПТ', '0,194', 'КР', '3/2'),\n",
       " ('2', 'СапфирПТ', '0,488', 'ОВ', '2/2'),\n",
       " ('2', 'СапфирПТ', '0,699', 'ОВ', '2/2'),\n",
       " ('1', 'СапфирПТ', '1,726', 'ОВ', '2/2'),\n",
       " ('6', 'СапфирПТ', '0,260', 'КР', '2/2'),\n",
       " ('1', 'СапфирПТ', '0,120', 'КВ', '3/3'),\n",
       " ('1', 'СапфирПТ', '0,163', 'КР', '3/3'),\n",
       " ('4', 'СапфирПТ', '0,280', 'КР', '2/2*желтый'),\n",
       " ('1', 'СапфирПТ', '1,570', 'ОВ', '2/2'),\n",
       " ('1', 'СапфирПТ', '0,190', 'КР', '2/2'),\n",
       " ('5', 'СапфирПТ', '0,200', 'КР', '2/2'),\n",
       " ('1', 'СапфирПТ', '0,920', 'ОВ', '2/2'),\n",
       " ('1', 'СапфирПТ', '0,190', 'КР', '3/2'),\n",
       " ('1', 'СапфирПТ', '0,060', 'КР', '2/3'),\n",
       " ('2', 'СапфирПТ', '0,540', 'ОВ', '2/2'),\n",
       " ('1', 'СапфирПТ', '0,075', 'кр', '2/3'),\n",
       " ('6', 'СапфирПТ', '0,540', 'кр', '3/3'),\n",
       " ('1', 'СапфирПТ', '0,410', 'ГР', '3/2*желтый'),\n",
       " ('1', 'СапфирПТ', '0,830', 'ф', '3/2*желтый'),\n",
       " ('1', 'СапфирПТ', '0,600', 'С', '2/2'),\n",
       " ('1', 'СапфирПТ', '0,590', 'С', '1/2'),\n",
       " ('1', 'СапфирПТ', '0,690', 'ф', '3/4*желтый'),\n",
       " ('1', 'СапфирПТ', '0,830', 'ф', '5/2'),\n",
       " ('1', 'СапфирПТ', '0,580', 'С', '2/1'),\n",
       " ('1', 'СапфирПТ', '0,890', 'ф', '3/2*желтый'),\n",
       " ('2', 'СапфирПТ', '1,260', 'ф', '3/2*желтый'),\n",
       " ('2', 'СапфирПТ', '0,810', 'ГР', '2/2*желтый'),\n",
       " ('2', 'СапфирПТ', '2,100', 'ГР', '3/2*желтый'),\n",
       " ('2', 'СапфирПТ', '1,040', 'ГР', '2/2*Оранжевый'),\n",
       " ('2', 'СапфирПТ', '1,020', 'С', '1/1'),\n",
       " ('2', 'СапфирПТ', '0,860', 'ГР', '3/3'),\n",
       " ('2', 'СапфирПТ', '0,960', 'ГР', '2/2*Оранжевый'),\n",
       " ('4', 'СапфирПТ', '0,100', 'кр', '2/2'),\n",
       " ('1', 'СапфирПТ', '0,093', 'кр', '2/3'),\n",
       " ('3', 'СапфирПТ', '0,235', 'кр', '2/2'),\n",
       " ('2', 'СапфирПТ', '0,453', 'кв', '2/2'),\n",
       " ('4', 'СапфирПТ', '0,314', 'кр', '2/2'),\n",
       " ('1', 'СапфирПТ', '0,058', 'кв', '2/2'),\n",
       " ('2', 'СапфирПТ', '0,140', 'кв', '2/2'),\n",
       " ('2', 'СапфирПТ', '0,168', 'кр', '2/3'),\n",
       " ('1', 'СапфирПТ', '0,060', 'кв', '2/2'),\n",
       " ('1', 'СапфирПТ', '0,060', 'кв', '2/2'),\n",
       " ('1', 'СапфирПТ', '0,058', 'кв', '2/2'),\n",
       " ('2', 'СапфирПТ', '0,320', 'кр', '2/2'),\n",
       " ('12', 'СапфирПТ', '0,240', 'кр', '2/2'),\n",
       " ('12', 'СапфирПТ', '0,240', 'кр', '2/2'),\n",
       " ('1', 'СапфирПТ', '0,060', 'кв', '2/2'),\n",
       " ('5', 'СапфирПТ', '0,160', 'кр', '3/2'),\n",
       " ('1', 'СапфирПТ', '0,370', 'кр', '2/2'),\n",
       " ('1', 'СапфирПТ', '0,051', 'кр', '2/3'),\n",
       " ('2', 'СапфирПТ', '0,168', 'кр', '2/3'),\n",
       " ('2', 'СапфирПТ', '0,168', 'кр', '2/3'),\n",
       " ('1', 'СапфирПТ', '0,051', 'кр', '2/3'),\n",
       " ('6', 'СапфирПТ', '0,190', 'кр', '4/3*розовый'),\n",
       " ('1', 'СапфирПТ', '0,570', 'ов', '2/1'),\n",
       " ('1', 'СапфирПТ', '0,330', 'пр', '2/1'),\n",
       " ('2', 'СапфирПТ', '1,148', 'кр', '4/3'),\n",
       " ('1', 'СапфирПТ', '0,120', 'кр', '2/2'),\n",
       " ('2', 'СапфирПТ', '0,160', 'кр', '2/2'),\n",
       " ('2', 'СапфирПТ', '0,160', 'кр', '2/2'),\n",
       " ('2', 'СапфирПТ', '0,160', 'кр', '2/2'),\n",
       " ('2', 'СапфирПТ', '0,160', 'кр', '2/2'),\n",
       " ('2', 'СапфирПТ', '0,160', 'кр', '2/2'),\n",
       " ('2', 'СапфирПТ', '0,160', 'кр', '2/2'),\n",
       " ('2', 'СапфирПТ', '0,170', 'кр', '2/2'),\n",
       " ('2', 'СапфирПТ', '0,170', 'кр', '2/2'),\n",
       " ('2', 'СапфирПТ', '0,170', 'кр', '2/2'),\n",
       " ('2', 'СапфирПТ', '0,170', 'кр', '2/2'),\n",
       " ('2', 'СапфирПТ', '0,170', 'кр', '2/2'),\n",
       " ('2', 'СапфирПТ', '0,170', 'кр', '2/2'),\n",
       " ('2', 'СапфирПТ', '0,170', 'кр', '2/2'),\n",
       " ('2', 'СапфирПТ', '0,170', 'кр', '2/2'),\n",
       " ('2', 'СапфирПТ', '0,170', 'кр', '2/2'),\n",
       " ('2', 'СапфирПТ', '0,170', 'кр', '2/2'),\n",
       " ('2', 'СапфирПТ', '0,170', 'кр', '2/2'),\n",
       " ('2', 'СапфирПТ', '1,540', 'кв', '3/3'),\n",
       " ('2', 'СапфирПТ', '1,540', 'кв', '3/3'),\n",
       " ('2', 'СапфирПТ', '1,540', 'кв', '3/3'),\n",
       " ('2', 'СапфирПТ', '1,540', 'кв', '3/3'),\n",
       " ('2', 'СапфирПТ', '1,540', 'кв', '3/3'),\n",
       " ('2', 'СапфирПТ', '1,540', 'кв', '3/3'),\n",
       " ('2', 'СапфирПТ', '1,540', 'кв', '3/3'),\n",
       " ('2', 'СапфирПТ', '1,540', 'кв', '3/3'),\n",
       " ('2', 'СапфирПТ', '1,540', 'кв', '3/3'),\n",
       " ('2', 'СапфирПТ', '1,540', 'кв', '3/3'),\n",
       " ('2', 'СапфирПТ', '1,540', 'кв', '3/3'),\n",
       " ('2', 'СапфирПТ', '1,540', 'кв', '3/3'),\n",
       " ('2', 'СапфирПТ', '1,540', 'кв', '3/3'),\n",
       " ('2', 'СапфирПТ', '1,540', 'кв', '3/3'),\n",
       " ('2', 'СапфирПТ', '0,700', 'Ф', '2/2*Оранжевый'),\n",
       " ('1', 'СапфирПТ', '2,24', 'Кр', '3/2'),\n",
       " ('2', 'СапфирПТ', '4,460', 'Ов', '2/2'),\n",
       " ('4', 'СапфирПТ', '1,210', 'Ф', '2/2'),\n",
       " ('17', 'СапфирПТ', '2,982', 'М', '2/2'),\n",
       " ('2', 'СапфирПТ', '0,406', 'Ов', '2/3'),\n",
       " ('2', 'СапфирПТ', '1,037', 'Ов', '2/2'),\n",
       " ('1', 'СапфирПТ', '0,058', 'Кв', '2/2'),\n",
       " ('1', 'СапфирПТ', '0,058', 'Кв', '2/2'),\n",
       " ('1', 'СапфирПТ', '0,058', 'Кв', '2/2'),\n",
       " ('1', 'СапфирПТ', '0,180', 'КР', '3/3'),\n",
       " ('2', 'СапфирПТ', '0,200', 'КР', '2/2'),\n",
       " ('4', 'СапфирПТ', '0,390', 'КР', '2/2'),\n",
       " ('1', 'СапфирПТ', '0,030', 'КР', '2/2'),\n",
       " ('1', 'СапфирПТ', '0,277', 'КР', '3/2'),\n",
       " ('1', 'СапфирПТ', '0,277', 'Кр', '3/2'),\n",
       " ('1', 'СапфирПТ', '0,314', 'КР', '2/2'),\n",
       " ('1', 'СапфирПТ', '0,449', 'КР', '2/2'),\n",
       " ('1', 'Сапфирпт', '0,080', 'КР', '2/2*синий'),\n",
       " ('1', 'Сапфирпт', '0,293', 'ОВ', '2/3*синий'),\n",
       " ('2', 'Сапфирпт', '1,370', 'ОВ', '2/3*синий'),\n",
       " ('1', 'Сапфирпт', '0,115', 'КР', '2/2*синий'),\n",
       " ('9', 'Сапфирпт', '0,090', 'КР', '2/2*синий'),\n",
       " ('11', 'СапфирПТ', '0,360', 'Кр', '3/2'),\n",
       " ('1', 'СапфирПТ', '0,335', 'Ов', '3/2'),\n",
       " ('1', 'СапфирПТ', '0,203', 'Кр', '2/3'),\n",
       " ('1', 'СапфирПТ', '0,519', 'Ов', '2/2'),\n",
       " ('3', 'СапфирПТ', '0,153', 'С', '2/2'),\n",
       " ('2', 'СапфирПТ', '0,450', 'Гр', '3/3'),\n",
       " ('4', 'Сапфирпт', '0,455', 'КВ', '2/2*синий'),\n",
       " ('1', 'Сапфирпт', '0,287', 'КР', '2/3*синий'),\n",
       " ('6', 'СапфирПТ', '1,260', 'Ов', '2/3'),\n",
       " ('1', 'Сапфирпт', '0,340', 'КР', '2/2*синий'),\n",
       " ('2', 'Сапфирпт', '0,710', 'КР', '2/2*синий'),\n",
       " ('1', 'СапфирПТ', '0,148', 'КР', '2/2'),\n",
       " ('1', 'СапфирПТ', '0,148', 'КР', '2/2'),\n",
       " ('1', 'СапфирПТ', '0,211', 'КР', '2/3'),\n",
       " ('1', 'СапфирПТ', '0,307', 'КР', '4/2'),\n",
       " ('1', 'СапфирПМ', '0,04', 'КР', '2/4'),\n",
       " ('1', 'СапфирПТ', '0,120', 'КР', '2/2'),\n",
       " ('2', 'СапфирПТ', '0,580', 'КР', '2/2'),\n",
       " ('1', 'сапфирПТ', '0,080', 'КР', '2/2'),\n",
       " ('6', 'СапфирПТ', '0,570', 'КР', '3/3'),\n",
       " ('2', 'СапфирПТ', '1,640', 'ГР', '2/2'),\n",
       " ('56', 'СапфирПТ', '0,360', 'КР', '3/3'),\n",
       " ('2', 'СапфирПТ', '0,900', 'ГР', '1/2'),\n",
       " ('1', 'СапфирПТ', '0,100', 'КР', '2/2'),\n",
       " ('1', 'СапфирПТ', '0,600', 'ов', '2/2')]"
      ]
     },
     "execution_count": 244,
     "metadata": {},
     "output_type": "execute_result"
    }
   ],
   "source": [
    "df_test['sapphire_list_p3_'].sum()"
   ]
  },
  {
   "cell_type": "code",
   "execution_count": 245,
   "id": "53896f1a",
   "metadata": {},
   "outputs": [
    {
     "data": {
      "text/plain": [
       "452"
      ]
     },
     "execution_count": 245,
     "metadata": {},
     "output_type": "execute_result"
    }
   ],
   "source": [
    "len(_)"
   ]
  },
  {
   "cell_type": "code",
   "execution_count": 156,
   "id": "a0b92507",
   "metadata": {},
   "outputs": [],
   "source": [
    "df_test['jsapphire_list'] = df_test['vst'].apply(lambda x: re.findall(pattern_jsap, x))"
   ]
  },
  {
   "cell_type": "code",
   "execution_count": 157,
   "id": "3c3e7a6b",
   "metadata": {},
   "outputs": [],
   "source": [
    "df_test['len_sap2'] = df_test['sapphire_list_p2'].map(len) "
   ]
  },
  {
   "cell_type": "code",
   "execution_count": 158,
   "id": "49221889",
   "metadata": {},
   "outputs": [
    {
     "ename": "KeyError",
     "evalue": "'sapphire_list_p3'",
     "output_type": "error",
     "traceback": [
      "\u001b[1;31m---------------------------------------------------------------------------\u001b[0m",
      "\u001b[1;31mKeyError\u001b[0m                                  Traceback (most recent call last)",
      "File \u001b[1;32mC:\\ProgramData\\anaconda3\\lib\\site-packages\\pandas\\core\\indexes\\base.py:3802\u001b[0m, in \u001b[0;36mIndex.get_loc\u001b[1;34m(self, key, method, tolerance)\u001b[0m\n\u001b[0;32m   3801\u001b[0m \u001b[38;5;28;01mtry\u001b[39;00m:\n\u001b[1;32m-> 3802\u001b[0m     \u001b[38;5;28;01mreturn\u001b[39;00m \u001b[38;5;28;43mself\u001b[39;49m\u001b[38;5;241;43m.\u001b[39;49m\u001b[43m_engine\u001b[49m\u001b[38;5;241;43m.\u001b[39;49m\u001b[43mget_loc\u001b[49m\u001b[43m(\u001b[49m\u001b[43mcasted_key\u001b[49m\u001b[43m)\u001b[49m\n\u001b[0;32m   3803\u001b[0m \u001b[38;5;28;01mexcept\u001b[39;00m \u001b[38;5;167;01mKeyError\u001b[39;00m \u001b[38;5;28;01mas\u001b[39;00m err:\n",
      "File \u001b[1;32mC:\\ProgramData\\anaconda3\\lib\\site-packages\\pandas\\_libs\\index.pyx:138\u001b[0m, in \u001b[0;36mpandas._libs.index.IndexEngine.get_loc\u001b[1;34m()\u001b[0m\n",
      "File \u001b[1;32mC:\\ProgramData\\anaconda3\\lib\\site-packages\\pandas\\_libs\\index.pyx:165\u001b[0m, in \u001b[0;36mpandas._libs.index.IndexEngine.get_loc\u001b[1;34m()\u001b[0m\n",
      "File \u001b[1;32mpandas\\_libs\\hashtable_class_helper.pxi:5745\u001b[0m, in \u001b[0;36mpandas._libs.hashtable.PyObjectHashTable.get_item\u001b[1;34m()\u001b[0m\n",
      "File \u001b[1;32mpandas\\_libs\\hashtable_class_helper.pxi:5753\u001b[0m, in \u001b[0;36mpandas._libs.hashtable.PyObjectHashTable.get_item\u001b[1;34m()\u001b[0m\n",
      "\u001b[1;31mKeyError\u001b[0m: 'sapphire_list_p3'",
      "\nThe above exception was the direct cause of the following exception:\n",
      "\u001b[1;31mKeyError\u001b[0m                                  Traceback (most recent call last)",
      "Cell \u001b[1;32mIn[158], line 1\u001b[0m\n\u001b[1;32m----> 1\u001b[0m df_test[\u001b[38;5;124m'\u001b[39m\u001b[38;5;124mlen_sap3\u001b[39m\u001b[38;5;124m'\u001b[39m] \u001b[38;5;241m=\u001b[39m \u001b[43mdf_test\u001b[49m\u001b[43m[\u001b[49m\u001b[38;5;124;43m'\u001b[39;49m\u001b[38;5;124;43msapphire_list_p3\u001b[39;49m\u001b[38;5;124;43m'\u001b[39;49m\u001b[43m]\u001b[49m\u001b[38;5;241m.\u001b[39mmap(\u001b[38;5;28mlen\u001b[39m)\n",
      "File \u001b[1;32mC:\\ProgramData\\anaconda3\\lib\\site-packages\\pandas\\core\\frame.py:3807\u001b[0m, in \u001b[0;36mDataFrame.__getitem__\u001b[1;34m(self, key)\u001b[0m\n\u001b[0;32m   3805\u001b[0m \u001b[38;5;28;01mif\u001b[39;00m \u001b[38;5;28mself\u001b[39m\u001b[38;5;241m.\u001b[39mcolumns\u001b[38;5;241m.\u001b[39mnlevels \u001b[38;5;241m>\u001b[39m \u001b[38;5;241m1\u001b[39m:\n\u001b[0;32m   3806\u001b[0m     \u001b[38;5;28;01mreturn\u001b[39;00m \u001b[38;5;28mself\u001b[39m\u001b[38;5;241m.\u001b[39m_getitem_multilevel(key)\n\u001b[1;32m-> 3807\u001b[0m indexer \u001b[38;5;241m=\u001b[39m \u001b[38;5;28;43mself\u001b[39;49m\u001b[38;5;241;43m.\u001b[39;49m\u001b[43mcolumns\u001b[49m\u001b[38;5;241;43m.\u001b[39;49m\u001b[43mget_loc\u001b[49m\u001b[43m(\u001b[49m\u001b[43mkey\u001b[49m\u001b[43m)\u001b[49m\n\u001b[0;32m   3808\u001b[0m \u001b[38;5;28;01mif\u001b[39;00m is_integer(indexer):\n\u001b[0;32m   3809\u001b[0m     indexer \u001b[38;5;241m=\u001b[39m [indexer]\n",
      "File \u001b[1;32mC:\\ProgramData\\anaconda3\\lib\\site-packages\\pandas\\core\\indexes\\base.py:3804\u001b[0m, in \u001b[0;36mIndex.get_loc\u001b[1;34m(self, key, method, tolerance)\u001b[0m\n\u001b[0;32m   3802\u001b[0m     \u001b[38;5;28;01mreturn\u001b[39;00m \u001b[38;5;28mself\u001b[39m\u001b[38;5;241m.\u001b[39m_engine\u001b[38;5;241m.\u001b[39mget_loc(casted_key)\n\u001b[0;32m   3803\u001b[0m \u001b[38;5;28;01mexcept\u001b[39;00m \u001b[38;5;167;01mKeyError\u001b[39;00m \u001b[38;5;28;01mas\u001b[39;00m err:\n\u001b[1;32m-> 3804\u001b[0m     \u001b[38;5;28;01mraise\u001b[39;00m \u001b[38;5;167;01mKeyError\u001b[39;00m(key) \u001b[38;5;28;01mfrom\u001b[39;00m \u001b[38;5;21;01merr\u001b[39;00m\n\u001b[0;32m   3805\u001b[0m \u001b[38;5;28;01mexcept\u001b[39;00m \u001b[38;5;167;01mTypeError\u001b[39;00m:\n\u001b[0;32m   3806\u001b[0m     \u001b[38;5;66;03m# If we have a listlike key, _check_indexing_error will raise\u001b[39;00m\n\u001b[0;32m   3807\u001b[0m     \u001b[38;5;66;03m#  InvalidIndexError. Otherwise we fall through and re-raise\u001b[39;00m\n\u001b[0;32m   3808\u001b[0m     \u001b[38;5;66;03m#  the TypeError.\u001b[39;00m\n\u001b[0;32m   3809\u001b[0m     \u001b[38;5;28mself\u001b[39m\u001b[38;5;241m.\u001b[39m_check_indexing_error(key)\n",
      "\u001b[1;31mKeyError\u001b[0m: 'sapphire_list_p3'"
     ]
    }
   ],
   "source": [
    "df_test['len_sap3'] = df_test['sapphire_list_p3'].map(len) "
   ]
  },
  {
   "cell_type": "code",
   "execution_count": 159,
   "id": "f21c5e54",
   "metadata": {},
   "outputs": [],
   "source": [
    "df_test['len_jsap'] = df_test['jsapphire_list'].map(len) "
   ]
  },
  {
   "cell_type": "code",
   "execution_count": 165,
   "id": "37a63d10",
   "metadata": {},
   "outputs": [],
   "source": [
    "    df_test['vst2listsap'] = df_test['vst'].apply(lambda x: price_sap_ruby.make_list_sap(x))"
   ]
  },
  {
   "cell_type": "code",
   "execution_count": 166,
   "id": "bf1a6f44",
   "metadata": {},
   "outputs": [],
   "source": [
    "df_test['len_vst2list'] = df_test['vst2listsap'].map(len) \n"
   ]
  },
  {
   "cell_type": "code",
   "execution_count": 167,
   "id": "052b6dac",
   "metadata": {},
   "outputs": [
    {
     "ename": "AttributeError",
     "evalue": "module 'module_prgem.price_sap_ruby' has no attribute 'error_by_lens_patts'",
     "output_type": "error",
     "traceback": [
      "\u001b[1;31m---------------------------------------------------------------------------\u001b[0m",
      "\u001b[1;31mAttributeError\u001b[0m                            Traceback (most recent call last)",
      "Cell \u001b[1;32mIn[167], line 1\u001b[0m\n\u001b[1;32m----> 1\u001b[0m df_test[\u001b[38;5;124m'\u001b[39m\u001b[38;5;124mошибка по длине\u001b[39m\u001b[38;5;124m'\u001b[39m] \u001b[38;5;241m=\u001b[39m \u001b[43mdf_test\u001b[49m\u001b[43m[\u001b[49m\u001b[38;5;124;43m'\u001b[39;49m\u001b[38;5;124;43mvst\u001b[39;49m\u001b[38;5;124;43m'\u001b[39;49m\u001b[43m]\u001b[49m\u001b[38;5;241;43m.\u001b[39;49m\u001b[43mapply\u001b[49m\u001b[43m(\u001b[49m\u001b[38;5;28;43;01mlambda\u001b[39;49;00m\u001b[43m \u001b[49m\u001b[43mx\u001b[49m\u001b[43m:\u001b[49m\u001b[43m \u001b[49m\u001b[43mprice_sap_ruby\u001b[49m\u001b[38;5;241;43m.\u001b[39;49m\u001b[43merror_by_lens_patts\u001b[49m\u001b[43m(\u001b[49m\u001b[43mx\u001b[49m\u001b[43m)\u001b[49m\u001b[43m)\u001b[49m\n",
      "File \u001b[1;32mC:\\ProgramData\\anaconda3\\lib\\site-packages\\pandas\\core\\series.py:4771\u001b[0m, in \u001b[0;36mSeries.apply\u001b[1;34m(self, func, convert_dtype, args, **kwargs)\u001b[0m\n\u001b[0;32m   4661\u001b[0m \u001b[38;5;28;01mdef\u001b[39;00m \u001b[38;5;21mapply\u001b[39m(\n\u001b[0;32m   4662\u001b[0m     \u001b[38;5;28mself\u001b[39m,\n\u001b[0;32m   4663\u001b[0m     func: AggFuncType,\n\u001b[1;32m   (...)\u001b[0m\n\u001b[0;32m   4666\u001b[0m     \u001b[38;5;241m*\u001b[39m\u001b[38;5;241m*\u001b[39mkwargs,\n\u001b[0;32m   4667\u001b[0m ) \u001b[38;5;241m-\u001b[39m\u001b[38;5;241m>\u001b[39m DataFrame \u001b[38;5;241m|\u001b[39m Series:\n\u001b[0;32m   4668\u001b[0m     \u001b[38;5;124;03m\"\"\"\u001b[39;00m\n\u001b[0;32m   4669\u001b[0m \u001b[38;5;124;03m    Invoke function on values of Series.\u001b[39;00m\n\u001b[0;32m   4670\u001b[0m \n\u001b[1;32m   (...)\u001b[0m\n\u001b[0;32m   4769\u001b[0m \u001b[38;5;124;03m    dtype: float64\u001b[39;00m\n\u001b[0;32m   4770\u001b[0m \u001b[38;5;124;03m    \"\"\"\u001b[39;00m\n\u001b[1;32m-> 4771\u001b[0m     \u001b[38;5;28;01mreturn\u001b[39;00m \u001b[43mSeriesApply\u001b[49m\u001b[43m(\u001b[49m\u001b[38;5;28;43mself\u001b[39;49m\u001b[43m,\u001b[49m\u001b[43m \u001b[49m\u001b[43mfunc\u001b[49m\u001b[43m,\u001b[49m\u001b[43m \u001b[49m\u001b[43mconvert_dtype\u001b[49m\u001b[43m,\u001b[49m\u001b[43m \u001b[49m\u001b[43margs\u001b[49m\u001b[43m,\u001b[49m\u001b[43m \u001b[49m\u001b[43mkwargs\u001b[49m\u001b[43m)\u001b[49m\u001b[38;5;241;43m.\u001b[39;49m\u001b[43mapply\u001b[49m\u001b[43m(\u001b[49m\u001b[43m)\u001b[49m\n",
      "File \u001b[1;32mC:\\ProgramData\\anaconda3\\lib\\site-packages\\pandas\\core\\apply.py:1123\u001b[0m, in \u001b[0;36mSeriesApply.apply\u001b[1;34m(self)\u001b[0m\n\u001b[0;32m   1120\u001b[0m     \u001b[38;5;28;01mreturn\u001b[39;00m \u001b[38;5;28mself\u001b[39m\u001b[38;5;241m.\u001b[39mapply_str()\n\u001b[0;32m   1122\u001b[0m \u001b[38;5;66;03m# self.f is Callable\u001b[39;00m\n\u001b[1;32m-> 1123\u001b[0m \u001b[38;5;28;01mreturn\u001b[39;00m \u001b[38;5;28;43mself\u001b[39;49m\u001b[38;5;241;43m.\u001b[39;49m\u001b[43mapply_standard\u001b[49m\u001b[43m(\u001b[49m\u001b[43m)\u001b[49m\n",
      "File \u001b[1;32mC:\\ProgramData\\anaconda3\\lib\\site-packages\\pandas\\core\\apply.py:1174\u001b[0m, in \u001b[0;36mSeriesApply.apply_standard\u001b[1;34m(self)\u001b[0m\n\u001b[0;32m   1172\u001b[0m     \u001b[38;5;28;01melse\u001b[39;00m:\n\u001b[0;32m   1173\u001b[0m         values \u001b[38;5;241m=\u001b[39m obj\u001b[38;5;241m.\u001b[39mastype(\u001b[38;5;28mobject\u001b[39m)\u001b[38;5;241m.\u001b[39m_values\n\u001b[1;32m-> 1174\u001b[0m         mapped \u001b[38;5;241m=\u001b[39m \u001b[43mlib\u001b[49m\u001b[38;5;241;43m.\u001b[39;49m\u001b[43mmap_infer\u001b[49m\u001b[43m(\u001b[49m\n\u001b[0;32m   1175\u001b[0m \u001b[43m            \u001b[49m\u001b[43mvalues\u001b[49m\u001b[43m,\u001b[49m\n\u001b[0;32m   1176\u001b[0m \u001b[43m            \u001b[49m\u001b[43mf\u001b[49m\u001b[43m,\u001b[49m\n\u001b[0;32m   1177\u001b[0m \u001b[43m            \u001b[49m\u001b[43mconvert\u001b[49m\u001b[38;5;241;43m=\u001b[39;49m\u001b[38;5;28;43mself\u001b[39;49m\u001b[38;5;241;43m.\u001b[39;49m\u001b[43mconvert_dtype\u001b[49m\u001b[43m,\u001b[49m\n\u001b[0;32m   1178\u001b[0m \u001b[43m        \u001b[49m\u001b[43m)\u001b[49m\n\u001b[0;32m   1180\u001b[0m \u001b[38;5;28;01mif\u001b[39;00m \u001b[38;5;28mlen\u001b[39m(mapped) \u001b[38;5;129;01mand\u001b[39;00m \u001b[38;5;28misinstance\u001b[39m(mapped[\u001b[38;5;241m0\u001b[39m], ABCSeries):\n\u001b[0;32m   1181\u001b[0m     \u001b[38;5;66;03m# GH#43986 Need to do list(mapped) in order to get treated as nested\u001b[39;00m\n\u001b[0;32m   1182\u001b[0m     \u001b[38;5;66;03m#  See also GH#25959 regarding EA support\u001b[39;00m\n\u001b[0;32m   1183\u001b[0m     \u001b[38;5;28;01mreturn\u001b[39;00m obj\u001b[38;5;241m.\u001b[39m_constructor_expanddim(\u001b[38;5;28mlist\u001b[39m(mapped), index\u001b[38;5;241m=\u001b[39mobj\u001b[38;5;241m.\u001b[39mindex)\n",
      "File \u001b[1;32mC:\\ProgramData\\anaconda3\\lib\\site-packages\\pandas\\_libs\\lib.pyx:2924\u001b[0m, in \u001b[0;36mpandas._libs.lib.map_infer\u001b[1;34m()\u001b[0m\n",
      "Cell \u001b[1;32mIn[167], line 1\u001b[0m, in \u001b[0;36m<lambda>\u001b[1;34m(x)\u001b[0m\n\u001b[1;32m----> 1\u001b[0m df_test[\u001b[38;5;124m'\u001b[39m\u001b[38;5;124mошибка по длине\u001b[39m\u001b[38;5;124m'\u001b[39m] \u001b[38;5;241m=\u001b[39m df_test[\u001b[38;5;124m'\u001b[39m\u001b[38;5;124mvst\u001b[39m\u001b[38;5;124m'\u001b[39m]\u001b[38;5;241m.\u001b[39mapply(\u001b[38;5;28;01mlambda\u001b[39;00m x: \u001b[43mprice_sap_ruby\u001b[49m\u001b[38;5;241;43m.\u001b[39;49m\u001b[43merror_by_lens_patts\u001b[49m(x))\n",
      "\u001b[1;31mAttributeError\u001b[0m: module 'module_prgem.price_sap_ruby' has no attribute 'error_by_lens_patts'"
     ]
    }
   ],
   "source": [
    "df_test['ошибка по длине'] = df_test['vst'].apply(lambda x: price_sap_ruby.error_by_lens_patts(x))"
   ]
  },
  {
   "cell_type": "code",
   "execution_count": 168,
   "id": "510252e2",
   "metadata": {},
   "outputs": [
    {
     "data": {
      "text/plain": [
       "Index(['Код', 'vst', 'sapphire_list_p2', 'sapphire_list_p3_', 'jsapphire_list',\n",
       "       'len_sap2', 'len_jsap', 'vst2listsap', 'len_vst2list'],\n",
       "      dtype='object')"
      ]
     },
     "execution_count": 168,
     "metadata": {},
     "output_type": "execute_result"
    }
   ],
   "source": [
    "df_test.columns"
   ]
  },
  {
   "cell_type": "code",
   "execution_count": 169,
   "id": "1c584a29",
   "metadata": {
    "scrolled": true
   },
   "outputs": [
    {
     "name": "stdout",
     "output_type": "stream",
     "text": [
      "<class 'pandas.core.frame.DataFrame'>\n",
      "RangeIndex: 34509 entries, 0 to 34508\n",
      "Data columns (total 9 columns):\n",
      " #   Column             Non-Null Count  Dtype \n",
      "---  ------             --------------  ----- \n",
      " 0   Код                34509 non-null  object\n",
      " 1   vst                34509 non-null  object\n",
      " 2   sapphire_list_p2   34509 non-null  object\n",
      " 3   sapphire_list_p3_  34509 non-null  object\n",
      " 4   jsapphire_list     34509 non-null  object\n",
      " 5   len_sap2           34509 non-null  int64 \n",
      " 6   len_jsap           34509 non-null  int64 \n",
      " 7   vst2listsap        34509 non-null  object\n",
      " 8   len_vst2list       34509 non-null  int64 \n",
      "dtypes: int64(3), object(6)\n",
      "memory usage: 2.4+ MB\n"
     ]
    }
   ],
   "source": [
    "df_test.info()"
   ]
  },
  {
   "cell_type": "code",
   "execution_count": 171,
   "id": "82ed96fc",
   "metadata": {},
   "outputs": [],
   "source": [
    "df_xs = df_test[['Код', 'vst', 'vst2listsap']].explode('vst2listsap').copy(deep=True)"
   ]
  },
  {
   "cell_type": "code",
   "execution_count": 172,
   "id": "fe537a30",
   "metadata": {},
   "outputs": [
    {
     "name": "stdout",
     "output_type": "stream",
     "text": [
      "<class 'pandas.core.frame.DataFrame'>\n",
      "Int64Index: 34537 entries, 0 to 34508\n",
      "Data columns (total 3 columns):\n",
      " #   Column       Non-Null Count  Dtype \n",
      "---  ------       --------------  ----- \n",
      " 0   Код          34537 non-null  object\n",
      " 1   vst          34537 non-null  object\n",
      " 2   vst2listsap  450 non-null    object\n",
      "dtypes: object(3)\n",
      "memory usage: 1.1+ MB\n"
     ]
    }
   ],
   "source": [
    "df_xs.info()"
   ]
  },
  {
   "cell_type": "code",
   "execution_count": 173,
   "id": "0c627d06",
   "metadata": {
    "scrolled": true
   },
   "outputs": [],
   "source": [
    "df_xs.dropna(subset='vst2listsap', inplace=True)"
   ]
  },
  {
   "cell_type": "markdown",
   "id": "037fe583",
   "metadata": {},
   "source": [
    "### разбор по  [\"PCS\",\"GEM\",\"CARAT\", \"FORM\", \"CQ\"]"
   ]
  },
  {
   "cell_type": "code",
   "execution_count": null,
   "id": "304d3eb9",
   "metadata": {},
   "outputs": [],
   "source": []
  },
  {
   "cell_type": "code",
   "execution_count": null,
   "id": "fc3332a2",
   "metadata": {},
   "outputs": [],
   "source": []
  },
  {
   "cell_type": "code",
   "execution_count": 174,
   "id": "36f01dab",
   "metadata": {},
   "outputs": [],
   "source": [
    "cols = [\"PCS\",\"GEM\",\"CARAT\", \"FORM\", \"CQ\"]\n",
    "for c in range(len(cols)):\n",
    "    df_xs[cols[c]] = df_xs.vst2listsap.apply(lambda x: x[c].lower().strip())"
   ]
  },
  {
   "cell_type": "code",
   "execution_count": 175,
   "id": "29c31464",
   "metadata": {
    "scrolled": true
   },
   "outputs": [
    {
     "data": {
      "text/html": [
       "<div>\n",
       "<style scoped>\n",
       "    .dataframe tbody tr th:only-of-type {\n",
       "        vertical-align: middle;\n",
       "    }\n",
       "\n",
       "    .dataframe tbody tr th {\n",
       "        vertical-align: top;\n",
       "    }\n",
       "\n",
       "    .dataframe thead th {\n",
       "        text-align: right;\n",
       "    }\n",
       "</style>\n",
       "<table border=\"1\" class=\"dataframe\">\n",
       "  <thead>\n",
       "    <tr style=\"text-align: right;\">\n",
       "      <th></th>\n",
       "      <th>Код</th>\n",
       "      <th>vst</th>\n",
       "      <th>vst2listsap</th>\n",
       "      <th>PCS</th>\n",
       "      <th>GEM</th>\n",
       "      <th>CARAT</th>\n",
       "      <th>FORM</th>\n",
       "      <th>CQ</th>\n",
       "    </tr>\n",
       "  </thead>\n",
       "  <tbody>\n",
       "    <tr>\n",
       "      <th>203</th>\n",
       "      <td>ЦБ-00001991</td>\n",
       "      <td>1сапфирПТ-0,450-КВ+2/2 2кр57-0,02-2/3А</td>\n",
       "      <td>(1, сапфирПТ, 0,450, КВ, 2/2)</td>\n",
       "      <td>1</td>\n",
       "      <td>сапфирпт</td>\n",
       "      <td>0,450</td>\n",
       "      <td>кв</td>\n",
       "      <td>2/2</td>\n",
       "    </tr>\n",
       "    <tr>\n",
       "      <th>501</th>\n",
       "      <td>ЦБ-00003190</td>\n",
       "      <td>1сапфирПТ-0,211-ОВ+3/2 4кр57-0,042-3/4А 2кр57-...</td>\n",
       "      <td>(1, сапфирПТ, 0,211, ОВ, 3/2)</td>\n",
       "      <td>1</td>\n",
       "      <td>сапфирпт</td>\n",
       "      <td>0,211</td>\n",
       "      <td>ов</td>\n",
       "      <td>3/2</td>\n",
       "    </tr>\n",
       "    <tr>\n",
       "      <th>879</th>\n",
       "      <td>ЦБ-00005503</td>\n",
       "      <td>12сапфирПТ-0,170-КР+2/3 12Кр57-0,16-3/4А</td>\n",
       "      <td>(12, сапфирПТ, 0,170, КР, 2/3)</td>\n",
       "      <td>12</td>\n",
       "      <td>сапфирпт</td>\n",
       "      <td>0,170</td>\n",
       "      <td>кр</td>\n",
       "      <td>2/3</td>\n",
       "    </tr>\n",
       "    <tr>\n",
       "      <th>950</th>\n",
       "      <td>ЦБ-00005890</td>\n",
       "      <td>2СапфирПТ-0,170-кр+2/2 2Кр57-0,030-3/4А</td>\n",
       "      <td>(2, СапфирПТ, 0,170, кр, 2/2)</td>\n",
       "      <td>2</td>\n",
       "      <td>сапфирпт</td>\n",
       "      <td>0,170</td>\n",
       "      <td>кр</td>\n",
       "      <td>2/2</td>\n",
       "    </tr>\n",
       "    <tr>\n",
       "      <th>951</th>\n",
       "      <td>ЦБ-00005891</td>\n",
       "      <td>2СапфирПТ-0,198-кр+2/3 2Кр57-0,022-2/3А</td>\n",
       "      <td>(2, СапфирПТ, 0,198, кр, 2/3)</td>\n",
       "      <td>2</td>\n",
       "      <td>сапфирпт</td>\n",
       "      <td>0,198</td>\n",
       "      <td>кр</td>\n",
       "      <td>2/3</td>\n",
       "    </tr>\n",
       "    <tr>\n",
       "      <th>...</th>\n",
       "      <td>...</td>\n",
       "      <td>...</td>\n",
       "      <td>...</td>\n",
       "      <td>...</td>\n",
       "      <td>...</td>\n",
       "      <td>...</td>\n",
       "      <td>...</td>\n",
       "      <td>...</td>\n",
       "    </tr>\n",
       "    <tr>\n",
       "      <th>29399</th>\n",
       "      <td>ЦБ-00188585</td>\n",
       "      <td>2СапфирПТ-1,640-ГР+2/2 70КР57-0,820-4/6А</td>\n",
       "      <td>(2, СапфирПТ, 1,640, ГР, 2/2)</td>\n",
       "      <td>2</td>\n",
       "      <td>сапфирпт</td>\n",
       "      <td>1,640</td>\n",
       "      <td>гр</td>\n",
       "      <td>2/2</td>\n",
       "    </tr>\n",
       "    <tr>\n",
       "      <th>29405</th>\n",
       "      <td>ЦБ-00188647</td>\n",
       "      <td>Топаз*Голубой 56СапфирПТ-0,360-КР+3/3</td>\n",
       "      <td>(56, СапфирПТ, 0,360, КР, 3/3)</td>\n",
       "      <td>56</td>\n",
       "      <td>сапфирпт</td>\n",
       "      <td>0,360</td>\n",
       "      <td>кр</td>\n",
       "      <td>3/3</td>\n",
       "    </tr>\n",
       "    <tr>\n",
       "      <th>29409</th>\n",
       "      <td>ЦБ-00188651</td>\n",
       "      <td>2СапфирПТ-0,900-ГР+1/2 9КР57-0,270-4/3А</td>\n",
       "      <td>(2, СапфирПТ, 0,900, ГР, 1/2)</td>\n",
       "      <td>2</td>\n",
       "      <td>сапфирпт</td>\n",
       "      <td>0,900</td>\n",
       "      <td>гр</td>\n",
       "      <td>1/2</td>\n",
       "    </tr>\n",
       "    <tr>\n",
       "      <th>29564</th>\n",
       "      <td>ЦБ-00188961</td>\n",
       "      <td>1СапфирПТ-0,100-КР+2/2 2КР57-0,090-2/4А</td>\n",
       "      <td>(1, СапфирПТ, 0,100, КР, 2/2)</td>\n",
       "      <td>1</td>\n",
       "      <td>сапфирпт</td>\n",
       "      <td>0,100</td>\n",
       "      <td>кр</td>\n",
       "      <td>2/2</td>\n",
       "    </tr>\n",
       "    <tr>\n",
       "      <th>29576</th>\n",
       "      <td>ЦБ-00189699</td>\n",
       "      <td>1СапфирПТ-0,600-ов+2/2 10КР57-0,138-6/6А</td>\n",
       "      <td>(1, СапфирПТ, 0,600, ов, 2/2)</td>\n",
       "      <td>1</td>\n",
       "      <td>сапфирпт</td>\n",
       "      <td>0,600</td>\n",
       "      <td>ов</td>\n",
       "      <td>2/2</td>\n",
       "    </tr>\n",
       "  </tbody>\n",
       "</table>\n",
       "<p>450 rows × 8 columns</p>\n",
       "</div>"
      ],
      "text/plain": [
       "               Код                                                vst  \\\n",
       "203    ЦБ-00001991             1сапфирПТ-0,450-КВ+2/2 2кр57-0,02-2/3А   \n",
       "501    ЦБ-00003190  1сапфирПТ-0,211-ОВ+3/2 4кр57-0,042-3/4А 2кр57-...   \n",
       "879    ЦБ-00005503           12сапфирПТ-0,170-КР+2/3 12Кр57-0,16-3/4А   \n",
       "950    ЦБ-00005890            2СапфирПТ-0,170-кр+2/2 2Кр57-0,030-3/4А   \n",
       "951    ЦБ-00005891            2СапфирПТ-0,198-кр+2/3 2Кр57-0,022-2/3А   \n",
       "...            ...                                                ...   \n",
       "29399  ЦБ-00188585           2СапфирПТ-1,640-ГР+2/2 70КР57-0,820-4/6А   \n",
       "29405  ЦБ-00188647              Топаз*Голубой 56СапфирПТ-0,360-КР+3/3   \n",
       "29409  ЦБ-00188651            2СапфирПТ-0,900-ГР+1/2 9КР57-0,270-4/3А   \n",
       "29564  ЦБ-00188961            1СапфирПТ-0,100-КР+2/2 2КР57-0,090-2/4А   \n",
       "29576  ЦБ-00189699           1СапфирПТ-0,600-ов+2/2 10КР57-0,138-6/6А   \n",
       "\n",
       "                          vst2listsap PCS       GEM  CARAT FORM   CQ  \n",
       "203     (1, сапфирПТ, 0,450, КВ, 2/2)   1  сапфирпт  0,450   кв  2/2  \n",
       "501     (1, сапфирПТ, 0,211, ОВ, 3/2)   1  сапфирпт  0,211   ов  3/2  \n",
       "879    (12, сапфирПТ, 0,170, КР, 2/3)  12  сапфирпт  0,170   кр  2/3  \n",
       "950     (2, СапфирПТ, 0,170, кр, 2/2)   2  сапфирпт  0,170   кр  2/2  \n",
       "951     (2, СапфирПТ, 0,198, кр, 2/3)   2  сапфирпт  0,198   кр  2/3  \n",
       "...                               ...  ..       ...    ...  ...  ...  \n",
       "29399   (2, СапфирПТ, 1,640, ГР, 2/2)   2  сапфирпт  1,640   гр  2/2  \n",
       "29405  (56, СапфирПТ, 0,360, КР, 3/3)  56  сапфирпт  0,360   кр  3/3  \n",
       "29409   (2, СапфирПТ, 0,900, ГР, 1/2)   2  сапфирпт  0,900   гр  1/2  \n",
       "29564   (1, СапфирПТ, 0,100, КР, 2/2)   1  сапфирпт  0,100   кр  2/2  \n",
       "29576   (1, СапфирПТ, 0,600, ов, 2/2)   1  сапфирпт  0,600   ов  2/2  \n",
       "\n",
       "[450 rows x 8 columns]"
      ]
     },
     "execution_count": 175,
     "metadata": {},
     "output_type": "execute_result"
    }
   ],
   "source": [
    "df_xs"
   ]
  },
  {
   "cell_type": "code",
   "execution_count": 176,
   "id": "8d865073",
   "metadata": {},
   "outputs": [
    {
     "name": "stdout",
     "output_type": "stream",
     "text": [
      "PCS ['1' '12' '2' '9' '4' '5' '6' '14' '7' '8' '46' '20' '15' '3' '11' '' '38'\n",
      " '77' '32' '51' '27' '17' '56']\n",
      "GEM ['сапфирпт' 'сапфирпм']\n",
      "CARAT ['0,450' '0,211' '0,170' '0,198' '0,058' '0,168' '0,060' '0,052' '0,320'\n",
      " '0,280' '0,640' '5,020' '0,0585' '0,410' '0,270' '1,290' '0,580' '0,100'\n",
      " '0,400' '0,455' '0,120' '0,770' '0,630' '0,080' '0,150' '0,165' '0,125'\n",
      " '0,140' '0,300' '0,305' '0,543' '0,355' '0,303' '0,240' '0,330' '0,2565'\n",
      " '0,310' '1,097' '0,130' '1,372' '0,110' '0,075' '0,228' '0,040' '0,195'\n",
      " '0,370' '0,160' '0,705' '0,680' '0,104' '0,070' '0,530' '1,300' '3,320'\n",
      " '6,300' '2,280' '0,570' '0,780' '0,135' '0,449' '1,490' '0,092' '0,235'\n",
      " '4,369' '1,050' '1,484' '1,220' '0,430' '0,610' '1,780' '0,360' '0,452'\n",
      " '0,603' '1,205' '0,600' '0,560' '0,200' '0,990' '1,470' '1,020' '0,930'\n",
      " '2,090' '0,090' '1,540' '0,220' '0,180' '0,831' '0,690' '0,700' '0,620'\n",
      " '0,14' '0,050' '0,030' '1,148' '1,409' '0,364' '1,070' '20,980' '13,750'\n",
      " '0,790' '0,820' '1,200' '0,880' '0,230' '0,313' '0,550' '0,540' '0,440'\n",
      " '0,558' '0,405' '0,162' '1,117' '5,580' '0,185' '0,590' '0,423' '0,393'\n",
      " '0,093' '0,274' '0,134' '0,139' '0,155' '0,424' '0,386' '4,430' '1,000'\n",
      " '0,760' '0,187' '0,470' '1,060' '0,605' '1,810' '1,230' '0,276' '0,332'\n",
      " '0,248' '0,520' '0,194' '0,488' '0,699' '1,726' '0,260' '0,163' '1,570'\n",
      " '0,190' '0,920' '0,830' '0,890' '1,260' '0,810' '2,100' '1,040' '0,860'\n",
      " '0,960' '0,453' '0,314' '0,051' '2,24' '4,460' '1,210' '2,982' '0,406'\n",
      " '1,037' '0,390' '0,277' '0,293' '1,370' '0,115' '0,335' '0,203' '0,519'\n",
      " '0,153' '0,287' '0,340' '0,710' '0,148' '0,307' '0,04' '1,640' '0,900']\n",
      "FORM ['кв' 'ов' 'кр' 'пр' 'м' 'кр57' 'гр' 'с' 'нрог' 'ф' 'крн']\n",
      "CQ ['2/2' '3/2' '2/3' '2/3а' '2/3*синий' '2/2*желтый' '1/2' '3/3' '1/1'\n",
      " '2/2*синий' '2/2а' '2/1' '3/1г' '2/4' '5/2' '4в/3' '4/2' '2/2*падпараджа'\n",
      " '2/2*оранжевый' '4/2*розовый' '3/2*синий' '4/3*синий' '3/3*оранжевый'\n",
      " '3/3*розовый' '3/3*желтый' '3/3*зеленый' '2/2*розовый'\n",
      " '3/3*желтыйзеленый' '4/3' '3/2*желтый' '3/4*желтый' '4/3*розовый']\n"
     ]
    }
   ],
   "source": [
    "for c in cols:\n",
    "    print(c, df_xs[c].unique())"
   ]
  },
  {
   "cell_type": "code",
   "execution_count": 177,
   "id": "44ffb926",
   "metadata": {},
   "outputs": [
    {
     "data": {
      "text/html": [
       "<div>\n",
       "<style scoped>\n",
       "    .dataframe tbody tr th:only-of-type {\n",
       "        vertical-align: middle;\n",
       "    }\n",
       "\n",
       "    .dataframe tbody tr th {\n",
       "        vertical-align: top;\n",
       "    }\n",
       "\n",
       "    .dataframe thead th {\n",
       "        text-align: right;\n",
       "    }\n",
       "</style>\n",
       "<table border=\"1\" class=\"dataframe\">\n",
       "  <thead>\n",
       "    <tr style=\"text-align: right;\">\n",
       "      <th></th>\n",
       "      <th>Код</th>\n",
       "      <th>vst</th>\n",
       "      <th>vst2listsap</th>\n",
       "      <th>PCS</th>\n",
       "      <th>GEM</th>\n",
       "      <th>CARAT</th>\n",
       "      <th>FORM</th>\n",
       "      <th>CQ</th>\n",
       "    </tr>\n",
       "  </thead>\n",
       "  <tbody>\n",
       "    <tr>\n",
       "      <th>965</th>\n",
       "      <td>ЦБ-00005905</td>\n",
       "      <td>9СапфирПТ-0,052-кр+2/3А 8Кр57-0,038-4/4А</td>\n",
       "      <td>(9, СапфирПТ, 0,052, кр, 2/3А)</td>\n",
       "      <td>9</td>\n",
       "      <td>сапфирпт</td>\n",
       "      <td>0,052</td>\n",
       "      <td>кр</td>\n",
       "      <td>2/3а</td>\n",
       "    </tr>\n",
       "  </tbody>\n",
       "</table>\n",
       "</div>"
      ],
      "text/plain": [
       "             Код                                       vst  \\\n",
       "965  ЦБ-00005905  9СапфирПТ-0,052-кр+2/3А 8Кр57-0,038-4/4А   \n",
       "\n",
       "                        vst2listsap PCS       GEM  CARAT FORM    CQ  \n",
       "965  (9, СапфирПТ, 0,052, кр, 2/3А)   9  сапфирпт  0,052   кр  2/3а  "
      ]
     },
     "execution_count": 177,
     "metadata": {},
     "output_type": "execute_result"
    }
   ],
   "source": [
    "df_xs[df_xs['CQ']=='2/3а']"
   ]
  },
  {
   "cell_type": "code",
   "execution_count": 178,
   "id": "f4c02e1e",
   "metadata": {},
   "outputs": [
    {
     "data": {
      "text/html": [
       "<div>\n",
       "<style scoped>\n",
       "    .dataframe tbody tr th:only-of-type {\n",
       "        vertical-align: middle;\n",
       "    }\n",
       "\n",
       "    .dataframe tbody tr th {\n",
       "        vertical-align: top;\n",
       "    }\n",
       "\n",
       "    .dataframe thead th {\n",
       "        text-align: right;\n",
       "    }\n",
       "</style>\n",
       "<table border=\"1\" class=\"dataframe\">\n",
       "  <thead>\n",
       "    <tr style=\"text-align: right;\">\n",
       "      <th></th>\n",
       "      <th>Код</th>\n",
       "      <th>vst</th>\n",
       "      <th>vst2listsap</th>\n",
       "      <th>PCS</th>\n",
       "      <th>GEM</th>\n",
       "      <th>CARAT</th>\n",
       "      <th>FORM</th>\n",
       "      <th>CQ</th>\n",
       "    </tr>\n",
       "  </thead>\n",
       "  <tbody>\n",
       "    <tr>\n",
       "      <th>12122</th>\n",
       "      <td>ЦБ-00101518</td>\n",
       "      <td>СапфирПТ-0,320-КР+2/3 4Кр57-0,030-2/4А</td>\n",
       "      <td>(, СапфирПТ, 0,320, КР, 2/3)</td>\n",
       "      <td></td>\n",
       "      <td>сапфирпт</td>\n",
       "      <td>0,320</td>\n",
       "      <td>кр</td>\n",
       "      <td>2/3</td>\n",
       "    </tr>\n",
       "    <tr>\n",
       "      <th>19829</th>\n",
       "      <td>ЦБ-00160647</td>\n",
       "      <td>СапфирПТ-0,620-Гр+2/1 8КР57-0,203-4/6А</td>\n",
       "      <td>(, СапфирПТ, 0,620, Гр, 2/1)</td>\n",
       "      <td></td>\n",
       "      <td>сапфирпт</td>\n",
       "      <td>0,620</td>\n",
       "      <td>гр</td>\n",
       "      <td>2/1</td>\n",
       "    </tr>\n",
       "  </tbody>\n",
       "</table>\n",
       "</div>"
      ],
      "text/plain": [
       "               Код                                     vst  \\\n",
       "12122  ЦБ-00101518  СапфирПТ-0,320-КР+2/3 4Кр57-0,030-2/4А   \n",
       "19829  ЦБ-00160647  СапфирПТ-0,620-Гр+2/1 8КР57-0,203-4/6А   \n",
       "\n",
       "                        vst2listsap PCS       GEM  CARAT FORM   CQ  \n",
       "12122  (, СапфирПТ, 0,320, КР, 2/3)      сапфирпт  0,320   кр  2/3  \n",
       "19829  (, СапфирПТ, 0,620, Гр, 2/1)      сапфирпт  0,620   гр  2/1  "
      ]
     },
     "execution_count": 178,
     "metadata": {},
     "output_type": "execute_result"
    }
   ],
   "source": [
    "df_xs[df_xs['PCS']=='']"
   ]
  },
  {
   "cell_type": "code",
   "execution_count": 179,
   "id": "ba434765",
   "metadata": {},
   "outputs": [],
   "source": [
    "df_xs['C'] = df_xs['CQ'].apply(lambda x: x.split('/')[0].lower().strip())\n",
    "df_xs['Q'] = df_xs['CQ'].apply(lambda x: x.split('/')[1].lower().strip().split('*')[0].strip())\n",
    "df_xs['C_add'] = df_xs['CQ'].apply(lambda x: x.split('/')[1].lower().strip().split('*')[-1].strip()\\\n",
    "                                  if x.__contains__('*') else np.nan)"
   ]
  },
  {
   "cell_type": "code",
   "execution_count": 181,
   "id": "ca71dec8",
   "metadata": {
    "scrolled": false
   },
   "outputs": [
    {
     "data": {
      "text/html": [
       "<div>\n",
       "<style scoped>\n",
       "    .dataframe tbody tr th:only-of-type {\n",
       "        vertical-align: middle;\n",
       "    }\n",
       "\n",
       "    .dataframe tbody tr th {\n",
       "        vertical-align: top;\n",
       "    }\n",
       "\n",
       "    .dataframe thead th {\n",
       "        text-align: right;\n",
       "    }\n",
       "</style>\n",
       "<table border=\"1\" class=\"dataframe\">\n",
       "  <thead>\n",
       "    <tr style=\"text-align: right;\">\n",
       "      <th></th>\n",
       "      <th>Код</th>\n",
       "      <th>vst</th>\n",
       "      <th>vst2listsap</th>\n",
       "      <th>PCS</th>\n",
       "      <th>GEM</th>\n",
       "      <th>CARAT</th>\n",
       "      <th>FORM</th>\n",
       "      <th>CQ</th>\n",
       "      <th>C</th>\n",
       "      <th>Q</th>\n",
       "      <th>C_add</th>\n",
       "    </tr>\n",
       "  </thead>\n",
       "  <tbody>\n",
       "    <tr>\n",
       "      <th>203</th>\n",
       "      <td>ЦБ-00001991</td>\n",
       "      <td>1сапфирПТ-0,450-КВ+2/2 2кр57-0,02-2/3А</td>\n",
       "      <td>(1, сапфирПТ, 0,450, КВ, 2/2)</td>\n",
       "      <td>1</td>\n",
       "      <td>сапфирпт</td>\n",
       "      <td>0,450</td>\n",
       "      <td>кв</td>\n",
       "      <td>2/2</td>\n",
       "      <td>2</td>\n",
       "      <td>2</td>\n",
       "      <td>NaN</td>\n",
       "    </tr>\n",
       "    <tr>\n",
       "      <th>501</th>\n",
       "      <td>ЦБ-00003190</td>\n",
       "      <td>1сапфирПТ-0,211-ОВ+3/2 4кр57-0,042-3/4А 2кр57-...</td>\n",
       "      <td>(1, сапфирПТ, 0,211, ОВ, 3/2)</td>\n",
       "      <td>1</td>\n",
       "      <td>сапфирпт</td>\n",
       "      <td>0,211</td>\n",
       "      <td>ов</td>\n",
       "      <td>3/2</td>\n",
       "      <td>3</td>\n",
       "      <td>2</td>\n",
       "      <td>NaN</td>\n",
       "    </tr>\n",
       "    <tr>\n",
       "      <th>879</th>\n",
       "      <td>ЦБ-00005503</td>\n",
       "      <td>12сапфирПТ-0,170-КР+2/3 12Кр57-0,16-3/4А</td>\n",
       "      <td>(12, сапфирПТ, 0,170, КР, 2/3)</td>\n",
       "      <td>12</td>\n",
       "      <td>сапфирпт</td>\n",
       "      <td>0,170</td>\n",
       "      <td>кр</td>\n",
       "      <td>2/3</td>\n",
       "      <td>2</td>\n",
       "      <td>3</td>\n",
       "      <td>NaN</td>\n",
       "    </tr>\n",
       "    <tr>\n",
       "      <th>950</th>\n",
       "      <td>ЦБ-00005890</td>\n",
       "      <td>2СапфирПТ-0,170-кр+2/2 2Кр57-0,030-3/4А</td>\n",
       "      <td>(2, СапфирПТ, 0,170, кр, 2/2)</td>\n",
       "      <td>2</td>\n",
       "      <td>сапфирпт</td>\n",
       "      <td>0,170</td>\n",
       "      <td>кр</td>\n",
       "      <td>2/2</td>\n",
       "      <td>2</td>\n",
       "      <td>2</td>\n",
       "      <td>NaN</td>\n",
       "    </tr>\n",
       "    <tr>\n",
       "      <th>951</th>\n",
       "      <td>ЦБ-00005891</td>\n",
       "      <td>2СапфирПТ-0,198-кр+2/3 2Кр57-0,022-2/3А</td>\n",
       "      <td>(2, СапфирПТ, 0,198, кр, 2/3)</td>\n",
       "      <td>2</td>\n",
       "      <td>сапфирпт</td>\n",
       "      <td>0,198</td>\n",
       "      <td>кр</td>\n",
       "      <td>2/3</td>\n",
       "      <td>2</td>\n",
       "      <td>3</td>\n",
       "      <td>NaN</td>\n",
       "    </tr>\n",
       "    <tr>\n",
       "      <th>...</th>\n",
       "      <td>...</td>\n",
       "      <td>...</td>\n",
       "      <td>...</td>\n",
       "      <td>...</td>\n",
       "      <td>...</td>\n",
       "      <td>...</td>\n",
       "      <td>...</td>\n",
       "      <td>...</td>\n",
       "      <td>...</td>\n",
       "      <td>...</td>\n",
       "      <td>...</td>\n",
       "    </tr>\n",
       "    <tr>\n",
       "      <th>29399</th>\n",
       "      <td>ЦБ-00188585</td>\n",
       "      <td>2СапфирПТ-1,640-ГР+2/2 70КР57-0,820-4/6А</td>\n",
       "      <td>(2, СапфирПТ, 1,640, ГР, 2/2)</td>\n",
       "      <td>2</td>\n",
       "      <td>сапфирпт</td>\n",
       "      <td>1,640</td>\n",
       "      <td>гр</td>\n",
       "      <td>2/2</td>\n",
       "      <td>2</td>\n",
       "      <td>2</td>\n",
       "      <td>NaN</td>\n",
       "    </tr>\n",
       "    <tr>\n",
       "      <th>29405</th>\n",
       "      <td>ЦБ-00188647</td>\n",
       "      <td>Топаз*Голубой 56СапфирПТ-0,360-КР+3/3</td>\n",
       "      <td>(56, СапфирПТ, 0,360, КР, 3/3)</td>\n",
       "      <td>56</td>\n",
       "      <td>сапфирпт</td>\n",
       "      <td>0,360</td>\n",
       "      <td>кр</td>\n",
       "      <td>3/3</td>\n",
       "      <td>3</td>\n",
       "      <td>3</td>\n",
       "      <td>NaN</td>\n",
       "    </tr>\n",
       "    <tr>\n",
       "      <th>29409</th>\n",
       "      <td>ЦБ-00188651</td>\n",
       "      <td>2СапфирПТ-0,900-ГР+1/2 9КР57-0,270-4/3А</td>\n",
       "      <td>(2, СапфирПТ, 0,900, ГР, 1/2)</td>\n",
       "      <td>2</td>\n",
       "      <td>сапфирпт</td>\n",
       "      <td>0,900</td>\n",
       "      <td>гр</td>\n",
       "      <td>1/2</td>\n",
       "      <td>1</td>\n",
       "      <td>2</td>\n",
       "      <td>NaN</td>\n",
       "    </tr>\n",
       "    <tr>\n",
       "      <th>29564</th>\n",
       "      <td>ЦБ-00188961</td>\n",
       "      <td>1СапфирПТ-0,100-КР+2/2 2КР57-0,090-2/4А</td>\n",
       "      <td>(1, СапфирПТ, 0,100, КР, 2/2)</td>\n",
       "      <td>1</td>\n",
       "      <td>сапфирпт</td>\n",
       "      <td>0,100</td>\n",
       "      <td>кр</td>\n",
       "      <td>2/2</td>\n",
       "      <td>2</td>\n",
       "      <td>2</td>\n",
       "      <td>NaN</td>\n",
       "    </tr>\n",
       "    <tr>\n",
       "      <th>29576</th>\n",
       "      <td>ЦБ-00189699</td>\n",
       "      <td>1СапфирПТ-0,600-ов+2/2 10КР57-0,138-6/6А</td>\n",
       "      <td>(1, СапфирПТ, 0,600, ов, 2/2)</td>\n",
       "      <td>1</td>\n",
       "      <td>сапфирпт</td>\n",
       "      <td>0,600</td>\n",
       "      <td>ов</td>\n",
       "      <td>2/2</td>\n",
       "      <td>2</td>\n",
       "      <td>2</td>\n",
       "      <td>NaN</td>\n",
       "    </tr>\n",
       "  </tbody>\n",
       "</table>\n",
       "<p>450 rows × 11 columns</p>\n",
       "</div>"
      ],
      "text/plain": [
       "               Код                                                vst  \\\n",
       "203    ЦБ-00001991             1сапфирПТ-0,450-КВ+2/2 2кр57-0,02-2/3А   \n",
       "501    ЦБ-00003190  1сапфирПТ-0,211-ОВ+3/2 4кр57-0,042-3/4А 2кр57-...   \n",
       "879    ЦБ-00005503           12сапфирПТ-0,170-КР+2/3 12Кр57-0,16-3/4А   \n",
       "950    ЦБ-00005890            2СапфирПТ-0,170-кр+2/2 2Кр57-0,030-3/4А   \n",
       "951    ЦБ-00005891            2СапфирПТ-0,198-кр+2/3 2Кр57-0,022-2/3А   \n",
       "...            ...                                                ...   \n",
       "29399  ЦБ-00188585           2СапфирПТ-1,640-ГР+2/2 70КР57-0,820-4/6А   \n",
       "29405  ЦБ-00188647              Топаз*Голубой 56СапфирПТ-0,360-КР+3/3   \n",
       "29409  ЦБ-00188651            2СапфирПТ-0,900-ГР+1/2 9КР57-0,270-4/3А   \n",
       "29564  ЦБ-00188961            1СапфирПТ-0,100-КР+2/2 2КР57-0,090-2/4А   \n",
       "29576  ЦБ-00189699           1СапфирПТ-0,600-ов+2/2 10КР57-0,138-6/6А   \n",
       "\n",
       "                          vst2listsap PCS       GEM  CARAT FORM   CQ  C  Q  \\\n",
       "203     (1, сапфирПТ, 0,450, КВ, 2/2)   1  сапфирпт  0,450   кв  2/2  2  2   \n",
       "501     (1, сапфирПТ, 0,211, ОВ, 3/2)   1  сапфирпт  0,211   ов  3/2  3  2   \n",
       "879    (12, сапфирПТ, 0,170, КР, 2/3)  12  сапфирпт  0,170   кр  2/3  2  3   \n",
       "950     (2, СапфирПТ, 0,170, кр, 2/2)   2  сапфирпт  0,170   кр  2/2  2  2   \n",
       "951     (2, СапфирПТ, 0,198, кр, 2/3)   2  сапфирпт  0,198   кр  2/3  2  3   \n",
       "...                               ...  ..       ...    ...  ...  ... .. ..   \n",
       "29399   (2, СапфирПТ, 1,640, ГР, 2/2)   2  сапфирпт  1,640   гр  2/2  2  2   \n",
       "29405  (56, СапфирПТ, 0,360, КР, 3/3)  56  сапфирпт  0,360   кр  3/3  3  3   \n",
       "29409   (2, СапфирПТ, 0,900, ГР, 1/2)   2  сапфирпт  0,900   гр  1/2  1  2   \n",
       "29564   (1, СапфирПТ, 0,100, КР, 2/2)   1  сапфирпт  0,100   кр  2/2  2  2   \n",
       "29576   (1, СапфирПТ, 0,600, ов, 2/2)   1  сапфирпт  0,600   ов  2/2  2  2   \n",
       "\n",
       "      C_add  \n",
       "203     NaN  \n",
       "501     NaN  \n",
       "879     NaN  \n",
       "950     NaN  \n",
       "951     NaN  \n",
       "...     ...  \n",
       "29399   NaN  \n",
       "29405   NaN  \n",
       "29409   NaN  \n",
       "29564   NaN  \n",
       "29576   NaN  \n",
       "\n",
       "[450 rows x 11 columns]"
      ]
     },
     "execution_count": 181,
     "metadata": {},
     "output_type": "execute_result"
    }
   ],
   "source": [
    "df_xs"
   ]
  },
  {
   "cell_type": "code",
   "execution_count": 209,
   "id": "04ee60ac",
   "metadata": {},
   "outputs": [
    {
     "data": {
      "text/plain": [
       "'3а 2а 1г'"
      ]
     },
     "execution_count": 209,
     "metadata": {},
     "output_type": "execute_result"
    }
   ],
   "source": [
    "' '.join(df_xs.loc[~df_xs['Q'].apply(lambda x: x in mds.dcla_sap), 'Q'].to_list())"
   ]
  },
  {
   "cell_type": "code",
   "execution_count": null,
   "id": "f72fd01f",
   "metadata": {},
   "outputs": [],
   "source": []
  },
  {
   "cell_type": "code",
   "execution_count": null,
   "id": "5df3388f",
   "metadata": {},
   "outputs": [],
   "source": []
  },
  {
   "cell_type": "code",
   "execution_count": 187,
   "id": "9fa4b325",
   "metadata": {},
   "outputs": [
    {
     "data": {
      "text/plain": [
       "Index(['Код', 'vst', 'vst2listsap', 'PCS', 'GEM', 'CARAT', 'FORM', 'CQ', 'C',\n",
       "       'Q', 'C_add'],\n",
       "      dtype='object')"
      ]
     },
     "execution_count": 187,
     "metadata": {},
     "output_type": "execute_result"
    }
   ],
   "source": [
    "df_xs.columns"
   ]
  },
  {
   "cell_type": "code",
   "execution_count": 197,
   "id": "61ebae41",
   "metadata": {},
   "outputs": [],
   "source": [
    "df_xs[ 'GEM'+'_dict'] =  df_xs['GEM'].map(mds.dgem) \n",
    "df_xs[ 'C'+'_dict'] =  df_xs['C'].map(mds.dcol_sap) \n",
    "df_xs[ 'Q'+'_dict'] =  df_xs['Q'].map(mds.dcla_sap) "
   ]
  },
  {
   "cell_type": "code",
   "execution_count": null,
   "id": "44d1e44b",
   "metadata": {},
   "outputs": [],
   "source": [
    "['PCS', 'GEM', 'CARAT', 'FORM', 'C', 'Q']"
   ]
  },
  {
   "cell_type": "code",
   "execution_count": 199,
   "id": "5628bbe4",
   "metadata": {},
   "outputs": [
    {
     "data": {
      "text/plain": [
       "array(['2', '3', '3а', '1', '2а', '1г', '4'], dtype=object)"
      ]
     },
     "execution_count": 199,
     "metadata": {},
     "output_type": "execute_result"
    }
   ],
   "source": [
    "df_xs['Q'].unique()"
   ]
  },
  {
   "cell_type": "code",
   "execution_count": 200,
   "id": "0977b55a",
   "metadata": {},
   "outputs": [
    {
     "data": {
      "text/html": [
       "<div>\n",
       "<style scoped>\n",
       "    .dataframe tbody tr th:only-of-type {\n",
       "        vertical-align: middle;\n",
       "    }\n",
       "\n",
       "    .dataframe tbody tr th {\n",
       "        vertical-align: top;\n",
       "    }\n",
       "\n",
       "    .dataframe thead th {\n",
       "        text-align: right;\n",
       "    }\n",
       "</style>\n",
       "<table border=\"1\" class=\"dataframe\">\n",
       "  <thead>\n",
       "    <tr style=\"text-align: right;\">\n",
       "      <th></th>\n",
       "      <th>Код</th>\n",
       "      <th>vst</th>\n",
       "      <th>vst2listsap</th>\n",
       "      <th>PCS</th>\n",
       "      <th>GEM</th>\n",
       "      <th>CARAT</th>\n",
       "      <th>FORM</th>\n",
       "      <th>CQ</th>\n",
       "      <th>C</th>\n",
       "      <th>Q</th>\n",
       "      <th>C_add</th>\n",
       "      <th>PCS_dict</th>\n",
       "      <th>GEM_dict</th>\n",
       "      <th>CARAT_dict</th>\n",
       "      <th>FORM_dict</th>\n",
       "      <th>C_dict</th>\n",
       "      <th>Q_dict</th>\n",
       "    </tr>\n",
       "  </thead>\n",
       "  <tbody>\n",
       "    <tr>\n",
       "      <th>6702</th>\n",
       "      <td>ЦБ-00037248</td>\n",
       "      <td>2СапфирПТ-2,280-ОВ+3/1Г 64КР57-0,384-2/3А</td>\n",
       "      <td>(2, СапфирПТ, 2,280, ОВ, 3/1Г)</td>\n",
       "      <td>2</td>\n",
       "      <td>сапфирпт</td>\n",
       "      <td>2,280</td>\n",
       "      <td>ов</td>\n",
       "      <td>3/1г</td>\n",
       "      <td>3</td>\n",
       "      <td>1г</td>\n",
       "      <td>NaN</td>\n",
       "      <td>2</td>\n",
       "      <td>сапфирпт</td>\n",
       "      <td>2,280</td>\n",
       "      <td>ов</td>\n",
       "      <td>3</td>\n",
       "      <td>NaN</td>\n",
       "    </tr>\n",
       "  </tbody>\n",
       "</table>\n",
       "</div>"
      ],
      "text/plain": [
       "              Код                                        vst  \\\n",
       "6702  ЦБ-00037248  2СапфирПТ-2,280-ОВ+3/1Г 64КР57-0,384-2/3А   \n",
       "\n",
       "                         vst2listsap PCS       GEM  CARAT FORM    CQ  C   Q  \\\n",
       "6702  (2, СапфирПТ, 2,280, ОВ, 3/1Г)   2  сапфирпт  2,280   ов  3/1г  3  1г   \n",
       "\n",
       "     C_add PCS_dict  GEM_dict CARAT_dict FORM_dict C_dict Q_dict  \n",
       "6702   NaN        2  сапфирпт      2,280        ов      3    NaN  "
      ]
     },
     "execution_count": 200,
     "metadata": {},
     "output_type": "execute_result"
    }
   ],
   "source": [
    "df_xs[df_xs['Q']=='1г']"
   ]
  },
  {
   "cell_type": "code",
   "execution_count": 204,
   "id": "a4fb01d1",
   "metadata": {},
   "outputs": [
    {
     "data": {
      "text/plain": [
       "'3а 2а 1г'"
      ]
     },
     "execution_count": 204,
     "metadata": {},
     "output_type": "execute_result"
    }
   ],
   "source": [
    "' '.join(df_xs.loc[df_xs['Q'+'_dict'].isna(), 'Q'].to_list())"
   ]
  },
  {
   "cell_type": "code",
   "execution_count": 242,
   "id": "e40012f4",
   "metadata": {},
   "outputs": [
    {
     "data": {
      "text/plain": [
       "203       [1, сапфирпт, 0,450, кв, 2, 2, nan]\n",
       "501       [1, сапфирпт, 0,211, ов, 3, 2, nan]\n",
       "879      [12, сапфирпт, 0,170, кр, 2, 3, nan]\n",
       "950       [2, сапфирпт, 0,170, кр, 2, 2, nan]\n",
       "951       [2, сапфирпт, 0,198, кр, 2, 3, nan]\n",
       "                         ...                 \n",
       "29399     [2, сапфирпт, 1,640, гр, 2, 2, nan]\n",
       "29405    [56, сапфирпт, 0,360, кр, 3, 3, nan]\n",
       "29409     [2, сапфирпт, 0,900, гр, 1, 2, nan]\n",
       "29564     [1, сапфирпт, 0,100, кр, 2, 2, nan]\n",
       "29576     [1, сапфирпт, 0,600, ов, 2, 2, nan]\n",
       "Length: 450, dtype: object"
      ]
     },
     "execution_count": 242,
     "metadata": {},
     "output_type": "execute_result"
    }
   ],
   "source": [
    "df_xs[['PCS', 'GEM', 'CARAT', 'FORM', 'C',\n",
    "       'Q', 'C_add']].apply(lambda x: [y for y in x], axis=1)"
   ]
  },
  {
   "cell_type": "code",
   "execution_count": null,
   "id": "f2dc6a07",
   "metadata": {},
   "outputs": [],
   "source": []
  },
  {
   "cell_type": "code",
   "execution_count": 182,
   "id": "63839fe7",
   "metadata": {},
   "outputs": [
    {
     "data": {
      "text/plain": [
       "array(['2', '3', '3а', '1', '2а', '1г', '4'], dtype=object)"
      ]
     },
     "execution_count": 182,
     "metadata": {},
     "output_type": "execute_result"
    }
   ],
   "source": [
    "df_xs['Q'].unique()"
   ]
  },
  {
   "cell_type": "code",
   "execution_count": 183,
   "id": "680938e5",
   "metadata": {},
   "outputs": [
    {
     "data": {
      "text/plain": [
       "array(['2', '3', '1', '5', '4в', '4'], dtype=object)"
      ]
     },
     "execution_count": 183,
     "metadata": {},
     "output_type": "execute_result"
    }
   ],
   "source": [
    "df_xs['C'].unique()"
   ]
  },
  {
   "cell_type": "code",
   "execution_count": 184,
   "id": "47f9ba18",
   "metadata": {},
   "outputs": [
    {
     "data": {
      "text/plain": [
       "array([nan, 'синий', 'желтый', 'падпараджа', 'оранжевый', 'розовый',\n",
       "       'зеленый', 'желтыйзеленый'], dtype=object)"
      ]
     },
     "execution_count": 184,
     "metadata": {},
     "output_type": "execute_result"
    }
   ],
   "source": [
    "df_xs['C_add'].unique()"
   ]
  },
  {
   "cell_type": "code",
   "execution_count": 185,
   "id": "f5f16322",
   "metadata": {},
   "outputs": [
    {
     "data": {
      "text/plain": [
       "array(['сапфирпт', 'сапфирпм'], dtype=object)"
      ]
     },
     "execution_count": 185,
     "metadata": {},
     "output_type": "execute_result"
    }
   ],
   "source": [
    "df_xs['GEM'].unique()"
   ]
  },
  {
   "cell_type": "code",
   "execution_count": 186,
   "id": "7ac473c0",
   "metadata": {},
   "outputs": [
    {
     "data": {
      "text/plain": [
       "('сапфирпт', 'сапфирпм')"
      ]
     },
     "execution_count": 186,
     "metadata": {},
     "output_type": "execute_result"
    }
   ],
   "source": [
    "'сапфирпт', 'сапфирпм'"
   ]
  },
  {
   "cell_type": "code",
   "execution_count": null,
   "id": "859c1dc4",
   "metadata": {},
   "outputs": [],
   "source": []
  },
  {
   "cell_type": "code",
   "execution_count": 47,
   "id": "a731361e",
   "metadata": {},
   "outputs": [],
   "source": [
    "import module_prgem.price_sap_ruby as price_sap_ruby"
   ]
  },
  {
   "cell_type": "code",
   "execution_count": 48,
   "id": "aacbfbd3",
   "metadata": {},
   "outputs": [
    {
     "data": {
      "text/plain": [
       "[('3', 'Сапфирв', '0,220', 'Кр', '2/2*Желтый'),\n",
       " ('3', 'СапфирПТ', '0,230', 'Кр', '2/2*Розовый'),\n",
       " ('3', 'СапфирПТ', '0,220', 'Кр', '2/2*Оранжевый'),\n",
       " ('1', 'СапфирВТ', '0,603', 'КР', '4/3'),\n",
       " ('1', 'СапфирВТ', '0,603', 'КР', '4/3d'),\n",
       " ('1', 'СапфирВТ', '0,603', 'КР', '4/d3d'),\n",
       " ('1', 'СапфирddВТ', '0,603', 'КР', '4/ 2КР57'),\n",
       " ('1', 'СапфирddВТ', '0,603', 'КР', 'd/v'),\n",
       " ('1', 'СапфирВТ', '0,603', 'КР', 'f4/3'),\n",
       " ('2', 'СапфирПТ', '1,205', 'КР', '4в/3'),\n",
       " ('1', 'СапфирПТ', '0,603', 'кр', '4в/3'),\n",
       " ('2', 'СапфирПТ', '1,205', 'кр', '4в/3')]"
      ]
     },
     "execution_count": 48,
     "metadata": {},
     "output_type": "execute_result"
    }
   ],
   "source": [
    "price_sap_ruby.make_list_sap(ts3)"
   ]
  },
  {
   "cell_type": "code",
   "execution_count": 266,
   "id": "d09e5f87",
   "metadata": {},
   "outputs": [],
   "source": [
    "# ошибки не распознаны\n",
    "ts4='''\n",
    "46КР57-0,202-2/4А 67СапфирПТ-КР-0,332+2/2\n",
    "1СапфирТ-0,603-КР+4в/3 2КР57-0,008-3/6А\n",
    "2СапфирПТ-1,205-КР+4в/3 2КР57-0,008-3/6А\n",
    "1СапфирП-КР-0,093+2/3\n",
    "Сапфир-0,603- кр+4в/3е 2КР57-0,008-3/6А\n",
    "2СапфирПТ-1,205-кр+4в/3 2КР57-0,008-3/6А\n",
    "СапфирПТ-0,074+Кр+2/2 1КР57-0,006-3/4А 5КР57-0,023-3/3А\n",
    "'''"
   ]
  },
  {
   "cell_type": "code",
   "execution_count": 421,
   "id": "0a374ef3",
   "metadata": {},
   "outputs": [
    {
     "data": {
      "text/plain": [
       "[['67', 'сапфирпт', '0,332', 'кр', '2', '2', 'синий'],\n",
       " ['1', 'сапфирпт', '0,603', 'кр', '4', '3', nan],\n",
       " ['2', 'сапфирпт', '1,205', 'кр', '4', '3', nan]]"
      ]
     },
     "execution_count": 421,
     "metadata": {},
     "output_type": "execute_result"
    }
   ],
   "source": [
    "price_sap_ruby.make_list_sap(ts5)[0]"
   ]
  },
  {
   "cell_type": "code",
   "execution_count": 422,
   "id": "ce6239b2",
   "metadata": {},
   "outputs": [
    {
     "data": {
      "text/plain": [
       "'\\n46КР57-0,202-2/4А 67СапфирПТ-КР-0,332+2/2\\n1СапфирТ-0,603-КР+4в/3 2КР57-0,008-3/6А\\n2СапфирПТ-1,205-КР+4в/3 2КР57-0,008-3/6А\\n1СапфирП-КР-0,093+2/3\\nСапфир-0,603- кр+4в/3е 2КР57-0,008-3/6А\\n2СапфирПТ-1,205-кр+4в/3 2КР57-0,008-3/6А\\nСапфирПТ-0,074+Кр+2/2 1КР57-0,006-3/4А 5КР57-0,023-3/3А\\n'"
      ]
     },
     "execution_count": 422,
     "metadata": {},
     "output_type": "execute_result"
    }
   ],
   "source": [
    "ts4"
   ]
  },
  {
   "cell_type": "code",
   "execution_count": 426,
   "id": "851cd254",
   "metadata": {},
   "outputs": [
    {
     "data": {
      "text/plain": [
       "<module 'module_prgem.price_sap_ruby' from 'C:\\\\Users\\\\diva0\\\\work\\\\KDM2023\\\\gems\\\\ipynb\\\\module_prgem\\\\price_sap_ruby.py'>"
      ]
     },
     "execution_count": 426,
     "metadata": {},
     "output_type": "execute_result"
    }
   ],
   "source": [
    "import importlib\n",
    "importlib.reload(price_sap_ruby)"
   ]
  },
  {
   "cell_type": "code",
   "execution_count": 371,
   "id": "5108d37f",
   "metadata": {},
   "outputs": [],
   "source": [
    "# без ошибок\n",
    "ts5='''\n",
    "67СапфирПТ-0,332-КР+2/2*синий\n",
    "1СапфирПТ-0,603-КР+4/3 2КР57-0,008-3/6А\n",
    "2СапфирПТ-1,205-КР+4/3 2КР57-0,008-3/6А\n",
    "'''"
   ]
  },
  {
   "cell_type": "code",
   "execution_count": 429,
   "id": "fa4004aa",
   "metadata": {},
   "outputs": [],
   "source": [
    "stdl = price_sap_ruby.make_list_sap(ts5)[0]"
   ]
  },
  {
   "cell_type": "code",
   "execution_count": null,
   "id": "0ae9f24d",
   "metadata": {},
   "outputs": [],
   "source": []
  },
  {
   "cell_type": "code",
   "execution_count": 456,
   "id": "a93621fc",
   "metadata": {},
   "outputs": [
    {
     "data": {
      "text/plain": [
       "[['67', 'сапфирпт', '0,332', 'кр', '2', '2', 'синий'],\n",
       " ['1', 'сапфирпт', '0,603', 'кр', '4', '3', nan],\n",
       " ['2', 'сапфирпт', '1,205', 'кр', '4', '3', nan]]"
      ]
     },
     "execution_count": 456,
     "metadata": {},
     "output_type": "execute_result"
    }
   ],
   "source": [
    "price_sap_ruby.make_list_sap(ts5)[0]"
   ]
  },
  {
   "cell_type": "code",
   "execution_count": 457,
   "id": "e1cf3361",
   "metadata": {},
   "outputs": [],
   "source": [
    "df_xs['res'] = df_xs.vst.apply(lambda x: price_sap_ruby.make_list_sap(x))"
   ]
  },
  {
   "cell_type": "code",
   "execution_count": 458,
   "id": "fcf5d99b",
   "metadata": {},
   "outputs": [
    {
     "data": {
      "text/plain": [
       "array(['ok:1!=1;C:ok;Q:ok;PCS:ok;GEM:ok;',\n",
       "       'ok:1!=1;C:ok;Q:error:3а;PCS:ok;GEM:ok;',\n",
       "       'ok:2!=2;C:ok;Q:ok;PCS:ok;GEM:ok;',\n",
       "       'ok:1!=1;C:ok;Q:error:2а;PCS:ok;GEM:ok;',\n",
       "       'ok:1!=1;C:ok;Q:error:1г;PCS:ok;GEM:ok;',\n",
       "       'ok:1!=1;C:error:4в;Q:ok;PCS:ok;GEM:ok;',\n",
       "       'ok:1!=1;C:ok;Q:ok;PCS:error:;GEM:ok;',\n",
       "       'bylens:error:4!=2;C:ok;Q:ok;PCS:ok;GEM:error:сапфир сапфир;',\n",
       "       'ok:4!=4;C:ok;Q:ok;PCS:ok;GEM:ok;',\n",
       "       'ok:5!=5;C:ok;Q:ok;PCS:ok;GEM:ok;',\n",
       "       'ok:3!=3;C:ok;Q:ok;PCS:ok;GEM:ok;'], dtype=object)"
      ]
     },
     "execution_count": 458,
     "metadata": {},
     "output_type": "execute_result"
    }
   ],
   "source": [
    "df_xs['res'].apply(lambda x: x[1]).unique()"
   ]
  },
  {
   "cell_type": "code",
   "execution_count": null,
   "id": "6e1c99df",
   "metadata": {},
   "outputs": [],
   "source": []
  },
  {
   "cell_type": "code",
   "execution_count": null,
   "id": "3df2a849",
   "metadata": {},
   "outputs": [],
   "source": []
  },
  {
   "cell_type": "code",
   "execution_count": 356,
   "id": "3247de27",
   "metadata": {},
   "outputs": [
    {
     "data": {
      "text/plain": [
       "[('67', 'СапфирПТ', '0,332', 'КР', '2/2*синий'),\n",
       " ('1', 'СапфирТ', '0,603', 'КР', '4/3'),\n",
       " ('2', 'СапфирПТ', '1,205', 'КР', '4/3')]"
      ]
     },
     "execution_count": 356,
     "metadata": {},
     "output_type": "execute_result"
    }
   ],
   "source": [
    "l=re.findall(pattern_sap, ts5 )\n",
    "l"
   ]
  },
  {
   "cell_type": "code",
   "execution_count": 459,
   "id": "93bd95c8",
   "metadata": {},
   "outputs": [],
   "source": [
    "#создать внутренний dfx\n",
    "dfx = pd.DataFrame({'vstlist':l})\n",
    "cols = [\"PCS\",\"GEM\",\"CARAT\", \"FORM\", \"CQ\"]\n",
    "for c in range(len(cols)):\n",
    "    dfx[cols[c]] = dfx.vstlist.apply(lambda x: x[c].lower().strip())\n",
    "dfx['C'] = dfx['CQ'].apply(lambda x: x.split('/')[0].lower().strip())\n",
    "dfx['Q'] = dfx['CQ'].apply(lambda x: x.split('/')[1].lower().strip().split('*')[0].strip()) \n",
    "dfx['C_add'] = dfx['CQ'].apply(lambda x: x.split('/')[1].lower().strip().split('*')[-1].strip()\\\n",
    "                                      if x.__contains__('*') else np.nan)"
   ]
  },
  {
   "cell_type": "code",
   "execution_count": null,
   "id": "8fe9b189",
   "metadata": {},
   "outputs": [],
   "source": []
  },
  {
   "cell_type": "code",
   "execution_count": 428,
   "id": "14bce9d0",
   "metadata": {},
   "outputs": [
    {
     "data": {
      "text/plain": [
       "3"
      ]
     },
     "execution_count": 428,
     "metadata": {},
     "output_type": "execute_result"
    }
   ],
   "source": [
    "price_sap_ruby.count_price(stdl)"
   ]
  },
  {
   "cell_type": "code",
   "execution_count": 430,
   "id": "d92b0065",
   "metadata": {},
   "outputs": [],
   "source": [
    "dfx = pd.DataFrame({'vstlist':stdl})\n",
    "cols = ['PCS', 'GEM', 'CARAT', 'FORM', 'C', 'Q',  'C_add']"
   ]
  },
  {
   "cell_type": "code",
   "execution_count": 431,
   "id": "3daef7bf",
   "metadata": {},
   "outputs": [
    {
     "data": {
      "text/html": [
       "<div>\n",
       "<style scoped>\n",
       "    .dataframe tbody tr th:only-of-type {\n",
       "        vertical-align: middle;\n",
       "    }\n",
       "\n",
       "    .dataframe tbody tr th {\n",
       "        vertical-align: top;\n",
       "    }\n",
       "\n",
       "    .dataframe thead th {\n",
       "        text-align: right;\n",
       "    }\n",
       "</style>\n",
       "<table border=\"1\" class=\"dataframe\">\n",
       "  <thead>\n",
       "    <tr style=\"text-align: right;\">\n",
       "      <th></th>\n",
       "      <th>vstlist</th>\n",
       "    </tr>\n",
       "  </thead>\n",
       "  <tbody>\n",
       "    <tr>\n",
       "      <th>0</th>\n",
       "      <td>[67, сапфирпт, 0,332, кр, 2, 2, синий]</td>\n",
       "    </tr>\n",
       "    <tr>\n",
       "      <th>1</th>\n",
       "      <td>[1, сапфирпт, 0,603, кр, 4, 3, nan]</td>\n",
       "    </tr>\n",
       "    <tr>\n",
       "      <th>2</th>\n",
       "      <td>[2, сапфирпт, 1,205, кр, 4, 3, nan]</td>\n",
       "    </tr>\n",
       "  </tbody>\n",
       "</table>\n",
       "</div>"
      ],
      "text/plain": [
       "                                  vstlist\n",
       "0  [67, сапфирпт, 0,332, кр, 2, 2, синий]\n",
       "1     [1, сапфирпт, 0,603, кр, 4, 3, nan]\n",
       "2     [2, сапфирпт, 1,205, кр, 4, 3, nan]"
      ]
     },
     "execution_count": 431,
     "metadata": {},
     "output_type": "execute_result"
    }
   ],
   "source": [
    "dfx"
   ]
  },
  {
   "cell_type": "code",
   "execution_count": 445,
   "id": "93dd2743",
   "metadata": {},
   "outputs": [],
   "source": [
    "cols = ['PCS', 'GEM', 'CARAT', 'FORM', 'C', 'Q',  'C_add']\n",
    "for c in range(len(cols)):\n",
    "    dfx[cols[c]] = dfx.vstlist.apply(lambda x: x[c])"
   ]
  },
  {
   "cell_type": "code",
   "execution_count": 448,
   "id": "92766220",
   "metadata": {},
   "outputs": [
    {
     "data": {
      "text/plain": [
       "vstlist     object\n",
       "PCS          int32\n",
       "GEM         object\n",
       "CARAT      float64\n",
       "FORM        object\n",
       "C           object\n",
       "Q           object\n",
       "C_add       object\n",
       "CARAT_1    float64\n",
       "dtype: object"
      ]
     },
     "execution_count": 448,
     "metadata": {},
     "output_type": "execute_result"
    }
   ],
   "source": [
    "dfx.dtypes"
   ]
  },
  {
   "cell_type": "code",
   "execution_count": 447,
   "id": "c9915e14",
   "metadata": {},
   "outputs": [],
   "source": [
    "dfx['PCS'] = dfx['PCS'].astype('int')\n",
    "dfx['CARAT'] = dfx['CARAT'].str.replace(',','.').astype('float')\n",
    "dfx['CARAT_1'] = dfx['CARAT']/dfx['PCS']"
   ]
  },
  {
   "cell_type": "code",
   "execution_count": 449,
   "id": "ee6916f8",
   "metadata": {},
   "outputs": [],
   "source": [
    "dfx['size'] = dfx.apply(lambda x:price_sap_ruby.size_sap_ruby(x['CARAT_1']),axis=1)"
   ]
  },
  {
   "cell_type": "code",
   "execution_count": 450,
   "id": "9f570b18",
   "metadata": {},
   "outputs": [
    {
     "data": {
      "text/html": [
       "<div>\n",
       "<style scoped>\n",
       "    .dataframe tbody tr th:only-of-type {\n",
       "        vertical-align: middle;\n",
       "    }\n",
       "\n",
       "    .dataframe tbody tr th {\n",
       "        vertical-align: top;\n",
       "    }\n",
       "\n",
       "    .dataframe thead th {\n",
       "        text-align: right;\n",
       "    }\n",
       "</style>\n",
       "<table border=\"1\" class=\"dataframe\">\n",
       "  <thead>\n",
       "    <tr style=\"text-align: right;\">\n",
       "      <th></th>\n",
       "      <th>vstlist</th>\n",
       "      <th>PCS</th>\n",
       "      <th>GEM</th>\n",
       "      <th>CARAT</th>\n",
       "      <th>FORM</th>\n",
       "      <th>C</th>\n",
       "      <th>Q</th>\n",
       "      <th>C_add</th>\n",
       "      <th>CARAT_1</th>\n",
       "      <th>size</th>\n",
       "    </tr>\n",
       "  </thead>\n",
       "  <tbody>\n",
       "    <tr>\n",
       "      <th>0</th>\n",
       "      <td>[67, сапфирпт, 0,332, кр, 2, 2, синий]</td>\n",
       "      <td>67</td>\n",
       "      <td>сапфирпт</td>\n",
       "      <td>0.332</td>\n",
       "      <td>кр</td>\n",
       "      <td>2</td>\n",
       "      <td>2</td>\n",
       "      <td>синий</td>\n",
       "      <td>0.004955</td>\n",
       "      <td>До 0,09</td>\n",
       "    </tr>\n",
       "    <tr>\n",
       "      <th>1</th>\n",
       "      <td>[1, сапфирпт, 0,603, кр, 4, 3, nan]</td>\n",
       "      <td>1</td>\n",
       "      <td>сапфирпт</td>\n",
       "      <td>0.603</td>\n",
       "      <td>кр</td>\n",
       "      <td>4</td>\n",
       "      <td>3</td>\n",
       "      <td>NaN</td>\n",
       "      <td>0.603000</td>\n",
       "      <td>0,50-0,99</td>\n",
       "    </tr>\n",
       "    <tr>\n",
       "      <th>2</th>\n",
       "      <td>[2, сапфирпт, 1,205, кр, 4, 3, nan]</td>\n",
       "      <td>2</td>\n",
       "      <td>сапфирпт</td>\n",
       "      <td>1.205</td>\n",
       "      <td>кр</td>\n",
       "      <td>4</td>\n",
       "      <td>3</td>\n",
       "      <td>NaN</td>\n",
       "      <td>0.602500</td>\n",
       "      <td>0,50-0,99</td>\n",
       "    </tr>\n",
       "  </tbody>\n",
       "</table>\n",
       "</div>"
      ],
      "text/plain": [
       "                                  vstlist  PCS       GEM  CARAT FORM  C  Q  \\\n",
       "0  [67, сапфирпт, 0,332, кр, 2, 2, синий]   67  сапфирпт  0.332   кр  2  2   \n",
       "1     [1, сапфирпт, 0,603, кр, 4, 3, nan]    1  сапфирпт  0.603   кр  4  3   \n",
       "2     [2, сапфирпт, 1,205, кр, 4, 3, nan]    2  сапфирпт  1.205   кр  4  3   \n",
       "\n",
       "   C_add   CARAT_1       size  \n",
       "0  синий  0.004955    До 0,09  \n",
       "1    NaN  0.603000  0,50-0,99  \n",
       "2    NaN  0.602500  0,50-0,99  "
      ]
     },
     "execution_count": 450,
     "metadata": {},
     "output_type": "execute_result"
    }
   ],
   "source": [
    "dfx"
   ]
  },
  {
   "cell_type": "code",
   "execution_count": 451,
   "id": "d0c20282",
   "metadata": {},
   "outputs": [],
   "source": [
    "df_pr_sapruby = pd.read_excel('module_prgem/df_pr_sap_ruby_ 64_65_13-02-2020.xlsx',\n",
    "                          dtype={'цвет':'str', 'чистота':'str'})"
   ]
  },
  {
   "cell_type": "code",
   "execution_count": 452,
   "id": "5e3401b5",
   "metadata": {},
   "outputs": [
    {
     "data": {
      "text/html": [
       "<div>\n",
       "<style scoped>\n",
       "    .dataframe tbody tr th:only-of-type {\n",
       "        vertical-align: middle;\n",
       "    }\n",
       "\n",
       "    .dataframe tbody tr th {\n",
       "        vertical-align: top;\n",
       "    }\n",
       "\n",
       "    .dataframe thead th {\n",
       "        text-align: right;\n",
       "    }\n",
       "</style>\n",
       "<table border=\"1\" class=\"dataframe\">\n",
       "  <thead>\n",
       "    <tr style=\"text-align: right;\">\n",
       "      <th></th>\n",
       "      <th>цвет</th>\n",
       "      <th>чистота</th>\n",
       "      <th>size</th>\n",
       "      <th>price</th>\n",
       "      <th>Обработка</th>\n",
       "      <th>ТУ</th>\n",
       "      <th>gemstone</th>\n",
       "      <th>Огранка</th>\n",
       "    </tr>\n",
       "  </thead>\n",
       "  <tbody>\n",
       "    <tr>\n",
       "      <th>0</th>\n",
       "      <td>1</td>\n",
       "      <td>1</td>\n",
       "      <td>До 0,09</td>\n",
       "      <td>180</td>\n",
       "      <td>термо</td>\n",
       "      <td>СТО 45866412-06-2008</td>\n",
       "      <td>РубинПТ</td>\n",
       "      <td>фацетный вид огранки</td>\n",
       "    </tr>\n",
       "    <tr>\n",
       "      <th>1</th>\n",
       "      <td>1</td>\n",
       "      <td>2</td>\n",
       "      <td>До 0,09</td>\n",
       "      <td>170</td>\n",
       "      <td>термо</td>\n",
       "      <td>СТО 45866412-06-2008</td>\n",
       "      <td>РубинПТ</td>\n",
       "      <td>фацетный вид огранки</td>\n",
       "    </tr>\n",
       "    <tr>\n",
       "      <th>2</th>\n",
       "      <td>1</td>\n",
       "      <td>3</td>\n",
       "      <td>До 0,09</td>\n",
       "      <td>160</td>\n",
       "      <td>термо</td>\n",
       "      <td>СТО 45866412-06-2008</td>\n",
       "      <td>РубинПТ</td>\n",
       "      <td>фацетный вид огранки</td>\n",
       "    </tr>\n",
       "    <tr>\n",
       "      <th>3</th>\n",
       "      <td>1</td>\n",
       "      <td>4</td>\n",
       "      <td>До 0,09</td>\n",
       "      <td>90</td>\n",
       "      <td>термо</td>\n",
       "      <td>СТО 45866412-06-2008</td>\n",
       "      <td>РубинПТ</td>\n",
       "      <td>фацетный вид огранки</td>\n",
       "    </tr>\n",
       "    <tr>\n",
       "      <th>4</th>\n",
       "      <td>1</td>\n",
       "      <td>5</td>\n",
       "      <td>До 0,09</td>\n",
       "      <td>85</td>\n",
       "      <td>термо</td>\n",
       "      <td>СТО 45866412-06-2008</td>\n",
       "      <td>РубинПТ</td>\n",
       "      <td>фацетный вид огранки</td>\n",
       "    </tr>\n",
       "    <tr>\n",
       "      <th>...</th>\n",
       "      <td>...</td>\n",
       "      <td>...</td>\n",
       "      <td>...</td>\n",
       "      <td>...</td>\n",
       "      <td>...</td>\n",
       "      <td>...</td>\n",
       "      <td>...</td>\n",
       "      <td>...</td>\n",
       "    </tr>\n",
       "    <tr>\n",
       "      <th>795</th>\n",
       "      <td>5</td>\n",
       "      <td>1</td>\n",
       "      <td>4,00-4,99</td>\n",
       "      <td>1400</td>\n",
       "      <td>необр</td>\n",
       "      <td>СТО 45866412-05-2008</td>\n",
       "      <td>СапфирН</td>\n",
       "      <td>фацетный вид огранки</td>\n",
       "    </tr>\n",
       "    <tr>\n",
       "      <th>796</th>\n",
       "      <td>5</td>\n",
       "      <td>2</td>\n",
       "      <td>4,00-4,99</td>\n",
       "      <td>1200</td>\n",
       "      <td>необр</td>\n",
       "      <td>СТО 45866412-05-2008</td>\n",
       "      <td>СапфирН</td>\n",
       "      <td>фацетный вид огранки</td>\n",
       "    </tr>\n",
       "    <tr>\n",
       "      <th>797</th>\n",
       "      <td>5</td>\n",
       "      <td>3</td>\n",
       "      <td>4,00-4,99</td>\n",
       "      <td>1000</td>\n",
       "      <td>необр</td>\n",
       "      <td>СТО 45866412-05-2008</td>\n",
       "      <td>СапфирН</td>\n",
       "      <td>фацетный вид огранки</td>\n",
       "    </tr>\n",
       "    <tr>\n",
       "      <th>798</th>\n",
       "      <td>5</td>\n",
       "      <td>4</td>\n",
       "      <td>4,00-4,99</td>\n",
       "      <td>700</td>\n",
       "      <td>необр</td>\n",
       "      <td>СТО 45866412-05-2008</td>\n",
       "      <td>СапфирН</td>\n",
       "      <td>фацетный вид огранки</td>\n",
       "    </tr>\n",
       "    <tr>\n",
       "      <th>799</th>\n",
       "      <td>5</td>\n",
       "      <td>5</td>\n",
       "      <td>4,00-4,99</td>\n",
       "      <td>550</td>\n",
       "      <td>необр</td>\n",
       "      <td>СТО 45866412-05-2008</td>\n",
       "      <td>СапфирН</td>\n",
       "      <td>фацетный вид огранки</td>\n",
       "    </tr>\n",
       "  </tbody>\n",
       "</table>\n",
       "<p>800 rows × 8 columns</p>\n",
       "</div>"
      ],
      "text/plain": [
       "    цвет чистота       size  price Обработка                    ТУ gemstone  \\\n",
       "0      1       1    До 0,09    180     термо  СТО 45866412-06-2008  РубинПТ   \n",
       "1      1       2    До 0,09    170     термо  СТО 45866412-06-2008  РубинПТ   \n",
       "2      1       3    До 0,09    160     термо  СТО 45866412-06-2008  РубинПТ   \n",
       "3      1       4    До 0,09     90     термо  СТО 45866412-06-2008  РубинПТ   \n",
       "4      1       5    До 0,09     85     термо  СТО 45866412-06-2008  РубинПТ   \n",
       "..   ...     ...        ...    ...       ...                   ...      ...   \n",
       "795    5       1  4,00-4,99   1400     необр  СТО 45866412-05-2008  СапфирН   \n",
       "796    5       2  4,00-4,99   1200     необр  СТО 45866412-05-2008  СапфирН   \n",
       "797    5       3  4,00-4,99   1000     необр  СТО 45866412-05-2008  СапфирН   \n",
       "798    5       4  4,00-4,99    700     необр  СТО 45866412-05-2008  СапфирН   \n",
       "799    5       5  4,00-4,99    550     необр  СТО 45866412-05-2008  СапфирН   \n",
       "\n",
       "                  Огранка  \n",
       "0    фацетный вид огранки  \n",
       "1    фацетный вид огранки  \n",
       "2    фацетный вид огранки  \n",
       "3    фацетный вид огранки  \n",
       "4    фацетный вид огранки  \n",
       "..                    ...  \n",
       "795  фацетный вид огранки  \n",
       "796  фацетный вид огранки  \n",
       "797  фацетный вид огранки  \n",
       "798  фацетный вид огранки  \n",
       "799  фацетный вид огранки  \n",
       "\n",
       "[800 rows x 8 columns]"
      ]
     },
     "execution_count": 452,
     "metadata": {},
     "output_type": "execute_result"
    }
   ],
   "source": [
    "df_pr_sapruby"
   ]
  },
  {
   "cell_type": "code",
   "execution_count": null,
   "id": "31ab8bb2",
   "metadata": {},
   "outputs": [],
   "source": [
    "dfx = pd.merge(left=dfx, right=pr_em_sto,\n",
    "            how='left', \n",
    "            left_on=['size', 'C', 'Q',],\n",
    "            right_on=['size','цвет', 'чистота'])\n",
    "        dfx['prcost'] = dfx['CARAT']*dfx['price']"
   ]
  },
  {
   "cell_type": "code",
   "execution_count": null,
   "id": "e28e3961",
   "metadata": {},
   "outputs": [],
   "source": [
    " dfx['PCS'] = dfx['PCS'].astype('int')\n",
    "#        dfx['CARAT'] = dfx['CARAT'].str.replace(',','.').astype('float')\n",
    "#        dfx['PCS'] = dfx['PCS'].astype('int')\n",
    "#        dfx['C'] = dfx['C'].map(dcol_em_sto)\n",
    "#        dfx['Q'] = dfx['Q'].map(dcla_em_sto)\n",
    "#        dfx['CARAT_1'] = dfx['CARAT']/dfx['PCS']\n",
    "#        dfx['size'] = dfx.apply(lambda x:size_em_sto(x['Q'],x['CARAT_1']),axis=1)\n",
    "#        dfx = pd.merge(left=dfx, right=pr_em_sto,\n",
    "#            how='left', \n",
    "#            left_on=['size', 'C', 'Q',],\n",
    "#            right_on=['size','цвет', 'чистота'])\n",
    "#        dfx['prcost'] = dfx['CARAT']*dfx['price']"
   ]
  },
  {
   "cell_type": "markdown",
   "id": "0de52dfe",
   "metadata": {},
   "source": [
    "### Разработка count_price(stdl)"
   ]
  },
  {
   "cell_type": "code",
   "execution_count": 722,
   "id": "1c65d6ee",
   "metadata": {},
   "outputs": [
    {
     "data": {
      "text/html": [
       "<div>\n",
       "<style scoped>\n",
       "    .dataframe tbody tr th:only-of-type {\n",
       "        vertical-align: middle;\n",
       "    }\n",
       "\n",
       "    .dataframe tbody tr th {\n",
       "        vertical-align: top;\n",
       "    }\n",
       "\n",
       "    .dataframe thead th {\n",
       "        text-align: right;\n",
       "    }\n",
       "</style>\n",
       "<table border=\"1\" class=\"dataframe\">\n",
       "  <thead>\n",
       "    <tr style=\"text-align: right;\">\n",
       "      <th></th>\n",
       "      <th>vstlist</th>\n",
       "      <th>PCS</th>\n",
       "      <th>GEM</th>\n",
       "      <th>CARAT</th>\n",
       "      <th>FORM</th>\n",
       "      <th>C</th>\n",
       "      <th>Q</th>\n",
       "      <th>CARAT_1</th>\n",
       "      <th>size</th>\n",
       "      <th>price</th>\n",
       "      <th>prcost</th>\n",
       "    </tr>\n",
       "  </thead>\n",
       "  <tbody>\n",
       "    <tr>\n",
       "      <th>0</th>\n",
       "      <td>[67, сапфирпт, 0,332, кр, 2, 2, синий]</td>\n",
       "      <td>67</td>\n",
       "      <td>сапфирпт</td>\n",
       "      <td>0.332</td>\n",
       "      <td>кр</td>\n",
       "      <td>2</td>\n",
       "      <td>2</td>\n",
       "      <td>0.005</td>\n",
       "      <td>До 0,09</td>\n",
       "      <td>65</td>\n",
       "      <td>21.580</td>\n",
       "    </tr>\n",
       "    <tr>\n",
       "      <th>1</th>\n",
       "      <td>[1, сапфирпт, 0,603, кр, 4, 3, nan]</td>\n",
       "      <td>1</td>\n",
       "      <td>сапфирпт</td>\n",
       "      <td>0.603</td>\n",
       "      <td>кр</td>\n",
       "      <td>4</td>\n",
       "      <td>3</td>\n",
       "      <td>0.603</td>\n",
       "      <td>0,50-0,99</td>\n",
       "      <td>85</td>\n",
       "      <td>51.255</td>\n",
       "    </tr>\n",
       "    <tr>\n",
       "      <th>2</th>\n",
       "      <td>[2, сапфирпт, 1,205, кр, 4, 3, nan]</td>\n",
       "      <td>2</td>\n",
       "      <td>сапфирпт</td>\n",
       "      <td>1.205</td>\n",
       "      <td>кр</td>\n",
       "      <td>4</td>\n",
       "      <td>3</td>\n",
       "      <td>0.602</td>\n",
       "      <td>0,50-0,99</td>\n",
       "      <td>85</td>\n",
       "      <td>102.425</td>\n",
       "    </tr>\n",
       "  </tbody>\n",
       "</table>\n",
       "</div>"
      ],
      "text/plain": [
       "                                  vstlist  PCS       GEM  CARAT FORM  C  Q  \\\n",
       "0  [67, сапфирпт, 0,332, кр, 2, 2, синий]   67  сапфирпт  0.332   кр  2  2   \n",
       "1     [1, сапфирпт, 0,603, кр, 4, 3, nan]    1  сапфирпт  0.603   кр  4  3   \n",
       "2     [2, сапфирпт, 1,205, кр, 4, 3, nan]    2  сапфирпт  1.205   кр  4  3   \n",
       "\n",
       "   CARAT_1       size  price   prcost  \n",
       "0    0.005    До 0,09     65   21.580  \n",
       "1    0.603  0,50-0,99     85   51.255  \n",
       "2    0.602  0,50-0,99     85  102.425  "
      ]
     },
     "execution_count": 722,
     "metadata": {},
     "output_type": "execute_result"
    }
   ],
   "source": [
    "dfxm"
   ]
  },
  {
   "cell_type": "code",
   "execution_count": 748,
   "id": "5fec1bd1",
   "metadata": {},
   "outputs": [
    {
     "ename": "AttributeError",
     "evalue": "'str' object has no attribute 'sum'",
     "output_type": "error",
     "traceback": [
      "\u001b[1;31m---------------------------------------------------------------------------\u001b[0m",
      "\u001b[1;31mAttributeError\u001b[0m                            Traceback (most recent call last)",
      "Cell \u001b[1;32mIn[748], line 1\u001b[0m\n\u001b[1;32m----> 1\u001b[0m \u001b[43m(\u001b[49m\u001b[38;5;124;43mf\u001b[39;49m\u001b[38;5;124;43m\"\u001b[39;49m\u001b[38;5;132;43;01m{\u001b[39;49;00m\u001b[43mdfxm\u001b[49m\u001b[43m[\u001b[49m\u001b[38;5;124;43m'\u001b[39;49m\u001b[38;5;124;43mCARAT\u001b[39;49m\u001b[38;5;124;43m'\u001b[39;49m\u001b[43m]\u001b[49m\u001b[38;5;241;43m.\u001b[39;49m\u001b[43mastype\u001b[49m\u001b[43m(\u001b[49m\u001b[38;5;124;43m'\u001b[39;49m\u001b[38;5;124;43mstr\u001b[39;49m\u001b[38;5;124;43m'\u001b[39;49m\u001b[43m)\u001b[49m\u001b[38;5;132;43;01m}\u001b[39;49;00m\u001b[38;5;124;43m+\u001b[39;49m\u001b[38;5;124;43m\"\u001b[39;49m\u001b[43m)\u001b[49m\u001b[38;5;241;43m.\u001b[39;49m\u001b[43msum\u001b[49m()\n",
      "\u001b[1;31mAttributeError\u001b[0m: 'str' object has no attribute 'sum'"
     ]
    }
   ],
   "source": [
    "(f\"{dfxm['CARAT'].astype('str')}+\").sum()"
   ]
  },
  {
   "cell_type": "code",
   "execution_count": 750,
   "id": "563fd29b",
   "metadata": {},
   "outputs": [
    {
     "data": {
      "text/plain": [
       "0    0.332+\n",
       "1    0.603+\n",
       "2    1.205+\n",
       "Name: CARAT, dtype: object"
      ]
     },
     "execution_count": 750,
     "metadata": {},
     "output_type": "execute_result"
    }
   ],
   "source": [
    "dfxm['CARAT'].astype('str')+'+'"
   ]
  },
  {
   "cell_type": "code",
   "execution_count": 728,
   "id": "89c6777b",
   "metadata": {},
   "outputs": [
    {
     "data": {
      "text/plain": [
       "21.580000000000002"
      ]
     },
     "execution_count": 728,
     "metadata": {},
     "output_type": "execute_result"
    }
   ],
   "source": [
    "0.332*65\n"
   ]
  },
  {
   "cell_type": "code",
   "execution_count": 453,
   "id": "54f72e2f",
   "metadata": {},
   "outputs": [
    {
     "data": {
      "text/plain": [
       "<module 'module_prgem.price_sap_ruby' from 'C:\\\\Users\\\\diva0\\\\work\\\\KDM2023\\\\gems\\\\ipynb\\\\module_prgem\\\\price_sap_ruby.py'>"
      ]
     },
     "execution_count": 453,
     "metadata": {},
     "output_type": "execute_result"
    }
   ],
   "source": [
    "import importlib\n",
    "importlib.reload(price_sap_ruby)"
   ]
  },
  {
   "cell_type": "code",
   "execution_count": null,
   "id": "548e89ee",
   "metadata": {},
   "outputs": [],
   "source": [
    "def count_price(stdl):\n",
    "    \n",
    "      \n",
    "    #создать внутренний dfx\n",
    "    dfx = pd.DataFrame({'vstlist':stdl})\n",
    "    cols = ['PCS', 'GEM', 'CARAT', 'FORM', 'C', 'Q',  'C_add']\n",
    "    \n",
    "    try:\n",
    "        pass\n",
    "       # if stdl.__contains__('NaN'):\n",
    "       #     raise ValueError(\"имеется ошибка\")\n",
    "#        dfx['PCS'] = dfx['PCS'].astype('int')\n",
    "#        dfx['CARAT'] = dfx['CARAT'].str.replace(',','.').astype('float')\n",
    "#        dfx['PCS'] = dfx['PCS'].astype('int')\n",
    "#        dfx['C'] = dfx['C'].map(dcol_em_sto)\n",
    "#        dfx['Q'] = dfx['Q'].map(dcla_em_sto)\n",
    "#        dfx['CARAT_1'] = dfx['CARAT']/dfx['PCS']\n",
    "#        dfx['size'] = dfx.apply(lambda x:size_em_sto(x['Q'],x['CARAT_1']),axis=1)\n",
    "#        dfx = pd.merge(left=dfx, right=pr_em_sto,\n",
    "#            how='left', \n",
    "#            left_on=['size', 'C', 'Q',],\n",
    "#            right_on=['size','цвет', 'чистота'])\n",
    "#        dfx['prcost'] = dfx['CARAT']*dfx['price']\n",
    "\n",
    "    except:\n",
    "        return 'error '\n",
    "    return len(dfx)#f\"carat = {dfx['CARAT'].sum():,.3f}\" \n",
    "    \n",
    "    \n",
    "    "
   ]
  },
  {
   "cell_type": "code",
   "execution_count": null,
   "id": "87668a12",
   "metadata": {},
   "outputs": [],
   "source": []
  },
  {
   "cell_type": "code",
   "execution_count": null,
   "id": "fbb24cc9",
   "metadata": {},
   "outputs": [],
   "source": []
  },
  {
   "cell_type": "code",
   "execution_count": 651,
   "id": "8e5fb30c",
   "metadata": {},
   "outputs": [],
   "source": [
    "stdl = price_sap_ruby.make_list_sap(ts5)[0]"
   ]
  },
  {
   "cell_type": "code",
   "execution_count": 652,
   "id": "30eccc36",
   "metadata": {},
   "outputs": [
    {
     "data": {
      "text/plain": [
       "[['67', 'сапфирпт', '0,332', 'кр', '2', '2', 'синий'],\n",
       " ['1', 'сапфирпт', '0,603', 'кр', '4', '3', nan],\n",
       " ['2', 'сапфирпт', '1,205', 'кр', '4', '3', nan]]"
      ]
     },
     "execution_count": 652,
     "metadata": {},
     "output_type": "execute_result"
    }
   ],
   "source": [
    "stdl "
   ]
  },
  {
   "cell_type": "code",
   "execution_count": 653,
   "id": "bb0d9c2e",
   "metadata": {},
   "outputs": [],
   "source": [
    "from module_prgem.price_sap_ruby import size_sap_ruby"
   ]
  },
  {
   "cell_type": "code",
   "execution_count": 654,
   "id": "7c5b3428",
   "metadata": {},
   "outputs": [
    {
     "data": {
      "text/plain": [
       "'0,10-0,24'"
      ]
     },
     "execution_count": 654,
     "metadata": {},
     "output_type": "execute_result"
    }
   ],
   "source": [
    "size_sap_ruby(0.2)"
   ]
  },
  {
   "cell_type": "code",
   "execution_count": 655,
   "id": "509bb510",
   "metadata": {},
   "outputs": [],
   "source": [
    "dfx = pd.DataFrame({'vstlist':stdl})\n",
    "cols = ['PCS', 'GEM', 'CARAT', 'FORM', 'C', 'Q']\n",
    "for c in range(len(cols)):\n",
    "        dfx[cols[c]] = dfx.vstlist.apply(lambda x: x[c].lower().strip())\n",
    "dfx['PCS'] = dfx['PCS'].astype('int')\n",
    "dfx['CARAT'] = dfx['CARAT'].str.replace(',','.').astype('float')\n",
    "dfx['PCS'] = dfx['PCS'].astype('int')\n",
    "dfx['C'] = dfx['C'].map(mds.dcol_sap)\n",
    "dfx['Q'] = dfx['Q'].map(mds.dcla_sap)\n",
    "dfx['GEM'] = dfx['GEM'].map(mds.dgem)\n",
    "dfx['CARAT_1'] = dfx[['CARAT','PCS']].apply(lambda x: round(x['CARAT']/x['PCS'],3) , axis=1)\n",
    "dfx['size'] = dfx['CARAT_1'].apply(lambda x:size_sap_ruby(x))              "
   ]
  },
  {
   "cell_type": "code",
   "execution_count": 656,
   "id": "8fca5005",
   "metadata": {},
   "outputs": [],
   "source": [
    "dfx['CARAT_1'] = dfx[['CARAT','PCS']].apply(lambda x: round(x['CARAT']/x['PCS'],3) , axis=1)"
   ]
  },
  {
   "cell_type": "code",
   "execution_count": 657,
   "id": "cf9e263a",
   "metadata": {},
   "outputs": [
    {
     "data": {
      "text/html": [
       "<div>\n",
       "<style scoped>\n",
       "    .dataframe tbody tr th:only-of-type {\n",
       "        vertical-align: middle;\n",
       "    }\n",
       "\n",
       "    .dataframe tbody tr th {\n",
       "        vertical-align: top;\n",
       "    }\n",
       "\n",
       "    .dataframe thead th {\n",
       "        text-align: right;\n",
       "    }\n",
       "</style>\n",
       "<table border=\"1\" class=\"dataframe\">\n",
       "  <thead>\n",
       "    <tr style=\"text-align: right;\">\n",
       "      <th></th>\n",
       "      <th>vstlist</th>\n",
       "      <th>PCS</th>\n",
       "      <th>GEM</th>\n",
       "      <th>CARAT</th>\n",
       "      <th>FORM</th>\n",
       "      <th>C</th>\n",
       "      <th>Q</th>\n",
       "      <th>CARAT_1</th>\n",
       "      <th>size</th>\n",
       "    </tr>\n",
       "  </thead>\n",
       "  <tbody>\n",
       "    <tr>\n",
       "      <th>0</th>\n",
       "      <td>[67, сапфирпт, 0,332, кр, 2, 2, синий]</td>\n",
       "      <td>67</td>\n",
       "      <td>сапфирпт</td>\n",
       "      <td>0.332</td>\n",
       "      <td>кр</td>\n",
       "      <td>2</td>\n",
       "      <td>2</td>\n",
       "      <td>0.005</td>\n",
       "      <td>До 0,09</td>\n",
       "    </tr>\n",
       "    <tr>\n",
       "      <th>1</th>\n",
       "      <td>[1, сапфирпт, 0,603, кр, 4, 3, nan]</td>\n",
       "      <td>1</td>\n",
       "      <td>сапфирпт</td>\n",
       "      <td>0.603</td>\n",
       "      <td>кр</td>\n",
       "      <td>4</td>\n",
       "      <td>3</td>\n",
       "      <td>0.603</td>\n",
       "      <td>0,50-0,99</td>\n",
       "    </tr>\n",
       "    <tr>\n",
       "      <th>2</th>\n",
       "      <td>[2, сапфирпт, 1,205, кр, 4, 3, nan]</td>\n",
       "      <td>2</td>\n",
       "      <td>сапфирпт</td>\n",
       "      <td>1.205</td>\n",
       "      <td>кр</td>\n",
       "      <td>4</td>\n",
       "      <td>3</td>\n",
       "      <td>0.602</td>\n",
       "      <td>0,50-0,99</td>\n",
       "    </tr>\n",
       "  </tbody>\n",
       "</table>\n",
       "</div>"
      ],
      "text/plain": [
       "                                  vstlist  PCS       GEM  CARAT FORM  C  Q  \\\n",
       "0  [67, сапфирпт, 0,332, кр, 2, 2, синий]   67  сапфирпт  0.332   кр  2  2   \n",
       "1     [1, сапфирпт, 0,603, кр, 4, 3, nan]    1  сапфирпт  0.603   кр  4  3   \n",
       "2     [2, сапфирпт, 1,205, кр, 4, 3, nan]    2  сапфирпт  1.205   кр  4  3   \n",
       "\n",
       "   CARAT_1       size  \n",
       "0    0.005    До 0,09  \n",
       "1    0.603  0,50-0,99  \n",
       "2    0.602  0,50-0,99  "
      ]
     },
     "execution_count": 657,
     "metadata": {},
     "output_type": "execute_result"
    }
   ],
   "source": [
    "dfx"
   ]
  },
  {
   "cell_type": "code",
   "execution_count": 658,
   "id": "8adc2b53",
   "metadata": {},
   "outputs": [],
   "source": [
    "df_pr_sapruby = pd.read_excel('module_prgem/df_pr_sap_ruby_ 64_65_13-02-2020.xlsx',\n",
    "                          dtype={'цвет':'str', 'чистота':'str'})"
   ]
  },
  {
   "cell_type": "code",
   "execution_count": 659,
   "id": "60aaa04c",
   "metadata": {},
   "outputs": [],
   "source": [
    "df_pr_sapruby['GEM'] = df_pr_sapruby['gemstone'].str.lower().map(mds.dgem)\n",
    "df_pr_sapruby['C'] = df_pr_sapruby['цвет'].str.lower().map(mds.dcol_sap)\n",
    "df_pr_sapruby['Q'] = df_pr_sapruby['чистота'].str.lower().map(mds.dcla_sap)"
   ]
  },
  {
   "cell_type": "code",
   "execution_count": 660,
   "id": "c2f94ec4",
   "metadata": {},
   "outputs": [
    {
     "data": {
      "text/html": [
       "<div>\n",
       "<style scoped>\n",
       "    .dataframe tbody tr th:only-of-type {\n",
       "        vertical-align: middle;\n",
       "    }\n",
       "\n",
       "    .dataframe tbody tr th {\n",
       "        vertical-align: top;\n",
       "    }\n",
       "\n",
       "    .dataframe thead th {\n",
       "        text-align: right;\n",
       "    }\n",
       "</style>\n",
       "<table border=\"1\" class=\"dataframe\">\n",
       "  <thead>\n",
       "    <tr style=\"text-align: right;\">\n",
       "      <th></th>\n",
       "      <th>цвет</th>\n",
       "      <th>чистота</th>\n",
       "      <th>size</th>\n",
       "      <th>price</th>\n",
       "      <th>Обработка</th>\n",
       "      <th>ТУ</th>\n",
       "      <th>gemstone</th>\n",
       "      <th>Огранка</th>\n",
       "      <th>GEM</th>\n",
       "      <th>C</th>\n",
       "      <th>Q</th>\n",
       "    </tr>\n",
       "  </thead>\n",
       "  <tbody>\n",
       "    <tr>\n",
       "      <th>0</th>\n",
       "      <td>1</td>\n",
       "      <td>1</td>\n",
       "      <td>До 0,09</td>\n",
       "      <td>180</td>\n",
       "      <td>термо</td>\n",
       "      <td>СТО 45866412-06-2008</td>\n",
       "      <td>РубинПТ</td>\n",
       "      <td>фацетный вид огранки</td>\n",
       "      <td>рубинпт</td>\n",
       "      <td>1</td>\n",
       "      <td>1</td>\n",
       "    </tr>\n",
       "    <tr>\n",
       "      <th>1</th>\n",
       "      <td>1</td>\n",
       "      <td>2</td>\n",
       "      <td>До 0,09</td>\n",
       "      <td>170</td>\n",
       "      <td>термо</td>\n",
       "      <td>СТО 45866412-06-2008</td>\n",
       "      <td>РубинПТ</td>\n",
       "      <td>фацетный вид огранки</td>\n",
       "      <td>рубинпт</td>\n",
       "      <td>1</td>\n",
       "      <td>2</td>\n",
       "    </tr>\n",
       "    <tr>\n",
       "      <th>2</th>\n",
       "      <td>1</td>\n",
       "      <td>3</td>\n",
       "      <td>До 0,09</td>\n",
       "      <td>160</td>\n",
       "      <td>термо</td>\n",
       "      <td>СТО 45866412-06-2008</td>\n",
       "      <td>РубинПТ</td>\n",
       "      <td>фацетный вид огранки</td>\n",
       "      <td>рубинпт</td>\n",
       "      <td>1</td>\n",
       "      <td>3</td>\n",
       "    </tr>\n",
       "    <tr>\n",
       "      <th>3</th>\n",
       "      <td>1</td>\n",
       "      <td>4</td>\n",
       "      <td>До 0,09</td>\n",
       "      <td>90</td>\n",
       "      <td>термо</td>\n",
       "      <td>СТО 45866412-06-2008</td>\n",
       "      <td>РубинПТ</td>\n",
       "      <td>фацетный вид огранки</td>\n",
       "      <td>рубинпт</td>\n",
       "      <td>1</td>\n",
       "      <td>4</td>\n",
       "    </tr>\n",
       "    <tr>\n",
       "      <th>4</th>\n",
       "      <td>1</td>\n",
       "      <td>5</td>\n",
       "      <td>До 0,09</td>\n",
       "      <td>85</td>\n",
       "      <td>термо</td>\n",
       "      <td>СТО 45866412-06-2008</td>\n",
       "      <td>РубинПТ</td>\n",
       "      <td>фацетный вид огранки</td>\n",
       "      <td>рубинпт</td>\n",
       "      <td>1</td>\n",
       "      <td>5</td>\n",
       "    </tr>\n",
       "    <tr>\n",
       "      <th>...</th>\n",
       "      <td>...</td>\n",
       "      <td>...</td>\n",
       "      <td>...</td>\n",
       "      <td>...</td>\n",
       "      <td>...</td>\n",
       "      <td>...</td>\n",
       "      <td>...</td>\n",
       "      <td>...</td>\n",
       "      <td>...</td>\n",
       "      <td>...</td>\n",
       "      <td>...</td>\n",
       "    </tr>\n",
       "    <tr>\n",
       "      <th>795</th>\n",
       "      <td>5</td>\n",
       "      <td>1</td>\n",
       "      <td>4,00-4,99</td>\n",
       "      <td>1400</td>\n",
       "      <td>необр</td>\n",
       "      <td>СТО 45866412-05-2008</td>\n",
       "      <td>СапфирН</td>\n",
       "      <td>фацетный вид огранки</td>\n",
       "      <td>сапфирн</td>\n",
       "      <td>5</td>\n",
       "      <td>1</td>\n",
       "    </tr>\n",
       "    <tr>\n",
       "      <th>796</th>\n",
       "      <td>5</td>\n",
       "      <td>2</td>\n",
       "      <td>4,00-4,99</td>\n",
       "      <td>1200</td>\n",
       "      <td>необр</td>\n",
       "      <td>СТО 45866412-05-2008</td>\n",
       "      <td>СапфирН</td>\n",
       "      <td>фацетный вид огранки</td>\n",
       "      <td>сапфирн</td>\n",
       "      <td>5</td>\n",
       "      <td>2</td>\n",
       "    </tr>\n",
       "    <tr>\n",
       "      <th>797</th>\n",
       "      <td>5</td>\n",
       "      <td>3</td>\n",
       "      <td>4,00-4,99</td>\n",
       "      <td>1000</td>\n",
       "      <td>необр</td>\n",
       "      <td>СТО 45866412-05-2008</td>\n",
       "      <td>СапфирН</td>\n",
       "      <td>фацетный вид огранки</td>\n",
       "      <td>сапфирн</td>\n",
       "      <td>5</td>\n",
       "      <td>3</td>\n",
       "    </tr>\n",
       "    <tr>\n",
       "      <th>798</th>\n",
       "      <td>5</td>\n",
       "      <td>4</td>\n",
       "      <td>4,00-4,99</td>\n",
       "      <td>700</td>\n",
       "      <td>необр</td>\n",
       "      <td>СТО 45866412-05-2008</td>\n",
       "      <td>СапфирН</td>\n",
       "      <td>фацетный вид огранки</td>\n",
       "      <td>сапфирн</td>\n",
       "      <td>5</td>\n",
       "      <td>4</td>\n",
       "    </tr>\n",
       "    <tr>\n",
       "      <th>799</th>\n",
       "      <td>5</td>\n",
       "      <td>5</td>\n",
       "      <td>4,00-4,99</td>\n",
       "      <td>550</td>\n",
       "      <td>необр</td>\n",
       "      <td>СТО 45866412-05-2008</td>\n",
       "      <td>СапфирН</td>\n",
       "      <td>фацетный вид огранки</td>\n",
       "      <td>сапфирн</td>\n",
       "      <td>5</td>\n",
       "      <td>5</td>\n",
       "    </tr>\n",
       "  </tbody>\n",
       "</table>\n",
       "<p>800 rows × 11 columns</p>\n",
       "</div>"
      ],
      "text/plain": [
       "    цвет чистота       size  price Обработка                    ТУ gemstone  \\\n",
       "0      1       1    До 0,09    180     термо  СТО 45866412-06-2008  РубинПТ   \n",
       "1      1       2    До 0,09    170     термо  СТО 45866412-06-2008  РубинПТ   \n",
       "2      1       3    До 0,09    160     термо  СТО 45866412-06-2008  РубинПТ   \n",
       "3      1       4    До 0,09     90     термо  СТО 45866412-06-2008  РубинПТ   \n",
       "4      1       5    До 0,09     85     термо  СТО 45866412-06-2008  РубинПТ   \n",
       "..   ...     ...        ...    ...       ...                   ...      ...   \n",
       "795    5       1  4,00-4,99   1400     необр  СТО 45866412-05-2008  СапфирН   \n",
       "796    5       2  4,00-4,99   1200     необр  СТО 45866412-05-2008  СапфирН   \n",
       "797    5       3  4,00-4,99   1000     необр  СТО 45866412-05-2008  СапфирН   \n",
       "798    5       4  4,00-4,99    700     необр  СТО 45866412-05-2008  СапфирН   \n",
       "799    5       5  4,00-4,99    550     необр  СТО 45866412-05-2008  СапфирН   \n",
       "\n",
       "                  Огранка      GEM  C  Q  \n",
       "0    фацетный вид огранки  рубинпт  1  1  \n",
       "1    фацетный вид огранки  рубинпт  1  2  \n",
       "2    фацетный вид огранки  рубинпт  1  3  \n",
       "3    фацетный вид огранки  рубинпт  1  4  \n",
       "4    фацетный вид огранки  рубинпт  1  5  \n",
       "..                    ...      ... .. ..  \n",
       "795  фацетный вид огранки  сапфирн  5  1  \n",
       "796  фацетный вид огранки  сапфирн  5  2  \n",
       "797  фацетный вид огранки  сапфирн  5  3  \n",
       "798  фацетный вид огранки  сапфирн  5  4  \n",
       "799  фацетный вид огранки  сапфирн  5  5  \n",
       "\n",
       "[800 rows x 11 columns]"
      ]
     },
     "execution_count": 660,
     "metadata": {},
     "output_type": "execute_result"
    }
   ],
   "source": [
    "df_pr_sapruby"
   ]
  },
  {
   "cell_type": "code",
   "execution_count": 661,
   "id": "fc6c65a8",
   "metadata": {},
   "outputs": [
    {
     "data": {
      "text/plain": [
       "Index(['цвет', 'чистота', 'size', 'price', 'Обработка', 'ТУ', 'gemstone',\n",
       "       'Огранка', 'GEM', 'C', 'Q'],\n",
       "      dtype='object')"
      ]
     },
     "execution_count": 661,
     "metadata": {},
     "output_type": "execute_result"
    }
   ],
   "source": [
    "df_pr_sapruby.columns"
   ]
  },
  {
   "cell_type": "code",
   "execution_count": 674,
   "id": "ac6f0905",
   "metadata": {},
   "outputs": [
    {
     "ename": "ValueError",
     "evalue": "Length of values (2) does not match length of index (800)",
     "output_type": "error",
     "traceback": [
      "\u001b[1;31m---------------------------------------------------------------------------\u001b[0m",
      "\u001b[1;31mValueError\u001b[0m                                Traceback (most recent call last)",
      "Cell \u001b[1;32mIn[674], line 1\u001b[0m\n\u001b[1;32m----> 1\u001b[0m df_pr_sapruby[\u001b[38;5;124m'\u001b[39m\u001b[38;5;124mkey\u001b[39m\u001b[38;5;124m'\u001b[39m] \u001b[38;5;241m=\u001b[39m df_pr_sapruby[[\u001b[38;5;124m'\u001b[39m\u001b[38;5;124mGEM\u001b[39m\u001b[38;5;124m'\u001b[39m,\u001b[38;5;124m'\u001b[39m\u001b[38;5;124msize\u001b[39m\u001b[38;5;124m'\u001b[39m, \u001b[38;5;124m'\u001b[39m\u001b[38;5;124mC\u001b[39m\u001b[38;5;124m'\u001b[39m, \u001b[38;5;124m'\u001b[39m\u001b[38;5;124mQ\u001b[39m\u001b[38;5;124m'\u001b[39m]]\u001b[38;5;241m.\u001b[39msum(axis\u001b[38;5;241m=\u001b[39m\u001b[38;5;241m1\u001b[39m) \u001b[38;5;241m!=\u001b[39m \u001b[38;5;28mlen\u001b[39m(df_pr_sapruby[\u001b[38;5;124m'\u001b[39m\u001b[38;5;124mkey\u001b[39m\u001b[38;5;124m'\u001b[39m]\u001b[38;5;241m.\u001b[39munique()), \u001b[38;5;28mlen\u001b[39m(df_pr_sapruby)\n",
      "File \u001b[1;32mC:\\ProgramData\\anaconda3\\lib\\site-packages\\pandas\\core\\frame.py:3980\u001b[0m, in \u001b[0;36mDataFrame.__setitem__\u001b[1;34m(self, key, value)\u001b[0m\n\u001b[0;32m   3977\u001b[0m     \u001b[38;5;28mself\u001b[39m\u001b[38;5;241m.\u001b[39m_setitem_array([key], value)\n\u001b[0;32m   3978\u001b[0m \u001b[38;5;28;01melse\u001b[39;00m:\n\u001b[0;32m   3979\u001b[0m     \u001b[38;5;66;03m# set column\u001b[39;00m\n\u001b[1;32m-> 3980\u001b[0m     \u001b[38;5;28;43mself\u001b[39;49m\u001b[38;5;241;43m.\u001b[39;49m\u001b[43m_set_item\u001b[49m\u001b[43m(\u001b[49m\u001b[43mkey\u001b[49m\u001b[43m,\u001b[49m\u001b[43m \u001b[49m\u001b[43mvalue\u001b[49m\u001b[43m)\u001b[49m\n",
      "File \u001b[1;32mC:\\ProgramData\\anaconda3\\lib\\site-packages\\pandas\\core\\frame.py:4174\u001b[0m, in \u001b[0;36mDataFrame._set_item\u001b[1;34m(self, key, value)\u001b[0m\n\u001b[0;32m   4164\u001b[0m \u001b[38;5;28;01mdef\u001b[39;00m \u001b[38;5;21m_set_item\u001b[39m(\u001b[38;5;28mself\u001b[39m, key, value) \u001b[38;5;241m-\u001b[39m\u001b[38;5;241m>\u001b[39m \u001b[38;5;28;01mNone\u001b[39;00m:\n\u001b[0;32m   4165\u001b[0m     \u001b[38;5;124;03m\"\"\"\u001b[39;00m\n\u001b[0;32m   4166\u001b[0m \u001b[38;5;124;03m    Add series to DataFrame in specified column.\u001b[39;00m\n\u001b[0;32m   4167\u001b[0m \n\u001b[1;32m   (...)\u001b[0m\n\u001b[0;32m   4172\u001b[0m \u001b[38;5;124;03m    ensure homogeneity.\u001b[39;00m\n\u001b[0;32m   4173\u001b[0m \u001b[38;5;124;03m    \"\"\"\u001b[39;00m\n\u001b[1;32m-> 4174\u001b[0m     value \u001b[38;5;241m=\u001b[39m \u001b[38;5;28;43mself\u001b[39;49m\u001b[38;5;241;43m.\u001b[39;49m\u001b[43m_sanitize_column\u001b[49m\u001b[43m(\u001b[49m\u001b[43mvalue\u001b[49m\u001b[43m)\u001b[49m\n\u001b[0;32m   4176\u001b[0m     \u001b[38;5;28;01mif\u001b[39;00m (\n\u001b[0;32m   4177\u001b[0m         key \u001b[38;5;129;01min\u001b[39;00m \u001b[38;5;28mself\u001b[39m\u001b[38;5;241m.\u001b[39mcolumns\n\u001b[0;32m   4178\u001b[0m         \u001b[38;5;129;01mand\u001b[39;00m value\u001b[38;5;241m.\u001b[39mndim \u001b[38;5;241m==\u001b[39m \u001b[38;5;241m1\u001b[39m\n\u001b[0;32m   4179\u001b[0m         \u001b[38;5;129;01mand\u001b[39;00m \u001b[38;5;129;01mnot\u001b[39;00m is_extension_array_dtype(value)\n\u001b[0;32m   4180\u001b[0m     ):\n\u001b[0;32m   4181\u001b[0m         \u001b[38;5;66;03m# broadcast across multiple columns if necessary\u001b[39;00m\n\u001b[0;32m   4182\u001b[0m         \u001b[38;5;28;01mif\u001b[39;00m \u001b[38;5;129;01mnot\u001b[39;00m \u001b[38;5;28mself\u001b[39m\u001b[38;5;241m.\u001b[39mcolumns\u001b[38;5;241m.\u001b[39mis_unique \u001b[38;5;129;01mor\u001b[39;00m \u001b[38;5;28misinstance\u001b[39m(\u001b[38;5;28mself\u001b[39m\u001b[38;5;241m.\u001b[39mcolumns, MultiIndex):\n",
      "File \u001b[1;32mC:\\ProgramData\\anaconda3\\lib\\site-packages\\pandas\\core\\frame.py:4915\u001b[0m, in \u001b[0;36mDataFrame._sanitize_column\u001b[1;34m(self, value)\u001b[0m\n\u001b[0;32m   4912\u001b[0m     \u001b[38;5;28;01mreturn\u001b[39;00m _reindex_for_setitem(Series(value), \u001b[38;5;28mself\u001b[39m\u001b[38;5;241m.\u001b[39mindex)\n\u001b[0;32m   4914\u001b[0m \u001b[38;5;28;01mif\u001b[39;00m is_list_like(value):\n\u001b[1;32m-> 4915\u001b[0m     \u001b[43mcom\u001b[49m\u001b[38;5;241;43m.\u001b[39;49m\u001b[43mrequire_length_match\u001b[49m\u001b[43m(\u001b[49m\u001b[43mvalue\u001b[49m\u001b[43m,\u001b[49m\u001b[43m \u001b[49m\u001b[38;5;28;43mself\u001b[39;49m\u001b[38;5;241;43m.\u001b[39;49m\u001b[43mindex\u001b[49m\u001b[43m)\u001b[49m\n\u001b[0;32m   4916\u001b[0m \u001b[38;5;28;01mreturn\u001b[39;00m sanitize_array(value, \u001b[38;5;28mself\u001b[39m\u001b[38;5;241m.\u001b[39mindex, copy\u001b[38;5;241m=\u001b[39m\u001b[38;5;28;01mTrue\u001b[39;00m, allow_2d\u001b[38;5;241m=\u001b[39m\u001b[38;5;28;01mTrue\u001b[39;00m)\n",
      "File \u001b[1;32mC:\\ProgramData\\anaconda3\\lib\\site-packages\\pandas\\core\\common.py:571\u001b[0m, in \u001b[0;36mrequire_length_match\u001b[1;34m(data, index)\u001b[0m\n\u001b[0;32m    567\u001b[0m \u001b[38;5;124;03m\"\"\"\u001b[39;00m\n\u001b[0;32m    568\u001b[0m \u001b[38;5;124;03mCheck the length of data matches the length of the index.\u001b[39;00m\n\u001b[0;32m    569\u001b[0m \u001b[38;5;124;03m\"\"\"\u001b[39;00m\n\u001b[0;32m    570\u001b[0m \u001b[38;5;28;01mif\u001b[39;00m \u001b[38;5;28mlen\u001b[39m(data) \u001b[38;5;241m!=\u001b[39m \u001b[38;5;28mlen\u001b[39m(index):\n\u001b[1;32m--> 571\u001b[0m     \u001b[38;5;28;01mraise\u001b[39;00m \u001b[38;5;167;01mValueError\u001b[39;00m(\n\u001b[0;32m    572\u001b[0m         \u001b[38;5;124m\"\u001b[39m\u001b[38;5;124mLength of values \u001b[39m\u001b[38;5;124m\"\u001b[39m\n\u001b[0;32m    573\u001b[0m         \u001b[38;5;124mf\u001b[39m\u001b[38;5;124m\"\u001b[39m\u001b[38;5;124m(\u001b[39m\u001b[38;5;132;01m{\u001b[39;00m\u001b[38;5;28mlen\u001b[39m(data)\u001b[38;5;132;01m}\u001b[39;00m\u001b[38;5;124m) \u001b[39m\u001b[38;5;124m\"\u001b[39m\n\u001b[0;32m    574\u001b[0m         \u001b[38;5;124m\"\u001b[39m\u001b[38;5;124mdoes not match length of index \u001b[39m\u001b[38;5;124m\"\u001b[39m\n\u001b[0;32m    575\u001b[0m         \u001b[38;5;124mf\u001b[39m\u001b[38;5;124m\"\u001b[39m\u001b[38;5;124m(\u001b[39m\u001b[38;5;132;01m{\u001b[39;00m\u001b[38;5;28mlen\u001b[39m(index)\u001b[38;5;132;01m}\u001b[39;00m\u001b[38;5;124m)\u001b[39m\u001b[38;5;124m\"\u001b[39m\n\u001b[0;32m    576\u001b[0m     )\n",
      "\u001b[1;31mValueError\u001b[0m: Length of values (2) does not match length of index (800)"
     ]
    }
   ],
   "source": [
    "df_pr_sapruby['key'] = df_pr_sapruby[['GEM','size', 'C', 'Q']].sum(axis=1) "
   ]
  },
  {
   "cell_type": "code",
   "execution_count": 676,
   "id": "f4854eae",
   "metadata": {},
   "outputs": [
    {
     "data": {
      "text/plain": [
       "False"
      ]
     },
     "execution_count": 676,
     "metadata": {},
     "output_type": "execute_result"
    }
   ],
   "source": [
    "len(df_pr_sapruby[['GEM','size', 'C', 'Q']].sum(axis=1).unique())!= len(df_pr_sapruby['key'].unique())"
   ]
  },
  {
   "cell_type": "code",
   "execution_count": 706,
   "id": "7f4fd5f5",
   "metadata": {},
   "outputs": [
    {
     "data": {
      "text/plain": [
       "False"
      ]
     },
     "execution_count": 706,
     "metadata": {},
     "output_type": "execute_result"
    }
   ],
   "source": [
    "len(df_pr_sapruby[['GEM','size', 'C', 'Q']].sum(axis=1).unique())!= len(df_pr_sapruby)"
   ]
  },
  {
   "cell_type": "code",
   "execution_count": 707,
   "id": "ccec37d7",
   "metadata": {},
   "outputs": [
    {
     "data": {
      "text/plain": [
       "800"
      ]
     },
     "execution_count": 707,
     "metadata": {},
     "output_type": "execute_result"
    }
   ],
   "source": [
    "len(df_pr_sapruby[['GEM','size', 'C', 'Q']].sum(axis=1).unique())"
   ]
  },
  {
   "cell_type": "code",
   "execution_count": 708,
   "id": "8a6365e6",
   "metadata": {},
   "outputs": [
    {
     "data": {
      "text/plain": [
       "800"
      ]
     },
     "execution_count": 708,
     "metadata": {},
     "output_type": "execute_result"
    }
   ],
   "source": [
    "len(df_pr_sapruby)"
   ]
  },
  {
   "cell_type": "code",
   "execution_count": 678,
   "id": "f9d0b7ad",
   "metadata": {},
   "outputs": [
    {
     "data": {
      "text/plain": [
       "800"
      ]
     },
     "execution_count": 678,
     "metadata": {},
     "output_type": "execute_result"
    }
   ],
   "source": [
    "len(df_pr_sapruby[['GEM','size', 'C', 'Q']].sum(axis=1).unique())"
   ]
  },
  {
   "cell_type": "code",
   "execution_count": 677,
   "id": "b987be47",
   "metadata": {},
   "outputs": [
    {
     "data": {
      "text/plain": [
       "(800, 800)"
      ]
     },
     "execution_count": 677,
     "metadata": {},
     "output_type": "execute_result"
    }
   ],
   "source": [
    "len(df_pr_sapruby['key'].unique()), len(df_pr_sapruby)"
   ]
  },
  {
   "cell_type": "code",
   "execution_count": 664,
   "id": "eda770b3",
   "metadata": {},
   "outputs": [
    {
     "data": {
      "text/plain": [
       "array(['рубинптДо 0,0911', 'рубинптДо 0,0912', 'рубинптДо 0,0913',\n",
       "       'рубинптДо 0,0914', 'рубинптДо 0,0915', 'рубинптДо 0,0921',\n",
       "       'рубинптДо 0,0922', 'рубинптДо 0,0923', 'рубинптДо 0,0924',\n",
       "       'рубинптДо 0,0925', 'рубинптДо 0,0931', 'рубинптДо 0,0932',\n",
       "       'рубинптДо 0,0933', 'рубинптДо 0,0934', 'рубинптДо 0,0935',\n",
       "       'рубинптДо 0,0941', 'рубинптДо 0,0942', 'рубинптДо 0,0943',\n",
       "       'рубинптДо 0,0944', 'рубинптДо 0,0945', 'рубинптДо 0,0951',\n",
       "       'рубинптДо 0,0952', 'рубинптДо 0,0953', 'рубинптДо 0,0954',\n",
       "       'рубинптДо 0,0955', 'рубинпт0,10-0,2411', 'рубинпт0,10-0,2412',\n",
       "       'рубинпт0,10-0,2413', 'рубинпт0,10-0,2414', 'рубинпт0,10-0,2415',\n",
       "       'рубинпт0,10-0,2421', 'рубинпт0,10-0,2422', 'рубинпт0,10-0,2423',\n",
       "       'рубинпт0,10-0,2424', 'рубинпт0,10-0,2425', 'рубинпт0,10-0,2431',\n",
       "       'рубинпт0,10-0,2432', 'рубинпт0,10-0,2433', 'рубинпт0,10-0,2434',\n",
       "       'рубинпт0,10-0,2435', 'рубинпт0,10-0,2441', 'рубинпт0,10-0,2442',\n",
       "       'рубинпт0,10-0,2443', 'рубинпт0,10-0,2444', 'рубинпт0,10-0,2445',\n",
       "       'рубинпт0,10-0,2451', 'рубинпт0,10-0,2452', 'рубинпт0,10-0,2453',\n",
       "       'рубинпт0,10-0,2454', 'рубинпт0,10-0,2455', 'рубинпт0,25-0,4911',\n",
       "       'рубинпт0,25-0,4912', 'рубинпт0,25-0,4913', 'рубинпт0,25-0,4914',\n",
       "       'рубинпт0,25-0,4915', 'рубинпт0,25-0,4921', 'рубинпт0,25-0,4922',\n",
       "       'рубинпт0,25-0,4923', 'рубинпт0,25-0,4924', 'рубинпт0,25-0,4925',\n",
       "       'рубинпт0,25-0,4931', 'рубинпт0,25-0,4932', 'рубинпт0,25-0,4933',\n",
       "       'рубинпт0,25-0,4934', 'рубинпт0,25-0,4935', 'рубинпт0,25-0,4941',\n",
       "       'рубинпт0,25-0,4942', 'рубинпт0,25-0,4943', 'рубинпт0,25-0,4944',\n",
       "       'рубинпт0,25-0,4945', 'рубинпт0,25-0,4951', 'рубинпт0,25-0,4952',\n",
       "       'рубинпт0,25-0,4953', 'рубинпт0,25-0,4954', 'рубинпт0,25-0,4955',\n",
       "       'рубинпт0,50-0,9911', 'рубинпт0,50-0,9912', 'рубинпт0,50-0,9913',\n",
       "       'рубинпт0,50-0,9914', 'рубинпт0,50-0,9915', 'рубинпт0,50-0,9921',\n",
       "       'рубинпт0,50-0,9922', 'рубинпт0,50-0,9923', 'рубинпт0,50-0,9924',\n",
       "       'рубинпт0,50-0,9925', 'рубинпт0,50-0,9931', 'рубинпт0,50-0,9932',\n",
       "       'рубинпт0,50-0,9933', 'рубинпт0,50-0,9934', 'рубинпт0,50-0,9935',\n",
       "       'рубинпт0,50-0,9941', 'рубинпт0,50-0,9942', 'рубинпт0,50-0,9943',\n",
       "       'рубинпт0,50-0,9944', 'рубинпт0,50-0,9945', 'рубинпт0,50-0,9951',\n",
       "       'рубинпт0,50-0,9952', 'рубинпт0,50-0,9953', 'рубинпт0,50-0,9954',\n",
       "       'рубинпт0,50-0,9955', 'рубинпт1,00-1,9911', 'рубинпт1,00-1,9912',\n",
       "       'рубинпт1,00-1,9913', 'рубинпт1,00-1,9914', 'рубинпт1,00-1,9915',\n",
       "       'рубинпт1,00-1,9921', 'рубинпт1,00-1,9922', 'рубинпт1,00-1,9923',\n",
       "       'рубинпт1,00-1,9924', 'рубинпт1,00-1,9925', 'рубинпт1,00-1,9931',\n",
       "       'рубинпт1,00-1,9932', 'рубинпт1,00-1,9933', 'рубинпт1,00-1,9934',\n",
       "       'рубинпт1,00-1,9935', 'рубинпт1,00-1,9941', 'рубинпт1,00-1,9942',\n",
       "       'рубинпт1,00-1,9943', 'рубинпт1,00-1,9944', 'рубинпт1,00-1,9945',\n",
       "       'рубинпт1,00-1,9951', 'рубинпт1,00-1,9952', 'рубинпт1,00-1,9953',\n",
       "       'рубинпт1,00-1,9954', 'рубинпт1,00-1,9955', 'рубинпт2,00-2,9911',\n",
       "       'рубинпт2,00-2,9912', 'рубинпт2,00-2,9913', 'рубинпт2,00-2,9914',\n",
       "       'рубинпт2,00-2,9915', 'рубинпт2,00-2,9921', 'рубинпт2,00-2,9922',\n",
       "       'рубинпт2,00-2,9923', 'рубинпт2,00-2,9924', 'рубинпт2,00-2,9925',\n",
       "       'рубинпт2,00-2,9931', 'рубинпт2,00-2,9932', 'рубинпт2,00-2,9933',\n",
       "       'рубинпт2,00-2,9934', 'рубинпт2,00-2,9935', 'рубинпт2,00-2,9941',\n",
       "       'рубинпт2,00-2,9942', 'рубинпт2,00-2,9943', 'рубинпт2,00-2,9944',\n",
       "       'рубинпт2,00-2,9945', 'рубинпт2,00-2,9951', 'рубинпт2,00-2,9952',\n",
       "       'рубинпт2,00-2,9953', 'рубинпт2,00-2,9954', 'рубинпт2,00-2,9955',\n",
       "       'рубинпт3,00-3,9911', 'рубинпт3,00-3,9912', 'рубинпт3,00-3,9913',\n",
       "       'рубинпт3,00-3,9914', 'рубинпт3,00-3,9915', 'рубинпт3,00-3,9921',\n",
       "       'рубинпт3,00-3,9922', 'рубинпт3,00-3,9923', 'рубинпт3,00-3,9924',\n",
       "       'рубинпт3,00-3,9925', 'рубинпт3,00-3,9931', 'рубинпт3,00-3,9932',\n",
       "       'рубинпт3,00-3,9933', 'рубинпт3,00-3,9934', 'рубинпт3,00-3,9935',\n",
       "       'рубинпт3,00-3,9941', 'рубинпт3,00-3,9942', 'рубинпт3,00-3,9943',\n",
       "       'рубинпт3,00-3,9944', 'рубинпт3,00-3,9945', 'рубинпт3,00-3,9951',\n",
       "       'рубинпт3,00-3,9952', 'рубинпт3,00-3,9953', 'рубинпт3,00-3,9954',\n",
       "       'рубинпт3,00-3,9955', 'рубинпт4,00-4,9911', 'рубинпт4,00-4,9912',\n",
       "       'рубинпт4,00-4,9913', 'рубинпт4,00-4,9914', 'рубинпт4,00-4,9915',\n",
       "       'рубинпт4,00-4,9921', 'рубинпт4,00-4,9922', 'рубинпт4,00-4,9923',\n",
       "       'рубинпт4,00-4,9924', 'рубинпт4,00-4,9925', 'рубинпт4,00-4,9931',\n",
       "       'рубинпт4,00-4,9932', 'рубинпт4,00-4,9933', 'рубинпт4,00-4,9934',\n",
       "       'рубинпт4,00-4,9935', 'рубинпт4,00-4,9941', 'рубинпт4,00-4,9942',\n",
       "       'рубинпт4,00-4,9943', 'рубинпт4,00-4,9944', 'рубинпт4,00-4,9945',\n",
       "       'рубинпт4,00-4,9951', 'рубинпт4,00-4,9952', 'рубинпт4,00-4,9953',\n",
       "       'рубинпт4,00-4,9954', 'рубинпт4,00-4,9955', 'рубиннДо 0,0911',\n",
       "       'рубиннДо 0,0912', 'рубиннДо 0,0913', 'рубиннДо 0,0914',\n",
       "       'рубиннДо 0,0915', 'рубиннДо 0,0921', 'рубиннДо 0,0922',\n",
       "       'рубиннДо 0,0923', 'рубиннДо 0,0924', 'рубиннДо 0,0925',\n",
       "       'рубиннДо 0,0931', 'рубиннДо 0,0932', 'рубиннДо 0,0933',\n",
       "       'рубиннДо 0,0934', 'рубиннДо 0,0935', 'рубиннДо 0,0941',\n",
       "       'рубиннДо 0,0942', 'рубиннДо 0,0943', 'рубиннДо 0,0944',\n",
       "       'рубиннДо 0,0945', 'рубиннДо 0,0951', 'рубиннДо 0,0952',\n",
       "       'рубиннДо 0,0953', 'рубиннДо 0,0954', 'рубиннДо 0,0955',\n",
       "       'рубинн0,10-0,2411', 'рубинн0,10-0,2412', 'рубинн0,10-0,2413',\n",
       "       'рубинн0,10-0,2414', 'рубинн0,10-0,2415', 'рубинн0,10-0,2421',\n",
       "       'рубинн0,10-0,2422', 'рубинн0,10-0,2423', 'рубинн0,10-0,2424',\n",
       "       'рубинн0,10-0,2425', 'рубинн0,10-0,2431', 'рубинн0,10-0,2432',\n",
       "       'рубинн0,10-0,2433', 'рубинн0,10-0,2434', 'рубинн0,10-0,2435',\n",
       "       'рубинн0,10-0,2441', 'рубинн0,10-0,2442', 'рубинн0,10-0,2443',\n",
       "       'рубинн0,10-0,2444', 'рубинн0,10-0,2445', 'рубинн0,10-0,2451',\n",
       "       'рубинн0,10-0,2452', 'рубинн0,10-0,2453', 'рубинн0,10-0,2454',\n",
       "       'рубинн0,10-0,2455', 'рубинн0,25-0,4911', 'рубинн0,25-0,4912',\n",
       "       'рубинн0,25-0,4913', 'рубинн0,25-0,4914', 'рубинн0,25-0,4915',\n",
       "       'рубинн0,25-0,4921', 'рубинн0,25-0,4922', 'рубинн0,25-0,4923',\n",
       "       'рубинн0,25-0,4924', 'рубинн0,25-0,4925', 'рубинн0,25-0,4931',\n",
       "       'рубинн0,25-0,4932', 'рубинн0,25-0,4933', 'рубинн0,25-0,4934',\n",
       "       'рубинн0,25-0,4935', 'рубинн0,25-0,4941', 'рубинн0,25-0,4942',\n",
       "       'рубинн0,25-0,4943', 'рубинн0,25-0,4944', 'рубинн0,25-0,4945',\n",
       "       'рубинн0,25-0,4951', 'рубинн0,25-0,4952', 'рубинн0,25-0,4953',\n",
       "       'рубинн0,25-0,4954', 'рубинн0,25-0,4955', 'рубинн0,50-0,9911',\n",
       "       'рубинн0,50-0,9912', 'рубинн0,50-0,9913', 'рубинн0,50-0,9914',\n",
       "       'рубинн0,50-0,9915', 'рубинн0,50-0,9921', 'рубинн0,50-0,9922',\n",
       "       'рубинн0,50-0,9923', 'рубинн0,50-0,9924', 'рубинн0,50-0,9925',\n",
       "       'рубинн0,50-0,9931', 'рубинн0,50-0,9932', 'рубинн0,50-0,9933',\n",
       "       'рубинн0,50-0,9934', 'рубинн0,50-0,9935', 'рубинн0,50-0,9941',\n",
       "       'рубинн0,50-0,9942', 'рубинн0,50-0,9943', 'рубинн0,50-0,9944',\n",
       "       'рубинн0,50-0,9945', 'рубинн0,50-0,9951', 'рубинн0,50-0,9952',\n",
       "       'рубинн0,50-0,9953', 'рубинн0,50-0,9954', 'рубинн0,50-0,9955',\n",
       "       'рубинн1,00-1,9911', 'рубинн1,00-1,9912', 'рубинн1,00-1,9913',\n",
       "       'рубинн1,00-1,9914', 'рубинн1,00-1,9915', 'рубинн1,00-1,9921',\n",
       "       'рубинн1,00-1,9922', 'рубинн1,00-1,9923', 'рубинн1,00-1,9924',\n",
       "       'рубинн1,00-1,9925', 'рубинн1,00-1,9931', 'рубинн1,00-1,9932',\n",
       "       'рубинн1,00-1,9933', 'рубинн1,00-1,9934', 'рубинн1,00-1,9935',\n",
       "       'рубинн1,00-1,9941', 'рубинн1,00-1,9942', 'рубинн1,00-1,9943',\n",
       "       'рубинн1,00-1,9944', 'рубинн1,00-1,9945', 'рубинн1,00-1,9951',\n",
       "       'рубинн1,00-1,9952', 'рубинн1,00-1,9953', 'рубинн1,00-1,9954',\n",
       "       'рубинн1,00-1,9955', 'рубинн2,00-2,9911', 'рубинн2,00-2,9912',\n",
       "       'рубинн2,00-2,9913', 'рубинн2,00-2,9914', 'рубинн2,00-2,9915',\n",
       "       'рубинн2,00-2,9921', 'рубинн2,00-2,9922', 'рубинн2,00-2,9923',\n",
       "       'рубинн2,00-2,9924', 'рубинн2,00-2,9925', 'рубинн2,00-2,9931',\n",
       "       'рубинн2,00-2,9932', 'рубинн2,00-2,9933', 'рубинн2,00-2,9934',\n",
       "       'рубинн2,00-2,9935', 'рубинн2,00-2,9941', 'рубинн2,00-2,9942',\n",
       "       'рубинн2,00-2,9943', 'рубинн2,00-2,9944', 'рубинн2,00-2,9945',\n",
       "       'рубинн2,00-2,9951', 'рубинн2,00-2,9952', 'рубинн2,00-2,9953',\n",
       "       'рубинн2,00-2,9954', 'рубинн2,00-2,9955', 'рубинн3,00-3,9911',\n",
       "       'рубинн3,00-3,9912', 'рубинн3,00-3,9913', 'рубинн3,00-3,9914',\n",
       "       'рубинн3,00-3,9915', 'рубинн3,00-3,9921', 'рубинн3,00-3,9922',\n",
       "       'рубинн3,00-3,9923', 'рубинн3,00-3,9924', 'рубинн3,00-3,9925',\n",
       "       'рубинн3,00-3,9931', 'рубинн3,00-3,9932', 'рубинн3,00-3,9933',\n",
       "       'рубинн3,00-3,9934', 'рубинн3,00-3,9935', 'рубинн3,00-3,9941',\n",
       "       'рубинн3,00-3,9942', 'рубинн3,00-3,9943', 'рубинн3,00-3,9944',\n",
       "       'рубинн3,00-3,9945', 'рубинн3,00-3,9951', 'рубинн3,00-3,9952',\n",
       "       'рубинн3,00-3,9953', 'рубинн3,00-3,9954', 'рубинн3,00-3,9955',\n",
       "       'рубинн4,00-4,9911', 'рубинн4,00-4,9912', 'рубинн4,00-4,9913',\n",
       "       'рубинн4,00-4,9914', 'рубинн4,00-4,9915', 'рубинн4,00-4,9921',\n",
       "       'рубинн4,00-4,9922', 'рубинн4,00-4,9923', 'рубинн4,00-4,9924',\n",
       "       'рубинн4,00-4,9925', 'рубинн4,00-4,9931', 'рубинн4,00-4,9932',\n",
       "       'рубинн4,00-4,9933', 'рубинн4,00-4,9934', 'рубинн4,00-4,9935',\n",
       "       'рубинн4,00-4,9941', 'рубинн4,00-4,9942', 'рубинн4,00-4,9943',\n",
       "       'рубинн4,00-4,9944', 'рубинн4,00-4,9945', 'рубинн4,00-4,9951',\n",
       "       'рубинн4,00-4,9952', 'рубинн4,00-4,9953', 'рубинн4,00-4,9954',\n",
       "       'рубинн4,00-4,9955', 'сапфирптДо 0,0911', 'сапфирптДо 0,0912',\n",
       "       'сапфирптДо 0,0913', 'сапфирптДо 0,0914', 'сапфирптДо 0,0915',\n",
       "       'сапфирптДо 0,0921', 'сапфирптДо 0,0922', 'сапфирптДо 0,0923',\n",
       "       'сапфирптДо 0,0924', 'сапфирптДо 0,0925', 'сапфирптДо 0,0931',\n",
       "       'сапфирптДо 0,0932', 'сапфирптДо 0,0933', 'сапфирптДо 0,0934',\n",
       "       'сапфирптДо 0,0935', 'сапфирптДо 0,0941', 'сапфирптДо 0,0942',\n",
       "       'сапфирптДо 0,0943', 'сапфирптДо 0,0944', 'сапфирптДо 0,0945',\n",
       "       'сапфирптДо 0,0951', 'сапфирптДо 0,0952', 'сапфирптДо 0,0953',\n",
       "       'сапфирптДо 0,0954', 'сапфирптДо 0,0955', 'сапфирпт0,10-0,2411',\n",
       "       'сапфирпт0,10-0,2412', 'сапфирпт0,10-0,2413',\n",
       "       'сапфирпт0,10-0,2414', 'сапфирпт0,10-0,2415',\n",
       "       'сапфирпт0,10-0,2421', 'сапфирпт0,10-0,2422',\n",
       "       'сапфирпт0,10-0,2423', 'сапфирпт0,10-0,2424',\n",
       "       'сапфирпт0,10-0,2425', 'сапфирпт0,10-0,2431',\n",
       "       'сапфирпт0,10-0,2432', 'сапфирпт0,10-0,2433',\n",
       "       'сапфирпт0,10-0,2434', 'сапфирпт0,10-0,2435',\n",
       "       'сапфирпт0,10-0,2441', 'сапфирпт0,10-0,2442',\n",
       "       'сапфирпт0,10-0,2443', 'сапфирпт0,10-0,2444',\n",
       "       'сапфирпт0,10-0,2445', 'сапфирпт0,10-0,2451',\n",
       "       'сапфирпт0,10-0,2452', 'сапфирпт0,10-0,2453',\n",
       "       'сапфирпт0,10-0,2454', 'сапфирпт0,10-0,2455',\n",
       "       'сапфирпт0,25-0,4911', 'сапфирпт0,25-0,4912',\n",
       "       'сапфирпт0,25-0,4913', 'сапфирпт0,25-0,4914',\n",
       "       'сапфирпт0,25-0,4915', 'сапфирпт0,25-0,4921',\n",
       "       'сапфирпт0,25-0,4922', 'сапфирпт0,25-0,4923',\n",
       "       'сапфирпт0,25-0,4924', 'сапфирпт0,25-0,4925',\n",
       "       'сапфирпт0,25-0,4931', 'сапфирпт0,25-0,4932',\n",
       "       'сапфирпт0,25-0,4933', 'сапфирпт0,25-0,4934',\n",
       "       'сапфирпт0,25-0,4935', 'сапфирпт0,25-0,4941',\n",
       "       'сапфирпт0,25-0,4942', 'сапфирпт0,25-0,4943',\n",
       "       'сапфирпт0,25-0,4944', 'сапфирпт0,25-0,4945',\n",
       "       'сапфирпт0,25-0,4951', 'сапфирпт0,25-0,4952',\n",
       "       'сапфирпт0,25-0,4953', 'сапфирпт0,25-0,4954',\n",
       "       'сапфирпт0,25-0,4955', 'сапфирпт0,50-0,9911',\n",
       "       'сапфирпт0,50-0,9912', 'сапфирпт0,50-0,9913',\n",
       "       'сапфирпт0,50-0,9914', 'сапфирпт0,50-0,9915',\n",
       "       'сапфирпт0,50-0,9921', 'сапфирпт0,50-0,9922',\n",
       "       'сапфирпт0,50-0,9923', 'сапфирпт0,50-0,9924',\n",
       "       'сапфирпт0,50-0,9925', 'сапфирпт0,50-0,9931',\n",
       "       'сапфирпт0,50-0,9932', 'сапфирпт0,50-0,9933',\n",
       "       'сапфирпт0,50-0,9934', 'сапфирпт0,50-0,9935',\n",
       "       'сапфирпт0,50-0,9941', 'сапфирпт0,50-0,9942',\n",
       "       'сапфирпт0,50-0,9943', 'сапфирпт0,50-0,9944',\n",
       "       'сапфирпт0,50-0,9945', 'сапфирпт0,50-0,9951',\n",
       "       'сапфирпт0,50-0,9952', 'сапфирпт0,50-0,9953',\n",
       "       'сапфирпт0,50-0,9954', 'сапфирпт0,50-0,9955',\n",
       "       'сапфирпт1,00-1,9911', 'сапфирпт1,00-1,9912',\n",
       "       'сапфирпт1,00-1,9913', 'сапфирпт1,00-1,9914',\n",
       "       'сапфирпт1,00-1,9915', 'сапфирпт1,00-1,9921',\n",
       "       'сапфирпт1,00-1,9922', 'сапфирпт1,00-1,9923',\n",
       "       'сапфирпт1,00-1,9924', 'сапфирпт1,00-1,9925',\n",
       "       'сапфирпт1,00-1,9931', 'сапфирпт1,00-1,9932',\n",
       "       'сапфирпт1,00-1,9933', 'сапфирпт1,00-1,9934',\n",
       "       'сапфирпт1,00-1,9935', 'сапфирпт1,00-1,9941',\n",
       "       'сапфирпт1,00-1,9942', 'сапфирпт1,00-1,9943',\n",
       "       'сапфирпт1,00-1,9944', 'сапфирпт1,00-1,9945',\n",
       "       'сапфирпт1,00-1,9951', 'сапфирпт1,00-1,9952',\n",
       "       'сапфирпт1,00-1,9953', 'сапфирпт1,00-1,9954',\n",
       "       'сапфирпт1,00-1,9955', 'сапфирпт2,00-2,9911',\n",
       "       'сапфирпт2,00-2,9912', 'сапфирпт2,00-2,9913',\n",
       "       'сапфирпт2,00-2,9914', 'сапфирпт2,00-2,9915',\n",
       "       'сапфирпт2,00-2,9921', 'сапфирпт2,00-2,9922',\n",
       "       'сапфирпт2,00-2,9923', 'сапфирпт2,00-2,9924',\n",
       "       'сапфирпт2,00-2,9925', 'сапфирпт2,00-2,9931',\n",
       "       'сапфирпт2,00-2,9932', 'сапфирпт2,00-2,9933',\n",
       "       'сапфирпт2,00-2,9934', 'сапфирпт2,00-2,9935',\n",
       "       'сапфирпт2,00-2,9941', 'сапфирпт2,00-2,9942',\n",
       "       'сапфирпт2,00-2,9943', 'сапфирпт2,00-2,9944',\n",
       "       'сапфирпт2,00-2,9945', 'сапфирпт2,00-2,9951',\n",
       "       'сапфирпт2,00-2,9952', 'сапфирпт2,00-2,9953',\n",
       "       'сапфирпт2,00-2,9954', 'сапфирпт2,00-2,9955',\n",
       "       'сапфирпт3,00-3,9911', 'сапфирпт3,00-3,9912',\n",
       "       'сапфирпт3,00-3,9913', 'сапфирпт3,00-3,9914',\n",
       "       'сапфирпт3,00-3,9915', 'сапфирпт3,00-3,9921',\n",
       "       'сапфирпт3,00-3,9922', 'сапфирпт3,00-3,9923',\n",
       "       'сапфирпт3,00-3,9924', 'сапфирпт3,00-3,9925',\n",
       "       'сапфирпт3,00-3,9931', 'сапфирпт3,00-3,9932',\n",
       "       'сапфирпт3,00-3,9933', 'сапфирпт3,00-3,9934',\n",
       "       'сапфирпт3,00-3,9935', 'сапфирпт3,00-3,9941',\n",
       "       'сапфирпт3,00-3,9942', 'сапфирпт3,00-3,9943',\n",
       "       'сапфирпт3,00-3,9944', 'сапфирпт3,00-3,9945',\n",
       "       'сапфирпт3,00-3,9951', 'сапфирпт3,00-3,9952',\n",
       "       'сапфирпт3,00-3,9953', 'сапфирпт3,00-3,9954',\n",
       "       'сапфирпт3,00-3,9955', 'сапфирпт4,00-4,9911',\n",
       "       'сапфирпт4,00-4,9912', 'сапфирпт4,00-4,9913',\n",
       "       'сапфирпт4,00-4,9914', 'сапфирпт4,00-4,9915',\n",
       "       'сапфирпт4,00-4,9921', 'сапфирпт4,00-4,9922',\n",
       "       'сапфирпт4,00-4,9923', 'сапфирпт4,00-4,9924',\n",
       "       'сапфирпт4,00-4,9925', 'сапфирпт4,00-4,9931',\n",
       "       'сапфирпт4,00-4,9932', 'сапфирпт4,00-4,9933',\n",
       "       'сапфирпт4,00-4,9934', 'сапфирпт4,00-4,9935',\n",
       "       'сапфирпт4,00-4,9941', 'сапфирпт4,00-4,9942',\n",
       "       'сапфирпт4,00-4,9943', 'сапфирпт4,00-4,9944',\n",
       "       'сапфирпт4,00-4,9945', 'сапфирпт4,00-4,9951',\n",
       "       'сапфирпт4,00-4,9952', 'сапфирпт4,00-4,9953',\n",
       "       'сапфирпт4,00-4,9954', 'сапфирпт4,00-4,9955', 'сапфирнДо 0,0911',\n",
       "       'сапфирнДо 0,0912', 'сапфирнДо 0,0913', 'сапфирнДо 0,0914',\n",
       "       'сапфирнДо 0,0915', 'сапфирнДо 0,0921', 'сапфирнДо 0,0922',\n",
       "       'сапфирнДо 0,0923', 'сапфирнДо 0,0924', 'сапфирнДо 0,0925',\n",
       "       'сапфирнДо 0,0931', 'сапфирнДо 0,0932', 'сапфирнДо 0,0933',\n",
       "       'сапфирнДо 0,0934', 'сапфирнДо 0,0935', 'сапфирнДо 0,0941',\n",
       "       'сапфирнДо 0,0942', 'сапфирнДо 0,0943', 'сапфирнДо 0,0944',\n",
       "       'сапфирнДо 0,0945', 'сапфирнДо 0,0951', 'сапфирнДо 0,0952',\n",
       "       'сапфирнДо 0,0953', 'сапфирнДо 0,0954', 'сапфирнДо 0,0955',\n",
       "       'сапфирн0,10-0,2411', 'сапфирн0,10-0,2412', 'сапфирн0,10-0,2413',\n",
       "       'сапфирн0,10-0,2414', 'сапфирн0,10-0,2415', 'сапфирн0,10-0,2421',\n",
       "       'сапфирн0,10-0,2422', 'сапфирн0,10-0,2423', 'сапфирн0,10-0,2424',\n",
       "       'сапфирн0,10-0,2425', 'сапфирн0,10-0,2431', 'сапфирн0,10-0,2432',\n",
       "       'сапфирн0,10-0,2433', 'сапфирн0,10-0,2434', 'сапфирн0,10-0,2435',\n",
       "       'сапфирн0,10-0,2441', 'сапфирн0,10-0,2442', 'сапфирн0,10-0,2443',\n",
       "       'сапфирн0,10-0,2444', 'сапфирн0,10-0,2445', 'сапфирн0,10-0,2451',\n",
       "       'сапфирн0,10-0,2452', 'сапфирн0,10-0,2453', 'сапфирн0,10-0,2454',\n",
       "       'сапфирн0,10-0,2455', 'сапфирн0,25-0,4911', 'сапфирн0,25-0,4912',\n",
       "       'сапфирн0,25-0,4913', 'сапфирн0,25-0,4914', 'сапфирн0,25-0,4915',\n",
       "       'сапфирн0,25-0,4921', 'сапфирн0,25-0,4922', 'сапфирн0,25-0,4923',\n",
       "       'сапфирн0,25-0,4924', 'сапфирн0,25-0,4925', 'сапфирн0,25-0,4931',\n",
       "       'сапфирн0,25-0,4932', 'сапфирн0,25-0,4933', 'сапфирн0,25-0,4934',\n",
       "       'сапфирн0,25-0,4935', 'сапфирн0,25-0,4941', 'сапфирн0,25-0,4942',\n",
       "       'сапфирн0,25-0,4943', 'сапфирн0,25-0,4944', 'сапфирн0,25-0,4945',\n",
       "       'сапфирн0,25-0,4951', 'сапфирн0,25-0,4952', 'сапфирн0,25-0,4953',\n",
       "       'сапфирн0,25-0,4954', 'сапфирн0,25-0,4955', 'сапфирн0,50-0,9911',\n",
       "       'сапфирн0,50-0,9912', 'сапфирн0,50-0,9913', 'сапфирн0,50-0,9914',\n",
       "       'сапфирн0,50-0,9915', 'сапфирн0,50-0,9921', 'сапфирн0,50-0,9922',\n",
       "       'сапфирн0,50-0,9923', 'сапфирн0,50-0,9924', 'сапфирн0,50-0,9925',\n",
       "       'сапфирн0,50-0,9931', 'сапфирн0,50-0,9932', 'сапфирн0,50-0,9933',\n",
       "       'сапфирн0,50-0,9934', 'сапфирн0,50-0,9935', 'сапфирн0,50-0,9941',\n",
       "       'сапфирн0,50-0,9942', 'сапфирн0,50-0,9943', 'сапфирн0,50-0,9944',\n",
       "       'сапфирн0,50-0,9945', 'сапфирн0,50-0,9951', 'сапфирн0,50-0,9952',\n",
       "       'сапфирн0,50-0,9953', 'сапфирн0,50-0,9954', 'сапфирн0,50-0,9955',\n",
       "       'сапфирн1,00-1,9911', 'сапфирн1,00-1,9912', 'сапфирн1,00-1,9913',\n",
       "       'сапфирн1,00-1,9914', 'сапфирн1,00-1,9915', 'сапфирн1,00-1,9921',\n",
       "       'сапфирн1,00-1,9922', 'сапфирн1,00-1,9923', 'сапфирн1,00-1,9924',\n",
       "       'сапфирн1,00-1,9925', 'сапфирн1,00-1,9931', 'сапфирн1,00-1,9932',\n",
       "       'сапфирн1,00-1,9933', 'сапфирн1,00-1,9934', 'сапфирн1,00-1,9935',\n",
       "       'сапфирн1,00-1,9941', 'сапфирн1,00-1,9942', 'сапфирн1,00-1,9943',\n",
       "       'сапфирн1,00-1,9944', 'сапфирн1,00-1,9945', 'сапфирн1,00-1,9951',\n",
       "       'сапфирн1,00-1,9952', 'сапфирн1,00-1,9953', 'сапфирн1,00-1,9954',\n",
       "       'сапфирн1,00-1,9955', 'сапфирн2,00-2,9911', 'сапфирн2,00-2,9912',\n",
       "       'сапфирн2,00-2,9913', 'сапфирн2,00-2,9914', 'сапфирн2,00-2,9915',\n",
       "       'сапфирн2,00-2,9921', 'сапфирн2,00-2,9922', 'сапфирн2,00-2,9923',\n",
       "       'сапфирн2,00-2,9924', 'сапфирн2,00-2,9925', 'сапфирн2,00-2,9931',\n",
       "       'сапфирн2,00-2,9932', 'сапфирн2,00-2,9933', 'сапфирн2,00-2,9934',\n",
       "       'сапфирн2,00-2,9935', 'сапфирн2,00-2,9941', 'сапфирн2,00-2,9942',\n",
       "       'сапфирн2,00-2,9943', 'сапфирн2,00-2,9944', 'сапфирн2,00-2,9945',\n",
       "       'сапфирн2,00-2,9951', 'сапфирн2,00-2,9952', 'сапфирн2,00-2,9953',\n",
       "       'сапфирн2,00-2,9954', 'сапфирн2,00-2,9955', 'сапфирн3,00-3,9911',\n",
       "       'сапфирн3,00-3,9912', 'сапфирн3,00-3,9913', 'сапфирн3,00-3,9914',\n",
       "       'сапфирн3,00-3,9915', 'сапфирн3,00-3,9921', 'сапфирн3,00-3,9922',\n",
       "       'сапфирн3,00-3,9923', 'сапфирн3,00-3,9924', 'сапфирн3,00-3,9925',\n",
       "       'сапфирн3,00-3,9931', 'сапфирн3,00-3,9932', 'сапфирн3,00-3,9933',\n",
       "       'сапфирн3,00-3,9934', 'сапфирн3,00-3,9935', 'сапфирн3,00-3,9941',\n",
       "       'сапфирн3,00-3,9942', 'сапфирн3,00-3,9943', 'сапфирн3,00-3,9944',\n",
       "       'сапфирн3,00-3,9945', 'сапфирн3,00-3,9951', 'сапфирн3,00-3,9952',\n",
       "       'сапфирн3,00-3,9953', 'сапфирн3,00-3,9954', 'сапфирн3,00-3,9955',\n",
       "       'сапфирн4,00-4,9911', 'сапфирн4,00-4,9912', 'сапфирн4,00-4,9913',\n",
       "       'сапфирн4,00-4,9914', 'сапфирн4,00-4,9915', 'сапфирн4,00-4,9921',\n",
       "       'сапфирн4,00-4,9922', 'сапфирн4,00-4,9923', 'сапфирн4,00-4,9924',\n",
       "       'сапфирн4,00-4,9925', 'сапфирн4,00-4,9931', 'сапфирн4,00-4,9932',\n",
       "       'сапфирн4,00-4,9933', 'сапфирн4,00-4,9934', 'сапфирн4,00-4,9935',\n",
       "       'сапфирн4,00-4,9941', 'сапфирн4,00-4,9942', 'сапфирн4,00-4,9943',\n",
       "       'сапфирн4,00-4,9944', 'сапфирн4,00-4,9945', 'сапфирн4,00-4,9951',\n",
       "       'сапфирн4,00-4,9952', 'сапфирн4,00-4,9953', 'сапфирн4,00-4,9954',\n",
       "       'сапфирн4,00-4,9955'], dtype=object)"
      ]
     },
     "execution_count": 664,
     "metadata": {},
     "output_type": "execute_result"
    }
   ],
   "source": [
    "df_pr_sapruby['key'].unique()"
   ]
  },
  {
   "cell_type": "code",
   "execution_count": 665,
   "id": "5206356f",
   "metadata": {},
   "outputs": [
    {
     "ename": "KeyError",
     "evalue": "'price'",
     "output_type": "error",
     "traceback": [
      "\u001b[1;31m---------------------------------------------------------------------------\u001b[0m",
      "\u001b[1;31mKeyError\u001b[0m                                  Traceback (most recent call last)",
      "File \u001b[1;32mC:\\ProgramData\\anaconda3\\lib\\site-packages\\pandas\\core\\indexes\\base.py:3802\u001b[0m, in \u001b[0;36mIndex.get_loc\u001b[1;34m(self, key, method, tolerance)\u001b[0m\n\u001b[0;32m   3801\u001b[0m \u001b[38;5;28;01mtry\u001b[39;00m:\n\u001b[1;32m-> 3802\u001b[0m     \u001b[38;5;28;01mreturn\u001b[39;00m \u001b[38;5;28;43mself\u001b[39;49m\u001b[38;5;241;43m.\u001b[39;49m\u001b[43m_engine\u001b[49m\u001b[38;5;241;43m.\u001b[39;49m\u001b[43mget_loc\u001b[49m\u001b[43m(\u001b[49m\u001b[43mcasted_key\u001b[49m\u001b[43m)\u001b[49m\n\u001b[0;32m   3803\u001b[0m \u001b[38;5;28;01mexcept\u001b[39;00m \u001b[38;5;167;01mKeyError\u001b[39;00m \u001b[38;5;28;01mas\u001b[39;00m err:\n",
      "File \u001b[1;32mC:\\ProgramData\\anaconda3\\lib\\site-packages\\pandas\\_libs\\index.pyx:138\u001b[0m, in \u001b[0;36mpandas._libs.index.IndexEngine.get_loc\u001b[1;34m()\u001b[0m\n",
      "File \u001b[1;32mC:\\ProgramData\\anaconda3\\lib\\site-packages\\pandas\\_libs\\index.pyx:165\u001b[0m, in \u001b[0;36mpandas._libs.index.IndexEngine.get_loc\u001b[1;34m()\u001b[0m\n",
      "File \u001b[1;32mpandas\\_libs\\hashtable_class_helper.pxi:5745\u001b[0m, in \u001b[0;36mpandas._libs.hashtable.PyObjectHashTable.get_item\u001b[1;34m()\u001b[0m\n",
      "File \u001b[1;32mpandas\\_libs\\hashtable_class_helper.pxi:5753\u001b[0m, in \u001b[0;36mpandas._libs.hashtable.PyObjectHashTable.get_item\u001b[1;34m()\u001b[0m\n",
      "\u001b[1;31mKeyError\u001b[0m: 'price'",
      "\nThe above exception was the direct cause of the following exception:\n",
      "\u001b[1;31mKeyError\u001b[0m                                  Traceback (most recent call last)",
      "Cell \u001b[1;32mIn[665], line 5\u001b[0m\n\u001b[0;32m      1\u001b[0m dfxm \u001b[38;5;241m=\u001b[39m pd\u001b[38;5;241m.\u001b[39mmerge(left\u001b[38;5;241m=\u001b[39mdfx, right\u001b[38;5;241m=\u001b[39mdf_pr_sapruby[[\u001b[38;5;124m'\u001b[39m\u001b[38;5;124msize\u001b[39m\u001b[38;5;124m'\u001b[39m, \u001b[38;5;124m'\u001b[39m\u001b[38;5;124mprice\u001b[39m\u001b[38;5;124m'\u001b[39m,\u001b[38;5;124m'\u001b[39m\u001b[38;5;124mGEM\u001b[39m\u001b[38;5;124m'\u001b[39m, \u001b[38;5;124m'\u001b[39m\u001b[38;5;124mC\u001b[39m\u001b[38;5;124m'\u001b[39m, \u001b[38;5;124m'\u001b[39m\u001b[38;5;124mQ\u001b[39m\u001b[38;5;124m'\u001b[39m]],\n\u001b[0;32m      2\u001b[0m             how\u001b[38;5;241m=\u001b[39m\u001b[38;5;124m'\u001b[39m\u001b[38;5;124mleft\u001b[39m\u001b[38;5;124m'\u001b[39m, \n\u001b[0;32m      3\u001b[0m             left_on\u001b[38;5;241m=\u001b[39m[\u001b[38;5;124m'\u001b[39m\u001b[38;5;124mGEM\u001b[39m\u001b[38;5;124m'\u001b[39m,\u001b[38;5;124m'\u001b[39m\u001b[38;5;124msize\u001b[39m\u001b[38;5;124m'\u001b[39m, \u001b[38;5;124m'\u001b[39m\u001b[38;5;124mC\u001b[39m\u001b[38;5;124m'\u001b[39m, \u001b[38;5;124m'\u001b[39m\u001b[38;5;124mQ\u001b[39m\u001b[38;5;124m'\u001b[39m],\n\u001b[0;32m      4\u001b[0m             right_on\u001b[38;5;241m=\u001b[39m[\u001b[38;5;124m'\u001b[39m\u001b[38;5;124mGEM\u001b[39m\u001b[38;5;124m'\u001b[39m,\u001b[38;5;124m'\u001b[39m\u001b[38;5;124msize\u001b[39m\u001b[38;5;124m'\u001b[39m, \u001b[38;5;124m'\u001b[39m\u001b[38;5;124mC\u001b[39m\u001b[38;5;124m'\u001b[39m, \u001b[38;5;124m'\u001b[39m\u001b[38;5;124mQ\u001b[39m\u001b[38;5;124m'\u001b[39m])\n\u001b[1;32m----> 5\u001b[0m dfxm[\u001b[38;5;124m'\u001b[39m\u001b[38;5;124mprcost\u001b[39m\u001b[38;5;124m'\u001b[39m] \u001b[38;5;241m=\u001b[39m dfx[\u001b[38;5;124m'\u001b[39m\u001b[38;5;124mCARAT\u001b[39m\u001b[38;5;124m'\u001b[39m]\u001b[38;5;241m*\u001b[39m\u001b[43mdfx\u001b[49m\u001b[43m[\u001b[49m\u001b[38;5;124;43m'\u001b[39;49m\u001b[38;5;124;43mprice\u001b[39;49m\u001b[38;5;124;43m'\u001b[39;49m\u001b[43m]\u001b[49m\n",
      "File \u001b[1;32mC:\\ProgramData\\anaconda3\\lib\\site-packages\\pandas\\core\\frame.py:3807\u001b[0m, in \u001b[0;36mDataFrame.__getitem__\u001b[1;34m(self, key)\u001b[0m\n\u001b[0;32m   3805\u001b[0m \u001b[38;5;28;01mif\u001b[39;00m \u001b[38;5;28mself\u001b[39m\u001b[38;5;241m.\u001b[39mcolumns\u001b[38;5;241m.\u001b[39mnlevels \u001b[38;5;241m>\u001b[39m \u001b[38;5;241m1\u001b[39m:\n\u001b[0;32m   3806\u001b[0m     \u001b[38;5;28;01mreturn\u001b[39;00m \u001b[38;5;28mself\u001b[39m\u001b[38;5;241m.\u001b[39m_getitem_multilevel(key)\n\u001b[1;32m-> 3807\u001b[0m indexer \u001b[38;5;241m=\u001b[39m \u001b[38;5;28;43mself\u001b[39;49m\u001b[38;5;241;43m.\u001b[39;49m\u001b[43mcolumns\u001b[49m\u001b[38;5;241;43m.\u001b[39;49m\u001b[43mget_loc\u001b[49m\u001b[43m(\u001b[49m\u001b[43mkey\u001b[49m\u001b[43m)\u001b[49m\n\u001b[0;32m   3808\u001b[0m \u001b[38;5;28;01mif\u001b[39;00m is_integer(indexer):\n\u001b[0;32m   3809\u001b[0m     indexer \u001b[38;5;241m=\u001b[39m [indexer]\n",
      "File \u001b[1;32mC:\\ProgramData\\anaconda3\\lib\\site-packages\\pandas\\core\\indexes\\base.py:3804\u001b[0m, in \u001b[0;36mIndex.get_loc\u001b[1;34m(self, key, method, tolerance)\u001b[0m\n\u001b[0;32m   3802\u001b[0m     \u001b[38;5;28;01mreturn\u001b[39;00m \u001b[38;5;28mself\u001b[39m\u001b[38;5;241m.\u001b[39m_engine\u001b[38;5;241m.\u001b[39mget_loc(casted_key)\n\u001b[0;32m   3803\u001b[0m \u001b[38;5;28;01mexcept\u001b[39;00m \u001b[38;5;167;01mKeyError\u001b[39;00m \u001b[38;5;28;01mas\u001b[39;00m err:\n\u001b[1;32m-> 3804\u001b[0m     \u001b[38;5;28;01mraise\u001b[39;00m \u001b[38;5;167;01mKeyError\u001b[39;00m(key) \u001b[38;5;28;01mfrom\u001b[39;00m \u001b[38;5;21;01merr\u001b[39;00m\n\u001b[0;32m   3805\u001b[0m \u001b[38;5;28;01mexcept\u001b[39;00m \u001b[38;5;167;01mTypeError\u001b[39;00m:\n\u001b[0;32m   3806\u001b[0m     \u001b[38;5;66;03m# If we have a listlike key, _check_indexing_error will raise\u001b[39;00m\n\u001b[0;32m   3807\u001b[0m     \u001b[38;5;66;03m#  InvalidIndexError. Otherwise we fall through and re-raise\u001b[39;00m\n\u001b[0;32m   3808\u001b[0m     \u001b[38;5;66;03m#  the TypeError.\u001b[39;00m\n\u001b[0;32m   3809\u001b[0m     \u001b[38;5;28mself\u001b[39m\u001b[38;5;241m.\u001b[39m_check_indexing_error(key)\n",
      "\u001b[1;31mKeyError\u001b[0m: 'price'"
     ]
    }
   ],
   "source": [
    "dfxm = pd.merge(left=dfx, right=df_pr_sapruby[['size', 'price','GEM', 'C', 'Q']],\n",
    "            how='left', \n",
    "            left_on=['GEM','size', 'C', 'Q'],\n",
    "            right_on=['GEM','size', 'C', 'Q'])\n"
   ]
  },
  {
   "cell_type": "code",
   "execution_count": 667,
   "id": "80680835",
   "metadata": {},
   "outputs": [],
   "source": [
    "dfxm['prcost'] = dfxm['CARAT']*dfxm['price']"
   ]
  },
  {
   "cell_type": "code",
   "execution_count": 668,
   "id": "548c3509",
   "metadata": {},
   "outputs": [
    {
     "data": {
      "text/html": [
       "<div>\n",
       "<style scoped>\n",
       "    .dataframe tbody tr th:only-of-type {\n",
       "        vertical-align: middle;\n",
       "    }\n",
       "\n",
       "    .dataframe tbody tr th {\n",
       "        vertical-align: top;\n",
       "    }\n",
       "\n",
       "    .dataframe thead th {\n",
       "        text-align: right;\n",
       "    }\n",
       "</style>\n",
       "<table border=\"1\" class=\"dataframe\">\n",
       "  <thead>\n",
       "    <tr style=\"text-align: right;\">\n",
       "      <th></th>\n",
       "      <th>vstlist</th>\n",
       "      <th>PCS</th>\n",
       "      <th>GEM</th>\n",
       "      <th>CARAT</th>\n",
       "      <th>FORM</th>\n",
       "      <th>C</th>\n",
       "      <th>Q</th>\n",
       "      <th>CARAT_1</th>\n",
       "      <th>size</th>\n",
       "      <th>price</th>\n",
       "      <th>prcost</th>\n",
       "    </tr>\n",
       "  </thead>\n",
       "  <tbody>\n",
       "    <tr>\n",
       "      <th>0</th>\n",
       "      <td>[67, сапфирпт, 0,332, кр, 2, 2, синий]</td>\n",
       "      <td>67</td>\n",
       "      <td>сапфирпт</td>\n",
       "      <td>0.332</td>\n",
       "      <td>кр</td>\n",
       "      <td>2</td>\n",
       "      <td>2</td>\n",
       "      <td>0.005</td>\n",
       "      <td>До 0,09</td>\n",
       "      <td>65</td>\n",
       "      <td>21.580</td>\n",
       "    </tr>\n",
       "    <tr>\n",
       "      <th>1</th>\n",
       "      <td>[1, сапфирпт, 0,603, кр, 4, 3, nan]</td>\n",
       "      <td>1</td>\n",
       "      <td>сапфирпт</td>\n",
       "      <td>0.603</td>\n",
       "      <td>кр</td>\n",
       "      <td>4</td>\n",
       "      <td>3</td>\n",
       "      <td>0.603</td>\n",
       "      <td>0,50-0,99</td>\n",
       "      <td>85</td>\n",
       "      <td>51.255</td>\n",
       "    </tr>\n",
       "    <tr>\n",
       "      <th>2</th>\n",
       "      <td>[2, сапфирпт, 1,205, кр, 4, 3, nan]</td>\n",
       "      <td>2</td>\n",
       "      <td>сапфирпт</td>\n",
       "      <td>1.205</td>\n",
       "      <td>кр</td>\n",
       "      <td>4</td>\n",
       "      <td>3</td>\n",
       "      <td>0.602</td>\n",
       "      <td>0,50-0,99</td>\n",
       "      <td>85</td>\n",
       "      <td>102.425</td>\n",
       "    </tr>\n",
       "  </tbody>\n",
       "</table>\n",
       "</div>"
      ],
      "text/plain": [
       "                                  vstlist  PCS       GEM  CARAT FORM  C  Q  \\\n",
       "0  [67, сапфирпт, 0,332, кр, 2, 2, синий]   67  сапфирпт  0.332   кр  2  2   \n",
       "1     [1, сапфирпт, 0,603, кр, 4, 3, nan]    1  сапфирпт  0.603   кр  4  3   \n",
       "2     [2, сапфирпт, 1,205, кр, 4, 3, nan]    2  сапфирпт  1.205   кр  4  3   \n",
       "\n",
       "   CARAT_1       size  price   prcost  \n",
       "0    0.005    До 0,09     65   21.580  \n",
       "1    0.603  0,50-0,99     85   51.255  \n",
       "2    0.602  0,50-0,99     85  102.425  "
      ]
     },
     "execution_count": 668,
     "metadata": {},
     "output_type": "execute_result"
    }
   ],
   "source": [
    "dfxm"
   ]
  },
  {
   "cell_type": "code",
   "execution_count": 643,
   "id": "e863a5ef",
   "metadata": {},
   "outputs": [],
   "source": []
  },
  {
   "cell_type": "code",
   "execution_count": 669,
   "id": "b8e412aa",
   "metadata": {},
   "outputs": [
    {
     "data": {
      "text/plain": [
       "235"
      ]
     },
     "execution_count": 669,
     "metadata": {},
     "output_type": "execute_result"
    }
   ],
   "source": [
    "dfxm.price.sum()"
   ]
  },
  {
   "cell_type": "code",
   "execution_count": 679,
   "id": "183ff6bb",
   "metadata": {},
   "outputs": [],
   "source": [
    "#Проверка сработки и правильности\n",
    "if len(dfxm)!=len(dfx):\n",
    "    print( 'ошибка мерже')#           return \n",
    "elif any(dfxm['price'].isna()):\n",
    "    print('не сработал')\n",
    "elif len(df_pr_sapruby[['GEM','size', 'C', 'Q']].sum(axis=1).unique())!= len(df_pr_sapruby['key'].unique()):\n",
    "    print( 'ошибка прейск')    "
   ]
  },
  {
   "cell_type": "code",
   "execution_count": null,
   "id": "c2d062a6",
   "metadata": {},
   "outputs": [],
   "source": []
  },
  {
   "cell_type": "code",
   "execution_count": null,
   "id": "a81ca29e",
   "metadata": {},
   "outputs": [],
   "source": []
  },
  {
   "cell_type": "code",
   "execution_count": null,
   "id": "f365d59a",
   "metadata": {},
   "outputs": [],
   "source": []
  },
  {
   "cell_type": "code",
   "execution_count": null,
   "id": "e317f8af",
   "metadata": {},
   "outputs": [],
   "source": []
  },
  {
   "cell_type": "code",
   "execution_count": 645,
   "id": "d3a92f2c",
   "metadata": {},
   "outputs": [
    {
     "data": {
      "text/plain": [
       "vstlist     object\n",
       "PCS          int32\n",
       "GEM         object\n",
       "CARAT      float64\n",
       "FORM        object\n",
       "C           object\n",
       "Q           object\n",
       "CARAT_1    float64\n",
       "size        object\n",
       "price        int64\n",
       "prcost     float64\n",
       "dtype: object"
      ]
     },
     "execution_count": 645,
     "metadata": {},
     "output_type": "execute_result"
    }
   ],
   "source": [
    "dfx.dtypes"
   ]
  },
  {
   "cell_type": "code",
   "execution_count": null,
   "id": "d77d87b4",
   "metadata": {},
   "outputs": [],
   "source": [
    "dfx = pd.DataFrame({'vstlist':stdl})\n",
    "    cols = ['PCS', 'GEM', 'CARAT', 'FORM', 'C', 'Q',  'C_add']\n",
    "    \n",
    "    try:\n",
    "        pass\n",
    "       # if stdl.__contains__('NaN'):\n",
    "       #     raise ValueError(\"имеется ошибка\")\n",
    "#        dfx['PCS'] = dfx['PCS'].astype('int')\n",
    "#        dfx['CARAT'] = dfx['CARAT'].str.replace(',','.').astype('float')\n",
    "#        dfx['PCS'] = dfx['PCS'].astype('int')\n",
    "#        dfx['C'] = dfx['C'].map(dcol_em_sto)\n",
    "#        dfx['Q'] = dfx['Q'].map(dcla_em_sto)\n",
    "#        dfx['CARAT_1'] = dfx['CARAT']/dfx['PCS']\n",
    "#        dfx['size'] = dfx.apply(lambda x:size_em_sto(x['Q'],x['CARAT_1']),axis=1)\n",
    "#        dfx = pd.merge(left=dfx, right=pr_em_sto,\n",
    "#            how='left', \n",
    "#            left_on=['size', 'C', 'Q',],\n",
    "#            right_on=['size','цвет', 'чистота'])\n",
    "#        dfx['prcost'] = dfx['CARAT']*dfx['price']\n"
   ]
  },
  {
   "cell_type": "code",
   "execution_count": 612,
   "id": "934d1e82",
   "metadata": {},
   "outputs": [],
   "source": [
    "pd.merge?"
   ]
  },
  {
   "cell_type": "code",
   "execution_count": null,
   "id": "c476add2",
   "metadata": {},
   "outputs": [],
   "source": []
  },
  {
   "cell_type": "code",
   "execution_count": null,
   "id": "d2478400",
   "metadata": {},
   "outputs": [],
   "source": []
  },
  {
   "cell_type": "code",
   "execution_count": null,
   "id": "5c6c5097",
   "metadata": {},
   "outputs": [],
   "source": []
  },
  {
   "cell_type": "code",
   "execution_count": null,
   "id": "56ff5947",
   "metadata": {},
   "outputs": [],
   "source": []
  },
  {
   "cell_type": "code",
   "execution_count": null,
   "id": "cd89b3f9",
   "metadata": {},
   "outputs": [],
   "source": []
  },
  {
   "cell_type": "code",
   "execution_count": null,
   "id": "bd16e649",
   "metadata": {},
   "outputs": [],
   "source": []
  },
  {
   "cell_type": "code",
   "execution_count": null,
   "id": "0e735c42",
   "metadata": {},
   "outputs": [],
   "source": []
  },
  {
   "cell_type": "code",
   "execution_count": null,
   "id": "946017fa",
   "metadata": {},
   "outputs": [],
   "source": []
  },
  {
   "cell_type": "code",
   "execution_count": null,
   "id": "cedf8916",
   "metadata": {},
   "outputs": [],
   "source": []
  },
  {
   "cell_type": "code",
   "execution_count": null,
   "id": "136a9800",
   "metadata": {},
   "outputs": [],
   "source": [
    "dfx[['PCS', 'GEM', 'CARAT', 'FORM', 'C', 'Q', 'C_add']"
   ]
  },
  {
   "cell_type": "code",
   "execution_count": 362,
   "id": "b1d44f09",
   "metadata": {},
   "outputs": [],
   "source": [
    "dfx['GEM_s'] = dfx['GEM'].map(mds.dgem)\n",
    "dfx['C_s'] = dfx['C'].map(mds.dcol_sap)\n",
    "dfx['Q_s'] = dfx['Q'].map(mds.dcla_sap)    "
   ]
  },
  {
   "cell_type": "code",
   "execution_count": null,
   "id": "bf5c2e8b",
   "metadata": {},
   "outputs": [],
   "source": []
  },
  {
   "cell_type": "code",
   "execution_count": null,
   "id": "68c2c567",
   "metadata": {},
   "outputs": [],
   "source": []
  },
  {
   "cell_type": "code",
   "execution_count": null,
   "id": "f1f2d739",
   "metadata": {},
   "outputs": [],
   "source": []
  },
  {
   "cell_type": "code",
   "execution_count": null,
   "id": "e330ab17",
   "metadata": {},
   "outputs": [],
   "source": []
  },
  {
   "cell_type": "code",
   "execution_count": null,
   "id": "b0742a54",
   "metadata": {},
   "outputs": [],
   "source": []
  },
  {
   "cell_type": "code",
   "execution_count": null,
   "id": "ee7fc0d4",
   "metadata": {},
   "outputs": [],
   "source": []
  },
  {
   "cell_type": "code",
   "execution_count": 455,
   "id": "7b6ffa4d",
   "metadata": {},
   "outputs": [
    {
     "data": {
      "text/html": [
       "<div>\n",
       "<style scoped>\n",
       "    .dataframe tbody tr th:only-of-type {\n",
       "        vertical-align: middle;\n",
       "    }\n",
       "\n",
       "    .dataframe tbody tr th {\n",
       "        vertical-align: top;\n",
       "    }\n",
       "\n",
       "    .dataframe thead th {\n",
       "        text-align: right;\n",
       "    }\n",
       "</style>\n",
       "<table border=\"1\" class=\"dataframe\">\n",
       "  <thead>\n",
       "    <tr style=\"text-align: right;\">\n",
       "      <th></th>\n",
       "      <th>vstlist</th>\n",
       "      <th>PCS</th>\n",
       "      <th>GEM</th>\n",
       "      <th>CARAT</th>\n",
       "      <th>FORM</th>\n",
       "      <th>C</th>\n",
       "      <th>Q</th>\n",
       "      <th>C_add</th>\n",
       "      <th>CARAT_1</th>\n",
       "      <th>size</th>\n",
       "    </tr>\n",
       "  </thead>\n",
       "  <tbody>\n",
       "    <tr>\n",
       "      <th>0</th>\n",
       "      <td>[67, сапфирпт, 0,332, кр, 2, 2, синий]</td>\n",
       "      <td>67</td>\n",
       "      <td>сапфирпт</td>\n",
       "      <td>0.332</td>\n",
       "      <td>кр</td>\n",
       "      <td>2</td>\n",
       "      <td>2</td>\n",
       "      <td>синий</td>\n",
       "      <td>0.004955</td>\n",
       "      <td>До 0,09</td>\n",
       "    </tr>\n",
       "    <tr>\n",
       "      <th>1</th>\n",
       "      <td>[1, сапфирпт, 0,603, кр, 4, 3, nan]</td>\n",
       "      <td>1</td>\n",
       "      <td>сапфирпт</td>\n",
       "      <td>0.603</td>\n",
       "      <td>кр</td>\n",
       "      <td>4</td>\n",
       "      <td>3</td>\n",
       "      <td>NaN</td>\n",
       "      <td>0.603000</td>\n",
       "      <td>0,50-0,99</td>\n",
       "    </tr>\n",
       "    <tr>\n",
       "      <th>2</th>\n",
       "      <td>[2, сапфирпт, 1,205, кр, 4, 3, nan]</td>\n",
       "      <td>2</td>\n",
       "      <td>сапфирпт</td>\n",
       "      <td>1.205</td>\n",
       "      <td>кр</td>\n",
       "      <td>4</td>\n",
       "      <td>3</td>\n",
       "      <td>NaN</td>\n",
       "      <td>0.602500</td>\n",
       "      <td>0,50-0,99</td>\n",
       "    </tr>\n",
       "  </tbody>\n",
       "</table>\n",
       "</div>"
      ],
      "text/plain": [
       "                                  vstlist  PCS       GEM  CARAT FORM  C  Q  \\\n",
       "0  [67, сапфирпт, 0,332, кр, 2, 2, синий]   67  сапфирпт  0.332   кр  2  2   \n",
       "1     [1, сапфирпт, 0,603, кр, 4, 3, nan]    1  сапфирпт  0.603   кр  4  3   \n",
       "2     [2, сапфирпт, 1,205, кр, 4, 3, nan]    2  сапфирпт  1.205   кр  4  3   \n",
       "\n",
       "   C_add   CARAT_1       size  \n",
       "0  синий  0.004955    До 0,09  \n",
       "1    NaN  0.603000  0,50-0,99  \n",
       "2    NaN  0.602500  0,50-0,99  "
      ]
     },
     "execution_count": 455,
     "metadata": {},
     "output_type": "execute_result"
    }
   ],
   "source": [
    "dfx"
   ]
  },
  {
   "cell_type": "code",
   "execution_count": null,
   "id": "2602b4a3",
   "metadata": {},
   "outputs": [],
   "source": []
  },
  {
   "cell_type": "code",
   "execution_count": null,
   "id": "2c658ed4",
   "metadata": {},
   "outputs": [],
   "source": []
  },
  {
   "cell_type": "code",
   "execution_count": null,
   "id": "01e41aac",
   "metadata": {},
   "outputs": [],
   "source": []
  },
  {
   "cell_type": "code",
   "execution_count": null,
   "id": "db3ab448",
   "metadata": {},
   "outputs": [],
   "source": []
  },
  {
   "cell_type": "code",
   "execution_count": 359,
   "id": "6ef88152",
   "metadata": {},
   "outputs": [
    {
     "data": {
      "text/plain": [
       "vstlist    object\n",
       "PCS        object\n",
       "GEM        object\n",
       "CARAT      object\n",
       "FORM       object\n",
       "CQ         object\n",
       "C          object\n",
       "Q          object\n",
       "C_add      object\n",
       "dtype: object"
      ]
     },
     "execution_count": 359,
     "metadata": {},
     "output_type": "execute_result"
    }
   ],
   "source": [
    "dfx.dtypes"
   ]
  },
  {
   "cell_type": "code",
   "execution_count": 336,
   "id": "0a977df7",
   "metadata": {},
   "outputs": [
    {
     "name": "stdout",
     "output_type": "stream",
     "text": [
      "67сапфирпт-0,332-кр+2/2*синий 1сапфирпт-0,603-кр+4/3 2сапфирпт-1,205-кр+4/3 \n"
     ]
    }
   ],
   "source": [
    "#dfx['vstlist_std']\n",
    "try:\n",
    "    print((dfx[['PCS', 'GEM', 'CARAT', 'FORM', 'C', 'Q', 'C_add']]\\\n",
    ".apply(lambda x: \\\n",
    "    f\"{x[0]}{mds.dgem[x[1]]}-{x[2]}-{x[3]}+{mds.dcol_sap[x[4]]}/{mds.dcla_sap[x[5]]}\"\\\n",
    "       +(lambda x:'*'+x if type(x)==type('s') else '')(x[6])+' '\n",
    "       , axis=1)).sum())\n",
    "except Exception as err:\n",
    "    print('err',err)"
   ]
  },
  {
   "cell_type": "code",
   "execution_count": 367,
   "id": "1b7fe4c4",
   "metadata": {},
   "outputs": [
    {
     "data": {
      "text/html": [
       "<div>\n",
       "<style scoped>\n",
       "    .dataframe tbody tr th:only-of-type {\n",
       "        vertical-align: middle;\n",
       "    }\n",
       "\n",
       "    .dataframe tbody tr th {\n",
       "        vertical-align: top;\n",
       "    }\n",
       "\n",
       "    .dataframe thead th {\n",
       "        text-align: right;\n",
       "    }\n",
       "</style>\n",
       "<table border=\"1\" class=\"dataframe\">\n",
       "  <thead>\n",
       "    <tr style=\"text-align: right;\">\n",
       "      <th></th>\n",
       "      <th>vstlist</th>\n",
       "      <th>PCS</th>\n",
       "      <th>GEM</th>\n",
       "      <th>CARAT</th>\n",
       "      <th>FORM</th>\n",
       "      <th>CQ</th>\n",
       "      <th>C</th>\n",
       "      <th>Q</th>\n",
       "      <th>C_add</th>\n",
       "      <th>GEM_s</th>\n",
       "      <th>C_s</th>\n",
       "      <th>Q_s</th>\n",
       "    </tr>\n",
       "  </thead>\n",
       "  <tbody>\n",
       "    <tr>\n",
       "      <th>0</th>\n",
       "      <td>(67, СапфирПТ, 0,332, КР, 2/2*синий)</td>\n",
       "      <td>67</td>\n",
       "      <td>сапфирпт</td>\n",
       "      <td>0,332</td>\n",
       "      <td>кр</td>\n",
       "      <td>2/2*синий</td>\n",
       "      <td>2</td>\n",
       "      <td>2</td>\n",
       "      <td>синий</td>\n",
       "      <td>сапфирпт</td>\n",
       "      <td>2</td>\n",
       "      <td>2</td>\n",
       "    </tr>\n",
       "    <tr>\n",
       "      <th>1</th>\n",
       "      <td>(1, СапфирТ, 0,603, КР, 4/3)</td>\n",
       "      <td>1</td>\n",
       "      <td>сапфирт</td>\n",
       "      <td>0,603</td>\n",
       "      <td>кр</td>\n",
       "      <td>4/3</td>\n",
       "      <td>4</td>\n",
       "      <td>3</td>\n",
       "      <td>NaN</td>\n",
       "      <td>NaN</td>\n",
       "      <td>4</td>\n",
       "      <td>3</td>\n",
       "    </tr>\n",
       "    <tr>\n",
       "      <th>2</th>\n",
       "      <td>(2, СапфирПТ, 1,205, КР, 4/3)</td>\n",
       "      <td>2</td>\n",
       "      <td>сапфирпт</td>\n",
       "      <td>1,205</td>\n",
       "      <td>кр</td>\n",
       "      <td>4/3</td>\n",
       "      <td>4</td>\n",
       "      <td>3</td>\n",
       "      <td>NaN</td>\n",
       "      <td>сапфирпт</td>\n",
       "      <td>4</td>\n",
       "      <td>3</td>\n",
       "    </tr>\n",
       "  </tbody>\n",
       "</table>\n",
       "</div>"
      ],
      "text/plain": [
       "                                vstlist PCS       GEM  CARAT FORM         CQ  \\\n",
       "0  (67, СапфирПТ, 0,332, КР, 2/2*синий)  67  сапфирпт  0,332   кр  2/2*синий   \n",
       "1          (1, СапфирТ, 0,603, КР, 4/3)   1   сапфирт  0,603   кр        4/3   \n",
       "2         (2, СапфирПТ, 1,205, КР, 4/3)   2  сапфирпт  1,205   кр        4/3   \n",
       "\n",
       "   C  Q  C_add     GEM_s C_s Q_s  \n",
       "0  2  2  синий  сапфирпт   2   2  \n",
       "1  4  3    NaN       NaN   4   3  \n",
       "2  4  3    NaN  сапфирпт   4   3  "
      ]
     },
     "execution_count": 367,
     "metadata": {},
     "output_type": "execute_result"
    }
   ],
   "source": [
    "dfx"
   ]
  },
  {
   "cell_type": "code",
   "execution_count": 368,
   "id": "76d0ec98",
   "metadata": {},
   "outputs": [
    {
     "data": {
      "text/plain": [
       "[['67', 'сапфирпт', '0,332', 'кр', '2', '2', 'синий'],\n",
       " ['1', nan, '0,603', 'кр', '4', '3', nan],\n",
       " ['2', 'сапфирпт', '1,205', 'кр', '4', '3', nan]]"
      ]
     },
     "execution_count": 368,
     "metadata": {},
     "output_type": "execute_result"
    }
   ],
   "source": [
    "dfx[['PCS', 'GEM_s', 'CARAT', 'FORM', 'C_s', 'Q_s', 'C_add']].to_numpy().tolist()"
   ]
  },
  {
   "cell_type": "code",
   "execution_count": 337,
   "id": "6695056c",
   "metadata": {},
   "outputs": [
    {
     "data": {
      "text/plain": [
       "[('67', 'СапфирПТ', '0,332', 'КР', '2/2*синий'),\n",
       " ('1', 'СапфирпТ', '0,603', 'КР', '4/3'),\n",
       " ('2', 'СапфирПТ', '1,205', 'КР', '4/3')]"
      ]
     },
     "execution_count": 337,
     "metadata": {},
     "output_type": "execute_result"
    }
   ],
   "source": [
    "l"
   ]
  },
  {
   "cell_type": "code",
   "execution_count": 344,
   "id": "d1d04a25",
   "metadata": {},
   "outputs": [],
   "source": [
    "listnp = dfx[['PCS', 'GEM', 'CARAT', 'FORM', 'C', 'Q']].to_numpy()"
   ]
  },
  {
   "cell_type": "code",
   "execution_count": 345,
   "id": "949840ca",
   "metadata": {},
   "outputs": [
    {
     "data": {
      "text/plain": [
       "array([['67', 'сапфирпт', '0,332', 'кр', '2', '2'],\n",
       "       ['1', 'сапфирпт', '0,603', 'кр', '4', '3'],\n",
       "       ['2', 'сапфирпт', '1,205', 'кр', '4', '3']], dtype=object)"
      ]
     },
     "execution_count": 345,
     "metadata": {},
     "output_type": "execute_result"
    }
   ],
   "source": [
    "listnp"
   ]
  },
  {
   "cell_type": "code",
   "execution_count": 347,
   "id": "d47c0e16",
   "metadata": {},
   "outputs": [
    {
     "data": {
      "text/html": [
       "<div>\n",
       "<style scoped>\n",
       "    .dataframe tbody tr th:only-of-type {\n",
       "        vertical-align: middle;\n",
       "    }\n",
       "\n",
       "    .dataframe tbody tr th {\n",
       "        vertical-align: top;\n",
       "    }\n",
       "\n",
       "    .dataframe thead th {\n",
       "        text-align: right;\n",
       "    }\n",
       "</style>\n",
       "<table border=\"1\" class=\"dataframe\">\n",
       "  <thead>\n",
       "    <tr style=\"text-align: right;\">\n",
       "      <th></th>\n",
       "      <th>0</th>\n",
       "      <th>1</th>\n",
       "      <th>2</th>\n",
       "      <th>3</th>\n",
       "      <th>4</th>\n",
       "      <th>5</th>\n",
       "    </tr>\n",
       "  </thead>\n",
       "  <tbody>\n",
       "    <tr>\n",
       "      <th>0</th>\n",
       "      <td>67</td>\n",
       "      <td>сапфирпт</td>\n",
       "      <td>0,332</td>\n",
       "      <td>кр</td>\n",
       "      <td>2</td>\n",
       "      <td>2</td>\n",
       "    </tr>\n",
       "    <tr>\n",
       "      <th>1</th>\n",
       "      <td>1</td>\n",
       "      <td>сапфирпт</td>\n",
       "      <td>0,603</td>\n",
       "      <td>кр</td>\n",
       "      <td>4</td>\n",
       "      <td>3</td>\n",
       "    </tr>\n",
       "    <tr>\n",
       "      <th>2</th>\n",
       "      <td>2</td>\n",
       "      <td>сапфирпт</td>\n",
       "      <td>1,205</td>\n",
       "      <td>кр</td>\n",
       "      <td>4</td>\n",
       "      <td>3</td>\n",
       "    </tr>\n",
       "  </tbody>\n",
       "</table>\n",
       "</div>"
      ],
      "text/plain": [
       "    0         1      2   3  4  5\n",
       "0  67  сапфирпт  0,332  кр  2  2\n",
       "1   1  сапфирпт  0,603  кр  4  3\n",
       "2   2  сапфирпт  1,205  кр  4  3"
      ]
     },
     "execution_count": 347,
     "metadata": {},
     "output_type": "execute_result"
    }
   ],
   "source": [
    "pd.DataFrame(listnp)"
   ]
  },
  {
   "cell_type": "code",
   "execution_count": 351,
   "id": "b7785d95",
   "metadata": {},
   "outputs": [
    {
     "data": {
      "text/plain": [
       "[['67', 'сапфирпт', '0,332', 'кр', '2', '2'],\n",
       " ['1', 'сапфирпт', '0,603', 'кр', '4', '3'],\n",
       " ['2', 'сапфирпт', '1,205', 'кр', '4', '3']]"
      ]
     },
     "execution_count": 351,
     "metadata": {},
     "output_type": "execute_result"
    }
   ],
   "source": [
    "dfx[['PCS', 'GEM', 'CARAT', 'FORM', 'C', 'Q']].to_numpy().tolist()"
   ]
  },
  {
   "cell_type": "code",
   "execution_count": 352,
   "id": "e9b150e9",
   "metadata": {},
   "outputs": [
    {
     "data": {
      "text/html": [
       "<div>\n",
       "<style scoped>\n",
       "    .dataframe tbody tr th:only-of-type {\n",
       "        vertical-align: middle;\n",
       "    }\n",
       "\n",
       "    .dataframe tbody tr th {\n",
       "        vertical-align: top;\n",
       "    }\n",
       "\n",
       "    .dataframe thead th {\n",
       "        text-align: right;\n",
       "    }\n",
       "</style>\n",
       "<table border=\"1\" class=\"dataframe\">\n",
       "  <thead>\n",
       "    <tr style=\"text-align: right;\">\n",
       "      <th></th>\n",
       "      <th>0</th>\n",
       "      <th>1</th>\n",
       "      <th>2</th>\n",
       "      <th>3</th>\n",
       "      <th>4</th>\n",
       "      <th>5</th>\n",
       "    </tr>\n",
       "  </thead>\n",
       "  <tbody>\n",
       "    <tr>\n",
       "      <th>0</th>\n",
       "      <td>67</td>\n",
       "      <td>сапфирпт</td>\n",
       "      <td>0,332</td>\n",
       "      <td>кр</td>\n",
       "      <td>2</td>\n",
       "      <td>2</td>\n",
       "    </tr>\n",
       "    <tr>\n",
       "      <th>1</th>\n",
       "      <td>1</td>\n",
       "      <td>сапфирпт</td>\n",
       "      <td>0,603</td>\n",
       "      <td>кр</td>\n",
       "      <td>4</td>\n",
       "      <td>3</td>\n",
       "    </tr>\n",
       "    <tr>\n",
       "      <th>2</th>\n",
       "      <td>2</td>\n",
       "      <td>сапфирпт</td>\n",
       "      <td>1,205</td>\n",
       "      <td>кр</td>\n",
       "      <td>4</td>\n",
       "      <td>3</td>\n",
       "    </tr>\n",
       "  </tbody>\n",
       "</table>\n",
       "</div>"
      ],
      "text/plain": [
       "    0         1      2   3  4  5\n",
       "0  67  сапфирпт  0,332  кр  2  2\n",
       "1   1  сапфирпт  0,603  кр  4  3\n",
       "2   2  сапфирпт  1,205  кр  4  3"
      ]
     },
     "execution_count": 352,
     "metadata": {},
     "output_type": "execute_result"
    }
   ],
   "source": [
    "pd.DataFrame(_)"
   ]
  },
  {
   "cell_type": "code",
   "execution_count": 313,
   "id": "2a5037c1",
   "metadata": {},
   "outputs": [
    {
     "name": "stdout",
     "output_type": "stream",
     "text": [
      "ssss\n"
     ]
    }
   ],
   "source": [
    "try:\n",
    "    mds.dgem['сапфир4']\n",
    "except :\n",
    "    print('ssss')"
   ]
  },
  {
   "cell_type": "code",
   "execution_count": 323,
   "id": "3090ae22",
   "metadata": {},
   "outputs": [
    {
     "data": {
      "text/plain": [
       "'ffdd'"
      ]
     },
     "execution_count": 323,
     "metadata": {},
     "output_type": "execute_result"
    }
   ],
   "source": [
    "'ff'+(lambda x:x)('dd')"
   ]
  },
  {
   "cell_type": "code",
   "execution_count": 290,
   "id": "0262a676",
   "metadata": {},
   "outputs": [
    {
     "data": {
      "text/plain": [
       "'сапфирпт'"
      ]
     },
     "execution_count": 290,
     "metadata": {},
     "output_type": "execute_result"
    }
   ],
   "source": [
    "mds.dgem[]"
   ]
  },
  {
   "cell_type": "code",
   "execution_count": 275,
   "id": "88e53cb1",
   "metadata": {},
   "outputs": [
    {
     "data": {
      "text/plain": [
       "Index(['vstlist', 'PCS', 'GEM', 'CARAT', 'FORM', 'CQ', 'C', 'Q', 'C_add'], dtype='object')"
      ]
     },
     "execution_count": 275,
     "metadata": {},
     "output_type": "execute_result"
    }
   ],
   "source": [
    "dfx.columns"
   ]
  },
  {
   "cell_type": "code",
   "execution_count": 53,
   "id": "dbb90d6e",
   "metadata": {},
   "outputs": [],
   "source": [
    "tsnorm = '''\n",
    "('3', 'Сапфирв', '0,220', 'Кр', '2/2*Желтый'),\n",
    " ('3', 'СапфирПТ', '0,230', 'Кр', '2/2*Розовый'),\n",
    " ('3', 'СапфирПТ', '0,220', 'Кр', '2/2*Оранжевый'),\n",
    " ('1', 'СапфирВТ', '0,603', 'КР', '4/3'),\n",
    " ('1', 'СапфирВТ', '0,603', 'КР', '4/3d'),\n",
    " ('1', 'СапфирВТ', '0,603', 'КР', '4/d3d'),\n",
    " ('1', 'СапфирddВТ', '0,603', 'КР', '4/ 2КР57'),\n",
    " ('1', 'СапфирddВТ', '0,603', 'КР', 'd/v'),\n",
    " ('1', 'СапфирВТ', '0,603', 'КР', 'f4/3'),\n",
    " ('2', 'СапфирПТ', '1,205', 'КР', '4в/3'),\n",
    " ('1', 'СапфирПТ', '0,603', 'кр', '4в/3'),\n",
    " ('2', 'СапфирПТ', '1,205', 'кр', '4в/3')'''"
   ]
  },
  {
   "cell_type": "code",
   "execution_count": 277,
   "id": "613fc025",
   "metadata": {},
   "outputs": [],
   "source": []
  },
  {
   "cell_type": "code",
   "execution_count": null,
   "id": "ccd45ae5",
   "metadata": {},
   "outputs": [],
   "source": []
  },
  {
   "cell_type": "markdown",
   "id": "bf61ee12",
   "metadata": {},
   "source": [
    "# RUBY разработка re"
   ]
  },
  {
   "cell_type": "markdown",
   "id": "9de914f4",
   "metadata": {},
   "source": [
    "## разработка массовая "
   ]
  },
  {
   "cell_type": "code",
   "execution_count": 25,
   "id": "3084094e",
   "metadata": {},
   "outputs": [],
   "source": [
    "df = df_vst_15102023"
   ]
  },
  {
   "cell_type": "code",
   "execution_count": 139,
   "id": "0e12536e",
   "metadata": {},
   "outputs": [
    {
     "name": "stdout",
     "output_type": "stream",
     "text": [
      "<class 'pandas.core.frame.DataFrame'>\n",
      "Int64Index: 34269 entries, 0 to 34268\n",
      "Data columns (total 12 columns):\n",
      " #   Column                  Non-Null Count  Dtype \n",
      "---  ------                  --------------  ----- \n",
      " 0   Код                     34269 non-null  object\n",
      " 1   Вставки_д28             34269 non-null  object\n",
      " 2   emerald_list            34269 non-null  object\n",
      " 3   len_jem                 34269 non-null  int64 \n",
      " 4   len_em                  34269 non-null  int64 \n",
      " 5   price_em.vst2list       304 non-null    object\n",
      " 6   price_em.check_vstlist  304 non-null    object\n",
      " 7   prcost                  304 non-null    object\n",
      " 8   sapphire_list           34269 non-null  object\n",
      " 9   jsapphire_list          34269 non-null  object\n",
      " 10  len_sap                 34269 non-null  int64 \n",
      " 11  len_jsap                34269 non-null  int64 \n",
      "dtypes: int64(4), object(8)\n",
      "memory usage: 3.4+ MB\n"
     ]
    }
   ],
   "source": [
    "df.info()"
   ]
  },
  {
   "cell_type": "code",
   "execution_count": 140,
   "id": "e80056ec",
   "metadata": {},
   "outputs": [],
   "source": [
    "#11-11-2023-20-40\n",
    "pattern_ruby =  r\"\"\"(?ix)(?P<N>\\d{,3})# штуки \n",
    "               (?P<Gem>рубин[A-яA-z.]{1,5})[-]+#gem\n",
    "               (?P<Carat>\\d\\d?[.,]?\\d*)[\\s-]+                                 # карат\n",
    "               (?P<Form>[A-яA-z.\\d-]{1,10})[+]+#[+\\s-]+ \n",
    "               (?P<ColQ>\\d+[ /]+(?:\\d*[ГгКкKk]*\\d*))\"\"\"\n",
    "               "
   ]
  },
  {
   "cell_type": "code",
   "execution_count": 193,
   "id": "163300c3",
   "metadata": {},
   "outputs": [],
   "source": [
    "#12-11-2023-20-40\n",
    "pattern_ruby3 =  r\"\"\"(?ix)(?P<N>\\d{,3})# штуки \n",
    "               (?P<Gem>рубин[A-яA-z.]{1,5})[-]+#gem\n",
    "               (?P<Carat>\\d\\d?[.,]?\\d*)[+-]+\\s*                              # карат\n",
    "               (?P<Form>[A-яA-z.\\d-]{1,10})[+-]+\\s*  #[+-\\s]+ \n",
    "               (?P<ColQ>\\d+[ /]+(?:\\d*[ГгКкKk]*\\d*))\"\"\"\n",
    "               "
   ]
  },
  {
   "cell_type": "code",
   "execution_count": 191,
   "id": "a964a482",
   "metadata": {},
   "outputs": [],
   "source": [
    "#в разработке с *цвет\n",
    "pattern_ruby2 =  r\"\"\"(?ix)(?P<N>\\d{,3})# штуки \n",
    "               (?P<Gem>рубин[A-яA-z.]{1,5})[-]+#gem\n",
    "               (?P<Carat>\\d\\d?[.,]?\\d*)[\\s-]+                                 # карат\n",
    "               (?P<Form>[A-яA-z.\\d-]{1,10})[+]+#[+\\s-]+ \n",
    "               (?P<ColQ>\\d+[ /]+(?:\\d*[ГгКкKk]*\\d*)[*]*[A-яA-z]*)\"\"\"\n",
    "               "
   ]
  },
  {
   "cell_type": "code",
   "execution_count": 178,
   "id": "4b4c17fa",
   "metadata": {},
   "outputs": [],
   "source": [
    "# чисто для сапфирП\n",
    "pattern_jruby = r\"\"\"(?ix)(?P<Gem>рубин[нНпП])+#gem\"\"\""
   ]
  },
  {
   "cell_type": "code",
   "execution_count": 184,
   "id": "cb7e564b",
   "metadata": {},
   "outputs": [],
   "source": [
    "t3 = '''\n",
    "1РубинН-2,020-натГ/1 20КР17-0,152-2/2А\n",
    "1РубинН-0,682-4б/4 6КР57-0,036-6/5А \n",
    "2РубинН-1,780-4б/4 12КР57-0,070-6/5А\n",
    "2РубинПТ-1,880+ОВ+2/2 8кр57-0,08-4/5А\n",
    "3РубинПТ-0,210-Кр+2/2 '''"
   ]
  },
  {
   "cell_type": "code",
   "execution_count": 194,
   "id": "4a6c57cd",
   "metadata": {},
   "outputs": [
    {
     "data": {
      "text/plain": [
       "[('2', 'РубинПТ', '1,880', 'ОВ', '2/2'),\n",
       " ('3', 'РубинПТ', '0,210', 'Кр', '2/2')]"
      ]
     },
     "execution_count": 194,
     "metadata": {},
     "output_type": "execute_result"
    }
   ],
   "source": [
    "re.findall(pattern_ruby3, t3) "
   ]
  },
  {
   "cell_type": "code",
   "execution_count": 164,
   "id": "9d4948d3",
   "metadata": {},
   "outputs": [
    {
     "data": {
      "text/plain": [
       "['РубинН', 'РубинН', 'РубинН', 'РубинП', 'РубинП']"
      ]
     },
     "execution_count": 164,
     "metadata": {},
     "output_type": "execute_result"
    }
   ],
   "source": [
    "#проверка\n",
    "re.findall(pattern_jruby, t3)"
   ]
  },
  {
   "cell_type": "code",
   "execution_count": 144,
   "id": "c2be8772",
   "metadata": {},
   "outputs": [
    {
     "data": {
      "text/plain": [
       "[('3', 'РубинПТ', '0,210', 'Кр', '2/2')]"
      ]
     },
     "execution_count": 144,
     "metadata": {},
     "output_type": "execute_result"
    }
   ],
   "source": [
    "re.findall(pattern_ruby, '3ИзумрудПМ-0,160-НРОКр+3/Г2 3РубинПТ-0,210-Кр+2/2 3СапфирПТ-0,220-Кр+2/2*Желтый 3СапфирПТ-0,230-Кр+2/2*Розовый 3СапфирПТ-0,220-Кр+2/2*Оранжевый 13КР57-0,140-3/5А 9КР57-0,550-3/3А')"
   ]
  },
  {
   "cell_type": "code",
   "execution_count": 145,
   "id": "a4787077",
   "metadata": {},
   "outputs": [
    {
     "data": {
      "text/plain": [
       "[('3', 'РубинПТ', '0,210', 'Кр', '2/2')]"
      ]
     },
     "execution_count": 145,
     "metadata": {},
     "output_type": "execute_result"
    }
   ],
   "source": [
    "re.findall(pattern_ruby2,'3ИзумрудПМ-0,160-НРОКр+3/Г2 3РубинПТ-0,210-Кр+2/2 3СапфирПТ-0,220-Кр+2/2*Желтый 3СапфирПТ-0,230-Кр+2/2*Розовый 3СапфирПТ-0,220-Кр+2/2*Оранжевый 13КР57-0,140-3/5А 9КР57-0,550-3/3А')"
   ]
  },
  {
   "cell_type": "code",
   "execution_count": 146,
   "id": "feb60174",
   "metadata": {},
   "outputs": [],
   "source": [
    "df['ruby_list'] = df['Вставки_д28'].apply(lambda x: re.findall(pattern_ruby2, x))"
   ]
  },
  {
   "cell_type": "code",
   "execution_count": 195,
   "id": "37b0995f",
   "metadata": {},
   "outputs": [],
   "source": [
    "df['ruby_list3'] = df['Вставки_д28'].apply(lambda x: re.findall(pattern_ruby3, x))"
   ]
  },
  {
   "cell_type": "code",
   "execution_count": 196,
   "id": "25cef74b",
   "metadata": {},
   "outputs": [],
   "source": [
    "df['len_ruby3'] = df['ruby_list3'].map(len) "
   ]
  },
  {
   "cell_type": "code",
   "execution_count": 147,
   "id": "f4213383",
   "metadata": {},
   "outputs": [],
   "source": [
    "df['jruby_list'] = df['Вставки_д28'].apply(lambda x: re.findall(pattern_jruby, x))"
   ]
  },
  {
   "cell_type": "code",
   "execution_count": 148,
   "id": "0d9f8bdf",
   "metadata": {},
   "outputs": [],
   "source": [
    "df['len_ruby'] = df['ruby_list'].map(len) "
   ]
  },
  {
   "cell_type": "code",
   "execution_count": 150,
   "id": "6c6aa8ef",
   "metadata": {},
   "outputs": [],
   "source": [
    "df['len_jruby'] = df['jruby_list'].map(len) "
   ]
  },
  {
   "cell_type": "code",
   "execution_count": 197,
   "id": "e5938cd5",
   "metadata": {},
   "outputs": [
    {
     "data": {
      "text/plain": [
       "Index(['Код', 'Вставки_д28', 'emerald_list', 'len_jem', 'len_em',\n",
       "       'price_em.vst2list', 'price_em.check_vstlist', 'prcost',\n",
       "       'sapphire_list', 'jsapphire_list', 'len_sap', 'len_jsap', 'ruby_list',\n",
       "       'jruby_list', 'len_ruby', 'len_jruby', 'ruby_list3', 'len_ruby3'],\n",
       "      dtype='object')"
      ]
     },
     "execution_count": 197,
     "metadata": {},
     "output_type": "execute_result"
    }
   ],
   "source": [
    "df.columns"
   ]
  },
  {
   "cell_type": "code",
   "execution_count": 152,
   "id": "ca108303",
   "metadata": {},
   "outputs": [
    {
     "name": "stdout",
     "output_type": "stream",
     "text": [
      "<class 'pandas.core.frame.DataFrame'>\n",
      "Int64Index: 34269 entries, 0 to 34268\n",
      "Data columns (total 16 columns):\n",
      " #   Column                  Non-Null Count  Dtype \n",
      "---  ------                  --------------  ----- \n",
      " 0   Код                     34269 non-null  object\n",
      " 1   Вставки_д28             34269 non-null  object\n",
      " 2   emerald_list            34269 non-null  object\n",
      " 3   len_jem                 34269 non-null  int64 \n",
      " 4   len_em                  34269 non-null  int64 \n",
      " 5   price_em.vst2list       304 non-null    object\n",
      " 6   price_em.check_vstlist  304 non-null    object\n",
      " 7   prcost                  304 non-null    object\n",
      " 8   sapphire_list           34269 non-null  object\n",
      " 9   jsapphire_list          34269 non-null  object\n",
      " 10  len_sap                 34269 non-null  int64 \n",
      " 11  len_jsap                34269 non-null  int64 \n",
      " 12  ruby_list               34269 non-null  object\n",
      " 13  jruby_list              34269 non-null  object\n",
      " 14  len_ruby                34269 non-null  int64 \n",
      " 15  len_jruby               34269 non-null  int64 \n",
      "dtypes: int64(6), object(10)\n",
      "memory usage: 4.4+ MB\n"
     ]
    }
   ],
   "source": [
    "df.info()"
   ]
  },
  {
   "cell_type": "code",
   "execution_count": 199,
   "id": "d55e018a",
   "metadata": {},
   "outputs": [
    {
     "data": {
      "text/plain": [
       "Index(['Код', 'Вставки_д28', 'emerald_list', 'len_jem', 'len_em',\n",
       "       'price_em.vst2list', 'price_em.check_vstlist', 'prcost',\n",
       "       'sapphire_list', 'jsapphire_list', 'len_sap', 'len_jsap', 'ruby_list',\n",
       "       'jruby_list', 'len_ruby', 'len_jruby', 'ruby_list3', 'len_ruby3'],\n",
       "      dtype='object')"
      ]
     },
     "execution_count": 199,
     "metadata": {},
     "output_type": "execute_result"
    }
   ],
   "source": [
    "df.columns"
   ]
  },
  {
   "cell_type": "code",
   "execution_count": 200,
   "id": "b65a8fd5",
   "metadata": {},
   "outputs": [],
   "source": [
    "df_xr = df[['Код', 'Вставки_д28',\n",
    "      'ruby_list', 'jruby_list', 'len_ruby', 'len_jruby', 'ruby_list3', 'len_ruby3']].explode( 'ruby_list3').copy(deep=True)"
   ]
  },
  {
   "cell_type": "code",
   "execution_count": 201,
   "id": "8f4ec674",
   "metadata": {},
   "outputs": [
    {
     "name": "stdout",
     "output_type": "stream",
     "text": [
      "<class 'pandas.core.frame.DataFrame'>\n",
      "Int64Index: 34274 entries, 0 to 34268\n",
      "Data columns (total 8 columns):\n",
      " #   Column       Non-Null Count  Dtype \n",
      "---  ------       --------------  ----- \n",
      " 0   Код          34274 non-null  object\n",
      " 1   Вставки_д28  34274 non-null  object\n",
      " 2   ruby_list    34274 non-null  object\n",
      " 3   jruby_list   34274 non-null  object\n",
      " 4   len_ruby     34274 non-null  int64 \n",
      " 5   len_jruby    34274 non-null  int64 \n",
      " 6   ruby_list3   204 non-null    object\n",
      " 7   len_ruby3    34274 non-null  int64 \n",
      "dtypes: int64(3), object(5)\n",
      "memory usage: 2.4+ MB\n"
     ]
    }
   ],
   "source": [
    "df_xr.info()"
   ]
  },
  {
   "cell_type": "code",
   "execution_count": 202,
   "id": "a7bbfc89",
   "metadata": {
    "scrolled": true
   },
   "outputs": [],
   "source": [
    "df_xr.dropna(subset='ruby_list3', inplace=True)"
   ]
  },
  {
   "cell_type": "markdown",
   "id": "df4d1081",
   "metadata": {},
   "source": [
    "### разбор по  [\"PCS\",\"GEM\",\"CARAT\", \"FORM\", \"CQ\"]"
   ]
  },
  {
   "cell_type": "code",
   "execution_count": 203,
   "id": "e771f737",
   "metadata": {},
   "outputs": [],
   "source": [
    "cols = [\"PCS\",\"GEM\",\"CARAT\", \"FORM\", \"CQ\"]\n",
    "for c in range(len(cols)):\n",
    "    df_xr[cols[c]] = df_xr.ruby_list3.apply(lambda x: x[c].lower().strip())"
   ]
  },
  {
   "cell_type": "code",
   "execution_count": 204,
   "id": "bc05a50c",
   "metadata": {
    "scrolled": true
   },
   "outputs": [
    {
     "data": {
      "text/html": [
       "<div>\n",
       "<style scoped>\n",
       "    .dataframe tbody tr th:only-of-type {\n",
       "        vertical-align: middle;\n",
       "    }\n",
       "\n",
       "    .dataframe tbody tr th {\n",
       "        vertical-align: top;\n",
       "    }\n",
       "\n",
       "    .dataframe thead th {\n",
       "        text-align: right;\n",
       "    }\n",
       "</style>\n",
       "<table border=\"1\" class=\"dataframe\">\n",
       "  <thead>\n",
       "    <tr style=\"text-align: right;\">\n",
       "      <th></th>\n",
       "      <th>Код</th>\n",
       "      <th>Вставки_д28</th>\n",
       "      <th>ruby_list</th>\n",
       "      <th>jruby_list</th>\n",
       "      <th>len_ruby</th>\n",
       "      <th>len_jruby</th>\n",
       "      <th>ruby_list3</th>\n",
       "      <th>len_ruby3</th>\n",
       "      <th>PCS</th>\n",
       "      <th>GEM</th>\n",
       "      <th>CARAT</th>\n",
       "      <th>FORM</th>\n",
       "      <th>CQ</th>\n",
       "    </tr>\n",
       "  </thead>\n",
       "  <tbody>\n",
       "    <tr>\n",
       "      <th>165</th>\n",
       "      <td>ЦБ-00019794</td>\n",
       "      <td>1РубинПТ-1,410-ОВ+2/3 6Кр57-0,07-3/3А</td>\n",
       "      <td>[(1, РубинПТ, 1,410, ОВ, 2/3)]</td>\n",
       "      <td>[РубинП]</td>\n",
       "      <td>1</td>\n",
       "      <td>1</td>\n",
       "      <td>(1, РубинПТ, 1,410, ОВ, 2/3)</td>\n",
       "      <td>1</td>\n",
       "      <td>1</td>\n",
       "      <td>рубинпт</td>\n",
       "      <td>1,410</td>\n",
       "      <td>ов</td>\n",
       "      <td>2/3</td>\n",
       "    </tr>\n",
       "    <tr>\n",
       "      <th>388</th>\n",
       "      <td>ЦБ-00166033</td>\n",
       "      <td>1РубинПТ-0,590-ОВ+3/2 26Кр57-0,130-4/5А</td>\n",
       "      <td>[(1, РубинПТ, 0,590, ОВ, 3/2)]</td>\n",
       "      <td>[РубинП]</td>\n",
       "      <td>1</td>\n",
       "      <td>1</td>\n",
       "      <td>(1, РубинПТ, 0,590, ОВ, 3/2)</td>\n",
       "      <td>1</td>\n",
       "      <td>1</td>\n",
       "      <td>рубинпт</td>\n",
       "      <td>0,590</td>\n",
       "      <td>ов</td>\n",
       "      <td>3/2</td>\n",
       "    </tr>\n",
       "    <tr>\n",
       "      <th>418</th>\n",
       "      <td>ЦБ-00188652</td>\n",
       "      <td>3РубинПТ-0,570-М+2/2 ЖемчугР 1КР57-0,020-3/3А ...</td>\n",
       "      <td>[(3, РубинПТ, 0,570, М, 2/2)]</td>\n",
       "      <td>[РубинП]</td>\n",
       "      <td>1</td>\n",
       "      <td>1</td>\n",
       "      <td>(3, РубинПТ, 0,570, М, 2/2)</td>\n",
       "      <td>1</td>\n",
       "      <td>3</td>\n",
       "      <td>рубинпт</td>\n",
       "      <td>0,570</td>\n",
       "      <td>м</td>\n",
       "      <td>2/2</td>\n",
       "    </tr>\n",
       "    <tr>\n",
       "      <th>908</th>\n",
       "      <td>ЦБ-00188663</td>\n",
       "      <td>6РубинПТ-1,030-М+2/2 ЖемчугР 2КР57-0,030-3/3А ...</td>\n",
       "      <td>[(6, РубинПТ, 1,030, М, 2/2)]</td>\n",
       "      <td>[РубинП]</td>\n",
       "      <td>1</td>\n",
       "      <td>1</td>\n",
       "      <td>(6, РубинПТ, 1,030, М, 2/2)</td>\n",
       "      <td>1</td>\n",
       "      <td>6</td>\n",
       "      <td>рубинпт</td>\n",
       "      <td>1,030</td>\n",
       "      <td>м</td>\n",
       "      <td>2/2</td>\n",
       "    </tr>\n",
       "    <tr>\n",
       "      <th>1046</th>\n",
       "      <td>ЦБ-00029667</td>\n",
       "      <td>3РубинПТ-0,890-Кр+3/3 36Кр57-0,250-2/4А</td>\n",
       "      <td>[(3, РубинПТ, 0,890, Кр, 3/3)]</td>\n",
       "      <td>[РубинП]</td>\n",
       "      <td>1</td>\n",
       "      <td>1</td>\n",
       "      <td>(3, РубинПТ, 0,890, Кр, 3/3)</td>\n",
       "      <td>1</td>\n",
       "      <td>3</td>\n",
       "      <td>рубинпт</td>\n",
       "      <td>0,890</td>\n",
       "      <td>кр</td>\n",
       "      <td>3/3</td>\n",
       "    </tr>\n",
       "    <tr>\n",
       "      <th>...</th>\n",
       "      <td>...</td>\n",
       "      <td>...</td>\n",
       "      <td>...</td>\n",
       "      <td>...</td>\n",
       "      <td>...</td>\n",
       "      <td>...</td>\n",
       "      <td>...</td>\n",
       "      <td>...</td>\n",
       "      <td>...</td>\n",
       "      <td>...</td>\n",
       "      <td>...</td>\n",
       "      <td>...</td>\n",
       "      <td>...</td>\n",
       "    </tr>\n",
       "    <tr>\n",
       "      <th>32924</th>\n",
       "      <td>ЦБ-00181170</td>\n",
       "      <td>2РубинПТ-1,880-Кр+2/3 8КР57-0,104-2/3А 8кр57-0...</td>\n",
       "      <td>[(2, РубинПТ, 1,880, Кр, 2/3)]</td>\n",
       "      <td>[РубинП]</td>\n",
       "      <td>1</td>\n",
       "      <td>1</td>\n",
       "      <td>(2, РубинПТ, 1,880, Кр, 2/3)</td>\n",
       "      <td>1</td>\n",
       "      <td>2</td>\n",
       "      <td>рубинпт</td>\n",
       "      <td>1,880</td>\n",
       "      <td>кр</td>\n",
       "      <td>2/3</td>\n",
       "    </tr>\n",
       "    <tr>\n",
       "      <th>32930</th>\n",
       "      <td>ЦБ-00181186</td>\n",
       "      <td>1РубинПТ-0,620-Ов+2/2 2КР17-0,060-2/2А 14Кр17-...</td>\n",
       "      <td>[(1, РубинПТ, 0,620, Ов, 2/2)]</td>\n",
       "      <td>[РубинП]</td>\n",
       "      <td>1</td>\n",
       "      <td>1</td>\n",
       "      <td>(1, РубинПТ, 0,620, Ов, 2/2)</td>\n",
       "      <td>1</td>\n",
       "      <td>1</td>\n",
       "      <td>рубинпт</td>\n",
       "      <td>0,620</td>\n",
       "      <td>ов</td>\n",
       "      <td>2/2</td>\n",
       "    </tr>\n",
       "    <tr>\n",
       "      <th>33015</th>\n",
       "      <td>ЦБ-00182517</td>\n",
       "      <td>4РубинПТ-1,960-Ф+2/2 6КР57-0,060-3/5А 4КР57-0,...</td>\n",
       "      <td>[(4, РубинПТ, 1,960, Ф, 2/2)]</td>\n",
       "      <td>[РубинП]</td>\n",
       "      <td>1</td>\n",
       "      <td>1</td>\n",
       "      <td>(4, РубинПТ, 1,960, Ф, 2/2)</td>\n",
       "      <td>1</td>\n",
       "      <td>4</td>\n",
       "      <td>рубинпт</td>\n",
       "      <td>1,960</td>\n",
       "      <td>ф</td>\n",
       "      <td>2/2</td>\n",
       "    </tr>\n",
       "    <tr>\n",
       "      <th>33016</th>\n",
       "      <td>ЦБ-00182518</td>\n",
       "      <td>1РубинПТ-0,43-Ф+2/2 4КР57-0,040-3/5А 2КР57-0,0...</td>\n",
       "      <td>[(1, РубинПТ, 0,43, Ф, 2/2)]</td>\n",
       "      <td>[РубинП]</td>\n",
       "      <td>1</td>\n",
       "      <td>1</td>\n",
       "      <td>(1, РубинПТ, 0,43, Ф, 2/2)</td>\n",
       "      <td>1</td>\n",
       "      <td>1</td>\n",
       "      <td>рубинпт</td>\n",
       "      <td>0,43</td>\n",
       "      <td>ф</td>\n",
       "      <td>2/2</td>\n",
       "    </tr>\n",
       "    <tr>\n",
       "      <th>34203</th>\n",
       "      <td>ЦБ-00003020</td>\n",
       "      <td>2РубинПТ-0,100-кр+3/3 10кр57-0,14-3/3А</td>\n",
       "      <td>[(2, РубинПТ, 0,100, кр, 3/3)]</td>\n",
       "      <td>[РубинП]</td>\n",
       "      <td>1</td>\n",
       "      <td>1</td>\n",
       "      <td>(2, РубинПТ, 0,100, кр, 3/3)</td>\n",
       "      <td>1</td>\n",
       "      <td>2</td>\n",
       "      <td>рубинпт</td>\n",
       "      <td>0,100</td>\n",
       "      <td>кр</td>\n",
       "      <td>3/3</td>\n",
       "    </tr>\n",
       "  </tbody>\n",
       "</table>\n",
       "<p>204 rows × 13 columns</p>\n",
       "</div>"
      ],
      "text/plain": [
       "               Код                                        Вставки_д28  \\\n",
       "165    ЦБ-00019794              1РубинПТ-1,410-ОВ+2/3 6Кр57-0,07-3/3А   \n",
       "388    ЦБ-00166033            1РубинПТ-0,590-ОВ+3/2 26Кр57-0,130-4/5А   \n",
       "418    ЦБ-00188652  3РубинПТ-0,570-М+2/2 ЖемчугР 1КР57-0,020-3/3А ...   \n",
       "908    ЦБ-00188663  6РубинПТ-1,030-М+2/2 ЖемчугР 2КР57-0,030-3/3А ...   \n",
       "1046   ЦБ-00029667            3РубинПТ-0,890-Кр+3/3 36Кр57-0,250-2/4А   \n",
       "...            ...                                                ...   \n",
       "32924  ЦБ-00181170  2РубинПТ-1,880-Кр+2/3 8КР57-0,104-2/3А 8кр57-0...   \n",
       "32930  ЦБ-00181186  1РубинПТ-0,620-Ов+2/2 2КР17-0,060-2/2А 14Кр17-...   \n",
       "33015  ЦБ-00182517  4РубинПТ-1,960-Ф+2/2 6КР57-0,060-3/5А 4КР57-0,...   \n",
       "33016  ЦБ-00182518  1РубинПТ-0,43-Ф+2/2 4КР57-0,040-3/5А 2КР57-0,0...   \n",
       "34203  ЦБ-00003020             2РубинПТ-0,100-кр+3/3 10кр57-0,14-3/3А   \n",
       "\n",
       "                            ruby_list jruby_list  len_ruby  len_jruby  \\\n",
       "165    [(1, РубинПТ, 1,410, ОВ, 2/3)]   [РубинП]         1          1   \n",
       "388    [(1, РубинПТ, 0,590, ОВ, 3/2)]   [РубинП]         1          1   \n",
       "418     [(3, РубинПТ, 0,570, М, 2/2)]   [РубинП]         1          1   \n",
       "908     [(6, РубинПТ, 1,030, М, 2/2)]   [РубинП]         1          1   \n",
       "1046   [(3, РубинПТ, 0,890, Кр, 3/3)]   [РубинП]         1          1   \n",
       "...                               ...        ...       ...        ...   \n",
       "32924  [(2, РубинПТ, 1,880, Кр, 2/3)]   [РубинП]         1          1   \n",
       "32930  [(1, РубинПТ, 0,620, Ов, 2/2)]   [РубинП]         1          1   \n",
       "33015   [(4, РубинПТ, 1,960, Ф, 2/2)]   [РубинП]         1          1   \n",
       "33016    [(1, РубинПТ, 0,43, Ф, 2/2)]   [РубинП]         1          1   \n",
       "34203  [(2, РубинПТ, 0,100, кр, 3/3)]   [РубинП]         1          1   \n",
       "\n",
       "                         ruby_list3  len_ruby3 PCS      GEM  CARAT FORM   CQ  \n",
       "165    (1, РубинПТ, 1,410, ОВ, 2/3)          1   1  рубинпт  1,410   ов  2/3  \n",
       "388    (1, РубинПТ, 0,590, ОВ, 3/2)          1   1  рубинпт  0,590   ов  3/2  \n",
       "418     (3, РубинПТ, 0,570, М, 2/2)          1   3  рубинпт  0,570    м  2/2  \n",
       "908     (6, РубинПТ, 1,030, М, 2/2)          1   6  рубинпт  1,030    м  2/2  \n",
       "1046   (3, РубинПТ, 0,890, Кр, 3/3)          1   3  рубинпт  0,890   кр  3/3  \n",
       "...                             ...        ...  ..      ...    ...  ...  ...  \n",
       "32924  (2, РубинПТ, 1,880, Кр, 2/3)          1   2  рубинпт  1,880   кр  2/3  \n",
       "32930  (1, РубинПТ, 0,620, Ов, 2/2)          1   1  рубинпт  0,620   ов  2/2  \n",
       "33015   (4, РубинПТ, 1,960, Ф, 2/2)          1   4  рубинпт  1,960    ф  2/2  \n",
       "33016    (1, РубинПТ, 0,43, Ф, 2/2)          1   1  рубинпт   0,43    ф  2/2  \n",
       "34203  (2, РубинПТ, 0,100, кр, 3/3)          1   2  рубинпт  0,100   кр  3/3  \n",
       "\n",
       "[204 rows x 13 columns]"
      ]
     },
     "execution_count": 204,
     "metadata": {},
     "output_type": "execute_result"
    }
   ],
   "source": [
    "df_xr"
   ]
  },
  {
   "cell_type": "code",
   "execution_count": 205,
   "id": "5ad104e2",
   "metadata": {},
   "outputs": [
    {
     "name": "stdout",
     "output_type": "stream",
     "text": [
      "PCS ['1' '3' '6' '146' '2' '4' '5' '7' '11' '10' '17' '9' '' '16' '67' '13'\n",
      " '12' '20' '80' '54']\n",
      "GEM ['рубинпт' 'рубинн' 'рубинпф']\n",
      "CARAT ['1,410' '0,590' '0,570' '1,030' '0,890' '0,210' '4,570' '0,877' '2,340'\n",
      " '0,220' '0,630' '0,150' '0,740' '0,615' '1,960' '0,682' '0,350' '0,233'\n",
      " '0,360' '0,269' '2,630' '0,730' '1,750' '0,100' '0,830' '0,230' '0,770'\n",
      " '0,460' '0,280' '1,460' '1,880' '1,100' '1,700' '1,315' '1,076' '0,470'\n",
      " '0,170' '0,020' '0,030' '0,060' '1,680' '1,545' '6,150' '1,550' '1,220'\n",
      " '1,420' '5,600' '2,990' '0,065' '0,600' '1,130' '0,400' '0,500' '0,420'\n",
      " '4,780' '1,38' '1,520' '2,460' '1,740' '5,120' '5,210' '9,570' '1,800'\n",
      " '0,130' '1,640' '0,361' '0,640' '0,270' '0,160' '0,1028' '0,320' '0,700'\n",
      " '0,610' '0,307' '1,135' '0,120' '0,090' '0,110' '0,950' '2,520' '2,430'\n",
      " '0,370' '0,101' '0,200' '024' '0,760' '1,319' '0,850' '5,270' '0,050'\n",
      " '1,010' '1,200' '0,550' '0,260' '0,136' '0,051' '0,080' '0,840' '0,240'\n",
      " '0,070' '0,076' '0,344' '8,520' '0,166' '1,544' '0,870' '1,830' '0,290'\n",
      " '0,620' '0,43']\n",
      "FORM ['ов' 'м' 'кр' 'кв' 'гр' 'пр' 'ф' 'нрокр' 'и']\n",
      "CQ ['2/3' '3/2' '2/2' '3/3' '2/г2' '3/4' '4/4' '3/5' '2/1' '4/5' '3/г4' '1/2'\n",
      " '1/3' '2/4']\n"
     ]
    }
   ],
   "source": [
    "for c in cols:\n",
    "    print(c, df_xr[c].unique())"
   ]
  },
  {
   "cell_type": "code",
   "execution_count": 208,
   "id": "652c2efd",
   "metadata": {
    "scrolled": true
   },
   "outputs": [
    {
     "data": {
      "text/html": [
       "<div>\n",
       "<style scoped>\n",
       "    .dataframe tbody tr th:only-of-type {\n",
       "        vertical-align: middle;\n",
       "    }\n",
       "\n",
       "    .dataframe tbody tr th {\n",
       "        vertical-align: top;\n",
       "    }\n",
       "\n",
       "    .dataframe thead th {\n",
       "        text-align: right;\n",
       "    }\n",
       "</style>\n",
       "<table border=\"1\" class=\"dataframe\">\n",
       "  <thead>\n",
       "    <tr style=\"text-align: right;\">\n",
       "      <th></th>\n",
       "      <th>Код</th>\n",
       "      <th>Вставки_д28</th>\n",
       "      <th>ruby_list</th>\n",
       "      <th>jruby_list</th>\n",
       "      <th>len_ruby</th>\n",
       "      <th>len_jruby</th>\n",
       "      <th>ruby_list3</th>\n",
       "      <th>len_ruby3</th>\n",
       "      <th>PCS</th>\n",
       "      <th>GEM</th>\n",
       "      <th>CARAT</th>\n",
       "      <th>FORM</th>\n",
       "      <th>CQ</th>\n",
       "    </tr>\n",
       "  </thead>\n",
       "  <tbody>\n",
       "    <tr>\n",
       "      <th>1686</th>\n",
       "      <td>ЦБ-00160602</td>\n",
       "      <td>218ИзумрудПМ-3,990-НРОКр+2/Г2 146РубинПТ-4,570...</td>\n",
       "      <td>[(146, РубинПТ, 4,570, Кр, 2/Г2)]</td>\n",
       "      <td>[РубинП]</td>\n",
       "      <td>1</td>\n",
       "      <td>1</td>\n",
       "      <td>(146, РубинПТ, 4,570, Кр, 2/Г2)</td>\n",
       "      <td>1</td>\n",
       "      <td>146</td>\n",
       "      <td>рубинпт</td>\n",
       "      <td>4,570</td>\n",
       "      <td>кр</td>\n",
       "      <td>2/г2</td>\n",
       "    </tr>\n",
       "    <tr>\n",
       "      <th>8774</th>\n",
       "      <td>ЦБ-00161529</td>\n",
       "      <td>1РубинПТ-0,130-НРОКр+3/Г4 20КР57-0,090-3/4А</td>\n",
       "      <td>[(1, РубинПТ, 0,130, НРОКр, 3/Г4)]</td>\n",
       "      <td>[РубинП]</td>\n",
       "      <td>1</td>\n",
       "      <td>1</td>\n",
       "      <td>(1, РубинПТ, 0,130, НРОКр, 3/Г4)</td>\n",
       "      <td>1</td>\n",
       "      <td>1</td>\n",
       "      <td>рубинпт</td>\n",
       "      <td>0,130</td>\n",
       "      <td>нрокр</td>\n",
       "      <td>3/г4</td>\n",
       "    </tr>\n",
       "  </tbody>\n",
       "</table>\n",
       "</div>"
      ],
      "text/plain": [
       "              Код                                        Вставки_д28  \\\n",
       "1686  ЦБ-00160602  218ИзумрудПМ-3,990-НРОКр+2/Г2 146РубинПТ-4,570...   \n",
       "8774  ЦБ-00161529        1РубинПТ-0,130-НРОКр+3/Г4 20КР57-0,090-3/4А   \n",
       "\n",
       "                               ruby_list jruby_list  len_ruby  len_jruby  \\\n",
       "1686   [(146, РубинПТ, 4,570, Кр, 2/Г2)]   [РубинП]         1          1   \n",
       "8774  [(1, РубинПТ, 0,130, НРОКр, 3/Г4)]   [РубинП]         1          1   \n",
       "\n",
       "                            ruby_list3  len_ruby3  PCS      GEM  CARAT   FORM  \\\n",
       "1686   (146, РубинПТ, 4,570, Кр, 2/Г2)          1  146  рубинпт  4,570     кр   \n",
       "8774  (1, РубинПТ, 0,130, НРОКр, 3/Г4)          1    1  рубинпт  0,130  нрокр   \n",
       "\n",
       "        CQ  \n",
       "1686  2/г2  \n",
       "8774  3/г4  "
      ]
     },
     "execution_count": 208,
     "metadata": {},
     "output_type": "execute_result"
    }
   ],
   "source": [
    "df_xr[df_xr['CQ'].isin(['2/г2','3/г4'])]"
   ]
  },
  {
   "cell_type": "code",
   "execution_count": 209,
   "id": "64ac4a7e",
   "metadata": {},
   "outputs": [
    {
     "data": {
      "text/html": [
       "<div>\n",
       "<style scoped>\n",
       "    .dataframe tbody tr th:only-of-type {\n",
       "        vertical-align: middle;\n",
       "    }\n",
       "\n",
       "    .dataframe tbody tr th {\n",
       "        vertical-align: top;\n",
       "    }\n",
       "\n",
       "    .dataframe thead th {\n",
       "        text-align: right;\n",
       "    }\n",
       "</style>\n",
       "<table border=\"1\" class=\"dataframe\">\n",
       "  <thead>\n",
       "    <tr style=\"text-align: right;\">\n",
       "      <th></th>\n",
       "      <th>Код</th>\n",
       "      <th>Вставки_д28</th>\n",
       "      <th>ruby_list</th>\n",
       "      <th>jruby_list</th>\n",
       "      <th>len_ruby</th>\n",
       "      <th>len_jruby</th>\n",
       "      <th>ruby_list3</th>\n",
       "      <th>len_ruby3</th>\n",
       "      <th>PCS</th>\n",
       "      <th>GEM</th>\n",
       "      <th>CARAT</th>\n",
       "      <th>FORM</th>\n",
       "      <th>CQ</th>\n",
       "    </tr>\n",
       "  </thead>\n",
       "  <tbody>\n",
       "    <tr>\n",
       "      <th>8106</th>\n",
       "      <td>ЦБ-00008485</td>\n",
       "      <td>60Кр57-1,00-3/3А РубинПТ-1,38-КР+2/2</td>\n",
       "      <td>[(, РубинПТ, 1,38, КР, 2/2)]</td>\n",
       "      <td>[РубинП]</td>\n",
       "      <td>1</td>\n",
       "      <td>1</td>\n",
       "      <td>(, РубинПТ, 1,38, КР, 2/2)</td>\n",
       "      <td>1</td>\n",
       "      <td></td>\n",
       "      <td>рубинпт</td>\n",
       "      <td>1,38</td>\n",
       "      <td>кр</td>\n",
       "      <td>2/2</td>\n",
       "    </tr>\n",
       "    <tr>\n",
       "      <th>8541</th>\n",
       "      <td>ЦБ-00009215</td>\n",
       "      <td>86Кр57-1,03-3/3А РубинПТ-5,120-КР+3/2</td>\n",
       "      <td>[(, РубинПТ, 5,120, КР, 3/2)]</td>\n",
       "      <td>[РубинП]</td>\n",
       "      <td>1</td>\n",
       "      <td>1</td>\n",
       "      <td>(, РубинПТ, 5,120, КР, 3/2)</td>\n",
       "      <td>1</td>\n",
       "      <td></td>\n",
       "      <td>рубинпт</td>\n",
       "      <td>5,120</td>\n",
       "      <td>кр</td>\n",
       "      <td>3/2</td>\n",
       "    </tr>\n",
       "    <tr>\n",
       "      <th>8542</th>\n",
       "      <td>ЦБ-00009216</td>\n",
       "      <td>33Кр57-0,390-3/3А РубинПТ-5,210-ОВ+2/3</td>\n",
       "      <td>[(, РубинПТ, 5,210, ОВ, 2/3)]</td>\n",
       "      <td>[РубинП]</td>\n",
       "      <td>1</td>\n",
       "      <td>1</td>\n",
       "      <td>(, РубинПТ, 5,210, ОВ, 2/3)</td>\n",
       "      <td>1</td>\n",
       "      <td></td>\n",
       "      <td>рубинпт</td>\n",
       "      <td>5,210</td>\n",
       "      <td>ов</td>\n",
       "      <td>2/3</td>\n",
       "    </tr>\n",
       "  </tbody>\n",
       "</table>\n",
       "</div>"
      ],
      "text/plain": [
       "              Код                             Вставки_д28  \\\n",
       "8106  ЦБ-00008485    60Кр57-1,00-3/3А РубинПТ-1,38-КР+2/2   \n",
       "8541  ЦБ-00009215   86Кр57-1,03-3/3А РубинПТ-5,120-КР+3/2   \n",
       "8542  ЦБ-00009216  33Кр57-0,390-3/3А РубинПТ-5,210-ОВ+2/3   \n",
       "\n",
       "                          ruby_list jruby_list  len_ruby  len_jruby  \\\n",
       "8106   [(, РубинПТ, 1,38, КР, 2/2)]   [РубинП]         1          1   \n",
       "8541  [(, РубинПТ, 5,120, КР, 3/2)]   [РубинП]         1          1   \n",
       "8542  [(, РубинПТ, 5,210, ОВ, 2/3)]   [РубинП]         1          1   \n",
       "\n",
       "                       ruby_list3  len_ruby3 PCS      GEM  CARAT FORM   CQ  \n",
       "8106   (, РубинПТ, 1,38, КР, 2/2)          1      рубинпт   1,38   кр  2/2  \n",
       "8541  (, РубинПТ, 5,120, КР, 3/2)          1      рубинпт  5,120   кр  3/2  \n",
       "8542  (, РубинПТ, 5,210, ОВ, 2/3)          1      рубинпт  5,210   ов  2/3  "
      ]
     },
     "execution_count": 209,
     "metadata": {},
     "output_type": "execute_result"
    }
   ],
   "source": [
    "df_xr[df_xr['PCS']=='']"
   ]
  },
  {
   "cell_type": "code",
   "execution_count": 210,
   "id": "619a2f07",
   "metadata": {},
   "outputs": [],
   "source": [
    "df_xr['C'] = df_xr['CQ'].apply(lambda x: x.split('/')[0].lower().strip())\n",
    "df_xr['Q'] = df_xr['CQ'].apply(lambda x: x.split('/')[1].lower().strip())"
   ]
  },
  {
   "cell_type": "code",
   "execution_count": 211,
   "id": "882c9c89",
   "metadata": {
    "scrolled": false
   },
   "outputs": [
    {
     "data": {
      "text/html": [
       "<div>\n",
       "<style scoped>\n",
       "    .dataframe tbody tr th:only-of-type {\n",
       "        vertical-align: middle;\n",
       "    }\n",
       "\n",
       "    .dataframe tbody tr th {\n",
       "        vertical-align: top;\n",
       "    }\n",
       "\n",
       "    .dataframe thead th {\n",
       "        text-align: right;\n",
       "    }\n",
       "</style>\n",
       "<table border=\"1\" class=\"dataframe\">\n",
       "  <thead>\n",
       "    <tr style=\"text-align: right;\">\n",
       "      <th></th>\n",
       "      <th>Код</th>\n",
       "      <th>Вставки_д28</th>\n",
       "      <th>ruby_list</th>\n",
       "      <th>jruby_list</th>\n",
       "      <th>len_ruby</th>\n",
       "      <th>len_jruby</th>\n",
       "      <th>ruby_list3</th>\n",
       "      <th>len_ruby3</th>\n",
       "      <th>PCS</th>\n",
       "      <th>GEM</th>\n",
       "      <th>CARAT</th>\n",
       "      <th>FORM</th>\n",
       "      <th>CQ</th>\n",
       "      <th>C</th>\n",
       "      <th>Q</th>\n",
       "    </tr>\n",
       "  </thead>\n",
       "  <tbody>\n",
       "    <tr>\n",
       "      <th>165</th>\n",
       "      <td>ЦБ-00019794</td>\n",
       "      <td>1РубинПТ-1,410-ОВ+2/3 6Кр57-0,07-3/3А</td>\n",
       "      <td>[(1, РубинПТ, 1,410, ОВ, 2/3)]</td>\n",
       "      <td>[РубинП]</td>\n",
       "      <td>1</td>\n",
       "      <td>1</td>\n",
       "      <td>(1, РубинПТ, 1,410, ОВ, 2/3)</td>\n",
       "      <td>1</td>\n",
       "      <td>1</td>\n",
       "      <td>рубинпт</td>\n",
       "      <td>1,410</td>\n",
       "      <td>ов</td>\n",
       "      <td>2/3</td>\n",
       "      <td>2</td>\n",
       "      <td>3</td>\n",
       "    </tr>\n",
       "    <tr>\n",
       "      <th>388</th>\n",
       "      <td>ЦБ-00166033</td>\n",
       "      <td>1РубинПТ-0,590-ОВ+3/2 26Кр57-0,130-4/5А</td>\n",
       "      <td>[(1, РубинПТ, 0,590, ОВ, 3/2)]</td>\n",
       "      <td>[РубинП]</td>\n",
       "      <td>1</td>\n",
       "      <td>1</td>\n",
       "      <td>(1, РубинПТ, 0,590, ОВ, 3/2)</td>\n",
       "      <td>1</td>\n",
       "      <td>1</td>\n",
       "      <td>рубинпт</td>\n",
       "      <td>0,590</td>\n",
       "      <td>ов</td>\n",
       "      <td>3/2</td>\n",
       "      <td>3</td>\n",
       "      <td>2</td>\n",
       "    </tr>\n",
       "    <tr>\n",
       "      <th>418</th>\n",
       "      <td>ЦБ-00188652</td>\n",
       "      <td>3РубинПТ-0,570-М+2/2 ЖемчугР 1КР57-0,020-3/3А ...</td>\n",
       "      <td>[(3, РубинПТ, 0,570, М, 2/2)]</td>\n",
       "      <td>[РубинП]</td>\n",
       "      <td>1</td>\n",
       "      <td>1</td>\n",
       "      <td>(3, РубинПТ, 0,570, М, 2/2)</td>\n",
       "      <td>1</td>\n",
       "      <td>3</td>\n",
       "      <td>рубинпт</td>\n",
       "      <td>0,570</td>\n",
       "      <td>м</td>\n",
       "      <td>2/2</td>\n",
       "      <td>2</td>\n",
       "      <td>2</td>\n",
       "    </tr>\n",
       "    <tr>\n",
       "      <th>908</th>\n",
       "      <td>ЦБ-00188663</td>\n",
       "      <td>6РубинПТ-1,030-М+2/2 ЖемчугР 2КР57-0,030-3/3А ...</td>\n",
       "      <td>[(6, РубинПТ, 1,030, М, 2/2)]</td>\n",
       "      <td>[РубинП]</td>\n",
       "      <td>1</td>\n",
       "      <td>1</td>\n",
       "      <td>(6, РубинПТ, 1,030, М, 2/2)</td>\n",
       "      <td>1</td>\n",
       "      <td>6</td>\n",
       "      <td>рубинпт</td>\n",
       "      <td>1,030</td>\n",
       "      <td>м</td>\n",
       "      <td>2/2</td>\n",
       "      <td>2</td>\n",
       "      <td>2</td>\n",
       "    </tr>\n",
       "    <tr>\n",
       "      <th>1046</th>\n",
       "      <td>ЦБ-00029667</td>\n",
       "      <td>3РубинПТ-0,890-Кр+3/3 36Кр57-0,250-2/4А</td>\n",
       "      <td>[(3, РубинПТ, 0,890, Кр, 3/3)]</td>\n",
       "      <td>[РубинП]</td>\n",
       "      <td>1</td>\n",
       "      <td>1</td>\n",
       "      <td>(3, РубинПТ, 0,890, Кр, 3/3)</td>\n",
       "      <td>1</td>\n",
       "      <td>3</td>\n",
       "      <td>рубинпт</td>\n",
       "      <td>0,890</td>\n",
       "      <td>кр</td>\n",
       "      <td>3/3</td>\n",
       "      <td>3</td>\n",
       "      <td>3</td>\n",
       "    </tr>\n",
       "    <tr>\n",
       "      <th>...</th>\n",
       "      <td>...</td>\n",
       "      <td>...</td>\n",
       "      <td>...</td>\n",
       "      <td>...</td>\n",
       "      <td>...</td>\n",
       "      <td>...</td>\n",
       "      <td>...</td>\n",
       "      <td>...</td>\n",
       "      <td>...</td>\n",
       "      <td>...</td>\n",
       "      <td>...</td>\n",
       "      <td>...</td>\n",
       "      <td>...</td>\n",
       "      <td>...</td>\n",
       "      <td>...</td>\n",
       "    </tr>\n",
       "    <tr>\n",
       "      <th>32924</th>\n",
       "      <td>ЦБ-00181170</td>\n",
       "      <td>2РубинПТ-1,880-Кр+2/3 8КР57-0,104-2/3А 8кр57-0...</td>\n",
       "      <td>[(2, РубинПТ, 1,880, Кр, 2/3)]</td>\n",
       "      <td>[РубинП]</td>\n",
       "      <td>1</td>\n",
       "      <td>1</td>\n",
       "      <td>(2, РубинПТ, 1,880, Кр, 2/3)</td>\n",
       "      <td>1</td>\n",
       "      <td>2</td>\n",
       "      <td>рубинпт</td>\n",
       "      <td>1,880</td>\n",
       "      <td>кр</td>\n",
       "      <td>2/3</td>\n",
       "      <td>2</td>\n",
       "      <td>3</td>\n",
       "    </tr>\n",
       "    <tr>\n",
       "      <th>32930</th>\n",
       "      <td>ЦБ-00181186</td>\n",
       "      <td>1РубинПТ-0,620-Ов+2/2 2КР17-0,060-2/2А 14Кр17-...</td>\n",
       "      <td>[(1, РубинПТ, 0,620, Ов, 2/2)]</td>\n",
       "      <td>[РубинП]</td>\n",
       "      <td>1</td>\n",
       "      <td>1</td>\n",
       "      <td>(1, РубинПТ, 0,620, Ов, 2/2)</td>\n",
       "      <td>1</td>\n",
       "      <td>1</td>\n",
       "      <td>рубинпт</td>\n",
       "      <td>0,620</td>\n",
       "      <td>ов</td>\n",
       "      <td>2/2</td>\n",
       "      <td>2</td>\n",
       "      <td>2</td>\n",
       "    </tr>\n",
       "    <tr>\n",
       "      <th>33015</th>\n",
       "      <td>ЦБ-00182517</td>\n",
       "      <td>4РубинПТ-1,960-Ф+2/2 6КР57-0,060-3/5А 4КР57-0,...</td>\n",
       "      <td>[(4, РубинПТ, 1,960, Ф, 2/2)]</td>\n",
       "      <td>[РубинП]</td>\n",
       "      <td>1</td>\n",
       "      <td>1</td>\n",
       "      <td>(4, РубинПТ, 1,960, Ф, 2/2)</td>\n",
       "      <td>1</td>\n",
       "      <td>4</td>\n",
       "      <td>рубинпт</td>\n",
       "      <td>1,960</td>\n",
       "      <td>ф</td>\n",
       "      <td>2/2</td>\n",
       "      <td>2</td>\n",
       "      <td>2</td>\n",
       "    </tr>\n",
       "    <tr>\n",
       "      <th>33016</th>\n",
       "      <td>ЦБ-00182518</td>\n",
       "      <td>1РубинПТ-0,43-Ф+2/2 4КР57-0,040-3/5А 2КР57-0,0...</td>\n",
       "      <td>[(1, РубинПТ, 0,43, Ф, 2/2)]</td>\n",
       "      <td>[РубинП]</td>\n",
       "      <td>1</td>\n",
       "      <td>1</td>\n",
       "      <td>(1, РубинПТ, 0,43, Ф, 2/2)</td>\n",
       "      <td>1</td>\n",
       "      <td>1</td>\n",
       "      <td>рубинпт</td>\n",
       "      <td>0,43</td>\n",
       "      <td>ф</td>\n",
       "      <td>2/2</td>\n",
       "      <td>2</td>\n",
       "      <td>2</td>\n",
       "    </tr>\n",
       "    <tr>\n",
       "      <th>34203</th>\n",
       "      <td>ЦБ-00003020</td>\n",
       "      <td>2РубинПТ-0,100-кр+3/3 10кр57-0,14-3/3А</td>\n",
       "      <td>[(2, РубинПТ, 0,100, кр, 3/3)]</td>\n",
       "      <td>[РубинП]</td>\n",
       "      <td>1</td>\n",
       "      <td>1</td>\n",
       "      <td>(2, РубинПТ, 0,100, кр, 3/3)</td>\n",
       "      <td>1</td>\n",
       "      <td>2</td>\n",
       "      <td>рубинпт</td>\n",
       "      <td>0,100</td>\n",
       "      <td>кр</td>\n",
       "      <td>3/3</td>\n",
       "      <td>3</td>\n",
       "      <td>3</td>\n",
       "    </tr>\n",
       "  </tbody>\n",
       "</table>\n",
       "<p>204 rows × 15 columns</p>\n",
       "</div>"
      ],
      "text/plain": [
       "               Код                                        Вставки_д28  \\\n",
       "165    ЦБ-00019794              1РубинПТ-1,410-ОВ+2/3 6Кр57-0,07-3/3А   \n",
       "388    ЦБ-00166033            1РубинПТ-0,590-ОВ+3/2 26Кр57-0,130-4/5А   \n",
       "418    ЦБ-00188652  3РубинПТ-0,570-М+2/2 ЖемчугР 1КР57-0,020-3/3А ...   \n",
       "908    ЦБ-00188663  6РубинПТ-1,030-М+2/2 ЖемчугР 2КР57-0,030-3/3А ...   \n",
       "1046   ЦБ-00029667            3РубинПТ-0,890-Кр+3/3 36Кр57-0,250-2/4А   \n",
       "...            ...                                                ...   \n",
       "32924  ЦБ-00181170  2РубинПТ-1,880-Кр+2/3 8КР57-0,104-2/3А 8кр57-0...   \n",
       "32930  ЦБ-00181186  1РубинПТ-0,620-Ов+2/2 2КР17-0,060-2/2А 14Кр17-...   \n",
       "33015  ЦБ-00182517  4РубинПТ-1,960-Ф+2/2 6КР57-0,060-3/5А 4КР57-0,...   \n",
       "33016  ЦБ-00182518  1РубинПТ-0,43-Ф+2/2 4КР57-0,040-3/5А 2КР57-0,0...   \n",
       "34203  ЦБ-00003020             2РубинПТ-0,100-кр+3/3 10кр57-0,14-3/3А   \n",
       "\n",
       "                            ruby_list jruby_list  len_ruby  len_jruby  \\\n",
       "165    [(1, РубинПТ, 1,410, ОВ, 2/3)]   [РубинП]         1          1   \n",
       "388    [(1, РубинПТ, 0,590, ОВ, 3/2)]   [РубинП]         1          1   \n",
       "418     [(3, РубинПТ, 0,570, М, 2/2)]   [РубинП]         1          1   \n",
       "908     [(6, РубинПТ, 1,030, М, 2/2)]   [РубинП]         1          1   \n",
       "1046   [(3, РубинПТ, 0,890, Кр, 3/3)]   [РубинП]         1          1   \n",
       "...                               ...        ...       ...        ...   \n",
       "32924  [(2, РубинПТ, 1,880, Кр, 2/3)]   [РубинП]         1          1   \n",
       "32930  [(1, РубинПТ, 0,620, Ов, 2/2)]   [РубинП]         1          1   \n",
       "33015   [(4, РубинПТ, 1,960, Ф, 2/2)]   [РубинП]         1          1   \n",
       "33016    [(1, РубинПТ, 0,43, Ф, 2/2)]   [РубинП]         1          1   \n",
       "34203  [(2, РубинПТ, 0,100, кр, 3/3)]   [РубинП]         1          1   \n",
       "\n",
       "                         ruby_list3  len_ruby3 PCS      GEM  CARAT FORM   CQ  \\\n",
       "165    (1, РубинПТ, 1,410, ОВ, 2/3)          1   1  рубинпт  1,410   ов  2/3   \n",
       "388    (1, РубинПТ, 0,590, ОВ, 3/2)          1   1  рубинпт  0,590   ов  3/2   \n",
       "418     (3, РубинПТ, 0,570, М, 2/2)          1   3  рубинпт  0,570    м  2/2   \n",
       "908     (6, РубинПТ, 1,030, М, 2/2)          1   6  рубинпт  1,030    м  2/2   \n",
       "1046   (3, РубинПТ, 0,890, Кр, 3/3)          1   3  рубинпт  0,890   кр  3/3   \n",
       "...                             ...        ...  ..      ...    ...  ...  ...   \n",
       "32924  (2, РубинПТ, 1,880, Кр, 2/3)          1   2  рубинпт  1,880   кр  2/3   \n",
       "32930  (1, РубинПТ, 0,620, Ов, 2/2)          1   1  рубинпт  0,620   ов  2/2   \n",
       "33015   (4, РубинПТ, 1,960, Ф, 2/2)          1   4  рубинпт  1,960    ф  2/2   \n",
       "33016    (1, РубинПТ, 0,43, Ф, 2/2)          1   1  рубинпт   0,43    ф  2/2   \n",
       "34203  (2, РубинПТ, 0,100, кр, 3/3)          1   2  рубинпт  0,100   кр  3/3   \n",
       "\n",
       "       C  Q  \n",
       "165    2  3  \n",
       "388    3  2  \n",
       "418    2  2  \n",
       "908    2  2  \n",
       "1046   3  3  \n",
       "...   .. ..  \n",
       "32924  2  3  \n",
       "32930  2  2  \n",
       "33015  2  2  \n",
       "33016  2  2  \n",
       "34203  3  3  \n",
       "\n",
       "[204 rows x 15 columns]"
      ]
     },
     "execution_count": 211,
     "metadata": {},
     "output_type": "execute_result"
    }
   ],
   "source": [
    "df_xr"
   ]
  },
  {
   "cell_type": "code",
   "execution_count": null,
   "id": "bce0bd30",
   "metadata": {},
   "outputs": [],
   "source": []
  },
  {
   "cell_type": "markdown",
   "id": "c7e21e4d",
   "metadata": {},
   "source": [
    "## Массовая прогонка словарей"
   ]
  },
  {
   "cell_type": "code",
   "execution_count": 469,
   "id": "7b61368f",
   "metadata": {},
   "outputs": [
    {
     "data": {
      "text/plain": [
       "True"
      ]
     },
     "execution_count": 469,
     "metadata": {},
     "output_type": "execute_result"
    }
   ],
   "source": [
    "df_exp['C'].apply(lambda x: x in dcol_em_sto).all()"
   ]
  },
  {
   "cell_type": "code",
   "execution_count": 467,
   "id": "827cb4ae",
   "metadata": {},
   "outputs": [
    {
     "data": {
      "text/plain": [
       "{'help': ['К1К2Г1Г2Г3'],\n",
       " 'г3': 'Г3',\n",
       " 'г2': 'Г2',\n",
       " 'г1': 'Г1',\n",
       " 'к1': 'К1',\n",
       " 'к2': 'К2',\n",
       " 'k1': 'К1',\n",
       " 'k2': 'К2'}"
      ]
     },
     "execution_count": 467,
     "metadata": {},
     "output_type": "execute_result"
    }
   ],
   "source": [
    "dcla_em_sto"
   ]
  },
  {
   "cell_type": "code",
   "execution_count": null,
   "id": "8bb179ce",
   "metadata": {},
   "outputs": [],
   "source": [
    "vstavki_d.Д.apply(lambda x: x in dcla_dia).unique()"
   ]
  },
  {
   "cell_type": "code",
   "execution_count": null,
   "id": "4a2ed484",
   "metadata": {},
   "outputs": [],
   "source": []
  },
  {
   "cell_type": "code",
   "execution_count": null,
   "id": "48cff7be",
   "metadata": {},
   "outputs": [],
   "source": []
  },
  {
   "cell_type": "markdown",
   "id": "316d3a50",
   "metadata": {},
   "source": [
    "### запись в exel массовой прогонки"
   ]
  },
  {
   "cell_type": "code",
   "execution_count": 198,
   "id": "673748c7",
   "metadata": {},
   "outputs": [],
   "source": [
    "df.to_excel('../ЦВДК/test_res_rubyj.xlsx')"
   ]
  },
  {
   "cell_type": "code",
   "execution_count": null,
   "id": "136022f9",
   "metadata": {},
   "outputs": [],
   "source": [
    "''{:,.2f}'.format"
   ]
  },
  {
   "cell_type": "code",
   "execution_count": 48,
   "id": "4e35c876",
   "metadata": {},
   "outputs": [
    {
     "data": {
      "text/plain": [
       "1.3"
      ]
     },
     "execution_count": 48,
     "metadata": {},
     "output_type": "execute_result"
    }
   ],
   "source": [
    "x=1.29999999999999999999999999999999999999999\n",
    "float(f\"{x:.2f}\")"
   ]
  },
  {
   "cell_type": "code",
   "execution_count": null,
   "id": "63ec5b41",
   "metadata": {},
   "outputs": [],
   "source": []
  },
  {
   "cell_type": "code",
   "execution_count": null,
   "id": "75c62139",
   "metadata": {},
   "outputs": [],
   "source": []
  },
  {
   "cell_type": "code",
   "execution_count": null,
   "id": "74e3b892",
   "metadata": {},
   "outputs": [],
   "source": []
  },
  {
   "cell_type": "code",
   "execution_count": null,
   "id": "7ad7be98",
   "metadata": {},
   "outputs": [],
   "source": []
  },
  {
   "cell_type": "code",
   "execution_count": null,
   "id": "acf4743c",
   "metadata": {},
   "outputs": [],
   "source": []
  },
  {
   "cell_type": "markdown",
   "id": "ca814f2e",
   "metadata": {},
   "source": [
    "# Прейскурант обработка пдф отдельно в модуль"
   ]
  },
  {
   "cell_type": "code",
   "execution_count": null,
   "id": "abf85ebe",
   "metadata": {},
   "outputs": [],
   "source": [
    "#фацетный вид огранки"
   ]
  },
  {
   "cell_type": "code",
   "execution_count": 439,
   "id": "99b99292",
   "metadata": {},
   "outputs": [],
   "source": [
    "pr_g = pd.read_excel('../ЦВДК/pr_emeralds_173_20-04-2023.xlsx', sheet_name='г', header=2)"
   ]
  },
  {
   "cell_type": "code",
   "execution_count": 440,
   "id": "53791a66",
   "metadata": {},
   "outputs": [
    {
     "data": {
      "text/plain": [
       "Index(['ТУ', 'Обработка', 'Огранка', 'цвет', 'чистота', 'до 0,09', '0,10-0,24',\n",
       "       '0,25-0,49', '0,50-0,74', '0,75-0,99', '1,00-1,49', '1,50-1,99',\n",
       "       '2,00-2,99', '3,00-3,99', '4,00-4,99'],\n",
       "      dtype='object')"
      ]
     },
     "execution_count": 440,
     "metadata": {},
     "output_type": "execute_result"
    }
   ],
   "source": [
    "pr_g.columns"
   ]
  },
  {
   "cell_type": "code",
   "execution_count": 239,
   "id": "5cfadec9",
   "metadata": {},
   "outputs": [],
   "source": [
    "pd.melt?"
   ]
  },
  {
   "cell_type": "code",
   "execution_count": 441,
   "id": "671fec9b",
   "metadata": {},
   "outputs": [],
   "source": [
    "pr_g = pd.melt(pr_g, id_vars=['ТУ', 'Обработка', 'Огранка', 'цвет', 'чистота'], value_vars=[ 'до 0,09', '0,10-0,24',\n",
    "       '0,25-0,49', '0,50-0,74', '0,75-0,99', '1,00-1,49', '1,50-1,99',\n",
    "       '2,00-2,99', '3,00-3,99', '4,00-4,99'], value_name='price', var_name='size')"
   ]
  },
  {
   "cell_type": "code",
   "execution_count": 442,
   "id": "caf3c814",
   "metadata": {},
   "outputs": [],
   "source": [
    "pr_em_sto_g = pr_g[pr_g['ТУ']=='СТО']"
   ]
  },
  {
   "cell_type": "code",
   "execution_count": 443,
   "id": "7342460e",
   "metadata": {},
   "outputs": [
    {
     "data": {
      "text/plain": [
       "Index(['ТУ', 'Обработка', 'Огранка', 'цвет', 'чистота', 'size', 'price'], dtype='object')"
      ]
     },
     "execution_count": 443,
     "metadata": {},
     "output_type": "execute_result"
    }
   ],
   "source": [
    "pr_em_sto_g.columns"
   ]
  },
  {
   "cell_type": "code",
   "execution_count": 444,
   "id": "6188170f",
   "metadata": {},
   "outputs": [
    {
     "name": "stdout",
     "output_type": "stream",
     "text": [
      "ТУ ['СТО']\n",
      "Обработка ['промасливание (O) и заполнение трещин (F)']\n",
      "Огранка ['фацетный вид огранки']\n",
      "цвет ['1' '2' '3' '4' '5']\n",
      "чистота ['Г1' 'Г2' 'Г3']\n",
      "size ['до 0,09' '0,10-0,24' '0,25-0,49' '0,50-0,74' '0,75-0,99' '1,00-1,49'\n",
      " '1,50-1,99' '2,00-2,99' '3,00-3,99' '4,00-4,99']\n",
      "price [ 350  300  150  240   75   90   65   55   45   30   27   20   12  500\n",
      "  180  200  110  120  100   40  550  400  450  250  130   70   22   13\n",
      "  700  600  170  280   80   60  900  580  185  320  140   26 1200  750\n",
      "  380  220  160   50   18 1700 1050  850  440 2500 1550  420  210 3000\n",
      " 1800  800 1400  520  260 3700 1000  650  360]\n"
     ]
    }
   ],
   "source": [
    "for c in pr_em_sto_g.columns:\n",
    "    print(c, pr_em_sto_g[c].unique())"
   ]
  },
  {
   "cell_type": "code",
   "execution_count": 445,
   "id": "58ab8d4c",
   "metadata": {},
   "outputs": [],
   "source": [
    "#кобаш вид огранки"
   ]
  },
  {
   "cell_type": "code",
   "execution_count": 446,
   "id": "8b544305",
   "metadata": {},
   "outputs": [],
   "source": [
    "pr_k = pd.read_excel('../ЦВДК/pr_emeralds_173_20-04-2023.xlsx', sheet_name='к', header=2)"
   ]
  },
  {
   "cell_type": "code",
   "execution_count": 447,
   "id": "3dd71dd6",
   "metadata": {},
   "outputs": [
    {
     "data": {
      "text/plain": [
       "Index(['ТУ', 'Обработка', 'Огранка', 'цвет', 'чистота', 'до 0,49', '0,50-0,74',\n",
       "       '0,75-0,99', '1,00-1,49', '1,50-1,99', '2,00-2,99', '3,00-3,99',\n",
       "       '4,00-4,99'],\n",
       "      dtype='object')"
      ]
     },
     "execution_count": 447,
     "metadata": {},
     "output_type": "execute_result"
    }
   ],
   "source": [
    "pr_k.columns"
   ]
  },
  {
   "cell_type": "code",
   "execution_count": 448,
   "id": "03276146",
   "metadata": {},
   "outputs": [],
   "source": [
    "pr_k = pd.melt(pr_k, id_vars=['ТУ', 'Обработка', 'Огранка', 'цвет', 'чистота'], value_vars=[ 'до 0,49', '0,50-0,74',\n",
    "       '0,75-0,99', '1,00-1,49', '1,50-1,99', '2,00-2,99', '3,00-3,99',\n",
    "       '4,00-4,99'], value_name='price', var_name='size')"
   ]
  },
  {
   "cell_type": "code",
   "execution_count": 449,
   "id": "76104ee4",
   "metadata": {},
   "outputs": [
    {
     "data": {
      "text/html": [
       "<div>\n",
       "<style scoped>\n",
       "    .dataframe tbody tr th:only-of-type {\n",
       "        vertical-align: middle;\n",
       "    }\n",
       "\n",
       "    .dataframe tbody tr th {\n",
       "        vertical-align: top;\n",
       "    }\n",
       "\n",
       "    .dataframe thead th {\n",
       "        text-align: right;\n",
       "    }\n",
       "</style>\n",
       "<table border=\"1\" class=\"dataframe\">\n",
       "  <thead>\n",
       "    <tr style=\"text-align: right;\">\n",
       "      <th></th>\n",
       "      <th>ТУ</th>\n",
       "      <th>Обработка</th>\n",
       "      <th>Огранка</th>\n",
       "      <th>цвет</th>\n",
       "      <th>чистота</th>\n",
       "      <th>size</th>\n",
       "      <th>price</th>\n",
       "    </tr>\n",
       "  </thead>\n",
       "  <tbody>\n",
       "    <tr>\n",
       "      <th>0</th>\n",
       "      <td>ГОСТ</td>\n",
       "      <td>заполнение трещин (F)</td>\n",
       "      <td>кобашенный вид огранки</td>\n",
       "      <td>1</td>\n",
       "      <td>1</td>\n",
       "      <td>до 0,49</td>\n",
       "      <td>220</td>\n",
       "    </tr>\n",
       "    <tr>\n",
       "      <th>1</th>\n",
       "      <td>ГОСТ</td>\n",
       "      <td>заполнение трещин (F)</td>\n",
       "      <td>кобашенный вид огранки</td>\n",
       "      <td>1</td>\n",
       "      <td>2</td>\n",
       "      <td>до 0,49</td>\n",
       "      <td>200</td>\n",
       "    </tr>\n",
       "    <tr>\n",
       "      <th>2</th>\n",
       "      <td>ГОСТ</td>\n",
       "      <td>заполнение трещин (F)</td>\n",
       "      <td>кобашенный вид огранки</td>\n",
       "      <td>1</td>\n",
       "      <td>3</td>\n",
       "      <td>до 0,49</td>\n",
       "      <td>170</td>\n",
       "    </tr>\n",
       "    <tr>\n",
       "      <th>3</th>\n",
       "      <td>ГОСТ</td>\n",
       "      <td>заполнение трещин (F)</td>\n",
       "      <td>кобашенный вид огранки</td>\n",
       "      <td>1</td>\n",
       "      <td>4</td>\n",
       "      <td>до 0,49</td>\n",
       "      <td>140</td>\n",
       "    </tr>\n",
       "    <tr>\n",
       "      <th>4</th>\n",
       "      <td>ГОСТ</td>\n",
       "      <td>заполнение трещин (F)</td>\n",
       "      <td>кобашенный вид огранки</td>\n",
       "      <td>1</td>\n",
       "      <td>5</td>\n",
       "      <td>до 0,49</td>\n",
       "      <td>100</td>\n",
       "    </tr>\n",
       "    <tr>\n",
       "      <th>...</th>\n",
       "      <td>...</td>\n",
       "      <td>...</td>\n",
       "      <td>...</td>\n",
       "      <td>...</td>\n",
       "      <td>...</td>\n",
       "      <td>...</td>\n",
       "      <td>...</td>\n",
       "    </tr>\n",
       "    <tr>\n",
       "      <th>387</th>\n",
       "      <td>СТО</td>\n",
       "      <td>промасливание (O) и заполнение трещин (F)</td>\n",
       "      <td>кобашенный вид огранки</td>\n",
       "      <td>3</td>\n",
       "      <td>К2</td>\n",
       "      <td>4,00-4,99</td>\n",
       "      <td>110</td>\n",
       "    </tr>\n",
       "    <tr>\n",
       "      <th>388</th>\n",
       "      <td>СТО</td>\n",
       "      <td>промасливание (O) и заполнение трещин (F)</td>\n",
       "      <td>кобашенный вид огранки</td>\n",
       "      <td>4</td>\n",
       "      <td>К1</td>\n",
       "      <td>4,00-4,99</td>\n",
       "      <td>90</td>\n",
       "    </tr>\n",
       "    <tr>\n",
       "      <th>389</th>\n",
       "      <td>СТО</td>\n",
       "      <td>промасливание (O) и заполнение трещин (F)</td>\n",
       "      <td>кобашенный вид огранки</td>\n",
       "      <td>4</td>\n",
       "      <td>К2</td>\n",
       "      <td>4,00-4,99</td>\n",
       "      <td>56</td>\n",
       "    </tr>\n",
       "    <tr>\n",
       "      <th>390</th>\n",
       "      <td>СТО</td>\n",
       "      <td>промасливание (O) и заполнение трещин (F)</td>\n",
       "      <td>кобашенный вид огранки</td>\n",
       "      <td>5</td>\n",
       "      <td>К1</td>\n",
       "      <td>4,00-4,99</td>\n",
       "      <td>17</td>\n",
       "    </tr>\n",
       "    <tr>\n",
       "      <th>391</th>\n",
       "      <td>СТО</td>\n",
       "      <td>промасливание (O) и заполнение трещин (F)</td>\n",
       "      <td>кобашенный вид огранки</td>\n",
       "      <td>5</td>\n",
       "      <td>К2</td>\n",
       "      <td>4,00-4,99</td>\n",
       "      <td>9</td>\n",
       "    </tr>\n",
       "  </tbody>\n",
       "</table>\n",
       "<p>392 rows × 7 columns</p>\n",
       "</div>"
      ],
      "text/plain": [
       "       ТУ                                  Обработка                 Огранка  \\\n",
       "0    ГОСТ                      заполнение трещин (F)  кобашенный вид огранки   \n",
       "1    ГОСТ                      заполнение трещин (F)  кобашенный вид огранки   \n",
       "2    ГОСТ                      заполнение трещин (F)  кобашенный вид огранки   \n",
       "3    ГОСТ                      заполнение трещин (F)  кобашенный вид огранки   \n",
       "4    ГОСТ                      заполнение трещин (F)  кобашенный вид огранки   \n",
       "..    ...                                        ...                     ...   \n",
       "387   СТО  промасливание (O) и заполнение трещин (F)  кобашенный вид огранки   \n",
       "388   СТО  промасливание (O) и заполнение трещин (F)  кобашенный вид огранки   \n",
       "389   СТО  промасливание (O) и заполнение трещин (F)  кобашенный вид огранки   \n",
       "390   СТО  промасливание (O) и заполнение трещин (F)  кобашенный вид огранки   \n",
       "391   СТО  промасливание (O) и заполнение трещин (F)  кобашенный вид огранки   \n",
       "\n",
       "    цвет чистота       size  price  \n",
       "0      1       1    до 0,49    220  \n",
       "1      1       2    до 0,49    200  \n",
       "2      1       3    до 0,49    170  \n",
       "3      1       4    до 0,49    140  \n",
       "4      1       5    до 0,49    100  \n",
       "..   ...     ...        ...    ...  \n",
       "387    3      К2  4,00-4,99    110  \n",
       "388    4      К1  4,00-4,99     90  \n",
       "389    4      К2  4,00-4,99     56  \n",
       "390    5      К1  4,00-4,99     17  \n",
       "391    5      К2  4,00-4,99      9  \n",
       "\n",
       "[392 rows x 7 columns]"
      ]
     },
     "execution_count": 449,
     "metadata": {},
     "output_type": "execute_result"
    }
   ],
   "source": [
    "pr_k"
   ]
  },
  {
   "cell_type": "code",
   "execution_count": 450,
   "id": "6a48cbd7",
   "metadata": {},
   "outputs": [],
   "source": [
    "pr_em_sto_k = pr_k[pr_k['ТУ']=='СТО']"
   ]
  },
  {
   "cell_type": "code",
   "execution_count": 451,
   "id": "eb31b879",
   "metadata": {},
   "outputs": [
    {
     "data": {
      "text/plain": [
       "Index(['ТУ', 'Обработка', 'Огранка', 'цвет', 'чистота', 'size', 'price'], dtype='object')"
      ]
     },
     "execution_count": 451,
     "metadata": {},
     "output_type": "execute_result"
    }
   ],
   "source": [
    "pr_em_sto_k.columns"
   ]
  },
  {
   "cell_type": "code",
   "execution_count": 452,
   "id": "038785a3",
   "metadata": {
    "scrolled": true
   },
   "outputs": [
    {
     "name": "stdout",
     "output_type": "stream",
     "text": [
      "ТУ ['СТО']\n",
      "Обработка ['промасливание (O) и заполнение трещин (F)']\n",
      "Огранка ['кобашенный вид огранки']\n",
      "цвет ['1' '2' '3' '4' '5']\n",
      "чистота ['К1' 'К2']\n",
      "size ['до 0,49' '0,50-0,74' '0,75-0,99' '1,00-1,49' '1,50-1,99' '2,00-2,99'\n",
      " '3,00-3,99' '4,00-4,99']\n",
      "price [120  75  45  55  28  17   9 160  85  60  35 185 100  70  40  34  22 225\n",
      " 135  80  39 280 150 170  95 390 240 140  62 490 310 320 180  73 600 210\n",
      " 110  90  56]\n"
     ]
    }
   ],
   "source": [
    "for c in pr_em_sto_k.columns:\n",
    "    print(c, pr_em_sto_k[c].unique())"
   ]
  },
  {
   "cell_type": "code",
   "execution_count": 454,
   "id": "434594d0",
   "metadata": {},
   "outputs": [],
   "source": [
    "# слияние\n",
    "pr_em_sto = pd.concat([pr_em_sto_k,pr_em_sto_g])"
   ]
  },
  {
   "cell_type": "code",
   "execution_count": 456,
   "id": "4a2f2622",
   "metadata": {},
   "outputs": [
    {
     "name": "stdout",
     "output_type": "stream",
     "text": [
      "ТУ ['СТО']\n",
      "Обработка ['промасливание (O) и заполнение трещин (F)']\n",
      "Огранка ['кобашенный вид огранки' 'фацетный вид огранки']\n",
      "цвет ['1' '2' '3' '4' '5']\n",
      "чистота ['К1' 'К2' 'Г1' 'Г2' 'Г3']\n",
      "size ['до 0,49' '0,50-0,74' '0,75-0,99' '1,00-1,49' '1,50-1,99' '2,00-2,99'\n",
      " '3,00-3,99' '4,00-4,99' 'до 0,09' '0,10-0,24' '0,25-0,49']\n",
      "price [ 120   75   45   55   28   17    9  160   85   60   35  185  100   70\n",
      "   40   34   22  225  135   80   39  280  150  170   95  390  240  140\n",
      "   62  490  310  320  180   73  600  210  110   90   56  350  300   65\n",
      "   30   27   20   12  500  200  550  400  450  250  130   13  700  900\n",
      "  580   26 1200  750  380  220   50   18 1700 1050  850  440 2500 1550\n",
      "  420 3000 1800  800 1400  520  260 3700 1000  650  360]\n"
     ]
    }
   ],
   "source": [
    "dfxx = pr_em_sto\n",
    "for c in dfxx.columns:\n",
    "    print(c, dfxx[c].unique())"
   ]
  },
  {
   "cell_type": "code",
   "execution_count": 597,
   "id": "1df79c45",
   "metadata": {},
   "outputs": [
    {
     "data": {
      "text/html": [
       "<div>\n",
       "<style scoped>\n",
       "    .dataframe tbody tr th:only-of-type {\n",
       "        vertical-align: middle;\n",
       "    }\n",
       "\n",
       "    .dataframe tbody tr th {\n",
       "        vertical-align: top;\n",
       "    }\n",
       "\n",
       "    .dataframe thead th {\n",
       "        text-align: right;\n",
       "    }\n",
       "</style>\n",
       "<table border=\"1\" class=\"dataframe\">\n",
       "  <thead>\n",
       "    <tr style=\"text-align: right;\">\n",
       "      <th></th>\n",
       "      <th>ТУ</th>\n",
       "      <th>Обработка</th>\n",
       "      <th>Огранка</th>\n",
       "      <th>цвет</th>\n",
       "      <th>чистота</th>\n",
       "      <th>size</th>\n",
       "      <th>price</th>\n",
       "    </tr>\n",
       "  </thead>\n",
       "  <tbody>\n",
       "    <tr>\n",
       "      <th>39</th>\n",
       "      <td>СТО</td>\n",
       "      <td>промасливание (O) и заполнение трещин (F)</td>\n",
       "      <td>кобашенный вид огранки</td>\n",
       "      <td>1</td>\n",
       "      <td>К1</td>\n",
       "      <td>до 0,49</td>\n",
       "      <td>120</td>\n",
       "    </tr>\n",
       "    <tr>\n",
       "      <th>40</th>\n",
       "      <td>СТО</td>\n",
       "      <td>промасливание (O) и заполнение трещин (F)</td>\n",
       "      <td>кобашенный вид огранки</td>\n",
       "      <td>1</td>\n",
       "      <td>К2</td>\n",
       "      <td>до 0,49</td>\n",
       "      <td>75</td>\n",
       "    </tr>\n",
       "    <tr>\n",
       "      <th>41</th>\n",
       "      <td>СТО</td>\n",
       "      <td>промасливание (O) и заполнение трещин (F)</td>\n",
       "      <td>кобашенный вид огранки</td>\n",
       "      <td>2</td>\n",
       "      <td>К1</td>\n",
       "      <td>до 0,49</td>\n",
       "      <td>75</td>\n",
       "    </tr>\n",
       "    <tr>\n",
       "      <th>42</th>\n",
       "      <td>СТО</td>\n",
       "      <td>промасливание (O) и заполнение трещин (F)</td>\n",
       "      <td>кобашенный вид огранки</td>\n",
       "      <td>2</td>\n",
       "      <td>К2</td>\n",
       "      <td>до 0,49</td>\n",
       "      <td>45</td>\n",
       "    </tr>\n",
       "    <tr>\n",
       "      <th>43</th>\n",
       "      <td>СТО</td>\n",
       "      <td>промасливание (O) и заполнение трещин (F)</td>\n",
       "      <td>кобашенный вид огранки</td>\n",
       "      <td>3</td>\n",
       "      <td>К1</td>\n",
       "      <td>до 0,49</td>\n",
       "      <td>55</td>\n",
       "    </tr>\n",
       "    <tr>\n",
       "      <th>...</th>\n",
       "      <td>...</td>\n",
       "      <td>...</td>\n",
       "      <td>...</td>\n",
       "      <td>...</td>\n",
       "      <td>...</td>\n",
       "      <td>...</td>\n",
       "      <td>...</td>\n",
       "    </tr>\n",
       "    <tr>\n",
       "      <th>535</th>\n",
       "      <td>СТО</td>\n",
       "      <td>промасливание (O) и заполнение трещин (F)</td>\n",
       "      <td>фацетный вид огранки</td>\n",
       "      <td>4</td>\n",
       "      <td>Г2</td>\n",
       "      <td>4,00-4,99</td>\n",
       "      <td>250</td>\n",
       "    </tr>\n",
       "    <tr>\n",
       "      <th>536</th>\n",
       "      <td>СТО</td>\n",
       "      <td>промасливание (O) и заполнение трещин (F)</td>\n",
       "      <td>фацетный вид огранки</td>\n",
       "      <td>4</td>\n",
       "      <td>Г3</td>\n",
       "      <td>4,00-4,99</td>\n",
       "      <td>170</td>\n",
       "    </tr>\n",
       "    <tr>\n",
       "      <th>537</th>\n",
       "      <td>СТО</td>\n",
       "      <td>промасливание (O) и заполнение трещин (F)</td>\n",
       "      <td>фацетный вид огранки</td>\n",
       "      <td>5</td>\n",
       "      <td>Г1</td>\n",
       "      <td>4,00-4,99</td>\n",
       "      <td>50</td>\n",
       "    </tr>\n",
       "    <tr>\n",
       "      <th>538</th>\n",
       "      <td>СТО</td>\n",
       "      <td>промасливание (O) и заполнение трещин (F)</td>\n",
       "      <td>фацетный вид огранки</td>\n",
       "      <td>5</td>\n",
       "      <td>Г2</td>\n",
       "      <td>4,00-4,99</td>\n",
       "      <td>30</td>\n",
       "    </tr>\n",
       "    <tr>\n",
       "      <th>539</th>\n",
       "      <td>СТО</td>\n",
       "      <td>промасливание (O) и заполнение трещин (F)</td>\n",
       "      <td>фацетный вид огранки</td>\n",
       "      <td>5</td>\n",
       "      <td>Г3</td>\n",
       "      <td>4,00-4,99</td>\n",
       "      <td>18</td>\n",
       "    </tr>\n",
       "  </tbody>\n",
       "</table>\n",
       "<p>230 rows × 7 columns</p>\n",
       "</div>"
      ],
      "text/plain": [
       "      ТУ                                  Обработка                 Огранка  \\\n",
       "39   СТО  промасливание (O) и заполнение трещин (F)  кобашенный вид огранки   \n",
       "40   СТО  промасливание (O) и заполнение трещин (F)  кобашенный вид огранки   \n",
       "41   СТО  промасливание (O) и заполнение трещин (F)  кобашенный вид огранки   \n",
       "42   СТО  промасливание (O) и заполнение трещин (F)  кобашенный вид огранки   \n",
       "43   СТО  промасливание (O) и заполнение трещин (F)  кобашенный вид огранки   \n",
       "..   ...                                        ...                     ...   \n",
       "535  СТО  промасливание (O) и заполнение трещин (F)    фацетный вид огранки   \n",
       "536  СТО  промасливание (O) и заполнение трещин (F)    фацетный вид огранки   \n",
       "537  СТО  промасливание (O) и заполнение трещин (F)    фацетный вид огранки   \n",
       "538  СТО  промасливание (O) и заполнение трещин (F)    фацетный вид огранки   \n",
       "539  СТО  промасливание (O) и заполнение трещин (F)    фацетный вид огранки   \n",
       "\n",
       "    цвет чистота       size  price  \n",
       "39     1      К1    до 0,49    120  \n",
       "40     1      К2    до 0,49     75  \n",
       "41     2      К1    до 0,49     75  \n",
       "42     2      К2    до 0,49     45  \n",
       "43     3      К1    до 0,49     55  \n",
       "..   ...     ...        ...    ...  \n",
       "535    4      Г2  4,00-4,99    250  \n",
       "536    4      Г3  4,00-4,99    170  \n",
       "537    5      Г1  4,00-4,99     50  \n",
       "538    5      Г2  4,00-4,99     30  \n",
       "539    5      Г3  4,00-4,99     18  \n",
       "\n",
       "[230 rows x 7 columns]"
      ]
     },
     "execution_count": 597,
     "metadata": {},
     "output_type": "execute_result"
    }
   ],
   "source": [
    "pr_em_sto.to_excel('', index=None)"
   ]
  },
  {
   "cell_type": "code",
   "execution_count": null,
   "id": "f24e4b26",
   "metadata": {},
   "outputs": [],
   "source": [
    "\"ДО 0,09\n",
    "150\n",
    "140\n",
    "130\n",
    "120\n",
    "110\n",
    "130\n",
    "100\n",
    "90\n",
    "70\n",
    "60\n",
    "90\n",
    "80\n",
    "70\n",
    "40\n",
    "30\n",
    "65\n",
    "60\n",
    "50\n",
    "30\n",
    "25\n",
    "50\n",
    "40\n",
    "30\n",
    "25\n",
    "20\"\t\t\t\t\t\t\n",
    "\t\t\t\t\t\t\n",
    "\t\t\t\t\t\t\n",
    "\t\t\t\t\t\t\n",
    "\t\t\t\t\t\t\n",
    "\t\t\t\t\t\t\n",
    "\t\t\t\t\t\t\n",
    "\t\t\t\t\t\t\n",
    "\t\t\t\t\t\t\n",
    "\t\t\t\t\t\t\n"
   ]
  },
  {
   "cell_type": "code",
   "execution_count": null,
   "id": "7e65bf3d",
   "metadata": {},
   "outputs": [],
   "source": []
  },
  {
   "cell_type": "code",
   "execution_count": null,
   "id": "35c4f4d5",
   "metadata": {},
   "outputs": [],
   "source": []
  },
  {
   "cell_type": "code",
   "execution_count": null,
   "id": "8fa3fee8",
   "metadata": {},
   "outputs": [],
   "source": []
  },
  {
   "cell_type": "code",
   "execution_count": null,
   "id": "f2a59eed",
   "metadata": {},
   "outputs": [],
   "source": []
  },
  {
   "cell_type": "code",
   "execution_count": null,
   "id": "1dd441e0",
   "metadata": {},
   "outputs": [],
   "source": []
  }
 ],
 "metadata": {
  "kernelspec": {
   "display_name": "Python 3",
   "language": "python",
   "name": "python3"
  },
  "language_info": {
   "codemirror_mode": {
    "name": "ipython",
    "version": 3
   },
   "file_extension": ".py",
   "mimetype": "text/x-python",
   "name": "python",
   "nbconvert_exporter": "python",
   "pygments_lexer": "ipython3",
   "version": "3.8.8"
  },
  "toc": {
   "base_numbering": 1,
   "nav_menu": {},
   "number_sections": true,
   "sideBar": true,
   "skip_h1_title": false,
   "title_cell": "Table of Contents",
   "title_sidebar": "Contents",
   "toc_cell": false,
   "toc_position": {
    "height": "calc(100% - 180px)",
    "left": "10px",
    "top": "150px",
    "width": "460.516px"
   },
   "toc_section_display": true,
   "toc_window_display": true
  }
 },
 "nbformat": 4,
 "nbformat_minor": 5
}
